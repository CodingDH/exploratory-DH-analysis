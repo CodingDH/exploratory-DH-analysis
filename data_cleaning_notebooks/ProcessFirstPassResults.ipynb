{
 "cells": [
  {
   "attachments": {},
   "cell_type": "markdown",
   "metadata": {},
   "source": [
    "# Process First Pass Results"
   ]
  },
  {
   "attachments": {},
   "cell_type": "markdown",
   "metadata": {},
   "source": [
    "### Load Libraries and Datasets"
   ]
  },
  {
   "cell_type": "code",
   "execution_count": 2,
   "metadata": {},
   "outputs": [],
   "source": [
    "import pandas as pd\n",
    "pd.options.mode.chained_assignment = None\n",
    "import numpy as np\n",
    "import os\n",
    "import sys\n",
    "import warnings\n",
    "warnings.filterwarnings('ignore')\n",
    "from tqdm import tqdm\n",
    "\n",
    "sys.path.append(\"../\")\n",
    "from data_generation_scripts.utils import check_rate_limit, check_add_orgs, check_add_repos, check_add_users, check_for_joins_in_older_queries, check_return_error_file\n",
    "from data_generation_scripts.generate_user_repos_interactions import get_user_repo_activities\n",
    "from data_generation_scripts.generate_translations import check_detect_language"
   ]
  },
  {
   "attachments": {},
   "cell_type": "markdown",
   "metadata": {},
   "source": [
    "Once we have run the `ProcessDHRepos`, `ProcessDHUsers`, and `ProcessDHOrgs` notebooks, we can start to expand our dataset. Our initial first pass expansion will be to add the following information to our dataset:\n",
    "\n",
    "- owners of `initial_core_repos` will be added to `core_users` and `core_orgs`\n",
    "- repos of `core_users` and `core_orgs` will be added to `core_repos`\n",
    "\n",
    "We may do some thresholding to avoid too many users or repos being added."
   ]
  },
  {
   "cell_type": "code",
   "execution_count": 3,
   "metadata": {},
   "outputs": [],
   "source": [
    "user_df = pd.read_csv(\"../data/entity_files/users_dataset.csv\")\n",
    "repo_df = pd.read_csv(\"../data/large_files/entity_files/repos_dataset.csv\", low_memory=False)\n",
    "org_df = pd.read_csv(\"../data/entity_files/orgs_dataset.csv\", low_memory=False)\n",
    "search_queries_repo_join_df = pd.read_csv(\"../data/derived_files/updated_search_queries_repo_join_subset_dh_dataset.csv\")\n",
    "search_queries_user_join_df = pd.read_csv(\n",
    "    \"../data/derived_files/updated_search_queries_user_join_subset_dh_dataset.csv\")"
   ]
  },
  {
   "cell_type": "code",
   "execution_count": 25,
   "metadata": {},
   "outputs": [],
   "source": [
    "initial_core_users = pd.read_csv(\"../data/derived_files/initial_core_users.csv\")\n",
    "initial_core_repos = pd.read_csv(\"../data/derived_files/initial_core_repos.csv\")\n",
    "initial_core_orgs = pd.read_csv(\"../data/derived_files/initial_core_orgs.csv\")"
   ]
  },
  {
   "attachments": {},
   "cell_type": "markdown",
   "metadata": {},
   "source": [
    "### Explore Potential New Materials"
   ]
  },
  {
   "cell_type": "code",
   "execution_count": 26,
   "metadata": {},
   "outputs": [
    {
     "data": {
      "text/plain": [
       "(0, 3)"
      ]
     },
     "execution_count": 26,
     "metadata": {},
     "output_type": "execute_result"
    }
   ],
   "source": [
    "missing_users = search_queries_repo_join_df[~search_queries_repo_join_df['owner.login'].isin(user_df.login)]\n",
    "missing_users = missing_users[missing_users['owner.type'] == 'User']\n",
    "missing_orgs = search_queries_repo_join_df[~search_queries_repo_join_df['owner.login'].isin(org_df.login)]\n",
    "missing_orgs = missing_orgs[missing_orgs['owner.type'] == 'Organization']\n",
    "len(missing_users), len(missing_orgs)\n"
   ]
  },
  {
   "cell_type": "code",
   "execution_count": 27,
   "metadata": {},
   "outputs": [],
   "source": [
    "missing_users = missing_users[['owner.login']]\n",
    "missing_users = missing_users.rename(columns={'owner.login': 'login'})\n",
    "missing_users['type'] = 'User'\n",
    "missing_users['url'] = missing_users.login.apply(lambda x: f\"https://api.github.com/users/{x}\")"
   ]
  },
  {
   "cell_type": "code",
   "execution_count": 28,
   "metadata": {},
   "outputs": [],
   "source": [
    "missing_orgs = missing_orgs[['owner.login']]\n",
    "missing_orgs = missing_orgs.rename(columns={'owner.login': 'login'})\n",
    "missing_orgs['type'] = 'Organization'\n",
    "missing_orgs['url'] = missing_orgs.login.apply(lambda x: f\"https://api.github.com/orgs/{x}\")"
   ]
  },
  {
   "cell_type": "code",
   "execution_count": 29,
   "metadata": {},
   "outputs": [
    {
     "name": "stderr",
     "output_type": "stream",
     "text": [
      "Cleaning Orgs: 100%|██████████| 3/3 [00:02<00:00,  1.01it/s]"
     ]
    },
    {
     "name": "stdout",
     "output_type": "stream",
     "text": [
      "                       file_name  file_size  \\\n",
      "27  repos_dataset_2022_11_04.csv   39255456   \n",
      "9   users_dataset_2023_06_01.csv   25190404   \n",
      "\n",
      "                            directory       date  \n",
      "27  ../data/older_files/entity_files/ 2022-11-04  \n",
      "9   ../data/older_files/entity_files/ 2023-06-01  \n"
     ]
    },
    {
     "name": "stderr",
     "output_type": "stream",
     "text": [
      "\n"
     ]
    }
   ],
   "source": [
    "if len(missing_orgs) > 0:\n",
    "    org_df = check_add_orgs(missing_orgs, '../data/entity_files/orgs_dataset.csv', True, False)\n",
    "if len(missing_users) > 0:\n",
    "    user_df = check_add_users(missing_users, '../data/entity_files/users_dataset.csv', True, False)"
   ]
  },
  {
   "cell_type": "code",
   "execution_count": 30,
   "metadata": {},
   "outputs": [
    {
     "data": {
      "text/plain": [
       "(244, 1531, 190, 736)"
      ]
     },
     "execution_count": 30,
     "metadata": {},
     "output_type": "execute_result"
    }
   ],
   "source": [
    "expanded_core_users = user_df[(user_df.login.isin(search_queries_repo_join_df['owner.login']))]\n",
    "expanded_core_users = expanded_core_users[~expanded_core_users.login.isin(initial_core_users.login)]\n",
    "expanded_core_orgs = expanded_core_users[expanded_core_users['type'] == 'Organization']\n",
    "expanded_core_users = expanded_core_users[expanded_core_users['type'] == 'User']\n",
    "expanded_core_orgs = expanded_core_orgs[~expanded_core_orgs.login.isin(initial_core_orgs.login)]\n",
    "len(expanded_core_orgs), len(expanded_core_users), len(initial_core_orgs), len(initial_core_users)"
   ]
  },
  {
   "cell_type": "code",
   "execution_count": 31,
   "metadata": {},
   "outputs": [],
   "source": [
    "filter_columns = ['public_repos',\n",
    "#  'public_gists',\n",
    "#  'followers',\n",
    "#  'following',\n",
    "#  'star_count'\n",
    " ]"
   ]
  },
  {
   "cell_type": "code",
   "execution_count": 32,
   "metadata": {},
   "outputs": [
    {
     "name": "stdout",
     "output_type": "stream",
     "text": [
      "8878.0\n",
      "3134.0\n",
      "1932.0 594.0\n"
     ]
    }
   ],
   "source": [
    "filtered_initial_core_users = initial_core_users.copy()\n",
    "filtered_initial_core_orgs = initial_core_orgs.copy()\n",
    "print(filtered_initial_core_users.public_repos.sum())\n",
    "print(filtered_initial_core_orgs.public_repos.sum())\n",
    "for col in filter_columns:\n",
    "    filtered_initial_core_users = filtered_initial_core_users[(filtered_initial_core_users[col].ge(filtered_initial_core_users[col].quantile(q=.25))) & (filtered_initial_core_users[col].le(filtered_initial_core_users[col].quantile(q=.75)))]\n",
    "    filtered_initial_core_orgs = filtered_initial_core_orgs[(filtered_initial_core_orgs[col].ge(filtered_initial_core_orgs[col].quantile(q=.25))) & (filtered_initial_core_orgs[col].le(filtered_initial_core_orgs[col].quantile(q=.75)))]\n",
    "print(filtered_initial_core_users.public_repos.sum(), filtered_initial_core_orgs.public_repos.sum())"
   ]
  },
  {
   "cell_type": "code",
   "execution_count": 33,
   "metadata": {},
   "outputs": [],
   "source": [
    "filtered_users = pd.concat([filtered_initial_core_users, filtered_initial_core_orgs])"
   ]
  },
  {
   "cell_type": "code",
   "execution_count": 34,
   "metadata": {},
   "outputs": [
    {
     "data": {
      "text/plain": [
       "581"
      ]
     },
     "execution_count": 34,
     "metadata": {},
     "output_type": "execute_result"
    }
   ],
   "source": [
    "len(filtered_users)"
   ]
  },
  {
   "cell_type": "code",
   "execution_count": 35,
   "metadata": {},
   "outputs": [
    {
     "name": "stdout",
     "output_type": "stream",
     "text": [
      "For user lisateichmann there are 0 repos but they have 6.0 public repos\n",
      "For user yueyue4359 there are 0 repos but they have 5.0 public repos\n",
      "For user 2enyoasamoah there are 0 repos but they have 4.0 public repos\n",
      "For user hvm-uu there are 0 repos but they have 1.0 public repos\n",
      "For user imlabormitlea-code there are 0 repos but they have 2.0 public repos\n",
      "For user RemoGrillo there are 1 repos but they have 4.0 public repos\n",
      "For user kfitz there are 0 repos but they have 7.0 public repos\n",
      "For user XiaoyanYangAlice there are 1 repos but they have 7.0 public repos\n",
      "For user Sourasky-DHLAB there are 0 repos but they have 1.0 public repos\n",
      "For user valrighe there are 0 repos but they have 8.0 public repos\n",
      "For user kochanovskayaanna there are 0 repos but they have 3.0 public repos\n",
      "For user andreaspataro there are 0 repos but they have 8.0 public repos\n",
      "For user casglur there are 0 repos but they have 8.0 public repos\n",
      "For user BeatriceVaienti there are 0 repos but they have 1.0 public repos\n",
      "For user juanfuc there are 0 repos but they have 11.0 public repos\n",
      "For user ChloeNewman there are 0 repos but they have 5.0 public repos\n",
      "For user karljazz74 there are 0 repos but they have 1.0 public repos\n",
      "For user eugestumm there are 0 repos but they have 7.0 public repos\n",
      "For user danieltepavac there are 0 repos but they have 3.0 public repos\n",
      "For user MescoCoder there are 0 repos but they have 1.0 public repos\n",
      "For user oengin15 there are 0 repos but they have 2.0 public repos\n",
      "For user skotheim9 there are 0 repos but they have 4.0 public repos\n",
      "For user gdmeo there are 0 repos but they have 1.0 public repos\n",
      "For user iserenko there are 0 repos but they have 1.0 public repos\n",
      "For user FrancescoDiCursi there are 0 repos but they have 9.0 public repos\n",
      "For user ANAVDUTT there are 2 repos but they have 5.0 public repos\n",
      "For user E-Westphalen there are 0 repos but they have 1.0 public repos\n",
      "For user labiu there are 0 repos but they have 1.0 public repos\n",
      "For user lyang02 there are 0 repos but they have 1.0 public repos\n",
      "For user lunaparrafos there are 0 repos but they have 3.0 public repos\n",
      "For user DrPhilipAShaw there are 0 repos but they have 1.0 public repos\n",
      "For user jtonra there are 1 repos but they have 3.0 public repos\n",
      "For user cclivaz there are 0 repos but they have 3.0 public repos\n",
      "For user lrskjr there are 8 repos but they have 5.0 public repos\n",
      "For user DennisFriedl there are 5 repos but they have 4.0 public repos\n",
      "For user nikolito there are 12 repos but they have 11.0 public repos\n",
      "For user mars-aria there are 20 repos but they have 6.0 public repos\n",
      "For user digital-humanities-hse there are 1 repos but they have 2.0 public repos\n",
      "For user paolomonella there are 9 repos but they have 8.0 public repos\n",
      "For user princetoncdh there are 0 repos but they have 1.0 public repos\n",
      "For user tommasobattisti there are 10 repos but they have 4.0 public repos\n",
      "For user ChessPiece21 there are 2 repos but they have 9.0 public repos\n",
      "For user EstelleEvelyn there are 0 repos but they have 8.0 public repos\n",
      "For user Nick-Archaeology there are 1 repos but they have 5.0 public repos\n",
      "For user yaeln there are 1 repos but they have 10.0 public repos\n",
      "For user satkey there are 1 repos but they have 5.0 public repos\n",
      "For user Rosmerade there are 1 repos but they have 2.0 public repos\n",
      "For user FreddiePy there are 1 repos but they have 2.0 public repos\n",
      "For user cpoggianti there are 1 repos but they have 3.0 public repos\n",
      "For user marcoDiCaro there are 0 repos but they have 6.0 public repos\n",
      "For user evgeniaanikeeva there are 1 repos but they have 4.0 public repos\n",
      "For user Ammeister there are 8 repos but they have 9.0 public repos\n",
      "For user EliaP2000 there are 0 repos but they have 7.0 public repos\n",
      "For user Claudio-95 there are 2 repos but they have 5.0 public repos\n",
      "For user DivyaMPanicker there are 0 repos but they have 1.0 public repos\n",
      "For user drewtoby there are 0 repos but they have 1.0 public repos\n",
      "For user vhk10 there are 0 repos but they have 1.0 public repos\n",
      "For user ktrebecca there are 0 repos but they have 1.0 public repos\n",
      "For user Laragard there are 0 repos but they have 1.0 public repos\n",
      "For user ilsamaritano there are 1 repos but they have 7.0 public repos\n",
      "For user hedytech-unipi there are 1 repos but they have 2.0 public repos\n",
      "For user PYY00 there are 0 repos but they have 2.0 public repos\n",
      "For user arcangelofranco there are 0 repos but they have 1.0 public repos\n",
      "For user xphanje there are 0 repos but they have 2.0 public repos\n",
      "For user Anto2000-hub there are 0 repos but they have 2.0 public repos\n",
      "For user gennymiola there are 1 repos but they have 4.0 public repos\n",
      "For user Alessia280 there are 0 repos but they have 2.0 public repos\n",
      "For user jasonrparks there are 0 repos but they have 1.0 public repos\n",
      "For user marco00petrucci there are 0 repos but they have 4.0 public repos\n",
      "For user Ariannads99 there are 1 repos but they have 2.0 public repos\n",
      "For user vanessabianconi there are 0 repos but they have 6.0 public repos\n",
      "For user MirkoMorici97 there are 0 repos but they have 1.0 public repos\n",
      "For user anisa-hawes there are 0 repos but they have 2.0 public repos\n",
      "For user tarrinw there are 0 repos but they have 1.0 public repos\n",
      "For user MelchiGit there are 0 repos but they have 1.0 public repos\n",
      "For user lenorahelmhammonds there are 0 repos but they have 1.0 public repos\n",
      "For user aergithub there are 0 repos but they have 2.0 public repos\n",
      "For user eickelpasch there are 0 repos but they have 2.0 public repos\n",
      "For user clariah-at there are 0 repos but they have 2.0 public repos\n",
      "For user HeimMatthias there are 0 repos but they have 2.0 public repos\n",
      "For user geokak there are 1 repos but they have 3.0 public repos\n",
      "For user bjoyeuxp there are 0 repos but they have 1.0 public repos\n",
      "For user markedwinpeterson there are 0 repos but they have 2.0 public repos\n",
      "For user weepsie there are 0 repos but they have 2.0 public repos\n",
      "For user mikeatnortheastern there are 0 repos but they have 2.0 public repos\n",
      "For user enyaocean there are 1 repos but they have 2.0 public repos\n",
      "For user annemossity there are 0 repos but they have 1.0 public repos\n",
      "For user hp-intel there are 0 repos but they have 2.0 public repos\n",
      "For user eneavodo there are 1 repos but they have 3.0 public repos\n",
      "For user YvanUh there are 0 repos but they have 3.0 public repos\n",
      "For user ngaphb there are 1 repos but they have 2.0 public repos\n",
      "For user sara1196 there are 0 repos but they have 2.0 public repos\n",
      "For user fullerj1 there are 0 repos but they have 2.0 public repos\n",
      "For user Bragfir there are 0 repos but they have 3.0 public repos\n",
      "For user stargazerdino there are 0 repos but they have 2.0 public repos\n",
      "For user EJArrant there are 0 repos but they have 1.0 public repos\n",
      "For user towardsNLP there are 0 repos but they have 1.0 public repos\n",
      "For user bsarahe there are 0 repos but they have 1.0 public repos\n",
      "For user james-y-yoon there are 4 repos but they have 3.0 public repos\n",
      "For user chloefoor there are 4 repos but they have 3.0 public repos\n",
      "For user MHGoldani there are 0 repos but they have 2.0 public repos\n",
      "For user Leon-Gu there are 0 repos but they have 1.0 public repos\n",
      "For user carolisteia there are 0 repos but they have 1.0 public repos\n",
      "For user optimalMinimalism there are 0 repos but they have 2.0 public repos\n",
      "For user RaphaelAD there are 0 repos but they have 1.0 public repos\n",
      "For user AxPic there are 0 repos but they have 1.0 public repos\n",
      "For user nathaniellp there are 0 repos but they have 1.0 public repos\n",
      "For user Balbina there are 0 repos but they have 2.0 public repos\n",
      "For user SylvainBesson there are 0 repos but they have 2.0 public repos\n",
      "For user claracas98 there are 1 repos but they have 2.0 public repos\n",
      "For user Umamitas there are 0 repos but they have 2.0 public repos\n",
      "For user rafaeluriarte there are 0 repos but they have 2.0 public repos\n",
      "For user sr-hm there are 5 repos but they have 3.0 public repos\n",
      "For user GiorgiaRubin there are 0 repos but they have 1.0 public repos\n",
      "For user mafeguerrero there are 0 repos but they have 1.0 public repos\n",
      "For user cmvaronc there are 0 repos but they have 1.0 public repos\n",
      "For user dagobertoherreramurillo there are 0 repos but they have 7.0 public repos\n",
      "For user vcasaisvila there are 0 repos but they have 3.0 public repos\n",
      "For user rchd-repo there are 0 repos but they have 3.0 public repos\n",
      "For user violita112 there are 0 repos but they have 1.0 public repos\n",
      "For user btramelli there are 0 repos but they have 1.0 public repos\n",
      "For user fannybeaudoin25 there are 0 repos but they have 1.0 public repos\n",
      "For user peterino99 there are 0 repos but they have 1.0 public repos\n",
      "For user Cleaulem there are 0 repos but they have 1.0 public repos\n",
      "For user wendelzin there are 0 repos but they have 1.0 public repos\n",
      "For user EvitaHUB there are 0 repos but they have 1.0 public repos\n",
      "For user catalina255 there are 0 repos but they have 1.0 public repos\n",
      "For user philip695 there are 0 repos but they have 3.0 public repos\n",
      "For user ScienzeDelTestoDigitaleUnderground there are 0 repos but they have 1.0 public repos\n",
      "For user enjensor there are 0 repos but they have 4.0 public repos\n",
      "For user cnmf there are 0 repos but they have 2.0 public repos\n",
      "For user orestes824 there are 0 repos but they have 4.0 public repos\n",
      "For user DHLUW there are 0 repos but they have 1.0 public repos\n",
      "For user TakumiKobayashi there are 0 repos but they have 2.0 public repos\n",
      "For user nandithamoorthy there are 0 repos but they have 1.0 public repos\n",
      "For user kgrant1 there are 0 repos but they have 1.0 public repos\n",
      "For user NoahTikabrit there are 0 repos but they have 1.0 public repos\n",
      "For user jhhicks there are 0 repos but they have 1.0 public repos\n",
      "For user jodejedorove there are 0 repos but they have 1.0 public repos\n",
      "For user ehazard1879 there are 0 repos but they have 1.0 public repos\n",
      "For user SarahKateSchafer there are 0 repos but they have 1.0 public repos\n",
      "For user Alina-enni there are 0 repos but they have 1.0 public repos\n",
      "For user pbd84 there are 8 repos but they have 7.0 public repos\n",
      "For user javiercha there are 4 repos but they have 3.0 public repos\n",
      "For user bcdhbonn there are 0 repos but they have 1.0 public repos\n",
      "For user mrustow there are 0 repos but they have 1.0 public repos\n",
      "For user Amalia6767 there are 3 repos but they have 2.0 public repos\n",
      "For user amyeshreeve there are 6 repos but they have 5.0 public repos\n",
      "For user olgagolgan there are 0 repos but they have 1.0 public repos\n",
      "For user Aleksandr-Simanychev there are 1 repos but they have 6.0 public repos\n",
      "For user Postitisnt there are 15 repos but they have 7.0 public repos\n",
      "For user alexanderbinnekamp there are 2 repos but they have 11.0 public repos\n",
      "For user SofiaBlack there are 8 repos but they have 7.0 public repos\n",
      "For user agnesecam there are 3 repos but they have 5.0 public repos\n",
      "For user lineasyparrafos there are 0 repos but they have 3.0 public repos\n",
      "For user jentorres there are 0 repos but they have 1.0 public repos\n",
      "For user BeatriceBucci there are 1 repos but they have 2.0 public repos\n",
      "For user infouma-unipi there are 3 repos but they have 10.0 public repos\n",
      "For user simonamazzarino there are 2 repos but they have 8.0 public repos\n",
      "For user wmshort there are 0 repos but they have 2.0 public repos\n",
      "For user tig1795 there are 10 repos but they have 8.0 public repos\n",
      "For user OrsolaMBorrini there are 8 repos but they have 2.0 public repos\n",
      "For user camilasamurai there are 0 repos but they have 3.0 public repos\n",
      "For user flcblommaert there are 0 repos but they have 3.0 public repos\n",
      "For user dhll there are 0 repos but they have 4.0 public repos\n",
      "For user aschimmenti there are 0 repos but they have 7.0 public repos\n",
      "For user Sophia796 there are 0 repos but they have 4.0 public repos\n",
      "For user glorieux-f there are 10 repos but they have 9.0 public repos\n",
      "For user carlacongiu there are 1 repos but they have 4.0 public repos\n",
      "For user ctupman there are 0 repos but they have 1.0 public repos\n",
      "For user francescapoli98 there are 9 repos but they have 8.0 public repos\n",
      "For user esohman there are 12 repos but they have 11.0 public repos\n",
      "For user TyotkinDmitriy there are 1 repos but they have 3.0 public repos\n",
      "For user haeeunkim there are 9 repos but they have 8.0 public repos\n",
      "For user alexandra-sanchez there are 1 repos but they have 6.0 public repos\n",
      "For user clairedinauer there are 1 repos but they have 5.0 public repos\n",
      "For user JunyiTao there are 9 repos but they have 8.0 public repos\n",
      "For user lizziehop there are 2 repos but they have 6.0 public repos\n",
      "For user denizovski there are 10 repos but they have 9.0 public repos\n",
      "For user saroppini there are 5 repos but they have 3.0 public repos\n",
      "For user amkaminski there are 1 repos but they have 3.0 public repos\n",
      "For user wilmesis36 there are 1 repos but they have 3.0 public repos\n",
      "For user gshap there are 0 repos but they have 1.0 public repos\n",
      "For user johan-cdh there are 0 repos but they have 1.0 public repos\n",
      "For user andrefzeferino there are 0 repos but they have 1.0 public repos\n",
      "For user DaianeRossi12 there are 1 repos but they have 2.0 public repos\n",
      "For user jessprof there are 0 repos but they have 1.0 public repos\n",
      "For user rafael-magalhaes there are 0 repos but they have 7.0 public repos\n",
      "For user rakieu there are 0 repos but they have 3.0 public repos\n",
      "For user goluco there are 0 repos but they have 6.0 public repos\n",
      "For user rramonbo there are 0 repos but they have 1.0 public repos\n",
      "For user Finn-Kramer there are 0 repos but they have 1.0 public repos\n",
      "For user helenmkelly there are 0 repos but they have 1.0 public repos\n",
      "For user AlessandraMazzocchi there are 0 repos but they have 4.0 public repos\n",
      "For user elsamito there are 0 repos but they have 1.0 public repos\n",
      "For user MPica there are 9 repos but they have 8.0 public repos\n",
      "For user btrzleal there are 0 repos but they have 1.0 public repos\n",
      "For user quenyoasamoah there are 0 repos but they have 5.0 public repos\n",
      "For user senyoasamoah7 there are 0 repos but they have 5.0 public repos\n",
      "For user senyoasamoah2003 there are 0 repos but they have 5.0 public repos\n",
      "For user hassanhajj910 there are 11 repos but they have 5.0 public repos\n",
      "For user Stephan-M-Unter there are 0 repos but they have 3.0 public repos\n",
      "For user CSantiStSup there are 0 repos but they have 5.0 public repos\n",
      "For user krmuth there are 7 repos but they have 6.0 public repos\n",
      "For user dev-89 there are 10 repos but they have 9.0 public repos\n",
      "For user gmedinak there are 0 repos but they have 4.0 public repos\n",
      "For user Salvadana there are 0 repos but they have 4.0 public repos\n",
      "For user Fonzo454 there are 0 repos but they have 2.0 public repos\n",
      "For user Sharpscore247 there are 0 repos but they have 8.0 public repos\n",
      "For user JacopoCampanellaGalanti there are 0 repos but they have 2.0 public repos\n",
      "For user narrativa943 there are 0 repos but they have 1.0 public repos\n",
      "For user michelle14lee there are 0 repos but they have 7.0 public repos\n",
      "For user Ellchen there are 0 repos but they have 2.0 public repos\n",
      "For user matteodicarrara there are 1 repos but they have 3.0 public repos\n",
      "For user cuiyongxiangch there are 0 repos but they have 3.0 public repos\n",
      "For user jeyrena1 there are 1 repos but they have 2.0 public repos\n",
      "For user BernBa there are 0 repos but they have 2.0 public repos\n",
      "For user jer308 there are 0 repos but they have 2.0 public repos\n",
      "For user jacobmswisher there are 0 repos but they have 5.0 public repos\n",
      "For user MargotBelot there are 5 repos but they have 3.0 public repos\n",
      "For user mpuren there are 1 repos but they have 4.0 public repos\n",
      "For user Natkiio there are 0 repos but they have 2.0 public repos\n",
      "For user adamlporter there are 13 repos but they have 7.0 public repos\n",
      "For user JonSnowey there are 0 repos but they have 6.0 public repos\n",
      "For user hquamen there are 0 repos but they have 1.0 public repos\n",
      "For user matthias-hahn there are 0 repos but they have 5.0 public repos\n",
      "For user semarvin there are 0 repos but they have 8.0 public repos\n",
      "For user HunterJCD there are 0 repos but they have 6.0 public repos\n",
      "For user nicolelf there are 0 repos but they have 1.0 public repos\n",
      "For user CaitlinMarieCacciatore there are 0 repos but they have 1.0 public repos\n",
      "For user Choppish there are 0 repos but they have 1.0 public repos\n",
      "For user maritachatzipanagiotou there are 0 repos but they have 1.0 public repos\n",
      "For user jconor-sullivan there are 0 repos but they have 6.0 public repos\n",
      "For user sophiaxux there are 0 repos but they have 1.0 public repos\n",
      "For user rakarl there are 0 repos but they have 1.0 public repos\n",
      "For user kajamik there are 1 repos but they have 2.0 public repos\n",
      "For user lindseymardona there are 8 repos but they have 6.0 public repos\n",
      "For user ji-s-kim there are 0 repos but they have 1.0 public repos\n",
      "For user weiJul there are 6 repos but they have 5.0 public repos\n",
      "For user libertymartin there are 0 repos but they have 1.0 public repos\n",
      "For user ClaudiaECarroll there are 0 repos but they have 5.0 public repos\n",
      "For user edwardington there are 0 repos but they have 5.0 public repos\n",
      "For user rossiele there are 0 repos but they have 11.0 public repos\n",
      "For user sonjdol there are 0 repos but they have 1.0 public repos\n",
      "For user kwstew there are 0 repos but they have 2.0 public repos\n",
      "For user sirajzade there are 0 repos but they have 6.0 public repos\n",
      "For user dtcashion there are 0 repos but they have 2.0 public repos\n",
      "For user pgolbus there are 8 repos but they have 6.0 public repos\n",
      "For user HeyHeyLena there are 0 repos but they have 1.0 public repos\n",
      "For user gcasti1 there are 0 repos but they have 1.0 public repos\n",
      "For user oliveirafernandaz there are 1 repos but they have 2.0 public repos\n",
      "For user zkmacdon there are 6 repos but they have 7.0 public repos\n",
      "For user niujessy there are 0 repos but they have 1.0 public repos\n",
      "For user lucasvanderdeijl there are 0 repos but they have 5.0 public repos\n",
      "For user kollektivminds there are 5 repos but they have 4.0 public repos\n",
      "For user JakeO96 there are 0 repos but they have 4.0 public repos\n",
      "For user gizmo8958 there are 0 repos but they have 1.0 public repos\n",
      "For user pauinsanchez there are 0 repos but they have 5.0 public repos\n",
      "For user avamalcolm there are 0 repos but they have 1.0 public repos\n",
      "For user jimmcgrath there are 1 repos but they have 4.0 public repos\n",
      "For user Onto-Log there are 0 repos but they have 1.0 public repos\n",
      "For user eaboumrad there are 0 repos but they have 4.0 public repos\n",
      "For user mhleal there are 12 repos but they have 10.0 public repos\n",
      "For user umndash-defunct there are 0 repos but they have 2.0 public repos\n",
      "For user clarendel there are 0 repos but they have 2.0 public repos\n",
      "For user ellennnzbo there are 0 repos but they have 6.0 public repos\n",
      "For user prate91 there are 12 repos but they have 9.0 public repos\n",
      "For user katkordas there are 0 repos but they have 2.0 public repos\n",
      "For user pdavio there are 0 repos but they have 2.0 public repos\n",
      "For user duraivelsamuel there are 0 repos but they have 3.0 public repos\n",
      "For user tonyang111 there are 0 repos but they have 1.0 public repos\n",
      "For user DHKAIST there are 0 repos but they have 1.0 public repos\n",
      "For user mburkland84 there are 0 repos but they have 3.0 public repos\n",
      "For user Jazzpenner there are 0 repos but they have 6.0 public repos\n",
      "For user michaelgoeggelmann there are 0 repos but they have 2.0 public repos\n",
      "For user Natalie-Lloyd there are 1 repos but they have 8.0 public repos\n",
      "For user gguex there are 0 repos but they have 6.0 public repos\n",
      "For user patymurrieta there are 0 repos but they have 3.0 public repos\n",
      "For user dh-miami there are 6 repos but they have 4.0 public repos\n",
      "For user Irinarm94 there are 1 repos but they have 3.0 public repos\n",
      "For user juanluisgarces there are 0 repos but they have 1.0 public repos\n",
      "For user sarahondraszek there are 7 repos but they have 6.0 public repos\n",
      "For user mattiapggioli there are 5 repos but they have 2.0 public repos\n",
      "For user mollycastro there are 11 repos but they have 10.0 public repos\n",
      "For user anaschultze there are 1 repos but they have 4.0 public repos\n",
      "For user JacMa there are 1 repos but they have 4.0 public repos\n",
      "For user jd-s there are 11 repos but they have 10.0 public repos\n",
      "For user gaelicmichael there are 0 repos but they have 5.0 public repos\n",
      "For user katsi there are 10 repos but they have 9.0 public repos\n",
      "For user aliceperin there are 0 repos but they have 5.0 public repos\n",
      "For user mirianasomenzi there are 0 repos but they have 1.0 public repos\n",
      "For user henrietteroued there are 0 repos but they have 2.0 public repos\n",
      "For user zoharbuzaglo there are 0 repos but they have 1.0 public repos\n",
      "For user Caput97 there are 0 repos but they have 1.0 public repos\n",
      "For user ViktoriaXavier there are 0 repos but they have 1.0 public repos\n",
      "For user keydarrenana there are 0 repos but they have 1.0 public repos\n",
      "For user fmamanif there are 0 repos but they have 1.0 public repos\n",
      "For user JCoetzee96 there are 0 repos but they have 1.0 public repos\n",
      "For user CHANG-Tzuchieh there are 0 repos but they have 1.0 public repos\n",
      "For user digitalhumanitieshub there are 1 repos but they have 5.0 public repos\n",
      "For user filosam there are 4 repos but they have 5.0 public repos\n",
      "For user humana-fragilitas there are 10 repos but they have 9.0 public repos\n",
      "For user norahvii there are 18 repos but they have 11.0 public repos\n",
      "For user GoThereGit there are 6 repos but they have 4.0 public repos\n",
      "For user vincentsarbachpulicani there are 6 repos but they have 5.0 public repos\n",
      "For user Kseniya-Loko there are 0 repos but they have 7.0 public repos\n",
      "For user mariechen90 there are 0 repos but they have 5.0 public repos\n",
      "For user TeresaKa there are 2 repos but they have 9.0 public repos\n",
      "For user DocJem there are 0 repos but they have 4.0 public repos\n",
      "For user Dekromatia there are 16 repos but they have 11.0 public repos\n",
      "For user SaschM there are 0 repos but they have 2.0 public repos\n",
      "For user AnteJR there are 9 repos but they have 8.0 public repos\n",
      "For user Bianca-LM there are 7 repos but they have 4.0 public repos\n",
      "For user dtdh there are 0 repos but they have 1.0 public repos\n",
      "For user minorg there are 8 repos but they have 7.0 public repos\n",
      "For user 1r3n3 there are 0 repos but they have 2.0 public repos\n",
      "For user StefanDumont there are 8 repos but they have 7.0 public repos\n",
      "For user DigiUGA there are 1 repos but they have 8.0 public repos\n",
      "For user seanald15d there are 0 repos but they have 7.0 public repos\n",
      "For user crispin-cas9 there are 0 repos but they have 11.0 public repos\n",
      "For user diegonava6rsj0d there are 0 repos but they have 2.0 public repos\n",
      "For user profabennett there are 0 repos but they have 1.0 public repos\n",
      "For user andrew-s-brown there are 0 repos but they have 2.0 public repos\n",
      "For user 1ucyP there are 4 repos but they have 2.0 public repos\n",
      "For user wirapong there are 0 repos but they have 2.0 public repos\n",
      "For user Rachelfc there are 0 repos but they have 2.0 public repos\n",
      "For user Ad5Franco there are 0 repos but they have 2.0 public repos\n",
      "For user bgysst there are 0 repos but they have 2.0 public repos\n",
      "For user hernandezj1 there are 10 repos but they have 3.0 public repos\n",
      "For user ClevelandQian there are 0 repos but they have 2.0 public repos\n",
      "For user scaddy85 there are 0 repos but they have 2.0 public repos\n",
      "For user ElenaMattei there are 0 repos but they have 2.0 public repos\n",
      "For user AnitaBlakeSZ there are 0 repos but they have 2.0 public repos\n",
      "For user eleonoracocciu there are 0 repos but they have 2.0 public repos\n",
      "For user mxpiotrowski there are 14 repos but they have 11.0 public repos\n",
      "For user fionacremins there are 0 repos but they have 4.0 public repos\n",
      "For user DigitalPasts there are 17 repos but they have 10.0 public repos\n",
      "For user marinanastas there are 9 repos but they have 5.0 public repos\n",
      "For user GinevraBotto there are 0 repos but they have 1.0 public repos\n",
      "For user vaelma there are 0 repos but they have 5.0 public repos\n",
      "For user leo8 there are 1 repos but they have 8.0 public repos\n",
      "For user chsteiner there are 6 repos but they have 5.0 public repos\n",
      "For user Triggcodera there are 0 repos but they have 3.0 public repos\n",
      "For user angstigone there are 0 repos but they have 4.0 public repos\n",
      "For user sramsay there are 0 repos but they have 3.0 public repos\n",
      "For user lrosenth there are 6 repos but they have 5.0 public repos\n",
      "For user IreneVagionakis there are 2 repos but they have 4.0 public repos\n",
      "For user elizastuglik there are 0 repos but they have 1.0 public repos\n",
      "For user DHCodeReview there are 1 repos but they have 5.0 public repos\n",
      "For user lab-humanidades-digitales-pucp there are 3 repos but they have 4.0 public repos\n",
      "For user CHC-IBL-PAN there are 0 repos but they have 2.0 public repos\n",
      "For user aiucd there are 5 repos but they have 4.0 public repos\n",
      "For user MagTOCml there are 0 repos but they have 3.0 public repos\n",
      "For user MTRL-lab there are 0 repos but they have 2.0 public repos\n",
      "For user llntu there are 3 repos but they have 2.0 public repos\n",
      "For user HDAUNIR there are 1 repos but they have 3.0 public repos\n",
      "For user badac there are 11 repos but they have 10.0 public repos\n",
      "For user DCSCyHD there are 6 repos but they have 5.0 public repos\n",
      "For user HumanidadesDigitales there are 2 repos but they have 5.0 public repos\n",
      "For user ntnu-lab there are 3 repos but they have 2.0 public repos\n",
      "For user ABC-DH there are 8 repos but they have 7.0 public repos\n",
      "For user irLh there are 0 repos but they have 4.0 public repos\n",
      "For user humanidadesdigitais there are 0 repos but they have 3.0 public repos\n",
      "For user comp-int-hum there are 0 repos but they have 11.0 public repos\n",
      "For user UTDigitalHumanities there are 1 repos but they have 10.0 public repos\n",
      "For user hridigital there are 0 repos but they have 2.0 public repos\n",
      "For user Zoroastrian-Digital-Humanities there are 0 repos but they have 3.0 public repos\n",
      "For user WarwickCDI there are 0 repos but they have 5.0 public repos\n",
      "For user SAS-DHRH there are 9 repos but they have 5.0 public repos\n",
      "For user dh-bgu there are 1 repos but they have 2.0 public repos\n",
      "For user THINCLabGuelph there are 1 repos but they have 3.0 public repos\n",
      "For user CHDR-Inventory-System there are 0 repos but they have 3.0 public repos\n",
      "For user dhh21 there are 0 repos but they have 4.0 public repos\n",
      "For user dhh18 there are 0 repos but they have 3.0 public repos\n",
      "For user tx-student-dh there are 1 repos but they have 3.0 public repos\n",
      "For user dhandlib there are 0 repos but they have 2.0 public repos\n",
      "For user Python-Tutorials-for-Digital-Humanities there are 0 repos but they have 2.0 public repos\n",
      "For user arthur-schnitzler there are 21 repos but they have 14.0 public repos\n",
      "For user Digital-Democracies-Institute there are 0 repos but they have 2.0 public repos\n",
      "For user DigitalRicoeur there are 1 repos but they have 3.0 public repos\n",
      "For user DHd-Verband there are 13 repos but they have 12.0 public repos\n",
      "For user dhh16 there are 2 repos but they have 4.0 public repos\n",
      "For user CenterForDigitalHumanitiesSLU there are 4 repos but they have 3.0 public repos\n",
      "For user Southampton-Digital-Humanities there are 7 repos but they have 5.0 public repos\n",
      "For user biblhertz there are 13 repos but they have 9.0 public repos\n",
      "For user DigitalHumanitiesCraft there are 6 repos but they have 3.0 public repos\n",
      "For user multilingual-dh there are 7 repos but they have 6.0 public repos\n",
      "For user DH-Center-Tuebingen there are 13 repos but they have 12.0 public repos\n",
      "For user paralipomena there are 2 repos but they have 5.0 public repos\n",
      "For user rutgersdh there are 6 repos but they have 5.0 public repos\n",
      "For user nyu-dh there are 4 repos but they have 3.0 public repos\n",
      "For user dhh19 there are 0 repos but they have 6.0 public repos\n",
      "For user SCDH there are 10 repos but they have 7.0 public repos\n",
      "For user sna-unipi there are 6 repos but they have 5.0 public repos\n",
      "For user ExeterDigitalHumanities there are 6 repos but they have 5.0 public repos\n",
      "For user LoyolaChicagoDigitalHumanities there are 2 repos but they have 6.0 public repos\n",
      "For user datasittersclub there are 11 repos but they have 10.0 public repos\n",
      "For user dh-tech there are 5 repos but they have 4.0 public repos\n",
      "For user dhh22 there are 0 repos but they have 3.0 public repos\n",
      "For user Digital-Humanities-Quarterly there are 1 repos but they have 3.0 public repos\n",
      "For user DARIAH-VL there are 0 repos but they have 2.0 public repos\n",
      "For user CentreForDigitalHumanities there are 11 repos but they have 9.0 public repos\n",
      "For user Maynooth-Center-for-Digital-Humanities there are 1 repos but they have 10.0 public repos\n",
      "For user Humanites-Numeriques-PSL there are 4 repos but they have 3.0 public repos\n"
     ]
    }
   ],
   "source": [
    "total_missing_repos = 0\n",
    "for _, row in filtered_users.iterrows():\n",
    "    existing_repos = repo_df[repo_df['owner.login'] == row['login']]\n",
    "    if len(existing_repos) != row['public_repos']:\n",
    "        print(f\"For user {row['login']} there are {len(existing_repos)} repos but they have {row['public_repos']} public repos\")\n",
    "        total_missing_repos += row['public_repos'] - len(existing_repos)"
   ]
  },
  {
   "cell_type": "code",
   "execution_count": 36,
   "metadata": {},
   "outputs": [],
   "source": [
    "# if total_missing_repos > 0:\n",
    "#     user_repos_output_path = \"../data/large_files/join_files/user_repos_join_dataset.csv\"\n",
    "#     repos_output_path = \"../data/large_files/entity_files/repos_dataset.csv\"\n",
    "#     get_url_field = \"repos_url\"\n",
    "#     load_existing_files = False\n",
    "#     overwrite_existing_temp_files = False\n",
    "\n",
    "#     users_repos_df, repo_df = get_user_repo_activities(filtered_users,user_repos_output_path, repos_output_path, get_url_field, load_existing_files, overwrite_existing_temp_files)"
   ]
  },
  {
   "cell_type": "code",
   "execution_count": 37,
   "metadata": {},
   "outputs": [],
   "source": [
    "expanded_core_repos = repo_df[repo_df['owner.login'].isin(filtered_users.login)]\n",
    "expanded_core_repos = expanded_core_repos[~expanded_core_repos.full_name.isin(initial_core_repos.full_name)]"
   ]
  },
  {
   "cell_type": "code",
   "execution_count": 38,
   "metadata": {},
   "outputs": [
    {
     "data": {
      "text/plain": [
       "(1668, 2485)"
      ]
     },
     "execution_count": 38,
     "metadata": {},
     "output_type": "execute_result"
    }
   ],
   "source": [
    "len(expanded_core_repos), len(initial_core_repos)"
   ]
  },
  {
   "cell_type": "code",
   "execution_count": 39,
   "metadata": {},
   "outputs": [
    {
     "data": {
      "text/plain": [
       "726.0"
      ]
     },
     "execution_count": 39,
     "metadata": {},
     "output_type": "execute_result"
    }
   ],
   "source": [
    "total_missing_repos"
   ]
  },
  {
   "cell_type": "code",
   "execution_count": 40,
   "metadata": {},
   "outputs": [
    {
     "data": {
      "text/plain": [
       "1668"
      ]
     },
     "execution_count": 40,
     "metadata": {},
     "output_type": "execute_result"
    }
   ],
   "source": [
    "len(expanded_core_repos)"
   ]
  },
  {
   "cell_type": "code",
   "execution_count": 57,
   "metadata": {},
   "outputs": [
    {
     "name": "stdout",
     "output_type": "stream",
     "text": [
      "Added 8 orgs to existing 262 orgs\n",
      "Added 239 users to existing 1293 users\n",
      "Added 0 repos to existing 1668 repos\n"
     ]
    }
   ],
   "source": [
    "existing_expanded_core_orgs_file_path = \"../data/derived_files/firstpass_core_orgs.csv\"\n",
    "existing_expanded_core_users_file_path = \"../data/derived_files/firstpass_core_users.csv\"\n",
    "existing_expanded_core_repos_file_path = \"../data/derived_files/firstpass_core_repos.csv\"\n",
    "\n",
    "if os.path.exists(existing_expanded_core_orgs_file_path):\n",
    "    existing_expanded_core_orgs = pd.read_csv(existing_expanded_core_orgs_file_path)\n",
    "    expanded_core_orgs = expanded_core_orgs[~expanded_core_orgs.login.isin(existing_expanded_core_orgs.login)]\n",
    "    print(f\"Added {len(expanded_core_orgs)} orgs to existing {len(existing_expanded_core_orgs)} orgs\")\n",
    "else:\n",
    "    expanded_core_orgs.to_csv(\"../data/derived_files/firstpass_core_orgs.csv\", index=False)\n",
    "\n",
    "if os.path.exists(existing_expanded_core_users_file_path):\n",
    "    existing_expanded_core_users = pd.read_csv(existing_expanded_core_users_file_path)\n",
    "    expanded_core_users = expanded_core_users[~expanded_core_users.login.isin(existing_expanded_core_users.login)]\n",
    "    print(f\"Added {len(expanded_core_users)} users to existing {len(existing_expanded_core_users)} users\")\n",
    "else:\n",
    "    expanded_core_users.to_csv(\"../data/derived_files/firstpass_core_users.csv\", index=False)\n",
    "\n",
    "if os.path.exists(existing_expanded_core_repos_file_path):\n",
    "    existing_expanded_core_repos = pd.read_csv(existing_expanded_core_repos_file_path)\n",
    "    expanded_core_repos = expanded_core_repos[~expanded_core_repos.full_name.isin(existing_expanded_core_repos.full_name)]\n",
    "    print(f\"Added {len(expanded_core_repos)} repos to existing {len(existing_expanded_core_repos)} repos\")\n",
    "else:\n",
    "    expanded_core_repos.to_csv(\"../data/derived_files/firstpass_core_repos.csv\", index=False)"
   ]
  },
  {
   "cell_type": "code",
   "execution_count": 61,
   "metadata": {},
   "outputs": [],
   "source": [
    "expanded_core_repos = existing_expanded_core_repos.copy()"
   ]
  },
  {
   "attachments": {},
   "cell_type": "markdown",
   "metadata": {},
   "source": [
    "### Evaluate Languages of New Materials"
   ]
  },
  {
   "cell_type": "code",
   "execution_count": 62,
   "metadata": {},
   "outputs": [
    {
     "name": "stderr",
     "output_type": "stream",
     "text": [
      "Detecting language: 100%|██████████| 471/471 [00:00<00:00, 19166.01it/s]\n",
      "Detecting language: 100%|██████████| 184/184 [00:00<00:00, 17057.55it/s]\n",
      "Detecting language: 100%|██████████| 7/7 [00:00<00:00, 5351.83it/s]\n"
     ]
    }
   ],
   "source": [
    "tqdm.pandas(desc='Detecting language')\n",
    "expanded_core_repos.description = expanded_core_repos.description.fillna('')\n",
    "needs_language_repos = expanded_core_repos[expanded_core_repos.detected_language.isna()] \n",
    "needs_language_repos = needs_language_repos.progress_apply(check_detect_language, axis=1, is_repo=True)\n",
    "expanded_core_repos = pd.concat([expanded_core_repos[~expanded_core_repos.detected_language.isna()], needs_language_repos])\n",
    "expanded_core_repos = expanded_core_repos.reset_index(drop=True)\n",
    "expanded_core_users.bio = expanded_core_users.bio.fillna('')\n",
    "needs_language_users = expanded_core_users[expanded_core_users.detected_language.isna()]\n",
    "needs_language_users = needs_language_users.progress_apply(check_detect_language, axis=1, is_repo=False)\n",
    "expanded_core_users = pd.concat([expanded_core_users[~expanded_core_users.detected_language.isna()], needs_language_users])\n",
    "expanded_core_users = expanded_core_users.reset_index(drop=True)\n",
    "expanded_core_orgs.bio = expanded_core_orgs.bio.fillna('')\n",
    "needs_language_orgs = expanded_core_orgs[expanded_core_orgs.detected_language.isna()]\n",
    "needs_language_orgs = needs_language_orgs.progress_apply(check_detect_language, axis=1, is_repo=False)\n",
    "expanded_core_orgs = pd.concat([expanded_core_orgs[~expanded_core_orgs.detected_language.isna()], needs_language_orgs])\n",
    "expanded_core_orgs = expanded_core_orgs.reset_index(drop=True)"
   ]
  },
  {
   "cell_type": "code",
   "execution_count": 63,
   "metadata": {},
   "outputs": [
    {
     "data": {
      "text/plain": [
       "(7, 1, 184, 55, 471, 1197)"
      ]
     },
     "execution_count": 63,
     "metadata": {},
     "output_type": "execute_result"
    }
   ],
   "source": [
    "len(expanded_core_orgs[expanded_core_orgs.detected_language.isna()]), len(expanded_core_orgs[expanded_core_orgs.detected_language.notna()]), len(expanded_core_users[expanded_core_users.detected_language.isna()]), len(expanded_core_users[expanded_core_users.detected_language.notna()]), len(expanded_core_repos[expanded_core_repos.detected_language.isna()]), len(expanded_core_repos[expanded_core_repos.detected_language.notna()])"
   ]
  },
  {
   "cell_type": "code",
   "execution_count": 64,
   "metadata": {},
   "outputs": [
    {
     "data": {
      "text/plain": [
       "662"
      ]
     },
     "execution_count": 64,
     "metadata": {},
     "output_type": "execute_result"
    }
   ],
   "source": [
    "total_missing_languages = len(expanded_core_orgs[expanded_core_orgs.detected_language.isna()]) + len(expanded_core_users[expanded_core_users.detected_language.isna()]) + len(expanded_core_repos[expanded_core_repos.detected_language.isna()])\n",
    "total_missing_languages"
   ]
  },
  {
   "cell_type": "code",
   "execution_count": 65,
   "metadata": {},
   "outputs": [
    {
     "data": {
      "text/plain": [
       "(0, 0, 0)"
      ]
     },
     "execution_count": 65,
     "metadata": {},
     "output_type": "execute_result"
    }
   ],
   "source": [
    "len(expanded_core_orgs[(expanded_core_orgs.detected_language.isna()) & (expanded_core_orgs.bio.str.len() > 0)]), len(expanded_core_users[(expanded_core_users.detected_language.isna()) & (expanded_core_users.bio.str.len() > 0)]), len(expanded_core_repos[(expanded_core_repos.detected_language.isna()) & (expanded_core_repos.description.str.len() > 0)])"
   ]
  },
  {
   "cell_type": "code",
   "execution_count": 66,
   "metadata": {},
   "outputs": [],
   "source": [
    "initial_users = pd.concat([initial_core_orgs[['login', 'finalized_language']], initial_core_users[['login', 'finalized_language']]])"
   ]
  },
  {
   "cell_type": "code",
   "execution_count": 67,
   "metadata": {},
   "outputs": [],
   "source": [
    "expanded_core_repos = pd.merge(expanded_core_repos, initial_users, left_on='owner.login', right_on='login', how='left')"
   ]
  },
  {
   "cell_type": "code",
   "execution_count": 68,
   "metadata": {},
   "outputs": [],
   "source": [
    "expanded_core_repos['potential_language'] = np.where(expanded_core_repos['detected_language'].isnull(), expanded_core_repos['finalized_language'], expanded_core_repos['detected_language'])\n"
   ]
  },
  {
   "cell_type": "code",
   "execution_count": 69,
   "metadata": {},
   "outputs": [],
   "source": [
    "expanded_core_repos = expanded_core_repos.drop(columns=['login', 'finalized_language'])"
   ]
  },
  {
   "cell_type": "code",
   "execution_count": 70,
   "metadata": {},
   "outputs": [
    {
     "data": {
      "text/plain": [
       "0"
      ]
     },
     "execution_count": 70,
     "metadata": {},
     "output_type": "execute_result"
    }
   ],
   "source": [
    "expanded_core_repos.duplicated().sum()"
   ]
  },
  {
   "cell_type": "code",
   "execution_count": 101,
   "metadata": {},
   "outputs": [],
   "source": [
    "if os.path.exists(existing_expanded_core_repos_file_path):\n",
    "    expanded_core_repos = pd.concat([expanded_core_repos, existing_expanded_core_repos])\n",
    "    expanded_core_repos.to_csv(\"../data/derived_files/firstpass_core_repos.csv\", index=False)\n",
    "else:\n",
    "    expanded_core_repos.to_csv(\"../data/derived_files/firstpass_core_repos.csv\", index=False)"
   ]
  },
  {
   "cell_type": "code",
   "execution_count": 71,
   "metadata": {},
   "outputs": [
    {
     "data": {
      "text/plain": [
       "1668"
      ]
     },
     "execution_count": 71,
     "metadata": {},
     "output_type": "execute_result"
    }
   ],
   "source": [
    "len(expanded_core_repos)"
   ]
  },
  {
   "cell_type": "code",
   "execution_count": 73,
   "metadata": {},
   "outputs": [
    {
     "data": {
      "text/plain": [
       "239"
      ]
     },
     "execution_count": 73,
     "metadata": {},
     "output_type": "execute_result"
    }
   ],
   "source": [
    "len(expanded_core_users)"
   ]
  },
  {
   "cell_type": "code",
   "execution_count": 74,
   "metadata": {},
   "outputs": [],
   "source": [
    "expanded_core_users = pd.merge(expanded_core_users, initial_core_repos[['finalized_language', 'owner.login']], left_on='login', right_on='owner.login', how='left')"
   ]
  },
  {
   "cell_type": "code",
   "execution_count": 75,
   "metadata": {},
   "outputs": [],
   "source": [
    "expanded_core_users = expanded_core_users[~expanded_core_users.duplicated(subset=['login', 'owner.login', 'finalized_language'])]"
   ]
  },
  {
   "cell_type": "code",
   "execution_count": 76,
   "metadata": {},
   "outputs": [],
   "source": [
    "expanded_core_users['potential_language'] = np.where(expanded_core_users['detected_language'].isnull(), expanded_core_users['finalized_language'], expanded_core_users['detected_language'])"
   ]
  },
  {
   "cell_type": "code",
   "execution_count": 77,
   "metadata": {},
   "outputs": [],
   "source": [
    "expanded_core_users = expanded_core_users[~expanded_core_users.duplicated(subset=['login', 'owner.login', 'detected_language', 'finalized_language', 'potential_language'])]"
   ]
  },
  {
   "cell_type": "code",
   "execution_count": 78,
   "metadata": {},
   "outputs": [],
   "source": [
    "expanded_core_users = expanded_core_users.drop(columns=['owner.login', 'finalized_language'])"
   ]
  },
  {
   "cell_type": "code",
   "execution_count": 79,
   "metadata": {},
   "outputs": [
    {
     "data": {
      "text/plain": [
       "240"
      ]
     },
     "execution_count": 79,
     "metadata": {},
     "output_type": "execute_result"
    }
   ],
   "source": [
    "len(expanded_core_users)"
   ]
  },
  {
   "cell_type": "code",
   "execution_count": 80,
   "metadata": {},
   "outputs": [],
   "source": [
    "users_multiple_languages = expanded_core_users[expanded_core_users.duplicated(subset=['login'])].login.unique().tolist()\n",
    "if len(users_multiple_languages) > 0:\n",
    "    for login in users_multiple_languages:\n",
    "        user_df = expanded_core_users[(expanded_core_users.login == login)]\n",
    "        if len(user_df.potential_language.unique()) > 1:\n",
    "            languages = user_df.potential_language.unique().tolist()\n",
    "            languages = [x for x in languages if str(x) != 'nan']\n",
    "            updated_languages = [x for x in languages if ',' in x]\n",
    "            if len(updated_languages) == 0:\n",
    "                updated_languages = ', '.join(languages)\n",
    "            else:\n",
    "                updated_languages = updated_languages[0]\n",
    "            expanded_core_users.loc[expanded_core_users.login == login, 'potential_language'] = updated_languages"
   ]
  },
  {
   "cell_type": "code",
   "execution_count": 81,
   "metadata": {},
   "outputs": [],
   "source": [
    "expanded_core_users = expanded_core_users.drop_duplicates(subset=['login', 'potential_language'])"
   ]
  },
  {
   "cell_type": "code",
   "execution_count": 82,
   "metadata": {},
   "outputs": [],
   "source": [
    "if os.path.exists(existing_expanded_core_users_file_path):\n",
    "    expanded_core_users = pd.concat([expanded_core_users, existing_expanded_core_users])\n",
    "expanded_core_users.to_csv(\"../data/derived_files/firstpass_core_users.csv\", index=False)"
   ]
  },
  {
   "cell_type": "code",
   "execution_count": 83,
   "metadata": {},
   "outputs": [
    {
     "data": {
      "text/plain": [
       "8"
      ]
     },
     "execution_count": 83,
     "metadata": {},
     "output_type": "execute_result"
    }
   ],
   "source": [
    "len(expanded_core_orgs)"
   ]
  },
  {
   "cell_type": "code",
   "execution_count": 84,
   "metadata": {},
   "outputs": [],
   "source": [
    "expanded_core_orgs = pd.merge(expanded_core_orgs, initial_core_repos[['finalized_language', 'owner.login']], left_on='login', right_on='owner.login', how='left')"
   ]
  },
  {
   "cell_type": "code",
   "execution_count": 85,
   "metadata": {},
   "outputs": [
    {
     "data": {
      "text/plain": [
       "8"
      ]
     },
     "execution_count": 85,
     "metadata": {},
     "output_type": "execute_result"
    }
   ],
   "source": [
    "expanded_core_orgs = expanded_core_orgs[~expanded_core_orgs.duplicated(subset=['login', 'owner.login', 'finalized_language'])]\n",
    "expanded_core_orgs['potential_language'] = np.where(expanded_core_orgs['detected_language'].isnull(), expanded_core_orgs['finalized_language'], expanded_core_orgs['detected_language'])\n",
    "expanded_core_orgs = expanded_core_orgs[~expanded_core_orgs.duplicated(subset=['login', 'owner.login', 'detected_language', 'finalized_language', 'potential_language'])]\n",
    "expanded_core_orgs = expanded_core_orgs.drop(columns=['owner.login', 'finalized_language'])\n",
    "len(expanded_core_orgs)"
   ]
  },
  {
   "cell_type": "code",
   "execution_count": 86,
   "metadata": {},
   "outputs": [],
   "source": [
    "orgs_multiple_languages = expanded_core_orgs[expanded_core_orgs.duplicated(subset=['login'])].login.unique().tolist()\n",
    "if len(orgs_multiple_languages) > 0:\n",
    "    for login in orgs_multiple_languages:\n",
    "        user_df = expanded_core_orgs[(expanded_core_orgs.login == login)]\n",
    "        if len(user_df.potential_language.unique()) > 1:\n",
    "            languages = user_df.potential_language.unique().tolist()\n",
    "            languages = [x for x in languages if str(x) != 'nan']\n",
    "            updated_languages = [x for x in languages if ',' in x]\n",
    "            if len(updated_languages) == 0:\n",
    "                updated_languages = ', '.join(languages)\n",
    "            else:\n",
    "                updated_languages = updated_languages[0]\n",
    "            expanded_core_orgs.loc[expanded_core_orgs.login == login, 'potential_language'] = updated_languages"
   ]
  },
  {
   "cell_type": "code",
   "execution_count": 87,
   "metadata": {},
   "outputs": [
    {
     "data": {
      "text/plain": [
       "8"
      ]
     },
     "execution_count": 87,
     "metadata": {},
     "output_type": "execute_result"
    }
   ],
   "source": [
    "expanded_core_orgs = expanded_core_orgs.drop_duplicates(subset=['login', 'potential_language'])\n",
    "len(expanded_core_orgs)"
   ]
  },
  {
   "cell_type": "code",
   "execution_count": 88,
   "metadata": {},
   "outputs": [],
   "source": [
    "if os.path.exists(existing_expanded_core_orgs_file_path):\n",
    "    expanded_core_orgs = pd.concat([expanded_core_orgs, existing_expanded_core_orgs])\n",
    "expanded_core_orgs.to_csv(\"../data/derived_files/firstpass_core_orgs.csv\", index=False)"
   ]
  },
  {
   "cell_type": "code",
   "execution_count": null,
   "metadata": {},
   "outputs": [],
   "source": []
  }
 ],
 "metadata": {
  "kernelspec": {
   "display_name": "values_and_versions_env",
   "language": "python",
   "name": "python3"
  },
  "language_info": {
   "codemirror_mode": {
    "name": "ipython",
    "version": 3
   },
   "file_extension": ".py",
   "mimetype": "text/x-python",
   "name": "python",
   "nbconvert_exporter": "python",
   "pygments_lexer": "ipython3",
   "version": "3.9.16"
  },
  "orig_nbformat": 4
 },
 "nbformat": 4,
 "nbformat_minor": 2
}
