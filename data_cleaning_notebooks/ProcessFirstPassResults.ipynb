{
 "cells": [
  {
   "attachments": {},
   "cell_type": "markdown",
   "metadata": {},
   "source": [
    "# Process First Pass Results"
   ]
  },
  {
   "attachments": {},
   "cell_type": "markdown",
   "metadata": {},
   "source": [
    "### Load Libraries and Datasets"
   ]
  },
  {
   "cell_type": "code",
   "execution_count": 36,
   "metadata": {},
   "outputs": [],
   "source": [
    "import pandas as pd\n",
    "pd.options.mode.chained_assignment = None\n",
    "import numpy as np\n",
    "import os\n",
    "import sys\n",
    "import warnings\n",
    "warnings.filterwarnings('ignore')\n",
    "from tqdm import tqdm\n",
    "\n",
    "sys.path.append(\"../\")\n",
    "from data_generation_scripts.utils import check_rate_limit, check_add_orgs, check_add_repos, check_add_users, check_for_joins_in_older_queries, check_return_error_file\n",
    "from data_generation_scripts.generate_user_repos_interactions import get_user_repo_activities\n",
    "from data_generation_scripts.generate_translations import check_detect_language"
   ]
  },
  {
   "attachments": {},
   "cell_type": "markdown",
   "metadata": {},
   "source": [
    "Once we have run the `ProcessDHRepos`, `ProcessDHUsers`, and `ProcessDHOrgs` notebooks, we can start to expand our dataset. Our initial first pass expansion will be to add the following information to our dataset:\n",
    "\n",
    "- owners of `initial_core_repos` will be added to `core_users` and `core_orgs`\n",
    "- repos of `core_users` and `core_orgs` will be added to `core_repos`\n",
    "\n",
    "We may do some thresholding to avoid too many users or repos being added."
   ]
  },
  {
   "cell_type": "code",
   "execution_count": 2,
   "metadata": {},
   "outputs": [],
   "source": [
    "user_df = pd.read_csv(\"../data/entity_files/users_dataset.csv\")\n",
    "repo_df = pd.read_csv(\"../data/large_files/entity_files/repos_dataset.csv\", low_memory=False)\n",
    "org_df = pd.read_csv(\"../data/entity_files/orgs_dataset.csv\", low_memory=False)\n",
    "search_queries_repo_join_df = pd.read_csv(\"../data/derived_files/updated_search_queries_repo_join_subset_dh_dataset.csv\")\n",
    "search_queries_user_join_df = pd.read_csv(\n",
    "    \"../data/derived_files/updated_search_queries_user_join_subset_dh_dataset.csv\")"
   ]
  },
  {
   "cell_type": "code",
   "execution_count": 3,
   "metadata": {},
   "outputs": [],
   "source": [
    "initial_core_users = pd.read_csv(\"../data/derived_files/initial_core_users.csv\")\n",
    "initial_core_repos = pd.read_csv(\"../data/derived_files/initial_core_repos.csv\")\n",
    "initial_core_orgs = pd.read_csv(\"../data/derived_files/initial_core_orgs.csv\")"
   ]
  },
  {
   "attachments": {},
   "cell_type": "markdown",
   "metadata": {},
   "source": [
    "### Explore Potential New Materials"
   ]
  },
  {
   "cell_type": "code",
   "execution_count": 4,
   "metadata": {},
   "outputs": [
    {
     "data": {
      "text/plain": [
       "(262, 1296, 126, 667)"
      ]
     },
     "execution_count": 4,
     "metadata": {},
     "output_type": "execute_result"
    }
   ],
   "source": [
    "expanded_core_users = user_df[(user_df.login.isin(search_queries_repo_join_df['owner.login']))]\n",
    "expanded_core_users = expanded_core_users[~expanded_core_users.login.isin(initial_core_users.login)]\n",
    "expanded_core_orgs = expanded_core_users[expanded_core_users['type'] == 'Organization']\n",
    "expanded_core_users = expanded_core_users[expanded_core_users['type'] == 'User']\n",
    "expanded_core_orgs = expanded_core_orgs[~expanded_core_orgs.login.isin(initial_core_orgs.login)]\n",
    "len(expanded_core_orgs), len(expanded_core_users), len(initial_core_orgs), len(initial_core_users)"
   ]
  },
  {
   "cell_type": "code",
   "execution_count": 5,
   "metadata": {},
   "outputs": [],
   "source": [
    "filter_columns = ['public_repos',\n",
    "#  'public_gists',\n",
    "#  'followers',\n",
    "#  'following',\n",
    "#  'star_count'\n",
    " ]"
   ]
  },
  {
   "cell_type": "code",
   "execution_count": 6,
   "metadata": {},
   "outputs": [
    {
     "name": "stdout",
     "output_type": "stream",
     "text": [
      "8486.0\n",
      "1860.0\n",
      "1684.0 369.0\n"
     ]
    }
   ],
   "source": [
    "filtered_initial_core_users = initial_core_users.copy()\n",
    "filtered_initial_core_orgs = initial_core_orgs.copy()\n",
    "print(filtered_initial_core_users.public_repos.sum())\n",
    "print(filtered_initial_core_orgs.public_repos.sum())\n",
    "for col in filter_columns:\n",
    "    filtered_initial_core_users = filtered_initial_core_users[(filtered_initial_core_users[col].ge(filtered_initial_core_users[col].quantile(q=.25))) & (filtered_initial_core_users[col].le(filtered_initial_core_users[col].quantile(q=.75)))]\n",
    "    filtered_initial_core_orgs = filtered_initial_core_orgs[(filtered_initial_core_orgs[col].ge(filtered_initial_core_orgs[col].quantile(q=.25))) & (filtered_initial_core_orgs[col].le(filtered_initial_core_orgs[col].quantile(q=.75)))]\n",
    "print(filtered_initial_core_users.public_repos.sum(), filtered_initial_core_orgs.public_repos.sum())"
   ]
  },
  {
   "cell_type": "code",
   "execution_count": 7,
   "metadata": {},
   "outputs": [],
   "source": [
    "filtered_users = pd.concat([filtered_initial_core_users, filtered_initial_core_orgs])"
   ]
  },
  {
   "cell_type": "code",
   "execution_count": 8,
   "metadata": {},
   "outputs": [
    {
     "data": {
      "text/plain": [
       "410"
      ]
     },
     "execution_count": 8,
     "metadata": {},
     "output_type": "execute_result"
    }
   ],
   "source": [
    "len(filtered_users)"
   ]
  },
  {
   "cell_type": "code",
   "execution_count": 9,
   "metadata": {},
   "outputs": [
    {
     "name": "stdout",
     "output_type": "stream",
     "text": [
      "For user jtonra there are 1 repos but they have 3.0 public repos\n",
      "For user cclivaz there are 0 repos but they have 3.0 public repos\n",
      "For user lrskjr there are 8 repos but they have 5.0 public repos\n",
      "For user DennisFriedl there are 5 repos but they have 4.0 public repos\n",
      "For user nikolito there are 12 repos but they have 11.0 public repos\n",
      "For user mars-aria there are 20 repos but they have 6.0 public repos\n",
      "For user digital-humanities-hse there are 1 repos but they have 2.0 public repos\n",
      "For user paolomonella there are 9 repos but they have 8.0 public repos\n",
      "For user tommasobattisti there are 10 repos but they have 4.0 public repos\n",
      "For user ChessPiece21 there are 2 repos but they have 9.0 public repos\n",
      "For user EstelleEvelyn there are 0 repos but they have 8.0 public repos\n",
      "For user Nick-Archaeology there are 1 repos but they have 5.0 public repos\n",
      "For user yaeln there are 1 repos but they have 10.0 public repos\n",
      "For user satkey there are 1 repos but they have 5.0 public repos\n",
      "For user Rosmerade there are 1 repos but they have 2.0 public repos\n",
      "For user FreddiePy there are 1 repos but they have 2.0 public repos\n",
      "For user cpoggianti there are 1 repos but they have 3.0 public repos\n",
      "For user marcoDiCaro there are 0 repos but they have 6.0 public repos\n",
      "For user evgeniaanikeeva there are 1 repos but they have 4.0 public repos\n",
      "For user Ammeister there are 8 repos but they have 9.0 public repos\n",
      "For user EliaP2000 there are 0 repos but they have 7.0 public repos\n",
      "For user Claudio-95 there are 2 repos but they have 5.0 public repos\n",
      "For user ilsamaritano there are 1 repos but they have 7.0 public repos\n",
      "For user hedytech-unipi there are 1 repos but they have 2.0 public repos\n",
      "For user PYY00 there are 0 repos but they have 2.0 public repos\n",
      "For user xphanje there are 0 repos but they have 2.0 public repos\n",
      "For user Anto2000-hub there are 0 repos but they have 2.0 public repos\n",
      "For user gennymiola there are 1 repos but they have 4.0 public repos\n",
      "For user Alessia280 there are 0 repos but they have 2.0 public repos\n",
      "For user marco00petrucci there are 0 repos but they have 4.0 public repos\n",
      "For user Ariannads99 there are 1 repos but they have 2.0 public repos\n",
      "For user vanessabianconi there are 0 repos but they have 6.0 public repos\n",
      "For user anisa-hawes there are 0 repos but they have 2.0 public repos\n",
      "For user aergithub there are 0 repos but they have 2.0 public repos\n",
      "For user eickelpasch there are 0 repos but they have 2.0 public repos\n",
      "For user clariah-at there are 0 repos but they have 2.0 public repos\n",
      "For user HeimMatthias there are 0 repos but they have 2.0 public repos\n",
      "For user geokak there are 1 repos but they have 3.0 public repos\n",
      "For user markedwinpeterson there are 0 repos but they have 2.0 public repos\n",
      "For user weepsie there are 0 repos but they have 2.0 public repos\n",
      "For user mikeatnortheastern there are 0 repos but they have 2.0 public repos\n",
      "For user enyaocean there are 1 repos but they have 2.0 public repos\n",
      "For user hp-intel there are 0 repos but they have 2.0 public repos\n",
      "For user eneavodo there are 1 repos but they have 3.0 public repos\n",
      "For user YvanUh there are 0 repos but they have 3.0 public repos\n",
      "For user ngaphb there are 1 repos but they have 2.0 public repos\n",
      "For user sara1196 there are 0 repos but they have 2.0 public repos\n",
      "For user fullerj1 there are 0 repos but they have 2.0 public repos\n",
      "For user Bragfir there are 0 repos but they have 3.0 public repos\n",
      "For user stargazerdino there are 0 repos but they have 2.0 public repos\n",
      "For user james-y-yoon there are 4 repos but they have 3.0 public repos\n",
      "For user chloefoor there are 4 repos but they have 3.0 public repos\n",
      "For user MHGoldani there are 0 repos but they have 2.0 public repos\n",
      "For user optimalMinimalism there are 0 repos but they have 2.0 public repos\n",
      "For user Balbina there are 0 repos but they have 2.0 public repos\n",
      "For user SylvainBesson there are 0 repos but they have 2.0 public repos\n",
      "For user claracas98 there are 1 repos but they have 2.0 public repos\n",
      "For user Umamitas there are 0 repos but they have 2.0 public repos\n",
      "For user rafaeluriarte there are 0 repos but they have 2.0 public repos\n",
      "For user sr-hm there are 5 repos but they have 3.0 public repos\n",
      "For user dagobertoherreramurillo there are 0 repos but they have 7.0 public repos\n",
      "For user vcasaisvila there are 0 repos but they have 3.0 public repos\n",
      "For user rchd-repo there are 0 repos but they have 3.0 public repos\n",
      "For user philip695 there are 0 repos but they have 3.0 public repos\n",
      "For user enjensor there are 0 repos but they have 4.0 public repos\n",
      "For user cnmf there are 0 repos but they have 2.0 public repos\n",
      "For user orestes824 there are 0 repos but they have 4.0 public repos\n",
      "For user TakumiKobayashi there are 0 repos but they have 2.0 public repos\n",
      "For user javiercha there are 4 repos but they have 3.0 public repos\n",
      "For user Amalia6767 there are 3 repos but they have 2.0 public repos\n",
      "For user amyeshreeve there are 6 repos but they have 5.0 public repos\n",
      "For user Aleksandr-Simanychev there are 1 repos but they have 6.0 public repos\n",
      "For user Postitisnt there are 15 repos but they have 7.0 public repos\n",
      "For user alexanderbinnekamp there are 2 repos but they have 11.0 public repos\n",
      "For user SofiaBlack there are 8 repos but they have 7.0 public repos\n",
      "For user agnesecam there are 3 repos but they have 5.0 public repos\n",
      "For user lineasyparrafos there are 0 repos but they have 3.0 public repos\n",
      "For user BeatriceBucci there are 1 repos but they have 2.0 public repos\n",
      "For user infouma-unipi there are 3 repos but they have 10.0 public repos\n",
      "For user simonamazzarino there are 2 repos but they have 8.0 public repos\n",
      "For user wmshort there are 0 repos but they have 2.0 public repos\n",
      "For user tig1795 there are 10 repos but they have 8.0 public repos\n",
      "For user OrsolaMBorrini there are 8 repos but they have 2.0 public repos\n",
      "For user camilasamurai there are 0 repos but they have 3.0 public repos\n",
      "For user flcblommaert there are 0 repos but they have 3.0 public repos\n",
      "For user aschimmenti there are 0 repos but they have 7.0 public repos\n",
      "For user Sophia796 there are 0 repos but they have 4.0 public repos\n",
      "For user glorieux-f there are 10 repos but they have 9.0 public repos\n",
      "For user carlacongiu there are 1 repos but they have 4.0 public repos\n",
      "For user francescapoli98 there are 9 repos but they have 8.0 public repos\n",
      "For user esohman there are 12 repos but they have 11.0 public repos\n",
      "For user TyotkinDmitriy there are 1 repos but they have 3.0 public repos\n",
      "For user haeeunkim there are 9 repos but they have 8.0 public repos\n",
      "For user alexandra-sanchez there are 1 repos but they have 6.0 public repos\n",
      "For user clairedinauer there are 1 repos but they have 5.0 public repos\n",
      "For user JunyiTao there are 9 repos but they have 8.0 public repos\n",
      "For user lizziehop there are 2 repos but they have 6.0 public repos\n",
      "For user denizovski there are 10 repos but they have 9.0 public repos\n",
      "For user saroppini there are 5 repos but they have 3.0 public repos\n",
      "For user amkaminski there are 1 repos but they have 3.0 public repos\n",
      "For user wilmesis36 there are 1 repos but they have 3.0 public repos\n",
      "For user DaianeRossi12 there are 1 repos but they have 2.0 public repos\n",
      "For user rafael-magalhaes there are 0 repos but they have 7.0 public repos\n",
      "For user rakieu there are 0 repos but they have 3.0 public repos\n",
      "For user goluco there are 0 repos but they have 6.0 public repos\n",
      "For user AlessandraMazzocchi there are 0 repos but they have 4.0 public repos\n",
      "For user MPica there are 9 repos but they have 8.0 public repos\n",
      "For user quenyoasamoah there are 0 repos but they have 5.0 public repos\n",
      "For user senyoasamoah7 there are 0 repos but they have 5.0 public repos\n",
      "For user senyoasamoah2003 there are 0 repos but they have 5.0 public repos\n",
      "For user hassanhajj910 there are 11 repos but they have 5.0 public repos\n",
      "For user Stephan-M-Unter there are 0 repos but they have 3.0 public repos\n",
      "For user CSantiStSup there are 0 repos but they have 5.0 public repos\n",
      "For user krmuth there are 7 repos but they have 6.0 public repos\n",
      "For user dev-89 there are 10 repos but they have 9.0 public repos\n",
      "For user gmedinak there are 0 repos but they have 4.0 public repos\n",
      "For user Salvadana there are 0 repos but they have 4.0 public repos\n",
      "For user Fonzo454 there are 0 repos but they have 2.0 public repos\n",
      "For user Sharpscore247 there are 0 repos but they have 8.0 public repos\n",
      "For user JacopoCampanellaGalanti there are 0 repos but they have 2.0 public repos\n",
      "For user michelle14lee there are 0 repos but they have 7.0 public repos\n",
      "For user Ellchen there are 0 repos but they have 2.0 public repos\n",
      "For user matteodicarrara there are 1 repos but they have 3.0 public repos\n",
      "For user cuiyongxiangch there are 0 repos but they have 3.0 public repos\n",
      "For user jeyrena1 there are 1 repos but they have 2.0 public repos\n",
      "For user BernBa there are 0 repos but they have 2.0 public repos\n",
      "For user jer308 there are 0 repos but they have 2.0 public repos\n",
      "For user jacobmswisher there are 0 repos but they have 5.0 public repos\n",
      "For user MargotBelot there are 5 repos but they have 3.0 public repos\n",
      "For user mpuren there are 1 repos but they have 4.0 public repos\n",
      "For user Natkiio there are 0 repos but they have 2.0 public repos\n",
      "For user adamlporter there are 13 repos but they have 7.0 public repos\n",
      "For user JonSnowey there are 0 repos but they have 6.0 public repos\n",
      "For user matthias-hahn there are 0 repos but they have 5.0 public repos\n",
      "For user semarvin there are 0 repos but they have 8.0 public repos\n",
      "For user HunterJCD there are 0 repos but they have 6.0 public repos\n",
      "For user jconor-sullivan there are 0 repos but they have 6.0 public repos\n",
      "For user kajamik there are 1 repos but they have 2.0 public repos\n",
      "For user lindseymardona there are 8 repos but they have 6.0 public repos\n",
      "For user weiJul there are 6 repos but they have 5.0 public repos\n",
      "For user ClaudiaECarroll there are 0 repos but they have 5.0 public repos\n",
      "For user edwardington there are 0 repos but they have 5.0 public repos\n",
      "For user rossiele there are 0 repos but they have 11.0 public repos\n",
      "For user kwstew there are 0 repos but they have 2.0 public repos\n",
      "For user sirajzade there are 0 repos but they have 6.0 public repos\n",
      "For user dtcashion there are 0 repos but they have 2.0 public repos\n",
      "For user pgolbus there are 8 repos but they have 6.0 public repos\n",
      "For user oliveirafernandaz there are 1 repos but they have 2.0 public repos\n",
      "For user zkmacdon there are 6 repos but they have 7.0 public repos\n",
      "For user lucasvanderdeijl there are 0 repos but they have 5.0 public repos\n",
      "For user kollektivminds there are 5 repos but they have 4.0 public repos\n",
      "For user JakeO96 there are 0 repos but they have 4.0 public repos\n",
      "For user pauinsanchez there are 0 repos but they have 5.0 public repos\n",
      "For user jimmcgrath there are 1 repos but they have 4.0 public repos\n",
      "For user eaboumrad there are 0 repos but they have 4.0 public repos\n",
      "For user mhleal there are 12 repos but they have 10.0 public repos\n",
      "For user umndash-defunct there are 0 repos but they have 2.0 public repos\n",
      "For user clarendel there are 0 repos but they have 2.0 public repos\n",
      "For user ellennnzbo there are 0 repos but they have 6.0 public repos\n",
      "For user prate91 there are 12 repos but they have 9.0 public repos\n",
      "For user katkordas there are 0 repos but they have 2.0 public repos\n",
      "For user pdavio there are 0 repos but they have 2.0 public repos\n",
      "For user duraivelsamuel there are 0 repos but they have 3.0 public repos\n",
      "For user mburkland84 there are 0 repos but they have 3.0 public repos\n",
      "For user Jazzpenner there are 0 repos but they have 6.0 public repos\n",
      "For user michaelgoeggelmann there are 0 repos but they have 2.0 public repos\n",
      "For user Natalie-Lloyd there are 1 repos but they have 8.0 public repos\n",
      "For user gguex there are 0 repos but they have 6.0 public repos\n",
      "For user patymurrieta there are 0 repos but they have 3.0 public repos\n",
      "For user dh-miami there are 6 repos but they have 4.0 public repos\n",
      "For user Irinarm94 there are 1 repos but they have 3.0 public repos\n",
      "For user sarahondraszek there are 7 repos but they have 6.0 public repos\n",
      "For user mattiapggioli there are 5 repos but they have 2.0 public repos\n",
      "For user mollycastro there are 11 repos but they have 10.0 public repos\n",
      "For user anaschultze there are 1 repos but they have 4.0 public repos\n",
      "For user JacMa there are 1 repos but they have 4.0 public repos\n",
      "For user jd-s there are 11 repos but they have 10.0 public repos\n",
      "For user gaelicmichael there are 0 repos but they have 5.0 public repos\n",
      "For user katsi there are 10 repos but they have 9.0 public repos\n",
      "For user aliceperin there are 0 repos but they have 5.0 public repos\n",
      "For user henrietteroued there are 0 repos but they have 2.0 public repos\n",
      "For user filosam there are 4 repos but they have 5.0 public repos\n",
      "For user humana-fragilitas there are 10 repos but they have 9.0 public repos\n",
      "For user norahvii there are 18 repos but they have 11.0 public repos\n",
      "For user GoThereGit there are 6 repos but they have 4.0 public repos\n",
      "For user vincentsarbachpulicani there are 6 repos but they have 5.0 public repos\n",
      "For user Kseniya-Loko there are 0 repos but they have 7.0 public repos\n",
      "For user mariechen90 there are 0 repos but they have 5.0 public repos\n",
      "For user TeresaKa there are 2 repos but they have 9.0 public repos\n",
      "For user DocJem there are 0 repos but they have 4.0 public repos\n",
      "For user Dekromatia there are 16 repos but they have 11.0 public repos\n",
      "For user SaschM there are 0 repos but they have 2.0 public repos\n",
      "For user AnteJR there are 9 repos but they have 8.0 public repos\n",
      "For user Bianca-LM there are 7 repos but they have 4.0 public repos\n",
      "For user minorg there are 8 repos but they have 7.0 public repos\n",
      "For user 1r3n3 there are 0 repos but they have 2.0 public repos\n",
      "For user StefanDumont there are 8 repos but they have 7.0 public repos\n",
      "For user DigiUGA there are 1 repos but they have 8.0 public repos\n",
      "For user seanald15d there are 0 repos but they have 7.0 public repos\n",
      "For user crispin-cas9 there are 0 repos but they have 11.0 public repos\n",
      "For user diegonava6rsj0d there are 0 repos but they have 2.0 public repos\n",
      "For user andrew-s-brown there are 0 repos but they have 2.0 public repos\n",
      "For user 1ucyP there are 4 repos but they have 2.0 public repos\n",
      "For user wirapong there are 0 repos but they have 2.0 public repos\n",
      "For user Rachelfc there are 0 repos but they have 2.0 public repos\n",
      "For user Ad5Franco there are 0 repos but they have 2.0 public repos\n",
      "For user bgysst there are 0 repos but they have 2.0 public repos\n",
      "For user hernandezj1 there are 10 repos but they have 3.0 public repos\n",
      "For user ClevelandQian there are 0 repos but they have 2.0 public repos\n",
      "For user scaddy85 there are 0 repos but they have 2.0 public repos\n",
      "For user ElenaMattei there are 0 repos but they have 2.0 public repos\n",
      "For user AnitaBlakeSZ there are 0 repos but they have 2.0 public repos\n",
      "For user eleonoracocciu there are 0 repos but they have 2.0 public repos\n",
      "For user mxpiotrowski there are 14 repos but they have 11.0 public repos\n",
      "For user fionacremins there are 0 repos but they have 4.0 public repos\n",
      "For user DigitalPasts there are 17 repos but they have 10.0 public repos\n",
      "For user marinanastas there are 9 repos but they have 5.0 public repos\n",
      "For user vaelma there are 0 repos but they have 5.0 public repos\n",
      "For user leo8 there are 1 repos but they have 8.0 public repos\n",
      "For user chsteiner there are 6 repos but they have 5.0 public repos\n",
      "For user Triggcodera there are 0 repos but they have 3.0 public repos\n",
      "For user sramsay there are 0 repos but they have 3.0 public repos\n",
      "For user lrosenth there are 6 repos but they have 5.0 public repos\n",
      "For user IreneVagionakis there are 2 repos but they have 4.0 public repos\n",
      "For user CHC-IBL-PAN there are 0 repos but they have 2.0 public repos\n",
      "For user aiucd there are 5 repos but they have 4.0 public repos\n",
      "For user MagTOCml there are 0 repos but they have 3.0 public repos\n",
      "For user MTRL-lab there are 0 repos but they have 2.0 public repos\n",
      "For user llntu there are 3 repos but they have 2.0 public repos\n",
      "For user HDAUNIR there are 1 repos but they have 3.0 public repos\n",
      "For user badac there are 11 repos but they have 10.0 public repos\n",
      "For user DCSCyHD there are 6 repos but they have 5.0 public repos\n",
      "For user ntnu-lab there are 3 repos but they have 2.0 public repos\n",
      "For user ABC-DH there are 8 repos but they have 7.0 public repos\n",
      "For user irLh there are 0 repos but they have 4.0 public repos\n",
      "For user humanidadesdigitais there are 0 repos but they have 3.0 public repos\n",
      "For user Zoroastrian-Digital-Humanities there are 0 repos but they have 3.0 public repos\n",
      "For user WarwickCDI there are 0 repos but they have 5.0 public repos\n",
      "For user SAS-DHRH there are 9 repos but they have 5.0 public repos\n",
      "For user dh-bgu there are 1 repos but they have 2.0 public repos\n",
      "For user THINCLabGuelph there are 1 repos but they have 3.0 public repos\n",
      "For user CHDR-Inventory-System there are 0 repos but they have 3.0 public repos\n",
      "For user tx-student-dh there are 0 repos but they have 3.0 public repos\n",
      "For user dhandlib there are 0 repos but they have 2.0 public repos\n",
      "For user Digital-Democracies-Institute there are 0 repos but they have 2.0 public repos\n",
      "For user DigitalRicoeur there are 1 repos but they have 3.0 public repos\n",
      "For user DHd-Verband there are 13 repos but they have 12.0 public repos\n",
      "For user CenterForDigitalHumanitiesSLU there are 4 repos but they have 3.0 public repos\n",
      "For user Southampton-Digital-Humanities there are 7 repos but they have 5.0 public repos\n",
      "For user biblhertz there are 13 repos but they have 9.0 public repos\n",
      "For user DigitalHumanitiesCraft there are 6 repos but they have 3.0 public repos\n",
      "For user multilingual-dh there are 7 repos but they have 6.0 public repos\n",
      "For user DH-Center-Tuebingen there are 13 repos but they have 12.0 public repos\n",
      "For user paralipomena there are 2 repos but they have 5.0 public repos\n",
      "For user rutgersdh there are 6 repos but they have 5.0 public repos\n",
      "For user nyu-dh there are 4 repos but they have 3.0 public repos\n",
      "For user SCDH there are 10 repos but they have 7.0 public repos\n",
      "For user sna-unipi there are 6 repos but they have 5.0 public repos\n",
      "For user ExeterDigitalHumanities there are 6 repos but they have 5.0 public repos\n",
      "For user datasittersclub there are 11 repos but they have 10.0 public repos\n",
      "For user dh-tech there are 5 repos but they have 4.0 public repos\n",
      "For user Digital-Humanities-Quarterly there are 1 repos but they have 3.0 public repos\n",
      "For user DARIAH-VL there are 0 repos but they have 2.0 public repos\n",
      "For user CentreForDigitalHumanities there are 11 repos but they have 9.0 public repos\n",
      "For user Humanites-Numeriques-PSL there are 4 repos but they have 3.0 public repos\n"
     ]
    }
   ],
   "source": [
    "total_missing_repos = 0\n",
    "for _, row in filtered_users.iterrows():\n",
    "    existing_repos = repo_df[repo_df['owner.login'] == row['login']]\n",
    "    if len(existing_repos) != row['public_repos']:\n",
    "        print(f\"For user {row['login']} there are {len(existing_repos)} repos but they have {row['public_repos']} public repos\")\n",
    "        total_missing_repos += row['public_repos'] - len(existing_repos)"
   ]
  },
  {
   "cell_type": "code",
   "execution_count": 10,
   "metadata": {},
   "outputs": [],
   "source": [
    "# if total_missing_repos > 0:\n",
    "#     user_repos_output_path = \"../data/large_files/join_files/user_repos_join_dataset.csv\"\n",
    "#     repos_output_path = \"../data/large_files/entity_files/repos_dataset.csv\"\n",
    "#     get_url_field = \"repos_url\"\n",
    "#     load_existing_files = False\n",
    "#     overwrite_existing_temp_files = False\n",
    "\n",
    "#     users_repos_df, repo_df = get_user_repo_activities(filtered_users,user_repos_output_path, repos_output_path, get_url_field, load_existing_files, overwrite_existing_temp_files)"
   ]
  },
  {
   "cell_type": "code",
   "execution_count": 11,
   "metadata": {},
   "outputs": [],
   "source": [
    "expanded_core_repos = repo_df[repo_df['owner.login'].isin(filtered_users.login)]\n",
    "expanded_core_repos = expanded_core_repos[~expanded_core_repos.full_name.isin(initial_core_repos.full_name)]"
   ]
  },
  {
   "cell_type": "code",
   "execution_count": 13,
   "metadata": {},
   "outputs": [
    {
     "data": {
      "text/plain": [
       "453.0"
      ]
     },
     "execution_count": 13,
     "metadata": {},
     "output_type": "execute_result"
    }
   ],
   "source": [
    "total_missing_repos"
   ]
  },
  {
   "cell_type": "code",
   "execution_count": 12,
   "metadata": {},
   "outputs": [
    {
     "data": {
      "text/plain": [
       "1497"
      ]
     },
     "execution_count": 12,
     "metadata": {},
     "output_type": "execute_result"
    }
   ],
   "source": [
    "len(expanded_core_repos)"
   ]
  },
  {
   "cell_type": "code",
   "execution_count": 14,
   "metadata": {},
   "outputs": [],
   "source": [
    "expanded_core_orgs.to_csv(\"../data/derived_files/firstpass_core_orgs.csv\", index=False)\n",
    "expanded_core_users.to_csv(\"../data/derived_files/firstpass_core_users.csv\", index=False)\n",
    "expanded_core_repos.to_csv(\"../data/derived_files/firstpass_core_repos.csv\", index=False)"
   ]
  },
  {
   "attachments": {},
   "cell_type": "markdown",
   "metadata": {},
   "source": [
    "### Evaluate Languages of New Materials"
   ]
  },
  {
   "cell_type": "code",
   "execution_count": 15,
   "metadata": {},
   "outputs": [
    {
     "name": "stderr",
     "output_type": "stream",
     "text": [
      "Detecting language: 100%|██████████| 1497/1497 [00:42<00:00, 34.91it/s]\n",
      "Detecting language: 100%|██████████| 1296/1296 [00:16<00:00, 77.70it/s] \n",
      "Detecting language: 100%|██████████| 262/262 [00:04<00:00, 62.62it/s]\n"
     ]
    }
   ],
   "source": [
    "tqdm.pandas(desc='Detecting language')\n",
    "expanded_core_repos.description = expanded_core_repos.description.fillna('')\n",
    "expanded_core_repos = expanded_core_repos.progress_apply(check_detect_language, axis=1, is_repo=True)\n",
    "expanded_core_users.bio = expanded_core_users.bio.fillna('')\n",
    "expanded_core_users = expanded_core_users.progress_apply(check_detect_language, axis=1, is_repo=False)\n",
    "expanded_core_orgs.bio = expanded_core_orgs.bio.fillna('')\n",
    "expanded_core_orgs = expanded_core_orgs.progress_apply(check_detect_language, axis=1, is_repo=False)"
   ]
  },
  {
   "cell_type": "code",
   "execution_count": 18,
   "metadata": {},
   "outputs": [
    {
     "data": {
      "text/plain": [
       "(154, 108, 876, 420, 428, 1069)"
      ]
     },
     "execution_count": 18,
     "metadata": {},
     "output_type": "execute_result"
    }
   ],
   "source": [
    "len(expanded_core_orgs[expanded_core_orgs.detected_language.isna()]), len(expanded_core_orgs[expanded_core_orgs.detected_language.notna()]), len(expanded_core_users[expanded_core_users.detected_language.isna()]), len(expanded_core_users[expanded_core_users.detected_language.notna()]), len(expanded_core_repos[expanded_core_repos.detected_language.isna()]), len(expanded_core_repos[expanded_core_repos.detected_language.notna()])"
   ]
  },
  {
   "cell_type": "code",
   "execution_count": 19,
   "metadata": {},
   "outputs": [
    {
     "data": {
      "text/plain": [
       "1458"
      ]
     },
     "execution_count": 19,
     "metadata": {},
     "output_type": "execute_result"
    }
   ],
   "source": [
    "total_missing_languages = len(expanded_core_orgs[expanded_core_orgs.detected_language.isna()]) + len(expanded_core_users[expanded_core_users.detected_language.isna()]) + len(expanded_core_repos[expanded_core_repos.detected_language.isna()])\n",
    "total_missing_languages"
   ]
  },
  {
   "cell_type": "code",
   "execution_count": 24,
   "metadata": {},
   "outputs": [
    {
     "data": {
      "text/plain": [
       "(0, 0, 0)"
      ]
     },
     "execution_count": 24,
     "metadata": {},
     "output_type": "execute_result"
    }
   ],
   "source": [
    "len(expanded_core_orgs[(expanded_core_orgs.detected_language.isna()) & (expanded_core_orgs.bio.str.len() > 0)]), len(expanded_core_users[(expanded_core_users.detected_language.isna()) & (expanded_core_users.bio.str.len() > 0)]), len(expanded_core_repos[(expanded_core_repos.detected_language.isna()) & (expanded_core_repos.description.str.len() > 0)])"
   ]
  },
  {
   "cell_type": "code",
   "execution_count": 25,
   "metadata": {},
   "outputs": [],
   "source": [
    "expanded_core_orgs.to_csv(\"../data/derived_files/firstpass_core_orgs.csv\", index=False)\n",
    "expanded_core_users.to_csv(\"../data/derived_files/firstpass_core_users.csv\", index=False)\n",
    "expanded_core_repos.to_csv(\"../data/derived_files/firstpass_core_repos.csv\", index=False)"
   ]
  },
  {
   "cell_type": "code",
   "execution_count": 51,
   "metadata": {},
   "outputs": [],
   "source": [
    "initial_users = pd.concat([initial_core_orgs[['login', 'finalized_language']], initial_core_users[['login', 'finalized_language']]])"
   ]
  },
  {
   "cell_type": "code",
   "execution_count": 52,
   "metadata": {},
   "outputs": [],
   "source": [
    "expanded_core_repos = pd.merge(expanded_core_repos, initial_users, left_on='owner.login', right_on='login', how='left')"
   ]
  },
  {
   "cell_type": "code",
   "execution_count": 53,
   "metadata": {},
   "outputs": [],
   "source": [
    "expanded_core_repos['potential_language'] = np.where(expanded_core_repos['detected_language'].isnull(), expanded_core_repos['finalized_language'], expanded_core_repos['detected_language'])\n"
   ]
  },
  {
   "cell_type": "code",
   "execution_count": 66,
   "metadata": {},
   "outputs": [],
   "source": [
    "expanded_core_repos = expanded_core_repos.drop(columns=['login', 'finalized_language'])"
   ]
  },
  {
   "cell_type": "code",
   "execution_count": 67,
   "metadata": {},
   "outputs": [
    {
     "data": {
      "text/plain": [
       "0"
      ]
     },
     "execution_count": 67,
     "metadata": {},
     "output_type": "execute_result"
    }
   ],
   "source": [
    "expanded_core_repos.duplicated().sum()"
   ]
  },
  {
   "cell_type": "code",
   "execution_count": 54,
   "metadata": {},
   "outputs": [
    {
     "data": {
      "text/plain": [
       "1497"
      ]
     },
     "execution_count": 54,
     "metadata": {},
     "output_type": "execute_result"
    }
   ],
   "source": [
    "len(expanded_core_repos)"
   ]
  },
  {
   "cell_type": "code",
   "execution_count": 141,
   "metadata": {},
   "outputs": [
    {
     "data": {
      "text/plain": [
       "1293"
      ]
     },
     "execution_count": 141,
     "metadata": {},
     "output_type": "execute_result"
    }
   ],
   "source": [
    "len(expanded_core_users)"
   ]
  },
  {
   "cell_type": "code",
   "execution_count": 142,
   "metadata": {},
   "outputs": [],
   "source": [
    "expanded_core_users = pd.merge(expanded_core_users, initial_core_repos[['finalized_language', 'owner.login']], left_on='login', right_on='owner.login', how='left')"
   ]
  },
  {
   "cell_type": "code",
   "execution_count": 143,
   "metadata": {},
   "outputs": [],
   "source": [
    "expanded_core_users = expanded_core_users[~expanded_core_users.duplicated(subset=['login', 'owner.login', 'finalized_language'])]"
   ]
  },
  {
   "cell_type": "code",
   "execution_count": 144,
   "metadata": {},
   "outputs": [],
   "source": [
    "expanded_core_users['potential_language'] = np.where(expanded_core_users['detected_language'].isnull(), expanded_core_users['finalized_language'], expanded_core_users['detected_language'])"
   ]
  },
  {
   "cell_type": "code",
   "execution_count": 145,
   "metadata": {},
   "outputs": [],
   "source": [
    "expanded_core_users = expanded_core_users[~expanded_core_users.duplicated(subset=['login', 'owner.login', 'detected_language', 'finalized_language', 'potential_language'])]"
   ]
  },
  {
   "cell_type": "code",
   "execution_count": 146,
   "metadata": {},
   "outputs": [],
   "source": [
    "expanded_core_users = expanded_core_users.drop(columns=['owner.login', 'finalized_language'])"
   ]
  },
  {
   "cell_type": "code",
   "execution_count": 147,
   "metadata": {},
   "outputs": [
    {
     "data": {
      "text/plain": [
       "1304"
      ]
     },
     "execution_count": 147,
     "metadata": {},
     "output_type": "execute_result"
    }
   ],
   "source": [
    "len(expanded_core_users)"
   ]
  },
  {
   "cell_type": "code",
   "execution_count": 148,
   "metadata": {},
   "outputs": [],
   "source": [
    "users_multiple_languages = expanded_core_users[expanded_core_users.duplicated(subset=['login'])].login.unique().tolist()\n",
    "if len(users_multiple_languages) > 0:\n",
    "    for login in users_multiple_languages:\n",
    "        user_df = expanded_core_users[(expanded_core_users.login == login)]\n",
    "        if len(user_df.potential_language.unique()) > 1:\n",
    "            languages = user_df.potential_language.unique().tolist()\n",
    "            languages = [x for x in languages if str(x) != 'nan']\n",
    "            updated_languages = [x for x in languages if ',' in x]\n",
    "            if len(updated_languages) == 0:\n",
    "                updated_languages = ', '.join(languages)\n",
    "            else:\n",
    "                updated_languages = updated_languages[0]\n",
    "            expanded_core_users.loc[expanded_core_users.login == login, 'potential_language'] = updated_languages"
   ]
  },
  {
   "cell_type": "code",
   "execution_count": 150,
   "metadata": {},
   "outputs": [],
   "source": [
    "expanded_core_users = expanded_core_users.drop_duplicates(subset=['login', 'potential_language'])"
   ]
  },
  {
   "cell_type": "code",
   "execution_count": 151,
   "metadata": {},
   "outputs": [],
   "source": [
    "expanded_core_users.to_csv(\"../data/derived_files/firstpass_core_users.csv\", index=False)"
   ]
  },
  {
   "cell_type": "code",
   "execution_count": 152,
   "metadata": {},
   "outputs": [
    {
     "data": {
      "text/plain": [
       "262"
      ]
     },
     "execution_count": 152,
     "metadata": {},
     "output_type": "execute_result"
    }
   ],
   "source": [
    "len(expanded_core_orgs)"
   ]
  },
  {
   "cell_type": "code",
   "execution_count": 154,
   "metadata": {},
   "outputs": [],
   "source": [
    "expanded_core_orgs = pd.merge(expanded_core_orgs, initial_core_repos[['finalized_language', 'owner.login']], left_on='login', right_on='owner.login', how='left')"
   ]
  },
  {
   "cell_type": "code",
   "execution_count": 155,
   "metadata": {},
   "outputs": [
    {
     "data": {
      "text/plain": [
       "270"
      ]
     },
     "execution_count": 155,
     "metadata": {},
     "output_type": "execute_result"
    }
   ],
   "source": [
    "expanded_core_orgs = expanded_core_orgs[~expanded_core_orgs.duplicated(subset=['login', 'owner.login', 'finalized_language'])]\n",
    "expanded_core_orgs['potential_language'] = np.where(expanded_core_orgs['detected_language'].isnull(), expanded_core_orgs['finalized_language'], expanded_core_orgs['detected_language'])\n",
    "expanded_core_orgs = expanded_core_orgs[~expanded_core_orgs.duplicated(subset=['login', 'owner.login', 'detected_language', 'finalized_language', 'potential_language'])]\n",
    "expanded_core_orgs = expanded_core_orgs.drop(columns=['owner.login', 'finalized_language'])\n",
    "len(expanded_core_orgs)"
   ]
  },
  {
   "cell_type": "code",
   "execution_count": 156,
   "metadata": {},
   "outputs": [],
   "source": [
    "orgs_multiple_languages = expanded_core_orgs[expanded_core_orgs.duplicated(subset=['login'])].login.unique().tolist()\n",
    "if len(orgs_multiple_languages) > 0:\n",
    "    for login in orgs_multiple_languages:\n",
    "        user_df = expanded_core_orgs[(expanded_core_orgs.login == login)]\n",
    "        if len(user_df.potential_language.unique()) > 1:\n",
    "            languages = user_df.potential_language.unique().tolist()\n",
    "            languages = [x for x in languages if str(x) != 'nan']\n",
    "            updated_languages = [x for x in languages if ',' in x]\n",
    "            if len(updated_languages) == 0:\n",
    "                updated_languages = ', '.join(languages)\n",
    "            else:\n",
    "                updated_languages = updated_languages[0]\n",
    "            expanded_core_orgs.loc[expanded_core_orgs.login == login, 'potential_language'] = updated_languages"
   ]
  },
  {
   "cell_type": "code",
   "execution_count": 169,
   "metadata": {},
   "outputs": [
    {
     "data": {
      "text/plain": [
       "262"
      ]
     },
     "execution_count": 169,
     "metadata": {},
     "output_type": "execute_result"
    }
   ],
   "source": [
    "expanded_core_orgs = expanded_core_orgs.drop_duplicates(subset=['login', 'potential_language'])\n",
    "len(expanded_core_orgs)"
   ]
  },
  {
   "cell_type": "code",
   "execution_count": 170,
   "metadata": {},
   "outputs": [],
   "source": [
    "expanded_core_orgs.to_csv(\"../data/derived_files/firstpass_core_orgs.csv\", index=False)"
   ]
  },
  {
   "cell_type": "code",
   "execution_count": null,
   "metadata": {},
   "outputs": [],
   "source": []
  }
 ],
 "metadata": {
  "kernelspec": {
   "display_name": "values_and_versions_env",
   "language": "python",
   "name": "python3"
  },
  "language_info": {
   "codemirror_mode": {
    "name": "ipython",
    "version": 3
   },
   "file_extension": ".py",
   "mimetype": "text/x-python",
   "name": "python",
   "nbconvert_exporter": "python",
   "pygments_lexer": "ipython3",
   "version": "3.9.16"
  },
  "orig_nbformat": 4
 },
 "nbformat": 4,
 "nbformat_minor": 2
}
