{
 "cells": [
  {
   "attachments": {},
   "cell_type": "markdown",
   "metadata": {},
   "source": [
    "# Process DH Repos"
   ]
  },
  {
   "attachments": {},
   "cell_type": "markdown",
   "metadata": {},
   "source": [
    "This notebook will be run multiple times as we add new repositories to the DH repo list. It will take the data from the DH repo list and process it through making additional calls to GitHub's APIs."
   ]
  },
  {
   "attachments": {},
   "cell_type": "markdown",
   "metadata": {},
   "source": [
    "### Load Libraries and Set Initial Dataset"
   ]
  },
  {
   "cell_type": "code",
   "execution_count": 29,
   "metadata": {},
   "outputs": [],
   "source": [
    "import pandas as pd\n",
    "pd.options.mode.chained_assignment = None\n",
    "import os\n",
    "import sys\n",
    "import warnings\n",
    "warnings.filterwarnings('ignore')\n",
    "\n",
    "sys.path.append(\"..\")\n",
    "from data_generation_scripts.utils import check_rate_limit, check_return_error_file, read_combine_files, check_total_pages, check_for_joins_in_older_queries\n",
    "from data_generation_scripts.generate_search_data import get_initial_search_datasets\n",
    "from data_generation_scripts.generate_repo_metadata import get_repo_languages, get_repo_labels, get_repo_tags,  get_repo_profile, get_total_commits\n",
    "from data_generation_scripts.generate_repo_users_interactions import get_repos_user_actors\n",
    "from data_generation_scripts.generate_repo_metadata import check_total_results"
   ]
  },
  {
   "cell_type": "code",
   "execution_count": 10,
   "metadata": {},
   "outputs": [],
   "source": [
    "rates_df = check_rate_limit()"
   ]
  },
  {
   "cell_type": "code",
   "execution_count": 11,
   "metadata": {},
   "outputs": [],
   "source": [
    "core_repos_path = \"../data/derived_files/initial_core_repos.csv\"\n",
    "core_repos = pd.read_csv(core_repos_path)"
   ]
  },
  {
   "attachments": {},
   "cell_type": "markdown",
   "metadata": {},
   "source": [
    "### Get Missing Counts"
   ]
  },
  {
   "cell_type": "code",
   "execution_count": 12,
   "metadata": {},
   "outputs": [],
   "source": [
    "counts_fields = pd.read_csv('../data/metadata_files/repo_url_cols.csv')"
   ]
  },
  {
   "cell_type": "code",
   "execution_count": 13,
   "metadata": {},
   "outputs": [],
   "source": [
    "counts_fields.loc[counts_fields.url_type == 'review_comments_url', 'count_type'] = 'review_count'"
   ]
  },
  {
   "cell_type": "code",
   "execution_count": 14,
   "metadata": {},
   "outputs": [],
   "source": [
    "def get_counts(repo_df, url_type, count_type, overwrite_existing_temp_files = False):\n",
    "    if count_type in repo_df.columns:\n",
    "        needs_counts = repo_df[repo_df[count_type].isna()]\n",
    "        has_counts = repo_df[repo_df[count_type].notna()]\n",
    "    else:\n",
    "        needs_counts = repo_df\n",
    "        has_counts = pd.DataFrame()\n",
    "        \n",
    "    if len(has_counts) == len(repo_df):\n",
    "        repo_df = has_counts\n",
    "    else:\n",
    "        needs_counts = check_total_results(needs_counts, url_type, overwrite_existing_temp_files)\n",
    "        repo_df = pd.concat([needs_counts, has_counts])\n",
    "    return repo_df\n"
   ]
  },
  {
   "cell_type": "code",
   "execution_count": 15,
   "metadata": {},
   "outputs": [],
   "source": [
    "from IPython.display import clear_output\n"
   ]
  },
  {
   "cell_type": "code",
   "execution_count": 16,
   "metadata": {},
   "outputs": [],
   "source": [
    "skip_types = ['review_comments_url', 'commits_url', 'collaborators_url']\n",
    "overwrite_existing_temp_files = True\n",
    "for index, row in counts_fields.iterrows():\n",
    "    if (row.url_type not in skip_types):\n",
    "        count_type = row.url_type.split(\"_\")[0] + \"_count\"\n",
    "        print(f\"Getting {count_type} for {row['url_type']}\")\n",
    "        core_repos = get_counts(core_repos, row['url_type'], count_type, overwrite_existing_temp_files)\n",
    "        row['count_type'] = count_type\n",
    "        clear_output(wait=True)\n"
   ]
  },
  {
   "cell_type": "code",
   "execution_count": 17,
   "metadata": {},
   "outputs": [],
   "source": [
    "core_repos.to_csv(core_repos_path, index=False)"
   ]
  },
  {
   "cell_type": "code",
   "execution_count": 15,
   "metadata": {},
   "outputs": [],
   "source": [
    "# counts_fields.to_csv('../data/metadata_files/repo_url_cols.csv', index=False)"
   ]
  },
  {
   "attachments": {},
   "cell_type": "markdown",
   "metadata": {},
   "source": [
    "### Get Repo Contributors"
   ]
  },
  {
   "cell_type": "code",
   "execution_count": 50,
   "metadata": {},
   "outputs": [],
   "source": [
    "get_url_field = 'contributors_url'\n",
    "load_existing_files = True\n",
    "overwrite_existing_temp_files = False\n",
    "join_unique_field = 'repo_full_name'\n",
    "filter_fields = ['repo_full_name', 'login']\n",
    "contributors_df, users_df = get_repos_user_actors(core_repos, '../data/join_files/repo_contributors_join_dataset.csv', '../data/entity_files/users_dataset.csv', get_url_field, load_existing_files, overwrite_existing_temp_files, join_unique_field, filter_fields)\n",
    "contributors_errors_df = check_return_error_file('../data/error_logs/repo_contributors_join_dataset_errors.csv')"
   ]
  },
  {
   "cell_type": "code",
   "execution_count": 16,
   "metadata": {},
   "outputs": [
    {
     "name": "stdout",
     "output_type": "stream",
     "text": [
      "From 2326 repos, we found 4983 contributors, of which 3645 are unique. There were 6 errors in getting contributors (likely user accounts that no longer exist).\n"
     ]
    }
   ],
   "source": [
    "print(f\"From {len(core_repos)} repos, we found {len(contributors_df)} contributors, of which {len(users_df[users_df.login.isin(contributors_df.login)])} are unique. There were {len(contributors_errors_df)} errors in getting contributors (likely user accounts that no longer exist).\")"
   ]
  },
  {
   "attachments": {},
   "cell_type": "markdown",
   "metadata": {},
   "source": [
    "### Get Repo Starrers"
   ]
  },
  {
   "cell_type": "code",
   "execution_count": 36,
   "metadata": {},
   "outputs": [],
   "source": [
    "get_url_field = 'stargazers_url'\n",
    "load_existing_files = True\n",
    "overwrite_existing_temp_files = False\n",
    "join_unique = 'repo_query'\n",
    "filter_fields = ['repo_full_name', 'user.login']\n",
    "stargazers_df, users_df = get_repos_user_actors(core_repos, '../data/join_files/repo_stargazers_join_dataset.csv', '../data/entity_files/users_dataset.csv', get_url_field, load_existing_files, overwrite_existing_temp_files)\n",
    "stargazers_errors_df = check_return_error_file('../data/error_logs/repo_stargazers_join_dataset_errors.csv')"
   ]
  },
  {
   "cell_type": "code",
   "execution_count": 38,
   "metadata": {},
   "outputs": [],
   "source": [
    "stargazers_df = stargazers_df[stargazers_df.repo_full_name.isin(core_repos.full_name)]"
   ]
  },
  {
   "cell_type": "code",
   "execution_count": 19,
   "metadata": {},
   "outputs": [
    {
     "name": "stdout",
     "output_type": "stream",
     "text": [
      "From 2326 repos, we found 30351 stars, which were created by 3401 unique users on 832 unique repos. There were 2 errors in getting stargazers (likely user accounts that no longer exist).\n"
     ]
    }
   ],
   "source": [
    "print(f\"From {len(core_repos)} repos, we found {len(stargazers_df)} stars, which were created by {len(users_df[users_df.login.isin(stargazers_df['user.login'])])} unique users on {stargazers_df.repo_full_name.nunique()} unique repos. There were {len(stargazers_errors_df)} errors in getting stargazers (likely user accounts that no longer exist).\")"
   ]
  },
  {
   "attachments": {},
   "cell_type": "markdown",
   "metadata": {},
   "source": [
    "### Get Repo Subscribers"
   ]
  },
  {
   "cell_type": "code",
   "execution_count": 20,
   "metadata": {},
   "outputs": [],
   "source": [
    "get_url_field = 'subscribers_url'\n",
    "load_existing_files = True\n",
    "overwrite_existing_temp_files = False\n",
    "subscribers_df, users_df = get_repos_user_actors(core_repos, '../data/join_files/repo_subscribers_join_dataset.csv', '../data/entity_files/users_dataset.csv', get_url_field, load_existing_files, overwrite_existing_temp_files)\n",
    "subscribers_errors_df = check_return_error_file('../data/error_logs/repo_subscribers_join_dataset_errors.csv')"
   ]
  },
  {
   "cell_type": "code",
   "execution_count": 21,
   "metadata": {},
   "outputs": [],
   "source": [
    "subscribers_df = subscribers_df[subscribers_df.repo_full_name.isin(core_repos.full_name)]"
   ]
  },
  {
   "cell_type": "code",
   "execution_count": 22,
   "metadata": {},
   "outputs": [
    {
     "name": "stdout",
     "output_type": "stream",
     "text": [
      "From 2326 repos, we found 5559 subscribers, of which 3633 are unique. There were 11 errors in getting subscribers (likely user accounts that no longer exist).\n"
     ]
    }
   ],
   "source": [
    "print(f\"From {len(core_repos)} repos, we found {len(subscribers_df)} subscribers, of which {len(users_df[users_df.login.isin(subscribers_df.login)])} are unique. There were {len(subscribers_errors_df)} errors in getting subscribers (likely user accounts that no longer exist).\")"
   ]
  },
  {
   "attachments": {},
   "cell_type": "markdown",
   "metadata": {},
   "source": [
    "#### Cannot get repo collaborators\n",
    "\n",
    "Need Push Access"
   ]
  },
  {
   "cell_type": "code",
   "execution_count": 23,
   "metadata": {},
   "outputs": [],
   "source": [
    "# get_url_field = 'collaborators_url'\n",
    "# load_existing_data = False\n",
    "# is_stargazers = False\n",
    "# collaborators_df, users_df = get_repos_user_actors(repo_df, '../data/repo_collaborators_join_dataset.csv', '../data/users_dataset.csv', rates_df, get_url_field, load_existing_data, is_stargazers)\n",
    "# collaborators_errors_df = check_return_error_file('../data/error_logs/repo_collaborators_join_dataset_errors.csv')"
   ]
  },
  {
   "attachments": {},
   "cell_type": "markdown",
   "metadata": {},
   "source": [
    "### Get Repo Forks"
   ]
  },
  {
   "cell_type": "code",
   "execution_count": 45,
   "metadata": {},
   "outputs": [],
   "source": [
    "get_url_field = 'forks_url'\n",
    "load_existing_files = True\n",
    "overwrite_existing_temp_files = False\n",
    "join_unique_field = 'repo_full_name'\n",
    "filter_fields = ['repo_full_name', 'full_name']\n",
    "forks_df, users_df = get_repos_user_actors(core_repos, '../data/large_files/join_files/repo_forks_join_dataset.csv', '../data/entity_files/users_dataset.csv', get_url_field, load_existing_files, overwrite_existing_temp_files, join_unique_field, filter_fields)\n",
    "forks_errors_df = check_return_error_file('../data/error_logs/repo_forks_join_dataset_errors.csv')"
   ]
  },
  {
   "cell_type": "code",
   "execution_count": 25,
   "metadata": {},
   "outputs": [],
   "source": [
    "forks_df = forks_df[forks_df.repo_full_name.isin(core_repos.full_name)]"
   ]
  },
  {
   "cell_type": "code",
   "execution_count": 26,
   "metadata": {},
   "outputs": [
    {
     "name": "stdout",
     "output_type": "stream",
     "text": [
      "From 2326 repos, we found 6897 forks, of which 1920 are unique. There were 1 errors in getting forks (likely user accounts that no longer exist).\n"
     ]
    }
   ],
   "source": [
    "print(f\"From {len(core_repos)} repos, we found {len(forks_df)} forks, of which {len(users_df[users_df.login.isin(forks_df['owner.login'])])} are unique. There were {len(forks_errors_df)} errors in getting forks (likely user accounts that no longer exist).\")"
   ]
  },
  {
   "attachments": {},
   "cell_type": "markdown",
   "metadata": {},
   "source": [
    "### Get Repo Issues"
   ]
  },
  {
   "cell_type": "code",
   "execution_count": 27,
   "metadata": {},
   "outputs": [],
   "source": [
    "get_url_field = 'issues_url'\n",
    "load_existing_files = True\n",
    "overwrite_existing_temp_files = False\n",
    "issues_df, users_df = get_repos_user_actors(core_repos, '../data/large_files/join_files/repo_issues_join_dataset.csv', '../data/entity_files/users_dataset.csv', get_url_field, load_existing_files, overwrite_existing_temp_files)\n",
    "issues_errors_df = check_return_error_file('../data/error_logs/repo_issues_join_dataset_errors.csv')"
   ]
  },
  {
   "cell_type": "code",
   "execution_count": 28,
   "metadata": {},
   "outputs": [],
   "source": [
    "issues_df = issues_df[issues_df.repo_full_name.isin(core_repos.full_name)]"
   ]
  },
  {
   "cell_type": "code",
   "execution_count": 29,
   "metadata": {},
   "outputs": [
    {
     "name": "stdout",
     "output_type": "stream",
     "text": [
      "From 2326 repos, we found 33449 issues, which come from 624 unique repos and were created by 1437 unique users. There were 1 errors in getting issues (likely repos that have no issues longer exist).\n"
     ]
    }
   ],
   "source": [
    "print(f\"From {len(core_repos)} repos, we found {len(issues_df)} issues, which come from {len(issues_df.repository_url.unique())} unique repos and were created by {len(users_df[users_df.login.isin(issues_df['user.login'])])} unique users. There were {len(issues_errors_df)} errors in getting issues (likely repos that have no issues longer exist).\")"
   ]
  },
  {
   "attachments": {},
   "cell_type": "markdown",
   "metadata": {},
   "source": [
    "#### Get Repo Issue Comments"
   ]
  },
  {
   "cell_type": "code",
   "execution_count": 30,
   "metadata": {},
   "outputs": [],
   "source": [
    "get_url_field = 'comments_url'\n",
    "load_existing_files = True\n",
    "overwrite_existing_temp_files = False\n",
    "issues_comments_df, users_df = get_repos_user_actors(core_repos, '../data/large_files/join_files/issues_comments_join_dataset.csv', '../data/entity_files/users_dataset.csv', get_url_field, load_existing_files, overwrite_existing_temp_files)\n",
    "issues_comments_errors_df = check_return_error_file('../data/error_logs/issues_comments_join_dataset_errors.csv')"
   ]
  },
  {
   "cell_type": "code",
   "execution_count": 31,
   "metadata": {},
   "outputs": [],
   "source": [
    "issues_comments_df = issues_comments_df[issues_comments_df.repo_full_name.isin(core_repos.full_name)]"
   ]
  },
  {
   "cell_type": "code",
   "execution_count": 32,
   "metadata": {},
   "outputs": [
    {
     "name": "stdout",
     "output_type": "stream",
     "text": [
      "From 33449 repos with issues, we found 49800 comments, which come from 624 unique repos and were created by 1166 unique users. There were 2329 errors in getting issues comments (likely issues comments longer that no longer exist).\n"
     ]
    }
   ],
   "source": [
    "print(f\"From {len(issues_df)} repos with issues, we found {len(issues_comments_df)} comments, which come from {len(issues_df.repository_url.unique())} unique repos and were created by {len(users_df[users_df.login.isin(issues_comments_df['user.login'])])} unique users. There were {len(issues_comments_errors_df)} errors in getting issues comments (likely issues comments longer that no longer exist).\")"
   ]
  },
  {
   "attachments": {},
   "cell_type": "markdown",
   "metadata": {},
   "source": [
    "### Get Repo Pull Requests"
   ]
  },
  {
   "cell_type": "code",
   "execution_count": 33,
   "metadata": {},
   "outputs": [],
   "source": [
    "get_url_field = 'pulls_url'\n",
    "load_existing_files = True\n",
    "overwrite_existing_temp_files = False\n",
    "pulls_df, users_df = get_repos_user_actors(core_repos, '../data/large_files/join_files/repo_pulls_join_dataset.csv', '../data/entity_files/users_dataset.csv', get_url_field, load_existing_files, overwrite_existing_temp_files)\n",
    "pulls_errors_df = check_return_error_file('../data/error_logs/repo_pulls_join_dataset_errors.csv')"
   ]
  },
  {
   "cell_type": "code",
   "execution_count": 34,
   "metadata": {},
   "outputs": [],
   "source": [
    "pulls_df = pulls_df[pulls_df.repo_full_name.isin(core_repos.full_name)]"
   ]
  },
  {
   "cell_type": "code",
   "execution_count": 35,
   "metadata": {},
   "outputs": [
    {
     "name": "stdout",
     "output_type": "stream",
     "text": [
      "From 2326 repos, we found 14263 pulls, which come from 467 unique repos and were created by 896 unique users. There were 0 errors in getting pulls (likely repos that have no pulls longer exist).\n"
     ]
    }
   ],
   "source": [
    "print(f\"From {len(core_repos)} repos, we found {len(pulls_df)} pulls, which come from {len(pulls_df.repo_id.unique())} unique repos and were created by {len(users_df[users_df.login.isin(pulls_df['user.login'])])} unique users. There were {len(pulls_errors_df)} errors in getting pulls (likely repos that have no pulls longer exist).\")"
   ]
  },
  {
   "attachments": {},
   "cell_type": "markdown",
   "metadata": {},
   "source": [
    "#### Get Repo Pull Request Comments"
   ]
  },
  {
   "cell_type": "code",
   "execution_count": 36,
   "metadata": {},
   "outputs": [
    {
     "data": {
      "text/plain": [
       "13199"
      ]
     },
     "execution_count": 36,
     "metadata": {},
     "output_type": "execute_result"
    }
   ],
   "source": [
    "df = pd.read_csv(\"../data/temp/review_counts.csv\")\n",
    "len(df)"
   ]
  },
  {
   "cell_type": "code",
   "execution_count": 37,
   "metadata": {},
   "outputs": [],
   "source": [
    "if len(pulls_df[~pulls_df.repo_full_name.isin(df.repo_full_name.unique())]) > 0:\n",
    "    url_type = \"review_comments_url\"\n",
    "    count_type = \"review_comments_count\"\n",
    "    overwrite_existing_temp_files = False\n",
    "    pulls_df = get_counts(\n",
    "        pulls_df[~pulls_df.repo_full_name.isin(df.repo_full_name.unique())], url_type, count_type, overwrite_existing_temp_files)\n",
    "    clear_output(wait=True)\n"
   ]
  },
  {
   "cell_type": "code",
   "execution_count": 38,
   "metadata": {},
   "outputs": [],
   "source": [
    "updated_pulls_df = df.copy()"
   ]
  },
  {
   "cell_type": "code",
   "execution_count": 39,
   "metadata": {},
   "outputs": [],
   "source": [
    "updated_pulls_df.review_count = updated_pulls_df.review_count.fillna(0)\n",
    "updated_pulls_df.review_count = updated_pulls_df.review_count.astype(int)"
   ]
  },
  {
   "cell_type": "code",
   "execution_count": 40,
   "metadata": {},
   "outputs": [
    {
     "data": {
      "text/html": [
       "<div>\n",
       "<style scoped>\n",
       "    .dataframe tbody tr th:only-of-type {\n",
       "        vertical-align: middle;\n",
       "    }\n",
       "\n",
       "    .dataframe tbody tr th {\n",
       "        vertical-align: top;\n",
       "    }\n",
       "\n",
       "    .dataframe thead th {\n",
       "        text-align: right;\n",
       "    }\n",
       "</style>\n",
       "<table border=\"1\" class=\"dataframe\">\n",
       "  <thead>\n",
       "    <tr style=\"text-align: right;\">\n",
       "      <th></th>\n",
       "      <th>repo_full_name</th>\n",
       "      <th>id</th>\n",
       "      <th>review_count</th>\n",
       "    </tr>\n",
       "  </thead>\n",
       "  <tbody>\n",
       "    <tr>\n",
       "      <th>1040</th>\n",
       "      <td>ic-labs/django-icekit</td>\n",
       "      <td>86893913</td>\n",
       "      <td>88</td>\n",
       "    </tr>\n",
       "    <tr>\n",
       "      <th>796</th>\n",
       "      <td>evt-project/evt-viewer</td>\n",
       "      <td>266047588</td>\n",
       "      <td>85</td>\n",
       "    </tr>\n",
       "    <tr>\n",
       "      <th>3690</th>\n",
       "      <td>Edirom/Edirom-Online</td>\n",
       "      <td>566678096</td>\n",
       "      <td>61</td>\n",
       "    </tr>\n",
       "    <tr>\n",
       "      <th>1136</th>\n",
       "      <td>ambuda-org/ambuda</td>\n",
       "      <td>1063533193</td>\n",
       "      <td>61</td>\n",
       "    </tr>\n",
       "    <tr>\n",
       "      <th>6154</th>\n",
       "      <td>Princeton-CDH/geniza</td>\n",
       "      <td>836615052</td>\n",
       "      <td>60</td>\n",
       "    </tr>\n",
       "    <tr>\n",
       "      <th>6350</th>\n",
       "      <td>Princeton-CDH/geniza</td>\n",
       "      <td>610018752</td>\n",
       "      <td>56</td>\n",
       "    </tr>\n",
       "    <tr>\n",
       "      <th>6198</th>\n",
       "      <td>Princeton-CDH/geniza</td>\n",
       "      <td>813413691</td>\n",
       "      <td>47</td>\n",
       "    </tr>\n",
       "    <tr>\n",
       "      <th>2881</th>\n",
       "      <td>Hypertopic/Porphyry</td>\n",
       "      <td>422274540</td>\n",
       "      <td>44</td>\n",
       "    </tr>\n",
       "    <tr>\n",
       "      <th>473</th>\n",
       "      <td>archivesunleashed/aut</td>\n",
       "      <td>384998994</td>\n",
       "      <td>43</td>\n",
       "    </tr>\n",
       "    <tr>\n",
       "      <th>8626</th>\n",
       "      <td>Princeton-CDH/pemm-data</td>\n",
       "      <td>443090186</td>\n",
       "      <td>36</td>\n",
       "    </tr>\n",
       "  </tbody>\n",
       "</table>\n",
       "</div>"
      ],
      "text/plain": [
       "               repo_full_name          id  review_count\n",
       "1040    ic-labs/django-icekit    86893913            88\n",
       "796    evt-project/evt-viewer   266047588            85\n",
       "3690     Edirom/Edirom-Online   566678096            61\n",
       "1136        ambuda-org/ambuda  1063533193            61\n",
       "6154     Princeton-CDH/geniza   836615052            60\n",
       "6350     Princeton-CDH/geniza   610018752            56\n",
       "6198     Princeton-CDH/geniza   813413691            47\n",
       "2881      Hypertopic/Porphyry   422274540            44\n",
       "473     archivesunleashed/aut   384998994            43\n",
       "8626  Princeton-CDH/pemm-data   443090186            36"
      ]
     },
     "execution_count": 40,
     "metadata": {},
     "output_type": "execute_result"
    }
   ],
   "source": [
    "updated_pulls_df.sort_values(by=\"review_count\", ascending=False)[['repo_full_name', 'id', 'review_count']].head(10)"
   ]
  },
  {
   "cell_type": "code",
   "execution_count": 41,
   "metadata": {},
   "outputs": [],
   "source": [
    "import sys\n",
    "sys.path.append('..')\n",
    "from data_generation_scripts.utils import *"
   ]
  },
  {
   "cell_type": "code",
   "execution_count": 42,
   "metadata": {},
   "outputs": [],
   "source": [
    "df2 = pd.read_csv(\n",
    "    '../data/large_files/join_files/pulls_comments_join_dataset.csv')\n"
   ]
  },
  {
   "cell_type": "code",
   "execution_count": 44,
   "metadata": {},
   "outputs": [
    {
     "data": {
      "text/html": [
       "<div>\n",
       "<style scoped>\n",
       "    .dataframe tbody tr th:only-of-type {\n",
       "        vertical-align: middle;\n",
       "    }\n",
       "\n",
       "    .dataframe tbody tr th {\n",
       "        vertical-align: top;\n",
       "    }\n",
       "\n",
       "    .dataframe thead th {\n",
       "        text-align: right;\n",
       "    }\n",
       "</style>\n",
       "<table border=\"1\" class=\"dataframe\">\n",
       "  <thead>\n",
       "    <tr style=\"text-align: right;\">\n",
       "      <th></th>\n",
       "      <th>url</th>\n",
       "      <th>id</th>\n",
       "      <th>node_id</th>\n",
       "      <th>html_url</th>\n",
       "      <th>diff_url</th>\n",
       "      <th>patch_url</th>\n",
       "      <th>issue_url</th>\n",
       "      <th>number</th>\n",
       "      <th>state</th>\n",
       "      <th>locked</th>\n",
       "      <th>...</th>\n",
       "      <th>milestone.closed_issues</th>\n",
       "      <th>milestone.state</th>\n",
       "      <th>milestone.created_at</th>\n",
       "      <th>milestone.updated_at</th>\n",
       "      <th>milestone.due_on</th>\n",
       "      <th>milestone.closed_at</th>\n",
       "      <th>repo_query_time</th>\n",
       "      <th>head.repo.has_discussions</th>\n",
       "      <th>base.repo.has_discussions</th>\n",
       "      <th>review_count</th>\n",
       "    </tr>\n",
       "  </thead>\n",
       "  <tbody>\n",
       "    <tr>\n",
       "      <th>266</th>\n",
       "      <td>https://api.github.com/repos/dbamman/book-nlp/...</td>\n",
       "      <td>116231638</td>\n",
       "      <td>MDExOlB1bGxSZXF1ZXN0MTE2MjMxNjM4</td>\n",
       "      <td>https://github.com/dbamman/book-nlp/pull/5</td>\n",
       "      <td>https://github.com/dbamman/book-nlp/pull/5.diff</td>\n",
       "      <td>https://github.com/dbamman/book-nlp/pull/5.patch</td>\n",
       "      <td>https://api.github.com/repos/dbamman/book-nlp/...</td>\n",
       "      <td>5</td>\n",
       "      <td>open</td>\n",
       "      <td>False</td>\n",
       "      <td>...</td>\n",
       "      <td>NaN</td>\n",
       "      <td>NaN</td>\n",
       "      <td>NaN</td>\n",
       "      <td>NaN</td>\n",
       "      <td>NaN</td>\n",
       "      <td>NaN</td>\n",
       "      <td>2022-12-19</td>\n",
       "      <td>NaN</td>\n",
       "      <td>NaN</td>\n",
       "      <td>0</td>\n",
       "    </tr>\n",
       "    <tr>\n",
       "      <th>267</th>\n",
       "      <td>https://api.github.com/repos/dbamman/book-nlp/...</td>\n",
       "      <td>76401739</td>\n",
       "      <td>MDExOlB1bGxSZXF1ZXN0NzY0MDE3Mzk=</td>\n",
       "      <td>https://github.com/dbamman/book-nlp/pull/3</td>\n",
       "      <td>https://github.com/dbamman/book-nlp/pull/3.diff</td>\n",
       "      <td>https://github.com/dbamman/book-nlp/pull/3.patch</td>\n",
       "      <td>https://api.github.com/repos/dbamman/book-nlp/...</td>\n",
       "      <td>3</td>\n",
       "      <td>open</td>\n",
       "      <td>False</td>\n",
       "      <td>...</td>\n",
       "      <td>NaN</td>\n",
       "      <td>NaN</td>\n",
       "      <td>NaN</td>\n",
       "      <td>NaN</td>\n",
       "      <td>NaN</td>\n",
       "      <td>NaN</td>\n",
       "      <td>2022-12-19</td>\n",
       "      <td>NaN</td>\n",
       "      <td>NaN</td>\n",
       "      <td>0</td>\n",
       "    </tr>\n",
       "    <tr>\n",
       "      <th>268</th>\n",
       "      <td>https://api.github.com/repos/dbamman/book-nlp/...</td>\n",
       "      <td>70727860</td>\n",
       "      <td>MDExOlB1bGxSZXF1ZXN0NzA3Mjc4NjA=</td>\n",
       "      <td>https://github.com/dbamman/book-nlp/pull/1</td>\n",
       "      <td>https://github.com/dbamman/book-nlp/pull/1.diff</td>\n",
       "      <td>https://github.com/dbamman/book-nlp/pull/1.patch</td>\n",
       "      <td>https://api.github.com/repos/dbamman/book-nlp/...</td>\n",
       "      <td>1</td>\n",
       "      <td>open</td>\n",
       "      <td>False</td>\n",
       "      <td>...</td>\n",
       "      <td>NaN</td>\n",
       "      <td>NaN</td>\n",
       "      <td>NaN</td>\n",
       "      <td>NaN</td>\n",
       "      <td>NaN</td>\n",
       "      <td>NaN</td>\n",
       "      <td>2022-12-19</td>\n",
       "      <td>NaN</td>\n",
       "      <td>NaN</td>\n",
       "      <td>0</td>\n",
       "    </tr>\n",
       "    <tr>\n",
       "      <th>269</th>\n",
       "      <td>https://api.github.com/repos/ryanjgallagher/sh...</td>\n",
       "      <td>1095308648</td>\n",
       "      <td>PR_kwDOB_aIKs5BSRVo</td>\n",
       "      <td>https://github.com/ryanjgallagher/shifterator/...</td>\n",
       "      <td>https://github.com/ryanjgallagher/shifterator/...</td>\n",
       "      <td>https://github.com/ryanjgallagher/shifterator/...</td>\n",
       "      <td>https://api.github.com/repos/ryanjgallagher/sh...</td>\n",
       "      <td>37</td>\n",
       "      <td>open</td>\n",
       "      <td>False</td>\n",
       "      <td>...</td>\n",
       "      <td>NaN</td>\n",
       "      <td>NaN</td>\n",
       "      <td>NaN</td>\n",
       "      <td>NaN</td>\n",
       "      <td>NaN</td>\n",
       "      <td>NaN</td>\n",
       "      <td>2022-12-19</td>\n",
       "      <td>NaN</td>\n",
       "      <td>NaN</td>\n",
       "      <td>0</td>\n",
       "    </tr>\n",
       "    <tr>\n",
       "      <th>270</th>\n",
       "      <td>https://api.github.com/repos/ryanjgallagher/sh...</td>\n",
       "      <td>1017656437</td>\n",
       "      <td>PR_kwDOB_aIKs48qDR1</td>\n",
       "      <td>https://github.com/ryanjgallagher/shifterator/...</td>\n",
       "      <td>https://github.com/ryanjgallagher/shifterator/...</td>\n",
       "      <td>https://github.com/ryanjgallagher/shifterator/...</td>\n",
       "      <td>https://api.github.com/repos/ryanjgallagher/sh...</td>\n",
       "      <td>35</td>\n",
       "      <td>open</td>\n",
       "      <td>False</td>\n",
       "      <td>...</td>\n",
       "      <td>NaN</td>\n",
       "      <td>NaN</td>\n",
       "      <td>NaN</td>\n",
       "      <td>NaN</td>\n",
       "      <td>NaN</td>\n",
       "      <td>NaN</td>\n",
       "      <td>2022-12-19</td>\n",
       "      <td>NaN</td>\n",
       "      <td>NaN</td>\n",
       "      <td>0</td>\n",
       "    </tr>\n",
       "    <tr>\n",
       "      <th>...</th>\n",
       "      <td>...</td>\n",
       "      <td>...</td>\n",
       "      <td>...</td>\n",
       "      <td>...</td>\n",
       "      <td>...</td>\n",
       "      <td>...</td>\n",
       "      <td>...</td>\n",
       "      <td>...</td>\n",
       "      <td>...</td>\n",
       "      <td>...</td>\n",
       "      <td>...</td>\n",
       "      <td>...</td>\n",
       "      <td>...</td>\n",
       "      <td>...</td>\n",
       "      <td>...</td>\n",
       "      <td>...</td>\n",
       "      <td>...</td>\n",
       "      <td>...</td>\n",
       "      <td>...</td>\n",
       "      <td>...</td>\n",
       "      <td>...</td>\n",
       "    </tr>\n",
       "    <tr>\n",
       "      <th>13194</th>\n",
       "      <td>https://api.github.com/repos/gaoqiang1112/num2...</td>\n",
       "      <td>460781712</td>\n",
       "      <td>MDExOlB1bGxSZXF1ZXN0NDYwNzgxNzEy</td>\n",
       "      <td>https://github.com/gaoqiang1112/num2Capital/pu...</td>\n",
       "      <td>https://github.com/gaoqiang1112/num2Capital/pu...</td>\n",
       "      <td>https://github.com/gaoqiang1112/num2Capital/pu...</td>\n",
       "      <td>https://api.github.com/repos/gaoqiang1112/num2...</td>\n",
       "      <td>3</td>\n",
       "      <td>closed</td>\n",
       "      <td>False</td>\n",
       "      <td>...</td>\n",
       "      <td>NaN</td>\n",
       "      <td>NaN</td>\n",
       "      <td>NaN</td>\n",
       "      <td>NaN</td>\n",
       "      <td>NaN</td>\n",
       "      <td>NaN</td>\n",
       "      <td>2022-12-19</td>\n",
       "      <td>False</td>\n",
       "      <td>False</td>\n",
       "      <td>0</td>\n",
       "    </tr>\n",
       "    <tr>\n",
       "      <th>13195</th>\n",
       "      <td>https://api.github.com/repos/gaoqiang1112/num2...</td>\n",
       "      <td>452141578</td>\n",
       "      <td>MDExOlB1bGxSZXF1ZXN0NDUyMTQxNTc4</td>\n",
       "      <td>https://github.com/gaoqiang1112/num2Capital/pu...</td>\n",
       "      <td>https://github.com/gaoqiang1112/num2Capital/pu...</td>\n",
       "      <td>https://github.com/gaoqiang1112/num2Capital/pu...</td>\n",
       "      <td>https://api.github.com/repos/gaoqiang1112/num2...</td>\n",
       "      <td>2</td>\n",
       "      <td>closed</td>\n",
       "      <td>False</td>\n",
       "      <td>...</td>\n",
       "      <td>NaN</td>\n",
       "      <td>NaN</td>\n",
       "      <td>NaN</td>\n",
       "      <td>NaN</td>\n",
       "      <td>NaN</td>\n",
       "      <td>NaN</td>\n",
       "      <td>2022-12-19</td>\n",
       "      <td>False</td>\n",
       "      <td>False</td>\n",
       "      <td>0</td>\n",
       "    </tr>\n",
       "    <tr>\n",
       "      <th>13196</th>\n",
       "      <td>https://api.github.com/repos/gaoqiang1112/num2...</td>\n",
       "      <td>399041134</td>\n",
       "      <td>MDExOlB1bGxSZXF1ZXN0Mzk5MDQxMTM0</td>\n",
       "      <td>https://github.com/gaoqiang1112/num2Capital/pu...</td>\n",
       "      <td>https://github.com/gaoqiang1112/num2Capital/pu...</td>\n",
       "      <td>https://github.com/gaoqiang1112/num2Capital/pu...</td>\n",
       "      <td>https://api.github.com/repos/gaoqiang1112/num2...</td>\n",
       "      <td>1</td>\n",
       "      <td>open</td>\n",
       "      <td>False</td>\n",
       "      <td>...</td>\n",
       "      <td>NaN</td>\n",
       "      <td>NaN</td>\n",
       "      <td>NaN</td>\n",
       "      <td>NaN</td>\n",
       "      <td>NaN</td>\n",
       "      <td>NaN</td>\n",
       "      <td>2022-12-19</td>\n",
       "      <td>False</td>\n",
       "      <td>False</td>\n",
       "      <td>0</td>\n",
       "    </tr>\n",
       "    <tr>\n",
       "      <th>13197</th>\n",
       "      <td>https://api.github.com/repos/qyn123/springboot...</td>\n",
       "      <td>349786091</td>\n",
       "      <td>MDExOlB1bGxSZXF1ZXN0MzQ5Nzg2MDkx</td>\n",
       "      <td>https://github.com/qyn123/springbootplus/pull/2</td>\n",
       "      <td>https://github.com/qyn123/springbootplus/pull/...</td>\n",
       "      <td>https://github.com/qyn123/springbootplus/pull/...</td>\n",
       "      <td>https://api.github.com/repos/qyn123/springboot...</td>\n",
       "      <td>2</td>\n",
       "      <td>open</td>\n",
       "      <td>False</td>\n",
       "      <td>...</td>\n",
       "      <td>NaN</td>\n",
       "      <td>NaN</td>\n",
       "      <td>NaN</td>\n",
       "      <td>NaN</td>\n",
       "      <td>NaN</td>\n",
       "      <td>NaN</td>\n",
       "      <td>2022-12-19</td>\n",
       "      <td>False</td>\n",
       "      <td>False</td>\n",
       "      <td>0</td>\n",
       "    </tr>\n",
       "    <tr>\n",
       "      <th>13198</th>\n",
       "      <td>https://api.github.com/repos/qyn123/springboot...</td>\n",
       "      <td>349785464</td>\n",
       "      <td>MDExOlB1bGxSZXF1ZXN0MzQ5Nzg1NDY0</td>\n",
       "      <td>https://github.com/qyn123/springbootplus/pull/1</td>\n",
       "      <td>https://github.com/qyn123/springbootplus/pull/...</td>\n",
       "      <td>https://github.com/qyn123/springbootplus/pull/...</td>\n",
       "      <td>https://api.github.com/repos/qyn123/springboot...</td>\n",
       "      <td>1</td>\n",
       "      <td>open</td>\n",
       "      <td>False</td>\n",
       "      <td>...</td>\n",
       "      <td>NaN</td>\n",
       "      <td>NaN</td>\n",
       "      <td>NaN</td>\n",
       "      <td>NaN</td>\n",
       "      <td>NaN</td>\n",
       "      <td>NaN</td>\n",
       "      <td>2022-12-19</td>\n",
       "      <td>False</td>\n",
       "      <td>False</td>\n",
       "      <td>0</td>\n",
       "    </tr>\n",
       "  </tbody>\n",
       "</table>\n",
       "<p>12695 rows × 363 columns</p>\n",
       "</div>"
      ],
      "text/plain": [
       "                                                     url          id  \\\n",
       "266    https://api.github.com/repos/dbamman/book-nlp/...   116231638   \n",
       "267    https://api.github.com/repos/dbamman/book-nlp/...    76401739   \n",
       "268    https://api.github.com/repos/dbamman/book-nlp/...    70727860   \n",
       "269    https://api.github.com/repos/ryanjgallagher/sh...  1095308648   \n",
       "270    https://api.github.com/repos/ryanjgallagher/sh...  1017656437   \n",
       "...                                                  ...         ...   \n",
       "13194  https://api.github.com/repos/gaoqiang1112/num2...   460781712   \n",
       "13195  https://api.github.com/repos/gaoqiang1112/num2...   452141578   \n",
       "13196  https://api.github.com/repos/gaoqiang1112/num2...   399041134   \n",
       "13197  https://api.github.com/repos/qyn123/springboot...   349786091   \n",
       "13198  https://api.github.com/repos/qyn123/springboot...   349785464   \n",
       "\n",
       "                                node_id  \\\n",
       "266    MDExOlB1bGxSZXF1ZXN0MTE2MjMxNjM4   \n",
       "267    MDExOlB1bGxSZXF1ZXN0NzY0MDE3Mzk=   \n",
       "268    MDExOlB1bGxSZXF1ZXN0NzA3Mjc4NjA=   \n",
       "269                 PR_kwDOB_aIKs5BSRVo   \n",
       "270                 PR_kwDOB_aIKs48qDR1   \n",
       "...                                 ...   \n",
       "13194  MDExOlB1bGxSZXF1ZXN0NDYwNzgxNzEy   \n",
       "13195  MDExOlB1bGxSZXF1ZXN0NDUyMTQxNTc4   \n",
       "13196  MDExOlB1bGxSZXF1ZXN0Mzk5MDQxMTM0   \n",
       "13197  MDExOlB1bGxSZXF1ZXN0MzQ5Nzg2MDkx   \n",
       "13198  MDExOlB1bGxSZXF1ZXN0MzQ5Nzg1NDY0   \n",
       "\n",
       "                                                html_url  \\\n",
       "266           https://github.com/dbamman/book-nlp/pull/5   \n",
       "267           https://github.com/dbamman/book-nlp/pull/3   \n",
       "268           https://github.com/dbamman/book-nlp/pull/1   \n",
       "269    https://github.com/ryanjgallagher/shifterator/...   \n",
       "270    https://github.com/ryanjgallagher/shifterator/...   \n",
       "...                                                  ...   \n",
       "13194  https://github.com/gaoqiang1112/num2Capital/pu...   \n",
       "13195  https://github.com/gaoqiang1112/num2Capital/pu...   \n",
       "13196  https://github.com/gaoqiang1112/num2Capital/pu...   \n",
       "13197    https://github.com/qyn123/springbootplus/pull/2   \n",
       "13198    https://github.com/qyn123/springbootplus/pull/1   \n",
       "\n",
       "                                                diff_url  \\\n",
       "266      https://github.com/dbamman/book-nlp/pull/5.diff   \n",
       "267      https://github.com/dbamman/book-nlp/pull/3.diff   \n",
       "268      https://github.com/dbamman/book-nlp/pull/1.diff   \n",
       "269    https://github.com/ryanjgallagher/shifterator/...   \n",
       "270    https://github.com/ryanjgallagher/shifterator/...   \n",
       "...                                                  ...   \n",
       "13194  https://github.com/gaoqiang1112/num2Capital/pu...   \n",
       "13195  https://github.com/gaoqiang1112/num2Capital/pu...   \n",
       "13196  https://github.com/gaoqiang1112/num2Capital/pu...   \n",
       "13197  https://github.com/qyn123/springbootplus/pull/...   \n",
       "13198  https://github.com/qyn123/springbootplus/pull/...   \n",
       "\n",
       "                                               patch_url  \\\n",
       "266     https://github.com/dbamman/book-nlp/pull/5.patch   \n",
       "267     https://github.com/dbamman/book-nlp/pull/3.patch   \n",
       "268     https://github.com/dbamman/book-nlp/pull/1.patch   \n",
       "269    https://github.com/ryanjgallagher/shifterator/...   \n",
       "270    https://github.com/ryanjgallagher/shifterator/...   \n",
       "...                                                  ...   \n",
       "13194  https://github.com/gaoqiang1112/num2Capital/pu...   \n",
       "13195  https://github.com/gaoqiang1112/num2Capital/pu...   \n",
       "13196  https://github.com/gaoqiang1112/num2Capital/pu...   \n",
       "13197  https://github.com/qyn123/springbootplus/pull/...   \n",
       "13198  https://github.com/qyn123/springbootplus/pull/...   \n",
       "\n",
       "                                               issue_url  number   state  \\\n",
       "266    https://api.github.com/repos/dbamman/book-nlp/...       5    open   \n",
       "267    https://api.github.com/repos/dbamman/book-nlp/...       3    open   \n",
       "268    https://api.github.com/repos/dbamman/book-nlp/...       1    open   \n",
       "269    https://api.github.com/repos/ryanjgallagher/sh...      37    open   \n",
       "270    https://api.github.com/repos/ryanjgallagher/sh...      35    open   \n",
       "...                                                  ...     ...     ...   \n",
       "13194  https://api.github.com/repos/gaoqiang1112/num2...       3  closed   \n",
       "13195  https://api.github.com/repos/gaoqiang1112/num2...       2  closed   \n",
       "13196  https://api.github.com/repos/gaoqiang1112/num2...       1    open   \n",
       "13197  https://api.github.com/repos/qyn123/springboot...       2    open   \n",
       "13198  https://api.github.com/repos/qyn123/springboot...       1    open   \n",
       "\n",
       "       locked  ... milestone.closed_issues milestone.state  \\\n",
       "266     False  ...                     NaN             NaN   \n",
       "267     False  ...                     NaN             NaN   \n",
       "268     False  ...                     NaN             NaN   \n",
       "269     False  ...                     NaN             NaN   \n",
       "270     False  ...                     NaN             NaN   \n",
       "...       ...  ...                     ...             ...   \n",
       "13194   False  ...                     NaN             NaN   \n",
       "13195   False  ...                     NaN             NaN   \n",
       "13196   False  ...                     NaN             NaN   \n",
       "13197   False  ...                     NaN             NaN   \n",
       "13198   False  ...                     NaN             NaN   \n",
       "\n",
       "      milestone.created_at milestone.updated_at milestone.due_on  \\\n",
       "266                    NaN                  NaN              NaN   \n",
       "267                    NaN                  NaN              NaN   \n",
       "268                    NaN                  NaN              NaN   \n",
       "269                    NaN                  NaN              NaN   \n",
       "270                    NaN                  NaN              NaN   \n",
       "...                    ...                  ...              ...   \n",
       "13194                  NaN                  NaN              NaN   \n",
       "13195                  NaN                  NaN              NaN   \n",
       "13196                  NaN                  NaN              NaN   \n",
       "13197                  NaN                  NaN              NaN   \n",
       "13198                  NaN                  NaN              NaN   \n",
       "\n",
       "      milestone.closed_at repo_query_time  head.repo.has_discussions  \\\n",
       "266                   NaN      2022-12-19                        NaN   \n",
       "267                   NaN      2022-12-19                        NaN   \n",
       "268                   NaN      2022-12-19                        NaN   \n",
       "269                   NaN      2022-12-19                        NaN   \n",
       "270                   NaN      2022-12-19                        NaN   \n",
       "...                   ...             ...                        ...   \n",
       "13194                 NaN      2022-12-19                      False   \n",
       "13195                 NaN      2022-12-19                      False   \n",
       "13196                 NaN      2022-12-19                      False   \n",
       "13197                 NaN      2022-12-19                      False   \n",
       "13198                 NaN      2022-12-19                      False   \n",
       "\n",
       "      base.repo.has_discussions review_count  \n",
       "266                         NaN            0  \n",
       "267                         NaN            0  \n",
       "268                         NaN            0  \n",
       "269                         NaN            0  \n",
       "270                         NaN            0  \n",
       "...                         ...          ...  \n",
       "13194                     False            0  \n",
       "13195                     False            0  \n",
       "13196                     False            0  \n",
       "13197                     False            0  \n",
       "13198                     False            0  \n",
       "\n",
       "[12695 rows x 363 columns]"
      ]
     },
     "execution_count": 44,
     "metadata": {},
     "output_type": "execute_result"
    }
   ],
   "source": [
    "updated_pulls_df[~updated_pulls_df.repo_full_name.isin(df2.repo_full_name.unique())]\n"
   ]
  },
  {
   "cell_type": "code",
   "execution_count": 46,
   "metadata": {},
   "outputs": [
    {
     "data": {
      "text/html": [
       "<div>\n",
       "<style scoped>\n",
       "    .dataframe tbody tr th:only-of-type {\n",
       "        vertical-align: middle;\n",
       "    }\n",
       "\n",
       "    .dataframe tbody tr th {\n",
       "        vertical-align: top;\n",
       "    }\n",
       "\n",
       "    .dataframe thead th {\n",
       "        text-align: right;\n",
       "    }\n",
       "</style>\n",
       "<table border=\"1\" class=\"dataframe\">\n",
       "  <thead>\n",
       "    <tr style=\"text-align: right;\">\n",
       "      <th></th>\n",
       "      <th>url</th>\n",
       "      <th>id</th>\n",
       "      <th>node_id</th>\n",
       "      <th>html_url</th>\n",
       "      <th>diff_url</th>\n",
       "      <th>patch_url</th>\n",
       "      <th>issue_url</th>\n",
       "      <th>number</th>\n",
       "      <th>state</th>\n",
       "      <th>locked</th>\n",
       "      <th>...</th>\n",
       "      <th>milestone.closed_issues</th>\n",
       "      <th>milestone.state</th>\n",
       "      <th>milestone.created_at</th>\n",
       "      <th>milestone.updated_at</th>\n",
       "      <th>milestone.due_on</th>\n",
       "      <th>milestone.closed_at</th>\n",
       "      <th>repo_query_time</th>\n",
       "      <th>head.repo.has_discussions</th>\n",
       "      <th>base.repo.has_discussions</th>\n",
       "      <th>review_count</th>\n",
       "    </tr>\n",
       "  </thead>\n",
       "  <tbody>\n",
       "    <tr>\n",
       "      <th>68</th>\n",
       "      <td>https://api.github.com/repos/programminghistor...</td>\n",
       "      <td>1103980856</td>\n",
       "      <td>PR_kwDOAMHoHc5BzWk4</td>\n",
       "      <td>https://github.com/programminghistorian/jekyll...</td>\n",
       "      <td>https://github.com/programminghistorian/jekyll...</td>\n",
       "      <td>https://github.com/programminghistorian/jekyll...</td>\n",
       "      <td>https://api.github.com/repos/programminghistor...</td>\n",
       "      <td>2722</td>\n",
       "      <td>open</td>\n",
       "      <td>False</td>\n",
       "      <td>...</td>\n",
       "      <td>NaN</td>\n",
       "      <td>NaN</td>\n",
       "      <td>NaN</td>\n",
       "      <td>NaN</td>\n",
       "      <td>NaN</td>\n",
       "      <td>NaN</td>\n",
       "      <td>2022-12-19</td>\n",
       "      <td>NaN</td>\n",
       "      <td>NaN</td>\n",
       "      <td>4</td>\n",
       "    </tr>\n",
       "    <tr>\n",
       "      <th>69</th>\n",
       "      <td>https://api.github.com/repos/programminghistor...</td>\n",
       "      <td>1101880549</td>\n",
       "      <td>PR_kwDOAMHoHc5BrVzl</td>\n",
       "      <td>https://github.com/programminghistorian/jekyll...</td>\n",
       "      <td>https://github.com/programminghistorian/jekyll...</td>\n",
       "      <td>https://github.com/programminghistorian/jekyll...</td>\n",
       "      <td>https://api.github.com/repos/programminghistor...</td>\n",
       "      <td>2720</td>\n",
       "      <td>closed</td>\n",
       "      <td>False</td>\n",
       "      <td>...</td>\n",
       "      <td>NaN</td>\n",
       "      <td>NaN</td>\n",
       "      <td>NaN</td>\n",
       "      <td>NaN</td>\n",
       "      <td>NaN</td>\n",
       "      <td>NaN</td>\n",
       "      <td>2022-12-19</td>\n",
       "      <td>NaN</td>\n",
       "      <td>NaN</td>\n",
       "      <td>2</td>\n",
       "    </tr>\n",
       "    <tr>\n",
       "      <th>76</th>\n",
       "      <td>https://api.github.com/repos/programminghistor...</td>\n",
       "      <td>1091574975</td>\n",
       "      <td>PR_kwDOAMHoHc5BEBy_</td>\n",
       "      <td>https://github.com/programminghistorian/jekyll...</td>\n",
       "      <td>https://github.com/programminghistorian/jekyll...</td>\n",
       "      <td>https://github.com/programminghistorian/jekyll...</td>\n",
       "      <td>https://api.github.com/repos/programminghistor...</td>\n",
       "      <td>2708</td>\n",
       "      <td>closed</td>\n",
       "      <td>False</td>\n",
       "      <td>...</td>\n",
       "      <td>NaN</td>\n",
       "      <td>NaN</td>\n",
       "      <td>NaN</td>\n",
       "      <td>NaN</td>\n",
       "      <td>NaN</td>\n",
       "      <td>NaN</td>\n",
       "      <td>2022-12-19</td>\n",
       "      <td>NaN</td>\n",
       "      <td>NaN</td>\n",
       "      <td>4</td>\n",
       "    </tr>\n",
       "    <tr>\n",
       "      <th>95</th>\n",
       "      <td>https://api.github.com/repos/programminghistor...</td>\n",
       "      <td>1029448756</td>\n",
       "      <td>PR_kwDOAMHoHc49XCQ0</td>\n",
       "      <td>https://github.com/programminghistorian/jekyll...</td>\n",
       "      <td>https://github.com/programminghistorian/jekyll...</td>\n",
       "      <td>https://github.com/programminghistorian/jekyll...</td>\n",
       "      <td>https://api.github.com/repos/programminghistor...</td>\n",
       "      <td>2662</td>\n",
       "      <td>closed</td>\n",
       "      <td>False</td>\n",
       "      <td>...</td>\n",
       "      <td>NaN</td>\n",
       "      <td>NaN</td>\n",
       "      <td>NaN</td>\n",
       "      <td>NaN</td>\n",
       "      <td>NaN</td>\n",
       "      <td>NaN</td>\n",
       "      <td>2022-12-19</td>\n",
       "      <td>NaN</td>\n",
       "      <td>NaN</td>\n",
       "      <td>2</td>\n",
       "    </tr>\n",
       "    <tr>\n",
       "      <th>96</th>\n",
       "      <td>https://api.github.com/repos/programminghistor...</td>\n",
       "      <td>1029408372</td>\n",
       "      <td>PR_kwDOAMHoHc49W4Z0</td>\n",
       "      <td>https://github.com/programminghistorian/jekyll...</td>\n",
       "      <td>https://github.com/programminghistorian/jekyll...</td>\n",
       "      <td>https://github.com/programminghistorian/jekyll...</td>\n",
       "      <td>https://api.github.com/repos/programminghistor...</td>\n",
       "      <td>2661</td>\n",
       "      <td>closed</td>\n",
       "      <td>False</td>\n",
       "      <td>...</td>\n",
       "      <td>NaN</td>\n",
       "      <td>NaN</td>\n",
       "      <td>NaN</td>\n",
       "      <td>NaN</td>\n",
       "      <td>NaN</td>\n",
       "      <td>NaN</td>\n",
       "      <td>2022-12-19</td>\n",
       "      <td>NaN</td>\n",
       "      <td>NaN</td>\n",
       "      <td>3</td>\n",
       "    </tr>\n",
       "    <tr>\n",
       "      <th>...</th>\n",
       "      <td>...</td>\n",
       "      <td>...</td>\n",
       "      <td>...</td>\n",
       "      <td>...</td>\n",
       "      <td>...</td>\n",
       "      <td>...</td>\n",
       "      <td>...</td>\n",
       "      <td>...</td>\n",
       "      <td>...</td>\n",
       "      <td>...</td>\n",
       "      <td>...</td>\n",
       "      <td>...</td>\n",
       "      <td>...</td>\n",
       "      <td>...</td>\n",
       "      <td>...</td>\n",
       "      <td>...</td>\n",
       "      <td>...</td>\n",
       "      <td>...</td>\n",
       "      <td>...</td>\n",
       "      <td>...</td>\n",
       "      <td>...</td>\n",
       "    </tr>\n",
       "    <tr>\n",
       "      <th>13085</th>\n",
       "      <td>https://api.github.com/repos/mei-friend/mei-fr...</td>\n",
       "      <td>1111540513</td>\n",
       "      <td>PR_kwDOGX5bkc5CQMMh</td>\n",
       "      <td>https://github.com/mei-friend/mei-friend/pull/8</td>\n",
       "      <td>https://github.com/mei-friend/mei-friend/pull/...</td>\n",
       "      <td>https://github.com/mei-friend/mei-friend/pull/...</td>\n",
       "      <td>https://api.github.com/repos/mei-friend/mei-fr...</td>\n",
       "      <td>8</td>\n",
       "      <td>closed</td>\n",
       "      <td>False</td>\n",
       "      <td>...</td>\n",
       "      <td>NaN</td>\n",
       "      <td>NaN</td>\n",
       "      <td>NaN</td>\n",
       "      <td>NaN</td>\n",
       "      <td>NaN</td>\n",
       "      <td>NaN</td>\n",
       "      <td>2022-12-19</td>\n",
       "      <td>False</td>\n",
       "      <td>False</td>\n",
       "      <td>7</td>\n",
       "    </tr>\n",
       "    <tr>\n",
       "      <th>13119</th>\n",
       "      <td>https://api.github.com/repos/cirosantilli/linu...</td>\n",
       "      <td>1092023973</td>\n",
       "      <td>PR_kwDOA9i5S85BFval</td>\n",
       "      <td>https://github.com/cirosantilli/linux-kernel-m...</td>\n",
       "      <td>https://github.com/cirosantilli/linux-kernel-m...</td>\n",
       "      <td>https://github.com/cirosantilli/linux-kernel-m...</td>\n",
       "      <td>https://api.github.com/repos/cirosantilli/linu...</td>\n",
       "      <td>226</td>\n",
       "      <td>open</td>\n",
       "      <td>False</td>\n",
       "      <td>...</td>\n",
       "      <td>NaN</td>\n",
       "      <td>NaN</td>\n",
       "      <td>NaN</td>\n",
       "      <td>NaN</td>\n",
       "      <td>NaN</td>\n",
       "      <td>NaN</td>\n",
       "      <td>2022-12-19</td>\n",
       "      <td>False</td>\n",
       "      <td>False</td>\n",
       "      <td>2</td>\n",
       "    </tr>\n",
       "    <tr>\n",
       "      <th>13153</th>\n",
       "      <td>https://api.github.com/repos/cirosantilli/chin...</td>\n",
       "      <td>327536887</td>\n",
       "      <td>MDExOlB1bGxSZXF1ZXN0MzI3NTM2ODg3</td>\n",
       "      <td>https://github.com/cirosantilli/china-dictator...</td>\n",
       "      <td>https://github.com/cirosantilli/china-dictator...</td>\n",
       "      <td>https://github.com/cirosantilli/china-dictator...</td>\n",
       "      <td>https://api.github.com/repos/cirosantilli/chin...</td>\n",
       "      <td>72</td>\n",
       "      <td>closed</td>\n",
       "      <td>False</td>\n",
       "      <td>...</td>\n",
       "      <td>NaN</td>\n",
       "      <td>NaN</td>\n",
       "      <td>NaN</td>\n",
       "      <td>NaN</td>\n",
       "      <td>NaN</td>\n",
       "      <td>NaN</td>\n",
       "      <td>2022-12-19</td>\n",
       "      <td>NaN</td>\n",
       "      <td>False</td>\n",
       "      <td>21</td>\n",
       "    </tr>\n",
       "    <tr>\n",
       "      <th>13154</th>\n",
       "      <td>https://api.github.com/repos/cirosantilli/chin...</td>\n",
       "      <td>294988027</td>\n",
       "      <td>MDExOlB1bGxSZXF1ZXN0Mjk0OTg4MDI3</td>\n",
       "      <td>https://github.com/cirosantilli/china-dictator...</td>\n",
       "      <td>https://github.com/cirosantilli/china-dictator...</td>\n",
       "      <td>https://github.com/cirosantilli/china-dictator...</td>\n",
       "      <td>https://api.github.com/repos/cirosantilli/chin...</td>\n",
       "      <td>60</td>\n",
       "      <td>closed</td>\n",
       "      <td>False</td>\n",
       "      <td>...</td>\n",
       "      <td>NaN</td>\n",
       "      <td>NaN</td>\n",
       "      <td>NaN</td>\n",
       "      <td>NaN</td>\n",
       "      <td>NaN</td>\n",
       "      <td>NaN</td>\n",
       "      <td>2022-12-19</td>\n",
       "      <td>False</td>\n",
       "      <td>False</td>\n",
       "      <td>1</td>\n",
       "    </tr>\n",
       "    <tr>\n",
       "      <th>13162</th>\n",
       "      <td>https://api.github.com/repos/Wall-ee/chinese2d...</td>\n",
       "      <td>500969727</td>\n",
       "      <td>MDExOlB1bGxSZXF1ZXN0NTAwOTY5NzI3</td>\n",
       "      <td>https://github.com/Wall-ee/chinese2digits/pull/12</td>\n",
       "      <td>https://github.com/Wall-ee/chinese2digits/pull...</td>\n",
       "      <td>https://github.com/Wall-ee/chinese2digits/pull...</td>\n",
       "      <td>https://api.github.com/repos/Wall-ee/chinese2d...</td>\n",
       "      <td>12</td>\n",
       "      <td>closed</td>\n",
       "      <td>False</td>\n",
       "      <td>...</td>\n",
       "      <td>NaN</td>\n",
       "      <td>NaN</td>\n",
       "      <td>NaN</td>\n",
       "      <td>NaN</td>\n",
       "      <td>NaN</td>\n",
       "      <td>NaN</td>\n",
       "      <td>2022-12-19</td>\n",
       "      <td>False</td>\n",
       "      <td>True</td>\n",
       "      <td>5</td>\n",
       "    </tr>\n",
       "  </tbody>\n",
       "</table>\n",
       "<p>942 rows × 363 columns</p>\n",
       "</div>"
      ],
      "text/plain": [
       "                                                     url          id  \\\n",
       "68     https://api.github.com/repos/programminghistor...  1103980856   \n",
       "69     https://api.github.com/repos/programminghistor...  1101880549   \n",
       "76     https://api.github.com/repos/programminghistor...  1091574975   \n",
       "95     https://api.github.com/repos/programminghistor...  1029448756   \n",
       "96     https://api.github.com/repos/programminghistor...  1029408372   \n",
       "...                                                  ...         ...   \n",
       "13085  https://api.github.com/repos/mei-friend/mei-fr...  1111540513   \n",
       "13119  https://api.github.com/repos/cirosantilli/linu...  1092023973   \n",
       "13153  https://api.github.com/repos/cirosantilli/chin...   327536887   \n",
       "13154  https://api.github.com/repos/cirosantilli/chin...   294988027   \n",
       "13162  https://api.github.com/repos/Wall-ee/chinese2d...   500969727   \n",
       "\n",
       "                                node_id  \\\n",
       "68                  PR_kwDOAMHoHc5BzWk4   \n",
       "69                  PR_kwDOAMHoHc5BrVzl   \n",
       "76                  PR_kwDOAMHoHc5BEBy_   \n",
       "95                  PR_kwDOAMHoHc49XCQ0   \n",
       "96                  PR_kwDOAMHoHc49W4Z0   \n",
       "...                                 ...   \n",
       "13085               PR_kwDOGX5bkc5CQMMh   \n",
       "13119               PR_kwDOA9i5S85BFval   \n",
       "13153  MDExOlB1bGxSZXF1ZXN0MzI3NTM2ODg3   \n",
       "13154  MDExOlB1bGxSZXF1ZXN0Mjk0OTg4MDI3   \n",
       "13162  MDExOlB1bGxSZXF1ZXN0NTAwOTY5NzI3   \n",
       "\n",
       "                                                html_url  \\\n",
       "68     https://github.com/programminghistorian/jekyll...   \n",
       "69     https://github.com/programminghistorian/jekyll...   \n",
       "76     https://github.com/programminghistorian/jekyll...   \n",
       "95     https://github.com/programminghistorian/jekyll...   \n",
       "96     https://github.com/programminghistorian/jekyll...   \n",
       "...                                                  ...   \n",
       "13085    https://github.com/mei-friend/mei-friend/pull/8   \n",
       "13119  https://github.com/cirosantilli/linux-kernel-m...   \n",
       "13153  https://github.com/cirosantilli/china-dictator...   \n",
       "13154  https://github.com/cirosantilli/china-dictator...   \n",
       "13162  https://github.com/Wall-ee/chinese2digits/pull/12   \n",
       "\n",
       "                                                diff_url  \\\n",
       "68     https://github.com/programminghistorian/jekyll...   \n",
       "69     https://github.com/programminghistorian/jekyll...   \n",
       "76     https://github.com/programminghistorian/jekyll...   \n",
       "95     https://github.com/programminghistorian/jekyll...   \n",
       "96     https://github.com/programminghistorian/jekyll...   \n",
       "...                                                  ...   \n",
       "13085  https://github.com/mei-friend/mei-friend/pull/...   \n",
       "13119  https://github.com/cirosantilli/linux-kernel-m...   \n",
       "13153  https://github.com/cirosantilli/china-dictator...   \n",
       "13154  https://github.com/cirosantilli/china-dictator...   \n",
       "13162  https://github.com/Wall-ee/chinese2digits/pull...   \n",
       "\n",
       "                                               patch_url  \\\n",
       "68     https://github.com/programminghistorian/jekyll...   \n",
       "69     https://github.com/programminghistorian/jekyll...   \n",
       "76     https://github.com/programminghistorian/jekyll...   \n",
       "95     https://github.com/programminghistorian/jekyll...   \n",
       "96     https://github.com/programminghistorian/jekyll...   \n",
       "...                                                  ...   \n",
       "13085  https://github.com/mei-friend/mei-friend/pull/...   \n",
       "13119  https://github.com/cirosantilli/linux-kernel-m...   \n",
       "13153  https://github.com/cirosantilli/china-dictator...   \n",
       "13154  https://github.com/cirosantilli/china-dictator...   \n",
       "13162  https://github.com/Wall-ee/chinese2digits/pull...   \n",
       "\n",
       "                                               issue_url  number   state  \\\n",
       "68     https://api.github.com/repos/programminghistor...    2722    open   \n",
       "69     https://api.github.com/repos/programminghistor...    2720  closed   \n",
       "76     https://api.github.com/repos/programminghistor...    2708  closed   \n",
       "95     https://api.github.com/repos/programminghistor...    2662  closed   \n",
       "96     https://api.github.com/repos/programminghistor...    2661  closed   \n",
       "...                                                  ...     ...     ...   \n",
       "13085  https://api.github.com/repos/mei-friend/mei-fr...       8  closed   \n",
       "13119  https://api.github.com/repos/cirosantilli/linu...     226    open   \n",
       "13153  https://api.github.com/repos/cirosantilli/chin...      72  closed   \n",
       "13154  https://api.github.com/repos/cirosantilli/chin...      60  closed   \n",
       "13162  https://api.github.com/repos/Wall-ee/chinese2d...      12  closed   \n",
       "\n",
       "       locked  ... milestone.closed_issues milestone.state  \\\n",
       "68      False  ...                     NaN             NaN   \n",
       "69      False  ...                     NaN             NaN   \n",
       "76      False  ...                     NaN             NaN   \n",
       "95      False  ...                     NaN             NaN   \n",
       "96      False  ...                     NaN             NaN   \n",
       "...       ...  ...                     ...             ...   \n",
       "13085   False  ...                     NaN             NaN   \n",
       "13119   False  ...                     NaN             NaN   \n",
       "13153   False  ...                     NaN             NaN   \n",
       "13154   False  ...                     NaN             NaN   \n",
       "13162   False  ...                     NaN             NaN   \n",
       "\n",
       "      milestone.created_at milestone.updated_at milestone.due_on  \\\n",
       "68                     NaN                  NaN              NaN   \n",
       "69                     NaN                  NaN              NaN   \n",
       "76                     NaN                  NaN              NaN   \n",
       "95                     NaN                  NaN              NaN   \n",
       "96                     NaN                  NaN              NaN   \n",
       "...                    ...                  ...              ...   \n",
       "13085                  NaN                  NaN              NaN   \n",
       "13119                  NaN                  NaN              NaN   \n",
       "13153                  NaN                  NaN              NaN   \n",
       "13154                  NaN                  NaN              NaN   \n",
       "13162                  NaN                  NaN              NaN   \n",
       "\n",
       "      milestone.closed_at repo_query_time  head.repo.has_discussions  \\\n",
       "68                    NaN      2022-12-19                        NaN   \n",
       "69                    NaN      2022-12-19                        NaN   \n",
       "76                    NaN      2022-12-19                        NaN   \n",
       "95                    NaN      2022-12-19                        NaN   \n",
       "96                    NaN      2022-12-19                        NaN   \n",
       "...                   ...             ...                        ...   \n",
       "13085                 NaN      2022-12-19                      False   \n",
       "13119                 NaN      2022-12-19                      False   \n",
       "13153                 NaN      2022-12-19                        NaN   \n",
       "13154                 NaN      2022-12-19                      False   \n",
       "13162                 NaN      2022-12-19                      False   \n",
       "\n",
       "      base.repo.has_discussions review_count  \n",
       "68                          NaN            4  \n",
       "69                          NaN            2  \n",
       "76                          NaN            4  \n",
       "95                          NaN            2  \n",
       "96                          NaN            3  \n",
       "...                         ...          ...  \n",
       "13085                     False            7  \n",
       "13119                     False            2  \n",
       "13153                     False           21  \n",
       "13154                     False            1  \n",
       "13162                      True            5  \n",
       "\n",
       "[942 rows x 363 columns]"
      ]
     },
     "execution_count": 46,
     "metadata": {},
     "output_type": "execute_result"
    }
   ],
   "source": [
    "updated_pulls_df[updated_pulls_df.review_count > 0]"
   ]
  },
  {
   "cell_type": "code",
   "execution_count": 50,
   "metadata": {},
   "outputs": [
    {
     "name": "stdout",
     "output_type": "stream",
     "text": [
      "../data/temp/pulls_comments_join_dataset/\n"
     ]
    },
    {
     "name": "stderr",
     "output_type": "stream",
     "text": [
      "Getting Repo Actors:  40%|████      | 4933/12264 [18:17<35:10,  3.47it/s]  "
     ]
    },
    {
     "name": "stdout",
     "output_type": "stream",
     "text": [
      "response code: 403. hit rate limiting. trying to sleep...\n",
      "query failed twice with code 403. Failing URL: https://api.github.com/repos/ccnmtl/footprints/pulls/1283/comments?state=all&per_page=100&page=1\n",
      "rate limit reached. sleeping for 1 hour\n"
     ]
    },
    {
     "name": "stderr",
     "output_type": "stream",
     "text": [
      "Getting Repo Actors:  81%|████████  | 9933/12264 [1:54:20<09:45,  3.98it/s]       "
     ]
    },
    {
     "name": "stdout",
     "output_type": "stream",
     "text": [
      "response code: 403. hit rate limiting. trying to sleep...\n",
      "query failed twice with code 403. Failing URL: https://api.github.com/repos/wandertext/wandertext-server/pulls/331/comments?state=all&per_page=100&page=1\n",
      "rate limit reached. sleeping for 1 hour\n"
     ]
    },
    {
     "name": "stderr",
     "output_type": "stream",
     "text": [
      "Getting Repo Actors:  90%|█████████ | 11090/12264 [4:15:03<03:51,  5.07it/s]      "
     ]
    },
    {
     "name": "stdout",
     "output_type": "stream",
     "text": [
      "response code: 404. hit rate limiting. trying to sleep...\n",
      "query failed twice with code 404. Failing URL: https://api.github.com/repos/cysouw/kurstest/pulls/15/comments?state=all&per_page=100&page=1\n"
     ]
    },
    {
     "name": "stderr",
     "output_type": "stream",
     "text": [
      "Getting Repo Actors:  90%|█████████ | 11091/12264 [4:17:04<11:50:23, 36.34s/it]"
     ]
    },
    {
     "name": "stdout",
     "output_type": "stream",
     "text": [
      "response code: 404. hit rate limiting. trying to sleep...\n"
     ]
    },
    {
     "name": "stderr",
     "output_type": "stream",
     "text": [
      "Getting Repo Actors:  90%|█████████ | 11092/12264 [4:19:04<20:03:35, 61.62s/it]"
     ]
    },
    {
     "name": "stdout",
     "output_type": "stream",
     "text": [
      "query failed twice with code 404. Failing URL: https://api.github.com/repos/cysouw/kurstest/pulls/14/comments?state=all&per_page=100&page=1\n",
      "response code: 404. hit rate limiting. trying to sleep...\n",
      "query failed twice with code 404. Failing URL: https://api.github.com/repos/cysouw/kurstest/pulls/13/comments?state=all&per_page=100&page=1\n"
     ]
    },
    {
     "name": "stderr",
     "output_type": "stream",
     "text": [
      "Getting Repo Actors:  90%|█████████ | 11093/12264 [4:21:05<25:48:45, 79.36s/it]"
     ]
    },
    {
     "name": "stdout",
     "output_type": "stream",
     "text": [
      "response code: 404. hit rate limiting. trying to sleep...\n",
      "query failed twice with code 404. Failing URL: https://api.github.com/repos/cysouw/kurstest/pulls/12/comments?state=all&per_page=100&page=1\n"
     ]
    },
    {
     "name": "stderr",
     "output_type": "stream",
     "text": [
      "Getting Repo Actors:  90%|█████████ | 11094/12264 [4:23:06<29:48:36, 91.72s/it]"
     ]
    },
    {
     "name": "stdout",
     "output_type": "stream",
     "text": [
      "response code: 404. hit rate limiting. trying to sleep...\n"
     ]
    },
    {
     "name": "stderr",
     "output_type": "stream",
     "text": [
      "Getting Repo Actors:  90%|█████████ | 11095/12264 [4:25:06<32:35:45, 100.38s/it]"
     ]
    },
    {
     "name": "stdout",
     "output_type": "stream",
     "text": [
      "query failed twice with code 404. Failing URL: https://api.github.com/repos/cysouw/kurstest/pulls/11/comments?state=all&per_page=100&page=1\n",
      "response code: 404. hit rate limiting. trying to sleep...\n"
     ]
    },
    {
     "name": "stderr",
     "output_type": "stream",
     "text": [
      "Getting Repo Actors:  90%|█████████ | 11096/12264 [4:27:07<34:32:10, 106.45s/it]"
     ]
    },
    {
     "name": "stdout",
     "output_type": "stream",
     "text": [
      "query failed twice with code 404. Failing URL: https://api.github.com/repos/cysouw/kurstest/pulls/10/comments?state=all&per_page=100&page=1\n",
      "response code: 404. hit rate limiting. trying to sleep...\n"
     ]
    },
    {
     "name": "stderr",
     "output_type": "stream",
     "text": [
      "Getting Repo Actors:  90%|█████████ | 11097/12264 [4:29:07<35:52:59, 110.69s/it]"
     ]
    },
    {
     "name": "stdout",
     "output_type": "stream",
     "text": [
      "query failed twice with code 404. Failing URL: https://api.github.com/repos/cysouw/kurstest/pulls/9/comments?state=all&per_page=100&page=1\n",
      "response code: 404. hit rate limiting. trying to sleep...\n",
      "query failed twice with code 404. Failing URL: https://api.github.com/repos/cysouw/kurstest/pulls/8/comments?state=all&per_page=100&page=1\n"
     ]
    },
    {
     "name": "stderr",
     "output_type": "stream",
     "text": [
      "Getting Repo Actors:  90%|█████████ | 11098/12264 [4:31:08<36:51:02, 113.78s/it]"
     ]
    },
    {
     "name": "stdout",
     "output_type": "stream",
     "text": [
      "response code: 404. hit rate limiting. trying to sleep...\n"
     ]
    },
    {
     "name": "stderr",
     "output_type": "stream",
     "text": [
      "Getting Repo Actors:  91%|█████████ | 11099/12264 [4:33:09<37:28:42, 115.81s/it]"
     ]
    },
    {
     "name": "stdout",
     "output_type": "stream",
     "text": [
      "query failed twice with code 404. Failing URL: https://api.github.com/repos/cysouw/kurstest/pulls/7/comments?state=all&per_page=100&page=1\n",
      "response code: 404. hit rate limiting. trying to sleep...\n",
      "query failed twice with code 404. Failing URL: https://api.github.com/repos/cysouw/kurstest/pulls/6/comments?state=all&per_page=100&page=1\n"
     ]
    },
    {
     "name": "stderr",
     "output_type": "stream",
     "text": [
      "Getting Repo Actors:  91%|█████████ | 11100/12264 [4:35:12<38:06:51, 117.88s/it]"
     ]
    },
    {
     "name": "stdout",
     "output_type": "stream",
     "text": [
      "response code: 404. hit rate limiting. trying to sleep...\n"
     ]
    },
    {
     "name": "stderr",
     "output_type": "stream",
     "text": [
      "Getting Repo Actors:  91%|█████████ | 11101/12264 [4:42:37<69:46:54, 216.01s/it]"
     ]
    },
    {
     "name": "stdout",
     "output_type": "stream",
     "text": [
      "query failed twice with code 404. Failing URL: https://api.github.com/repos/cysouw/kurstest/pulls/5/comments?state=all&per_page=100&page=1\n",
      "response code: 404. hit rate limiting. trying to sleep...\n",
      "query failed twice with code 404. Failing URL: https://api.github.com/repos/cysouw/kurstest/pulls/4/comments?state=all&per_page=100&page=1\n"
     ]
    },
    {
     "name": "stderr",
     "output_type": "stream",
     "text": [
      "Getting Repo Actors:  91%|█████████ | 11102/12264 [4:47:00<74:20:49, 230.33s/it]"
     ]
    },
    {
     "name": "stdout",
     "output_type": "stream",
     "text": [
      "response code: 404. hit rate limiting. trying to sleep...\n"
     ]
    },
    {
     "name": "stderr",
     "output_type": "stream",
     "text": [
      "Getting Repo Actors:  91%|█████████ | 11103/12264 [5:05:11<157:33:26, 488.55s/it]"
     ]
    },
    {
     "name": "stdout",
     "output_type": "stream",
     "text": [
      "query failed twice with code 404. Failing URL: https://api.github.com/repos/cysouw/kurstest/pulls/3/comments?state=all&per_page=100&page=1\n",
      "response code: 404. hit rate limiting. trying to sleep...\n",
      "query failed twice with code 404. Failing URL: https://api.github.com/repos/cysouw/kurstest/pulls/2/comments?state=all&per_page=100&page=1\n"
     ]
    },
    {
     "name": "stderr",
     "output_type": "stream",
     "text": [
      "Getting Repo Actors:  91%|█████████ | 11104/12264 [5:07:12<121:52:31, 378.23s/it]"
     ]
    },
    {
     "name": "stdout",
     "output_type": "stream",
     "text": [
      "response code: 404. hit rate limiting. trying to sleep...\n"
     ]
    },
    {
     "name": "stderr",
     "output_type": "stream",
     "text": [
      "Getting Repo Actors:  91%|█████████ | 11105/12264 [5:09:13<96:53:05, 300.94s/it] "
     ]
    },
    {
     "name": "stdout",
     "output_type": "stream",
     "text": [
      "query failed twice with code 404. Failing URL: https://api.github.com/repos/cysouw/kurstest/pulls/1/comments?state=all&per_page=100&page=1\n"
     ]
    },
    {
     "name": "stderr",
     "output_type": "stream",
     "text": [
      "Getting Repo Actors: 100%|██████████| 12264/12264 [5:13:48<00:00,  1.54s/it]    \n"
     ]
    },
    {
     "name": "stdout",
     "output_type": "stream",
     "text": [
      "no error file to clean\n"
     ]
    }
   ],
   "source": [
    "get_url_field = 'review_comments_url'\n",
    "load_existing_files = False\n",
    "overwrite_existing_temp_files = False\n",
    "pulls_comments_df, users_df = get_repos_user_actors(updated_pulls_df, '../data/large_files/join_files/pulls_comments_join_dataset.csv', '../data/entity_files/users_dataset.csv', get_url_field, load_existing_files, overwrite_existing_temp_files)\n",
    "pulls_comments_errors_df = check_return_error_file('../data/error_logs/pulls_comments_join_dataset_errors.csv')"
   ]
  },
  {
   "cell_type": "code",
   "execution_count": 51,
   "metadata": {},
   "outputs": [
    {
     "name": "stdout",
     "output_type": "stream",
     "text": [
      "From 14263 repos with pulls, we found 6052 comments, which come from 467 unique repos and were created by 157 unique users. There were 0 errors in getting pulls comments (likely repos that have no pulls comments longer exist).\n"
     ]
    }
   ],
   "source": [
    "print(f\"From {len(pulls_df)} repos with pulls, we found {len(pulls_comments_df)} comments, which come from {len(pulls_df.repo_id.unique())} unique repos and were created by {len(users_df[users_df.login.isin(pulls_comments_df['user.login'])])} unique users. There were {len(pulls_comments_errors_df)} errors in getting pulls comments (likely repos that have no pulls comments longer exist).\")"
   ]
  },
  {
   "attachments": {},
   "cell_type": "markdown",
   "metadata": {},
   "source": [
    "### Get Repo Commits"
   ]
  },
  {
   "cell_type": "code",
   "execution_count": 19,
   "metadata": {},
   "outputs": [],
   "source": [
    "core_repos = get_total_commits(core_repos, '../data/large_files/entity_files/subset_repos_dataset_with_commits.csv')"
   ]
  },
  {
   "cell_type": "code",
   "execution_count": 20,
   "metadata": {},
   "outputs": [
    {
     "name": "stdout",
     "output_type": "stream",
     "text": [
      "From 2108 repos, we found 241355 total commits, which considering the 5000 rate limit will take 48.271 hours to get.\n"
     ]
    }
   ],
   "source": [
    "core_repos['cleaned_total_commits'] = core_repos.total_commits.astype(int)\n",
    "print(f\"From {len(core_repos)} repos, we found {core_repos.cleaned_total_commits.sum()} total commits, which considering the 5000 rate limit will take {core_repos.cleaned_total_commits.sum()/5000} hours to get.\")"
   ]
  },
  {
   "cell_type": "code",
   "execution_count": null,
   "metadata": {},
   "outputs": [],
   "source": [
    "get_url_field = 'commits_url'\n",
    "load_existing_files = False\n",
    "load_existing_temp_files = True\n",
    "commits_df, users_df = get_repos_user_actors(core_repos, '../data/large_files/join_files/repo_commits_join_dataset.csv', '../data/entity_files/users_dataset.csv', get_url_field, load_existing_files, load_existing_temp_files)\n",
    "commits_errors_df = check_return_error_file('../data/error_logs/repo_commits_join_dataset_errors.csv')"
   ]
  },
  {
   "attachments": {},
   "cell_type": "markdown",
   "metadata": {},
   "source": [
    "### Total Summary"
   ]
  },
  {
   "attachments": {},
   "cell_type": "markdown",
   "metadata": {},
   "source": [
    "### Get and Explore Repo Specific Features"
   ]
  },
  {
   "cell_type": "code",
   "execution_count": null,
   "metadata": {},
   "outputs": [],
   "source": []
  },
  {
   "cell_type": "code",
   "execution_count": 22,
   "metadata": {},
   "outputs": [],
   "source": [
    "test = pd.read_csv(\"../data/large_files/join_files/pulls_comments_join_dataset.csv\")"
   ]
  },
  {
   "cell_type": "code",
   "execution_count": 25,
   "metadata": {},
   "outputs": [
    {
     "data": {
      "text/plain": [
       "{'url': {0: 'https://api.github.com/repos/urschrei/pyzotero/pulls/comments/95563117'},\n",
       " 'pull_request_review_id': {0: 16120671.0},\n",
       " 'id': {0: 95563117},\n",
       " 'node_id': {0: 'MDI0OlB1bGxSZXF1ZXN0UmV2aWV3Q29tbWVudDk1NTYzMTE3'},\n",
       " 'diff_hunk': {0: \"@@ -432,6 +432,30 @@ Example of returned tag data:\\n \\n         ['Authority in literature', 'Errata']\\n \\n+===================\\n+Retrieving Version Information\\n+===================\\n+\\n+The Zotero API recommends requesting version information for all (or all changed) items and collections when implementing syncing.  The following convience methods simplify this process.  Note that by default these methods impose no limit on the number of items/collection versions returned.  To retrieve only the versions of items changed after a given version use the since search/request parameter.\"},\n",
       " 'path': {0: 'doc/index.rst'},\n",
       " 'position': {0: nan},\n",
       " 'original_position': {0: 56},\n",
       " 'commit_id': {0: '5c03e0922132f0e41b32f156c465c16d5f7aadb9'},\n",
       " 'original_commit_id': {0: '8241fac6514d10790cdaad5e6237160d291fa4a6'},\n",
       " 'body': {0: 'Can we clarify what the since / search parameter is? I think it should be rendered `as code`, and include a link to https://www.zotero.org/support/dev/web_api/v3/syncing'},\n",
       " 'created_at': {0: '2017-01-11T11:47:11Z'},\n",
       " 'updated_at': {0: '2017-01-11T12:15:19Z'},\n",
       " 'html_url': {0: 'https://github.com/urschrei/pyzotero/pull/64#discussion_r95563117'},\n",
       " 'pull_request_url': {0: 'https://api.github.com/repos/urschrei/pyzotero/pulls/64'},\n",
       " 'author_association': {0: 'OWNER'},\n",
       " 'start_line': {0: nan},\n",
       " 'original_start_line': {0: nan},\n",
       " 'start_side': {0: nan},\n",
       " 'line': {0: nan},\n",
       " 'original_line': {0: 439},\n",
       " 'side': {0: 'RIGHT'},\n",
       " 'user.login': {0: 'urschrei'},\n",
       " 'user.id': {0: 131862},\n",
       " 'user.node_id': {0: 'MDQ6VXNlcjEzMTg2Mg=='},\n",
       " 'user.avatar_url': {0: 'https://avatars.githubusercontent.com/u/131862?v=4'},\n",
       " 'user.gravatar_id': {0: nan},\n",
       " 'user.url': {0: 'https://api.github.com/users/urschrei'},\n",
       " 'user.html_url': {0: 'https://github.com/urschrei'},\n",
       " 'user.followers_url': {0: 'https://api.github.com/users/urschrei/followers'},\n",
       " 'user.following_url': {0: 'https://api.github.com/users/urschrei/following{/other_user}'},\n",
       " 'user.gists_url': {0: 'https://api.github.com/users/urschrei/gists{/gist_id}'},\n",
       " 'user.starred_url': {0: 'https://api.github.com/users/urschrei/starred{/owner}{/repo}'},\n",
       " 'user.subscriptions_url': {0: 'https://api.github.com/users/urschrei/subscriptions'},\n",
       " 'user.organizations_url': {0: 'https://api.github.com/users/urschrei/orgs'},\n",
       " 'user.repos_url': {0: 'https://api.github.com/users/urschrei/repos'},\n",
       " 'user.events_url': {0: 'https://api.github.com/users/urschrei/events{/privacy}'},\n",
       " 'user.received_events_url': {0: 'https://api.github.com/users/urschrei/received_events'},\n",
       " 'user.type': {0: 'User'},\n",
       " 'user.site_admin': {0: False},\n",
       " '_links.self.href': {0: 'https://api.github.com/repos/urschrei/pyzotero/pulls/comments/95563117'},\n",
       " '_links.html.href': {0: 'https://github.com/urschrei/pyzotero/pull/64#discussion_r95563117'},\n",
       " '_links.pull_request.href': {0: 'https://api.github.com/repos/urschrei/pyzotero/pulls/64'},\n",
       " 'reactions.url': {0: 'https://api.github.com/repos/urschrei/pyzotero/pulls/comments/95563117/reactions'},\n",
       " 'reactions.total_count': {0: 0},\n",
       " 'reactions.+1': {0: 0},\n",
       " 'reactions.-1': {0: 0},\n",
       " 'reactions.laugh': {0: 0},\n",
       " 'reactions.hooray': {0: 0},\n",
       " 'reactions.confused': {0: 0},\n",
       " 'reactions.heart': {0: 0},\n",
       " 'reactions.rocket': {0: 0},\n",
       " 'reactions.eyes': {0: 0},\n",
       " 'in_reply_to_id': {0: nan},\n",
       " 'repo_id': {0: 101038100},\n",
       " 'repo_url': {0: 'https://api.github.com/repos/urschrei/pyzotero/pulls/64'},\n",
       " 'repo_html_url': {0: 'https://github.com/urschrei/pyzotero/pull/64'},\n",
       " 'repo_full_name': {0: 'Jean-Baptiste-Camps/OCR_workshop'},\n",
       " 'review_comments_url': {0: 'https://api.github.com/repos/urschrei/pyzotero/pulls/64/comments'},\n",
       " 'repo_query_time': {0: '2022-12-26'}}"
      ]
     },
     "execution_count": 25,
     "metadata": {},
     "output_type": "execute_result"
    }
   ],
   "source": [
    "check_for_joins_in_older_queries(\"../data/large_files/join_files/pulls_comments_join_dataset.csv\", test, )"
   ]
  },
  {
   "cell_type": "code",
   "execution_count": null,
   "metadata": {},
   "outputs": [],
   "source": [
    "repo_output_path = \"../data/large_files/entity_files/repos_dataset.csv\"\n",
    "error_file_path = \"../data/error_logs/repo_profile_errors.csv\"\n",
    "temp_repo_dir = \"../data/temp/repo_profile/\"\n",
    "core_repos = get_repo_profile(core_repos, repo_output_path, rates_df, error_file_path, temp_repo_dir)"
   ]
  },
  {
   "cell_type": "code",
   "execution_count": null,
   "metadata": {},
   "outputs": [],
   "source": [
    "core_repos = get_repo_languages(core_repos, repo_output_path, rates_df)"
   ]
  },
  {
   "cell_type": "code",
   "execution_count": null,
   "metadata": {},
   "outputs": [],
   "source": [
    "core_repos = get_repo_labels(core_repos, repo_output_path, rates_df)"
   ]
  },
  {
   "cell_type": "code",
   "execution_count": null,
   "metadata": {},
   "outputs": [],
   "source": [
    "core_repos = get_repo_tags(core_repos, repo_output_path, rates_df)"
   ]
  }
 ],
 "metadata": {
  "kernelspec": {
   "display_name": "Python 3.9.12 ('values_and_versions_env')",
   "language": "python",
   "name": "python3"
  },
  "language_info": {
   "codemirror_mode": {
    "name": "ipython",
    "version": 3
   },
   "file_extension": ".py",
   "mimetype": "text/x-python",
   "name": "python",
   "nbconvert_exporter": "python",
   "pygments_lexer": "ipython3",
   "version": "3.9.16"
  },
  "orig_nbformat": 4,
  "vscode": {
   "interpreter": {
    "hash": "92b14f494f00d59c3bde62efd18715990e48408449b0a7aa8b9d827d8bcdd450"
   }
  }
 },
 "nbformat": 4,
 "nbformat_minor": 2
}
