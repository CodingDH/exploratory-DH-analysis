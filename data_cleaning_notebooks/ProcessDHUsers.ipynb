{
 "cells": [
  {
   "cell_type": "code",
   "execution_count": 1,
   "metadata": {},
   "outputs": [],
   "source": [
    "import pandas as pd\n",
    "import sys\n",
    "import altair as alt\n",
    "alt.data_transformers.disable_max_rows()\n",
    "import os\n",
    "sys.path.append(\"..\")\n",
    "from data_generation_scripts.utils import check_rate_limit, get_core_users_repos\n",
    "from data_generation_scripts.generate_user_repos_interactions import get_user_repo_activities\n",
    "from data_generation_scripts.generate_user_users_interactions import get_user_users_activities\n",
    "from data_generation_scripts.generate_user_orgs_interactions import get_user_org_activities\n",
    "from data_generation_scripts.generate_user_metadata import get_counts"
   ]
  },
  {
   "cell_type": "code",
   "execution_count": 2,
   "metadata": {},
   "outputs": [],
   "source": [
    "rates_df = check_rate_limit()"
   ]
  },
  {
   "attachments": {},
   "cell_type": "markdown",
   "metadata": {},
   "source": [
    "### Get Initial Users"
   ]
  },
  {
   "cell_type": "code",
   "execution_count": 3,
   "metadata": {},
   "outputs": [],
   "source": [
    "core_users_path = \"../data/derived_files/initial_core_users.csv\"\n",
    "core_users = pd.read_csv(core_users_path)"
   ]
  },
  {
   "attachments": {},
   "cell_type": "markdown",
   "metadata": {},
   "source": [
    "### Get Missing Counts"
   ]
  },
  {
   "cell_type": "code",
   "execution_count": 4,
   "metadata": {},
   "outputs": [],
   "source": [
    "if os.path.exists(\"../data/metadata_files/user_url_cols.csv\"):\n",
    "    cols_df = pd.read_csv(\"../data/metadata_files/user_url_cols.csv\")\n",
    "else:\n",
    "    cols_dict ={'followers': 'followers', 'following': 'following', 'public_repos': 'public_repos', 'public_gists': 'public_gists', 'star_count': 'starred_url', 'subscription_count': 'subscriptions_url', 'organization_count': 'organizations_url'}\n",
    "    cols_df = pd.DataFrame(cols_dict.items(), columns=['col_name', 'col_url'])\n",
    "    cols = cols_df.col_name.tolist()\n",
    "    reverse_cols = cols[::-1]\n",
    "    cols_df.to_csv(\"../data/metadata_files/user_url_cols.csv\", index=False)"
   ]
  },
  {
   "cell_type": "code",
   "execution_count": 6,
   "metadata": {},
   "outputs": [
    {
     "data": {
      "text/html": [
       "<div>\n",
       "<style scoped>\n",
       "    .dataframe tbody tr th:only-of-type {\n",
       "        vertical-align: middle;\n",
       "    }\n",
       "\n",
       "    .dataframe tbody tr th {\n",
       "        vertical-align: top;\n",
       "    }\n",
       "\n",
       "    .dataframe thead th {\n",
       "        text-align: right;\n",
       "    }\n",
       "</style>\n",
       "<table border=\"1\" class=\"dataframe\">\n",
       "  <thead>\n",
       "    <tr style=\"text-align: right;\">\n",
       "      <th></th>\n",
       "      <th>col_name</th>\n",
       "      <th>col_url</th>\n",
       "    </tr>\n",
       "  </thead>\n",
       "  <tbody>\n",
       "    <tr>\n",
       "      <th>0</th>\n",
       "      <td>followers</td>\n",
       "      <td>followers_url</td>\n",
       "    </tr>\n",
       "    <tr>\n",
       "      <th>1</th>\n",
       "      <td>following</td>\n",
       "      <td>following_url</td>\n",
       "    </tr>\n",
       "    <tr>\n",
       "      <th>2</th>\n",
       "      <td>public_repos</td>\n",
       "      <td>repos_url</td>\n",
       "    </tr>\n",
       "    <tr>\n",
       "      <th>3</th>\n",
       "      <td>public_gists</td>\n",
       "      <td>gists_url</td>\n",
       "    </tr>\n",
       "    <tr>\n",
       "      <th>4</th>\n",
       "      <td>star_count</td>\n",
       "      <td>starred_url</td>\n",
       "    </tr>\n",
       "    <tr>\n",
       "      <th>5</th>\n",
       "      <td>subscription_count</td>\n",
       "      <td>subscriptions_url</td>\n",
       "    </tr>\n",
       "    <tr>\n",
       "      <th>6</th>\n",
       "      <td>organization_count</td>\n",
       "      <td>organizations_url</td>\n",
       "    </tr>\n",
       "  </tbody>\n",
       "</table>\n",
       "</div>"
      ],
      "text/plain": [
       "             col_name            col_url\n",
       "0           followers      followers_url\n",
       "1           following      following_url\n",
       "2        public_repos          repos_url\n",
       "3        public_gists          gists_url\n",
       "4          star_count        starred_url\n",
       "5  subscription_count  subscriptions_url\n",
       "6  organization_count  organizations_url"
      ]
     },
     "execution_count": 6,
     "metadata": {},
     "output_type": "execute_result"
    }
   ],
   "source": [
    "cols_df"
   ]
  },
  {
   "cell_type": "code",
   "execution_count": 5,
   "metadata": {},
   "outputs": [],
   "source": [
    "# for index, row in cols_df.iterrows():\n",
    "#     if (row['col_name'] not in core_users.columns) or (core_users[core_users[row.col_name].isna()].shape[0] > 0):\n",
    "#         if 'url' in row.col_url:\n",
    "#             print(f'Getting {row.col_name} for core users')\n",
    "#             print(row.col_name, row.col_url)\n",
    "#             # core_users = check_total_results(core_users, row.col_name, row.col_url)\n",
    "#         else:\n",
    "#             print(f'Issues with {row.col_name} for core users')"
   ]
  },
  {
   "cell_type": "code",
   "execution_count": 6,
   "metadata": {},
   "outputs": [],
   "source": [
    "# core_users.to_csv(\"../data/derived_files/core_users.csv\", index=False)"
   ]
  },
  {
   "attachments": {},
   "cell_type": "markdown",
   "metadata": {},
   "source": [
    "### Get User Followers"
   ]
  },
  {
   "cell_type": "code",
   "execution_count": 7,
   "metadata": {},
   "outputs": [],
   "source": [
    "user_users_output_path = \"../data/large_files/join_files/user_followers_join_dataset.csv\"\n",
    "users_output_path = \"../data/large_files/entity_files/users_dataset.csv\"\n",
    "get_url_field = \"followers_url\"\n",
    "load_existing_files = True\n",
    "overwrite_existing_temp_files = False\n",
    "join_unique_field = 'user_login'\n",
    "filter_fields = ['user_login', 'login']\n",
    "\n",
    "users_followers_df, user_df = get_user_users_activities(core_users,user_users_output_path, users_output_path, get_url_field, load_existing_files, overwrite_existing_temp_files, join_unique_field, filter_fields)"
   ]
  },
  {
   "attachments": {},
   "cell_type": "markdown",
   "metadata": {},
   "source": [
    "### Get User Following"
   ]
  },
  {
   "cell_type": "code",
   "execution_count": 18,
   "metadata": {},
   "outputs": [],
   "source": [
    "user_users_output_path = \"../data/large_files/join_files/user_following_join_dataset.csv\"\n",
    "users_output_path = \"../data/entity_files/users_dataset.csv\"\n",
    "get_url_field = \"following_url\"\n",
    "load_existing_files = True\n",
    "overwrite_existing_temp_files = False\n",
    "join_unique_field = 'user_login'\n",
    "filter_fields = ['user_login', 'login']\n",
    "\n",
    "users_following_df, user_df = get_user_users_activities(core_users, user_users_output_path, users_output_path, get_url_field, load_existing_files, overwrite_existing_temp_files, join_unique_field, filter_fields)"
   ]
  },
  {
   "attachments": {},
   "cell_type": "markdown",
   "metadata": {},
   "source": [
    "### Get User Stars"
   ]
  },
  {
   "cell_type": "code",
   "execution_count": 20,
   "metadata": {},
   "outputs": [],
   "source": [
    "user_users_output_path = \"../data/large_files/join_files/user_starred_join_dataset.csv\"\n",
    "users_output_path = \"../data/entity_files/users_dataset.csv\"\n",
    "get_url_field = \"starred_url\"\n",
    "load_existing_files = True\n",
    "overwrite_existing_temp_files = False\n",
    "join_unique_field = 'user_login'\n",
    "filter_fields = ['user_login', 'full_name']\n",
    "\n",
    "users_starred_df, user_df = get_user_repo_activities(core_users,user_users_output_path, users_output_path, get_url_field, load_existing_files, overwrite_existing_temp_files, join_unique_field, filter_fields)"
   ]
  },
  {
   "attachments": {},
   "cell_type": "markdown",
   "metadata": {},
   "source": [
    "### Get User Repos"
   ]
  },
  {
   "cell_type": "code",
   "execution_count": 5,
   "metadata": {},
   "outputs": [],
   "source": [
    "user_repos_output_path = \"../data/large_files/join_files/user_repos_join_dataset.csv\"\n",
    "users_output_path = \"../data/entity_files/users_dataset.csv\"\n",
    "get_url_field = \"repos_url\"\n",
    "load_existing_files = True\n",
    "overwrite_existing_temp_files = False\n",
    "retry_errors = False\n",
    "join_unique_field = 'user_login'\n",
    "filter_fields = ['user_login', 'full_name']\n",
    "\n",
    "users_repos_df, user_df = get_user_repo_activities(core_users,user_repos_output_path, users_output_path, get_url_field, load_existing_files, overwrite_existing_temp_files, join_unique_field, filter_fields, retry_errors)"
   ]
  },
  {
   "cell_type": "code",
   "execution_count": 4,
   "metadata": {},
   "outputs": [],
   "source": [
    "users_repos_df = pd.read_csv( \"../data/large_files/join_files/user_repos_join_dataset.csv\", nrows=100)"
   ]
  },
  {
   "cell_type": "code",
   "execution_count": 6,
   "metadata": {},
   "outputs": [
    {
     "data": {
      "text/plain": [
       "{'id': {0: 124940812.0},\n",
       " 'node_id': {0: 'MDEwOlJlcG9zaXRvcnkxMjQ5NDA4MTI='},\n",
       " 'name': {0: 'c4l18-keynote-statement'},\n",
       " 'full_name': {0: 'Purdom/c4l18-keynote-statement'},\n",
       " 'private': {0: False},\n",
       " 'html_url': {0: 'https://github.com/Purdom/c4l18-keynote-statement'},\n",
       " 'description': {0: 'Code4Lib Community Statement in Support of Chris Bourg'},\n",
       " 'fork': {0: True},\n",
       " 'url': {0: 'https://api.github.com/repos/Purdom/c4l18-keynote-statement'},\n",
       " 'forks_url': {0: 'https://api.github.com/repos/Purdom/c4l18-keynote-statement/forks'},\n",
       " 'keys_url': {0: 'https://api.github.com/repos/Purdom/c4l18-keynote-statement/keys{/key_id}'},\n",
       " 'collaborators_url': {0: 'https://api.github.com/repos/Purdom/c4l18-keynote-statement/collaborators{/collaborator}'},\n",
       " 'teams_url': {0: 'https://api.github.com/repos/Purdom/c4l18-keynote-statement/teams'},\n",
       " 'hooks_url': {0: 'https://api.github.com/repos/Purdom/c4l18-keynote-statement/hooks'},\n",
       " 'issue_events_url': {0: 'https://api.github.com/repos/Purdom/c4l18-keynote-statement/issues/events{/number}'},\n",
       " 'events_url': {0: 'https://api.github.com/repos/Purdom/c4l18-keynote-statement/events'},\n",
       " 'assignees_url': {0: 'https://api.github.com/repos/Purdom/c4l18-keynote-statement/assignees{/user}'},\n",
       " 'branches_url': {0: 'https://api.github.com/repos/Purdom/c4l18-keynote-statement/branches{/branch}'},\n",
       " 'tags_url': {0: 'https://api.github.com/repos/Purdom/c4l18-keynote-statement/tags'},\n",
       " 'blobs_url': {0: 'https://api.github.com/repos/Purdom/c4l18-keynote-statement/git/blobs{/sha}'},\n",
       " 'git_tags_url': {0: 'https://api.github.com/repos/Purdom/c4l18-keynote-statement/git/tags{/sha}'},\n",
       " 'git_refs_url': {0: 'https://api.github.com/repos/Purdom/c4l18-keynote-statement/git/refs{/sha}'},\n",
       " 'trees_url': {0: 'https://api.github.com/repos/Purdom/c4l18-keynote-statement/git/trees{/sha}'},\n",
       " 'statuses_url': {0: 'https://api.github.com/repos/Purdom/c4l18-keynote-statement/statuses/{sha}'},\n",
       " 'languages_url': {0: 'https://api.github.com/repos/Purdom/c4l18-keynote-statement/languages'},\n",
       " 'stargazers_url': {0: 'https://api.github.com/repos/Purdom/c4l18-keynote-statement/stargazers'},\n",
       " 'contributors_url': {0: 'https://api.github.com/repos/Purdom/c4l18-keynote-statement/contributors'},\n",
       " 'subscribers_url': {0: 'https://api.github.com/repos/Purdom/c4l18-keynote-statement/subscribers'},\n",
       " 'subscription_url': {0: 'https://api.github.com/repos/Purdom/c4l18-keynote-statement/subscription'},\n",
       " 'commits_url': {0: 'https://api.github.com/repos/Purdom/c4l18-keynote-statement/commits{/sha}'},\n",
       " 'git_commits_url': {0: 'https://api.github.com/repos/Purdom/c4l18-keynote-statement/git/commits{/sha}'},\n",
       " 'comments_url': {0: 'https://api.github.com/repos/Purdom/c4l18-keynote-statement/comments{/number}'},\n",
       " 'issue_comment_url': {0: 'https://api.github.com/repos/Purdom/c4l18-keynote-statement/issues/comments{/number}'},\n",
       " 'contents_url': {0: 'https://api.github.com/repos/Purdom/c4l18-keynote-statement/contents/{+path}'},\n",
       " 'compare_url': {0: 'https://api.github.com/repos/Purdom/c4l18-keynote-statement/compare/{base}...{head}'},\n",
       " 'merges_url': {0: 'https://api.github.com/repos/Purdom/c4l18-keynote-statement/merges'},\n",
       " 'archive_url': {0: 'https://api.github.com/repos/Purdom/c4l18-keynote-statement/{archive_format}{/ref}'},\n",
       " 'downloads_url': {0: 'https://api.github.com/repos/Purdom/c4l18-keynote-statement/downloads'},\n",
       " 'issues_url': {0: 'https://api.github.com/repos/Purdom/c4l18-keynote-statement/issues{/number}'},\n",
       " 'pulls_url': {0: 'https://api.github.com/repos/Purdom/c4l18-keynote-statement/pulls{/number}'},\n",
       " 'milestones_url': {0: 'https://api.github.com/repos/Purdom/c4l18-keynote-statement/milestones{/number}'},\n",
       " 'notifications_url': {0: 'https://api.github.com/repos/Purdom/c4l18-keynote-statement/notifications{?since,all,participating}'},\n",
       " 'labels_url': {0: 'https://api.github.com/repos/Purdom/c4l18-keynote-statement/labels{/name}'},\n",
       " 'releases_url': {0: 'https://api.github.com/repos/Purdom/c4l18-keynote-statement/releases{/id}'},\n",
       " 'deployments_url': {0: 'https://api.github.com/repos/Purdom/c4l18-keynote-statement/deployments'},\n",
       " 'created_at': {0: '2018-03-12T19:32:13Z'},\n",
       " 'updated_at': {0: '2018-03-12T16:50:13Z'},\n",
       " 'pushed_at': {0: '2018-03-12T19:25:36Z'},\n",
       " 'git_url': {0: 'git://github.com/Purdom/c4l18-keynote-statement.git'},\n",
       " 'ssh_url': {0: 'git@github.com:Purdom/c4l18-keynote-statement.git'},\n",
       " 'clone_url': {0: 'https://github.com/Purdom/c4l18-keynote-statement.git'},\n",
       " 'svn_url': {0: 'https://github.com/Purdom/c4l18-keynote-statement'},\n",
       " 'homepage': {0: 'https://code4lib.github.io/c4l18-keynote-statement/'},\n",
       " 'size': {0: 354.0},\n",
       " 'stargazers_count': {0: 0.0},\n",
       " 'watchers_count': {0: 0.0},\n",
       " 'language': {0: nan},\n",
       " 'has_issues': {0: False},\n",
       " 'has_projects': {0: True},\n",
       " 'has_downloads': {0: True},\n",
       " 'has_wiki': {0: False},\n",
       " 'has_pages': {0: False},\n",
       " 'has_discussions': {0: False},\n",
       " 'forks_count': {0: 0.0},\n",
       " 'mirror_url': {0: nan},\n",
       " 'archived': {0: False},\n",
       " 'disabled': {0: False},\n",
       " 'open_issues_count': {0: 0.0},\n",
       " 'license': {0: nan},\n",
       " 'allow_forking': {0: True},\n",
       " 'is_template': {0: False},\n",
       " 'web_commit_signoff_required': {0: False},\n",
       " 'topics': {0: '[]'},\n",
       " 'visibility': {0: 'public'},\n",
       " 'forks': {0: 0.0},\n",
       " 'open_issues': {0: 0.0},\n",
       " 'watchers': {0: 0.0},\n",
       " 'default_branch': {0: 'master'},\n",
       " 'owner.login': {0: 'Purdom'},\n",
       " 'owner.id': {0: 3442092.0},\n",
       " 'owner.node_id': {0: 'MDQ6VXNlcjM0NDIwOTI='},\n",
       " 'owner.avatar_url': {0: 'https://avatars.githubusercontent.com/u/3442092?v=4'},\n",
       " 'owner.gravatar_id': {0: nan},\n",
       " 'owner.url': {0: 'https://api.github.com/users/Purdom'},\n",
       " 'owner.html_url': {0: 'https://github.com/Purdom'},\n",
       " 'owner.followers_url': {0: 'https://api.github.com/users/Purdom/followers'},\n",
       " 'owner.following_url': {0: 'https://api.github.com/users/Purdom/following{/other_user}'},\n",
       " 'owner.gists_url': {0: 'https://api.github.com/users/Purdom/gists{/gist_id}'},\n",
       " 'owner.starred_url': {0: 'https://api.github.com/users/Purdom/starred{/owner}{/repo}'},\n",
       " 'owner.subscriptions_url': {0: 'https://api.github.com/users/Purdom/subscriptions'},\n",
       " 'owner.organizations_url': {0: 'https://api.github.com/users/Purdom/orgs'},\n",
       " 'owner.repos_url': {0: 'https://api.github.com/users/Purdom/repos'},\n",
       " 'owner.events_url': {0: 'https://api.github.com/users/Purdom/events{/privacy}'},\n",
       " 'owner.received_events_url': {0: 'https://api.github.com/users/Purdom/received_events'},\n",
       " 'owner.type': {0: 'User'},\n",
       " 'owner.site_admin': {0: False},\n",
       " 'permissions.admin': {0: False},\n",
       " 'permissions.maintain': {0: False},\n",
       " 'permissions.push': {0: False},\n",
       " 'permissions.triage': {0: False},\n",
       " 'permissions.pull': {0: True},\n",
       " 'license.key': {0: nan},\n",
       " 'license.name': {0: nan},\n",
       " 'license.spdx_id': {0: nan},\n",
       " 'license.url': {0: nan},\n",
       " 'license.node_id': {0: nan},\n",
       " 'user_login': {0: 'Purdom'},\n",
       " 'user_url': {0: 'https://api.github.com/users/Purdom'},\n",
       " 'user_html_url': {0: 'https://github.com/Purdom'},\n",
       " 'user_id': {0: 3442092.0},\n",
       " 'user_repos_url': {0: 'https://api.github.com/users/Purdom/repos'},\n",
       " 'Unnamed: 0': {0: nan},\n",
       " 'user_query_time': {0: '2023-06-03'}}"
      ]
     },
     "execution_count": 6,
     "metadata": {},
     "output_type": "execute_result"
    }
   ],
   "source": [
    "users_repos_df[0:1].to_dict()"
   ]
  },
  {
   "attachments": {},
   "cell_type": "markdown",
   "metadata": {},
   "source": [
    "### Get User Subscriptions"
   ]
  },
  {
   "cell_type": "code",
   "execution_count": 24,
   "metadata": {},
   "outputs": [],
   "source": [
    "user_subscriptions_output_path = \"../data/large_files/join_files/user_subscriptions_join_dataset.csv\"\n",
    "users_output_path = \"../data/entity_files/users_dataset.csv\"\n",
    "get_url_field = \"subscriptions_url\"\n",
    "load_existing_files = True\n",
    "overwrite_existing_temp_files = False\n",
    "join_unique_field = 'user_login'\n",
    "filter_fields = ['user_login', 'full_name']\n",
    "\n",
    "users_subscriptions_df, user_df = get_user_repo_activities(core_users,user_subscriptions_output_path, users_output_path, get_url_field, load_existing_files, overwrite_existing_temp_files, join_unique_field, filter_fields)"
   ]
  },
  {
   "attachments": {},
   "cell_type": "markdown",
   "metadata": {},
   "source": [
    "### Get User Organizations"
   ]
  },
  {
   "cell_type": "code",
   "execution_count": 26,
   "metadata": {},
   "outputs": [],
   "source": [
    "user_organizations_output_path = \"../data/large_files/join_files/user_organizations_join_dataset.csv\"\n",
    "users_output_path = \"../data/entity_files/users_dataset.csv\"\n",
    "get_url_field = \"organizations_url\"\n",
    "load_existing_files = True\n",
    "overwrite_existing_temp_files = False\n",
    "join_unique_field = 'user_login'\n",
    "filter_fields = ['user_login', 'login']\n",
    "\n",
    "users_organizations_df, user_df = get_user_org_activities(core_users,user_organizations_output_path, users_output_path, get_url_field, load_existing_files, overwrite_existing_temp_files, join_unique_field, filter_fields)"
   ]
  },
  {
   "attachments": {},
   "cell_type": "markdown",
   "metadata": {},
   "source": []
  }
 ],
 "metadata": {
  "kernelspec": {
   "display_name": "Python 3.9.15 ('values_and_versions_env')",
   "language": "python",
   "name": "python3"
  },
  "language_info": {
   "codemirror_mode": {
    "name": "ipython",
    "version": 3
   },
   "file_extension": ".py",
   "mimetype": "text/x-python",
   "name": "python",
   "nbconvert_exporter": "python",
   "pygments_lexer": "ipython3",
   "version": "3.9.16"
  },
  "orig_nbformat": 4,
  "vscode": {
   "interpreter": {
    "hash": "f9535a2d3234831e7216b5503226355d93b43b15e5931e93b3445b413875c708"
   }
  }
 },
 "nbformat": 4,
 "nbformat_minor": 2
}
