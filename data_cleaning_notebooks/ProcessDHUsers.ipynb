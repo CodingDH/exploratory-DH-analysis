{
 "cells": [
  {
   "cell_type": "code",
   "execution_count": 1,
   "metadata": {},
   "outputs": [],
   "source": [
    "import pandas as pd\n",
    "import sys\n",
    "import altair as alt\n",
    "alt.data_transformers.disable_max_rows()\n",
    "import os\n",
    "sys.path.append(\"..\")\n",
    "from data_generation_scripts.utils import check_rate_limit, get_core_users_repos\n",
    "from data_generation_scripts.generate_user_repos_interactions import get_user_repo_activities\n",
    "from data_generation_scripts.generate_user_users_interactions import get_user_users_activities\n",
    "from data_generation_scripts.generate_user_metadata import get_counts"
   ]
  },
  {
   "cell_type": "code",
   "execution_count": 2,
   "metadata": {},
   "outputs": [],
   "source": [
    "rates_df = check_rate_limit()"
   ]
  },
  {
   "attachments": {},
   "cell_type": "markdown",
   "metadata": {},
   "source": [
    "### Get Initial Users"
   ]
  },
  {
   "cell_type": "code",
   "execution_count": 3,
   "metadata": {},
   "outputs": [],
   "source": [
    "core_users_path = \"../data/derived_files/initial_core_users.csv\"\n",
    "core_users = pd.read_csv(core_users_path)"
   ]
  },
  {
   "cell_type": "code",
   "execution_count": 16,
   "metadata": {},
   "outputs": [
    {
     "data": {
      "text/html": [
       "<div>\n",
       "<style scoped>\n",
       "    .dataframe tbody tr th:only-of-type {\n",
       "        vertical-align: middle;\n",
       "    }\n",
       "\n",
       "    .dataframe tbody tr th {\n",
       "        vertical-align: top;\n",
       "    }\n",
       "\n",
       "    .dataframe thead th {\n",
       "        text-align: right;\n",
       "    }\n",
       "</style>\n",
       "<table border=\"1\" class=\"dataframe\">\n",
       "  <thead>\n",
       "    <tr style=\"text-align: right;\">\n",
       "      <th></th>\n",
       "      <th>login</th>\n",
       "      <th>id</th>\n",
       "      <th>node_id</th>\n",
       "      <th>avatar_url</th>\n",
       "      <th>gravatar_id</th>\n",
       "      <th>url</th>\n",
       "      <th>html_url</th>\n",
       "      <th>followers_url</th>\n",
       "      <th>following_url</th>\n",
       "      <th>gists_url</th>\n",
       "      <th>...</th>\n",
       "      <th>hooks_url</th>\n",
       "      <th>issues_url</th>\n",
       "      <th>members_url</th>\n",
       "      <th>public_members_url</th>\n",
       "      <th>description</th>\n",
       "      <th>is_verified</th>\n",
       "      <th>has_organization_projects</th>\n",
       "      <th>has_repository_projects</th>\n",
       "      <th>finalized_language</th>\n",
       "      <th>keep_resource</th>\n",
       "    </tr>\n",
       "  </thead>\n",
       "  <tbody>\n",
       "    <tr>\n",
       "      <th>127</th>\n",
       "      <td>maehr</td>\n",
       "      <td>14755525</td>\n",
       "      <td>MDQ6VXNlcjE0NzU1NTI1</td>\n",
       "      <td>https://avatars.githubusercontent.com/u/147555...</td>\n",
       "      <td>NaN</td>\n",
       "      <td>https://api.github.com/users/maehr</td>\n",
       "      <td>https://github.com/maehr</td>\n",
       "      <td>https://api.github.com/users/maehr/followers</td>\n",
       "      <td>https://api.github.com/users/maehr/following{/...</td>\n",
       "      <td>https://api.github.com/users/maehr/gists{/gist...</td>\n",
       "      <td>...</td>\n",
       "      <td>NaN</td>\n",
       "      <td>NaN</td>\n",
       "      <td>NaN</td>\n",
       "      <td>NaN</td>\n",
       "      <td>NaN</td>\n",
       "      <td>NaN</td>\n",
       "      <td>NaN</td>\n",
       "      <td>NaN</td>\n",
       "      <td>en</td>\n",
       "      <td>True</td>\n",
       "    </tr>\n",
       "    <tr>\n",
       "      <th>252</th>\n",
       "      <td>ecomp-shONgit</td>\n",
       "      <td>30268481</td>\n",
       "      <td>MDQ6VXNlcjMwMjY4NDgx</td>\n",
       "      <td>https://avatars.githubusercontent.com/u/302684...</td>\n",
       "      <td>NaN</td>\n",
       "      <td>https://api.github.com/users/ecomp-shONgit</td>\n",
       "      <td>https://github.com/ecomp-shONgit</td>\n",
       "      <td>https://api.github.com/users/ecomp-shONgit/fol...</td>\n",
       "      <td>https://api.github.com/users/ecomp-shONgit/fol...</td>\n",
       "      <td>https://api.github.com/users/ecomp-shONgit/gis...</td>\n",
       "      <td>...</td>\n",
       "      <td>NaN</td>\n",
       "      <td>NaN</td>\n",
       "      <td>NaN</td>\n",
       "      <td>NaN</td>\n",
       "      <td>NaN</td>\n",
       "      <td>NaN</td>\n",
       "      <td>NaN</td>\n",
       "      <td>NaN</td>\n",
       "      <td>en, de</td>\n",
       "      <td>True</td>\n",
       "    </tr>\n",
       "  </tbody>\n",
       "</table>\n",
       "<p>2 rows × 52 columns</p>\n",
       "</div>"
      ],
      "text/plain": [
       "             login        id               node_id  \\\n",
       "127          maehr  14755525  MDQ6VXNlcjE0NzU1NTI1   \n",
       "252  ecomp-shONgit  30268481  MDQ6VXNlcjMwMjY4NDgx   \n",
       "\n",
       "                                            avatar_url  gravatar_id  \\\n",
       "127  https://avatars.githubusercontent.com/u/147555...          NaN   \n",
       "252  https://avatars.githubusercontent.com/u/302684...          NaN   \n",
       "\n",
       "                                            url  \\\n",
       "127          https://api.github.com/users/maehr   \n",
       "252  https://api.github.com/users/ecomp-shONgit   \n",
       "\n",
       "                             html_url  \\\n",
       "127          https://github.com/maehr   \n",
       "252  https://github.com/ecomp-shONgit   \n",
       "\n",
       "                                         followers_url  \\\n",
       "127       https://api.github.com/users/maehr/followers   \n",
       "252  https://api.github.com/users/ecomp-shONgit/fol...   \n",
       "\n",
       "                                         following_url  \\\n",
       "127  https://api.github.com/users/maehr/following{/...   \n",
       "252  https://api.github.com/users/ecomp-shONgit/fol...   \n",
       "\n",
       "                                             gists_url  ... hooks_url  \\\n",
       "127  https://api.github.com/users/maehr/gists{/gist...  ...       NaN   \n",
       "252  https://api.github.com/users/ecomp-shONgit/gis...  ...       NaN   \n",
       "\n",
       "    issues_url members_url public_members_url description is_verified  \\\n",
       "127        NaN         NaN                NaN         NaN         NaN   \n",
       "252        NaN         NaN                NaN         NaN         NaN   \n",
       "\n",
       "    has_organization_projects  has_repository_projects finalized_language  \\\n",
       "127                       NaN                      NaN                 en   \n",
       "252                       NaN                      NaN             en, de   \n",
       "\n",
       "    keep_resource  \n",
       "127          True  \n",
       "252          True  \n",
       "\n",
       "[2 rows x 52 columns]"
      ]
     },
     "execution_count": 16,
     "metadata": {},
     "output_type": "execute_result"
    }
   ],
   "source": [
    "core_users[core_users.following > 300]"
   ]
  },
  {
   "attachments": {},
   "cell_type": "markdown",
   "metadata": {},
   "source": [
    "### Get Missing Counts"
   ]
  },
  {
   "cell_type": "code",
   "execution_count": 4,
   "metadata": {},
   "outputs": [],
   "source": [
    "if os.path.exists(\"../data/metadata_files/user_url_cols.csv\"):\n",
    "    cols_df = pd.read_csv(\"../data/metadata_files/user_url_cols.csv\")\n",
    "else:\n",
    "    cols_dict ={'followers': 'followers', 'following': 'following', 'public_repos': 'public_repos', 'public_gists': 'public_gists', 'star_count': 'starred_url', 'subscription_count': 'subscriptions_url', 'organization_count': 'organizations_url'}\n",
    "    cols_df = pd.DataFrame(cols_dict.items(), columns=['col_name', 'col_url'])\n",
    "    cols = cols_df.col_name.tolist()\n",
    "    reverse_cols = cols[::-1]\n",
    "    cols_df.to_csv(\"../data/metadata_files/user_url_cols.csv\", index=False)"
   ]
  },
  {
   "cell_type": "code",
   "execution_count": 6,
   "metadata": {},
   "outputs": [
    {
     "data": {
      "text/html": [
       "<div>\n",
       "<style scoped>\n",
       "    .dataframe tbody tr th:only-of-type {\n",
       "        vertical-align: middle;\n",
       "    }\n",
       "\n",
       "    .dataframe tbody tr th {\n",
       "        vertical-align: top;\n",
       "    }\n",
       "\n",
       "    .dataframe thead th {\n",
       "        text-align: right;\n",
       "    }\n",
       "</style>\n",
       "<table border=\"1\" class=\"dataframe\">\n",
       "  <thead>\n",
       "    <tr style=\"text-align: right;\">\n",
       "      <th></th>\n",
       "      <th>col_name</th>\n",
       "      <th>col_url</th>\n",
       "    </tr>\n",
       "  </thead>\n",
       "  <tbody>\n",
       "    <tr>\n",
       "      <th>0</th>\n",
       "      <td>followers</td>\n",
       "      <td>followers_url</td>\n",
       "    </tr>\n",
       "    <tr>\n",
       "      <th>1</th>\n",
       "      <td>following</td>\n",
       "      <td>following_url</td>\n",
       "    </tr>\n",
       "    <tr>\n",
       "      <th>2</th>\n",
       "      <td>public_repos</td>\n",
       "      <td>repos_url</td>\n",
       "    </tr>\n",
       "    <tr>\n",
       "      <th>3</th>\n",
       "      <td>public_gists</td>\n",
       "      <td>gists_url</td>\n",
       "    </tr>\n",
       "    <tr>\n",
       "      <th>4</th>\n",
       "      <td>star_count</td>\n",
       "      <td>starred_url</td>\n",
       "    </tr>\n",
       "    <tr>\n",
       "      <th>5</th>\n",
       "      <td>subscription_count</td>\n",
       "      <td>subscriptions_url</td>\n",
       "    </tr>\n",
       "    <tr>\n",
       "      <th>6</th>\n",
       "      <td>organization_count</td>\n",
       "      <td>organizations_url</td>\n",
       "    </tr>\n",
       "  </tbody>\n",
       "</table>\n",
       "</div>"
      ],
      "text/plain": [
       "             col_name            col_url\n",
       "0           followers      followers_url\n",
       "1           following      following_url\n",
       "2        public_repos          repos_url\n",
       "3        public_gists          gists_url\n",
       "4          star_count        starred_url\n",
       "5  subscription_count  subscriptions_url\n",
       "6  organization_count  organizations_url"
      ]
     },
     "execution_count": 6,
     "metadata": {},
     "output_type": "execute_result"
    }
   ],
   "source": [
    "cols_df"
   ]
  },
  {
   "cell_type": "code",
   "execution_count": 5,
   "metadata": {},
   "outputs": [],
   "source": [
    "# for index, row in cols_df.iterrows():\n",
    "#     if (row['col_name'] not in core_users.columns) or (core_users[core_users[row.col_name].isna()].shape[0] > 0):\n",
    "#         if 'url' in row.col_url:\n",
    "#             print(f'Getting {row.col_name} for core users')\n",
    "#             print(row.col_name, row.col_url)\n",
    "#             # core_users = check_total_results(core_users, row.col_name, row.col_url)\n",
    "#         else:\n",
    "#             print(f'Issues with {row.col_name} for core users')"
   ]
  },
  {
   "cell_type": "code",
   "execution_count": 6,
   "metadata": {},
   "outputs": [],
   "source": [
    "# core_users.to_csv(\"../data/derived_files/core_users.csv\", index=False)"
   ]
  },
  {
   "attachments": {},
   "cell_type": "markdown",
   "metadata": {},
   "source": [
    "### Get User Followers"
   ]
  },
  {
   "cell_type": "code",
   "execution_count": 7,
   "metadata": {},
   "outputs": [],
   "source": [
    "user_users_output_path = \"../data/large_files/join_files/user_followers_join_dataset.csv\"\n",
    "users_output_path = \"../data/entity_files/users_dataset.csv\"\n",
    "get_url_field = \"followers_url\"\n",
    "load_existing_files = True\n",
    "overwrite_existing_temp_files = False\n",
    "join_unique_field = 'user_login'\n",
    "filter_fields = ['user_login', 'login']\n",
    "\n",
    "users_followers_df, user_df = get_user_users_activities(core_users,user_users_output_path, users_output_path, get_url_field, load_existing_files, overwrite_existing_temp_files, join_unique_field, filter_fields)"
   ]
  },
  {
   "attachments": {},
   "cell_type": "markdown",
   "metadata": {},
   "source": [
    "### Get User Following"
   ]
  },
  {
   "cell_type": "code",
   "execution_count": 18,
   "metadata": {},
   "outputs": [],
   "source": [
    "user_users_output_path = \"../data/large_files/join_files/user_following_join_dataset.csv\"\n",
    "users_output_path = \"../data/entity_files/users_dataset.csv\"\n",
    "get_url_field = \"following_url\"\n",
    "load_existing_files = True\n",
    "overwrite_existing_temp_files = False\n",
    "join_unique_field = 'user_login'\n",
    "filter_fields = ['user_login', 'login']\n",
    "\n",
    "users_following_df, user_df = get_user_users_activities(core_users, user_users_output_path, users_output_path, get_url_field, load_existing_files, overwrite_existing_temp_files, join_unique_field, filter_fields)"
   ]
  },
  {
   "attachments": {},
   "cell_type": "markdown",
   "metadata": {},
   "source": [
    "### Get User Stars"
   ]
  },
  {
   "cell_type": "code",
   "execution_count": 20,
   "metadata": {},
   "outputs": [],
   "source": [
    "user_users_output_path = \"../data/large_files/join_files/user_starred_join_dataset.csv\"\n",
    "users_output_path = \"../data/entity_files/users_dataset.csv\"\n",
    "get_url_field = \"starred_url\"\n",
    "load_existing_files = True\n",
    "overwrite_existing_temp_files = False\n",
    "join_unique_field = 'user_login'\n",
    "filter_fields = ['user_login', 'full_name']\n",
    "\n",
    "users_starred_df, user_df = get_user_repo_activities(core_users,user_users_output_path, users_output_path, get_url_field, load_existing_files, overwrite_existing_temp_files, join_unique_field, filter_fields)"
   ]
  },
  {
   "attachments": {},
   "cell_type": "markdown",
   "metadata": {},
   "source": [
    "### Get User Repos"
   ]
  },
  {
   "cell_type": "code",
   "execution_count": 7,
   "metadata": {},
   "outputs": [],
   "source": [
    "user_repos_output_path = \"../data/large_files/join_files/user_repos_join_dataset.csv\"\n",
    "users_output_path = \"../data/entity_files/users_dataset.csv\"\n",
    "get_url_field = \"repos_url\"\n",
    "load_existing_files = True\n",
    "overwrite_existing_temp_files = False\n",
    "\n",
    "users_repos_df, user_df = get_user_repo_activities(core_users,user_repos_output_path, users_output_path, get_url_field, load_existing_files, overwrite_existing_temp_files)"
   ]
  },
  {
   "attachments": {},
   "cell_type": "markdown",
   "metadata": {},
   "source": [
    "### Get User Subscriptions"
   ]
  },
  {
   "cell_type": "code",
   "execution_count": 23,
   "metadata": {},
   "outputs": [],
   "source": [
    "user_subscriptions_output_path = \"../data/large_files/join_files/user_subscriptions_join_dataset.csv\"\n",
    "users_output_path = \"../data/entity_files/users_dataset.csv\"\n",
    "get_url_field = \"subscriptions_url\"\n",
    "load_existing_files = True\n",
    "overwrite_existing_temp_files = False\n",
    "\n",
    "users_subscriptions_df, user_df = get_user_repo_activities(core_users,user_subscriptions_output_path, users_output_path, get_url_field, load_existing_files, overwrite_existing_temp_files)"
   ]
  },
  {
   "attachments": {},
   "cell_type": "markdown",
   "metadata": {},
   "source": [
    "### Get User Organizations"
   ]
  },
  {
   "cell_type": "code",
   "execution_count": null,
   "metadata": {},
   "outputs": [],
   "source": [
    "user_organizations_output_path = \"../data/large_files/join_files/user_organizations_join_dataset.csv\"\n",
    "users_output_path = \"../data/entity_files/users_dataset.csv\"\n",
    "get_url_field = \"organizations_url\"\n",
    "load_existing_files = True\n",
    "overwrite_existing_temp_files = False\n",
    "\n",
    "users_organizations_df, user_df = get_user_repo_activities(core_users,user_organizations_output_path, users_output_path, get_url_field, load_existing_files, overwrite_existing_temp_files)"
   ]
  },
  {
   "attachments": {},
   "cell_type": "markdown",
   "metadata": {},
   "source": []
  }
 ],
 "metadata": {
  "kernelspec": {
   "display_name": "Python 3.9.15 ('values_and_versions_env')",
   "language": "python",
   "name": "python3"
  },
  "language_info": {
   "codemirror_mode": {
    "name": "ipython",
    "version": 3
   },
   "file_extension": ".py",
   "mimetype": "text/x-python",
   "name": "python",
   "nbconvert_exporter": "python",
   "pygments_lexer": "ipython3",
   "version": "3.9.16"
  },
  "orig_nbformat": 4,
  "vscode": {
   "interpreter": {
    "hash": "f9535a2d3234831e7216b5503226355d93b43b15e5931e93b3445b413875c708"
   }
  }
 },
 "nbformat": 4,
 "nbformat_minor": 2
}
