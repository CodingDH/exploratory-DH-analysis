{
 "cells": [
  {
   "cell_type": "code",
   "execution_count": 31,
   "metadata": {},
   "outputs": [],
   "source": [
    "import pandas as pd\n",
    "import sys\n",
    "import os\n",
    "\n",
    "sys.path.append(\"..\")\n",
    "from data_generation_scripts.utils import check_rate_limit\n",
    "from data_generation_scripts.generate_org_users_interactions import get_org_users_activities\n",
    "from data_generation_scripts.generate_org_metadata import get_counts\n",
    "from data_generation_scripts.generate_org_repos_interactions import get_org_repo_activities"
   ]
  },
  {
   "cell_type": "code",
   "execution_count": 2,
   "metadata": {},
   "outputs": [],
   "source": [
    "rates_df = check_rate_limit()"
   ]
  },
  {
   "attachments": {},
   "cell_type": "markdown",
   "metadata": {},
   "source": [
    "### Get Initial Orgs"
   ]
  },
  {
   "cell_type": "code",
   "execution_count": 21,
   "metadata": {},
   "outputs": [],
   "source": [
    "core_orgs_path = \"../data/derived_files/initial_core_orgs.csv\"\n",
    "core_orgs = pd.read_csv(core_orgs_path)"
   ]
  },
  {
   "attachments": {},
   "cell_type": "markdown",
   "metadata": {},
   "source": [
    "### Get Missing Counts"
   ]
  },
  {
   "cell_type": "code",
   "execution_count": 15,
   "metadata": {},
   "outputs": [],
   "source": [
    "if os.path.exists(\"../data/metadata_files/user_url_cols.csv\"):\n",
    "    cols_df = pd.read_csv(\"../data/metadata_files/user_url_cols.csv\")\n",
    "else:\n",
    "    cols_dict ={'followers': 'followers_url', 'following': 'following_url', 'public_repos': 'repos_url', 'public_gists': 'gists_url', 'star_count': 'starred_url', 'subscription_count': 'subscriptions_url', 'organization_count': 'organizations_url'}\n",
    "    cols_df = pd.DataFrame(cols_dict.items(), columns=['col_name', 'col_url'])\n",
    "    cols = cols_df.col_name.tolist()\n",
    "    reverse_cols = cols[::-1]\n",
    "    cols_df.to_csv(\"../data/metadata_files/user_url_cols.csv\", index=False)"
   ]
  },
  {
   "cell_type": "code",
   "execution_count": 7,
   "metadata": {},
   "outputs": [],
   "source": [
    "core_orgs[\"members_url\"] = core_orgs[\"url\"].apply(lambda x: x + \"/public_members\")\n",
    "core_orgs.members_url = core_orgs.members_url.str.replace('users', 'orgs')\n",
    "for index, row in cols_df.iterrows():\n",
    "    if (row['col_name'] not in core_orgs.columns) or (core_orgs[core_orgs[row.col_name].isna()].shape[0] > 0):\n",
    "        if 'url' in row.col_url:\n",
    "            print(f'Getting {row.col_name} for core orgs')\n",
    "            core_orgs = get_counts(core_orgs, row.col_url, row.col_name, overwrite_existing_temp_files=False)\n",
    "            core_orgs.to_csv(core_orgs_path, index=False)\n",
    "        else:\n",
    "            print(f'Issues with {row.col_name} for core orgs')\n",
    "                "
   ]
  },
  {
   "attachments": {},
   "cell_type": "markdown",
   "metadata": {},
   "source": [
    "### Get Organization Members"
   ]
  },
  {
   "cell_type": "code",
   "execution_count": 19,
   "metadata": {},
   "outputs": [],
   "source": [
    "org_members_output_path = \"../data/join_files/org_members_join_dataset.csv\"\n",
    "users_output_path = \"../data/entity_files/users_dataset.csv\"\n",
    "get_url_field = \"members_url\"\n",
    "load_existing_files = True\n",
    "overwrite_existing_temp_files = False\n",
    "join_unique_field = \"org_login\"\n",
    "filter_fields = [\"org_login\", \"login\"]\n",
    "retry_error = False\n",
    "\n",
    "org_members_df, user_df = get_org_users_activities(core_orgs,org_members_output_path, users_output_path, get_url_field, load_existing_files, overwrite_existing_temp_files, join_unique_field, filter_fields, retry_error)"
   ]
  },
  {
   "attachments": {},
   "cell_type": "markdown",
   "metadata": {},
   "source": [
    "### Get Organization Followers"
   ]
  },
  {
   "cell_type": "code",
   "execution_count": null,
   "metadata": {},
   "outputs": [],
   "source": [
    "org_followers_output_path = \"../data/join_files/org_followers_join_dataset.csv\"\n",
    "users_output_path = \"../data/entity_files/users_dataset.csv\"\n",
    "get_url_field = \"followers_url\"\n",
    "load_existing_files = True\n",
    "overwrite_existing_temp_files = False\n",
    "join_unique_field = \"org_login\"\n",
    "filter_fields = [\"org_login\", \"login\"]\n",
    "retry_error = False\n",
    "org_followers_df, user_df = get_org_users_activities(core_orgs,org_followers_output_path, users_output_path, get_url_field, load_existing_files, overwrite_existing_temp_files, join_unique_field, filter_fields, retry_error)"
   ]
  },
  {
   "attachments": {},
   "cell_type": "markdown",
   "metadata": {},
   "source": [
    "### Get Organization Repos"
   ]
  },
  {
   "cell_type": "code",
   "execution_count": 32,
   "metadata": {},
   "outputs": [],
   "source": [
    "org_repos_output_path = \"../data/join_files/org_repos_join_dataset.csv\"\n",
    "repo_output_path = \"../data/large_files/entity_files/repo_dataset.csv\"\n",
    "get_url_field = \"repos_url\"\n",
    "load_existing_files = True\n",
    "overwrite_existing_temp_files = False\n",
    "join_unique_field = \"org_login\"\n",
    "filter_fields = [\"org_login\", \"full_name\"]\n",
    "retry_error = True\n",
    "org_repos_df, user_df = get_org_repo_activities(core_orgs,org_repos_output_path, repo_output_path, get_url_field, load_existing_files, overwrite_existing_temp_files, join_unique_field, filter_fields, retry_error)"
   ]
  },
  {
   "cell_type": "code",
   "execution_count": null,
   "metadata": {},
   "outputs": [],
   "source": []
  }
 ],
 "metadata": {
  "kernelspec": {
   "display_name": "values_and_versions_env",
   "language": "python",
   "name": "python3"
  },
  "language_info": {
   "codemirror_mode": {
    "name": "ipython",
    "version": 3
   },
   "file_extension": ".py",
   "mimetype": "text/x-python",
   "name": "python",
   "nbconvert_exporter": "python",
   "pygments_lexer": "ipython3",
   "version": "3.9.16"
  },
  "orig_nbformat": 4
 },
 "nbformat": 4,
 "nbformat_minor": 2
}
