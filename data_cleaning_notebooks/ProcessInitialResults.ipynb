{
 "cells": [
  {
   "attachments": {},
   "cell_type": "markdown",
   "metadata": {},
   "source": [
    "# Process Initial Results"
   ]
  },
  {
   "cell_type": "code",
   "execution_count": 4,
   "metadata": {},
   "outputs": [],
   "source": [
    "import pandas as pd\n",
    "pd.options.mode.chained_assignment = None\n",
    "import os\n",
    "import sys\n",
    "import warnings\n",
    "warnings.filterwarnings('ignore')\n",
    "\n",
    "sys.path.append(\"../\")\n",
    "from data_generation_scripts.utils import check_rate_limit, check_add_orgs, check_add_repos, check_add_users, check_for_joins_in_older_queries, read_combine_files\n",
    "from data_generation_scripts.generate_expanded_search_data import get_initial_search_datasets\n",
    "from data_generation_scripts.generate_repo_metadata import get_repo_languages, get_repo_labels, get_repo_tags,  get_repo_profile, get_total_commits\n",
    "from data_generation_scripts.generate_repo_users_interactions import get_repos_user_actors\n",
    "from data_generation_scripts.generate_repo_metadata import check_total_results"
   ]
  },
  {
   "attachments": {},
   "cell_type": "markdown",
   "metadata": {},
   "source": [
    "Once you've run `generate_expanded_search_data.py` and then `check_clean_search_results.py` you'll have a series of files in the `data/` directory that contain the results of your search. This notebook will help you process those results into a single file that can be used for analysis."
   ]
  },
  {
   "attachments": {},
   "cell_type": "markdown",
   "metadata": {},
   "source": [
    "Example of how to run `generate_expanded_search_data.py`:\n",
    "\n",
    "```python3\n",
    "rates_df = check_rate_limit()\n",
    "initial_repo_output_path = \"../data/repo_data/\"\n",
    "repo_output_path = \"../data/large_files/entity_files/repos_dataset.csv\"\n",
    "repo_join_output_path = \"../data/large_files/join_files/search_queries_repo_join_dataset.csv\"\n",
    "\n",
    "initial_user_output_path = \"../data/user_data/\"\n",
    "user_output_path = \"../data/entity_files/users_dataset.csv\"\n",
    "user_join_output_path = \"../data/join_files/search_queries_user_join_dataset.csv\"\n",
    "load_existing_data = False\n",
    "overwrite_existing_temp_files = False\n",
    "org_output_path = \"../data/entity_files/orgs_dataset.csv\"\n",
    "\n",
    "get_initial_search_datasets(rates_df, initial_repo_output_path,  repo_output_path, repo_join_output_path, initial_user_output_path, user_output_path, user_join_output_path, org_output_path, overwrite_existing_temp_files, load_existing_data)\n",
    "```\n",
    "\n",
    "And then just run `check_clean_search_results.py` "
   ]
  },
  {
   "attachments": {},
   "cell_type": "markdown",
   "metadata": {},
   "source": [
    "### Create Initial Core Results"
   ]
  },
  {
   "cell_type": "code",
   "execution_count": 54,
   "metadata": {},
   "outputs": [],
   "source": [
    "user_df = pd.read_csv(\"../data/entity_files/users_dataset.csv\")\n",
    "repo_df = pd.read_csv(\"../data/large_files/entity_files/repos_dataset.csv\", low_memory=False)\n",
    "org_df = pd.read_csv(\"../data/entity_files/orgs_dataset.csv\", low_memory=False)\n",
    "search_queries_repo_join_df = pd.read_csv(\"../data/derived_files/updated_search_queries_repo_join_subset_dh_dataset.csv\")\n",
    "search_queries_user_join_df = pd.read_csv(\n",
    "    \"../data/derived_files/updated_search_queries_user_join_subset_dh_dataset.csv\")"
   ]
  },
  {
   "attachments": {},
   "cell_type": "markdown",
   "metadata": {},
   "source": [
    "Initial core datasets will be comprised of the following:\n",
    "\n",
    "- `core_repos`: A list of all repos that were returned by the search query\n",
    "- `core_users`: A list of all users that were returned by the search query\n",
    "- `core_orgs`: A list of all orgs that were returned by the search query"
   ]
  },
  {
   "cell_type": "code",
   "execution_count": 121,
   "metadata": {},
   "outputs": [],
   "source": [
    "join_file_path = \"../data/join_files/search_queries_user_join_dataset.csv\"\n",
    "join_type = join_file_path.split(\"/\")[-1].split(\"_dataset\")[0]\n",
    "\n",
    "older_join_file_path = join_file_path.replace(\"data/\", \"data/older_files/\")\n",
    "older_join_file_dir = os.path.dirname(older_join_file_path) + \"/\"\n",
    "\n",
    "older_join_df = read_combine_files(dir_path=older_join_file_dir, check_all_dirs=True, file_path_contains=join_type, large_files=False) \n",
    "\n",
    "entity_type = \"\" if \"search\" in join_file_path else \"repo\" if \"repo\" in join_file_path else \"user\""
   ]
  },
  {
   "cell_type": "code",
   "execution_count": 122,
   "metadata": {},
   "outputs": [],
   "source": [
    "subset_terms = ['Digital Humanities']"
   ]
  },
  {
   "cell_type": "code",
   "execution_count": 123,
   "metadata": {},
   "outputs": [],
   "source": [
    "older_join_df = older_join_df[older_join_df.search_term_source.isin(subset_terms)]"
   ]
  },
  {
   "cell_type": "code",
   "execution_count": 124,
   "metadata": {},
   "outputs": [],
   "source": [
    "join_unique_field = \"search_query\"\n",
    "older_join_df = older_join_df[older_join_df[join_unique_field].notna()]"
   ]
  },
  {
   "cell_type": "code",
   "execution_count": 59,
   "metadata": {},
   "outputs": [
    {
     "data": {
      "text/plain": [
       "6993"
      ]
     },
     "execution_count": 59,
     "metadata": {},
     "output_type": "execute_result"
    }
   ],
   "source": [
    "len(older_join_df)"
   ]
  },
  {
   "cell_type": "code",
   "execution_count": 60,
   "metadata": {},
   "outputs": [],
   "source": [
    "df = search_queries_user_join_df.copy()\n",
    "older_df = older_join_df.copy()\n",
    "subset_fields = [\"login\", \"cleaned_search_query\"]"
   ]
  },
  {
   "cell_type": "code",
   "execution_count": 61,
   "metadata": {},
   "outputs": [],
   "source": [
    "import numpy as np"
   ]
  },
  {
   "cell_type": "code",
   "execution_count": 63,
   "metadata": {},
   "outputs": [
    {
     "data": {
      "text/plain": [
       "7790"
      ]
     },
     "execution_count": 63,
     "metadata": {},
     "output_type": "execute_result"
    }
   ],
   "source": [
    "test = pd.concat([search_queries_user_join_df, older_join_df])\n",
    "len(test)"
   ]
  },
  {
   "cell_type": "code",
   "execution_count": 64,
   "metadata": {},
   "outputs": [],
   "source": [
    "test['cleaned_search_query_time'] = None\n",
    "test.loc[test.cleaned_search_query_time.isna(), 'cleaned_search_query_time'] = \"2022-10-10\"\n",
    "test.loc[test.search_query_time.notna(), 'cleaned_search_query_time'] = test.loc[test.search_query_time.notna(), 'search_query_time']\n",
    "test['cleaned_search_query_time'] = pd.to_datetime(test['cleaned_search_query_time'], errors='coerce')"
   ]
  },
  {
   "cell_type": "code",
   "execution_count": 65,
   "metadata": {},
   "outputs": [],
   "source": [
    "test['cleaned_search_query'] = test['search_query'].str.replace('%22', '\"').str.replace('\"', '').str.replace('%3A', ':').str.split('&page').str[0]"
   ]
  },
  {
   "cell_type": "code",
   "execution_count": 66,
   "metadata": {},
   "outputs": [],
   "source": [
    "test2 = test.sort_values(by=['cleaned_search_query_time'], ascending=False).drop_duplicates(subset=subset_fields, keep='first')"
   ]
  },
  {
   "cell_type": "code",
   "execution_count": 92,
   "metadata": {},
   "outputs": [
    {
     "data": {
      "text/plain": [
       "(797, 930)"
      ]
     },
     "execution_count": 92,
     "metadata": {},
     "output_type": "execute_result"
    }
   ],
   "source": [
    "df = search_queries_user_join_df.copy()\n",
    "older_df = test2.copy()\n",
    "len(df), len(older_df)"
   ]
  },
  {
   "cell_type": "code",
   "execution_count": 99,
   "metadata": {},
   "outputs": [],
   "source": [
    "subset_older_df = older_df[['login', 'cleaned_search_query']].reset_index(drop=True)\n",
    "subset_older_df = subset_older_df[subset_older_df.login.notna()]"
   ]
  },
  {
   "cell_type": "code",
   "execution_count": 101,
   "metadata": {},
   "outputs": [],
   "source": [
    "subset_df = df[['login', 'cleaned_search_query']].reset_index(drop=True)"
   ]
  },
  {
   "cell_type": "code",
   "execution_count": 102,
   "metadata": {},
   "outputs": [],
   "source": [
    "subset_df['type_of_join'] = \"new\"\n",
    "subset_older_df['type_of_join'] = \"old\""
   ]
  },
  {
   "cell_type": "code",
   "execution_count": 105,
   "metadata": {},
   "outputs": [],
   "source": [
    "merged_df = pd.merge(subset_df, subset_older_df, on=['login', 'cleaned_search_query'], how='outer', indicator=True)"
   ]
  },
  {
   "cell_type": "code",
   "execution_count": 119,
   "metadata": {},
   "outputs": [],
   "source": [
    "missing_values = merged_df[merged_df._merge == 'right_only']\n",
    "\n",
    "double_check = missing_values[subset_fields]\n",
    "combined_condition = np.ones(len(older_df), dtype=bool)\n",
    "for field in subset_fields:\n",
    "    combined_condition = combined_condition & older_df[field].isin(double_check[field])\n",
    "older_df['double_check'] = np.where(combined_condition, 1, 0)\n",
    "final_missing_values = older_df[(older_df.double_check == 1) & (older_df[subset_fields[0]].isin(double_check[subset_fields[0]]))]"
   ]
  },
  {
   "cell_type": "code",
   "execution_count": 120,
   "metadata": {},
   "outputs": [
    {
     "data": {
      "text/html": [
       "<div>\n",
       "<style scoped>\n",
       "    .dataframe tbody tr th:only-of-type {\n",
       "        vertical-align: middle;\n",
       "    }\n",
       "\n",
       "    .dataframe tbody tr th {\n",
       "        vertical-align: top;\n",
       "    }\n",
       "\n",
       "    .dataframe thead th {\n",
       "        text-align: right;\n",
       "    }\n",
       "</style>\n",
       "<table border=\"1\" class=\"dataframe\">\n",
       "  <thead>\n",
       "    <tr style=\"text-align: right;\">\n",
       "      <th></th>\n",
       "      <th>login</th>\n",
       "      <th>id</th>\n",
       "      <th>node_id</th>\n",
       "      <th>avatar_url</th>\n",
       "      <th>gravatar_id</th>\n",
       "      <th>url</th>\n",
       "      <th>html_url</th>\n",
       "      <th>followers_url</th>\n",
       "      <th>following_url</th>\n",
       "      <th>gists_url</th>\n",
       "      <th>...</th>\n",
       "      <th>hooks_url</th>\n",
       "      <th>issues_url</th>\n",
       "      <th>members_url</th>\n",
       "      <th>public_members_url</th>\n",
       "      <th>description</th>\n",
       "      <th>is_verified</th>\n",
       "      <th>has_organization_projects</th>\n",
       "      <th>has_repository_projects</th>\n",
       "      <th>double_check</th>\n",
       "      <th>cleaned_search_query_time</th>\n",
       "    </tr>\n",
       "  </thead>\n",
       "  <tbody>\n",
       "    <tr>\n",
       "      <th>585</th>\n",
       "      <td>dhtaxonomy</td>\n",
       "      <td>6716560.0</td>\n",
       "      <td>MDEyOk9yZ2FuaXphdGlvbjY3MTY1NjA=</td>\n",
       "      <td>https://avatars.githubusercontent.com/u/671656...</td>\n",
       "      <td>NaN</td>\n",
       "      <td>https://api.github.com/users/dhtaxonomy</td>\n",
       "      <td>https://github.com/dhtaxonomy</td>\n",
       "      <td>https://api.github.com/users/dhtaxonomy/followers</td>\n",
       "      <td>https://api.github.com/users/dhtaxonomy/follow...</td>\n",
       "      <td>https://api.github.com/users/dhtaxonomy/gists{...</td>\n",
       "      <td>...</td>\n",
       "      <td>NaN</td>\n",
       "      <td>NaN</td>\n",
       "      <td>NaN</td>\n",
       "      <td>NaN</td>\n",
       "      <td>NaN</td>\n",
       "      <td>NaN</td>\n",
       "      <td>NaN</td>\n",
       "      <td>NaN</td>\n",
       "      <td>1</td>\n",
       "      <td>2023-03-19</td>\n",
       "    </tr>\n",
       "    <tr>\n",
       "      <th>593</th>\n",
       "      <td>CDH-SC</td>\n",
       "      <td>10634990.0</td>\n",
       "      <td>MDEyOk9yZ2FuaXphdGlvbjEwNjM0OTkw</td>\n",
       "      <td>https://avatars.githubusercontent.com/u/106349...</td>\n",
       "      <td>NaN</td>\n",
       "      <td>https://api.github.com/users/CDH-SC</td>\n",
       "      <td>https://github.com/CDH-SC</td>\n",
       "      <td>https://api.github.com/users/CDH-SC/followers</td>\n",
       "      <td>https://api.github.com/users/CDH-SC/following{...</td>\n",
       "      <td>https://api.github.com/users/CDH-SC/gists{/gis...</td>\n",
       "      <td>...</td>\n",
       "      <td>NaN</td>\n",
       "      <td>NaN</td>\n",
       "      <td>NaN</td>\n",
       "      <td>NaN</td>\n",
       "      <td>NaN</td>\n",
       "      <td>NaN</td>\n",
       "      <td>NaN</td>\n",
       "      <td>NaN</td>\n",
       "      <td>1</td>\n",
       "      <td>2023-03-19</td>\n",
       "    </tr>\n",
       "    <tr>\n",
       "      <th>599</th>\n",
       "      <td>adholibdh</td>\n",
       "      <td>17990648.0</td>\n",
       "      <td>MDEyOk9yZ2FuaXphdGlvbjE3OTkwNjQ4</td>\n",
       "      <td>https://avatars.githubusercontent.com/u/179906...</td>\n",
       "      <td>NaN</td>\n",
       "      <td>https://api.github.com/users/adholibdh</td>\n",
       "      <td>https://github.com/adholibdh</td>\n",
       "      <td>https://api.github.com/users/adholibdh/followers</td>\n",
       "      <td>https://api.github.com/users/adholibdh/followi...</td>\n",
       "      <td>https://api.github.com/users/adholibdh/gists{/...</td>\n",
       "      <td>...</td>\n",
       "      <td>NaN</td>\n",
       "      <td>NaN</td>\n",
       "      <td>NaN</td>\n",
       "      <td>NaN</td>\n",
       "      <td>NaN</td>\n",
       "      <td>NaN</td>\n",
       "      <td>NaN</td>\n",
       "      <td>NaN</td>\n",
       "      <td>1</td>\n",
       "      <td>2023-03-19</td>\n",
       "    </tr>\n",
       "    <tr>\n",
       "      <th>568</th>\n",
       "      <td>dhh21</td>\n",
       "      <td>83238279.0</td>\n",
       "      <td>MDEyOk9yZ2FuaXphdGlvbjgzMjM4Mjc5</td>\n",
       "      <td>https://avatars.githubusercontent.com/u/832382...</td>\n",
       "      <td>NaN</td>\n",
       "      <td>https://api.github.com/users/dhh21</td>\n",
       "      <td>https://github.com/dhh21</td>\n",
       "      <td>https://api.github.com/users/dhh21/followers</td>\n",
       "      <td>https://api.github.com/users/dhh21/following{/...</td>\n",
       "      <td>https://api.github.com/users/dhh21/gists{/gist...</td>\n",
       "      <td>...</td>\n",
       "      <td>NaN</td>\n",
       "      <td>NaN</td>\n",
       "      <td>NaN</td>\n",
       "      <td>NaN</td>\n",
       "      <td>NaN</td>\n",
       "      <td>NaN</td>\n",
       "      <td>NaN</td>\n",
       "      <td>NaN</td>\n",
       "      <td>1</td>\n",
       "      <td>2023-03-19</td>\n",
       "    </tr>\n",
       "    <tr>\n",
       "      <th>572</th>\n",
       "      <td>idrhku</td>\n",
       "      <td>17508677.0</td>\n",
       "      <td>MDEyOk9yZ2FuaXphdGlvbjE3NTA4Njc3</td>\n",
       "      <td>https://avatars.githubusercontent.com/u/175086...</td>\n",
       "      <td>NaN</td>\n",
       "      <td>https://api.github.com/users/idrhku</td>\n",
       "      <td>https://github.com/idrhku</td>\n",
       "      <td>https://api.github.com/users/idrhku/followers</td>\n",
       "      <td>https://api.github.com/users/idrhku/following{...</td>\n",
       "      <td>https://api.github.com/users/idrhku/gists{/gis...</td>\n",
       "      <td>...</td>\n",
       "      <td>NaN</td>\n",
       "      <td>NaN</td>\n",
       "      <td>NaN</td>\n",
       "      <td>NaN</td>\n",
       "      <td>NaN</td>\n",
       "      <td>NaN</td>\n",
       "      <td>NaN</td>\n",
       "      <td>NaN</td>\n",
       "      <td>1</td>\n",
       "      <td>2023-03-19</td>\n",
       "    </tr>\n",
       "    <tr>\n",
       "      <th>...</th>\n",
       "      <td>...</td>\n",
       "      <td>...</td>\n",
       "      <td>...</td>\n",
       "      <td>...</td>\n",
       "      <td>...</td>\n",
       "      <td>...</td>\n",
       "      <td>...</td>\n",
       "      <td>...</td>\n",
       "      <td>...</td>\n",
       "      <td>...</td>\n",
       "      <td>...</td>\n",
       "      <td>...</td>\n",
       "      <td>...</td>\n",
       "      <td>...</td>\n",
       "      <td>...</td>\n",
       "      <td>...</td>\n",
       "      <td>...</td>\n",
       "      <td>...</td>\n",
       "      <td>...</td>\n",
       "      <td>...</td>\n",
       "      <td>...</td>\n",
       "    </tr>\n",
       "    <tr>\n",
       "      <th>1153</th>\n",
       "      <td>XiaoyanYangAlice</td>\n",
       "      <td>121414040.0</td>\n",
       "      <td>U_kgDOBzyhmA</td>\n",
       "      <td>https://avatars.githubusercontent.com/u/121414...</td>\n",
       "      <td>NaN</td>\n",
       "      <td>https://api.github.com/users/XiaoyanYangAlice</td>\n",
       "      <td>https://github.com/XiaoyanYangAlice</td>\n",
       "      <td>https://api.github.com/users/XiaoyanYangAlice/...</td>\n",
       "      <td>https://api.github.com/users/XiaoyanYangAlice/...</td>\n",
       "      <td>https://api.github.com/users/XiaoyanYangAlice/...</td>\n",
       "      <td>...</td>\n",
       "      <td>NaN</td>\n",
       "      <td>NaN</td>\n",
       "      <td>NaN</td>\n",
       "      <td>NaN</td>\n",
       "      <td>NaN</td>\n",
       "      <td>NaN</td>\n",
       "      <td>NaN</td>\n",
       "      <td>NaN</td>\n",
       "      <td>1</td>\n",
       "      <td>2023-03-19</td>\n",
       "    </tr>\n",
       "    <tr>\n",
       "      <th>3785</th>\n",
       "      <td>ngonthier</td>\n",
       "      <td>23408564.0</td>\n",
       "      <td>MDQ6VXNlcjIzNDA4NTY0</td>\n",
       "      <td>https://avatars.githubusercontent.com/u/234085...</td>\n",
       "      <td>NaN</td>\n",
       "      <td>https://api.github.com/users/ngonthier</td>\n",
       "      <td>https://github.com/ngonthier</td>\n",
       "      <td>https://api.github.com/users/ngonthier/followers</td>\n",
       "      <td>https://api.github.com/users/ngonthier/followi...</td>\n",
       "      <td>https://api.github.com/users/ngonthier/gists{/...</td>\n",
       "      <td>...</td>\n",
       "      <td>NaN</td>\n",
       "      <td>NaN</td>\n",
       "      <td>NaN</td>\n",
       "      <td>NaN</td>\n",
       "      <td>NaN</td>\n",
       "      <td>NaN</td>\n",
       "      <td>NaN</td>\n",
       "      <td>NaN</td>\n",
       "      <td>1</td>\n",
       "      <td>2022-11-19</td>\n",
       "    </tr>\n",
       "    <tr>\n",
       "      <th>3786</th>\n",
       "      <td>yueyue4359</td>\n",
       "      <td>88612363.0</td>\n",
       "      <td>MDQ6VXNlcjg4NjEyMzYz</td>\n",
       "      <td>https://avatars.githubusercontent.com/u/886123...</td>\n",
       "      <td>NaN</td>\n",
       "      <td>https://api.github.com/users/yueyue4359</td>\n",
       "      <td>https://github.com/yueyue4359</td>\n",
       "      <td>https://api.github.com/users/yueyue4359/followers</td>\n",
       "      <td>https://api.github.com/users/yueyue4359/follow...</td>\n",
       "      <td>https://api.github.com/users/yueyue4359/gists{...</td>\n",
       "      <td>...</td>\n",
       "      <td>NaN</td>\n",
       "      <td>NaN</td>\n",
       "      <td>NaN</td>\n",
       "      <td>NaN</td>\n",
       "      <td>NaN</td>\n",
       "      <td>NaN</td>\n",
       "      <td>NaN</td>\n",
       "      <td>NaN</td>\n",
       "      <td>1</td>\n",
       "      <td>2022-11-19</td>\n",
       "    </tr>\n",
       "    <tr>\n",
       "      <th>3787</th>\n",
       "      <td>hvm-uu</td>\n",
       "      <td>83591395.0</td>\n",
       "      <td>MDQ6VXNlcjgzNTkxMzk1</td>\n",
       "      <td>https://avatars.githubusercontent.com/u/835913...</td>\n",
       "      <td>NaN</td>\n",
       "      <td>https://api.github.com/users/hvm-uu</td>\n",
       "      <td>https://github.com/hvm-uu</td>\n",
       "      <td>https://api.github.com/users/hvm-uu/followers</td>\n",
       "      <td>https://api.github.com/users/hvm-uu/following{...</td>\n",
       "      <td>https://api.github.com/users/hvm-uu/gists{/gis...</td>\n",
       "      <td>...</td>\n",
       "      <td>NaN</td>\n",
       "      <td>NaN</td>\n",
       "      <td>NaN</td>\n",
       "      <td>NaN</td>\n",
       "      <td>NaN</td>\n",
       "      <td>NaN</td>\n",
       "      <td>NaN</td>\n",
       "      <td>NaN</td>\n",
       "      <td>1</td>\n",
       "      <td>2022-11-12</td>\n",
       "    </tr>\n",
       "    <tr>\n",
       "      <th>3788</th>\n",
       "      <td>2enyoasamoah</td>\n",
       "      <td>106137379.0</td>\n",
       "      <td>U_kgDOBlOHIw</td>\n",
       "      <td>https://avatars.githubusercontent.com/u/106137...</td>\n",
       "      <td>NaN</td>\n",
       "      <td>https://api.github.com/users/2enyoasamoah</td>\n",
       "      <td>https://github.com/2enyoasamoah</td>\n",
       "      <td>https://api.github.com/users/2enyoasamoah/foll...</td>\n",
       "      <td>https://api.github.com/users/2enyoasamoah/foll...</td>\n",
       "      <td>https://api.github.com/users/2enyoasamoah/gist...</td>\n",
       "      <td>...</td>\n",
       "      <td>NaN</td>\n",
       "      <td>NaN</td>\n",
       "      <td>NaN</td>\n",
       "      <td>NaN</td>\n",
       "      <td>NaN</td>\n",
       "      <td>NaN</td>\n",
       "      <td>NaN</td>\n",
       "      <td>NaN</td>\n",
       "      <td>1</td>\n",
       "      <td>2022-11-12</td>\n",
       "    </tr>\n",
       "  </tbody>\n",
       "</table>\n",
       "<p>133 rows × 54 columns</p>\n",
       "</div>"
      ],
      "text/plain": [
       "                 login           id                           node_id  \\\n",
       "585         dhtaxonomy    6716560.0  MDEyOk9yZ2FuaXphdGlvbjY3MTY1NjA=   \n",
       "593             CDH-SC   10634990.0  MDEyOk9yZ2FuaXphdGlvbjEwNjM0OTkw   \n",
       "599          adholibdh   17990648.0  MDEyOk9yZ2FuaXphdGlvbjE3OTkwNjQ4   \n",
       "568              dhh21   83238279.0  MDEyOk9yZ2FuaXphdGlvbjgzMjM4Mjc5   \n",
       "572             idrhku   17508677.0  MDEyOk9yZ2FuaXphdGlvbjE3NTA4Njc3   \n",
       "...                ...          ...                               ...   \n",
       "1153  XiaoyanYangAlice  121414040.0                      U_kgDOBzyhmA   \n",
       "3785         ngonthier   23408564.0              MDQ6VXNlcjIzNDA4NTY0   \n",
       "3786        yueyue4359   88612363.0              MDQ6VXNlcjg4NjEyMzYz   \n",
       "3787            hvm-uu   83591395.0              MDQ6VXNlcjgzNTkxMzk1   \n",
       "3788      2enyoasamoah  106137379.0                      U_kgDOBlOHIw   \n",
       "\n",
       "                                             avatar_url  gravatar_id  \\\n",
       "585   https://avatars.githubusercontent.com/u/671656...          NaN   \n",
       "593   https://avatars.githubusercontent.com/u/106349...          NaN   \n",
       "599   https://avatars.githubusercontent.com/u/179906...          NaN   \n",
       "568   https://avatars.githubusercontent.com/u/832382...          NaN   \n",
       "572   https://avatars.githubusercontent.com/u/175086...          NaN   \n",
       "...                                                 ...          ...   \n",
       "1153  https://avatars.githubusercontent.com/u/121414...          NaN   \n",
       "3785  https://avatars.githubusercontent.com/u/234085...          NaN   \n",
       "3786  https://avatars.githubusercontent.com/u/886123...          NaN   \n",
       "3787  https://avatars.githubusercontent.com/u/835913...          NaN   \n",
       "3788  https://avatars.githubusercontent.com/u/106137...          NaN   \n",
       "\n",
       "                                                url  \\\n",
       "585         https://api.github.com/users/dhtaxonomy   \n",
       "593             https://api.github.com/users/CDH-SC   \n",
       "599          https://api.github.com/users/adholibdh   \n",
       "568              https://api.github.com/users/dhh21   \n",
       "572             https://api.github.com/users/idrhku   \n",
       "...                                             ...   \n",
       "1153  https://api.github.com/users/XiaoyanYangAlice   \n",
       "3785         https://api.github.com/users/ngonthier   \n",
       "3786        https://api.github.com/users/yueyue4359   \n",
       "3787            https://api.github.com/users/hvm-uu   \n",
       "3788      https://api.github.com/users/2enyoasamoah   \n",
       "\n",
       "                                 html_url  \\\n",
       "585         https://github.com/dhtaxonomy   \n",
       "593             https://github.com/CDH-SC   \n",
       "599          https://github.com/adholibdh   \n",
       "568              https://github.com/dhh21   \n",
       "572             https://github.com/idrhku   \n",
       "...                                   ...   \n",
       "1153  https://github.com/XiaoyanYangAlice   \n",
       "3785         https://github.com/ngonthier   \n",
       "3786        https://github.com/yueyue4359   \n",
       "3787            https://github.com/hvm-uu   \n",
       "3788      https://github.com/2enyoasamoah   \n",
       "\n",
       "                                          followers_url  \\\n",
       "585   https://api.github.com/users/dhtaxonomy/followers   \n",
       "593       https://api.github.com/users/CDH-SC/followers   \n",
       "599    https://api.github.com/users/adholibdh/followers   \n",
       "568        https://api.github.com/users/dhh21/followers   \n",
       "572       https://api.github.com/users/idrhku/followers   \n",
       "...                                                 ...   \n",
       "1153  https://api.github.com/users/XiaoyanYangAlice/...   \n",
       "3785   https://api.github.com/users/ngonthier/followers   \n",
       "3786  https://api.github.com/users/yueyue4359/followers   \n",
       "3787      https://api.github.com/users/hvm-uu/followers   \n",
       "3788  https://api.github.com/users/2enyoasamoah/foll...   \n",
       "\n",
       "                                          following_url  \\\n",
       "585   https://api.github.com/users/dhtaxonomy/follow...   \n",
       "593   https://api.github.com/users/CDH-SC/following{...   \n",
       "599   https://api.github.com/users/adholibdh/followi...   \n",
       "568   https://api.github.com/users/dhh21/following{/...   \n",
       "572   https://api.github.com/users/idrhku/following{...   \n",
       "...                                                 ...   \n",
       "1153  https://api.github.com/users/XiaoyanYangAlice/...   \n",
       "3785  https://api.github.com/users/ngonthier/followi...   \n",
       "3786  https://api.github.com/users/yueyue4359/follow...   \n",
       "3787  https://api.github.com/users/hvm-uu/following{...   \n",
       "3788  https://api.github.com/users/2enyoasamoah/foll...   \n",
       "\n",
       "                                              gists_url  ... hooks_url  \\\n",
       "585   https://api.github.com/users/dhtaxonomy/gists{...  ...       NaN   \n",
       "593   https://api.github.com/users/CDH-SC/gists{/gis...  ...       NaN   \n",
       "599   https://api.github.com/users/adholibdh/gists{/...  ...       NaN   \n",
       "568   https://api.github.com/users/dhh21/gists{/gist...  ...       NaN   \n",
       "572   https://api.github.com/users/idrhku/gists{/gis...  ...       NaN   \n",
       "...                                                 ...  ...       ...   \n",
       "1153  https://api.github.com/users/XiaoyanYangAlice/...  ...       NaN   \n",
       "3785  https://api.github.com/users/ngonthier/gists{/...  ...       NaN   \n",
       "3786  https://api.github.com/users/yueyue4359/gists{...  ...       NaN   \n",
       "3787  https://api.github.com/users/hvm-uu/gists{/gis...  ...       NaN   \n",
       "3788  https://api.github.com/users/2enyoasamoah/gist...  ...       NaN   \n",
       "\n",
       "     issues_url members_url public_members_url description is_verified  \\\n",
       "585         NaN         NaN                NaN         NaN         NaN   \n",
       "593         NaN         NaN                NaN         NaN         NaN   \n",
       "599         NaN         NaN                NaN         NaN         NaN   \n",
       "568         NaN         NaN                NaN         NaN         NaN   \n",
       "572         NaN         NaN                NaN         NaN         NaN   \n",
       "...         ...         ...                ...         ...         ...   \n",
       "1153        NaN         NaN                NaN         NaN         NaN   \n",
       "3785        NaN         NaN                NaN         NaN         NaN   \n",
       "3786        NaN         NaN                NaN         NaN         NaN   \n",
       "3787        NaN         NaN                NaN         NaN         NaN   \n",
       "3788        NaN         NaN                NaN         NaN         NaN   \n",
       "\n",
       "     has_organization_projects has_repository_projects  double_check  \\\n",
       "585                        NaN                     NaN             1   \n",
       "593                        NaN                     NaN             1   \n",
       "599                        NaN                     NaN             1   \n",
       "568                        NaN                     NaN             1   \n",
       "572                        NaN                     NaN             1   \n",
       "...                        ...                     ...           ...   \n",
       "1153                       NaN                     NaN             1   \n",
       "3785                       NaN                     NaN             1   \n",
       "3786                       NaN                     NaN             1   \n",
       "3787                       NaN                     NaN             1   \n",
       "3788                       NaN                     NaN             1   \n",
       "\n",
       "     cleaned_search_query_time  \n",
       "585                 2023-03-19  \n",
       "593                 2023-03-19  \n",
       "599                 2023-03-19  \n",
       "568                 2023-03-19  \n",
       "572                 2023-03-19  \n",
       "...                        ...  \n",
       "1153                2023-03-19  \n",
       "3785                2022-11-19  \n",
       "3786                2022-11-19  \n",
       "3787                2022-11-12  \n",
       "3788                2022-11-12  \n",
       "\n",
       "[133 rows x 54 columns]"
      ]
     },
     "execution_count": 120,
     "metadata": {},
     "output_type": "execute_result"
    }
   ],
   "source": [
    "final_missing_values"
   ]
  },
  {
   "cell_type": "code",
   "execution_count": 106,
   "metadata": {},
   "outputs": [
    {
     "data": {
      "text/plain": [
       "both          796\n",
       "right_only    133\n",
       "left_only       1\n",
       "Name: _merge, dtype: int64"
      ]
     },
     "execution_count": 106,
     "metadata": {},
     "output_type": "execute_result"
    }
   ],
   "source": [
    "merged_df._merge.value_counts()"
   ]
  },
  {
   "cell_type": "code",
   "execution_count": 89,
   "metadata": {},
   "outputs": [],
   "source": [
    "concat_df = pd.concat([df[['login', 'cleaned_search_query', 'type_of_join']], older_df[['login', 'cleaned_search_query', 'type_of_join']]])"
   ]
  },
  {
   "cell_type": "code",
   "execution_count": 91,
   "metadata": {},
   "outputs": [
    {
     "data": {
      "text/html": [
       "<div>\n",
       "<style scoped>\n",
       "    .dataframe tbody tr th:only-of-type {\n",
       "        vertical-align: middle;\n",
       "    }\n",
       "\n",
       "    .dataframe tbody tr th {\n",
       "        vertical-align: top;\n",
       "    }\n",
       "\n",
       "    .dataframe thead th {\n",
       "        text-align: right;\n",
       "    }\n",
       "</style>\n",
       "<table border=\"1\" class=\"dataframe\">\n",
       "  <thead>\n",
       "    <tr style=\"text-align: right;\">\n",
       "      <th></th>\n",
       "      <th>login</th>\n",
       "      <th>cleaned_search_query</th>\n",
       "      <th>type_of_join</th>\n",
       "    </tr>\n",
       "  </thead>\n",
       "  <tbody>\n",
       "    <tr>\n",
       "      <th>0</th>\n",
       "      <td>Humanites-Numeriques-PSL</td>\n",
       "      <td>https://api.github.com/search/users?q=Humanité...</td>\n",
       "      <td>new</td>\n",
       "    </tr>\n",
       "    <tr>\n",
       "      <th>1</th>\n",
       "      <td>hdcaicyt</td>\n",
       "      <td>https://api.github.com/search/users?q=Humanida...</td>\n",
       "      <td>new</td>\n",
       "    </tr>\n",
       "    <tr>\n",
       "      <th>2</th>\n",
       "      <td>humboldtdigital</td>\n",
       "      <td>https://api.github.com/search/users?q=Humanida...</td>\n",
       "      <td>new</td>\n",
       "    </tr>\n",
       "    <tr>\n",
       "      <th>3</th>\n",
       "      <td>Juanaloga</td>\n",
       "      <td>https://api.github.com/search/users?q=Humanida...</td>\n",
       "      <td>new</td>\n",
       "    </tr>\n",
       "    <tr>\n",
       "      <th>4</th>\n",
       "      <td>DCSCyHD</td>\n",
       "      <td>https://api.github.com/search/users?q=Humanida...</td>\n",
       "      <td>new</td>\n",
       "    </tr>\n",
       "    <tr>\n",
       "      <th>...</th>\n",
       "      <td>...</td>\n",
       "      <td>...</td>\n",
       "      <td>...</td>\n",
       "    </tr>\n",
       "    <tr>\n",
       "      <th>3785</th>\n",
       "      <td>ngonthier</td>\n",
       "      <td>https://api.github.com/search/users?q=Digital+...</td>\n",
       "      <td>old</td>\n",
       "    </tr>\n",
       "    <tr>\n",
       "      <th>3786</th>\n",
       "      <td>yueyue4359</td>\n",
       "      <td>https://api.github.com/search/users?q=Digital+...</td>\n",
       "      <td>old</td>\n",
       "    </tr>\n",
       "    <tr>\n",
       "      <th>3787</th>\n",
       "      <td>hvm-uu</td>\n",
       "      <td>https://api.github.com/search/users?q=Digital+...</td>\n",
       "      <td>old</td>\n",
       "    </tr>\n",
       "    <tr>\n",
       "      <th>3788</th>\n",
       "      <td>2enyoasamoah</td>\n",
       "      <td>https://api.github.com/search/users?q=Digital+...</td>\n",
       "      <td>old</td>\n",
       "    </tr>\n",
       "    <tr>\n",
       "      <th>795</th>\n",
       "      <td>NaN</td>\n",
       "      <td>NaN</td>\n",
       "      <td>old</td>\n",
       "    </tr>\n",
       "  </tbody>\n",
       "</table>\n",
       "<p>1727 rows × 3 columns</p>\n",
       "</div>"
      ],
      "text/plain": [
       "                         login  \\\n",
       "0     Humanites-Numeriques-PSL   \n",
       "1                     hdcaicyt   \n",
       "2              humboldtdigital   \n",
       "3                    Juanaloga   \n",
       "4                      DCSCyHD   \n",
       "...                        ...   \n",
       "3785                 ngonthier   \n",
       "3786                yueyue4359   \n",
       "3787                    hvm-uu   \n",
       "3788              2enyoasamoah   \n",
       "795                        NaN   \n",
       "\n",
       "                                   cleaned_search_query type_of_join  \n",
       "0     https://api.github.com/search/users?q=Humanité...          new  \n",
       "1     https://api.github.com/search/users?q=Humanida...          new  \n",
       "2     https://api.github.com/search/users?q=Humanida...          new  \n",
       "3     https://api.github.com/search/users?q=Humanida...          new  \n",
       "4     https://api.github.com/search/users?q=Humanida...          new  \n",
       "...                                                 ...          ...  \n",
       "3785  https://api.github.com/search/users?q=Digital+...          old  \n",
       "3786  https://api.github.com/search/users?q=Digital+...          old  \n",
       "3787  https://api.github.com/search/users?q=Digital+...          old  \n",
       "3788  https://api.github.com/search/users?q=Digital+...          old  \n",
       "795                                                 NaN          old  \n",
       "\n",
       "[1727 rows x 3 columns]"
      ]
     },
     "execution_count": 91,
     "metadata": {},
     "output_type": "execute_result"
    }
   ],
   "source": [
    "concat_df"
   ]
  },
  {
   "cell_type": "code",
   "execution_count": 90,
   "metadata": {},
   "outputs": [
    {
     "ename": "ValueError",
     "evalue": "Index contains duplicate entries, cannot reshape",
     "output_type": "error",
     "traceback": [
      "\u001b[0;31m---------------------------------------------------------------------------\u001b[0m",
      "\u001b[0;31mValueError\u001b[0m                                Traceback (most recent call last)",
      "Cell \u001b[0;32mIn[90], line 1\u001b[0m\n\u001b[0;32m----> 1\u001b[0m pd\u001b[39m.\u001b[39;49mpivot(concat_df, index\u001b[39m=\u001b[39;49m\u001b[39m'\u001b[39;49m\u001b[39mlogin\u001b[39;49m\u001b[39m'\u001b[39;49m, columns\u001b[39m=\u001b[39;49m\u001b[39m'\u001b[39;49m\u001b[39mcleaned_search_query\u001b[39;49m\u001b[39m'\u001b[39;49m, values\u001b[39m=\u001b[39;49m\u001b[39m'\u001b[39;49m\u001b[39mtype_of_join\u001b[39;49m\u001b[39m'\u001b[39;49m)\n",
      "File \u001b[0;32m~/.virtualenvs/values_and_versions_env/lib/python3.9/site-packages/pandas/util/_decorators.py:331\u001b[0m, in \u001b[0;36mdeprecate_nonkeyword_arguments.<locals>.decorate.<locals>.wrapper\u001b[0;34m(*args, **kwargs)\u001b[0m\n\u001b[1;32m    325\u001b[0m \u001b[39mif\u001b[39;00m \u001b[39mlen\u001b[39m(args) \u001b[39m>\u001b[39m num_allow_args:\n\u001b[1;32m    326\u001b[0m     warnings\u001b[39m.\u001b[39mwarn(\n\u001b[1;32m    327\u001b[0m         msg\u001b[39m.\u001b[39mformat(arguments\u001b[39m=\u001b[39m_format_argument_list(allow_args)),\n\u001b[1;32m    328\u001b[0m         \u001b[39mFutureWarning\u001b[39;00m,\n\u001b[1;32m    329\u001b[0m         stacklevel\u001b[39m=\u001b[39mfind_stack_level(),\n\u001b[1;32m    330\u001b[0m     )\n\u001b[0;32m--> 331\u001b[0m \u001b[39mreturn\u001b[39;00m func(\u001b[39m*\u001b[39;49margs, \u001b[39m*\u001b[39;49m\u001b[39m*\u001b[39;49mkwargs)\n",
      "File \u001b[0;32m~/.virtualenvs/values_and_versions_env/lib/python3.9/site-packages/pandas/core/reshape/pivot.py:540\u001b[0m, in \u001b[0;36mpivot\u001b[0;34m(data, index, columns, values)\u001b[0m\n\u001b[1;32m    536\u001b[0m         indexed \u001b[39m=\u001b[39m data\u001b[39m.\u001b[39m_constructor_sliced(data[values]\u001b[39m.\u001b[39m_values, index\u001b[39m=\u001b[39mmultiindex)\n\u001b[1;32m    537\u001b[0m \u001b[39m# error: Argument 1 to \"unstack\" of \"DataFrame\" has incompatible type \"Union\u001b[39;00m\n\u001b[1;32m    538\u001b[0m \u001b[39m# [List[Any], ExtensionArray, ndarray[Any, Any], Index, Series]\"; expected\u001b[39;00m\n\u001b[1;32m    539\u001b[0m \u001b[39m# \"Hashable\"\u001b[39;00m\n\u001b[0;32m--> 540\u001b[0m \u001b[39mreturn\u001b[39;00m indexed\u001b[39m.\u001b[39;49munstack(columns_listlike)\n",
      "File \u001b[0;32m~/.virtualenvs/values_and_versions_env/lib/python3.9/site-packages/pandas/core/series.py:4455\u001b[0m, in \u001b[0;36mSeries.unstack\u001b[0;34m(self, level, fill_value)\u001b[0m\n\u001b[1;32m   4412\u001b[0m \u001b[39m\"\"\"\u001b[39;00m\n\u001b[1;32m   4413\u001b[0m \u001b[39mUnstack, also known as pivot, Series with MultiIndex to produce DataFrame.\u001b[39;00m\n\u001b[1;32m   4414\u001b[0m \n\u001b[0;32m   (...)\u001b[0m\n\u001b[1;32m   4451\u001b[0m \u001b[39mb    2    4\u001b[39;00m\n\u001b[1;32m   4452\u001b[0m \u001b[39m\"\"\"\u001b[39;00m\n\u001b[1;32m   4453\u001b[0m \u001b[39mfrom\u001b[39;00m \u001b[39mpandas\u001b[39;00m\u001b[39m.\u001b[39;00m\u001b[39mcore\u001b[39;00m\u001b[39m.\u001b[39;00m\u001b[39mreshape\u001b[39;00m\u001b[39m.\u001b[39;00m\u001b[39mreshape\u001b[39;00m \u001b[39mimport\u001b[39;00m unstack\n\u001b[0;32m-> 4455\u001b[0m \u001b[39mreturn\u001b[39;00m unstack(\u001b[39mself\u001b[39;49m, level, fill_value)\n",
      "File \u001b[0;32m~/.virtualenvs/values_and_versions_env/lib/python3.9/site-packages/pandas/core/reshape/reshape.py:489\u001b[0m, in \u001b[0;36munstack\u001b[0;34m(obj, level, fill_value)\u001b[0m\n\u001b[1;32m    487\u001b[0m \u001b[39mif\u001b[39;00m is_1d_only_ea_dtype(obj\u001b[39m.\u001b[39mdtype):\n\u001b[1;32m    488\u001b[0m     \u001b[39mreturn\u001b[39;00m _unstack_extension_series(obj, level, fill_value)\n\u001b[0;32m--> 489\u001b[0m unstacker \u001b[39m=\u001b[39m _Unstacker(\n\u001b[1;32m    490\u001b[0m     obj\u001b[39m.\u001b[39;49mindex, level\u001b[39m=\u001b[39;49mlevel, constructor\u001b[39m=\u001b[39;49mobj\u001b[39m.\u001b[39;49m_constructor_expanddim\n\u001b[1;32m    491\u001b[0m )\n\u001b[1;32m    492\u001b[0m \u001b[39mreturn\u001b[39;00m unstacker\u001b[39m.\u001b[39mget_result(\n\u001b[1;32m    493\u001b[0m     obj\u001b[39m.\u001b[39m_values, value_columns\u001b[39m=\u001b[39m\u001b[39mNone\u001b[39;00m, fill_value\u001b[39m=\u001b[39mfill_value\n\u001b[1;32m    494\u001b[0m )\n",
      "File \u001b[0;32m~/.virtualenvs/values_and_versions_env/lib/python3.9/site-packages/pandas/core/reshape/reshape.py:137\u001b[0m, in \u001b[0;36m_Unstacker.__init__\u001b[0;34m(self, index, level, constructor)\u001b[0m\n\u001b[1;32m    129\u001b[0m \u001b[39mif\u001b[39;00m num_cells \u001b[39m>\u001b[39m np\u001b[39m.\u001b[39miinfo(np\u001b[39m.\u001b[39mint32)\u001b[39m.\u001b[39mmax:\n\u001b[1;32m    130\u001b[0m     warnings\u001b[39m.\u001b[39mwarn(\n\u001b[1;32m    131\u001b[0m         \u001b[39mf\u001b[39m\u001b[39m\"\u001b[39m\u001b[39mThe following operation may generate \u001b[39m\u001b[39m{\u001b[39;00mnum_cells\u001b[39m}\u001b[39;00m\u001b[39m cells \u001b[39m\u001b[39m\"\u001b[39m\n\u001b[1;32m    132\u001b[0m         \u001b[39mf\u001b[39m\u001b[39m\"\u001b[39m\u001b[39min the resulting pandas object.\u001b[39m\u001b[39m\"\u001b[39m,\n\u001b[1;32m    133\u001b[0m         PerformanceWarning,\n\u001b[1;32m    134\u001b[0m         stacklevel\u001b[39m=\u001b[39mfind_stack_level(),\n\u001b[1;32m    135\u001b[0m     )\n\u001b[0;32m--> 137\u001b[0m \u001b[39mself\u001b[39;49m\u001b[39m.\u001b[39;49m_make_selectors()\n",
      "File \u001b[0;32m~/.virtualenvs/values_and_versions_env/lib/python3.9/site-packages/pandas/core/reshape/reshape.py:189\u001b[0m, in \u001b[0;36m_Unstacker._make_selectors\u001b[0;34m(self)\u001b[0m\n\u001b[1;32m    186\u001b[0m mask\u001b[39m.\u001b[39mput(selector, \u001b[39mTrue\u001b[39;00m)\n\u001b[1;32m    188\u001b[0m \u001b[39mif\u001b[39;00m mask\u001b[39m.\u001b[39msum() \u001b[39m<\u001b[39m \u001b[39mlen\u001b[39m(\u001b[39mself\u001b[39m\u001b[39m.\u001b[39mindex):\n\u001b[0;32m--> 189\u001b[0m     \u001b[39mraise\u001b[39;00m \u001b[39mValueError\u001b[39;00m(\u001b[39m\"\u001b[39m\u001b[39mIndex contains duplicate entries, cannot reshape\u001b[39m\u001b[39m\"\u001b[39m)\n\u001b[1;32m    191\u001b[0m \u001b[39mself\u001b[39m\u001b[39m.\u001b[39mgroup_index \u001b[39m=\u001b[39m comp_index\n\u001b[1;32m    192\u001b[0m \u001b[39mself\u001b[39m\u001b[39m.\u001b[39mmask \u001b[39m=\u001b[39m mask\n",
      "\u001b[0;31mValueError\u001b[0m: Index contains duplicate entries, cannot reshape"
     ]
    }
   ],
   "source": [
    "pd.pivot(concat_df, index='login', columns='cleaned_search_query', values='type_of_join')"
   ]
  },
  {
   "cell_type": "code",
   "execution_count": 77,
   "metadata": {},
   "outputs": [
    {
     "name": "stdout",
     "output_type": "stream",
     "text": [
      "794\n"
     ]
    }
   ],
   "source": [
    "newer_counts = df.groupby(subset_fields).size().reset_index(name='new_counts')\n",
    "older_counts = older_df.groupby(subset_fields).size().reset_index(name='older_counts')\n",
    "merged_counts = pd.merge(newer_counts, older_counts, on=subset_fields, how='left')\n",
    "missing_values = merged_counts[(merged_counts.new_counts < merged_counts.older_counts) | (merged_counts.older_counts.isna())]\n",
    "missing_join = pd.merge(older_df, missing_values[subset_fields], on=subset_fields, how='inner')\n",
    "missing_join = missing_join.drop_duplicates(subset=subset_fields)\n",
    "print(len(missing_join))\n",
    "# double_check = missing_join[subset_fields]\n",
    "# combined_condition = np.ones(len(df), dtype=bool)\n",
    "# for field in subset_fields:\n",
    "#     combined_condition = combined_condition & df[field].isin(double_check[field])\n",
    "# df['double_check'] = np.where(combined_condition, 1, 0)\n",
    "# final_missing_values = df[(df.double_check == 0) & (df[subset_fields[0]].isin(double_check[subset_fields[0]]))]\n",
    "# print(len(final_missing_values))"
   ]
  },
  {
   "cell_type": "code",
   "execution_count": 81,
   "metadata": {},
   "outputs": [
    {
     "data": {
      "text/plain": [
       "(796, 927)"
      ]
     },
     "execution_count": 81,
     "metadata": {},
     "output_type": "execute_result"
    }
   ],
   "source": [
    "len(newer_counts), len(older_counts)"
   ]
  },
  {
   "cell_type": "code",
   "execution_count": 82,
   "metadata": {},
   "outputs": [
    {
     "data": {
      "text/html": [
       "<div>\n",
       "<style scoped>\n",
       "    .dataframe tbody tr th:only-of-type {\n",
       "        vertical-align: middle;\n",
       "    }\n",
       "\n",
       "    .dataframe tbody tr th {\n",
       "        vertical-align: top;\n",
       "    }\n",
       "\n",
       "    .dataframe thead th {\n",
       "        text-align: right;\n",
       "    }\n",
       "</style>\n",
       "<table border=\"1\" class=\"dataframe\">\n",
       "  <thead>\n",
       "    <tr style=\"text-align: right;\">\n",
       "      <th></th>\n",
       "      <th>login</th>\n",
       "      <th>cleaned_search_query</th>\n",
       "      <th>new_counts</th>\n",
       "      <th>older_counts</th>\n",
       "    </tr>\n",
       "  </thead>\n",
       "  <tbody>\n",
       "    <tr>\n",
       "      <th>0</th>\n",
       "      <td>1r3n3</td>\n",
       "      <td>https://api.github.com/search/users?q=Digital+...</td>\n",
       "      <td>1</td>\n",
       "      <td>2</td>\n",
       "    </tr>\n",
       "    <tr>\n",
       "      <th>1</th>\n",
       "      <td>1ucyP</td>\n",
       "      <td>https://api.github.com/search/users?q=Digital+...</td>\n",
       "      <td>1</td>\n",
       "      <td>2</td>\n",
       "    </tr>\n",
       "    <tr>\n",
       "      <th>2</th>\n",
       "      <td>5colldh</td>\n",
       "      <td>https://api.github.com/search/users?q=Digital+...</td>\n",
       "      <td>1</td>\n",
       "      <td>2</td>\n",
       "    </tr>\n",
       "    <tr>\n",
       "      <th>3</th>\n",
       "      <td>ABC-DH</td>\n",
       "      <td>https://api.github.com/search/users?q=Digital+...</td>\n",
       "      <td>1</td>\n",
       "      <td>2</td>\n",
       "    </tr>\n",
       "    <tr>\n",
       "      <th>4</th>\n",
       "      <td>ADHO</td>\n",
       "      <td>https://api.github.com/search/users?q=Digital+...</td>\n",
       "      <td>1</td>\n",
       "      <td>2</td>\n",
       "    </tr>\n",
       "    <tr>\n",
       "      <th>...</th>\n",
       "      <td>...</td>\n",
       "      <td>...</td>\n",
       "      <td>...</td>\n",
       "      <td>...</td>\n",
       "    </tr>\n",
       "    <tr>\n",
       "      <th>791</th>\n",
       "      <td>yrochat</td>\n",
       "      <td>https://api.github.com/search/users?q=Digital+...</td>\n",
       "      <td>1</td>\n",
       "      <td>2</td>\n",
       "    </tr>\n",
       "    <tr>\n",
       "      <th>792</th>\n",
       "      <td>yukiyuqichen</td>\n",
       "      <td>https://api.github.com/search/users?q=Digital+...</td>\n",
       "      <td>1</td>\n",
       "      <td>2</td>\n",
       "    </tr>\n",
       "    <tr>\n",
       "      <th>793</th>\n",
       "      <td>zimgraz</td>\n",
       "      <td>https://api.github.com/search/users?q=Digital+...</td>\n",
       "      <td>1</td>\n",
       "      <td>2</td>\n",
       "    </tr>\n",
       "    <tr>\n",
       "      <th>794</th>\n",
       "      <td>zkmacdon</td>\n",
       "      <td>https://api.github.com/search/users?q=Digital+...</td>\n",
       "      <td>1</td>\n",
       "      <td>2</td>\n",
       "    </tr>\n",
       "    <tr>\n",
       "      <th>795</th>\n",
       "      <td>zoharbuzaglo</td>\n",
       "      <td>https://api.github.com/search/users?q=Digital+...</td>\n",
       "      <td>1</td>\n",
       "      <td>2</td>\n",
       "    </tr>\n",
       "  </tbody>\n",
       "</table>\n",
       "<p>794 rows × 4 columns</p>\n",
       "</div>"
      ],
      "text/plain": [
       "            login                               cleaned_search_query  \\\n",
       "0           1r3n3  https://api.github.com/search/users?q=Digital+...   \n",
       "1           1ucyP  https://api.github.com/search/users?q=Digital+...   \n",
       "2         5colldh  https://api.github.com/search/users?q=Digital+...   \n",
       "3          ABC-DH  https://api.github.com/search/users?q=Digital+...   \n",
       "4            ADHO  https://api.github.com/search/users?q=Digital+...   \n",
       "..            ...                                                ...   \n",
       "791       yrochat  https://api.github.com/search/users?q=Digital+...   \n",
       "792  yukiyuqichen  https://api.github.com/search/users?q=Digital+...   \n",
       "793       zimgraz  https://api.github.com/search/users?q=Digital+...   \n",
       "794      zkmacdon  https://api.github.com/search/users?q=Digital+...   \n",
       "795  zoharbuzaglo  https://api.github.com/search/users?q=Digital+...   \n",
       "\n",
       "     new_counts  older_counts  \n",
       "0             1             2  \n",
       "1             1             2  \n",
       "2             1             2  \n",
       "3             1             2  \n",
       "4             1             2  \n",
       "..          ...           ...  \n",
       "791           1             2  \n",
       "792           1             2  \n",
       "793           1             2  \n",
       "794           1             2  \n",
       "795           1             2  \n",
       "\n",
       "[794 rows x 4 columns]"
      ]
     },
     "execution_count": 82,
     "metadata": {},
     "output_type": "execute_result"
    }
   ],
   "source": [
    "merged_counts[(merged_counts.older_counts != merged_counts.new_counts) ]"
   ]
  },
  {
   "cell_type": "code",
   "execution_count": 68,
   "metadata": {},
   "outputs": [],
   "source": [
    "test3 = pd.concat([test2[['login', 'cleaned_search_query']], search_queries_user_join_df[['login', 'cleaned_search_query']]])"
   ]
  },
  {
   "cell_type": "code",
   "execution_count": 76,
   "metadata": {},
   "outputs": [
    {
     "data": {
      "text/plain": [
       "https://api.github.com/search/users?q=Digital+Humanities&per_page=100       123\n",
       "https://api.github.com/search/users?q=Humanidades+digitales&per_page=100      7\n",
       "https://api.github.com/search/users?q=Humanidades+Digitais&per_page=100       2\n",
       "https://api.github.com/search/users?q=Digitaalhumanitaaria&per_page=100       1\n",
       "Name: cleaned_search_query, dtype: int64"
      ]
     },
     "execution_count": 76,
     "metadata": {},
     "output_type": "execute_result"
    }
   ],
   "source": [
    "test2[(~test2.login.isin(search_queries_user_join_df.login))].cleaned_search_query.value_counts()"
   ]
  },
  {
   "cell_type": "code",
   "execution_count": 52,
   "metadata": {},
   "outputs": [
    {
     "data": {
      "text/plain": [
       "'https://api.github.com/search/users?q=Humanidades+digitales&per_page=100'"
      ]
     },
     "execution_count": 52,
     "metadata": {},
     "output_type": "execute_result"
    }
   ],
   "source": [
    "search_queries_user_join_df[search_queries_user_join_df.login == \"hdcaicyt\"].cleaned_search_query.values[0]"
   ]
  },
  {
   "cell_type": "code",
   "execution_count": 49,
   "metadata": {},
   "outputs": [
    {
     "data": {
      "text/plain": [
       "array(['https://api.github.com/search/users?q=Humanidades+digitales&per_page=100',\n",
       "       'https://api.github.com/search/users?q=Informatica+umanistica&per_page=100',\n",
       "       'https://api.github.com/search/users?q=Digital+Humanities&per_page=100'],\n",
       "      dtype=object)"
      ]
     },
     "execution_count": 49,
     "metadata": {},
     "output_type": "execute_result"
    }
   ],
   "source": [
    "merged_test[merged_test.type_search.isna()].cleaned_search_query.unique()"
   ]
  },
  {
   "cell_type": "code",
   "execution_count": 53,
   "metadata": {},
   "outputs": [
    {
     "data": {
      "text/html": [
       "<div>\n",
       "<style scoped>\n",
       "    .dataframe tbody tr th:only-of-type {\n",
       "        vertical-align: middle;\n",
       "    }\n",
       "\n",
       "    .dataframe tbody tr th {\n",
       "        vertical-align: top;\n",
       "    }\n",
       "\n",
       "    .dataframe thead th {\n",
       "        text-align: right;\n",
       "    }\n",
       "</style>\n",
       "<table border=\"1\" class=\"dataframe\">\n",
       "  <thead>\n",
       "    <tr style=\"text-align: right;\">\n",
       "      <th></th>\n",
       "      <th>login</th>\n",
       "      <th>cleaned_search_query</th>\n",
       "      <th>counts</th>\n",
       "    </tr>\n",
       "  </thead>\n",
       "  <tbody>\n",
       "    <tr>\n",
       "      <th>0</th>\n",
       "      <td>1r3n3</td>\n",
       "      <td>https://api.github.com/search/users?q=Digital+...</td>\n",
       "      <td>1</td>\n",
       "    </tr>\n",
       "    <tr>\n",
       "      <th>624</th>\n",
       "      <td>johlei</td>\n",
       "      <td>https://api.github.com/search/users?q=Digital+...</td>\n",
       "      <td>1</td>\n",
       "    </tr>\n",
       "    <tr>\n",
       "      <th>612</th>\n",
       "      <td>jessgrimmer</td>\n",
       "      <td>https://api.github.com/search/users?q=Digital+...</td>\n",
       "      <td>1</td>\n",
       "    </tr>\n",
       "    <tr>\n",
       "      <th>613</th>\n",
       "      <td>jessprof</td>\n",
       "      <td>https://api.github.com/search/users?q=Humanida...</td>\n",
       "      <td>1</td>\n",
       "    </tr>\n",
       "    <tr>\n",
       "      <th>614</th>\n",
       "      <td>jeyrena1</td>\n",
       "      <td>https://api.github.com/search/users?q=Digital+...</td>\n",
       "      <td>1</td>\n",
       "    </tr>\n",
       "    <tr>\n",
       "      <th>...</th>\n",
       "      <td>...</td>\n",
       "      <td>...</td>\n",
       "      <td>...</td>\n",
       "    </tr>\n",
       "    <tr>\n",
       "      <th>314</th>\n",
       "      <td>aergithub</td>\n",
       "      <td>https://api.github.com/search/users?q=Digital+...</td>\n",
       "      <td>1</td>\n",
       "    </tr>\n",
       "    <tr>\n",
       "      <th>315</th>\n",
       "      <td>agnesecam</td>\n",
       "      <td>https://api.github.com/search/users?q=Informat...</td>\n",
       "      <td>1</td>\n",
       "    </tr>\n",
       "    <tr>\n",
       "      <th>316</th>\n",
       "      <td>agustinjaramillo</td>\n",
       "      <td>https://api.github.com/search/users?q=Digital+...</td>\n",
       "      <td>1</td>\n",
       "    </tr>\n",
       "    <tr>\n",
       "      <th>317</th>\n",
       "      <td>aiucd</td>\n",
       "      <td>https://api.github.com/search/users?q=Informat...</td>\n",
       "      <td>1</td>\n",
       "    </tr>\n",
       "    <tr>\n",
       "      <th>928</th>\n",
       "      <td>zoharbuzaglo</td>\n",
       "      <td>https://api.github.com/search/users?q=Digital+...</td>\n",
       "      <td>1</td>\n",
       "    </tr>\n",
       "  </tbody>\n",
       "</table>\n",
       "<p>929 rows × 3 columns</p>\n",
       "</div>"
      ],
      "text/plain": [
       "                login                               cleaned_search_query  \\\n",
       "0               1r3n3  https://api.github.com/search/users?q=Digital+...   \n",
       "624            johlei  https://api.github.com/search/users?q=Digital+...   \n",
       "612       jessgrimmer  https://api.github.com/search/users?q=Digital+...   \n",
       "613          jessprof  https://api.github.com/search/users?q=Humanida...   \n",
       "614          jeyrena1  https://api.github.com/search/users?q=Digital+...   \n",
       "..                ...                                                ...   \n",
       "314         aergithub  https://api.github.com/search/users?q=Digital+...   \n",
       "315         agnesecam  https://api.github.com/search/users?q=Informat...   \n",
       "316  agustinjaramillo  https://api.github.com/search/users?q=Digital+...   \n",
       "317             aiucd  https://api.github.com/search/users?q=Informat...   \n",
       "928      zoharbuzaglo  https://api.github.com/search/users?q=Digital+...   \n",
       "\n",
       "     counts  \n",
       "0         1  \n",
       "624       1  \n",
       "612       1  \n",
       "613       1  \n",
       "614       1  \n",
       "..      ...  \n",
       "314       1  \n",
       "315       1  \n",
       "316       1  \n",
       "317       1  \n",
       "928       1  \n",
       "\n",
       "[929 rows x 3 columns]"
      ]
     },
     "execution_count": 53,
     "metadata": {},
     "output_type": "execute_result"
    }
   ],
   "source": [
    "test2.groupby(subset_fields).size().reset_index(name='counts').sort_values(by=['counts'], ascending=False)"
   ]
  },
  {
   "attachments": {},
   "cell_type": "markdown",
   "metadata": {},
   "source": [
    "#### Check if all items exist in entity files"
   ]
  },
  {
   "cell_type": "code",
   "execution_count": 4,
   "metadata": {},
   "outputs": [
    {
     "data": {
      "text/plain": [
       "(23, 0, 0)"
      ]
     },
     "execution_count": 4,
     "metadata": {},
     "output_type": "execute_result"
    }
   ],
   "source": [
    "missing_repos = search_queries_repo_join_df[~search_queries_repo_join_df.full_name.isin(repo_df.full_name)]\n",
    "missing_users = search_queries_user_join_df[(~search_queries_user_join_df.login.isin(user_df.login)) & (search_queries_user_join_df['type'] == 'User')]\n",
    "missing_orgs = search_queries_user_join_df[(~search_queries_user_join_df.login.isin(user_df.login)) & (search_queries_user_join_df['type'] == 'Organization')]\n",
    "\n",
    "len(missing_repos), len(missing_users), len(missing_orgs)"
   ]
  },
  {
   "cell_type": "code",
   "execution_count": 6,
   "metadata": {},
   "outputs": [],
   "source": [
    "if len(missing_repos) > 0:\n",
    "    repo_df = check_add_repos(missing_repos, '../data/large_files/entity_files/repos_dataset.csv', True)\n",
    "if len(missing_orgs) > 0:\n",
    "    org_df = check_add_orgs(missing_orgs, '../data/entity_files/orgs_dataset.csv', True, False)\n",
    "if len(missing_users) > 0:\n",
    "    user_df = check_add_users(missing_users, '../data/entity_files/users_dataset.csv', True, False)"
   ]
  },
  {
   "cell_type": "code",
   "execution_count": null,
   "metadata": {},
   "outputs": [
    {
     "data": {
      "text/plain": [
       "(2264, 667, 126)"
      ]
     },
     "execution_count": 10,
     "metadata": {},
     "output_type": "execute_result"
    }
   ],
   "source": [
    "core_repos = pd.merge(repo_df, search_queries_repo_join_df[['full_name', 'finalized_language', 'keep_resource']], on='full_name', how='inner')\n",
    "core_repos = core_repos.drop_duplicates(subset=['full_name'])\n",
    "core_users = pd.merge(user_df, search_queries_user_join_df[['login', 'finalized_language', 'keep_resource']], on='login', how='inner')\n",
    "core_users = core_users.drop_duplicates(subset=['login'])\n",
    "core_orgs = core_users[core_users['type'] == 'Organization']\n",
    "core_users = core_users[core_users['type'] == 'User']\n",
    "\n",
    "len(core_repos), len(core_users), len(core_orgs)"
   ]
  },
  {
   "cell_type": "code",
   "execution_count": 11,
   "metadata": {},
   "outputs": [],
   "source": [
    "core_users.to_csv(\"../data/derived_files/initial_core_users.csv\", index=False)\n",
    "core_orgs.to_csv(\"../data/derived_files/initial_core_orgs.csv\", index=False)\n",
    "core_repos.to_csv(\"../data/derived_files/initial_core_repos.csv\", index=False)"
   ]
  }
 ],
 "metadata": {
  "kernelspec": {
   "display_name": "values_and_versions_env",
   "language": "python",
   "name": "python3"
  },
  "language_info": {
   "codemirror_mode": {
    "name": "ipython",
    "version": 3
   },
   "file_extension": ".py",
   "mimetype": "text/x-python",
   "name": "python",
   "nbconvert_exporter": "python",
   "pygments_lexer": "ipython3",
   "version": "3.9.16"
  },
  "orig_nbformat": 4
 },
 "nbformat": 4,
 "nbformat_minor": 2
}
