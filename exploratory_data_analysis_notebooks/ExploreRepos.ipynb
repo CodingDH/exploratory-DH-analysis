{
 "cells": [
  {
   "attachments": {},
   "cell_type": "markdown",
   "metadata": {},
   "source": [
    "# Explore Patterns in DH Repos"
   ]
  },
  {
   "attachments": {},
   "cell_type": "markdown",
   "metadata": {},
   "source": [
    "- Date Created and Updated\n",
    "- Size\n",
    "- Programming Language\n",
    "- Natural Language\n",
    "- Number of user interactions"
   ]
  },
  {
   "attachments": {},
   "cell_type": "markdown",
   "metadata": {},
   "source": [
    "### Load Libraries and Datasets"
   ]
  },
  {
   "cell_type": "code",
   "execution_count": 5,
   "metadata": {},
   "outputs": [],
   "source": [
    "import pandas as pd\n",
    "pd.options.mode.chained_assignment = None\n",
    "import altair as alt\n",
    "alt.renderers.enable('mimetype')\n",
    "alt.data_transformers.disable_max_rows()\n",
    "import warnings\n",
    "warnings.filterwarnings('ignore')\n",
    "from sklearn.preprocessing import StandardScaler\n"
   ]
  },
  {
   "cell_type": "code",
   "execution_count": 2,
   "metadata": {},
   "outputs": [],
   "source": [
    "\n",
    "repo_df = pd.read_csv(\"../data/large_files/entity_files/repos_dataset.csv\", low_memory=False)\n",
    "\n",
    "initial_core_users = pd.read_csv(\"../data/derived_files/initial_core_users.csv\")\n",
    "initial_core_users['origin'] = 'initial_core'\n",
    "initial_core_repos = pd.read_csv(\"../data/derived_files/initial_core_repos.csv\")\n",
    "initial_core_repos['origin'] = 'initial_core'\n",
    "initial_core_orgs = pd.read_csv(\"../data/derived_files/initial_core_orgs.csv\")\n",
    "initial_core_orgs['origin'] = 'initial_core'\n",
    "\n",
    "firstpass_core_users = pd.read_csv(\"../data/derived_files/firstpass_core_users.csv\")\n",
    "firstpass_core_users['origin'] = 'firstpass_core'\n",
    "firstpass_core_repos = pd.read_csv(\"../data/derived_files/firstpass_core_repos.csv\")\n",
    "firstpass_core_repos['origin'] = 'firstpass_core'\n",
    "firstpass_core_orgs = pd.read_csv(\"../data/derived_files/firstpass_core_orgs.csv\")\n",
    "firstpass_core_orgs['origin'] = 'firstpass_core'\n",
    "\n",
    "finalpass_core_users = pd.read_csv(\"../data/derived_files/finalpass_core_users.csv\")\n",
    "finalpass_core_users['origin'] = 'finalpass_core'\n",
    "finalpass_core_repos = pd.read_csv(\"../data/large_files/derived_files/finalpass_core_repos.csv\", low_memory=False, on_bad_lines='skip')\n",
    "finalpass_core_repos['origin'] = 'finalpass_core'\n",
    "finalpass_core_orgs = pd.read_csv(\"../data/derived_files/finalpass_core_orgs.csv\")\n",
    "finalpass_core_orgs['origin'] = 'finalpass_core'"
   ]
  },
  {
   "cell_type": "code",
   "execution_count": 3,
   "metadata": {},
   "outputs": [],
   "source": [
    "core_users = pd.concat([initial_core_users, firstpass_core_users, finalpass_core_users])\n",
    "core_repos = pd.concat([initial_core_repos, firstpass_core_repos, finalpass_core_repos])\n",
    "core_orgs = pd.concat([initial_core_orgs, firstpass_core_orgs, finalpass_core_orgs])"
   ]
  },
  {
   "attachments": {},
   "cell_type": "markdown",
   "metadata": {},
   "source": [
    "### Check for Correlation in Data"
   ]
  },
  {
   "cell_type": "code",
   "execution_count": 4,
   "metadata": {},
   "outputs": [],
   "source": [
    "def generate_heatmap_chart(corr_matrix, origin_type):\n",
    "\n",
    "    # Melt the correlation matrix to long format\n",
    "    corr_df = corr_matrix.reset_index().melt('index')\n",
    "\n",
    "    # Rename the columns for Altair\n",
    "    corr_df.columns = ['x', 'y', 'correlation']\n",
    "\n",
    "    # Generate the heatmap\n",
    "    heatmap = alt.Chart(corr_df).mark_rect().encode(\n",
    "        x=alt.X('x:O', title=None),\n",
    "        y=alt.Y('y:O',  sort=alt.EncodingSortField('y', order='descending'), title=None),\n",
    "        color='correlation:Q',\n",
    "        tooltip=[\n",
    "            alt.Tooltip('x', title='Variable 1'),\n",
    "            alt.Tooltip('y', title='Variable 2'),\n",
    "            alt.Tooltip('correlation', title='Correlation')\n",
    "        ]\n",
    "    )\n",
    "\n",
    "    # Add the text overlay with the correlation values\n",
    "    text = heatmap.mark_text(baseline='middle').encode(\n",
    "        text=alt.Text('correlation:Q', format='.2f'),\n",
    "        color=alt.condition(\n",
    "            alt.datum.correlation > 0.95,\n",
    "            alt.value('black'),\n",
    "            alt.value('white')\n",
    "        )\n",
    "    )\n",
    "\n",
    "    # Display the final chart\n",
    "    heatmap_chart = (heatmap + text).properties(\n",
    "        width=alt.Step(40),\n",
    "        height=alt.Step(40),\n",
    "        title=f\"Correlation matrix heatmap for {origin_type} core users\"\n",
    "    )\n",
    "    return heatmap_chart"
   ]
  },
  {
   "cell_type": "code",
   "execution_count": 7,
   "metadata": {},
   "outputs": [
    {
     "data": {
      "text/plain": [
       "{'id': {0: 57695088.0},\n",
       " 'node_id': {0: 'MDEwOlJlcG9zaXRvcnk1NzY5NTA4OA=='},\n",
       " 'name': {0: 'intersectionality'},\n",
       " 'full_name': {0: 'roopikarisam/intersectionality'},\n",
       " 'private': {0: 'False'},\n",
       " 'html_url': {0: 'https://github.com/roopikarisam/intersectionality'},\n",
       " 'description': {0: '\"Intersectionality\" material for Keywords for Digital Pedagogy in the Humanities'},\n",
       " 'fork': {0: 'False'},\n",
       " 'url': {0: 'https://api.github.com/repos/roopikarisam/intersectionality'},\n",
       " 'forks_url': {0: 'https://api.github.com/repos/roopikarisam/intersectionality/forks'},\n",
       " 'keys_url': {0: 'https://api.github.com/repos/roopikarisam/intersectionality/keys{/key_id}'},\n",
       " 'collaborators_url': {0: 'https://api.github.com/repos/roopikarisam/intersectionality/collaborators{/collaborator}'},\n",
       " 'teams_url': {0: 'https://api.github.com/repos/roopikarisam/intersectionality/teams'},\n",
       " 'hooks_url': {0: 'https://api.github.com/repos/roopikarisam/intersectionality/hooks'},\n",
       " 'issue_events_url': {0: 'https://api.github.com/repos/roopikarisam/intersectionality/issues/events{/number}'},\n",
       " 'events_url': {0: 'https://api.github.com/repos/roopikarisam/intersectionality/events'},\n",
       " 'assignees_url': {0: 'https://api.github.com/repos/roopikarisam/intersectionality/assignees{/user}'},\n",
       " 'branches_url': {0: 'https://api.github.com/repos/roopikarisam/intersectionality/branches{/branch}'},\n",
       " 'tags_url': {0: 'https://api.github.com/repos/roopikarisam/intersectionality/tags'},\n",
       " 'blobs_url': {0: 'https://api.github.com/repos/roopikarisam/intersectionality/git/blobs{/sha}'},\n",
       " 'git_tags_url': {0: 'https://api.github.com/repos/roopikarisam/intersectionality/git/tags{/sha}'},\n",
       " 'git_refs_url': {0: 'https://api.github.com/repos/roopikarisam/intersectionality/git/refs{/sha}'},\n",
       " 'trees_url': {0: 'https://api.github.com/repos/roopikarisam/intersectionality/git/trees{/sha}'},\n",
       " 'statuses_url': {0: 'https://api.github.com/repos/roopikarisam/intersectionality/statuses/{sha}'},\n",
       " 'languages_url': {0: 'https://api.github.com/repos/roopikarisam/intersectionality/languages'},\n",
       " 'stargazers_url': {0: 'https://api.github.com/repos/roopikarisam/intersectionality/stargazers'},\n",
       " 'contributors_url': {0: 'https://api.github.com/repos/roopikarisam/intersectionality/contributors'},\n",
       " 'subscribers_url': {0: 'https://api.github.com/repos/roopikarisam/intersectionality/subscribers'},\n",
       " 'subscription_url': {0: 'https://api.github.com/repos/roopikarisam/intersectionality/subscription'},\n",
       " 'commits_url': {0: 'https://api.github.com/repos/roopikarisam/intersectionality/commits{/sha}'},\n",
       " 'git_commits_url': {0: 'https://api.github.com/repos/roopikarisam/intersectionality/git/commits{/sha}'},\n",
       " 'comments_url': {0: 'https://api.github.com/repos/roopikarisam/intersectionality/comments{/number}'},\n",
       " 'issue_comment_url': {0: 'https://api.github.com/repos/roopikarisam/intersectionality/issues/comments{/number}'},\n",
       " 'contents_url': {0: 'https://api.github.com/repos/roopikarisam/intersectionality/contents/{+path}'},\n",
       " 'compare_url': {0: 'https://api.github.com/repos/roopikarisam/intersectionality/compare/{base}...{head}'},\n",
       " 'merges_url': {0: 'https://api.github.com/repos/roopikarisam/intersectionality/merges'},\n",
       " 'archive_url': {0: 'https://api.github.com/repos/roopikarisam/intersectionality/{archive_format}{/ref}'},\n",
       " 'downloads_url': {0: 'https://api.github.com/repos/roopikarisam/intersectionality/downloads'},\n",
       " 'issues_url': {0: 'https://api.github.com/repos/roopikarisam/intersectionality/issues{/number}'},\n",
       " 'pulls_url': {0: 'https://api.github.com/repos/roopikarisam/intersectionality/pulls{/number}'},\n",
       " 'milestones_url': {0: 'https://api.github.com/repos/roopikarisam/intersectionality/milestones{/number}'},\n",
       " 'notifications_url': {0: 'https://api.github.com/repos/roopikarisam/intersectionality/notifications{?since,all,participating}'},\n",
       " 'labels_url': {0: 'https://api.github.com/repos/roopikarisam/intersectionality/labels{/name}'},\n",
       " 'releases_url': {0: 'https://api.github.com/repos/roopikarisam/intersectionality/releases{/id}'},\n",
       " 'deployments_url': {0: 'https://api.github.com/repos/roopikarisam/intersectionality/deployments'},\n",
       " 'created_at': {0: '2016-05-01T17:36:32Z'},\n",
       " 'updated_at': {0: '2016-05-01T17:43:00Z'},\n",
       " 'pushed_at': {0: '2016-05-14T12:00:55Z'},\n",
       " 'git_url': {0: 'git://github.com/roopikarisam/intersectionality.git'},\n",
       " 'ssh_url': {0: 'git@github.com:roopikarisam/intersectionality.git'},\n",
       " 'clone_url': {0: 'https://github.com/roopikarisam/intersectionality.git'},\n",
       " 'svn_url': {0: 'https://github.com/roopikarisam/intersectionality'},\n",
       " 'homepage': {0: nan},\n",
       " 'size': {0: 43784.0},\n",
       " 'stargazers_count': {0: 0.0},\n",
       " 'watchers_count': {0: 0.0},\n",
       " 'language': {0: nan},\n",
       " 'has_issues': {0: 'True'},\n",
       " 'has_projects': {0: 'True'},\n",
       " 'has_downloads': {0: 'True'},\n",
       " 'has_wiki': {0: 'True'},\n",
       " 'has_pages': {0: 'False'},\n",
       " 'forks_count': {0: 0.0},\n",
       " 'mirror_url': {0: nan},\n",
       " 'archived': {0: 'False'},\n",
       " 'disabled': {0: 'False'},\n",
       " 'open_issues_count': {0: 0.0},\n",
       " 'license': {0: nan},\n",
       " 'allow_forking': {0: 'True'},\n",
       " 'is_template': {0: 'False'},\n",
       " 'web_commit_signoff_required': {0: 'False'},\n",
       " 'topics': {0: '[]'},\n",
       " 'visibility': {0: 'public'},\n",
       " 'forks': {0: 0.0},\n",
       " 'open_issues': {0: 0.0},\n",
       " 'watchers': {0: 0.0},\n",
       " 'default_branch': {0: 'master'},\n",
       " 'owner.login': {0: 'roopikarisam'},\n",
       " 'owner.id': {0: 13203506.0},\n",
       " 'owner.node_id': {0: 'MDQ6VXNlcjEzMjAzNTA2'},\n",
       " 'owner.avatar_url': {0: 'https://avatars.githubusercontent.com/u/13203506?v=4'},\n",
       " 'owner.gravatar_id': {0: nan},\n",
       " 'owner.url': {0: 'https://api.github.com/users/roopikarisam'},\n",
       " 'owner.html_url': {0: 'https://github.com/roopikarisam'},\n",
       " 'owner.followers_url': {0: 'https://api.github.com/users/roopikarisam/followers'},\n",
       " 'owner.following_url': {0: 'https://api.github.com/users/roopikarisam/following{/other_user}'},\n",
       " 'owner.gists_url': {0: 'https://api.github.com/users/roopikarisam/gists{/gist_id}'},\n",
       " 'owner.starred_url': {0: 'https://api.github.com/users/roopikarisam/starred{/owner}{/repo}'},\n",
       " 'owner.subscriptions_url': {0: 'https://api.github.com/users/roopikarisam/subscriptions'},\n",
       " 'owner.organizations_url': {0: 'https://api.github.com/users/roopikarisam/orgs'},\n",
       " 'owner.repos_url': {0: 'https://api.github.com/users/roopikarisam/repos'},\n",
       " 'owner.events_url': {0: 'https://api.github.com/users/roopikarisam/events{/privacy}'},\n",
       " 'owner.received_events_url': {0: 'https://api.github.com/users/roopikarisam/received_events'},\n",
       " 'owner.type': {0: 'User'},\n",
       " 'owner.site_admin': {0: 'False'},\n",
       " 'permissions.admin': {0: 'False'},\n",
       " 'permissions.maintain': {0: 'False'},\n",
       " 'permissions.push': {0: 'False'},\n",
       " 'permissions.triage': {0: 'False'},\n",
       " 'permissions.pull': {0: 'True'},\n",
       " 'license.key': {0: 'mit'},\n",
       " 'license.name': {0: 'MIT License'},\n",
       " 'license.spdx_id': {0: 'MIT'},\n",
       " 'license.url': {0: 'https://api.github.com/licenses/mit'},\n",
       " 'license.node_id': {0: 'MDc6TGljZW5zZTEz'},\n",
       " 'repo_query_time': {0: '2023-05-29'},\n",
       " 'finalized_language': {0: 'en'},\n",
       " 'keep_resource': {0: nan},\n",
       " 'subscribers_count': {0: 2.0},\n",
       " 'contributors_count': {0: 1.0},\n",
       " 'issues_count': {0: 0.0},\n",
       " 'pulls_count': {0: 0.0},\n",
       " 'comments_count': {0: 0.0},\n",
       " 'owner.organization_count': {0: nan},\n",
       " 'owner.organizations_count': {0: 1.0},\n",
       " 'origin': {0: 'initial_core'},\n",
       " 'detected_language': {0: nan},\n",
       " 'detected_language_confidence': {0: nan},\n",
       " 'potential_language': {0: nan}}"
      ]
     },
     "execution_count": 7,
     "metadata": {},
     "output_type": "execute_result"
    }
   ],
   "source": [
    "core_repos[0:1].to_dict()"
   ]
  },
  {
   "cell_type": "code",
   "execution_count": 7,
   "metadata": {},
   "outputs": [],
   "source": [
    "types_repos = core_repos.origin.unique().tolist()\n",
    "categorical_features = ['description', 'archived', 'has_wiki', 'has_downloads', 'has_projects', 'has_issues', 'homepage', 'fork']  # update this with actual column names\n",
    "#try exploding topics \n",
    "numerical_features = ['forks', 'watchers', 'open_issues_count', 'watchers_count', 'stargazers_count', 'size']  # update this with actual column names\n",
    "\n",
    "matrices = []\n",
    "for origin_type in types_repos:\n",
    "    matrix_repos = core_repos[core_repos.origin == origin_type].copy()\n",
    "    # Convert categorical features into binary\n",
    "    for feature in categorical_features:\n",
    "        matrix_repos[feature] = matrix_repos[feature].notna().astype(int)\n",
    "\n",
    "    # Scale numerical features\n",
    "    scaler = StandardScaler()\n",
    "    matrix_repos[numerical_features] = scaler.fit_transform(matrix_repos[numerical_features])\n",
    "\n",
    "    # Create a correlation matrix\n",
    "    corr_matrix = matrix_repos[categorical_features + numerical_features].corr()\n",
    "    heatmap_chart = generate_heatmap_chart(corr_matrix, origin_type)\n",
    "    matrices.append(heatmap_chart)"
   ]
  },
  {
   "cell_type": "code",
   "execution_count": 8,
   "metadata": {},
   "outputs": [
    {
     "data": {
      "application/vnd.vegalite.v5+json": {
       "$schema": "https://vega.github.io/schema/vega-lite/v5.6.1.json",
       "config": {
        "view": {
         "continuousHeight": 300,
         "continuousWidth": 300
        }
       },
       "datasets": {
        "data-6245d951cb93c26c47d02078cdc85bcd": [
         {
          "correlation": 1,
          "x": "description",
          "y": "description"
         },
         {
          "correlation": null,
          "x": "archived",
          "y": "description"
         },
         {
          "correlation": null,
          "x": "has_wiki",
          "y": "description"
         },
         {
          "correlation": null,
          "x": "has_downloads",
          "y": "description"
         },
         {
          "correlation": null,
          "x": "has_projects",
          "y": "description"
         },
         {
          "correlation": null,
          "x": "has_issues",
          "y": "description"
         },
         {
          "correlation": 0.16624440391569426,
          "x": "homepage",
          "y": "description"
         },
         {
          "correlation": null,
          "x": "fork",
          "y": "description"
         },
         {
          "correlation": 0.04121122138011063,
          "x": "forks",
          "y": "description"
         },
         {
          "correlation": 0.07592581767114545,
          "x": "watchers",
          "y": "description"
         },
         {
          "correlation": null,
          "x": "open_issues_count",
          "y": "description"
         },
         {
          "correlation": 0.07592581767114545,
          "x": "watchers_count",
          "y": "description"
         },
         {
          "correlation": 0.07592581767114545,
          "x": "stargazers_count",
          "y": "description"
         },
         {
          "correlation": 0.011008651658672984,
          "x": "size",
          "y": "description"
         },
         {
          "correlation": null,
          "x": "description",
          "y": "archived"
         },
         {
          "correlation": null,
          "x": "archived",
          "y": "archived"
         },
         {
          "correlation": null,
          "x": "has_wiki",
          "y": "archived"
         },
         {
          "correlation": null,
          "x": "has_downloads",
          "y": "archived"
         },
         {
          "correlation": null,
          "x": "has_projects",
          "y": "archived"
         },
         {
          "correlation": null,
          "x": "has_issues",
          "y": "archived"
         },
         {
          "correlation": null,
          "x": "homepage",
          "y": "archived"
         },
         {
          "correlation": null,
          "x": "fork",
          "y": "archived"
         },
         {
          "correlation": null,
          "x": "forks",
          "y": "archived"
         },
         {
          "correlation": null,
          "x": "watchers",
          "y": "archived"
         },
         {
          "correlation": null,
          "x": "open_issues_count",
          "y": "archived"
         },
         {
          "correlation": null,
          "x": "watchers_count",
          "y": "archived"
         },
         {
          "correlation": null,
          "x": "stargazers_count",
          "y": "archived"
         },
         {
          "correlation": null,
          "x": "size",
          "y": "archived"
         },
         {
          "correlation": null,
          "x": "description",
          "y": "has_wiki"
         },
         {
          "correlation": null,
          "x": "archived",
          "y": "has_wiki"
         },
         {
          "correlation": null,
          "x": "has_wiki",
          "y": "has_wiki"
         },
         {
          "correlation": null,
          "x": "has_downloads",
          "y": "has_wiki"
         },
         {
          "correlation": null,
          "x": "has_projects",
          "y": "has_wiki"
         },
         {
          "correlation": null,
          "x": "has_issues",
          "y": "has_wiki"
         },
         {
          "correlation": null,
          "x": "homepage",
          "y": "has_wiki"
         },
         {
          "correlation": null,
          "x": "fork",
          "y": "has_wiki"
         },
         {
          "correlation": null,
          "x": "forks",
          "y": "has_wiki"
         },
         {
          "correlation": null,
          "x": "watchers",
          "y": "has_wiki"
         },
         {
          "correlation": null,
          "x": "open_issues_count",
          "y": "has_wiki"
         },
         {
          "correlation": null,
          "x": "watchers_count",
          "y": "has_wiki"
         },
         {
          "correlation": null,
          "x": "stargazers_count",
          "y": "has_wiki"
         },
         {
          "correlation": null,
          "x": "size",
          "y": "has_wiki"
         },
         {
          "correlation": null,
          "x": "description",
          "y": "has_downloads"
         },
         {
          "correlation": null,
          "x": "archived",
          "y": "has_downloads"
         },
         {
          "correlation": null,
          "x": "has_wiki",
          "y": "has_downloads"
         },
         {
          "correlation": null,
          "x": "has_downloads",
          "y": "has_downloads"
         },
         {
          "correlation": null,
          "x": "has_projects",
          "y": "has_downloads"
         },
         {
          "correlation": null,
          "x": "has_issues",
          "y": "has_downloads"
         },
         {
          "correlation": null,
          "x": "homepage",
          "y": "has_downloads"
         },
         {
          "correlation": null,
          "x": "fork",
          "y": "has_downloads"
         },
         {
          "correlation": null,
          "x": "forks",
          "y": "has_downloads"
         },
         {
          "correlation": null,
          "x": "watchers",
          "y": "has_downloads"
         },
         {
          "correlation": null,
          "x": "open_issues_count",
          "y": "has_downloads"
         },
         {
          "correlation": null,
          "x": "watchers_count",
          "y": "has_downloads"
         },
         {
          "correlation": null,
          "x": "stargazers_count",
          "y": "has_downloads"
         },
         {
          "correlation": null,
          "x": "size",
          "y": "has_downloads"
         },
         {
          "correlation": null,
          "x": "description",
          "y": "has_projects"
         },
         {
          "correlation": null,
          "x": "archived",
          "y": "has_projects"
         },
         {
          "correlation": null,
          "x": "has_wiki",
          "y": "has_projects"
         },
         {
          "correlation": null,
          "x": "has_downloads",
          "y": "has_projects"
         },
         {
          "correlation": null,
          "x": "has_projects",
          "y": "has_projects"
         },
         {
          "correlation": null,
          "x": "has_issues",
          "y": "has_projects"
         },
         {
          "correlation": null,
          "x": "homepage",
          "y": "has_projects"
         },
         {
          "correlation": null,
          "x": "fork",
          "y": "has_projects"
         },
         {
          "correlation": null,
          "x": "forks",
          "y": "has_projects"
         },
         {
          "correlation": null,
          "x": "watchers",
          "y": "has_projects"
         },
         {
          "correlation": null,
          "x": "open_issues_count",
          "y": "has_projects"
         },
         {
          "correlation": null,
          "x": "watchers_count",
          "y": "has_projects"
         },
         {
          "correlation": null,
          "x": "stargazers_count",
          "y": "has_projects"
         },
         {
          "correlation": null,
          "x": "size",
          "y": "has_projects"
         },
         {
          "correlation": null,
          "x": "description",
          "y": "has_issues"
         },
         {
          "correlation": null,
          "x": "archived",
          "y": "has_issues"
         },
         {
          "correlation": null,
          "x": "has_wiki",
          "y": "has_issues"
         },
         {
          "correlation": null,
          "x": "has_downloads",
          "y": "has_issues"
         },
         {
          "correlation": null,
          "x": "has_projects",
          "y": "has_issues"
         },
         {
          "correlation": null,
          "x": "has_issues",
          "y": "has_issues"
         },
         {
          "correlation": null,
          "x": "homepage",
          "y": "has_issues"
         },
         {
          "correlation": null,
          "x": "fork",
          "y": "has_issues"
         },
         {
          "correlation": null,
          "x": "forks",
          "y": "has_issues"
         },
         {
          "correlation": null,
          "x": "watchers",
          "y": "has_issues"
         },
         {
          "correlation": null,
          "x": "open_issues_count",
          "y": "has_issues"
         },
         {
          "correlation": null,
          "x": "watchers_count",
          "y": "has_issues"
         },
         {
          "correlation": null,
          "x": "stargazers_count",
          "y": "has_issues"
         },
         {
          "correlation": null,
          "x": "size",
          "y": "has_issues"
         },
         {
          "correlation": 0.16624440391569426,
          "x": "description",
          "y": "homepage"
         },
         {
          "correlation": null,
          "x": "archived",
          "y": "homepage"
         },
         {
          "correlation": null,
          "x": "has_wiki",
          "y": "homepage"
         },
         {
          "correlation": null,
          "x": "has_downloads",
          "y": "homepage"
         },
         {
          "correlation": null,
          "x": "has_projects",
          "y": "homepage"
         },
         {
          "correlation": null,
          "x": "has_issues",
          "y": "homepage"
         },
         {
          "correlation": 1,
          "x": "homepage",
          "y": "homepage"
         },
         {
          "correlation": null,
          "x": "fork",
          "y": "homepage"
         },
         {
          "correlation": 0.05062317964023082,
          "x": "forks",
          "y": "homepage"
         },
         {
          "correlation": 0.027549685699819845,
          "x": "watchers",
          "y": "homepage"
         },
         {
          "correlation": null,
          "x": "open_issues_count",
          "y": "homepage"
         },
         {
          "correlation": 0.027549685699819845,
          "x": "watchers_count",
          "y": "homepage"
         },
         {
          "correlation": 0.027549685699819845,
          "x": "stargazers_count",
          "y": "homepage"
         },
         {
          "correlation": -0.004016205170206088,
          "x": "size",
          "y": "homepage"
         },
         {
          "correlation": null,
          "x": "description",
          "y": "fork"
         },
         {
          "correlation": null,
          "x": "archived",
          "y": "fork"
         },
         {
          "correlation": null,
          "x": "has_wiki",
          "y": "fork"
         },
         {
          "correlation": null,
          "x": "has_downloads",
          "y": "fork"
         },
         {
          "correlation": null,
          "x": "has_projects",
          "y": "fork"
         },
         {
          "correlation": null,
          "x": "has_issues",
          "y": "fork"
         },
         {
          "correlation": null,
          "x": "homepage",
          "y": "fork"
         },
         {
          "correlation": null,
          "x": "fork",
          "y": "fork"
         },
         {
          "correlation": null,
          "x": "forks",
          "y": "fork"
         },
         {
          "correlation": null,
          "x": "watchers",
          "y": "fork"
         },
         {
          "correlation": null,
          "x": "open_issues_count",
          "y": "fork"
         },
         {
          "correlation": null,
          "x": "watchers_count",
          "y": "fork"
         },
         {
          "correlation": null,
          "x": "stargazers_count",
          "y": "fork"
         },
         {
          "correlation": null,
          "x": "size",
          "y": "fork"
         },
         {
          "correlation": 0.04121122138011063,
          "x": "description",
          "y": "forks"
         },
         {
          "correlation": null,
          "x": "archived",
          "y": "forks"
         },
         {
          "correlation": null,
          "x": "has_wiki",
          "y": "forks"
         },
         {
          "correlation": null,
          "x": "has_downloads",
          "y": "forks"
         },
         {
          "correlation": null,
          "x": "has_projects",
          "y": "forks"
         },
         {
          "correlation": null,
          "x": "has_issues",
          "y": "forks"
         },
         {
          "correlation": 0.05062317964023082,
          "x": "homepage",
          "y": "forks"
         },
         {
          "correlation": null,
          "x": "fork",
          "y": "forks"
         },
         {
          "correlation": 1,
          "x": "forks",
          "y": "forks"
         },
         {
          "correlation": 0.47302872583125616,
          "x": "watchers",
          "y": "forks"
         },
         {
          "correlation": null,
          "x": "open_issues_count",
          "y": "forks"
         },
         {
          "correlation": 0.47302872583125616,
          "x": "watchers_count",
          "y": "forks"
         },
         {
          "correlation": 0.47302872583125616,
          "x": "stargazers_count",
          "y": "forks"
         },
         {
          "correlation": 0.020104098536490436,
          "x": "size",
          "y": "forks"
         },
         {
          "correlation": 0.07592581767114545,
          "x": "description",
          "y": "watchers"
         },
         {
          "correlation": null,
          "x": "archived",
          "y": "watchers"
         },
         {
          "correlation": null,
          "x": "has_wiki",
          "y": "watchers"
         },
         {
          "correlation": null,
          "x": "has_downloads",
          "y": "watchers"
         },
         {
          "correlation": null,
          "x": "has_projects",
          "y": "watchers"
         },
         {
          "correlation": null,
          "x": "has_issues",
          "y": "watchers"
         },
         {
          "correlation": 0.027549685699819845,
          "x": "homepage",
          "y": "watchers"
         },
         {
          "correlation": null,
          "x": "fork",
          "y": "watchers"
         },
         {
          "correlation": 0.47302872583125616,
          "x": "forks",
          "y": "watchers"
         },
         {
          "correlation": 1,
          "x": "watchers",
          "y": "watchers"
         },
         {
          "correlation": null,
          "x": "open_issues_count",
          "y": "watchers"
         },
         {
          "correlation": 1,
          "x": "watchers_count",
          "y": "watchers"
         },
         {
          "correlation": 1,
          "x": "stargazers_count",
          "y": "watchers"
         },
         {
          "correlation": 0.04476562071215605,
          "x": "size",
          "y": "watchers"
         },
         {
          "correlation": null,
          "x": "description",
          "y": "open_issues_count"
         },
         {
          "correlation": null,
          "x": "archived",
          "y": "open_issues_count"
         },
         {
          "correlation": null,
          "x": "has_wiki",
          "y": "open_issues_count"
         },
         {
          "correlation": null,
          "x": "has_downloads",
          "y": "open_issues_count"
         },
         {
          "correlation": null,
          "x": "has_projects",
          "y": "open_issues_count"
         },
         {
          "correlation": null,
          "x": "has_issues",
          "y": "open_issues_count"
         },
         {
          "correlation": null,
          "x": "homepage",
          "y": "open_issues_count"
         },
         {
          "correlation": null,
          "x": "fork",
          "y": "open_issues_count"
         },
         {
          "correlation": null,
          "x": "forks",
          "y": "open_issues_count"
         },
         {
          "correlation": null,
          "x": "watchers",
          "y": "open_issues_count"
         },
         {
          "correlation": null,
          "x": "open_issues_count",
          "y": "open_issues_count"
         },
         {
          "correlation": null,
          "x": "watchers_count",
          "y": "open_issues_count"
         },
         {
          "correlation": null,
          "x": "stargazers_count",
          "y": "open_issues_count"
         },
         {
          "correlation": null,
          "x": "size",
          "y": "open_issues_count"
         },
         {
          "correlation": 0.07592581767114545,
          "x": "description",
          "y": "watchers_count"
         },
         {
          "correlation": null,
          "x": "archived",
          "y": "watchers_count"
         },
         {
          "correlation": null,
          "x": "has_wiki",
          "y": "watchers_count"
         },
         {
          "correlation": null,
          "x": "has_downloads",
          "y": "watchers_count"
         },
         {
          "correlation": null,
          "x": "has_projects",
          "y": "watchers_count"
         },
         {
          "correlation": null,
          "x": "has_issues",
          "y": "watchers_count"
         },
         {
          "correlation": 0.027549685699819845,
          "x": "homepage",
          "y": "watchers_count"
         },
         {
          "correlation": null,
          "x": "fork",
          "y": "watchers_count"
         },
         {
          "correlation": 0.47302872583125616,
          "x": "forks",
          "y": "watchers_count"
         },
         {
          "correlation": 1,
          "x": "watchers",
          "y": "watchers_count"
         },
         {
          "correlation": null,
          "x": "open_issues_count",
          "y": "watchers_count"
         },
         {
          "correlation": 1,
          "x": "watchers_count",
          "y": "watchers_count"
         },
         {
          "correlation": 1,
          "x": "stargazers_count",
          "y": "watchers_count"
         },
         {
          "correlation": 0.04476562071215605,
          "x": "size",
          "y": "watchers_count"
         },
         {
          "correlation": 0.07592581767114545,
          "x": "description",
          "y": "stargazers_count"
         },
         {
          "correlation": null,
          "x": "archived",
          "y": "stargazers_count"
         },
         {
          "correlation": null,
          "x": "has_wiki",
          "y": "stargazers_count"
         },
         {
          "correlation": null,
          "x": "has_downloads",
          "y": "stargazers_count"
         },
         {
          "correlation": null,
          "x": "has_projects",
          "y": "stargazers_count"
         },
         {
          "correlation": null,
          "x": "has_issues",
          "y": "stargazers_count"
         },
         {
          "correlation": 0.027549685699819845,
          "x": "homepage",
          "y": "stargazers_count"
         },
         {
          "correlation": null,
          "x": "fork",
          "y": "stargazers_count"
         },
         {
          "correlation": 0.47302872583125616,
          "x": "forks",
          "y": "stargazers_count"
         },
         {
          "correlation": 1,
          "x": "watchers",
          "y": "stargazers_count"
         },
         {
          "correlation": null,
          "x": "open_issues_count",
          "y": "stargazers_count"
         },
         {
          "correlation": 1,
          "x": "watchers_count",
          "y": "stargazers_count"
         },
         {
          "correlation": 1,
          "x": "stargazers_count",
          "y": "stargazers_count"
         },
         {
          "correlation": 0.04476562071215605,
          "x": "size",
          "y": "stargazers_count"
         },
         {
          "correlation": 0.011008651658672984,
          "x": "description",
          "y": "size"
         },
         {
          "correlation": null,
          "x": "archived",
          "y": "size"
         },
         {
          "correlation": null,
          "x": "has_wiki",
          "y": "size"
         },
         {
          "correlation": null,
          "x": "has_downloads",
          "y": "size"
         },
         {
          "correlation": null,
          "x": "has_projects",
          "y": "size"
         },
         {
          "correlation": null,
          "x": "has_issues",
          "y": "size"
         },
         {
          "correlation": -0.004016205170206088,
          "x": "homepage",
          "y": "size"
         },
         {
          "correlation": null,
          "x": "fork",
          "y": "size"
         },
         {
          "correlation": 0.020104098536490436,
          "x": "forks",
          "y": "size"
         },
         {
          "correlation": 0.04476562071215605,
          "x": "watchers",
          "y": "size"
         },
         {
          "correlation": null,
          "x": "open_issues_count",
          "y": "size"
         },
         {
          "correlation": 0.04476562071215605,
          "x": "watchers_count",
          "y": "size"
         },
         {
          "correlation": 0.04476562071215605,
          "x": "stargazers_count",
          "y": "size"
         },
         {
          "correlation": 1,
          "x": "size",
          "y": "size"
         }
        ],
        "data-62c1b8f9e933cb0273e5bfcb6ac73186": [
         {
          "correlation": 1,
          "x": "description",
          "y": "description"
         },
         {
          "correlation": null,
          "x": "archived",
          "y": "description"
         },
         {
          "correlation": null,
          "x": "has_wiki",
          "y": "description"
         },
         {
          "correlation": null,
          "x": "has_downloads",
          "y": "description"
         },
         {
          "correlation": null,
          "x": "has_projects",
          "y": "description"
         },
         {
          "correlation": null,
          "x": "has_issues",
          "y": "description"
         },
         {
          "correlation": 0.19555043157950566,
          "x": "homepage",
          "y": "description"
         },
         {
          "correlation": null,
          "x": "fork",
          "y": "description"
         },
         {
          "correlation": 0.046598787300570654,
          "x": "forks",
          "y": "description"
         },
         {
          "correlation": 0.04210116845166888,
          "x": "watchers",
          "y": "description"
         },
         {
          "correlation": 0.0312701114481468,
          "x": "open_issues_count",
          "y": "description"
         },
         {
          "correlation": 0.04210116845166888,
          "x": "watchers_count",
          "y": "description"
         },
         {
          "correlation": 0.04210116845166888,
          "x": "stargazers_count",
          "y": "description"
         },
         {
          "correlation": 0.010251613653082617,
          "x": "size",
          "y": "description"
         },
         {
          "correlation": null,
          "x": "description",
          "y": "archived"
         },
         {
          "correlation": null,
          "x": "archived",
          "y": "archived"
         },
         {
          "correlation": null,
          "x": "has_wiki",
          "y": "archived"
         },
         {
          "correlation": null,
          "x": "has_downloads",
          "y": "archived"
         },
         {
          "correlation": null,
          "x": "has_projects",
          "y": "archived"
         },
         {
          "correlation": null,
          "x": "has_issues",
          "y": "archived"
         },
         {
          "correlation": null,
          "x": "homepage",
          "y": "archived"
         },
         {
          "correlation": null,
          "x": "fork",
          "y": "archived"
         },
         {
          "correlation": null,
          "x": "forks",
          "y": "archived"
         },
         {
          "correlation": null,
          "x": "watchers",
          "y": "archived"
         },
         {
          "correlation": null,
          "x": "open_issues_count",
          "y": "archived"
         },
         {
          "correlation": null,
          "x": "watchers_count",
          "y": "archived"
         },
         {
          "correlation": null,
          "x": "stargazers_count",
          "y": "archived"
         },
         {
          "correlation": null,
          "x": "size",
          "y": "archived"
         },
         {
          "correlation": null,
          "x": "description",
          "y": "has_wiki"
         },
         {
          "correlation": null,
          "x": "archived",
          "y": "has_wiki"
         },
         {
          "correlation": null,
          "x": "has_wiki",
          "y": "has_wiki"
         },
         {
          "correlation": null,
          "x": "has_downloads",
          "y": "has_wiki"
         },
         {
          "correlation": null,
          "x": "has_projects",
          "y": "has_wiki"
         },
         {
          "correlation": null,
          "x": "has_issues",
          "y": "has_wiki"
         },
         {
          "correlation": null,
          "x": "homepage",
          "y": "has_wiki"
         },
         {
          "correlation": null,
          "x": "fork",
          "y": "has_wiki"
         },
         {
          "correlation": null,
          "x": "forks",
          "y": "has_wiki"
         },
         {
          "correlation": null,
          "x": "watchers",
          "y": "has_wiki"
         },
         {
          "correlation": null,
          "x": "open_issues_count",
          "y": "has_wiki"
         },
         {
          "correlation": null,
          "x": "watchers_count",
          "y": "has_wiki"
         },
         {
          "correlation": null,
          "x": "stargazers_count",
          "y": "has_wiki"
         },
         {
          "correlation": null,
          "x": "size",
          "y": "has_wiki"
         },
         {
          "correlation": null,
          "x": "description",
          "y": "has_downloads"
         },
         {
          "correlation": null,
          "x": "archived",
          "y": "has_downloads"
         },
         {
          "correlation": null,
          "x": "has_wiki",
          "y": "has_downloads"
         },
         {
          "correlation": null,
          "x": "has_downloads",
          "y": "has_downloads"
         },
         {
          "correlation": null,
          "x": "has_projects",
          "y": "has_downloads"
         },
         {
          "correlation": null,
          "x": "has_issues",
          "y": "has_downloads"
         },
         {
          "correlation": null,
          "x": "homepage",
          "y": "has_downloads"
         },
         {
          "correlation": null,
          "x": "fork",
          "y": "has_downloads"
         },
         {
          "correlation": null,
          "x": "forks",
          "y": "has_downloads"
         },
         {
          "correlation": null,
          "x": "watchers",
          "y": "has_downloads"
         },
         {
          "correlation": null,
          "x": "open_issues_count",
          "y": "has_downloads"
         },
         {
          "correlation": null,
          "x": "watchers_count",
          "y": "has_downloads"
         },
         {
          "correlation": null,
          "x": "stargazers_count",
          "y": "has_downloads"
         },
         {
          "correlation": null,
          "x": "size",
          "y": "has_downloads"
         },
         {
          "correlation": null,
          "x": "description",
          "y": "has_projects"
         },
         {
          "correlation": null,
          "x": "archived",
          "y": "has_projects"
         },
         {
          "correlation": null,
          "x": "has_wiki",
          "y": "has_projects"
         },
         {
          "correlation": null,
          "x": "has_downloads",
          "y": "has_projects"
         },
         {
          "correlation": null,
          "x": "has_projects",
          "y": "has_projects"
         },
         {
          "correlation": null,
          "x": "has_issues",
          "y": "has_projects"
         },
         {
          "correlation": null,
          "x": "homepage",
          "y": "has_projects"
         },
         {
          "correlation": null,
          "x": "fork",
          "y": "has_projects"
         },
         {
          "correlation": null,
          "x": "forks",
          "y": "has_projects"
         },
         {
          "correlation": null,
          "x": "watchers",
          "y": "has_projects"
         },
         {
          "correlation": null,
          "x": "open_issues_count",
          "y": "has_projects"
         },
         {
          "correlation": null,
          "x": "watchers_count",
          "y": "has_projects"
         },
         {
          "correlation": null,
          "x": "stargazers_count",
          "y": "has_projects"
         },
         {
          "correlation": null,
          "x": "size",
          "y": "has_projects"
         },
         {
          "correlation": null,
          "x": "description",
          "y": "has_issues"
         },
         {
          "correlation": null,
          "x": "archived",
          "y": "has_issues"
         },
         {
          "correlation": null,
          "x": "has_wiki",
          "y": "has_issues"
         },
         {
          "correlation": null,
          "x": "has_downloads",
          "y": "has_issues"
         },
         {
          "correlation": null,
          "x": "has_projects",
          "y": "has_issues"
         },
         {
          "correlation": null,
          "x": "has_issues",
          "y": "has_issues"
         },
         {
          "correlation": null,
          "x": "homepage",
          "y": "has_issues"
         },
         {
          "correlation": null,
          "x": "fork",
          "y": "has_issues"
         },
         {
          "correlation": null,
          "x": "forks",
          "y": "has_issues"
         },
         {
          "correlation": null,
          "x": "watchers",
          "y": "has_issues"
         },
         {
          "correlation": null,
          "x": "open_issues_count",
          "y": "has_issues"
         },
         {
          "correlation": null,
          "x": "watchers_count",
          "y": "has_issues"
         },
         {
          "correlation": null,
          "x": "stargazers_count",
          "y": "has_issues"
         },
         {
          "correlation": null,
          "x": "size",
          "y": "has_issues"
         },
         {
          "correlation": 0.19555043157950566,
          "x": "description",
          "y": "homepage"
         },
         {
          "correlation": null,
          "x": "archived",
          "y": "homepage"
         },
         {
          "correlation": null,
          "x": "has_wiki",
          "y": "homepage"
         },
         {
          "correlation": null,
          "x": "has_downloads",
          "y": "homepage"
         },
         {
          "correlation": null,
          "x": "has_projects",
          "y": "homepage"
         },
         {
          "correlation": null,
          "x": "has_issues",
          "y": "homepage"
         },
         {
          "correlation": 1,
          "x": "homepage",
          "y": "homepage"
         },
         {
          "correlation": null,
          "x": "fork",
          "y": "homepage"
         },
         {
          "correlation": 0.039609469270986325,
          "x": "forks",
          "y": "homepage"
         },
         {
          "correlation": 0.04976833393396808,
          "x": "watchers",
          "y": "homepage"
         },
         {
          "correlation": 0.04850969877664408,
          "x": "open_issues_count",
          "y": "homepage"
         },
         {
          "correlation": 0.04976833393396808,
          "x": "watchers_count",
          "y": "homepage"
         },
         {
          "correlation": 0.04976833393396808,
          "x": "stargazers_count",
          "y": "homepage"
         },
         {
          "correlation": 0.01763673202135044,
          "x": "size",
          "y": "homepage"
         },
         {
          "correlation": null,
          "x": "description",
          "y": "fork"
         },
         {
          "correlation": null,
          "x": "archived",
          "y": "fork"
         },
         {
          "correlation": null,
          "x": "has_wiki",
          "y": "fork"
         },
         {
          "correlation": null,
          "x": "has_downloads",
          "y": "fork"
         },
         {
          "correlation": null,
          "x": "has_projects",
          "y": "fork"
         },
         {
          "correlation": null,
          "x": "has_issues",
          "y": "fork"
         },
         {
          "correlation": null,
          "x": "homepage",
          "y": "fork"
         },
         {
          "correlation": null,
          "x": "fork",
          "y": "fork"
         },
         {
          "correlation": null,
          "x": "forks",
          "y": "fork"
         },
         {
          "correlation": null,
          "x": "watchers",
          "y": "fork"
         },
         {
          "correlation": null,
          "x": "open_issues_count",
          "y": "fork"
         },
         {
          "correlation": null,
          "x": "watchers_count",
          "y": "fork"
         },
         {
          "correlation": null,
          "x": "stargazers_count",
          "y": "fork"
         },
         {
          "correlation": null,
          "x": "size",
          "y": "fork"
         },
         {
          "correlation": 0.046598787300570654,
          "x": "description",
          "y": "forks"
         },
         {
          "correlation": null,
          "x": "archived",
          "y": "forks"
         },
         {
          "correlation": null,
          "x": "has_wiki",
          "y": "forks"
         },
         {
          "correlation": null,
          "x": "has_downloads",
          "y": "forks"
         },
         {
          "correlation": null,
          "x": "has_projects",
          "y": "forks"
         },
         {
          "correlation": null,
          "x": "has_issues",
          "y": "forks"
         },
         {
          "correlation": 0.039609469270986325,
          "x": "homepage",
          "y": "forks"
         },
         {
          "correlation": null,
          "x": "fork",
          "y": "forks"
         },
         {
          "correlation": 1,
          "x": "forks",
          "y": "forks"
         },
         {
          "correlation": 0.8105541961075544,
          "x": "watchers",
          "y": "forks"
         },
         {
          "correlation": 0.2575496321209799,
          "x": "open_issues_count",
          "y": "forks"
         },
         {
          "correlation": 0.8105541961075544,
          "x": "watchers_count",
          "y": "forks"
         },
         {
          "correlation": 0.8105541961075544,
          "x": "stargazers_count",
          "y": "forks"
         },
         {
          "correlation": 0.02248253695245834,
          "x": "size",
          "y": "forks"
         },
         {
          "correlation": 0.04210116845166888,
          "x": "description",
          "y": "watchers"
         },
         {
          "correlation": null,
          "x": "archived",
          "y": "watchers"
         },
         {
          "correlation": null,
          "x": "has_wiki",
          "y": "watchers"
         },
         {
          "correlation": null,
          "x": "has_downloads",
          "y": "watchers"
         },
         {
          "correlation": null,
          "x": "has_projects",
          "y": "watchers"
         },
         {
          "correlation": null,
          "x": "has_issues",
          "y": "watchers"
         },
         {
          "correlation": 0.04976833393396808,
          "x": "homepage",
          "y": "watchers"
         },
         {
          "correlation": null,
          "x": "fork",
          "y": "watchers"
         },
         {
          "correlation": 0.8105541961075544,
          "x": "forks",
          "y": "watchers"
         },
         {
          "correlation": 1,
          "x": "watchers",
          "y": "watchers"
         },
         {
          "correlation": 0.23612003930748296,
          "x": "open_issues_count",
          "y": "watchers"
         },
         {
          "correlation": 1,
          "x": "watchers_count",
          "y": "watchers"
         },
         {
          "correlation": 1,
          "x": "stargazers_count",
          "y": "watchers"
         },
         {
          "correlation": 0.0157631102053039,
          "x": "size",
          "y": "watchers"
         },
         {
          "correlation": 0.0312701114481468,
          "x": "description",
          "y": "open_issues_count"
         },
         {
          "correlation": null,
          "x": "archived",
          "y": "open_issues_count"
         },
         {
          "correlation": null,
          "x": "has_wiki",
          "y": "open_issues_count"
         },
         {
          "correlation": null,
          "x": "has_downloads",
          "y": "open_issues_count"
         },
         {
          "correlation": null,
          "x": "has_projects",
          "y": "open_issues_count"
         },
         {
          "correlation": null,
          "x": "has_issues",
          "y": "open_issues_count"
         },
         {
          "correlation": 0.04850969877664408,
          "x": "homepage",
          "y": "open_issues_count"
         },
         {
          "correlation": null,
          "x": "fork",
          "y": "open_issues_count"
         },
         {
          "correlation": 0.2575496321209799,
          "x": "forks",
          "y": "open_issues_count"
         },
         {
          "correlation": 0.23612003930748296,
          "x": "watchers",
          "y": "open_issues_count"
         },
         {
          "correlation": 1,
          "x": "open_issues_count",
          "y": "open_issues_count"
         },
         {
          "correlation": 0.23612003930748302,
          "x": "watchers_count",
          "y": "open_issues_count"
         },
         {
          "correlation": 0.23612003930748302,
          "x": "stargazers_count",
          "y": "open_issues_count"
         },
         {
          "correlation": 0.024346594690072203,
          "x": "size",
          "y": "open_issues_count"
         },
         {
          "correlation": 0.04210116845166888,
          "x": "description",
          "y": "watchers_count"
         },
         {
          "correlation": null,
          "x": "archived",
          "y": "watchers_count"
         },
         {
          "correlation": null,
          "x": "has_wiki",
          "y": "watchers_count"
         },
         {
          "correlation": null,
          "x": "has_downloads",
          "y": "watchers_count"
         },
         {
          "correlation": null,
          "x": "has_projects",
          "y": "watchers_count"
         },
         {
          "correlation": null,
          "x": "has_issues",
          "y": "watchers_count"
         },
         {
          "correlation": 0.04976833393396808,
          "x": "homepage",
          "y": "watchers_count"
         },
         {
          "correlation": null,
          "x": "fork",
          "y": "watchers_count"
         },
         {
          "correlation": 0.8105541961075544,
          "x": "forks",
          "y": "watchers_count"
         },
         {
          "correlation": 1,
          "x": "watchers",
          "y": "watchers_count"
         },
         {
          "correlation": 0.23612003930748302,
          "x": "open_issues_count",
          "y": "watchers_count"
         },
         {
          "correlation": 1,
          "x": "watchers_count",
          "y": "watchers_count"
         },
         {
          "correlation": 1,
          "x": "stargazers_count",
          "y": "watchers_count"
         },
         {
          "correlation": 0.0157631102053039,
          "x": "size",
          "y": "watchers_count"
         },
         {
          "correlation": 0.04210116845166888,
          "x": "description",
          "y": "stargazers_count"
         },
         {
          "correlation": null,
          "x": "archived",
          "y": "stargazers_count"
         },
         {
          "correlation": null,
          "x": "has_wiki",
          "y": "stargazers_count"
         },
         {
          "correlation": null,
          "x": "has_downloads",
          "y": "stargazers_count"
         },
         {
          "correlation": null,
          "x": "has_projects",
          "y": "stargazers_count"
         },
         {
          "correlation": null,
          "x": "has_issues",
          "y": "stargazers_count"
         },
         {
          "correlation": 0.04976833393396808,
          "x": "homepage",
          "y": "stargazers_count"
         },
         {
          "correlation": null,
          "x": "fork",
          "y": "stargazers_count"
         },
         {
          "correlation": 0.8105541961075544,
          "x": "forks",
          "y": "stargazers_count"
         },
         {
          "correlation": 1,
          "x": "watchers",
          "y": "stargazers_count"
         },
         {
          "correlation": 0.23612003930748302,
          "x": "open_issues_count",
          "y": "stargazers_count"
         },
         {
          "correlation": 1,
          "x": "watchers_count",
          "y": "stargazers_count"
         },
         {
          "correlation": 1,
          "x": "stargazers_count",
          "y": "stargazers_count"
         },
         {
          "correlation": 0.0157631102053039,
          "x": "size",
          "y": "stargazers_count"
         },
         {
          "correlation": 0.010251613653082617,
          "x": "description",
          "y": "size"
         },
         {
          "correlation": null,
          "x": "archived",
          "y": "size"
         },
         {
          "correlation": null,
          "x": "has_wiki",
          "y": "size"
         },
         {
          "correlation": null,
          "x": "has_downloads",
          "y": "size"
         },
         {
          "correlation": null,
          "x": "has_projects",
          "y": "size"
         },
         {
          "correlation": null,
          "x": "has_issues",
          "y": "size"
         },
         {
          "correlation": 0.01763673202135044,
          "x": "homepage",
          "y": "size"
         },
         {
          "correlation": null,
          "x": "fork",
          "y": "size"
         },
         {
          "correlation": 0.02248253695245834,
          "x": "forks",
          "y": "size"
         },
         {
          "correlation": 0.0157631102053039,
          "x": "watchers",
          "y": "size"
         },
         {
          "correlation": 0.024346594690072203,
          "x": "open_issues_count",
          "y": "size"
         },
         {
          "correlation": 0.0157631102053039,
          "x": "watchers_count",
          "y": "size"
         },
         {
          "correlation": 0.0157631102053039,
          "x": "stargazers_count",
          "y": "size"
         },
         {
          "correlation": 1,
          "x": "size",
          "y": "size"
         }
        ],
        "data-712b2dc53fdbadcdc4e2010762ef45c2": [
         {
          "correlation": 1,
          "x": "description",
          "y": "description"
         },
         {
          "correlation": null,
          "x": "archived",
          "y": "description"
         },
         {
          "correlation": null,
          "x": "has_wiki",
          "y": "description"
         },
         {
          "correlation": null,
          "x": "has_downloads",
          "y": "description"
         },
         {
          "correlation": null,
          "x": "has_projects",
          "y": "description"
         },
         {
          "correlation": null,
          "x": "has_issues",
          "y": "description"
         },
         {
          "correlation": 0.10148124542712864,
          "x": "homepage",
          "y": "description"
         },
         {
          "correlation": null,
          "x": "fork",
          "y": "description"
         },
         {
          "correlation": 0.009779952191291897,
          "x": "forks",
          "y": "description"
         },
         {
          "correlation": 0.009242267444701007,
          "x": "watchers",
          "y": "description"
         },
         {
          "correlation": 0.0546320932208527,
          "x": "open_issues_count",
          "y": "description"
         },
         {
          "correlation": 0.009242267444701007,
          "x": "watchers_count",
          "y": "description"
         },
         {
          "correlation": 0.009242267444701007,
          "x": "stargazers_count",
          "y": "description"
         },
         {
          "correlation": 0.04791370621452616,
          "x": "size",
          "y": "description"
         },
         {
          "correlation": null,
          "x": "description",
          "y": "archived"
         },
         {
          "correlation": null,
          "x": "archived",
          "y": "archived"
         },
         {
          "correlation": null,
          "x": "has_wiki",
          "y": "archived"
         },
         {
          "correlation": null,
          "x": "has_downloads",
          "y": "archived"
         },
         {
          "correlation": null,
          "x": "has_projects",
          "y": "archived"
         },
         {
          "correlation": null,
          "x": "has_issues",
          "y": "archived"
         },
         {
          "correlation": null,
          "x": "homepage",
          "y": "archived"
         },
         {
          "correlation": null,
          "x": "fork",
          "y": "archived"
         },
         {
          "correlation": null,
          "x": "forks",
          "y": "archived"
         },
         {
          "correlation": null,
          "x": "watchers",
          "y": "archived"
         },
         {
          "correlation": null,
          "x": "open_issues_count",
          "y": "archived"
         },
         {
          "correlation": null,
          "x": "watchers_count",
          "y": "archived"
         },
         {
          "correlation": null,
          "x": "stargazers_count",
          "y": "archived"
         },
         {
          "correlation": null,
          "x": "size",
          "y": "archived"
         },
         {
          "correlation": null,
          "x": "description",
          "y": "has_wiki"
         },
         {
          "correlation": null,
          "x": "archived",
          "y": "has_wiki"
         },
         {
          "correlation": null,
          "x": "has_wiki",
          "y": "has_wiki"
         },
         {
          "correlation": null,
          "x": "has_downloads",
          "y": "has_wiki"
         },
         {
          "correlation": null,
          "x": "has_projects",
          "y": "has_wiki"
         },
         {
          "correlation": null,
          "x": "has_issues",
          "y": "has_wiki"
         },
         {
          "correlation": null,
          "x": "homepage",
          "y": "has_wiki"
         },
         {
          "correlation": null,
          "x": "fork",
          "y": "has_wiki"
         },
         {
          "correlation": null,
          "x": "forks",
          "y": "has_wiki"
         },
         {
          "correlation": null,
          "x": "watchers",
          "y": "has_wiki"
         },
         {
          "correlation": null,
          "x": "open_issues_count",
          "y": "has_wiki"
         },
         {
          "correlation": null,
          "x": "watchers_count",
          "y": "has_wiki"
         },
         {
          "correlation": null,
          "x": "stargazers_count",
          "y": "has_wiki"
         },
         {
          "correlation": null,
          "x": "size",
          "y": "has_wiki"
         },
         {
          "correlation": null,
          "x": "description",
          "y": "has_downloads"
         },
         {
          "correlation": null,
          "x": "archived",
          "y": "has_downloads"
         },
         {
          "correlation": null,
          "x": "has_wiki",
          "y": "has_downloads"
         },
         {
          "correlation": null,
          "x": "has_downloads",
          "y": "has_downloads"
         },
         {
          "correlation": null,
          "x": "has_projects",
          "y": "has_downloads"
         },
         {
          "correlation": null,
          "x": "has_issues",
          "y": "has_downloads"
         },
         {
          "correlation": null,
          "x": "homepage",
          "y": "has_downloads"
         },
         {
          "correlation": null,
          "x": "fork",
          "y": "has_downloads"
         },
         {
          "correlation": null,
          "x": "forks",
          "y": "has_downloads"
         },
         {
          "correlation": null,
          "x": "watchers",
          "y": "has_downloads"
         },
         {
          "correlation": null,
          "x": "open_issues_count",
          "y": "has_downloads"
         },
         {
          "correlation": null,
          "x": "watchers_count",
          "y": "has_downloads"
         },
         {
          "correlation": null,
          "x": "stargazers_count",
          "y": "has_downloads"
         },
         {
          "correlation": null,
          "x": "size",
          "y": "has_downloads"
         },
         {
          "correlation": null,
          "x": "description",
          "y": "has_projects"
         },
         {
          "correlation": null,
          "x": "archived",
          "y": "has_projects"
         },
         {
          "correlation": null,
          "x": "has_wiki",
          "y": "has_projects"
         },
         {
          "correlation": null,
          "x": "has_downloads",
          "y": "has_projects"
         },
         {
          "correlation": null,
          "x": "has_projects",
          "y": "has_projects"
         },
         {
          "correlation": null,
          "x": "has_issues",
          "y": "has_projects"
         },
         {
          "correlation": null,
          "x": "homepage",
          "y": "has_projects"
         },
         {
          "correlation": null,
          "x": "fork",
          "y": "has_projects"
         },
         {
          "correlation": null,
          "x": "forks",
          "y": "has_projects"
         },
         {
          "correlation": null,
          "x": "watchers",
          "y": "has_projects"
         },
         {
          "correlation": null,
          "x": "open_issues_count",
          "y": "has_projects"
         },
         {
          "correlation": null,
          "x": "watchers_count",
          "y": "has_projects"
         },
         {
          "correlation": null,
          "x": "stargazers_count",
          "y": "has_projects"
         },
         {
          "correlation": null,
          "x": "size",
          "y": "has_projects"
         },
         {
          "correlation": null,
          "x": "description",
          "y": "has_issues"
         },
         {
          "correlation": null,
          "x": "archived",
          "y": "has_issues"
         },
         {
          "correlation": null,
          "x": "has_wiki",
          "y": "has_issues"
         },
         {
          "correlation": null,
          "x": "has_downloads",
          "y": "has_issues"
         },
         {
          "correlation": null,
          "x": "has_projects",
          "y": "has_issues"
         },
         {
          "correlation": null,
          "x": "has_issues",
          "y": "has_issues"
         },
         {
          "correlation": null,
          "x": "homepage",
          "y": "has_issues"
         },
         {
          "correlation": null,
          "x": "fork",
          "y": "has_issues"
         },
         {
          "correlation": null,
          "x": "forks",
          "y": "has_issues"
         },
         {
          "correlation": null,
          "x": "watchers",
          "y": "has_issues"
         },
         {
          "correlation": null,
          "x": "open_issues_count",
          "y": "has_issues"
         },
         {
          "correlation": null,
          "x": "watchers_count",
          "y": "has_issues"
         },
         {
          "correlation": null,
          "x": "stargazers_count",
          "y": "has_issues"
         },
         {
          "correlation": null,
          "x": "size",
          "y": "has_issues"
         },
         {
          "correlation": 0.10148124542712864,
          "x": "description",
          "y": "homepage"
         },
         {
          "correlation": null,
          "x": "archived",
          "y": "homepage"
         },
         {
          "correlation": null,
          "x": "has_wiki",
          "y": "homepage"
         },
         {
          "correlation": null,
          "x": "has_downloads",
          "y": "homepage"
         },
         {
          "correlation": null,
          "x": "has_projects",
          "y": "homepage"
         },
         {
          "correlation": null,
          "x": "has_issues",
          "y": "homepage"
         },
         {
          "correlation": 1,
          "x": "homepage",
          "y": "homepage"
         },
         {
          "correlation": null,
          "x": "fork",
          "y": "homepage"
         },
         {
          "correlation": 0.04792176132621118,
          "x": "forks",
          "y": "homepage"
         },
         {
          "correlation": 0.04543400083805469,
          "x": "watchers",
          "y": "homepage"
         },
         {
          "correlation": 0.21854100378804497,
          "x": "open_issues_count",
          "y": "homepage"
         },
         {
          "correlation": 0.04543400083805469,
          "x": "watchers_count",
          "y": "homepage"
         },
         {
          "correlation": 0.04543400083805469,
          "x": "stargazers_count",
          "y": "homepage"
         },
         {
          "correlation": 0.08791479745193748,
          "x": "size",
          "y": "homepage"
         },
         {
          "correlation": null,
          "x": "description",
          "y": "fork"
         },
         {
          "correlation": null,
          "x": "archived",
          "y": "fork"
         },
         {
          "correlation": null,
          "x": "has_wiki",
          "y": "fork"
         },
         {
          "correlation": null,
          "x": "has_downloads",
          "y": "fork"
         },
         {
          "correlation": null,
          "x": "has_projects",
          "y": "fork"
         },
         {
          "correlation": null,
          "x": "has_issues",
          "y": "fork"
         },
         {
          "correlation": null,
          "x": "homepage",
          "y": "fork"
         },
         {
          "correlation": null,
          "x": "fork",
          "y": "fork"
         },
         {
          "correlation": null,
          "x": "forks",
          "y": "fork"
         },
         {
          "correlation": null,
          "x": "watchers",
          "y": "fork"
         },
         {
          "correlation": null,
          "x": "open_issues_count",
          "y": "fork"
         },
         {
          "correlation": null,
          "x": "watchers_count",
          "y": "fork"
         },
         {
          "correlation": null,
          "x": "stargazers_count",
          "y": "fork"
         },
         {
          "correlation": null,
          "x": "size",
          "y": "fork"
         },
         {
          "correlation": 0.009779952191291897,
          "x": "description",
          "y": "forks"
         },
         {
          "correlation": null,
          "x": "archived",
          "y": "forks"
         },
         {
          "correlation": null,
          "x": "has_wiki",
          "y": "forks"
         },
         {
          "correlation": null,
          "x": "has_downloads",
          "y": "forks"
         },
         {
          "correlation": null,
          "x": "has_projects",
          "y": "forks"
         },
         {
          "correlation": null,
          "x": "has_issues",
          "y": "forks"
         },
         {
          "correlation": 0.04792176132621118,
          "x": "homepage",
          "y": "forks"
         },
         {
          "correlation": null,
          "x": "fork",
          "y": "forks"
         },
         {
          "correlation": 1,
          "x": "forks",
          "y": "forks"
         },
         {
          "correlation": 0.9990887126409601,
          "x": "watchers",
          "y": "forks"
         },
         {
          "correlation": 0.02846325386976995,
          "x": "open_issues_count",
          "y": "forks"
         },
         {
          "correlation": 0.9990887126409601,
          "x": "watchers_count",
          "y": "forks"
         },
         {
          "correlation": 0.9990887126409601,
          "x": "stargazers_count",
          "y": "forks"
         },
         {
          "correlation": 0.012177782749104638,
          "x": "size",
          "y": "forks"
         },
         {
          "correlation": 0.009242267444701007,
          "x": "description",
          "y": "watchers"
         },
         {
          "correlation": null,
          "x": "archived",
          "y": "watchers"
         },
         {
          "correlation": null,
          "x": "has_wiki",
          "y": "watchers"
         },
         {
          "correlation": null,
          "x": "has_downloads",
          "y": "watchers"
         },
         {
          "correlation": null,
          "x": "has_projects",
          "y": "watchers"
         },
         {
          "correlation": null,
          "x": "has_issues",
          "y": "watchers"
         },
         {
          "correlation": 0.04543400083805469,
          "x": "homepage",
          "y": "watchers"
         },
         {
          "correlation": null,
          "x": "fork",
          "y": "watchers"
         },
         {
          "correlation": 0.9990887126409601,
          "x": "forks",
          "y": "watchers"
         },
         {
          "correlation": 1,
          "x": "watchers",
          "y": "watchers"
         },
         {
          "correlation": 0.022534713282475433,
          "x": "open_issues_count",
          "y": "watchers"
         },
         {
          "correlation": 1,
          "x": "watchers_count",
          "y": "watchers"
         },
         {
          "correlation": 1,
          "x": "stargazers_count",
          "y": "watchers"
         },
         {
          "correlation": 0.010394594595022295,
          "x": "size",
          "y": "watchers"
         },
         {
          "correlation": 0.0546320932208527,
          "x": "description",
          "y": "open_issues_count"
         },
         {
          "correlation": null,
          "x": "archived",
          "y": "open_issues_count"
         },
         {
          "correlation": null,
          "x": "has_wiki",
          "y": "open_issues_count"
         },
         {
          "correlation": null,
          "x": "has_downloads",
          "y": "open_issues_count"
         },
         {
          "correlation": null,
          "x": "has_projects",
          "y": "open_issues_count"
         },
         {
          "correlation": null,
          "x": "has_issues",
          "y": "open_issues_count"
         },
         {
          "correlation": 0.21854100378804497,
          "x": "homepage",
          "y": "open_issues_count"
         },
         {
          "correlation": null,
          "x": "fork",
          "y": "open_issues_count"
         },
         {
          "correlation": 0.02846325386976995,
          "x": "forks",
          "y": "open_issues_count"
         },
         {
          "correlation": 0.022534713282475433,
          "x": "watchers",
          "y": "open_issues_count"
         },
         {
          "correlation": 1,
          "x": "open_issues_count",
          "y": "open_issues_count"
         },
         {
          "correlation": 0.022534713282475433,
          "x": "watchers_count",
          "y": "open_issues_count"
         },
         {
          "correlation": 0.022534713282475433,
          "x": "stargazers_count",
          "y": "open_issues_count"
         },
         {
          "correlation": 0.04642731369898789,
          "x": "size",
          "y": "open_issues_count"
         },
         {
          "correlation": 0.009242267444701007,
          "x": "description",
          "y": "watchers_count"
         },
         {
          "correlation": null,
          "x": "archived",
          "y": "watchers_count"
         },
         {
          "correlation": null,
          "x": "has_wiki",
          "y": "watchers_count"
         },
         {
          "correlation": null,
          "x": "has_downloads",
          "y": "watchers_count"
         },
         {
          "correlation": null,
          "x": "has_projects",
          "y": "watchers_count"
         },
         {
          "correlation": null,
          "x": "has_issues",
          "y": "watchers_count"
         },
         {
          "correlation": 0.04543400083805469,
          "x": "homepage",
          "y": "watchers_count"
         },
         {
          "correlation": null,
          "x": "fork",
          "y": "watchers_count"
         },
         {
          "correlation": 0.9990887126409601,
          "x": "forks",
          "y": "watchers_count"
         },
         {
          "correlation": 1,
          "x": "watchers",
          "y": "watchers_count"
         },
         {
          "correlation": 0.022534713282475433,
          "x": "open_issues_count",
          "y": "watchers_count"
         },
         {
          "correlation": 1,
          "x": "watchers_count",
          "y": "watchers_count"
         },
         {
          "correlation": 1,
          "x": "stargazers_count",
          "y": "watchers_count"
         },
         {
          "correlation": 0.010394594595022295,
          "x": "size",
          "y": "watchers_count"
         },
         {
          "correlation": 0.009242267444701007,
          "x": "description",
          "y": "stargazers_count"
         },
         {
          "correlation": null,
          "x": "archived",
          "y": "stargazers_count"
         },
         {
          "correlation": null,
          "x": "has_wiki",
          "y": "stargazers_count"
         },
         {
          "correlation": null,
          "x": "has_downloads",
          "y": "stargazers_count"
         },
         {
          "correlation": null,
          "x": "has_projects",
          "y": "stargazers_count"
         },
         {
          "correlation": null,
          "x": "has_issues",
          "y": "stargazers_count"
         },
         {
          "correlation": 0.04543400083805469,
          "x": "homepage",
          "y": "stargazers_count"
         },
         {
          "correlation": null,
          "x": "fork",
          "y": "stargazers_count"
         },
         {
          "correlation": 0.9990887126409601,
          "x": "forks",
          "y": "stargazers_count"
         },
         {
          "correlation": 1,
          "x": "watchers",
          "y": "stargazers_count"
         },
         {
          "correlation": 0.022534713282475433,
          "x": "open_issues_count",
          "y": "stargazers_count"
         },
         {
          "correlation": 1,
          "x": "watchers_count",
          "y": "stargazers_count"
         },
         {
          "correlation": 1,
          "x": "stargazers_count",
          "y": "stargazers_count"
         },
         {
          "correlation": 0.010394594595022295,
          "x": "size",
          "y": "stargazers_count"
         },
         {
          "correlation": 0.04791370621452616,
          "x": "description",
          "y": "size"
         },
         {
          "correlation": null,
          "x": "archived",
          "y": "size"
         },
         {
          "correlation": null,
          "x": "has_wiki",
          "y": "size"
         },
         {
          "correlation": null,
          "x": "has_downloads",
          "y": "size"
         },
         {
          "correlation": null,
          "x": "has_projects",
          "y": "size"
         },
         {
          "correlation": null,
          "x": "has_issues",
          "y": "size"
         },
         {
          "correlation": 0.08791479745193748,
          "x": "homepage",
          "y": "size"
         },
         {
          "correlation": null,
          "x": "fork",
          "y": "size"
         },
         {
          "correlation": 0.012177782749104638,
          "x": "forks",
          "y": "size"
         },
         {
          "correlation": 0.010394594595022295,
          "x": "watchers",
          "y": "size"
         },
         {
          "correlation": 0.04642731369898789,
          "x": "open_issues_count",
          "y": "size"
         },
         {
          "correlation": 0.010394594595022295,
          "x": "watchers_count",
          "y": "size"
         },
         {
          "correlation": 0.010394594595022295,
          "x": "stargazers_count",
          "y": "size"
         },
         {
          "correlation": 1,
          "x": "size",
          "y": "size"
         }
        ]
       },
       "hconcat": [
        {
         "data": {
          "name": "data-712b2dc53fdbadcdc4e2010762ef45c2"
         },
         "height": {
          "step": 40
         },
         "layer": [
          {
           "encoding": {
            "color": {
             "field": "correlation",
             "type": "quantitative"
            },
            "tooltip": [
             {
              "field": "x",
              "title": "Variable 1",
              "type": "nominal"
             },
             {
              "field": "y",
              "title": "Variable 2",
              "type": "nominal"
             },
             {
              "field": "correlation",
              "title": "Correlation",
              "type": "quantitative"
             }
            ],
            "x": {
             "field": "x",
             "title": null,
             "type": "ordinal"
            },
            "y": {
             "field": "y",
             "sort": {
              "field": "y",
              "order": "descending"
             },
             "title": null,
             "type": "ordinal"
            }
           },
           "mark": {
            "type": "rect"
           }
          },
          {
           "encoding": {
            "color": {
             "condition": {
              "test": "(datum.correlation > 0.95)",
              "value": "black"
             },
             "value": "white"
            },
            "text": {
             "field": "correlation",
             "format": ".2f",
             "type": "quantitative"
            },
            "tooltip": [
             {
              "field": "x",
              "title": "Variable 1",
              "type": "nominal"
             },
             {
              "field": "y",
              "title": "Variable 2",
              "type": "nominal"
             },
             {
              "field": "correlation",
              "title": "Correlation",
              "type": "quantitative"
             }
            ],
            "x": {
             "field": "x",
             "title": null,
             "type": "ordinal"
            },
            "y": {
             "field": "y",
             "sort": {
              "field": "y",
              "order": "descending"
             },
             "title": null,
             "type": "ordinal"
            }
           },
           "mark": {
            "baseline": "middle",
            "type": "text"
           }
          }
         ],
         "title": "Correlation matrix heatmap for initial_core core users",
         "width": {
          "step": 40
         }
        },
        {
         "data": {
          "name": "data-6245d951cb93c26c47d02078cdc85bcd"
         },
         "height": {
          "step": 40
         },
         "layer": [
          {
           "encoding": {
            "color": {
             "field": "correlation",
             "type": "quantitative"
            },
            "tooltip": [
             {
              "field": "x",
              "title": "Variable 1",
              "type": "nominal"
             },
             {
              "field": "y",
              "title": "Variable 2",
              "type": "nominal"
             },
             {
              "field": "correlation",
              "title": "Correlation",
              "type": "quantitative"
             }
            ],
            "x": {
             "field": "x",
             "title": null,
             "type": "ordinal"
            },
            "y": {
             "field": "y",
             "sort": {
              "field": "y",
              "order": "descending"
             },
             "title": null,
             "type": "ordinal"
            }
           },
           "mark": {
            "type": "rect"
           }
          },
          {
           "encoding": {
            "color": {
             "condition": {
              "test": "(datum.correlation > 0.95)",
              "value": "black"
             },
             "value": "white"
            },
            "text": {
             "field": "correlation",
             "format": ".2f",
             "type": "quantitative"
            },
            "tooltip": [
             {
              "field": "x",
              "title": "Variable 1",
              "type": "nominal"
             },
             {
              "field": "y",
              "title": "Variable 2",
              "type": "nominal"
             },
             {
              "field": "correlation",
              "title": "Correlation",
              "type": "quantitative"
             }
            ],
            "x": {
             "field": "x",
             "title": null,
             "type": "ordinal"
            },
            "y": {
             "field": "y",
             "sort": {
              "field": "y",
              "order": "descending"
             },
             "title": null,
             "type": "ordinal"
            }
           },
           "mark": {
            "baseline": "middle",
            "type": "text"
           }
          }
         ],
         "title": "Correlation matrix heatmap for firstpass_core core users",
         "width": {
          "step": 40
         }
        },
        {
         "data": {
          "name": "data-62c1b8f9e933cb0273e5bfcb6ac73186"
         },
         "height": {
          "step": 40
         },
         "layer": [
          {
           "encoding": {
            "color": {
             "field": "correlation",
             "type": "quantitative"
            },
            "tooltip": [
             {
              "field": "x",
              "title": "Variable 1",
              "type": "nominal"
             },
             {
              "field": "y",
              "title": "Variable 2",
              "type": "nominal"
             },
             {
              "field": "correlation",
              "title": "Correlation",
              "type": "quantitative"
             }
            ],
            "x": {
             "field": "x",
             "title": null,
             "type": "ordinal"
            },
            "y": {
             "field": "y",
             "sort": {
              "field": "y",
              "order": "descending"
             },
             "title": null,
             "type": "ordinal"
            }
           },
           "mark": {
            "type": "rect"
           }
          },
          {
           "encoding": {
            "color": {
             "condition": {
              "test": "(datum.correlation > 0.95)",
              "value": "black"
             },
             "value": "white"
            },
            "text": {
             "field": "correlation",
             "format": ".2f",
             "type": "quantitative"
            },
            "tooltip": [
             {
              "field": "x",
              "title": "Variable 1",
              "type": "nominal"
             },
             {
              "field": "y",
              "title": "Variable 2",
              "type": "nominal"
             },
             {
              "field": "correlation",
              "title": "Correlation",
              "type": "quantitative"
             }
            ],
            "x": {
             "field": "x",
             "title": null,
             "type": "ordinal"
            },
            "y": {
             "field": "y",
             "sort": {
              "field": "y",
              "order": "descending"
             },
             "title": null,
             "type": "ordinal"
            }
           },
           "mark": {
            "baseline": "middle",
            "type": "text"
           }
          }
         ],
         "title": "Correlation matrix heatmap for finalpass_core core users",
         "width": {
          "step": 40
         }
        }
       ]
      },
      "text/plain": [
       "<VegaLite 5 object>\n",
       "\n",
       "If you see this message, it means the renderer has not been properly enabled\n",
       "for the frontend that you are using. For more information, see\n",
       "https://altair-viz.github.io/user_guide/troubleshooting.html\n"
      ]
     },
     "execution_count": 8,
     "metadata": {},
     "output_type": "execute_result"
    }
   ],
   "source": [
    "alt.hconcat(*matrices)"
   ]
  },
  {
   "cell_type": "code",
   "execution_count": null,
   "metadata": {},
   "outputs": [],
   "source": []
  }
 ],
 "metadata": {
  "kernelspec": {
   "display_name": "values_and_versions_env",
   "language": "python",
   "name": "python3"
  },
  "language_info": {
   "codemirror_mode": {
    "name": "ipython",
    "version": 3
   },
   "file_extension": ".py",
   "mimetype": "text/x-python",
   "name": "python",
   "nbconvert_exporter": "python",
   "pygments_lexer": "ipython3",
   "version": "3.9.16"
  },
  "orig_nbformat": 4
 },
 "nbformat": 4,
 "nbformat_minor": 2
}
