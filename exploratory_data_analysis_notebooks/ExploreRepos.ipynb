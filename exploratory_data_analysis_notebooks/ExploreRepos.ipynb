{
 "cells": [
  {
   "attachments": {},
   "cell_type": "markdown",
   "metadata": {},
   "source": [
    "# Explore Patterns in DH Repos"
   ]
  },
  {
   "attachments": {},
   "cell_type": "markdown",
   "metadata": {},
   "source": [
    "- Date Created and Updated\n",
    "- Size\n",
    "- Programming Language\n",
    "- Natural Language\n",
    "- Number of user interactions"
   ]
  },
  {
   "attachments": {},
   "cell_type": "markdown",
   "metadata": {},
   "source": [
    "### Load Libraries and Datasets"
   ]
  },
  {
   "cell_type": "code",
   "execution_count": 2,
   "metadata": {},
   "outputs": [],
   "source": [
    "import pandas as pd\n",
    "pd.options.mode.chained_assignment = None\n",
    "import altair as alt\n",
    "alt.renderers.enable('mimetype')\n",
    "alt.data_transformers.disable_max_rows()\n",
    "import warnings\n",
    "warnings.filterwarnings('ignore')\n",
    "from sklearn.preprocessing import StandardScaler\n"
   ]
  },
  {
   "cell_type": "code",
   "execution_count": 3,
   "metadata": {},
   "outputs": [],
   "source": [
    "\n",
    "repo_df = pd.read_csv(\"../data/large_files/entity_files/repos_dataset.csv\", low_memory=False)\n",
    "\n",
    "initial_core_users = pd.read_csv(\"../data/derived_files/initial_core_users.csv\")\n",
    "initial_core_users['origin'] = 'initial_core'\n",
    "initial_core_repos = pd.read_csv(\"../data/derived_files/initial_core_repos.csv\")\n",
    "initial_core_repos['origin'] = 'initial_core'\n",
    "initial_core_orgs = pd.read_csv(\"../data/derived_files/initial_core_orgs.csv\")\n",
    "initial_core_orgs['origin'] = 'initial_core'\n",
    "\n",
    "firstpass_core_users = pd.read_csv(\"../data/derived_files/firstpass_core_users.csv\")\n",
    "firstpass_core_users['origin'] = 'firstpass_core'\n",
    "firstpass_core_repos = pd.read_csv(\"../data/derived_files/firstpass_core_repos.csv\")\n",
    "firstpass_core_repos['origin'] = 'firstpass_core'\n",
    "firstpass_core_orgs = pd.read_csv(\"../data/derived_files/firstpass_core_orgs.csv\")\n",
    "firstpass_core_orgs['origin'] = 'firstpass_core'\n",
    "\n",
    "finalpass_core_users = pd.read_csv(\"../data/derived_files/finalpass_core_users.csv\")\n",
    "finalpass_core_users['origin'] = 'finalpass_core'\n",
    "finalpass_core_repos = pd.read_csv(\"../data/large_files/derived_files/finalpass_core_repos.csv\", low_memory=False, on_bad_lines='skip')\n",
    "finalpass_core_repos['origin'] = 'finalpass_core'\n",
    "finalpass_core_orgs = pd.read_csv(\"../data/derived_files/finalpass_core_orgs.csv\")\n",
    "finalpass_core_orgs['origin'] = 'finalpass_core'"
   ]
  },
  {
   "cell_type": "code",
   "execution_count": 6,
   "metadata": {},
   "outputs": [],
   "source": [
    "core_users = pd.concat([initial_core_users, firstpass_core_users, finalpass_core_users])\n",
    "core_repos = pd.concat([initial_core_repos, firstpass_core_repos, finalpass_core_repos])\n",
    "core_orgs = pd.concat([initial_core_orgs, firstpass_core_orgs, finalpass_core_orgs])"
   ]
  },
  {
   "attachments": {},
   "cell_type": "markdown",
   "metadata": {},
   "source": [
    "### Check for Correlation in Data"
   ]
  },
  {
   "cell_type": "code",
   "execution_count": 7,
   "metadata": {},
   "outputs": [],
   "source": [
    "def generate_heatmap_chart(corr_matrix, origin_type):\n",
    "\n",
    "    # Melt the correlation matrix to long format\n",
    "    corr_df = corr_matrix.reset_index().melt('index')\n",
    "\n",
    "    # Rename the columns for Altair\n",
    "    corr_df.columns = ['x', 'y', 'correlation']\n",
    "\n",
    "    # Generate the heatmap\n",
    "    heatmap = alt.Chart(corr_df).mark_rect().encode(\n",
    "        x=alt.X('x:O', title=None),\n",
    "        y=alt.Y('y:O',  sort=alt.EncodingSortField('y', order='descending'), title=None),\n",
    "        color='correlation:Q',\n",
    "        tooltip=[\n",
    "            alt.Tooltip('x', title='Variable 1'),\n",
    "            alt.Tooltip('y', title='Variable 2'),\n",
    "            alt.Tooltip('correlation', title='Correlation')\n",
    "        ]\n",
    "    )\n",
    "\n",
    "    # Add the text overlay with the correlation values\n",
    "    text = heatmap.mark_text(baseline='middle').encode(\n",
    "        text=alt.Text('correlation:Q', format='.2f'),\n",
    "        color=alt.condition(\n",
    "            alt.datum.correlation > 0.95,\n",
    "            alt.value('black'),\n",
    "            alt.value('white')\n",
    "        )\n",
    "    )\n",
    "\n",
    "    # Display the final chart\n",
    "    heatmap_chart = (heatmap + text).properties(\n",
    "        width=alt.Step(40),\n",
    "        height=alt.Step(40),\n",
    "        title=f\"Correlation matrix heatmap for {origin_type} core users\"\n",
    "    )\n",
    "    return heatmap_chart"
   ]
  },
  {
   "cell_type": "code",
   "execution_count": 8,
   "metadata": {},
   "outputs": [],
   "source": [
    "types_repos = core_repos.origin.unique().tolist()\n",
    "categorical_features = ['description', 'archived', 'has_wiki', 'has_downloads', 'has_projects', 'has_issues', 'homepage', 'fork']  # update this with actual column names\n",
    "#try exploding topics \n",
    "numerical_features = ['forks', 'watchers', 'open_issues_count', 'watchers_count', 'stargazers_count', 'size']  # update this with actual column names\n",
    "\n",
    "matrices = []\n",
    "for origin_type in types_repos:\n",
    "    matrix_repos = core_repos[core_repos.origin == origin_type].copy()\n",
    "    # Convert categorical features into binary\n",
    "    for feature in categorical_features:\n",
    "        matrix_repos[feature] = matrix_repos[feature].notna().astype(int)\n",
    "\n",
    "    # Scale numerical features\n",
    "    scaler = StandardScaler()\n",
    "    matrix_repos[numerical_features] = scaler.fit_transform(matrix_repos[numerical_features])\n",
    "\n",
    "    # Create a correlation matrix\n",
    "    corr_matrix = matrix_repos[categorical_features + numerical_features].corr()\n",
    "    heatmap_chart = generate_heatmap_chart(corr_matrix, origin_type)\n",
    "    matrices.append(heatmap_chart)"
   ]
  },
  {
   "cell_type": "code",
   "execution_count": 9,
   "metadata": {},
   "outputs": [
    {
     "data": {
      "application/vnd.vegalite.v5+json": {
       "$schema": "https://vega.github.io/schema/vega-lite/v5.6.1.json",
       "config": {
        "view": {
         "continuousHeight": 300,
         "continuousWidth": 300
        }
       },
       "datasets": {
        "data-6245d951cb93c26c47d02078cdc85bcd": [
         {
          "correlation": 1,
          "x": "description",
          "y": "description"
         },
         {
          "correlation": null,
          "x": "archived",
          "y": "description"
         },
         {
          "correlation": null,
          "x": "has_wiki",
          "y": "description"
         },
         {
          "correlation": null,
          "x": "has_downloads",
          "y": "description"
         },
         {
          "correlation": null,
          "x": "has_projects",
          "y": "description"
         },
         {
          "correlation": null,
          "x": "has_issues",
          "y": "description"
         },
         {
          "correlation": 0.16624440391569426,
          "x": "homepage",
          "y": "description"
         },
         {
          "correlation": null,
          "x": "fork",
          "y": "description"
         },
         {
          "correlation": 0.04121122138011063,
          "x": "forks",
          "y": "description"
         },
         {
          "correlation": 0.07592581767114545,
          "x": "watchers",
          "y": "description"
         },
         {
          "correlation": null,
          "x": "open_issues_count",
          "y": "description"
         },
         {
          "correlation": 0.07592581767114545,
          "x": "watchers_count",
          "y": "description"
         },
         {
          "correlation": 0.07592581767114545,
          "x": "stargazers_count",
          "y": "description"
         },
         {
          "correlation": 0.011008651658672984,
          "x": "size",
          "y": "description"
         },
         {
          "correlation": null,
          "x": "description",
          "y": "archived"
         },
         {
          "correlation": null,
          "x": "archived",
          "y": "archived"
         },
         {
          "correlation": null,
          "x": "has_wiki",
          "y": "archived"
         },
         {
          "correlation": null,
          "x": "has_downloads",
          "y": "archived"
         },
         {
          "correlation": null,
          "x": "has_projects",
          "y": "archived"
         },
         {
          "correlation": null,
          "x": "has_issues",
          "y": "archived"
         },
         {
          "correlation": null,
          "x": "homepage",
          "y": "archived"
         },
         {
          "correlation": null,
          "x": "fork",
          "y": "archived"
         },
         {
          "correlation": null,
          "x": "forks",
          "y": "archived"
         },
         {
          "correlation": null,
          "x": "watchers",
          "y": "archived"
         },
         {
          "correlation": null,
          "x": "open_issues_count",
          "y": "archived"
         },
         {
          "correlation": null,
          "x": "watchers_count",
          "y": "archived"
         },
         {
          "correlation": null,
          "x": "stargazers_count",
          "y": "archived"
         },
         {
          "correlation": null,
          "x": "size",
          "y": "archived"
         },
         {
          "correlation": null,
          "x": "description",
          "y": "has_wiki"
         },
         {
          "correlation": null,
          "x": "archived",
          "y": "has_wiki"
         },
         {
          "correlation": null,
          "x": "has_wiki",
          "y": "has_wiki"
         },
         {
          "correlation": null,
          "x": "has_downloads",
          "y": "has_wiki"
         },
         {
          "correlation": null,
          "x": "has_projects",
          "y": "has_wiki"
         },
         {
          "correlation": null,
          "x": "has_issues",
          "y": "has_wiki"
         },
         {
          "correlation": null,
          "x": "homepage",
          "y": "has_wiki"
         },
         {
          "correlation": null,
          "x": "fork",
          "y": "has_wiki"
         },
         {
          "correlation": null,
          "x": "forks",
          "y": "has_wiki"
         },
         {
          "correlation": null,
          "x": "watchers",
          "y": "has_wiki"
         },
         {
          "correlation": null,
          "x": "open_issues_count",
          "y": "has_wiki"
         },
         {
          "correlation": null,
          "x": "watchers_count",
          "y": "has_wiki"
         },
         {
          "correlation": null,
          "x": "stargazers_count",
          "y": "has_wiki"
         },
         {
          "correlation": null,
          "x": "size",
          "y": "has_wiki"
         },
         {
          "correlation": null,
          "x": "description",
          "y": "has_downloads"
         },
         {
          "correlation": null,
          "x": "archived",
          "y": "has_downloads"
         },
         {
          "correlation": null,
          "x": "has_wiki",
          "y": "has_downloads"
         },
         {
          "correlation": null,
          "x": "has_downloads",
          "y": "has_downloads"
         },
         {
          "correlation": null,
          "x": "has_projects",
          "y": "has_downloads"
         },
         {
          "correlation": null,
          "x": "has_issues",
          "y": "has_downloads"
         },
         {
          "correlation": null,
          "x": "homepage",
          "y": "has_downloads"
         },
         {
          "correlation": null,
          "x": "fork",
          "y": "has_downloads"
         },
         {
          "correlation": null,
          "x": "forks",
          "y": "has_downloads"
         },
         {
          "correlation": null,
          "x": "watchers",
          "y": "has_downloads"
         },
         {
          "correlation": null,
          "x": "open_issues_count",
          "y": "has_downloads"
         },
         {
          "correlation": null,
          "x": "watchers_count",
          "y": "has_downloads"
         },
         {
          "correlation": null,
          "x": "stargazers_count",
          "y": "has_downloads"
         },
         {
          "correlation": null,
          "x": "size",
          "y": "has_downloads"
         },
         {
          "correlation": null,
          "x": "description",
          "y": "has_projects"
         },
         {
          "correlation": null,
          "x": "archived",
          "y": "has_projects"
         },
         {
          "correlation": null,
          "x": "has_wiki",
          "y": "has_projects"
         },
         {
          "correlation": null,
          "x": "has_downloads",
          "y": "has_projects"
         },
         {
          "correlation": null,
          "x": "has_projects",
          "y": "has_projects"
         },
         {
          "correlation": null,
          "x": "has_issues",
          "y": "has_projects"
         },
         {
          "correlation": null,
          "x": "homepage",
          "y": "has_projects"
         },
         {
          "correlation": null,
          "x": "fork",
          "y": "has_projects"
         },
         {
          "correlation": null,
          "x": "forks",
          "y": "has_projects"
         },
         {
          "correlation": null,
          "x": "watchers",
          "y": "has_projects"
         },
         {
          "correlation": null,
          "x": "open_issues_count",
          "y": "has_projects"
         },
         {
          "correlation": null,
          "x": "watchers_count",
          "y": "has_projects"
         },
         {
          "correlation": null,
          "x": "stargazers_count",
          "y": "has_projects"
         },
         {
          "correlation": null,
          "x": "size",
          "y": "has_projects"
         },
         {
          "correlation": null,
          "x": "description",
          "y": "has_issues"
         },
         {
          "correlation": null,
          "x": "archived",
          "y": "has_issues"
         },
         {
          "correlation": null,
          "x": "has_wiki",
          "y": "has_issues"
         },
         {
          "correlation": null,
          "x": "has_downloads",
          "y": "has_issues"
         },
         {
          "correlation": null,
          "x": "has_projects",
          "y": "has_issues"
         },
         {
          "correlation": null,
          "x": "has_issues",
          "y": "has_issues"
         },
         {
          "correlation": null,
          "x": "homepage",
          "y": "has_issues"
         },
         {
          "correlation": null,
          "x": "fork",
          "y": "has_issues"
         },
         {
          "correlation": null,
          "x": "forks",
          "y": "has_issues"
         },
         {
          "correlation": null,
          "x": "watchers",
          "y": "has_issues"
         },
         {
          "correlation": null,
          "x": "open_issues_count",
          "y": "has_issues"
         },
         {
          "correlation": null,
          "x": "watchers_count",
          "y": "has_issues"
         },
         {
          "correlation": null,
          "x": "stargazers_count",
          "y": "has_issues"
         },
         {
          "correlation": null,
          "x": "size",
          "y": "has_issues"
         },
         {
          "correlation": 0.16624440391569426,
          "x": "description",
          "y": "homepage"
         },
         {
          "correlation": null,
          "x": "archived",
          "y": "homepage"
         },
         {
          "correlation": null,
          "x": "has_wiki",
          "y": "homepage"
         },
         {
          "correlation": null,
          "x": "has_downloads",
          "y": "homepage"
         },
         {
          "correlation": null,
          "x": "has_projects",
          "y": "homepage"
         },
         {
          "correlation": null,
          "x": "has_issues",
          "y": "homepage"
         },
         {
          "correlation": 1,
          "x": "homepage",
          "y": "homepage"
         },
         {
          "correlation": null,
          "x": "fork",
          "y": "homepage"
         },
         {
          "correlation": 0.05062317964023082,
          "x": "forks",
          "y": "homepage"
         },
         {
          "correlation": 0.027549685699819845,
          "x": "watchers",
          "y": "homepage"
         },
         {
          "correlation": null,
          "x": "open_issues_count",
          "y": "homepage"
         },
         {
          "correlation": 0.027549685699819845,
          "x": "watchers_count",
          "y": "homepage"
         },
         {
          "correlation": 0.027549685699819845,
          "x": "stargazers_count",
          "y": "homepage"
         },
         {
          "correlation": -0.004016205170206088,
          "x": "size",
          "y": "homepage"
         },
         {
          "correlation": null,
          "x": "description",
          "y": "fork"
         },
         {
          "correlation": null,
          "x": "archived",
          "y": "fork"
         },
         {
          "correlation": null,
          "x": "has_wiki",
          "y": "fork"
         },
         {
          "correlation": null,
          "x": "has_downloads",
          "y": "fork"
         },
         {
          "correlation": null,
          "x": "has_projects",
          "y": "fork"
         },
         {
          "correlation": null,
          "x": "has_issues",
          "y": "fork"
         },
         {
          "correlation": null,
          "x": "homepage",
          "y": "fork"
         },
         {
          "correlation": null,
          "x": "fork",
          "y": "fork"
         },
         {
          "correlation": null,
          "x": "forks",
          "y": "fork"
         },
         {
          "correlation": null,
          "x": "watchers",
          "y": "fork"
         },
         {
          "correlation": null,
          "x": "open_issues_count",
          "y": "fork"
         },
         {
          "correlation": null,
          "x": "watchers_count",
          "y": "fork"
         },
         {
          "correlation": null,
          "x": "stargazers_count",
          "y": "fork"
         },
         {
          "correlation": null,
          "x": "size",
          "y": "fork"
         },
         {
          "correlation": 0.04121122138011063,
          "x": "description",
          "y": "forks"
         },
         {
          "correlation": null,
          "x": "archived",
          "y": "forks"
         },
         {
          "correlation": null,
          "x": "has_wiki",
          "y": "forks"
         },
         {
          "correlation": null,
          "x": "has_downloads",
          "y": "forks"
         },
         {
          "correlation": null,
          "x": "has_projects",
          "y": "forks"
         },
         {
          "correlation": null,
          "x": "has_issues",
          "y": "forks"
         },
         {
          "correlation": 0.05062317964023082,
          "x": "homepage",
          "y": "forks"
         },
         {
          "correlation": null,
          "x": "fork",
          "y": "forks"
         },
         {
          "correlation": 1,
          "x": "forks",
          "y": "forks"
         },
         {
          "correlation": 0.47302872583125616,
          "x": "watchers",
          "y": "forks"
         },
         {
          "correlation": null,
          "x": "open_issues_count",
          "y": "forks"
         },
         {
          "correlation": 0.47302872583125616,
          "x": "watchers_count",
          "y": "forks"
         },
         {
          "correlation": 0.47302872583125616,
          "x": "stargazers_count",
          "y": "forks"
         },
         {
          "correlation": 0.020104098536490436,
          "x": "size",
          "y": "forks"
         },
         {
          "correlation": 0.07592581767114545,
          "x": "description",
          "y": "watchers"
         },
         {
          "correlation": null,
          "x": "archived",
          "y": "watchers"
         },
         {
          "correlation": null,
          "x": "has_wiki",
          "y": "watchers"
         },
         {
          "correlation": null,
          "x": "has_downloads",
          "y": "watchers"
         },
         {
          "correlation": null,
          "x": "has_projects",
          "y": "watchers"
         },
         {
          "correlation": null,
          "x": "has_issues",
          "y": "watchers"
         },
         {
          "correlation": 0.027549685699819845,
          "x": "homepage",
          "y": "watchers"
         },
         {
          "correlation": null,
          "x": "fork",
          "y": "watchers"
         },
         {
          "correlation": 0.47302872583125616,
          "x": "forks",
          "y": "watchers"
         },
         {
          "correlation": 1,
          "x": "watchers",
          "y": "watchers"
         },
         {
          "correlation": null,
          "x": "open_issues_count",
          "y": "watchers"
         },
         {
          "correlation": 1,
          "x": "watchers_count",
          "y": "watchers"
         },
         {
          "correlation": 1,
          "x": "stargazers_count",
          "y": "watchers"
         },
         {
          "correlation": 0.04476562071215605,
          "x": "size",
          "y": "watchers"
         },
         {
          "correlation": null,
          "x": "description",
          "y": "open_issues_count"
         },
         {
          "correlation": null,
          "x": "archived",
          "y": "open_issues_count"
         },
         {
          "correlation": null,
          "x": "has_wiki",
          "y": "open_issues_count"
         },
         {
          "correlation": null,
          "x": "has_downloads",
          "y": "open_issues_count"
         },
         {
          "correlation": null,
          "x": "has_projects",
          "y": "open_issues_count"
         },
         {
          "correlation": null,
          "x": "has_issues",
          "y": "open_issues_count"
         },
         {
          "correlation": null,
          "x": "homepage",
          "y": "open_issues_count"
         },
         {
          "correlation": null,
          "x": "fork",
          "y": "open_issues_count"
         },
         {
          "correlation": null,
          "x": "forks",
          "y": "open_issues_count"
         },
         {
          "correlation": null,
          "x": "watchers",
          "y": "open_issues_count"
         },
         {
          "correlation": null,
          "x": "open_issues_count",
          "y": "open_issues_count"
         },
         {
          "correlation": null,
          "x": "watchers_count",
          "y": "open_issues_count"
         },
         {
          "correlation": null,
          "x": "stargazers_count",
          "y": "open_issues_count"
         },
         {
          "correlation": null,
          "x": "size",
          "y": "open_issues_count"
         },
         {
          "correlation": 0.07592581767114545,
          "x": "description",
          "y": "watchers_count"
         },
         {
          "correlation": null,
          "x": "archived",
          "y": "watchers_count"
         },
         {
          "correlation": null,
          "x": "has_wiki",
          "y": "watchers_count"
         },
         {
          "correlation": null,
          "x": "has_downloads",
          "y": "watchers_count"
         },
         {
          "correlation": null,
          "x": "has_projects",
          "y": "watchers_count"
         },
         {
          "correlation": null,
          "x": "has_issues",
          "y": "watchers_count"
         },
         {
          "correlation": 0.027549685699819845,
          "x": "homepage",
          "y": "watchers_count"
         },
         {
          "correlation": null,
          "x": "fork",
          "y": "watchers_count"
         },
         {
          "correlation": 0.47302872583125616,
          "x": "forks",
          "y": "watchers_count"
         },
         {
          "correlation": 1,
          "x": "watchers",
          "y": "watchers_count"
         },
         {
          "correlation": null,
          "x": "open_issues_count",
          "y": "watchers_count"
         },
         {
          "correlation": 1,
          "x": "watchers_count",
          "y": "watchers_count"
         },
         {
          "correlation": 1,
          "x": "stargazers_count",
          "y": "watchers_count"
         },
         {
          "correlation": 0.04476562071215605,
          "x": "size",
          "y": "watchers_count"
         },
         {
          "correlation": 0.07592581767114545,
          "x": "description",
          "y": "stargazers_count"
         },
         {
          "correlation": null,
          "x": "archived",
          "y": "stargazers_count"
         },
         {
          "correlation": null,
          "x": "has_wiki",
          "y": "stargazers_count"
         },
         {
          "correlation": null,
          "x": "has_downloads",
          "y": "stargazers_count"
         },
         {
          "correlation": null,
          "x": "has_projects",
          "y": "stargazers_count"
         },
         {
          "correlation": null,
          "x": "has_issues",
          "y": "stargazers_count"
         },
         {
          "correlation": 0.027549685699819845,
          "x": "homepage",
          "y": "stargazers_count"
         },
         {
          "correlation": null,
          "x": "fork",
          "y": "stargazers_count"
         },
         {
          "correlation": 0.47302872583125616,
          "x": "forks",
          "y": "stargazers_count"
         },
         {
          "correlation": 1,
          "x": "watchers",
          "y": "stargazers_count"
         },
         {
          "correlation": null,
          "x": "open_issues_count",
          "y": "stargazers_count"
         },
         {
          "correlation": 1,
          "x": "watchers_count",
          "y": "stargazers_count"
         },
         {
          "correlation": 1,
          "x": "stargazers_count",
          "y": "stargazers_count"
         },
         {
          "correlation": 0.04476562071215605,
          "x": "size",
          "y": "stargazers_count"
         },
         {
          "correlation": 0.011008651658672984,
          "x": "description",
          "y": "size"
         },
         {
          "correlation": null,
          "x": "archived",
          "y": "size"
         },
         {
          "correlation": null,
          "x": "has_wiki",
          "y": "size"
         },
         {
          "correlation": null,
          "x": "has_downloads",
          "y": "size"
         },
         {
          "correlation": null,
          "x": "has_projects",
          "y": "size"
         },
         {
          "correlation": null,
          "x": "has_issues",
          "y": "size"
         },
         {
          "correlation": -0.004016205170206088,
          "x": "homepage",
          "y": "size"
         },
         {
          "correlation": null,
          "x": "fork",
          "y": "size"
         },
         {
          "correlation": 0.020104098536490436,
          "x": "forks",
          "y": "size"
         },
         {
          "correlation": 0.04476562071215605,
          "x": "watchers",
          "y": "size"
         },
         {
          "correlation": null,
          "x": "open_issues_count",
          "y": "size"
         },
         {
          "correlation": 0.04476562071215605,
          "x": "watchers_count",
          "y": "size"
         },
         {
          "correlation": 0.04476562071215605,
          "x": "stargazers_count",
          "y": "size"
         },
         {
          "correlation": 1,
          "x": "size",
          "y": "size"
         }
        ],
        "data-62c1b8f9e933cb0273e5bfcb6ac73186": [
         {
          "correlation": 1,
          "x": "description",
          "y": "description"
         },
         {
          "correlation": null,
          "x": "archived",
          "y": "description"
         },
         {
          "correlation": null,
          "x": "has_wiki",
          "y": "description"
         },
         {
          "correlation": null,
          "x": "has_downloads",
          "y": "description"
         },
         {
          "correlation": null,
          "x": "has_projects",
          "y": "description"
         },
         {
          "correlation": null,
          "x": "has_issues",
          "y": "description"
         },
         {
          "correlation": 0.19555043157950566,
          "x": "homepage",
          "y": "description"
         },
         {
          "correlation": null,
          "x": "fork",
          "y": "description"
         },
         {
          "correlation": 0.046598787300570654,
          "x": "forks",
          "y": "description"
         },
         {
          "correlation": 0.04210116845166888,
          "x": "watchers",
          "y": "description"
         },
         {
          "correlation": 0.0312701114481468,
          "x": "open_issues_count",
          "y": "description"
         },
         {
          "correlation": 0.04210116845166888,
          "x": "watchers_count",
          "y": "description"
         },
         {
          "correlation": 0.04210116845166888,
          "x": "stargazers_count",
          "y": "description"
         },
         {
          "correlation": 0.010251613653082617,
          "x": "size",
          "y": "description"
         },
         {
          "correlation": null,
          "x": "description",
          "y": "archived"
         },
         {
          "correlation": null,
          "x": "archived",
          "y": "archived"
         },
         {
          "correlation": null,
          "x": "has_wiki",
          "y": "archived"
         },
         {
          "correlation": null,
          "x": "has_downloads",
          "y": "archived"
         },
         {
          "correlation": null,
          "x": "has_projects",
          "y": "archived"
         },
         {
          "correlation": null,
          "x": "has_issues",
          "y": "archived"
         },
         {
          "correlation": null,
          "x": "homepage",
          "y": "archived"
         },
         {
          "correlation": null,
          "x": "fork",
          "y": "archived"
         },
         {
          "correlation": null,
          "x": "forks",
          "y": "archived"
         },
         {
          "correlation": null,
          "x": "watchers",
          "y": "archived"
         },
         {
          "correlation": null,
          "x": "open_issues_count",
          "y": "archived"
         },
         {
          "correlation": null,
          "x": "watchers_count",
          "y": "archived"
         },
         {
          "correlation": null,
          "x": "stargazers_count",
          "y": "archived"
         },
         {
          "correlation": null,
          "x": "size",
          "y": "archived"
         },
         {
          "correlation": null,
          "x": "description",
          "y": "has_wiki"
         },
         {
          "correlation": null,
          "x": "archived",
          "y": "has_wiki"
         },
         {
          "correlation": null,
          "x": "has_wiki",
          "y": "has_wiki"
         },
         {
          "correlation": null,
          "x": "has_downloads",
          "y": "has_wiki"
         },
         {
          "correlation": null,
          "x": "has_projects",
          "y": "has_wiki"
         },
         {
          "correlation": null,
          "x": "has_issues",
          "y": "has_wiki"
         },
         {
          "correlation": null,
          "x": "homepage",
          "y": "has_wiki"
         },
         {
          "correlation": null,
          "x": "fork",
          "y": "has_wiki"
         },
         {
          "correlation": null,
          "x": "forks",
          "y": "has_wiki"
         },
         {
          "correlation": null,
          "x": "watchers",
          "y": "has_wiki"
         },
         {
          "correlation": null,
          "x": "open_issues_count",
          "y": "has_wiki"
         },
         {
          "correlation": null,
          "x": "watchers_count",
          "y": "has_wiki"
         },
         {
          "correlation": null,
          "x": "stargazers_count",
          "y": "has_wiki"
         },
         {
          "correlation": null,
          "x": "size",
          "y": "has_wiki"
         },
         {
          "correlation": null,
          "x": "description",
          "y": "has_downloads"
         },
         {
          "correlation": null,
          "x": "archived",
          "y": "has_downloads"
         },
         {
          "correlation": null,
          "x": "has_wiki",
          "y": "has_downloads"
         },
         {
          "correlation": null,
          "x": "has_downloads",
          "y": "has_downloads"
         },
         {
          "correlation": null,
          "x": "has_projects",
          "y": "has_downloads"
         },
         {
          "correlation": null,
          "x": "has_issues",
          "y": "has_downloads"
         },
         {
          "correlation": null,
          "x": "homepage",
          "y": "has_downloads"
         },
         {
          "correlation": null,
          "x": "fork",
          "y": "has_downloads"
         },
         {
          "correlation": null,
          "x": "forks",
          "y": "has_downloads"
         },
         {
          "correlation": null,
          "x": "watchers",
          "y": "has_downloads"
         },
         {
          "correlation": null,
          "x": "open_issues_count",
          "y": "has_downloads"
         },
         {
          "correlation": null,
          "x": "watchers_count",
          "y": "has_downloads"
         },
         {
          "correlation": null,
          "x": "stargazers_count",
          "y": "has_downloads"
         },
         {
          "correlation": null,
          "x": "size",
          "y": "has_downloads"
         },
         {
          "correlation": null,
          "x": "description",
          "y": "has_projects"
         },
         {
          "correlation": null,
          "x": "archived",
          "y": "has_projects"
         },
         {
          "correlation": null,
          "x": "has_wiki",
          "y": "has_projects"
         },
         {
          "correlation": null,
          "x": "has_downloads",
          "y": "has_projects"
         },
         {
          "correlation": null,
          "x": "has_projects",
          "y": "has_projects"
         },
         {
          "correlation": null,
          "x": "has_issues",
          "y": "has_projects"
         },
         {
          "correlation": null,
          "x": "homepage",
          "y": "has_projects"
         },
         {
          "correlation": null,
          "x": "fork",
          "y": "has_projects"
         },
         {
          "correlation": null,
          "x": "forks",
          "y": "has_projects"
         },
         {
          "correlation": null,
          "x": "watchers",
          "y": "has_projects"
         },
         {
          "correlation": null,
          "x": "open_issues_count",
          "y": "has_projects"
         },
         {
          "correlation": null,
          "x": "watchers_count",
          "y": "has_projects"
         },
         {
          "correlation": null,
          "x": "stargazers_count",
          "y": "has_projects"
         },
         {
          "correlation": null,
          "x": "size",
          "y": "has_projects"
         },
         {
          "correlation": null,
          "x": "description",
          "y": "has_issues"
         },
         {
          "correlation": null,
          "x": "archived",
          "y": "has_issues"
         },
         {
          "correlation": null,
          "x": "has_wiki",
          "y": "has_issues"
         },
         {
          "correlation": null,
          "x": "has_downloads",
          "y": "has_issues"
         },
         {
          "correlation": null,
          "x": "has_projects",
          "y": "has_issues"
         },
         {
          "correlation": null,
          "x": "has_issues",
          "y": "has_issues"
         },
         {
          "correlation": null,
          "x": "homepage",
          "y": "has_issues"
         },
         {
          "correlation": null,
          "x": "fork",
          "y": "has_issues"
         },
         {
          "correlation": null,
          "x": "forks",
          "y": "has_issues"
         },
         {
          "correlation": null,
          "x": "watchers",
          "y": "has_issues"
         },
         {
          "correlation": null,
          "x": "open_issues_count",
          "y": "has_issues"
         },
         {
          "correlation": null,
          "x": "watchers_count",
          "y": "has_issues"
         },
         {
          "correlation": null,
          "x": "stargazers_count",
          "y": "has_issues"
         },
         {
          "correlation": null,
          "x": "size",
          "y": "has_issues"
         },
         {
          "correlation": 0.19555043157950566,
          "x": "description",
          "y": "homepage"
         },
         {
          "correlation": null,
          "x": "archived",
          "y": "homepage"
         },
         {
          "correlation": null,
          "x": "has_wiki",
          "y": "homepage"
         },
         {
          "correlation": null,
          "x": "has_downloads",
          "y": "homepage"
         },
         {
          "correlation": null,
          "x": "has_projects",
          "y": "homepage"
         },
         {
          "correlation": null,
          "x": "has_issues",
          "y": "homepage"
         },
         {
          "correlation": 1,
          "x": "homepage",
          "y": "homepage"
         },
         {
          "correlation": null,
          "x": "fork",
          "y": "homepage"
         },
         {
          "correlation": 0.039609469270986325,
          "x": "forks",
          "y": "homepage"
         },
         {
          "correlation": 0.04976833393396808,
          "x": "watchers",
          "y": "homepage"
         },
         {
          "correlation": 0.04850969877664408,
          "x": "open_issues_count",
          "y": "homepage"
         },
         {
          "correlation": 0.04976833393396808,
          "x": "watchers_count",
          "y": "homepage"
         },
         {
          "correlation": 0.04976833393396808,
          "x": "stargazers_count",
          "y": "homepage"
         },
         {
          "correlation": 0.01763673202135044,
          "x": "size",
          "y": "homepage"
         },
         {
          "correlation": null,
          "x": "description",
          "y": "fork"
         },
         {
          "correlation": null,
          "x": "archived",
          "y": "fork"
         },
         {
          "correlation": null,
          "x": "has_wiki",
          "y": "fork"
         },
         {
          "correlation": null,
          "x": "has_downloads",
          "y": "fork"
         },
         {
          "correlation": null,
          "x": "has_projects",
          "y": "fork"
         },
         {
          "correlation": null,
          "x": "has_issues",
          "y": "fork"
         },
         {
          "correlation": null,
          "x": "homepage",
          "y": "fork"
         },
         {
          "correlation": null,
          "x": "fork",
          "y": "fork"
         },
         {
          "correlation": null,
          "x": "forks",
          "y": "fork"
         },
         {
          "correlation": null,
          "x": "watchers",
          "y": "fork"
         },
         {
          "correlation": null,
          "x": "open_issues_count",
          "y": "fork"
         },
         {
          "correlation": null,
          "x": "watchers_count",
          "y": "fork"
         },
         {
          "correlation": null,
          "x": "stargazers_count",
          "y": "fork"
         },
         {
          "correlation": null,
          "x": "size",
          "y": "fork"
         },
         {
          "correlation": 0.046598787300570654,
          "x": "description",
          "y": "forks"
         },
         {
          "correlation": null,
          "x": "archived",
          "y": "forks"
         },
         {
          "correlation": null,
          "x": "has_wiki",
          "y": "forks"
         },
         {
          "correlation": null,
          "x": "has_downloads",
          "y": "forks"
         },
         {
          "correlation": null,
          "x": "has_projects",
          "y": "forks"
         },
         {
          "correlation": null,
          "x": "has_issues",
          "y": "forks"
         },
         {
          "correlation": 0.039609469270986325,
          "x": "homepage",
          "y": "forks"
         },
         {
          "correlation": null,
          "x": "fork",
          "y": "forks"
         },
         {
          "correlation": 1,
          "x": "forks",
          "y": "forks"
         },
         {
          "correlation": 0.8105541961075544,
          "x": "watchers",
          "y": "forks"
         },
         {
          "correlation": 0.2575496321209799,
          "x": "open_issues_count",
          "y": "forks"
         },
         {
          "correlation": 0.8105541961075544,
          "x": "watchers_count",
          "y": "forks"
         },
         {
          "correlation": 0.8105541961075544,
          "x": "stargazers_count",
          "y": "forks"
         },
         {
          "correlation": 0.02248253695245834,
          "x": "size",
          "y": "forks"
         },
         {
          "correlation": 0.04210116845166888,
          "x": "description",
          "y": "watchers"
         },
         {
          "correlation": null,
          "x": "archived",
          "y": "watchers"
         },
         {
          "correlation": null,
          "x": "has_wiki",
          "y": "watchers"
         },
         {
          "correlation": null,
          "x": "has_downloads",
          "y": "watchers"
         },
         {
          "correlation": null,
          "x": "has_projects",
          "y": "watchers"
         },
         {
          "correlation": null,
          "x": "has_issues",
          "y": "watchers"
         },
         {
          "correlation": 0.04976833393396808,
          "x": "homepage",
          "y": "watchers"
         },
         {
          "correlation": null,
          "x": "fork",
          "y": "watchers"
         },
         {
          "correlation": 0.8105541961075544,
          "x": "forks",
          "y": "watchers"
         },
         {
          "correlation": 1,
          "x": "watchers",
          "y": "watchers"
         },
         {
          "correlation": 0.23612003930748296,
          "x": "open_issues_count",
          "y": "watchers"
         },
         {
          "correlation": 1,
          "x": "watchers_count",
          "y": "watchers"
         },
         {
          "correlation": 1,
          "x": "stargazers_count",
          "y": "watchers"
         },
         {
          "correlation": 0.0157631102053039,
          "x": "size",
          "y": "watchers"
         },
         {
          "correlation": 0.0312701114481468,
          "x": "description",
          "y": "open_issues_count"
         },
         {
          "correlation": null,
          "x": "archived",
          "y": "open_issues_count"
         },
         {
          "correlation": null,
          "x": "has_wiki",
          "y": "open_issues_count"
         },
         {
          "correlation": null,
          "x": "has_downloads",
          "y": "open_issues_count"
         },
         {
          "correlation": null,
          "x": "has_projects",
          "y": "open_issues_count"
         },
         {
          "correlation": null,
          "x": "has_issues",
          "y": "open_issues_count"
         },
         {
          "correlation": 0.04850969877664408,
          "x": "homepage",
          "y": "open_issues_count"
         },
         {
          "correlation": null,
          "x": "fork",
          "y": "open_issues_count"
         },
         {
          "correlation": 0.2575496321209799,
          "x": "forks",
          "y": "open_issues_count"
         },
         {
          "correlation": 0.23612003930748296,
          "x": "watchers",
          "y": "open_issues_count"
         },
         {
          "correlation": 1,
          "x": "open_issues_count",
          "y": "open_issues_count"
         },
         {
          "correlation": 0.23612003930748302,
          "x": "watchers_count",
          "y": "open_issues_count"
         },
         {
          "correlation": 0.23612003930748302,
          "x": "stargazers_count",
          "y": "open_issues_count"
         },
         {
          "correlation": 0.024346594690072203,
          "x": "size",
          "y": "open_issues_count"
         },
         {
          "correlation": 0.04210116845166888,
          "x": "description",
          "y": "watchers_count"
         },
         {
          "correlation": null,
          "x": "archived",
          "y": "watchers_count"
         },
         {
          "correlation": null,
          "x": "has_wiki",
          "y": "watchers_count"
         },
         {
          "correlation": null,
          "x": "has_downloads",
          "y": "watchers_count"
         },
         {
          "correlation": null,
          "x": "has_projects",
          "y": "watchers_count"
         },
         {
          "correlation": null,
          "x": "has_issues",
          "y": "watchers_count"
         },
         {
          "correlation": 0.04976833393396808,
          "x": "homepage",
          "y": "watchers_count"
         },
         {
          "correlation": null,
          "x": "fork",
          "y": "watchers_count"
         },
         {
          "correlation": 0.8105541961075544,
          "x": "forks",
          "y": "watchers_count"
         },
         {
          "correlation": 1,
          "x": "watchers",
          "y": "watchers_count"
         },
         {
          "correlation": 0.23612003930748302,
          "x": "open_issues_count",
          "y": "watchers_count"
         },
         {
          "correlation": 1,
          "x": "watchers_count",
          "y": "watchers_count"
         },
         {
          "correlation": 1,
          "x": "stargazers_count",
          "y": "watchers_count"
         },
         {
          "correlation": 0.0157631102053039,
          "x": "size",
          "y": "watchers_count"
         },
         {
          "correlation": 0.04210116845166888,
          "x": "description",
          "y": "stargazers_count"
         },
         {
          "correlation": null,
          "x": "archived",
          "y": "stargazers_count"
         },
         {
          "correlation": null,
          "x": "has_wiki",
          "y": "stargazers_count"
         },
         {
          "correlation": null,
          "x": "has_downloads",
          "y": "stargazers_count"
         },
         {
          "correlation": null,
          "x": "has_projects",
          "y": "stargazers_count"
         },
         {
          "correlation": null,
          "x": "has_issues",
          "y": "stargazers_count"
         },
         {
          "correlation": 0.04976833393396808,
          "x": "homepage",
          "y": "stargazers_count"
         },
         {
          "correlation": null,
          "x": "fork",
          "y": "stargazers_count"
         },
         {
          "correlation": 0.8105541961075544,
          "x": "forks",
          "y": "stargazers_count"
         },
         {
          "correlation": 1,
          "x": "watchers",
          "y": "stargazers_count"
         },
         {
          "correlation": 0.23612003930748302,
          "x": "open_issues_count",
          "y": "stargazers_count"
         },
         {
          "correlation": 1,
          "x": "watchers_count",
          "y": "stargazers_count"
         },
         {
          "correlation": 1,
          "x": "stargazers_count",
          "y": "stargazers_count"
         },
         {
          "correlation": 0.0157631102053039,
          "x": "size",
          "y": "stargazers_count"
         },
         {
          "correlation": 0.010251613653082617,
          "x": "description",
          "y": "size"
         },
         {
          "correlation": null,
          "x": "archived",
          "y": "size"
         },
         {
          "correlation": null,
          "x": "has_wiki",
          "y": "size"
         },
         {
          "correlation": null,
          "x": "has_downloads",
          "y": "size"
         },
         {
          "correlation": null,
          "x": "has_projects",
          "y": "size"
         },
         {
          "correlation": null,
          "x": "has_issues",
          "y": "size"
         },
         {
          "correlation": 0.01763673202135044,
          "x": "homepage",
          "y": "size"
         },
         {
          "correlation": null,
          "x": "fork",
          "y": "size"
         },
         {
          "correlation": 0.02248253695245834,
          "x": "forks",
          "y": "size"
         },
         {
          "correlation": 0.0157631102053039,
          "x": "watchers",
          "y": "size"
         },
         {
          "correlation": 0.024346594690072203,
          "x": "open_issues_count",
          "y": "size"
         },
         {
          "correlation": 0.0157631102053039,
          "x": "watchers_count",
          "y": "size"
         },
         {
          "correlation": 0.0157631102053039,
          "x": "stargazers_count",
          "y": "size"
         },
         {
          "correlation": 1,
          "x": "size",
          "y": "size"
         }
        ],
        "data-9ea006dc5878854858e0c5ef425bf672": [
         {
          "correlation": 1,
          "x": "description",
          "y": "description"
         },
         {
          "correlation": null,
          "x": "archived",
          "y": "description"
         },
         {
          "correlation": null,
          "x": "has_wiki",
          "y": "description"
         },
         {
          "correlation": null,
          "x": "has_downloads",
          "y": "description"
         },
         {
          "correlation": null,
          "x": "has_projects",
          "y": "description"
         },
         {
          "correlation": null,
          "x": "has_issues",
          "y": "description"
         },
         {
          "correlation": 0.10633257581819192,
          "x": "homepage",
          "y": "description"
         },
         {
          "correlation": null,
          "x": "fork",
          "y": "description"
         },
         {
          "correlation": 0.007798978521621717,
          "x": "forks",
          "y": "description"
         },
         {
          "correlation": 0.006992824123244026,
          "x": "watchers",
          "y": "description"
         },
         {
          "correlation": 0.011486520303294149,
          "x": "open_issues_count",
          "y": "description"
         },
         {
          "correlation": 0.006992824123244026,
          "x": "watchers_count",
          "y": "description"
         },
         {
          "correlation": 0.006992824123244026,
          "x": "stargazers_count",
          "y": "description"
         },
         {
          "correlation": 0.006003523141137642,
          "x": "size",
          "y": "description"
         },
         {
          "correlation": null,
          "x": "description",
          "y": "archived"
         },
         {
          "correlation": null,
          "x": "archived",
          "y": "archived"
         },
         {
          "correlation": null,
          "x": "has_wiki",
          "y": "archived"
         },
         {
          "correlation": null,
          "x": "has_downloads",
          "y": "archived"
         },
         {
          "correlation": null,
          "x": "has_projects",
          "y": "archived"
         },
         {
          "correlation": null,
          "x": "has_issues",
          "y": "archived"
         },
         {
          "correlation": null,
          "x": "homepage",
          "y": "archived"
         },
         {
          "correlation": null,
          "x": "fork",
          "y": "archived"
         },
         {
          "correlation": null,
          "x": "forks",
          "y": "archived"
         },
         {
          "correlation": null,
          "x": "watchers",
          "y": "archived"
         },
         {
          "correlation": null,
          "x": "open_issues_count",
          "y": "archived"
         },
         {
          "correlation": null,
          "x": "watchers_count",
          "y": "archived"
         },
         {
          "correlation": null,
          "x": "stargazers_count",
          "y": "archived"
         },
         {
          "correlation": null,
          "x": "size",
          "y": "archived"
         },
         {
          "correlation": null,
          "x": "description",
          "y": "has_wiki"
         },
         {
          "correlation": null,
          "x": "archived",
          "y": "has_wiki"
         },
         {
          "correlation": null,
          "x": "has_wiki",
          "y": "has_wiki"
         },
         {
          "correlation": null,
          "x": "has_downloads",
          "y": "has_wiki"
         },
         {
          "correlation": null,
          "x": "has_projects",
          "y": "has_wiki"
         },
         {
          "correlation": null,
          "x": "has_issues",
          "y": "has_wiki"
         },
         {
          "correlation": null,
          "x": "homepage",
          "y": "has_wiki"
         },
         {
          "correlation": null,
          "x": "fork",
          "y": "has_wiki"
         },
         {
          "correlation": null,
          "x": "forks",
          "y": "has_wiki"
         },
         {
          "correlation": null,
          "x": "watchers",
          "y": "has_wiki"
         },
         {
          "correlation": null,
          "x": "open_issues_count",
          "y": "has_wiki"
         },
         {
          "correlation": null,
          "x": "watchers_count",
          "y": "has_wiki"
         },
         {
          "correlation": null,
          "x": "stargazers_count",
          "y": "has_wiki"
         },
         {
          "correlation": null,
          "x": "size",
          "y": "has_wiki"
         },
         {
          "correlation": null,
          "x": "description",
          "y": "has_downloads"
         },
         {
          "correlation": null,
          "x": "archived",
          "y": "has_downloads"
         },
         {
          "correlation": null,
          "x": "has_wiki",
          "y": "has_downloads"
         },
         {
          "correlation": null,
          "x": "has_downloads",
          "y": "has_downloads"
         },
         {
          "correlation": null,
          "x": "has_projects",
          "y": "has_downloads"
         },
         {
          "correlation": null,
          "x": "has_issues",
          "y": "has_downloads"
         },
         {
          "correlation": null,
          "x": "homepage",
          "y": "has_downloads"
         },
         {
          "correlation": null,
          "x": "fork",
          "y": "has_downloads"
         },
         {
          "correlation": null,
          "x": "forks",
          "y": "has_downloads"
         },
         {
          "correlation": null,
          "x": "watchers",
          "y": "has_downloads"
         },
         {
          "correlation": null,
          "x": "open_issues_count",
          "y": "has_downloads"
         },
         {
          "correlation": null,
          "x": "watchers_count",
          "y": "has_downloads"
         },
         {
          "correlation": null,
          "x": "stargazers_count",
          "y": "has_downloads"
         },
         {
          "correlation": null,
          "x": "size",
          "y": "has_downloads"
         },
         {
          "correlation": null,
          "x": "description",
          "y": "has_projects"
         },
         {
          "correlation": null,
          "x": "archived",
          "y": "has_projects"
         },
         {
          "correlation": null,
          "x": "has_wiki",
          "y": "has_projects"
         },
         {
          "correlation": null,
          "x": "has_downloads",
          "y": "has_projects"
         },
         {
          "correlation": null,
          "x": "has_projects",
          "y": "has_projects"
         },
         {
          "correlation": null,
          "x": "has_issues",
          "y": "has_projects"
         },
         {
          "correlation": null,
          "x": "homepage",
          "y": "has_projects"
         },
         {
          "correlation": null,
          "x": "fork",
          "y": "has_projects"
         },
         {
          "correlation": null,
          "x": "forks",
          "y": "has_projects"
         },
         {
          "correlation": null,
          "x": "watchers",
          "y": "has_projects"
         },
         {
          "correlation": null,
          "x": "open_issues_count",
          "y": "has_projects"
         },
         {
          "correlation": null,
          "x": "watchers_count",
          "y": "has_projects"
         },
         {
          "correlation": null,
          "x": "stargazers_count",
          "y": "has_projects"
         },
         {
          "correlation": null,
          "x": "size",
          "y": "has_projects"
         },
         {
          "correlation": null,
          "x": "description",
          "y": "has_issues"
         },
         {
          "correlation": null,
          "x": "archived",
          "y": "has_issues"
         },
         {
          "correlation": null,
          "x": "has_wiki",
          "y": "has_issues"
         },
         {
          "correlation": null,
          "x": "has_downloads",
          "y": "has_issues"
         },
         {
          "correlation": null,
          "x": "has_projects",
          "y": "has_issues"
         },
         {
          "correlation": null,
          "x": "has_issues",
          "y": "has_issues"
         },
         {
          "correlation": null,
          "x": "homepage",
          "y": "has_issues"
         },
         {
          "correlation": null,
          "x": "fork",
          "y": "has_issues"
         },
         {
          "correlation": null,
          "x": "forks",
          "y": "has_issues"
         },
         {
          "correlation": null,
          "x": "watchers",
          "y": "has_issues"
         },
         {
          "correlation": null,
          "x": "open_issues_count",
          "y": "has_issues"
         },
         {
          "correlation": null,
          "x": "watchers_count",
          "y": "has_issues"
         },
         {
          "correlation": null,
          "x": "stargazers_count",
          "y": "has_issues"
         },
         {
          "correlation": null,
          "x": "size",
          "y": "has_issues"
         },
         {
          "correlation": 0.10633257581819192,
          "x": "description",
          "y": "homepage"
         },
         {
          "correlation": null,
          "x": "archived",
          "y": "homepage"
         },
         {
          "correlation": null,
          "x": "has_wiki",
          "y": "homepage"
         },
         {
          "correlation": null,
          "x": "has_downloads",
          "y": "homepage"
         },
         {
          "correlation": null,
          "x": "has_projects",
          "y": "homepage"
         },
         {
          "correlation": null,
          "x": "has_issues",
          "y": "homepage"
         },
         {
          "correlation": 1,
          "x": "homepage",
          "y": "homepage"
         },
         {
          "correlation": null,
          "x": "fork",
          "y": "homepage"
         },
         {
          "correlation": 0.02613404643808697,
          "x": "forks",
          "y": "homepage"
         },
         {
          "correlation": 0.025934897404453105,
          "x": "watchers",
          "y": "homepage"
         },
         {
          "correlation": 0.10025850100879981,
          "x": "open_issues_count",
          "y": "homepage"
         },
         {
          "correlation": 0.025934897404453105,
          "x": "watchers_count",
          "y": "homepage"
         },
         {
          "correlation": 0.025934897404453105,
          "x": "stargazers_count",
          "y": "homepage"
         },
         {
          "correlation": 0.019995167369869886,
          "x": "size",
          "y": "homepage"
         },
         {
          "correlation": null,
          "x": "description",
          "y": "fork"
         },
         {
          "correlation": null,
          "x": "archived",
          "y": "fork"
         },
         {
          "correlation": null,
          "x": "has_wiki",
          "y": "fork"
         },
         {
          "correlation": null,
          "x": "has_downloads",
          "y": "fork"
         },
         {
          "correlation": null,
          "x": "has_projects",
          "y": "fork"
         },
         {
          "correlation": null,
          "x": "has_issues",
          "y": "fork"
         },
         {
          "correlation": null,
          "x": "homepage",
          "y": "fork"
         },
         {
          "correlation": null,
          "x": "fork",
          "y": "fork"
         },
         {
          "correlation": null,
          "x": "forks",
          "y": "fork"
         },
         {
          "correlation": null,
          "x": "watchers",
          "y": "fork"
         },
         {
          "correlation": null,
          "x": "open_issues_count",
          "y": "fork"
         },
         {
          "correlation": null,
          "x": "watchers_count",
          "y": "fork"
         },
         {
          "correlation": null,
          "x": "stargazers_count",
          "y": "fork"
         },
         {
          "correlation": null,
          "x": "size",
          "y": "fork"
         },
         {
          "correlation": 0.007798978521621717,
          "x": "description",
          "y": "forks"
         },
         {
          "correlation": null,
          "x": "archived",
          "y": "forks"
         },
         {
          "correlation": null,
          "x": "has_wiki",
          "y": "forks"
         },
         {
          "correlation": null,
          "x": "has_downloads",
          "y": "forks"
         },
         {
          "correlation": null,
          "x": "has_projects",
          "y": "forks"
         },
         {
          "correlation": null,
          "x": "has_issues",
          "y": "forks"
         },
         {
          "correlation": 0.02613404643808697,
          "x": "homepage",
          "y": "forks"
         },
         {
          "correlation": null,
          "x": "fork",
          "y": "forks"
         },
         {
          "correlation": 1,
          "x": "forks",
          "y": "forks"
         },
         {
          "correlation": 0.9965877983808238,
          "x": "watchers",
          "y": "forks"
         },
         {
          "correlation": 0.03962665805025959,
          "x": "open_issues_count",
          "y": "forks"
         },
         {
          "correlation": 0.9965877983808238,
          "x": "watchers_count",
          "y": "forks"
         },
         {
          "correlation": 0.9965877983808238,
          "x": "stargazers_count",
          "y": "forks"
         },
         {
          "correlation": 0.0038921301952052176,
          "x": "size",
          "y": "forks"
         },
         {
          "correlation": 0.006992824123244026,
          "x": "description",
          "y": "watchers"
         },
         {
          "correlation": null,
          "x": "archived",
          "y": "watchers"
         },
         {
          "correlation": null,
          "x": "has_wiki",
          "y": "watchers"
         },
         {
          "correlation": null,
          "x": "has_downloads",
          "y": "watchers"
         },
         {
          "correlation": null,
          "x": "has_projects",
          "y": "watchers"
         },
         {
          "correlation": null,
          "x": "has_issues",
          "y": "watchers"
         },
         {
          "correlation": 0.025934897404453105,
          "x": "homepage",
          "y": "watchers"
         },
         {
          "correlation": null,
          "x": "fork",
          "y": "watchers"
         },
         {
          "correlation": 0.9965877983808238,
          "x": "forks",
          "y": "watchers"
         },
         {
          "correlation": 1,
          "x": "watchers",
          "y": "watchers"
         },
         {
          "correlation": 0.03379406953814667,
          "x": "open_issues_count",
          "y": "watchers"
         },
         {
          "correlation": 1,
          "x": "watchers_count",
          "y": "watchers"
         },
         {
          "correlation": 1,
          "x": "stargazers_count",
          "y": "watchers"
         },
         {
          "correlation": 0.0028595392360171033,
          "x": "size",
          "y": "watchers"
         },
         {
          "correlation": 0.011486520303294149,
          "x": "description",
          "y": "open_issues_count"
         },
         {
          "correlation": null,
          "x": "archived",
          "y": "open_issues_count"
         },
         {
          "correlation": null,
          "x": "has_wiki",
          "y": "open_issues_count"
         },
         {
          "correlation": null,
          "x": "has_downloads",
          "y": "open_issues_count"
         },
         {
          "correlation": null,
          "x": "has_projects",
          "y": "open_issues_count"
         },
         {
          "correlation": null,
          "x": "has_issues",
          "y": "open_issues_count"
         },
         {
          "correlation": 0.10025850100879981,
          "x": "homepage",
          "y": "open_issues_count"
         },
         {
          "correlation": null,
          "x": "fork",
          "y": "open_issues_count"
         },
         {
          "correlation": 0.03962665805025959,
          "x": "forks",
          "y": "open_issues_count"
         },
         {
          "correlation": 0.03379406953814667,
          "x": "watchers",
          "y": "open_issues_count"
         },
         {
          "correlation": 1,
          "x": "open_issues_count",
          "y": "open_issues_count"
         },
         {
          "correlation": 0.03379406953814667,
          "x": "watchers_count",
          "y": "open_issues_count"
         },
         {
          "correlation": 0.03379406953814667,
          "x": "stargazers_count",
          "y": "open_issues_count"
         },
         {
          "correlation": 0.025106419091216175,
          "x": "size",
          "y": "open_issues_count"
         },
         {
          "correlation": 0.006992824123244026,
          "x": "description",
          "y": "watchers_count"
         },
         {
          "correlation": null,
          "x": "archived",
          "y": "watchers_count"
         },
         {
          "correlation": null,
          "x": "has_wiki",
          "y": "watchers_count"
         },
         {
          "correlation": null,
          "x": "has_downloads",
          "y": "watchers_count"
         },
         {
          "correlation": null,
          "x": "has_projects",
          "y": "watchers_count"
         },
         {
          "correlation": null,
          "x": "has_issues",
          "y": "watchers_count"
         },
         {
          "correlation": 0.025934897404453105,
          "x": "homepage",
          "y": "watchers_count"
         },
         {
          "correlation": null,
          "x": "fork",
          "y": "watchers_count"
         },
         {
          "correlation": 0.9965877983808238,
          "x": "forks",
          "y": "watchers_count"
         },
         {
          "correlation": 1,
          "x": "watchers",
          "y": "watchers_count"
         },
         {
          "correlation": 0.03379406953814667,
          "x": "open_issues_count",
          "y": "watchers_count"
         },
         {
          "correlation": 1,
          "x": "watchers_count",
          "y": "watchers_count"
         },
         {
          "correlation": 1,
          "x": "stargazers_count",
          "y": "watchers_count"
         },
         {
          "correlation": 0.0028595392360171033,
          "x": "size",
          "y": "watchers_count"
         },
         {
          "correlation": 0.006992824123244026,
          "x": "description",
          "y": "stargazers_count"
         },
         {
          "correlation": null,
          "x": "archived",
          "y": "stargazers_count"
         },
         {
          "correlation": null,
          "x": "has_wiki",
          "y": "stargazers_count"
         },
         {
          "correlation": null,
          "x": "has_downloads",
          "y": "stargazers_count"
         },
         {
          "correlation": null,
          "x": "has_projects",
          "y": "stargazers_count"
         },
         {
          "correlation": null,
          "x": "has_issues",
          "y": "stargazers_count"
         },
         {
          "correlation": 0.025934897404453105,
          "x": "homepage",
          "y": "stargazers_count"
         },
         {
          "correlation": null,
          "x": "fork",
          "y": "stargazers_count"
         },
         {
          "correlation": 0.9965877983808238,
          "x": "forks",
          "y": "stargazers_count"
         },
         {
          "correlation": 1,
          "x": "watchers",
          "y": "stargazers_count"
         },
         {
          "correlation": 0.03379406953814667,
          "x": "open_issues_count",
          "y": "stargazers_count"
         },
         {
          "correlation": 1,
          "x": "watchers_count",
          "y": "stargazers_count"
         },
         {
          "correlation": 1,
          "x": "stargazers_count",
          "y": "stargazers_count"
         },
         {
          "correlation": 0.0028595392360171033,
          "x": "size",
          "y": "stargazers_count"
         },
         {
          "correlation": 0.006003523141137642,
          "x": "description",
          "y": "size"
         },
         {
          "correlation": null,
          "x": "archived",
          "y": "size"
         },
         {
          "correlation": null,
          "x": "has_wiki",
          "y": "size"
         },
         {
          "correlation": null,
          "x": "has_downloads",
          "y": "size"
         },
         {
          "correlation": null,
          "x": "has_projects",
          "y": "size"
         },
         {
          "correlation": null,
          "x": "has_issues",
          "y": "size"
         },
         {
          "correlation": 0.019995167369869886,
          "x": "homepage",
          "y": "size"
         },
         {
          "correlation": null,
          "x": "fork",
          "y": "size"
         },
         {
          "correlation": 0.0038921301952052176,
          "x": "forks",
          "y": "size"
         },
         {
          "correlation": 0.0028595392360171033,
          "x": "watchers",
          "y": "size"
         },
         {
          "correlation": 0.025106419091216175,
          "x": "open_issues_count",
          "y": "size"
         },
         {
          "correlation": 0.0028595392360171033,
          "x": "watchers_count",
          "y": "size"
         },
         {
          "correlation": 0.0028595392360171033,
          "x": "stargazers_count",
          "y": "size"
         },
         {
          "correlation": 1,
          "x": "size",
          "y": "size"
         }
        ]
       },
       "hconcat": [
        {
         "data": {
          "name": "data-9ea006dc5878854858e0c5ef425bf672"
         },
         "height": {
          "step": 40
         },
         "layer": [
          {
           "encoding": {
            "color": {
             "field": "correlation",
             "type": "quantitative"
            },
            "tooltip": [
             {
              "field": "x",
              "title": "Variable 1",
              "type": "nominal"
             },
             {
              "field": "y",
              "title": "Variable 2",
              "type": "nominal"
             },
             {
              "field": "correlation",
              "title": "Correlation",
              "type": "quantitative"
             }
            ],
            "x": {
             "field": "x",
             "title": null,
             "type": "ordinal"
            },
            "y": {
             "field": "y",
             "sort": {
              "field": "y",
              "order": "descending"
             },
             "title": null,
             "type": "ordinal"
            }
           },
           "mark": {
            "type": "rect"
           }
          },
          {
           "encoding": {
            "color": {
             "condition": {
              "test": "(datum.correlation > 0.95)",
              "value": "black"
             },
             "value": "white"
            },
            "text": {
             "field": "correlation",
             "format": ".2f",
             "type": "quantitative"
            },
            "tooltip": [
             {
              "field": "x",
              "title": "Variable 1",
              "type": "nominal"
             },
             {
              "field": "y",
              "title": "Variable 2",
              "type": "nominal"
             },
             {
              "field": "correlation",
              "title": "Correlation",
              "type": "quantitative"
             }
            ],
            "x": {
             "field": "x",
             "title": null,
             "type": "ordinal"
            },
            "y": {
             "field": "y",
             "sort": {
              "field": "y",
              "order": "descending"
             },
             "title": null,
             "type": "ordinal"
            }
           },
           "mark": {
            "baseline": "middle",
            "type": "text"
           }
          }
         ],
         "title": "Correlation matrix heatmap for initial_core core users",
         "width": {
          "step": 40
         }
        },
        {
         "data": {
          "name": "data-6245d951cb93c26c47d02078cdc85bcd"
         },
         "height": {
          "step": 40
         },
         "layer": [
          {
           "encoding": {
            "color": {
             "field": "correlation",
             "type": "quantitative"
            },
            "tooltip": [
             {
              "field": "x",
              "title": "Variable 1",
              "type": "nominal"
             },
             {
              "field": "y",
              "title": "Variable 2",
              "type": "nominal"
             },
             {
              "field": "correlation",
              "title": "Correlation",
              "type": "quantitative"
             }
            ],
            "x": {
             "field": "x",
             "title": null,
             "type": "ordinal"
            },
            "y": {
             "field": "y",
             "sort": {
              "field": "y",
              "order": "descending"
             },
             "title": null,
             "type": "ordinal"
            }
           },
           "mark": {
            "type": "rect"
           }
          },
          {
           "encoding": {
            "color": {
             "condition": {
              "test": "(datum.correlation > 0.95)",
              "value": "black"
             },
             "value": "white"
            },
            "text": {
             "field": "correlation",
             "format": ".2f",
             "type": "quantitative"
            },
            "tooltip": [
             {
              "field": "x",
              "title": "Variable 1",
              "type": "nominal"
             },
             {
              "field": "y",
              "title": "Variable 2",
              "type": "nominal"
             },
             {
              "field": "correlation",
              "title": "Correlation",
              "type": "quantitative"
             }
            ],
            "x": {
             "field": "x",
             "title": null,
             "type": "ordinal"
            },
            "y": {
             "field": "y",
             "sort": {
              "field": "y",
              "order": "descending"
             },
             "title": null,
             "type": "ordinal"
            }
           },
           "mark": {
            "baseline": "middle",
            "type": "text"
           }
          }
         ],
         "title": "Correlation matrix heatmap for firstpass_core core users",
         "width": {
          "step": 40
         }
        },
        {
         "data": {
          "name": "data-62c1b8f9e933cb0273e5bfcb6ac73186"
         },
         "height": {
          "step": 40
         },
         "layer": [
          {
           "encoding": {
            "color": {
             "field": "correlation",
             "type": "quantitative"
            },
            "tooltip": [
             {
              "field": "x",
              "title": "Variable 1",
              "type": "nominal"
             },
             {
              "field": "y",
              "title": "Variable 2",
              "type": "nominal"
             },
             {
              "field": "correlation",
              "title": "Correlation",
              "type": "quantitative"
             }
            ],
            "x": {
             "field": "x",
             "title": null,
             "type": "ordinal"
            },
            "y": {
             "field": "y",
             "sort": {
              "field": "y",
              "order": "descending"
             },
             "title": null,
             "type": "ordinal"
            }
           },
           "mark": {
            "type": "rect"
           }
          },
          {
           "encoding": {
            "color": {
             "condition": {
              "test": "(datum.correlation > 0.95)",
              "value": "black"
             },
             "value": "white"
            },
            "text": {
             "field": "correlation",
             "format": ".2f",
             "type": "quantitative"
            },
            "tooltip": [
             {
              "field": "x",
              "title": "Variable 1",
              "type": "nominal"
             },
             {
              "field": "y",
              "title": "Variable 2",
              "type": "nominal"
             },
             {
              "field": "correlation",
              "title": "Correlation",
              "type": "quantitative"
             }
            ],
            "x": {
             "field": "x",
             "title": null,
             "type": "ordinal"
            },
            "y": {
             "field": "y",
             "sort": {
              "field": "y",
              "order": "descending"
             },
             "title": null,
             "type": "ordinal"
            }
           },
           "mark": {
            "baseline": "middle",
            "type": "text"
           }
          }
         ],
         "title": "Correlation matrix heatmap for finalpass_core core users",
         "width": {
          "step": 40
         }
        }
       ]
      },
      "text/plain": [
       "<VegaLite 5 object>\n",
       "\n",
       "If you see this message, it means the renderer has not been properly enabled\n",
       "for the frontend that you are using. For more information, see\n",
       "https://altair-viz.github.io/user_guide/troubleshooting.html\n"
      ]
     },
     "execution_count": 9,
     "metadata": {},
     "output_type": "execute_result"
    }
   ],
   "source": [
    "alt.hconcat(*matrices)"
   ]
  },
  {
   "cell_type": "code",
   "execution_count": null,
   "metadata": {},
   "outputs": [],
   "source": []
  }
 ],
 "metadata": {
  "kernelspec": {
   "display_name": "values_and_versions_env",
   "language": "python",
   "name": "python3"
  },
  "language_info": {
   "codemirror_mode": {
    "name": "ipython",
    "version": 3
   },
   "file_extension": ".py",
   "mimetype": "text/x-python",
   "name": "python",
   "nbconvert_exporter": "python",
   "pygments_lexer": "ipython3",
   "version": "3.9.16"
  },
  "orig_nbformat": 4
 },
 "nbformat": 4,
 "nbformat_minor": 2
}
