{
 "cells": [
  {
   "attachments": {},
   "cell_type": "markdown",
   "metadata": {},
   "source": [
    "# Explore Patterns in DH Repos"
   ]
  },
  {
   "attachments": {},
   "cell_type": "markdown",
   "metadata": {},
   "source": [
    "- Date Created and Updated\n",
    "- Size\n",
    "- Programming Language\n",
    "- Natural Language\n",
    "- Number of user interactions"
   ]
  },
  {
   "attachments": {},
   "cell_type": "markdown",
   "metadata": {},
   "source": [
    "### Load Libraries and Datasets"
   ]
  },
  {
   "cell_type": "code",
   "execution_count": 4,
   "metadata": {},
   "outputs": [],
   "source": [
    "import pandas as pd\n",
    "pd.options.mode.chained_assignment = None\n",
    "import altair as alt\n",
    "alt.renderers.enable('mimetype')\n",
    "alt.data_transformers.disable_max_rows()\n",
    "import warnings\n",
    "warnings.filterwarnings('ignore')\n",
    "from sklearn.preprocessing import StandardScaler\n"
   ]
  },
  {
   "cell_type": "code",
   "execution_count": 70,
   "metadata": {},
   "outputs": [],
   "source": [
    "\n",
    "repo_df = pd.read_csv(\"../data/large_files/entity_files/repos_dataset.csv\", low_memory=False)\n",
    "\n",
    "initial_core_users = pd.read_csv(\"../data/derived_files/initial_core_users.csv\")\n",
    "initial_core_users['origin'] = 'initial_core'\n",
    "initial_core_repos = pd.read_csv(\"../data/derived_files/initial_core_repos.csv\")\n",
    "initial_core_repos['origin'] = 'initial_core'\n",
    "initial_core_orgs = pd.read_csv(\"../data/derived_files/initial_core_orgs.csv\")\n",
    "initial_core_orgs['origin'] = 'initial_core'\n",
    "\n",
    "firstpass_core_users = pd.read_csv(\"../data/derived_files/firstpass_core_users.csv\")\n",
    "firstpass_core_users['origin'] = 'firstpass_core'\n",
    "firstpass_core_repos = pd.read_csv(\"../data/derived_files/firstpass_core_repos.csv\")\n",
    "firstpass_core_repos['origin'] = 'firstpass_core'\n",
    "firstpass_core_orgs = pd.read_csv(\"../data/derived_files/firstpass_core_orgs.csv\")\n",
    "firstpass_core_orgs['origin'] = 'firstpass_core'\n",
    "\n",
    "finalpass_core_users = pd.read_csv(\"../data/derived_files/finalpass_core_users.csv\")\n",
    "finalpass_core_users['origin'] = 'finalpass_core'\n",
    "finalpass_core_repos = pd.read_csv(\"../data/large_files/derived_files/finalpass_core_repos.csv\", low_memory=False, on_bad_lines='skip')\n",
    "finalpass_core_repos['origin'] = 'finalpass_core'\n",
    "finalpass_core_orgs = pd.read_csv(\"../data/derived_files/finalpass_core_orgs.csv\")\n",
    "finalpass_core_orgs['origin'] = 'finalpass_core'"
   ]
  },
  {
   "cell_type": "code",
   "execution_count": 71,
   "metadata": {},
   "outputs": [
    {
     "data": {
      "text/plain": [
       "2485"
      ]
     },
     "execution_count": 71,
     "metadata": {},
     "output_type": "execute_result"
    }
   ],
   "source": [
    "len(initial_core_repos)"
   ]
  },
  {
   "cell_type": "code",
   "execution_count": 72,
   "metadata": {},
   "outputs": [
    {
     "data": {
      "text/plain": [
       "12910"
      ]
     },
     "execution_count": 72,
     "metadata": {},
     "output_type": "execute_result"
    }
   ],
   "source": [
    "len(firstpass_core_repos)"
   ]
  },
  {
   "cell_type": "code",
   "execution_count": 77,
   "metadata": {},
   "outputs": [],
   "source": [
    "core_users = pd.concat([initial_core_users, firstpass_core_users, finalpass_core_users])\n",
    "core_repos = pd.concat([initial_core_repos, firstpass_core_repos, finalpass_core_repos])\n",
    "core_orgs = pd.concat([initial_core_orgs, firstpass_core_orgs, finalpass_core_orgs])"
   ]
  },
  {
   "attachments": {},
   "cell_type": "markdown",
   "metadata": {},
   "source": [
    "### Check for Correlation in Data"
   ]
  },
  {
   "cell_type": "code",
   "execution_count": 78,
   "metadata": {},
   "outputs": [],
   "source": [
    "def generate_heatmap_chart(corr_matrix, origin_type):\n",
    "\n",
    "    # Melt the correlation matrix to long format\n",
    "    corr_df = corr_matrix.reset_index().melt('index')\n",
    "\n",
    "    # Rename the columns for Altair\n",
    "    corr_df.columns = ['x', 'y', 'correlation']\n",
    "\n",
    "    # Generate the heatmap\n",
    "    heatmap = alt.Chart(corr_df).mark_rect().encode(\n",
    "        x=alt.X('x:O', title=None),\n",
    "        y=alt.Y('y:O',  sort=alt.EncodingSortField('y', order='descending'), title=None),\n",
    "        color='correlation:Q',\n",
    "        tooltip=[\n",
    "            alt.Tooltip('x', title='Variable 1'),\n",
    "            alt.Tooltip('y', title='Variable 2'),\n",
    "            alt.Tooltip('correlation', title='Correlation')\n",
    "        ]\n",
    "    )\n",
    "\n",
    "    # Add the text overlay with the correlation values\n",
    "    text = heatmap.mark_text(baseline='middle').encode(\n",
    "        text=alt.Text('correlation:Q', format='.2f'),\n",
    "        color=alt.condition(\n",
    "            alt.datum.correlation > 0.95,\n",
    "            alt.value('black'),\n",
    "            alt.value('white')\n",
    "        )\n",
    "    )\n",
    "\n",
    "    # Display the final chart\n",
    "    heatmap_chart = (heatmap + text).properties(\n",
    "        width=alt.Step(40),\n",
    "        height=alt.Step(40),\n",
    "        title=f\"Correlation matrix heatmap for {origin_type} core users\"\n",
    "    )\n",
    "    return heatmap_chart"
   ]
  },
  {
   "cell_type": "code",
   "execution_count": 81,
   "metadata": {},
   "outputs": [],
   "source": [
    "types_repos = core_repos.origin.unique().tolist()\n",
    "categorical_features = ['description', 'archived', 'has_wiki', 'has_downloads', 'has_projects', 'has_issues', 'homepage', 'fork']  # update this with actual column names\n",
    "#try exploding topics \n",
    "numerical_features = ['forks', 'watchers', 'open_issues_count', 'watchers_count', 'stargazers_count', 'size', 'health_percentage']  # update this with actual column names\n",
    "\n",
    "matrices = []\n",
    "for origin_type in types_repos:\n",
    "    matrix_repos = core_repos[core_repos.origin == origin_type].copy()\n",
    "    # Convert categorical features into binary\n",
    "    for feature in categorical_features:\n",
    "        matrix_repos[feature] = matrix_repos[feature].notna().astype(int)\n",
    "\n",
    "    # Scale numerical features\n",
    "    scaler = StandardScaler()\n",
    "    matrix_repos[numerical_features] = scaler.fit_transform(matrix_repos[numerical_features])\n",
    "\n",
    "    # Create a correlation matrix\n",
    "    corr_matrix = matrix_repos[categorical_features + numerical_features].corr()\n",
    "    heatmap_chart = generate_heatmap_chart(corr_matrix, origin_type)\n",
    "    matrices.append(heatmap_chart)"
   ]
  },
  {
   "cell_type": "code",
   "execution_count": 82,
   "metadata": {},
   "outputs": [
    {
     "data": {
      "application/vnd.vegalite.v5+json": {
       "$schema": "https://vega.github.io/schema/vega-lite/v5.6.1.json",
       "config": {
        "view": {
         "continuousHeight": 300,
         "continuousWidth": 300
        }
       },
       "datasets": {
        "data-5a1f6710b9e85440a777505b11d43790": [
         {
          "correlation": 1,
          "x": "description",
          "y": "description"
         },
         {
          "correlation": null,
          "x": "archived",
          "y": "description"
         },
         {
          "correlation": null,
          "x": "has_wiki",
          "y": "description"
         },
         {
          "correlation": null,
          "x": "has_downloads",
          "y": "description"
         },
         {
          "correlation": null,
          "x": "has_projects",
          "y": "description"
         },
         {
          "correlation": null,
          "x": "has_issues",
          "y": "description"
         },
         {
          "correlation": 0.10060028734460426,
          "x": "homepage",
          "y": "description"
         },
         {
          "correlation": null,
          "x": "fork",
          "y": "description"
         },
         {
          "correlation": 0.009742780772413107,
          "x": "forks",
          "y": "description"
         },
         {
          "correlation": 0.00920738321614892,
          "x": "watchers",
          "y": "description"
         },
         {
          "correlation": 0.054303240395627145,
          "x": "open_issues_count",
          "y": "description"
         },
         {
          "correlation": 0.00920738321614892,
          "x": "watchers_count",
          "y": "description"
         },
         {
          "correlation": 0.00920738321614892,
          "x": "stargazers_count",
          "y": "description"
         },
         {
          "correlation": 0.04764885737876972,
          "x": "size",
          "y": "description"
         },
         {
          "correlation": 0.480296760988402,
          "x": "health_percentage",
          "y": "description"
         },
         {
          "correlation": null,
          "x": "description",
          "y": "archived"
         },
         {
          "correlation": null,
          "x": "archived",
          "y": "archived"
         },
         {
          "correlation": null,
          "x": "has_wiki",
          "y": "archived"
         },
         {
          "correlation": null,
          "x": "has_downloads",
          "y": "archived"
         },
         {
          "correlation": null,
          "x": "has_projects",
          "y": "archived"
         },
         {
          "correlation": null,
          "x": "has_issues",
          "y": "archived"
         },
         {
          "correlation": null,
          "x": "homepage",
          "y": "archived"
         },
         {
          "correlation": null,
          "x": "fork",
          "y": "archived"
         },
         {
          "correlation": null,
          "x": "forks",
          "y": "archived"
         },
         {
          "correlation": null,
          "x": "watchers",
          "y": "archived"
         },
         {
          "correlation": null,
          "x": "open_issues_count",
          "y": "archived"
         },
         {
          "correlation": null,
          "x": "watchers_count",
          "y": "archived"
         },
         {
          "correlation": null,
          "x": "stargazers_count",
          "y": "archived"
         },
         {
          "correlation": null,
          "x": "size",
          "y": "archived"
         },
         {
          "correlation": null,
          "x": "health_percentage",
          "y": "archived"
         },
         {
          "correlation": null,
          "x": "description",
          "y": "has_wiki"
         },
         {
          "correlation": null,
          "x": "archived",
          "y": "has_wiki"
         },
         {
          "correlation": null,
          "x": "has_wiki",
          "y": "has_wiki"
         },
         {
          "correlation": null,
          "x": "has_downloads",
          "y": "has_wiki"
         },
         {
          "correlation": null,
          "x": "has_projects",
          "y": "has_wiki"
         },
         {
          "correlation": null,
          "x": "has_issues",
          "y": "has_wiki"
         },
         {
          "correlation": null,
          "x": "homepage",
          "y": "has_wiki"
         },
         {
          "correlation": null,
          "x": "fork",
          "y": "has_wiki"
         },
         {
          "correlation": null,
          "x": "forks",
          "y": "has_wiki"
         },
         {
          "correlation": null,
          "x": "watchers",
          "y": "has_wiki"
         },
         {
          "correlation": null,
          "x": "open_issues_count",
          "y": "has_wiki"
         },
         {
          "correlation": null,
          "x": "watchers_count",
          "y": "has_wiki"
         },
         {
          "correlation": null,
          "x": "stargazers_count",
          "y": "has_wiki"
         },
         {
          "correlation": null,
          "x": "size",
          "y": "has_wiki"
         },
         {
          "correlation": null,
          "x": "health_percentage",
          "y": "has_wiki"
         },
         {
          "correlation": null,
          "x": "description",
          "y": "has_downloads"
         },
         {
          "correlation": null,
          "x": "archived",
          "y": "has_downloads"
         },
         {
          "correlation": null,
          "x": "has_wiki",
          "y": "has_downloads"
         },
         {
          "correlation": null,
          "x": "has_downloads",
          "y": "has_downloads"
         },
         {
          "correlation": null,
          "x": "has_projects",
          "y": "has_downloads"
         },
         {
          "correlation": null,
          "x": "has_issues",
          "y": "has_downloads"
         },
         {
          "correlation": null,
          "x": "homepage",
          "y": "has_downloads"
         },
         {
          "correlation": null,
          "x": "fork",
          "y": "has_downloads"
         },
         {
          "correlation": null,
          "x": "forks",
          "y": "has_downloads"
         },
         {
          "correlation": null,
          "x": "watchers",
          "y": "has_downloads"
         },
         {
          "correlation": null,
          "x": "open_issues_count",
          "y": "has_downloads"
         },
         {
          "correlation": null,
          "x": "watchers_count",
          "y": "has_downloads"
         },
         {
          "correlation": null,
          "x": "stargazers_count",
          "y": "has_downloads"
         },
         {
          "correlation": null,
          "x": "size",
          "y": "has_downloads"
         },
         {
          "correlation": null,
          "x": "health_percentage",
          "y": "has_downloads"
         },
         {
          "correlation": null,
          "x": "description",
          "y": "has_projects"
         },
         {
          "correlation": null,
          "x": "archived",
          "y": "has_projects"
         },
         {
          "correlation": null,
          "x": "has_wiki",
          "y": "has_projects"
         },
         {
          "correlation": null,
          "x": "has_downloads",
          "y": "has_projects"
         },
         {
          "correlation": null,
          "x": "has_projects",
          "y": "has_projects"
         },
         {
          "correlation": null,
          "x": "has_issues",
          "y": "has_projects"
         },
         {
          "correlation": null,
          "x": "homepage",
          "y": "has_projects"
         },
         {
          "correlation": null,
          "x": "fork",
          "y": "has_projects"
         },
         {
          "correlation": null,
          "x": "forks",
          "y": "has_projects"
         },
         {
          "correlation": null,
          "x": "watchers",
          "y": "has_projects"
         },
         {
          "correlation": null,
          "x": "open_issues_count",
          "y": "has_projects"
         },
         {
          "correlation": null,
          "x": "watchers_count",
          "y": "has_projects"
         },
         {
          "correlation": null,
          "x": "stargazers_count",
          "y": "has_projects"
         },
         {
          "correlation": null,
          "x": "size",
          "y": "has_projects"
         },
         {
          "correlation": null,
          "x": "health_percentage",
          "y": "has_projects"
         },
         {
          "correlation": null,
          "x": "description",
          "y": "has_issues"
         },
         {
          "correlation": null,
          "x": "archived",
          "y": "has_issues"
         },
         {
          "correlation": null,
          "x": "has_wiki",
          "y": "has_issues"
         },
         {
          "correlation": null,
          "x": "has_downloads",
          "y": "has_issues"
         },
         {
          "correlation": null,
          "x": "has_projects",
          "y": "has_issues"
         },
         {
          "correlation": null,
          "x": "has_issues",
          "y": "has_issues"
         },
         {
          "correlation": null,
          "x": "homepage",
          "y": "has_issues"
         },
         {
          "correlation": null,
          "x": "fork",
          "y": "has_issues"
         },
         {
          "correlation": null,
          "x": "forks",
          "y": "has_issues"
         },
         {
          "correlation": null,
          "x": "watchers",
          "y": "has_issues"
         },
         {
          "correlation": null,
          "x": "open_issues_count",
          "y": "has_issues"
         },
         {
          "correlation": null,
          "x": "watchers_count",
          "y": "has_issues"
         },
         {
          "correlation": null,
          "x": "stargazers_count",
          "y": "has_issues"
         },
         {
          "correlation": null,
          "x": "size",
          "y": "has_issues"
         },
         {
          "correlation": null,
          "x": "health_percentage",
          "y": "has_issues"
         },
         {
          "correlation": 0.10060028734460426,
          "x": "description",
          "y": "homepage"
         },
         {
          "correlation": null,
          "x": "archived",
          "y": "homepage"
         },
         {
          "correlation": null,
          "x": "has_wiki",
          "y": "homepage"
         },
         {
          "correlation": null,
          "x": "has_downloads",
          "y": "homepage"
         },
         {
          "correlation": null,
          "x": "has_projects",
          "y": "homepage"
         },
         {
          "correlation": null,
          "x": "has_issues",
          "y": "homepage"
         },
         {
          "correlation": 1,
          "x": "homepage",
          "y": "homepage"
         },
         {
          "correlation": null,
          "x": "fork",
          "y": "homepage"
         },
         {
          "correlation": 0.04792176132621121,
          "x": "forks",
          "y": "homepage"
         },
         {
          "correlation": 0.045434000838054704,
          "x": "watchers",
          "y": "homepage"
         },
         {
          "correlation": 0.21854100378804556,
          "x": "open_issues_count",
          "y": "homepage"
         },
         {
          "correlation": 0.045434000838054704,
          "x": "watchers_count",
          "y": "homepage"
         },
         {
          "correlation": 0.045434000838054704,
          "x": "stargazers_count",
          "y": "homepage"
         },
         {
          "correlation": 0.08791479745193731,
          "x": "size",
          "y": "homepage"
         },
         {
          "correlation": 0.22770206583279423,
          "x": "health_percentage",
          "y": "homepage"
         },
         {
          "correlation": null,
          "x": "description",
          "y": "fork"
         },
         {
          "correlation": null,
          "x": "archived",
          "y": "fork"
         },
         {
          "correlation": null,
          "x": "has_wiki",
          "y": "fork"
         },
         {
          "correlation": null,
          "x": "has_downloads",
          "y": "fork"
         },
         {
          "correlation": null,
          "x": "has_projects",
          "y": "fork"
         },
         {
          "correlation": null,
          "x": "has_issues",
          "y": "fork"
         },
         {
          "correlation": null,
          "x": "homepage",
          "y": "fork"
         },
         {
          "correlation": null,
          "x": "fork",
          "y": "fork"
         },
         {
          "correlation": null,
          "x": "forks",
          "y": "fork"
         },
         {
          "correlation": null,
          "x": "watchers",
          "y": "fork"
         },
         {
          "correlation": null,
          "x": "open_issues_count",
          "y": "fork"
         },
         {
          "correlation": null,
          "x": "watchers_count",
          "y": "fork"
         },
         {
          "correlation": null,
          "x": "stargazers_count",
          "y": "fork"
         },
         {
          "correlation": null,
          "x": "size",
          "y": "fork"
         },
         {
          "correlation": null,
          "x": "health_percentage",
          "y": "fork"
         },
         {
          "correlation": 0.009742780772413107,
          "x": "description",
          "y": "forks"
         },
         {
          "correlation": null,
          "x": "archived",
          "y": "forks"
         },
         {
          "correlation": null,
          "x": "has_wiki",
          "y": "forks"
         },
         {
          "correlation": null,
          "x": "has_downloads",
          "y": "forks"
         },
         {
          "correlation": null,
          "x": "has_projects",
          "y": "forks"
         },
         {
          "correlation": null,
          "x": "has_issues",
          "y": "forks"
         },
         {
          "correlation": 0.04792176132621121,
          "x": "homepage",
          "y": "forks"
         },
         {
          "correlation": null,
          "x": "fork",
          "y": "forks"
         },
         {
          "correlation": 1,
          "x": "forks",
          "y": "forks"
         },
         {
          "correlation": 0.9990887126409634,
          "x": "watchers",
          "y": "forks"
         },
         {
          "correlation": 0.02846325386976997,
          "x": "open_issues_count",
          "y": "forks"
         },
         {
          "correlation": 0.9990887126409634,
          "x": "watchers_count",
          "y": "forks"
         },
         {
          "correlation": 0.9990887126409634,
          "x": "stargazers_count",
          "y": "forks"
         },
         {
          "correlation": 0.012177782749104601,
          "x": "size",
          "y": "forks"
         },
         {
          "correlation": 0.002721667092215863,
          "x": "health_percentage",
          "y": "forks"
         },
         {
          "correlation": 0.00920738321614892,
          "x": "description",
          "y": "watchers"
         },
         {
          "correlation": null,
          "x": "archived",
          "y": "watchers"
         },
         {
          "correlation": null,
          "x": "has_wiki",
          "y": "watchers"
         },
         {
          "correlation": null,
          "x": "has_downloads",
          "y": "watchers"
         },
         {
          "correlation": null,
          "x": "has_projects",
          "y": "watchers"
         },
         {
          "correlation": null,
          "x": "has_issues",
          "y": "watchers"
         },
         {
          "correlation": 0.045434000838054704,
          "x": "homepage",
          "y": "watchers"
         },
         {
          "correlation": null,
          "x": "fork",
          "y": "watchers"
         },
         {
          "correlation": 0.9990887126409634,
          "x": "forks",
          "y": "watchers"
         },
         {
          "correlation": 1,
          "x": "watchers",
          "y": "watchers"
         },
         {
          "correlation": 0.022534713282475454,
          "x": "open_issues_count",
          "y": "watchers"
         },
         {
          "correlation": 1,
          "x": "watchers_count",
          "y": "watchers"
         },
         {
          "correlation": 1,
          "x": "stargazers_count",
          "y": "watchers"
         },
         {
          "correlation": 0.01039459459502228,
          "x": "size",
          "y": "watchers"
         },
         {
          "correlation": 0.0024623807476826603,
          "x": "health_percentage",
          "y": "watchers"
         },
         {
          "correlation": 0.054303240395627145,
          "x": "description",
          "y": "open_issues_count"
         },
         {
          "correlation": null,
          "x": "archived",
          "y": "open_issues_count"
         },
         {
          "correlation": null,
          "x": "has_wiki",
          "y": "open_issues_count"
         },
         {
          "correlation": null,
          "x": "has_downloads",
          "y": "open_issues_count"
         },
         {
          "correlation": null,
          "x": "has_projects",
          "y": "open_issues_count"
         },
         {
          "correlation": null,
          "x": "has_issues",
          "y": "open_issues_count"
         },
         {
          "correlation": 0.21854100378804556,
          "x": "homepage",
          "y": "open_issues_count"
         },
         {
          "correlation": null,
          "x": "fork",
          "y": "open_issues_count"
         },
         {
          "correlation": 0.02846325386976997,
          "x": "forks",
          "y": "open_issues_count"
         },
         {
          "correlation": 0.022534713282475454,
          "x": "watchers",
          "y": "open_issues_count"
         },
         {
          "correlation": 1,
          "x": "open_issues_count",
          "y": "open_issues_count"
         },
         {
          "correlation": 0.02253471328247545,
          "x": "watchers_count",
          "y": "open_issues_count"
         },
         {
          "correlation": 0.02253471328247545,
          "x": "stargazers_count",
          "y": "open_issues_count"
         },
         {
          "correlation": 0.04642731369898772,
          "x": "size",
          "y": "open_issues_count"
         },
         {
          "correlation": 0.17805644428716672,
          "x": "health_percentage",
          "y": "open_issues_count"
         },
         {
          "correlation": 0.00920738321614892,
          "x": "description",
          "y": "watchers_count"
         },
         {
          "correlation": null,
          "x": "archived",
          "y": "watchers_count"
         },
         {
          "correlation": null,
          "x": "has_wiki",
          "y": "watchers_count"
         },
         {
          "correlation": null,
          "x": "has_downloads",
          "y": "watchers_count"
         },
         {
          "correlation": null,
          "x": "has_projects",
          "y": "watchers_count"
         },
         {
          "correlation": null,
          "x": "has_issues",
          "y": "watchers_count"
         },
         {
          "correlation": 0.045434000838054704,
          "x": "homepage",
          "y": "watchers_count"
         },
         {
          "correlation": null,
          "x": "fork",
          "y": "watchers_count"
         },
         {
          "correlation": 0.9990887126409634,
          "x": "forks",
          "y": "watchers_count"
         },
         {
          "correlation": 1,
          "x": "watchers",
          "y": "watchers_count"
         },
         {
          "correlation": 0.02253471328247545,
          "x": "open_issues_count",
          "y": "watchers_count"
         },
         {
          "correlation": 1,
          "x": "watchers_count",
          "y": "watchers_count"
         },
         {
          "correlation": 1,
          "x": "stargazers_count",
          "y": "watchers_count"
         },
         {
          "correlation": 0.01039459459502228,
          "x": "size",
          "y": "watchers_count"
         },
         {
          "correlation": 0.0024623807476826603,
          "x": "health_percentage",
          "y": "watchers_count"
         },
         {
          "correlation": 0.00920738321614892,
          "x": "description",
          "y": "stargazers_count"
         },
         {
          "correlation": null,
          "x": "archived",
          "y": "stargazers_count"
         },
         {
          "correlation": null,
          "x": "has_wiki",
          "y": "stargazers_count"
         },
         {
          "correlation": null,
          "x": "has_downloads",
          "y": "stargazers_count"
         },
         {
          "correlation": null,
          "x": "has_projects",
          "y": "stargazers_count"
         },
         {
          "correlation": null,
          "x": "has_issues",
          "y": "stargazers_count"
         },
         {
          "correlation": 0.045434000838054704,
          "x": "homepage",
          "y": "stargazers_count"
         },
         {
          "correlation": null,
          "x": "fork",
          "y": "stargazers_count"
         },
         {
          "correlation": 0.9990887126409634,
          "x": "forks",
          "y": "stargazers_count"
         },
         {
          "correlation": 1,
          "x": "watchers",
          "y": "stargazers_count"
         },
         {
          "correlation": 0.02253471328247545,
          "x": "open_issues_count",
          "y": "stargazers_count"
         },
         {
          "correlation": 1,
          "x": "watchers_count",
          "y": "stargazers_count"
         },
         {
          "correlation": 1,
          "x": "stargazers_count",
          "y": "stargazers_count"
         },
         {
          "correlation": 0.01039459459502228,
          "x": "size",
          "y": "stargazers_count"
         },
         {
          "correlation": 0.0024623807476826603,
          "x": "health_percentage",
          "y": "stargazers_count"
         },
         {
          "correlation": 0.04764885737876972,
          "x": "description",
          "y": "size"
         },
         {
          "correlation": null,
          "x": "archived",
          "y": "size"
         },
         {
          "correlation": null,
          "x": "has_wiki",
          "y": "size"
         },
         {
          "correlation": null,
          "x": "has_downloads",
          "y": "size"
         },
         {
          "correlation": null,
          "x": "has_projects",
          "y": "size"
         },
         {
          "correlation": null,
          "x": "has_issues",
          "y": "size"
         },
         {
          "correlation": 0.08791479745193731,
          "x": "homepage",
          "y": "size"
         },
         {
          "correlation": null,
          "x": "fork",
          "y": "size"
         },
         {
          "correlation": 0.012177782749104601,
          "x": "forks",
          "y": "size"
         },
         {
          "correlation": 0.01039459459502228,
          "x": "watchers",
          "y": "size"
         },
         {
          "correlation": 0.04642731369898772,
          "x": "open_issues_count",
          "y": "size"
         },
         {
          "correlation": 0.01039459459502228,
          "x": "watchers_count",
          "y": "size"
         },
         {
          "correlation": 0.01039459459502228,
          "x": "stargazers_count",
          "y": "size"
         },
         {
          "correlation": 1,
          "x": "size",
          "y": "size"
         },
         {
          "correlation": 0.06761809329857503,
          "x": "health_percentage",
          "y": "size"
         },
         {
          "correlation": 0.480296760988402,
          "x": "description",
          "y": "health_percentage"
         },
         {
          "correlation": null,
          "x": "archived",
          "y": "health_percentage"
         },
         {
          "correlation": null,
          "x": "has_wiki",
          "y": "health_percentage"
         },
         {
          "correlation": null,
          "x": "has_downloads",
          "y": "health_percentage"
         },
         {
          "correlation": null,
          "x": "has_projects",
          "y": "health_percentage"
         },
         {
          "correlation": null,
          "x": "has_issues",
          "y": "health_percentage"
         },
         {
          "correlation": 0.22770206583279423,
          "x": "homepage",
          "y": "health_percentage"
         },
         {
          "correlation": null,
          "x": "fork",
          "y": "health_percentage"
         },
         {
          "correlation": 0.002721667092215863,
          "x": "forks",
          "y": "health_percentage"
         },
         {
          "correlation": 0.0024623807476826603,
          "x": "watchers",
          "y": "health_percentage"
         },
         {
          "correlation": 0.17805644428716672,
          "x": "open_issues_count",
          "y": "health_percentage"
         },
         {
          "correlation": 0.0024623807476826603,
          "x": "watchers_count",
          "y": "health_percentage"
         },
         {
          "correlation": 0.0024623807476826603,
          "x": "stargazers_count",
          "y": "health_percentage"
         },
         {
          "correlation": 0.06761809329857503,
          "x": "size",
          "y": "health_percentage"
         },
         {
          "correlation": 1,
          "x": "health_percentage",
          "y": "health_percentage"
         }
        ],
        "data-5b774193df4c3d9fbb84af206931883d": [
         {
          "correlation": 1,
          "x": "description",
          "y": "description"
         },
         {
          "correlation": null,
          "x": "archived",
          "y": "description"
         },
         {
          "correlation": null,
          "x": "has_wiki",
          "y": "description"
         },
         {
          "correlation": null,
          "x": "has_downloads",
          "y": "description"
         },
         {
          "correlation": null,
          "x": "has_projects",
          "y": "description"
         },
         {
          "correlation": null,
          "x": "has_issues",
          "y": "description"
         },
         {
          "correlation": 0.178142948540336,
          "x": "homepage",
          "y": "description"
         },
         {
          "correlation": null,
          "x": "fork",
          "y": "description"
         },
         {
          "correlation": 0.04815869009290894,
          "x": "forks",
          "y": "description"
         },
         {
          "correlation": 0.08938640244740138,
          "x": "watchers",
          "y": "description"
         },
         {
          "correlation": 0.04572912492893593,
          "x": "open_issues_count",
          "y": "description"
         },
         {
          "correlation": 0.08938640244740138,
          "x": "watchers_count",
          "y": "description"
         },
         {
          "correlation": 0.08938640244740138,
          "x": "stargazers_count",
          "y": "description"
         },
         {
          "correlation": 0.016787659459413032,
          "x": "size",
          "y": "description"
         },
         {
          "correlation": 0.6542974101030762,
          "x": "health_percentage",
          "y": "description"
         },
         {
          "correlation": null,
          "x": "description",
          "y": "archived"
         },
         {
          "correlation": null,
          "x": "archived",
          "y": "archived"
         },
         {
          "correlation": null,
          "x": "has_wiki",
          "y": "archived"
         },
         {
          "correlation": null,
          "x": "has_downloads",
          "y": "archived"
         },
         {
          "correlation": null,
          "x": "has_projects",
          "y": "archived"
         },
         {
          "correlation": null,
          "x": "has_issues",
          "y": "archived"
         },
         {
          "correlation": null,
          "x": "homepage",
          "y": "archived"
         },
         {
          "correlation": null,
          "x": "fork",
          "y": "archived"
         },
         {
          "correlation": null,
          "x": "forks",
          "y": "archived"
         },
         {
          "correlation": null,
          "x": "watchers",
          "y": "archived"
         },
         {
          "correlation": null,
          "x": "open_issues_count",
          "y": "archived"
         },
         {
          "correlation": null,
          "x": "watchers_count",
          "y": "archived"
         },
         {
          "correlation": null,
          "x": "stargazers_count",
          "y": "archived"
         },
         {
          "correlation": null,
          "x": "size",
          "y": "archived"
         },
         {
          "correlation": null,
          "x": "health_percentage",
          "y": "archived"
         },
         {
          "correlation": null,
          "x": "description",
          "y": "has_wiki"
         },
         {
          "correlation": null,
          "x": "archived",
          "y": "has_wiki"
         },
         {
          "correlation": null,
          "x": "has_wiki",
          "y": "has_wiki"
         },
         {
          "correlation": null,
          "x": "has_downloads",
          "y": "has_wiki"
         },
         {
          "correlation": null,
          "x": "has_projects",
          "y": "has_wiki"
         },
         {
          "correlation": null,
          "x": "has_issues",
          "y": "has_wiki"
         },
         {
          "correlation": null,
          "x": "homepage",
          "y": "has_wiki"
         },
         {
          "correlation": null,
          "x": "fork",
          "y": "has_wiki"
         },
         {
          "correlation": null,
          "x": "forks",
          "y": "has_wiki"
         },
         {
          "correlation": null,
          "x": "watchers",
          "y": "has_wiki"
         },
         {
          "correlation": null,
          "x": "open_issues_count",
          "y": "has_wiki"
         },
         {
          "correlation": null,
          "x": "watchers_count",
          "y": "has_wiki"
         },
         {
          "correlation": null,
          "x": "stargazers_count",
          "y": "has_wiki"
         },
         {
          "correlation": null,
          "x": "size",
          "y": "has_wiki"
         },
         {
          "correlation": null,
          "x": "health_percentage",
          "y": "has_wiki"
         },
         {
          "correlation": null,
          "x": "description",
          "y": "has_downloads"
         },
         {
          "correlation": null,
          "x": "archived",
          "y": "has_downloads"
         },
         {
          "correlation": null,
          "x": "has_wiki",
          "y": "has_downloads"
         },
         {
          "correlation": null,
          "x": "has_downloads",
          "y": "has_downloads"
         },
         {
          "correlation": null,
          "x": "has_projects",
          "y": "has_downloads"
         },
         {
          "correlation": null,
          "x": "has_issues",
          "y": "has_downloads"
         },
         {
          "correlation": null,
          "x": "homepage",
          "y": "has_downloads"
         },
         {
          "correlation": null,
          "x": "fork",
          "y": "has_downloads"
         },
         {
          "correlation": null,
          "x": "forks",
          "y": "has_downloads"
         },
         {
          "correlation": null,
          "x": "watchers",
          "y": "has_downloads"
         },
         {
          "correlation": null,
          "x": "open_issues_count",
          "y": "has_downloads"
         },
         {
          "correlation": null,
          "x": "watchers_count",
          "y": "has_downloads"
         },
         {
          "correlation": null,
          "x": "stargazers_count",
          "y": "has_downloads"
         },
         {
          "correlation": null,
          "x": "size",
          "y": "has_downloads"
         },
         {
          "correlation": null,
          "x": "health_percentage",
          "y": "has_downloads"
         },
         {
          "correlation": null,
          "x": "description",
          "y": "has_projects"
         },
         {
          "correlation": null,
          "x": "archived",
          "y": "has_projects"
         },
         {
          "correlation": null,
          "x": "has_wiki",
          "y": "has_projects"
         },
         {
          "correlation": null,
          "x": "has_downloads",
          "y": "has_projects"
         },
         {
          "correlation": null,
          "x": "has_projects",
          "y": "has_projects"
         },
         {
          "correlation": null,
          "x": "has_issues",
          "y": "has_projects"
         },
         {
          "correlation": null,
          "x": "homepage",
          "y": "has_projects"
         },
         {
          "correlation": null,
          "x": "fork",
          "y": "has_projects"
         },
         {
          "correlation": null,
          "x": "forks",
          "y": "has_projects"
         },
         {
          "correlation": null,
          "x": "watchers",
          "y": "has_projects"
         },
         {
          "correlation": null,
          "x": "open_issues_count",
          "y": "has_projects"
         },
         {
          "correlation": null,
          "x": "watchers_count",
          "y": "has_projects"
         },
         {
          "correlation": null,
          "x": "stargazers_count",
          "y": "has_projects"
         },
         {
          "correlation": null,
          "x": "size",
          "y": "has_projects"
         },
         {
          "correlation": null,
          "x": "health_percentage",
          "y": "has_projects"
         },
         {
          "correlation": null,
          "x": "description",
          "y": "has_issues"
         },
         {
          "correlation": null,
          "x": "archived",
          "y": "has_issues"
         },
         {
          "correlation": null,
          "x": "has_wiki",
          "y": "has_issues"
         },
         {
          "correlation": null,
          "x": "has_downloads",
          "y": "has_issues"
         },
         {
          "correlation": null,
          "x": "has_projects",
          "y": "has_issues"
         },
         {
          "correlation": null,
          "x": "has_issues",
          "y": "has_issues"
         },
         {
          "correlation": null,
          "x": "homepage",
          "y": "has_issues"
         },
         {
          "correlation": null,
          "x": "fork",
          "y": "has_issues"
         },
         {
          "correlation": null,
          "x": "forks",
          "y": "has_issues"
         },
         {
          "correlation": null,
          "x": "watchers",
          "y": "has_issues"
         },
         {
          "correlation": null,
          "x": "open_issues_count",
          "y": "has_issues"
         },
         {
          "correlation": null,
          "x": "watchers_count",
          "y": "has_issues"
         },
         {
          "correlation": null,
          "x": "stargazers_count",
          "y": "has_issues"
         },
         {
          "correlation": null,
          "x": "size",
          "y": "has_issues"
         },
         {
          "correlation": null,
          "x": "health_percentage",
          "y": "has_issues"
         },
         {
          "correlation": 0.178142948540336,
          "x": "description",
          "y": "homepage"
         },
         {
          "correlation": null,
          "x": "archived",
          "y": "homepage"
         },
         {
          "correlation": null,
          "x": "has_wiki",
          "y": "homepage"
         },
         {
          "correlation": null,
          "x": "has_downloads",
          "y": "homepage"
         },
         {
          "correlation": null,
          "x": "has_projects",
          "y": "homepage"
         },
         {
          "correlation": null,
          "x": "has_issues",
          "y": "homepage"
         },
         {
          "correlation": 1,
          "x": "homepage",
          "y": "homepage"
         },
         {
          "correlation": null,
          "x": "fork",
          "y": "homepage"
         },
         {
          "correlation": 0.06315673743865668,
          "x": "forks",
          "y": "homepage"
         },
         {
          "correlation": 0.08472348020436614,
          "x": "watchers",
          "y": "homepage"
         },
         {
          "correlation": 0.0867794816065394,
          "x": "open_issues_count",
          "y": "homepage"
         },
         {
          "correlation": 0.08472348020436614,
          "x": "watchers_count",
          "y": "homepage"
         },
         {
          "correlation": 0.08472348020436614,
          "x": "stargazers_count",
          "y": "homepage"
         },
         {
          "correlation": 0.007669928114107535,
          "x": "size",
          "y": "homepage"
         },
         {
          "correlation": 0.14012728059664367,
          "x": "health_percentage",
          "y": "homepage"
         },
         {
          "correlation": null,
          "x": "description",
          "y": "fork"
         },
         {
          "correlation": null,
          "x": "archived",
          "y": "fork"
         },
         {
          "correlation": null,
          "x": "has_wiki",
          "y": "fork"
         },
         {
          "correlation": null,
          "x": "has_downloads",
          "y": "fork"
         },
         {
          "correlation": null,
          "x": "has_projects",
          "y": "fork"
         },
         {
          "correlation": null,
          "x": "has_issues",
          "y": "fork"
         },
         {
          "correlation": null,
          "x": "homepage",
          "y": "fork"
         },
         {
          "correlation": null,
          "x": "fork",
          "y": "fork"
         },
         {
          "correlation": null,
          "x": "forks",
          "y": "fork"
         },
         {
          "correlation": null,
          "x": "watchers",
          "y": "fork"
         },
         {
          "correlation": null,
          "x": "open_issues_count",
          "y": "fork"
         },
         {
          "correlation": null,
          "x": "watchers_count",
          "y": "fork"
         },
         {
          "correlation": null,
          "x": "stargazers_count",
          "y": "fork"
         },
         {
          "correlation": null,
          "x": "size",
          "y": "fork"
         },
         {
          "correlation": null,
          "x": "health_percentage",
          "y": "fork"
         },
         {
          "correlation": 0.04815869009290894,
          "x": "description",
          "y": "forks"
         },
         {
          "correlation": null,
          "x": "archived",
          "y": "forks"
         },
         {
          "correlation": null,
          "x": "has_wiki",
          "y": "forks"
         },
         {
          "correlation": null,
          "x": "has_downloads",
          "y": "forks"
         },
         {
          "correlation": null,
          "x": "has_projects",
          "y": "forks"
         },
         {
          "correlation": null,
          "x": "has_issues",
          "y": "forks"
         },
         {
          "correlation": 0.06315673743865668,
          "x": "homepage",
          "y": "forks"
         },
         {
          "correlation": null,
          "x": "fork",
          "y": "forks"
         },
         {
          "correlation": 1,
          "x": "forks",
          "y": "forks"
         },
         {
          "correlation": 0.6234215480954849,
          "x": "watchers",
          "y": "forks"
         },
         {
          "correlation": 0.11317558244311555,
          "x": "open_issues_count",
          "y": "forks"
         },
         {
          "correlation": 0.6234215480954849,
          "x": "watchers_count",
          "y": "forks"
         },
         {
          "correlation": 0.6234215480954849,
          "x": "stargazers_count",
          "y": "forks"
         },
         {
          "correlation": 0.0129166687147404,
          "x": "size",
          "y": "forks"
         },
         {
          "correlation": 0.06705683822456684,
          "x": "health_percentage",
          "y": "forks"
         },
         {
          "correlation": 0.08938640244740138,
          "x": "description",
          "y": "watchers"
         },
         {
          "correlation": null,
          "x": "archived",
          "y": "watchers"
         },
         {
          "correlation": null,
          "x": "has_wiki",
          "y": "watchers"
         },
         {
          "correlation": null,
          "x": "has_downloads",
          "y": "watchers"
         },
         {
          "correlation": null,
          "x": "has_projects",
          "y": "watchers"
         },
         {
          "correlation": null,
          "x": "has_issues",
          "y": "watchers"
         },
         {
          "correlation": 0.08472348020436614,
          "x": "homepage",
          "y": "watchers"
         },
         {
          "correlation": null,
          "x": "fork",
          "y": "watchers"
         },
         {
          "correlation": 0.6234215480954849,
          "x": "forks",
          "y": "watchers"
         },
         {
          "correlation": 1,
          "x": "watchers",
          "y": "watchers"
         },
         {
          "correlation": 0.18581746866242124,
          "x": "open_issues_count",
          "y": "watchers"
         },
         {
          "correlation": 1,
          "x": "watchers_count",
          "y": "watchers"
         },
         {
          "correlation": 1,
          "x": "stargazers_count",
          "y": "watchers"
         },
         {
          "correlation": 0.035058010904975956,
          "x": "size",
          "y": "watchers"
         },
         {
          "correlation": 0.12537986324711325,
          "x": "health_percentage",
          "y": "watchers"
         },
         {
          "correlation": 0.04572912492893593,
          "x": "description",
          "y": "open_issues_count"
         },
         {
          "correlation": null,
          "x": "archived",
          "y": "open_issues_count"
         },
         {
          "correlation": null,
          "x": "has_wiki",
          "y": "open_issues_count"
         },
         {
          "correlation": null,
          "x": "has_downloads",
          "y": "open_issues_count"
         },
         {
          "correlation": null,
          "x": "has_projects",
          "y": "open_issues_count"
         },
         {
          "correlation": null,
          "x": "has_issues",
          "y": "open_issues_count"
         },
         {
          "correlation": 0.0867794816065394,
          "x": "homepage",
          "y": "open_issues_count"
         },
         {
          "correlation": null,
          "x": "fork",
          "y": "open_issues_count"
         },
         {
          "correlation": 0.11317558244311555,
          "x": "forks",
          "y": "open_issues_count"
         },
         {
          "correlation": 0.18581746866242124,
          "x": "watchers",
          "y": "open_issues_count"
         },
         {
          "correlation": 1,
          "x": "open_issues_count",
          "y": "open_issues_count"
         },
         {
          "correlation": 0.1858174686624213,
          "x": "watchers_count",
          "y": "open_issues_count"
         },
         {
          "correlation": 0.1858174686624213,
          "x": "stargazers_count",
          "y": "open_issues_count"
         },
         {
          "correlation": -0.005109316307002297,
          "x": "size",
          "y": "open_issues_count"
         },
         {
          "correlation": 0.09546029051236497,
          "x": "health_percentage",
          "y": "open_issues_count"
         },
         {
          "correlation": 0.08938640244740138,
          "x": "description",
          "y": "watchers_count"
         },
         {
          "correlation": null,
          "x": "archived",
          "y": "watchers_count"
         },
         {
          "correlation": null,
          "x": "has_wiki",
          "y": "watchers_count"
         },
         {
          "correlation": null,
          "x": "has_downloads",
          "y": "watchers_count"
         },
         {
          "correlation": null,
          "x": "has_projects",
          "y": "watchers_count"
         },
         {
          "correlation": null,
          "x": "has_issues",
          "y": "watchers_count"
         },
         {
          "correlation": 0.08472348020436614,
          "x": "homepage",
          "y": "watchers_count"
         },
         {
          "correlation": null,
          "x": "fork",
          "y": "watchers_count"
         },
         {
          "correlation": 0.6234215480954849,
          "x": "forks",
          "y": "watchers_count"
         },
         {
          "correlation": 1,
          "x": "watchers",
          "y": "watchers_count"
         },
         {
          "correlation": 0.1858174686624213,
          "x": "open_issues_count",
          "y": "watchers_count"
         },
         {
          "correlation": 1,
          "x": "watchers_count",
          "y": "watchers_count"
         },
         {
          "correlation": 1,
          "x": "stargazers_count",
          "y": "watchers_count"
         },
         {
          "correlation": 0.035058010904975956,
          "x": "size",
          "y": "watchers_count"
         },
         {
          "correlation": 0.12537986324711325,
          "x": "health_percentage",
          "y": "watchers_count"
         },
         {
          "correlation": 0.08938640244740138,
          "x": "description",
          "y": "stargazers_count"
         },
         {
          "correlation": null,
          "x": "archived",
          "y": "stargazers_count"
         },
         {
          "correlation": null,
          "x": "has_wiki",
          "y": "stargazers_count"
         },
         {
          "correlation": null,
          "x": "has_downloads",
          "y": "stargazers_count"
         },
         {
          "correlation": null,
          "x": "has_projects",
          "y": "stargazers_count"
         },
         {
          "correlation": null,
          "x": "has_issues",
          "y": "stargazers_count"
         },
         {
          "correlation": 0.08472348020436614,
          "x": "homepage",
          "y": "stargazers_count"
         },
         {
          "correlation": null,
          "x": "fork",
          "y": "stargazers_count"
         },
         {
          "correlation": 0.6234215480954849,
          "x": "forks",
          "y": "stargazers_count"
         },
         {
          "correlation": 1,
          "x": "watchers",
          "y": "stargazers_count"
         },
         {
          "correlation": 0.1858174686624213,
          "x": "open_issues_count",
          "y": "stargazers_count"
         },
         {
          "correlation": 1,
          "x": "watchers_count",
          "y": "stargazers_count"
         },
         {
          "correlation": 1,
          "x": "stargazers_count",
          "y": "stargazers_count"
         },
         {
          "correlation": 0.035058010904975956,
          "x": "size",
          "y": "stargazers_count"
         },
         {
          "correlation": 0.12537986324711325,
          "x": "health_percentage",
          "y": "stargazers_count"
         },
         {
          "correlation": 0.016787659459413032,
          "x": "description",
          "y": "size"
         },
         {
          "correlation": null,
          "x": "archived",
          "y": "size"
         },
         {
          "correlation": null,
          "x": "has_wiki",
          "y": "size"
         },
         {
          "correlation": null,
          "x": "has_downloads",
          "y": "size"
         },
         {
          "correlation": null,
          "x": "has_projects",
          "y": "size"
         },
         {
          "correlation": null,
          "x": "has_issues",
          "y": "size"
         },
         {
          "correlation": 0.007669928114107535,
          "x": "homepage",
          "y": "size"
         },
         {
          "correlation": null,
          "x": "fork",
          "y": "size"
         },
         {
          "correlation": 0.0129166687147404,
          "x": "forks",
          "y": "size"
         },
         {
          "correlation": 0.035058010904975956,
          "x": "watchers",
          "y": "size"
         },
         {
          "correlation": -0.005109316307002297,
          "x": "open_issues_count",
          "y": "size"
         },
         {
          "correlation": 0.035058010904975956,
          "x": "watchers_count",
          "y": "size"
         },
         {
          "correlation": 0.035058010904975956,
          "x": "stargazers_count",
          "y": "size"
         },
         {
          "correlation": 1,
          "x": "size",
          "y": "size"
         },
         {
          "correlation": 0.032988374842259124,
          "x": "health_percentage",
          "y": "size"
         },
         {
          "correlation": 0.6542974101030762,
          "x": "description",
          "y": "health_percentage"
         },
         {
          "correlation": null,
          "x": "archived",
          "y": "health_percentage"
         },
         {
          "correlation": null,
          "x": "has_wiki",
          "y": "health_percentage"
         },
         {
          "correlation": null,
          "x": "has_downloads",
          "y": "health_percentage"
         },
         {
          "correlation": null,
          "x": "has_projects",
          "y": "health_percentage"
         },
         {
          "correlation": null,
          "x": "has_issues",
          "y": "health_percentage"
         },
         {
          "correlation": 0.14012728059664367,
          "x": "homepage",
          "y": "health_percentage"
         },
         {
          "correlation": null,
          "x": "fork",
          "y": "health_percentage"
         },
         {
          "correlation": 0.06705683822456684,
          "x": "forks",
          "y": "health_percentage"
         },
         {
          "correlation": 0.12537986324711325,
          "x": "watchers",
          "y": "health_percentage"
         },
         {
          "correlation": 0.09546029051236497,
          "x": "open_issues_count",
          "y": "health_percentage"
         },
         {
          "correlation": 0.12537986324711325,
          "x": "watchers_count",
          "y": "health_percentage"
         },
         {
          "correlation": 0.12537986324711325,
          "x": "stargazers_count",
          "y": "health_percentage"
         },
         {
          "correlation": 0.032988374842259124,
          "x": "size",
          "y": "health_percentage"
         },
         {
          "correlation": 1,
          "x": "health_percentage",
          "y": "health_percentage"
         }
        ],
        "data-cbfd32b1a8cd867c1613da2a56d2dc89": [
         {
          "correlation": 1,
          "x": "description",
          "y": "description"
         },
         {
          "correlation": null,
          "x": "archived",
          "y": "description"
         },
         {
          "correlation": null,
          "x": "has_wiki",
          "y": "description"
         },
         {
          "correlation": null,
          "x": "has_downloads",
          "y": "description"
         },
         {
          "correlation": null,
          "x": "has_projects",
          "y": "description"
         },
         {
          "correlation": null,
          "x": "has_issues",
          "y": "description"
         },
         {
          "correlation": 0.19555043157950566,
          "x": "homepage",
          "y": "description"
         },
         {
          "correlation": null,
          "x": "fork",
          "y": "description"
         },
         {
          "correlation": 0.046598787300570654,
          "x": "forks",
          "y": "description"
         },
         {
          "correlation": 0.04210116845166888,
          "x": "watchers",
          "y": "description"
         },
         {
          "correlation": 0.0312701114481468,
          "x": "open_issues_count",
          "y": "description"
         },
         {
          "correlation": 0.04210116845166888,
          "x": "watchers_count",
          "y": "description"
         },
         {
          "correlation": 0.04210116845166888,
          "x": "stargazers_count",
          "y": "description"
         },
         {
          "correlation": 0.010251613653082617,
          "x": "size",
          "y": "description"
         },
         {
          "correlation": null,
          "x": "health_percentage",
          "y": "description"
         },
         {
          "correlation": null,
          "x": "description",
          "y": "archived"
         },
         {
          "correlation": null,
          "x": "archived",
          "y": "archived"
         },
         {
          "correlation": null,
          "x": "has_wiki",
          "y": "archived"
         },
         {
          "correlation": null,
          "x": "has_downloads",
          "y": "archived"
         },
         {
          "correlation": null,
          "x": "has_projects",
          "y": "archived"
         },
         {
          "correlation": null,
          "x": "has_issues",
          "y": "archived"
         },
         {
          "correlation": null,
          "x": "homepage",
          "y": "archived"
         },
         {
          "correlation": null,
          "x": "fork",
          "y": "archived"
         },
         {
          "correlation": null,
          "x": "forks",
          "y": "archived"
         },
         {
          "correlation": null,
          "x": "watchers",
          "y": "archived"
         },
         {
          "correlation": null,
          "x": "open_issues_count",
          "y": "archived"
         },
         {
          "correlation": null,
          "x": "watchers_count",
          "y": "archived"
         },
         {
          "correlation": null,
          "x": "stargazers_count",
          "y": "archived"
         },
         {
          "correlation": null,
          "x": "size",
          "y": "archived"
         },
         {
          "correlation": null,
          "x": "health_percentage",
          "y": "archived"
         },
         {
          "correlation": null,
          "x": "description",
          "y": "has_wiki"
         },
         {
          "correlation": null,
          "x": "archived",
          "y": "has_wiki"
         },
         {
          "correlation": null,
          "x": "has_wiki",
          "y": "has_wiki"
         },
         {
          "correlation": null,
          "x": "has_downloads",
          "y": "has_wiki"
         },
         {
          "correlation": null,
          "x": "has_projects",
          "y": "has_wiki"
         },
         {
          "correlation": null,
          "x": "has_issues",
          "y": "has_wiki"
         },
         {
          "correlation": null,
          "x": "homepage",
          "y": "has_wiki"
         },
         {
          "correlation": null,
          "x": "fork",
          "y": "has_wiki"
         },
         {
          "correlation": null,
          "x": "forks",
          "y": "has_wiki"
         },
         {
          "correlation": null,
          "x": "watchers",
          "y": "has_wiki"
         },
         {
          "correlation": null,
          "x": "open_issues_count",
          "y": "has_wiki"
         },
         {
          "correlation": null,
          "x": "watchers_count",
          "y": "has_wiki"
         },
         {
          "correlation": null,
          "x": "stargazers_count",
          "y": "has_wiki"
         },
         {
          "correlation": null,
          "x": "size",
          "y": "has_wiki"
         },
         {
          "correlation": null,
          "x": "health_percentage",
          "y": "has_wiki"
         },
         {
          "correlation": null,
          "x": "description",
          "y": "has_downloads"
         },
         {
          "correlation": null,
          "x": "archived",
          "y": "has_downloads"
         },
         {
          "correlation": null,
          "x": "has_wiki",
          "y": "has_downloads"
         },
         {
          "correlation": null,
          "x": "has_downloads",
          "y": "has_downloads"
         },
         {
          "correlation": null,
          "x": "has_projects",
          "y": "has_downloads"
         },
         {
          "correlation": null,
          "x": "has_issues",
          "y": "has_downloads"
         },
         {
          "correlation": null,
          "x": "homepage",
          "y": "has_downloads"
         },
         {
          "correlation": null,
          "x": "fork",
          "y": "has_downloads"
         },
         {
          "correlation": null,
          "x": "forks",
          "y": "has_downloads"
         },
         {
          "correlation": null,
          "x": "watchers",
          "y": "has_downloads"
         },
         {
          "correlation": null,
          "x": "open_issues_count",
          "y": "has_downloads"
         },
         {
          "correlation": null,
          "x": "watchers_count",
          "y": "has_downloads"
         },
         {
          "correlation": null,
          "x": "stargazers_count",
          "y": "has_downloads"
         },
         {
          "correlation": null,
          "x": "size",
          "y": "has_downloads"
         },
         {
          "correlation": null,
          "x": "health_percentage",
          "y": "has_downloads"
         },
         {
          "correlation": null,
          "x": "description",
          "y": "has_projects"
         },
         {
          "correlation": null,
          "x": "archived",
          "y": "has_projects"
         },
         {
          "correlation": null,
          "x": "has_wiki",
          "y": "has_projects"
         },
         {
          "correlation": null,
          "x": "has_downloads",
          "y": "has_projects"
         },
         {
          "correlation": null,
          "x": "has_projects",
          "y": "has_projects"
         },
         {
          "correlation": null,
          "x": "has_issues",
          "y": "has_projects"
         },
         {
          "correlation": null,
          "x": "homepage",
          "y": "has_projects"
         },
         {
          "correlation": null,
          "x": "fork",
          "y": "has_projects"
         },
         {
          "correlation": null,
          "x": "forks",
          "y": "has_projects"
         },
         {
          "correlation": null,
          "x": "watchers",
          "y": "has_projects"
         },
         {
          "correlation": null,
          "x": "open_issues_count",
          "y": "has_projects"
         },
         {
          "correlation": null,
          "x": "watchers_count",
          "y": "has_projects"
         },
         {
          "correlation": null,
          "x": "stargazers_count",
          "y": "has_projects"
         },
         {
          "correlation": null,
          "x": "size",
          "y": "has_projects"
         },
         {
          "correlation": null,
          "x": "health_percentage",
          "y": "has_projects"
         },
         {
          "correlation": null,
          "x": "description",
          "y": "has_issues"
         },
         {
          "correlation": null,
          "x": "archived",
          "y": "has_issues"
         },
         {
          "correlation": null,
          "x": "has_wiki",
          "y": "has_issues"
         },
         {
          "correlation": null,
          "x": "has_downloads",
          "y": "has_issues"
         },
         {
          "correlation": null,
          "x": "has_projects",
          "y": "has_issues"
         },
         {
          "correlation": null,
          "x": "has_issues",
          "y": "has_issues"
         },
         {
          "correlation": null,
          "x": "homepage",
          "y": "has_issues"
         },
         {
          "correlation": null,
          "x": "fork",
          "y": "has_issues"
         },
         {
          "correlation": null,
          "x": "forks",
          "y": "has_issues"
         },
         {
          "correlation": null,
          "x": "watchers",
          "y": "has_issues"
         },
         {
          "correlation": null,
          "x": "open_issues_count",
          "y": "has_issues"
         },
         {
          "correlation": null,
          "x": "watchers_count",
          "y": "has_issues"
         },
         {
          "correlation": null,
          "x": "stargazers_count",
          "y": "has_issues"
         },
         {
          "correlation": null,
          "x": "size",
          "y": "has_issues"
         },
         {
          "correlation": null,
          "x": "health_percentage",
          "y": "has_issues"
         },
         {
          "correlation": 0.19555043157950566,
          "x": "description",
          "y": "homepage"
         },
         {
          "correlation": null,
          "x": "archived",
          "y": "homepage"
         },
         {
          "correlation": null,
          "x": "has_wiki",
          "y": "homepage"
         },
         {
          "correlation": null,
          "x": "has_downloads",
          "y": "homepage"
         },
         {
          "correlation": null,
          "x": "has_projects",
          "y": "homepage"
         },
         {
          "correlation": null,
          "x": "has_issues",
          "y": "homepage"
         },
         {
          "correlation": 1,
          "x": "homepage",
          "y": "homepage"
         },
         {
          "correlation": null,
          "x": "fork",
          "y": "homepage"
         },
         {
          "correlation": 0.039609469270986325,
          "x": "forks",
          "y": "homepage"
         },
         {
          "correlation": 0.04976833393396808,
          "x": "watchers",
          "y": "homepage"
         },
         {
          "correlation": 0.04850969877664408,
          "x": "open_issues_count",
          "y": "homepage"
         },
         {
          "correlation": 0.04976833393396808,
          "x": "watchers_count",
          "y": "homepage"
         },
         {
          "correlation": 0.04976833393396808,
          "x": "stargazers_count",
          "y": "homepage"
         },
         {
          "correlation": 0.01763673202135044,
          "x": "size",
          "y": "homepage"
         },
         {
          "correlation": null,
          "x": "health_percentage",
          "y": "homepage"
         },
         {
          "correlation": null,
          "x": "description",
          "y": "fork"
         },
         {
          "correlation": null,
          "x": "archived",
          "y": "fork"
         },
         {
          "correlation": null,
          "x": "has_wiki",
          "y": "fork"
         },
         {
          "correlation": null,
          "x": "has_downloads",
          "y": "fork"
         },
         {
          "correlation": null,
          "x": "has_projects",
          "y": "fork"
         },
         {
          "correlation": null,
          "x": "has_issues",
          "y": "fork"
         },
         {
          "correlation": null,
          "x": "homepage",
          "y": "fork"
         },
         {
          "correlation": null,
          "x": "fork",
          "y": "fork"
         },
         {
          "correlation": null,
          "x": "forks",
          "y": "fork"
         },
         {
          "correlation": null,
          "x": "watchers",
          "y": "fork"
         },
         {
          "correlation": null,
          "x": "open_issues_count",
          "y": "fork"
         },
         {
          "correlation": null,
          "x": "watchers_count",
          "y": "fork"
         },
         {
          "correlation": null,
          "x": "stargazers_count",
          "y": "fork"
         },
         {
          "correlation": null,
          "x": "size",
          "y": "fork"
         },
         {
          "correlation": null,
          "x": "health_percentage",
          "y": "fork"
         },
         {
          "correlation": 0.046598787300570654,
          "x": "description",
          "y": "forks"
         },
         {
          "correlation": null,
          "x": "archived",
          "y": "forks"
         },
         {
          "correlation": null,
          "x": "has_wiki",
          "y": "forks"
         },
         {
          "correlation": null,
          "x": "has_downloads",
          "y": "forks"
         },
         {
          "correlation": null,
          "x": "has_projects",
          "y": "forks"
         },
         {
          "correlation": null,
          "x": "has_issues",
          "y": "forks"
         },
         {
          "correlation": 0.039609469270986325,
          "x": "homepage",
          "y": "forks"
         },
         {
          "correlation": null,
          "x": "fork",
          "y": "forks"
         },
         {
          "correlation": 1,
          "x": "forks",
          "y": "forks"
         },
         {
          "correlation": 0.8105541961075544,
          "x": "watchers",
          "y": "forks"
         },
         {
          "correlation": 0.2575496321209799,
          "x": "open_issues_count",
          "y": "forks"
         },
         {
          "correlation": 0.8105541961075544,
          "x": "watchers_count",
          "y": "forks"
         },
         {
          "correlation": 0.8105541961075544,
          "x": "stargazers_count",
          "y": "forks"
         },
         {
          "correlation": 0.02248253695245834,
          "x": "size",
          "y": "forks"
         },
         {
          "correlation": null,
          "x": "health_percentage",
          "y": "forks"
         },
         {
          "correlation": 0.04210116845166888,
          "x": "description",
          "y": "watchers"
         },
         {
          "correlation": null,
          "x": "archived",
          "y": "watchers"
         },
         {
          "correlation": null,
          "x": "has_wiki",
          "y": "watchers"
         },
         {
          "correlation": null,
          "x": "has_downloads",
          "y": "watchers"
         },
         {
          "correlation": null,
          "x": "has_projects",
          "y": "watchers"
         },
         {
          "correlation": null,
          "x": "has_issues",
          "y": "watchers"
         },
         {
          "correlation": 0.04976833393396808,
          "x": "homepage",
          "y": "watchers"
         },
         {
          "correlation": null,
          "x": "fork",
          "y": "watchers"
         },
         {
          "correlation": 0.8105541961075544,
          "x": "forks",
          "y": "watchers"
         },
         {
          "correlation": 1,
          "x": "watchers",
          "y": "watchers"
         },
         {
          "correlation": 0.23612003930748296,
          "x": "open_issues_count",
          "y": "watchers"
         },
         {
          "correlation": 1,
          "x": "watchers_count",
          "y": "watchers"
         },
         {
          "correlation": 1,
          "x": "stargazers_count",
          "y": "watchers"
         },
         {
          "correlation": 0.0157631102053039,
          "x": "size",
          "y": "watchers"
         },
         {
          "correlation": null,
          "x": "health_percentage",
          "y": "watchers"
         },
         {
          "correlation": 0.0312701114481468,
          "x": "description",
          "y": "open_issues_count"
         },
         {
          "correlation": null,
          "x": "archived",
          "y": "open_issues_count"
         },
         {
          "correlation": null,
          "x": "has_wiki",
          "y": "open_issues_count"
         },
         {
          "correlation": null,
          "x": "has_downloads",
          "y": "open_issues_count"
         },
         {
          "correlation": null,
          "x": "has_projects",
          "y": "open_issues_count"
         },
         {
          "correlation": null,
          "x": "has_issues",
          "y": "open_issues_count"
         },
         {
          "correlation": 0.04850969877664408,
          "x": "homepage",
          "y": "open_issues_count"
         },
         {
          "correlation": null,
          "x": "fork",
          "y": "open_issues_count"
         },
         {
          "correlation": 0.2575496321209799,
          "x": "forks",
          "y": "open_issues_count"
         },
         {
          "correlation": 0.23612003930748296,
          "x": "watchers",
          "y": "open_issues_count"
         },
         {
          "correlation": 1,
          "x": "open_issues_count",
          "y": "open_issues_count"
         },
         {
          "correlation": 0.23612003930748302,
          "x": "watchers_count",
          "y": "open_issues_count"
         },
         {
          "correlation": 0.23612003930748302,
          "x": "stargazers_count",
          "y": "open_issues_count"
         },
         {
          "correlation": 0.024346594690072203,
          "x": "size",
          "y": "open_issues_count"
         },
         {
          "correlation": null,
          "x": "health_percentage",
          "y": "open_issues_count"
         },
         {
          "correlation": 0.04210116845166888,
          "x": "description",
          "y": "watchers_count"
         },
         {
          "correlation": null,
          "x": "archived",
          "y": "watchers_count"
         },
         {
          "correlation": null,
          "x": "has_wiki",
          "y": "watchers_count"
         },
         {
          "correlation": null,
          "x": "has_downloads",
          "y": "watchers_count"
         },
         {
          "correlation": null,
          "x": "has_projects",
          "y": "watchers_count"
         },
         {
          "correlation": null,
          "x": "has_issues",
          "y": "watchers_count"
         },
         {
          "correlation": 0.04976833393396808,
          "x": "homepage",
          "y": "watchers_count"
         },
         {
          "correlation": null,
          "x": "fork",
          "y": "watchers_count"
         },
         {
          "correlation": 0.8105541961075544,
          "x": "forks",
          "y": "watchers_count"
         },
         {
          "correlation": 1,
          "x": "watchers",
          "y": "watchers_count"
         },
         {
          "correlation": 0.23612003930748302,
          "x": "open_issues_count",
          "y": "watchers_count"
         },
         {
          "correlation": 1,
          "x": "watchers_count",
          "y": "watchers_count"
         },
         {
          "correlation": 1,
          "x": "stargazers_count",
          "y": "watchers_count"
         },
         {
          "correlation": 0.0157631102053039,
          "x": "size",
          "y": "watchers_count"
         },
         {
          "correlation": null,
          "x": "health_percentage",
          "y": "watchers_count"
         },
         {
          "correlation": 0.04210116845166888,
          "x": "description",
          "y": "stargazers_count"
         },
         {
          "correlation": null,
          "x": "archived",
          "y": "stargazers_count"
         },
         {
          "correlation": null,
          "x": "has_wiki",
          "y": "stargazers_count"
         },
         {
          "correlation": null,
          "x": "has_downloads",
          "y": "stargazers_count"
         },
         {
          "correlation": null,
          "x": "has_projects",
          "y": "stargazers_count"
         },
         {
          "correlation": null,
          "x": "has_issues",
          "y": "stargazers_count"
         },
         {
          "correlation": 0.04976833393396808,
          "x": "homepage",
          "y": "stargazers_count"
         },
         {
          "correlation": null,
          "x": "fork",
          "y": "stargazers_count"
         },
         {
          "correlation": 0.8105541961075544,
          "x": "forks",
          "y": "stargazers_count"
         },
         {
          "correlation": 1,
          "x": "watchers",
          "y": "stargazers_count"
         },
         {
          "correlation": 0.23612003930748302,
          "x": "open_issues_count",
          "y": "stargazers_count"
         },
         {
          "correlation": 1,
          "x": "watchers_count",
          "y": "stargazers_count"
         },
         {
          "correlation": 1,
          "x": "stargazers_count",
          "y": "stargazers_count"
         },
         {
          "correlation": 0.0157631102053039,
          "x": "size",
          "y": "stargazers_count"
         },
         {
          "correlation": null,
          "x": "health_percentage",
          "y": "stargazers_count"
         },
         {
          "correlation": 0.010251613653082617,
          "x": "description",
          "y": "size"
         },
         {
          "correlation": null,
          "x": "archived",
          "y": "size"
         },
         {
          "correlation": null,
          "x": "has_wiki",
          "y": "size"
         },
         {
          "correlation": null,
          "x": "has_downloads",
          "y": "size"
         },
         {
          "correlation": null,
          "x": "has_projects",
          "y": "size"
         },
         {
          "correlation": null,
          "x": "has_issues",
          "y": "size"
         },
         {
          "correlation": 0.01763673202135044,
          "x": "homepage",
          "y": "size"
         },
         {
          "correlation": null,
          "x": "fork",
          "y": "size"
         },
         {
          "correlation": 0.02248253695245834,
          "x": "forks",
          "y": "size"
         },
         {
          "correlation": 0.0157631102053039,
          "x": "watchers",
          "y": "size"
         },
         {
          "correlation": 0.024346594690072203,
          "x": "open_issues_count",
          "y": "size"
         },
         {
          "correlation": 0.0157631102053039,
          "x": "watchers_count",
          "y": "size"
         },
         {
          "correlation": 0.0157631102053039,
          "x": "stargazers_count",
          "y": "size"
         },
         {
          "correlation": 1,
          "x": "size",
          "y": "size"
         },
         {
          "correlation": null,
          "x": "health_percentage",
          "y": "size"
         },
         {
          "correlation": null,
          "x": "description",
          "y": "health_percentage"
         },
         {
          "correlation": null,
          "x": "archived",
          "y": "health_percentage"
         },
         {
          "correlation": null,
          "x": "has_wiki",
          "y": "health_percentage"
         },
         {
          "correlation": null,
          "x": "has_downloads",
          "y": "health_percentage"
         },
         {
          "correlation": null,
          "x": "has_projects",
          "y": "health_percentage"
         },
         {
          "correlation": null,
          "x": "has_issues",
          "y": "health_percentage"
         },
         {
          "correlation": null,
          "x": "homepage",
          "y": "health_percentage"
         },
         {
          "correlation": null,
          "x": "fork",
          "y": "health_percentage"
         },
         {
          "correlation": null,
          "x": "forks",
          "y": "health_percentage"
         },
         {
          "correlation": null,
          "x": "watchers",
          "y": "health_percentage"
         },
         {
          "correlation": null,
          "x": "open_issues_count",
          "y": "health_percentage"
         },
         {
          "correlation": null,
          "x": "watchers_count",
          "y": "health_percentage"
         },
         {
          "correlation": null,
          "x": "stargazers_count",
          "y": "health_percentage"
         },
         {
          "correlation": null,
          "x": "size",
          "y": "health_percentage"
         },
         {
          "correlation": null,
          "x": "health_percentage",
          "y": "health_percentage"
         }
        ]
       },
       "hconcat": [
        {
         "data": {
          "name": "data-5a1f6710b9e85440a777505b11d43790"
         },
         "height": {
          "step": 40
         },
         "layer": [
          {
           "encoding": {
            "color": {
             "field": "correlation",
             "type": "quantitative"
            },
            "tooltip": [
             {
              "field": "x",
              "title": "Variable 1",
              "type": "nominal"
             },
             {
              "field": "y",
              "title": "Variable 2",
              "type": "nominal"
             },
             {
              "field": "correlation",
              "title": "Correlation",
              "type": "quantitative"
             }
            ],
            "x": {
             "field": "x",
             "title": null,
             "type": "ordinal"
            },
            "y": {
             "field": "y",
             "sort": {
              "field": "y",
              "order": "descending"
             },
             "title": null,
             "type": "ordinal"
            }
           },
           "mark": {
            "type": "rect"
           }
          },
          {
           "encoding": {
            "color": {
             "condition": {
              "test": "(datum.correlation > 0.95)",
              "value": "black"
             },
             "value": "white"
            },
            "text": {
             "field": "correlation",
             "format": ".2f",
             "type": "quantitative"
            },
            "tooltip": [
             {
              "field": "x",
              "title": "Variable 1",
              "type": "nominal"
             },
             {
              "field": "y",
              "title": "Variable 2",
              "type": "nominal"
             },
             {
              "field": "correlation",
              "title": "Correlation",
              "type": "quantitative"
             }
            ],
            "x": {
             "field": "x",
             "title": null,
             "type": "ordinal"
            },
            "y": {
             "field": "y",
             "sort": {
              "field": "y",
              "order": "descending"
             },
             "title": null,
             "type": "ordinal"
            }
           },
           "mark": {
            "baseline": "middle",
            "type": "text"
           }
          }
         ],
         "title": "Correlation matrix heatmap for initial_core core users",
         "width": {
          "step": 40
         }
        },
        {
         "data": {
          "name": "data-5b774193df4c3d9fbb84af206931883d"
         },
         "height": {
          "step": 40
         },
         "layer": [
          {
           "encoding": {
            "color": {
             "field": "correlation",
             "type": "quantitative"
            },
            "tooltip": [
             {
              "field": "x",
              "title": "Variable 1",
              "type": "nominal"
             },
             {
              "field": "y",
              "title": "Variable 2",
              "type": "nominal"
             },
             {
              "field": "correlation",
              "title": "Correlation",
              "type": "quantitative"
             }
            ],
            "x": {
             "field": "x",
             "title": null,
             "type": "ordinal"
            },
            "y": {
             "field": "y",
             "sort": {
              "field": "y",
              "order": "descending"
             },
             "title": null,
             "type": "ordinal"
            }
           },
           "mark": {
            "type": "rect"
           }
          },
          {
           "encoding": {
            "color": {
             "condition": {
              "test": "(datum.correlation > 0.95)",
              "value": "black"
             },
             "value": "white"
            },
            "text": {
             "field": "correlation",
             "format": ".2f",
             "type": "quantitative"
            },
            "tooltip": [
             {
              "field": "x",
              "title": "Variable 1",
              "type": "nominal"
             },
             {
              "field": "y",
              "title": "Variable 2",
              "type": "nominal"
             },
             {
              "field": "correlation",
              "title": "Correlation",
              "type": "quantitative"
             }
            ],
            "x": {
             "field": "x",
             "title": null,
             "type": "ordinal"
            },
            "y": {
             "field": "y",
             "sort": {
              "field": "y",
              "order": "descending"
             },
             "title": null,
             "type": "ordinal"
            }
           },
           "mark": {
            "baseline": "middle",
            "type": "text"
           }
          }
         ],
         "title": "Correlation matrix heatmap for firstpass_core core users",
         "width": {
          "step": 40
         }
        },
        {
         "data": {
          "name": "data-cbfd32b1a8cd867c1613da2a56d2dc89"
         },
         "height": {
          "step": 40
         },
         "layer": [
          {
           "encoding": {
            "color": {
             "field": "correlation",
             "type": "quantitative"
            },
            "tooltip": [
             {
              "field": "x",
              "title": "Variable 1",
              "type": "nominal"
             },
             {
              "field": "y",
              "title": "Variable 2",
              "type": "nominal"
             },
             {
              "field": "correlation",
              "title": "Correlation",
              "type": "quantitative"
             }
            ],
            "x": {
             "field": "x",
             "title": null,
             "type": "ordinal"
            },
            "y": {
             "field": "y",
             "sort": {
              "field": "y",
              "order": "descending"
             },
             "title": null,
             "type": "ordinal"
            }
           },
           "mark": {
            "type": "rect"
           }
          },
          {
           "encoding": {
            "color": {
             "condition": {
              "test": "(datum.correlation > 0.95)",
              "value": "black"
             },
             "value": "white"
            },
            "text": {
             "field": "correlation",
             "format": ".2f",
             "type": "quantitative"
            },
            "tooltip": [
             {
              "field": "x",
              "title": "Variable 1",
              "type": "nominal"
             },
             {
              "field": "y",
              "title": "Variable 2",
              "type": "nominal"
             },
             {
              "field": "correlation",
              "title": "Correlation",
              "type": "quantitative"
             }
            ],
            "x": {
             "field": "x",
             "title": null,
             "type": "ordinal"
            },
            "y": {
             "field": "y",
             "sort": {
              "field": "y",
              "order": "descending"
             },
             "title": null,
             "type": "ordinal"
            }
           },
           "mark": {
            "baseline": "middle",
            "type": "text"
           }
          }
         ],
         "title": "Correlation matrix heatmap for finalpass_core core users",
         "width": {
          "step": 40
         }
        }
       ]
      },
      "text/plain": [
       "<VegaLite 5 object>\n",
       "\n",
       "If you see this message, it means the renderer has not been properly enabled\n",
       "for the frontend that you are using. For more information, see\n",
       "https://altair-viz.github.io/user_guide/troubleshooting.html\n"
      ]
     },
     "execution_count": 82,
     "metadata": {},
     "output_type": "execute_result"
    }
   ],
   "source": [
    "alt.hconcat(*matrices)"
   ]
  },
  {
   "cell_type": "code",
   "execution_count": 83,
   "metadata": {},
   "outputs": [
    {
     "data": {
      "text/plain": [
       "(11675, 30334)"
      ]
     },
     "execution_count": 83,
     "metadata": {},
     "output_type": "execute_result"
    }
   ],
   "source": [
    "core_repos['languages'].isna().sum(), core_repos['languages'].notna().sum()"
   ]
  },
  {
   "cell_type": "code",
   "execution_count": null,
   "metadata": {},
   "outputs": [],
   "source": []
  }
 ],
 "metadata": {
  "kernelspec": {
   "display_name": "values_and_versions_env",
   "language": "python",
   "name": "python3"
  },
  "language_info": {
   "codemirror_mode": {
    "name": "ipython",
    "version": 3
   },
   "file_extension": ".py",
   "mimetype": "text/x-python",
   "name": "python",
   "nbconvert_exporter": "python",
   "pygments_lexer": "ipython3",
   "version": "3.9.16"
  },
  "orig_nbformat": 4
 },
 "nbformat": 4,
 "nbformat_minor": 2
}
