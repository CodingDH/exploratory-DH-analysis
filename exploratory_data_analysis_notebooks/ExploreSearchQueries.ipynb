{
 "cells": [
  {
   "attachments": {},
   "cell_type": "markdown",
   "metadata": {},
   "source": [
    "# Exploring Distribution and Results from Search Queries"
   ]
  },
  {
   "attachments": {},
   "cell_type": "markdown",
   "metadata": {},
   "source": [
    "## Load Data and Libraries"
   ]
  },
  {
   "cell_type": "code",
   "execution_count": 1,
   "metadata": {},
   "outputs": [],
   "source": [
    "import pandas as pd\n",
    "pd.options.mode.chained_assignment = None\n",
    "import altair as alt\n",
    "alt.renderers.enable('mimetype')\n",
    "import os\n",
    "import sys\n",
    "import warnings\n",
    "warnings.filterwarnings('ignore')\n",
    "\n",
    "sys.path.append(\"..\")\n",
    "\n"
   ]
  },
  {
   "cell_type": "code",
   "execution_count": 2,
   "metadata": {},
   "outputs": [],
   "source": [
    "search_queries_repo_df = pd.read_csv(\"../data/derived_files/updated_search_queries_repo_join_subset_dh_dataset.csv\")\n",
    "search_queries_user_df = pd.read_csv(\"../data/derived_files/updated_search_queries_user_join_subset_dh_dataset.csv\")\n"
   ]
  },
  {
   "attachments": {},
   "cell_type": "markdown",
   "metadata": {},
   "source": [
    "## Explore All Search Queries"
   ]
  },
  {
   "cell_type": "code",
   "execution_count": 3,
   "metadata": {},
   "outputs": [
    {
     "data": {
      "text/plain": [
       "2023-03-19    1525\n",
       "2022-12-12     783\n",
       "2022-12-18     275\n",
       "2023-03-30     207\n",
       "2023-03-16      27\n",
       "2022-10-10       7\n",
       "2022-11-02       2\n",
       "2022-11-27       1\n",
       "2022-11-01       1\n",
       "Name: search_query_time, dtype: int64"
      ]
     },
     "execution_count": 3,
     "metadata": {},
     "output_type": "execute_result"
    }
   ],
   "source": [
    "search_queries_repo_df.search_query_time.value_counts()"
   ]
  },
  {
   "cell_type": "code",
   "execution_count": null,
   "metadata": {},
   "outputs": [],
   "source": [
    "search_queries_user_df.search_term_source.value_counts()\n"
   ]
  },
  {
   "cell_type": "code",
   "execution_count": null,
   "metadata": {},
   "outputs": [],
   "source": [
    "search_queries_repo_df.search_term_source.value_counts()"
   ]
  },
  {
   "cell_type": "code",
   "execution_count": 4,
   "metadata": {},
   "outputs": [],
   "source": [
    "subset_terms =[\"Digital Humanities\"]"
   ]
  },
  {
   "cell_type": "code",
   "execution_count": 16,
   "metadata": {},
   "outputs": [],
   "source": [
    "subset_search_queries_repo_df = search_queries_repo_df[search_queries_repo_df.search_term_source.isin(subset_terms)]\n",
    "subset_search_queries_user_df = search_queries_user_df[search_queries_user_df.search_term_source.isin(subset_terms)]"
   ]
  },
  {
   "attachments": {},
   "cell_type": "markdown",
   "metadata": {},
   "source": [
    "### Clean Errors and Subset DH Queries"
   ]
  },
  {
   "cell_type": "code",
   "execution_count": 24,
   "metadata": {},
   "outputs": [],
   "source": [
    "new_dh_repos = search_queries_repo_df[search_queries_repo_df.search_term_source == \"Digital Humanities\"]\n",
    "new_dh_users = search_queries_user_df[search_queries_user_df.search_term_source == \"Digital Humanities\"]"
   ]
  },
  {
   "cell_type": "code",
   "execution_count": 25,
   "metadata": {},
   "outputs": [],
   "source": [
    "subset_search_queries_repo_df = pd.read_csv(\n",
    "    '../data/derived_files/updated_search_queries_repo_join_subset_dh_dataset.csv')\n",
    "subset_search_queries_user_df = pd.read_csv('../data/derived_files/updated_search_queries_user_join_subset_dh_dataset.csv')"
   ]
  },
  {
   "cell_type": "code",
   "execution_count": 60,
   "metadata": {},
   "outputs": [],
   "source": [
    "older_search_queries_repo_df = read_combine_files(dir_path=\"../data/\", check_all_dirs=True, file_path_contains=\"search_queries_repo_join_dataset\", large_files=False)\n",
    "older_search_queries_user_df = read_combine_files(dir_path=\"../data/\", check_all_dirs=True, file_path_contains=\"search_queries_user_join_dataset\", large_files=False)"
   ]
  },
  {
   "cell_type": "code",
   "execution_count": 61,
   "metadata": {},
   "outputs": [],
   "source": [
    "older_search_queries_repo_df = older_search_queries_repo_df[older_search_queries_repo_df.search_term_source == \"Digital Humanities\"]\n",
    "older_search_queries_user_df = older_search_queries_user_df[older_search_queries_user_df.search_term_source == \"Digital Humanities\"]"
   ]
  },
  {
   "cell_type": "code",
   "execution_count": 62,
   "metadata": {},
   "outputs": [
    {
     "data": {
      "text/plain": [
       "(17940, 7929, 2649)"
      ]
     },
     "execution_count": 62,
     "metadata": {},
     "output_type": "execute_result"
    }
   ],
   "source": [
    "len(older_search_queries_repo_df), len(search_queries_repo_df), len(subset_search_queries_repo_df)"
   ]
  },
  {
   "cell_type": "code",
   "execution_count": 63,
   "metadata": {},
   "outputs": [],
   "source": [
    "older_search_queries_repo_df = pd.concat([older_search_queries_repo_df, search_queries_repo_df[search_queries_repo_df.search_term_source == \"Digital Humanities\"]])\n",
    "older_search_queries_user_df = pd.concat([older_search_queries_user_df, search_queries_user_df[search_queries_user_df.search_term_source == \"Digital Humanities\"]])"
   ]
  },
  {
   "cell_type": "code",
   "execution_count": 64,
   "metadata": {},
   "outputs": [
    {
     "data": {
      "text/plain": [
       "(20380, 10413)"
      ]
     },
     "execution_count": 64,
     "metadata": {},
     "output_type": "execute_result"
    }
   ],
   "source": [
    "len(older_search_queries_repo_df), len(older_search_queries_user_df)"
   ]
  },
  {
   "cell_type": "code",
   "execution_count": 65,
   "metadata": {},
   "outputs": [],
   "source": [
    "join_unique_field = 'search_query'\n",
    "filter_field = 'id'\n",
    "older_search_queries_user_df = older_search_queries_user_df[older_search_queries_user_df[join_unique_field].notna()]\n",
    "older_search_queries_repo_df = older_search_queries_repo_df[older_search_queries_repo_df[join_unique_field].notna()]\n",
    "\n",
    "missing_user_join = older_search_queries_user_df[~older_search_queries_user_df[filter_field].isin(subset_search_queries_user_df[filter_field])]\n",
    "missing_repo_join = older_search_queries_repo_df[~older_search_queries_repo_df[filter_field].isin(subset_search_queries_repo_df[filter_field])]"
   ]
  },
  {
   "cell_type": "code",
   "execution_count": 66,
   "metadata": {},
   "outputs": [
    {
     "data": {
      "text/plain": [
       "(0, 12)"
      ]
     },
     "execution_count": 66,
     "metadata": {},
     "output_type": "execute_result"
    }
   ],
   "source": [
    "len(missing_user_join), len(missing_repo_join)"
   ]
  },
  {
   "cell_type": "code",
   "execution_count": 67,
   "metadata": {},
   "outputs": [],
   "source": [
    "time_field = 'search_query_time' \n",
    "cleaned_field = 'cleaned_search_query_time' \n",
    "missing_user_join[cleaned_field] = None\n",
    "missing_repo_join[cleaned_field] = None\n",
    "missing_user_join.loc[missing_user_join[time_field].isna(), cleaned_field] = '2022-10-10'\n",
    "missing_repo_join.loc[missing_repo_join[time_field].isna(), cleaned_field] = '2022-10-10'\n",
    "missing_user_join[cleaned_field] = pd.to_datetime(missing_user_join[time_field], errors='coerce')\n",
    "missing_repo_join[cleaned_field] = pd.to_datetime(missing_repo_join[time_field], errors='coerce')\n",
    "missing_user_join['cleaned_search_query'] = missing_user_join['search_query'].str.replace('%22', '\"').str.replace('%3A', ':').str.split('&page').str[0]\n",
    "missing_repo_join['cleaned_search_query'] = missing_repo_join['search_query'].str.replace('%22', '\"').str.replace('%3A', ':').str.split('&page').str[0]\n",
    "missing_user_join = missing_user_join.sort_values(by=[cleaned_field]).drop_duplicates(subset=['id', 'cleaned_search_query'], keep='first').drop(columns=[cleaned_field, 'cleaned_search_query'])\n",
    "missing_repo_join = missing_repo_join.sort_values(by=[cleaned_field]).drop_duplicates(subset=['id', 'cleaned_search_query'], keep='first').drop(columns=[cleaned_field, 'cleaned_search_query'])"
   ]
  },
  {
   "cell_type": "code",
   "execution_count": 68,
   "metadata": {},
   "outputs": [],
   "source": [
    "join_user_files_df = pd.concat([subset_search_queries_user_df, missing_user_join])\n",
    "join_user_files_df = join_user_files_df.drop_duplicates(subset=['id',join_unique_field])\n",
    "join_repo_files_df = pd.concat([subset_search_queries_repo_df, missing_repo_join])\n",
    "join_repo_files_df = join_repo_files_df.drop_duplicates(subset=['id',join_unique_field])"
   ]
  },
  {
   "cell_type": "code",
   "execution_count": 69,
   "metadata": {},
   "outputs": [
    {
     "data": {
      "text/plain": [
       "(2608, 928)"
      ]
     },
     "execution_count": 69,
     "metadata": {},
     "output_type": "execute_result"
    }
   ],
   "source": [
    "len(join_repo_files_df), len(join_user_files_df)"
   ]
  },
  {
   "cell_type": "code",
   "execution_count": 59,
   "metadata": {},
   "outputs": [
    {
     "data": {
      "text/html": [
       "<div>\n",
       "<style scoped>\n",
       "    .dataframe tbody tr th:only-of-type {\n",
       "        vertical-align: middle;\n",
       "    }\n",
       "\n",
       "    .dataframe tbody tr th {\n",
       "        vertical-align: top;\n",
       "    }\n",
       "\n",
       "    .dataframe thead th {\n",
       "        text-align: right;\n",
       "    }\n",
       "</style>\n",
       "<table border=\"1\" class=\"dataframe\">\n",
       "  <thead>\n",
       "    <tr style=\"text-align: right;\">\n",
       "      <th></th>\n",
       "      <th>cleaned_search_query</th>\n",
       "      <th>detected_language</th>\n",
       "      <th>detected_language_confidence</th>\n",
       "      <th>search_query</th>\n",
       "      <th>search_query_time</th>\n",
       "      <th>search_term_source</th>\n",
       "    </tr>\n",
       "  </thead>\n",
       "  <tbody>\n",
       "    <tr>\n",
       "      <th>2191</th>\n",
       "      <td>NaN</td>\n",
       "      <td>NaN</td>\n",
       "      <td>NaN</td>\n",
       "      <td>https://api.github.com/search/users?q=\"Humanit...</td>\n",
       "      <td>2023-03-30</td>\n",
       "      <td>Humanities</td>\n",
       "    </tr>\n",
       "    <tr>\n",
       "      <th>3321</th>\n",
       "      <td>NaN</td>\n",
       "      <td>NaN</td>\n",
       "      <td>NaN</td>\n",
       "      <td>https://api.github.com/search/users?q=Computat...</td>\n",
       "      <td>2023-03-30</td>\n",
       "      <td>Computational Humanities</td>\n",
       "    </tr>\n",
       "    <tr>\n",
       "      <th>3369</th>\n",
       "      <td>NaN</td>\n",
       "      <td>NaN</td>\n",
       "      <td>NaN</td>\n",
       "      <td>https://api.github.com/search/users?q=Humaniti...</td>\n",
       "      <td>2023-03-30</td>\n",
       "      <td>Computational Humanities</td>\n",
       "    </tr>\n",
       "    <tr>\n",
       "      <th>3416</th>\n",
       "      <td>NaN</td>\n",
       "      <td>NaN</td>\n",
       "      <td>NaN</td>\n",
       "      <td>https://api.github.com/search/users?q=\"Computa...</td>\n",
       "      <td>2023-03-30</td>\n",
       "      <td>Computational Humanities</td>\n",
       "    </tr>\n",
       "  </tbody>\n",
       "</table>\n",
       "</div>"
      ],
      "text/plain": [
       "     cleaned_search_query detected_language  detected_language_confidence  \\\n",
       "2191                  NaN               NaN                           NaN   \n",
       "3321                  NaN               NaN                           NaN   \n",
       "3369                  NaN               NaN                           NaN   \n",
       "3416                  NaN               NaN                           NaN   \n",
       "\n",
       "                                           search_query search_query_time  \\\n",
       "2191  https://api.github.com/search/users?q=\"Humanit...        2023-03-30   \n",
       "3321  https://api.github.com/search/users?q=Computat...        2023-03-30   \n",
       "3369  https://api.github.com/search/users?q=Humaniti...        2023-03-30   \n",
       "3416  https://api.github.com/search/users?q=\"Computa...        2023-03-30   \n",
       "\n",
       "            search_term_source  \n",
       "2191                Humanities  \n",
       "3321  Computational Humanities  \n",
       "3369  Computational Humanities  \n",
       "3416  Computational Humanities  "
      ]
     },
     "execution_count": 59,
     "metadata": {},
     "output_type": "execute_result"
    }
   ],
   "source": [
    "join_user_files_df[join_user_files_df.login == \"mromanello\"][['cleaned_search_query', 'detected_language', 'detected_language_confidence', 'search_query', 'search_query_time', 'search_term_source']]"
   ]
  },
  {
   "cell_type": "code",
   "execution_count": 7,
   "metadata": {},
   "outputs": [],
   "source": [
    "missing_repos = new_dh_repos[~new_dh_repos.full_name.isin(subset_search_queries_repo_df.full_name)]\n",
    "missing_users = new_dh_users[~new_dh_users.login.isin(subset_search_queries_user_df.login)]"
   ]
  },
  {
   "cell_type": "code",
   "execution_count": 8,
   "metadata": {},
   "outputs": [
    {
     "data": {
      "text/plain": [
       "(0, 0, 0, 0)"
      ]
     },
     "execution_count": 8,
     "metadata": {},
     "output_type": "execute_result"
    }
   ],
   "source": [
    "len(missing_repos), len(missing_users), len(missing_repos[missing_repos.full_name.isin(repo_df.full_name.unique())]), len(missing_users[missing_users.login.isin(user_df.login.unique())])"
   ]
  },
  {
   "attachments": {},
   "cell_type": "markdown",
   "metadata": {},
   "source": [
    "###### Initial Fix for Errors"
   ]
  },
  {
   "cell_type": "code",
   "execution_count": 10,
   "metadata": {},
   "outputs": [],
   "source": [
    "fix_queries = subset_search_queries_repo_df[subset_search_queries_repo_df.cleaned_search_query.str.contains('q=\"Humanities\"')]"
   ]
  },
  {
   "cell_type": "code",
   "execution_count": 11,
   "metadata": {},
   "outputs": [],
   "source": [
    "replace_queries = search_queries_repo_df[(search_queries_repo_df.full_name.isin(fix_queries.full_name)) & (search_queries_repo_df.search_term_source == \"Digital Humanities\")][['full_name', 'search_query']]"
   ]
  },
  {
   "cell_type": "code",
   "execution_count": 12,
   "metadata": {},
   "outputs": [],
   "source": [
    "subset_search_queries_repo_df.loc[subset_search_queries_repo_df.full_name.isin(fix_queries.full_name), 'cleaned_search_query'] = subset_search_queries_repo_df.loc[subset_search_queries_repo_df.full_name.isin(fix_queries.full_name), 'full_name'].map(replace_queries.set_index('full_name').to_dict()['search_query'])"
   ]
  },
  {
   "cell_type": "code",
   "execution_count": 65,
   "metadata": {},
   "outputs": [],
   "source": [
    "subset_search_queries_repo_df = subset_search_queries_repo_df[subset_search_queries_repo_df.finalized_language != 'Gallo 便告知美国大使馆工作人员在广场上并未目击到群众遭遇枪击 在这期间只有听到零星的枪声 251']\n",
    "subset_search_queries_repo_df = subset_search_queries_repo_df[subset_search_queries_repo_df.search_term != 'I-Digital Humanities']"
   ]
  },
  {
   "cell_type": "code",
   "execution_count": 14,
   "metadata": {},
   "outputs": [],
   "source": [
    "subset_search_queries_repo_df.loc[(subset_search_queries_repo_df.finalized_language == 'None'), 'finalized_language'] = None\n",
    "subset_search_queries_repo_df.loc[(subset_search_queries_repo_df.keep_resource == True) & (subset_search_queries_repo_df.finalized_language.isna()), 'finalized_language'] = subset_search_queries_repo_df.loc[(subset_search_queries_repo_df.keep_resource == True) & (subset_search_queries_repo_df.finalized_language.isna()), 'detected_language']"
   ]
  },
  {
   "cell_type": "code",
   "execution_count": 15,
   "metadata": {},
   "outputs": [],
   "source": [
    "subset_search_queries_repo_df['updated_natural_language'] = None\n",
    "subset_search_queries_repo_df.loc[~subset_search_queries_repo_df.natural_language.str.contains(','), 'updated_natural_language'] = subset_search_queries_repo_df.natural_language\n",
    "\n",
    "subset_search_queries_repo_df.loc[(subset_search_queries_repo_df.natural_language.str.contains(',')) & (subset_search_queries_repo_df.natural_language.str.contains('fr')), 'updated_natural_language'] = 'fr'\n",
    "subset_search_queries_repo_df.loc[(subset_search_queries_repo_df.natural_language.str.contains(',')) & (subset_search_queries_repo_df.natural_language.str.contains('en')), 'updated_natural_language'] = 'en'"
   ]
  },
  {
   "cell_type": "code",
   "execution_count": 71,
   "metadata": {},
   "outputs": [],
   "source": [
    "subset_search_queries_repo_df.loc[(subset_search_queries_repo_df.finalized_language.str.contains(',', na=False)) , 'updated_natural_language'] = subset_search_queries_repo_df.finalized_language.str.split(',').str[0]"
   ]
  },
  {
   "cell_type": "code",
   "execution_count": 13,
   "metadata": {},
   "outputs": [
    {
     "data": {
      "text/plain": [
       "en        785\n",
       "it         35\n",
       "es         26\n",
       "pt         17\n",
       "en, de     10\n",
       "de          8\n",
       "en, it      7\n",
       "fr          7\n",
       "en, es      7\n",
       "en, fi      5\n",
       "it, en      4\n",
       "en, ru      3\n",
       "de, en      3\n",
       "zh          1\n",
       "he, en      1\n",
       "ru, en      1\n",
       "None        1\n",
       "zh-TW       1\n",
       "pl          1\n",
       "en, nl      1\n",
       "ko          1\n",
       "no          1\n",
       "en, el      1\n",
       "et          1\n",
       "en, sr      1\n",
       "ru          1\n",
       "en, fr      1\n",
       "fr, en      1\n",
       "Name: finalized_language, dtype: int64"
      ]
     },
     "execution_count": 13,
     "metadata": {},
     "output_type": "execute_result"
    }
   ],
   "source": [
    "subset_search_queries_user_df.finalized_language.value_counts()"
   ]
  },
  {
   "cell_type": "code",
   "execution_count": 11,
   "metadata": {},
   "outputs": [
    {
     "data": {
      "text/plain": [
       "en    6\n",
       "de    1\n",
       "fy    1\n",
       "Name: updated_natural_language, dtype: int64"
      ]
     },
     "execution_count": 11,
     "metadata": {},
     "output_type": "execute_result"
    }
   ],
   "source": [
    "subset_search_queries_repo_df[(subset_search_queries_repo_df.finalized_language.str.contains(',', na=False))].updated_natural_language.value_counts()"
   ]
  },
  {
   "cell_type": "code",
   "execution_count": 9,
   "metadata": {},
   "outputs": [
    {
     "data": {
      "text/plain": [
       "en    2114\n",
       "zh     142\n",
       "it      62\n",
       "es      57\n",
       "fr      34\n",
       "pt      18\n",
       "vi      16\n",
       "de       4\n",
       "sv       3\n",
       "fy       3\n",
       "id       3\n",
       "et       1\n",
       "fi       1\n",
       "ru       1\n",
       "Name: updated_natural_language, dtype: int64"
      ]
     },
     "execution_count": 9,
     "metadata": {},
     "output_type": "execute_result"
    }
   ],
   "source": [
    "subset_search_queries_repo_df.updated_natural_language.value_counts()"
   ]
  },
  {
   "cell_type": "code",
   "execution_count": 16,
   "metadata": {},
   "outputs": [
    {
     "data": {
      "text/plain": [
       "(2424, 2440, 862, 1710)"
      ]
     },
     "execution_count": 16,
     "metadata": {},
     "output_type": "execute_result"
    }
   ],
   "source": [
    "len(subset_search_queries_repo_df), len(new_dh_repos), len(subset_search_queries_user_df), len(new_dh_users)"
   ]
  },
  {
   "cell_type": "code",
   "execution_count": 17,
   "metadata": {},
   "outputs": [],
   "source": [
    "missing_repos = subset_search_queries_repo_df[~subset_search_queries_repo_df.full_name.isin(new_dh_repos.full_name)]\n",
    "missing_users = subset_search_queries_user_df[~subset_search_queries_user_df.login.isin(new_dh_users.login)]"
   ]
  },
  {
   "cell_type": "code",
   "execution_count": 18,
   "metadata": {},
   "outputs": [
    {
     "data": {
      "text/plain": [
       "(172, 0)"
      ]
     },
     "execution_count": 18,
     "metadata": {},
     "output_type": "execute_result"
    }
   ],
   "source": [
    "len(missing_repos), len(missing_users)"
   ]
  },
  {
   "attachments": {},
   "cell_type": "markdown",
   "metadata": {},
   "source": [
    "##### Check Older Files"
   ]
  },
  {
   "cell_type": "code",
   "execution_count": 102,
   "metadata": {},
   "outputs": [],
   "source": [
    "import sys\n",
    "sys.path.append(\"..\")\n",
    "\n",
    "from data_generation_scripts.utils import read_combine_files"
   ]
  },
  {
   "cell_type": "code",
   "execution_count": 41,
   "metadata": {},
   "outputs": [],
   "source": [
    "\n",
    "older_user_search_queries = read_combine_files(\"../data/older_files/join_files/\", \"search_queries_user_join_dataset\")\n",
    "older_repo_search_queries = read_combine_files(\"../data/older_files/join_files/\", \"search_queries_repo_join_dataset\")"
   ]
  },
  {
   "cell_type": "code",
   "execution_count": 42,
   "metadata": {},
   "outputs": [
    {
     "data": {
      "text/plain": [
       "(33193, 58073)"
      ]
     },
     "execution_count": 42,
     "metadata": {},
     "output_type": "execute_result"
    }
   ],
   "source": [
    "all_user_search_queries = pd.concat([search_queries_user_df, older_user_search_queries])\n",
    "all_repo_search_queries = pd.concat([search_queries_repo_df, older_repo_search_queries])\n",
    "len(all_user_search_queries), len(all_repo_search_queries)"
   ]
  },
  {
   "cell_type": "code",
   "execution_count": 12,
   "metadata": {},
   "outputs": [],
   "source": [
    "join_unique_field = \"search_query\""
   ]
  },
  {
   "cell_type": "code",
   "execution_count": 16,
   "metadata": {},
   "outputs": [],
   "source": [
    "join_repo_file_path = \"../data/join_files/search_queries_repo_join_dataset.csv\""
   ]
  },
  {
   "cell_type": "code",
   "execution_count": 18,
   "metadata": {},
   "outputs": [
    {
     "data": {
      "text/plain": [
       "'../data/older_files/join_files/search_queries_repo_join_dataset.csv'"
      ]
     },
     "execution_count": 18,
     "metadata": {},
     "output_type": "execute_result"
    }
   ],
   "source": [
    "older_join_file_path = join_repo_file_path.replace('data/', 'data/older_files/')\n",
    "older_join_file_path"
   ]
  },
  {
   "cell_type": "code",
   "execution_count": 21,
   "metadata": {},
   "outputs": [],
   "source": [
    "large_join_file_path = join_repo_file_path.replace('data/', 'data/large_files/')\n",
    "large_join_file_path = large_join_file_path.replace('data/', 'data/older_files/')"
   ]
  },
  {
   "cell_type": "code",
   "execution_count": 23,
   "metadata": {},
   "outputs": [],
   "source": [
    "older_join_file_dir = os.path.dirname(older_join_file_path) + '/'"
   ]
  },
  {
   "cell_type": "code",
   "execution_count": 22,
   "metadata": {},
   "outputs": [
    {
     "data": {
      "text/plain": [
       "'../data/older_files/large_files/join_files/search_queries_repo_join_dataset.csv'"
      ]
     },
     "execution_count": 22,
     "metadata": {},
     "output_type": "execute_result"
    }
   ],
   "source": [
    "large_join_file_path"
   ]
  },
  {
   "cell_type": "code",
   "execution_count": null,
   "metadata": {},
   "outputs": [],
   "source": [
    "test = read_combine_files(\"../data\", \"search_queries_repo_join_dataset\")"
   ]
  },
  {
   "cell_type": "code",
   "execution_count": 43,
   "metadata": {},
   "outputs": [],
   "source": [
    "\n",
    "join_user_file_path = \"../data/join_files/search_queries_user_join_dataset.csv\"\n",
    "join_repo_file_path = \"../data/join_files/search_queries_repo_join_dataset.csv\"\n",
    "initial_user_output_path = \"../data/user_data/\"\n",
    "join_user_type = join_user_file_path.split('/')[-1].split('_dataset')[0]\n",
    "join_repo_type = join_repo_file_path.split('/')[-1].split('_dataset')[0]\n",
    "\n",
    "older_join_user_file_path = join_user_file_path.replace('data/', 'data/older_files/')\n",
    "older_join_repo_file_path = join_repo_file_path.replace('data/', 'data/older_files/')\n",
    "older_join_user_file_dir = os.path.dirname(older_join_user_file_path) + '/'\n",
    "older_join_repo_file_dir = os.path.dirname(older_join_repo_file_path) + '/'"
   ]
  },
  {
   "cell_type": "code",
   "execution_count": 44,
   "metadata": {},
   "outputs": [
    {
     "data": {
      "text/plain": [
       "(33193, 51570)"
      ]
     },
     "execution_count": 44,
     "metadata": {},
     "output_type": "execute_result"
    }
   ],
   "source": [
    "older_join_user_df = all_user_search_queries[all_user_search_queries[join_unique_field].notna()]\n",
    "older_join_repo_df = all_repo_search_queries[all_repo_search_queries[join_unique_field].notna()]\n",
    "len(older_join_user_df), len(older_join_repo_df)"
   ]
  },
  {
   "cell_type": "code",
   "execution_count": 46,
   "metadata": {},
   "outputs": [
    {
     "data": {
      "text/plain": [
       "(238, 482)"
      ]
     },
     "execution_count": 46,
     "metadata": {},
     "output_type": "execute_result"
    }
   ],
   "source": [
    "missing_user_join = older_join_user_df[~older_join_user_df.id.isin(subset_search_queries_user_df.id)]\n",
    "missing_repo_join = older_join_repo_df[~older_join_repo_df.id.isin(subset_search_queries_repo_df.id)]\n",
    "missing_user_join = missing_user_join[missing_user_join.search_term_source == 'Digital Humanities']\n",
    "missing_repo_join = missing_repo_join[missing_repo_join.search_term_source == 'Digital Humanities']\n",
    "len(missing_user_join), len(missing_repo_join)"
   ]
  },
  {
   "cell_type": "code",
   "execution_count": 14,
   "metadata": {},
   "outputs": [
    {
     "data": {
      "text/plain": [
       "(4, 8)"
      ]
     },
     "execution_count": 14,
     "metadata": {},
     "output_type": "execute_result"
    }
   ],
   "source": [
    "missing_user_join = missing_users\n",
    "missing_repo_join = missing_repos\n",
    "len(missing_user_join), len(missing_repo_join)"
   ]
  },
  {
   "cell_type": "code",
   "execution_count": 15,
   "metadata": {},
   "outputs": [],
   "source": [
    "time_field = 'search_query_time'\n",
    "cleaned_field = 'cleaned_search_query_time'\n",
    "missing_user_join[cleaned_field] = None\n",
    "missing_user_join.loc[missing_user_join[time_field].isna(), cleaned_field] = '2022-10-10'\n",
    "missing_user_join[cleaned_field] = pd.to_datetime(missing_user_join[time_field], errors='coerce')\n",
    "missing_user_join['cleaned_search_query'] = missing_user_join['search_query'].str.replace('%22', '\"').str.replace('%3A', ':').str.split('&page').str[0]\n",
    "missing_user_join = missing_user_join.sort_values(by=[cleaned_field]).drop_duplicates(subset=['id', 'cleaned_search_query'], keep='first').drop(columns=[cleaned_field, 'cleaned_search_query'])\n",
    "\n",
    "\n",
    "missing_repo_join[cleaned_field] = None\n",
    "missing_repo_join.loc[missing_repo_join[time_field].isna(), cleaned_field] = '2022-10-10'\n",
    "missing_repo_join[cleaned_field] = pd.to_datetime(missing_repo_join[time_field], errors='coerce')\n",
    "missing_repo_join['cleaned_search_query'] = missing_repo_join['search_query'].str.replace('%22', '\"').str.replace('%3A', ':').str.split('&page').str[0]\n",
    "missing_repo_join = missing_repo_join.sort_values(by=[cleaned_field]).drop_duplicates(subset=['id', 'cleaned_search_query'], keep='first').drop(columns=[cleaned_field, 'cleaned_search_query'])"
   ]
  },
  {
   "cell_type": "code",
   "execution_count": 16,
   "metadata": {},
   "outputs": [
    {
     "data": {
      "text/plain": [
       "(4, 8)"
      ]
     },
     "execution_count": 16,
     "metadata": {},
     "output_type": "execute_result"
    }
   ],
   "source": [
    "len(missing_user_join), len(missing_repo_join)"
   ]
  },
  {
   "cell_type": "code",
   "execution_count": 17,
   "metadata": {},
   "outputs": [],
   "source": [
    "join_user_files_df = pd.concat([subset_search_queries_user_df, missing_user_join])\n",
    "join_user_files_df = join_user_files_df.drop_duplicates(subset=['id',join_unique_field])\n",
    "\n",
    "join_repo_files_df = pd.concat([subset_search_queries_repo_df, missing_repo_join])\n",
    "join_repo_files_df = join_repo_files_df.drop_duplicates(subset=['id',join_unique_field])"
   ]
  },
  {
   "cell_type": "code",
   "execution_count": 22,
   "metadata": {},
   "outputs": [
    {
     "data": {
      "text/plain": [
       "(0, 8)"
      ]
     },
     "execution_count": 22,
     "metadata": {},
     "output_type": "execute_result"
    }
   ],
   "source": [
    "excluded_users = pd.read_csv('../data/metadata_files/excluded_users.csv')\n",
    "missing_users = join_user_files_df[(~join_user_files_df.login.isin(user_df.login.unique())) & (~join_user_files_df.login.isin(excluded_users.login.unique()))]\n",
    "\n",
    "errored_repos = pd.read_csv('../data/error_logs/potential_repos_errors.csv')\n",
    "missing_repos = join_repo_files_df[(~join_repo_files_df.full_name.isin(repo_df.full_name.unique())) & (~join_repo_files_df.full_name.isin(errored_repos.full_name.unique()))]\n",
    "len(missing_users), len(missing_repos)"
   ]
  },
  {
   "cell_type": "code",
   "execution_count": 13,
   "metadata": {},
   "outputs": [
    {
     "name": "stdout",
     "output_type": "stream",
     "text": [
      "Number of new users: 0\n"
     ]
    }
   ],
   "source": [
    "if len(missing_users) > 0:\n",
    "    import sys\n",
    "    sys.path.append(\"..\")\n",
    "    from data_generation_scripts.utils import check_add_users\n",
    "    missing_users[\"url\"] = missing_users.login.apply(\n",
    "        lambda x: f\"https://api.github.com/users/{x}\")\n",
    "    check_add_users(missing_users, users_output_path=\"../data/entity_files/users_dataset.csv\",\n",
    "                    return_df=False, overwrite_existing_temp_files=False)"
   ]
  },
  {
   "cell_type": "code",
   "execution_count": 15,
   "metadata": {},
   "outputs": [
    {
     "name": "stdout",
     "output_type": "stream",
     "text": [
      "Number of repos: 344846 1684605091.435793\n",
      "Number of new repos: 0 1684605091.4506822\n",
      "Number of repos: 344846 1684605092.72048 inner else statement\n",
      "Number of repos: 344846, checking if older file exists 1684605092.7206862\n",
      "Repo file updated 1684605112.282505\n"
     ]
    }
   ],
   "source": [
    "if len(missing_repos) > 0:\n",
    "    import sys\n",
    "    sys.path.append(\"..\")\n",
    "    from data_generation_scripts.utils import check_add_repos\n",
    "    check_add_repos(missing_repos, repo_output_path, return_df=False)"
   ]
  },
  {
   "cell_type": "code",
   "execution_count": 18,
   "metadata": {},
   "outputs": [],
   "source": [
    "join_user_files_df['cleaned_search_query'] = join_user_files_df['search_query'].str.replace('%22', '\"').str.replace('%3A', ':').str.split('&page').str[0]\n",
    "\n",
    "join_repo_files_df['cleaned_search_query'] = join_repo_files_df['search_query'].str.replace('%22', '\"').str.replace('%3A', ':').str.split('&page').str[0]"
   ]
  },
  {
   "cell_type": "code",
   "execution_count": 19,
   "metadata": {},
   "outputs": [
    {
     "data": {
      "text/plain": [
       "(928, 986, 2604, 2966)"
      ]
     },
     "execution_count": 19,
     "metadata": {},
     "output_type": "execute_result"
    }
   ],
   "source": [
    "len(join_user_files_df), len(subset_search_queries_user_df), len(join_repo_files_df), len(subset_search_queries_repo_df)"
   ]
  },
  {
   "cell_type": "code",
   "execution_count": 26,
   "metadata": {},
   "outputs": [
    {
     "data": {
      "text/html": [
       "<div>\n",
       "<style scoped>\n",
       "    .dataframe tbody tr th:only-of-type {\n",
       "        vertical-align: middle;\n",
       "    }\n",
       "\n",
       "    .dataframe tbody tr th {\n",
       "        vertical-align: top;\n",
       "    }\n",
       "\n",
       "    .dataframe thead th {\n",
       "        text-align: right;\n",
       "    }\n",
       "</style>\n",
       "<table border=\"1\" class=\"dataframe\">\n",
       "  <thead>\n",
       "    <tr style=\"text-align: right;\">\n",
       "      <th></th>\n",
       "      <th>full_name</th>\n",
       "      <th>detected_language</th>\n",
       "      <th>description</th>\n",
       "    </tr>\n",
       "  </thead>\n",
       "  <tbody>\n",
       "    <tr>\n",
       "      <th>5203</th>\n",
       "      <td>KUBDatalab/Digital-humaniora-og-programmering-...</td>\n",
       "      <td>NaN</td>\n",
       "      <td>Python</td>\n",
       "    </tr>\n",
       "    <tr>\n",
       "      <th>5294</th>\n",
       "      <td>AydanPirani/Digital-Humanities-Project</td>\n",
       "      <td>NaN</td>\n",
       "      <td>Source code for digital humanities project con...</td>\n",
       "    </tr>\n",
       "    <tr>\n",
       "      <th>5794</th>\n",
       "      <td>siwariraqi/Digital-Humanities---Women-role-in-...</td>\n",
       "      <td>NaN</td>\n",
       "      <td>NaN</td>\n",
       "    </tr>\n",
       "    <tr>\n",
       "      <th>5858</th>\n",
       "      <td>WayerLiu/fdh_jerusalem.github.io</td>\n",
       "      <td>NaN</td>\n",
       "      <td>Project Jerusalem: locating the colonies and n...</td>\n",
       "    </tr>\n",
       "    <tr>\n",
       "      <th>5878</th>\n",
       "      <td>gu-gridh/dh-master-programming</td>\n",
       "      <td>NaN</td>\n",
       "      <td>A repository for the programming course at the...</td>\n",
       "    </tr>\n",
       "    <tr>\n",
       "      <th>5891</th>\n",
       "      <td>tx-student-dh/capitol_project</td>\n",
       "      <td>NaN</td>\n",
       "      <td>This is a digital humanities project analyzing...</td>\n",
       "    </tr>\n",
       "    <tr>\n",
       "      <th>5906</th>\n",
       "      <td>quadrismegistus/intertxt</td>\n",
       "      <td>NaN</td>\n",
       "      <td>Code, data, and models to examine cultural pro...</td>\n",
       "    </tr>\n",
       "    <tr>\n",
       "      <th>7796</th>\n",
       "      <td>realeroberto/sorrento</td>\n",
       "      <td>NaN</td>\n",
       "      <td>Folk poetry from Sorrento Peninsula.</td>\n",
       "    </tr>\n",
       "  </tbody>\n",
       "</table>\n",
       "</div>"
      ],
      "text/plain": [
       "                                              full_name detected_language  \\\n",
       "5203  KUBDatalab/Digital-humaniora-og-programmering-...               NaN   \n",
       "5294             AydanPirani/Digital-Humanities-Project               NaN   \n",
       "5794  siwariraqi/Digital-Humanities---Women-role-in-...               NaN   \n",
       "5858                   WayerLiu/fdh_jerusalem.github.io               NaN   \n",
       "5878                     gu-gridh/dh-master-programming               NaN   \n",
       "5891                      tx-student-dh/capitol_project               NaN   \n",
       "5906                           quadrismegistus/intertxt               NaN   \n",
       "7796                              realeroberto/sorrento               NaN   \n",
       "\n",
       "                                            description  \n",
       "5203                                             Python  \n",
       "5294  Source code for digital humanities project con...  \n",
       "5794                                                NaN  \n",
       "5858  Project Jerusalem: locating the colonies and n...  \n",
       "5878  A repository for the programming course at the...  \n",
       "5891  This is a digital humanities project analyzing...  \n",
       "5906  Code, data, and models to examine cultural pro...  \n",
       "7796               Folk poetry from Sorrento Peninsula.  "
      ]
     },
     "execution_count": 26,
     "metadata": {},
     "output_type": "execute_result"
    }
   ],
   "source": [
    "join_repo_files_df[(join_repo_files_df.full_name.isin(missing_repos.full_name.unique()))][['full_name', 'detected_language','description']]"
   ]
  },
  {
   "cell_type": "code",
   "execution_count": 27,
   "metadata": {},
   "outputs": [
    {
     "data": {
      "text/plain": [
       "(0, 24)"
      ]
     },
     "execution_count": 27,
     "metadata": {},
     "output_type": "execute_result"
    }
   ],
   "source": [
    "missing_user_languages = join_user_files_df[(join_user_files_df['detected_language'].isna()) & (join_user_files_df.bio.str.len() > 0 )]\n",
    "missing_repo_languages = join_repo_files_df[(join_repo_files_df['detected_language'].isna()) & (join_repo_files_df.description.str.len() > 0 )]\n",
    "len(missing_user_languages), len(missing_repo_languages)"
   ]
  },
  {
   "cell_type": "code",
   "execution_count": 28,
   "metadata": {},
   "outputs": [
    {
     "name": "stderr",
     "output_type": "stream",
     "text": [
      "Detecting language: 100%|██████████| 24/24 [00:01<00:00, 15.33it/s]\n"
     ]
    }
   ],
   "source": [
    "if len(missing_user_languages)> 0:\n",
    "    import sys\n",
    "    sys.path.append(\"..\")\n",
    "    from data_generation_scripts.generate_translations import check_detect_language\n",
    "    from tqdm import tqdm\n",
    "    tqdm.pandas(desc='Detecting language')\n",
    "    missing_user_languages.bio = missing_user_languages.bio.fillna('')\n",
    "    join_user_files_df.loc[missing_user_languages.index] = missing_user_languages.progress_apply(check_detect_language, axis=1, is_repo=False)\n",
    "\n",
    "\n",
    "if len(missing_repo_languages)> 0:\n",
    "    import sys\n",
    "    sys.path.append(\"..\")\n",
    "    from data_generation_scripts.generate_translations import check_detect_language\n",
    "    from tqdm import tqdm\n",
    "    tqdm.pandas(desc='Detecting language')\n",
    "    missing_repo_languages.description = missing_repo_languages.description.fillna('')\n",
    "    join_repo_files_df.loc[missing_repo_languages.index] = missing_repo_languages.progress_apply(check_detect_language, axis=1, is_repo=True)\n"
   ]
  },
  {
   "cell_type": "code",
   "execution_count": 29,
   "metadata": {},
   "outputs": [],
   "source": [
    "updated_user_join_path = \"../data/derived_files/updated_search_queries_user_join_subset_dh_dataset.csv\"\n",
    "updated_repo_join_path = \"../data/derived_files/updated_search_queries_repo_join_subset_dh_dataset.csv\"\n",
    "check_if_older_file_exists(updated_user_join_path)\n",
    "check_if_older_file_exists(updated_repo_join_path)"
   ]
  },
  {
   "cell_type": "code",
   "execution_count": 30,
   "metadata": {},
   "outputs": [],
   "source": [
    "join_repo_files_df.to_csv(updated_repo_join_path, index=False)\n",
    "join_user_files_df.to_csv(updated_user_join_path, index=False)"
   ]
  },
  {
   "cell_type": "code",
   "execution_count": 109,
   "metadata": {},
   "outputs": [],
   "source": [
    "subset_search_queries_repo_df['cleaned_search_query'] = subset_search_queries_repo_df.search_query.str.replace('%22', '\"').str.replace('%3A', ':').str.split('&page').str[0]\n",
    "subset_search_queries_user_df['cleaned_search_query'] = subset_search_queries_user_df.search_query.str.replace('%22', '\"').str.replace('%3A', ':').str.split('&page').str[0]\n"
   ]
  },
  {
   "cell_type": "code",
   "execution_count": 115,
   "metadata": {},
   "outputs": [
    {
     "data": {
      "text/html": [
       "<div>\n",
       "<style scoped>\n",
       "    .dataframe tbody tr th:only-of-type {\n",
       "        vertical-align: middle;\n",
       "    }\n",
       "\n",
       "    .dataframe tbody tr th {\n",
       "        vertical-align: top;\n",
       "    }\n",
       "\n",
       "    .dataframe thead th {\n",
       "        text-align: right;\n",
       "    }\n",
       "</style>\n",
       "<table border=\"1\" class=\"dataframe\">\n",
       "  <thead>\n",
       "    <tr style=\"text-align: right;\">\n",
       "      <th></th>\n",
       "      <th>search_type</th>\n",
       "      <th>search_term</th>\n",
       "      <th>search_term_source</th>\n",
       "      <th>full_name</th>\n",
       "      <th>updated_natural_language</th>\n",
       "    </tr>\n",
       "  </thead>\n",
       "  <tbody>\n",
       "    <tr>\n",
       "      <th>0</th>\n",
       "      <td>searched</td>\n",
       "      <td>Digitaalhumanitaaria</td>\n",
       "      <td>Digital Humanities</td>\n",
       "      <td>Digitaalhumanitaaria/Digitaalhumanitaaria.gith...</td>\n",
       "      <td>et</td>\n",
       "    </tr>\n",
       "    <tr>\n",
       "      <th>1</th>\n",
       "      <td>searched</td>\n",
       "      <td>Digitaaliset ihmistieteet</td>\n",
       "      <td>Digital Humanities</td>\n",
       "      <td>TurkuNLP/Digi_menetelmat</td>\n",
       "      <td>fi</td>\n",
       "    </tr>\n",
       "    <tr>\n",
       "      <th>2</th>\n",
       "      <td>searched</td>\n",
       "      <td>Digital humaniora</td>\n",
       "      <td>Digital Humanities</td>\n",
       "      <td>waahlstrand/metoder-inom-digital-humaniora</td>\n",
       "      <td>sv</td>\n",
       "    </tr>\n",
       "    <tr>\n",
       "      <th>3</th>\n",
       "      <td>searched</td>\n",
       "      <td>Digital humaniora</td>\n",
       "      <td>Digital Humanities</td>\n",
       "      <td>KUBDatalab/Digital-humaniora-og-programmering-1-3</td>\n",
       "      <td>sv</td>\n",
       "    </tr>\n",
       "    <tr>\n",
       "      <th>4</th>\n",
       "      <td>searched</td>\n",
       "      <td>Digital humaniora</td>\n",
       "      <td>Digital Humanities</td>\n",
       "      <td>KUBDatalab/tekst-repraesenteret-som-tal</td>\n",
       "      <td>sv</td>\n",
       "    </tr>\n",
       "    <tr>\n",
       "      <th>...</th>\n",
       "      <td>...</td>\n",
       "      <td>...</td>\n",
       "      <td>...</td>\n",
       "      <td>...</td>\n",
       "      <td>...</td>\n",
       "    </tr>\n",
       "    <tr>\n",
       "      <th>2474</th>\n",
       "      <td>searched</td>\n",
       "      <td>Digital Humanities</td>\n",
       "      <td>Digital Humanities</td>\n",
       "      <td>rebelsky/fundhum</td>\n",
       "      <td>en</td>\n",
       "    </tr>\n",
       "    <tr>\n",
       "      <th>2475</th>\n",
       "      <td>searched</td>\n",
       "      <td>Digital Humanities</td>\n",
       "      <td>Digital Humanities</td>\n",
       "      <td>truongr2468/Jekyll-and-Hyde</td>\n",
       "      <td>en</td>\n",
       "    </tr>\n",
       "    <tr>\n",
       "      <th>2476</th>\n",
       "      <td>tagged</td>\n",
       "      <td>Digital Humanities</td>\n",
       "      <td>Digital Humanities</td>\n",
       "      <td>pacian/Digital-Humanities-Toolkit</td>\n",
       "      <td>en</td>\n",
       "    </tr>\n",
       "    <tr>\n",
       "      <th>2477</th>\n",
       "      <td>tagged</td>\n",
       "      <td>Digital Humanities</td>\n",
       "      <td>Digital Humanities</td>\n",
       "      <td>Pyrrhulla/scc_hub</td>\n",
       "      <td>en</td>\n",
       "    </tr>\n",
       "    <tr>\n",
       "      <th>2478</th>\n",
       "      <td>tagged</td>\n",
       "      <td>Digital Humanities</td>\n",
       "      <td>Digital Humanities</td>\n",
       "      <td>Pyrrhulla/SCC_timeline</td>\n",
       "      <td>en</td>\n",
       "    </tr>\n",
       "  </tbody>\n",
       "</table>\n",
       "<p>2424 rows × 5 columns</p>\n",
       "</div>"
      ],
      "text/plain": [
       "     search_type                search_term  search_term_source  \\\n",
       "0       searched       Digitaalhumanitaaria  Digital Humanities   \n",
       "1       searched  Digitaaliset ihmistieteet  Digital Humanities   \n",
       "2       searched          Digital humaniora  Digital Humanities   \n",
       "3       searched          Digital humaniora  Digital Humanities   \n",
       "4       searched          Digital humaniora  Digital Humanities   \n",
       "...          ...                        ...                 ...   \n",
       "2474    searched         Digital Humanities  Digital Humanities   \n",
       "2475    searched         Digital Humanities  Digital Humanities   \n",
       "2476      tagged         Digital Humanities  Digital Humanities   \n",
       "2477      tagged         Digital Humanities  Digital Humanities   \n",
       "2478      tagged         Digital Humanities  Digital Humanities   \n",
       "\n",
       "                                              full_name  \\\n",
       "0     Digitaalhumanitaaria/Digitaalhumanitaaria.gith...   \n",
       "1                              TurkuNLP/Digi_menetelmat   \n",
       "2            waahlstrand/metoder-inom-digital-humaniora   \n",
       "3     KUBDatalab/Digital-humaniora-og-programmering-1-3   \n",
       "4               KUBDatalab/tekst-repraesenteret-som-tal   \n",
       "...                                                 ...   \n",
       "2474                                   rebelsky/fundhum   \n",
       "2475                        truongr2468/Jekyll-and-Hyde   \n",
       "2476                  pacian/Digital-Humanities-Toolkit   \n",
       "2477                                  Pyrrhulla/scc_hub   \n",
       "2478                             Pyrrhulla/SCC_timeline   \n",
       "\n",
       "     updated_natural_language  \n",
       "0                          et  \n",
       "1                          fi  \n",
       "2                          sv  \n",
       "3                          sv  \n",
       "4                          sv  \n",
       "...                       ...  \n",
       "2474                       en  \n",
       "2475                       en  \n",
       "2476                       en  \n",
       "2477                       en  \n",
       "2478                       en  \n",
       "\n",
       "[2424 rows x 5 columns]"
      ]
     },
     "execution_count": 115,
     "metadata": {},
     "output_type": "execute_result"
    }
   ],
   "source": [
    "subset_search_queries_repo_df[['search_type', 'search_term', 'search_term_source', 'full_name', 'updated_natural_language']]"
   ]
  },
  {
   "cell_type": "code",
   "execution_count": 116,
   "metadata": {},
   "outputs": [
    {
     "name": "stdout",
     "output_type": "stream",
     "text": [
      "From 37 unique queries, we found 2424 repos, of which 2322 are unique. Similarly for users we had 7 unique queries, and we found 862 total users, of which 860 are unique.\n"
     ]
    }
   ],
   "source": [
    "print(\n",
    "    f\"From {len(subset_search_queries_repo_df['cleaned_search_query'].unique())} unique queries, we found {len(subset_search_queries_repo_df)} repos, of which {subset_search_queries_repo_df.id.nunique()} are unique. Similarly for users we had {subset_search_queries_user_df.cleaned_search_query.nunique()} unique queries, and we found {len(subset_search_queries_user_df)} total users, of which {subset_search_queries_user_df.id.nunique()} are unique.\")\n"
   ]
  },
  {
   "attachments": {},
   "cell_type": "markdown",
   "metadata": {},
   "source": [
    "### Explore distribution of search results\n",
    "How often do users tag and how often do they not tag their repos DH?\n",
    "\n",
    "*Also worth noting we don't grab DH even though that's likely to be a common term*"
   ]
  },
  {
   "cell_type": "code",
   "execution_count": 173,
   "metadata": {},
   "outputs": [],
   "source": [
    "cleaned_dh_terms = pd.read_csv(\n",
    "        '../data/derived_files/grouped_cleaned_translated_dh_terms.csv', encoding='utf-8-sig')\n",
    "cleaned_dh_terms = cleaned_dh_terms.rename(columns={'language_code': 'natural_language', 'term': 'search_term', 'term_source': 'search_term_source'})"
   ]
  },
  {
   "cell_type": "code",
   "execution_count": 174,
   "metadata": {},
   "outputs": [],
   "source": [
    "lang_options = pd.read_csv('../data/metadata_files/iso_639_choices.csv')\n",
    "lang_options = lang_options.rename(columns={'language': 'natural_language', 'name': 'language_name'})"
   ]
  },
  {
   "cell_type": "code",
   "execution_count": 175,
   "metadata": {},
   "outputs": [],
   "source": [
    "merged_lang = pd.merge(cleaned_dh_terms, lang_options, on='natural_language', how='left')"
   ]
  },
  {
   "cell_type": "code",
   "execution_count": 176,
   "metadata": {},
   "outputs": [],
   "source": [
    "translated_terms = pd.read_csv('../data/derived_files/translated_dh_terms.csv', encoding='utf-8-sig')"
   ]
  },
  {
   "cell_type": "code",
   "execution_count": 177,
   "metadata": {},
   "outputs": [],
   "source": [
    "grouped_terms = pd.read_csv('../data/derived_files/grouped_cleaned_translated_dh_terms.csv', encoding='utf-8-sig')"
   ]
  },
  {
   "cell_type": "code",
   "execution_count": 178,
   "metadata": {},
   "outputs": [],
   "source": [
    "language_df = pd.read_csv(\"../data/metadata_files/iso_639_choices_directionality_wikimedia.csv\")"
   ]
  },
  {
   "cell_type": "code",
   "execution_count": 186,
   "metadata": {},
   "outputs": [
    {
     "data": {
      "text/html": [
       "<div>\n",
       "<style scoped>\n",
       "    .dataframe tbody tr th:only-of-type {\n",
       "        vertical-align: middle;\n",
       "    }\n",
       "\n",
       "    .dataframe tbody tr th {\n",
       "        vertical-align: top;\n",
       "    }\n",
       "\n",
       "    .dataframe thead th {\n",
       "        text-align: right;\n",
       "    }\n",
       "</style>\n",
       "<table border=\"1\" class=\"dataframe\">\n",
       "  <thead>\n",
       "    <tr style=\"text-align: right;\">\n",
       "      <th></th>\n",
       "      <th>code</th>\n",
       "      <th>English language name</th>\n",
       "      <th>directionality</th>\n",
       "      <th>local language name</th>\n",
       "      <th>local or English Wikipedia article</th>\n",
       "      <th>comment</th>\n",
       "    </tr>\n",
       "  </thead>\n",
       "  <tbody>\n",
       "    <tr>\n",
       "      <th>168</th>\n",
       "      <td>nl</td>\n",
       "      <td>Dutch</td>\n",
       "      <td>ltr</td>\n",
       "      <td>Nederlands</td>\n",
       "      <td>nl:Nederlands</td>\n",
       "      <td>NaN</td>\n",
       "    </tr>\n",
       "  </tbody>\n",
       "</table>\n",
       "</div>"
      ],
      "text/plain": [
       "    code English language name directionality local language name  \\\n",
       "168   nl                 Dutch            ltr          Nederlands   \n",
       "\n",
       "    local or English Wikipedia article comment  \n",
       "168                      nl:Nederlands     NaN  "
      ]
     },
     "execution_count": 186,
     "metadata": {},
     "output_type": "execute_result"
    }
   ],
   "source": [
    "language_df[language_df.code == 'nl']"
   ]
  },
  {
   "cell_type": "code",
   "execution_count": 225,
   "metadata": {},
   "outputs": [],
   "source": [
    "existing_lang_dict ={ \n",
    "    'English language name': {\n",
    "        'zh-TW': 'Chinese (Taiwan)',\n",
    "        'zh-CN': 'Chinese (Mainland China)', \n",
    "        'en, nl': 'English and Dutch', \n",
    "        'en, de': 'English and German', \n",
    "        'en, he': 'English and Hebrew', \n",
    "        'bg-Latn': 'Bulgarian (Latin)',\n",
    "        'fil': 'Filipino',\n",
    "        'zh-CH': 'Chinese', \n",
    "        'en, ru': 'English and Russian',\n",
    "    },\n",
    "    'local language name': {\n",
    "        'zh-TW': '中文（台灣）',\n",
    "        'zh-CN': '中文（中国）',\n",
    "        'en, nl': 'English & Nederlands (Dutch)',\n",
    "        'en, de': 'English & Deutsch (German)',\n",
    "        'en, he': 'English & עברית (Hebrew)',\n",
    "        'bg-Latn': 'Български (Bulgarian)',\n",
    "        'fil': 'Filipino',\n",
    "        'zh-CH': '中文',\n",
    "        'en, ru': 'English & Русский (Russian)',\n",
    "    }\n",
    "}"
   ]
  },
  {
   "cell_type": "code",
   "execution_count": 226,
   "metadata": {},
   "outputs": [],
   "source": [
    "def create_language_dict(languages, language_df):\n",
    "    lang_dict = {}\n",
    "    lang_dict['English language name'] = {}\n",
    "    lang_dict['local language name'] = {}\n",
    "    for lang in languages:\n",
    "        split_lang = lang.split(',')\n",
    "        first_lang = split_lang[0].strip()\n",
    "        if len(language_df[language_df.code == first_lang]) > 0:\n",
    "            first_english_lang = language_df[language_df.code == first_lang]['English language name'].values[0]\n",
    "            first_local_lang = language_df[language_df.code == first_lang]['local language name'].values[0]\n",
    "            if first_local_lang != first_english_lang:\n",
    "                first_local_lang = f\"{first_local_lang} ({first_english_lang})\"\n",
    "        else:\n",
    "            first_english_lang = existing_lang_dict['English language name'][first_lang]\n",
    "            first_local_lang = existing_lang_dict['local language name'][first_lang]\n",
    "            if first_local_lang != first_english_lang:\n",
    "                first_local_lang = f\"{first_local_lang} ({first_english_lang})\"\n",
    "        \n",
    "        if len(split_lang) > 1:\n",
    "            second_lang = split_lang[1].strip()\n",
    "            second_english_lang = language_df[language_df.code == second_lang]['English language name'].values[0]\n",
    "            second_local_lang = language_df[language_df.code == second_lang]['local language name'].values[0]\n",
    "            if second_local_lang != second_english_lang:\n",
    "                second_local_lang = f\"{second_local_lang} ({second_english_lang})\"\n",
    "            lang_dict['English language name'][lang] = f\"{first_english_lang} and {second_english_lang}\"\n",
    "            lang_dict['local language name'][lang] = f\"{first_local_lang} & {second_local_lang}\"\n",
    "        else:\n",
    "            lang_dict['English language name'][lang] = first_english_lang\n",
    "            lang_dict['local language name'][lang] = first_local_lang\n",
    "    return lang_dict"
   ]
  },
  {
   "cell_type": "code",
   "execution_count": 227,
   "metadata": {},
   "outputs": [],
   "source": [
    "repo_languages= subset_search_queries_repo_df[(subset_search_queries_repo_df.finalized_language.str.contains(',', na=False)) | (subset_search_queries_repo_df.finalized_language.str.contains('-', na=False))].finalized_language.unique().tolist()\n",
    "updated_repo_language_dict = create_language_dict(repo_languages, language_df)\n",
    "\n",
    "user_languages = subset_search_queries_user_df[(subset_search_queries_user_df.finalized_language.str.contains(',', na=False)) | (subset_search_queries_user_df.finalized_language.str.contains('-', na=False))].finalized_language.unique().tolist()\n",
    "updated_user_language_dict = create_language_dict(user_languages, language_df)"
   ]
  },
  {
   "cell_type": "code",
   "execution_count": 228,
   "metadata": {},
   "outputs": [],
   "source": [
    "merged_repo_df = pd.merge(subset_search_queries_repo_df, language_df[['code', 'English language name', 'directionality', 'local language name']], left_on='finalized_language', right_on='code', how='left')\n",
    "\n",
    "merged_user_df = pd.merge(subset_search_queries_user_df, language_df[['code', 'English language name', 'directionality', 'local language name']], left_on='finalized_language', right_on='code', how='left')"
   ]
  },
  {
   "cell_type": "code",
   "execution_count": 229,
   "metadata": {},
   "outputs": [],
   "source": [
    "# subset_search_queries_repo_df[subset_search_queries_repo_df.updated_natural_language != subset_search_queries_repo_df.finalized_language]"
   ]
  },
  {
   "cell_type": "code",
   "execution_count": 230,
   "metadata": {},
   "outputs": [],
   "source": [
    "merged_repo_df.loc[merged_repo_df.code.isna(), 'English language name'] = merged_repo_df.finalized_language.map(updated_repo_language_dict['English language name'])\n",
    "merged_repo_df.loc[merged_repo_df.code.isna(), 'local language name'] = merged_repo_df.finalized_language.map(updated_repo_language_dict['local language name'])\n",
    "\n",
    "merged_user_df.loc[merged_user_df.code.isna(), 'English language name'] = merged_user_df.finalized_language.map(updated_user_language_dict['English language name'])\n",
    "\n",
    "merged_user_df.loc[merged_user_df.code.isna(), 'local language name'] = merged_user_df.finalized_language.map(updated_user_language_dict['local language name'])"
   ]
  },
  {
   "cell_type": "code",
   "execution_count": 231,
   "metadata": {},
   "outputs": [],
   "source": [
    "all_potential_languages = translated_terms[(translated_terms.translated_term.notna()) & (translated_terms.term_source == 'Digital Humanities')]"
   ]
  },
  {
   "cell_type": "code",
   "execution_count": 232,
   "metadata": {},
   "outputs": [],
   "source": [
    "grouped_repo_languages = merged_repo_df.groupby(['English language name', 'local language name', 'search_type', 'finalized_language', 'search_term']).size().reset_index(name='repo_counts')\n",
    "\n",
    "grouped_user_languages = merged_user_df.groupby(['English language name', 'local language name','search_type', 'finalized_language', 'search_term']).size().reset_index(name='user_counts')"
   ]
  },
  {
   "cell_type": "code",
   "execution_count": 233,
   "metadata": {},
   "outputs": [],
   "source": [
    "all_potential_languages.loc[(all_potential_languages.term.notna()) & (all_potential_languages.term != all_potential_languages.translated_term) & (all_potential_languages.language == 'de'), 'term'] = all_potential_languages.translated_term\n",
    "all_potential_languages.loc[(all_potential_languages.term.isna() == True), 'term'] = all_potential_languages.translated_term\n",
    "all_potential_languages = all_potential_languages.rename(columns={'term': 'search_term', 'language': 'finalized_language', 'term_source': 'search_term_source'})"
   ]
  },
  {
   "cell_type": "code",
   "execution_count": 234,
   "metadata": {},
   "outputs": [],
   "source": [
    "cleaned_langs = all_potential_languages[['finalized_language', 'language_name', 'search_term']]\n",
    "cleaned_langs = cleaned_langs.drop_duplicates()\n",
    "cleaned_langs_one = cleaned_langs.copy()\n",
    "cleaned_langs_one['search_type'] = 'tagged'\n",
    "cleaned_langs_two = cleaned_langs.copy()\n",
    "cleaned_langs_two['search_type'] = 'searched'\n",
    "\n",
    "cleaned_langs = pd.concat([cleaned_langs_one, cleaned_langs_two])\n",
    "cleaned_langs = pd.merge(cleaned_langs, language_df[['code', 'English language name', 'directionality', 'local language name']], left_on='finalized_language', right_on='code', how='left')"
   ]
  },
  {
   "cell_type": "code",
   "execution_count": 235,
   "metadata": {},
   "outputs": [],
   "source": [
    "merged_repo_langs = pd.merge(grouped_repo_languages, cleaned_langs[['finalized_language', 'search_term', 'search_type', 'English language name', 'local language name']], on=['search_term', 'finalized_language', 'search_type', 'English language name', 'local language name'], how='outer')\n",
    "\n",
    "merged_user_langs = pd.merge(grouped_user_languages, cleaned_langs[['finalized_language', 'search_term', 'search_type', 'English language name', 'local language name']], on=['search_term', 'finalized_language', 'search_type', 'English language name', 'local language name'], how='outer')"
   ]
  },
  {
   "cell_type": "code",
   "execution_count": 236,
   "metadata": {},
   "outputs": [],
   "source": [
    "def update_missing_columns(rows):\n",
    "    if rows['English language name'].isna().any():\n",
    "        lang_name = rows[rows['English language name'].notna()]['English language name'].unique()\n",
    "        if len(lang_name) < 1:\n",
    "            lang_name = rows.language_name.unique()\n",
    "        rows['English language name'] = lang_name[0]\n",
    "    if rows['local language name'].isna().any():\n",
    "        lang_name = rows[rows['local language name'].notna()]['local language name'].unique()\n",
    "        if len(lang_name) < 1:\n",
    "            lang_name = rows.language_name.unique()\n",
    "        rows['local language name'] = lang_name[0]\n",
    "    return rows"
   ]
  },
  {
   "cell_type": "code",
   "execution_count": 237,
   "metadata": {},
   "outputs": [],
   "source": [
    "finalized_repo_languages = merged_repo_langs.groupby(['finalized_language']).apply(update_missing_columns)\n",
    "finalized_user_languages = merged_user_langs.groupby(['finalized_language']).apply(update_missing_columns)"
   ]
  },
  {
   "cell_type": "code",
   "execution_count": 238,
   "metadata": {},
   "outputs": [],
   "source": [
    "merged_repo_langs = merged_repo_langs.combine_first(finalized_repo_languages)\n",
    "merged_repo_langs.repo_counts.fillna(0, inplace=True)\n",
    "\n",
    "merged_user_langs = merged_user_langs.combine_first(finalized_user_languages)\n",
    "merged_user_langs.user_counts.fillna(0, inplace=True)"
   ]
  },
  {
   "cell_type": "code",
   "execution_count": 239,
   "metadata": {},
   "outputs": [],
   "source": [
    "# merged_repo_langs = merged_repo_langs.groupby(['finalized_language', 'search_type', 'search_term']).apply(update_columns)\n",
    "# merged_repo_langs.repo_counts.fillna(0, inplace=True)\n",
    "# merged_repo_langs['final_term'] = merged_repo_langs.search_term + ' (' + merged_repo_langs.search_type + ')'\n",
    "\n",
    "# merged_user_langs = merged_user_langs.groupby(['finalized_language', 'search_term']).apply(update_columns)\n",
    "# merged_user_langs.user_counts.fillna(0, inplace=True)\n",
    "# merged_user_langs['final_term'] = merged_user_langs.search_term + ' (' + merged_user_langs.search_type + ')'"
   ]
  },
  {
   "cell_type": "code",
   "execution_count": 240,
   "metadata": {},
   "outputs": [
    {
     "name": "stdout",
     "output_type": "stream",
     "text": [
      "From our initial 185 language codes from Wikimedia, we have found 123 languages with a term for DH, which results in 105 unique terms.\n"
     ]
    }
   ],
   "source": [
    "print(f\"From our initial {translated_terms[translated_terms.term_source == 'Digital Humanities'].language.nunique()} language codes from Wikimedia, we have found {all_potential_languages.finalized_language.nunique()} languages with a term for DH, which results in {all_potential_languages.search_term.nunique()} unique terms.\")\n"
   ]
  },
  {
   "cell_type": "code",
   "execution_count": 241,
   "metadata": {},
   "outputs": [],
   "source": [
    "merged_repo_langs = merged_repo_langs[merged_repo_langs.search_term != \"I-Digital Humanities\"]\n",
    "merged_user_langs = merged_user_langs[merged_user_langs.search_term != \"I-Digital Humanities\"]"
   ]
  },
  {
   "cell_type": "code",
   "execution_count": 242,
   "metadata": {},
   "outputs": [],
   "source": [
    "# Language (English Language Name) : search_term\n",
    "merged_repo_langs['graph_label'] = None\n",
    "merged_repo_langs.loc[merged_repo_langs.finalized_language == 'nb', 'graph_label'] = merged_repo_langs['local language name'] + ' (Norwegian)' +': ' + merged_repo_langs['search_term']\n",
    "merged_repo_langs.loc[merged_repo_langs['English language name'] == merged_repo_langs['local language name'], 'graph_label'] = merged_repo_langs['local language name'] +': ' + merged_repo_langs['search_term']\n",
    "merged_repo_langs.loc[(merged_repo_langs['English language name'] != merged_repo_langs['local language name']) & (merged_repo_langs['local language name'].str.contains('\\(', na=False) == False), 'graph_label'] = merged_repo_langs['local language name'] + ' (' + merged_repo_langs['English language name'] +')' +': ' + merged_repo_langs['search_term']\n",
    "merged_repo_langs.loc[(merged_repo_langs['English language name'] != merged_repo_langs['local language name']) & (merged_repo_langs.graph_label.isna()), 'graph_label'] = merged_repo_langs['local language name'] +': ' + merged_repo_langs['search_term']\n"
   ]
  },
  {
   "cell_type": "code",
   "execution_count": 247,
   "metadata": {},
   "outputs": [],
   "source": [
    "merged_user_langs['graph_label'] = None\n",
    "merged_user_langs.loc[merged_user_langs.finalized_language == 'nb', 'graph_label'] = merged_user_langs['local language name'] + ' (Norwegian)' +': ' + merged_user_langs['search_term']\n",
    "merged_user_langs.loc[merged_user_langs['English language name'] == merged_user_langs['local language name'], 'graph_label'] = merged_user_langs['local language name'] +': ' + merged_user_langs['search_term']\n",
    "merged_user_langs.loc[(merged_user_langs['English language name'] != merged_user_langs['local language name']) & (merged_user_langs['local language name'].str.contains('\\(', na=False) == False), 'graph_label'] = merged_user_langs['local language name'] + ' (' + merged_user_langs['English language name'] +')' +': ' + merged_user_langs['search_term']\n",
    "merged_user_langs.loc[(merged_user_langs['English language name'] != merged_user_langs['local language name']) & (merged_user_langs.graph_label.isna()), 'graph_label'] = merged_user_langs['local language name'] +': ' + merged_user_langs['search_term']\n",
    "\n"
   ]
  },
  {
   "attachments": {},
   "cell_type": "markdown",
   "metadata": {},
   "source": [
    "\n",
    "git filter-repo --invert-paths --path 'data_generation_scripts/search_queries_repo_join_dataset.csv' --use-base-name"
   ]
  },
  {
   "cell_type": "code",
   "execution_count": 264,
   "metadata": {},
   "outputs": [],
   "source": [
    "merged_repo_langs['cleaned_search_language'] = merged_repo_langs.graph_label.str.split(':').str[0]\n",
    "\n",
    "merged_user_langs['cleaned_search_language'] = merged_user_langs.graph_label.str.split(':').str[0]"
   ]
  },
  {
   "cell_type": "code",
   "execution_count": 265,
   "metadata": {},
   "outputs": [],
   "source": [
    "merged_repo_langs['search_label'] = merged_repo_langs['search_term'] + ' (' + merged_repo_langs['search_type'] + ')'\n",
    "\n",
    "merged_user_langs['search_label'] = merged_user_langs['search_term'] + ' (' + merged_user_langs['search_type'] + ')'"
   ]
  },
  {
   "cell_type": "code",
   "execution_count": 272,
   "metadata": {},
   "outputs": [
    {
     "data": {
      "application/vnd.vegalite.v5+json": {
       "$schema": "https://vega.github.io/schema/vega-lite/v5.6.1.json",
       "config": {
        "axis": {
         "labelLimit": 1000
        },
        "view": {
         "continuousHeight": 300,
         "continuousWidth": 300
        }
       },
       "datasets": {
        "data-92f8eb84a4f04ea53e8c8955f60eb47a": [
         {
          "English language name": "Bulgarian (Latin)",
          "cleaned_search_language": "Български (Bulgarian) (Bulgarian (Latin))",
          "finalized_language": "bg-Latn",
          "graph_label": "Български (Bulgarian) (Bulgarian (Latin)): Digital Humanities",
          "local language name": "Български (Bulgarian) (Bulgarian (Latin))",
          "repo_counts": 2,
          "search_label": "Digital Humanities (searched)",
          "search_term": "Digital Humanities",
          "search_type": "searched"
         },
         {
          "English language name": "Chinese",
          "cleaned_search_language": "中文 (Chinese)",
          "finalized_language": "zh",
          "graph_label": "中文 (Chinese): 數位人文學",
          "local language name": "中文",
          "repo_counts": 1,
          "search_label": "數位人文學 (searched)",
          "search_term": "數位人文學",
          "search_type": "searched"
         },
         {
          "English language name": "Chinese (Mainland China)",
          "cleaned_search_language": "中文（中国） (Chinese (Mainland China))",
          "finalized_language": "zh-CN",
          "graph_label": "中文（中国） (Chinese (Mainland China)): Digital Humanities",
          "local language name": "中文（中国） (Chinese (Mainland China))",
          "repo_counts": 4,
          "search_label": "Digital Humanities (searched)",
          "search_term": "Digital Humanities",
          "search_type": "searched"
         },
         {
          "English language name": "Chinese (Mainland China)",
          "cleaned_search_language": "中文（中国） (Chinese (Mainland China))",
          "finalized_language": "zh-CN",
          "graph_label": "中文（中国） (Chinese (Mainland China)): 数字人文",
          "local language name": "中文（中国） (Chinese (Mainland China))",
          "repo_counts": 119,
          "search_label": "数字人文 (searched)",
          "search_term": "数字人文",
          "search_type": "searched"
         },
         {
          "English language name": "Chinese (Taiwan)",
          "cleaned_search_language": "中文（台灣） (Chinese (Taiwan))",
          "finalized_language": "zh-TW",
          "graph_label": "中文（台灣） (Chinese (Taiwan)): Digital Humanities",
          "local language name": "中文（台灣） (Chinese (Taiwan))",
          "repo_counts": 3,
          "search_label": "Digital Humanities (searched)",
          "search_term": "Digital Humanities",
          "search_type": "searched"
         },
         {
          "English language name": "Chinese (Taiwan)",
          "cleaned_search_language": "中文（台灣） (Chinese (Taiwan))",
          "finalized_language": "zh-TW",
          "graph_label": "中文（台灣） (Chinese (Taiwan)): 数字人文",
          "local language name": "中文（台灣） (Chinese (Taiwan))",
          "repo_counts": 3,
          "search_label": "数字人文 (searched)",
          "search_term": "数字人文",
          "search_type": "searched"
         },
         {
          "English language name": "Chinese (Taiwan)",
          "cleaned_search_language": "中文（台灣） (Chinese (Taiwan))",
          "finalized_language": "zh-TW",
          "graph_label": "中文（台灣） (Chinese (Taiwan)): 數位人文學",
          "local language name": "中文（台灣） (Chinese (Taiwan))",
          "repo_counts": 5,
          "search_label": "數位人文學 (searched)",
          "search_term": "數位人文學",
          "search_type": "searched"
         },
         {
          "English language name": "Czech",
          "cleaned_search_language": "Česky (Czech)",
          "finalized_language": "cs",
          "graph_label": "Česky (Czech): Digital Humanities",
          "local language name": "Česky",
          "repo_counts": 6,
          "search_label": "Digital Humanities (searched)",
          "search_term": "Digital Humanities",
          "search_type": "searched"
         },
         {
          "English language name": "Danish",
          "cleaned_search_language": "Dansk (Danish)",
          "finalized_language": "da",
          "graph_label": "Dansk (Danish): Digital Humaniora",
          "local language name": "Dansk",
          "repo_counts": 3,
          "search_label": "Digital Humaniora (searched)",
          "search_term": "Digital Humaniora",
          "search_type": "searched"
         },
         {
          "English language name": "Danish",
          "cleaned_search_language": "Dansk (Danish)",
          "finalized_language": "da",
          "graph_label": "Dansk (Danish): Digital Humanities",
          "local language name": "Dansk",
          "repo_counts": 1,
          "search_label": "Digital Humanities (searched)",
          "search_term": "Digital Humanities",
          "search_type": "searched"
         },
         {
          "English language name": "Danish",
          "cleaned_search_language": "Dansk (Danish)",
          "finalized_language": "da",
          "graph_label": "Dansk (Danish): Digital humaniora",
          "local language name": "Dansk",
          "repo_counts": 2,
          "search_label": "Digital humaniora (searched)",
          "search_term": "Digital humaniora",
          "search_type": "searched"
         },
         {
          "English language name": "Danish",
          "cleaned_search_language": "Dansk (Danish)",
          "finalized_language": "da",
          "graph_label": "Dansk (Danish): Digitale Humanities",
          "local language name": "Dansk",
          "repo_counts": 1,
          "search_label": "Digitale Humanities (searched)",
          "search_term": "Digitale Humanities",
          "search_type": "searched"
         },
         {
          "English language name": "Danish",
          "cleaned_search_language": "Dansk (Danish)",
          "finalized_language": "da",
          "graph_label": "Dansk (Danish): Humaniora Digital",
          "local language name": "Dansk",
          "repo_counts": 2,
          "search_label": "Humaniora Digital (searched)",
          "search_term": "Humaniora Digital",
          "search_type": "searched"
         },
         {
          "English language name": "Dutch",
          "cleaned_search_language": "Nederlands (Dutch)",
          "finalized_language": "nl",
          "graph_label": "Nederlands (Dutch): Digital Humanities",
          "local language name": "Nederlands",
          "repo_counts": 3,
          "search_label": "Digital Humanities (searched)",
          "search_term": "Digital Humanities",
          "search_type": "searched"
         },
         {
          "English language name": "English and Chinese",
          "cleaned_search_language": "English & 中文 (Chinese)",
          "finalized_language": "en, zh",
          "graph_label": "English & 中文 (Chinese): Digital Humanities",
          "local language name": "English & 中文 (Chinese)",
          "repo_counts": 2,
          "search_label": "Digital Humanities (searched)",
          "search_term": "Digital Humanities",
          "search_type": "searched"
         },
         {
          "English language name": "English and Dutch",
          "cleaned_search_language": "English & Nederlands (Dutch)",
          "finalized_language": "en, nl",
          "graph_label": "English & Nederlands (Dutch): Digital Humanities",
          "local language name": "English & Nederlands (Dutch)",
          "repo_counts": 1,
          "search_label": "Digital Humanities (searched)",
          "search_term": "Digital Humanities",
          "search_type": "searched"
         },
         {
          "English language name": "English and German",
          "cleaned_search_language": "English & Deutsch (German)",
          "finalized_language": "en, de",
          "graph_label": "English & Deutsch (German): Digital Humanities",
          "local language name": "English & Deutsch (German)",
          "repo_counts": 2,
          "search_label": "Digital Humanities (searched)",
          "search_term": "Digital Humanities",
          "search_type": "searched"
         },
         {
          "English language name": "English and German",
          "cleaned_search_language": "English & Deutsch (German)",
          "finalized_language": "en, de",
          "graph_label": "English & Deutsch (German): Digitale Geisteswissenschaften",
          "local language name": "English & Deutsch (German)",
          "repo_counts": 1,
          "search_label": "Digitale Geisteswissenschaften (searched)",
          "search_term": "Digitale Geisteswissenschaften",
          "search_type": "searched"
         },
         {
          "English language name": "English and German",
          "cleaned_search_language": "English & Deutsch (German)",
          "finalized_language": "en, de",
          "graph_label": "English & Deutsch (German): Digitale Humanities",
          "local language name": "English & Deutsch (German)",
          "repo_counts": 1,
          "search_label": "Digitale Humanities (searched)",
          "search_term": "Digitale Humanities",
          "search_type": "searched"
         },
         {
          "English language name": "English and Hebrew",
          "cleaned_search_language": "English & עברית (Hebrew)",
          "finalized_language": "en, he",
          "graph_label": "English & עברית (Hebrew): Digital Humanities",
          "local language name": "English & עברית (Hebrew)",
          "repo_counts": 2,
          "search_label": "Digital Humanities (searched)",
          "search_term": "Digital Humanities",
          "search_type": "searched"
         },
         {
          "English language name": "Estonian",
          "cleaned_search_language": "Eesti (Estonian)",
          "finalized_language": "et",
          "graph_label": "Eesti (Estonian): Digitaalhumanitaaria",
          "local language name": "Eesti",
          "repo_counts": 1,
          "search_label": "Digitaalhumanitaaria (searched)",
          "search_term": "Digitaalhumanitaaria",
          "search_type": "searched"
         },
         {
          "English language name": "Finnish",
          "cleaned_search_language": "Suomi (Finnish)",
          "finalized_language": "fi",
          "graph_label": "Suomi (Finnish): Digitaaliset ihmistieteet",
          "local language name": "Suomi",
          "repo_counts": 1,
          "search_label": "Digitaaliset ihmistieteet (searched)",
          "search_term": "Digitaaliset ihmistieteet",
          "search_type": "searched"
         },
         {
          "English language name": "French",
          "cleaned_search_language": "Français (French)",
          "finalized_language": "fr",
          "graph_label": "Français (French): Digital Humanities",
          "local language name": "Français",
          "repo_counts": 2,
          "search_label": "Digital Humanities (searched)",
          "search_term": "Digital Humanities",
          "search_type": "searched"
         },
         {
          "English language name": "French",
          "cleaned_search_language": "Français (French)",
          "finalized_language": "fr",
          "graph_label": "Français (French): Humanités numériques",
          "local language name": "Français",
          "repo_counts": 46,
          "search_label": "Humanités numériques (searched)",
          "search_term": "Humanités numériques",
          "search_type": "searched"
         },
         {
          "English language name": "German",
          "cleaned_search_language": "Deutsch (German)",
          "finalized_language": "de",
          "graph_label": "Deutsch (German): Digital Humanities",
          "local language name": "Deutsch",
          "repo_counts": 54,
          "search_label": "Digital Humanities (searched)",
          "search_term": "Digital Humanities",
          "search_type": "searched"
         },
         {
          "English language name": "German",
          "cleaned_search_language": "Deutsch (German)",
          "finalized_language": "de",
          "graph_label": "Deutsch (German): Digitale Geisteswissenschaften",
          "local language name": "Deutsch",
          "repo_counts": 3,
          "search_label": "Digitale Geisteswissenschaften (searched)",
          "search_term": "Digitale Geisteswissenschaften",
          "search_type": "searched"
         },
         {
          "English language name": "German",
          "cleaned_search_language": "Deutsch (German)",
          "finalized_language": "de",
          "graph_label": "Deutsch (German): Digitale Humanities",
          "local language name": "Deutsch",
          "repo_counts": 1,
          "search_label": "Digitale Humanities (searched)",
          "search_term": "Digitale Humanities",
          "search_type": "searched"
         },
         {
          "English language name": "German and English",
          "cleaned_search_language": "Deutsch (German) & English",
          "finalized_language": "de, en",
          "graph_label": "Deutsch (German) & English: Digital Humanities",
          "local language name": "Deutsch (German) & English",
          "repo_counts": 4,
          "search_label": "Digital Humanities (searched)",
          "search_term": "Digital Humanities",
          "search_type": "searched"
         },
         {
          "English language name": "Hebrew",
          "cleaned_search_language": "עברית (Hebrew)",
          "finalized_language": "he",
          "graph_label": "עברית (Hebrew): Digital Humanities",
          "local language name": "עברית",
          "repo_counts": 15,
          "search_label": "Digital Humanities (searched)",
          "search_term": "Digital Humanities",
          "search_type": "searched"
         },
         {
          "English language name": "Hungarian and English",
          "cleaned_search_language": "Magyar (Hungarian) & English",
          "finalized_language": "hu, en",
          "graph_label": "Magyar (Hungarian) & English: Digital Humanities",
          "local language name": "Magyar (Hungarian) & English",
          "repo_counts": 1,
          "search_label": "Digital Humanities (searched)",
          "search_term": "Digital Humanities",
          "search_type": "searched"
         },
         {
          "English language name": "Indonesian",
          "cleaned_search_language": "Bahasa Indonesia (Indonesian)",
          "finalized_language": "id",
          "graph_label": "Bahasa Indonesia (Indonesian): Digital Humanities",
          "local language name": "Bahasa Indonesia",
          "repo_counts": 1,
          "search_label": "Digital Humanities (searched)",
          "search_term": "Digital Humanities",
          "search_type": "searched"
         },
         {
          "English language name": "Italian",
          "cleaned_search_language": "Italiano (Italian)",
          "finalized_language": "it",
          "graph_label": "Italiano (Italian): Digital Humanities",
          "local language name": "Italiano",
          "repo_counts": 19,
          "search_label": "Digital Humanities (searched)",
          "search_term": "Digital Humanities",
          "search_type": "searched"
         },
         {
          "English language name": "Italian",
          "cleaned_search_language": "Italiano (Italian)",
          "finalized_language": "it",
          "graph_label": "Italiano (Italian): Informatica umanistica",
          "local language name": "Italiano",
          "repo_counts": 64,
          "search_label": "Informatica umanistica (searched)",
          "search_term": "Informatica umanistica",
          "search_type": "searched"
         },
         {
          "English language name": "Italian and English",
          "cleaned_search_language": "Italiano (Italian) & English",
          "finalized_language": "it, en",
          "graph_label": "Italiano (Italian) & English: Digital Humanities",
          "local language name": "Italiano (Italian) & English",
          "repo_counts": 1,
          "search_label": "Digital Humanities (searched)",
          "search_term": "Digital Humanities",
          "search_type": "searched"
         },
         {
          "English language name": "Japanese",
          "cleaned_search_language": "日本語 (Japanese)",
          "finalized_language": "ja",
          "graph_label": "日本語 (Japanese): 数字人文",
          "local language name": "日本語",
          "repo_counts": 2,
          "search_label": "数字人文 (searched)",
          "search_term": "数字人文",
          "search_type": "searched"
         },
         {
          "English language name": "Korean",
          "cleaned_search_language": "한국어 (Korean)",
          "finalized_language": "ko",
          "graph_label": "한국어 (Korean): Digital Humanities",
          "local language name": "한국어",
          "repo_counts": 6,
          "search_label": "Digital Humanities (searched)",
          "search_term": "Digital Humanities",
          "search_type": "searched"
         },
         {
          "English language name": "Korean",
          "cleaned_search_language": "한국어 (Korean)",
          "finalized_language": "ko",
          "graph_label": "한국어 (Korean): 디지털 인문학",
          "local language name": "한국어",
          "repo_counts": 2,
          "search_label": "디지털 인문학 (searched)",
          "search_term": "디지털 인문학",
          "search_type": "searched"
         },
         {
          "English language name": "Latin",
          "cleaned_search_language": "Latina (Latin)",
          "finalized_language": "la",
          "graph_label": "Latina (Latin): Digital Humanities",
          "local language name": "Latina",
          "repo_counts": 1,
          "search_label": "Digital Humanities (searched)",
          "search_term": "Digital Humanities",
          "search_type": "searched"
         },
         {
          "English language name": "Polish",
          "cleaned_search_language": "Polski (Polish)",
          "finalized_language": "pl",
          "graph_label": "Polski (Polish): Digital Humanities",
          "local language name": "Polski",
          "repo_counts": 1,
          "search_label": "Digital Humanities (searched)",
          "search_term": "Digital Humanities",
          "search_type": "searched"
         },
         {
          "English language name": "Portuguese",
          "cleaned_search_language": "Português (Portuguese)",
          "finalized_language": "pt",
          "graph_label": "Português (Portuguese): Humanidades Digitais",
          "local language name": "Português",
          "repo_counts": 19,
          "search_label": "Humanidades Digitais (searched)",
          "search_term": "Humanidades Digitais",
          "search_type": "searched"
         },
         {
          "English language name": "Portuguese",
          "cleaned_search_language": "Português (Portuguese)",
          "finalized_language": "pt",
          "graph_label": "Português (Portuguese): Humanidades digitales",
          "local language name": "Português",
          "repo_counts": 3,
          "search_label": "Humanidades digitales (searched)",
          "search_term": "Humanidades digitales",
          "search_type": "searched"
         },
         {
          "English language name": "Portuguese and English",
          "cleaned_search_language": "Português (Portuguese) & English",
          "finalized_language": "pt, en",
          "graph_label": "Português (Portuguese) & English: Humanidades Digitais",
          "local language name": "Português (Portuguese) & English",
          "repo_counts": 1,
          "search_label": "Humanidades Digitais (searched)",
          "search_term": "Humanidades Digitais",
          "search_type": "searched"
         },
         {
          "English language name": "Russian",
          "cleaned_search_language": "Русский (Russian)",
          "finalized_language": "ru",
          "graph_label": "Русский (Russian): Digital Humanities",
          "local language name": "Русский",
          "repo_counts": 24,
          "search_label": "Digital Humanities (searched)",
          "search_term": "Digital Humanities",
          "search_type": "searched"
         },
         {
          "English language name": "Russian",
          "cleaned_search_language": "Русский (Russian)",
          "finalized_language": "ru",
          "graph_label": "Русский (Russian): Цифровые гуманитарные науки",
          "local language name": "Русский",
          "repo_counts": 1,
          "search_label": "Цифровые гуманитарные науки (searched)",
          "search_term": "Цифровые гуманитарные науки",
          "search_type": "searched"
         },
         {
          "English language name": "Russian and English",
          "cleaned_search_language": "Русский (Russian) & English",
          "finalized_language": "ru, en",
          "graph_label": "Русский (Russian) & English: Digital Humanities",
          "local language name": "Русский (Russian) & English",
          "repo_counts": 1,
          "search_label": "Digital Humanities (searched)",
          "search_term": "Digital Humanities",
          "search_type": "searched"
         },
         {
          "English language name": "Spanish",
          "cleaned_search_language": "Español (Spanish)",
          "finalized_language": "es",
          "graph_label": "Español (Spanish): Digital Humanities",
          "local language name": "Español",
          "repo_counts": 4,
          "search_label": "Digital Humanities (searched)",
          "search_term": "Digital Humanities",
          "search_type": "searched"
         },
         {
          "English language name": "Spanish",
          "cleaned_search_language": "Español (Spanish)",
          "finalized_language": "es",
          "graph_label": "Español (Spanish): Humanidades digitales",
          "local language name": "Español",
          "repo_counts": 46,
          "search_label": "Humanidades digitales (searched)",
          "search_term": "Humanidades digitales",
          "search_type": "searched"
         },
         {
          "English language name": "Spanish and English",
          "cleaned_search_language": "Español (Spanish) & English",
          "finalized_language": "es, en",
          "graph_label": "Español (Spanish) & English: Humanidades digitales",
          "local language name": "Español (Spanish) & English",
          "repo_counts": 1,
          "search_label": "Humanidades digitales (searched)",
          "search_term": "Humanidades digitales",
          "search_type": "searched"
         },
         {
          "English language name": "Swedish",
          "cleaned_search_language": "Svenska (Swedish)",
          "finalized_language": "sv",
          "graph_label": "Svenska (Swedish): Digital Humaniora",
          "local language name": "Svenska",
          "repo_counts": 1,
          "search_label": "Digital Humaniora (searched)",
          "search_term": "Digital Humaniora",
          "search_type": "searched"
         },
         {
          "English language name": "Swedish",
          "cleaned_search_language": "Svenska (Swedish)",
          "finalized_language": "sv",
          "graph_label": "Svenska (Swedish): Digital humaniora",
          "local language name": "Svenska",
          "repo_counts": 1,
          "search_label": "Digital humaniora (searched)",
          "search_term": "Digital humaniora",
          "search_type": "searched"
         },
         {
          "English language name": "Swedish",
          "cleaned_search_language": "Svenska (Swedish)",
          "finalized_language": "sv",
          "graph_label": "Svenska (Swedish): Humaniora Digital",
          "local language name": "Svenska",
          "repo_counts": 1,
          "search_label": "Humaniora Digital (searched)",
          "search_term": "Humaniora Digital",
          "search_type": "searched"
         },
         {
          "English language name": "Vietnamese",
          "cleaned_search_language": "Tiếng Việt (Vietnamese)",
          "finalized_language": "vi",
          "graph_label": "Tiếng Việt (Vietnamese): Nhân văn kỹ thuật số",
          "local language name": "Tiếng Việt",
          "repo_counts": 16,
          "search_label": "Nhân văn kỹ thuật số (searched)",
          "search_term": "Nhân văn kỹ thuật số",
          "search_type": "searched"
         },
         {
          "English language name": "Latin",
          "cleaned_search_language": "Latina (Latin)",
          "finalized_language": "la",
          "graph_label": "Latina (Latin): Humanitates digitales",
          "local language name": "Latina",
          "repo_counts": 0,
          "search_label": "Humanitates digitales (searched)",
          "search_term": "Humanitates digitales",
          "search_type": "searched"
         },
         {
          "English language name": "Tamil",
          "cleaned_search_language": "தமிழ் (Tamil)",
          "finalized_language": "ta",
          "graph_label": "தமிழ் (Tamil): எண்ணிம மனிதவியல்",
          "local language name": "தமிழ்",
          "repo_counts": 0,
          "search_label": "எண்ணிம மனிதவியல் (searched)",
          "search_term": "எண்ணிம மனிதவியல்",
          "search_type": "searched"
         },
         {
          "English language name": "Catalan",
          "cleaned_search_language": "Català (Catalan)",
          "finalized_language": "ca",
          "graph_label": "Català (Catalan): Humanitats digitals",
          "local language name": "Català",
          "repo_counts": 0,
          "search_label": "Humanitats digitals (searched)",
          "search_term": "Humanitats digitals",
          "search_type": "searched"
         },
         {
          "English language name": "Serbo-Croatian",
          "cleaned_search_language": "Srpskohrvatski / Српскохрватски (Serbo-Croatian)",
          "finalized_language": "sh",
          "graph_label": "Srpskohrvatski / Српскохрватски (Serbo-Croatian): Дигиталне хуманистичке науке",
          "local language name": "Srpskohrvatski / Српскохрватски",
          "repo_counts": 0,
          "search_label": "Дигиталне хуманистичке науке (searched)",
          "search_term": "Дигиталне хуманистичке науке",
          "search_type": "searched"
         },
         {
          "English language name": "Welsh",
          "cleaned_search_language": "Cymraeg (Welsh)",
          "finalized_language": "cy",
          "graph_label": "Cymraeg (Welsh): Dyniaethau digidol",
          "local language name": "Cymraeg",
          "repo_counts": 0,
          "search_label": "Dyniaethau digidol (searched)",
          "search_term": "Dyniaethau digidol",
          "search_type": "searched"
         },
         {
          "English language name": "Arabic",
          "cleaned_search_language": "العربية (Arabic)",
          "finalized_language": "ar",
          "graph_label": "العربية (Arabic): إنسانيات رقمية",
          "local language name": "العربية",
          "repo_counts": 0,
          "search_label": "إنسانيات رقمية (searched)",
          "search_term": "إنسانيات رقمية",
          "search_type": "searched"
         },
         {
          "English language name": "Thai",
          "cleaned_search_language": "ไทย / Phasa Thai (Thai)",
          "finalized_language": "th",
          "graph_label": "ไทย / Phasa Thai (Thai): มนุษยศาสตร์ดิจิทัล",
          "local language name": "ไทย / Phasa Thai",
          "repo_counts": 0,
          "search_label": "มนุษยศาสตร์ดิจิทัล (searched)",
          "search_term": "มนุษยศาสตร์ดิจิทัล",
          "search_type": "searched"
         },
         {
          "English language name": "Slovenian",
          "cleaned_search_language": "Slovenščina (Slovenian)",
          "finalized_language": "sl",
          "graph_label": "Slovenščina (Slovenian): Digitalna humanistika",
          "local language name": "Slovenščina",
          "repo_counts": 0,
          "search_label": "Digitalna humanistika (searched)",
          "search_term": "Digitalna humanistika",
          "search_type": "searched"
         },
         {
          "English language name": "Japanese",
          "cleaned_search_language": "日本語 (Japanese)",
          "finalized_language": "ja",
          "graph_label": "日本語 (Japanese): デジタル・ヒューマニティーズ",
          "local language name": "日本語",
          "repo_counts": 0,
          "search_label": "デジタル・ヒューマニティーズ (searched)",
          "search_term": "デジタル・ヒューマニティーズ",
          "search_type": "searched"
         },
         {
          "English language name": "Hebrew",
          "cleaned_search_language": "עברית (Hebrew)",
          "finalized_language": "he",
          "graph_label": "עברית (Hebrew): מדעי הרוח הדיגיטליים",
          "local language name": "עברית",
          "repo_counts": 0,
          "search_label": "מדעי הרוח הדיגיטליים (searched)",
          "search_term": "מדעי הרוח הדיגיטליים",
          "search_type": "searched"
         },
         {
          "English language name": "Afrikaans",
          "cleaned_search_language": "Afrikaans",
          "finalized_language": "af",
          "graph_label": "Afrikaans: Digitale Geesteswetenskappe",
          "local language name": "Afrikaans",
          "repo_counts": 0,
          "search_label": "Digitale Geesteswetenskappe (searched)",
          "search_term": "Digitale Geesteswetenskappe",
          "search_type": "searched"
         },
         {
          "English language name": "Akan",
          "cleaned_search_language": "Akana (Akan)",
          "finalized_language": "ak",
          "graph_label": "Akana (Akan): Digitals Nnipa Ho Adesua",
          "local language name": "Akana",
          "repo_counts": 0,
          "search_label": "Digitals Nnipa Ho Adesua (searched)",
          "search_term": "Digitals Nnipa Ho Adesua",
          "search_type": "searched"
         },
         {
          "English language name": "Albanian",
          "cleaned_search_language": "Shqip (Albanian)",
          "finalized_language": "sq",
          "graph_label": "Shqip (Albanian): Shkenca Dixhitale Humane",
          "local language name": "Shqip",
          "repo_counts": 0,
          "search_label": "Shkenca Dixhitale Humane (searched)",
          "search_term": "Shkenca Dixhitale Humane",
          "search_type": "searched"
         },
         {
          "English language name": "Amharic",
          "cleaned_search_language": "አማርኛ (Amharic)",
          "finalized_language": "am",
          "graph_label": "አማርኛ (Amharic): ዲጂታል ሰብአዊነት",
          "local language name": "አማርኛ",
          "repo_counts": 0,
          "search_label": "ዲጂታል ሰብአዊነት (searched)",
          "search_term": "ዲጂታል ሰብአዊነት",
          "search_type": "searched"
         },
         {
          "English language name": "Armenian",
          "cleaned_search_language": "Հայերեն (Armenian)",
          "finalized_language": "hy",
          "graph_label": "Հայերեն (Armenian): Թվային հումանիտար գիտություններ",
          "local language name": "Հայերեն",
          "repo_counts": 0,
          "search_label": "Թվային հումանիտար գիտություններ (searched)",
          "search_term": "Թվային հումանիտար գիտություններ",
          "search_type": "searched"
         },
         {
          "English language name": "Assamese",
          "cleaned_search_language": "অসমীয়া (Assamese)",
          "finalized_language": "as",
          "graph_label": "অসমীয়া (Assamese): ডিজিটেল মানৱীয় বিজ্ঞান",
          "local language name": "অসমীয়া",
          "repo_counts": 0,
          "search_label": "ডিজিটেল মানৱীয় বিজ্ঞান (searched)",
          "search_term": "ডিজিটেল মানৱীয় বিজ্ঞান",
          "search_type": "searched"
         },
         {
          "English language name": "Aymara",
          "cleaned_search_language": "Aymar (Aymara)",
          "finalized_language": "ay",
          "graph_label": "Aymar (Aymara): Humanidades Digitales uka tuqit yatxataña",
          "local language name": "Aymar",
          "repo_counts": 0,
          "search_label": "Humanidades Digitales uka tuqit yatxataña (searched)",
          "search_term": "Humanidades Digitales uka tuqit yatxataña",
          "search_type": "searched"
         },
         {
          "English language name": "Azerbaijani",
          "cleaned_search_language": "Azərbaycanca / آذربايجان (Azerbaijani)",
          "finalized_language": "az",
          "graph_label": "Azərbaycanca / آذربايجان (Azerbaijani): Rəqəmsal humanitar elmlər",
          "local language name": "Azərbaycanca / آذربايجان",
          "repo_counts": 0,
          "search_label": "Rəqəmsal humanitar elmlər (searched)",
          "search_term": "Rəqəmsal humanitar elmlər",
          "search_type": "searched"
         },
         {
          "English language name": "Bambara",
          "cleaned_search_language": "Bamanankan (Bambara)",
          "finalized_language": "bm",
          "graph_label": "Bamanankan (Bambara): Hadamadenw ka dɔnniya nimɔrɔma",
          "local language name": "Bamanankan",
          "repo_counts": 0,
          "search_label": "Hadamadenw ka dɔnniya nimɔrɔma (searched)",
          "search_term": "Hadamadenw ka dɔnniya nimɔrɔma",
          "search_type": "searched"
         },
         {
          "English language name": "Basque",
          "cleaned_search_language": "Euskara (Basque)",
          "finalized_language": "eu",
          "graph_label": "Euskara (Basque): Humanitate Digitalak",
          "local language name": "Euskara",
          "repo_counts": 0,
          "search_label": "Humanitate Digitalak (searched)",
          "search_term": "Humanitate Digitalak",
          "search_type": "searched"
         },
         {
          "English language name": "Belarusian",
          "cleaned_search_language": "Беларуская (Belarusian)",
          "finalized_language": "be",
          "graph_label": "Беларуская (Belarusian): Лічбавая гуманітарная навука",
          "local language name": "Беларуская",
          "repo_counts": 0,
          "search_label": "Лічбавая гуманітарная навука (searched)",
          "search_term": "Лічбавая гуманітарная навука",
          "search_type": "searched"
         },
         {
          "English language name": "Bengali",
          "cleaned_search_language": "বাংলা (Bengali)",
          "finalized_language": "bn",
          "graph_label": "বাংলা (Bengali): ডিজিটাল মানবিক",
          "local language name": "বাংলা",
          "repo_counts": 0,
          "search_label": "ডিজিটাল মানবিক (searched)",
          "search_term": "ডিজিটাল মানবিক",
          "search_type": "searched"
         },
         {
          "English language name": "Bihari",
          "cleaned_search_language": "भोजपुरी (Bihari)",
          "finalized_language": "bh",
          "graph_label": "भोजपुरी (Bihari): डिजिटल मानविकी के बारे में बतावल गइल बा",
          "local language name": "भोजपुरी",
          "repo_counts": 0,
          "search_label": "डिजिटल मानविकी के बारे में बतावल गइल बा (searched)",
          "search_term": "डिजिटल मानविकी के बारे में बतावल गइल बा",
          "search_type": "searched"
         },
         {
          "English language name": "Bosnian",
          "cleaned_search_language": "Bosanski (Bosnian)",
          "finalized_language": "bs",
          "graph_label": "Bosanski (Bosnian): Digitalne humanističke nauke",
          "local language name": "Bosanski",
          "repo_counts": 0,
          "search_label": "Digitalne humanističke nauke (searched)",
          "search_term": "Digitalne humanističke nauke",
          "search_type": "searched"
         },
         {
          "English language name": "Bulgarian",
          "cleaned_search_language": "Български (Bulgarian)",
          "finalized_language": "bg",
          "graph_label": "Български (Bulgarian): Дигитални хуманитарни науки",
          "local language name": "Български",
          "repo_counts": 0,
          "search_label": "Дигитални хуманитарни науки (searched)",
          "search_term": "Дигитални хуманитарни науки",
          "search_type": "searched"
         },
         {
          "English language name": "Burmese",
          "cleaned_search_language": "Myanmasa (Burmese)",
          "finalized_language": "my",
          "graph_label": "Myanmasa (Burmese): ဒစ်ဂျစ်တယ်လူ့ပညာ",
          "local language name": "Myanmasa",
          "repo_counts": 0,
          "search_label": "ဒစ်ဂျစ်တယ်လူ့ပညာ (searched)",
          "search_term": "ဒစ်ဂျစ်တယ်လူ့ပညာ",
          "search_type": "searched"
         },
         {
          "English language name": "Chichewa",
          "cleaned_search_language": "Chi-Chewa (Chichewa)",
          "finalized_language": "ny",
          "graph_label": "Chi-Chewa (Chichewa): Digital Humanities",
          "local language name": "Chi-Chewa",
          "repo_counts": 0,
          "search_label": "Digital Humanities (searched)",
          "search_term": "Digital Humanities",
          "search_type": "searched"
         },
         {
          "English language name": "Chinese",
          "cleaned_search_language": "中文 (Chinese)",
          "finalized_language": "zh",
          "graph_label": "中文 (Chinese): 数字人文",
          "local language name": "中文",
          "repo_counts": 0,
          "search_label": "数字人文 (searched)",
          "search_term": "数字人文",
          "search_type": "searched"
         },
         {
          "English language name": "Corsican",
          "cleaned_search_language": "Corsu (Corsican)",
          "finalized_language": "co",
          "graph_label": "Corsu (Corsican): Umanità digitale",
          "local language name": "Corsu",
          "repo_counts": 0,
          "search_label": "Umanità digitale (searched)",
          "search_term": "Umanità digitale",
          "search_type": "searched"
         },
         {
          "English language name": "Croatian",
          "cleaned_search_language": "Hrvatski (Croatian)",
          "finalized_language": "hr",
          "graph_label": "Hrvatski (Croatian): Digitalne humanističke znanosti",
          "local language name": "Hrvatski",
          "repo_counts": 0,
          "search_label": "Digitalne humanističke znanosti (searched)",
          "search_term": "Digitalne humanističke znanosti",
          "search_type": "searched"
         },
         {
          "English language name": "Czech",
          "cleaned_search_language": "Česky (Czech)",
          "finalized_language": "cs",
          "graph_label": "Česky (Czech): Digitální humanitní vědy",
          "local language name": "Česky",
          "repo_counts": 0,
          "search_label": "Digitální humanitní vědy (searched)",
          "search_term": "Digitální humanitní vědy",
          "search_type": "searched"
         },
         {
          "English language name": "Divehi",
          "cleaned_search_language": "ދިވެހިބަސް (Divehi)",
          "finalized_language": "dv",
          "graph_label": "ދިވެހިބަސް (Divehi): ދިރާގު ހިއުމަނިޓީސް އެވެ",
          "local language name": "ދިވެހިބަސް",
          "repo_counts": 0,
          "search_label": "ދިރާގު ހިއުމަނިޓީސް އެވެ (searched)",
          "search_term": "ދިރާގު ހިއުމަނިޓީސް އެވެ",
          "search_type": "searched"
         },
         {
          "English language name": "Dutch",
          "cleaned_search_language": "Nederlands (Dutch)",
          "finalized_language": "nl",
          "graph_label": "Nederlands (Dutch): Digitale geesteswetenschappen",
          "local language name": "Nederlands",
          "repo_counts": 0,
          "search_label": "Digitale geesteswetenschappen (searched)",
          "search_term": "Digitale geesteswetenschappen",
          "search_type": "searched"
         },
         {
          "English language name": "Esperanto",
          "cleaned_search_language": "Esperanto",
          "finalized_language": "eo",
          "graph_label": "Esperanto: Ciferecaj Homaroj",
          "local language name": "Esperanto",
          "repo_counts": 0,
          "search_label": "Ciferecaj Homaroj (searched)",
          "search_term": "Ciferecaj Homaroj",
          "search_type": "searched"
         },
         {
          "English language name": "Ewe",
          "cleaned_search_language": "Ɛʋɛ (Ewe)",
          "finalized_language": "ee",
          "graph_label": "Ɛʋɛ (Ewe): Digitál Amegbetɔŋutinunya",
          "local language name": "Ɛʋɛ",
          "repo_counts": 0,
          "search_label": "Digitál Amegbetɔŋutinunya (searched)",
          "search_term": "Digitál Amegbetɔŋutinunya",
          "search_type": "searched"
         },
         {
          "English language name": "Galician",
          "cleaned_search_language": "Galego (Galician)",
          "finalized_language": "gl",
          "graph_label": "Galego (Galician): Humanidades Dixitais",
          "local language name": "Galego",
          "repo_counts": 0,
          "search_label": "Humanidades Dixitais (searched)",
          "search_term": "Humanidades Dixitais",
          "search_type": "searched"
         },
         {
          "English language name": "Georgian",
          "cleaned_search_language": "ქართული (Georgian)",
          "finalized_language": "ka",
          "graph_label": "ქართული (Georgian): ციფრული ჰუმანიტარული მეცნიერებები",
          "local language name": "ქართული",
          "repo_counts": 0,
          "search_label": "ციფრული ჰუმანიტარული მეცნიერებები (searched)",
          "search_term": "ციფრული ჰუმანიტარული მეცნიერებები",
          "search_type": "searched"
         },
         {
          "English language name": "Greek",
          "cleaned_search_language": "Ελληνικά (Greek)",
          "finalized_language": "el",
          "graph_label": "Ελληνικά (Greek): Ψηφιακές Ανθρωπιστικές Επιστήμες",
          "local language name": "Ελληνικά",
          "repo_counts": 0,
          "search_label": "Ψηφιακές Ανθρωπιστικές Επιστήμες (searched)",
          "search_term": "Ψηφιακές Ανθρωπιστικές Επιστήμες",
          "search_type": "searched"
         },
         {
          "English language name": "Guarani",
          "cleaned_search_language": "Avañe'ẽ (Guarani)",
          "finalized_language": "gn",
          "graph_label": "Avañe'ẽ (Guarani): Humanidades Digitales rehegua",
          "local language name": "Avañe'ẽ",
          "repo_counts": 0,
          "search_label": "Humanidades Digitales rehegua (searched)",
          "search_term": "Humanidades Digitales rehegua",
          "search_type": "searched"
         },
         {
          "English language name": "Gujarati",
          "cleaned_search_language": "ગુજરાતી (Gujarati)",
          "finalized_language": "gu",
          "graph_label": "ગુજરાતી (Gujarati): ડિજિટલ માનવતા",
          "local language name": "ગુજરાતી",
          "repo_counts": 0,
          "search_label": "ડિજિટલ માનવતા (searched)",
          "search_term": "ડિજિટલ માનવતા",
          "search_type": "searched"
         },
         {
          "English language name": "Haitian",
          "cleaned_search_language": "Krèyol ayisyen (Haitian)",
          "finalized_language": "ht",
          "graph_label": "Krèyol ayisyen (Haitian): Syans imanitè dijital",
          "local language name": "Krèyol ayisyen",
          "repo_counts": 0,
          "search_label": "Syans imanitè dijital (searched)",
          "search_term": "Syans imanitè dijital",
          "search_type": "searched"
         },
         {
          "English language name": "Hausa",
          "cleaned_search_language": "هَوُسَ (Hausa)",
          "finalized_language": "ha",
          "graph_label": "هَوُسَ (Hausa): Digital Humanities",
          "local language name": "هَوُسَ",
          "repo_counts": 0,
          "search_label": "Digital Humanities (searched)",
          "search_term": "Digital Humanities",
          "search_type": "searched"
         },
         {
          "English language name": "Hindi",
          "cleaned_search_language": "हिन्दी (Hindi)",
          "finalized_language": "hi",
          "graph_label": "हिन्दी (Hindi): डिजिटल मानविकी",
          "local language name": "हिन्दी",
          "repo_counts": 0,
          "search_label": "डिजिटल मानविकी (searched)",
          "search_term": "डिजिटल मानविकी",
          "search_type": "searched"
         },
         {
          "English language name": "Hungarian",
          "cleaned_search_language": "Magyar (Hungarian)",
          "finalized_language": "hu",
          "graph_label": "Magyar (Hungarian): Digitális humán tudományok",
          "local language name": "Magyar",
          "repo_counts": 0,
          "search_label": "Digitális humán tudományok (searched)",
          "search_term": "Digitális humán tudományok",
          "search_type": "searched"
         },
         {
          "English language name": "Indonesian",
          "cleaned_search_language": "Bahasa Indonesia (Indonesian)",
          "finalized_language": "id",
          "graph_label": "Bahasa Indonesia (Indonesian): Humaniora Digital",
          "local language name": "Bahasa Indonesia",
          "repo_counts": 0,
          "search_label": "Humaniora Digital (searched)",
          "search_term": "Humaniora Digital",
          "search_type": "searched"
         },
         {
          "English language name": "Irish",
          "cleaned_search_language": "Gaeilge (Irish)",
          "finalized_language": "ga",
          "graph_label": "Gaeilge (Irish): Daonnachtaí Digiteacha",
          "local language name": "Gaeilge",
          "repo_counts": 0,
          "search_label": "Daonnachtaí Digiteacha (searched)",
          "search_term": "Daonnachtaí Digiteacha",
          "search_type": "searched"
         },
         {
          "English language name": "Igbo",
          "cleaned_search_language": "Igbo",
          "finalized_language": "ig",
          "graph_label": "Igbo: Digital Humanities",
          "local language name": "Igbo",
          "repo_counts": 0,
          "search_label": "Digital Humanities (searched)",
          "search_term": "Digital Humanities",
          "search_type": "searched"
         },
         {
          "English language name": "Icelandic",
          "cleaned_search_language": "Íslenska (Icelandic)",
          "finalized_language": "is",
          "graph_label": "Íslenska (Icelandic): Stafræn hugvísindi",
          "local language name": "Íslenska",
          "repo_counts": 0,
          "search_label": "Stafræn hugvísindi (searched)",
          "search_term": "Stafræn hugvísindi",
          "search_type": "searched"
         },
         {
          "English language name": "Javanese",
          "cleaned_search_language": "Basa Jawa (Javanese)",
          "finalized_language": "jv",
          "graph_label": "Basa Jawa (Javanese): Kamanungsan Digital",
          "local language name": "Basa Jawa",
          "repo_counts": 0,
          "search_label": "Kamanungsan Digital (searched)",
          "search_term": "Kamanungsan Digital",
          "search_type": "searched"
         },
         {
          "English language name": "Kannada",
          "cleaned_search_language": "ಕನ್ನಡ (Kannada)",
          "finalized_language": "kn",
          "graph_label": "ಕನ್ನಡ (Kannada): ಡಿಜಿಟಲ್ ಹ್ಯುಮಾನಿಟೀಸ್",
          "local language name": "ಕನ್ನಡ",
          "repo_counts": 0,
          "search_label": "ಡಿಜಿಟಲ್ ಹ್ಯುಮಾನಿಟೀಸ್ (searched)",
          "search_term": "ಡಿಜಿಟಲ್ ಹ್ಯುಮಾನಿಟೀಸ್",
          "search_type": "searched"
         },
         {
          "English language name": "Kazakh",
          "cleaned_search_language": "Қазақша (Kazakh)",
          "finalized_language": "kk",
          "graph_label": "Қазақша (Kazakh): Сандық гуманитарлық ғылымдар",
          "local language name": "Қазақша",
          "repo_counts": 0,
          "search_label": "Сандық гуманитарлық ғылымдар (searched)",
          "search_term": "Сандық гуманитарлық ғылымдар",
          "search_type": "searched"
         },
         {
          "English language name": "Cambodian",
          "cleaned_search_language": "ភាសាខ្មែរ (Cambodian)",
          "finalized_language": "km",
          "graph_label": "ភាសាខ្មែរ (Cambodian): មនុស្សធម៌ឌីជីថល",
          "local language name": "ភាសាខ្មែរ",
          "repo_counts": 0,
          "search_label": "មនុស្សធម៌ឌីជីថល (searched)",
          "search_term": "មនុស្សធម៌ឌីជីថល",
          "search_type": "searched"
         },
         {
          "English language name": "Rwandi",
          "cleaned_search_language": "Kinyarwandi (Rwandi)",
          "finalized_language": "rw",
          "graph_label": "Kinyarwandi (Rwandi): Ubumenyamuntu",
          "local language name": "Kinyarwandi",
          "repo_counts": 0,
          "search_label": "Ubumenyamuntu (searched)",
          "search_term": "Ubumenyamuntu",
          "search_type": "searched"
         },
         {
          "English language name": "Kirghiz",
          "cleaned_search_language": "Kırgızca / Кыргызча (Kirghiz)",
          "finalized_language": "ky",
          "graph_label": "Kırgızca / Кыргызча (Kirghiz): Санариптик гуманитардык илимдер",
          "local language name": "Kırgızca / Кыргызча",
          "repo_counts": 0,
          "search_label": "Санариптик гуманитардык илимдер (searched)",
          "search_term": "Санариптик гуманитардык илимдер",
          "search_type": "searched"
         },
         {
          "English language name": "Kurdish (Kurmanji)",
          "cleaned_search_language": "Kurdî (Kurdish (Kurmanji))",
          "finalized_language": "ku",
          "graph_label": "Kurdî (Kurdish (Kurmanji)): Dijîtal Humanities",
          "local language name": "Kurdî",
          "repo_counts": 0,
          "search_label": "Dijîtal Humanities (searched)",
          "search_term": "Dijîtal Humanities",
          "search_type": "searched"
         },
         {
          "English language name": "Luxembourgish",
          "cleaned_search_language": "Lëtzebuergesch (Luxembourgish)",
          "finalized_language": "lb",
          "graph_label": "Lëtzebuergesch (Luxembourgish): Digital Humanities",
          "local language name": "Lëtzebuergesch",
          "repo_counts": 0,
          "search_label": "Digital Humanities (searched)",
          "search_term": "Digital Humanities",
          "search_type": "searched"
         },
         {
          "English language name": "Ganda",
          "cleaned_search_language": "Luganda (Ganda)",
          "finalized_language": "lg",
          "graph_label": "Luganda (Ganda): Eby’obuntubulamu ebya Digital",
          "local language name": "Luganda",
          "repo_counts": 0,
          "search_label": "Eby’obuntubulamu ebya Digital (searched)",
          "search_term": "Eby’obuntubulamu ebya Digital",
          "search_type": "searched"
         },
         {
          "English language name": "Lingala",
          "cleaned_search_language": "Lingála (Lingala)",
          "finalized_language": "ln",
          "graph_label": "Lingála (Lingala): Humanités numériques",
          "local language name": "Lingála",
          "repo_counts": 0,
          "search_label": "Humanités numériques (searched)",
          "search_term": "Humanités numériques",
          "search_type": "searched"
         },
         {
          "English language name": "Laotian",
          "cleaned_search_language": "ລາວ / Pha xa lao (Laotian)",
          "finalized_language": "lo",
          "graph_label": "ລາວ / Pha xa lao (Laotian): ມະນຸດສາດດິຈິຕອນ",
          "local language name": "ລາວ / Pha xa lao",
          "repo_counts": 0,
          "search_label": "ມະນຸດສາດດິຈິຕອນ (searched)",
          "search_term": "ມະນຸດສາດດິຈິຕອນ",
          "search_type": "searched"
         },
         {
          "English language name": "Lithuanian",
          "cleaned_search_language": "Lietuvių (Lithuanian)",
          "finalized_language": "lt",
          "graph_label": "Lietuvių (Lithuanian): Skaitmeniniai humanitariniai mokslai",
          "local language name": "Lietuvių",
          "repo_counts": 0,
          "search_label": "Skaitmeniniai humanitariniai mokslai (searched)",
          "search_term": "Skaitmeniniai humanitariniai mokslai",
          "search_type": "searched"
         },
         {
          "English language name": "Latvian",
          "cleaned_search_language": "Latviešu (Latvian)",
          "finalized_language": "lv",
          "graph_label": "Latviešu (Latvian): Digitālās humanitārās zinātnes",
          "local language name": "Latviešu",
          "repo_counts": 0,
          "search_label": "Digitālās humanitārās zinātnes (searched)",
          "search_term": "Digitālās humanitārās zinātnes",
          "search_type": "searched"
         },
         {
          "English language name": "Macedonian",
          "cleaned_search_language": "Македонски (Macedonian)",
          "finalized_language": "mk",
          "graph_label": "Македонски (Macedonian): Дигитални хуманистички науки",
          "local language name": "Македонски",
          "repo_counts": 0,
          "search_label": "Дигитални хуманистички науки (searched)",
          "search_term": "Дигитални хуманистички науки",
          "search_type": "searched"
         },
         {
          "English language name": "Malagasy",
          "cleaned_search_language": "Malagasy",
          "finalized_language": "mg",
          "graph_label": "Malagasy: Digital Humanities",
          "local language name": "Malagasy",
          "repo_counts": 0,
          "search_label": "Digital Humanities (searched)",
          "search_term": "Digital Humanities",
          "search_type": "searched"
         },
         {
          "English language name": "Malay",
          "cleaned_search_language": "Bahasa Melayu (Malay)",
          "finalized_language": "ms",
          "graph_label": "Bahasa Melayu (Malay): Kemanusiaan Digital",
          "local language name": "Bahasa Melayu",
          "repo_counts": 0,
          "search_label": "Kemanusiaan Digital (searched)",
          "search_term": "Kemanusiaan Digital",
          "search_type": "searched"
         },
         {
          "English language name": "Malayalam",
          "cleaned_search_language": "മലയാളം (Malayalam)",
          "finalized_language": "ml",
          "graph_label": "മലയാളം (Malayalam): ഡിജിറ്റൽ ഹ്യുമാനിറ്റീസ്",
          "local language name": "മലയാളം",
          "repo_counts": 0,
          "search_label": "ഡിജിറ്റൽ ഹ്യുമാനിറ്റീസ് (searched)",
          "search_term": "ഡിജിറ്റൽ ഹ്യുമാനിറ്റീസ്",
          "search_type": "searched"
         },
         {
          "English language name": "Maltese",
          "cleaned_search_language": "bil-Malti (Maltese)",
          "finalized_language": "mt",
          "graph_label": "bil-Malti (Maltese): Umanistika Diġitali",
          "local language name": "bil-Malti",
          "repo_counts": 0,
          "search_label": "Umanistika Diġitali (searched)",
          "search_term": "Umanistika Diġitali",
          "search_type": "searched"
         },
         {
          "English language name": "Māori",
          "cleaned_search_language": "Māori",
          "finalized_language": "mi",
          "graph_label": "Māori: Mamati Tangata",
          "local language name": "Māori",
          "repo_counts": 0,
          "search_label": "Mamati Tangata (searched)",
          "search_term": "Mamati Tangata",
          "search_type": "searched"
         },
         {
          "English language name": "Marathi",
          "cleaned_search_language": "मराठी (Marathi)",
          "finalized_language": "mr",
          "graph_label": "मराठी (Marathi): डिजिटल मानवता",
          "local language name": "मराठी",
          "repo_counts": 0,
          "search_label": "डिजिटल मानवता (searched)",
          "search_term": "डिजिटल मानवता",
          "search_type": "searched"
         },
         {
          "English language name": "Mongolian",
          "cleaned_search_language": "Монгол (Mongolian)",
          "finalized_language": "mn",
          "graph_label": "Монгол (Mongolian): Дижитал хүмүүнлэг",
          "local language name": "Монгол",
          "repo_counts": 0,
          "search_label": "Дижитал хүмүүнлэг (searched)",
          "search_term": "Дижитал хүмүүнлэг",
          "search_type": "searched"
         },
         {
          "English language name": "Norwegian Bokmål",
          "cleaned_search_language": "Norsk (bokmål) (Norwegian)",
          "finalized_language": "nb",
          "graph_label": "Norsk (bokmål) (Norwegian): Digital humaniora",
          "local language name": "Norsk (bokmål)",
          "repo_counts": 0,
          "search_label": "Digital humaniora (searched)",
          "search_term": "Digital humaniora",
          "search_type": "searched"
         },
         {
          "English language name": "Nepali",
          "cleaned_search_language": "नेपाली (Nepali)",
          "finalized_language": "ne",
          "graph_label": "नेपाली (Nepali): डिजिटल मानविकी",
          "local language name": "नेपाली",
          "repo_counts": 0,
          "search_label": "डिजिटल मानविकी (searched)",
          "search_term": "डिजिटल मानविकी",
          "search_type": "searched"
         },
         {
          "English language name": "Norwegian",
          "cleaned_search_language": "Norsk (bokmål / riksmål)",
          "finalized_language": "no",
          "graph_label": "Norsk (bokmål / riksmål): Digital humaniora",
          "local language name": "Norsk (bokmål / riksmål)",
          "repo_counts": 0,
          "search_label": "Digital humaniora (searched)",
          "search_term": "Digital humaniora",
          "search_type": "searched"
         },
         {
          "English language name": "Oromo",
          "cleaned_search_language": "Oromoo (Oromo)",
          "finalized_language": "om",
          "graph_label": "Oromoo (Oromo): Saayinsii Namoomaa Dijitaalaa",
          "local language name": "Oromoo",
          "repo_counts": 0,
          "search_label": "Saayinsii Namoomaa Dijitaalaa (searched)",
          "search_term": "Saayinsii Namoomaa Dijitaalaa",
          "search_type": "searched"
         },
         {
          "English language name": "Oriya",
          "cleaned_search_language": "ଓଡ଼ିଆ (Oriya)",
          "finalized_language": "or",
          "graph_label": "ଓଡ଼ିଆ (Oriya): ଡିଜିଟାଲ୍ ମାନବିକତା |",
          "local language name": "ଓଡ଼ିଆ",
          "repo_counts": 0,
          "search_label": "ଡିଜିଟାଲ୍ ମାନବିକତା | (searched)",
          "search_term": "ଡିଜିଟାଲ୍ ମାନବିକତା |",
          "search_type": "searched"
         },
         {
          "English language name": "Panjabi / Punjabi",
          "cleaned_search_language": "ਪੰਜਾਬੀ / پنجابی (Panjabi / Punjabi)",
          "finalized_language": "pa",
          "graph_label": "ਪੰਜਾਬੀ / پنجابی (Panjabi / Punjabi): ਡਿਜੀਟਲ ਮਨੁੱਖਤਾ",
          "local language name": "ਪੰਜਾਬੀ / پنجابی",
          "repo_counts": 0,
          "search_label": "ਡਿਜੀਟਲ ਮਨੁੱਖਤਾ (searched)",
          "search_term": "ਡਿਜੀਟਲ ਮਨੁੱਖਤਾ",
          "search_type": "searched"
         },
         {
          "English language name": "Persian",
          "cleaned_search_language": "فارسی (Persian)",
          "finalized_language": "fa",
          "graph_label": "فارسی (Persian): علوم انسانی دیجیتال",
          "local language name": "فارسی",
          "repo_counts": 0,
          "search_label": "علوم انسانی دیجیتال (searched)",
          "search_term": "علوم انسانی دیجیتال",
          "search_type": "searched"
         },
         {
          "English language name": "Polish",
          "cleaned_search_language": "Polski (Polish)",
          "finalized_language": "pl",
          "graph_label": "Polski (Polish): Humanistyka cyfrowa",
          "local language name": "Polski",
          "repo_counts": 0,
          "search_label": "Humanistyka cyfrowa (searched)",
          "search_term": "Humanistyka cyfrowa",
          "search_type": "searched"
         },
         {
          "English language name": "Pashto",
          "cleaned_search_language": "پښتو (Pashto)",
          "finalized_language": "ps",
          "graph_label": "پښتو (Pashto): ډیجیټل انسانیتونه",
          "local language name": "پښتو",
          "repo_counts": 0,
          "search_label": "ډیجیټل انسانیتونه (searched)",
          "search_term": "ډیجیټل انسانیتونه",
          "search_type": "searched"
         },
         {
          "English language name": "Quechua",
          "cleaned_search_language": "Runa Simi (Quechua)",
          "finalized_language": "qu",
          "graph_label": "Runa Simi (Quechua): Humanidades Digitales nisqa",
          "local language name": "Runa Simi",
          "repo_counts": 0,
          "search_label": "Humanidades Digitales nisqa (searched)",
          "search_term": "Humanidades Digitales nisqa",
          "search_type": "searched"
         },
         {
          "English language name": "Romanian",
          "cleaned_search_language": "Română (Romanian)",
          "finalized_language": "ro",
          "graph_label": "Română (Romanian): Științe umaniste digitale",
          "local language name": "Română",
          "repo_counts": 0,
          "search_label": "Științe umaniste digitale (searched)",
          "search_term": "Științe umaniste digitale",
          "search_type": "searched"
         },
         {
          "English language name": "Sanskrit",
          "cleaned_search_language": "संस्कृतम् (Sanskrit)",
          "finalized_language": "sa",
          "graph_label": "संस्कृतम् (Sanskrit): डिजिटल मानविकी",
          "local language name": "संस्कृतम्",
          "repo_counts": 0,
          "search_label": "डिजिटल मानविकी (searched)",
          "search_term": "डिजिटल मानविकी",
          "search_type": "searched"
         },
         {
          "English language name": "Sindhi",
          "cleaned_search_language": "सिंधी / سنڌي‎ (Sindhi)",
          "finalized_language": "sd",
          "graph_label": "सिंधी / سنڌي‎ (Sindhi): ڊجيٽل انسانيت",
          "local language name": "सिंधी / سنڌي‎",
          "repo_counts": 0,
          "search_label": "ڊجيٽل انسانيت (searched)",
          "search_term": "ڊجيٽل انسانيت",
          "search_type": "searched"
         },
         {
          "English language name": "Samoan",
          "cleaned_search_language": "Gagana Samoa (Samoan)",
          "finalized_language": "sm",
          "graph_label": "Gagana Samoa (Samoan): Digital Humanities",
          "local language name": "Gagana Samoa",
          "repo_counts": 0,
          "search_label": "Digital Humanities (searched)",
          "search_term": "Digital Humanities",
          "search_type": "searched"
         },
         {
          "English language name": "Serbian",
          "cleaned_search_language": "Српски (Serbian)",
          "finalized_language": "sr",
          "graph_label": "Српски (Serbian): Дигиталне хуманистичке науке",
          "local language name": "Српски",
          "repo_counts": 0,
          "search_label": "Дигиталне хуманистичке науке (searched)",
          "search_term": "Дигиталне хуманистичке науке",
          "search_type": "searched"
         },
         {
          "English language name": "Scottish Gaelic",
          "cleaned_search_language": "Gàidhlig (Scottish Gaelic)",
          "finalized_language": "gd",
          "graph_label": "Gàidhlig (Scottish Gaelic): Daonnachdan didseatach",
          "local language name": "Gàidhlig",
          "repo_counts": 0,
          "search_label": "Daonnachdan didseatach (searched)",
          "search_term": "Daonnachdan didseatach",
          "search_type": "searched"
         },
         {
          "English language name": "Shona",
          "cleaned_search_language": "chiShona (Shona)",
          "finalized_language": "sn",
          "graph_label": "chiShona (Shona): Digital Humanities",
          "local language name": "chiShona",
          "repo_counts": 0,
          "search_label": "Digital Humanities (searched)",
          "search_term": "Digital Humanities",
          "search_type": "searched"
         },
         {
          "English language name": "Sinhalese",
          "cleaned_search_language": "සිංහල (Sinhalese)",
          "finalized_language": "si",
          "graph_label": "සිංහල (Sinhalese): ඩිජිටල් මානව ශාස්ත්‍ර",
          "local language name": "සිංහල",
          "repo_counts": 0,
          "search_label": "ඩිජිටල් මානව ශාස්ත්‍ර (searched)",
          "search_term": "ඩිජිටල් මානව ශාස්ත්‍ර",
          "search_type": "searched"
         },
         {
          "English language name": "Slovak",
          "cleaned_search_language": "Slovenčina (Slovak)",
          "finalized_language": "sk",
          "graph_label": "Slovenčina (Slovak): Digitálne humanitné vedy",
          "local language name": "Slovenčina",
          "repo_counts": 0,
          "search_label": "Digitálne humanitné vedy (searched)",
          "search_term": "Digitálne humanitné vedy",
          "search_type": "searched"
         },
         {
          "English language name": "Somalia",
          "cleaned_search_language": "Soomaaliga (Somalia)",
          "finalized_language": "so",
          "graph_label": "Soomaaliga (Somalia): Aadamaha Dijital ah",
          "local language name": "Soomaaliga",
          "repo_counts": 0,
          "search_label": "Aadamaha Dijital ah (searched)",
          "search_term": "Aadamaha Dijital ah",
          "search_type": "searched"
         },
         {
          "English language name": "Southern Sotho",
          "cleaned_search_language": "Sesotho (Southern Sotho)",
          "finalized_language": "st",
          "graph_label": "Sesotho (Southern Sotho): Digital Humanities",
          "local language name": "Sesotho",
          "repo_counts": 0,
          "search_label": "Digital Humanities (searched)",
          "search_term": "Digital Humanities",
          "search_type": "searched"
         },
         {
          "English language name": "Sundanese",
          "cleaned_search_language": "Basa Sunda (Sundanese)",
          "finalized_language": "su",
          "graph_label": "Basa Sunda (Sundanese): Kamanusaan Digital",
          "local language name": "Basa Sunda",
          "repo_counts": 0,
          "search_label": "Kamanusaan Digital (searched)",
          "search_term": "Kamanusaan Digital",
          "search_type": "searched"
         },
         {
          "English language name": "Swahili",
          "cleaned_search_language": "Kiswahili (Swahili)",
          "finalized_language": "sw",
          "graph_label": "Kiswahili (Swahili): Binadamu wa Kidijitali",
          "local language name": "Kiswahili",
          "repo_counts": 0,
          "search_label": "Binadamu wa Kidijitali (searched)",
          "search_term": "Binadamu wa Kidijitali",
          "search_type": "searched"
         },
         {
          "English language name": "Telugu",
          "cleaned_search_language": "తెలుగు (Telugu)",
          "finalized_language": "te",
          "graph_label": "తెలుగు (Telugu): డిజిటల్ హ్యుమానిటీస్",
          "local language name": "తెలుగు",
          "repo_counts": 0,
          "search_label": "డిజిటల్ హ్యుమానిటీస్ (searched)",
          "search_term": "డిజిటల్ హ్యుమానిటీస్",
          "search_type": "searched"
         },
         {
          "English language name": "Tajik",
          "cleaned_search_language": "Тоҷикӣ (Tajik)",
          "finalized_language": "tg",
          "graph_label": "Тоҷикӣ (Tajik): Илмҳои гуманитарии рақамӣ",
          "local language name": "Тоҷикӣ",
          "repo_counts": 0,
          "search_label": "Илмҳои гуманитарии рақамӣ (searched)",
          "search_term": "Илмҳои гуманитарии рақамӣ",
          "search_type": "searched"
         },
         {
          "English language name": "Tigrinya",
          "cleaned_search_language": "ትግርኛ (Tigrinya)",
          "finalized_language": "ti",
          "graph_label": "ትግርኛ (Tigrinya): ዲጂታል ሰብኣዊ ስነፍልጠት",
          "local language name": "ትግርኛ",
          "repo_counts": 0,
          "search_label": "ዲጂታል ሰብኣዊ ስነፍልጠት (searched)",
          "search_term": "ዲጂታል ሰብኣዊ ስነፍልጠት",
          "search_type": "searched"
         },
         {
          "English language name": "Turkmen",
          "cleaned_search_language": "Туркмен / تركمن (Turkmen)",
          "finalized_language": "tk",
          "graph_label": "Туркмен / تركمن (Turkmen): Sanly gumanitar ylymlar",
          "local language name": "Туркмен / تركمن",
          "repo_counts": 0,
          "search_label": "Sanly gumanitar ylymlar (searched)",
          "search_term": "Sanly gumanitar ylymlar",
          "search_type": "searched"
         },
         {
          "English language name": "Tagalog",
          "cleaned_search_language": "Tagalog / ᜆᜄᜎᜓᜄ᜔ (Tagalog)",
          "finalized_language": "tl",
          "graph_label": "Tagalog / ᜆᜄᜎᜓᜄ᜔ (Tagalog): Digital Humanities",
          "local language name": "Tagalog / ᜆᜄᜎᜓᜄ᜔",
          "repo_counts": 0,
          "search_label": "Digital Humanities (searched)",
          "search_term": "Digital Humanities",
          "search_type": "searched"
         },
         {
          "English language name": "Turkish",
          "cleaned_search_language": "Türkçe (Turkish)",
          "finalized_language": "tr",
          "graph_label": "Türkçe (Turkish): Dijital Beşeri Bilimler",
          "local language name": "Türkçe",
          "repo_counts": 0,
          "search_label": "Dijital Beşeri Bilimler (searched)",
          "search_term": "Dijital Beşeri Bilimler",
          "search_type": "searched"
         },
         {
          "English language name": "Tsonga",
          "cleaned_search_language": "Xitsonga (Tsonga)",
          "finalized_language": "ts",
          "graph_label": "Xitsonga (Tsonga): Vutivi bya Vanhu bya Dijitali",
          "local language name": "Xitsonga",
          "repo_counts": 0,
          "search_label": "Vutivi bya Vanhu bya Dijitali (searched)",
          "search_term": "Vutivi bya Vanhu bya Dijitali",
          "search_type": "searched"
         },
         {
          "English language name": "Tatar",
          "cleaned_search_language": "Tatarça (Tatar)",
          "finalized_language": "tt",
          "graph_label": "Tatarça (Tatar): Санлы гуманитар фәннәр",
          "local language name": "Tatarça",
          "repo_counts": 0,
          "search_label": "Санлы гуманитар фәннәр (searched)",
          "search_term": "Санлы гуманитар фәннәр",
          "search_type": "searched"
         },
         {
          "English language name": "Twi",
          "cleaned_search_language": "Twi",
          "finalized_language": "tw",
          "graph_label": "Twi: Digitals Nnipa Ho Adesua",
          "local language name": "Twi",
          "repo_counts": 0,
          "search_label": "Digitals Nnipa Ho Adesua (searched)",
          "search_term": "Digitals Nnipa Ho Adesua",
          "search_type": "searched"
         },
         {
          "English language name": "Uyghur",
          "cleaned_search_language": "Uyƣurqə / ئۇيغۇرچە (Uyghur)",
          "finalized_language": "ug",
          "graph_label": "Uyƣurqə / ئۇيغۇرچە (Uyghur): رەقەملىك ئادىمىيلىك",
          "local language name": "Uyƣurqə / ئۇيغۇرچە",
          "repo_counts": 0,
          "search_label": "رەقەملىك ئادىمىيلىك (searched)",
          "search_term": "رەقەملىك ئادىمىيلىك",
          "search_type": "searched"
         },
         {
          "English language name": "Ukrainian",
          "cleaned_search_language": "Українська (Ukrainian)",
          "finalized_language": "uk",
          "graph_label": "Українська (Ukrainian): Цифрові гуманітарні науки",
          "local language name": "Українська",
          "repo_counts": 0,
          "search_label": "Цифрові гуманітарні науки (searched)",
          "search_term": "Цифрові гуманітарні науки",
          "search_type": "searched"
         },
         {
          "English language name": "Urdu",
          "cleaned_search_language": "اردو (Urdu)",
          "finalized_language": "ur",
          "graph_label": "اردو (Urdu): ڈیجیٹل ہیومینٹیز",
          "local language name": "اردو",
          "repo_counts": 0,
          "search_label": "ڈیجیٹل ہیومینٹیز (searched)",
          "search_term": "ڈیجیٹل ہیومینٹیز",
          "search_type": "searched"
         },
         {
          "English language name": "Uzbek",
          "cleaned_search_language": "Ўзбек (Uzbek)",
          "finalized_language": "uz",
          "graph_label": "Ўзбек (Uzbek): Raqamli gumanitar fanlar",
          "local language name": "Ўзбек",
          "repo_counts": 0,
          "search_label": "Raqamli gumanitar fanlar (searched)",
          "search_term": "Raqamli gumanitar fanlar",
          "search_type": "searched"
         },
         {
          "English language name": "West Frisian",
          "cleaned_search_language": "Frysk (West Frisian)",
          "finalized_language": "fy",
          "graph_label": "Frysk (West Frisian): Digitale Humanities",
          "local language name": "Frysk",
          "repo_counts": 0,
          "search_label": "Digitale Humanities (searched)",
          "search_term": "Digitale Humanities",
          "search_type": "searched"
         },
         {
          "English language name": "Yiddish",
          "cleaned_search_language": "ייִדיש (Yiddish)",
          "finalized_language": "yi",
          "graph_label": "ייִדיש (Yiddish): דיגיטאַל הומאַניטיעס",
          "local language name": "ייִדיש",
          "repo_counts": 0,
          "search_label": "דיגיטאַל הומאַניטיעס (searched)",
          "search_term": "דיגיטאַל הומאַניטיעס",
          "search_type": "searched"
         },
         {
          "English language name": "Yoruba",
          "cleaned_search_language": "Yorùbá (Yoruba)",
          "finalized_language": "yo",
          "graph_label": "Yorùbá (Yoruba): Digital Humanities",
          "local language name": "Yorùbá",
          "repo_counts": 0,
          "search_label": "Digital Humanities (searched)",
          "search_term": "Digital Humanities",
          "search_type": "searched"
         }
        ],
        "data-b84bfc393e2dc66b3544f87fea79a85c": [
         {
          "English language name": "Bulgarian (Latin)",
          "cleaned_search_language": "Български (Bulgarian) (Bulgarian (Latin))",
          "finalized_language": "bg-Latn",
          "graph_label": "Български (Bulgarian) (Bulgarian (Latin)): Digital Humanities",
          "local language name": "Български (Bulgarian) (Bulgarian (Latin))",
          "repo_counts": 2,
          "search_label": "Digital Humanities (searched)",
          "search_term": "Digital Humanities",
          "search_type": "searched"
         },
         {
          "English language name": "Chinese",
          "cleaned_search_language": "中文 (Chinese)",
          "finalized_language": "zh",
          "graph_label": "中文 (Chinese): 數位人文學",
          "local language name": "中文",
          "repo_counts": 1,
          "search_label": "數位人文學 (searched)",
          "search_term": "數位人文學",
          "search_type": "searched"
         },
         {
          "English language name": "Chinese (Mainland China)",
          "cleaned_search_language": "中文（中国） (Chinese (Mainland China))",
          "finalized_language": "zh-CN",
          "graph_label": "中文（中国） (Chinese (Mainland China)): Digital Humanities",
          "local language name": "中文（中国） (Chinese (Mainland China))",
          "repo_counts": 4,
          "search_label": "Digital Humanities (searched)",
          "search_term": "Digital Humanities",
          "search_type": "searched"
         },
         {
          "English language name": "Chinese (Mainland China)",
          "cleaned_search_language": "中文（中国） (Chinese (Mainland China))",
          "finalized_language": "zh-CN",
          "graph_label": "中文（中国） (Chinese (Mainland China)): 数字人文",
          "local language name": "中文（中国） (Chinese (Mainland China))",
          "repo_counts": 119,
          "search_label": "数字人文 (searched)",
          "search_term": "数字人文",
          "search_type": "searched"
         },
         {
          "English language name": "Chinese (Taiwan)",
          "cleaned_search_language": "中文（台灣） (Chinese (Taiwan))",
          "finalized_language": "zh-TW",
          "graph_label": "中文（台灣） (Chinese (Taiwan)): Digital Humanities",
          "local language name": "中文（台灣） (Chinese (Taiwan))",
          "repo_counts": 3,
          "search_label": "Digital Humanities (searched)",
          "search_term": "Digital Humanities",
          "search_type": "searched"
         },
         {
          "English language name": "Chinese (Taiwan)",
          "cleaned_search_language": "中文（台灣） (Chinese (Taiwan))",
          "finalized_language": "zh-TW",
          "graph_label": "中文（台灣） (Chinese (Taiwan)): 数字人文",
          "local language name": "中文（台灣） (Chinese (Taiwan))",
          "repo_counts": 3,
          "search_label": "数字人文 (searched)",
          "search_term": "数字人文",
          "search_type": "searched"
         },
         {
          "English language name": "Chinese (Taiwan)",
          "cleaned_search_language": "中文（台灣） (Chinese (Taiwan))",
          "finalized_language": "zh-TW",
          "graph_label": "中文（台灣） (Chinese (Taiwan)): 數位人文學",
          "local language name": "中文（台灣） (Chinese (Taiwan))",
          "repo_counts": 5,
          "search_label": "數位人文學 (searched)",
          "search_term": "數位人文學",
          "search_type": "searched"
         },
         {
          "English language name": "Czech",
          "cleaned_search_language": "Česky (Czech)",
          "finalized_language": "cs",
          "graph_label": "Česky (Czech): Digital Humanities",
          "local language name": "Česky",
          "repo_counts": 6,
          "search_label": "Digital Humanities (searched)",
          "search_term": "Digital Humanities",
          "search_type": "searched"
         },
         {
          "English language name": "Danish",
          "cleaned_search_language": "Dansk (Danish)",
          "finalized_language": "da",
          "graph_label": "Dansk (Danish): Digital Humaniora",
          "local language name": "Dansk",
          "repo_counts": 3,
          "search_label": "Digital Humaniora (searched)",
          "search_term": "Digital Humaniora",
          "search_type": "searched"
         },
         {
          "English language name": "Danish",
          "cleaned_search_language": "Dansk (Danish)",
          "finalized_language": "da",
          "graph_label": "Dansk (Danish): Digital Humanities",
          "local language name": "Dansk",
          "repo_counts": 1,
          "search_label": "Digital Humanities (searched)",
          "search_term": "Digital Humanities",
          "search_type": "searched"
         },
         {
          "English language name": "Danish",
          "cleaned_search_language": "Dansk (Danish)",
          "finalized_language": "da",
          "graph_label": "Dansk (Danish): Digital humaniora",
          "local language name": "Dansk",
          "repo_counts": 2,
          "search_label": "Digital humaniora (searched)",
          "search_term": "Digital humaniora",
          "search_type": "searched"
         },
         {
          "English language name": "Danish",
          "cleaned_search_language": "Dansk (Danish)",
          "finalized_language": "da",
          "graph_label": "Dansk (Danish): Digitale Humanities",
          "local language name": "Dansk",
          "repo_counts": 1,
          "search_label": "Digitale Humanities (searched)",
          "search_term": "Digitale Humanities",
          "search_type": "searched"
         },
         {
          "English language name": "Danish",
          "cleaned_search_language": "Dansk (Danish)",
          "finalized_language": "da",
          "graph_label": "Dansk (Danish): Humaniora Digital",
          "local language name": "Dansk",
          "repo_counts": 2,
          "search_label": "Humaniora Digital (searched)",
          "search_term": "Humaniora Digital",
          "search_type": "searched"
         },
         {
          "English language name": "Dutch",
          "cleaned_search_language": "Nederlands (Dutch)",
          "finalized_language": "nl",
          "graph_label": "Nederlands (Dutch): Digital Humanities",
          "local language name": "Nederlands",
          "repo_counts": 3,
          "search_label": "Digital Humanities (searched)",
          "search_term": "Digital Humanities",
          "search_type": "searched"
         },
         {
          "English language name": "English",
          "cleaned_search_language": "English",
          "finalized_language": "en",
          "graph_label": "English: Digital Humanities",
          "local language name": "English",
          "repo_counts": 1541,
          "search_label": "Digital Humanities (searched)",
          "search_term": "Digital Humanities",
          "search_type": "searched"
         },
         {
          "English language name": "English",
          "cleaned_search_language": "English",
          "finalized_language": "en",
          "graph_label": "English: Informatica umanistica",
          "local language name": "English",
          "repo_counts": 2,
          "search_label": "Informatica umanistica (searched)",
          "search_term": "Informatica umanistica",
          "search_type": "searched"
         },
         {
          "English language name": "English",
          "cleaned_search_language": "English",
          "finalized_language": "en",
          "graph_label": "English: 数字人文",
          "local language name": "English",
          "repo_counts": 1,
          "search_label": "数字人文 (searched)",
          "search_term": "数字人文",
          "search_type": "searched"
         },
         {
          "English language name": "English and Chinese",
          "cleaned_search_language": "English & 中文 (Chinese)",
          "finalized_language": "en, zh",
          "graph_label": "English & 中文 (Chinese): Digital Humanities",
          "local language name": "English & 中文 (Chinese)",
          "repo_counts": 2,
          "search_label": "Digital Humanities (searched)",
          "search_term": "Digital Humanities",
          "search_type": "searched"
         },
         {
          "English language name": "English and Dutch",
          "cleaned_search_language": "English & Nederlands (Dutch)",
          "finalized_language": "en, nl",
          "graph_label": "English & Nederlands (Dutch): Digital Humanities",
          "local language name": "English & Nederlands (Dutch)",
          "repo_counts": 1,
          "search_label": "Digital Humanities (searched)",
          "search_term": "Digital Humanities",
          "search_type": "searched"
         },
         {
          "English language name": "English and German",
          "cleaned_search_language": "English & Deutsch (German)",
          "finalized_language": "en, de",
          "graph_label": "English & Deutsch (German): Digital Humanities",
          "local language name": "English & Deutsch (German)",
          "repo_counts": 2,
          "search_label": "Digital Humanities (searched)",
          "search_term": "Digital Humanities",
          "search_type": "searched"
         },
         {
          "English language name": "English and German",
          "cleaned_search_language": "English & Deutsch (German)",
          "finalized_language": "en, de",
          "graph_label": "English & Deutsch (German): Digitale Geisteswissenschaften",
          "local language name": "English & Deutsch (German)",
          "repo_counts": 1,
          "search_label": "Digitale Geisteswissenschaften (searched)",
          "search_term": "Digitale Geisteswissenschaften",
          "search_type": "searched"
         },
         {
          "English language name": "English and German",
          "cleaned_search_language": "English & Deutsch (German)",
          "finalized_language": "en, de",
          "graph_label": "English & Deutsch (German): Digitale Humanities",
          "local language name": "English & Deutsch (German)",
          "repo_counts": 1,
          "search_label": "Digitale Humanities (searched)",
          "search_term": "Digitale Humanities",
          "search_type": "searched"
         },
         {
          "English language name": "English and Hebrew",
          "cleaned_search_language": "English & עברית (Hebrew)",
          "finalized_language": "en, he",
          "graph_label": "English & עברית (Hebrew): Digital Humanities",
          "local language name": "English & עברית (Hebrew)",
          "repo_counts": 2,
          "search_label": "Digital Humanities (searched)",
          "search_term": "Digital Humanities",
          "search_type": "searched"
         },
         {
          "English language name": "Estonian",
          "cleaned_search_language": "Eesti (Estonian)",
          "finalized_language": "et",
          "graph_label": "Eesti (Estonian): Digitaalhumanitaaria",
          "local language name": "Eesti",
          "repo_counts": 1,
          "search_label": "Digitaalhumanitaaria (searched)",
          "search_term": "Digitaalhumanitaaria",
          "search_type": "searched"
         },
         {
          "English language name": "Finnish",
          "cleaned_search_language": "Suomi (Finnish)",
          "finalized_language": "fi",
          "graph_label": "Suomi (Finnish): Digitaaliset ihmistieteet",
          "local language name": "Suomi",
          "repo_counts": 1,
          "search_label": "Digitaaliset ihmistieteet (searched)",
          "search_term": "Digitaaliset ihmistieteet",
          "search_type": "searched"
         },
         {
          "English language name": "French",
          "cleaned_search_language": "Français (French)",
          "finalized_language": "fr",
          "graph_label": "Français (French): Digital Humanities",
          "local language name": "Français",
          "repo_counts": 2,
          "search_label": "Digital Humanities (searched)",
          "search_term": "Digital Humanities",
          "search_type": "searched"
         },
         {
          "English language name": "French",
          "cleaned_search_language": "Français (French)",
          "finalized_language": "fr",
          "graph_label": "Français (French): Humanités numériques",
          "local language name": "Français",
          "repo_counts": 46,
          "search_label": "Humanités numériques (searched)",
          "search_term": "Humanités numériques",
          "search_type": "searched"
         },
         {
          "English language name": "German",
          "cleaned_search_language": "Deutsch (German)",
          "finalized_language": "de",
          "graph_label": "Deutsch (German): Digital Humanities",
          "local language name": "Deutsch",
          "repo_counts": 54,
          "search_label": "Digital Humanities (searched)",
          "search_term": "Digital Humanities",
          "search_type": "searched"
         },
         {
          "English language name": "German",
          "cleaned_search_language": "Deutsch (German)",
          "finalized_language": "de",
          "graph_label": "Deutsch (German): Digitale Geisteswissenschaften",
          "local language name": "Deutsch",
          "repo_counts": 3,
          "search_label": "Digitale Geisteswissenschaften (searched)",
          "search_term": "Digitale Geisteswissenschaften",
          "search_type": "searched"
         },
         {
          "English language name": "German",
          "cleaned_search_language": "Deutsch (German)",
          "finalized_language": "de",
          "graph_label": "Deutsch (German): Digitale Humanities",
          "local language name": "Deutsch",
          "repo_counts": 1,
          "search_label": "Digitale Humanities (searched)",
          "search_term": "Digitale Humanities",
          "search_type": "searched"
         },
         {
          "English language name": "German and English",
          "cleaned_search_language": "Deutsch (German) & English",
          "finalized_language": "de, en",
          "graph_label": "Deutsch (German) & English: Digital Humanities",
          "local language name": "Deutsch (German) & English",
          "repo_counts": 4,
          "search_label": "Digital Humanities (searched)",
          "search_term": "Digital Humanities",
          "search_type": "searched"
         },
         {
          "English language name": "Hebrew",
          "cleaned_search_language": "עברית (Hebrew)",
          "finalized_language": "he",
          "graph_label": "עברית (Hebrew): Digital Humanities",
          "local language name": "עברית",
          "repo_counts": 15,
          "search_label": "Digital Humanities (searched)",
          "search_term": "Digital Humanities",
          "search_type": "searched"
         },
         {
          "English language name": "Hungarian and English",
          "cleaned_search_language": "Magyar (Hungarian) & English",
          "finalized_language": "hu, en",
          "graph_label": "Magyar (Hungarian) & English: Digital Humanities",
          "local language name": "Magyar (Hungarian) & English",
          "repo_counts": 1,
          "search_label": "Digital Humanities (searched)",
          "search_term": "Digital Humanities",
          "search_type": "searched"
         },
         {
          "English language name": "Indonesian",
          "cleaned_search_language": "Bahasa Indonesia (Indonesian)",
          "finalized_language": "id",
          "graph_label": "Bahasa Indonesia (Indonesian): Digital Humanities",
          "local language name": "Bahasa Indonesia",
          "repo_counts": 1,
          "search_label": "Digital Humanities (searched)",
          "search_term": "Digital Humanities",
          "search_type": "searched"
         },
         {
          "English language name": "Italian",
          "cleaned_search_language": "Italiano (Italian)",
          "finalized_language": "it",
          "graph_label": "Italiano (Italian): Digital Humanities",
          "local language name": "Italiano",
          "repo_counts": 19,
          "search_label": "Digital Humanities (searched)",
          "search_term": "Digital Humanities",
          "search_type": "searched"
         },
         {
          "English language name": "Italian",
          "cleaned_search_language": "Italiano (Italian)",
          "finalized_language": "it",
          "graph_label": "Italiano (Italian): Informatica umanistica",
          "local language name": "Italiano",
          "repo_counts": 64,
          "search_label": "Informatica umanistica (searched)",
          "search_term": "Informatica umanistica",
          "search_type": "searched"
         },
         {
          "English language name": "Italian and English",
          "cleaned_search_language": "Italiano (Italian) & English",
          "finalized_language": "it, en",
          "graph_label": "Italiano (Italian) & English: Digital Humanities",
          "local language name": "Italiano (Italian) & English",
          "repo_counts": 1,
          "search_label": "Digital Humanities (searched)",
          "search_term": "Digital Humanities",
          "search_type": "searched"
         },
         {
          "English language name": "Japanese",
          "cleaned_search_language": "日本語 (Japanese)",
          "finalized_language": "ja",
          "graph_label": "日本語 (Japanese): 数字人文",
          "local language name": "日本語",
          "repo_counts": 2,
          "search_label": "数字人文 (searched)",
          "search_term": "数字人文",
          "search_type": "searched"
         },
         {
          "English language name": "Korean",
          "cleaned_search_language": "한국어 (Korean)",
          "finalized_language": "ko",
          "graph_label": "한국어 (Korean): Digital Humanities",
          "local language name": "한국어",
          "repo_counts": 6,
          "search_label": "Digital Humanities (searched)",
          "search_term": "Digital Humanities",
          "search_type": "searched"
         },
         {
          "English language name": "Korean",
          "cleaned_search_language": "한국어 (Korean)",
          "finalized_language": "ko",
          "graph_label": "한국어 (Korean): 디지털 인문학",
          "local language name": "한국어",
          "repo_counts": 2,
          "search_label": "디지털 인문학 (searched)",
          "search_term": "디지털 인문학",
          "search_type": "searched"
         },
         {
          "English language name": "Latin",
          "cleaned_search_language": "Latina (Latin)",
          "finalized_language": "la",
          "graph_label": "Latina (Latin): Digital Humanities",
          "local language name": "Latina",
          "repo_counts": 1,
          "search_label": "Digital Humanities (searched)",
          "search_term": "Digital Humanities",
          "search_type": "searched"
         },
         {
          "English language name": "Polish",
          "cleaned_search_language": "Polski (Polish)",
          "finalized_language": "pl",
          "graph_label": "Polski (Polish): Digital Humanities",
          "local language name": "Polski",
          "repo_counts": 1,
          "search_label": "Digital Humanities (searched)",
          "search_term": "Digital Humanities",
          "search_type": "searched"
         },
         {
          "English language name": "Portuguese",
          "cleaned_search_language": "Português (Portuguese)",
          "finalized_language": "pt",
          "graph_label": "Português (Portuguese): Humanidades Digitais",
          "local language name": "Português",
          "repo_counts": 19,
          "search_label": "Humanidades Digitais (searched)",
          "search_term": "Humanidades Digitais",
          "search_type": "searched"
         },
         {
          "English language name": "Portuguese",
          "cleaned_search_language": "Português (Portuguese)",
          "finalized_language": "pt",
          "graph_label": "Português (Portuguese): Humanidades digitales",
          "local language name": "Português",
          "repo_counts": 3,
          "search_label": "Humanidades digitales (searched)",
          "search_term": "Humanidades digitales",
          "search_type": "searched"
         },
         {
          "English language name": "Portuguese and English",
          "cleaned_search_language": "Português (Portuguese) & English",
          "finalized_language": "pt, en",
          "graph_label": "Português (Portuguese) & English: Humanidades Digitais",
          "local language name": "Português (Portuguese) & English",
          "repo_counts": 1,
          "search_label": "Humanidades Digitais (searched)",
          "search_term": "Humanidades Digitais",
          "search_type": "searched"
         },
         {
          "English language name": "Russian",
          "cleaned_search_language": "Русский (Russian)",
          "finalized_language": "ru",
          "graph_label": "Русский (Russian): Digital Humanities",
          "local language name": "Русский",
          "repo_counts": 24,
          "search_label": "Digital Humanities (searched)",
          "search_term": "Digital Humanities",
          "search_type": "searched"
         },
         {
          "English language name": "Russian",
          "cleaned_search_language": "Русский (Russian)",
          "finalized_language": "ru",
          "graph_label": "Русский (Russian): Цифровые гуманитарные науки",
          "local language name": "Русский",
          "repo_counts": 1,
          "search_label": "Цифровые гуманитарные науки (searched)",
          "search_term": "Цифровые гуманитарные науки",
          "search_type": "searched"
         },
         {
          "English language name": "Russian and English",
          "cleaned_search_language": "Русский (Russian) & English",
          "finalized_language": "ru, en",
          "graph_label": "Русский (Russian) & English: Digital Humanities",
          "local language name": "Русский (Russian) & English",
          "repo_counts": 1,
          "search_label": "Digital Humanities (searched)",
          "search_term": "Digital Humanities",
          "search_type": "searched"
         },
         {
          "English language name": "Spanish",
          "cleaned_search_language": "Español (Spanish)",
          "finalized_language": "es",
          "graph_label": "Español (Spanish): Digital Humanities",
          "local language name": "Español",
          "repo_counts": 4,
          "search_label": "Digital Humanities (searched)",
          "search_term": "Digital Humanities",
          "search_type": "searched"
         },
         {
          "English language name": "Spanish",
          "cleaned_search_language": "Español (Spanish)",
          "finalized_language": "es",
          "graph_label": "Español (Spanish): Humanidades digitales",
          "local language name": "Español",
          "repo_counts": 46,
          "search_label": "Humanidades digitales (searched)",
          "search_term": "Humanidades digitales",
          "search_type": "searched"
         },
         {
          "English language name": "Spanish and English",
          "cleaned_search_language": "Español (Spanish) & English",
          "finalized_language": "es, en",
          "graph_label": "Español (Spanish) & English: Humanidades digitales",
          "local language name": "Español (Spanish) & English",
          "repo_counts": 1,
          "search_label": "Humanidades digitales (searched)",
          "search_term": "Humanidades digitales",
          "search_type": "searched"
         },
         {
          "English language name": "Swedish",
          "cleaned_search_language": "Svenska (Swedish)",
          "finalized_language": "sv",
          "graph_label": "Svenska (Swedish): Digital Humaniora",
          "local language name": "Svenska",
          "repo_counts": 1,
          "search_label": "Digital Humaniora (searched)",
          "search_term": "Digital Humaniora",
          "search_type": "searched"
         },
         {
          "English language name": "Swedish",
          "cleaned_search_language": "Svenska (Swedish)",
          "finalized_language": "sv",
          "graph_label": "Svenska (Swedish): Digital humaniora",
          "local language name": "Svenska",
          "repo_counts": 1,
          "search_label": "Digital humaniora (searched)",
          "search_term": "Digital humaniora",
          "search_type": "searched"
         },
         {
          "English language name": "Swedish",
          "cleaned_search_language": "Svenska (Swedish)",
          "finalized_language": "sv",
          "graph_label": "Svenska (Swedish): Humaniora Digital",
          "local language name": "Svenska",
          "repo_counts": 1,
          "search_label": "Humaniora Digital (searched)",
          "search_term": "Humaniora Digital",
          "search_type": "searched"
         },
         {
          "English language name": "Vietnamese",
          "cleaned_search_language": "Tiếng Việt (Vietnamese)",
          "finalized_language": "vi",
          "graph_label": "Tiếng Việt (Vietnamese): Nhân văn kỹ thuật số",
          "local language name": "Tiếng Việt",
          "repo_counts": 16,
          "search_label": "Nhân văn kỹ thuật số (searched)",
          "search_term": "Nhân văn kỹ thuật số",
          "search_type": "searched"
         },
         {
          "English language name": "Latin",
          "cleaned_search_language": "Latina (Latin)",
          "finalized_language": "la",
          "graph_label": "Latina (Latin): Humanitates digitales",
          "local language name": "Latina",
          "repo_counts": 0,
          "search_label": "Humanitates digitales (searched)",
          "search_term": "Humanitates digitales",
          "search_type": "searched"
         },
         {
          "English language name": "Tamil",
          "cleaned_search_language": "தமிழ் (Tamil)",
          "finalized_language": "ta",
          "graph_label": "தமிழ் (Tamil): எண்ணிம மனிதவியல்",
          "local language name": "தமிழ்",
          "repo_counts": 0,
          "search_label": "எண்ணிம மனிதவியல் (searched)",
          "search_term": "எண்ணிம மனிதவியல்",
          "search_type": "searched"
         },
         {
          "English language name": "Catalan",
          "cleaned_search_language": "Català (Catalan)",
          "finalized_language": "ca",
          "graph_label": "Català (Catalan): Humanitats digitals",
          "local language name": "Català",
          "repo_counts": 0,
          "search_label": "Humanitats digitals (searched)",
          "search_term": "Humanitats digitals",
          "search_type": "searched"
         },
         {
          "English language name": "Serbo-Croatian",
          "cleaned_search_language": "Srpskohrvatski / Српскохрватски (Serbo-Croatian)",
          "finalized_language": "sh",
          "graph_label": "Srpskohrvatski / Српскохрватски (Serbo-Croatian): Дигиталне хуманистичке науке",
          "local language name": "Srpskohrvatski / Српскохрватски",
          "repo_counts": 0,
          "search_label": "Дигиталне хуманистичке науке (searched)",
          "search_term": "Дигиталне хуманистичке науке",
          "search_type": "searched"
         },
         {
          "English language name": "Welsh",
          "cleaned_search_language": "Cymraeg (Welsh)",
          "finalized_language": "cy",
          "graph_label": "Cymraeg (Welsh): Dyniaethau digidol",
          "local language name": "Cymraeg",
          "repo_counts": 0,
          "search_label": "Dyniaethau digidol (searched)",
          "search_term": "Dyniaethau digidol",
          "search_type": "searched"
         },
         {
          "English language name": "Arabic",
          "cleaned_search_language": "العربية (Arabic)",
          "finalized_language": "ar",
          "graph_label": "العربية (Arabic): إنسانيات رقمية",
          "local language name": "العربية",
          "repo_counts": 0,
          "search_label": "إنسانيات رقمية (searched)",
          "search_term": "إنسانيات رقمية",
          "search_type": "searched"
         },
         {
          "English language name": "Thai",
          "cleaned_search_language": "ไทย / Phasa Thai (Thai)",
          "finalized_language": "th",
          "graph_label": "ไทย / Phasa Thai (Thai): มนุษยศาสตร์ดิจิทัล",
          "local language name": "ไทย / Phasa Thai",
          "repo_counts": 0,
          "search_label": "มนุษยศาสตร์ดิจิทัล (searched)",
          "search_term": "มนุษยศาสตร์ดิจิทัล",
          "search_type": "searched"
         },
         {
          "English language name": "Slovenian",
          "cleaned_search_language": "Slovenščina (Slovenian)",
          "finalized_language": "sl",
          "graph_label": "Slovenščina (Slovenian): Digitalna humanistika",
          "local language name": "Slovenščina",
          "repo_counts": 0,
          "search_label": "Digitalna humanistika (searched)",
          "search_term": "Digitalna humanistika",
          "search_type": "searched"
         },
         {
          "English language name": "Japanese",
          "cleaned_search_language": "日本語 (Japanese)",
          "finalized_language": "ja",
          "graph_label": "日本語 (Japanese): デジタル・ヒューマニティーズ",
          "local language name": "日本語",
          "repo_counts": 0,
          "search_label": "デジタル・ヒューマニティーズ (searched)",
          "search_term": "デジタル・ヒューマニティーズ",
          "search_type": "searched"
         },
         {
          "English language name": "Hebrew",
          "cleaned_search_language": "עברית (Hebrew)",
          "finalized_language": "he",
          "graph_label": "עברית (Hebrew): מדעי הרוח הדיגיטליים",
          "local language name": "עברית",
          "repo_counts": 0,
          "search_label": "מדעי הרוח הדיגיטליים (searched)",
          "search_term": "מדעי הרוח הדיגיטליים",
          "search_type": "searched"
         },
         {
          "English language name": "Afrikaans",
          "cleaned_search_language": "Afrikaans",
          "finalized_language": "af",
          "graph_label": "Afrikaans: Digitale Geesteswetenskappe",
          "local language name": "Afrikaans",
          "repo_counts": 0,
          "search_label": "Digitale Geesteswetenskappe (searched)",
          "search_term": "Digitale Geesteswetenskappe",
          "search_type": "searched"
         },
         {
          "English language name": "Akan",
          "cleaned_search_language": "Akana (Akan)",
          "finalized_language": "ak",
          "graph_label": "Akana (Akan): Digitals Nnipa Ho Adesua",
          "local language name": "Akana",
          "repo_counts": 0,
          "search_label": "Digitals Nnipa Ho Adesua (searched)",
          "search_term": "Digitals Nnipa Ho Adesua",
          "search_type": "searched"
         },
         {
          "English language name": "Albanian",
          "cleaned_search_language": "Shqip (Albanian)",
          "finalized_language": "sq",
          "graph_label": "Shqip (Albanian): Shkenca Dixhitale Humane",
          "local language name": "Shqip",
          "repo_counts": 0,
          "search_label": "Shkenca Dixhitale Humane (searched)",
          "search_term": "Shkenca Dixhitale Humane",
          "search_type": "searched"
         },
         {
          "English language name": "Amharic",
          "cleaned_search_language": "አማርኛ (Amharic)",
          "finalized_language": "am",
          "graph_label": "አማርኛ (Amharic): ዲጂታል ሰብአዊነት",
          "local language name": "አማርኛ",
          "repo_counts": 0,
          "search_label": "ዲጂታል ሰብአዊነት (searched)",
          "search_term": "ዲጂታል ሰብአዊነት",
          "search_type": "searched"
         },
         {
          "English language name": "Armenian",
          "cleaned_search_language": "Հայերեն (Armenian)",
          "finalized_language": "hy",
          "graph_label": "Հայերեն (Armenian): Թվային հումանիտար գիտություններ",
          "local language name": "Հայերեն",
          "repo_counts": 0,
          "search_label": "Թվային հումանիտար գիտություններ (searched)",
          "search_term": "Թվային հումանիտար գիտություններ",
          "search_type": "searched"
         },
         {
          "English language name": "Assamese",
          "cleaned_search_language": "অসমীয়া (Assamese)",
          "finalized_language": "as",
          "graph_label": "অসমীয়া (Assamese): ডিজিটেল মানৱীয় বিজ্ঞান",
          "local language name": "অসমীয়া",
          "repo_counts": 0,
          "search_label": "ডিজিটেল মানৱীয় বিজ্ঞান (searched)",
          "search_term": "ডিজিটেল মানৱীয় বিজ্ঞান",
          "search_type": "searched"
         },
         {
          "English language name": "Aymara",
          "cleaned_search_language": "Aymar (Aymara)",
          "finalized_language": "ay",
          "graph_label": "Aymar (Aymara): Humanidades Digitales uka tuqit yatxataña",
          "local language name": "Aymar",
          "repo_counts": 0,
          "search_label": "Humanidades Digitales uka tuqit yatxataña (searched)",
          "search_term": "Humanidades Digitales uka tuqit yatxataña",
          "search_type": "searched"
         },
         {
          "English language name": "Azerbaijani",
          "cleaned_search_language": "Azərbaycanca / آذربايجان (Azerbaijani)",
          "finalized_language": "az",
          "graph_label": "Azərbaycanca / آذربايجان (Azerbaijani): Rəqəmsal humanitar elmlər",
          "local language name": "Azərbaycanca / آذربايجان",
          "repo_counts": 0,
          "search_label": "Rəqəmsal humanitar elmlər (searched)",
          "search_term": "Rəqəmsal humanitar elmlər",
          "search_type": "searched"
         },
         {
          "English language name": "Bambara",
          "cleaned_search_language": "Bamanankan (Bambara)",
          "finalized_language": "bm",
          "graph_label": "Bamanankan (Bambara): Hadamadenw ka dɔnniya nimɔrɔma",
          "local language name": "Bamanankan",
          "repo_counts": 0,
          "search_label": "Hadamadenw ka dɔnniya nimɔrɔma (searched)",
          "search_term": "Hadamadenw ka dɔnniya nimɔrɔma",
          "search_type": "searched"
         },
         {
          "English language name": "Basque",
          "cleaned_search_language": "Euskara (Basque)",
          "finalized_language": "eu",
          "graph_label": "Euskara (Basque): Humanitate Digitalak",
          "local language name": "Euskara",
          "repo_counts": 0,
          "search_label": "Humanitate Digitalak (searched)",
          "search_term": "Humanitate Digitalak",
          "search_type": "searched"
         },
         {
          "English language name": "Belarusian",
          "cleaned_search_language": "Беларуская (Belarusian)",
          "finalized_language": "be",
          "graph_label": "Беларуская (Belarusian): Лічбавая гуманітарная навука",
          "local language name": "Беларуская",
          "repo_counts": 0,
          "search_label": "Лічбавая гуманітарная навука (searched)",
          "search_term": "Лічбавая гуманітарная навука",
          "search_type": "searched"
         },
         {
          "English language name": "Bengali",
          "cleaned_search_language": "বাংলা (Bengali)",
          "finalized_language": "bn",
          "graph_label": "বাংলা (Bengali): ডিজিটাল মানবিক",
          "local language name": "বাংলা",
          "repo_counts": 0,
          "search_label": "ডিজিটাল মানবিক (searched)",
          "search_term": "ডিজিটাল মানবিক",
          "search_type": "searched"
         },
         {
          "English language name": "Bihari",
          "cleaned_search_language": "भोजपुरी (Bihari)",
          "finalized_language": "bh",
          "graph_label": "भोजपुरी (Bihari): डिजिटल मानविकी के बारे में बतावल गइल बा",
          "local language name": "भोजपुरी",
          "repo_counts": 0,
          "search_label": "डिजिटल मानविकी के बारे में बतावल गइल बा (searched)",
          "search_term": "डिजिटल मानविकी के बारे में बतावल गइल बा",
          "search_type": "searched"
         },
         {
          "English language name": "Bosnian",
          "cleaned_search_language": "Bosanski (Bosnian)",
          "finalized_language": "bs",
          "graph_label": "Bosanski (Bosnian): Digitalne humanističke nauke",
          "local language name": "Bosanski",
          "repo_counts": 0,
          "search_label": "Digitalne humanističke nauke (searched)",
          "search_term": "Digitalne humanističke nauke",
          "search_type": "searched"
         },
         {
          "English language name": "Bulgarian",
          "cleaned_search_language": "Български (Bulgarian)",
          "finalized_language": "bg",
          "graph_label": "Български (Bulgarian): Дигитални хуманитарни науки",
          "local language name": "Български",
          "repo_counts": 0,
          "search_label": "Дигитални хуманитарни науки (searched)",
          "search_term": "Дигитални хуманитарни науки",
          "search_type": "searched"
         },
         {
          "English language name": "Burmese",
          "cleaned_search_language": "Myanmasa (Burmese)",
          "finalized_language": "my",
          "graph_label": "Myanmasa (Burmese): ဒစ်ဂျစ်တယ်လူ့ပညာ",
          "local language name": "Myanmasa",
          "repo_counts": 0,
          "search_label": "ဒစ်ဂျစ်တယ်လူ့ပညာ (searched)",
          "search_term": "ဒစ်ဂျစ်တယ်လူ့ပညာ",
          "search_type": "searched"
         },
         {
          "English language name": "Chichewa",
          "cleaned_search_language": "Chi-Chewa (Chichewa)",
          "finalized_language": "ny",
          "graph_label": "Chi-Chewa (Chichewa): Digital Humanities",
          "local language name": "Chi-Chewa",
          "repo_counts": 0,
          "search_label": "Digital Humanities (searched)",
          "search_term": "Digital Humanities",
          "search_type": "searched"
         },
         {
          "English language name": "Chinese",
          "cleaned_search_language": "中文 (Chinese)",
          "finalized_language": "zh",
          "graph_label": "中文 (Chinese): 数字人文",
          "local language name": "中文",
          "repo_counts": 0,
          "search_label": "数字人文 (searched)",
          "search_term": "数字人文",
          "search_type": "searched"
         },
         {
          "English language name": "Corsican",
          "cleaned_search_language": "Corsu (Corsican)",
          "finalized_language": "co",
          "graph_label": "Corsu (Corsican): Umanità digitale",
          "local language name": "Corsu",
          "repo_counts": 0,
          "search_label": "Umanità digitale (searched)",
          "search_term": "Umanità digitale",
          "search_type": "searched"
         },
         {
          "English language name": "Croatian",
          "cleaned_search_language": "Hrvatski (Croatian)",
          "finalized_language": "hr",
          "graph_label": "Hrvatski (Croatian): Digitalne humanističke znanosti",
          "local language name": "Hrvatski",
          "repo_counts": 0,
          "search_label": "Digitalne humanističke znanosti (searched)",
          "search_term": "Digitalne humanističke znanosti",
          "search_type": "searched"
         },
         {
          "English language name": "Czech",
          "cleaned_search_language": "Česky (Czech)",
          "finalized_language": "cs",
          "graph_label": "Česky (Czech): Digitální humanitní vědy",
          "local language name": "Česky",
          "repo_counts": 0,
          "search_label": "Digitální humanitní vědy (searched)",
          "search_term": "Digitální humanitní vědy",
          "search_type": "searched"
         },
         {
          "English language name": "Divehi",
          "cleaned_search_language": "ދިވެހިބަސް (Divehi)",
          "finalized_language": "dv",
          "graph_label": "ދިވެހިބަސް (Divehi): ދިރާގު ހިއުމަނިޓީސް އެވެ",
          "local language name": "ދިވެހިބަސް",
          "repo_counts": 0,
          "search_label": "ދިރާގު ހިއުމަނިޓީސް އެވެ (searched)",
          "search_term": "ދިރާގު ހިއުމަނިޓީސް އެވެ",
          "search_type": "searched"
         },
         {
          "English language name": "Dutch",
          "cleaned_search_language": "Nederlands (Dutch)",
          "finalized_language": "nl",
          "graph_label": "Nederlands (Dutch): Digitale geesteswetenschappen",
          "local language name": "Nederlands",
          "repo_counts": 0,
          "search_label": "Digitale geesteswetenschappen (searched)",
          "search_term": "Digitale geesteswetenschappen",
          "search_type": "searched"
         },
         {
          "English language name": "Esperanto",
          "cleaned_search_language": "Esperanto",
          "finalized_language": "eo",
          "graph_label": "Esperanto: Ciferecaj Homaroj",
          "local language name": "Esperanto",
          "repo_counts": 0,
          "search_label": "Ciferecaj Homaroj (searched)",
          "search_term": "Ciferecaj Homaroj",
          "search_type": "searched"
         },
         {
          "English language name": "Ewe",
          "cleaned_search_language": "Ɛʋɛ (Ewe)",
          "finalized_language": "ee",
          "graph_label": "Ɛʋɛ (Ewe): Digitál Amegbetɔŋutinunya",
          "local language name": "Ɛʋɛ",
          "repo_counts": 0,
          "search_label": "Digitál Amegbetɔŋutinunya (searched)",
          "search_term": "Digitál Amegbetɔŋutinunya",
          "search_type": "searched"
         },
         {
          "English language name": "Galician",
          "cleaned_search_language": "Galego (Galician)",
          "finalized_language": "gl",
          "graph_label": "Galego (Galician): Humanidades Dixitais",
          "local language name": "Galego",
          "repo_counts": 0,
          "search_label": "Humanidades Dixitais (searched)",
          "search_term": "Humanidades Dixitais",
          "search_type": "searched"
         },
         {
          "English language name": "Georgian",
          "cleaned_search_language": "ქართული (Georgian)",
          "finalized_language": "ka",
          "graph_label": "ქართული (Georgian): ციფრული ჰუმანიტარული მეცნიერებები",
          "local language name": "ქართული",
          "repo_counts": 0,
          "search_label": "ციფრული ჰუმანიტარული მეცნიერებები (searched)",
          "search_term": "ციფრული ჰუმანიტარული მეცნიერებები",
          "search_type": "searched"
         },
         {
          "English language name": "Greek",
          "cleaned_search_language": "Ελληνικά (Greek)",
          "finalized_language": "el",
          "graph_label": "Ελληνικά (Greek): Ψηφιακές Ανθρωπιστικές Επιστήμες",
          "local language name": "Ελληνικά",
          "repo_counts": 0,
          "search_label": "Ψηφιακές Ανθρωπιστικές Επιστήμες (searched)",
          "search_term": "Ψηφιακές Ανθρωπιστικές Επιστήμες",
          "search_type": "searched"
         },
         {
          "English language name": "Guarani",
          "cleaned_search_language": "Avañe'ẽ (Guarani)",
          "finalized_language": "gn",
          "graph_label": "Avañe'ẽ (Guarani): Humanidades Digitales rehegua",
          "local language name": "Avañe'ẽ",
          "repo_counts": 0,
          "search_label": "Humanidades Digitales rehegua (searched)",
          "search_term": "Humanidades Digitales rehegua",
          "search_type": "searched"
         },
         {
          "English language name": "Gujarati",
          "cleaned_search_language": "ગુજરાતી (Gujarati)",
          "finalized_language": "gu",
          "graph_label": "ગુજરાતી (Gujarati): ડિજિટલ માનવતા",
          "local language name": "ગુજરાતી",
          "repo_counts": 0,
          "search_label": "ડિજિટલ માનવતા (searched)",
          "search_term": "ડિજિટલ માનવતા",
          "search_type": "searched"
         },
         {
          "English language name": "Haitian",
          "cleaned_search_language": "Krèyol ayisyen (Haitian)",
          "finalized_language": "ht",
          "graph_label": "Krèyol ayisyen (Haitian): Syans imanitè dijital",
          "local language name": "Krèyol ayisyen",
          "repo_counts": 0,
          "search_label": "Syans imanitè dijital (searched)",
          "search_term": "Syans imanitè dijital",
          "search_type": "searched"
         },
         {
          "English language name": "Hausa",
          "cleaned_search_language": "هَوُسَ (Hausa)",
          "finalized_language": "ha",
          "graph_label": "هَوُسَ (Hausa): Digital Humanities",
          "local language name": "هَوُسَ",
          "repo_counts": 0,
          "search_label": "Digital Humanities (searched)",
          "search_term": "Digital Humanities",
          "search_type": "searched"
         },
         {
          "English language name": "Hindi",
          "cleaned_search_language": "हिन्दी (Hindi)",
          "finalized_language": "hi",
          "graph_label": "हिन्दी (Hindi): डिजिटल मानविकी",
          "local language name": "हिन्दी",
          "repo_counts": 0,
          "search_label": "डिजिटल मानविकी (searched)",
          "search_term": "डिजिटल मानविकी",
          "search_type": "searched"
         },
         {
          "English language name": "Hungarian",
          "cleaned_search_language": "Magyar (Hungarian)",
          "finalized_language": "hu",
          "graph_label": "Magyar (Hungarian): Digitális humán tudományok",
          "local language name": "Magyar",
          "repo_counts": 0,
          "search_label": "Digitális humán tudományok (searched)",
          "search_term": "Digitális humán tudományok",
          "search_type": "searched"
         },
         {
          "English language name": "Indonesian",
          "cleaned_search_language": "Bahasa Indonesia (Indonesian)",
          "finalized_language": "id",
          "graph_label": "Bahasa Indonesia (Indonesian): Humaniora Digital",
          "local language name": "Bahasa Indonesia",
          "repo_counts": 0,
          "search_label": "Humaniora Digital (searched)",
          "search_term": "Humaniora Digital",
          "search_type": "searched"
         },
         {
          "English language name": "Irish",
          "cleaned_search_language": "Gaeilge (Irish)",
          "finalized_language": "ga",
          "graph_label": "Gaeilge (Irish): Daonnachtaí Digiteacha",
          "local language name": "Gaeilge",
          "repo_counts": 0,
          "search_label": "Daonnachtaí Digiteacha (searched)",
          "search_term": "Daonnachtaí Digiteacha",
          "search_type": "searched"
         },
         {
          "English language name": "Igbo",
          "cleaned_search_language": "Igbo",
          "finalized_language": "ig",
          "graph_label": "Igbo: Digital Humanities",
          "local language name": "Igbo",
          "repo_counts": 0,
          "search_label": "Digital Humanities (searched)",
          "search_term": "Digital Humanities",
          "search_type": "searched"
         },
         {
          "English language name": "Icelandic",
          "cleaned_search_language": "Íslenska (Icelandic)",
          "finalized_language": "is",
          "graph_label": "Íslenska (Icelandic): Stafræn hugvísindi",
          "local language name": "Íslenska",
          "repo_counts": 0,
          "search_label": "Stafræn hugvísindi (searched)",
          "search_term": "Stafræn hugvísindi",
          "search_type": "searched"
         },
         {
          "English language name": "Javanese",
          "cleaned_search_language": "Basa Jawa (Javanese)",
          "finalized_language": "jv",
          "graph_label": "Basa Jawa (Javanese): Kamanungsan Digital",
          "local language name": "Basa Jawa",
          "repo_counts": 0,
          "search_label": "Kamanungsan Digital (searched)",
          "search_term": "Kamanungsan Digital",
          "search_type": "searched"
         },
         {
          "English language name": "Kannada",
          "cleaned_search_language": "ಕನ್ನಡ (Kannada)",
          "finalized_language": "kn",
          "graph_label": "ಕನ್ನಡ (Kannada): ಡಿಜಿಟಲ್ ಹ್ಯುಮಾನಿಟೀಸ್",
          "local language name": "ಕನ್ನಡ",
          "repo_counts": 0,
          "search_label": "ಡಿಜಿಟಲ್ ಹ್ಯುಮಾನಿಟೀಸ್ (searched)",
          "search_term": "ಡಿಜಿಟಲ್ ಹ್ಯುಮಾನಿಟೀಸ್",
          "search_type": "searched"
         },
         {
          "English language name": "Kazakh",
          "cleaned_search_language": "Қазақша (Kazakh)",
          "finalized_language": "kk",
          "graph_label": "Қазақша (Kazakh): Сандық гуманитарлық ғылымдар",
          "local language name": "Қазақша",
          "repo_counts": 0,
          "search_label": "Сандық гуманитарлық ғылымдар (searched)",
          "search_term": "Сандық гуманитарлық ғылымдар",
          "search_type": "searched"
         },
         {
          "English language name": "Cambodian",
          "cleaned_search_language": "ភាសាខ្មែរ (Cambodian)",
          "finalized_language": "km",
          "graph_label": "ភាសាខ្មែរ (Cambodian): មនុស្សធម៌ឌីជីថល",
          "local language name": "ភាសាខ្មែរ",
          "repo_counts": 0,
          "search_label": "មនុស្សធម៌ឌីជីថល (searched)",
          "search_term": "មនុស្សធម៌ឌីជីថល",
          "search_type": "searched"
         },
         {
          "English language name": "Rwandi",
          "cleaned_search_language": "Kinyarwandi (Rwandi)",
          "finalized_language": "rw",
          "graph_label": "Kinyarwandi (Rwandi): Ubumenyamuntu",
          "local language name": "Kinyarwandi",
          "repo_counts": 0,
          "search_label": "Ubumenyamuntu (searched)",
          "search_term": "Ubumenyamuntu",
          "search_type": "searched"
         },
         {
          "English language name": "Kirghiz",
          "cleaned_search_language": "Kırgızca / Кыргызча (Kirghiz)",
          "finalized_language": "ky",
          "graph_label": "Kırgızca / Кыргызча (Kirghiz): Санариптик гуманитардык илимдер",
          "local language name": "Kırgızca / Кыргызча",
          "repo_counts": 0,
          "search_label": "Санариптик гуманитардык илимдер (searched)",
          "search_term": "Санариптик гуманитардык илимдер",
          "search_type": "searched"
         },
         {
          "English language name": "Kurdish (Kurmanji)",
          "cleaned_search_language": "Kurdî (Kurdish (Kurmanji))",
          "finalized_language": "ku",
          "graph_label": "Kurdî (Kurdish (Kurmanji)): Dijîtal Humanities",
          "local language name": "Kurdî",
          "repo_counts": 0,
          "search_label": "Dijîtal Humanities (searched)",
          "search_term": "Dijîtal Humanities",
          "search_type": "searched"
         },
         {
          "English language name": "Luxembourgish",
          "cleaned_search_language": "Lëtzebuergesch (Luxembourgish)",
          "finalized_language": "lb",
          "graph_label": "Lëtzebuergesch (Luxembourgish): Digital Humanities",
          "local language name": "Lëtzebuergesch",
          "repo_counts": 0,
          "search_label": "Digital Humanities (searched)",
          "search_term": "Digital Humanities",
          "search_type": "searched"
         },
         {
          "English language name": "Ganda",
          "cleaned_search_language": "Luganda (Ganda)",
          "finalized_language": "lg",
          "graph_label": "Luganda (Ganda): Eby’obuntubulamu ebya Digital",
          "local language name": "Luganda",
          "repo_counts": 0,
          "search_label": "Eby’obuntubulamu ebya Digital (searched)",
          "search_term": "Eby’obuntubulamu ebya Digital",
          "search_type": "searched"
         },
         {
          "English language name": "Lingala",
          "cleaned_search_language": "Lingála (Lingala)",
          "finalized_language": "ln",
          "graph_label": "Lingála (Lingala): Humanités numériques",
          "local language name": "Lingála",
          "repo_counts": 0,
          "search_label": "Humanités numériques (searched)",
          "search_term": "Humanités numériques",
          "search_type": "searched"
         },
         {
          "English language name": "Laotian",
          "cleaned_search_language": "ລາວ / Pha xa lao (Laotian)",
          "finalized_language": "lo",
          "graph_label": "ລາວ / Pha xa lao (Laotian): ມະນຸດສາດດິຈິຕອນ",
          "local language name": "ລາວ / Pha xa lao",
          "repo_counts": 0,
          "search_label": "ມະນຸດສາດດິຈິຕອນ (searched)",
          "search_term": "ມະນຸດສາດດິຈິຕອນ",
          "search_type": "searched"
         },
         {
          "English language name": "Lithuanian",
          "cleaned_search_language": "Lietuvių (Lithuanian)",
          "finalized_language": "lt",
          "graph_label": "Lietuvių (Lithuanian): Skaitmeniniai humanitariniai mokslai",
          "local language name": "Lietuvių",
          "repo_counts": 0,
          "search_label": "Skaitmeniniai humanitariniai mokslai (searched)",
          "search_term": "Skaitmeniniai humanitariniai mokslai",
          "search_type": "searched"
         },
         {
          "English language name": "Latvian",
          "cleaned_search_language": "Latviešu (Latvian)",
          "finalized_language": "lv",
          "graph_label": "Latviešu (Latvian): Digitālās humanitārās zinātnes",
          "local language name": "Latviešu",
          "repo_counts": 0,
          "search_label": "Digitālās humanitārās zinātnes (searched)",
          "search_term": "Digitālās humanitārās zinātnes",
          "search_type": "searched"
         },
         {
          "English language name": "Macedonian",
          "cleaned_search_language": "Македонски (Macedonian)",
          "finalized_language": "mk",
          "graph_label": "Македонски (Macedonian): Дигитални хуманистички науки",
          "local language name": "Македонски",
          "repo_counts": 0,
          "search_label": "Дигитални хуманистички науки (searched)",
          "search_term": "Дигитални хуманистички науки",
          "search_type": "searched"
         },
         {
          "English language name": "Malagasy",
          "cleaned_search_language": "Malagasy",
          "finalized_language": "mg",
          "graph_label": "Malagasy: Digital Humanities",
          "local language name": "Malagasy",
          "repo_counts": 0,
          "search_label": "Digital Humanities (searched)",
          "search_term": "Digital Humanities",
          "search_type": "searched"
         },
         {
          "English language name": "Malay",
          "cleaned_search_language": "Bahasa Melayu (Malay)",
          "finalized_language": "ms",
          "graph_label": "Bahasa Melayu (Malay): Kemanusiaan Digital",
          "local language name": "Bahasa Melayu",
          "repo_counts": 0,
          "search_label": "Kemanusiaan Digital (searched)",
          "search_term": "Kemanusiaan Digital",
          "search_type": "searched"
         },
         {
          "English language name": "Malayalam",
          "cleaned_search_language": "മലയാളം (Malayalam)",
          "finalized_language": "ml",
          "graph_label": "മലയാളം (Malayalam): ഡിജിറ്റൽ ഹ്യുമാനിറ്റീസ്",
          "local language name": "മലയാളം",
          "repo_counts": 0,
          "search_label": "ഡിജിറ്റൽ ഹ്യുമാനിറ്റീസ് (searched)",
          "search_term": "ഡിജിറ്റൽ ഹ്യുമാനിറ്റീസ്",
          "search_type": "searched"
         },
         {
          "English language name": "Maltese",
          "cleaned_search_language": "bil-Malti (Maltese)",
          "finalized_language": "mt",
          "graph_label": "bil-Malti (Maltese): Umanistika Diġitali",
          "local language name": "bil-Malti",
          "repo_counts": 0,
          "search_label": "Umanistika Diġitali (searched)",
          "search_term": "Umanistika Diġitali",
          "search_type": "searched"
         },
         {
          "English language name": "Māori",
          "cleaned_search_language": "Māori",
          "finalized_language": "mi",
          "graph_label": "Māori: Mamati Tangata",
          "local language name": "Māori",
          "repo_counts": 0,
          "search_label": "Mamati Tangata (searched)",
          "search_term": "Mamati Tangata",
          "search_type": "searched"
         },
         {
          "English language name": "Marathi",
          "cleaned_search_language": "मराठी (Marathi)",
          "finalized_language": "mr",
          "graph_label": "मराठी (Marathi): डिजिटल मानवता",
          "local language name": "मराठी",
          "repo_counts": 0,
          "search_label": "डिजिटल मानवता (searched)",
          "search_term": "डिजिटल मानवता",
          "search_type": "searched"
         },
         {
          "English language name": "Mongolian",
          "cleaned_search_language": "Монгол (Mongolian)",
          "finalized_language": "mn",
          "graph_label": "Монгол (Mongolian): Дижитал хүмүүнлэг",
          "local language name": "Монгол",
          "repo_counts": 0,
          "search_label": "Дижитал хүмүүнлэг (searched)",
          "search_term": "Дижитал хүмүүнлэг",
          "search_type": "searched"
         },
         {
          "English language name": "Norwegian Bokmål",
          "cleaned_search_language": "Norsk (bokmål) (Norwegian)",
          "finalized_language": "nb",
          "graph_label": "Norsk (bokmål) (Norwegian): Digital humaniora",
          "local language name": "Norsk (bokmål)",
          "repo_counts": 0,
          "search_label": "Digital humaniora (searched)",
          "search_term": "Digital humaniora",
          "search_type": "searched"
         },
         {
          "English language name": "Nepali",
          "cleaned_search_language": "नेपाली (Nepali)",
          "finalized_language": "ne",
          "graph_label": "नेपाली (Nepali): डिजिटल मानविकी",
          "local language name": "नेपाली",
          "repo_counts": 0,
          "search_label": "डिजिटल मानविकी (searched)",
          "search_term": "डिजिटल मानविकी",
          "search_type": "searched"
         },
         {
          "English language name": "Norwegian",
          "cleaned_search_language": "Norsk (bokmål / riksmål)",
          "finalized_language": "no",
          "graph_label": "Norsk (bokmål / riksmål): Digital humaniora",
          "local language name": "Norsk (bokmål / riksmål)",
          "repo_counts": 0,
          "search_label": "Digital humaniora (searched)",
          "search_term": "Digital humaniora",
          "search_type": "searched"
         },
         {
          "English language name": "Oromo",
          "cleaned_search_language": "Oromoo (Oromo)",
          "finalized_language": "om",
          "graph_label": "Oromoo (Oromo): Saayinsii Namoomaa Dijitaalaa",
          "local language name": "Oromoo",
          "repo_counts": 0,
          "search_label": "Saayinsii Namoomaa Dijitaalaa (searched)",
          "search_term": "Saayinsii Namoomaa Dijitaalaa",
          "search_type": "searched"
         },
         {
          "English language name": "Oriya",
          "cleaned_search_language": "ଓଡ଼ିଆ (Oriya)",
          "finalized_language": "or",
          "graph_label": "ଓଡ଼ିଆ (Oriya): ଡିଜିଟାଲ୍ ମାନବିକତା |",
          "local language name": "ଓଡ଼ିଆ",
          "repo_counts": 0,
          "search_label": "ଡିଜିଟାଲ୍ ମାନବିକତା | (searched)",
          "search_term": "ଡିଜିଟାଲ୍ ମାନବିକତା |",
          "search_type": "searched"
         },
         {
          "English language name": "Panjabi / Punjabi",
          "cleaned_search_language": "ਪੰਜਾਬੀ / پنجابی (Panjabi / Punjabi)",
          "finalized_language": "pa",
          "graph_label": "ਪੰਜਾਬੀ / پنجابی (Panjabi / Punjabi): ਡਿਜੀਟਲ ਮਨੁੱਖਤਾ",
          "local language name": "ਪੰਜਾਬੀ / پنجابی",
          "repo_counts": 0,
          "search_label": "ਡਿਜੀਟਲ ਮਨੁੱਖਤਾ (searched)",
          "search_term": "ਡਿਜੀਟਲ ਮਨੁੱਖਤਾ",
          "search_type": "searched"
         },
         {
          "English language name": "Persian",
          "cleaned_search_language": "فارسی (Persian)",
          "finalized_language": "fa",
          "graph_label": "فارسی (Persian): علوم انسانی دیجیتال",
          "local language name": "فارسی",
          "repo_counts": 0,
          "search_label": "علوم انسانی دیجیتال (searched)",
          "search_term": "علوم انسانی دیجیتال",
          "search_type": "searched"
         },
         {
          "English language name": "Polish",
          "cleaned_search_language": "Polski (Polish)",
          "finalized_language": "pl",
          "graph_label": "Polski (Polish): Humanistyka cyfrowa",
          "local language name": "Polski",
          "repo_counts": 0,
          "search_label": "Humanistyka cyfrowa (searched)",
          "search_term": "Humanistyka cyfrowa",
          "search_type": "searched"
         },
         {
          "English language name": "Pashto",
          "cleaned_search_language": "پښتو (Pashto)",
          "finalized_language": "ps",
          "graph_label": "پښتو (Pashto): ډیجیټل انسانیتونه",
          "local language name": "پښتو",
          "repo_counts": 0,
          "search_label": "ډیجیټل انسانیتونه (searched)",
          "search_term": "ډیجیټل انسانیتونه",
          "search_type": "searched"
         },
         {
          "English language name": "Quechua",
          "cleaned_search_language": "Runa Simi (Quechua)",
          "finalized_language": "qu",
          "graph_label": "Runa Simi (Quechua): Humanidades Digitales nisqa",
          "local language name": "Runa Simi",
          "repo_counts": 0,
          "search_label": "Humanidades Digitales nisqa (searched)",
          "search_term": "Humanidades Digitales nisqa",
          "search_type": "searched"
         },
         {
          "English language name": "Romanian",
          "cleaned_search_language": "Română (Romanian)",
          "finalized_language": "ro",
          "graph_label": "Română (Romanian): Științe umaniste digitale",
          "local language name": "Română",
          "repo_counts": 0,
          "search_label": "Științe umaniste digitale (searched)",
          "search_term": "Științe umaniste digitale",
          "search_type": "searched"
         },
         {
          "English language name": "Sanskrit",
          "cleaned_search_language": "संस्कृतम् (Sanskrit)",
          "finalized_language": "sa",
          "graph_label": "संस्कृतम् (Sanskrit): डिजिटल मानविकी",
          "local language name": "संस्कृतम्",
          "repo_counts": 0,
          "search_label": "डिजिटल मानविकी (searched)",
          "search_term": "डिजिटल मानविकी",
          "search_type": "searched"
         },
         {
          "English language name": "Sindhi",
          "cleaned_search_language": "सिंधी / سنڌي‎ (Sindhi)",
          "finalized_language": "sd",
          "graph_label": "सिंधी / سنڌي‎ (Sindhi): ڊجيٽل انسانيت",
          "local language name": "सिंधी / سنڌي‎",
          "repo_counts": 0,
          "search_label": "ڊجيٽل انسانيت (searched)",
          "search_term": "ڊجيٽل انسانيت",
          "search_type": "searched"
         },
         {
          "English language name": "Samoan",
          "cleaned_search_language": "Gagana Samoa (Samoan)",
          "finalized_language": "sm",
          "graph_label": "Gagana Samoa (Samoan): Digital Humanities",
          "local language name": "Gagana Samoa",
          "repo_counts": 0,
          "search_label": "Digital Humanities (searched)",
          "search_term": "Digital Humanities",
          "search_type": "searched"
         },
         {
          "English language name": "Serbian",
          "cleaned_search_language": "Српски (Serbian)",
          "finalized_language": "sr",
          "graph_label": "Српски (Serbian): Дигиталне хуманистичке науке",
          "local language name": "Српски",
          "repo_counts": 0,
          "search_label": "Дигиталне хуманистичке науке (searched)",
          "search_term": "Дигиталне хуманистичке науке",
          "search_type": "searched"
         },
         {
          "English language name": "Scottish Gaelic",
          "cleaned_search_language": "Gàidhlig (Scottish Gaelic)",
          "finalized_language": "gd",
          "graph_label": "Gàidhlig (Scottish Gaelic): Daonnachdan didseatach",
          "local language name": "Gàidhlig",
          "repo_counts": 0,
          "search_label": "Daonnachdan didseatach (searched)",
          "search_term": "Daonnachdan didseatach",
          "search_type": "searched"
         },
         {
          "English language name": "Shona",
          "cleaned_search_language": "chiShona (Shona)",
          "finalized_language": "sn",
          "graph_label": "chiShona (Shona): Digital Humanities",
          "local language name": "chiShona",
          "repo_counts": 0,
          "search_label": "Digital Humanities (searched)",
          "search_term": "Digital Humanities",
          "search_type": "searched"
         },
         {
          "English language name": "Sinhalese",
          "cleaned_search_language": "සිංහල (Sinhalese)",
          "finalized_language": "si",
          "graph_label": "සිංහල (Sinhalese): ඩිජිටල් මානව ශාස්ත්‍ර",
          "local language name": "සිංහල",
          "repo_counts": 0,
          "search_label": "ඩිජිටල් මානව ශාස්ත්‍ර (searched)",
          "search_term": "ඩිජිටල් මානව ශාස්ත්‍ර",
          "search_type": "searched"
         },
         {
          "English language name": "Slovak",
          "cleaned_search_language": "Slovenčina (Slovak)",
          "finalized_language": "sk",
          "graph_label": "Slovenčina (Slovak): Digitálne humanitné vedy",
          "local language name": "Slovenčina",
          "repo_counts": 0,
          "search_label": "Digitálne humanitné vedy (searched)",
          "search_term": "Digitálne humanitné vedy",
          "search_type": "searched"
         },
         {
          "English language name": "Somalia",
          "cleaned_search_language": "Soomaaliga (Somalia)",
          "finalized_language": "so",
          "graph_label": "Soomaaliga (Somalia): Aadamaha Dijital ah",
          "local language name": "Soomaaliga",
          "repo_counts": 0,
          "search_label": "Aadamaha Dijital ah (searched)",
          "search_term": "Aadamaha Dijital ah",
          "search_type": "searched"
         },
         {
          "English language name": "Southern Sotho",
          "cleaned_search_language": "Sesotho (Southern Sotho)",
          "finalized_language": "st",
          "graph_label": "Sesotho (Southern Sotho): Digital Humanities",
          "local language name": "Sesotho",
          "repo_counts": 0,
          "search_label": "Digital Humanities (searched)",
          "search_term": "Digital Humanities",
          "search_type": "searched"
         },
         {
          "English language name": "Sundanese",
          "cleaned_search_language": "Basa Sunda (Sundanese)",
          "finalized_language": "su",
          "graph_label": "Basa Sunda (Sundanese): Kamanusaan Digital",
          "local language name": "Basa Sunda",
          "repo_counts": 0,
          "search_label": "Kamanusaan Digital (searched)",
          "search_term": "Kamanusaan Digital",
          "search_type": "searched"
         },
         {
          "English language name": "Swahili",
          "cleaned_search_language": "Kiswahili (Swahili)",
          "finalized_language": "sw",
          "graph_label": "Kiswahili (Swahili): Binadamu wa Kidijitali",
          "local language name": "Kiswahili",
          "repo_counts": 0,
          "search_label": "Binadamu wa Kidijitali (searched)",
          "search_term": "Binadamu wa Kidijitali",
          "search_type": "searched"
         },
         {
          "English language name": "Telugu",
          "cleaned_search_language": "తెలుగు (Telugu)",
          "finalized_language": "te",
          "graph_label": "తెలుగు (Telugu): డిజిటల్ హ్యుమానిటీస్",
          "local language name": "తెలుగు",
          "repo_counts": 0,
          "search_label": "డిజిటల్ హ్యుమానిటీస్ (searched)",
          "search_term": "డిజిటల్ హ్యుమానిటీస్",
          "search_type": "searched"
         },
         {
          "English language name": "Tajik",
          "cleaned_search_language": "Тоҷикӣ (Tajik)",
          "finalized_language": "tg",
          "graph_label": "Тоҷикӣ (Tajik): Илмҳои гуманитарии рақамӣ",
          "local language name": "Тоҷикӣ",
          "repo_counts": 0,
          "search_label": "Илмҳои гуманитарии рақамӣ (searched)",
          "search_term": "Илмҳои гуманитарии рақамӣ",
          "search_type": "searched"
         },
         {
          "English language name": "Tigrinya",
          "cleaned_search_language": "ትግርኛ (Tigrinya)",
          "finalized_language": "ti",
          "graph_label": "ትግርኛ (Tigrinya): ዲጂታል ሰብኣዊ ስነፍልጠት",
          "local language name": "ትግርኛ",
          "repo_counts": 0,
          "search_label": "ዲጂታል ሰብኣዊ ስነፍልጠት (searched)",
          "search_term": "ዲጂታል ሰብኣዊ ስነፍልጠት",
          "search_type": "searched"
         },
         {
          "English language name": "Turkmen",
          "cleaned_search_language": "Туркмен / تركمن (Turkmen)",
          "finalized_language": "tk",
          "graph_label": "Туркмен / تركمن (Turkmen): Sanly gumanitar ylymlar",
          "local language name": "Туркмен / تركمن",
          "repo_counts": 0,
          "search_label": "Sanly gumanitar ylymlar (searched)",
          "search_term": "Sanly gumanitar ylymlar",
          "search_type": "searched"
         },
         {
          "English language name": "Tagalog",
          "cleaned_search_language": "Tagalog / ᜆᜄᜎᜓᜄ᜔ (Tagalog)",
          "finalized_language": "tl",
          "graph_label": "Tagalog / ᜆᜄᜎᜓᜄ᜔ (Tagalog): Digital Humanities",
          "local language name": "Tagalog / ᜆᜄᜎᜓᜄ᜔",
          "repo_counts": 0,
          "search_label": "Digital Humanities (searched)",
          "search_term": "Digital Humanities",
          "search_type": "searched"
         },
         {
          "English language name": "Turkish",
          "cleaned_search_language": "Türkçe (Turkish)",
          "finalized_language": "tr",
          "graph_label": "Türkçe (Turkish): Dijital Beşeri Bilimler",
          "local language name": "Türkçe",
          "repo_counts": 0,
          "search_label": "Dijital Beşeri Bilimler (searched)",
          "search_term": "Dijital Beşeri Bilimler",
          "search_type": "searched"
         },
         {
          "English language name": "Tsonga",
          "cleaned_search_language": "Xitsonga (Tsonga)",
          "finalized_language": "ts",
          "graph_label": "Xitsonga (Tsonga): Vutivi bya Vanhu bya Dijitali",
          "local language name": "Xitsonga",
          "repo_counts": 0,
          "search_label": "Vutivi bya Vanhu bya Dijitali (searched)",
          "search_term": "Vutivi bya Vanhu bya Dijitali",
          "search_type": "searched"
         },
         {
          "English language name": "Tatar",
          "cleaned_search_language": "Tatarça (Tatar)",
          "finalized_language": "tt",
          "graph_label": "Tatarça (Tatar): Санлы гуманитар фәннәр",
          "local language name": "Tatarça",
          "repo_counts": 0,
          "search_label": "Санлы гуманитар фәннәр (searched)",
          "search_term": "Санлы гуманитар фәннәр",
          "search_type": "searched"
         },
         {
          "English language name": "Twi",
          "cleaned_search_language": "Twi",
          "finalized_language": "tw",
          "graph_label": "Twi: Digitals Nnipa Ho Adesua",
          "local language name": "Twi",
          "repo_counts": 0,
          "search_label": "Digitals Nnipa Ho Adesua (searched)",
          "search_term": "Digitals Nnipa Ho Adesua",
          "search_type": "searched"
         },
         {
          "English language name": "Uyghur",
          "cleaned_search_language": "Uyƣurqə / ئۇيغۇرچە (Uyghur)",
          "finalized_language": "ug",
          "graph_label": "Uyƣurqə / ئۇيغۇرچە (Uyghur): رەقەملىك ئادىمىيلىك",
          "local language name": "Uyƣurqə / ئۇيغۇرچە",
          "repo_counts": 0,
          "search_label": "رەقەملىك ئادىمىيلىك (searched)",
          "search_term": "رەقەملىك ئادىمىيلىك",
          "search_type": "searched"
         },
         {
          "English language name": "Ukrainian",
          "cleaned_search_language": "Українська (Ukrainian)",
          "finalized_language": "uk",
          "graph_label": "Українська (Ukrainian): Цифрові гуманітарні науки",
          "local language name": "Українська",
          "repo_counts": 0,
          "search_label": "Цифрові гуманітарні науки (searched)",
          "search_term": "Цифрові гуманітарні науки",
          "search_type": "searched"
         },
         {
          "English language name": "Urdu",
          "cleaned_search_language": "اردو (Urdu)",
          "finalized_language": "ur",
          "graph_label": "اردو (Urdu): ڈیجیٹل ہیومینٹیز",
          "local language name": "اردو",
          "repo_counts": 0,
          "search_label": "ڈیجیٹل ہیومینٹیز (searched)",
          "search_term": "ڈیجیٹل ہیومینٹیز",
          "search_type": "searched"
         },
         {
          "English language name": "Uzbek",
          "cleaned_search_language": "Ўзбек (Uzbek)",
          "finalized_language": "uz",
          "graph_label": "Ўзбек (Uzbek): Raqamli gumanitar fanlar",
          "local language name": "Ўзбек",
          "repo_counts": 0,
          "search_label": "Raqamli gumanitar fanlar (searched)",
          "search_term": "Raqamli gumanitar fanlar",
          "search_type": "searched"
         },
         {
          "English language name": "West Frisian",
          "cleaned_search_language": "Frysk (West Frisian)",
          "finalized_language": "fy",
          "graph_label": "Frysk (West Frisian): Digitale Humanities",
          "local language name": "Frysk",
          "repo_counts": 0,
          "search_label": "Digitale Humanities (searched)",
          "search_term": "Digitale Humanities",
          "search_type": "searched"
         },
         {
          "English language name": "Yiddish",
          "cleaned_search_language": "ייִדיש (Yiddish)",
          "finalized_language": "yi",
          "graph_label": "ייִדיש (Yiddish): דיגיטאַל הומאַניטיעס",
          "local language name": "ייִדיש",
          "repo_counts": 0,
          "search_label": "דיגיטאַל הומאַניטיעס (searched)",
          "search_term": "דיגיטאַל הומאַניטיעס",
          "search_type": "searched"
         },
         {
          "English language name": "Yoruba",
          "cleaned_search_language": "Yorùbá (Yoruba)",
          "finalized_language": "yo",
          "graph_label": "Yorùbá (Yoruba): Digital Humanities",
          "local language name": "Yorùbá",
          "repo_counts": 0,
          "search_label": "Digital Humanities (searched)",
          "search_term": "Digital Humanities",
          "search_type": "searched"
         }
        ]
       },
       "hconcat": [
        {
         "data": {
          "name": "data-b84bfc393e2dc66b3544f87fea79a85c"
         },
         "encoding": {
          "color": {
           "field": "cleaned_search_language",
           "legend": {
            "columns": 3,
            "symbolLimit": 0,
            "title": "Language"
           },
           "scale": {
            "scheme": "category20b"
           },
           "sort": "-x",
           "type": "nominal"
          },
          "opacity": {
           "condition": {
            "param": "param_5",
            "value": 1
           },
           "value": 0.2
          },
          "tooltip": [
           {
            "field": "search_term",
            "type": "nominal"
           },
           {
            "field": "repo_counts",
            "type": "quantitative"
           },
           {
            "field": "cleaned_search_language",
            "type": "nominal"
           }
          ],
          "x": {
           "field": "repo_counts",
           "title": "Number of Repositories",
           "type": "quantitative"
          },
          "y": {
           "field": "search_term",
           "sort": "-x",
           "type": "nominal"
          }
         },
         "height": 1400,
         "mark": {
          "type": "bar"
         },
         "name": "view_9",
         "title": "The Frequency of Repositories Returned from GitHub Search API for Digital Humanities Terms",
         "width": 400
        },
        {
         "data": {
          "name": "data-92f8eb84a4f04ea53e8c8955f60eb47a"
         },
         "encoding": {
          "color": {
           "field": "cleaned_search_language",
           "legend": {
            "columns": 4,
            "symbolLimit": 0,
            "title": "Language"
           },
           "scale": {
            "scheme": "category20b"
           },
           "sort": "-x",
           "type": "nominal"
          },
          "opacity": {
           "condition": {
            "param": "param_5",
            "value": 1
           },
           "value": 0.2
          },
          "tooltip": [
           {
            "field": "search_term",
            "type": "nominal"
           },
           {
            "field": "repo_counts",
            "type": "quantitative"
           },
           {
            "field": "cleaned_search_language",
            "type": "nominal"
           }
          ],
          "x": {
           "field": "repo_counts",
           "title": "Number of Repositories",
           "type": "quantitative"
          },
          "y": {
           "field": "search_term",
           "sort": "-x",
           "type": "nominal"
          }
         },
         "height": 1400,
         "mark": {
          "type": "bar"
         },
         "name": "view_10",
         "width": 400
        }
       ],
       "params": [
        {
         "bind": "legend",
         "name": "param_5",
         "select": {
          "fields": [
           "cleaned_search_language"
          ],
          "type": "point"
         },
         "views": [
          "view_9",
          "view_10"
         ]
        }
       ],
       "title": "Test"
      },
      "text/plain": [
       "<VegaLite 5 object>\n",
       "\n",
       "If you see this message, it means the renderer has not been properly enabled\n",
       "for the frontend that you are using. For more information, see\n",
       "https://altair-viz.github.io/user_guide/troubleshooting.html\n"
      ]
     },
     "execution_count": 272,
     "metadata": {},
     "output_type": "execute_result"
    }
   ],
   "source": [
    "selection = alt.selection_multi(fields=['cleaned_search_language'], bind='legend')\n",
    "\n",
    "search_repo_noeng_chart = alt.Chart(merged_repo_langs[(merged_repo_langs.cleaned_search_language != 'English') & (merged_repo_langs.search_type == 'searched')]).mark_bar().encode(\n",
    "    y=alt.Y('search_term:N', sort='-x'),\n",
    "    x=alt.X('repo_counts:Q', title='Number of Repositories'),\n",
    "    color=alt.Color('cleaned_search_language:N', legend=alt.Legend(title=\"Language\", columns=4, symbolLimit=0), sort='-x', scale=alt.Scale(scheme='category20b')),\n",
    "    opacity=alt.condition(selection, alt.value(1), alt.value(0.2)),\n",
    "    tooltip=['search_term', 'repo_counts', 'cleaned_search_language']\n",
    ").add_params(selection).properties(\n",
    "    width=400,\n",
    "    height=1400\n",
    ")\n",
    "\n",
    "search_repo_eng_chart = alt.Chart(merged_repo_langs[(merged_repo_langs.search_type == 'searched')]).mark_bar().encode(\n",
    "    y=alt.Y('search_term:N', sort='-x'),\n",
    "    x=alt.X('repo_counts:Q', title='Number of Repositories'),\n",
    "    color=alt.Color('cleaned_search_language:N', legend=alt.Legend(title=\"Language\", columns=3, symbolLimit=0), sort='-x', scale=alt.Scale(scheme='category20b')),\n",
    "    opacity=alt.condition(selection, alt.value(1), alt.value(0.2)),\n",
    "    tooltip=['search_term', 'repo_counts', 'cleaned_search_language']\n",
    ").add_params(selection).properties(\n",
    "    width=400,\n",
    "    height=1400,\n",
    "    title='The Frequency of Repositories Returned from GitHub Search API for Digital Humanities Terms'\n",
    ")\n",
    "\n",
    "alt.hconcat(search_repo_eng_chart, search_repo_noeng_chart).configure_axis(labelLimit=1000).properties(title=\"Test\")\n"
   ]
  },
  {
   "cell_type": "code",
   "execution_count": 243,
   "metadata": {},
   "outputs": [],
   "source": [
    "non_eng = alt.Chart(merged_repo_langs[merged_repo_langs['English language name'] != 'English']).mark_bar().encode(\n",
    "    y=alt.Y('graph_label', sort='-x', title=''),\n",
    "    x=alt.X('sum(repo_counts)', title='Number of Repositories'),\n",
    "    color=alt.Color('search_type', scale=alt.Scale(range=['#4c78a8', '#f58518'])),\n",
    "    # tooltip=['English language name', 'search_term', 'search_type', 'repo_counts']\n",
    ").properties(\n",
    "    width=500,\n",
    "    height=2000\n",
    ").configure_axis(labelLimit=1000)\n",
    "\n",
    "eng = alt.Chart(merged_repo_langs).mark_bar().encode(\n",
    "    y=alt.Y('graph_label', sort='-x', title=''),\n",
    "    x=alt.X('sum(repo_counts)', title='Number of Repositories'),\n",
    "    color=alt.Color('search_type', scale=alt.Scale(range=['#4c78a8', '#f58518'])),\n",
    "    # tooltip=['English language name', 'search_term', 'search_type', 'repo_counts']\n",
    ").properties(\n",
    "    width=500,\n",
    "    height=2000\n",
    ").configure_axis(labelLimit=1000)\n"
   ]
  },
  {
   "cell_type": "code",
   "execution_count": 244,
   "metadata": {},
   "outputs": [
    {
     "data": {
      "application/vnd.vegalite.v5+json": {
       "$schema": "https://vega.github.io/schema/vega-lite/v5.6.1.json",
       "config": {
        "axis": {
         "labelLimit": 1000
        },
        "view": {
         "continuousHeight": 300,
         "continuousWidth": 300
        }
       },
       "data": {
        "name": "data-f04deade3b6a4ca9fa5430d9d0e85f0e"
       },
       "datasets": {
        "data-f04deade3b6a4ca9fa5430d9d0e85f0e": [
         {
          "English language name": "Bulgarian (Latin)",
          "finalized_language": "bg-Latn",
          "graph_label": "Български (Bulgarian) (Bulgarian (Latin)): Digital Humanities",
          "local language name": "Български (Bulgarian) (Bulgarian (Latin))",
          "repo_counts": 2,
          "search_term": "Digital Humanities",
          "search_type": "searched"
         },
         {
          "English language name": "Chinese",
          "finalized_language": "zh",
          "graph_label": "中文 (Chinese): 數位人文學",
          "local language name": "中文",
          "repo_counts": 1,
          "search_term": "數位人文學",
          "search_type": "searched"
         },
         {
          "English language name": "Chinese (Mainland China)",
          "finalized_language": "zh-CN",
          "graph_label": "中文（中国） (Chinese (Mainland China)): Digital Humanities",
          "local language name": "中文（中国） (Chinese (Mainland China))",
          "repo_counts": 4,
          "search_term": "Digital Humanities",
          "search_type": "searched"
         },
         {
          "English language name": "Chinese (Mainland China)",
          "finalized_language": "zh-CN",
          "graph_label": "中文（中国） (Chinese (Mainland China)): 数字人文",
          "local language name": "中文（中国） (Chinese (Mainland China))",
          "repo_counts": 119,
          "search_term": "数字人文",
          "search_type": "searched"
         },
         {
          "English language name": "Chinese (Mainland China)",
          "finalized_language": "zh-CN",
          "graph_label": "中文（中国） (Chinese (Mainland China)): Digital Humanities",
          "local language name": "中文（中国） (Chinese (Mainland China))",
          "repo_counts": 2,
          "search_term": "Digital Humanities",
          "search_type": "tagged"
         },
         {
          "English language name": "Chinese (Taiwan)",
          "finalized_language": "zh-TW",
          "graph_label": "中文（台灣） (Chinese (Taiwan)): Digital Humanities",
          "local language name": "中文（台灣） (Chinese (Taiwan))",
          "repo_counts": 3,
          "search_term": "Digital Humanities",
          "search_type": "searched"
         },
         {
          "English language name": "Chinese (Taiwan)",
          "finalized_language": "zh-TW",
          "graph_label": "中文（台灣） (Chinese (Taiwan)): 数字人文",
          "local language name": "中文（台灣） (Chinese (Taiwan))",
          "repo_counts": 3,
          "search_term": "数字人文",
          "search_type": "searched"
         },
         {
          "English language name": "Chinese (Taiwan)",
          "finalized_language": "zh-TW",
          "graph_label": "中文（台灣） (Chinese (Taiwan)): 數位人文學",
          "local language name": "中文（台灣） (Chinese (Taiwan))",
          "repo_counts": 5,
          "search_term": "數位人文學",
          "search_type": "searched"
         },
         {
          "English language name": "Czech",
          "finalized_language": "cs",
          "graph_label": "Česky (Czech): Digital Humanities",
          "local language name": "Česky",
          "repo_counts": 6,
          "search_term": "Digital Humanities",
          "search_type": "searched"
         },
         {
          "English language name": "Danish",
          "finalized_language": "da",
          "graph_label": "Dansk (Danish): Digital Humaniora",
          "local language name": "Dansk",
          "repo_counts": 3,
          "search_term": "Digital Humaniora",
          "search_type": "searched"
         },
         {
          "English language name": "Danish",
          "finalized_language": "da",
          "graph_label": "Dansk (Danish): Digital Humanities",
          "local language name": "Dansk",
          "repo_counts": 1,
          "search_term": "Digital Humanities",
          "search_type": "searched"
         },
         {
          "English language name": "Danish",
          "finalized_language": "da",
          "graph_label": "Dansk (Danish): Digital humaniora",
          "local language name": "Dansk",
          "repo_counts": 2,
          "search_term": "Digital humaniora",
          "search_type": "searched"
         },
         {
          "English language name": "Danish",
          "finalized_language": "da",
          "graph_label": "Dansk (Danish): Digitale Humanities",
          "local language name": "Dansk",
          "repo_counts": 1,
          "search_term": "Digitale Humanities",
          "search_type": "searched"
         },
         {
          "English language name": "Danish",
          "finalized_language": "da",
          "graph_label": "Dansk (Danish): Humaniora Digital",
          "local language name": "Dansk",
          "repo_counts": 2,
          "search_term": "Humaniora Digital",
          "search_type": "searched"
         },
         {
          "English language name": "Dutch",
          "finalized_language": "nl",
          "graph_label": "Nederlands (Dutch): Digital Humanities",
          "local language name": "Nederlands",
          "repo_counts": 3,
          "search_term": "Digital Humanities",
          "search_type": "searched"
         },
         {
          "English language name": "English and Chinese",
          "finalized_language": "en, zh",
          "graph_label": "English & 中文 (Chinese): Digital Humanities",
          "local language name": "English & 中文 (Chinese)",
          "repo_counts": 2,
          "search_term": "Digital Humanities",
          "search_type": "searched"
         },
         {
          "English language name": "English and Dutch",
          "finalized_language": "en, nl",
          "graph_label": "English & Nederlands (Dutch): Digital Humanities",
          "local language name": "English & Nederlands (Dutch)",
          "repo_counts": 1,
          "search_term": "Digital Humanities",
          "search_type": "searched"
         },
         {
          "English language name": "English and German",
          "finalized_language": "en, de",
          "graph_label": "English & Deutsch (German): Digital Humanities",
          "local language name": "English & Deutsch (German)",
          "repo_counts": 2,
          "search_term": "Digital Humanities",
          "search_type": "searched"
         },
         {
          "English language name": "English and German",
          "finalized_language": "en, de",
          "graph_label": "English & Deutsch (German): Digitale Geisteswissenschaften",
          "local language name": "English & Deutsch (German)",
          "repo_counts": 1,
          "search_term": "Digitale Geisteswissenschaften",
          "search_type": "searched"
         },
         {
          "English language name": "English and German",
          "finalized_language": "en, de",
          "graph_label": "English & Deutsch (German): Digitale Humanities",
          "local language name": "English & Deutsch (German)",
          "repo_counts": 1,
          "search_term": "Digitale Humanities",
          "search_type": "searched"
         },
         {
          "English language name": "English and German",
          "finalized_language": "en, de",
          "graph_label": "English & Deutsch (German): Digital Humanities",
          "local language name": "English & Deutsch (German)",
          "repo_counts": 1,
          "search_term": "Digital Humanities",
          "search_type": "tagged"
         },
         {
          "English language name": "English and Hebrew",
          "finalized_language": "en, he",
          "graph_label": "English & עברית (Hebrew): Digital Humanities",
          "local language name": "English & עברית (Hebrew)",
          "repo_counts": 2,
          "search_term": "Digital Humanities",
          "search_type": "searched"
         },
         {
          "English language name": "English and Italian",
          "finalized_language": "en, it",
          "graph_label": "English & Italiano (Italian): Digital Humanities",
          "local language name": "English & Italiano (Italian)",
          "repo_counts": 1,
          "search_term": "Digital Humanities",
          "search_type": "tagged"
         },
         {
          "English language name": "English and Russian",
          "finalized_language": "en, ru",
          "graph_label": "English & Русский (Russian): Digital Humanities",
          "local language name": "English & Русский (Russian)",
          "repo_counts": 1,
          "search_term": "Digital Humanities",
          "search_type": "tagged"
         },
         {
          "English language name": "Estonian",
          "finalized_language": "et",
          "graph_label": "Eesti (Estonian): Digitaalhumanitaaria",
          "local language name": "Eesti",
          "repo_counts": 1,
          "search_term": "Digitaalhumanitaaria",
          "search_type": "searched"
         },
         {
          "English language name": "Finnish",
          "finalized_language": "fi",
          "graph_label": "Suomi (Finnish): Digitaaliset ihmistieteet",
          "local language name": "Suomi",
          "repo_counts": 1,
          "search_term": "Digitaaliset ihmistieteet",
          "search_type": "searched"
         },
         {
          "English language name": "French",
          "finalized_language": "fr",
          "graph_label": "Français (French): Digital Humanities",
          "local language name": "Français",
          "repo_counts": 2,
          "search_term": "Digital Humanities",
          "search_type": "searched"
         },
         {
          "English language name": "French",
          "finalized_language": "fr",
          "graph_label": "Français (French): Humanités numériques",
          "local language name": "Français",
          "repo_counts": 46,
          "search_term": "Humanités numériques",
          "search_type": "searched"
         },
         {
          "English language name": "French",
          "finalized_language": "fr",
          "graph_label": "Français (French): Digital Humanities",
          "local language name": "Français",
          "repo_counts": 23,
          "search_term": "Digital Humanities",
          "search_type": "tagged"
         },
         {
          "English language name": "French",
          "finalized_language": "fr",
          "graph_label": "Français (French): Humanités numériques",
          "local language name": "Français",
          "repo_counts": 1,
          "search_term": "Humanités numériques",
          "search_type": "tagged"
         },
         {
          "English language name": "German",
          "finalized_language": "de",
          "graph_label": "Deutsch (German): Digital Humanities",
          "local language name": "Deutsch",
          "repo_counts": 54,
          "search_term": "Digital Humanities",
          "search_type": "searched"
         },
         {
          "English language name": "German",
          "finalized_language": "de",
          "graph_label": "Deutsch (German): Digitale Geisteswissenschaften",
          "local language name": "Deutsch",
          "repo_counts": 3,
          "search_term": "Digitale Geisteswissenschaften",
          "search_type": "searched"
         },
         {
          "English language name": "German",
          "finalized_language": "de",
          "graph_label": "Deutsch (German): Digitale Humanities",
          "local language name": "Deutsch",
          "repo_counts": 1,
          "search_term": "Digitale Humanities",
          "search_type": "searched"
         },
         {
          "English language name": "German",
          "finalized_language": "de",
          "graph_label": "Deutsch (German): Digital Humanities",
          "local language name": "Deutsch",
          "repo_counts": 7,
          "search_term": "Digital Humanities",
          "search_type": "tagged"
         },
         {
          "English language name": "German and English",
          "finalized_language": "de, en",
          "graph_label": "Deutsch (German) & English: Digital Humanities",
          "local language name": "Deutsch (German) & English",
          "repo_counts": 4,
          "search_term": "Digital Humanities",
          "search_type": "searched"
         },
         {
          "English language name": "German and English",
          "finalized_language": "de, en",
          "graph_label": "Deutsch (German) & English: Digital Humanities",
          "local language name": "Deutsch (German) & English",
          "repo_counts": 2,
          "search_term": "Digital Humanities",
          "search_type": "tagged"
         },
         {
          "English language name": "Hebrew",
          "finalized_language": "he",
          "graph_label": "עברית (Hebrew): Digital Humanities",
          "local language name": "עברית",
          "repo_counts": 15,
          "search_term": "Digital Humanities",
          "search_type": "searched"
         },
         {
          "English language name": "Hungarian and English",
          "finalized_language": "hu, en",
          "graph_label": "Magyar (Hungarian) & English: Digital Humanities",
          "local language name": "Magyar (Hungarian) & English",
          "repo_counts": 1,
          "search_term": "Digital Humanities",
          "search_type": "searched"
         },
         {
          "English language name": "Indonesian",
          "finalized_language": "id",
          "graph_label": "Bahasa Indonesia (Indonesian): Digital Humanities",
          "local language name": "Bahasa Indonesia",
          "repo_counts": 1,
          "search_term": "Digital Humanities",
          "search_type": "searched"
         },
         {
          "English language name": "Italian",
          "finalized_language": "it",
          "graph_label": "Italiano (Italian): Digital Humanities",
          "local language name": "Italiano",
          "repo_counts": 19,
          "search_term": "Digital Humanities",
          "search_type": "searched"
         },
         {
          "English language name": "Italian",
          "finalized_language": "it",
          "graph_label": "Italiano (Italian): Informatica umanistica",
          "local language name": "Italiano",
          "repo_counts": 64,
          "search_term": "Informatica umanistica",
          "search_type": "searched"
         },
         {
          "English language name": "Italian",
          "finalized_language": "it",
          "graph_label": "Italiano (Italian): Digital Humanities",
          "local language name": "Italiano",
          "repo_counts": 28,
          "search_term": "Digital Humanities",
          "search_type": "tagged"
         },
         {
          "English language name": "Italian and English",
          "finalized_language": "it, en",
          "graph_label": "Italiano (Italian) & English: Digital Humanities",
          "local language name": "Italiano (Italian) & English",
          "repo_counts": 1,
          "search_term": "Digital Humanities",
          "search_type": "searched"
         },
         {
          "English language name": "Japanese",
          "finalized_language": "ja",
          "graph_label": "日本語 (Japanese): 数字人文",
          "local language name": "日本語",
          "repo_counts": 2,
          "search_term": "数字人文",
          "search_type": "searched"
         },
         {
          "English language name": "Japanese",
          "finalized_language": "ja",
          "graph_label": "日本語 (Japanese): Digital Humanities",
          "local language name": "日本語",
          "repo_counts": 1,
          "search_term": "Digital Humanities",
          "search_type": "tagged"
         },
         {
          "English language name": "Korean",
          "finalized_language": "ko",
          "graph_label": "한국어 (Korean): Digital Humanities",
          "local language name": "한국어",
          "repo_counts": 6,
          "search_term": "Digital Humanities",
          "search_type": "searched"
         },
         {
          "English language name": "Korean",
          "finalized_language": "ko",
          "graph_label": "한국어 (Korean): 디지털 인문학",
          "local language name": "한국어",
          "repo_counts": 2,
          "search_term": "디지털 인문학",
          "search_type": "searched"
         },
         {
          "English language name": "Latin",
          "finalized_language": "la",
          "graph_label": "Latina (Latin): Digital Humanities",
          "local language name": "Latina",
          "repo_counts": 1,
          "search_term": "Digital Humanities",
          "search_type": "searched"
         },
         {
          "English language name": "Luxembourgish",
          "finalized_language": "lb",
          "graph_label": "Lëtzebuergesch (Luxembourgish): Digital Humanities",
          "local language name": "Lëtzebuergesch",
          "repo_counts": 2,
          "search_term": "Digital Humanities",
          "search_type": "tagged"
         },
         {
          "English language name": "Norwegian",
          "finalized_language": "no",
          "graph_label": "Norsk (bokmål / riksmål): Digital Humanities",
          "local language name": "Norsk (bokmål / riksmål)",
          "repo_counts": 2,
          "search_term": "Digital Humanities",
          "search_type": "tagged"
         },
         {
          "English language name": "Polish",
          "finalized_language": "pl",
          "graph_label": "Polski (Polish): Digital Humanities",
          "local language name": "Polski",
          "repo_counts": 1,
          "search_term": "Digital Humanities",
          "search_type": "searched"
         },
         {
          "English language name": "Portuguese",
          "finalized_language": "pt",
          "graph_label": "Português (Portuguese): Humanidades Digitais",
          "local language name": "Português",
          "repo_counts": 19,
          "search_term": "Humanidades Digitais",
          "search_type": "searched"
         },
         {
          "English language name": "Portuguese",
          "finalized_language": "pt",
          "graph_label": "Português (Portuguese): Humanidades digitales",
          "local language name": "Português",
          "repo_counts": 3,
          "search_term": "Humanidades digitales",
          "search_type": "searched"
         },
         {
          "English language name": "Portuguese",
          "finalized_language": "pt",
          "graph_label": "Português (Portuguese): Digital Humanities",
          "local language name": "Português",
          "repo_counts": 12,
          "search_term": "Digital Humanities",
          "search_type": "tagged"
         },
         {
          "English language name": "Portuguese",
          "finalized_language": "pt",
          "graph_label": "Português (Portuguese): Humanidades digitales",
          "local language name": "Português",
          "repo_counts": 1,
          "search_term": "Humanidades digitales",
          "search_type": "tagged"
         },
         {
          "English language name": "Portuguese and English",
          "finalized_language": "pt, en",
          "graph_label": "Português (Portuguese) & English: Humanidades Digitais",
          "local language name": "Português (Portuguese) & English",
          "repo_counts": 1,
          "search_term": "Humanidades Digitais",
          "search_type": "searched"
         },
         {
          "English language name": "Russian",
          "finalized_language": "ru",
          "graph_label": "Русский (Russian): Digital Humanities",
          "local language name": "Русский",
          "repo_counts": 24,
          "search_term": "Digital Humanities",
          "search_type": "searched"
         },
         {
          "English language name": "Russian",
          "finalized_language": "ru",
          "graph_label": "Русский (Russian): Цифровые гуманитарные науки",
          "local language name": "Русский",
          "repo_counts": 1,
          "search_term": "Цифровые гуманитарные науки",
          "search_type": "searched"
         },
         {
          "English language name": "Russian",
          "finalized_language": "ru",
          "graph_label": "Русский (Russian): Digital Humanities",
          "local language name": "Русский",
          "repo_counts": 5,
          "search_term": "Digital Humanities",
          "search_type": "tagged"
         },
         {
          "English language name": "Russian and English",
          "finalized_language": "ru, en",
          "graph_label": "Русский (Russian) & English: Digital Humanities",
          "local language name": "Русский (Russian) & English",
          "repo_counts": 1,
          "search_term": "Digital Humanities",
          "search_type": "searched"
         },
         {
          "English language name": "Spanish",
          "finalized_language": "es",
          "graph_label": "Español (Spanish): Digital Humanities",
          "local language name": "Español",
          "repo_counts": 4,
          "search_term": "Digital Humanities",
          "search_type": "searched"
         },
         {
          "English language name": "Spanish",
          "finalized_language": "es",
          "graph_label": "Español (Spanish): Humanidades digitales",
          "local language name": "Español",
          "repo_counts": 46,
          "search_term": "Humanidades digitales",
          "search_type": "searched"
         },
         {
          "English language name": "Spanish",
          "finalized_language": "es",
          "graph_label": "Español (Spanish): Digital Humanities",
          "local language name": "Español",
          "repo_counts": 11,
          "search_term": "Digital Humanities",
          "search_type": "tagged"
         },
         {
          "English language name": "Spanish",
          "finalized_language": "es",
          "graph_label": "Español (Spanish): Humanidades digitales",
          "local language name": "Español",
          "repo_counts": 7,
          "search_term": "Humanidades digitales",
          "search_type": "tagged"
         },
         {
          "English language name": "Spanish and English",
          "finalized_language": "es, en",
          "graph_label": "Español (Spanish) & English: Humanidades digitales",
          "local language name": "Español (Spanish) & English",
          "repo_counts": 1,
          "search_term": "Humanidades digitales",
          "search_type": "searched"
         },
         {
          "English language name": "Swedish",
          "finalized_language": "sv",
          "graph_label": "Svenska (Swedish): Digital Humaniora",
          "local language name": "Svenska",
          "repo_counts": 1,
          "search_term": "Digital Humaniora",
          "search_type": "searched"
         },
         {
          "English language name": "Swedish",
          "finalized_language": "sv",
          "graph_label": "Svenska (Swedish): Digital humaniora",
          "local language name": "Svenska",
          "repo_counts": 1,
          "search_term": "Digital humaniora",
          "search_type": "searched"
         },
         {
          "English language name": "Swedish",
          "finalized_language": "sv",
          "graph_label": "Svenska (Swedish): Humaniora Digital",
          "local language name": "Svenska",
          "repo_counts": 1,
          "search_term": "Humaniora Digital",
          "search_type": "searched"
         },
         {
          "English language name": "Swedish",
          "finalized_language": "sv",
          "graph_label": "Svenska (Swedish): Digital Humanities",
          "local language name": "Svenska",
          "repo_counts": 1,
          "search_term": "Digital Humanities",
          "search_type": "tagged"
         },
         {
          "English language name": "Thai",
          "finalized_language": "th",
          "graph_label": "ไทย / Phasa Thai (Thai): Digital Humanities",
          "local language name": "ไทย / Phasa Thai",
          "repo_counts": 1,
          "search_term": "Digital Humanities",
          "search_type": "tagged"
         },
         {
          "English language name": "Vietnamese",
          "finalized_language": "vi",
          "graph_label": "Tiếng Việt (Vietnamese): Nhân văn kỹ thuật số",
          "local language name": "Tiếng Việt",
          "repo_counts": 16,
          "search_term": "Nhân văn kỹ thuật số",
          "search_type": "searched"
         },
         {
          "English language name": "Russian",
          "finalized_language": "ru",
          "graph_label": "Русский (Russian): Цифровые гуманитарные науки",
          "local language name": "Русский",
          "repo_counts": 0,
          "search_term": "Цифровые гуманитарные науки",
          "search_type": "tagged"
         },
         {
          "English language name": "Latin",
          "finalized_language": "la",
          "graph_label": "Latina (Latin): Humanitates digitales",
          "local language name": "Latina",
          "repo_counts": 0,
          "search_term": "Humanitates digitales",
          "search_type": "tagged"
         },
         {
          "English language name": "Tamil",
          "finalized_language": "ta",
          "graph_label": "தமிழ் (Tamil): எண்ணிம மனிதவியல்",
          "local language name": "தமிழ்",
          "repo_counts": 0,
          "search_term": "எண்ணிம மனிதவியல்",
          "search_type": "tagged"
         },
         {
          "English language name": "Catalan",
          "finalized_language": "ca",
          "graph_label": "Català (Catalan): Humanitats digitals",
          "local language name": "Català",
          "repo_counts": 0,
          "search_term": "Humanitats digitals",
          "search_type": "tagged"
         },
         {
          "English language name": "German",
          "finalized_language": "de",
          "graph_label": "Deutsch (German): Digitale Geisteswissenschaften",
          "local language name": "Deutsch",
          "repo_counts": 0,
          "search_term": "Digitale Geisteswissenschaften",
          "search_type": "tagged"
         },
         {
          "English language name": "Korean",
          "finalized_language": "ko",
          "graph_label": "한국어 (Korean): 디지털 인문학",
          "local language name": "한국어",
          "repo_counts": 0,
          "search_term": "디지털 인문학",
          "search_type": "tagged"
         },
         {
          "English language name": "Italian",
          "finalized_language": "it",
          "graph_label": "Italiano (Italian): Informatica umanistica",
          "local language name": "Italiano",
          "repo_counts": 0,
          "search_term": "Informatica umanistica",
          "search_type": "tagged"
         },
         {
          "English language name": "Serbo-Croatian",
          "finalized_language": "sh",
          "graph_label": "Srpskohrvatski / Српскохрватски (Serbo-Croatian): Дигиталне хуманистичке науке",
          "local language name": "Srpskohrvatski / Српскохрватски",
          "repo_counts": 0,
          "search_term": "Дигиталне хуманистичке науке",
          "search_type": "tagged"
         },
         {
          "English language name": "Welsh",
          "finalized_language": "cy",
          "graph_label": "Cymraeg (Welsh): Dyniaethau digidol",
          "local language name": "Cymraeg",
          "repo_counts": 0,
          "search_term": "Dyniaethau digidol",
          "search_type": "tagged"
         },
         {
          "English language name": "Arabic",
          "finalized_language": "ar",
          "graph_label": "العربية (Arabic): إنسانيات رقمية",
          "local language name": "العربية",
          "repo_counts": 0,
          "search_term": "إنسانيات رقمية",
          "search_type": "tagged"
         },
         {
          "English language name": "Thai",
          "finalized_language": "th",
          "graph_label": "ไทย / Phasa Thai (Thai): มนุษยศาสตร์ดิจิทัล",
          "local language name": "ไทย / Phasa Thai",
          "repo_counts": 0,
          "search_term": "มนุษยศาสตร์ดิจิทัล",
          "search_type": "tagged"
         },
         {
          "English language name": "Slovenian",
          "finalized_language": "sl",
          "graph_label": "Slovenščina (Slovenian): Digitalna humanistika",
          "local language name": "Slovenščina",
          "repo_counts": 0,
          "search_term": "Digitalna humanistika",
          "search_type": "tagged"
         },
         {
          "English language name": "Finnish",
          "finalized_language": "fi",
          "graph_label": "Suomi (Finnish): Digitaaliset ihmistieteet",
          "local language name": "Suomi",
          "repo_counts": 0,
          "search_term": "Digitaaliset ihmistieteet",
          "search_type": "tagged"
         },
         {
          "English language name": "Swedish",
          "finalized_language": "sv",
          "graph_label": "Svenska (Swedish): Digital humaniora",
          "local language name": "Svenska",
          "repo_counts": 0,
          "search_term": "Digital humaniora",
          "search_type": "tagged"
         },
         {
          "English language name": "Japanese",
          "finalized_language": "ja",
          "graph_label": "日本語 (Japanese): デジタル・ヒューマニティーズ",
          "local language name": "日本語",
          "repo_counts": 0,
          "search_term": "デジタル・ヒューマニティーズ",
          "search_type": "tagged"
         },
         {
          "English language name": "Hebrew",
          "finalized_language": "he",
          "graph_label": "עברית (Hebrew): מדעי הרוח הדיגיטליים",
          "local language name": "עברית",
          "repo_counts": 0,
          "search_term": "מדעי הרוח הדיגיטליים",
          "search_type": "tagged"
         },
         {
          "English language name": "Afrikaans",
          "finalized_language": "af",
          "graph_label": "Afrikaans: Digitale Geesteswetenskappe",
          "local language name": "Afrikaans",
          "repo_counts": 0,
          "search_term": "Digitale Geesteswetenskappe",
          "search_type": "tagged"
         },
         {
          "English language name": "Akan",
          "finalized_language": "ak",
          "graph_label": "Akana (Akan): Digitals Nnipa Ho Adesua",
          "local language name": "Akana",
          "repo_counts": 0,
          "search_term": "Digitals Nnipa Ho Adesua",
          "search_type": "tagged"
         },
         {
          "English language name": "Albanian",
          "finalized_language": "sq",
          "graph_label": "Shqip (Albanian): Shkenca Dixhitale Humane",
          "local language name": "Shqip",
          "repo_counts": 0,
          "search_term": "Shkenca Dixhitale Humane",
          "search_type": "tagged"
         },
         {
          "English language name": "Amharic",
          "finalized_language": "am",
          "graph_label": "አማርኛ (Amharic): ዲጂታል ሰብአዊነት",
          "local language name": "አማርኛ",
          "repo_counts": 0,
          "search_term": "ዲጂታል ሰብአዊነት",
          "search_type": "tagged"
         },
         {
          "English language name": "Armenian",
          "finalized_language": "hy",
          "graph_label": "Հայերեն (Armenian): Թվային հումանիտար գիտություններ",
          "local language name": "Հայերեն",
          "repo_counts": 0,
          "search_term": "Թվային հումանիտար գիտություններ",
          "search_type": "tagged"
         },
         {
          "English language name": "Assamese",
          "finalized_language": "as",
          "graph_label": "অসমীয়া (Assamese): ডিজিটেল মানৱীয় বিজ্ঞান",
          "local language name": "অসমীয়া",
          "repo_counts": 0,
          "search_term": "ডিজিটেল মানৱীয় বিজ্ঞান",
          "search_type": "tagged"
         },
         {
          "English language name": "Aymara",
          "finalized_language": "ay",
          "graph_label": "Aymar (Aymara): Humanidades Digitales uka tuqit yatxataña",
          "local language name": "Aymar",
          "repo_counts": 0,
          "search_term": "Humanidades Digitales uka tuqit yatxataña",
          "search_type": "tagged"
         },
         {
          "English language name": "Azerbaijani",
          "finalized_language": "az",
          "graph_label": "Azərbaycanca / آذربايجان (Azerbaijani): Rəqəmsal humanitar elmlər",
          "local language name": "Azərbaycanca / آذربايجان",
          "repo_counts": 0,
          "search_term": "Rəqəmsal humanitar elmlər",
          "search_type": "tagged"
         },
         {
          "English language name": "Bambara",
          "finalized_language": "bm",
          "graph_label": "Bamanankan (Bambara): Hadamadenw ka dɔnniya nimɔrɔma",
          "local language name": "Bamanankan",
          "repo_counts": 0,
          "search_term": "Hadamadenw ka dɔnniya nimɔrɔma",
          "search_type": "tagged"
         },
         {
          "English language name": "Basque",
          "finalized_language": "eu",
          "graph_label": "Euskara (Basque): Humanitate Digitalak",
          "local language name": "Euskara",
          "repo_counts": 0,
          "search_term": "Humanitate Digitalak",
          "search_type": "tagged"
         },
         {
          "English language name": "Belarusian",
          "finalized_language": "be",
          "graph_label": "Беларуская (Belarusian): Лічбавая гуманітарная навука",
          "local language name": "Беларуская",
          "repo_counts": 0,
          "search_term": "Лічбавая гуманітарная навука",
          "search_type": "tagged"
         },
         {
          "English language name": "Bengali",
          "finalized_language": "bn",
          "graph_label": "বাংলা (Bengali): ডিজিটাল মানবিক",
          "local language name": "বাংলা",
          "repo_counts": 0,
          "search_term": "ডিজিটাল মানবিক",
          "search_type": "tagged"
         },
         {
          "English language name": "Bihari",
          "finalized_language": "bh",
          "graph_label": "भोजपुरी (Bihari): डिजिटल मानविकी के बारे में बतावल गइल बा",
          "local language name": "भोजपुरी",
          "repo_counts": 0,
          "search_term": "डिजिटल मानविकी के बारे में बतावल गइल बा",
          "search_type": "tagged"
         },
         {
          "English language name": "Bosnian",
          "finalized_language": "bs",
          "graph_label": "Bosanski (Bosnian): Digitalne humanističke nauke",
          "local language name": "Bosanski",
          "repo_counts": 0,
          "search_term": "Digitalne humanističke nauke",
          "search_type": "tagged"
         },
         {
          "English language name": "Bulgarian",
          "finalized_language": "bg",
          "graph_label": "Български (Bulgarian): Дигитални хуманитарни науки",
          "local language name": "Български",
          "repo_counts": 0,
          "search_term": "Дигитални хуманитарни науки",
          "search_type": "tagged"
         },
         {
          "English language name": "Burmese",
          "finalized_language": "my",
          "graph_label": "Myanmasa (Burmese): ဒစ်ဂျစ်တယ်လူ့ပညာ",
          "local language name": "Myanmasa",
          "repo_counts": 0,
          "search_term": "ဒစ်ဂျစ်တယ်လူ့ပညာ",
          "search_type": "tagged"
         },
         {
          "English language name": "Chichewa",
          "finalized_language": "ny",
          "graph_label": "Chi-Chewa (Chichewa): Digital Humanities",
          "local language name": "Chi-Chewa",
          "repo_counts": 0,
          "search_term": "Digital Humanities",
          "search_type": "tagged"
         },
         {
          "English language name": "Chinese",
          "finalized_language": "zh",
          "graph_label": "中文 (Chinese): 数字人文",
          "local language name": "中文",
          "repo_counts": 0,
          "search_term": "数字人文",
          "search_type": "tagged"
         },
         {
          "English language name": "Corsican",
          "finalized_language": "co",
          "graph_label": "Corsu (Corsican): Umanità digitale",
          "local language name": "Corsu",
          "repo_counts": 0,
          "search_term": "Umanità digitale",
          "search_type": "tagged"
         },
         {
          "English language name": "Croatian",
          "finalized_language": "hr",
          "graph_label": "Hrvatski (Croatian): Digitalne humanističke znanosti",
          "local language name": "Hrvatski",
          "repo_counts": 0,
          "search_term": "Digitalne humanističke znanosti",
          "search_type": "tagged"
         },
         {
          "English language name": "Czech",
          "finalized_language": "cs",
          "graph_label": "Česky (Czech): Digitální humanitní vědy",
          "local language name": "Česky",
          "repo_counts": 0,
          "search_term": "Digitální humanitní vědy",
          "search_type": "tagged"
         },
         {
          "English language name": "Danish",
          "finalized_language": "da",
          "graph_label": "Dansk (Danish): Digital Humaniora",
          "local language name": "Dansk",
          "repo_counts": 0,
          "search_term": "Digital Humaniora",
          "search_type": "tagged"
         },
         {
          "English language name": "Divehi",
          "finalized_language": "dv",
          "graph_label": "ދިވެހިބަސް (Divehi): ދިރާގު ހިއުމަނިޓީސް އެވެ",
          "local language name": "ދިވެހިބަސް",
          "repo_counts": 0,
          "search_term": "ދިރާގު ހިއުމަނިޓީސް އެވެ",
          "search_type": "tagged"
         },
         {
          "English language name": "Dutch",
          "finalized_language": "nl",
          "graph_label": "Nederlands (Dutch): Digitale geesteswetenschappen",
          "local language name": "Nederlands",
          "repo_counts": 0,
          "search_term": "Digitale geesteswetenschappen",
          "search_type": "tagged"
         },
         {
          "English language name": "Esperanto",
          "finalized_language": "eo",
          "graph_label": "Esperanto: Ciferecaj Homaroj",
          "local language name": "Esperanto",
          "repo_counts": 0,
          "search_term": "Ciferecaj Homaroj",
          "search_type": "tagged"
         },
         {
          "English language name": "Estonian",
          "finalized_language": "et",
          "graph_label": "Eesti (Estonian): Digitaalhumanitaaria",
          "local language name": "Eesti",
          "repo_counts": 0,
          "search_term": "Digitaalhumanitaaria",
          "search_type": "tagged"
         },
         {
          "English language name": "Ewe",
          "finalized_language": "ee",
          "graph_label": "Ɛʋɛ (Ewe): Digitál Amegbetɔŋutinunya",
          "local language name": "Ɛʋɛ",
          "repo_counts": 0,
          "search_term": "Digitál Amegbetɔŋutinunya",
          "search_type": "tagged"
         },
         {
          "English language name": "Galician",
          "finalized_language": "gl",
          "graph_label": "Galego (Galician): Humanidades Dixitais",
          "local language name": "Galego",
          "repo_counts": 0,
          "search_term": "Humanidades Dixitais",
          "search_type": "tagged"
         },
         {
          "English language name": "Georgian",
          "finalized_language": "ka",
          "graph_label": "ქართული (Georgian): ციფრული ჰუმანიტარული მეცნიერებები",
          "local language name": "ქართული",
          "repo_counts": 0,
          "search_term": "ციფრული ჰუმანიტარული მეცნიერებები",
          "search_type": "tagged"
         },
         {
          "English language name": "Greek",
          "finalized_language": "el",
          "graph_label": "Ελληνικά (Greek): Ψηφιακές Ανθρωπιστικές Επιστήμες",
          "local language name": "Ελληνικά",
          "repo_counts": 0,
          "search_term": "Ψηφιακές Ανθρωπιστικές Επιστήμες",
          "search_type": "tagged"
         },
         {
          "English language name": "Guarani",
          "finalized_language": "gn",
          "graph_label": "Avañe'ẽ (Guarani): Humanidades Digitales rehegua",
          "local language name": "Avañe'ẽ",
          "repo_counts": 0,
          "search_term": "Humanidades Digitales rehegua",
          "search_type": "tagged"
         },
         {
          "English language name": "Gujarati",
          "finalized_language": "gu",
          "graph_label": "ગુજરાતી (Gujarati): ડિજિટલ માનવતા",
          "local language name": "ગુજરાતી",
          "repo_counts": 0,
          "search_term": "ડિજિટલ માનવતા",
          "search_type": "tagged"
         },
         {
          "English language name": "Haitian",
          "finalized_language": "ht",
          "graph_label": "Krèyol ayisyen (Haitian): Syans imanitè dijital",
          "local language name": "Krèyol ayisyen",
          "repo_counts": 0,
          "search_term": "Syans imanitè dijital",
          "search_type": "tagged"
         },
         {
          "English language name": "Hausa",
          "finalized_language": "ha",
          "graph_label": "هَوُسَ (Hausa): Digital Humanities",
          "local language name": "هَوُسَ",
          "repo_counts": 0,
          "search_term": "Digital Humanities",
          "search_type": "tagged"
         },
         {
          "English language name": "Hindi",
          "finalized_language": "hi",
          "graph_label": "हिन्दी (Hindi): डिजिटल मानविकी",
          "local language name": "हिन्दी",
          "repo_counts": 0,
          "search_term": "डिजिटल मानविकी",
          "search_type": "tagged"
         },
         {
          "English language name": "Hungarian",
          "finalized_language": "hu",
          "graph_label": "Magyar (Hungarian): Digitális humán tudományok",
          "local language name": "Magyar",
          "repo_counts": 0,
          "search_term": "Digitális humán tudományok",
          "search_type": "tagged"
         },
         {
          "English language name": "Indonesian",
          "finalized_language": "id",
          "graph_label": "Bahasa Indonesia (Indonesian): Humaniora Digital",
          "local language name": "Bahasa Indonesia",
          "repo_counts": 0,
          "search_term": "Humaniora Digital",
          "search_type": "tagged"
         },
         {
          "English language name": "Irish",
          "finalized_language": "ga",
          "graph_label": "Gaeilge (Irish): Daonnachtaí Digiteacha",
          "local language name": "Gaeilge",
          "repo_counts": 0,
          "search_term": "Daonnachtaí Digiteacha",
          "search_type": "tagged"
         },
         {
          "English language name": "Igbo",
          "finalized_language": "ig",
          "graph_label": "Igbo: Digital Humanities",
          "local language name": "Igbo",
          "repo_counts": 0,
          "search_term": "Digital Humanities",
          "search_type": "tagged"
         },
         {
          "English language name": "Icelandic",
          "finalized_language": "is",
          "graph_label": "Íslenska (Icelandic): Stafræn hugvísindi",
          "local language name": "Íslenska",
          "repo_counts": 0,
          "search_term": "Stafræn hugvísindi",
          "search_type": "tagged"
         },
         {
          "English language name": "Javanese",
          "finalized_language": "jv",
          "graph_label": "Basa Jawa (Javanese): Kamanungsan Digital",
          "local language name": "Basa Jawa",
          "repo_counts": 0,
          "search_term": "Kamanungsan Digital",
          "search_type": "tagged"
         },
         {
          "English language name": "Kannada",
          "finalized_language": "kn",
          "graph_label": "ಕನ್ನಡ (Kannada): ಡಿಜಿಟಲ್ ಹ್ಯುಮಾನಿಟೀಸ್",
          "local language name": "ಕನ್ನಡ",
          "repo_counts": 0,
          "search_term": "ಡಿಜಿಟಲ್ ಹ್ಯುಮಾನಿಟೀಸ್",
          "search_type": "tagged"
         },
         {
          "English language name": "Kazakh",
          "finalized_language": "kk",
          "graph_label": "Қазақша (Kazakh): Сандық гуманитарлық ғылымдар",
          "local language name": "Қазақша",
          "repo_counts": 0,
          "search_term": "Сандық гуманитарлық ғылымдар",
          "search_type": "tagged"
         },
         {
          "English language name": "Cambodian",
          "finalized_language": "km",
          "graph_label": "ភាសាខ្មែរ (Cambodian): មនុស្សធម៌ឌីជីថល",
          "local language name": "ភាសាខ្មែរ",
          "repo_counts": 0,
          "search_term": "មនុស្សធម៌ឌីជីថល",
          "search_type": "tagged"
         },
         {
          "English language name": "Rwandi",
          "finalized_language": "rw",
          "graph_label": "Kinyarwandi (Rwandi): Ubumenyamuntu",
          "local language name": "Kinyarwandi",
          "repo_counts": 0,
          "search_term": "Ubumenyamuntu",
          "search_type": "tagged"
         },
         {
          "English language name": "Kirghiz",
          "finalized_language": "ky",
          "graph_label": "Kırgızca / Кыргызча (Kirghiz): Санариптик гуманитардык илимдер",
          "local language name": "Kırgızca / Кыргызча",
          "repo_counts": 0,
          "search_term": "Санариптик гуманитардык илимдер",
          "search_type": "tagged"
         },
         {
          "English language name": "Kurdish (Kurmanji)",
          "finalized_language": "ku",
          "graph_label": "Kurdî (Kurdish (Kurmanji)): Dijîtal Humanities",
          "local language name": "Kurdî",
          "repo_counts": 0,
          "search_term": "Dijîtal Humanities",
          "search_type": "tagged"
         },
         {
          "English language name": "Ganda",
          "finalized_language": "lg",
          "graph_label": "Luganda (Ganda): Eby’obuntubulamu ebya Digital",
          "local language name": "Luganda",
          "repo_counts": 0,
          "search_term": "Eby’obuntubulamu ebya Digital",
          "search_type": "tagged"
         },
         {
          "English language name": "Lingala",
          "finalized_language": "ln",
          "graph_label": "Lingála (Lingala): Humanités numériques",
          "local language name": "Lingála",
          "repo_counts": 0,
          "search_term": "Humanités numériques",
          "search_type": "tagged"
         },
         {
          "English language name": "Laotian",
          "finalized_language": "lo",
          "graph_label": "ລາວ / Pha xa lao (Laotian): ມະນຸດສາດດິຈິຕອນ",
          "local language name": "ລາວ / Pha xa lao",
          "repo_counts": 0,
          "search_term": "ມະນຸດສາດດິຈິຕອນ",
          "search_type": "tagged"
         },
         {
          "English language name": "Lithuanian",
          "finalized_language": "lt",
          "graph_label": "Lietuvių (Lithuanian): Skaitmeniniai humanitariniai mokslai",
          "local language name": "Lietuvių",
          "repo_counts": 0,
          "search_term": "Skaitmeniniai humanitariniai mokslai",
          "search_type": "tagged"
         },
         {
          "English language name": "Latvian",
          "finalized_language": "lv",
          "graph_label": "Latviešu (Latvian): Digitālās humanitārās zinātnes",
          "local language name": "Latviešu",
          "repo_counts": 0,
          "search_term": "Digitālās humanitārās zinātnes",
          "search_type": "tagged"
         },
         {
          "English language name": "Macedonian",
          "finalized_language": "mk",
          "graph_label": "Македонски (Macedonian): Дигитални хуманистички науки",
          "local language name": "Македонски",
          "repo_counts": 0,
          "search_term": "Дигитални хуманистички науки",
          "search_type": "tagged"
         },
         {
          "English language name": "Malagasy",
          "finalized_language": "mg",
          "graph_label": "Malagasy: Digital Humanities",
          "local language name": "Malagasy",
          "repo_counts": 0,
          "search_term": "Digital Humanities",
          "search_type": "tagged"
         },
         {
          "English language name": "Malay",
          "finalized_language": "ms",
          "graph_label": "Bahasa Melayu (Malay): Kemanusiaan Digital",
          "local language name": "Bahasa Melayu",
          "repo_counts": 0,
          "search_term": "Kemanusiaan Digital",
          "search_type": "tagged"
         },
         {
          "English language name": "Malayalam",
          "finalized_language": "ml",
          "graph_label": "മലയാളം (Malayalam): ഡിജിറ്റൽ ഹ്യുമാനിറ്റീസ്",
          "local language name": "മലയാളം",
          "repo_counts": 0,
          "search_term": "ഡിജിറ്റൽ ഹ്യുമാനിറ്റീസ്",
          "search_type": "tagged"
         },
         {
          "English language name": "Maltese",
          "finalized_language": "mt",
          "graph_label": "bil-Malti (Maltese): Umanistika Diġitali",
          "local language name": "bil-Malti",
          "repo_counts": 0,
          "search_term": "Umanistika Diġitali",
          "search_type": "tagged"
         },
         {
          "English language name": "Māori",
          "finalized_language": "mi",
          "graph_label": "Māori: Mamati Tangata",
          "local language name": "Māori",
          "repo_counts": 0,
          "search_term": "Mamati Tangata",
          "search_type": "tagged"
         },
         {
          "English language name": "Marathi",
          "finalized_language": "mr",
          "graph_label": "मराठी (Marathi): डिजिटल मानवता",
          "local language name": "मराठी",
          "repo_counts": 0,
          "search_term": "डिजिटल मानवता",
          "search_type": "tagged"
         },
         {
          "English language name": "Mongolian",
          "finalized_language": "mn",
          "graph_label": "Монгол (Mongolian): Дижитал хүмүүнлэг",
          "local language name": "Монгол",
          "repo_counts": 0,
          "search_term": "Дижитал хүмүүнлэг",
          "search_type": "tagged"
         },
         {
          "English language name": "Norwegian Bokmål",
          "finalized_language": "nb",
          "graph_label": "Norsk (bokmål) (Norwegian): Digital humaniora",
          "local language name": "Norsk (bokmål)",
          "repo_counts": 0,
          "search_term": "Digital humaniora",
          "search_type": "tagged"
         },
         {
          "English language name": "Nepali",
          "finalized_language": "ne",
          "graph_label": "नेपाली (Nepali): डिजिटल मानविकी",
          "local language name": "नेपाली",
          "repo_counts": 0,
          "search_term": "डिजिटल मानविकी",
          "search_type": "tagged"
         },
         {
          "English language name": "Norwegian",
          "finalized_language": "no",
          "graph_label": "Norsk (bokmål / riksmål): Digital humaniora",
          "local language name": "Norsk (bokmål / riksmål)",
          "repo_counts": 0,
          "search_term": "Digital humaniora",
          "search_type": "tagged"
         },
         {
          "English language name": "Oromo",
          "finalized_language": "om",
          "graph_label": "Oromoo (Oromo): Saayinsii Namoomaa Dijitaalaa",
          "local language name": "Oromoo",
          "repo_counts": 0,
          "search_term": "Saayinsii Namoomaa Dijitaalaa",
          "search_type": "tagged"
         },
         {
          "English language name": "Oriya",
          "finalized_language": "or",
          "graph_label": "ଓଡ଼ିଆ (Oriya): ଡିଜିଟାଲ୍ ମାନବିକତା |",
          "local language name": "ଓଡ଼ିଆ",
          "repo_counts": 0,
          "search_term": "ଡିଜିଟାଲ୍ ମାନବିକତା |",
          "search_type": "tagged"
         },
         {
          "English language name": "Panjabi / Punjabi",
          "finalized_language": "pa",
          "graph_label": "ਪੰਜਾਬੀ / پنجابی (Panjabi / Punjabi): ਡਿਜੀਟਲ ਮਨੁੱਖਤਾ",
          "local language name": "ਪੰਜਾਬੀ / پنجابی",
          "repo_counts": 0,
          "search_term": "ਡਿਜੀਟਲ ਮਨੁੱਖਤਾ",
          "search_type": "tagged"
         },
         {
          "English language name": "Persian",
          "finalized_language": "fa",
          "graph_label": "فارسی (Persian): علوم انسانی دیجیتال",
          "local language name": "فارسی",
          "repo_counts": 0,
          "search_term": "علوم انسانی دیجیتال",
          "search_type": "tagged"
         },
         {
          "English language name": "Polish",
          "finalized_language": "pl",
          "graph_label": "Polski (Polish): Humanistyka cyfrowa",
          "local language name": "Polski",
          "repo_counts": 0,
          "search_term": "Humanistyka cyfrowa",
          "search_type": "tagged"
         },
         {
          "English language name": "Pashto",
          "finalized_language": "ps",
          "graph_label": "پښتو (Pashto): ډیجیټل انسانیتونه",
          "local language name": "پښتو",
          "repo_counts": 0,
          "search_term": "ډیجیټل انسانیتونه",
          "search_type": "tagged"
         },
         {
          "English language name": "Portuguese",
          "finalized_language": "pt",
          "graph_label": "Português (Portuguese): Humanidades Digitais",
          "local language name": "Português",
          "repo_counts": 0,
          "search_term": "Humanidades Digitais",
          "search_type": "tagged"
         },
         {
          "English language name": "Quechua",
          "finalized_language": "qu",
          "graph_label": "Runa Simi (Quechua): Humanidades Digitales nisqa",
          "local language name": "Runa Simi",
          "repo_counts": 0,
          "search_term": "Humanidades Digitales nisqa",
          "search_type": "tagged"
         },
         {
          "English language name": "Romanian",
          "finalized_language": "ro",
          "graph_label": "Română (Romanian): Științe umaniste digitale",
          "local language name": "Română",
          "repo_counts": 0,
          "search_term": "Științe umaniste digitale",
          "search_type": "tagged"
         },
         {
          "English language name": "Sanskrit",
          "finalized_language": "sa",
          "graph_label": "संस्कृतम् (Sanskrit): डिजिटल मानविकी",
          "local language name": "संस्कृतम्",
          "repo_counts": 0,
          "search_term": "डिजिटल मानविकी",
          "search_type": "tagged"
         },
         {
          "English language name": "Sindhi",
          "finalized_language": "sd",
          "graph_label": "सिंधी / سنڌي‎ (Sindhi): ڊجيٽل انسانيت",
          "local language name": "सिंधी / سنڌي‎",
          "repo_counts": 0,
          "search_term": "ڊجيٽل انسانيت",
          "search_type": "tagged"
         },
         {
          "English language name": "Samoan",
          "finalized_language": "sm",
          "graph_label": "Gagana Samoa (Samoan): Digital Humanities",
          "local language name": "Gagana Samoa",
          "repo_counts": 0,
          "search_term": "Digital Humanities",
          "search_type": "tagged"
         },
         {
          "English language name": "Serbian",
          "finalized_language": "sr",
          "graph_label": "Српски (Serbian): Дигиталне хуманистичке науке",
          "local language name": "Српски",
          "repo_counts": 0,
          "search_term": "Дигиталне хуманистичке науке",
          "search_type": "tagged"
         },
         {
          "English language name": "Scottish Gaelic",
          "finalized_language": "gd",
          "graph_label": "Gàidhlig (Scottish Gaelic): Daonnachdan didseatach",
          "local language name": "Gàidhlig",
          "repo_counts": 0,
          "search_term": "Daonnachdan didseatach",
          "search_type": "tagged"
         },
         {
          "English language name": "Shona",
          "finalized_language": "sn",
          "graph_label": "chiShona (Shona): Digital Humanities",
          "local language name": "chiShona",
          "repo_counts": 0,
          "search_term": "Digital Humanities",
          "search_type": "tagged"
         },
         {
          "English language name": "Sinhalese",
          "finalized_language": "si",
          "graph_label": "සිංහල (Sinhalese): ඩිජිටල් මානව ශාස්ත්‍ර",
          "local language name": "සිංහල",
          "repo_counts": 0,
          "search_term": "ඩිජිටල් මානව ශාස්ත්‍ර",
          "search_type": "tagged"
         },
         {
          "English language name": "Slovak",
          "finalized_language": "sk",
          "graph_label": "Slovenčina (Slovak): Digitálne humanitné vedy",
          "local language name": "Slovenčina",
          "repo_counts": 0,
          "search_term": "Digitálne humanitné vedy",
          "search_type": "tagged"
         },
         {
          "English language name": "Somalia",
          "finalized_language": "so",
          "graph_label": "Soomaaliga (Somalia): Aadamaha Dijital ah",
          "local language name": "Soomaaliga",
          "repo_counts": 0,
          "search_term": "Aadamaha Dijital ah",
          "search_type": "tagged"
         },
         {
          "English language name": "Southern Sotho",
          "finalized_language": "st",
          "graph_label": "Sesotho (Southern Sotho): Digital Humanities",
          "local language name": "Sesotho",
          "repo_counts": 0,
          "search_term": "Digital Humanities",
          "search_type": "tagged"
         },
         {
          "English language name": "Sundanese",
          "finalized_language": "su",
          "graph_label": "Basa Sunda (Sundanese): Kamanusaan Digital",
          "local language name": "Basa Sunda",
          "repo_counts": 0,
          "search_term": "Kamanusaan Digital",
          "search_type": "tagged"
         },
         {
          "English language name": "Swahili",
          "finalized_language": "sw",
          "graph_label": "Kiswahili (Swahili): Binadamu wa Kidijitali",
          "local language name": "Kiswahili",
          "repo_counts": 0,
          "search_term": "Binadamu wa Kidijitali",
          "search_type": "tagged"
         },
         {
          "English language name": "Telugu",
          "finalized_language": "te",
          "graph_label": "తెలుగు (Telugu): డిజిటల్ హ్యుమానిటీస్",
          "local language name": "తెలుగు",
          "repo_counts": 0,
          "search_term": "డిజిటల్ హ్యుమానిటీస్",
          "search_type": "tagged"
         },
         {
          "English language name": "Tajik",
          "finalized_language": "tg",
          "graph_label": "Тоҷикӣ (Tajik): Илмҳои гуманитарии рақамӣ",
          "local language name": "Тоҷикӣ",
          "repo_counts": 0,
          "search_term": "Илмҳои гуманитарии рақамӣ",
          "search_type": "tagged"
         },
         {
          "English language name": "Tigrinya",
          "finalized_language": "ti",
          "graph_label": "ትግርኛ (Tigrinya): ዲጂታል ሰብኣዊ ስነፍልጠት",
          "local language name": "ትግርኛ",
          "repo_counts": 0,
          "search_term": "ዲጂታል ሰብኣዊ ስነፍልጠት",
          "search_type": "tagged"
         },
         {
          "English language name": "Turkmen",
          "finalized_language": "tk",
          "graph_label": "Туркмен / تركمن (Turkmen): Sanly gumanitar ylymlar",
          "local language name": "Туркмен / تركمن",
          "repo_counts": 0,
          "search_term": "Sanly gumanitar ylymlar",
          "search_type": "tagged"
         },
         {
          "English language name": "Tagalog",
          "finalized_language": "tl",
          "graph_label": "Tagalog / ᜆᜄᜎᜓᜄ᜔ (Tagalog): Digital Humanities",
          "local language name": "Tagalog / ᜆᜄᜎᜓᜄ᜔",
          "repo_counts": 0,
          "search_term": "Digital Humanities",
          "search_type": "tagged"
         },
         {
          "English language name": "Turkish",
          "finalized_language": "tr",
          "graph_label": "Türkçe (Turkish): Dijital Beşeri Bilimler",
          "local language name": "Türkçe",
          "repo_counts": 0,
          "search_term": "Dijital Beşeri Bilimler",
          "search_type": "tagged"
         },
         {
          "English language name": "Tsonga",
          "finalized_language": "ts",
          "graph_label": "Xitsonga (Tsonga): Vutivi bya Vanhu bya Dijitali",
          "local language name": "Xitsonga",
          "repo_counts": 0,
          "search_term": "Vutivi bya Vanhu bya Dijitali",
          "search_type": "tagged"
         },
         {
          "English language name": "Tatar",
          "finalized_language": "tt",
          "graph_label": "Tatarça (Tatar): Санлы гуманитар фәннәр",
          "local language name": "Tatarça",
          "repo_counts": 0,
          "search_term": "Санлы гуманитар фәннәр",
          "search_type": "tagged"
         },
         {
          "English language name": "Twi",
          "finalized_language": "tw",
          "graph_label": "Twi: Digitals Nnipa Ho Adesua",
          "local language name": "Twi",
          "repo_counts": 0,
          "search_term": "Digitals Nnipa Ho Adesua",
          "search_type": "tagged"
         },
         {
          "English language name": "Uyghur",
          "finalized_language": "ug",
          "graph_label": "Uyƣurqə / ئۇيغۇرچە (Uyghur): رەقەملىك ئادىمىيلىك",
          "local language name": "Uyƣurqə / ئۇيغۇرچە",
          "repo_counts": 0,
          "search_term": "رەقەملىك ئادىمىيلىك",
          "search_type": "tagged"
         },
         {
          "English language name": "Ukrainian",
          "finalized_language": "uk",
          "graph_label": "Українська (Ukrainian): Цифрові гуманітарні науки",
          "local language name": "Українська",
          "repo_counts": 0,
          "search_term": "Цифрові гуманітарні науки",
          "search_type": "tagged"
         },
         {
          "English language name": "Urdu",
          "finalized_language": "ur",
          "graph_label": "اردو (Urdu): ڈیجیٹل ہیومینٹیز",
          "local language name": "اردو",
          "repo_counts": 0,
          "search_term": "ڈیجیٹل ہیومینٹیز",
          "search_type": "tagged"
         },
         {
          "English language name": "Uzbek",
          "finalized_language": "uz",
          "graph_label": "Ўзбек (Uzbek): Raqamli gumanitar fanlar",
          "local language name": "Ўзбек",
          "repo_counts": 0,
          "search_term": "Raqamli gumanitar fanlar",
          "search_type": "tagged"
         },
         {
          "English language name": "Vietnamese",
          "finalized_language": "vi",
          "graph_label": "Tiếng Việt (Vietnamese): Nhân văn kỹ thuật số",
          "local language name": "Tiếng Việt",
          "repo_counts": 0,
          "search_term": "Nhân văn kỹ thuật số",
          "search_type": "tagged"
         },
         {
          "English language name": "West Frisian",
          "finalized_language": "fy",
          "graph_label": "Frysk (West Frisian): Digitale Humanities",
          "local language name": "Frysk",
          "repo_counts": 0,
          "search_term": "Digitale Humanities",
          "search_type": "tagged"
         },
         {
          "English language name": "Yiddish",
          "finalized_language": "yi",
          "graph_label": "ייִדיש (Yiddish): דיגיטאַל הומאַניטיעס",
          "local language name": "ייִדיש",
          "repo_counts": 0,
          "search_term": "דיגיטאַל הומאַניטיעס",
          "search_type": "tagged"
         },
         {
          "English language name": "Yoruba",
          "finalized_language": "yo",
          "graph_label": "Yorùbá (Yoruba): Digital Humanities",
          "local language name": "Yorùbá",
          "repo_counts": 0,
          "search_term": "Digital Humanities",
          "search_type": "tagged"
         },
         {
          "English language name": "Latin",
          "finalized_language": "la",
          "graph_label": "Latina (Latin): Humanitates digitales",
          "local language name": "Latina",
          "repo_counts": 0,
          "search_term": "Humanitates digitales",
          "search_type": "searched"
         },
         {
          "English language name": "Tamil",
          "finalized_language": "ta",
          "graph_label": "தமிழ் (Tamil): எண்ணிம மனிதவியல்",
          "local language name": "தமிழ்",
          "repo_counts": 0,
          "search_term": "எண்ணிம மனிதவியல்",
          "search_type": "searched"
         },
         {
          "English language name": "Catalan",
          "finalized_language": "ca",
          "graph_label": "Català (Catalan): Humanitats digitals",
          "local language name": "Català",
          "repo_counts": 0,
          "search_term": "Humanitats digitals",
          "search_type": "searched"
         },
         {
          "English language name": "Serbo-Croatian",
          "finalized_language": "sh",
          "graph_label": "Srpskohrvatski / Српскохрватски (Serbo-Croatian): Дигиталне хуманистичке науке",
          "local language name": "Srpskohrvatski / Српскохрватски",
          "repo_counts": 0,
          "search_term": "Дигиталне хуманистичке науке",
          "search_type": "searched"
         },
         {
          "English language name": "Welsh",
          "finalized_language": "cy",
          "graph_label": "Cymraeg (Welsh): Dyniaethau digidol",
          "local language name": "Cymraeg",
          "repo_counts": 0,
          "search_term": "Dyniaethau digidol",
          "search_type": "searched"
         },
         {
          "English language name": "Arabic",
          "finalized_language": "ar",
          "graph_label": "العربية (Arabic): إنسانيات رقمية",
          "local language name": "العربية",
          "repo_counts": 0,
          "search_term": "إنسانيات رقمية",
          "search_type": "searched"
         },
         {
          "English language name": "Thai",
          "finalized_language": "th",
          "graph_label": "ไทย / Phasa Thai (Thai): มนุษยศาสตร์ดิจิทัล",
          "local language name": "ไทย / Phasa Thai",
          "repo_counts": 0,
          "search_term": "มนุษยศาสตร์ดิจิทัล",
          "search_type": "searched"
         },
         {
          "English language name": "Slovenian",
          "finalized_language": "sl",
          "graph_label": "Slovenščina (Slovenian): Digitalna humanistika",
          "local language name": "Slovenščina",
          "repo_counts": 0,
          "search_term": "Digitalna humanistika",
          "search_type": "searched"
         },
         {
          "English language name": "Japanese",
          "finalized_language": "ja",
          "graph_label": "日本語 (Japanese): デジタル・ヒューマニティーズ",
          "local language name": "日本語",
          "repo_counts": 0,
          "search_term": "デジタル・ヒューマニティーズ",
          "search_type": "searched"
         },
         {
          "English language name": "Hebrew",
          "finalized_language": "he",
          "graph_label": "עברית (Hebrew): מדעי הרוח הדיגיטליים",
          "local language name": "עברית",
          "repo_counts": 0,
          "search_term": "מדעי הרוח הדיגיטליים",
          "search_type": "searched"
         },
         {
          "English language name": "Afrikaans",
          "finalized_language": "af",
          "graph_label": "Afrikaans: Digitale Geesteswetenskappe",
          "local language name": "Afrikaans",
          "repo_counts": 0,
          "search_term": "Digitale Geesteswetenskappe",
          "search_type": "searched"
         },
         {
          "English language name": "Akan",
          "finalized_language": "ak",
          "graph_label": "Akana (Akan): Digitals Nnipa Ho Adesua",
          "local language name": "Akana",
          "repo_counts": 0,
          "search_term": "Digitals Nnipa Ho Adesua",
          "search_type": "searched"
         },
         {
          "English language name": "Albanian",
          "finalized_language": "sq",
          "graph_label": "Shqip (Albanian): Shkenca Dixhitale Humane",
          "local language name": "Shqip",
          "repo_counts": 0,
          "search_term": "Shkenca Dixhitale Humane",
          "search_type": "searched"
         },
         {
          "English language name": "Amharic",
          "finalized_language": "am",
          "graph_label": "አማርኛ (Amharic): ዲጂታል ሰብአዊነት",
          "local language name": "አማርኛ",
          "repo_counts": 0,
          "search_term": "ዲጂታል ሰብአዊነት",
          "search_type": "searched"
         },
         {
          "English language name": "Armenian",
          "finalized_language": "hy",
          "graph_label": "Հայերեն (Armenian): Թվային հումանիտար գիտություններ",
          "local language name": "Հայերեն",
          "repo_counts": 0,
          "search_term": "Թվային հումանիտար գիտություններ",
          "search_type": "searched"
         },
         {
          "English language name": "Assamese",
          "finalized_language": "as",
          "graph_label": "অসমীয়া (Assamese): ডিজিটেল মানৱীয় বিজ্ঞান",
          "local language name": "অসমীয়া",
          "repo_counts": 0,
          "search_term": "ডিজিটেল মানৱীয় বিজ্ঞান",
          "search_type": "searched"
         },
         {
          "English language name": "Aymara",
          "finalized_language": "ay",
          "graph_label": "Aymar (Aymara): Humanidades Digitales uka tuqit yatxataña",
          "local language name": "Aymar",
          "repo_counts": 0,
          "search_term": "Humanidades Digitales uka tuqit yatxataña",
          "search_type": "searched"
         },
         {
          "English language name": "Azerbaijani",
          "finalized_language": "az",
          "graph_label": "Azərbaycanca / آذربايجان (Azerbaijani): Rəqəmsal humanitar elmlər",
          "local language name": "Azərbaycanca / آذربايجان",
          "repo_counts": 0,
          "search_term": "Rəqəmsal humanitar elmlər",
          "search_type": "searched"
         },
         {
          "English language name": "Bambara",
          "finalized_language": "bm",
          "graph_label": "Bamanankan (Bambara): Hadamadenw ka dɔnniya nimɔrɔma",
          "local language name": "Bamanankan",
          "repo_counts": 0,
          "search_term": "Hadamadenw ka dɔnniya nimɔrɔma",
          "search_type": "searched"
         },
         {
          "English language name": "Basque",
          "finalized_language": "eu",
          "graph_label": "Euskara (Basque): Humanitate Digitalak",
          "local language name": "Euskara",
          "repo_counts": 0,
          "search_term": "Humanitate Digitalak",
          "search_type": "searched"
         },
         {
          "English language name": "Belarusian",
          "finalized_language": "be",
          "graph_label": "Беларуская (Belarusian): Лічбавая гуманітарная навука",
          "local language name": "Беларуская",
          "repo_counts": 0,
          "search_term": "Лічбавая гуманітарная навука",
          "search_type": "searched"
         },
         {
          "English language name": "Bengali",
          "finalized_language": "bn",
          "graph_label": "বাংলা (Bengali): ডিজিটাল মানবিক",
          "local language name": "বাংলা",
          "repo_counts": 0,
          "search_term": "ডিজিটাল মানবিক",
          "search_type": "searched"
         },
         {
          "English language name": "Bihari",
          "finalized_language": "bh",
          "graph_label": "भोजपुरी (Bihari): डिजिटल मानविकी के बारे में बतावल गइल बा",
          "local language name": "भोजपुरी",
          "repo_counts": 0,
          "search_term": "डिजिटल मानविकी के बारे में बतावल गइल बा",
          "search_type": "searched"
         },
         {
          "English language name": "Bosnian",
          "finalized_language": "bs",
          "graph_label": "Bosanski (Bosnian): Digitalne humanističke nauke",
          "local language name": "Bosanski",
          "repo_counts": 0,
          "search_term": "Digitalne humanističke nauke",
          "search_type": "searched"
         },
         {
          "English language name": "Bulgarian",
          "finalized_language": "bg",
          "graph_label": "Български (Bulgarian): Дигитални хуманитарни науки",
          "local language name": "Български",
          "repo_counts": 0,
          "search_term": "Дигитални хуманитарни науки",
          "search_type": "searched"
         },
         {
          "English language name": "Burmese",
          "finalized_language": "my",
          "graph_label": "Myanmasa (Burmese): ဒစ်ဂျစ်တယ်လူ့ပညာ",
          "local language name": "Myanmasa",
          "repo_counts": 0,
          "search_term": "ဒစ်ဂျစ်တယ်လူ့ပညာ",
          "search_type": "searched"
         },
         {
          "English language name": "Chichewa",
          "finalized_language": "ny",
          "graph_label": "Chi-Chewa (Chichewa): Digital Humanities",
          "local language name": "Chi-Chewa",
          "repo_counts": 0,
          "search_term": "Digital Humanities",
          "search_type": "searched"
         },
         {
          "English language name": "Chinese",
          "finalized_language": "zh",
          "graph_label": "中文 (Chinese): 数字人文",
          "local language name": "中文",
          "repo_counts": 0,
          "search_term": "数字人文",
          "search_type": "searched"
         },
         {
          "English language name": "Corsican",
          "finalized_language": "co",
          "graph_label": "Corsu (Corsican): Umanità digitale",
          "local language name": "Corsu",
          "repo_counts": 0,
          "search_term": "Umanità digitale",
          "search_type": "searched"
         },
         {
          "English language name": "Croatian",
          "finalized_language": "hr",
          "graph_label": "Hrvatski (Croatian): Digitalne humanističke znanosti",
          "local language name": "Hrvatski",
          "repo_counts": 0,
          "search_term": "Digitalne humanističke znanosti",
          "search_type": "searched"
         },
         {
          "English language name": "Czech",
          "finalized_language": "cs",
          "graph_label": "Česky (Czech): Digitální humanitní vědy",
          "local language name": "Česky",
          "repo_counts": 0,
          "search_term": "Digitální humanitní vědy",
          "search_type": "searched"
         },
         {
          "English language name": "Divehi",
          "finalized_language": "dv",
          "graph_label": "ދިވެހިބަސް (Divehi): ދިރާގު ހިއުމަނިޓީސް އެވެ",
          "local language name": "ދިވެހިބަސް",
          "repo_counts": 0,
          "search_term": "ދިރާގު ހިއުމަނިޓީސް އެވެ",
          "search_type": "searched"
         },
         {
          "English language name": "Dutch",
          "finalized_language": "nl",
          "graph_label": "Nederlands (Dutch): Digitale geesteswetenschappen",
          "local language name": "Nederlands",
          "repo_counts": 0,
          "search_term": "Digitale geesteswetenschappen",
          "search_type": "searched"
         },
         {
          "English language name": "Esperanto",
          "finalized_language": "eo",
          "graph_label": "Esperanto: Ciferecaj Homaroj",
          "local language name": "Esperanto",
          "repo_counts": 0,
          "search_term": "Ciferecaj Homaroj",
          "search_type": "searched"
         },
         {
          "English language name": "Ewe",
          "finalized_language": "ee",
          "graph_label": "Ɛʋɛ (Ewe): Digitál Amegbetɔŋutinunya",
          "local language name": "Ɛʋɛ",
          "repo_counts": 0,
          "search_term": "Digitál Amegbetɔŋutinunya",
          "search_type": "searched"
         },
         {
          "English language name": "Galician",
          "finalized_language": "gl",
          "graph_label": "Galego (Galician): Humanidades Dixitais",
          "local language name": "Galego",
          "repo_counts": 0,
          "search_term": "Humanidades Dixitais",
          "search_type": "searched"
         },
         {
          "English language name": "Georgian",
          "finalized_language": "ka",
          "graph_label": "ქართული (Georgian): ციფრული ჰუმანიტარული მეცნიერებები",
          "local language name": "ქართული",
          "repo_counts": 0,
          "search_term": "ციფრული ჰუმანიტარული მეცნიერებები",
          "search_type": "searched"
         },
         {
          "English language name": "Greek",
          "finalized_language": "el",
          "graph_label": "Ελληνικά (Greek): Ψηφιακές Ανθρωπιστικές Επιστήμες",
          "local language name": "Ελληνικά",
          "repo_counts": 0,
          "search_term": "Ψηφιακές Ανθρωπιστικές Επιστήμες",
          "search_type": "searched"
         },
         {
          "English language name": "Guarani",
          "finalized_language": "gn",
          "graph_label": "Avañe'ẽ (Guarani): Humanidades Digitales rehegua",
          "local language name": "Avañe'ẽ",
          "repo_counts": 0,
          "search_term": "Humanidades Digitales rehegua",
          "search_type": "searched"
         },
         {
          "English language name": "Gujarati",
          "finalized_language": "gu",
          "graph_label": "ગુજરાતી (Gujarati): ડિજિટલ માનવતા",
          "local language name": "ગુજરાતી",
          "repo_counts": 0,
          "search_term": "ડિજિટલ માનવતા",
          "search_type": "searched"
         },
         {
          "English language name": "Haitian",
          "finalized_language": "ht",
          "graph_label": "Krèyol ayisyen (Haitian): Syans imanitè dijital",
          "local language name": "Krèyol ayisyen",
          "repo_counts": 0,
          "search_term": "Syans imanitè dijital",
          "search_type": "searched"
         },
         {
          "English language name": "Hausa",
          "finalized_language": "ha",
          "graph_label": "هَوُسَ (Hausa): Digital Humanities",
          "local language name": "هَوُسَ",
          "repo_counts": 0,
          "search_term": "Digital Humanities",
          "search_type": "searched"
         },
         {
          "English language name": "Hindi",
          "finalized_language": "hi",
          "graph_label": "हिन्दी (Hindi): डिजिटल मानविकी",
          "local language name": "हिन्दी",
          "repo_counts": 0,
          "search_term": "डिजिटल मानविकी",
          "search_type": "searched"
         },
         {
          "English language name": "Hungarian",
          "finalized_language": "hu",
          "graph_label": "Magyar (Hungarian): Digitális humán tudományok",
          "local language name": "Magyar",
          "repo_counts": 0,
          "search_term": "Digitális humán tudományok",
          "search_type": "searched"
         },
         {
          "English language name": "Indonesian",
          "finalized_language": "id",
          "graph_label": "Bahasa Indonesia (Indonesian): Humaniora Digital",
          "local language name": "Bahasa Indonesia",
          "repo_counts": 0,
          "search_term": "Humaniora Digital",
          "search_type": "searched"
         },
         {
          "English language name": "Irish",
          "finalized_language": "ga",
          "graph_label": "Gaeilge (Irish): Daonnachtaí Digiteacha",
          "local language name": "Gaeilge",
          "repo_counts": 0,
          "search_term": "Daonnachtaí Digiteacha",
          "search_type": "searched"
         },
         {
          "English language name": "Igbo",
          "finalized_language": "ig",
          "graph_label": "Igbo: Digital Humanities",
          "local language name": "Igbo",
          "repo_counts": 0,
          "search_term": "Digital Humanities",
          "search_type": "searched"
         },
         {
          "English language name": "Icelandic",
          "finalized_language": "is",
          "graph_label": "Íslenska (Icelandic): Stafræn hugvísindi",
          "local language name": "Íslenska",
          "repo_counts": 0,
          "search_term": "Stafræn hugvísindi",
          "search_type": "searched"
         },
         {
          "English language name": "Javanese",
          "finalized_language": "jv",
          "graph_label": "Basa Jawa (Javanese): Kamanungsan Digital",
          "local language name": "Basa Jawa",
          "repo_counts": 0,
          "search_term": "Kamanungsan Digital",
          "search_type": "searched"
         },
         {
          "English language name": "Kannada",
          "finalized_language": "kn",
          "graph_label": "ಕನ್ನಡ (Kannada): ಡಿಜಿಟಲ್ ಹ್ಯುಮಾನಿಟೀಸ್",
          "local language name": "ಕನ್ನಡ",
          "repo_counts": 0,
          "search_term": "ಡಿಜಿಟಲ್ ಹ್ಯುಮಾನಿಟೀಸ್",
          "search_type": "searched"
         },
         {
          "English language name": "Kazakh",
          "finalized_language": "kk",
          "graph_label": "Қазақша (Kazakh): Сандық гуманитарлық ғылымдар",
          "local language name": "Қазақша",
          "repo_counts": 0,
          "search_term": "Сандық гуманитарлық ғылымдар",
          "search_type": "searched"
         },
         {
          "English language name": "Cambodian",
          "finalized_language": "km",
          "graph_label": "ភាសាខ្មែរ (Cambodian): មនុស្សធម៌ឌីជីថល",
          "local language name": "ភាសាខ្មែរ",
          "repo_counts": 0,
          "search_term": "មនុស្សធម៌ឌីជីថល",
          "search_type": "searched"
         },
         {
          "English language name": "Rwandi",
          "finalized_language": "rw",
          "graph_label": "Kinyarwandi (Rwandi): Ubumenyamuntu",
          "local language name": "Kinyarwandi",
          "repo_counts": 0,
          "search_term": "Ubumenyamuntu",
          "search_type": "searched"
         },
         {
          "English language name": "Kirghiz",
          "finalized_language": "ky",
          "graph_label": "Kırgızca / Кыргызча (Kirghiz): Санариптик гуманитардык илимдер",
          "local language name": "Kırgızca / Кыргызча",
          "repo_counts": 0,
          "search_term": "Санариптик гуманитардык илимдер",
          "search_type": "searched"
         },
         {
          "English language name": "Kurdish (Kurmanji)",
          "finalized_language": "ku",
          "graph_label": "Kurdî (Kurdish (Kurmanji)): Dijîtal Humanities",
          "local language name": "Kurdî",
          "repo_counts": 0,
          "search_term": "Dijîtal Humanities",
          "search_type": "searched"
         },
         {
          "English language name": "Luxembourgish",
          "finalized_language": "lb",
          "graph_label": "Lëtzebuergesch (Luxembourgish): Digital Humanities",
          "local language name": "Lëtzebuergesch",
          "repo_counts": 0,
          "search_term": "Digital Humanities",
          "search_type": "searched"
         },
         {
          "English language name": "Ganda",
          "finalized_language": "lg",
          "graph_label": "Luganda (Ganda): Eby’obuntubulamu ebya Digital",
          "local language name": "Luganda",
          "repo_counts": 0,
          "search_term": "Eby’obuntubulamu ebya Digital",
          "search_type": "searched"
         },
         {
          "English language name": "Lingala",
          "finalized_language": "ln",
          "graph_label": "Lingála (Lingala): Humanités numériques",
          "local language name": "Lingála",
          "repo_counts": 0,
          "search_term": "Humanités numériques",
          "search_type": "searched"
         },
         {
          "English language name": "Laotian",
          "finalized_language": "lo",
          "graph_label": "ລາວ / Pha xa lao (Laotian): ມະນຸດສາດດິຈິຕອນ",
          "local language name": "ລາວ / Pha xa lao",
          "repo_counts": 0,
          "search_term": "ມະນຸດສາດດິຈິຕອນ",
          "search_type": "searched"
         },
         {
          "English language name": "Lithuanian",
          "finalized_language": "lt",
          "graph_label": "Lietuvių (Lithuanian): Skaitmeniniai humanitariniai mokslai",
          "local language name": "Lietuvių",
          "repo_counts": 0,
          "search_term": "Skaitmeniniai humanitariniai mokslai",
          "search_type": "searched"
         },
         {
          "English language name": "Latvian",
          "finalized_language": "lv",
          "graph_label": "Latviešu (Latvian): Digitālās humanitārās zinātnes",
          "local language name": "Latviešu",
          "repo_counts": 0,
          "search_term": "Digitālās humanitārās zinātnes",
          "search_type": "searched"
         },
         {
          "English language name": "Macedonian",
          "finalized_language": "mk",
          "graph_label": "Македонски (Macedonian): Дигитални хуманистички науки",
          "local language name": "Македонски",
          "repo_counts": 0,
          "search_term": "Дигитални хуманистички науки",
          "search_type": "searched"
         },
         {
          "English language name": "Malagasy",
          "finalized_language": "mg",
          "graph_label": "Malagasy: Digital Humanities",
          "local language name": "Malagasy",
          "repo_counts": 0,
          "search_term": "Digital Humanities",
          "search_type": "searched"
         },
         {
          "English language name": "Malay",
          "finalized_language": "ms",
          "graph_label": "Bahasa Melayu (Malay): Kemanusiaan Digital",
          "local language name": "Bahasa Melayu",
          "repo_counts": 0,
          "search_term": "Kemanusiaan Digital",
          "search_type": "searched"
         },
         {
          "English language name": "Malayalam",
          "finalized_language": "ml",
          "graph_label": "മലയാളം (Malayalam): ഡിജിറ്റൽ ഹ്യുമാനിറ്റീസ്",
          "local language name": "മലയാളം",
          "repo_counts": 0,
          "search_term": "ഡിജിറ്റൽ ഹ്യുമാനിറ്റീസ്",
          "search_type": "searched"
         },
         {
          "English language name": "Maltese",
          "finalized_language": "mt",
          "graph_label": "bil-Malti (Maltese): Umanistika Diġitali",
          "local language name": "bil-Malti",
          "repo_counts": 0,
          "search_term": "Umanistika Diġitali",
          "search_type": "searched"
         },
         {
          "English language name": "Māori",
          "finalized_language": "mi",
          "graph_label": "Māori: Mamati Tangata",
          "local language name": "Māori",
          "repo_counts": 0,
          "search_term": "Mamati Tangata",
          "search_type": "searched"
         },
         {
          "English language name": "Marathi",
          "finalized_language": "mr",
          "graph_label": "मराठी (Marathi): डिजिटल मानवता",
          "local language name": "मराठी",
          "repo_counts": 0,
          "search_term": "डिजिटल मानवता",
          "search_type": "searched"
         },
         {
          "English language name": "Mongolian",
          "finalized_language": "mn",
          "graph_label": "Монгол (Mongolian): Дижитал хүмүүнлэг",
          "local language name": "Монгол",
          "repo_counts": 0,
          "search_term": "Дижитал хүмүүнлэг",
          "search_type": "searched"
         },
         {
          "English language name": "Norwegian Bokmål",
          "finalized_language": "nb",
          "graph_label": "Norsk (bokmål) (Norwegian): Digital humaniora",
          "local language name": "Norsk (bokmål)",
          "repo_counts": 0,
          "search_term": "Digital humaniora",
          "search_type": "searched"
         },
         {
          "English language name": "Nepali",
          "finalized_language": "ne",
          "graph_label": "नेपाली (Nepali): डिजिटल मानविकी",
          "local language name": "नेपाली",
          "repo_counts": 0,
          "search_term": "डिजिटल मानविकी",
          "search_type": "searched"
         },
         {
          "English language name": "Norwegian",
          "finalized_language": "no",
          "graph_label": "Norsk (bokmål / riksmål): Digital humaniora",
          "local language name": "Norsk (bokmål / riksmål)",
          "repo_counts": 0,
          "search_term": "Digital humaniora",
          "search_type": "searched"
         },
         {
          "English language name": "Oromo",
          "finalized_language": "om",
          "graph_label": "Oromoo (Oromo): Saayinsii Namoomaa Dijitaalaa",
          "local language name": "Oromoo",
          "repo_counts": 0,
          "search_term": "Saayinsii Namoomaa Dijitaalaa",
          "search_type": "searched"
         },
         {
          "English language name": "Oriya",
          "finalized_language": "or",
          "graph_label": "ଓଡ଼ିଆ (Oriya): ଡିଜିଟାଲ୍ ମାନବିକତା |",
          "local language name": "ଓଡ଼ିଆ",
          "repo_counts": 0,
          "search_term": "ଡିଜିଟାଲ୍ ମାନବିକତା |",
          "search_type": "searched"
         },
         {
          "English language name": "Panjabi / Punjabi",
          "finalized_language": "pa",
          "graph_label": "ਪੰਜਾਬੀ / پنجابی (Panjabi / Punjabi): ਡਿਜੀਟਲ ਮਨੁੱਖਤਾ",
          "local language name": "ਪੰਜਾਬੀ / پنجابی",
          "repo_counts": 0,
          "search_term": "ਡਿਜੀਟਲ ਮਨੁੱਖਤਾ",
          "search_type": "searched"
         },
         {
          "English language name": "Persian",
          "finalized_language": "fa",
          "graph_label": "فارسی (Persian): علوم انسانی دیجیتال",
          "local language name": "فارسی",
          "repo_counts": 0,
          "search_term": "علوم انسانی دیجیتال",
          "search_type": "searched"
         },
         {
          "English language name": "Polish",
          "finalized_language": "pl",
          "graph_label": "Polski (Polish): Humanistyka cyfrowa",
          "local language name": "Polski",
          "repo_counts": 0,
          "search_term": "Humanistyka cyfrowa",
          "search_type": "searched"
         },
         {
          "English language name": "Pashto",
          "finalized_language": "ps",
          "graph_label": "پښتو (Pashto): ډیجیټل انسانیتونه",
          "local language name": "پښتو",
          "repo_counts": 0,
          "search_term": "ډیجیټل انسانیتونه",
          "search_type": "searched"
         },
         {
          "English language name": "Quechua",
          "finalized_language": "qu",
          "graph_label": "Runa Simi (Quechua): Humanidades Digitales nisqa",
          "local language name": "Runa Simi",
          "repo_counts": 0,
          "search_term": "Humanidades Digitales nisqa",
          "search_type": "searched"
         },
         {
          "English language name": "Romanian",
          "finalized_language": "ro",
          "graph_label": "Română (Romanian): Științe umaniste digitale",
          "local language name": "Română",
          "repo_counts": 0,
          "search_term": "Științe umaniste digitale",
          "search_type": "searched"
         },
         {
          "English language name": "Sanskrit",
          "finalized_language": "sa",
          "graph_label": "संस्कृतम् (Sanskrit): डिजिटल मानविकी",
          "local language name": "संस्कृतम्",
          "repo_counts": 0,
          "search_term": "डिजिटल मानविकी",
          "search_type": "searched"
         },
         {
          "English language name": "Sindhi",
          "finalized_language": "sd",
          "graph_label": "सिंधी / سنڌي‎ (Sindhi): ڊجيٽل انسانيت",
          "local language name": "सिंधी / سنڌي‎",
          "repo_counts": 0,
          "search_term": "ڊجيٽل انسانيت",
          "search_type": "searched"
         },
         {
          "English language name": "Samoan",
          "finalized_language": "sm",
          "graph_label": "Gagana Samoa (Samoan): Digital Humanities",
          "local language name": "Gagana Samoa",
          "repo_counts": 0,
          "search_term": "Digital Humanities",
          "search_type": "searched"
         },
         {
          "English language name": "Serbian",
          "finalized_language": "sr",
          "graph_label": "Српски (Serbian): Дигиталне хуманистичке науке",
          "local language name": "Српски",
          "repo_counts": 0,
          "search_term": "Дигиталне хуманистичке науке",
          "search_type": "searched"
         },
         {
          "English language name": "Scottish Gaelic",
          "finalized_language": "gd",
          "graph_label": "Gàidhlig (Scottish Gaelic): Daonnachdan didseatach",
          "local language name": "Gàidhlig",
          "repo_counts": 0,
          "search_term": "Daonnachdan didseatach",
          "search_type": "searched"
         },
         {
          "English language name": "Shona",
          "finalized_language": "sn",
          "graph_label": "chiShona (Shona): Digital Humanities",
          "local language name": "chiShona",
          "repo_counts": 0,
          "search_term": "Digital Humanities",
          "search_type": "searched"
         },
         {
          "English language name": "Sinhalese",
          "finalized_language": "si",
          "graph_label": "සිංහල (Sinhalese): ඩිජිටල් මානව ශාස්ත්‍ර",
          "local language name": "සිංහල",
          "repo_counts": 0,
          "search_term": "ඩිජිටල් මානව ශාස්ත්‍ර",
          "search_type": "searched"
         },
         {
          "English language name": "Slovak",
          "finalized_language": "sk",
          "graph_label": "Slovenčina (Slovak): Digitálne humanitné vedy",
          "local language name": "Slovenčina",
          "repo_counts": 0,
          "search_term": "Digitálne humanitné vedy",
          "search_type": "searched"
         },
         {
          "English language name": "Somalia",
          "finalized_language": "so",
          "graph_label": "Soomaaliga (Somalia): Aadamaha Dijital ah",
          "local language name": "Soomaaliga",
          "repo_counts": 0,
          "search_term": "Aadamaha Dijital ah",
          "search_type": "searched"
         },
         {
          "English language name": "Southern Sotho",
          "finalized_language": "st",
          "graph_label": "Sesotho (Southern Sotho): Digital Humanities",
          "local language name": "Sesotho",
          "repo_counts": 0,
          "search_term": "Digital Humanities",
          "search_type": "searched"
         },
         {
          "English language name": "Sundanese",
          "finalized_language": "su",
          "graph_label": "Basa Sunda (Sundanese): Kamanusaan Digital",
          "local language name": "Basa Sunda",
          "repo_counts": 0,
          "search_term": "Kamanusaan Digital",
          "search_type": "searched"
         },
         {
          "English language name": "Swahili",
          "finalized_language": "sw",
          "graph_label": "Kiswahili (Swahili): Binadamu wa Kidijitali",
          "local language name": "Kiswahili",
          "repo_counts": 0,
          "search_term": "Binadamu wa Kidijitali",
          "search_type": "searched"
         },
         {
          "English language name": "Telugu",
          "finalized_language": "te",
          "graph_label": "తెలుగు (Telugu): డిజిటల్ హ్యుమానిటీస్",
          "local language name": "తెలుగు",
          "repo_counts": 0,
          "search_term": "డిజిటల్ హ్యుమానిటీస్",
          "search_type": "searched"
         },
         {
          "English language name": "Tajik",
          "finalized_language": "tg",
          "graph_label": "Тоҷикӣ (Tajik): Илмҳои гуманитарии рақамӣ",
          "local language name": "Тоҷикӣ",
          "repo_counts": 0,
          "search_term": "Илмҳои гуманитарии рақамӣ",
          "search_type": "searched"
         },
         {
          "English language name": "Tigrinya",
          "finalized_language": "ti",
          "graph_label": "ትግርኛ (Tigrinya): ዲጂታል ሰብኣዊ ስነፍልጠት",
          "local language name": "ትግርኛ",
          "repo_counts": 0,
          "search_term": "ዲጂታል ሰብኣዊ ስነፍልጠት",
          "search_type": "searched"
         },
         {
          "English language name": "Turkmen",
          "finalized_language": "tk",
          "graph_label": "Туркмен / تركمن (Turkmen): Sanly gumanitar ylymlar",
          "local language name": "Туркмен / تركمن",
          "repo_counts": 0,
          "search_term": "Sanly gumanitar ylymlar",
          "search_type": "searched"
         },
         {
          "English language name": "Tagalog",
          "finalized_language": "tl",
          "graph_label": "Tagalog / ᜆᜄᜎᜓᜄ᜔ (Tagalog): Digital Humanities",
          "local language name": "Tagalog / ᜆᜄᜎᜓᜄ᜔",
          "repo_counts": 0,
          "search_term": "Digital Humanities",
          "search_type": "searched"
         },
         {
          "English language name": "Turkish",
          "finalized_language": "tr",
          "graph_label": "Türkçe (Turkish): Dijital Beşeri Bilimler",
          "local language name": "Türkçe",
          "repo_counts": 0,
          "search_term": "Dijital Beşeri Bilimler",
          "search_type": "searched"
         },
         {
          "English language name": "Tsonga",
          "finalized_language": "ts",
          "graph_label": "Xitsonga (Tsonga): Vutivi bya Vanhu bya Dijitali",
          "local language name": "Xitsonga",
          "repo_counts": 0,
          "search_term": "Vutivi bya Vanhu bya Dijitali",
          "search_type": "searched"
         },
         {
          "English language name": "Tatar",
          "finalized_language": "tt",
          "graph_label": "Tatarça (Tatar): Санлы гуманитар фәннәр",
          "local language name": "Tatarça",
          "repo_counts": 0,
          "search_term": "Санлы гуманитар фәннәр",
          "search_type": "searched"
         },
         {
          "English language name": "Twi",
          "finalized_language": "tw",
          "graph_label": "Twi: Digitals Nnipa Ho Adesua",
          "local language name": "Twi",
          "repo_counts": 0,
          "search_term": "Digitals Nnipa Ho Adesua",
          "search_type": "searched"
         },
         {
          "English language name": "Uyghur",
          "finalized_language": "ug",
          "graph_label": "Uyƣurqə / ئۇيغۇرچە (Uyghur): رەقەملىك ئادىمىيلىك",
          "local language name": "Uyƣurqə / ئۇيغۇرچە",
          "repo_counts": 0,
          "search_term": "رەقەملىك ئادىمىيلىك",
          "search_type": "searched"
         },
         {
          "English language name": "Ukrainian",
          "finalized_language": "uk",
          "graph_label": "Українська (Ukrainian): Цифрові гуманітарні науки",
          "local language name": "Українська",
          "repo_counts": 0,
          "search_term": "Цифрові гуманітарні науки",
          "search_type": "searched"
         },
         {
          "English language name": "Urdu",
          "finalized_language": "ur",
          "graph_label": "اردو (Urdu): ڈیجیٹل ہیومینٹیز",
          "local language name": "اردو",
          "repo_counts": 0,
          "search_term": "ڈیجیٹل ہیومینٹیز",
          "search_type": "searched"
         },
         {
          "English language name": "Uzbek",
          "finalized_language": "uz",
          "graph_label": "Ўзбек (Uzbek): Raqamli gumanitar fanlar",
          "local language name": "Ўзбек",
          "repo_counts": 0,
          "search_term": "Raqamli gumanitar fanlar",
          "search_type": "searched"
         },
         {
          "English language name": "West Frisian",
          "finalized_language": "fy",
          "graph_label": "Frysk (West Frisian): Digitale Humanities",
          "local language name": "Frysk",
          "repo_counts": 0,
          "search_term": "Digitale Humanities",
          "search_type": "searched"
         },
         {
          "English language name": "Yiddish",
          "finalized_language": "yi",
          "graph_label": "ייִדיש (Yiddish): דיגיטאַל הומאַניטיעס",
          "local language name": "ייִדיש",
          "repo_counts": 0,
          "search_term": "דיגיטאַל הומאַניטיעס",
          "search_type": "searched"
         },
         {
          "English language name": "Yoruba",
          "finalized_language": "yo",
          "graph_label": "Yorùbá (Yoruba): Digital Humanities",
          "local language name": "Yorùbá",
          "repo_counts": 0,
          "search_term": "Digital Humanities",
          "search_type": "searched"
         }
        ]
       },
       "encoding": {
        "color": {
         "field": "search_type",
         "scale": {
          "range": [
           "#4c78a8",
           "#f58518"
          ]
         },
         "type": "nominal"
        },
        "x": {
         "aggregate": "sum",
         "field": "repo_counts",
         "title": "Number of Repositories",
         "type": "quantitative"
        },
        "y": {
         "field": "graph_label",
         "sort": "-x",
         "title": "",
         "type": "nominal"
        }
       },
       "height": 2000,
       "mark": {
        "type": "bar"
       },
       "width": 500
      },
      "text/plain": [
       "<VegaLite 5 object>\n",
       "\n",
       "If you see this message, it means the renderer has not been properly enabled\n",
       "for the frontend that you are using. For more information, see\n",
       "https://altair-viz.github.io/user_guide/troubleshooting.html\n"
      ]
     },
     "execution_count": 244,
     "metadata": {},
     "output_type": "execute_result"
    }
   ],
   "source": [
    "non_eng"
   ]
  },
  {
   "cell_type": "code",
   "execution_count": 248,
   "metadata": {},
   "outputs": [
    {
     "data": {
      "application/vnd.vegalite.v5+json": {
       "$schema": "https://vega.github.io/schema/vega-lite/v5.6.1.json",
       "config": {
        "axis": {
         "labelLimit": 1000
        },
        "view": {
         "continuousHeight": 300,
         "continuousWidth": 300
        }
       },
       "data": {
        "name": "data-321bfad5c9f729e21a1ecf798468d4d1"
       },
       "datasets": {
        "data-321bfad5c9f729e21a1ecf798468d4d1": [
         {
          "English language name": "Bulgarian (Latin)",
          "finalized_language": "bg-Latn",
          "graph_label": "Български (Bulgarian) (Bulgarian (Latin)): Digital Humanities",
          "local language name": "Български (Bulgarian) (Bulgarian (Latin))",
          "repo_counts": 2,
          "search_term": "Digital Humanities",
          "search_type": "searched"
         },
         {
          "English language name": "Chinese",
          "finalized_language": "zh",
          "graph_label": "中文 (Chinese): 數位人文學",
          "local language name": "中文",
          "repo_counts": 1,
          "search_term": "數位人文學",
          "search_type": "searched"
         },
         {
          "English language name": "Chinese (Mainland China)",
          "finalized_language": "zh-CN",
          "graph_label": "中文（中国） (Chinese (Mainland China)): Digital Humanities",
          "local language name": "中文（中国） (Chinese (Mainland China))",
          "repo_counts": 4,
          "search_term": "Digital Humanities",
          "search_type": "searched"
         },
         {
          "English language name": "Chinese (Mainland China)",
          "finalized_language": "zh-CN",
          "graph_label": "中文（中国） (Chinese (Mainland China)): 数字人文",
          "local language name": "中文（中国） (Chinese (Mainland China))",
          "repo_counts": 119,
          "search_term": "数字人文",
          "search_type": "searched"
         },
         {
          "English language name": "Chinese (Mainland China)",
          "finalized_language": "zh-CN",
          "graph_label": "中文（中国） (Chinese (Mainland China)): Digital Humanities",
          "local language name": "中文（中国） (Chinese (Mainland China))",
          "repo_counts": 2,
          "search_term": "Digital Humanities",
          "search_type": "tagged"
         },
         {
          "English language name": "Chinese (Taiwan)",
          "finalized_language": "zh-TW",
          "graph_label": "中文（台灣） (Chinese (Taiwan)): Digital Humanities",
          "local language name": "中文（台灣） (Chinese (Taiwan))",
          "repo_counts": 3,
          "search_term": "Digital Humanities",
          "search_type": "searched"
         },
         {
          "English language name": "Chinese (Taiwan)",
          "finalized_language": "zh-TW",
          "graph_label": "中文（台灣） (Chinese (Taiwan)): 数字人文",
          "local language name": "中文（台灣） (Chinese (Taiwan))",
          "repo_counts": 3,
          "search_term": "数字人文",
          "search_type": "searched"
         },
         {
          "English language name": "Chinese (Taiwan)",
          "finalized_language": "zh-TW",
          "graph_label": "中文（台灣） (Chinese (Taiwan)): 數位人文學",
          "local language name": "中文（台灣） (Chinese (Taiwan))",
          "repo_counts": 5,
          "search_term": "數位人文學",
          "search_type": "searched"
         },
         {
          "English language name": "Czech",
          "finalized_language": "cs",
          "graph_label": "Česky (Czech): Digital Humanities",
          "local language name": "Česky",
          "repo_counts": 6,
          "search_term": "Digital Humanities",
          "search_type": "searched"
         },
         {
          "English language name": "Danish",
          "finalized_language": "da",
          "graph_label": "Dansk (Danish): Digital Humaniora",
          "local language name": "Dansk",
          "repo_counts": 3,
          "search_term": "Digital Humaniora",
          "search_type": "searched"
         },
         {
          "English language name": "Danish",
          "finalized_language": "da",
          "graph_label": "Dansk (Danish): Digital Humanities",
          "local language name": "Dansk",
          "repo_counts": 1,
          "search_term": "Digital Humanities",
          "search_type": "searched"
         },
         {
          "English language name": "Danish",
          "finalized_language": "da",
          "graph_label": "Dansk (Danish): Digital humaniora",
          "local language name": "Dansk",
          "repo_counts": 2,
          "search_term": "Digital humaniora",
          "search_type": "searched"
         },
         {
          "English language name": "Danish",
          "finalized_language": "da",
          "graph_label": "Dansk (Danish): Digitale Humanities",
          "local language name": "Dansk",
          "repo_counts": 1,
          "search_term": "Digitale Humanities",
          "search_type": "searched"
         },
         {
          "English language name": "Danish",
          "finalized_language": "da",
          "graph_label": "Dansk (Danish): Humaniora Digital",
          "local language name": "Dansk",
          "repo_counts": 2,
          "search_term": "Humaniora Digital",
          "search_type": "searched"
         },
         {
          "English language name": "Dutch",
          "finalized_language": "nl",
          "graph_label": "Nederlands (Dutch): Digital Humanities",
          "local language name": "Nederlands",
          "repo_counts": 3,
          "search_term": "Digital Humanities",
          "search_type": "searched"
         },
         {
          "English language name": "English",
          "finalized_language": "en",
          "graph_label": "English: Digital Humanities",
          "local language name": "English",
          "repo_counts": 1541,
          "search_term": "Digital Humanities",
          "search_type": "searched"
         },
         {
          "English language name": "English",
          "finalized_language": "en",
          "graph_label": "English: Informatica umanistica",
          "local language name": "English",
          "repo_counts": 2,
          "search_term": "Informatica umanistica",
          "search_type": "searched"
         },
         {
          "English language name": "English",
          "finalized_language": "en",
          "graph_label": "English: 数字人文",
          "local language name": "English",
          "repo_counts": 1,
          "search_term": "数字人文",
          "search_type": "searched"
         },
         {
          "English language name": "English",
          "finalized_language": "en",
          "graph_label": "English: Digital Humanities",
          "local language name": "English",
          "repo_counts": 601,
          "search_term": "Digital Humanities",
          "search_type": "tagged"
         },
         {
          "English language name": "English and Chinese",
          "finalized_language": "en, zh",
          "graph_label": "English & 中文 (Chinese): Digital Humanities",
          "local language name": "English & 中文 (Chinese)",
          "repo_counts": 2,
          "search_term": "Digital Humanities",
          "search_type": "searched"
         },
         {
          "English language name": "English and Dutch",
          "finalized_language": "en, nl",
          "graph_label": "English & Nederlands (Dutch): Digital Humanities",
          "local language name": "English & Nederlands (Dutch)",
          "repo_counts": 1,
          "search_term": "Digital Humanities",
          "search_type": "searched"
         },
         {
          "English language name": "English and German",
          "finalized_language": "en, de",
          "graph_label": "English & Deutsch (German): Digital Humanities",
          "local language name": "English & Deutsch (German)",
          "repo_counts": 2,
          "search_term": "Digital Humanities",
          "search_type": "searched"
         },
         {
          "English language name": "English and German",
          "finalized_language": "en, de",
          "graph_label": "English & Deutsch (German): Digitale Geisteswissenschaften",
          "local language name": "English & Deutsch (German)",
          "repo_counts": 1,
          "search_term": "Digitale Geisteswissenschaften",
          "search_type": "searched"
         },
         {
          "English language name": "English and German",
          "finalized_language": "en, de",
          "graph_label": "English & Deutsch (German): Digitale Humanities",
          "local language name": "English & Deutsch (German)",
          "repo_counts": 1,
          "search_term": "Digitale Humanities",
          "search_type": "searched"
         },
         {
          "English language name": "English and German",
          "finalized_language": "en, de",
          "graph_label": "English & Deutsch (German): Digital Humanities",
          "local language name": "English & Deutsch (German)",
          "repo_counts": 1,
          "search_term": "Digital Humanities",
          "search_type": "tagged"
         },
         {
          "English language name": "English and Hebrew",
          "finalized_language": "en, he",
          "graph_label": "English & עברית (Hebrew): Digital Humanities",
          "local language name": "English & עברית (Hebrew)",
          "repo_counts": 2,
          "search_term": "Digital Humanities",
          "search_type": "searched"
         },
         {
          "English language name": "English and Italian",
          "finalized_language": "en, it",
          "graph_label": "English & Italiano (Italian): Digital Humanities",
          "local language name": "English & Italiano (Italian)",
          "repo_counts": 1,
          "search_term": "Digital Humanities",
          "search_type": "tagged"
         },
         {
          "English language name": "English and Russian",
          "finalized_language": "en, ru",
          "graph_label": "English & Русский (Russian): Digital Humanities",
          "local language name": "English & Русский (Russian)",
          "repo_counts": 1,
          "search_term": "Digital Humanities",
          "search_type": "tagged"
         },
         {
          "English language name": "Estonian",
          "finalized_language": "et",
          "graph_label": "Eesti (Estonian): Digitaalhumanitaaria",
          "local language name": "Eesti",
          "repo_counts": 1,
          "search_term": "Digitaalhumanitaaria",
          "search_type": "searched"
         },
         {
          "English language name": "Finnish",
          "finalized_language": "fi",
          "graph_label": "Suomi (Finnish): Digitaaliset ihmistieteet",
          "local language name": "Suomi",
          "repo_counts": 1,
          "search_term": "Digitaaliset ihmistieteet",
          "search_type": "searched"
         },
         {
          "English language name": "French",
          "finalized_language": "fr",
          "graph_label": "Français (French): Digital Humanities",
          "local language name": "Français",
          "repo_counts": 2,
          "search_term": "Digital Humanities",
          "search_type": "searched"
         },
         {
          "English language name": "French",
          "finalized_language": "fr",
          "graph_label": "Français (French): Humanités numériques",
          "local language name": "Français",
          "repo_counts": 46,
          "search_term": "Humanités numériques",
          "search_type": "searched"
         },
         {
          "English language name": "French",
          "finalized_language": "fr",
          "graph_label": "Français (French): Digital Humanities",
          "local language name": "Français",
          "repo_counts": 23,
          "search_term": "Digital Humanities",
          "search_type": "tagged"
         },
         {
          "English language name": "French",
          "finalized_language": "fr",
          "graph_label": "Français (French): Humanités numériques",
          "local language name": "Français",
          "repo_counts": 1,
          "search_term": "Humanités numériques",
          "search_type": "tagged"
         },
         {
          "English language name": "German",
          "finalized_language": "de",
          "graph_label": "Deutsch (German): Digital Humanities",
          "local language name": "Deutsch",
          "repo_counts": 54,
          "search_term": "Digital Humanities",
          "search_type": "searched"
         },
         {
          "English language name": "German",
          "finalized_language": "de",
          "graph_label": "Deutsch (German): Digitale Geisteswissenschaften",
          "local language name": "Deutsch",
          "repo_counts": 3,
          "search_term": "Digitale Geisteswissenschaften",
          "search_type": "searched"
         },
         {
          "English language name": "German",
          "finalized_language": "de",
          "graph_label": "Deutsch (German): Digitale Humanities",
          "local language name": "Deutsch",
          "repo_counts": 1,
          "search_term": "Digitale Humanities",
          "search_type": "searched"
         },
         {
          "English language name": "German",
          "finalized_language": "de",
          "graph_label": "Deutsch (German): Digital Humanities",
          "local language name": "Deutsch",
          "repo_counts": 7,
          "search_term": "Digital Humanities",
          "search_type": "tagged"
         },
         {
          "English language name": "German and English",
          "finalized_language": "de, en",
          "graph_label": "Deutsch (German) & English: Digital Humanities",
          "local language name": "Deutsch (German) & English",
          "repo_counts": 4,
          "search_term": "Digital Humanities",
          "search_type": "searched"
         },
         {
          "English language name": "German and English",
          "finalized_language": "de, en",
          "graph_label": "Deutsch (German) & English: Digital Humanities",
          "local language name": "Deutsch (German) & English",
          "repo_counts": 2,
          "search_term": "Digital Humanities",
          "search_type": "tagged"
         },
         {
          "English language name": "Hebrew",
          "finalized_language": "he",
          "graph_label": "עברית (Hebrew): Digital Humanities",
          "local language name": "עברית",
          "repo_counts": 15,
          "search_term": "Digital Humanities",
          "search_type": "searched"
         },
         {
          "English language name": "Hungarian and English",
          "finalized_language": "hu, en",
          "graph_label": "Magyar (Hungarian) & English: Digital Humanities",
          "local language name": "Magyar (Hungarian) & English",
          "repo_counts": 1,
          "search_term": "Digital Humanities",
          "search_type": "searched"
         },
         {
          "English language name": "Indonesian",
          "finalized_language": "id",
          "graph_label": "Bahasa Indonesia (Indonesian): Digital Humanities",
          "local language name": "Bahasa Indonesia",
          "repo_counts": 1,
          "search_term": "Digital Humanities",
          "search_type": "searched"
         },
         {
          "English language name": "Italian",
          "finalized_language": "it",
          "graph_label": "Italiano (Italian): Digital Humanities",
          "local language name": "Italiano",
          "repo_counts": 19,
          "search_term": "Digital Humanities",
          "search_type": "searched"
         },
         {
          "English language name": "Italian",
          "finalized_language": "it",
          "graph_label": "Italiano (Italian): Informatica umanistica",
          "local language name": "Italiano",
          "repo_counts": 64,
          "search_term": "Informatica umanistica",
          "search_type": "searched"
         },
         {
          "English language name": "Italian",
          "finalized_language": "it",
          "graph_label": "Italiano (Italian): Digital Humanities",
          "local language name": "Italiano",
          "repo_counts": 28,
          "search_term": "Digital Humanities",
          "search_type": "tagged"
         },
         {
          "English language name": "Italian and English",
          "finalized_language": "it, en",
          "graph_label": "Italiano (Italian) & English: Digital Humanities",
          "local language name": "Italiano (Italian) & English",
          "repo_counts": 1,
          "search_term": "Digital Humanities",
          "search_type": "searched"
         },
         {
          "English language name": "Japanese",
          "finalized_language": "ja",
          "graph_label": "日本語 (Japanese): 数字人文",
          "local language name": "日本語",
          "repo_counts": 2,
          "search_term": "数字人文",
          "search_type": "searched"
         },
         {
          "English language name": "Japanese",
          "finalized_language": "ja",
          "graph_label": "日本語 (Japanese): Digital Humanities",
          "local language name": "日本語",
          "repo_counts": 1,
          "search_term": "Digital Humanities",
          "search_type": "tagged"
         },
         {
          "English language name": "Korean",
          "finalized_language": "ko",
          "graph_label": "한국어 (Korean): Digital Humanities",
          "local language name": "한국어",
          "repo_counts": 6,
          "search_term": "Digital Humanities",
          "search_type": "searched"
         },
         {
          "English language name": "Korean",
          "finalized_language": "ko",
          "graph_label": "한국어 (Korean): 디지털 인문학",
          "local language name": "한국어",
          "repo_counts": 2,
          "search_term": "디지털 인문학",
          "search_type": "searched"
         },
         {
          "English language name": "Latin",
          "finalized_language": "la",
          "graph_label": "Latina (Latin): Digital Humanities",
          "local language name": "Latina",
          "repo_counts": 1,
          "search_term": "Digital Humanities",
          "search_type": "searched"
         },
         {
          "English language name": "Luxembourgish",
          "finalized_language": "lb",
          "graph_label": "Lëtzebuergesch (Luxembourgish): Digital Humanities",
          "local language name": "Lëtzebuergesch",
          "repo_counts": 2,
          "search_term": "Digital Humanities",
          "search_type": "tagged"
         },
         {
          "English language name": "Norwegian",
          "finalized_language": "no",
          "graph_label": "Norsk (bokmål / riksmål): Digital Humanities",
          "local language name": "Norsk (bokmål / riksmål)",
          "repo_counts": 2,
          "search_term": "Digital Humanities",
          "search_type": "tagged"
         },
         {
          "English language name": "Polish",
          "finalized_language": "pl",
          "graph_label": "Polski (Polish): Digital Humanities",
          "local language name": "Polski",
          "repo_counts": 1,
          "search_term": "Digital Humanities",
          "search_type": "searched"
         },
         {
          "English language name": "Portuguese",
          "finalized_language": "pt",
          "graph_label": "Português (Portuguese): Humanidades Digitais",
          "local language name": "Português",
          "repo_counts": 19,
          "search_term": "Humanidades Digitais",
          "search_type": "searched"
         },
         {
          "English language name": "Portuguese",
          "finalized_language": "pt",
          "graph_label": "Português (Portuguese): Humanidades digitales",
          "local language name": "Português",
          "repo_counts": 3,
          "search_term": "Humanidades digitales",
          "search_type": "searched"
         },
         {
          "English language name": "Portuguese",
          "finalized_language": "pt",
          "graph_label": "Português (Portuguese): Digital Humanities",
          "local language name": "Português",
          "repo_counts": 12,
          "search_term": "Digital Humanities",
          "search_type": "tagged"
         },
         {
          "English language name": "Portuguese",
          "finalized_language": "pt",
          "graph_label": "Português (Portuguese): Humanidades digitales",
          "local language name": "Português",
          "repo_counts": 1,
          "search_term": "Humanidades digitales",
          "search_type": "tagged"
         },
         {
          "English language name": "Portuguese and English",
          "finalized_language": "pt, en",
          "graph_label": "Português (Portuguese) & English: Humanidades Digitais",
          "local language name": "Português (Portuguese) & English",
          "repo_counts": 1,
          "search_term": "Humanidades Digitais",
          "search_type": "searched"
         },
         {
          "English language name": "Russian",
          "finalized_language": "ru",
          "graph_label": "Русский (Russian): Digital Humanities",
          "local language name": "Русский",
          "repo_counts": 24,
          "search_term": "Digital Humanities",
          "search_type": "searched"
         },
         {
          "English language name": "Russian",
          "finalized_language": "ru",
          "graph_label": "Русский (Russian): Цифровые гуманитарные науки",
          "local language name": "Русский",
          "repo_counts": 1,
          "search_term": "Цифровые гуманитарные науки",
          "search_type": "searched"
         },
         {
          "English language name": "Russian",
          "finalized_language": "ru",
          "graph_label": "Русский (Russian): Digital Humanities",
          "local language name": "Русский",
          "repo_counts": 5,
          "search_term": "Digital Humanities",
          "search_type": "tagged"
         },
         {
          "English language name": "Russian and English",
          "finalized_language": "ru, en",
          "graph_label": "Русский (Russian) & English: Digital Humanities",
          "local language name": "Русский (Russian) & English",
          "repo_counts": 1,
          "search_term": "Digital Humanities",
          "search_type": "searched"
         },
         {
          "English language name": "Spanish",
          "finalized_language": "es",
          "graph_label": "Español (Spanish): Digital Humanities",
          "local language name": "Español",
          "repo_counts": 4,
          "search_term": "Digital Humanities",
          "search_type": "searched"
         },
         {
          "English language name": "Spanish",
          "finalized_language": "es",
          "graph_label": "Español (Spanish): Humanidades digitales",
          "local language name": "Español",
          "repo_counts": 46,
          "search_term": "Humanidades digitales",
          "search_type": "searched"
         },
         {
          "English language name": "Spanish",
          "finalized_language": "es",
          "graph_label": "Español (Spanish): Digital Humanities",
          "local language name": "Español",
          "repo_counts": 11,
          "search_term": "Digital Humanities",
          "search_type": "tagged"
         },
         {
          "English language name": "Spanish",
          "finalized_language": "es",
          "graph_label": "Español (Spanish): Humanidades digitales",
          "local language name": "Español",
          "repo_counts": 7,
          "search_term": "Humanidades digitales",
          "search_type": "tagged"
         },
         {
          "English language name": "Spanish and English",
          "finalized_language": "es, en",
          "graph_label": "Español (Spanish) & English: Humanidades digitales",
          "local language name": "Español (Spanish) & English",
          "repo_counts": 1,
          "search_term": "Humanidades digitales",
          "search_type": "searched"
         },
         {
          "English language name": "Swedish",
          "finalized_language": "sv",
          "graph_label": "Svenska (Swedish): Digital Humaniora",
          "local language name": "Svenska",
          "repo_counts": 1,
          "search_term": "Digital Humaniora",
          "search_type": "searched"
         },
         {
          "English language name": "Swedish",
          "finalized_language": "sv",
          "graph_label": "Svenska (Swedish): Digital humaniora",
          "local language name": "Svenska",
          "repo_counts": 1,
          "search_term": "Digital humaniora",
          "search_type": "searched"
         },
         {
          "English language name": "Swedish",
          "finalized_language": "sv",
          "graph_label": "Svenska (Swedish): Humaniora Digital",
          "local language name": "Svenska",
          "repo_counts": 1,
          "search_term": "Humaniora Digital",
          "search_type": "searched"
         },
         {
          "English language name": "Swedish",
          "finalized_language": "sv",
          "graph_label": "Svenska (Swedish): Digital Humanities",
          "local language name": "Svenska",
          "repo_counts": 1,
          "search_term": "Digital Humanities",
          "search_type": "tagged"
         },
         {
          "English language name": "Thai",
          "finalized_language": "th",
          "graph_label": "ไทย / Phasa Thai (Thai): Digital Humanities",
          "local language name": "ไทย / Phasa Thai",
          "repo_counts": 1,
          "search_term": "Digital Humanities",
          "search_type": "tagged"
         },
         {
          "English language name": "Vietnamese",
          "finalized_language": "vi",
          "graph_label": "Tiếng Việt (Vietnamese): Nhân văn kỹ thuật số",
          "local language name": "Tiếng Việt",
          "repo_counts": 16,
          "search_term": "Nhân văn kỹ thuật số",
          "search_type": "searched"
         },
         {
          "English language name": "Russian",
          "finalized_language": "ru",
          "graph_label": "Русский (Russian): Цифровые гуманитарные науки",
          "local language name": "Русский",
          "repo_counts": 0,
          "search_term": "Цифровые гуманитарные науки",
          "search_type": "tagged"
         },
         {
          "English language name": "Latin",
          "finalized_language": "la",
          "graph_label": "Latina (Latin): Humanitates digitales",
          "local language name": "Latina",
          "repo_counts": 0,
          "search_term": "Humanitates digitales",
          "search_type": "tagged"
         },
         {
          "English language name": "Tamil",
          "finalized_language": "ta",
          "graph_label": "தமிழ் (Tamil): எண்ணிம மனிதவியல்",
          "local language name": "தமிழ்",
          "repo_counts": 0,
          "search_term": "எண்ணிம மனிதவியல்",
          "search_type": "tagged"
         },
         {
          "English language name": "Catalan",
          "finalized_language": "ca",
          "graph_label": "Català (Catalan): Humanitats digitals",
          "local language name": "Català",
          "repo_counts": 0,
          "search_term": "Humanitats digitals",
          "search_type": "tagged"
         },
         {
          "English language name": "German",
          "finalized_language": "de",
          "graph_label": "Deutsch (German): Digitale Geisteswissenschaften",
          "local language name": "Deutsch",
          "repo_counts": 0,
          "search_term": "Digitale Geisteswissenschaften",
          "search_type": "tagged"
         },
         {
          "English language name": "Korean",
          "finalized_language": "ko",
          "graph_label": "한국어 (Korean): 디지털 인문학",
          "local language name": "한국어",
          "repo_counts": 0,
          "search_term": "디지털 인문학",
          "search_type": "tagged"
         },
         {
          "English language name": "Italian",
          "finalized_language": "it",
          "graph_label": "Italiano (Italian): Informatica umanistica",
          "local language name": "Italiano",
          "repo_counts": 0,
          "search_term": "Informatica umanistica",
          "search_type": "tagged"
         },
         {
          "English language name": "Serbo-Croatian",
          "finalized_language": "sh",
          "graph_label": "Srpskohrvatski / Српскохрватски (Serbo-Croatian): Дигиталне хуманистичке науке",
          "local language name": "Srpskohrvatski / Српскохрватски",
          "repo_counts": 0,
          "search_term": "Дигиталне хуманистичке науке",
          "search_type": "tagged"
         },
         {
          "English language name": "Welsh",
          "finalized_language": "cy",
          "graph_label": "Cymraeg (Welsh): Dyniaethau digidol",
          "local language name": "Cymraeg",
          "repo_counts": 0,
          "search_term": "Dyniaethau digidol",
          "search_type": "tagged"
         },
         {
          "English language name": "Arabic",
          "finalized_language": "ar",
          "graph_label": "العربية (Arabic): إنسانيات رقمية",
          "local language name": "العربية",
          "repo_counts": 0,
          "search_term": "إنسانيات رقمية",
          "search_type": "tagged"
         },
         {
          "English language name": "Thai",
          "finalized_language": "th",
          "graph_label": "ไทย / Phasa Thai (Thai): มนุษยศาสตร์ดิจิทัล",
          "local language name": "ไทย / Phasa Thai",
          "repo_counts": 0,
          "search_term": "มนุษยศาสตร์ดิจิทัล",
          "search_type": "tagged"
         },
         {
          "English language name": "Slovenian",
          "finalized_language": "sl",
          "graph_label": "Slovenščina (Slovenian): Digitalna humanistika",
          "local language name": "Slovenščina",
          "repo_counts": 0,
          "search_term": "Digitalna humanistika",
          "search_type": "tagged"
         },
         {
          "English language name": "Finnish",
          "finalized_language": "fi",
          "graph_label": "Suomi (Finnish): Digitaaliset ihmistieteet",
          "local language name": "Suomi",
          "repo_counts": 0,
          "search_term": "Digitaaliset ihmistieteet",
          "search_type": "tagged"
         },
         {
          "English language name": "Swedish",
          "finalized_language": "sv",
          "graph_label": "Svenska (Swedish): Digital humaniora",
          "local language name": "Svenska",
          "repo_counts": 0,
          "search_term": "Digital humaniora",
          "search_type": "tagged"
         },
         {
          "English language name": "Japanese",
          "finalized_language": "ja",
          "graph_label": "日本語 (Japanese): デジタル・ヒューマニティーズ",
          "local language name": "日本語",
          "repo_counts": 0,
          "search_term": "デジタル・ヒューマニティーズ",
          "search_type": "tagged"
         },
         {
          "English language name": "Hebrew",
          "finalized_language": "he",
          "graph_label": "עברית (Hebrew): מדעי הרוח הדיגיטליים",
          "local language name": "עברית",
          "repo_counts": 0,
          "search_term": "מדעי הרוח הדיגיטליים",
          "search_type": "tagged"
         },
         {
          "English language name": "Afrikaans",
          "finalized_language": "af",
          "graph_label": "Afrikaans: Digitale Geesteswetenskappe",
          "local language name": "Afrikaans",
          "repo_counts": 0,
          "search_term": "Digitale Geesteswetenskappe",
          "search_type": "tagged"
         },
         {
          "English language name": "Akan",
          "finalized_language": "ak",
          "graph_label": "Akana (Akan): Digitals Nnipa Ho Adesua",
          "local language name": "Akana",
          "repo_counts": 0,
          "search_term": "Digitals Nnipa Ho Adesua",
          "search_type": "tagged"
         },
         {
          "English language name": "Albanian",
          "finalized_language": "sq",
          "graph_label": "Shqip (Albanian): Shkenca Dixhitale Humane",
          "local language name": "Shqip",
          "repo_counts": 0,
          "search_term": "Shkenca Dixhitale Humane",
          "search_type": "tagged"
         },
         {
          "English language name": "Amharic",
          "finalized_language": "am",
          "graph_label": "አማርኛ (Amharic): ዲጂታል ሰብአዊነት",
          "local language name": "አማርኛ",
          "repo_counts": 0,
          "search_term": "ዲጂታል ሰብአዊነት",
          "search_type": "tagged"
         },
         {
          "English language name": "Armenian",
          "finalized_language": "hy",
          "graph_label": "Հայերեն (Armenian): Թվային հումանիտար գիտություններ",
          "local language name": "Հայերեն",
          "repo_counts": 0,
          "search_term": "Թվային հումանիտար գիտություններ",
          "search_type": "tagged"
         },
         {
          "English language name": "Assamese",
          "finalized_language": "as",
          "graph_label": "অসমীয়া (Assamese): ডিজিটেল মানৱীয় বিজ্ঞান",
          "local language name": "অসমীয়া",
          "repo_counts": 0,
          "search_term": "ডিজিটেল মানৱীয় বিজ্ঞান",
          "search_type": "tagged"
         },
         {
          "English language name": "Aymara",
          "finalized_language": "ay",
          "graph_label": "Aymar (Aymara): Humanidades Digitales uka tuqit yatxataña",
          "local language name": "Aymar",
          "repo_counts": 0,
          "search_term": "Humanidades Digitales uka tuqit yatxataña",
          "search_type": "tagged"
         },
         {
          "English language name": "Azerbaijani",
          "finalized_language": "az",
          "graph_label": "Azərbaycanca / آذربايجان (Azerbaijani): Rəqəmsal humanitar elmlər",
          "local language name": "Azərbaycanca / آذربايجان",
          "repo_counts": 0,
          "search_term": "Rəqəmsal humanitar elmlər",
          "search_type": "tagged"
         },
         {
          "English language name": "Bambara",
          "finalized_language": "bm",
          "graph_label": "Bamanankan (Bambara): Hadamadenw ka dɔnniya nimɔrɔma",
          "local language name": "Bamanankan",
          "repo_counts": 0,
          "search_term": "Hadamadenw ka dɔnniya nimɔrɔma",
          "search_type": "tagged"
         },
         {
          "English language name": "Basque",
          "finalized_language": "eu",
          "graph_label": "Euskara (Basque): Humanitate Digitalak",
          "local language name": "Euskara",
          "repo_counts": 0,
          "search_term": "Humanitate Digitalak",
          "search_type": "tagged"
         },
         {
          "English language name": "Belarusian",
          "finalized_language": "be",
          "graph_label": "Беларуская (Belarusian): Лічбавая гуманітарная навука",
          "local language name": "Беларуская",
          "repo_counts": 0,
          "search_term": "Лічбавая гуманітарная навука",
          "search_type": "tagged"
         },
         {
          "English language name": "Bengali",
          "finalized_language": "bn",
          "graph_label": "বাংলা (Bengali): ডিজিটাল মানবিক",
          "local language name": "বাংলা",
          "repo_counts": 0,
          "search_term": "ডিজিটাল মানবিক",
          "search_type": "tagged"
         },
         {
          "English language name": "Bihari",
          "finalized_language": "bh",
          "graph_label": "भोजपुरी (Bihari): डिजिटल मानविकी के बारे में बतावल गइल बा",
          "local language name": "भोजपुरी",
          "repo_counts": 0,
          "search_term": "डिजिटल मानविकी के बारे में बतावल गइल बा",
          "search_type": "tagged"
         },
         {
          "English language name": "Bosnian",
          "finalized_language": "bs",
          "graph_label": "Bosanski (Bosnian): Digitalne humanističke nauke",
          "local language name": "Bosanski",
          "repo_counts": 0,
          "search_term": "Digitalne humanističke nauke",
          "search_type": "tagged"
         },
         {
          "English language name": "Bulgarian",
          "finalized_language": "bg",
          "graph_label": "Български (Bulgarian): Дигитални хуманитарни науки",
          "local language name": "Български",
          "repo_counts": 0,
          "search_term": "Дигитални хуманитарни науки",
          "search_type": "tagged"
         },
         {
          "English language name": "Burmese",
          "finalized_language": "my",
          "graph_label": "Myanmasa (Burmese): ဒစ်ဂျစ်တယ်လူ့ပညာ",
          "local language name": "Myanmasa",
          "repo_counts": 0,
          "search_term": "ဒစ်ဂျစ်တယ်လူ့ပညာ",
          "search_type": "tagged"
         },
         {
          "English language name": "Chichewa",
          "finalized_language": "ny",
          "graph_label": "Chi-Chewa (Chichewa): Digital Humanities",
          "local language name": "Chi-Chewa",
          "repo_counts": 0,
          "search_term": "Digital Humanities",
          "search_type": "tagged"
         },
         {
          "English language name": "Chinese",
          "finalized_language": "zh",
          "graph_label": "中文 (Chinese): 数字人文",
          "local language name": "中文",
          "repo_counts": 0,
          "search_term": "数字人文",
          "search_type": "tagged"
         },
         {
          "English language name": "Corsican",
          "finalized_language": "co",
          "graph_label": "Corsu (Corsican): Umanità digitale",
          "local language name": "Corsu",
          "repo_counts": 0,
          "search_term": "Umanità digitale",
          "search_type": "tagged"
         },
         {
          "English language name": "Croatian",
          "finalized_language": "hr",
          "graph_label": "Hrvatski (Croatian): Digitalne humanističke znanosti",
          "local language name": "Hrvatski",
          "repo_counts": 0,
          "search_term": "Digitalne humanističke znanosti",
          "search_type": "tagged"
         },
         {
          "English language name": "Czech",
          "finalized_language": "cs",
          "graph_label": "Česky (Czech): Digitální humanitní vědy",
          "local language name": "Česky",
          "repo_counts": 0,
          "search_term": "Digitální humanitní vědy",
          "search_type": "tagged"
         },
         {
          "English language name": "Danish",
          "finalized_language": "da",
          "graph_label": "Dansk (Danish): Digital Humaniora",
          "local language name": "Dansk",
          "repo_counts": 0,
          "search_term": "Digital Humaniora",
          "search_type": "tagged"
         },
         {
          "English language name": "Divehi",
          "finalized_language": "dv",
          "graph_label": "ދިވެހިބަސް (Divehi): ދިރާގު ހިއުމަނިޓީސް އެވެ",
          "local language name": "ދިވެހިބަސް",
          "repo_counts": 0,
          "search_term": "ދިރާގު ހިއުމަނިޓީސް އެވެ",
          "search_type": "tagged"
         },
         {
          "English language name": "Dutch",
          "finalized_language": "nl",
          "graph_label": "Nederlands (Dutch): Digitale geesteswetenschappen",
          "local language name": "Nederlands",
          "repo_counts": 0,
          "search_term": "Digitale geesteswetenschappen",
          "search_type": "tagged"
         },
         {
          "English language name": "Esperanto",
          "finalized_language": "eo",
          "graph_label": "Esperanto: Ciferecaj Homaroj",
          "local language name": "Esperanto",
          "repo_counts": 0,
          "search_term": "Ciferecaj Homaroj",
          "search_type": "tagged"
         },
         {
          "English language name": "Estonian",
          "finalized_language": "et",
          "graph_label": "Eesti (Estonian): Digitaalhumanitaaria",
          "local language name": "Eesti",
          "repo_counts": 0,
          "search_term": "Digitaalhumanitaaria",
          "search_type": "tagged"
         },
         {
          "English language name": "Ewe",
          "finalized_language": "ee",
          "graph_label": "Ɛʋɛ (Ewe): Digitál Amegbetɔŋutinunya",
          "local language name": "Ɛʋɛ",
          "repo_counts": 0,
          "search_term": "Digitál Amegbetɔŋutinunya",
          "search_type": "tagged"
         },
         {
          "English language name": "Galician",
          "finalized_language": "gl",
          "graph_label": "Galego (Galician): Humanidades Dixitais",
          "local language name": "Galego",
          "repo_counts": 0,
          "search_term": "Humanidades Dixitais",
          "search_type": "tagged"
         },
         {
          "English language name": "Georgian",
          "finalized_language": "ka",
          "graph_label": "ქართული (Georgian): ციფრული ჰუმანიტარული მეცნიერებები",
          "local language name": "ქართული",
          "repo_counts": 0,
          "search_term": "ციფრული ჰუმანიტარული მეცნიერებები",
          "search_type": "tagged"
         },
         {
          "English language name": "Greek",
          "finalized_language": "el",
          "graph_label": "Ελληνικά (Greek): Ψηφιακές Ανθρωπιστικές Επιστήμες",
          "local language name": "Ελληνικά",
          "repo_counts": 0,
          "search_term": "Ψηφιακές Ανθρωπιστικές Επιστήμες",
          "search_type": "tagged"
         },
         {
          "English language name": "Guarani",
          "finalized_language": "gn",
          "graph_label": "Avañe'ẽ (Guarani): Humanidades Digitales rehegua",
          "local language name": "Avañe'ẽ",
          "repo_counts": 0,
          "search_term": "Humanidades Digitales rehegua",
          "search_type": "tagged"
         },
         {
          "English language name": "Gujarati",
          "finalized_language": "gu",
          "graph_label": "ગુજરાતી (Gujarati): ડિજિટલ માનવતા",
          "local language name": "ગુજરાતી",
          "repo_counts": 0,
          "search_term": "ડિજિટલ માનવતા",
          "search_type": "tagged"
         },
         {
          "English language name": "Haitian",
          "finalized_language": "ht",
          "graph_label": "Krèyol ayisyen (Haitian): Syans imanitè dijital",
          "local language name": "Krèyol ayisyen",
          "repo_counts": 0,
          "search_term": "Syans imanitè dijital",
          "search_type": "tagged"
         },
         {
          "English language name": "Hausa",
          "finalized_language": "ha",
          "graph_label": "هَوُسَ (Hausa): Digital Humanities",
          "local language name": "هَوُسَ",
          "repo_counts": 0,
          "search_term": "Digital Humanities",
          "search_type": "tagged"
         },
         {
          "English language name": "Hindi",
          "finalized_language": "hi",
          "graph_label": "हिन्दी (Hindi): डिजिटल मानविकी",
          "local language name": "हिन्दी",
          "repo_counts": 0,
          "search_term": "डिजिटल मानविकी",
          "search_type": "tagged"
         },
         {
          "English language name": "Hungarian",
          "finalized_language": "hu",
          "graph_label": "Magyar (Hungarian): Digitális humán tudományok",
          "local language name": "Magyar",
          "repo_counts": 0,
          "search_term": "Digitális humán tudományok",
          "search_type": "tagged"
         },
         {
          "English language name": "Indonesian",
          "finalized_language": "id",
          "graph_label": "Bahasa Indonesia (Indonesian): Humaniora Digital",
          "local language name": "Bahasa Indonesia",
          "repo_counts": 0,
          "search_term": "Humaniora Digital",
          "search_type": "tagged"
         },
         {
          "English language name": "Irish",
          "finalized_language": "ga",
          "graph_label": "Gaeilge (Irish): Daonnachtaí Digiteacha",
          "local language name": "Gaeilge",
          "repo_counts": 0,
          "search_term": "Daonnachtaí Digiteacha",
          "search_type": "tagged"
         },
         {
          "English language name": "Igbo",
          "finalized_language": "ig",
          "graph_label": "Igbo: Digital Humanities",
          "local language name": "Igbo",
          "repo_counts": 0,
          "search_term": "Digital Humanities",
          "search_type": "tagged"
         },
         {
          "English language name": "Icelandic",
          "finalized_language": "is",
          "graph_label": "Íslenska (Icelandic): Stafræn hugvísindi",
          "local language name": "Íslenska",
          "repo_counts": 0,
          "search_term": "Stafræn hugvísindi",
          "search_type": "tagged"
         },
         {
          "English language name": "Javanese",
          "finalized_language": "jv",
          "graph_label": "Basa Jawa (Javanese): Kamanungsan Digital",
          "local language name": "Basa Jawa",
          "repo_counts": 0,
          "search_term": "Kamanungsan Digital",
          "search_type": "tagged"
         },
         {
          "English language name": "Kannada",
          "finalized_language": "kn",
          "graph_label": "ಕನ್ನಡ (Kannada): ಡಿಜಿಟಲ್ ಹ್ಯುಮಾನಿಟೀಸ್",
          "local language name": "ಕನ್ನಡ",
          "repo_counts": 0,
          "search_term": "ಡಿಜಿಟಲ್ ಹ್ಯುಮಾನಿಟೀಸ್",
          "search_type": "tagged"
         },
         {
          "English language name": "Kazakh",
          "finalized_language": "kk",
          "graph_label": "Қазақша (Kazakh): Сандық гуманитарлық ғылымдар",
          "local language name": "Қазақша",
          "repo_counts": 0,
          "search_term": "Сандық гуманитарлық ғылымдар",
          "search_type": "tagged"
         },
         {
          "English language name": "Cambodian",
          "finalized_language": "km",
          "graph_label": "ភាសាខ្មែរ (Cambodian): មនុស្សធម៌ឌីជីថល",
          "local language name": "ភាសាខ្មែរ",
          "repo_counts": 0,
          "search_term": "មនុស្សធម៌ឌីជីថល",
          "search_type": "tagged"
         },
         {
          "English language name": "Rwandi",
          "finalized_language": "rw",
          "graph_label": "Kinyarwandi (Rwandi): Ubumenyamuntu",
          "local language name": "Kinyarwandi",
          "repo_counts": 0,
          "search_term": "Ubumenyamuntu",
          "search_type": "tagged"
         },
         {
          "English language name": "Kirghiz",
          "finalized_language": "ky",
          "graph_label": "Kırgızca / Кыргызча (Kirghiz): Санариптик гуманитардык илимдер",
          "local language name": "Kırgızca / Кыргызча",
          "repo_counts": 0,
          "search_term": "Санариптик гуманитардык илимдер",
          "search_type": "tagged"
         },
         {
          "English language name": "Kurdish (Kurmanji)",
          "finalized_language": "ku",
          "graph_label": "Kurdî (Kurdish (Kurmanji)): Dijîtal Humanities",
          "local language name": "Kurdî",
          "repo_counts": 0,
          "search_term": "Dijîtal Humanities",
          "search_type": "tagged"
         },
         {
          "English language name": "Ganda",
          "finalized_language": "lg",
          "graph_label": "Luganda (Ganda): Eby’obuntubulamu ebya Digital",
          "local language name": "Luganda",
          "repo_counts": 0,
          "search_term": "Eby’obuntubulamu ebya Digital",
          "search_type": "tagged"
         },
         {
          "English language name": "Lingala",
          "finalized_language": "ln",
          "graph_label": "Lingála (Lingala): Humanités numériques",
          "local language name": "Lingála",
          "repo_counts": 0,
          "search_term": "Humanités numériques",
          "search_type": "tagged"
         },
         {
          "English language name": "Laotian",
          "finalized_language": "lo",
          "graph_label": "ລາວ / Pha xa lao (Laotian): ມະນຸດສາດດິຈິຕອນ",
          "local language name": "ລາວ / Pha xa lao",
          "repo_counts": 0,
          "search_term": "ມະນຸດສາດດິຈິຕອນ",
          "search_type": "tagged"
         },
         {
          "English language name": "Lithuanian",
          "finalized_language": "lt",
          "graph_label": "Lietuvių (Lithuanian): Skaitmeniniai humanitariniai mokslai",
          "local language name": "Lietuvių",
          "repo_counts": 0,
          "search_term": "Skaitmeniniai humanitariniai mokslai",
          "search_type": "tagged"
         },
         {
          "English language name": "Latvian",
          "finalized_language": "lv",
          "graph_label": "Latviešu (Latvian): Digitālās humanitārās zinātnes",
          "local language name": "Latviešu",
          "repo_counts": 0,
          "search_term": "Digitālās humanitārās zinātnes",
          "search_type": "tagged"
         },
         {
          "English language name": "Macedonian",
          "finalized_language": "mk",
          "graph_label": "Македонски (Macedonian): Дигитални хуманистички науки",
          "local language name": "Македонски",
          "repo_counts": 0,
          "search_term": "Дигитални хуманистички науки",
          "search_type": "tagged"
         },
         {
          "English language name": "Malagasy",
          "finalized_language": "mg",
          "graph_label": "Malagasy: Digital Humanities",
          "local language name": "Malagasy",
          "repo_counts": 0,
          "search_term": "Digital Humanities",
          "search_type": "tagged"
         },
         {
          "English language name": "Malay",
          "finalized_language": "ms",
          "graph_label": "Bahasa Melayu (Malay): Kemanusiaan Digital",
          "local language name": "Bahasa Melayu",
          "repo_counts": 0,
          "search_term": "Kemanusiaan Digital",
          "search_type": "tagged"
         },
         {
          "English language name": "Malayalam",
          "finalized_language": "ml",
          "graph_label": "മലയാളം (Malayalam): ഡിജിറ്റൽ ഹ്യുമാനിറ്റീസ്",
          "local language name": "മലയാളം",
          "repo_counts": 0,
          "search_term": "ഡിജിറ്റൽ ഹ്യുമാനിറ്റീസ്",
          "search_type": "tagged"
         },
         {
          "English language name": "Maltese",
          "finalized_language": "mt",
          "graph_label": "bil-Malti (Maltese): Umanistika Diġitali",
          "local language name": "bil-Malti",
          "repo_counts": 0,
          "search_term": "Umanistika Diġitali",
          "search_type": "tagged"
         },
         {
          "English language name": "Māori",
          "finalized_language": "mi",
          "graph_label": "Māori: Mamati Tangata",
          "local language name": "Māori",
          "repo_counts": 0,
          "search_term": "Mamati Tangata",
          "search_type": "tagged"
         },
         {
          "English language name": "Marathi",
          "finalized_language": "mr",
          "graph_label": "मराठी (Marathi): डिजिटल मानवता",
          "local language name": "मराठी",
          "repo_counts": 0,
          "search_term": "डिजिटल मानवता",
          "search_type": "tagged"
         },
         {
          "English language name": "Mongolian",
          "finalized_language": "mn",
          "graph_label": "Монгол (Mongolian): Дижитал хүмүүнлэг",
          "local language name": "Монгол",
          "repo_counts": 0,
          "search_term": "Дижитал хүмүүнлэг",
          "search_type": "tagged"
         },
         {
          "English language name": "Norwegian Bokmål",
          "finalized_language": "nb",
          "graph_label": "Norsk (bokmål) (Norwegian): Digital humaniora",
          "local language name": "Norsk (bokmål)",
          "repo_counts": 0,
          "search_term": "Digital humaniora",
          "search_type": "tagged"
         },
         {
          "English language name": "Nepali",
          "finalized_language": "ne",
          "graph_label": "नेपाली (Nepali): डिजिटल मानविकी",
          "local language name": "नेपाली",
          "repo_counts": 0,
          "search_term": "डिजिटल मानविकी",
          "search_type": "tagged"
         },
         {
          "English language name": "Norwegian",
          "finalized_language": "no",
          "graph_label": "Norsk (bokmål / riksmål): Digital humaniora",
          "local language name": "Norsk (bokmål / riksmål)",
          "repo_counts": 0,
          "search_term": "Digital humaniora",
          "search_type": "tagged"
         },
         {
          "English language name": "Oromo",
          "finalized_language": "om",
          "graph_label": "Oromoo (Oromo): Saayinsii Namoomaa Dijitaalaa",
          "local language name": "Oromoo",
          "repo_counts": 0,
          "search_term": "Saayinsii Namoomaa Dijitaalaa",
          "search_type": "tagged"
         },
         {
          "English language name": "Oriya",
          "finalized_language": "or",
          "graph_label": "ଓଡ଼ିଆ (Oriya): ଡିଜିଟାଲ୍ ମାନବିକତା |",
          "local language name": "ଓଡ଼ିଆ",
          "repo_counts": 0,
          "search_term": "ଡିଜିଟାଲ୍ ମାନବିକତା |",
          "search_type": "tagged"
         },
         {
          "English language name": "Panjabi / Punjabi",
          "finalized_language": "pa",
          "graph_label": "ਪੰਜਾਬੀ / پنجابی (Panjabi / Punjabi): ਡਿਜੀਟਲ ਮਨੁੱਖਤਾ",
          "local language name": "ਪੰਜਾਬੀ / پنجابی",
          "repo_counts": 0,
          "search_term": "ਡਿਜੀਟਲ ਮਨੁੱਖਤਾ",
          "search_type": "tagged"
         },
         {
          "English language name": "Persian",
          "finalized_language": "fa",
          "graph_label": "فارسی (Persian): علوم انسانی دیجیتال",
          "local language name": "فارسی",
          "repo_counts": 0,
          "search_term": "علوم انسانی دیجیتال",
          "search_type": "tagged"
         },
         {
          "English language name": "Polish",
          "finalized_language": "pl",
          "graph_label": "Polski (Polish): Humanistyka cyfrowa",
          "local language name": "Polski",
          "repo_counts": 0,
          "search_term": "Humanistyka cyfrowa",
          "search_type": "tagged"
         },
         {
          "English language name": "Pashto",
          "finalized_language": "ps",
          "graph_label": "پښتو (Pashto): ډیجیټل انسانیتونه",
          "local language name": "پښتو",
          "repo_counts": 0,
          "search_term": "ډیجیټل انسانیتونه",
          "search_type": "tagged"
         },
         {
          "English language name": "Portuguese",
          "finalized_language": "pt",
          "graph_label": "Português (Portuguese): Humanidades Digitais",
          "local language name": "Português",
          "repo_counts": 0,
          "search_term": "Humanidades Digitais",
          "search_type": "tagged"
         },
         {
          "English language name": "Quechua",
          "finalized_language": "qu",
          "graph_label": "Runa Simi (Quechua): Humanidades Digitales nisqa",
          "local language name": "Runa Simi",
          "repo_counts": 0,
          "search_term": "Humanidades Digitales nisqa",
          "search_type": "tagged"
         },
         {
          "English language name": "Romanian",
          "finalized_language": "ro",
          "graph_label": "Română (Romanian): Științe umaniste digitale",
          "local language name": "Română",
          "repo_counts": 0,
          "search_term": "Științe umaniste digitale",
          "search_type": "tagged"
         },
         {
          "English language name": "Sanskrit",
          "finalized_language": "sa",
          "graph_label": "संस्कृतम् (Sanskrit): डिजिटल मानविकी",
          "local language name": "संस्कृतम्",
          "repo_counts": 0,
          "search_term": "डिजिटल मानविकी",
          "search_type": "tagged"
         },
         {
          "English language name": "Sindhi",
          "finalized_language": "sd",
          "graph_label": "सिंधी / سنڌي‎ (Sindhi): ڊجيٽل انسانيت",
          "local language name": "सिंधी / سنڌي‎",
          "repo_counts": 0,
          "search_term": "ڊجيٽل انسانيت",
          "search_type": "tagged"
         },
         {
          "English language name": "Samoan",
          "finalized_language": "sm",
          "graph_label": "Gagana Samoa (Samoan): Digital Humanities",
          "local language name": "Gagana Samoa",
          "repo_counts": 0,
          "search_term": "Digital Humanities",
          "search_type": "tagged"
         },
         {
          "English language name": "Serbian",
          "finalized_language": "sr",
          "graph_label": "Српски (Serbian): Дигиталне хуманистичке науке",
          "local language name": "Српски",
          "repo_counts": 0,
          "search_term": "Дигиталне хуманистичке науке",
          "search_type": "tagged"
         },
         {
          "English language name": "Scottish Gaelic",
          "finalized_language": "gd",
          "graph_label": "Gàidhlig (Scottish Gaelic): Daonnachdan didseatach",
          "local language name": "Gàidhlig",
          "repo_counts": 0,
          "search_term": "Daonnachdan didseatach",
          "search_type": "tagged"
         },
         {
          "English language name": "Shona",
          "finalized_language": "sn",
          "graph_label": "chiShona (Shona): Digital Humanities",
          "local language name": "chiShona",
          "repo_counts": 0,
          "search_term": "Digital Humanities",
          "search_type": "tagged"
         },
         {
          "English language name": "Sinhalese",
          "finalized_language": "si",
          "graph_label": "සිංහල (Sinhalese): ඩිජිටල් මානව ශාස්ත්‍ර",
          "local language name": "සිංහල",
          "repo_counts": 0,
          "search_term": "ඩිජිටල් මානව ශාස්ත්‍ර",
          "search_type": "tagged"
         },
         {
          "English language name": "Slovak",
          "finalized_language": "sk",
          "graph_label": "Slovenčina (Slovak): Digitálne humanitné vedy",
          "local language name": "Slovenčina",
          "repo_counts": 0,
          "search_term": "Digitálne humanitné vedy",
          "search_type": "tagged"
         },
         {
          "English language name": "Somalia",
          "finalized_language": "so",
          "graph_label": "Soomaaliga (Somalia): Aadamaha Dijital ah",
          "local language name": "Soomaaliga",
          "repo_counts": 0,
          "search_term": "Aadamaha Dijital ah",
          "search_type": "tagged"
         },
         {
          "English language name": "Southern Sotho",
          "finalized_language": "st",
          "graph_label": "Sesotho (Southern Sotho): Digital Humanities",
          "local language name": "Sesotho",
          "repo_counts": 0,
          "search_term": "Digital Humanities",
          "search_type": "tagged"
         },
         {
          "English language name": "Sundanese",
          "finalized_language": "su",
          "graph_label": "Basa Sunda (Sundanese): Kamanusaan Digital",
          "local language name": "Basa Sunda",
          "repo_counts": 0,
          "search_term": "Kamanusaan Digital",
          "search_type": "tagged"
         },
         {
          "English language name": "Swahili",
          "finalized_language": "sw",
          "graph_label": "Kiswahili (Swahili): Binadamu wa Kidijitali",
          "local language name": "Kiswahili",
          "repo_counts": 0,
          "search_term": "Binadamu wa Kidijitali",
          "search_type": "tagged"
         },
         {
          "English language name": "Telugu",
          "finalized_language": "te",
          "graph_label": "తెలుగు (Telugu): డిజిటల్ హ్యుమానిటీస్",
          "local language name": "తెలుగు",
          "repo_counts": 0,
          "search_term": "డిజిటల్ హ్యుమానిటీస్",
          "search_type": "tagged"
         },
         {
          "English language name": "Tajik",
          "finalized_language": "tg",
          "graph_label": "Тоҷикӣ (Tajik): Илмҳои гуманитарии рақамӣ",
          "local language name": "Тоҷикӣ",
          "repo_counts": 0,
          "search_term": "Илмҳои гуманитарии рақамӣ",
          "search_type": "tagged"
         },
         {
          "English language name": "Tigrinya",
          "finalized_language": "ti",
          "graph_label": "ትግርኛ (Tigrinya): ዲጂታል ሰብኣዊ ስነፍልጠት",
          "local language name": "ትግርኛ",
          "repo_counts": 0,
          "search_term": "ዲጂታል ሰብኣዊ ስነፍልጠት",
          "search_type": "tagged"
         },
         {
          "English language name": "Turkmen",
          "finalized_language": "tk",
          "graph_label": "Туркмен / تركمن (Turkmen): Sanly gumanitar ylymlar",
          "local language name": "Туркмен / تركمن",
          "repo_counts": 0,
          "search_term": "Sanly gumanitar ylymlar",
          "search_type": "tagged"
         },
         {
          "English language name": "Tagalog",
          "finalized_language": "tl",
          "graph_label": "Tagalog / ᜆᜄᜎᜓᜄ᜔ (Tagalog): Digital Humanities",
          "local language name": "Tagalog / ᜆᜄᜎᜓᜄ᜔",
          "repo_counts": 0,
          "search_term": "Digital Humanities",
          "search_type": "tagged"
         },
         {
          "English language name": "Turkish",
          "finalized_language": "tr",
          "graph_label": "Türkçe (Turkish): Dijital Beşeri Bilimler",
          "local language name": "Türkçe",
          "repo_counts": 0,
          "search_term": "Dijital Beşeri Bilimler",
          "search_type": "tagged"
         },
         {
          "English language name": "Tsonga",
          "finalized_language": "ts",
          "graph_label": "Xitsonga (Tsonga): Vutivi bya Vanhu bya Dijitali",
          "local language name": "Xitsonga",
          "repo_counts": 0,
          "search_term": "Vutivi bya Vanhu bya Dijitali",
          "search_type": "tagged"
         },
         {
          "English language name": "Tatar",
          "finalized_language": "tt",
          "graph_label": "Tatarça (Tatar): Санлы гуманитар фәннәр",
          "local language name": "Tatarça",
          "repo_counts": 0,
          "search_term": "Санлы гуманитар фәннәр",
          "search_type": "tagged"
         },
         {
          "English language name": "Twi",
          "finalized_language": "tw",
          "graph_label": "Twi: Digitals Nnipa Ho Adesua",
          "local language name": "Twi",
          "repo_counts": 0,
          "search_term": "Digitals Nnipa Ho Adesua",
          "search_type": "tagged"
         },
         {
          "English language name": "Uyghur",
          "finalized_language": "ug",
          "graph_label": "Uyƣurqə / ئۇيغۇرچە (Uyghur): رەقەملىك ئادىمىيلىك",
          "local language name": "Uyƣurqə / ئۇيغۇرچە",
          "repo_counts": 0,
          "search_term": "رەقەملىك ئادىمىيلىك",
          "search_type": "tagged"
         },
         {
          "English language name": "Ukrainian",
          "finalized_language": "uk",
          "graph_label": "Українська (Ukrainian): Цифрові гуманітарні науки",
          "local language name": "Українська",
          "repo_counts": 0,
          "search_term": "Цифрові гуманітарні науки",
          "search_type": "tagged"
         },
         {
          "English language name": "Urdu",
          "finalized_language": "ur",
          "graph_label": "اردو (Urdu): ڈیجیٹل ہیومینٹیز",
          "local language name": "اردو",
          "repo_counts": 0,
          "search_term": "ڈیجیٹل ہیومینٹیز",
          "search_type": "tagged"
         },
         {
          "English language name": "Uzbek",
          "finalized_language": "uz",
          "graph_label": "Ўзбек (Uzbek): Raqamli gumanitar fanlar",
          "local language name": "Ўзбек",
          "repo_counts": 0,
          "search_term": "Raqamli gumanitar fanlar",
          "search_type": "tagged"
         },
         {
          "English language name": "Vietnamese",
          "finalized_language": "vi",
          "graph_label": "Tiếng Việt (Vietnamese): Nhân văn kỹ thuật số",
          "local language name": "Tiếng Việt",
          "repo_counts": 0,
          "search_term": "Nhân văn kỹ thuật số",
          "search_type": "tagged"
         },
         {
          "English language name": "West Frisian",
          "finalized_language": "fy",
          "graph_label": "Frysk (West Frisian): Digitale Humanities",
          "local language name": "Frysk",
          "repo_counts": 0,
          "search_term": "Digitale Humanities",
          "search_type": "tagged"
         },
         {
          "English language name": "Yiddish",
          "finalized_language": "yi",
          "graph_label": "ייִדיש (Yiddish): דיגיטאַל הומאַניטיעס",
          "local language name": "ייִדיש",
          "repo_counts": 0,
          "search_term": "דיגיטאַל הומאַניטיעס",
          "search_type": "tagged"
         },
         {
          "English language name": "Yoruba",
          "finalized_language": "yo",
          "graph_label": "Yorùbá (Yoruba): Digital Humanities",
          "local language name": "Yorùbá",
          "repo_counts": 0,
          "search_term": "Digital Humanities",
          "search_type": "tagged"
         },
         {
          "English language name": "Latin",
          "finalized_language": "la",
          "graph_label": "Latina (Latin): Humanitates digitales",
          "local language name": "Latina",
          "repo_counts": 0,
          "search_term": "Humanitates digitales",
          "search_type": "searched"
         },
         {
          "English language name": "Tamil",
          "finalized_language": "ta",
          "graph_label": "தமிழ் (Tamil): எண்ணிம மனிதவியல்",
          "local language name": "தமிழ்",
          "repo_counts": 0,
          "search_term": "எண்ணிம மனிதவியல்",
          "search_type": "searched"
         },
         {
          "English language name": "Catalan",
          "finalized_language": "ca",
          "graph_label": "Català (Catalan): Humanitats digitals",
          "local language name": "Català",
          "repo_counts": 0,
          "search_term": "Humanitats digitals",
          "search_type": "searched"
         },
         {
          "English language name": "Serbo-Croatian",
          "finalized_language": "sh",
          "graph_label": "Srpskohrvatski / Српскохрватски (Serbo-Croatian): Дигиталне хуманистичке науке",
          "local language name": "Srpskohrvatski / Српскохрватски",
          "repo_counts": 0,
          "search_term": "Дигиталне хуманистичке науке",
          "search_type": "searched"
         },
         {
          "English language name": "Welsh",
          "finalized_language": "cy",
          "graph_label": "Cymraeg (Welsh): Dyniaethau digidol",
          "local language name": "Cymraeg",
          "repo_counts": 0,
          "search_term": "Dyniaethau digidol",
          "search_type": "searched"
         },
         {
          "English language name": "Arabic",
          "finalized_language": "ar",
          "graph_label": "العربية (Arabic): إنسانيات رقمية",
          "local language name": "العربية",
          "repo_counts": 0,
          "search_term": "إنسانيات رقمية",
          "search_type": "searched"
         },
         {
          "English language name": "Thai",
          "finalized_language": "th",
          "graph_label": "ไทย / Phasa Thai (Thai): มนุษยศาสตร์ดิจิทัล",
          "local language name": "ไทย / Phasa Thai",
          "repo_counts": 0,
          "search_term": "มนุษยศาสตร์ดิจิทัล",
          "search_type": "searched"
         },
         {
          "English language name": "Slovenian",
          "finalized_language": "sl",
          "graph_label": "Slovenščina (Slovenian): Digitalna humanistika",
          "local language name": "Slovenščina",
          "repo_counts": 0,
          "search_term": "Digitalna humanistika",
          "search_type": "searched"
         },
         {
          "English language name": "Japanese",
          "finalized_language": "ja",
          "graph_label": "日本語 (Japanese): デジタル・ヒューマニティーズ",
          "local language name": "日本語",
          "repo_counts": 0,
          "search_term": "デジタル・ヒューマニティーズ",
          "search_type": "searched"
         },
         {
          "English language name": "Hebrew",
          "finalized_language": "he",
          "graph_label": "עברית (Hebrew): מדעי הרוח הדיגיטליים",
          "local language name": "עברית",
          "repo_counts": 0,
          "search_term": "מדעי הרוח הדיגיטליים",
          "search_type": "searched"
         },
         {
          "English language name": "Afrikaans",
          "finalized_language": "af",
          "graph_label": "Afrikaans: Digitale Geesteswetenskappe",
          "local language name": "Afrikaans",
          "repo_counts": 0,
          "search_term": "Digitale Geesteswetenskappe",
          "search_type": "searched"
         },
         {
          "English language name": "Akan",
          "finalized_language": "ak",
          "graph_label": "Akana (Akan): Digitals Nnipa Ho Adesua",
          "local language name": "Akana",
          "repo_counts": 0,
          "search_term": "Digitals Nnipa Ho Adesua",
          "search_type": "searched"
         },
         {
          "English language name": "Albanian",
          "finalized_language": "sq",
          "graph_label": "Shqip (Albanian): Shkenca Dixhitale Humane",
          "local language name": "Shqip",
          "repo_counts": 0,
          "search_term": "Shkenca Dixhitale Humane",
          "search_type": "searched"
         },
         {
          "English language name": "Amharic",
          "finalized_language": "am",
          "graph_label": "አማርኛ (Amharic): ዲጂታል ሰብአዊነት",
          "local language name": "አማርኛ",
          "repo_counts": 0,
          "search_term": "ዲጂታል ሰብአዊነት",
          "search_type": "searched"
         },
         {
          "English language name": "Armenian",
          "finalized_language": "hy",
          "graph_label": "Հայերեն (Armenian): Թվային հումանիտար գիտություններ",
          "local language name": "Հայերեն",
          "repo_counts": 0,
          "search_term": "Թվային հումանիտար գիտություններ",
          "search_type": "searched"
         },
         {
          "English language name": "Assamese",
          "finalized_language": "as",
          "graph_label": "অসমীয়া (Assamese): ডিজিটেল মানৱীয় বিজ্ঞান",
          "local language name": "অসমীয়া",
          "repo_counts": 0,
          "search_term": "ডিজিটেল মানৱীয় বিজ্ঞান",
          "search_type": "searched"
         },
         {
          "English language name": "Aymara",
          "finalized_language": "ay",
          "graph_label": "Aymar (Aymara): Humanidades Digitales uka tuqit yatxataña",
          "local language name": "Aymar",
          "repo_counts": 0,
          "search_term": "Humanidades Digitales uka tuqit yatxataña",
          "search_type": "searched"
         },
         {
          "English language name": "Azerbaijani",
          "finalized_language": "az",
          "graph_label": "Azərbaycanca / آذربايجان (Azerbaijani): Rəqəmsal humanitar elmlər",
          "local language name": "Azərbaycanca / آذربايجان",
          "repo_counts": 0,
          "search_term": "Rəqəmsal humanitar elmlər",
          "search_type": "searched"
         },
         {
          "English language name": "Bambara",
          "finalized_language": "bm",
          "graph_label": "Bamanankan (Bambara): Hadamadenw ka dɔnniya nimɔrɔma",
          "local language name": "Bamanankan",
          "repo_counts": 0,
          "search_term": "Hadamadenw ka dɔnniya nimɔrɔma",
          "search_type": "searched"
         },
         {
          "English language name": "Basque",
          "finalized_language": "eu",
          "graph_label": "Euskara (Basque): Humanitate Digitalak",
          "local language name": "Euskara",
          "repo_counts": 0,
          "search_term": "Humanitate Digitalak",
          "search_type": "searched"
         },
         {
          "English language name": "Belarusian",
          "finalized_language": "be",
          "graph_label": "Беларуская (Belarusian): Лічбавая гуманітарная навука",
          "local language name": "Беларуская",
          "repo_counts": 0,
          "search_term": "Лічбавая гуманітарная навука",
          "search_type": "searched"
         },
         {
          "English language name": "Bengali",
          "finalized_language": "bn",
          "graph_label": "বাংলা (Bengali): ডিজিটাল মানবিক",
          "local language name": "বাংলা",
          "repo_counts": 0,
          "search_term": "ডিজিটাল মানবিক",
          "search_type": "searched"
         },
         {
          "English language name": "Bihari",
          "finalized_language": "bh",
          "graph_label": "भोजपुरी (Bihari): डिजिटल मानविकी के बारे में बतावल गइल बा",
          "local language name": "भोजपुरी",
          "repo_counts": 0,
          "search_term": "डिजिटल मानविकी के बारे में बतावल गइल बा",
          "search_type": "searched"
         },
         {
          "English language name": "Bosnian",
          "finalized_language": "bs",
          "graph_label": "Bosanski (Bosnian): Digitalne humanističke nauke",
          "local language name": "Bosanski",
          "repo_counts": 0,
          "search_term": "Digitalne humanističke nauke",
          "search_type": "searched"
         },
         {
          "English language name": "Bulgarian",
          "finalized_language": "bg",
          "graph_label": "Български (Bulgarian): Дигитални хуманитарни науки",
          "local language name": "Български",
          "repo_counts": 0,
          "search_term": "Дигитални хуманитарни науки",
          "search_type": "searched"
         },
         {
          "English language name": "Burmese",
          "finalized_language": "my",
          "graph_label": "Myanmasa (Burmese): ဒစ်ဂျစ်တယ်လူ့ပညာ",
          "local language name": "Myanmasa",
          "repo_counts": 0,
          "search_term": "ဒစ်ဂျစ်တယ်လူ့ပညာ",
          "search_type": "searched"
         },
         {
          "English language name": "Chichewa",
          "finalized_language": "ny",
          "graph_label": "Chi-Chewa (Chichewa): Digital Humanities",
          "local language name": "Chi-Chewa",
          "repo_counts": 0,
          "search_term": "Digital Humanities",
          "search_type": "searched"
         },
         {
          "English language name": "Chinese",
          "finalized_language": "zh",
          "graph_label": "中文 (Chinese): 数字人文",
          "local language name": "中文",
          "repo_counts": 0,
          "search_term": "数字人文",
          "search_type": "searched"
         },
         {
          "English language name": "Corsican",
          "finalized_language": "co",
          "graph_label": "Corsu (Corsican): Umanità digitale",
          "local language name": "Corsu",
          "repo_counts": 0,
          "search_term": "Umanità digitale",
          "search_type": "searched"
         },
         {
          "English language name": "Croatian",
          "finalized_language": "hr",
          "graph_label": "Hrvatski (Croatian): Digitalne humanističke znanosti",
          "local language name": "Hrvatski",
          "repo_counts": 0,
          "search_term": "Digitalne humanističke znanosti",
          "search_type": "searched"
         },
         {
          "English language name": "Czech",
          "finalized_language": "cs",
          "graph_label": "Česky (Czech): Digitální humanitní vědy",
          "local language name": "Česky",
          "repo_counts": 0,
          "search_term": "Digitální humanitní vědy",
          "search_type": "searched"
         },
         {
          "English language name": "Divehi",
          "finalized_language": "dv",
          "graph_label": "ދިވެހިބަސް (Divehi): ދިރާގު ހިއުމަނިޓީސް އެވެ",
          "local language name": "ދިވެހިބަސް",
          "repo_counts": 0,
          "search_term": "ދިރާގު ހިއުމަނިޓީސް އެވެ",
          "search_type": "searched"
         },
         {
          "English language name": "Dutch",
          "finalized_language": "nl",
          "graph_label": "Nederlands (Dutch): Digitale geesteswetenschappen",
          "local language name": "Nederlands",
          "repo_counts": 0,
          "search_term": "Digitale geesteswetenschappen",
          "search_type": "searched"
         },
         {
          "English language name": "Esperanto",
          "finalized_language": "eo",
          "graph_label": "Esperanto: Ciferecaj Homaroj",
          "local language name": "Esperanto",
          "repo_counts": 0,
          "search_term": "Ciferecaj Homaroj",
          "search_type": "searched"
         },
         {
          "English language name": "Ewe",
          "finalized_language": "ee",
          "graph_label": "Ɛʋɛ (Ewe): Digitál Amegbetɔŋutinunya",
          "local language name": "Ɛʋɛ",
          "repo_counts": 0,
          "search_term": "Digitál Amegbetɔŋutinunya",
          "search_type": "searched"
         },
         {
          "English language name": "Galician",
          "finalized_language": "gl",
          "graph_label": "Galego (Galician): Humanidades Dixitais",
          "local language name": "Galego",
          "repo_counts": 0,
          "search_term": "Humanidades Dixitais",
          "search_type": "searched"
         },
         {
          "English language name": "Georgian",
          "finalized_language": "ka",
          "graph_label": "ქართული (Georgian): ციფრული ჰუმანიტარული მეცნიერებები",
          "local language name": "ქართული",
          "repo_counts": 0,
          "search_term": "ციფრული ჰუმანიტარული მეცნიერებები",
          "search_type": "searched"
         },
         {
          "English language name": "Greek",
          "finalized_language": "el",
          "graph_label": "Ελληνικά (Greek): Ψηφιακές Ανθρωπιστικές Επιστήμες",
          "local language name": "Ελληνικά",
          "repo_counts": 0,
          "search_term": "Ψηφιακές Ανθρωπιστικές Επιστήμες",
          "search_type": "searched"
         },
         {
          "English language name": "Guarani",
          "finalized_language": "gn",
          "graph_label": "Avañe'ẽ (Guarani): Humanidades Digitales rehegua",
          "local language name": "Avañe'ẽ",
          "repo_counts": 0,
          "search_term": "Humanidades Digitales rehegua",
          "search_type": "searched"
         },
         {
          "English language name": "Gujarati",
          "finalized_language": "gu",
          "graph_label": "ગુજરાતી (Gujarati): ડિજિટલ માનવતા",
          "local language name": "ગુજરાતી",
          "repo_counts": 0,
          "search_term": "ડિજિટલ માનવતા",
          "search_type": "searched"
         },
         {
          "English language name": "Haitian",
          "finalized_language": "ht",
          "graph_label": "Krèyol ayisyen (Haitian): Syans imanitè dijital",
          "local language name": "Krèyol ayisyen",
          "repo_counts": 0,
          "search_term": "Syans imanitè dijital",
          "search_type": "searched"
         },
         {
          "English language name": "Hausa",
          "finalized_language": "ha",
          "graph_label": "هَوُسَ (Hausa): Digital Humanities",
          "local language name": "هَوُسَ",
          "repo_counts": 0,
          "search_term": "Digital Humanities",
          "search_type": "searched"
         },
         {
          "English language name": "Hindi",
          "finalized_language": "hi",
          "graph_label": "हिन्दी (Hindi): डिजिटल मानविकी",
          "local language name": "हिन्दी",
          "repo_counts": 0,
          "search_term": "डिजिटल मानविकी",
          "search_type": "searched"
         },
         {
          "English language name": "Hungarian",
          "finalized_language": "hu",
          "graph_label": "Magyar (Hungarian): Digitális humán tudományok",
          "local language name": "Magyar",
          "repo_counts": 0,
          "search_term": "Digitális humán tudományok",
          "search_type": "searched"
         },
         {
          "English language name": "Indonesian",
          "finalized_language": "id",
          "graph_label": "Bahasa Indonesia (Indonesian): Humaniora Digital",
          "local language name": "Bahasa Indonesia",
          "repo_counts": 0,
          "search_term": "Humaniora Digital",
          "search_type": "searched"
         },
         {
          "English language name": "Irish",
          "finalized_language": "ga",
          "graph_label": "Gaeilge (Irish): Daonnachtaí Digiteacha",
          "local language name": "Gaeilge",
          "repo_counts": 0,
          "search_term": "Daonnachtaí Digiteacha",
          "search_type": "searched"
         },
         {
          "English language name": "Igbo",
          "finalized_language": "ig",
          "graph_label": "Igbo: Digital Humanities",
          "local language name": "Igbo",
          "repo_counts": 0,
          "search_term": "Digital Humanities",
          "search_type": "searched"
         },
         {
          "English language name": "Icelandic",
          "finalized_language": "is",
          "graph_label": "Íslenska (Icelandic): Stafræn hugvísindi",
          "local language name": "Íslenska",
          "repo_counts": 0,
          "search_term": "Stafræn hugvísindi",
          "search_type": "searched"
         },
         {
          "English language name": "Javanese",
          "finalized_language": "jv",
          "graph_label": "Basa Jawa (Javanese): Kamanungsan Digital",
          "local language name": "Basa Jawa",
          "repo_counts": 0,
          "search_term": "Kamanungsan Digital",
          "search_type": "searched"
         },
         {
          "English language name": "Kannada",
          "finalized_language": "kn",
          "graph_label": "ಕನ್ನಡ (Kannada): ಡಿಜಿಟಲ್ ಹ್ಯುಮಾನಿಟೀಸ್",
          "local language name": "ಕನ್ನಡ",
          "repo_counts": 0,
          "search_term": "ಡಿಜಿಟಲ್ ಹ್ಯುಮಾನಿಟೀಸ್",
          "search_type": "searched"
         },
         {
          "English language name": "Kazakh",
          "finalized_language": "kk",
          "graph_label": "Қазақша (Kazakh): Сандық гуманитарлық ғылымдар",
          "local language name": "Қазақша",
          "repo_counts": 0,
          "search_term": "Сандық гуманитарлық ғылымдар",
          "search_type": "searched"
         },
         {
          "English language name": "Cambodian",
          "finalized_language": "km",
          "graph_label": "ភាសាខ្មែរ (Cambodian): មនុស្សធម៌ឌីជីថល",
          "local language name": "ភាសាខ្មែរ",
          "repo_counts": 0,
          "search_term": "មនុស្សធម៌ឌីជីថល",
          "search_type": "searched"
         },
         {
          "English language name": "Rwandi",
          "finalized_language": "rw",
          "graph_label": "Kinyarwandi (Rwandi): Ubumenyamuntu",
          "local language name": "Kinyarwandi",
          "repo_counts": 0,
          "search_term": "Ubumenyamuntu",
          "search_type": "searched"
         },
         {
          "English language name": "Kirghiz",
          "finalized_language": "ky",
          "graph_label": "Kırgızca / Кыргызча (Kirghiz): Санариптик гуманитардык илимдер",
          "local language name": "Kırgızca / Кыргызча",
          "repo_counts": 0,
          "search_term": "Санариптик гуманитардык илимдер",
          "search_type": "searched"
         },
         {
          "English language name": "Kurdish (Kurmanji)",
          "finalized_language": "ku",
          "graph_label": "Kurdî (Kurdish (Kurmanji)): Dijîtal Humanities",
          "local language name": "Kurdî",
          "repo_counts": 0,
          "search_term": "Dijîtal Humanities",
          "search_type": "searched"
         },
         {
          "English language name": "Luxembourgish",
          "finalized_language": "lb",
          "graph_label": "Lëtzebuergesch (Luxembourgish): Digital Humanities",
          "local language name": "Lëtzebuergesch",
          "repo_counts": 0,
          "search_term": "Digital Humanities",
          "search_type": "searched"
         },
         {
          "English language name": "Ganda",
          "finalized_language": "lg",
          "graph_label": "Luganda (Ganda): Eby’obuntubulamu ebya Digital",
          "local language name": "Luganda",
          "repo_counts": 0,
          "search_term": "Eby’obuntubulamu ebya Digital",
          "search_type": "searched"
         },
         {
          "English language name": "Lingala",
          "finalized_language": "ln",
          "graph_label": "Lingála (Lingala): Humanités numériques",
          "local language name": "Lingála",
          "repo_counts": 0,
          "search_term": "Humanités numériques",
          "search_type": "searched"
         },
         {
          "English language name": "Laotian",
          "finalized_language": "lo",
          "graph_label": "ລາວ / Pha xa lao (Laotian): ມະນຸດສາດດິຈິຕອນ",
          "local language name": "ລາວ / Pha xa lao",
          "repo_counts": 0,
          "search_term": "ມະນຸດສາດດິຈິຕອນ",
          "search_type": "searched"
         },
         {
          "English language name": "Lithuanian",
          "finalized_language": "lt",
          "graph_label": "Lietuvių (Lithuanian): Skaitmeniniai humanitariniai mokslai",
          "local language name": "Lietuvių",
          "repo_counts": 0,
          "search_term": "Skaitmeniniai humanitariniai mokslai",
          "search_type": "searched"
         },
         {
          "English language name": "Latvian",
          "finalized_language": "lv",
          "graph_label": "Latviešu (Latvian): Digitālās humanitārās zinātnes",
          "local language name": "Latviešu",
          "repo_counts": 0,
          "search_term": "Digitālās humanitārās zinātnes",
          "search_type": "searched"
         },
         {
          "English language name": "Macedonian",
          "finalized_language": "mk",
          "graph_label": "Македонски (Macedonian): Дигитални хуманистички науки",
          "local language name": "Македонски",
          "repo_counts": 0,
          "search_term": "Дигитални хуманистички науки",
          "search_type": "searched"
         },
         {
          "English language name": "Malagasy",
          "finalized_language": "mg",
          "graph_label": "Malagasy: Digital Humanities",
          "local language name": "Malagasy",
          "repo_counts": 0,
          "search_term": "Digital Humanities",
          "search_type": "searched"
         },
         {
          "English language name": "Malay",
          "finalized_language": "ms",
          "graph_label": "Bahasa Melayu (Malay): Kemanusiaan Digital",
          "local language name": "Bahasa Melayu",
          "repo_counts": 0,
          "search_term": "Kemanusiaan Digital",
          "search_type": "searched"
         },
         {
          "English language name": "Malayalam",
          "finalized_language": "ml",
          "graph_label": "മലയാളം (Malayalam): ഡിജിറ്റൽ ഹ്യുമാനിറ്റീസ്",
          "local language name": "മലയാളം",
          "repo_counts": 0,
          "search_term": "ഡിജിറ്റൽ ഹ്യുമാനിറ്റീസ്",
          "search_type": "searched"
         },
         {
          "English language name": "Maltese",
          "finalized_language": "mt",
          "graph_label": "bil-Malti (Maltese): Umanistika Diġitali",
          "local language name": "bil-Malti",
          "repo_counts": 0,
          "search_term": "Umanistika Diġitali",
          "search_type": "searched"
         },
         {
          "English language name": "Māori",
          "finalized_language": "mi",
          "graph_label": "Māori: Mamati Tangata",
          "local language name": "Māori",
          "repo_counts": 0,
          "search_term": "Mamati Tangata",
          "search_type": "searched"
         },
         {
          "English language name": "Marathi",
          "finalized_language": "mr",
          "graph_label": "मराठी (Marathi): डिजिटल मानवता",
          "local language name": "मराठी",
          "repo_counts": 0,
          "search_term": "डिजिटल मानवता",
          "search_type": "searched"
         },
         {
          "English language name": "Mongolian",
          "finalized_language": "mn",
          "graph_label": "Монгол (Mongolian): Дижитал хүмүүнлэг",
          "local language name": "Монгол",
          "repo_counts": 0,
          "search_term": "Дижитал хүмүүнлэг",
          "search_type": "searched"
         },
         {
          "English language name": "Norwegian Bokmål",
          "finalized_language": "nb",
          "graph_label": "Norsk (bokmål) (Norwegian): Digital humaniora",
          "local language name": "Norsk (bokmål)",
          "repo_counts": 0,
          "search_term": "Digital humaniora",
          "search_type": "searched"
         },
         {
          "English language name": "Nepali",
          "finalized_language": "ne",
          "graph_label": "नेपाली (Nepali): डिजिटल मानविकी",
          "local language name": "नेपाली",
          "repo_counts": 0,
          "search_term": "डिजिटल मानविकी",
          "search_type": "searched"
         },
         {
          "English language name": "Norwegian",
          "finalized_language": "no",
          "graph_label": "Norsk (bokmål / riksmål): Digital humaniora",
          "local language name": "Norsk (bokmål / riksmål)",
          "repo_counts": 0,
          "search_term": "Digital humaniora",
          "search_type": "searched"
         },
         {
          "English language name": "Oromo",
          "finalized_language": "om",
          "graph_label": "Oromoo (Oromo): Saayinsii Namoomaa Dijitaalaa",
          "local language name": "Oromoo",
          "repo_counts": 0,
          "search_term": "Saayinsii Namoomaa Dijitaalaa",
          "search_type": "searched"
         },
         {
          "English language name": "Oriya",
          "finalized_language": "or",
          "graph_label": "ଓଡ଼ିଆ (Oriya): ଡିଜିଟାଲ୍ ମାନବିକତା |",
          "local language name": "ଓଡ଼ିଆ",
          "repo_counts": 0,
          "search_term": "ଡିଜିଟାଲ୍ ମାନବିକତା |",
          "search_type": "searched"
         },
         {
          "English language name": "Panjabi / Punjabi",
          "finalized_language": "pa",
          "graph_label": "ਪੰਜਾਬੀ / پنجابی (Panjabi / Punjabi): ਡਿਜੀਟਲ ਮਨੁੱਖਤਾ",
          "local language name": "ਪੰਜਾਬੀ / پنجابی",
          "repo_counts": 0,
          "search_term": "ਡਿਜੀਟਲ ਮਨੁੱਖਤਾ",
          "search_type": "searched"
         },
         {
          "English language name": "Persian",
          "finalized_language": "fa",
          "graph_label": "فارسی (Persian): علوم انسانی دیجیتال",
          "local language name": "فارسی",
          "repo_counts": 0,
          "search_term": "علوم انسانی دیجیتال",
          "search_type": "searched"
         },
         {
          "English language name": "Polish",
          "finalized_language": "pl",
          "graph_label": "Polski (Polish): Humanistyka cyfrowa",
          "local language name": "Polski",
          "repo_counts": 0,
          "search_term": "Humanistyka cyfrowa",
          "search_type": "searched"
         },
         {
          "English language name": "Pashto",
          "finalized_language": "ps",
          "graph_label": "پښتو (Pashto): ډیجیټل انسانیتونه",
          "local language name": "پښتو",
          "repo_counts": 0,
          "search_term": "ډیجیټل انسانیتونه",
          "search_type": "searched"
         },
         {
          "English language name": "Quechua",
          "finalized_language": "qu",
          "graph_label": "Runa Simi (Quechua): Humanidades Digitales nisqa",
          "local language name": "Runa Simi",
          "repo_counts": 0,
          "search_term": "Humanidades Digitales nisqa",
          "search_type": "searched"
         },
         {
          "English language name": "Romanian",
          "finalized_language": "ro",
          "graph_label": "Română (Romanian): Științe umaniste digitale",
          "local language name": "Română",
          "repo_counts": 0,
          "search_term": "Științe umaniste digitale",
          "search_type": "searched"
         },
         {
          "English language name": "Sanskrit",
          "finalized_language": "sa",
          "graph_label": "संस्कृतम् (Sanskrit): डिजिटल मानविकी",
          "local language name": "संस्कृतम्",
          "repo_counts": 0,
          "search_term": "डिजिटल मानविकी",
          "search_type": "searched"
         },
         {
          "English language name": "Sindhi",
          "finalized_language": "sd",
          "graph_label": "सिंधी / سنڌي‎ (Sindhi): ڊجيٽل انسانيت",
          "local language name": "सिंधी / سنڌي‎",
          "repo_counts": 0,
          "search_term": "ڊجيٽل انسانيت",
          "search_type": "searched"
         },
         {
          "English language name": "Samoan",
          "finalized_language": "sm",
          "graph_label": "Gagana Samoa (Samoan): Digital Humanities",
          "local language name": "Gagana Samoa",
          "repo_counts": 0,
          "search_term": "Digital Humanities",
          "search_type": "searched"
         },
         {
          "English language name": "Serbian",
          "finalized_language": "sr",
          "graph_label": "Српски (Serbian): Дигиталне хуманистичке науке",
          "local language name": "Српски",
          "repo_counts": 0,
          "search_term": "Дигиталне хуманистичке науке",
          "search_type": "searched"
         },
         {
          "English language name": "Scottish Gaelic",
          "finalized_language": "gd",
          "graph_label": "Gàidhlig (Scottish Gaelic): Daonnachdan didseatach",
          "local language name": "Gàidhlig",
          "repo_counts": 0,
          "search_term": "Daonnachdan didseatach",
          "search_type": "searched"
         },
         {
          "English language name": "Shona",
          "finalized_language": "sn",
          "graph_label": "chiShona (Shona): Digital Humanities",
          "local language name": "chiShona",
          "repo_counts": 0,
          "search_term": "Digital Humanities",
          "search_type": "searched"
         },
         {
          "English language name": "Sinhalese",
          "finalized_language": "si",
          "graph_label": "සිංහල (Sinhalese): ඩිජිටල් මානව ශාස්ත්‍ර",
          "local language name": "සිංහල",
          "repo_counts": 0,
          "search_term": "ඩිජිටල් මානව ශාස්ත්‍ර",
          "search_type": "searched"
         },
         {
          "English language name": "Slovak",
          "finalized_language": "sk",
          "graph_label": "Slovenčina (Slovak): Digitálne humanitné vedy",
          "local language name": "Slovenčina",
          "repo_counts": 0,
          "search_term": "Digitálne humanitné vedy",
          "search_type": "searched"
         },
         {
          "English language name": "Somalia",
          "finalized_language": "so",
          "graph_label": "Soomaaliga (Somalia): Aadamaha Dijital ah",
          "local language name": "Soomaaliga",
          "repo_counts": 0,
          "search_term": "Aadamaha Dijital ah",
          "search_type": "searched"
         },
         {
          "English language name": "Southern Sotho",
          "finalized_language": "st",
          "graph_label": "Sesotho (Southern Sotho): Digital Humanities",
          "local language name": "Sesotho",
          "repo_counts": 0,
          "search_term": "Digital Humanities",
          "search_type": "searched"
         },
         {
          "English language name": "Sundanese",
          "finalized_language": "su",
          "graph_label": "Basa Sunda (Sundanese): Kamanusaan Digital",
          "local language name": "Basa Sunda",
          "repo_counts": 0,
          "search_term": "Kamanusaan Digital",
          "search_type": "searched"
         },
         {
          "English language name": "Swahili",
          "finalized_language": "sw",
          "graph_label": "Kiswahili (Swahili): Binadamu wa Kidijitali",
          "local language name": "Kiswahili",
          "repo_counts": 0,
          "search_term": "Binadamu wa Kidijitali",
          "search_type": "searched"
         },
         {
          "English language name": "Telugu",
          "finalized_language": "te",
          "graph_label": "తెలుగు (Telugu): డిజిటల్ హ్యుమానిటీస్",
          "local language name": "తెలుగు",
          "repo_counts": 0,
          "search_term": "డిజిటల్ హ్యుమానిటీస్",
          "search_type": "searched"
         },
         {
          "English language name": "Tajik",
          "finalized_language": "tg",
          "graph_label": "Тоҷикӣ (Tajik): Илмҳои гуманитарии рақамӣ",
          "local language name": "Тоҷикӣ",
          "repo_counts": 0,
          "search_term": "Илмҳои гуманитарии рақамӣ",
          "search_type": "searched"
         },
         {
          "English language name": "Tigrinya",
          "finalized_language": "ti",
          "graph_label": "ትግርኛ (Tigrinya): ዲጂታል ሰብኣዊ ስነፍልጠት",
          "local language name": "ትግርኛ",
          "repo_counts": 0,
          "search_term": "ዲጂታል ሰብኣዊ ስነፍልጠት",
          "search_type": "searched"
         },
         {
          "English language name": "Turkmen",
          "finalized_language": "tk",
          "graph_label": "Туркмен / تركمن (Turkmen): Sanly gumanitar ylymlar",
          "local language name": "Туркмен / تركمن",
          "repo_counts": 0,
          "search_term": "Sanly gumanitar ylymlar",
          "search_type": "searched"
         },
         {
          "English language name": "Tagalog",
          "finalized_language": "tl",
          "graph_label": "Tagalog / ᜆᜄᜎᜓᜄ᜔ (Tagalog): Digital Humanities",
          "local language name": "Tagalog / ᜆᜄᜎᜓᜄ᜔",
          "repo_counts": 0,
          "search_term": "Digital Humanities",
          "search_type": "searched"
         },
         {
          "English language name": "Turkish",
          "finalized_language": "tr",
          "graph_label": "Türkçe (Turkish): Dijital Beşeri Bilimler",
          "local language name": "Türkçe",
          "repo_counts": 0,
          "search_term": "Dijital Beşeri Bilimler",
          "search_type": "searched"
         },
         {
          "English language name": "Tsonga",
          "finalized_language": "ts",
          "graph_label": "Xitsonga (Tsonga): Vutivi bya Vanhu bya Dijitali",
          "local language name": "Xitsonga",
          "repo_counts": 0,
          "search_term": "Vutivi bya Vanhu bya Dijitali",
          "search_type": "searched"
         },
         {
          "English language name": "Tatar",
          "finalized_language": "tt",
          "graph_label": "Tatarça (Tatar): Санлы гуманитар фәннәр",
          "local language name": "Tatarça",
          "repo_counts": 0,
          "search_term": "Санлы гуманитар фәннәр",
          "search_type": "searched"
         },
         {
          "English language name": "Twi",
          "finalized_language": "tw",
          "graph_label": "Twi: Digitals Nnipa Ho Adesua",
          "local language name": "Twi",
          "repo_counts": 0,
          "search_term": "Digitals Nnipa Ho Adesua",
          "search_type": "searched"
         },
         {
          "English language name": "Uyghur",
          "finalized_language": "ug",
          "graph_label": "Uyƣurqə / ئۇيغۇرچە (Uyghur): رەقەملىك ئادىمىيلىك",
          "local language name": "Uyƣurqə / ئۇيغۇرچە",
          "repo_counts": 0,
          "search_term": "رەقەملىك ئادىمىيلىك",
          "search_type": "searched"
         },
         {
          "English language name": "Ukrainian",
          "finalized_language": "uk",
          "graph_label": "Українська (Ukrainian): Цифрові гуманітарні науки",
          "local language name": "Українська",
          "repo_counts": 0,
          "search_term": "Цифрові гуманітарні науки",
          "search_type": "searched"
         },
         {
          "English language name": "Urdu",
          "finalized_language": "ur",
          "graph_label": "اردو (Urdu): ڈیجیٹل ہیومینٹیز",
          "local language name": "اردو",
          "repo_counts": 0,
          "search_term": "ڈیجیٹل ہیومینٹیز",
          "search_type": "searched"
         },
         {
          "English language name": "Uzbek",
          "finalized_language": "uz",
          "graph_label": "Ўзбек (Uzbek): Raqamli gumanitar fanlar",
          "local language name": "Ўзбек",
          "repo_counts": 0,
          "search_term": "Raqamli gumanitar fanlar",
          "search_type": "searched"
         },
         {
          "English language name": "West Frisian",
          "finalized_language": "fy",
          "graph_label": "Frysk (West Frisian): Digitale Humanities",
          "local language name": "Frysk",
          "repo_counts": 0,
          "search_term": "Digitale Humanities",
          "search_type": "searched"
         },
         {
          "English language name": "Yiddish",
          "finalized_language": "yi",
          "graph_label": "ייִדיש (Yiddish): דיגיטאַל הומאַניטיעס",
          "local language name": "ייִדיש",
          "repo_counts": 0,
          "search_term": "דיגיטאַל הומאַניטיעס",
          "search_type": "searched"
         },
         {
          "English language name": "Yoruba",
          "finalized_language": "yo",
          "graph_label": "Yorùbá (Yoruba): Digital Humanities",
          "local language name": "Yorùbá",
          "repo_counts": 0,
          "search_term": "Digital Humanities",
          "search_type": "searched"
         }
        ]
       },
       "encoding": {
        "color": {
         "field": "search_type",
         "scale": {
          "range": [
           "#4c78a8",
           "#f58518"
          ]
         },
         "type": "nominal"
        },
        "x": {
         "aggregate": "sum",
         "field": "repo_counts",
         "title": "Number of Repositories",
         "type": "quantitative"
        },
        "y": {
         "field": "graph_label",
         "sort": "-x",
         "title": "",
         "type": "nominal"
        }
       },
       "height": 2000,
       "mark": {
        "type": "bar"
       },
       "width": 500
      },
      "text/plain": [
       "<VegaLite 5 object>\n",
       "\n",
       "If you see this message, it means the renderer has not been properly enabled\n",
       "for the frontend that you are using. For more information, see\n",
       "https://altair-viz.github.io/user_guide/troubleshooting.html\n"
      ]
     },
     "execution_count": 248,
     "metadata": {},
     "output_type": "execute_result"
    }
   ],
   "source": [
    "eng"
   ]
  },
  {
   "attachments": {},
   "cell_type": "markdown",
   "metadata": {},
   "source": [
    "#### Explore cooccurrence of terms"
   ]
  },
  {
   "cell_type": "code",
   "execution_count": 18,
   "metadata": {},
   "outputs": [],
   "source": [
    "grouped_repos = combined_queries.groupby('full_name').size().reset_index(name='counts').sort_values('counts', ascending=False)\n",
    "grouped_list = grouped_repos[grouped_repos['counts'] > 1].full_name.tolist()\n",
    "freq_queries = combined_queries[combined_queries['full_name'].isin(grouped_list)].groupby('full_name')['cleaned_query'].apply(list).reset_index()"
   ]
  },
  {
   "cell_type": "code",
   "execution_count": 19,
   "metadata": {},
   "outputs": [],
   "source": [
    "exploded_df = freq_queries.explode('cleaned_query')\n",
    "grouped_exploded = exploded_df.groupby(['full_name','cleaned_query']).size().reset_index(name='val')\n",
    "pivoted_df = grouped_exploded.pivot(index='full_name', columns='cleaned_query', values='val').fillna(0).astype(int)\n",
    "final_df = pivoted_df.T.dot(pivoted_df)"
   ]
  },
  {
   "cell_type": "code",
   "execution_count": 20,
   "metadata": {},
   "outputs": [],
   "source": [
    "reset_final = final_df.reset_index().rename_axis(None, axis=1)\n",
    "cols = reset_final.columns\n",
    "cols = cols[1:]\n",
    "melted_df = pd.melt(reset_final, id_vars=['cleaned_query'], value_vars=cols)"
   ]
  },
  {
   "cell_type": "code",
   "execution_count": 21,
   "metadata": {},
   "outputs": [
    {
     "data": {
      "application/vnd.vegalite.v4+json": {
       "$schema": "https://vega.github.io/schema/vega-lite/v4.8.1.json",
       "config": {
        "view": {
         "continuousHeight": 300,
         "continuousWidth": 400
        }
       },
       "datasets": {
        "data-5ec8ba0e1dcc0b381a73707c7c4df464": [
         {
          "cleaned_query": "Digital Humanities (search)",
          "value": 125,
          "variable": "Digital Humanities (search)"
         },
         {
          "cleaned_query": "Humanidades digitales (search)",
          "value": 0,
          "variable": "Digital Humanities (search)"
         },
         {
          "cleaned_query": "Humanités numériques (search)",
          "value": 0,
          "variable": "Digital Humanities (search)"
         },
         {
          "cleaned_query": "digital humanities (topic)",
          "value": 73,
          "variable": "Digital Humanities (search)"
         },
         {
          "cleaned_query": "digital humanities centers (topic)",
          "value": 1,
          "variable": "Digital Humanities (search)"
         },
         {
          "cleaned_query": "digital public humanities (topic)",
          "value": 1,
          "variable": "Digital Humanities (search)"
         },
         {
          "cleaned_query": "humanidades digitales (topic)",
          "value": 0,
          "variable": "Digital Humanities (search)"
         },
         {
          "cleaned_query": "humanites numeriques (topic)",
          "value": 0,
          "variable": "Digital Humanities (search)"
         },
         {
          "cleaned_query": "디지털 인문학 (search)",
          "value": 2,
          "variable": "Digital Humanities (search)"
         },
         {
          "cleaned_query": "Digital Humanities (search)",
          "value": 0,
          "variable": "Humanidades digitales (search)"
         },
         {
          "cleaned_query": "Humanidades digitales (search)",
          "value": 2,
          "variable": "Humanidades digitales (search)"
         },
         {
          "cleaned_query": "Humanités numériques (search)",
          "value": 0,
          "variable": "Humanidades digitales (search)"
         },
         {
          "cleaned_query": "digital humanities (topic)",
          "value": 1,
          "variable": "Humanidades digitales (search)"
         },
         {
          "cleaned_query": "digital humanities centers (topic)",
          "value": 0,
          "variable": "Humanidades digitales (search)"
         },
         {
          "cleaned_query": "digital public humanities (topic)",
          "value": 0,
          "variable": "Humanidades digitales (search)"
         },
         {
          "cleaned_query": "humanidades digitales (topic)",
          "value": 1,
          "variable": "Humanidades digitales (search)"
         },
         {
          "cleaned_query": "humanites numeriques (topic)",
          "value": 0,
          "variable": "Humanidades digitales (search)"
         },
         {
          "cleaned_query": "디지털 인문학 (search)",
          "value": 0,
          "variable": "Humanidades digitales (search)"
         },
         {
          "cleaned_query": "Digital Humanities (search)",
          "value": 0,
          "variable": "Humanités numériques (search)"
         },
         {
          "cleaned_query": "Humanidades digitales (search)",
          "value": 0,
          "variable": "Humanités numériques (search)"
         },
         {
          "cleaned_query": "Humanités numériques (search)",
          "value": 1,
          "variable": "Humanités numériques (search)"
         },
         {
          "cleaned_query": "digital humanities (topic)",
          "value": 1,
          "variable": "Humanités numériques (search)"
         },
         {
          "cleaned_query": "digital humanities centers (topic)",
          "value": 0,
          "variable": "Humanités numériques (search)"
         },
         {
          "cleaned_query": "digital public humanities (topic)",
          "value": 0,
          "variable": "Humanités numériques (search)"
         },
         {
          "cleaned_query": "humanidades digitales (topic)",
          "value": 0,
          "variable": "Humanités numériques (search)"
         },
         {
          "cleaned_query": "humanites numeriques (topic)",
          "value": 1,
          "variable": "Humanités numériques (search)"
         },
         {
          "cleaned_query": "디지털 인문학 (search)",
          "value": 0,
          "variable": "Humanités numériques (search)"
         },
         {
          "cleaned_query": "Digital Humanities (search)",
          "value": 73,
          "variable": "digital humanities (topic)"
         },
         {
          "cleaned_query": "Humanidades digitales (search)",
          "value": 1,
          "variable": "digital humanities (topic)"
         },
         {
          "cleaned_query": "Humanités numériques (search)",
          "value": 1,
          "variable": "digital humanities (topic)"
         },
         {
          "cleaned_query": "digital humanities (topic)",
          "value": 99,
          "variable": "digital humanities (topic)"
         },
         {
          "cleaned_query": "digital humanities centers (topic)",
          "value": 0,
          "variable": "digital humanities (topic)"
         },
         {
          "cleaned_query": "digital public humanities (topic)",
          "value": 1,
          "variable": "digital humanities (topic)"
         },
         {
          "cleaned_query": "humanidades digitales (topic)",
          "value": 3,
          "variable": "digital humanities (topic)"
         },
         {
          "cleaned_query": "humanites numeriques (topic)",
          "value": 1,
          "variable": "digital humanities (topic)"
         },
         {
          "cleaned_query": "디지털 인문학 (search)",
          "value": 0,
          "variable": "digital humanities (topic)"
         },
         {
          "cleaned_query": "Digital Humanities (search)",
          "value": 1,
          "variable": "digital humanities centers (topic)"
         },
         {
          "cleaned_query": "Humanidades digitales (search)",
          "value": 0,
          "variable": "digital humanities centers (topic)"
         },
         {
          "cleaned_query": "Humanités numériques (search)",
          "value": 0,
          "variable": "digital humanities centers (topic)"
         },
         {
          "cleaned_query": "digital humanities (topic)",
          "value": 0,
          "variable": "digital humanities centers (topic)"
         },
         {
          "cleaned_query": "digital humanities centers (topic)",
          "value": 1,
          "variable": "digital humanities centers (topic)"
         },
         {
          "cleaned_query": "digital public humanities (topic)",
          "value": 0,
          "variable": "digital humanities centers (topic)"
         },
         {
          "cleaned_query": "humanidades digitales (topic)",
          "value": 0,
          "variable": "digital humanities centers (topic)"
         },
         {
          "cleaned_query": "humanites numeriques (topic)",
          "value": 0,
          "variable": "digital humanities centers (topic)"
         },
         {
          "cleaned_query": "디지털 인문학 (search)",
          "value": 0,
          "variable": "digital humanities centers (topic)"
         },
         {
          "cleaned_query": "Digital Humanities (search)",
          "value": 1,
          "variable": "digital public humanities (topic)"
         },
         {
          "cleaned_query": "Humanidades digitales (search)",
          "value": 0,
          "variable": "digital public humanities (topic)"
         },
         {
          "cleaned_query": "Humanités numériques (search)",
          "value": 0,
          "variable": "digital public humanities (topic)"
         },
         {
          "cleaned_query": "digital humanities (topic)",
          "value": 1,
          "variable": "digital public humanities (topic)"
         },
         {
          "cleaned_query": "digital humanities centers (topic)",
          "value": 0,
          "variable": "digital public humanities (topic)"
         },
         {
          "cleaned_query": "digital public humanities (topic)",
          "value": 1,
          "variable": "digital public humanities (topic)"
         },
         {
          "cleaned_query": "humanidades digitales (topic)",
          "value": 0,
          "variable": "digital public humanities (topic)"
         },
         {
          "cleaned_query": "humanites numeriques (topic)",
          "value": 0,
          "variable": "digital public humanities (topic)"
         },
         {
          "cleaned_query": "디지털 인문학 (search)",
          "value": 0,
          "variable": "digital public humanities (topic)"
         },
         {
          "cleaned_query": "Digital Humanities (search)",
          "value": 0,
          "variable": "humanidades digitales (topic)"
         },
         {
          "cleaned_query": "Humanidades digitales (search)",
          "value": 1,
          "variable": "humanidades digitales (topic)"
         },
         {
          "cleaned_query": "Humanités numériques (search)",
          "value": 0,
          "variable": "humanidades digitales (topic)"
         },
         {
          "cleaned_query": "digital humanities (topic)",
          "value": 3,
          "variable": "humanidades digitales (topic)"
         },
         {
          "cleaned_query": "digital humanities centers (topic)",
          "value": 0,
          "variable": "humanidades digitales (topic)"
         },
         {
          "cleaned_query": "digital public humanities (topic)",
          "value": 0,
          "variable": "humanidades digitales (topic)"
         },
         {
          "cleaned_query": "humanidades digitales (topic)",
          "value": 4,
          "variable": "humanidades digitales (topic)"
         },
         {
          "cleaned_query": "humanites numeriques (topic)",
          "value": 0,
          "variable": "humanidades digitales (topic)"
         },
         {
          "cleaned_query": "디지털 인문학 (search)",
          "value": 0,
          "variable": "humanidades digitales (topic)"
         },
         {
          "cleaned_query": "Digital Humanities (search)",
          "value": 0,
          "variable": "humanites numeriques (topic)"
         },
         {
          "cleaned_query": "Humanidades digitales (search)",
          "value": 0,
          "variable": "humanites numeriques (topic)"
         },
         {
          "cleaned_query": "Humanités numériques (search)",
          "value": 1,
          "variable": "humanites numeriques (topic)"
         },
         {
          "cleaned_query": "digital humanities (topic)",
          "value": 1,
          "variable": "humanites numeriques (topic)"
         },
         {
          "cleaned_query": "digital humanities centers (topic)",
          "value": 0,
          "variable": "humanites numeriques (topic)"
         },
         {
          "cleaned_query": "digital public humanities (topic)",
          "value": 0,
          "variable": "humanites numeriques (topic)"
         },
         {
          "cleaned_query": "humanidades digitales (topic)",
          "value": 0,
          "variable": "humanites numeriques (topic)"
         },
         {
          "cleaned_query": "humanites numeriques (topic)",
          "value": 1,
          "variable": "humanites numeriques (topic)"
         },
         {
          "cleaned_query": "디지털 인문학 (search)",
          "value": 0,
          "variable": "humanites numeriques (topic)"
         },
         {
          "cleaned_query": "Digital Humanities (search)",
          "value": 2,
          "variable": "디지털 인문학 (search)"
         },
         {
          "cleaned_query": "Humanidades digitales (search)",
          "value": 0,
          "variable": "디지털 인문학 (search)"
         },
         {
          "cleaned_query": "Humanités numériques (search)",
          "value": 0,
          "variable": "디지털 인문학 (search)"
         },
         {
          "cleaned_query": "digital humanities (topic)",
          "value": 0,
          "variable": "디지털 인문학 (search)"
         },
         {
          "cleaned_query": "digital humanities centers (topic)",
          "value": 0,
          "variable": "디지털 인문학 (search)"
         },
         {
          "cleaned_query": "digital public humanities (topic)",
          "value": 0,
          "variable": "디지털 인문학 (search)"
         },
         {
          "cleaned_query": "humanidades digitales (topic)",
          "value": 0,
          "variable": "디지털 인문학 (search)"
         },
         {
          "cleaned_query": "humanites numeriques (topic)",
          "value": 0,
          "variable": "디지털 인문학 (search)"
         },
         {
          "cleaned_query": "디지털 인문학 (search)",
          "value": 2,
          "variable": "디지털 인문학 (search)"
         }
        ],
        "data-ec4736e0cacc988a58a5f109a46b4a1f": [
         {
          "cleaned_query": "Humanidades digitales (search)",
          "value": 0,
          "variable": "Digital Humanities (search)"
         },
         {
          "cleaned_query": "Humanités numériques (search)",
          "value": 0,
          "variable": "Digital Humanities (search)"
         },
         {
          "cleaned_query": "digital humanities centers (topic)",
          "value": 1,
          "variable": "Digital Humanities (search)"
         },
         {
          "cleaned_query": "digital public humanities (topic)",
          "value": 1,
          "variable": "Digital Humanities (search)"
         },
         {
          "cleaned_query": "humanidades digitales (topic)",
          "value": 0,
          "variable": "Digital Humanities (search)"
         },
         {
          "cleaned_query": "humanites numeriques (topic)",
          "value": 0,
          "variable": "Digital Humanities (search)"
         },
         {
          "cleaned_query": "디지털 인문학 (search)",
          "value": 2,
          "variable": "Digital Humanities (search)"
         },
         {
          "cleaned_query": "Digital Humanities (search)",
          "value": 0,
          "variable": "Humanidades digitales (search)"
         },
         {
          "cleaned_query": "Humanidades digitales (search)",
          "value": 2,
          "variable": "Humanidades digitales (search)"
         },
         {
          "cleaned_query": "Humanités numériques (search)",
          "value": 0,
          "variable": "Humanidades digitales (search)"
         },
         {
          "cleaned_query": "digital humanities (topic)",
          "value": 1,
          "variable": "Humanidades digitales (search)"
         },
         {
          "cleaned_query": "digital humanities centers (topic)",
          "value": 0,
          "variable": "Humanidades digitales (search)"
         },
         {
          "cleaned_query": "digital public humanities (topic)",
          "value": 0,
          "variable": "Humanidades digitales (search)"
         },
         {
          "cleaned_query": "humanidades digitales (topic)",
          "value": 1,
          "variable": "Humanidades digitales (search)"
         },
         {
          "cleaned_query": "humanites numeriques (topic)",
          "value": 0,
          "variable": "Humanidades digitales (search)"
         },
         {
          "cleaned_query": "디지털 인문학 (search)",
          "value": 0,
          "variable": "Humanidades digitales (search)"
         },
         {
          "cleaned_query": "Digital Humanities (search)",
          "value": 0,
          "variable": "Humanités numériques (search)"
         },
         {
          "cleaned_query": "Humanidades digitales (search)",
          "value": 0,
          "variable": "Humanités numériques (search)"
         },
         {
          "cleaned_query": "Humanités numériques (search)",
          "value": 1,
          "variable": "Humanités numériques (search)"
         },
         {
          "cleaned_query": "digital humanities (topic)",
          "value": 1,
          "variable": "Humanités numériques (search)"
         },
         {
          "cleaned_query": "digital humanities centers (topic)",
          "value": 0,
          "variable": "Humanités numériques (search)"
         },
         {
          "cleaned_query": "digital public humanities (topic)",
          "value": 0,
          "variable": "Humanités numériques (search)"
         },
         {
          "cleaned_query": "humanidades digitales (topic)",
          "value": 0,
          "variable": "Humanités numériques (search)"
         },
         {
          "cleaned_query": "humanites numeriques (topic)",
          "value": 1,
          "variable": "Humanités numériques (search)"
         },
         {
          "cleaned_query": "디지털 인문학 (search)",
          "value": 0,
          "variable": "Humanités numériques (search)"
         },
         {
          "cleaned_query": "Humanidades digitales (search)",
          "value": 1,
          "variable": "digital humanities (topic)"
         },
         {
          "cleaned_query": "Humanités numériques (search)",
          "value": 1,
          "variable": "digital humanities (topic)"
         },
         {
          "cleaned_query": "digital humanities centers (topic)",
          "value": 0,
          "variable": "digital humanities (topic)"
         },
         {
          "cleaned_query": "digital public humanities (topic)",
          "value": 1,
          "variable": "digital humanities (topic)"
         },
         {
          "cleaned_query": "humanidades digitales (topic)",
          "value": 3,
          "variable": "digital humanities (topic)"
         },
         {
          "cleaned_query": "humanites numeriques (topic)",
          "value": 1,
          "variable": "digital humanities (topic)"
         },
         {
          "cleaned_query": "디지털 인문학 (search)",
          "value": 0,
          "variable": "digital humanities (topic)"
         },
         {
          "cleaned_query": "Digital Humanities (search)",
          "value": 1,
          "variable": "digital humanities centers (topic)"
         },
         {
          "cleaned_query": "Humanidades digitales (search)",
          "value": 0,
          "variable": "digital humanities centers (topic)"
         },
         {
          "cleaned_query": "Humanités numériques (search)",
          "value": 0,
          "variable": "digital humanities centers (topic)"
         },
         {
          "cleaned_query": "digital humanities (topic)",
          "value": 0,
          "variable": "digital humanities centers (topic)"
         },
         {
          "cleaned_query": "digital humanities centers (topic)",
          "value": 1,
          "variable": "digital humanities centers (topic)"
         },
         {
          "cleaned_query": "digital public humanities (topic)",
          "value": 0,
          "variable": "digital humanities centers (topic)"
         },
         {
          "cleaned_query": "humanidades digitales (topic)",
          "value": 0,
          "variable": "digital humanities centers (topic)"
         },
         {
          "cleaned_query": "humanites numeriques (topic)",
          "value": 0,
          "variable": "digital humanities centers (topic)"
         },
         {
          "cleaned_query": "디지털 인문학 (search)",
          "value": 0,
          "variable": "digital humanities centers (topic)"
         },
         {
          "cleaned_query": "Digital Humanities (search)",
          "value": 1,
          "variable": "digital public humanities (topic)"
         },
         {
          "cleaned_query": "Humanidades digitales (search)",
          "value": 0,
          "variable": "digital public humanities (topic)"
         },
         {
          "cleaned_query": "Humanités numériques (search)",
          "value": 0,
          "variable": "digital public humanities (topic)"
         },
         {
          "cleaned_query": "digital humanities (topic)",
          "value": 1,
          "variable": "digital public humanities (topic)"
         },
         {
          "cleaned_query": "digital humanities centers (topic)",
          "value": 0,
          "variable": "digital public humanities (topic)"
         },
         {
          "cleaned_query": "digital public humanities (topic)",
          "value": 1,
          "variable": "digital public humanities (topic)"
         },
         {
          "cleaned_query": "humanidades digitales (topic)",
          "value": 0,
          "variable": "digital public humanities (topic)"
         },
         {
          "cleaned_query": "humanites numeriques (topic)",
          "value": 0,
          "variable": "digital public humanities (topic)"
         },
         {
          "cleaned_query": "디지털 인문학 (search)",
          "value": 0,
          "variable": "digital public humanities (topic)"
         },
         {
          "cleaned_query": "Digital Humanities (search)",
          "value": 0,
          "variable": "humanidades digitales (topic)"
         },
         {
          "cleaned_query": "Humanidades digitales (search)",
          "value": 1,
          "variable": "humanidades digitales (topic)"
         },
         {
          "cleaned_query": "Humanités numériques (search)",
          "value": 0,
          "variable": "humanidades digitales (topic)"
         },
         {
          "cleaned_query": "digital humanities (topic)",
          "value": 3,
          "variable": "humanidades digitales (topic)"
         },
         {
          "cleaned_query": "digital humanities centers (topic)",
          "value": 0,
          "variable": "humanidades digitales (topic)"
         },
         {
          "cleaned_query": "digital public humanities (topic)",
          "value": 0,
          "variable": "humanidades digitales (topic)"
         },
         {
          "cleaned_query": "humanidades digitales (topic)",
          "value": 4,
          "variable": "humanidades digitales (topic)"
         },
         {
          "cleaned_query": "humanites numeriques (topic)",
          "value": 0,
          "variable": "humanidades digitales (topic)"
         },
         {
          "cleaned_query": "디지털 인문학 (search)",
          "value": 0,
          "variable": "humanidades digitales (topic)"
         },
         {
          "cleaned_query": "Digital Humanities (search)",
          "value": 0,
          "variable": "humanites numeriques (topic)"
         },
         {
          "cleaned_query": "Humanidades digitales (search)",
          "value": 0,
          "variable": "humanites numeriques (topic)"
         },
         {
          "cleaned_query": "Humanités numériques (search)",
          "value": 1,
          "variable": "humanites numeriques (topic)"
         },
         {
          "cleaned_query": "digital humanities (topic)",
          "value": 1,
          "variable": "humanites numeriques (topic)"
         },
         {
          "cleaned_query": "digital humanities centers (topic)",
          "value": 0,
          "variable": "humanites numeriques (topic)"
         },
         {
          "cleaned_query": "digital public humanities (topic)",
          "value": 0,
          "variable": "humanites numeriques (topic)"
         },
         {
          "cleaned_query": "humanidades digitales (topic)",
          "value": 0,
          "variable": "humanites numeriques (topic)"
         },
         {
          "cleaned_query": "humanites numeriques (topic)",
          "value": 1,
          "variable": "humanites numeriques (topic)"
         },
         {
          "cleaned_query": "디지털 인문학 (search)",
          "value": 0,
          "variable": "humanites numeriques (topic)"
         },
         {
          "cleaned_query": "Digital Humanities (search)",
          "value": 2,
          "variable": "디지털 인문학 (search)"
         },
         {
          "cleaned_query": "Humanidades digitales (search)",
          "value": 0,
          "variable": "디지털 인문학 (search)"
         },
         {
          "cleaned_query": "Humanités numériques (search)",
          "value": 0,
          "variable": "디지털 인문학 (search)"
         },
         {
          "cleaned_query": "digital humanities (topic)",
          "value": 0,
          "variable": "디지털 인문학 (search)"
         },
         {
          "cleaned_query": "digital humanities centers (topic)",
          "value": 0,
          "variable": "디지털 인문학 (search)"
         },
         {
          "cleaned_query": "digital public humanities (topic)",
          "value": 0,
          "variable": "디지털 인문학 (search)"
         },
         {
          "cleaned_query": "humanidades digitales (topic)",
          "value": 0,
          "variable": "디지털 인문학 (search)"
         },
         {
          "cleaned_query": "humanites numeriques (topic)",
          "value": 0,
          "variable": "디지털 인문학 (search)"
         },
         {
          "cleaned_query": "디지털 인문학 (search)",
          "value": 2,
          "variable": "디지털 인문학 (search)"
         }
        ]
       },
       "hconcat": [
        {
         "data": {
          "name": "data-5ec8ba0e1dcc0b381a73707c7c4df464"
         },
         "encoding": {
          "color": {
           "field": "value",
           "type": "quantitative"
          },
          "x": {
           "field": "cleaned_query",
           "type": "nominal"
          },
          "y": {
           "field": "variable",
           "type": "nominal"
          }
         },
         "mark": "rect"
        },
        {
         "data": {
          "name": "data-ec4736e0cacc988a58a5f109a46b4a1f"
         },
         "encoding": {
          "color": {
           "field": "value",
           "type": "quantitative"
          },
          "x": {
           "field": "cleaned_query",
           "type": "nominal"
          },
          "y": {
           "field": "variable",
           "type": "nominal"
          }
         },
         "mark": "rect"
        }
       ],
       "resolve": {
        "scale": {
         "color": "independent"
        }
       }
      },
      "text/plain": [
       "<VegaLite 4 object>\n",
       "\n",
       "If you see this message, it means the renderer has not been properly enabled\n",
       "for the frontend that you are using. For more information, see\n",
       "https://altair-viz.github.io/user_guide/troubleshooting.html\n"
      ]
     },
     "execution_count": 21,
     "metadata": {},
     "output_type": "execute_result"
    }
   ],
   "source": [
    "top_results = alt.Chart(melted_df).mark_rect().encode(\n",
    "    x='cleaned_query',\n",
    "    y=alt.Y('variable'),\n",
    "    color='value'\n",
    ")\n",
    "\n",
    "rest_results = alt.Chart(melted_df[melted_df.value < 10]).mark_rect().encode(\n",
    "    x='cleaned_query',\n",
    "    y=alt.Y('variable'),\n",
    "    color='value'\n",
    ")\n",
    "\n",
    "alt.hconcat(top_results, rest_results).resolve_scale(color='independent')"
   ]
  }
 ],
 "metadata": {
  "kernelspec": {
   "display_name": "Python 3.9.12 ('values_and_versions_env')",
   "language": "python",
   "name": "python3"
  },
  "language_info": {
   "codemirror_mode": {
    "name": "ipython",
    "version": 3
   },
   "file_extension": ".py",
   "mimetype": "text/x-python",
   "name": "python",
   "nbconvert_exporter": "python",
   "pygments_lexer": "ipython3",
   "version": "3.9.16"
  },
  "orig_nbformat": 4,
  "vscode": {
   "interpreter": {
    "hash": "92b14f494f00d59c3bde62efd18715990e48408449b0a7aa8b9d827d8bcdd450"
   }
  }
 },
 "nbformat": 4,
 "nbformat_minor": 2
}
