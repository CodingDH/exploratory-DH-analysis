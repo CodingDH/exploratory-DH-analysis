{
 "cells": [
  {
   "attachments": {},
   "cell_type": "markdown",
   "metadata": {},
   "source": [
    "# Exploring the Overview of Core Materials"
   ]
  },
  {
   "attachments": {},
   "cell_type": "markdown",
   "metadata": {},
   "source": [
    "### Load Libraries and Datasets"
   ]
  },
  {
   "cell_type": "code",
   "execution_count": 1,
   "metadata": {},
   "outputs": [],
   "source": [
    "import pandas as pd\n",
    "pd.options.mode.chained_assignment = None\n",
    "import altair as alt\n",
    "alt.renderers.enable('mimetype')\n",
    "alt.data_transformers.disable_max_rows()\n",
    "import os\n",
    "import sys\n",
    "import warnings\n",
    "warnings.filterwarnings('ignore')\n",
    "sys.path.append(\"..\")\n",
    "from data_generation_scripts.utils import save_chart, read_combine_files\n",
    "from data_generation_scripts.generate_translations import check_detect_language"
   ]
  },
  {
   "cell_type": "code",
   "execution_count": 2,
   "metadata": {},
   "outputs": [],
   "source": [
    "user_df = pd.read_csv(\"../data/entity_files/users_dataset.csv\")\n",
    "repo_df = pd.read_csv(\"../data/large_files/entity_files/repos_dataset.csv\", low_memory=False)\n",
    "org_df = pd.read_csv(\"../data/entity_files/orgs_dataset.csv\", low_memory=False)\n",
    "search_queries_repo_join_df = pd.read_csv(\"../data/derived_files/updated_search_queries_repo_join_subset_dh_dataset.csv\")\n",
    "search_queries_user_join_df = pd.read_csv(\n",
    "    \"../data/derived_files/updated_search_queries_user_join_subset_dh_dataset.csv\")"
   ]
  },
  {
   "cell_type": "code",
   "execution_count": 15,
   "metadata": {},
   "outputs": [],
   "source": [
    "def process_core_materials(core_repos, core_users, core_orgs, include_month=True):\n",
    "    core_users['created_at'] = pd.to_datetime(core_users['created_at'], errors='coerce')\n",
    "    core_orgs['created_at'] = pd.to_datetime(core_orgs['created_at'], errors='coerce')\n",
    "    core_repos['created_at'] = pd.to_datetime(core_repos['created_at'], errors='coerce')\n",
    "    core_users['data_type'] = 'User'\n",
    "    core_orgs['data_type'] = 'Organization'\n",
    "    core_repos['data_type'] = 'Repository'\n",
    "    all_data = pd.concat([core_users[['data_type', 'created_at', 'id']], core_orgs[['data_type', 'created_at', 'id']], core_repos[['data_type', 'created_at', 'id']]])\n",
    "    all_data['total_counts'] = 0\n",
    "    all_data.loc[all_data.data_type == 'User', 'total_counts'] = core_users.shape[0]\n",
    "    all_data.loc[all_data.data_type == 'Organization', 'total_counts'] = core_orgs.shape[0]\n",
    "    all_data.loc[all_data.data_type == 'Repository', 'total_counts'] = core_repos.shape[0]\n",
    "\n",
    "    all_data['month'] = all_data['created_at'].dt.month\n",
    "    all_data['year'] = all_data['created_at'].dt.year\n",
    "    grouped_data = all_data.groupby(['data_type', 'year', 'month']).size().reset_index(name='counts')\n",
    "\n",
    "    grouped_data['day'] = 1\n",
    "    if include_month == False:\n",
    "        grouped_data['month'] = 1\n",
    "    grouped_data['date'] = pd.to_datetime(grouped_data[['year', 'month', 'day']])\n",
    "    grouped_data.date = grouped_data.date.dt.tz_localize(\"America/New_York\")\n",
    "    return grouped_data"
   ]
  },
  {
   "cell_type": "code",
   "execution_count": 12,
   "metadata": {},
   "outputs": [],
   "source": [
    "def overtime_chart(grouped_data, title):\n",
    "    nearest = alt.selection_point(nearest=True, on='mouseover', encodings=['x'], empty='none')\n",
    "\n",
    "    line = alt.Chart(grouped_data).mark_line(interpolate='basis').encode(\n",
    "        x=alt.X('date:T', title='Date Created', axis=alt.Axis(format='%Y')),\n",
    "        y=alt.Y('counts:Q', title='Counts'),\n",
    "        color=alt.Color('data_type:N', title='Type of Entity')\n",
    "    )\n",
    "\n",
    "    selectors = alt.Chart(grouped_data).mark_point().encode(\n",
    "        x='date:T',\n",
    "        opacity=alt.value(0),\n",
    "    ).add_params(\n",
    "        nearest\n",
    "    )\n",
    "\n",
    "    points = line.mark_point().encode(\n",
    "        opacity=alt.condition(nearest, alt.value(1), alt.value(0))\n",
    "    )\n",
    "\n",
    "    text = line.mark_text(align='left', dx=5, dy=-5).encode(\n",
    "        text=alt.condition(nearest, 'counts', alt.value(' '))\n",
    "    )\n",
    "\n",
    "    rules = alt.Chart(grouped_data).mark_rule(color='gray').encode(\n",
    "        x='date:T',\n",
    "    ).transform_filter(\n",
    "        nearest\n",
    "    )\n",
    "\n",
    "    chart = alt.layer(line, selectors, points, rules, text,).properties(\n",
    "        width=600,\n",
    "        height=300,\n",
    "        title=title\n",
    "    )\n",
    "    return chart"
   ]
  },
  {
   "attachments": {},
   "cell_type": "markdown",
   "metadata": {},
   "source": [
    "### Initial Core Users"
   ]
  },
  {
   "cell_type": "code",
   "execution_count": 3,
   "metadata": {},
   "outputs": [],
   "source": [
    "initial_core_users = pd.read_csv(\"../data/derived_files/initial_core_users.csv\")\n",
    "initial_core_repos = pd.read_csv(\"../data/derived_files/initial_core_repos.csv\")\n",
    "initial_core_orgs = pd.read_csv(\"../data/derived_files/initial_core_orgs.csv\")"
   ]
  },
  {
   "cell_type": "code",
   "execution_count": 16,
   "metadata": {},
   "outputs": [],
   "source": [
    "initial_grouped_data = process_core_materials(initial_core_repos, initial_core_users, initial_core_orgs, include_month=True)"
   ]
  },
  {
   "cell_type": "code",
   "execution_count": 17,
   "metadata": {},
   "outputs": [],
   "source": [
    "initial_chart = overtime_chart(initial_grouped_data, \"Number of Users, Organizations, and Repositories identified as DH, Created Over Time via Initial Search Queries\")"
   ]
  },
  {
   "cell_type": "code",
   "execution_count": 18,
   "metadata": {},
   "outputs": [
    {
     "data": {
      "application/vnd.vegalite.v5+json": {
       "$schema": "https://vega.github.io/schema/vega-lite/v5.6.1.json",
       "config": {
        "view": {
         "continuousHeight": 300,
         "continuousWidth": 300
        }
       },
       "data": {
        "name": "data-0d8c13f58d107d8873fdd92a5ab8b961"
       },
       "datasets": {
        "data-0d8c13f58d107d8873fdd92a5ab8b961": [
         {
          "counts": 1,
          "data_type": "Organization",
          "date": "2010-05-01T00:00:00-04:00",
          "day": 1,
          "month": 5,
          "year": 2010
         },
         {
          "counts": 1,
          "data_type": "Organization",
          "date": "2010-10-01T00:00:00-04:00",
          "day": 1,
          "month": 10,
          "year": 2010
         },
         {
          "counts": 3,
          "data_type": "Organization",
          "date": "2011-12-01T00:00:00-05:00",
          "day": 1,
          "month": 12,
          "year": 2011
         },
         {
          "counts": 1,
          "data_type": "Organization",
          "date": "2012-04-01T00:00:00-04:00",
          "day": 1,
          "month": 4,
          "year": 2012
         },
         {
          "counts": 1,
          "data_type": "Organization",
          "date": "2012-10-01T00:00:00-04:00",
          "day": 1,
          "month": 10,
          "year": 2012
         },
         {
          "counts": 1,
          "data_type": "Organization",
          "date": "2013-01-01T00:00:00-05:00",
          "day": 1,
          "month": 1,
          "year": 2013
         },
         {
          "counts": 1,
          "data_type": "Organization",
          "date": "2013-03-01T00:00:00-05:00",
          "day": 1,
          "month": 3,
          "year": 2013
         },
         {
          "counts": 1,
          "data_type": "Organization",
          "date": "2013-07-01T00:00:00-04:00",
          "day": 1,
          "month": 7,
          "year": 2013
         },
         {
          "counts": 1,
          "data_type": "Organization",
          "date": "2013-10-01T00:00:00-04:00",
          "day": 1,
          "month": 10,
          "year": 2013
         },
         {
          "counts": 1,
          "data_type": "Organization",
          "date": "2013-12-01T00:00:00-05:00",
          "day": 1,
          "month": 12,
          "year": 2013
         },
         {
          "counts": 1,
          "data_type": "Organization",
          "date": "2014-01-01T00:00:00-05:00",
          "day": 1,
          "month": 1,
          "year": 2014
         },
         {
          "counts": 1,
          "data_type": "Organization",
          "date": "2014-02-01T00:00:00-05:00",
          "day": 1,
          "month": 2,
          "year": 2014
         },
         {
          "counts": 1,
          "data_type": "Organization",
          "date": "2014-05-01T00:00:00-04:00",
          "day": 1,
          "month": 5,
          "year": 2014
         },
         {
          "counts": 1,
          "data_type": "Organization",
          "date": "2014-06-01T00:00:00-04:00",
          "day": 1,
          "month": 6,
          "year": 2014
         },
         {
          "counts": 1,
          "data_type": "Organization",
          "date": "2014-07-01T00:00:00-04:00",
          "day": 1,
          "month": 7,
          "year": 2014
         },
         {
          "counts": 1,
          "data_type": "Organization",
          "date": "2014-09-01T00:00:00-04:00",
          "day": 1,
          "month": 9,
          "year": 2014
         },
         {
          "counts": 2,
          "data_type": "Organization",
          "date": "2014-10-01T00:00:00-04:00",
          "day": 1,
          "month": 10,
          "year": 2014
         },
         {
          "counts": 1,
          "data_type": "Organization",
          "date": "2014-12-01T00:00:00-05:00",
          "day": 1,
          "month": 12,
          "year": 2014
         },
         {
          "counts": 1,
          "data_type": "Organization",
          "date": "2015-01-01T00:00:00-05:00",
          "day": 1,
          "month": 1,
          "year": 2015
         },
         {
          "counts": 2,
          "data_type": "Organization",
          "date": "2015-04-01T00:00:00-04:00",
          "day": 1,
          "month": 4,
          "year": 2015
         },
         {
          "counts": 1,
          "data_type": "Organization",
          "date": "2015-05-01T00:00:00-04:00",
          "day": 1,
          "month": 5,
          "year": 2015
         },
         {
          "counts": 1,
          "data_type": "Organization",
          "date": "2015-06-01T00:00:00-04:00",
          "day": 1,
          "month": 6,
          "year": 2015
         },
         {
          "counts": 2,
          "data_type": "Organization",
          "date": "2015-07-01T00:00:00-04:00",
          "day": 1,
          "month": 7,
          "year": 2015
         },
         {
          "counts": 2,
          "data_type": "Organization",
          "date": "2015-09-01T00:00:00-04:00",
          "day": 1,
          "month": 9,
          "year": 2015
         },
         {
          "counts": 2,
          "data_type": "Organization",
          "date": "2015-10-01T00:00:00-04:00",
          "day": 1,
          "month": 10,
          "year": 2015
         },
         {
          "counts": 1,
          "data_type": "Organization",
          "date": "2015-11-01T00:00:00-04:00",
          "day": 1,
          "month": 11,
          "year": 2015
         },
         {
          "counts": 1,
          "data_type": "Organization",
          "date": "2015-12-01T00:00:00-05:00",
          "day": 1,
          "month": 12,
          "year": 2015
         },
         {
          "counts": 1,
          "data_type": "Organization",
          "date": "2016-01-01T00:00:00-05:00",
          "day": 1,
          "month": 1,
          "year": 2016
         },
         {
          "counts": 1,
          "data_type": "Organization",
          "date": "2016-04-01T00:00:00-04:00",
          "day": 1,
          "month": 4,
          "year": 2016
         },
         {
          "counts": 1,
          "data_type": "Organization",
          "date": "2016-05-01T00:00:00-04:00",
          "day": 1,
          "month": 5,
          "year": 2016
         },
         {
          "counts": 1,
          "data_type": "Organization",
          "date": "2016-06-01T00:00:00-04:00",
          "day": 1,
          "month": 6,
          "year": 2016
         },
         {
          "counts": 2,
          "data_type": "Organization",
          "date": "2016-09-01T00:00:00-04:00",
          "day": 1,
          "month": 9,
          "year": 2016
         },
         {
          "counts": 1,
          "data_type": "Organization",
          "date": "2016-10-01T00:00:00-04:00",
          "day": 1,
          "month": 10,
          "year": 2016
         },
         {
          "counts": 1,
          "data_type": "Organization",
          "date": "2016-11-01T00:00:00-04:00",
          "day": 1,
          "month": 11,
          "year": 2016
         },
         {
          "counts": 1,
          "data_type": "Organization",
          "date": "2017-04-01T00:00:00-04:00",
          "day": 1,
          "month": 4,
          "year": 2017
         },
         {
          "counts": 2,
          "data_type": "Organization",
          "date": "2017-05-01T00:00:00-04:00",
          "day": 1,
          "month": 5,
          "year": 2017
         },
         {
          "counts": 3,
          "data_type": "Organization",
          "date": "2017-08-01T00:00:00-04:00",
          "day": 1,
          "month": 8,
          "year": 2017
         },
         {
          "counts": 2,
          "data_type": "Organization",
          "date": "2017-09-01T00:00:00-04:00",
          "day": 1,
          "month": 9,
          "year": 2017
         },
         {
          "counts": 1,
          "data_type": "Organization",
          "date": "2017-10-01T00:00:00-04:00",
          "day": 1,
          "month": 10,
          "year": 2017
         },
         {
          "counts": 1,
          "data_type": "Organization",
          "date": "2017-11-01T00:00:00-04:00",
          "day": 1,
          "month": 11,
          "year": 2017
         },
         {
          "counts": 1,
          "data_type": "Organization",
          "date": "2018-01-01T00:00:00-05:00",
          "day": 1,
          "month": 1,
          "year": 2018
         },
         {
          "counts": 2,
          "data_type": "Organization",
          "date": "2018-02-01T00:00:00-05:00",
          "day": 1,
          "month": 2,
          "year": 2018
         },
         {
          "counts": 2,
          "data_type": "Organization",
          "date": "2018-03-01T00:00:00-05:00",
          "day": 1,
          "month": 3,
          "year": 2018
         },
         {
          "counts": 1,
          "data_type": "Organization",
          "date": "2018-04-01T00:00:00-04:00",
          "day": 1,
          "month": 4,
          "year": 2018
         },
         {
          "counts": 1,
          "data_type": "Organization",
          "date": "2018-05-01T00:00:00-04:00",
          "day": 1,
          "month": 5,
          "year": 2018
         },
         {
          "counts": 1,
          "data_type": "Organization",
          "date": "2018-06-01T00:00:00-04:00",
          "day": 1,
          "month": 6,
          "year": 2018
         },
         {
          "counts": 2,
          "data_type": "Organization",
          "date": "2018-08-01T00:00:00-04:00",
          "day": 1,
          "month": 8,
          "year": 2018
         },
         {
          "counts": 1,
          "data_type": "Organization",
          "date": "2018-09-01T00:00:00-04:00",
          "day": 1,
          "month": 9,
          "year": 2018
         },
         {
          "counts": 1,
          "data_type": "Organization",
          "date": "2018-10-01T00:00:00-04:00",
          "day": 1,
          "month": 10,
          "year": 2018
         },
         {
          "counts": 1,
          "data_type": "Organization",
          "date": "2018-11-01T00:00:00-04:00",
          "day": 1,
          "month": 11,
          "year": 2018
         },
         {
          "counts": 1,
          "data_type": "Organization",
          "date": "2019-01-01T00:00:00-05:00",
          "day": 1,
          "month": 1,
          "year": 2019
         },
         {
          "counts": 2,
          "data_type": "Organization",
          "date": "2019-02-01T00:00:00-05:00",
          "day": 1,
          "month": 2,
          "year": 2019
         },
         {
          "counts": 4,
          "data_type": "Organization",
          "date": "2019-03-01T00:00:00-05:00",
          "day": 1,
          "month": 3,
          "year": 2019
         },
         {
          "counts": 3,
          "data_type": "Organization",
          "date": "2019-05-01T00:00:00-04:00",
          "day": 1,
          "month": 5,
          "year": 2019
         },
         {
          "counts": 1,
          "data_type": "Organization",
          "date": "2019-06-01T00:00:00-04:00",
          "day": 1,
          "month": 6,
          "year": 2019
         },
         {
          "counts": 2,
          "data_type": "Organization",
          "date": "2019-07-01T00:00:00-04:00",
          "day": 1,
          "month": 7,
          "year": 2019
         },
         {
          "counts": 3,
          "data_type": "Organization",
          "date": "2019-09-01T00:00:00-04:00",
          "day": 1,
          "month": 9,
          "year": 2019
         },
         {
          "counts": 1,
          "data_type": "Organization",
          "date": "2019-11-01T00:00:00-04:00",
          "day": 1,
          "month": 11,
          "year": 2019
         },
         {
          "counts": 3,
          "data_type": "Organization",
          "date": "2020-02-01T00:00:00-05:00",
          "day": 1,
          "month": 2,
          "year": 2020
         },
         {
          "counts": 2,
          "data_type": "Organization",
          "date": "2020-03-01T00:00:00-05:00",
          "day": 1,
          "month": 3,
          "year": 2020
         },
         {
          "counts": 1,
          "data_type": "Organization",
          "date": "2020-04-01T00:00:00-04:00",
          "day": 1,
          "month": 4,
          "year": 2020
         },
         {
          "counts": 1,
          "data_type": "Organization",
          "date": "2020-05-01T00:00:00-04:00",
          "day": 1,
          "month": 5,
          "year": 2020
         },
         {
          "counts": 1,
          "data_type": "Organization",
          "date": "2020-06-01T00:00:00-04:00",
          "day": 1,
          "month": 6,
          "year": 2020
         },
         {
          "counts": 1,
          "data_type": "Organization",
          "date": "2020-07-01T00:00:00-04:00",
          "day": 1,
          "month": 7,
          "year": 2020
         },
         {
          "counts": 1,
          "data_type": "Organization",
          "date": "2020-08-01T00:00:00-04:00",
          "day": 1,
          "month": 8,
          "year": 2020
         },
         {
          "counts": 3,
          "data_type": "Organization",
          "date": "2020-09-01T00:00:00-04:00",
          "day": 1,
          "month": 9,
          "year": 2020
         },
         {
          "counts": 2,
          "data_type": "Organization",
          "date": "2020-10-01T00:00:00-04:00",
          "day": 1,
          "month": 10,
          "year": 2020
         },
         {
          "counts": 1,
          "data_type": "Organization",
          "date": "2021-02-01T00:00:00-05:00",
          "day": 1,
          "month": 2,
          "year": 2021
         },
         {
          "counts": 3,
          "data_type": "Organization",
          "date": "2021-03-01T00:00:00-05:00",
          "day": 1,
          "month": 3,
          "year": 2021
         },
         {
          "counts": 1,
          "data_type": "Organization",
          "date": "2021-04-01T00:00:00-04:00",
          "day": 1,
          "month": 4,
          "year": 2021
         },
         {
          "counts": 1,
          "data_type": "Organization",
          "date": "2021-06-01T00:00:00-04:00",
          "day": 1,
          "month": 6,
          "year": 2021
         },
         {
          "counts": 2,
          "data_type": "Organization",
          "date": "2021-07-01T00:00:00-04:00",
          "day": 1,
          "month": 7,
          "year": 2021
         },
         {
          "counts": 1,
          "data_type": "Organization",
          "date": "2021-08-01T00:00:00-04:00",
          "day": 1,
          "month": 8,
          "year": 2021
         },
         {
          "counts": 1,
          "data_type": "Organization",
          "date": "2021-09-01T00:00:00-04:00",
          "day": 1,
          "month": 9,
          "year": 2021
         },
         {
          "counts": 1,
          "data_type": "Organization",
          "date": "2021-10-01T00:00:00-04:00",
          "day": 1,
          "month": 10,
          "year": 2021
         },
         {
          "counts": 2,
          "data_type": "Organization",
          "date": "2021-12-01T00:00:00-05:00",
          "day": 1,
          "month": 12,
          "year": 2021
         },
         {
          "counts": 3,
          "data_type": "Organization",
          "date": "2022-01-01T00:00:00-05:00",
          "day": 1,
          "month": 1,
          "year": 2022
         },
         {
          "counts": 1,
          "data_type": "Organization",
          "date": "2022-02-01T00:00:00-05:00",
          "day": 1,
          "month": 2,
          "year": 2022
         },
         {
          "counts": 1,
          "data_type": "Organization",
          "date": "2022-03-01T00:00:00-05:00",
          "day": 1,
          "month": 3,
          "year": 2022
         },
         {
          "counts": 3,
          "data_type": "Organization",
          "date": "2022-04-01T00:00:00-04:00",
          "day": 1,
          "month": 4,
          "year": 2022
         },
         {
          "counts": 2,
          "data_type": "Organization",
          "date": "2022-05-01T00:00:00-04:00",
          "day": 1,
          "month": 5,
          "year": 2022
         },
         {
          "counts": 1,
          "data_type": "Organization",
          "date": "2022-07-01T00:00:00-04:00",
          "day": 1,
          "month": 7,
          "year": 2022
         },
         {
          "counts": 2,
          "data_type": "Organization",
          "date": "2022-08-01T00:00:00-04:00",
          "day": 1,
          "month": 8,
          "year": 2022
         },
         {
          "counts": 1,
          "data_type": "Organization",
          "date": "2022-09-01T00:00:00-04:00",
          "day": 1,
          "month": 9,
          "year": 2022
         },
         {
          "counts": 1,
          "data_type": "Organization",
          "date": "2022-10-01T00:00:00-04:00",
          "day": 1,
          "month": 10,
          "year": 2022
         },
         {
          "counts": 1,
          "data_type": "Organization",
          "date": "2022-11-01T00:00:00-04:00",
          "day": 1,
          "month": 11,
          "year": 2022
         },
         {
          "counts": 1,
          "data_type": "Repository",
          "date": "2009-11-01T00:00:00-04:00",
          "day": 1,
          "month": 11,
          "year": 2009
         },
         {
          "counts": 1,
          "data_type": "Repository",
          "date": "2010-03-01T00:00:00-05:00",
          "day": 1,
          "month": 3,
          "year": 2010
         },
         {
          "counts": 1,
          "data_type": "Repository",
          "date": "2010-04-01T00:00:00-04:00",
          "day": 1,
          "month": 4,
          "year": 2010
         },
         {
          "counts": 3,
          "data_type": "Repository",
          "date": "2011-02-01T00:00:00-05:00",
          "day": 1,
          "month": 2,
          "year": 2011
         },
         {
          "counts": 1,
          "data_type": "Repository",
          "date": "2011-04-01T00:00:00-04:00",
          "day": 1,
          "month": 4,
          "year": 2011
         },
         {
          "counts": 1,
          "data_type": "Repository",
          "date": "2011-05-01T00:00:00-04:00",
          "day": 1,
          "month": 5,
          "year": 2011
         },
         {
          "counts": 1,
          "data_type": "Repository",
          "date": "2011-08-01T00:00:00-04:00",
          "day": 1,
          "month": 8,
          "year": 2011
         },
         {
          "counts": 1,
          "data_type": "Repository",
          "date": "2011-11-01T00:00:00-04:00",
          "day": 1,
          "month": 11,
          "year": 2011
         },
         {
          "counts": 1,
          "data_type": "Repository",
          "date": "2011-12-01T00:00:00-05:00",
          "day": 1,
          "month": 12,
          "year": 2011
         },
         {
          "counts": 1,
          "data_type": "Repository",
          "date": "2012-01-01T00:00:00-05:00",
          "day": 1,
          "month": 1,
          "year": 2012
         },
         {
          "counts": 2,
          "data_type": "Repository",
          "date": "2012-02-01T00:00:00-05:00",
          "day": 1,
          "month": 2,
          "year": 2012
         },
         {
          "counts": 1,
          "data_type": "Repository",
          "date": "2012-03-01T00:00:00-05:00",
          "day": 1,
          "month": 3,
          "year": 2012
         },
         {
          "counts": 3,
          "data_type": "Repository",
          "date": "2012-04-01T00:00:00-04:00",
          "day": 1,
          "month": 4,
          "year": 2012
         },
         {
          "counts": 3,
          "data_type": "Repository",
          "date": "2012-08-01T00:00:00-04:00",
          "day": 1,
          "month": 8,
          "year": 2012
         },
         {
          "counts": 2,
          "data_type": "Repository",
          "date": "2012-09-01T00:00:00-04:00",
          "day": 1,
          "month": 9,
          "year": 2012
         },
         {
          "counts": 1,
          "data_type": "Repository",
          "date": "2012-10-01T00:00:00-04:00",
          "day": 1,
          "month": 10,
          "year": 2012
         },
         {
          "counts": 3,
          "data_type": "Repository",
          "date": "2012-11-01T00:00:00-04:00",
          "day": 1,
          "month": 11,
          "year": 2012
         },
         {
          "counts": 1,
          "data_type": "Repository",
          "date": "2012-12-01T00:00:00-05:00",
          "day": 1,
          "month": 12,
          "year": 2012
         },
         {
          "counts": 4,
          "data_type": "Repository",
          "date": "2013-01-01T00:00:00-05:00",
          "day": 1,
          "month": 1,
          "year": 2013
         },
         {
          "counts": 1,
          "data_type": "Repository",
          "date": "2013-02-01T00:00:00-05:00",
          "day": 1,
          "month": 2,
          "year": 2013
         },
         {
          "counts": 2,
          "data_type": "Repository",
          "date": "2013-03-01T00:00:00-05:00",
          "day": 1,
          "month": 3,
          "year": 2013
         },
         {
          "counts": 2,
          "data_type": "Repository",
          "date": "2013-04-01T00:00:00-04:00",
          "day": 1,
          "month": 4,
          "year": 2013
         },
         {
          "counts": 2,
          "data_type": "Repository",
          "date": "2013-05-01T00:00:00-04:00",
          "day": 1,
          "month": 5,
          "year": 2013
         },
         {
          "counts": 2,
          "data_type": "Repository",
          "date": "2013-06-01T00:00:00-04:00",
          "day": 1,
          "month": 6,
          "year": 2013
         },
         {
          "counts": 2,
          "data_type": "Repository",
          "date": "2013-07-01T00:00:00-04:00",
          "day": 1,
          "month": 7,
          "year": 2013
         },
         {
          "counts": 2,
          "data_type": "Repository",
          "date": "2013-08-01T00:00:00-04:00",
          "day": 1,
          "month": 8,
          "year": 2013
         },
         {
          "counts": 1,
          "data_type": "Repository",
          "date": "2013-09-01T00:00:00-04:00",
          "day": 1,
          "month": 9,
          "year": 2013
         },
         {
          "counts": 1,
          "data_type": "Repository",
          "date": "2013-10-01T00:00:00-04:00",
          "day": 1,
          "month": 10,
          "year": 2013
         },
         {
          "counts": 1,
          "data_type": "Repository",
          "date": "2013-11-01T00:00:00-04:00",
          "day": 1,
          "month": 11,
          "year": 2013
         },
         {
          "counts": 4,
          "data_type": "Repository",
          "date": "2013-12-01T00:00:00-05:00",
          "day": 1,
          "month": 12,
          "year": 2013
         },
         {
          "counts": 2,
          "data_type": "Repository",
          "date": "2014-01-01T00:00:00-05:00",
          "day": 1,
          "month": 1,
          "year": 2014
         },
         {
          "counts": 8,
          "data_type": "Repository",
          "date": "2014-02-01T00:00:00-05:00",
          "day": 1,
          "month": 2,
          "year": 2014
         },
         {
          "counts": 2,
          "data_type": "Repository",
          "date": "2014-03-01T00:00:00-05:00",
          "day": 1,
          "month": 3,
          "year": 2014
         },
         {
          "counts": 4,
          "data_type": "Repository",
          "date": "2014-04-01T00:00:00-04:00",
          "day": 1,
          "month": 4,
          "year": 2014
         },
         {
          "counts": 7,
          "data_type": "Repository",
          "date": "2014-05-01T00:00:00-04:00",
          "day": 1,
          "month": 5,
          "year": 2014
         },
         {
          "counts": 2,
          "data_type": "Repository",
          "date": "2014-06-01T00:00:00-04:00",
          "day": 1,
          "month": 6,
          "year": 2014
         },
         {
          "counts": 5,
          "data_type": "Repository",
          "date": "2014-07-01T00:00:00-04:00",
          "day": 1,
          "month": 7,
          "year": 2014
         },
         {
          "counts": 6,
          "data_type": "Repository",
          "date": "2014-08-01T00:00:00-04:00",
          "day": 1,
          "month": 8,
          "year": 2014
         },
         {
          "counts": 3,
          "data_type": "Repository",
          "date": "2014-09-01T00:00:00-04:00",
          "day": 1,
          "month": 9,
          "year": 2014
         },
         {
          "counts": 3,
          "data_type": "Repository",
          "date": "2014-10-01T00:00:00-04:00",
          "day": 1,
          "month": 10,
          "year": 2014
         },
         {
          "counts": 7,
          "data_type": "Repository",
          "date": "2014-11-01T00:00:00-04:00",
          "day": 1,
          "month": 11,
          "year": 2014
         },
         {
          "counts": 7,
          "data_type": "Repository",
          "date": "2014-12-01T00:00:00-05:00",
          "day": 1,
          "month": 12,
          "year": 2014
         },
         {
          "counts": 8,
          "data_type": "Repository",
          "date": "2015-01-01T00:00:00-05:00",
          "day": 1,
          "month": 1,
          "year": 2015
         },
         {
          "counts": 5,
          "data_type": "Repository",
          "date": "2015-02-01T00:00:00-05:00",
          "day": 1,
          "month": 2,
          "year": 2015
         },
         {
          "counts": 5,
          "data_type": "Repository",
          "date": "2015-03-01T00:00:00-05:00",
          "day": 1,
          "month": 3,
          "year": 2015
         },
         {
          "counts": 6,
          "data_type": "Repository",
          "date": "2015-04-01T00:00:00-04:00",
          "day": 1,
          "month": 4,
          "year": 2015
         },
         {
          "counts": 7,
          "data_type": "Repository",
          "date": "2015-05-01T00:00:00-04:00",
          "day": 1,
          "month": 5,
          "year": 2015
         },
         {
          "counts": 8,
          "data_type": "Repository",
          "date": "2015-06-01T00:00:00-04:00",
          "day": 1,
          "month": 6,
          "year": 2015
         },
         {
          "counts": 12,
          "data_type": "Repository",
          "date": "2015-07-01T00:00:00-04:00",
          "day": 1,
          "month": 7,
          "year": 2015
         },
         {
          "counts": 9,
          "data_type": "Repository",
          "date": "2015-08-01T00:00:00-04:00",
          "day": 1,
          "month": 8,
          "year": 2015
         },
         {
          "counts": 8,
          "data_type": "Repository",
          "date": "2015-09-01T00:00:00-04:00",
          "day": 1,
          "month": 9,
          "year": 2015
         },
         {
          "counts": 6,
          "data_type": "Repository",
          "date": "2015-10-01T00:00:00-04:00",
          "day": 1,
          "month": 10,
          "year": 2015
         },
         {
          "counts": 6,
          "data_type": "Repository",
          "date": "2015-11-01T00:00:00-04:00",
          "day": 1,
          "month": 11,
          "year": 2015
         },
         {
          "counts": 11,
          "data_type": "Repository",
          "date": "2015-12-01T00:00:00-05:00",
          "day": 1,
          "month": 12,
          "year": 2015
         },
         {
          "counts": 12,
          "data_type": "Repository",
          "date": "2016-01-01T00:00:00-05:00",
          "day": 1,
          "month": 1,
          "year": 2016
         },
         {
          "counts": 5,
          "data_type": "Repository",
          "date": "2016-02-01T00:00:00-05:00",
          "day": 1,
          "month": 2,
          "year": 2016
         },
         {
          "counts": 6,
          "data_type": "Repository",
          "date": "2016-03-01T00:00:00-05:00",
          "day": 1,
          "month": 3,
          "year": 2016
         },
         {
          "counts": 8,
          "data_type": "Repository",
          "date": "2016-04-01T00:00:00-04:00",
          "day": 1,
          "month": 4,
          "year": 2016
         },
         {
          "counts": 14,
          "data_type": "Repository",
          "date": "2016-05-01T00:00:00-04:00",
          "day": 1,
          "month": 5,
          "year": 2016
         },
         {
          "counts": 8,
          "data_type": "Repository",
          "date": "2016-06-01T00:00:00-04:00",
          "day": 1,
          "month": 6,
          "year": 2016
         },
         {
          "counts": 9,
          "data_type": "Repository",
          "date": "2016-07-01T00:00:00-04:00",
          "day": 1,
          "month": 7,
          "year": 2016
         },
         {
          "counts": 8,
          "data_type": "Repository",
          "date": "2016-08-01T00:00:00-04:00",
          "day": 1,
          "month": 8,
          "year": 2016
         },
         {
          "counts": 13,
          "data_type": "Repository",
          "date": "2016-09-01T00:00:00-04:00",
          "day": 1,
          "month": 9,
          "year": 2016
         },
         {
          "counts": 9,
          "data_type": "Repository",
          "date": "2016-10-01T00:00:00-04:00",
          "day": 1,
          "month": 10,
          "year": 2016
         },
         {
          "counts": 13,
          "data_type": "Repository",
          "date": "2016-11-01T00:00:00-04:00",
          "day": 1,
          "month": 11,
          "year": 2016
         },
         {
          "counts": 13,
          "data_type": "Repository",
          "date": "2016-12-01T00:00:00-05:00",
          "day": 1,
          "month": 12,
          "year": 2016
         },
         {
          "counts": 17,
          "data_type": "Repository",
          "date": "2017-01-01T00:00:00-05:00",
          "day": 1,
          "month": 1,
          "year": 2017
         },
         {
          "counts": 25,
          "data_type": "Repository",
          "date": "2017-02-01T00:00:00-05:00",
          "day": 1,
          "month": 2,
          "year": 2017
         },
         {
          "counts": 22,
          "data_type": "Repository",
          "date": "2017-03-01T00:00:00-05:00",
          "day": 1,
          "month": 3,
          "year": 2017
         },
         {
          "counts": 10,
          "data_type": "Repository",
          "date": "2017-04-01T00:00:00-04:00",
          "day": 1,
          "month": 4,
          "year": 2017
         },
         {
          "counts": 15,
          "data_type": "Repository",
          "date": "2017-05-01T00:00:00-04:00",
          "day": 1,
          "month": 5,
          "year": 2017
         },
         {
          "counts": 11,
          "data_type": "Repository",
          "date": "2017-06-01T00:00:00-04:00",
          "day": 1,
          "month": 6,
          "year": 2017
         },
         {
          "counts": 23,
          "data_type": "Repository",
          "date": "2017-07-01T00:00:00-04:00",
          "day": 1,
          "month": 7,
          "year": 2017
         },
         {
          "counts": 23,
          "data_type": "Repository",
          "date": "2017-08-01T00:00:00-04:00",
          "day": 1,
          "month": 8,
          "year": 2017
         },
         {
          "counts": 41,
          "data_type": "Repository",
          "date": "2017-09-01T00:00:00-04:00",
          "day": 1,
          "month": 9,
          "year": 2017
         },
         {
          "counts": 12,
          "data_type": "Repository",
          "date": "2017-10-01T00:00:00-04:00",
          "day": 1,
          "month": 10,
          "year": 2017
         },
         {
          "counts": 30,
          "data_type": "Repository",
          "date": "2017-11-01T00:00:00-04:00",
          "day": 1,
          "month": 11,
          "year": 2017
         },
         {
          "counts": 12,
          "data_type": "Repository",
          "date": "2017-12-01T00:00:00-05:00",
          "day": 1,
          "month": 12,
          "year": 2017
         },
         {
          "counts": 22,
          "data_type": "Repository",
          "date": "2018-01-01T00:00:00-05:00",
          "day": 1,
          "month": 1,
          "year": 2018
         },
         {
          "counts": 30,
          "data_type": "Repository",
          "date": "2018-02-01T00:00:00-05:00",
          "day": 1,
          "month": 2,
          "year": 2018
         },
         {
          "counts": 27,
          "data_type": "Repository",
          "date": "2018-03-01T00:00:00-05:00",
          "day": 1,
          "month": 3,
          "year": 2018
         },
         {
          "counts": 17,
          "data_type": "Repository",
          "date": "2018-04-01T00:00:00-04:00",
          "day": 1,
          "month": 4,
          "year": 2018
         },
         {
          "counts": 29,
          "data_type": "Repository",
          "date": "2018-05-01T00:00:00-04:00",
          "day": 1,
          "month": 5,
          "year": 2018
         },
         {
          "counts": 19,
          "data_type": "Repository",
          "date": "2018-06-01T00:00:00-04:00",
          "day": 1,
          "month": 6,
          "year": 2018
         },
         {
          "counts": 26,
          "data_type": "Repository",
          "date": "2018-07-01T00:00:00-04:00",
          "day": 1,
          "month": 7,
          "year": 2018
         },
         {
          "counts": 31,
          "data_type": "Repository",
          "date": "2018-08-01T00:00:00-04:00",
          "day": 1,
          "month": 8,
          "year": 2018
         },
         {
          "counts": 29,
          "data_type": "Repository",
          "date": "2018-09-01T00:00:00-04:00",
          "day": 1,
          "month": 9,
          "year": 2018
         },
         {
          "counts": 23,
          "data_type": "Repository",
          "date": "2018-10-01T00:00:00-04:00",
          "day": 1,
          "month": 10,
          "year": 2018
         },
         {
          "counts": 31,
          "data_type": "Repository",
          "date": "2018-11-01T00:00:00-04:00",
          "day": 1,
          "month": 11,
          "year": 2018
         },
         {
          "counts": 19,
          "data_type": "Repository",
          "date": "2018-12-01T00:00:00-05:00",
          "day": 1,
          "month": 12,
          "year": 2018
         },
         {
          "counts": 27,
          "data_type": "Repository",
          "date": "2019-01-01T00:00:00-05:00",
          "day": 1,
          "month": 1,
          "year": 2019
         },
         {
          "counts": 25,
          "data_type": "Repository",
          "date": "2019-02-01T00:00:00-05:00",
          "day": 1,
          "month": 2,
          "year": 2019
         },
         {
          "counts": 28,
          "data_type": "Repository",
          "date": "2019-03-01T00:00:00-05:00",
          "day": 1,
          "month": 3,
          "year": 2019
         },
         {
          "counts": 21,
          "data_type": "Repository",
          "date": "2019-04-01T00:00:00-04:00",
          "day": 1,
          "month": 4,
          "year": 2019
         },
         {
          "counts": 33,
          "data_type": "Repository",
          "date": "2019-05-01T00:00:00-04:00",
          "day": 1,
          "month": 5,
          "year": 2019
         },
         {
          "counts": 20,
          "data_type": "Repository",
          "date": "2019-06-01T00:00:00-04:00",
          "day": 1,
          "month": 6,
          "year": 2019
         },
         {
          "counts": 25,
          "data_type": "Repository",
          "date": "2019-07-01T00:00:00-04:00",
          "day": 1,
          "month": 7,
          "year": 2019
         },
         {
          "counts": 19,
          "data_type": "Repository",
          "date": "2019-08-01T00:00:00-04:00",
          "day": 1,
          "month": 8,
          "year": 2019
         },
         {
          "counts": 24,
          "data_type": "Repository",
          "date": "2019-09-01T00:00:00-04:00",
          "day": 1,
          "month": 9,
          "year": 2019
         },
         {
          "counts": 35,
          "data_type": "Repository",
          "date": "2019-10-01T00:00:00-04:00",
          "day": 1,
          "month": 10,
          "year": 2019
         },
         {
          "counts": 24,
          "data_type": "Repository",
          "date": "2019-11-01T00:00:00-04:00",
          "day": 1,
          "month": 11,
          "year": 2019
         },
         {
          "counts": 15,
          "data_type": "Repository",
          "date": "2019-12-01T00:00:00-05:00",
          "day": 1,
          "month": 12,
          "year": 2019
         },
         {
          "counts": 36,
          "data_type": "Repository",
          "date": "2020-01-01T00:00:00-05:00",
          "day": 1,
          "month": 1,
          "year": 2020
         },
         {
          "counts": 31,
          "data_type": "Repository",
          "date": "2020-02-01T00:00:00-05:00",
          "day": 1,
          "month": 2,
          "year": 2020
         },
         {
          "counts": 31,
          "data_type": "Repository",
          "date": "2020-03-01T00:00:00-05:00",
          "day": 1,
          "month": 3,
          "year": 2020
         },
         {
          "counts": 24,
          "data_type": "Repository",
          "date": "2020-04-01T00:00:00-04:00",
          "day": 1,
          "month": 4,
          "year": 2020
         },
         {
          "counts": 17,
          "data_type": "Repository",
          "date": "2020-05-01T00:00:00-04:00",
          "day": 1,
          "month": 5,
          "year": 2020
         },
         {
          "counts": 20,
          "data_type": "Repository",
          "date": "2020-06-01T00:00:00-04:00",
          "day": 1,
          "month": 6,
          "year": 2020
         },
         {
          "counts": 29,
          "data_type": "Repository",
          "date": "2020-07-01T00:00:00-04:00",
          "day": 1,
          "month": 7,
          "year": 2020
         },
         {
          "counts": 25,
          "data_type": "Repository",
          "date": "2020-08-01T00:00:00-04:00",
          "day": 1,
          "month": 8,
          "year": 2020
         },
         {
          "counts": 29,
          "data_type": "Repository",
          "date": "2020-09-01T00:00:00-04:00",
          "day": 1,
          "month": 9,
          "year": 2020
         },
         {
          "counts": 20,
          "data_type": "Repository",
          "date": "2020-10-01T00:00:00-04:00",
          "day": 1,
          "month": 10,
          "year": 2020
         },
         {
          "counts": 23,
          "data_type": "Repository",
          "date": "2020-11-01T00:00:00-04:00",
          "day": 1,
          "month": 11,
          "year": 2020
         },
         {
          "counts": 36,
          "data_type": "Repository",
          "date": "2020-12-01T00:00:00-05:00",
          "day": 1,
          "month": 12,
          "year": 2020
         },
         {
          "counts": 25,
          "data_type": "Repository",
          "date": "2021-01-01T00:00:00-05:00",
          "day": 1,
          "month": 1,
          "year": 2021
         },
         {
          "counts": 26,
          "data_type": "Repository",
          "date": "2021-02-01T00:00:00-05:00",
          "day": 1,
          "month": 2,
          "year": 2021
         },
         {
          "counts": 33,
          "data_type": "Repository",
          "date": "2021-03-01T00:00:00-05:00",
          "day": 1,
          "month": 3,
          "year": 2021
         },
         {
          "counts": 31,
          "data_type": "Repository",
          "date": "2021-04-01T00:00:00-04:00",
          "day": 1,
          "month": 4,
          "year": 2021
         },
         {
          "counts": 29,
          "data_type": "Repository",
          "date": "2021-05-01T00:00:00-04:00",
          "day": 1,
          "month": 5,
          "year": 2021
         },
         {
          "counts": 50,
          "data_type": "Repository",
          "date": "2021-06-01T00:00:00-04:00",
          "day": 1,
          "month": 6,
          "year": 2021
         },
         {
          "counts": 18,
          "data_type": "Repository",
          "date": "2021-07-01T00:00:00-04:00",
          "day": 1,
          "month": 7,
          "year": 2021
         },
         {
          "counts": 27,
          "data_type": "Repository",
          "date": "2021-08-01T00:00:00-04:00",
          "day": 1,
          "month": 8,
          "year": 2021
         },
         {
          "counts": 28,
          "data_type": "Repository",
          "date": "2021-09-01T00:00:00-04:00",
          "day": 1,
          "month": 9,
          "year": 2021
         },
         {
          "counts": 24,
          "data_type": "Repository",
          "date": "2021-10-01T00:00:00-04:00",
          "day": 1,
          "month": 10,
          "year": 2021
         },
         {
          "counts": 34,
          "data_type": "Repository",
          "date": "2021-11-01T00:00:00-04:00",
          "day": 1,
          "month": 11,
          "year": 2021
         },
         {
          "counts": 26,
          "data_type": "Repository",
          "date": "2021-12-01T00:00:00-05:00",
          "day": 1,
          "month": 12,
          "year": 2021
         },
         {
          "counts": 35,
          "data_type": "Repository",
          "date": "2022-01-01T00:00:00-05:00",
          "day": 1,
          "month": 1,
          "year": 2022
         },
         {
          "counts": 27,
          "data_type": "Repository",
          "date": "2022-02-01T00:00:00-05:00",
          "day": 1,
          "month": 2,
          "year": 2022
         },
         {
          "counts": 34,
          "data_type": "Repository",
          "date": "2022-03-01T00:00:00-05:00",
          "day": 1,
          "month": 3,
          "year": 2022
         },
         {
          "counts": 28,
          "data_type": "Repository",
          "date": "2022-04-01T00:00:00-04:00",
          "day": 1,
          "month": 4,
          "year": 2022
         },
         {
          "counts": 53,
          "data_type": "Repository",
          "date": "2022-05-01T00:00:00-04:00",
          "day": 1,
          "month": 5,
          "year": 2022
         },
         {
          "counts": 42,
          "data_type": "Repository",
          "date": "2022-06-01T00:00:00-04:00",
          "day": 1,
          "month": 6,
          "year": 2022
         },
         {
          "counts": 33,
          "data_type": "Repository",
          "date": "2022-07-01T00:00:00-04:00",
          "day": 1,
          "month": 7,
          "year": 2022
         },
         {
          "counts": 34,
          "data_type": "Repository",
          "date": "2022-08-01T00:00:00-04:00",
          "day": 1,
          "month": 8,
          "year": 2022
         },
         {
          "counts": 33,
          "data_type": "Repository",
          "date": "2022-09-01T00:00:00-04:00",
          "day": 1,
          "month": 9,
          "year": 2022
         },
         {
          "counts": 34,
          "data_type": "Repository",
          "date": "2022-10-01T00:00:00-04:00",
          "day": 1,
          "month": 10,
          "year": 2022
         },
         {
          "counts": 35,
          "data_type": "Repository",
          "date": "2022-11-01T00:00:00-04:00",
          "day": 1,
          "month": 11,
          "year": 2022
         },
         {
          "counts": 19,
          "data_type": "Repository",
          "date": "2022-12-01T00:00:00-05:00",
          "day": 1,
          "month": 12,
          "year": 2022
         },
         {
          "counts": 7,
          "data_type": "Repository",
          "date": "2023-01-01T00:00:00-05:00",
          "day": 1,
          "month": 1,
          "year": 2023
         },
         {
          "counts": 20,
          "data_type": "Repository",
          "date": "2023-02-01T00:00:00-05:00",
          "day": 1,
          "month": 2,
          "year": 2023
         },
         {
          "counts": 1,
          "data_type": "Repository",
          "date": "2023-03-01T00:00:00-05:00",
          "day": 1,
          "month": 3,
          "year": 2023
         },
         {
          "counts": 1,
          "data_type": "User",
          "date": "2008-06-01T00:00:00-04:00",
          "day": 1,
          "month": 6,
          "year": 2008
         },
         {
          "counts": 1,
          "data_type": "User",
          "date": "2008-08-01T00:00:00-04:00",
          "day": 1,
          "month": 8,
          "year": 2008
         },
         {
          "counts": 1,
          "data_type": "User",
          "date": "2008-10-01T00:00:00-04:00",
          "day": 1,
          "month": 10,
          "year": 2008
         },
         {
          "counts": 2,
          "data_type": "User",
          "date": "2009-10-01T00:00:00-04:00",
          "day": 1,
          "month": 10,
          "year": 2009
         },
         {
          "counts": 1,
          "data_type": "User",
          "date": "2010-01-01T00:00:00-05:00",
          "day": 1,
          "month": 1,
          "year": 2010
         },
         {
          "counts": 1,
          "data_type": "User",
          "date": "2010-02-01T00:00:00-05:00",
          "day": 1,
          "month": 2,
          "year": 2010
         },
         {
          "counts": 2,
          "data_type": "User",
          "date": "2010-03-01T00:00:00-05:00",
          "day": 1,
          "month": 3,
          "year": 2010
         },
         {
          "counts": 1,
          "data_type": "User",
          "date": "2010-05-01T00:00:00-04:00",
          "day": 1,
          "month": 5,
          "year": 2010
         },
         {
          "counts": 1,
          "data_type": "User",
          "date": "2010-06-01T00:00:00-04:00",
          "day": 1,
          "month": 6,
          "year": 2010
         },
         {
          "counts": 1,
          "data_type": "User",
          "date": "2010-07-01T00:00:00-04:00",
          "day": 1,
          "month": 7,
          "year": 2010
         },
         {
          "counts": 1,
          "data_type": "User",
          "date": "2010-08-01T00:00:00-04:00",
          "day": 1,
          "month": 8,
          "year": 2010
         },
         {
          "counts": 2,
          "data_type": "User",
          "date": "2010-09-01T00:00:00-04:00",
          "day": 1,
          "month": 9,
          "year": 2010
         },
         {
          "counts": 1,
          "data_type": "User",
          "date": "2010-12-01T00:00:00-05:00",
          "day": 1,
          "month": 12,
          "year": 2010
         },
         {
          "counts": 1,
          "data_type": "User",
          "date": "2011-02-01T00:00:00-05:00",
          "day": 1,
          "month": 2,
          "year": 2011
         },
         {
          "counts": 2,
          "data_type": "User",
          "date": "2011-03-01T00:00:00-05:00",
          "day": 1,
          "month": 3,
          "year": 2011
         },
         {
          "counts": 2,
          "data_type": "User",
          "date": "2011-04-01T00:00:00-04:00",
          "day": 1,
          "month": 4,
          "year": 2011
         },
         {
          "counts": 1,
          "data_type": "User",
          "date": "2011-05-01T00:00:00-04:00",
          "day": 1,
          "month": 5,
          "year": 2011
         },
         {
          "counts": 2,
          "data_type": "User",
          "date": "2011-06-01T00:00:00-04:00",
          "day": 1,
          "month": 6,
          "year": 2011
         },
         {
          "counts": 1,
          "data_type": "User",
          "date": "2011-07-01T00:00:00-04:00",
          "day": 1,
          "month": 7,
          "year": 2011
         },
         {
          "counts": 3,
          "data_type": "User",
          "date": "2011-08-01T00:00:00-04:00",
          "day": 1,
          "month": 8,
          "year": 2011
         },
         {
          "counts": 2,
          "data_type": "User",
          "date": "2011-11-01T00:00:00-04:00",
          "day": 1,
          "month": 11,
          "year": 2011
         },
         {
          "counts": 1,
          "data_type": "User",
          "date": "2011-12-01T00:00:00-05:00",
          "day": 1,
          "month": 12,
          "year": 2011
         },
         {
          "counts": 1,
          "data_type": "User",
          "date": "2012-02-01T00:00:00-05:00",
          "day": 1,
          "month": 2,
          "year": 2012
         },
         {
          "counts": 1,
          "data_type": "User",
          "date": "2012-03-01T00:00:00-05:00",
          "day": 1,
          "month": 3,
          "year": 2012
         },
         {
          "counts": 1,
          "data_type": "User",
          "date": "2012-05-01T00:00:00-04:00",
          "day": 1,
          "month": 5,
          "year": 2012
         },
         {
          "counts": 1,
          "data_type": "User",
          "date": "2012-06-01T00:00:00-04:00",
          "day": 1,
          "month": 6,
          "year": 2012
         },
         {
          "counts": 1,
          "data_type": "User",
          "date": "2012-07-01T00:00:00-04:00",
          "day": 1,
          "month": 7,
          "year": 2012
         },
         {
          "counts": 1,
          "data_type": "User",
          "date": "2012-09-01T00:00:00-04:00",
          "day": 1,
          "month": 9,
          "year": 2012
         },
         {
          "counts": 5,
          "data_type": "User",
          "date": "2012-10-01T00:00:00-04:00",
          "day": 1,
          "month": 10,
          "year": 2012
         },
         {
          "counts": 1,
          "data_type": "User",
          "date": "2012-11-01T00:00:00-04:00",
          "day": 1,
          "month": 11,
          "year": 2012
         },
         {
          "counts": 1,
          "data_type": "User",
          "date": "2012-12-01T00:00:00-05:00",
          "day": 1,
          "month": 12,
          "year": 2012
         },
         {
          "counts": 2,
          "data_type": "User",
          "date": "2013-01-01T00:00:00-05:00",
          "day": 1,
          "month": 1,
          "year": 2013
         },
         {
          "counts": 4,
          "data_type": "User",
          "date": "2013-02-01T00:00:00-05:00",
          "day": 1,
          "month": 2,
          "year": 2013
         },
         {
          "counts": 4,
          "data_type": "User",
          "date": "2013-03-01T00:00:00-05:00",
          "day": 1,
          "month": 3,
          "year": 2013
         },
         {
          "counts": 2,
          "data_type": "User",
          "date": "2013-04-01T00:00:00-04:00",
          "day": 1,
          "month": 4,
          "year": 2013
         },
         {
          "counts": 5,
          "data_type": "User",
          "date": "2013-05-01T00:00:00-04:00",
          "day": 1,
          "month": 5,
          "year": 2013
         },
         {
          "counts": 3,
          "data_type": "User",
          "date": "2013-06-01T00:00:00-04:00",
          "day": 1,
          "month": 6,
          "year": 2013
         },
         {
          "counts": 2,
          "data_type": "User",
          "date": "2013-07-01T00:00:00-04:00",
          "day": 1,
          "month": 7,
          "year": 2013
         },
         {
          "counts": 2,
          "data_type": "User",
          "date": "2013-08-01T00:00:00-04:00",
          "day": 1,
          "month": 8,
          "year": 2013
         },
         {
          "counts": 5,
          "data_type": "User",
          "date": "2013-09-01T00:00:00-04:00",
          "day": 1,
          "month": 9,
          "year": 2013
         },
         {
          "counts": 3,
          "data_type": "User",
          "date": "2013-10-01T00:00:00-04:00",
          "day": 1,
          "month": 10,
          "year": 2013
         },
         {
          "counts": 2,
          "data_type": "User",
          "date": "2013-11-01T00:00:00-04:00",
          "day": 1,
          "month": 11,
          "year": 2013
         },
         {
          "counts": 3,
          "data_type": "User",
          "date": "2014-01-01T00:00:00-05:00",
          "day": 1,
          "month": 1,
          "year": 2014
         },
         {
          "counts": 2,
          "data_type": "User",
          "date": "2014-02-01T00:00:00-05:00",
          "day": 1,
          "month": 2,
          "year": 2014
         },
         {
          "counts": 1,
          "data_type": "User",
          "date": "2014-03-01T00:00:00-05:00",
          "day": 1,
          "month": 3,
          "year": 2014
         },
         {
          "counts": 3,
          "data_type": "User",
          "date": "2014-04-01T00:00:00-04:00",
          "day": 1,
          "month": 4,
          "year": 2014
         },
         {
          "counts": 4,
          "data_type": "User",
          "date": "2014-05-01T00:00:00-04:00",
          "day": 1,
          "month": 5,
          "year": 2014
         },
         {
          "counts": 4,
          "data_type": "User",
          "date": "2014-06-01T00:00:00-04:00",
          "day": 1,
          "month": 6,
          "year": 2014
         },
         {
          "counts": 1,
          "data_type": "User",
          "date": "2014-07-01T00:00:00-04:00",
          "day": 1,
          "month": 7,
          "year": 2014
         },
         {
          "counts": 4,
          "data_type": "User",
          "date": "2014-08-01T00:00:00-04:00",
          "day": 1,
          "month": 8,
          "year": 2014
         },
         {
          "counts": 3,
          "data_type": "User",
          "date": "2014-09-01T00:00:00-04:00",
          "day": 1,
          "month": 9,
          "year": 2014
         },
         {
          "counts": 2,
          "data_type": "User",
          "date": "2014-10-01T00:00:00-04:00",
          "day": 1,
          "month": 10,
          "year": 2014
         },
         {
          "counts": 3,
          "data_type": "User",
          "date": "2014-11-01T00:00:00-04:00",
          "day": 1,
          "month": 11,
          "year": 2014
         },
         {
          "counts": 3,
          "data_type": "User",
          "date": "2014-12-01T00:00:00-05:00",
          "day": 1,
          "month": 12,
          "year": 2014
         },
         {
          "counts": 3,
          "data_type": "User",
          "date": "2015-01-01T00:00:00-05:00",
          "day": 1,
          "month": 1,
          "year": 2015
         },
         {
          "counts": 3,
          "data_type": "User",
          "date": "2015-02-01T00:00:00-05:00",
          "day": 1,
          "month": 2,
          "year": 2015
         },
         {
          "counts": 6,
          "data_type": "User",
          "date": "2015-03-01T00:00:00-05:00",
          "day": 1,
          "month": 3,
          "year": 2015
         },
         {
          "counts": 2,
          "data_type": "User",
          "date": "2015-04-01T00:00:00-04:00",
          "day": 1,
          "month": 4,
          "year": 2015
         },
         {
          "counts": 4,
          "data_type": "User",
          "date": "2015-05-01T00:00:00-04:00",
          "day": 1,
          "month": 5,
          "year": 2015
         },
         {
          "counts": 3,
          "data_type": "User",
          "date": "2015-06-01T00:00:00-04:00",
          "day": 1,
          "month": 6,
          "year": 2015
         },
         {
          "counts": 4,
          "data_type": "User",
          "date": "2015-07-01T00:00:00-04:00",
          "day": 1,
          "month": 7,
          "year": 2015
         },
         {
          "counts": 3,
          "data_type": "User",
          "date": "2015-10-01T00:00:00-04:00",
          "day": 1,
          "month": 10,
          "year": 2015
         },
         {
          "counts": 1,
          "data_type": "User",
          "date": "2015-11-01T00:00:00-04:00",
          "day": 1,
          "month": 11,
          "year": 2015
         },
         {
          "counts": 4,
          "data_type": "User",
          "date": "2015-12-01T00:00:00-05:00",
          "day": 1,
          "month": 12,
          "year": 2015
         },
         {
          "counts": 1,
          "data_type": "User",
          "date": "2016-01-01T00:00:00-05:00",
          "day": 1,
          "month": 1,
          "year": 2016
         },
         {
          "counts": 2,
          "data_type": "User",
          "date": "2016-02-01T00:00:00-05:00",
          "day": 1,
          "month": 2,
          "year": 2016
         },
         {
          "counts": 7,
          "data_type": "User",
          "date": "2016-03-01T00:00:00-05:00",
          "day": 1,
          "month": 3,
          "year": 2016
         },
         {
          "counts": 1,
          "data_type": "User",
          "date": "2016-04-01T00:00:00-04:00",
          "day": 1,
          "month": 4,
          "year": 2016
         },
         {
          "counts": 4,
          "data_type": "User",
          "date": "2016-05-01T00:00:00-04:00",
          "day": 1,
          "month": 5,
          "year": 2016
         },
         {
          "counts": 3,
          "data_type": "User",
          "date": "2016-06-01T00:00:00-04:00",
          "day": 1,
          "month": 6,
          "year": 2016
         },
         {
          "counts": 3,
          "data_type": "User",
          "date": "2016-07-01T00:00:00-04:00",
          "day": 1,
          "month": 7,
          "year": 2016
         },
         {
          "counts": 6,
          "data_type": "User",
          "date": "2016-08-01T00:00:00-04:00",
          "day": 1,
          "month": 8,
          "year": 2016
         },
         {
          "counts": 8,
          "data_type": "User",
          "date": "2016-09-01T00:00:00-04:00",
          "day": 1,
          "month": 9,
          "year": 2016
         },
         {
          "counts": 7,
          "data_type": "User",
          "date": "2016-10-01T00:00:00-04:00",
          "day": 1,
          "month": 10,
          "year": 2016
         },
         {
          "counts": 4,
          "data_type": "User",
          "date": "2016-11-01T00:00:00-04:00",
          "day": 1,
          "month": 11,
          "year": 2016
         },
         {
          "counts": 7,
          "data_type": "User",
          "date": "2016-12-01T00:00:00-05:00",
          "day": 1,
          "month": 12,
          "year": 2016
         },
         {
          "counts": 3,
          "data_type": "User",
          "date": "2017-01-01T00:00:00-05:00",
          "day": 1,
          "month": 1,
          "year": 2017
         },
         {
          "counts": 5,
          "data_type": "User",
          "date": "2017-02-01T00:00:00-05:00",
          "day": 1,
          "month": 2,
          "year": 2017
         },
         {
          "counts": 9,
          "data_type": "User",
          "date": "2017-03-01T00:00:00-05:00",
          "day": 1,
          "month": 3,
          "year": 2017
         },
         {
          "counts": 4,
          "data_type": "User",
          "date": "2017-04-01T00:00:00-04:00",
          "day": 1,
          "month": 4,
          "year": 2017
         },
         {
          "counts": 5,
          "data_type": "User",
          "date": "2017-05-01T00:00:00-04:00",
          "day": 1,
          "month": 5,
          "year": 2017
         },
         {
          "counts": 13,
          "data_type": "User",
          "date": "2017-06-01T00:00:00-04:00",
          "day": 1,
          "month": 6,
          "year": 2017
         },
         {
          "counts": 5,
          "data_type": "User",
          "date": "2017-07-01T00:00:00-04:00",
          "day": 1,
          "month": 7,
          "year": 2017
         },
         {
          "counts": 4,
          "data_type": "User",
          "date": "2017-08-01T00:00:00-04:00",
          "day": 1,
          "month": 8,
          "year": 2017
         },
         {
          "counts": 6,
          "data_type": "User",
          "date": "2017-09-01T00:00:00-04:00",
          "day": 1,
          "month": 9,
          "year": 2017
         },
         {
          "counts": 7,
          "data_type": "User",
          "date": "2017-10-01T00:00:00-04:00",
          "day": 1,
          "month": 10,
          "year": 2017
         },
         {
          "counts": 15,
          "data_type": "User",
          "date": "2017-11-01T00:00:00-04:00",
          "day": 1,
          "month": 11,
          "year": 2017
         },
         {
          "counts": 2,
          "data_type": "User",
          "date": "2017-12-01T00:00:00-05:00",
          "day": 1,
          "month": 12,
          "year": 2017
         },
         {
          "counts": 6,
          "data_type": "User",
          "date": "2018-01-01T00:00:00-05:00",
          "day": 1,
          "month": 1,
          "year": 2018
         },
         {
          "counts": 6,
          "data_type": "User",
          "date": "2018-02-01T00:00:00-05:00",
          "day": 1,
          "month": 2,
          "year": 2018
         },
         {
          "counts": 10,
          "data_type": "User",
          "date": "2018-03-01T00:00:00-05:00",
          "day": 1,
          "month": 3,
          "year": 2018
         },
         {
          "counts": 12,
          "data_type": "User",
          "date": "2018-04-01T00:00:00-04:00",
          "day": 1,
          "month": 4,
          "year": 2018
         },
         {
          "counts": 6,
          "data_type": "User",
          "date": "2018-05-01T00:00:00-04:00",
          "day": 1,
          "month": 5,
          "year": 2018
         },
         {
          "counts": 4,
          "data_type": "User",
          "date": "2018-06-01T00:00:00-04:00",
          "day": 1,
          "month": 6,
          "year": 2018
         },
         {
          "counts": 7,
          "data_type": "User",
          "date": "2018-07-01T00:00:00-04:00",
          "day": 1,
          "month": 7,
          "year": 2018
         },
         {
          "counts": 4,
          "data_type": "User",
          "date": "2018-08-01T00:00:00-04:00",
          "day": 1,
          "month": 8,
          "year": 2018
         },
         {
          "counts": 10,
          "data_type": "User",
          "date": "2018-09-01T00:00:00-04:00",
          "day": 1,
          "month": 9,
          "year": 2018
         },
         {
          "counts": 9,
          "data_type": "User",
          "date": "2018-10-01T00:00:00-04:00",
          "day": 1,
          "month": 10,
          "year": 2018
         },
         {
          "counts": 5,
          "data_type": "User",
          "date": "2018-11-01T00:00:00-04:00",
          "day": 1,
          "month": 11,
          "year": 2018
         },
         {
          "counts": 3,
          "data_type": "User",
          "date": "2018-12-01T00:00:00-05:00",
          "day": 1,
          "month": 12,
          "year": 2018
         },
         {
          "counts": 6,
          "data_type": "User",
          "date": "2019-01-01T00:00:00-05:00",
          "day": 1,
          "month": 1,
          "year": 2019
         },
         {
          "counts": 3,
          "data_type": "User",
          "date": "2019-02-01T00:00:00-05:00",
          "day": 1,
          "month": 2,
          "year": 2019
         },
         {
          "counts": 3,
          "data_type": "User",
          "date": "2019-03-01T00:00:00-05:00",
          "day": 1,
          "month": 3,
          "year": 2019
         },
         {
          "counts": 4,
          "data_type": "User",
          "date": "2019-04-01T00:00:00-04:00",
          "day": 1,
          "month": 4,
          "year": 2019
         },
         {
          "counts": 6,
          "data_type": "User",
          "date": "2019-05-01T00:00:00-04:00",
          "day": 1,
          "month": 5,
          "year": 2019
         },
         {
          "counts": 5,
          "data_type": "User",
          "date": "2019-06-01T00:00:00-04:00",
          "day": 1,
          "month": 6,
          "year": 2019
         },
         {
          "counts": 9,
          "data_type": "User",
          "date": "2019-07-01T00:00:00-04:00",
          "day": 1,
          "month": 7,
          "year": 2019
         },
         {
          "counts": 5,
          "data_type": "User",
          "date": "2019-08-01T00:00:00-04:00",
          "day": 1,
          "month": 8,
          "year": 2019
         },
         {
          "counts": 9,
          "data_type": "User",
          "date": "2019-09-01T00:00:00-04:00",
          "day": 1,
          "month": 9,
          "year": 2019
         },
         {
          "counts": 9,
          "data_type": "User",
          "date": "2019-10-01T00:00:00-04:00",
          "day": 1,
          "month": 10,
          "year": 2019
         },
         {
          "counts": 2,
          "data_type": "User",
          "date": "2019-11-01T00:00:00-04:00",
          "day": 1,
          "month": 11,
          "year": 2019
         },
         {
          "counts": 7,
          "data_type": "User",
          "date": "2019-12-01T00:00:00-05:00",
          "day": 1,
          "month": 12,
          "year": 2019
         },
         {
          "counts": 8,
          "data_type": "User",
          "date": "2020-01-01T00:00:00-05:00",
          "day": 1,
          "month": 1,
          "year": 2020
         },
         {
          "counts": 14,
          "data_type": "User",
          "date": "2020-02-01T00:00:00-05:00",
          "day": 1,
          "month": 2,
          "year": 2020
         },
         {
          "counts": 7,
          "data_type": "User",
          "date": "2020-03-01T00:00:00-05:00",
          "day": 1,
          "month": 3,
          "year": 2020
         },
         {
          "counts": 8,
          "data_type": "User",
          "date": "2020-04-01T00:00:00-04:00",
          "day": 1,
          "month": 4,
          "year": 2020
         },
         {
          "counts": 8,
          "data_type": "User",
          "date": "2020-05-01T00:00:00-04:00",
          "day": 1,
          "month": 5,
          "year": 2020
         },
         {
          "counts": 5,
          "data_type": "User",
          "date": "2020-06-01T00:00:00-04:00",
          "day": 1,
          "month": 6,
          "year": 2020
         },
         {
          "counts": 11,
          "data_type": "User",
          "date": "2020-07-01T00:00:00-04:00",
          "day": 1,
          "month": 7,
          "year": 2020
         },
         {
          "counts": 9,
          "data_type": "User",
          "date": "2020-08-01T00:00:00-04:00",
          "day": 1,
          "month": 8,
          "year": 2020
         },
         {
          "counts": 3,
          "data_type": "User",
          "date": "2020-09-01T00:00:00-04:00",
          "day": 1,
          "month": 9,
          "year": 2020
         },
         {
          "counts": 8,
          "data_type": "User",
          "date": "2020-10-01T00:00:00-04:00",
          "day": 1,
          "month": 10,
          "year": 2020
         },
         {
          "counts": 7,
          "data_type": "User",
          "date": "2020-11-01T00:00:00-04:00",
          "day": 1,
          "month": 11,
          "year": 2020
         },
         {
          "counts": 5,
          "data_type": "User",
          "date": "2020-12-01T00:00:00-05:00",
          "day": 1,
          "month": 12,
          "year": 2020
         },
         {
          "counts": 7,
          "data_type": "User",
          "date": "2021-01-01T00:00:00-05:00",
          "day": 1,
          "month": 1,
          "year": 2021
         },
         {
          "counts": 13,
          "data_type": "User",
          "date": "2021-02-01T00:00:00-05:00",
          "day": 1,
          "month": 2,
          "year": 2021
         },
         {
          "counts": 12,
          "data_type": "User",
          "date": "2021-03-01T00:00:00-05:00",
          "day": 1,
          "month": 3,
          "year": 2021
         },
         {
          "counts": 6,
          "data_type": "User",
          "date": "2021-04-01T00:00:00-04:00",
          "day": 1,
          "month": 4,
          "year": 2021
         },
         {
          "counts": 3,
          "data_type": "User",
          "date": "2021-05-01T00:00:00-04:00",
          "day": 1,
          "month": 5,
          "year": 2021
         },
         {
          "counts": 9,
          "data_type": "User",
          "date": "2021-06-01T00:00:00-04:00",
          "day": 1,
          "month": 6,
          "year": 2021
         },
         {
          "counts": 3,
          "data_type": "User",
          "date": "2021-07-01T00:00:00-04:00",
          "day": 1,
          "month": 7,
          "year": 2021
         },
         {
          "counts": 5,
          "data_type": "User",
          "date": "2021-08-01T00:00:00-04:00",
          "day": 1,
          "month": 8,
          "year": 2021
         },
         {
          "counts": 4,
          "data_type": "User",
          "date": "2021-09-01T00:00:00-04:00",
          "day": 1,
          "month": 9,
          "year": 2021
         },
         {
          "counts": 13,
          "data_type": "User",
          "date": "2021-10-01T00:00:00-04:00",
          "day": 1,
          "month": 10,
          "year": 2021
         },
         {
          "counts": 7,
          "data_type": "User",
          "date": "2021-11-01T00:00:00-04:00",
          "day": 1,
          "month": 11,
          "year": 2021
         },
         {
          "counts": 3,
          "data_type": "User",
          "date": "2021-12-01T00:00:00-05:00",
          "day": 1,
          "month": 12,
          "year": 2021
         },
         {
          "counts": 7,
          "data_type": "User",
          "date": "2022-01-01T00:00:00-05:00",
          "day": 1,
          "month": 1,
          "year": 2022
         },
         {
          "counts": 13,
          "data_type": "User",
          "date": "2022-02-01T00:00:00-05:00",
          "day": 1,
          "month": 2,
          "year": 2022
         },
         {
          "counts": 8,
          "data_type": "User",
          "date": "2022-03-01T00:00:00-05:00",
          "day": 1,
          "month": 3,
          "year": 2022
         },
         {
          "counts": 6,
          "data_type": "User",
          "date": "2022-04-01T00:00:00-04:00",
          "day": 1,
          "month": 4,
          "year": 2022
         },
         {
          "counts": 3,
          "data_type": "User",
          "date": "2022-05-01T00:00:00-04:00",
          "day": 1,
          "month": 5,
          "year": 2022
         },
         {
          "counts": 8,
          "data_type": "User",
          "date": "2022-06-01T00:00:00-04:00",
          "day": 1,
          "month": 6,
          "year": 2022
         },
         {
          "counts": 1,
          "data_type": "User",
          "date": "2022-07-01T00:00:00-04:00",
          "day": 1,
          "month": 7,
          "year": 2022
         },
         {
          "counts": 2,
          "data_type": "User",
          "date": "2022-08-01T00:00:00-04:00",
          "day": 1,
          "month": 8,
          "year": 2022
         },
         {
          "counts": 7,
          "data_type": "User",
          "date": "2022-09-01T00:00:00-04:00",
          "day": 1,
          "month": 9,
          "year": 2022
         },
         {
          "counts": 3,
          "data_type": "User",
          "date": "2022-10-01T00:00:00-04:00",
          "day": 1,
          "month": 10,
          "year": 2022
         },
         {
          "counts": 3,
          "data_type": "User",
          "date": "2022-11-01T00:00:00-04:00",
          "day": 1,
          "month": 11,
          "year": 2022
         },
         {
          "counts": 3,
          "data_type": "User",
          "date": "2022-12-01T00:00:00-05:00",
          "day": 1,
          "month": 12,
          "year": 2022
         }
        ]
       },
       "height": 300,
       "layer": [
        {
         "encoding": {
          "color": {
           "field": "data_type",
           "title": "Type of Entity",
           "type": "nominal"
          },
          "x": {
           "axis": {
            "format": "%Y"
           },
           "field": "date",
           "title": "Date Created",
           "type": "temporal"
          },
          "y": {
           "field": "counts",
           "title": "Counts",
           "type": "quantitative"
          }
         },
         "mark": {
          "interpolate": "basis",
          "type": "line"
         }
        },
        {
         "encoding": {
          "opacity": {
           "value": 0
          },
          "x": {
           "field": "date",
           "type": "temporal"
          }
         },
         "mark": {
          "type": "point"
         },
         "name": "view_4"
        },
        {
         "encoding": {
          "color": {
           "field": "data_type",
           "title": "Type of Entity",
           "type": "nominal"
          },
          "opacity": {
           "condition": {
            "empty": false,
            "param": "param_4",
            "value": 1
           },
           "value": 0
          },
          "x": {
           "axis": {
            "format": "%Y"
           },
           "field": "date",
           "title": "Date Created",
           "type": "temporal"
          },
          "y": {
           "field": "counts",
           "title": "Counts",
           "type": "quantitative"
          }
         },
         "mark": {
          "type": "point"
         }
        },
        {
         "encoding": {
          "x": {
           "field": "date",
           "type": "temporal"
          }
         },
         "mark": {
          "color": "gray",
          "type": "rule"
         },
         "transform": [
          {
           "filter": {
            "empty": false,
            "param": "param_4"
           }
          }
         ]
        },
        {
         "encoding": {
          "color": {
           "field": "data_type",
           "title": "Type of Entity",
           "type": "nominal"
          },
          "text": {
           "condition": {
            "empty": false,
            "field": "counts",
            "param": "param_4"
           },
           "value": " "
          },
          "x": {
           "axis": {
            "format": "%Y"
           },
           "field": "date",
           "title": "Date Created",
           "type": "temporal"
          },
          "y": {
           "field": "counts",
           "title": "Counts",
           "type": "quantitative"
          }
         },
         "mark": {
          "align": "left",
          "dx": 5,
          "dy": -5,
          "type": "text"
         }
        }
       ],
       "params": [
        {
         "name": "param_4",
         "select": {
          "encodings": [
           "x"
          ],
          "nearest": true,
          "on": "mouseover",
          "type": "point"
         },
         "views": [
          "view_4"
         ]
        }
       ],
       "title": "Number of Users, Organizations, and Repositories identified as DH, Created Over Time via Initial Search Queries",
       "width": 600
      },
      "text/plain": [
       "<VegaLite 5 object>\n",
       "\n",
       "If you see this message, it means the renderer has not been properly enabled\n",
       "for the frontend that you are using. For more information, see\n",
       "https://altair-viz.github.io/user_guide/troubleshooting.html\n"
      ]
     },
     "execution_count": 18,
     "metadata": {},
     "output_type": "execute_result"
    }
   ],
   "source": [
    "initial_chart"
   ]
  },
  {
   "attachments": {},
   "cell_type": "markdown",
   "metadata": {},
   "source": [
    "### First Pass Core Users"
   ]
  },
  {
   "cell_type": "code",
   "execution_count": 19,
   "metadata": {},
   "outputs": [],
   "source": [
    "first_pass_core_users = pd.read_csv(\"../data/derived_files/core_users.csv\")\n",
    "first_pass_core_repos = pd.read_csv(\"../data/derived_files/core_repos.csv\")\n",
    "first_pass_core_orgs = pd.read_csv(\"../data/derived_files/core_orgs.csv\")"
   ]
  },
  {
   "cell_type": "code",
   "execution_count": 20,
   "metadata": {},
   "outputs": [],
   "source": [
    "first_pass_grouped_data = process_core_materials(first_pass_core_repos, first_pass_core_users, first_pass_core_orgs, include_month=True)"
   ]
  },
  {
   "cell_type": "code",
   "execution_count": 21,
   "metadata": {},
   "outputs": [],
   "source": [
    "first_pass_chart = overtime_chart(first_pass_grouped_data, \"Number of Users, Organizations, and Repositories identified as DH, Created Over Time via First Pass\")"
   ]
  },
  {
   "cell_type": "code",
   "execution_count": 22,
   "metadata": {},
   "outputs": [
    {
     "data": {
      "application/vnd.vegalite.v5+json": {
       "$schema": "https://vega.github.io/schema/vega-lite/v5.6.1.json",
       "config": {
        "view": {
         "continuousHeight": 300,
         "continuousWidth": 300
        }
       },
       "data": {
        "name": "data-cb9c3104ae11aa31151b985859cffe32"
       },
       "datasets": {
        "data-cb9c3104ae11aa31151b985859cffe32": [
         {
          "counts": 1,
          "data_type": "Organization",
          "date": "2009-02-01T00:00:00-05:00",
          "day": 1,
          "month": 2,
          "year": 2009
         },
         {
          "counts": 1,
          "data_type": "Organization",
          "date": "2010-02-01T00:00:00-05:00",
          "day": 1,
          "month": 2,
          "year": 2010
         },
         {
          "counts": 1,
          "data_type": "Organization",
          "date": "2010-05-01T00:00:00-04:00",
          "day": 1,
          "month": 5,
          "year": 2010
         },
         {
          "counts": 1,
          "data_type": "Organization",
          "date": "2010-06-01T00:00:00-04:00",
          "day": 1,
          "month": 6,
          "year": 2010
         },
         {
          "counts": 1,
          "data_type": "Organization",
          "date": "2010-10-01T00:00:00-04:00",
          "day": 1,
          "month": 10,
          "year": 2010
         },
         {
          "counts": 3,
          "data_type": "Organization",
          "date": "2011-04-01T00:00:00-04:00",
          "day": 1,
          "month": 4,
          "year": 2011
         },
         {
          "counts": 2,
          "data_type": "Organization",
          "date": "2011-09-01T00:00:00-04:00",
          "day": 1,
          "month": 9,
          "year": 2011
         },
         {
          "counts": 1,
          "data_type": "Organization",
          "date": "2011-10-01T00:00:00-04:00",
          "day": 1,
          "month": 10,
          "year": 2011
         },
         {
          "counts": 4,
          "data_type": "Organization",
          "date": "2011-12-01T00:00:00-05:00",
          "day": 1,
          "month": 12,
          "year": 2011
         },
         {
          "counts": 1,
          "data_type": "Organization",
          "date": "2012-01-01T00:00:00-05:00",
          "day": 1,
          "month": 1,
          "year": 2012
         },
         {
          "counts": 4,
          "data_type": "Organization",
          "date": "2012-02-01T00:00:00-05:00",
          "day": 1,
          "month": 2,
          "year": 2012
         },
         {
          "counts": 1,
          "data_type": "Organization",
          "date": "2012-03-01T00:00:00-05:00",
          "day": 1,
          "month": 3,
          "year": 2012
         },
         {
          "counts": 2,
          "data_type": "Organization",
          "date": "2012-04-01T00:00:00-04:00",
          "day": 1,
          "month": 4,
          "year": 2012
         },
         {
          "counts": 1,
          "data_type": "Organization",
          "date": "2012-06-01T00:00:00-04:00",
          "day": 1,
          "month": 6,
          "year": 2012
         },
         {
          "counts": 2,
          "data_type": "Organization",
          "date": "2012-08-01T00:00:00-04:00",
          "day": 1,
          "month": 8,
          "year": 2012
         },
         {
          "counts": 2,
          "data_type": "Organization",
          "date": "2012-09-01T00:00:00-04:00",
          "day": 1,
          "month": 9,
          "year": 2012
         },
         {
          "counts": 1,
          "data_type": "Organization",
          "date": "2012-10-01T00:00:00-04:00",
          "day": 1,
          "month": 10,
          "year": 2012
         },
         {
          "counts": 1,
          "data_type": "Organization",
          "date": "2012-11-01T00:00:00-04:00",
          "day": 1,
          "month": 11,
          "year": 2012
         },
         {
          "counts": 1,
          "data_type": "Organization",
          "date": "2012-12-01T00:00:00-05:00",
          "day": 1,
          "month": 12,
          "year": 2012
         },
         {
          "counts": 1,
          "data_type": "Organization",
          "date": "2013-01-01T00:00:00-05:00",
          "day": 1,
          "month": 1,
          "year": 2013
         },
         {
          "counts": 2,
          "data_type": "Organization",
          "date": "2013-03-01T00:00:00-05:00",
          "day": 1,
          "month": 3,
          "year": 2013
         },
         {
          "counts": 3,
          "data_type": "Organization",
          "date": "2013-04-01T00:00:00-04:00",
          "day": 1,
          "month": 4,
          "year": 2013
         },
         {
          "counts": 1,
          "data_type": "Organization",
          "date": "2013-05-01T00:00:00-04:00",
          "day": 1,
          "month": 5,
          "year": 2013
         },
         {
          "counts": 1,
          "data_type": "Organization",
          "date": "2013-06-01T00:00:00-04:00",
          "day": 1,
          "month": 6,
          "year": 2013
         },
         {
          "counts": 4,
          "data_type": "Organization",
          "date": "2013-07-01T00:00:00-04:00",
          "day": 1,
          "month": 7,
          "year": 2013
         },
         {
          "counts": 2,
          "data_type": "Organization",
          "date": "2013-08-01T00:00:00-04:00",
          "day": 1,
          "month": 8,
          "year": 2013
         },
         {
          "counts": 1,
          "data_type": "Organization",
          "date": "2013-09-01T00:00:00-04:00",
          "day": 1,
          "month": 9,
          "year": 2013
         },
         {
          "counts": 2,
          "data_type": "Organization",
          "date": "2013-10-01T00:00:00-04:00",
          "day": 1,
          "month": 10,
          "year": 2013
         },
         {
          "counts": 4,
          "data_type": "Organization",
          "date": "2013-11-01T00:00:00-04:00",
          "day": 1,
          "month": 11,
          "year": 2013
         },
         {
          "counts": 2,
          "data_type": "Organization",
          "date": "2013-12-01T00:00:00-05:00",
          "day": 1,
          "month": 12,
          "year": 2013
         },
         {
          "counts": 3,
          "data_type": "Organization",
          "date": "2014-01-01T00:00:00-05:00",
          "day": 1,
          "month": 1,
          "year": 2014
         },
         {
          "counts": 6,
          "data_type": "Organization",
          "date": "2014-02-01T00:00:00-05:00",
          "day": 1,
          "month": 2,
          "year": 2014
         },
         {
          "counts": 3,
          "data_type": "Organization",
          "date": "2014-03-01T00:00:00-05:00",
          "day": 1,
          "month": 3,
          "year": 2014
         },
         {
          "counts": 3,
          "data_type": "Organization",
          "date": "2014-04-01T00:00:00-04:00",
          "day": 1,
          "month": 4,
          "year": 2014
         },
         {
          "counts": 2,
          "data_type": "Organization",
          "date": "2014-05-01T00:00:00-04:00",
          "day": 1,
          "month": 5,
          "year": 2014
         },
         {
          "counts": 1,
          "data_type": "Organization",
          "date": "2014-06-01T00:00:00-04:00",
          "day": 1,
          "month": 6,
          "year": 2014
         },
         {
          "counts": 3,
          "data_type": "Organization",
          "date": "2014-07-01T00:00:00-04:00",
          "day": 1,
          "month": 7,
          "year": 2014
         },
         {
          "counts": 1,
          "data_type": "Organization",
          "date": "2014-08-01T00:00:00-04:00",
          "day": 1,
          "month": 8,
          "year": 2014
         },
         {
          "counts": 4,
          "data_type": "Organization",
          "date": "2014-09-01T00:00:00-04:00",
          "day": 1,
          "month": 9,
          "year": 2014
         },
         {
          "counts": 3,
          "data_type": "Organization",
          "date": "2014-10-01T00:00:00-04:00",
          "day": 1,
          "month": 10,
          "year": 2014
         },
         {
          "counts": 2,
          "data_type": "Organization",
          "date": "2014-11-01T00:00:00-04:00",
          "day": 1,
          "month": 11,
          "year": 2014
         },
         {
          "counts": 3,
          "data_type": "Organization",
          "date": "2014-12-01T00:00:00-05:00",
          "day": 1,
          "month": 12,
          "year": 2014
         },
         {
          "counts": 6,
          "data_type": "Organization",
          "date": "2015-01-01T00:00:00-05:00",
          "day": 1,
          "month": 1,
          "year": 2015
         },
         {
          "counts": 2,
          "data_type": "Organization",
          "date": "2015-02-01T00:00:00-05:00",
          "day": 1,
          "month": 2,
          "year": 2015
         },
         {
          "counts": 2,
          "data_type": "Organization",
          "date": "2015-03-01T00:00:00-05:00",
          "day": 1,
          "month": 3,
          "year": 2015
         },
         {
          "counts": 3,
          "data_type": "Organization",
          "date": "2015-04-01T00:00:00-04:00",
          "day": 1,
          "month": 4,
          "year": 2015
         },
         {
          "counts": 3,
          "data_type": "Organization",
          "date": "2015-05-01T00:00:00-04:00",
          "day": 1,
          "month": 5,
          "year": 2015
         },
         {
          "counts": 2,
          "data_type": "Organization",
          "date": "2015-06-01T00:00:00-04:00",
          "day": 1,
          "month": 6,
          "year": 2015
         },
         {
          "counts": 4,
          "data_type": "Organization",
          "date": "2015-07-01T00:00:00-04:00",
          "day": 1,
          "month": 7,
          "year": 2015
         },
         {
          "counts": 5,
          "data_type": "Organization",
          "date": "2015-08-01T00:00:00-04:00",
          "day": 1,
          "month": 8,
          "year": 2015
         },
         {
          "counts": 6,
          "data_type": "Organization",
          "date": "2015-09-01T00:00:00-04:00",
          "day": 1,
          "month": 9,
          "year": 2015
         },
         {
          "counts": 4,
          "data_type": "Organization",
          "date": "2015-10-01T00:00:00-04:00",
          "day": 1,
          "month": 10,
          "year": 2015
         },
         {
          "counts": 3,
          "data_type": "Organization",
          "date": "2015-11-01T00:00:00-04:00",
          "day": 1,
          "month": 11,
          "year": 2015
         },
         {
          "counts": 8,
          "data_type": "Organization",
          "date": "2015-12-01T00:00:00-05:00",
          "day": 1,
          "month": 12,
          "year": 2015
         },
         {
          "counts": 4,
          "data_type": "Organization",
          "date": "2016-01-01T00:00:00-05:00",
          "day": 1,
          "month": 1,
          "year": 2016
         },
         {
          "counts": 4,
          "data_type": "Organization",
          "date": "2016-02-01T00:00:00-05:00",
          "day": 1,
          "month": 2,
          "year": 2016
         },
         {
          "counts": 4,
          "data_type": "Organization",
          "date": "2016-03-01T00:00:00-05:00",
          "day": 1,
          "month": 3,
          "year": 2016
         },
         {
          "counts": 4,
          "data_type": "Organization",
          "date": "2016-04-01T00:00:00-04:00",
          "day": 1,
          "month": 4,
          "year": 2016
         },
         {
          "counts": 4,
          "data_type": "Organization",
          "date": "2016-05-01T00:00:00-04:00",
          "day": 1,
          "month": 5,
          "year": 2016
         },
         {
          "counts": 4,
          "data_type": "Organization",
          "date": "2016-06-01T00:00:00-04:00",
          "day": 1,
          "month": 6,
          "year": 2016
         },
         {
          "counts": 1,
          "data_type": "Organization",
          "date": "2016-07-01T00:00:00-04:00",
          "day": 1,
          "month": 7,
          "year": 2016
         },
         {
          "counts": 1,
          "data_type": "Organization",
          "date": "2016-08-01T00:00:00-04:00",
          "day": 1,
          "month": 8,
          "year": 2016
         },
         {
          "counts": 4,
          "data_type": "Organization",
          "date": "2016-09-01T00:00:00-04:00",
          "day": 1,
          "month": 9,
          "year": 2016
         },
         {
          "counts": 6,
          "data_type": "Organization",
          "date": "2016-10-01T00:00:00-04:00",
          "day": 1,
          "month": 10,
          "year": 2016
         },
         {
          "counts": 3,
          "data_type": "Organization",
          "date": "2016-11-01T00:00:00-04:00",
          "day": 1,
          "month": 11,
          "year": 2016
         },
         {
          "counts": 1,
          "data_type": "Organization",
          "date": "2016-12-01T00:00:00-05:00",
          "day": 1,
          "month": 12,
          "year": 2016
         },
         {
          "counts": 4,
          "data_type": "Organization",
          "date": "2017-01-01T00:00:00-05:00",
          "day": 1,
          "month": 1,
          "year": 2017
         },
         {
          "counts": 6,
          "data_type": "Organization",
          "date": "2017-02-01T00:00:00-05:00",
          "day": 1,
          "month": 2,
          "year": 2017
         },
         {
          "counts": 2,
          "data_type": "Organization",
          "date": "2017-03-01T00:00:00-05:00",
          "day": 1,
          "month": 3,
          "year": 2017
         },
         {
          "counts": 5,
          "data_type": "Organization",
          "date": "2017-04-01T00:00:00-04:00",
          "day": 1,
          "month": 4,
          "year": 2017
         },
         {
          "counts": 5,
          "data_type": "Organization",
          "date": "2017-05-01T00:00:00-04:00",
          "day": 1,
          "month": 5,
          "year": 2017
         },
         {
          "counts": 3,
          "data_type": "Organization",
          "date": "2017-06-01T00:00:00-04:00",
          "day": 1,
          "month": 6,
          "year": 2017
         },
         {
          "counts": 2,
          "data_type": "Organization",
          "date": "2017-07-01T00:00:00-04:00",
          "day": 1,
          "month": 7,
          "year": 2017
         },
         {
          "counts": 3,
          "data_type": "Organization",
          "date": "2017-08-01T00:00:00-04:00",
          "day": 1,
          "month": 8,
          "year": 2017
         },
         {
          "counts": 8,
          "data_type": "Organization",
          "date": "2017-09-01T00:00:00-04:00",
          "day": 1,
          "month": 9,
          "year": 2017
         },
         {
          "counts": 5,
          "data_type": "Organization",
          "date": "2017-10-01T00:00:00-04:00",
          "day": 1,
          "month": 10,
          "year": 2017
         },
         {
          "counts": 5,
          "data_type": "Organization",
          "date": "2017-11-01T00:00:00-04:00",
          "day": 1,
          "month": 11,
          "year": 2017
         },
         {
          "counts": 1,
          "data_type": "Organization",
          "date": "2017-12-01T00:00:00-05:00",
          "day": 1,
          "month": 12,
          "year": 2017
         },
         {
          "counts": 2,
          "data_type": "Organization",
          "date": "2018-01-01T00:00:00-05:00",
          "day": 1,
          "month": 1,
          "year": 2018
         },
         {
          "counts": 4,
          "data_type": "Organization",
          "date": "2018-02-01T00:00:00-05:00",
          "day": 1,
          "month": 2,
          "year": 2018
         },
         {
          "counts": 3,
          "data_type": "Organization",
          "date": "2018-03-01T00:00:00-05:00",
          "day": 1,
          "month": 3,
          "year": 2018
         },
         {
          "counts": 4,
          "data_type": "Organization",
          "date": "2018-04-01T00:00:00-04:00",
          "day": 1,
          "month": 4,
          "year": 2018
         },
         {
          "counts": 3,
          "data_type": "Organization",
          "date": "2018-05-01T00:00:00-04:00",
          "day": 1,
          "month": 5,
          "year": 2018
         },
         {
          "counts": 2,
          "data_type": "Organization",
          "date": "2018-06-01T00:00:00-04:00",
          "day": 1,
          "month": 6,
          "year": 2018
         },
         {
          "counts": 3,
          "data_type": "Organization",
          "date": "2018-07-01T00:00:00-04:00",
          "day": 1,
          "month": 7,
          "year": 2018
         },
         {
          "counts": 5,
          "data_type": "Organization",
          "date": "2018-08-01T00:00:00-04:00",
          "day": 1,
          "month": 8,
          "year": 2018
         },
         {
          "counts": 3,
          "data_type": "Organization",
          "date": "2018-09-01T00:00:00-04:00",
          "day": 1,
          "month": 9,
          "year": 2018
         },
         {
          "counts": 1,
          "data_type": "Organization",
          "date": "2018-10-01T00:00:00-04:00",
          "day": 1,
          "month": 10,
          "year": 2018
         },
         {
          "counts": 3,
          "data_type": "Organization",
          "date": "2018-11-01T00:00:00-04:00",
          "day": 1,
          "month": 11,
          "year": 2018
         },
         {
          "counts": 2,
          "data_type": "Organization",
          "date": "2018-12-01T00:00:00-05:00",
          "day": 1,
          "month": 12,
          "year": 2018
         },
         {
          "counts": 3,
          "data_type": "Organization",
          "date": "2019-01-01T00:00:00-05:00",
          "day": 1,
          "month": 1,
          "year": 2019
         },
         {
          "counts": 5,
          "data_type": "Organization",
          "date": "2019-02-01T00:00:00-05:00",
          "day": 1,
          "month": 2,
          "year": 2019
         },
         {
          "counts": 6,
          "data_type": "Organization",
          "date": "2019-03-01T00:00:00-05:00",
          "day": 1,
          "month": 3,
          "year": 2019
         },
         {
          "counts": 3,
          "data_type": "Organization",
          "date": "2019-04-01T00:00:00-04:00",
          "day": 1,
          "month": 4,
          "year": 2019
         },
         {
          "counts": 4,
          "data_type": "Organization",
          "date": "2019-05-01T00:00:00-04:00",
          "day": 1,
          "month": 5,
          "year": 2019
         },
         {
          "counts": 3,
          "data_type": "Organization",
          "date": "2019-06-01T00:00:00-04:00",
          "day": 1,
          "month": 6,
          "year": 2019
         },
         {
          "counts": 5,
          "data_type": "Organization",
          "date": "2019-07-01T00:00:00-04:00",
          "day": 1,
          "month": 7,
          "year": 2019
         },
         {
          "counts": 6,
          "data_type": "Organization",
          "date": "2019-09-01T00:00:00-04:00",
          "day": 1,
          "month": 9,
          "year": 2019
         },
         {
          "counts": 4,
          "data_type": "Organization",
          "date": "2019-10-01T00:00:00-04:00",
          "day": 1,
          "month": 10,
          "year": 2019
         },
         {
          "counts": 3,
          "data_type": "Organization",
          "date": "2019-11-01T00:00:00-04:00",
          "day": 1,
          "month": 11,
          "year": 2019
         },
         {
          "counts": 1,
          "data_type": "Organization",
          "date": "2019-12-01T00:00:00-05:00",
          "day": 1,
          "month": 12,
          "year": 2019
         },
         {
          "counts": 2,
          "data_type": "Organization",
          "date": "2020-01-01T00:00:00-05:00",
          "day": 1,
          "month": 1,
          "year": 2020
         },
         {
          "counts": 4,
          "data_type": "Organization",
          "date": "2020-02-01T00:00:00-05:00",
          "day": 1,
          "month": 2,
          "year": 2020
         },
         {
          "counts": 7,
          "data_type": "Organization",
          "date": "2020-03-01T00:00:00-05:00",
          "day": 1,
          "month": 3,
          "year": 2020
         },
         {
          "counts": 3,
          "data_type": "Organization",
          "date": "2020-04-01T00:00:00-04:00",
          "day": 1,
          "month": 4,
          "year": 2020
         },
         {
          "counts": 3,
          "data_type": "Organization",
          "date": "2020-05-01T00:00:00-04:00",
          "day": 1,
          "month": 5,
          "year": 2020
         },
         {
          "counts": 4,
          "data_type": "Organization",
          "date": "2020-06-01T00:00:00-04:00",
          "day": 1,
          "month": 6,
          "year": 2020
         },
         {
          "counts": 6,
          "data_type": "Organization",
          "date": "2020-07-01T00:00:00-04:00",
          "day": 1,
          "month": 7,
          "year": 2020
         },
         {
          "counts": 3,
          "data_type": "Organization",
          "date": "2020-08-01T00:00:00-04:00",
          "day": 1,
          "month": 8,
          "year": 2020
         },
         {
          "counts": 5,
          "data_type": "Organization",
          "date": "2020-09-01T00:00:00-04:00",
          "day": 1,
          "month": 9,
          "year": 2020
         },
         {
          "counts": 4,
          "data_type": "Organization",
          "date": "2020-10-01T00:00:00-04:00",
          "day": 1,
          "month": 10,
          "year": 2020
         },
         {
          "counts": 1,
          "data_type": "Organization",
          "date": "2020-11-01T00:00:00-04:00",
          "day": 1,
          "month": 11,
          "year": 2020
         },
         {
          "counts": 2,
          "data_type": "Organization",
          "date": "2020-12-01T00:00:00-05:00",
          "day": 1,
          "month": 12,
          "year": 2020
         },
         {
          "counts": 5,
          "data_type": "Organization",
          "date": "2021-01-01T00:00:00-05:00",
          "day": 1,
          "month": 1,
          "year": 2021
         },
         {
          "counts": 6,
          "data_type": "Organization",
          "date": "2021-02-01T00:00:00-05:00",
          "day": 1,
          "month": 2,
          "year": 2021
         },
         {
          "counts": 6,
          "data_type": "Organization",
          "date": "2021-03-01T00:00:00-05:00",
          "day": 1,
          "month": 3,
          "year": 2021
         },
         {
          "counts": 5,
          "data_type": "Organization",
          "date": "2021-04-01T00:00:00-04:00",
          "day": 1,
          "month": 4,
          "year": 2021
         },
         {
          "counts": 3,
          "data_type": "Organization",
          "date": "2021-05-01T00:00:00-04:00",
          "day": 1,
          "month": 5,
          "year": 2021
         },
         {
          "counts": 3,
          "data_type": "Organization",
          "date": "2021-06-01T00:00:00-04:00",
          "day": 1,
          "month": 6,
          "year": 2021
         },
         {
          "counts": 2,
          "data_type": "Organization",
          "date": "2021-07-01T00:00:00-04:00",
          "day": 1,
          "month": 7,
          "year": 2021
         },
         {
          "counts": 5,
          "data_type": "Organization",
          "date": "2021-08-01T00:00:00-04:00",
          "day": 1,
          "month": 8,
          "year": 2021
         },
         {
          "counts": 2,
          "data_type": "Organization",
          "date": "2021-09-01T00:00:00-04:00",
          "day": 1,
          "month": 9,
          "year": 2021
         },
         {
          "counts": 3,
          "data_type": "Organization",
          "date": "2021-10-01T00:00:00-04:00",
          "day": 1,
          "month": 10,
          "year": 2021
         },
         {
          "counts": 1,
          "data_type": "Organization",
          "date": "2021-11-01T00:00:00-04:00",
          "day": 1,
          "month": 11,
          "year": 2021
         },
         {
          "counts": 3,
          "data_type": "Organization",
          "date": "2021-12-01T00:00:00-05:00",
          "day": 1,
          "month": 12,
          "year": 2021
         },
         {
          "counts": 4,
          "data_type": "Organization",
          "date": "2022-01-01T00:00:00-05:00",
          "day": 1,
          "month": 1,
          "year": 2022
         },
         {
          "counts": 1,
          "data_type": "Organization",
          "date": "2022-02-01T00:00:00-05:00",
          "day": 1,
          "month": 2,
          "year": 2022
         },
         {
          "counts": 4,
          "data_type": "Organization",
          "date": "2022-03-01T00:00:00-05:00",
          "day": 1,
          "month": 3,
          "year": 2022
         },
         {
          "counts": 5,
          "data_type": "Organization",
          "date": "2022-04-01T00:00:00-04:00",
          "day": 1,
          "month": 4,
          "year": 2022
         },
         {
          "counts": 5,
          "data_type": "Organization",
          "date": "2022-05-01T00:00:00-04:00",
          "day": 1,
          "month": 5,
          "year": 2022
         },
         {
          "counts": 2,
          "data_type": "Organization",
          "date": "2022-06-01T00:00:00-04:00",
          "day": 1,
          "month": 6,
          "year": 2022
         },
         {
          "counts": 2,
          "data_type": "Organization",
          "date": "2022-07-01T00:00:00-04:00",
          "day": 1,
          "month": 7,
          "year": 2022
         },
         {
          "counts": 2,
          "data_type": "Organization",
          "date": "2022-08-01T00:00:00-04:00",
          "day": 1,
          "month": 8,
          "year": 2022
         },
         {
          "counts": 2,
          "data_type": "Organization",
          "date": "2022-09-01T00:00:00-04:00",
          "day": 1,
          "month": 9,
          "year": 2022
         },
         {
          "counts": 1,
          "data_type": "Organization",
          "date": "2022-10-01T00:00:00-04:00",
          "day": 1,
          "month": 10,
          "year": 2022
         },
         {
          "counts": 2,
          "data_type": "Organization",
          "date": "2022-11-01T00:00:00-04:00",
          "day": 1,
          "month": 11,
          "year": 2022
         },
         {
          "counts": 1,
          "data_type": "Repository",
          "date": "2009-11-01T00:00:00-04:00",
          "day": 1,
          "month": 11,
          "year": 2009
         },
         {
          "counts": 1,
          "data_type": "Repository",
          "date": "2010-03-01T00:00:00-05:00",
          "day": 1,
          "month": 3,
          "year": 2010
         },
         {
          "counts": 1,
          "data_type": "Repository",
          "date": "2010-04-01T00:00:00-04:00",
          "day": 1,
          "month": 4,
          "year": 2010
         },
         {
          "counts": 3,
          "data_type": "Repository",
          "date": "2011-02-01T00:00:00-05:00",
          "day": 1,
          "month": 2,
          "year": 2011
         },
         {
          "counts": 1,
          "data_type": "Repository",
          "date": "2011-04-01T00:00:00-04:00",
          "day": 1,
          "month": 4,
          "year": 2011
         },
         {
          "counts": 1,
          "data_type": "Repository",
          "date": "2011-05-01T00:00:00-04:00",
          "day": 1,
          "month": 5,
          "year": 2011
         },
         {
          "counts": 1,
          "data_type": "Repository",
          "date": "2011-08-01T00:00:00-04:00",
          "day": 1,
          "month": 8,
          "year": 2011
         },
         {
          "counts": 1,
          "data_type": "Repository",
          "date": "2011-11-01T00:00:00-04:00",
          "day": 1,
          "month": 11,
          "year": 2011
         },
         {
          "counts": 1,
          "data_type": "Repository",
          "date": "2011-12-01T00:00:00-05:00",
          "day": 1,
          "month": 12,
          "year": 2011
         },
         {
          "counts": 1,
          "data_type": "Repository",
          "date": "2012-01-01T00:00:00-05:00",
          "day": 1,
          "month": 1,
          "year": 2012
         },
         {
          "counts": 2,
          "data_type": "Repository",
          "date": "2012-02-01T00:00:00-05:00",
          "day": 1,
          "month": 2,
          "year": 2012
         },
         {
          "counts": 1,
          "data_type": "Repository",
          "date": "2012-03-01T00:00:00-05:00",
          "day": 1,
          "month": 3,
          "year": 2012
         },
         {
          "counts": 3,
          "data_type": "Repository",
          "date": "2012-04-01T00:00:00-04:00",
          "day": 1,
          "month": 4,
          "year": 2012
         },
         {
          "counts": 2,
          "data_type": "Repository",
          "date": "2012-08-01T00:00:00-04:00",
          "day": 1,
          "month": 8,
          "year": 2012
         },
         {
          "counts": 2,
          "data_type": "Repository",
          "date": "2012-09-01T00:00:00-04:00",
          "day": 1,
          "month": 9,
          "year": 2012
         },
         {
          "counts": 1,
          "data_type": "Repository",
          "date": "2012-10-01T00:00:00-04:00",
          "day": 1,
          "month": 10,
          "year": 2012
         },
         {
          "counts": 3,
          "data_type": "Repository",
          "date": "2012-11-01T00:00:00-04:00",
          "day": 1,
          "month": 11,
          "year": 2012
         },
         {
          "counts": 1,
          "data_type": "Repository",
          "date": "2012-12-01T00:00:00-05:00",
          "day": 1,
          "month": 12,
          "year": 2012
         },
         {
          "counts": 5,
          "data_type": "Repository",
          "date": "2013-01-01T00:00:00-05:00",
          "day": 1,
          "month": 1,
          "year": 2013
         },
         {
          "counts": 1,
          "data_type": "Repository",
          "date": "2013-02-01T00:00:00-05:00",
          "day": 1,
          "month": 2,
          "year": 2013
         },
         {
          "counts": 2,
          "data_type": "Repository",
          "date": "2013-03-01T00:00:00-05:00",
          "day": 1,
          "month": 3,
          "year": 2013
         },
         {
          "counts": 2,
          "data_type": "Repository",
          "date": "2013-04-01T00:00:00-04:00",
          "day": 1,
          "month": 4,
          "year": 2013
         },
         {
          "counts": 2,
          "data_type": "Repository",
          "date": "2013-05-01T00:00:00-04:00",
          "day": 1,
          "month": 5,
          "year": 2013
         },
         {
          "counts": 2,
          "data_type": "Repository",
          "date": "2013-06-01T00:00:00-04:00",
          "day": 1,
          "month": 6,
          "year": 2013
         },
         {
          "counts": 2,
          "data_type": "Repository",
          "date": "2013-07-01T00:00:00-04:00",
          "day": 1,
          "month": 7,
          "year": 2013
         },
         {
          "counts": 2,
          "data_type": "Repository",
          "date": "2013-08-01T00:00:00-04:00",
          "day": 1,
          "month": 8,
          "year": 2013
         },
         {
          "counts": 1,
          "data_type": "Repository",
          "date": "2013-09-01T00:00:00-04:00",
          "day": 1,
          "month": 9,
          "year": 2013
         },
         {
          "counts": 5,
          "data_type": "Repository",
          "date": "2013-12-01T00:00:00-05:00",
          "day": 1,
          "month": 12,
          "year": 2013
         },
         {
          "counts": 2,
          "data_type": "Repository",
          "date": "2014-01-01T00:00:00-05:00",
          "day": 1,
          "month": 1,
          "year": 2014
         },
         {
          "counts": 7,
          "data_type": "Repository",
          "date": "2014-02-01T00:00:00-05:00",
          "day": 1,
          "month": 2,
          "year": 2014
         },
         {
          "counts": 2,
          "data_type": "Repository",
          "date": "2014-03-01T00:00:00-05:00",
          "day": 1,
          "month": 3,
          "year": 2014
         },
         {
          "counts": 4,
          "data_type": "Repository",
          "date": "2014-04-01T00:00:00-04:00",
          "day": 1,
          "month": 4,
          "year": 2014
         },
         {
          "counts": 7,
          "data_type": "Repository",
          "date": "2014-05-01T00:00:00-04:00",
          "day": 1,
          "month": 5,
          "year": 2014
         },
         {
          "counts": 2,
          "data_type": "Repository",
          "date": "2014-06-01T00:00:00-04:00",
          "day": 1,
          "month": 6,
          "year": 2014
         },
         {
          "counts": 4,
          "data_type": "Repository",
          "date": "2014-07-01T00:00:00-04:00",
          "day": 1,
          "month": 7,
          "year": 2014
         },
         {
          "counts": 6,
          "data_type": "Repository",
          "date": "2014-08-01T00:00:00-04:00",
          "day": 1,
          "month": 8,
          "year": 2014
         },
         {
          "counts": 5,
          "data_type": "Repository",
          "date": "2014-09-01T00:00:00-04:00",
          "day": 1,
          "month": 9,
          "year": 2014
         },
         {
          "counts": 3,
          "data_type": "Repository",
          "date": "2014-10-01T00:00:00-04:00",
          "day": 1,
          "month": 10,
          "year": 2014
         },
         {
          "counts": 8,
          "data_type": "Repository",
          "date": "2014-11-01T00:00:00-04:00",
          "day": 1,
          "month": 11,
          "year": 2014
         },
         {
          "counts": 7,
          "data_type": "Repository",
          "date": "2014-12-01T00:00:00-05:00",
          "day": 1,
          "month": 12,
          "year": 2014
         },
         {
          "counts": 9,
          "data_type": "Repository",
          "date": "2015-01-01T00:00:00-05:00",
          "day": 1,
          "month": 1,
          "year": 2015
         },
         {
          "counts": 5,
          "data_type": "Repository",
          "date": "2015-02-01T00:00:00-05:00",
          "day": 1,
          "month": 2,
          "year": 2015
         },
         {
          "counts": 5,
          "data_type": "Repository",
          "date": "2015-03-01T00:00:00-05:00",
          "day": 1,
          "month": 3,
          "year": 2015
         },
         {
          "counts": 7,
          "data_type": "Repository",
          "date": "2015-04-01T00:00:00-04:00",
          "day": 1,
          "month": 4,
          "year": 2015
         },
         {
          "counts": 7,
          "data_type": "Repository",
          "date": "2015-05-01T00:00:00-04:00",
          "day": 1,
          "month": 5,
          "year": 2015
         },
         {
          "counts": 8,
          "data_type": "Repository",
          "date": "2015-06-01T00:00:00-04:00",
          "day": 1,
          "month": 6,
          "year": 2015
         },
         {
          "counts": 11,
          "data_type": "Repository",
          "date": "2015-07-01T00:00:00-04:00",
          "day": 1,
          "month": 7,
          "year": 2015
         },
         {
          "counts": 8,
          "data_type": "Repository",
          "date": "2015-08-01T00:00:00-04:00",
          "day": 1,
          "month": 8,
          "year": 2015
         },
         {
          "counts": 9,
          "data_type": "Repository",
          "date": "2015-09-01T00:00:00-04:00",
          "day": 1,
          "month": 9,
          "year": 2015
         },
         {
          "counts": 6,
          "data_type": "Repository",
          "date": "2015-10-01T00:00:00-04:00",
          "day": 1,
          "month": 10,
          "year": 2015
         },
         {
          "counts": 6,
          "data_type": "Repository",
          "date": "2015-11-01T00:00:00-04:00",
          "day": 1,
          "month": 11,
          "year": 2015
         },
         {
          "counts": 11,
          "data_type": "Repository",
          "date": "2015-12-01T00:00:00-05:00",
          "day": 1,
          "month": 12,
          "year": 2015
         },
         {
          "counts": 14,
          "data_type": "Repository",
          "date": "2016-01-01T00:00:00-05:00",
          "day": 1,
          "month": 1,
          "year": 2016
         },
         {
          "counts": 5,
          "data_type": "Repository",
          "date": "2016-02-01T00:00:00-05:00",
          "day": 1,
          "month": 2,
          "year": 2016
         },
         {
          "counts": 9,
          "data_type": "Repository",
          "date": "2016-03-01T00:00:00-05:00",
          "day": 1,
          "month": 3,
          "year": 2016
         },
         {
          "counts": 9,
          "data_type": "Repository",
          "date": "2016-04-01T00:00:00-04:00",
          "day": 1,
          "month": 4,
          "year": 2016
         },
         {
          "counts": 12,
          "data_type": "Repository",
          "date": "2016-05-01T00:00:00-04:00",
          "day": 1,
          "month": 5,
          "year": 2016
         },
         {
          "counts": 8,
          "data_type": "Repository",
          "date": "2016-06-01T00:00:00-04:00",
          "day": 1,
          "month": 6,
          "year": 2016
         },
         {
          "counts": 11,
          "data_type": "Repository",
          "date": "2016-07-01T00:00:00-04:00",
          "day": 1,
          "month": 7,
          "year": 2016
         },
         {
          "counts": 8,
          "data_type": "Repository",
          "date": "2016-08-01T00:00:00-04:00",
          "day": 1,
          "month": 8,
          "year": 2016
         },
         {
          "counts": 14,
          "data_type": "Repository",
          "date": "2016-09-01T00:00:00-04:00",
          "day": 1,
          "month": 9,
          "year": 2016
         },
         {
          "counts": 9,
          "data_type": "Repository",
          "date": "2016-10-01T00:00:00-04:00",
          "day": 1,
          "month": 10,
          "year": 2016
         },
         {
          "counts": 14,
          "data_type": "Repository",
          "date": "2016-11-01T00:00:00-04:00",
          "day": 1,
          "month": 11,
          "year": 2016
         },
         {
          "counts": 17,
          "data_type": "Repository",
          "date": "2016-12-01T00:00:00-05:00",
          "day": 1,
          "month": 12,
          "year": 2016
         },
         {
          "counts": 18,
          "data_type": "Repository",
          "date": "2017-01-01T00:00:00-05:00",
          "day": 1,
          "month": 1,
          "year": 2017
         },
         {
          "counts": 22,
          "data_type": "Repository",
          "date": "2017-02-01T00:00:00-05:00",
          "day": 1,
          "month": 2,
          "year": 2017
         },
         {
          "counts": 22,
          "data_type": "Repository",
          "date": "2017-03-01T00:00:00-05:00",
          "day": 1,
          "month": 3,
          "year": 2017
         },
         {
          "counts": 13,
          "data_type": "Repository",
          "date": "2017-04-01T00:00:00-04:00",
          "day": 1,
          "month": 4,
          "year": 2017
         },
         {
          "counts": 14,
          "data_type": "Repository",
          "date": "2017-05-01T00:00:00-04:00",
          "day": 1,
          "month": 5,
          "year": 2017
         },
         {
          "counts": 11,
          "data_type": "Repository",
          "date": "2017-06-01T00:00:00-04:00",
          "day": 1,
          "month": 6,
          "year": 2017
         },
         {
          "counts": 23,
          "data_type": "Repository",
          "date": "2017-07-01T00:00:00-04:00",
          "day": 1,
          "month": 7,
          "year": 2017
         },
         {
          "counts": 22,
          "data_type": "Repository",
          "date": "2017-08-01T00:00:00-04:00",
          "day": 1,
          "month": 8,
          "year": 2017
         },
         {
          "counts": 44,
          "data_type": "Repository",
          "date": "2017-09-01T00:00:00-04:00",
          "day": 1,
          "month": 9,
          "year": 2017
         },
         {
          "counts": 15,
          "data_type": "Repository",
          "date": "2017-10-01T00:00:00-04:00",
          "day": 1,
          "month": 10,
          "year": 2017
         },
         {
          "counts": 28,
          "data_type": "Repository",
          "date": "2017-11-01T00:00:00-04:00",
          "day": 1,
          "month": 11,
          "year": 2017
         },
         {
          "counts": 12,
          "data_type": "Repository",
          "date": "2017-12-01T00:00:00-05:00",
          "day": 1,
          "month": 12,
          "year": 2017
         },
         {
          "counts": 25,
          "data_type": "Repository",
          "date": "2018-01-01T00:00:00-05:00",
          "day": 1,
          "month": 1,
          "year": 2018
         },
         {
          "counts": 31,
          "data_type": "Repository",
          "date": "2018-02-01T00:00:00-05:00",
          "day": 1,
          "month": 2,
          "year": 2018
         },
         {
          "counts": 30,
          "data_type": "Repository",
          "date": "2018-03-01T00:00:00-05:00",
          "day": 1,
          "month": 3,
          "year": 2018
         },
         {
          "counts": 21,
          "data_type": "Repository",
          "date": "2018-04-01T00:00:00-04:00",
          "day": 1,
          "month": 4,
          "year": 2018
         },
         {
          "counts": 31,
          "data_type": "Repository",
          "date": "2018-05-01T00:00:00-04:00",
          "day": 1,
          "month": 5,
          "year": 2018
         },
         {
          "counts": 20,
          "data_type": "Repository",
          "date": "2018-06-01T00:00:00-04:00",
          "day": 1,
          "month": 6,
          "year": 2018
         },
         {
          "counts": 25,
          "data_type": "Repository",
          "date": "2018-07-01T00:00:00-04:00",
          "day": 1,
          "month": 7,
          "year": 2018
         },
         {
          "counts": 26,
          "data_type": "Repository",
          "date": "2018-08-01T00:00:00-04:00",
          "day": 1,
          "month": 8,
          "year": 2018
         },
         {
          "counts": 33,
          "data_type": "Repository",
          "date": "2018-09-01T00:00:00-04:00",
          "day": 1,
          "month": 9,
          "year": 2018
         },
         {
          "counts": 27,
          "data_type": "Repository",
          "date": "2018-10-01T00:00:00-04:00",
          "day": 1,
          "month": 10,
          "year": 2018
         },
         {
          "counts": 32,
          "data_type": "Repository",
          "date": "2018-11-01T00:00:00-04:00",
          "day": 1,
          "month": 11,
          "year": 2018
         },
         {
          "counts": 21,
          "data_type": "Repository",
          "date": "2018-12-01T00:00:00-05:00",
          "day": 1,
          "month": 12,
          "year": 2018
         },
         {
          "counts": 25,
          "data_type": "Repository",
          "date": "2019-01-01T00:00:00-05:00",
          "day": 1,
          "month": 1,
          "year": 2019
         },
         {
          "counts": 25,
          "data_type": "Repository",
          "date": "2019-02-01T00:00:00-05:00",
          "day": 1,
          "month": 2,
          "year": 2019
         },
         {
          "counts": 27,
          "data_type": "Repository",
          "date": "2019-03-01T00:00:00-05:00",
          "day": 1,
          "month": 3,
          "year": 2019
         },
         {
          "counts": 22,
          "data_type": "Repository",
          "date": "2019-04-01T00:00:00-04:00",
          "day": 1,
          "month": 4,
          "year": 2019
         },
         {
          "counts": 36,
          "data_type": "Repository",
          "date": "2019-05-01T00:00:00-04:00",
          "day": 1,
          "month": 5,
          "year": 2019
         },
         {
          "counts": 21,
          "data_type": "Repository",
          "date": "2019-06-01T00:00:00-04:00",
          "day": 1,
          "month": 6,
          "year": 2019
         },
         {
          "counts": 27,
          "data_type": "Repository",
          "date": "2019-07-01T00:00:00-04:00",
          "day": 1,
          "month": 7,
          "year": 2019
         },
         {
          "counts": 21,
          "data_type": "Repository",
          "date": "2019-08-01T00:00:00-04:00",
          "day": 1,
          "month": 8,
          "year": 2019
         },
         {
          "counts": 25,
          "data_type": "Repository",
          "date": "2019-09-01T00:00:00-04:00",
          "day": 1,
          "month": 9,
          "year": 2019
         },
         {
          "counts": 35,
          "data_type": "Repository",
          "date": "2019-10-01T00:00:00-04:00",
          "day": 1,
          "month": 10,
          "year": 2019
         },
         {
          "counts": 23,
          "data_type": "Repository",
          "date": "2019-11-01T00:00:00-04:00",
          "day": 1,
          "month": 11,
          "year": 2019
         },
         {
          "counts": 18,
          "data_type": "Repository",
          "date": "2019-12-01T00:00:00-05:00",
          "day": 1,
          "month": 12,
          "year": 2019
         },
         {
          "counts": 47,
          "data_type": "Repository",
          "date": "2020-01-01T00:00:00-05:00",
          "day": 1,
          "month": 1,
          "year": 2020
         },
         {
          "counts": 34,
          "data_type": "Repository",
          "date": "2020-02-01T00:00:00-05:00",
          "day": 1,
          "month": 2,
          "year": 2020
         },
         {
          "counts": 31,
          "data_type": "Repository",
          "date": "2020-03-01T00:00:00-05:00",
          "day": 1,
          "month": 3,
          "year": 2020
         },
         {
          "counts": 25,
          "data_type": "Repository",
          "date": "2020-04-01T00:00:00-04:00",
          "day": 1,
          "month": 4,
          "year": 2020
         },
         {
          "counts": 16,
          "data_type": "Repository",
          "date": "2020-05-01T00:00:00-04:00",
          "day": 1,
          "month": 5,
          "year": 2020
         },
         {
          "counts": 23,
          "data_type": "Repository",
          "date": "2020-06-01T00:00:00-04:00",
          "day": 1,
          "month": 6,
          "year": 2020
         },
         {
          "counts": 33,
          "data_type": "Repository",
          "date": "2020-07-01T00:00:00-04:00",
          "day": 1,
          "month": 7,
          "year": 2020
         },
         {
          "counts": 28,
          "data_type": "Repository",
          "date": "2020-08-01T00:00:00-04:00",
          "day": 1,
          "month": 8,
          "year": 2020
         },
         {
          "counts": 34,
          "data_type": "Repository",
          "date": "2020-09-01T00:00:00-04:00",
          "day": 1,
          "month": 9,
          "year": 2020
         },
         {
          "counts": 21,
          "data_type": "Repository",
          "date": "2020-10-01T00:00:00-04:00",
          "day": 1,
          "month": 10,
          "year": 2020
         },
         {
          "counts": 25,
          "data_type": "Repository",
          "date": "2020-11-01T00:00:00-04:00",
          "day": 1,
          "month": 11,
          "year": 2020
         },
         {
          "counts": 35,
          "data_type": "Repository",
          "date": "2020-12-01T00:00:00-05:00",
          "day": 1,
          "month": 12,
          "year": 2020
         },
         {
          "counts": 26,
          "data_type": "Repository",
          "date": "2021-01-01T00:00:00-05:00",
          "day": 1,
          "month": 1,
          "year": 2021
         },
         {
          "counts": 31,
          "data_type": "Repository",
          "date": "2021-02-01T00:00:00-05:00",
          "day": 1,
          "month": 2,
          "year": 2021
         },
         {
          "counts": 42,
          "data_type": "Repository",
          "date": "2021-03-01T00:00:00-05:00",
          "day": 1,
          "month": 3,
          "year": 2021
         },
         {
          "counts": 35,
          "data_type": "Repository",
          "date": "2021-04-01T00:00:00-04:00",
          "day": 1,
          "month": 4,
          "year": 2021
         },
         {
          "counts": 29,
          "data_type": "Repository",
          "date": "2021-05-01T00:00:00-04:00",
          "day": 1,
          "month": 5,
          "year": 2021
         },
         {
          "counts": 50,
          "data_type": "Repository",
          "date": "2021-06-01T00:00:00-04:00",
          "day": 1,
          "month": 6,
          "year": 2021
         },
         {
          "counts": 20,
          "data_type": "Repository",
          "date": "2021-07-01T00:00:00-04:00",
          "day": 1,
          "month": 7,
          "year": 2021
         },
         {
          "counts": 31,
          "data_type": "Repository",
          "date": "2021-08-01T00:00:00-04:00",
          "day": 1,
          "month": 8,
          "year": 2021
         },
         {
          "counts": 34,
          "data_type": "Repository",
          "date": "2021-09-01T00:00:00-04:00",
          "day": 1,
          "month": 9,
          "year": 2021
         },
         {
          "counts": 28,
          "data_type": "Repository",
          "date": "2021-10-01T00:00:00-04:00",
          "day": 1,
          "month": 10,
          "year": 2021
         },
         {
          "counts": 35,
          "data_type": "Repository",
          "date": "2021-11-01T00:00:00-04:00",
          "day": 1,
          "month": 11,
          "year": 2021
         },
         {
          "counts": 32,
          "data_type": "Repository",
          "date": "2021-12-01T00:00:00-05:00",
          "day": 1,
          "month": 12,
          "year": 2021
         },
         {
          "counts": 35,
          "data_type": "Repository",
          "date": "2022-01-01T00:00:00-05:00",
          "day": 1,
          "month": 1,
          "year": 2022
         },
         {
          "counts": 30,
          "data_type": "Repository",
          "date": "2022-02-01T00:00:00-05:00",
          "day": 1,
          "month": 2,
          "year": 2022
         },
         {
          "counts": 34,
          "data_type": "Repository",
          "date": "2022-03-01T00:00:00-05:00",
          "day": 1,
          "month": 3,
          "year": 2022
         },
         {
          "counts": 27,
          "data_type": "Repository",
          "date": "2022-04-01T00:00:00-04:00",
          "day": 1,
          "month": 4,
          "year": 2022
         },
         {
          "counts": 60,
          "data_type": "Repository",
          "date": "2022-05-01T00:00:00-04:00",
          "day": 1,
          "month": 5,
          "year": 2022
         },
         {
          "counts": 40,
          "data_type": "Repository",
          "date": "2022-06-01T00:00:00-04:00",
          "day": 1,
          "month": 6,
          "year": 2022
         },
         {
          "counts": 37,
          "data_type": "Repository",
          "date": "2022-07-01T00:00:00-04:00",
          "day": 1,
          "month": 7,
          "year": 2022
         },
         {
          "counts": 36,
          "data_type": "Repository",
          "date": "2022-08-01T00:00:00-04:00",
          "day": 1,
          "month": 8,
          "year": 2022
         },
         {
          "counts": 31,
          "data_type": "Repository",
          "date": "2022-09-01T00:00:00-04:00",
          "day": 1,
          "month": 9,
          "year": 2022
         },
         {
          "counts": 30,
          "data_type": "Repository",
          "date": "2022-10-01T00:00:00-04:00",
          "day": 1,
          "month": 10,
          "year": 2022
         },
         {
          "counts": 15,
          "data_type": "Repository",
          "date": "2022-11-01T00:00:00-04:00",
          "day": 1,
          "month": 11,
          "year": 2022
         },
         {
          "counts": 5,
          "data_type": "Repository",
          "date": "2022-12-01T00:00:00-05:00",
          "day": 1,
          "month": 12,
          "year": 2022
         },
         {
          "counts": 3,
          "data_type": "User",
          "date": "2008-02-01T00:00:00-05:00",
          "day": 1,
          "month": 2,
          "year": 2008
         },
         {
          "counts": 3,
          "data_type": "User",
          "date": "2008-03-01T00:00:00-05:00",
          "day": 1,
          "month": 3,
          "year": 2008
         },
         {
          "counts": 4,
          "data_type": "User",
          "date": "2008-04-01T00:00:00-04:00",
          "day": 1,
          "month": 4,
          "year": 2008
         },
         {
          "counts": 3,
          "data_type": "User",
          "date": "2008-05-01T00:00:00-04:00",
          "day": 1,
          "month": 5,
          "year": 2008
         },
         {
          "counts": 3,
          "data_type": "User",
          "date": "2008-06-01T00:00:00-04:00",
          "day": 1,
          "month": 6,
          "year": 2008
         },
         {
          "counts": 2,
          "data_type": "User",
          "date": "2008-07-01T00:00:00-04:00",
          "day": 1,
          "month": 7,
          "year": 2008
         },
         {
          "counts": 6,
          "data_type": "User",
          "date": "2008-08-01T00:00:00-04:00",
          "day": 1,
          "month": 8,
          "year": 2008
         },
         {
          "counts": 8,
          "data_type": "User",
          "date": "2008-09-01T00:00:00-04:00",
          "day": 1,
          "month": 9,
          "year": 2008
         },
         {
          "counts": 5,
          "data_type": "User",
          "date": "2008-10-01T00:00:00-04:00",
          "day": 1,
          "month": 10,
          "year": 2008
         },
         {
          "counts": 9,
          "data_type": "User",
          "date": "2008-11-01T00:00:00-04:00",
          "day": 1,
          "month": 11,
          "year": 2008
         },
         {
          "counts": 7,
          "data_type": "User",
          "date": "2008-12-01T00:00:00-05:00",
          "day": 1,
          "month": 12,
          "year": 2008
         },
         {
          "counts": 8,
          "data_type": "User",
          "date": "2009-01-01T00:00:00-05:00",
          "day": 1,
          "month": 1,
          "year": 2009
         },
         {
          "counts": 10,
          "data_type": "User",
          "date": "2009-02-01T00:00:00-05:00",
          "day": 1,
          "month": 2,
          "year": 2009
         },
         {
          "counts": 11,
          "data_type": "User",
          "date": "2009-03-01T00:00:00-05:00",
          "day": 1,
          "month": 3,
          "year": 2009
         },
         {
          "counts": 12,
          "data_type": "User",
          "date": "2009-04-01T00:00:00-04:00",
          "day": 1,
          "month": 4,
          "year": 2009
         },
         {
          "counts": 10,
          "data_type": "User",
          "date": "2009-05-01T00:00:00-04:00",
          "day": 1,
          "month": 5,
          "year": 2009
         },
         {
          "counts": 3,
          "data_type": "User",
          "date": "2009-06-01T00:00:00-04:00",
          "day": 1,
          "month": 6,
          "year": 2009
         },
         {
          "counts": 9,
          "data_type": "User",
          "date": "2009-07-01T00:00:00-04:00",
          "day": 1,
          "month": 7,
          "year": 2009
         },
         {
          "counts": 13,
          "data_type": "User",
          "date": "2009-08-01T00:00:00-04:00",
          "day": 1,
          "month": 8,
          "year": 2009
         },
         {
          "counts": 6,
          "data_type": "User",
          "date": "2009-09-01T00:00:00-04:00",
          "day": 1,
          "month": 9,
          "year": 2009
         },
         {
          "counts": 11,
          "data_type": "User",
          "date": "2009-10-01T00:00:00-04:00",
          "day": 1,
          "month": 10,
          "year": 2009
         },
         {
          "counts": 10,
          "data_type": "User",
          "date": "2009-11-01T00:00:00-04:00",
          "day": 1,
          "month": 11,
          "year": 2009
         },
         {
          "counts": 11,
          "data_type": "User",
          "date": "2009-12-01T00:00:00-05:00",
          "day": 1,
          "month": 12,
          "year": 2009
         },
         {
          "counts": 14,
          "data_type": "User",
          "date": "2010-01-01T00:00:00-05:00",
          "day": 1,
          "month": 1,
          "year": 2010
         },
         {
          "counts": 8,
          "data_type": "User",
          "date": "2010-02-01T00:00:00-05:00",
          "day": 1,
          "month": 2,
          "year": 2010
         },
         {
          "counts": 20,
          "data_type": "User",
          "date": "2010-03-01T00:00:00-05:00",
          "day": 1,
          "month": 3,
          "year": 2010
         },
         {
          "counts": 8,
          "data_type": "User",
          "date": "2010-04-01T00:00:00-04:00",
          "day": 1,
          "month": 4,
          "year": 2010
         },
         {
          "counts": 15,
          "data_type": "User",
          "date": "2010-05-01T00:00:00-04:00",
          "day": 1,
          "month": 5,
          "year": 2010
         },
         {
          "counts": 18,
          "data_type": "User",
          "date": "2010-06-01T00:00:00-04:00",
          "day": 1,
          "month": 6,
          "year": 2010
         },
         {
          "counts": 10,
          "data_type": "User",
          "date": "2010-07-01T00:00:00-04:00",
          "day": 1,
          "month": 7,
          "year": 2010
         },
         {
          "counts": 8,
          "data_type": "User",
          "date": "2010-08-01T00:00:00-04:00",
          "day": 1,
          "month": 8,
          "year": 2010
         },
         {
          "counts": 19,
          "data_type": "User",
          "date": "2010-09-01T00:00:00-04:00",
          "day": 1,
          "month": 9,
          "year": 2010
         },
         {
          "counts": 14,
          "data_type": "User",
          "date": "2010-10-01T00:00:00-04:00",
          "day": 1,
          "month": 10,
          "year": 2010
         },
         {
          "counts": 15,
          "data_type": "User",
          "date": "2010-11-01T00:00:00-04:00",
          "day": 1,
          "month": 11,
          "year": 2010
         },
         {
          "counts": 17,
          "data_type": "User",
          "date": "2010-12-01T00:00:00-05:00",
          "day": 1,
          "month": 12,
          "year": 2010
         },
         {
          "counts": 10,
          "data_type": "User",
          "date": "2011-01-01T00:00:00-05:00",
          "day": 1,
          "month": 1,
          "year": 2011
         },
         {
          "counts": 27,
          "data_type": "User",
          "date": "2011-02-01T00:00:00-05:00",
          "day": 1,
          "month": 2,
          "year": 2011
         },
         {
          "counts": 24,
          "data_type": "User",
          "date": "2011-03-01T00:00:00-05:00",
          "day": 1,
          "month": 3,
          "year": 2011
         },
         {
          "counts": 16,
          "data_type": "User",
          "date": "2011-04-01T00:00:00-04:00",
          "day": 1,
          "month": 4,
          "year": 2011
         },
         {
          "counts": 16,
          "data_type": "User",
          "date": "2011-05-01T00:00:00-04:00",
          "day": 1,
          "month": 5,
          "year": 2011
         },
         {
          "counts": 24,
          "data_type": "User",
          "date": "2011-06-01T00:00:00-04:00",
          "day": 1,
          "month": 6,
          "year": 2011
         },
         {
          "counts": 16,
          "data_type": "User",
          "date": "2011-07-01T00:00:00-04:00",
          "day": 1,
          "month": 7,
          "year": 2011
         },
         {
          "counts": 25,
          "data_type": "User",
          "date": "2011-08-01T00:00:00-04:00",
          "day": 1,
          "month": 8,
          "year": 2011
         },
         {
          "counts": 20,
          "data_type": "User",
          "date": "2011-09-01T00:00:00-04:00",
          "day": 1,
          "month": 9,
          "year": 2011
         },
         {
          "counts": 18,
          "data_type": "User",
          "date": "2011-10-01T00:00:00-04:00",
          "day": 1,
          "month": 10,
          "year": 2011
         },
         {
          "counts": 18,
          "data_type": "User",
          "date": "2011-11-01T00:00:00-04:00",
          "day": 1,
          "month": 11,
          "year": 2011
         },
         {
          "counts": 19,
          "data_type": "User",
          "date": "2011-12-01T00:00:00-05:00",
          "day": 1,
          "month": 12,
          "year": 2011
         },
         {
          "counts": 20,
          "data_type": "User",
          "date": "2012-01-01T00:00:00-05:00",
          "day": 1,
          "month": 1,
          "year": 2012
         },
         {
          "counts": 28,
          "data_type": "User",
          "date": "2012-02-01T00:00:00-05:00",
          "day": 1,
          "month": 2,
          "year": 2012
         },
         {
          "counts": 15,
          "data_type": "User",
          "date": "2012-03-01T00:00:00-05:00",
          "day": 1,
          "month": 3,
          "year": 2012
         },
         {
          "counts": 22,
          "data_type": "User",
          "date": "2012-04-01T00:00:00-04:00",
          "day": 1,
          "month": 4,
          "year": 2012
         },
         {
          "counts": 31,
          "data_type": "User",
          "date": "2012-05-01T00:00:00-04:00",
          "day": 1,
          "month": 5,
          "year": 2012
         },
         {
          "counts": 19,
          "data_type": "User",
          "date": "2012-06-01T00:00:00-04:00",
          "day": 1,
          "month": 6,
          "year": 2012
         },
         {
          "counts": 24,
          "data_type": "User",
          "date": "2012-07-01T00:00:00-04:00",
          "day": 1,
          "month": 7,
          "year": 2012
         },
         {
          "counts": 22,
          "data_type": "User",
          "date": "2012-08-01T00:00:00-04:00",
          "day": 1,
          "month": 8,
          "year": 2012
         },
         {
          "counts": 28,
          "data_type": "User",
          "date": "2012-09-01T00:00:00-04:00",
          "day": 1,
          "month": 9,
          "year": 2012
         },
         {
          "counts": 36,
          "data_type": "User",
          "date": "2012-10-01T00:00:00-04:00",
          "day": 1,
          "month": 10,
          "year": 2012
         },
         {
          "counts": 18,
          "data_type": "User",
          "date": "2012-11-01T00:00:00-04:00",
          "day": 1,
          "month": 11,
          "year": 2012
         },
         {
          "counts": 32,
          "data_type": "User",
          "date": "2012-12-01T00:00:00-05:00",
          "day": 1,
          "month": 12,
          "year": 2012
         },
         {
          "counts": 31,
          "data_type": "User",
          "date": "2013-01-01T00:00:00-05:00",
          "day": 1,
          "month": 1,
          "year": 2013
         },
         {
          "counts": 33,
          "data_type": "User",
          "date": "2013-02-01T00:00:00-05:00",
          "day": 1,
          "month": 2,
          "year": 2013
         },
         {
          "counts": 27,
          "data_type": "User",
          "date": "2013-03-01T00:00:00-05:00",
          "day": 1,
          "month": 3,
          "year": 2013
         },
         {
          "counts": 31,
          "data_type": "User",
          "date": "2013-04-01T00:00:00-04:00",
          "day": 1,
          "month": 4,
          "year": 2013
         },
         {
          "counts": 27,
          "data_type": "User",
          "date": "2013-05-01T00:00:00-04:00",
          "day": 1,
          "month": 5,
          "year": 2013
         },
         {
          "counts": 25,
          "data_type": "User",
          "date": "2013-06-01T00:00:00-04:00",
          "day": 1,
          "month": 6,
          "year": 2013
         },
         {
          "counts": 18,
          "data_type": "User",
          "date": "2013-07-01T00:00:00-04:00",
          "day": 1,
          "month": 7,
          "year": 2013
         },
         {
          "counts": 21,
          "data_type": "User",
          "date": "2013-08-01T00:00:00-04:00",
          "day": 1,
          "month": 8,
          "year": 2013
         },
         {
          "counts": 26,
          "data_type": "User",
          "date": "2013-09-01T00:00:00-04:00",
          "day": 1,
          "month": 9,
          "year": 2013
         },
         {
          "counts": 26,
          "data_type": "User",
          "date": "2013-10-01T00:00:00-04:00",
          "day": 1,
          "month": 10,
          "year": 2013
         },
         {
          "counts": 19,
          "data_type": "User",
          "date": "2013-11-01T00:00:00-04:00",
          "day": 1,
          "month": 11,
          "year": 2013
         },
         {
          "counts": 17,
          "data_type": "User",
          "date": "2013-12-01T00:00:00-05:00",
          "day": 1,
          "month": 12,
          "year": 2013
         },
         {
          "counts": 33,
          "data_type": "User",
          "date": "2014-01-01T00:00:00-05:00",
          "day": 1,
          "month": 1,
          "year": 2014
         },
         {
          "counts": 36,
          "data_type": "User",
          "date": "2014-02-01T00:00:00-05:00",
          "day": 1,
          "month": 2,
          "year": 2014
         },
         {
          "counts": 23,
          "data_type": "User",
          "date": "2014-03-01T00:00:00-05:00",
          "day": 1,
          "month": 3,
          "year": 2014
         },
         {
          "counts": 41,
          "data_type": "User",
          "date": "2014-04-01T00:00:00-04:00",
          "day": 1,
          "month": 4,
          "year": 2014
         },
         {
          "counts": 36,
          "data_type": "User",
          "date": "2014-05-01T00:00:00-04:00",
          "day": 1,
          "month": 5,
          "year": 2014
         },
         {
          "counts": 23,
          "data_type": "User",
          "date": "2014-06-01T00:00:00-04:00",
          "day": 1,
          "month": 6,
          "year": 2014
         },
         {
          "counts": 30,
          "data_type": "User",
          "date": "2014-07-01T00:00:00-04:00",
          "day": 1,
          "month": 7,
          "year": 2014
         },
         {
          "counts": 25,
          "data_type": "User",
          "date": "2014-08-01T00:00:00-04:00",
          "day": 1,
          "month": 8,
          "year": 2014
         },
         {
          "counts": 33,
          "data_type": "User",
          "date": "2014-09-01T00:00:00-04:00",
          "day": 1,
          "month": 9,
          "year": 2014
         },
         {
          "counts": 28,
          "data_type": "User",
          "date": "2014-10-01T00:00:00-04:00",
          "day": 1,
          "month": 10,
          "year": 2014
         },
         {
          "counts": 24,
          "data_type": "User",
          "date": "2014-11-01T00:00:00-04:00",
          "day": 1,
          "month": 11,
          "year": 2014
         },
         {
          "counts": 21,
          "data_type": "User",
          "date": "2014-12-01T00:00:00-05:00",
          "day": 1,
          "month": 12,
          "year": 2014
         },
         {
          "counts": 36,
          "data_type": "User",
          "date": "2015-01-01T00:00:00-05:00",
          "day": 1,
          "month": 1,
          "year": 2015
         },
         {
          "counts": 26,
          "data_type": "User",
          "date": "2015-02-01T00:00:00-05:00",
          "day": 1,
          "month": 2,
          "year": 2015
         },
         {
          "counts": 41,
          "data_type": "User",
          "date": "2015-03-01T00:00:00-05:00",
          "day": 1,
          "month": 3,
          "year": 2015
         },
         {
          "counts": 37,
          "data_type": "User",
          "date": "2015-04-01T00:00:00-04:00",
          "day": 1,
          "month": 4,
          "year": 2015
         },
         {
          "counts": 34,
          "data_type": "User",
          "date": "2015-05-01T00:00:00-04:00",
          "day": 1,
          "month": 5,
          "year": 2015
         },
         {
          "counts": 23,
          "data_type": "User",
          "date": "2015-06-01T00:00:00-04:00",
          "day": 1,
          "month": 6,
          "year": 2015
         },
         {
          "counts": 24,
          "data_type": "User",
          "date": "2015-07-01T00:00:00-04:00",
          "day": 1,
          "month": 7,
          "year": 2015
         },
         {
          "counts": 27,
          "data_type": "User",
          "date": "2015-08-01T00:00:00-04:00",
          "day": 1,
          "month": 8,
          "year": 2015
         },
         {
          "counts": 43,
          "data_type": "User",
          "date": "2015-09-01T00:00:00-04:00",
          "day": 1,
          "month": 9,
          "year": 2015
         },
         {
          "counts": 23,
          "data_type": "User",
          "date": "2015-10-01T00:00:00-04:00",
          "day": 1,
          "month": 10,
          "year": 2015
         },
         {
          "counts": 33,
          "data_type": "User",
          "date": "2015-11-01T00:00:00-04:00",
          "day": 1,
          "month": 11,
          "year": 2015
         },
         {
          "counts": 33,
          "data_type": "User",
          "date": "2015-12-01T00:00:00-05:00",
          "day": 1,
          "month": 12,
          "year": 2015
         },
         {
          "counts": 28,
          "data_type": "User",
          "date": "2016-01-01T00:00:00-05:00",
          "day": 1,
          "month": 1,
          "year": 2016
         },
         {
          "counts": 25,
          "data_type": "User",
          "date": "2016-02-01T00:00:00-05:00",
          "day": 1,
          "month": 2,
          "year": 2016
         },
         {
          "counts": 35,
          "data_type": "User",
          "date": "2016-03-01T00:00:00-05:00",
          "day": 1,
          "month": 3,
          "year": 2016
         },
         {
          "counts": 29,
          "data_type": "User",
          "date": "2016-04-01T00:00:00-04:00",
          "day": 1,
          "month": 4,
          "year": 2016
         },
         {
          "counts": 26,
          "data_type": "User",
          "date": "2016-05-01T00:00:00-04:00",
          "day": 1,
          "month": 5,
          "year": 2016
         },
         {
          "counts": 31,
          "data_type": "User",
          "date": "2016-06-01T00:00:00-04:00",
          "day": 1,
          "month": 6,
          "year": 2016
         },
         {
          "counts": 22,
          "data_type": "User",
          "date": "2016-07-01T00:00:00-04:00",
          "day": 1,
          "month": 7,
          "year": 2016
         },
         {
          "counts": 25,
          "data_type": "User",
          "date": "2016-08-01T00:00:00-04:00",
          "day": 1,
          "month": 8,
          "year": 2016
         },
         {
          "counts": 41,
          "data_type": "User",
          "date": "2016-09-01T00:00:00-04:00",
          "day": 1,
          "month": 9,
          "year": 2016
         },
         {
          "counts": 43,
          "data_type": "User",
          "date": "2016-10-01T00:00:00-04:00",
          "day": 1,
          "month": 10,
          "year": 2016
         },
         {
          "counts": 28,
          "data_type": "User",
          "date": "2016-11-01T00:00:00-04:00",
          "day": 1,
          "month": 11,
          "year": 2016
         },
         {
          "counts": 28,
          "data_type": "User",
          "date": "2016-12-01T00:00:00-05:00",
          "day": 1,
          "month": 12,
          "year": 2016
         },
         {
          "counts": 37,
          "data_type": "User",
          "date": "2017-01-01T00:00:00-05:00",
          "day": 1,
          "month": 1,
          "year": 2017
         },
         {
          "counts": 37,
          "data_type": "User",
          "date": "2017-02-01T00:00:00-05:00",
          "day": 1,
          "month": 2,
          "year": 2017
         },
         {
          "counts": 43,
          "data_type": "User",
          "date": "2017-03-01T00:00:00-05:00",
          "day": 1,
          "month": 3,
          "year": 2017
         },
         {
          "counts": 27,
          "data_type": "User",
          "date": "2017-04-01T00:00:00-04:00",
          "day": 1,
          "month": 4,
          "year": 2017
         },
         {
          "counts": 31,
          "data_type": "User",
          "date": "2017-05-01T00:00:00-04:00",
          "day": 1,
          "month": 5,
          "year": 2017
         },
         {
          "counts": 31,
          "data_type": "User",
          "date": "2017-06-01T00:00:00-04:00",
          "day": 1,
          "month": 6,
          "year": 2017
         },
         {
          "counts": 27,
          "data_type": "User",
          "date": "2017-07-01T00:00:00-04:00",
          "day": 1,
          "month": 7,
          "year": 2017
         },
         {
          "counts": 28,
          "data_type": "User",
          "date": "2017-08-01T00:00:00-04:00",
          "day": 1,
          "month": 8,
          "year": 2017
         },
         {
          "counts": 55,
          "data_type": "User",
          "date": "2017-09-01T00:00:00-04:00",
          "day": 1,
          "month": 9,
          "year": 2017
         },
         {
          "counts": 37,
          "data_type": "User",
          "date": "2017-10-01T00:00:00-04:00",
          "day": 1,
          "month": 10,
          "year": 2017
         },
         {
          "counts": 48,
          "data_type": "User",
          "date": "2017-11-01T00:00:00-04:00",
          "day": 1,
          "month": 11,
          "year": 2017
         },
         {
          "counts": 24,
          "data_type": "User",
          "date": "2017-12-01T00:00:00-05:00",
          "day": 1,
          "month": 12,
          "year": 2017
         },
         {
          "counts": 34,
          "data_type": "User",
          "date": "2018-01-01T00:00:00-05:00",
          "day": 1,
          "month": 1,
          "year": 2018
         },
         {
          "counts": 42,
          "data_type": "User",
          "date": "2018-02-01T00:00:00-05:00",
          "day": 1,
          "month": 2,
          "year": 2018
         },
         {
          "counts": 41,
          "data_type": "User",
          "date": "2018-03-01T00:00:00-05:00",
          "day": 1,
          "month": 3,
          "year": 2018
         },
         {
          "counts": 37,
          "data_type": "User",
          "date": "2018-04-01T00:00:00-04:00",
          "day": 1,
          "month": 4,
          "year": 2018
         },
         {
          "counts": 25,
          "data_type": "User",
          "date": "2018-05-01T00:00:00-04:00",
          "day": 1,
          "month": 5,
          "year": 2018
         },
         {
          "counts": 32,
          "data_type": "User",
          "date": "2018-06-01T00:00:00-04:00",
          "day": 1,
          "month": 6,
          "year": 2018
         },
         {
          "counts": 26,
          "data_type": "User",
          "date": "2018-07-01T00:00:00-04:00",
          "day": 1,
          "month": 7,
          "year": 2018
         },
         {
          "counts": 26,
          "data_type": "User",
          "date": "2018-08-01T00:00:00-04:00",
          "day": 1,
          "month": 8,
          "year": 2018
         },
         {
          "counts": 45,
          "data_type": "User",
          "date": "2018-09-01T00:00:00-04:00",
          "day": 1,
          "month": 9,
          "year": 2018
         },
         {
          "counts": 50,
          "data_type": "User",
          "date": "2018-10-01T00:00:00-04:00",
          "day": 1,
          "month": 10,
          "year": 2018
         },
         {
          "counts": 26,
          "data_type": "User",
          "date": "2018-11-01T00:00:00-04:00",
          "day": 1,
          "month": 11,
          "year": 2018
         },
         {
          "counts": 27,
          "data_type": "User",
          "date": "2018-12-01T00:00:00-05:00",
          "day": 1,
          "month": 12,
          "year": 2018
         },
         {
          "counts": 50,
          "data_type": "User",
          "date": "2019-01-01T00:00:00-05:00",
          "day": 1,
          "month": 1,
          "year": 2019
         },
         {
          "counts": 33,
          "data_type": "User",
          "date": "2019-02-01T00:00:00-05:00",
          "day": 1,
          "month": 2,
          "year": 2019
         },
         {
          "counts": 30,
          "data_type": "User",
          "date": "2019-03-01T00:00:00-05:00",
          "day": 1,
          "month": 3,
          "year": 2019
         },
         {
          "counts": 25,
          "data_type": "User",
          "date": "2019-04-01T00:00:00-04:00",
          "day": 1,
          "month": 4,
          "year": 2019
         },
         {
          "counts": 26,
          "data_type": "User",
          "date": "2019-05-01T00:00:00-04:00",
          "day": 1,
          "month": 5,
          "year": 2019
         },
         {
          "counts": 23,
          "data_type": "User",
          "date": "2019-06-01T00:00:00-04:00",
          "day": 1,
          "month": 6,
          "year": 2019
         },
         {
          "counts": 31,
          "data_type": "User",
          "date": "2019-07-01T00:00:00-04:00",
          "day": 1,
          "month": 7,
          "year": 2019
         },
         {
          "counts": 21,
          "data_type": "User",
          "date": "2019-08-01T00:00:00-04:00",
          "day": 1,
          "month": 8,
          "year": 2019
         },
         {
          "counts": 40,
          "data_type": "User",
          "date": "2019-09-01T00:00:00-04:00",
          "day": 1,
          "month": 9,
          "year": 2019
         },
         {
          "counts": 48,
          "data_type": "User",
          "date": "2019-10-01T00:00:00-04:00",
          "day": 1,
          "month": 10,
          "year": 2019
         },
         {
          "counts": 27,
          "data_type": "User",
          "date": "2019-11-01T00:00:00-04:00",
          "day": 1,
          "month": 11,
          "year": 2019
         },
         {
          "counts": 24,
          "data_type": "User",
          "date": "2019-12-01T00:00:00-05:00",
          "day": 1,
          "month": 12,
          "year": 2019
         },
         {
          "counts": 42,
          "data_type": "User",
          "date": "2020-01-01T00:00:00-05:00",
          "day": 1,
          "month": 1,
          "year": 2020
         },
         {
          "counts": 38,
          "data_type": "User",
          "date": "2020-02-01T00:00:00-05:00",
          "day": 1,
          "month": 2,
          "year": 2020
         },
         {
          "counts": 41,
          "data_type": "User",
          "date": "2020-03-01T00:00:00-05:00",
          "day": 1,
          "month": 3,
          "year": 2020
         },
         {
          "counts": 35,
          "data_type": "User",
          "date": "2020-04-01T00:00:00-04:00",
          "day": 1,
          "month": 4,
          "year": 2020
         },
         {
          "counts": 36,
          "data_type": "User",
          "date": "2020-05-01T00:00:00-04:00",
          "day": 1,
          "month": 5,
          "year": 2020
         },
         {
          "counts": 24,
          "data_type": "User",
          "date": "2020-06-01T00:00:00-04:00",
          "day": 1,
          "month": 6,
          "year": 2020
         },
         {
          "counts": 26,
          "data_type": "User",
          "date": "2020-07-01T00:00:00-04:00",
          "day": 1,
          "month": 7,
          "year": 2020
         },
         {
          "counts": 34,
          "data_type": "User",
          "date": "2020-08-01T00:00:00-04:00",
          "day": 1,
          "month": 8,
          "year": 2020
         },
         {
          "counts": 32,
          "data_type": "User",
          "date": "2020-09-01T00:00:00-04:00",
          "day": 1,
          "month": 9,
          "year": 2020
         },
         {
          "counts": 52,
          "data_type": "User",
          "date": "2020-10-01T00:00:00-04:00",
          "day": 1,
          "month": 10,
          "year": 2020
         },
         {
          "counts": 28,
          "data_type": "User",
          "date": "2020-11-01T00:00:00-04:00",
          "day": 1,
          "month": 11,
          "year": 2020
         },
         {
          "counts": 23,
          "data_type": "User",
          "date": "2020-12-01T00:00:00-05:00",
          "day": 1,
          "month": 12,
          "year": 2020
         },
         {
          "counts": 22,
          "data_type": "User",
          "date": "2021-01-01T00:00:00-05:00",
          "day": 1,
          "month": 1,
          "year": 2021
         },
         {
          "counts": 49,
          "data_type": "User",
          "date": "2021-02-01T00:00:00-05:00",
          "day": 1,
          "month": 2,
          "year": 2021
         },
         {
          "counts": 36,
          "data_type": "User",
          "date": "2021-03-01T00:00:00-05:00",
          "day": 1,
          "month": 3,
          "year": 2021
         },
         {
          "counts": 21,
          "data_type": "User",
          "date": "2021-04-01T00:00:00-04:00",
          "day": 1,
          "month": 4,
          "year": 2021
         },
         {
          "counts": 25,
          "data_type": "User",
          "date": "2021-05-01T00:00:00-04:00",
          "day": 1,
          "month": 5,
          "year": 2021
         },
         {
          "counts": 25,
          "data_type": "User",
          "date": "2021-06-01T00:00:00-04:00",
          "day": 1,
          "month": 6,
          "year": 2021
         },
         {
          "counts": 8,
          "data_type": "User",
          "date": "2021-07-01T00:00:00-04:00",
          "day": 1,
          "month": 7,
          "year": 2021
         },
         {
          "counts": 25,
          "data_type": "User",
          "date": "2021-08-01T00:00:00-04:00",
          "day": 1,
          "month": 8,
          "year": 2021
         },
         {
          "counts": 23,
          "data_type": "User",
          "date": "2021-09-01T00:00:00-04:00",
          "day": 1,
          "month": 9,
          "year": 2021
         },
         {
          "counts": 55,
          "data_type": "User",
          "date": "2021-10-01T00:00:00-04:00",
          "day": 1,
          "month": 10,
          "year": 2021
         },
         {
          "counts": 30,
          "data_type": "User",
          "date": "2021-11-01T00:00:00-04:00",
          "day": 1,
          "month": 11,
          "year": 2021
         },
         {
          "counts": 20,
          "data_type": "User",
          "date": "2021-12-01T00:00:00-05:00",
          "day": 1,
          "month": 12,
          "year": 2021
         },
         {
          "counts": 16,
          "data_type": "User",
          "date": "2022-01-01T00:00:00-05:00",
          "day": 1,
          "month": 1,
          "year": 2022
         },
         {
          "counts": 25,
          "data_type": "User",
          "date": "2022-02-01T00:00:00-05:00",
          "day": 1,
          "month": 2,
          "year": 2022
         },
         {
          "counts": 20,
          "data_type": "User",
          "date": "2022-03-01T00:00:00-05:00",
          "day": 1,
          "month": 3,
          "year": 2022
         },
         {
          "counts": 24,
          "data_type": "User",
          "date": "2022-04-01T00:00:00-04:00",
          "day": 1,
          "month": 4,
          "year": 2022
         },
         {
          "counts": 35,
          "data_type": "User",
          "date": "2022-05-01T00:00:00-04:00",
          "day": 1,
          "month": 5,
          "year": 2022
         },
         {
          "counts": 13,
          "data_type": "User",
          "date": "2022-06-01T00:00:00-04:00",
          "day": 1,
          "month": 6,
          "year": 2022
         },
         {
          "counts": 13,
          "data_type": "User",
          "date": "2022-07-01T00:00:00-04:00",
          "day": 1,
          "month": 7,
          "year": 2022
         },
         {
          "counts": 14,
          "data_type": "User",
          "date": "2022-08-01T00:00:00-04:00",
          "day": 1,
          "month": 8,
          "year": 2022
         },
         {
          "counts": 27,
          "data_type": "User",
          "date": "2022-09-01T00:00:00-04:00",
          "day": 1,
          "month": 9,
          "year": 2022
         },
         {
          "counts": 11,
          "data_type": "User",
          "date": "2022-10-01T00:00:00-04:00",
          "day": 1,
          "month": 10,
          "year": 2022
         },
         {
          "counts": 8,
          "data_type": "User",
          "date": "2022-11-01T00:00:00-04:00",
          "day": 1,
          "month": 11,
          "year": 2022
         },
         {
          "counts": 10,
          "data_type": "User",
          "date": "2022-12-01T00:00:00-05:00",
          "day": 1,
          "month": 12,
          "year": 2022
         },
         {
          "counts": 5,
          "data_type": "User",
          "date": "2023-01-01T00:00:00-05:00",
          "day": 1,
          "month": 1,
          "year": 2023
         },
         {
          "counts": 3,
          "data_type": "User",
          "date": "2023-02-01T00:00:00-05:00",
          "day": 1,
          "month": 2,
          "year": 2023
         },
         {
          "counts": 1,
          "data_type": "User",
          "date": "2023-03-01T00:00:00-05:00",
          "day": 1,
          "month": 3,
          "year": 2023
         }
        ]
       },
       "height": 300,
       "layer": [
        {
         "encoding": {
          "color": {
           "field": "data_type",
           "title": "Type of Entity",
           "type": "nominal"
          },
          "x": {
           "axis": {
            "format": "%Y"
           },
           "field": "date",
           "title": "Date Created",
           "type": "temporal"
          },
          "y": {
           "field": "counts",
           "title": "Counts",
           "type": "quantitative"
          }
         },
         "mark": {
          "interpolate": "basis",
          "type": "line"
         }
        },
        {
         "encoding": {
          "opacity": {
           "value": 0
          },
          "x": {
           "field": "date",
           "type": "temporal"
          }
         },
         "mark": {
          "type": "point"
         },
         "name": "view_5"
        },
        {
         "encoding": {
          "color": {
           "field": "data_type",
           "title": "Type of Entity",
           "type": "nominal"
          },
          "opacity": {
           "condition": {
            "empty": false,
            "param": "param_5",
            "value": 1
           },
           "value": 0
          },
          "x": {
           "axis": {
            "format": "%Y"
           },
           "field": "date",
           "title": "Date Created",
           "type": "temporal"
          },
          "y": {
           "field": "counts",
           "title": "Counts",
           "type": "quantitative"
          }
         },
         "mark": {
          "type": "point"
         }
        },
        {
         "encoding": {
          "x": {
           "field": "date",
           "type": "temporal"
          }
         },
         "mark": {
          "color": "gray",
          "type": "rule"
         },
         "transform": [
          {
           "filter": {
            "empty": false,
            "param": "param_5"
           }
          }
         ]
        },
        {
         "encoding": {
          "color": {
           "field": "data_type",
           "title": "Type of Entity",
           "type": "nominal"
          },
          "text": {
           "condition": {
            "empty": false,
            "field": "counts",
            "param": "param_5"
           },
           "value": " "
          },
          "x": {
           "axis": {
            "format": "%Y"
           },
           "field": "date",
           "title": "Date Created",
           "type": "temporal"
          },
          "y": {
           "field": "counts",
           "title": "Counts",
           "type": "quantitative"
          }
         },
         "mark": {
          "align": "left",
          "dx": 5,
          "dy": -5,
          "type": "text"
         }
        }
       ],
       "params": [
        {
         "name": "param_5",
         "select": {
          "encodings": [
           "x"
          ],
          "nearest": true,
          "on": "mouseover",
          "type": "point"
         },
         "views": [
          "view_5"
         ]
        }
       ],
       "title": "Number of Users, Organizations, and Repositories identified as DH, Created Over Time via First Pass",
       "width": 600
      },
      "text/plain": [
       "<VegaLite 5 object>\n",
       "\n",
       "If you see this message, it means the renderer has not been properly enabled\n",
       "for the frontend that you are using. For more information, see\n",
       "https://altair-viz.github.io/user_guide/troubleshooting.html\n"
      ]
     },
     "execution_count": 22,
     "metadata": {},
     "output_type": "execute_result"
    },
    {
     "ename": "",
     "evalue": "",
     "output_type": "error",
     "traceback": [
      "\u001b[1;31mThe Kernel crashed while executing code in the the current cell or a previous cell. Please review the code in the cell(s) to identify a possible cause of the failure. Click <a href='https://aka.ms/vscodeJupyterKernelCrash'>here</a> for more info. View Jupyter <a href='command:jupyter.viewOutput'>log</a> for further details."
     ]
    }
   ],
   "source": [
    "first_pass_chart"
   ]
  },
  {
   "cell_type": "code",
   "execution_count": 23,
   "metadata": {},
   "outputs": [],
   "source": [
    "# save_chart(chart, '../outputs/number_of_users_orgs_repos_created_over_time.png', scale_factor=2)"
   ]
  },
  {
   "attachments": {},
   "cell_type": "markdown",
   "metadata": {},
   "source": []
  }
 ],
 "metadata": {
  "kernelspec": {
   "display_name": "values_and_versions_env",
   "language": "python",
   "name": "python3"
  },
  "language_info": {
   "codemirror_mode": {
    "name": "ipython",
    "version": 3
   },
   "file_extension": ".py",
   "mimetype": "text/x-python",
   "name": "python",
   "nbconvert_exporter": "python",
   "pygments_lexer": "ipython3",
   "version": "3.9.16"
  },
  "orig_nbformat": 4
 },
 "nbformat": 4,
 "nbformat_minor": 2
}
