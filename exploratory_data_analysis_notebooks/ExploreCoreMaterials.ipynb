{
 "cells": [
  {
   "attachments": {},
   "cell_type": "markdown",
   "metadata": {},
   "source": [
    "# Exploring the Overview of Core Materials"
   ]
  },
  {
   "attachments": {},
   "cell_type": "markdown",
   "metadata": {},
   "source": [
    "### Load Libraries and Datasets"
   ]
  },
  {
   "cell_type": "code",
   "execution_count": 1,
   "metadata": {},
   "outputs": [],
   "source": [
    "import pandas as pd\n",
    "pd.options.mode.chained_assignment = None\n",
    "import altair as alt\n",
    "alt.renderers.enable('mimetype')\n",
    "alt.data_transformers.disable_max_rows()\n",
    "import os\n",
    "import sys\n",
    "import warnings\n",
    "warnings.filterwarnings('ignore')\n",
    "# sys.path.append(\"../../searching-for-DH/\")\n",
    "# from data_generation_scripts.utils import save_chart, read_combine_files\n",
    "# from data_generation_scripts.generate_translations import check_detect_language"
   ]
  },
  {
   "cell_type": "code",
   "execution_count": 2,
   "metadata": {},
   "outputs": [],
   "source": [
    "datafile_path = \"../../datasets/\""
   ]
  },
  {
   "cell_type": "code",
   "execution_count": 3,
   "metadata": {},
   "outputs": [],
   "source": [
    "user_df = pd.read_csv(os.path.join(datafile_path, \"large_files/entity_files/users_dataset.csv\"))\n",
    "repo_df = pd.read_csv(os.path.join(datafile_path, \"large_files/entity_files/repos_dataset.csv\"), low_memory=False)\n",
    "org_df = pd.read_csv(os.path.join(datafile_path, \"entity_files/orgs_dataset.csv\"), low_memory=False)\n",
    "search_queries_repo_join_df = pd.read_csv(os.path.join(datafile_path, \"derived_files/updated_search_queries_repo_join_subset_dh_dataset.csv\"))\n",
    "search_queries_user_join_df = pd.read_csv(os.path.join(datafile_path, \"derived_files/updated_search_queries_user_join_subset_dh_dataset.csv\"))"
   ]
  },
  {
   "cell_type": "code",
   "execution_count": 4,
   "metadata": {},
   "outputs": [],
   "source": [
    "def process_core_materials(core_repos, core_users, core_orgs, include_month=True, include_day=False):\n",
    "    core_users['created_at'] = pd.to_datetime(core_users['created_at'], errors='coerce')\n",
    "    core_orgs['created_at'] = pd.to_datetime(core_orgs['created_at'], errors='coerce')\n",
    "    core_repos['created_at'] = pd.to_datetime(core_repos['created_at'], errors='coerce')\n",
    "    core_users['data_type'] = 'User'\n",
    "    core_orgs['data_type'] = 'Organization'\n",
    "    core_repos['data_type'] = 'Repository'\n",
    "    all_data = pd.concat([core_users[['data_type', 'created_at', 'id']], core_orgs[['data_type', 'created_at', 'id']], core_repos[['data_type', 'created_at', 'id']]])\n",
    "    all_data['total_counts'] = 0\n",
    "    all_data.loc[all_data.data_type == 'User', 'total_counts'] = core_users.shape[0]\n",
    "    all_data.loc[all_data.data_type == 'Organization', 'total_counts'] = core_orgs.shape[0]\n",
    "    all_data.loc[all_data.data_type == 'Repository', 'total_counts'] = core_repos.shape[0]\n",
    "\n",
    "    all_data['month'] = all_data['created_at'].dt.month\n",
    "    all_data['year'] = all_data['created_at'].dt.year\n",
    "    all_data['day'] = all_data['created_at'].dt.day\n",
    "    if include_day:\n",
    "        grouped_data = all_data.groupby(['data_type', 'year', 'month', 'day']).size().reset_index(name='counts')\n",
    "    else:\n",
    "        grouped_data = all_data.groupby(['data_type', 'year', 'month']).size().reset_index(name='counts')\n",
    "\n",
    "    \n",
    "    if include_month == False:\n",
    "        grouped_data['month'] = 1\n",
    "    if include_day == False:  \n",
    "        grouped_data['day'] = 1\n",
    "    grouped_data['date'] = pd.to_datetime(grouped_data[['year', 'month', 'day']])\n",
    "    grouped_data.date = grouped_data.date.dt.tz_localize(\"America/New_York\")\n",
    "    return grouped_data"
   ]
  },
  {
   "cell_type": "code",
   "execution_count": 5,
   "metadata": {},
   "outputs": [],
   "source": [
    "def overtime_chart(grouped_data, title):\n",
    "    nearest = alt.selection_point(nearest=True, on='mouseover', encodings=['x'], empty='none')\n",
    "\n",
    "    line = alt.Chart(grouped_data).mark_line(interpolate='basis').encode(\n",
    "        x=alt.X('date:T', title='Date Created', axis=alt.Axis(format='%Y')),\n",
    "        y=alt.Y('counts:Q', title='Counts'),\n",
    "        color=alt.Color('data_type:N', title='Type of Entity')\n",
    "    )\n",
    "\n",
    "    selectors = alt.Chart(grouped_data).mark_point().encode(\n",
    "        x='date:T',\n",
    "        opacity=alt.value(0),\n",
    "    ).add_params(\n",
    "        nearest\n",
    "    )\n",
    "\n",
    "    points = line.mark_point().encode(\n",
    "        opacity=alt.condition(nearest, alt.value(1), alt.value(0))\n",
    "    )\n",
    "\n",
    "    text = line.mark_text(align='left', dx=5, dy=-5).encode(\n",
    "        text=alt.condition(nearest, 'counts', alt.value(' '))\n",
    "    )\n",
    "\n",
    "    rules = alt.Chart(grouped_data).mark_rule(color='gray').encode(\n",
    "        x='date:T',\n",
    "    ).transform_filter(\n",
    "        nearest\n",
    "    )\n",
    "\n",
    "    chart = alt.layer(line, selectors, points, rules, text,).properties(\n",
    "        width=600,\n",
    "        height=300,\n",
    "        title=title\n",
    "    )\n",
    "    return chart"
   ]
  },
  {
   "attachments": {},
   "cell_type": "markdown",
   "metadata": {},
   "source": [
    "### Initial Core Users"
   ]
  },
  {
   "cell_type": "code",
   "execution_count": 6,
   "metadata": {},
   "outputs": [],
   "source": [
    "initial_core_users = pd.read_csv(os.path.join(datafile_path, \"derived_files/initial_core_users.csv\"))\n",
    "initial_core_repos = pd.read_csv(os.path.join(datafile_path, \"derived_files/initial_core_repos.csv\"))\n",
    "initial_core_orgs = pd.read_csv(os.path.join(datafile_path, \"derived_files/initial_core_orgs.csv\"))"
   ]
  },
  {
   "cell_type": "code",
   "execution_count": 7,
   "metadata": {},
   "outputs": [
    {
     "data": {
      "text/plain": [
       "finalized_language\n",
       "en        163\n",
       "es         10\n",
       "pt          4\n",
       "de, en      2\n",
       "it          2\n",
       "de          2\n",
       "en, de      2\n",
       "zh-TW       1\n",
       "en, ru      1\n",
       "et          1\n",
       "zh, en      1\n",
       "en, it      1\n",
       "Name: count, dtype: int64"
      ]
     },
     "execution_count": 7,
     "metadata": {},
     "output_type": "execute_result"
    }
   ],
   "source": [
    "initial_core_orgs.finalized_language.value_counts()"
   ]
  },
  {
   "cell_type": "code",
   "execution_count": 8,
   "metadata": {},
   "outputs": [
    {
     "data": {
      "text/plain": [
       "{'id': {0: 491980506.0},\n",
       " 'node_id': {0: 'R_kgDOHVMG2g'},\n",
       " 'name': {0: 'python_for_DH'},\n",
       " 'full_name': {0: 'eshook2010/python_for_DH'},\n",
       " 'private': {0: 0.0},\n",
       " 'html_url': {0: 'https://github.com/eshook2010/python_for_DH'},\n",
       " 'description': {0: 'Materials from the Python for Digital Humanities Workshop taught on December 13, 2021'},\n",
       " 'fork': {0: 0.0},\n",
       " 'url': {0: 'https://api.github.com/repos/eshook2010/python_for_DH'},\n",
       " 'forks_url': {0: 'https://api.github.com/repos/eshook2010/python_for_DH/forks'},\n",
       " 'keys_url': {0: 'https://api.github.com/repos/eshook2010/python_for_DH/keys{/key_id}'},\n",
       " 'collaborators_url': {0: 'https://api.github.com/repos/eshook2010/python_for_DH/collaborators{/collaborator}'},\n",
       " 'teams_url': {0: 'https://api.github.com/repos/eshook2010/python_for_DH/teams'},\n",
       " 'hooks_url': {0: 'https://api.github.com/repos/eshook2010/python_for_DH/hooks'},\n",
       " 'issue_events_url': {0: 'https://api.github.com/repos/eshook2010/python_for_DH/issues/events{/number}'},\n",
       " 'events_url': {0: 'https://api.github.com/repos/eshook2010/python_for_DH/events'},\n",
       " 'assignees_url': {0: 'https://api.github.com/repos/eshook2010/python_for_DH/assignees{/user}'},\n",
       " 'branches_url': {0: 'https://api.github.com/repos/eshook2010/python_for_DH/branches{/branch}'},\n",
       " 'tags_url': {0: 'https://api.github.com/repos/eshook2010/python_for_DH/tags'},\n",
       " 'blobs_url': {0: 'https://api.github.com/repos/eshook2010/python_for_DH/git/blobs{/sha}'},\n",
       " 'git_tags_url': {0: 'https://api.github.com/repos/eshook2010/python_for_DH/git/tags{/sha}'},\n",
       " 'git_refs_url': {0: 'https://api.github.com/repos/eshook2010/python_for_DH/git/refs{/sha}'},\n",
       " 'trees_url': {0: 'https://api.github.com/repos/eshook2010/python_for_DH/git/trees{/sha}'},\n",
       " 'statuses_url': {0: 'https://api.github.com/repos/eshook2010/python_for_DH/statuses/{sha}'},\n",
       " 'languages_url': {0: 'https://api.github.com/repos/eshook2010/python_for_DH/languages'},\n",
       " 'stargazers_url': {0: 'https://api.github.com/repos/eshook2010/python_for_DH/stargazers'},\n",
       " 'contributors_url': {0: 'https://api.github.com/repos/eshook2010/python_for_DH/contributors'},\n",
       " 'subscribers_url': {0: 'https://api.github.com/repos/eshook2010/python_for_DH/subscribers'},\n",
       " 'subscription_url': {0: 'https://api.github.com/repos/eshook2010/python_for_DH/subscription'},\n",
       " 'commits_url': {0: 'https://api.github.com/repos/eshook2010/python_for_DH/commits{/sha}'},\n",
       " 'git_commits_url': {0: 'https://api.github.com/repos/eshook2010/python_for_DH/git/commits{/sha}'},\n",
       " 'comments_url': {0: 'https://api.github.com/repos/eshook2010/python_for_DH/comments{/number}'},\n",
       " 'issue_comment_url': {0: 'https://api.github.com/repos/eshook2010/python_for_DH/issues/comments{/number}'},\n",
       " 'contents_url': {0: 'https://api.github.com/repos/eshook2010/python_for_DH/contents/{+path}'},\n",
       " 'compare_url': {0: 'https://api.github.com/repos/eshook2010/python_for_DH/compare/{base}...{head}'},\n",
       " 'merges_url': {0: 'https://api.github.com/repos/eshook2010/python_for_DH/merges'},\n",
       " 'archive_url': {0: 'https://api.github.com/repos/eshook2010/python_for_DH/{archive_format}{/ref}'},\n",
       " 'downloads_url': {0: 'https://api.github.com/repos/eshook2010/python_for_DH/downloads'},\n",
       " 'issues_url': {0: 'https://api.github.com/repos/eshook2010/python_for_DH/issues{/number}'},\n",
       " 'pulls_url': {0: 'https://api.github.com/repos/eshook2010/python_for_DH/pulls{/number}'},\n",
       " 'milestones_url': {0: 'https://api.github.com/repos/eshook2010/python_for_DH/milestones{/number}'},\n",
       " 'notifications_url': {0: 'https://api.github.com/repos/eshook2010/python_for_DH/notifications{?since,all,participating}'},\n",
       " 'labels_url': {0: 'https://api.github.com/repos/eshook2010/python_for_DH/labels{/name}'},\n",
       " 'releases_url': {0: 'https://api.github.com/repos/eshook2010/python_for_DH/releases{/id}'},\n",
       " 'deployments_url': {0: 'https://api.github.com/repos/eshook2010/python_for_DH/deployments'},\n",
       " 'created_at': {0: '2022-05-13T17:10:50Z'},\n",
       " 'updated_at': {0: '2022-05-13T18:34:20Z'},\n",
       " 'pushed_at': {0: '2022-05-13T18:35:53Z'},\n",
       " 'git_url': {0: 'git://github.com/eshook2010/python_for_DH.git'},\n",
       " 'ssh_url': {0: 'git@github.com:eshook2010/python_for_DH.git'},\n",
       " 'clone_url': {0: 'https://github.com/eshook2010/python_for_DH.git'},\n",
       " 'svn_url': {0: 'https://github.com/eshook2010/python_for_DH'},\n",
       " 'homepage': {0: nan},\n",
       " 'size': {0: 52.0},\n",
       " 'stargazers_count': {0: 0.0},\n",
       " 'watchers_count': {0: 0.0},\n",
       " 'language': {0: nan},\n",
       " 'has_issues': {0: 1.0},\n",
       " 'has_projects': {0: 1.0},\n",
       " 'has_downloads': {0: 1.0},\n",
       " 'has_wiki': {0: 1.0},\n",
       " 'has_pages': {0: 0.0},\n",
       " 'has_discussions': {0: False},\n",
       " 'forks_count': {0: 0.0},\n",
       " 'mirror_url': {0: nan},\n",
       " 'archived': {0: 0.0},\n",
       " 'disabled': {0: 0.0},\n",
       " 'open_issues_count': {0: 0.0},\n",
       " 'license': {0: nan},\n",
       " 'allow_forking': {0: 1.0},\n",
       " 'is_template': {0: 0.0},\n",
       " 'web_commit_signoff_required': {0: 0.0},\n",
       " 'topics': {0: \"['digital-humanities', 'intro-to-python', 'python', 'text-analysis']\"},\n",
       " 'visibility': {0: 'public'},\n",
       " 'forks': {0: 0.0},\n",
       " 'open_issues': {0: 0.0},\n",
       " 'watchers': {0: 0.0},\n",
       " 'default_branch': {0: 'main'},\n",
       " 'score': {0: 1.0},\n",
       " 'owner.login': {0: 'eshook2010'},\n",
       " 'owner.id': {0: 19559706.0},\n",
       " 'owner.node_id': {0: 'MDQ6VXNlcjE5NTU5NzA2'},\n",
       " 'owner.avatar_url': {0: 'https://avatars.githubusercontent.com/u/19559706?v=4'},\n",
       " 'owner.gravatar_id': {0: nan},\n",
       " 'owner.url': {0: 'https://api.github.com/users/eshook2010'},\n",
       " 'owner.html_url': {0: 'https://github.com/eshook2010'},\n",
       " 'owner.followers_url': {0: 'https://api.github.com/users/eshook2010/followers'},\n",
       " 'owner.following_url': {0: 'https://api.github.com/users/eshook2010/following{/other_user}'},\n",
       " 'owner.gists_url': {0: 'https://api.github.com/users/eshook2010/gists{/gist_id}'},\n",
       " 'owner.starred_url': {0: 'https://api.github.com/users/eshook2010/starred{/owner}{/repo}'},\n",
       " 'owner.subscriptions_url': {0: 'https://api.github.com/users/eshook2010/subscriptions'},\n",
       " 'owner.organizations_url': {0: 'https://api.github.com/users/eshook2010/orgs'},\n",
       " 'owner.repos_url': {0: 'https://api.github.com/users/eshook2010/repos'},\n",
       " 'owner.events_url': {0: 'https://api.github.com/users/eshook2010/events{/privacy}'},\n",
       " 'owner.received_events_url': {0: 'https://api.github.com/users/eshook2010/received_events'},\n",
       " 'owner.type': {0: 'User'},\n",
       " 'owner.site_admin': {0: 0.0},\n",
       " 'permissions.admin': {0: 0.0},\n",
       " 'permissions.maintain': {0: 0.0},\n",
       " 'permissions.push': {0: 0.0},\n",
       " 'permissions.triage': {0: 0.0},\n",
       " 'permissions.pull': {0: 1.0},\n",
       " 'license.key': {0: nan},\n",
       " 'license.name': {0: nan},\n",
       " 'license.spdx_id': {0: nan},\n",
       " 'license.url': {0: nan},\n",
       " 'license.node_id': {0: nan},\n",
       " 'search_query': {0: 'https://api.github.com/search/repositories?q=Digital+Humanities+created%3A2022-01-01..2022-12-31+sort%3Acreated&per_page=100&page=2'},\n",
       " 'search_term': {0: 'Digital Humanities'},\n",
       " 'search_term_source': {0: 'Digital Humanities'},\n",
       " 'natural_language': {0: 'en, ny, ha, ig, lb, mg, sm, sn, st, tl, yo'},\n",
       " 'search_type': {0: 'searched'},\n",
       " 'search_query_time': {0: '2023-03-30'},\n",
       " 'detected_language': {0: 'en'},\n",
       " 'detected_language_confidence': {0: 0.987305760383606},\n",
       " 'finalized_language': {0: 'en'},\n",
       " 'cleaned_search_query': {0: 'https://api.github.com/search/repositories?q=Digital+Humanities+created:2022-01-01..2022-12-31+sort:created&per_page=100'},\n",
       " 'keep_resource': {0: True},\n",
       " 'query': {0: nan},\n",
       " 'updated_natural_language': {0: nan},\n",
       " 'double_check': {0: nan}}"
      ]
     },
     "execution_count": 8,
     "metadata": {},
     "output_type": "execute_result"
    }
   ],
   "source": [
    "search_queries_repo_join_df[0:1].to_dict()"
   ]
  },
  {
   "cell_type": "code",
   "execution_count": 9,
   "metadata": {},
   "outputs": [
    {
     "data": {
      "text/plain": [
       "finalized_language\n",
       "en         1911\n",
       "zh-CN       121\n",
       "it          103\n",
       "fr           70\n",
       "es           64\n",
       "de           55\n",
       "pt           30\n",
       "ru           28\n",
       "vi           16\n",
       "zh-TW        10\n",
       "he            9\n",
       "ko            6\n",
       "cs            6\n",
       "de, en        6\n",
       "da            5\n",
       "ja            3\n",
       "nl            3\n",
       "en, de        3\n",
       "lb            2\n",
       "sv            2\n",
       "no            2\n",
       "en, zh        2\n",
       "en, he        2\n",
       "id            1\n",
       "ru, en        1\n",
       "pt, en        1\n",
       "en, ru        1\n",
       "en, it        1\n",
       "fi            1\n",
       "es, en        1\n",
       "it, en        1\n",
       "la            1\n",
       "th            1\n",
       "pl            1\n",
       "et            1\n",
       "zh            1\n",
       "en, nl        1\n",
       "hu, en        1\n",
       "fil           1\n",
       "bg-Latn       1\n",
       "Name: count, dtype: int64"
      ]
     },
     "execution_count": 9,
     "metadata": {},
     "output_type": "execute_result"
    }
   ],
   "source": [
    "initial_core_repos.finalized_language.value_counts()"
   ]
  },
  {
   "cell_type": "code",
   "execution_count": 10,
   "metadata": {},
   "outputs": [],
   "source": [
    "initial_grouped_data = process_core_materials(initial_core_repos, initial_core_users, initial_core_orgs, include_month=True, include_day=False)"
   ]
  },
  {
   "cell_type": "code",
   "execution_count": 11,
   "metadata": {},
   "outputs": [],
   "source": [
    "initial_chart = overtime_chart(initial_grouped_data, \"Number of Users, Organizations, and Repositories identified as DH, Created Over Time via Initial Search Queries\")"
   ]
  },
  {
   "cell_type": "code",
   "execution_count": 12,
   "metadata": {},
   "outputs": [
    {
     "data": {
      "application/vnd.vegalite.v5+json": {
       "$schema": "https://vega.github.io/schema/vega-lite/v5.8.0.json",
       "config": {
        "view": {
         "continuousHeight": 300,
         "continuousWidth": 300
        }
       },
       "data": {
        "name": "data-e3f2aa9d66bc7e913ae63ec94eef4191"
       },
       "datasets": {
        "data-e3f2aa9d66bc7e913ae63ec94eef4191": [
         {
          "counts": 1,
          "data_type": "Organization",
          "date": "2010-05-01T00:00:00-04:00",
          "day": 1,
          "month": 5,
          "year": 2010
         },
         {
          "counts": 1,
          "data_type": "Organization",
          "date": "2010-10-01T00:00:00-04:00",
          "day": 1,
          "month": 10,
          "year": 2010
         },
         {
          "counts": 1,
          "data_type": "Organization",
          "date": "2011-10-01T00:00:00-04:00",
          "day": 1,
          "month": 10,
          "year": 2011
         },
         {
          "counts": 3,
          "data_type": "Organization",
          "date": "2011-12-01T00:00:00-05:00",
          "day": 1,
          "month": 12,
          "year": 2011
         },
         {
          "counts": 1,
          "data_type": "Organization",
          "date": "2012-04-01T00:00:00-04:00",
          "day": 1,
          "month": 4,
          "year": 2012
         },
         {
          "counts": 1,
          "data_type": "Organization",
          "date": "2012-10-01T00:00:00-04:00",
          "day": 1,
          "month": 10,
          "year": 2012
         },
         {
          "counts": 1,
          "data_type": "Organization",
          "date": "2013-01-01T00:00:00-05:00",
          "day": 1,
          "month": 1,
          "year": 2013
         },
         {
          "counts": 1,
          "data_type": "Organization",
          "date": "2013-03-01T00:00:00-05:00",
          "day": 1,
          "month": 3,
          "year": 2013
         },
         {
          "counts": 1,
          "data_type": "Organization",
          "date": "2013-04-01T00:00:00-04:00",
          "day": 1,
          "month": 4,
          "year": 2013
         },
         {
          "counts": 1,
          "data_type": "Organization",
          "date": "2013-06-01T00:00:00-04:00",
          "day": 1,
          "month": 6,
          "year": 2013
         },
         {
          "counts": 2,
          "data_type": "Organization",
          "date": "2013-07-01T00:00:00-04:00",
          "day": 1,
          "month": 7,
          "year": 2013
         },
         {
          "counts": 1,
          "data_type": "Organization",
          "date": "2013-08-01T00:00:00-04:00",
          "day": 1,
          "month": 8,
          "year": 2013
         },
         {
          "counts": 1,
          "data_type": "Organization",
          "date": "2013-10-01T00:00:00-04:00",
          "day": 1,
          "month": 10,
          "year": 2013
         },
         {
          "counts": 1,
          "data_type": "Organization",
          "date": "2013-12-01T00:00:00-05:00",
          "day": 1,
          "month": 12,
          "year": 2013
         },
         {
          "counts": 1,
          "data_type": "Organization",
          "date": "2014-01-01T00:00:00-05:00",
          "day": 1,
          "month": 1,
          "year": 2014
         },
         {
          "counts": 3,
          "data_type": "Organization",
          "date": "2014-02-01T00:00:00-05:00",
          "day": 1,
          "month": 2,
          "year": 2014
         },
         {
          "counts": 1,
          "data_type": "Organization",
          "date": "2014-05-01T00:00:00-04:00",
          "day": 1,
          "month": 5,
          "year": 2014
         },
         {
          "counts": 1,
          "data_type": "Organization",
          "date": "2014-06-01T00:00:00-04:00",
          "day": 1,
          "month": 6,
          "year": 2014
         },
         {
          "counts": 2,
          "data_type": "Organization",
          "date": "2014-07-01T00:00:00-04:00",
          "day": 1,
          "month": 7,
          "year": 2014
         },
         {
          "counts": 1,
          "data_type": "Organization",
          "date": "2014-09-01T00:00:00-04:00",
          "day": 1,
          "month": 9,
          "year": 2014
         },
         {
          "counts": 2,
          "data_type": "Organization",
          "date": "2014-10-01T00:00:00-04:00",
          "day": 1,
          "month": 10,
          "year": 2014
         },
         {
          "counts": 2,
          "data_type": "Organization",
          "date": "2014-11-01T00:00:00-04:00",
          "day": 1,
          "month": 11,
          "year": 2014
         },
         {
          "counts": 1,
          "data_type": "Organization",
          "date": "2014-12-01T00:00:00-05:00",
          "day": 1,
          "month": 12,
          "year": 2014
         },
         {
          "counts": 3,
          "data_type": "Organization",
          "date": "2015-01-01T00:00:00-05:00",
          "day": 1,
          "month": 1,
          "year": 2015
         },
         {
          "counts": 1,
          "data_type": "Organization",
          "date": "2015-03-01T00:00:00-05:00",
          "day": 1,
          "month": 3,
          "year": 2015
         },
         {
          "counts": 2,
          "data_type": "Organization",
          "date": "2015-04-01T00:00:00-04:00",
          "day": 1,
          "month": 4,
          "year": 2015
         },
         {
          "counts": 1,
          "data_type": "Organization",
          "date": "2015-05-01T00:00:00-04:00",
          "day": 1,
          "month": 5,
          "year": 2015
         },
         {
          "counts": 1,
          "data_type": "Organization",
          "date": "2015-06-01T00:00:00-04:00",
          "day": 1,
          "month": 6,
          "year": 2015
         },
         {
          "counts": 3,
          "data_type": "Organization",
          "date": "2015-07-01T00:00:00-04:00",
          "day": 1,
          "month": 7,
          "year": 2015
         },
         {
          "counts": 1,
          "data_type": "Organization",
          "date": "2015-08-01T00:00:00-04:00",
          "day": 1,
          "month": 8,
          "year": 2015
         },
         {
          "counts": 4,
          "data_type": "Organization",
          "date": "2015-09-01T00:00:00-04:00",
          "day": 1,
          "month": 9,
          "year": 2015
         },
         {
          "counts": 2,
          "data_type": "Organization",
          "date": "2015-10-01T00:00:00-04:00",
          "day": 1,
          "month": 10,
          "year": 2015
         },
         {
          "counts": 2,
          "data_type": "Organization",
          "date": "2015-11-01T00:00:00-04:00",
          "day": 1,
          "month": 11,
          "year": 2015
         },
         {
          "counts": 1,
          "data_type": "Organization",
          "date": "2015-12-01T00:00:00-05:00",
          "day": 1,
          "month": 12,
          "year": 2015
         },
         {
          "counts": 2,
          "data_type": "Organization",
          "date": "2016-01-01T00:00:00-05:00",
          "day": 1,
          "month": 1,
          "year": 2016
         },
         {
          "counts": 4,
          "data_type": "Organization",
          "date": "2016-02-01T00:00:00-05:00",
          "day": 1,
          "month": 2,
          "year": 2016
         },
         {
          "counts": 1,
          "data_type": "Organization",
          "date": "2016-03-01T00:00:00-05:00",
          "day": 1,
          "month": 3,
          "year": 2016
         },
         {
          "counts": 2,
          "data_type": "Organization",
          "date": "2016-04-01T00:00:00-04:00",
          "day": 1,
          "month": 4,
          "year": 2016
         },
         {
          "counts": 2,
          "data_type": "Organization",
          "date": "2016-05-01T00:00:00-04:00",
          "day": 1,
          "month": 5,
          "year": 2016
         },
         {
          "counts": 1,
          "data_type": "Organization",
          "date": "2016-06-01T00:00:00-04:00",
          "day": 1,
          "month": 6,
          "year": 2016
         },
         {
          "counts": 1,
          "data_type": "Organization",
          "date": "2016-07-01T00:00:00-04:00",
          "day": 1,
          "month": 7,
          "year": 2016
         },
         {
          "counts": 2,
          "data_type": "Organization",
          "date": "2016-09-01T00:00:00-04:00",
          "day": 1,
          "month": 9,
          "year": 2016
         },
         {
          "counts": 2,
          "data_type": "Organization",
          "date": "2016-10-01T00:00:00-04:00",
          "day": 1,
          "month": 10,
          "year": 2016
         },
         {
          "counts": 1,
          "data_type": "Organization",
          "date": "2016-11-01T00:00:00-04:00",
          "day": 1,
          "month": 11,
          "year": 2016
         },
         {
          "counts": 2,
          "data_type": "Organization",
          "date": "2017-02-01T00:00:00-05:00",
          "day": 1,
          "month": 2,
          "year": 2017
         },
         {
          "counts": 3,
          "data_type": "Organization",
          "date": "2017-04-01T00:00:00-04:00",
          "day": 1,
          "month": 4,
          "year": 2017
         },
         {
          "counts": 2,
          "data_type": "Organization",
          "date": "2017-05-01T00:00:00-04:00",
          "day": 1,
          "month": 5,
          "year": 2017
         },
         {
          "counts": 3,
          "data_type": "Organization",
          "date": "2017-08-01T00:00:00-04:00",
          "day": 1,
          "month": 8,
          "year": 2017
         },
         {
          "counts": 2,
          "data_type": "Organization",
          "date": "2017-09-01T00:00:00-04:00",
          "day": 1,
          "month": 9,
          "year": 2017
         },
         {
          "counts": 2,
          "data_type": "Organization",
          "date": "2017-10-01T00:00:00-04:00",
          "day": 1,
          "month": 10,
          "year": 2017
         },
         {
          "counts": 1,
          "data_type": "Organization",
          "date": "2017-11-01T00:00:00-04:00",
          "day": 1,
          "month": 11,
          "year": 2017
         },
         {
          "counts": 1,
          "data_type": "Organization",
          "date": "2017-12-01T00:00:00-05:00",
          "day": 1,
          "month": 12,
          "year": 2017
         },
         {
          "counts": 2,
          "data_type": "Organization",
          "date": "2018-01-01T00:00:00-05:00",
          "day": 1,
          "month": 1,
          "year": 2018
         },
         {
          "counts": 2,
          "data_type": "Organization",
          "date": "2018-02-01T00:00:00-05:00",
          "day": 1,
          "month": 2,
          "year": 2018
         },
         {
          "counts": 2,
          "data_type": "Organization",
          "date": "2018-03-01T00:00:00-05:00",
          "day": 1,
          "month": 3,
          "year": 2018
         },
         {
          "counts": 2,
          "data_type": "Organization",
          "date": "2018-04-01T00:00:00-04:00",
          "day": 1,
          "month": 4,
          "year": 2018
         },
         {
          "counts": 1,
          "data_type": "Organization",
          "date": "2018-05-01T00:00:00-04:00",
          "day": 1,
          "month": 5,
          "year": 2018
         },
         {
          "counts": 1,
          "data_type": "Organization",
          "date": "2018-06-01T00:00:00-04:00",
          "day": 1,
          "month": 6,
          "year": 2018
         },
         {
          "counts": 1,
          "data_type": "Organization",
          "date": "2018-07-01T00:00:00-04:00",
          "day": 1,
          "month": 7,
          "year": 2018
         },
         {
          "counts": 2,
          "data_type": "Organization",
          "date": "2018-08-01T00:00:00-04:00",
          "day": 1,
          "month": 8,
          "year": 2018
         },
         {
          "counts": 1,
          "data_type": "Organization",
          "date": "2018-09-01T00:00:00-04:00",
          "day": 1,
          "month": 9,
          "year": 2018
         },
         {
          "counts": 1,
          "data_type": "Organization",
          "date": "2018-10-01T00:00:00-04:00",
          "day": 1,
          "month": 10,
          "year": 2018
         },
         {
          "counts": 1,
          "data_type": "Organization",
          "date": "2018-11-01T00:00:00-04:00",
          "day": 1,
          "month": 11,
          "year": 2018
         },
         {
          "counts": 1,
          "data_type": "Organization",
          "date": "2019-01-01T00:00:00-05:00",
          "day": 1,
          "month": 1,
          "year": 2019
         },
         {
          "counts": 2,
          "data_type": "Organization",
          "date": "2019-02-01T00:00:00-05:00",
          "day": 1,
          "month": 2,
          "year": 2019
         },
         {
          "counts": 4,
          "data_type": "Organization",
          "date": "2019-03-01T00:00:00-05:00",
          "day": 1,
          "month": 3,
          "year": 2019
         },
         {
          "counts": 1,
          "data_type": "Organization",
          "date": "2019-04-01T00:00:00-04:00",
          "day": 1,
          "month": 4,
          "year": 2019
         },
         {
          "counts": 3,
          "data_type": "Organization",
          "date": "2019-05-01T00:00:00-04:00",
          "day": 1,
          "month": 5,
          "year": 2019
         },
         {
          "counts": 1,
          "data_type": "Organization",
          "date": "2019-06-01T00:00:00-04:00",
          "day": 1,
          "month": 6,
          "year": 2019
         },
         {
          "counts": 2,
          "data_type": "Organization",
          "date": "2019-07-01T00:00:00-04:00",
          "day": 1,
          "month": 7,
          "year": 2019
         },
         {
          "counts": 4,
          "data_type": "Organization",
          "date": "2019-09-01T00:00:00-04:00",
          "day": 1,
          "month": 9,
          "year": 2019
         },
         {
          "counts": 1,
          "data_type": "Organization",
          "date": "2019-10-01T00:00:00-04:00",
          "day": 1,
          "month": 10,
          "year": 2019
         },
         {
          "counts": 2,
          "data_type": "Organization",
          "date": "2019-11-01T00:00:00-04:00",
          "day": 1,
          "month": 11,
          "year": 2019
         },
         {
          "counts": 3,
          "data_type": "Organization",
          "date": "2020-02-01T00:00:00-05:00",
          "day": 1,
          "month": 2,
          "year": 2020
         },
         {
          "counts": 3,
          "data_type": "Organization",
          "date": "2020-03-01T00:00:00-05:00",
          "day": 1,
          "month": 3,
          "year": 2020
         },
         {
          "counts": 2,
          "data_type": "Organization",
          "date": "2020-04-01T00:00:00-04:00",
          "day": 1,
          "month": 4,
          "year": 2020
         },
         {
          "counts": 3,
          "data_type": "Organization",
          "date": "2020-05-01T00:00:00-04:00",
          "day": 1,
          "month": 5,
          "year": 2020
         },
         {
          "counts": 1,
          "data_type": "Organization",
          "date": "2020-06-01T00:00:00-04:00",
          "day": 1,
          "month": 6,
          "year": 2020
         },
         {
          "counts": 2,
          "data_type": "Organization",
          "date": "2020-07-01T00:00:00-04:00",
          "day": 1,
          "month": 7,
          "year": 2020
         },
         {
          "counts": 3,
          "data_type": "Organization",
          "date": "2020-08-01T00:00:00-04:00",
          "day": 1,
          "month": 8,
          "year": 2020
         },
         {
          "counts": 3,
          "data_type": "Organization",
          "date": "2020-09-01T00:00:00-04:00",
          "day": 1,
          "month": 9,
          "year": 2020
         },
         {
          "counts": 3,
          "data_type": "Organization",
          "date": "2020-10-01T00:00:00-04:00",
          "day": 1,
          "month": 10,
          "year": 2020
         },
         {
          "counts": 1,
          "data_type": "Organization",
          "date": "2020-11-01T00:00:00-04:00",
          "day": 1,
          "month": 11,
          "year": 2020
         },
         {
          "counts": 1,
          "data_type": "Organization",
          "date": "2021-02-01T00:00:00-05:00",
          "day": 1,
          "month": 2,
          "year": 2021
         },
         {
          "counts": 5,
          "data_type": "Organization",
          "date": "2021-03-01T00:00:00-05:00",
          "day": 1,
          "month": 3,
          "year": 2021
         },
         {
          "counts": 2,
          "data_type": "Organization",
          "date": "2021-04-01T00:00:00-04:00",
          "day": 1,
          "month": 4,
          "year": 2021
         },
         {
          "counts": 1,
          "data_type": "Organization",
          "date": "2021-06-01T00:00:00-04:00",
          "day": 1,
          "month": 6,
          "year": 2021
         },
         {
          "counts": 2,
          "data_type": "Organization",
          "date": "2021-07-01T00:00:00-04:00",
          "day": 1,
          "month": 7,
          "year": 2021
         },
         {
          "counts": 2,
          "data_type": "Organization",
          "date": "2021-08-01T00:00:00-04:00",
          "day": 1,
          "month": 8,
          "year": 2021
         },
         {
          "counts": 1,
          "data_type": "Organization",
          "date": "2021-09-01T00:00:00-04:00",
          "day": 1,
          "month": 9,
          "year": 2021
         },
         {
          "counts": 1,
          "data_type": "Organization",
          "date": "2021-10-01T00:00:00-04:00",
          "day": 1,
          "month": 10,
          "year": 2021
         },
         {
          "counts": 3,
          "data_type": "Organization",
          "date": "2021-12-01T00:00:00-05:00",
          "day": 1,
          "month": 12,
          "year": 2021
         },
         {
          "counts": 3,
          "data_type": "Organization",
          "date": "2022-01-01T00:00:00-05:00",
          "day": 1,
          "month": 1,
          "year": 2022
         },
         {
          "counts": 1,
          "data_type": "Organization",
          "date": "2022-02-01T00:00:00-05:00",
          "day": 1,
          "month": 2,
          "year": 2022
         },
         {
          "counts": 2,
          "data_type": "Organization",
          "date": "2022-03-01T00:00:00-05:00",
          "day": 1,
          "month": 3,
          "year": 2022
         },
         {
          "counts": 4,
          "data_type": "Organization",
          "date": "2022-04-01T00:00:00-04:00",
          "day": 1,
          "month": 4,
          "year": 2022
         },
         {
          "counts": 3,
          "data_type": "Organization",
          "date": "2022-05-01T00:00:00-04:00",
          "day": 1,
          "month": 5,
          "year": 2022
         },
         {
          "counts": 1,
          "data_type": "Organization",
          "date": "2022-07-01T00:00:00-04:00",
          "day": 1,
          "month": 7,
          "year": 2022
         },
         {
          "counts": 2,
          "data_type": "Organization",
          "date": "2022-08-01T00:00:00-04:00",
          "day": 1,
          "month": 8,
          "year": 2022
         },
         {
          "counts": 3,
          "data_type": "Organization",
          "date": "2022-09-01T00:00:00-04:00",
          "day": 1,
          "month": 9,
          "year": 2022
         },
         {
          "counts": 1,
          "data_type": "Organization",
          "date": "2022-10-01T00:00:00-04:00",
          "day": 1,
          "month": 10,
          "year": 2022
         },
         {
          "counts": 1,
          "data_type": "Organization",
          "date": "2022-11-01T00:00:00-04:00",
          "day": 1,
          "month": 11,
          "year": 2022
         },
         {
          "counts": 2,
          "data_type": "Organization",
          "date": "2022-12-01T00:00:00-05:00",
          "day": 1,
          "month": 12,
          "year": 2022
         },
         {
          "counts": 1,
          "data_type": "Organization",
          "date": "2023-01-01T00:00:00-05:00",
          "day": 1,
          "month": 1,
          "year": 2023
         },
         {
          "counts": 1,
          "data_type": "Organization",
          "date": "2023-02-01T00:00:00-05:00",
          "day": 1,
          "month": 2,
          "year": 2023
         },
         {
          "counts": 1,
          "data_type": "Repository",
          "date": "2009-11-01T00:00:00-04:00",
          "day": 1,
          "month": 11,
          "year": 2009
         },
         {
          "counts": 1,
          "data_type": "Repository",
          "date": "2010-03-01T00:00:00-05:00",
          "day": 1,
          "month": 3,
          "year": 2010
         },
         {
          "counts": 1,
          "data_type": "Repository",
          "date": "2010-04-01T00:00:00-04:00",
          "day": 1,
          "month": 4,
          "year": 2010
         },
         {
          "counts": 3,
          "data_type": "Repository",
          "date": "2011-02-01T00:00:00-05:00",
          "day": 1,
          "month": 2,
          "year": 2011
         },
         {
          "counts": 1,
          "data_type": "Repository",
          "date": "2011-04-01T00:00:00-04:00",
          "day": 1,
          "month": 4,
          "year": 2011
         },
         {
          "counts": 1,
          "data_type": "Repository",
          "date": "2011-05-01T00:00:00-04:00",
          "day": 1,
          "month": 5,
          "year": 2011
         },
         {
          "counts": 1,
          "data_type": "Repository",
          "date": "2011-08-01T00:00:00-04:00",
          "day": 1,
          "month": 8,
          "year": 2011
         },
         {
          "counts": 1,
          "data_type": "Repository",
          "date": "2011-11-01T00:00:00-04:00",
          "day": 1,
          "month": 11,
          "year": 2011
         },
         {
          "counts": 1,
          "data_type": "Repository",
          "date": "2011-12-01T00:00:00-05:00",
          "day": 1,
          "month": 12,
          "year": 2011
         },
         {
          "counts": 1,
          "data_type": "Repository",
          "date": "2012-01-01T00:00:00-05:00",
          "day": 1,
          "month": 1,
          "year": 2012
         },
         {
          "counts": 2,
          "data_type": "Repository",
          "date": "2012-02-01T00:00:00-05:00",
          "day": 1,
          "month": 2,
          "year": 2012
         },
         {
          "counts": 1,
          "data_type": "Repository",
          "date": "2012-03-01T00:00:00-05:00",
          "day": 1,
          "month": 3,
          "year": 2012
         },
         {
          "counts": 3,
          "data_type": "Repository",
          "date": "2012-04-01T00:00:00-04:00",
          "day": 1,
          "month": 4,
          "year": 2012
         },
         {
          "counts": 3,
          "data_type": "Repository",
          "date": "2012-08-01T00:00:00-04:00",
          "day": 1,
          "month": 8,
          "year": 2012
         },
         {
          "counts": 2,
          "data_type": "Repository",
          "date": "2012-09-01T00:00:00-04:00",
          "day": 1,
          "month": 9,
          "year": 2012
         },
         {
          "counts": 1,
          "data_type": "Repository",
          "date": "2012-10-01T00:00:00-04:00",
          "day": 1,
          "month": 10,
          "year": 2012
         },
         {
          "counts": 3,
          "data_type": "Repository",
          "date": "2012-11-01T00:00:00-04:00",
          "day": 1,
          "month": 11,
          "year": 2012
         },
         {
          "counts": 1,
          "data_type": "Repository",
          "date": "2012-12-01T00:00:00-05:00",
          "day": 1,
          "month": 12,
          "year": 2012
         },
         {
          "counts": 5,
          "data_type": "Repository",
          "date": "2013-01-01T00:00:00-05:00",
          "day": 1,
          "month": 1,
          "year": 2013
         },
         {
          "counts": 1,
          "data_type": "Repository",
          "date": "2013-02-01T00:00:00-05:00",
          "day": 1,
          "month": 2,
          "year": 2013
         },
         {
          "counts": 2,
          "data_type": "Repository",
          "date": "2013-03-01T00:00:00-05:00",
          "day": 1,
          "month": 3,
          "year": 2013
         },
         {
          "counts": 2,
          "data_type": "Repository",
          "date": "2013-04-01T00:00:00-04:00",
          "day": 1,
          "month": 4,
          "year": 2013
         },
         {
          "counts": 2,
          "data_type": "Repository",
          "date": "2013-05-01T00:00:00-04:00",
          "day": 1,
          "month": 5,
          "year": 2013
         },
         {
          "counts": 2,
          "data_type": "Repository",
          "date": "2013-06-01T00:00:00-04:00",
          "day": 1,
          "month": 6,
          "year": 2013
         },
         {
          "counts": 2,
          "data_type": "Repository",
          "date": "2013-07-01T00:00:00-04:00",
          "day": 1,
          "month": 7,
          "year": 2013
         },
         {
          "counts": 2,
          "data_type": "Repository",
          "date": "2013-08-01T00:00:00-04:00",
          "day": 1,
          "month": 8,
          "year": 2013
         },
         {
          "counts": 1,
          "data_type": "Repository",
          "date": "2013-09-01T00:00:00-04:00",
          "day": 1,
          "month": 9,
          "year": 2013
         },
         {
          "counts": 1,
          "data_type": "Repository",
          "date": "2013-10-01T00:00:00-04:00",
          "day": 1,
          "month": 10,
          "year": 2013
         },
         {
          "counts": 1,
          "data_type": "Repository",
          "date": "2013-11-01T00:00:00-04:00",
          "day": 1,
          "month": 11,
          "year": 2013
         },
         {
          "counts": 5,
          "data_type": "Repository",
          "date": "2013-12-01T00:00:00-05:00",
          "day": 1,
          "month": 12,
          "year": 2013
         },
         {
          "counts": 2,
          "data_type": "Repository",
          "date": "2014-01-01T00:00:00-05:00",
          "day": 1,
          "month": 1,
          "year": 2014
         },
         {
          "counts": 8,
          "data_type": "Repository",
          "date": "2014-02-01T00:00:00-05:00",
          "day": 1,
          "month": 2,
          "year": 2014
         },
         {
          "counts": 2,
          "data_type": "Repository",
          "date": "2014-03-01T00:00:00-05:00",
          "day": 1,
          "month": 3,
          "year": 2014
         },
         {
          "counts": 4,
          "data_type": "Repository",
          "date": "2014-04-01T00:00:00-04:00",
          "day": 1,
          "month": 4,
          "year": 2014
         },
         {
          "counts": 7,
          "data_type": "Repository",
          "date": "2014-05-01T00:00:00-04:00",
          "day": 1,
          "month": 5,
          "year": 2014
         },
         {
          "counts": 2,
          "data_type": "Repository",
          "date": "2014-06-01T00:00:00-04:00",
          "day": 1,
          "month": 6,
          "year": 2014
         },
         {
          "counts": 5,
          "data_type": "Repository",
          "date": "2014-07-01T00:00:00-04:00",
          "day": 1,
          "month": 7,
          "year": 2014
         },
         {
          "counts": 7,
          "data_type": "Repository",
          "date": "2014-08-01T00:00:00-04:00",
          "day": 1,
          "month": 8,
          "year": 2014
         },
         {
          "counts": 5,
          "data_type": "Repository",
          "date": "2014-09-01T00:00:00-04:00",
          "day": 1,
          "month": 9,
          "year": 2014
         },
         {
          "counts": 3,
          "data_type": "Repository",
          "date": "2014-10-01T00:00:00-04:00",
          "day": 1,
          "month": 10,
          "year": 2014
         },
         {
          "counts": 8,
          "data_type": "Repository",
          "date": "2014-11-01T00:00:00-04:00",
          "day": 1,
          "month": 11,
          "year": 2014
         },
         {
          "counts": 7,
          "data_type": "Repository",
          "date": "2014-12-01T00:00:00-05:00",
          "day": 1,
          "month": 12,
          "year": 2014
         },
         {
          "counts": 9,
          "data_type": "Repository",
          "date": "2015-01-01T00:00:00-05:00",
          "day": 1,
          "month": 1,
          "year": 2015
         },
         {
          "counts": 5,
          "data_type": "Repository",
          "date": "2015-02-01T00:00:00-05:00",
          "day": 1,
          "month": 2,
          "year": 2015
         },
         {
          "counts": 5,
          "data_type": "Repository",
          "date": "2015-03-01T00:00:00-05:00",
          "day": 1,
          "month": 3,
          "year": 2015
         },
         {
          "counts": 6,
          "data_type": "Repository",
          "date": "2015-04-01T00:00:00-04:00",
          "day": 1,
          "month": 4,
          "year": 2015
         },
         {
          "counts": 7,
          "data_type": "Repository",
          "date": "2015-05-01T00:00:00-04:00",
          "day": 1,
          "month": 5,
          "year": 2015
         },
         {
          "counts": 8,
          "data_type": "Repository",
          "date": "2015-06-01T00:00:00-04:00",
          "day": 1,
          "month": 6,
          "year": 2015
         },
         {
          "counts": 12,
          "data_type": "Repository",
          "date": "2015-07-01T00:00:00-04:00",
          "day": 1,
          "month": 7,
          "year": 2015
         },
         {
          "counts": 10,
          "data_type": "Repository",
          "date": "2015-08-01T00:00:00-04:00",
          "day": 1,
          "month": 8,
          "year": 2015
         },
         {
          "counts": 9,
          "data_type": "Repository",
          "date": "2015-09-01T00:00:00-04:00",
          "day": 1,
          "month": 9,
          "year": 2015
         },
         {
          "counts": 7,
          "data_type": "Repository",
          "date": "2015-10-01T00:00:00-04:00",
          "day": 1,
          "month": 10,
          "year": 2015
         },
         {
          "counts": 6,
          "data_type": "Repository",
          "date": "2015-11-01T00:00:00-04:00",
          "day": 1,
          "month": 11,
          "year": 2015
         },
         {
          "counts": 11,
          "data_type": "Repository",
          "date": "2015-12-01T00:00:00-05:00",
          "day": 1,
          "month": 12,
          "year": 2015
         },
         {
          "counts": 14,
          "data_type": "Repository",
          "date": "2016-01-01T00:00:00-05:00",
          "day": 1,
          "month": 1,
          "year": 2016
         },
         {
          "counts": 5,
          "data_type": "Repository",
          "date": "2016-02-01T00:00:00-05:00",
          "day": 1,
          "month": 2,
          "year": 2016
         },
         {
          "counts": 10,
          "data_type": "Repository",
          "date": "2016-03-01T00:00:00-05:00",
          "day": 1,
          "month": 3,
          "year": 2016
         },
         {
          "counts": 9,
          "data_type": "Repository",
          "date": "2016-04-01T00:00:00-04:00",
          "day": 1,
          "month": 4,
          "year": 2016
         },
         {
          "counts": 14,
          "data_type": "Repository",
          "date": "2016-05-01T00:00:00-04:00",
          "day": 1,
          "month": 5,
          "year": 2016
         },
         {
          "counts": 8,
          "data_type": "Repository",
          "date": "2016-06-01T00:00:00-04:00",
          "day": 1,
          "month": 6,
          "year": 2016
         },
         {
          "counts": 10,
          "data_type": "Repository",
          "date": "2016-07-01T00:00:00-04:00",
          "day": 1,
          "month": 7,
          "year": 2016
         },
         {
          "counts": 8,
          "data_type": "Repository",
          "date": "2016-08-01T00:00:00-04:00",
          "day": 1,
          "month": 8,
          "year": 2016
         },
         {
          "counts": 14,
          "data_type": "Repository",
          "date": "2016-09-01T00:00:00-04:00",
          "day": 1,
          "month": 9,
          "year": 2016
         },
         {
          "counts": 11,
          "data_type": "Repository",
          "date": "2016-10-01T00:00:00-04:00",
          "day": 1,
          "month": 10,
          "year": 2016
         },
         {
          "counts": 14,
          "data_type": "Repository",
          "date": "2016-11-01T00:00:00-04:00",
          "day": 1,
          "month": 11,
          "year": 2016
         },
         {
          "counts": 17,
          "data_type": "Repository",
          "date": "2016-12-01T00:00:00-05:00",
          "day": 1,
          "month": 12,
          "year": 2016
         },
         {
          "counts": 18,
          "data_type": "Repository",
          "date": "2017-01-01T00:00:00-05:00",
          "day": 1,
          "month": 1,
          "year": 2017
         },
         {
          "counts": 25,
          "data_type": "Repository",
          "date": "2017-02-01T00:00:00-05:00",
          "day": 1,
          "month": 2,
          "year": 2017
         },
         {
          "counts": 22,
          "data_type": "Repository",
          "date": "2017-03-01T00:00:00-05:00",
          "day": 1,
          "month": 3,
          "year": 2017
         },
         {
          "counts": 13,
          "data_type": "Repository",
          "date": "2017-04-01T00:00:00-04:00",
          "day": 1,
          "month": 4,
          "year": 2017
         },
         {
          "counts": 15,
          "data_type": "Repository",
          "date": "2017-05-01T00:00:00-04:00",
          "day": 1,
          "month": 5,
          "year": 2017
         },
         {
          "counts": 11,
          "data_type": "Repository",
          "date": "2017-06-01T00:00:00-04:00",
          "day": 1,
          "month": 6,
          "year": 2017
         },
         {
          "counts": 23,
          "data_type": "Repository",
          "date": "2017-07-01T00:00:00-04:00",
          "day": 1,
          "month": 7,
          "year": 2017
         },
         {
          "counts": 24,
          "data_type": "Repository",
          "date": "2017-08-01T00:00:00-04:00",
          "day": 1,
          "month": 8,
          "year": 2017
         },
         {
          "counts": 47,
          "data_type": "Repository",
          "date": "2017-09-01T00:00:00-04:00",
          "day": 1,
          "month": 9,
          "year": 2017
         },
         {
          "counts": 15,
          "data_type": "Repository",
          "date": "2017-10-01T00:00:00-04:00",
          "day": 1,
          "month": 10,
          "year": 2017
         },
         {
          "counts": 30,
          "data_type": "Repository",
          "date": "2017-11-01T00:00:00-04:00",
          "day": 1,
          "month": 11,
          "year": 2017
         },
         {
          "counts": 12,
          "data_type": "Repository",
          "date": "2017-12-01T00:00:00-05:00",
          "day": 1,
          "month": 12,
          "year": 2017
         },
         {
          "counts": 25,
          "data_type": "Repository",
          "date": "2018-01-01T00:00:00-05:00",
          "day": 1,
          "month": 1,
          "year": 2018
         },
         {
          "counts": 31,
          "data_type": "Repository",
          "date": "2018-02-01T00:00:00-05:00",
          "day": 1,
          "month": 2,
          "year": 2018
         },
         {
          "counts": 30,
          "data_type": "Repository",
          "date": "2018-03-01T00:00:00-05:00",
          "day": 1,
          "month": 3,
          "year": 2018
         },
         {
          "counts": 22,
          "data_type": "Repository",
          "date": "2018-04-01T00:00:00-04:00",
          "day": 1,
          "month": 4,
          "year": 2018
         },
         {
          "counts": 31,
          "data_type": "Repository",
          "date": "2018-05-01T00:00:00-04:00",
          "day": 1,
          "month": 5,
          "year": 2018
         },
         {
          "counts": 20,
          "data_type": "Repository",
          "date": "2018-06-01T00:00:00-04:00",
          "day": 1,
          "month": 6,
          "year": 2018
         },
         {
          "counts": 27,
          "data_type": "Repository",
          "date": "2018-07-01T00:00:00-04:00",
          "day": 1,
          "month": 7,
          "year": 2018
         },
         {
          "counts": 31,
          "data_type": "Repository",
          "date": "2018-08-01T00:00:00-04:00",
          "day": 1,
          "month": 8,
          "year": 2018
         },
         {
          "counts": 35,
          "data_type": "Repository",
          "date": "2018-09-01T00:00:00-04:00",
          "day": 1,
          "month": 9,
          "year": 2018
         },
         {
          "counts": 27,
          "data_type": "Repository",
          "date": "2018-10-01T00:00:00-04:00",
          "day": 1,
          "month": 10,
          "year": 2018
         },
         {
          "counts": 33,
          "data_type": "Repository",
          "date": "2018-11-01T00:00:00-04:00",
          "day": 1,
          "month": 11,
          "year": 2018
         },
         {
          "counts": 22,
          "data_type": "Repository",
          "date": "2018-12-01T00:00:00-05:00",
          "day": 1,
          "month": 12,
          "year": 2018
         },
         {
          "counts": 28,
          "data_type": "Repository",
          "date": "2019-01-01T00:00:00-05:00",
          "day": 1,
          "month": 1,
          "year": 2019
         },
         {
          "counts": 25,
          "data_type": "Repository",
          "date": "2019-02-01T00:00:00-05:00",
          "day": 1,
          "month": 2,
          "year": 2019
         },
         {
          "counts": 28,
          "data_type": "Repository",
          "date": "2019-03-01T00:00:00-05:00",
          "day": 1,
          "month": 3,
          "year": 2019
         },
         {
          "counts": 22,
          "data_type": "Repository",
          "date": "2019-04-01T00:00:00-04:00",
          "day": 1,
          "month": 4,
          "year": 2019
         },
         {
          "counts": 37,
          "data_type": "Repository",
          "date": "2019-05-01T00:00:00-04:00",
          "day": 1,
          "month": 5,
          "year": 2019
         },
         {
          "counts": 21,
          "data_type": "Repository",
          "date": "2019-06-01T00:00:00-04:00",
          "day": 1,
          "month": 6,
          "year": 2019
         },
         {
          "counts": 27,
          "data_type": "Repository",
          "date": "2019-07-01T00:00:00-04:00",
          "day": 1,
          "month": 7,
          "year": 2019
         },
         {
          "counts": 21,
          "data_type": "Repository",
          "date": "2019-08-01T00:00:00-04:00",
          "day": 1,
          "month": 8,
          "year": 2019
         },
         {
          "counts": 25,
          "data_type": "Repository",
          "date": "2019-09-01T00:00:00-04:00",
          "day": 1,
          "month": 9,
          "year": 2019
         },
         {
          "counts": 35,
          "data_type": "Repository",
          "date": "2019-10-01T00:00:00-04:00",
          "day": 1,
          "month": 10,
          "year": 2019
         },
         {
          "counts": 25,
          "data_type": "Repository",
          "date": "2019-11-01T00:00:00-04:00",
          "day": 1,
          "month": 11,
          "year": 2019
         },
         {
          "counts": 18,
          "data_type": "Repository",
          "date": "2019-12-01T00:00:00-05:00",
          "day": 1,
          "month": 12,
          "year": 2019
         },
         {
          "counts": 49,
          "data_type": "Repository",
          "date": "2020-01-01T00:00:00-05:00",
          "day": 1,
          "month": 1,
          "year": 2020
         },
         {
          "counts": 34,
          "data_type": "Repository",
          "date": "2020-02-01T00:00:00-05:00",
          "day": 1,
          "month": 2,
          "year": 2020
         },
         {
          "counts": 35,
          "data_type": "Repository",
          "date": "2020-03-01T00:00:00-05:00",
          "day": 1,
          "month": 3,
          "year": 2020
         },
         {
          "counts": 25,
          "data_type": "Repository",
          "date": "2020-04-01T00:00:00-04:00",
          "day": 1,
          "month": 4,
          "year": 2020
         },
         {
          "counts": 17,
          "data_type": "Repository",
          "date": "2020-05-01T00:00:00-04:00",
          "day": 1,
          "month": 5,
          "year": 2020
         },
         {
          "counts": 26,
          "data_type": "Repository",
          "date": "2020-06-01T00:00:00-04:00",
          "day": 1,
          "month": 6,
          "year": 2020
         },
         {
          "counts": 33,
          "data_type": "Repository",
          "date": "2020-07-01T00:00:00-04:00",
          "day": 1,
          "month": 7,
          "year": 2020
         },
         {
          "counts": 28,
          "data_type": "Repository",
          "date": "2020-08-01T00:00:00-04:00",
          "day": 1,
          "month": 8,
          "year": 2020
         },
         {
          "counts": 34,
          "data_type": "Repository",
          "date": "2020-09-01T00:00:00-04:00",
          "day": 1,
          "month": 9,
          "year": 2020
         },
         {
          "counts": 22,
          "data_type": "Repository",
          "date": "2020-10-01T00:00:00-04:00",
          "day": 1,
          "month": 10,
          "year": 2020
         },
         {
          "counts": 26,
          "data_type": "Repository",
          "date": "2020-11-01T00:00:00-04:00",
          "day": 1,
          "month": 11,
          "year": 2020
         },
         {
          "counts": 38,
          "data_type": "Repository",
          "date": "2020-12-01T00:00:00-05:00",
          "day": 1,
          "month": 12,
          "year": 2020
         },
         {
          "counts": 26,
          "data_type": "Repository",
          "date": "2021-01-01T00:00:00-05:00",
          "day": 1,
          "month": 1,
          "year": 2021
         },
         {
          "counts": 32,
          "data_type": "Repository",
          "date": "2021-02-01T00:00:00-05:00",
          "day": 1,
          "month": 2,
          "year": 2021
         },
         {
          "counts": 41,
          "data_type": "Repository",
          "date": "2021-03-01T00:00:00-05:00",
          "day": 1,
          "month": 3,
          "year": 2021
         },
         {
          "counts": 35,
          "data_type": "Repository",
          "date": "2021-04-01T00:00:00-04:00",
          "day": 1,
          "month": 4,
          "year": 2021
         },
         {
          "counts": 30,
          "data_type": "Repository",
          "date": "2021-05-01T00:00:00-04:00",
          "day": 1,
          "month": 5,
          "year": 2021
         },
         {
          "counts": 54,
          "data_type": "Repository",
          "date": "2021-06-01T00:00:00-04:00",
          "day": 1,
          "month": 6,
          "year": 2021
         },
         {
          "counts": 20,
          "data_type": "Repository",
          "date": "2021-07-01T00:00:00-04:00",
          "day": 1,
          "month": 7,
          "year": 2021
         },
         {
          "counts": 29,
          "data_type": "Repository",
          "date": "2021-08-01T00:00:00-04:00",
          "day": 1,
          "month": 8,
          "year": 2021
         },
         {
          "counts": 34,
          "data_type": "Repository",
          "date": "2021-09-01T00:00:00-04:00",
          "day": 1,
          "month": 9,
          "year": 2021
         },
         {
          "counts": 29,
          "data_type": "Repository",
          "date": "2021-10-01T00:00:00-04:00",
          "day": 1,
          "month": 10,
          "year": 2021
         },
         {
          "counts": 35,
          "data_type": "Repository",
          "date": "2021-11-01T00:00:00-04:00",
          "day": 1,
          "month": 11,
          "year": 2021
         },
         {
          "counts": 32,
          "data_type": "Repository",
          "date": "2021-12-01T00:00:00-05:00",
          "day": 1,
          "month": 12,
          "year": 2021
         },
         {
          "counts": 35,
          "data_type": "Repository",
          "date": "2022-01-01T00:00:00-05:00",
          "day": 1,
          "month": 1,
          "year": 2022
         },
         {
          "counts": 29,
          "data_type": "Repository",
          "date": "2022-02-01T00:00:00-05:00",
          "day": 1,
          "month": 2,
          "year": 2022
         },
         {
          "counts": 36,
          "data_type": "Repository",
          "date": "2022-03-01T00:00:00-05:00",
          "day": 1,
          "month": 3,
          "year": 2022
         },
         {
          "counts": 28,
          "data_type": "Repository",
          "date": "2022-04-01T00:00:00-04:00",
          "day": 1,
          "month": 4,
          "year": 2022
         },
         {
          "counts": 67,
          "data_type": "Repository",
          "date": "2022-05-01T00:00:00-04:00",
          "day": 1,
          "month": 5,
          "year": 2022
         },
         {
          "counts": 47,
          "data_type": "Repository",
          "date": "2022-06-01T00:00:00-04:00",
          "day": 1,
          "month": 6,
          "year": 2022
         },
         {
          "counts": 37,
          "data_type": "Repository",
          "date": "2022-07-01T00:00:00-04:00",
          "day": 1,
          "month": 7,
          "year": 2022
         },
         {
          "counts": 35,
          "data_type": "Repository",
          "date": "2022-08-01T00:00:00-04:00",
          "day": 1,
          "month": 8,
          "year": 2022
         },
         {
          "counts": 35,
          "data_type": "Repository",
          "date": "2022-09-01T00:00:00-04:00",
          "day": 1,
          "month": 9,
          "year": 2022
         },
         {
          "counts": 36,
          "data_type": "Repository",
          "date": "2022-10-01T00:00:00-04:00",
          "day": 1,
          "month": 10,
          "year": 2022
         },
         {
          "counts": 39,
          "data_type": "Repository",
          "date": "2022-11-01T00:00:00-04:00",
          "day": 1,
          "month": 11,
          "year": 2022
         },
         {
          "counts": 23,
          "data_type": "Repository",
          "date": "2022-12-01T00:00:00-05:00",
          "day": 1,
          "month": 12,
          "year": 2022
         },
         {
          "counts": 8,
          "data_type": "Repository",
          "date": "2023-01-01T00:00:00-05:00",
          "day": 1,
          "month": 1,
          "year": 2023
         },
         {
          "counts": 21,
          "data_type": "Repository",
          "date": "2023-02-01T00:00:00-05:00",
          "day": 1,
          "month": 2,
          "year": 2023
         },
         {
          "counts": 1,
          "data_type": "Repository",
          "date": "2023-03-01T00:00:00-05:00",
          "day": 1,
          "month": 3,
          "year": 2023
         },
         {
          "counts": 1,
          "data_type": "User",
          "date": "2008-06-01T00:00:00-04:00",
          "day": 1,
          "month": 6,
          "year": 2008
         },
         {
          "counts": 1,
          "data_type": "User",
          "date": "2008-08-01T00:00:00-04:00",
          "day": 1,
          "month": 8,
          "year": 2008
         },
         {
          "counts": 1,
          "data_type": "User",
          "date": "2008-10-01T00:00:00-04:00",
          "day": 1,
          "month": 10,
          "year": 2008
         },
         {
          "counts": 2,
          "data_type": "User",
          "date": "2009-10-01T00:00:00-04:00",
          "day": 1,
          "month": 10,
          "year": 2009
         },
         {
          "counts": 1,
          "data_type": "User",
          "date": "2010-01-01T00:00:00-05:00",
          "day": 1,
          "month": 1,
          "year": 2010
         },
         {
          "counts": 1,
          "data_type": "User",
          "date": "2010-02-01T00:00:00-05:00",
          "day": 1,
          "month": 2,
          "year": 2010
         },
         {
          "counts": 2,
          "data_type": "User",
          "date": "2010-03-01T00:00:00-05:00",
          "day": 1,
          "month": 3,
          "year": 2010
         },
         {
          "counts": 1,
          "data_type": "User",
          "date": "2010-05-01T00:00:00-04:00",
          "day": 1,
          "month": 5,
          "year": 2010
         },
         {
          "counts": 1,
          "data_type": "User",
          "date": "2010-06-01T00:00:00-04:00",
          "day": 1,
          "month": 6,
          "year": 2010
         },
         {
          "counts": 1,
          "data_type": "User",
          "date": "2010-07-01T00:00:00-04:00",
          "day": 1,
          "month": 7,
          "year": 2010
         },
         {
          "counts": 1,
          "data_type": "User",
          "date": "2010-08-01T00:00:00-04:00",
          "day": 1,
          "month": 8,
          "year": 2010
         },
         {
          "counts": 2,
          "data_type": "User",
          "date": "2010-09-01T00:00:00-04:00",
          "day": 1,
          "month": 9,
          "year": 2010
         },
         {
          "counts": 1,
          "data_type": "User",
          "date": "2010-12-01T00:00:00-05:00",
          "day": 1,
          "month": 12,
          "year": 2010
         },
         {
          "counts": 1,
          "data_type": "User",
          "date": "2011-02-01T00:00:00-05:00",
          "day": 1,
          "month": 2,
          "year": 2011
         },
         {
          "counts": 2,
          "data_type": "User",
          "date": "2011-03-01T00:00:00-05:00",
          "day": 1,
          "month": 3,
          "year": 2011
         },
         {
          "counts": 2,
          "data_type": "User",
          "date": "2011-04-01T00:00:00-04:00",
          "day": 1,
          "month": 4,
          "year": 2011
         },
         {
          "counts": 1,
          "data_type": "User",
          "date": "2011-05-01T00:00:00-04:00",
          "day": 1,
          "month": 5,
          "year": 2011
         },
         {
          "counts": 2,
          "data_type": "User",
          "date": "2011-06-01T00:00:00-04:00",
          "day": 1,
          "month": 6,
          "year": 2011
         },
         {
          "counts": 1,
          "data_type": "User",
          "date": "2011-07-01T00:00:00-04:00",
          "day": 1,
          "month": 7,
          "year": 2011
         },
         {
          "counts": 3,
          "data_type": "User",
          "date": "2011-08-01T00:00:00-04:00",
          "day": 1,
          "month": 8,
          "year": 2011
         },
         {
          "counts": 2,
          "data_type": "User",
          "date": "2011-11-01T00:00:00-04:00",
          "day": 1,
          "month": 11,
          "year": 2011
         },
         {
          "counts": 1,
          "data_type": "User",
          "date": "2011-12-01T00:00:00-05:00",
          "day": 1,
          "month": 12,
          "year": 2011
         },
         {
          "counts": 1,
          "data_type": "User",
          "date": "2012-02-01T00:00:00-05:00",
          "day": 1,
          "month": 2,
          "year": 2012
         },
         {
          "counts": 1,
          "data_type": "User",
          "date": "2012-03-01T00:00:00-05:00",
          "day": 1,
          "month": 3,
          "year": 2012
         },
         {
          "counts": 1,
          "data_type": "User",
          "date": "2012-05-01T00:00:00-04:00",
          "day": 1,
          "month": 5,
          "year": 2012
         },
         {
          "counts": 1,
          "data_type": "User",
          "date": "2012-06-01T00:00:00-04:00",
          "day": 1,
          "month": 6,
          "year": 2012
         },
         {
          "counts": 1,
          "data_type": "User",
          "date": "2012-07-01T00:00:00-04:00",
          "day": 1,
          "month": 7,
          "year": 2012
         },
         {
          "counts": 1,
          "data_type": "User",
          "date": "2012-09-01T00:00:00-04:00",
          "day": 1,
          "month": 9,
          "year": 2012
         },
         {
          "counts": 6,
          "data_type": "User",
          "date": "2012-10-01T00:00:00-04:00",
          "day": 1,
          "month": 10,
          "year": 2012
         },
         {
          "counts": 1,
          "data_type": "User",
          "date": "2012-11-01T00:00:00-04:00",
          "day": 1,
          "month": 11,
          "year": 2012
         },
         {
          "counts": 1,
          "data_type": "User",
          "date": "2012-12-01T00:00:00-05:00",
          "day": 1,
          "month": 12,
          "year": 2012
         },
         {
          "counts": 3,
          "data_type": "User",
          "date": "2013-01-01T00:00:00-05:00",
          "day": 1,
          "month": 1,
          "year": 2013
         },
         {
          "counts": 4,
          "data_type": "User",
          "date": "2013-02-01T00:00:00-05:00",
          "day": 1,
          "month": 2,
          "year": 2013
         },
         {
          "counts": 4,
          "data_type": "User",
          "date": "2013-03-01T00:00:00-05:00",
          "day": 1,
          "month": 3,
          "year": 2013
         },
         {
          "counts": 3,
          "data_type": "User",
          "date": "2013-04-01T00:00:00-04:00",
          "day": 1,
          "month": 4,
          "year": 2013
         },
         {
          "counts": 5,
          "data_type": "User",
          "date": "2013-05-01T00:00:00-04:00",
          "day": 1,
          "month": 5,
          "year": 2013
         },
         {
          "counts": 3,
          "data_type": "User",
          "date": "2013-06-01T00:00:00-04:00",
          "day": 1,
          "month": 6,
          "year": 2013
         },
         {
          "counts": 2,
          "data_type": "User",
          "date": "2013-07-01T00:00:00-04:00",
          "day": 1,
          "month": 7,
          "year": 2013
         },
         {
          "counts": 2,
          "data_type": "User",
          "date": "2013-08-01T00:00:00-04:00",
          "day": 1,
          "month": 8,
          "year": 2013
         },
         {
          "counts": 5,
          "data_type": "User",
          "date": "2013-09-01T00:00:00-04:00",
          "day": 1,
          "month": 9,
          "year": 2013
         },
         {
          "counts": 3,
          "data_type": "User",
          "date": "2013-10-01T00:00:00-04:00",
          "day": 1,
          "month": 10,
          "year": 2013
         },
         {
          "counts": 2,
          "data_type": "User",
          "date": "2013-11-01T00:00:00-04:00",
          "day": 1,
          "month": 11,
          "year": 2013
         },
         {
          "counts": 3,
          "data_type": "User",
          "date": "2014-01-01T00:00:00-05:00",
          "day": 1,
          "month": 1,
          "year": 2014
         },
         {
          "counts": 2,
          "data_type": "User",
          "date": "2014-02-01T00:00:00-05:00",
          "day": 1,
          "month": 2,
          "year": 2014
         },
         {
          "counts": 1,
          "data_type": "User",
          "date": "2014-03-01T00:00:00-05:00",
          "day": 1,
          "month": 3,
          "year": 2014
         },
         {
          "counts": 4,
          "data_type": "User",
          "date": "2014-04-01T00:00:00-04:00",
          "day": 1,
          "month": 4,
          "year": 2014
         },
         {
          "counts": 5,
          "data_type": "User",
          "date": "2014-05-01T00:00:00-04:00",
          "day": 1,
          "month": 5,
          "year": 2014
         },
         {
          "counts": 4,
          "data_type": "User",
          "date": "2014-06-01T00:00:00-04:00",
          "day": 1,
          "month": 6,
          "year": 2014
         },
         {
          "counts": 1,
          "data_type": "User",
          "date": "2014-07-01T00:00:00-04:00",
          "day": 1,
          "month": 7,
          "year": 2014
         },
         {
          "counts": 4,
          "data_type": "User",
          "date": "2014-08-01T00:00:00-04:00",
          "day": 1,
          "month": 8,
          "year": 2014
         },
         {
          "counts": 3,
          "data_type": "User",
          "date": "2014-09-01T00:00:00-04:00",
          "day": 1,
          "month": 9,
          "year": 2014
         },
         {
          "counts": 2,
          "data_type": "User",
          "date": "2014-10-01T00:00:00-04:00",
          "day": 1,
          "month": 10,
          "year": 2014
         },
         {
          "counts": 3,
          "data_type": "User",
          "date": "2014-11-01T00:00:00-04:00",
          "day": 1,
          "month": 11,
          "year": 2014
         },
         {
          "counts": 3,
          "data_type": "User",
          "date": "2014-12-01T00:00:00-05:00",
          "day": 1,
          "month": 12,
          "year": 2014
         },
         {
          "counts": 3,
          "data_type": "User",
          "date": "2015-01-01T00:00:00-05:00",
          "day": 1,
          "month": 1,
          "year": 2015
         },
         {
          "counts": 4,
          "data_type": "User",
          "date": "2015-02-01T00:00:00-05:00",
          "day": 1,
          "month": 2,
          "year": 2015
         },
         {
          "counts": 6,
          "data_type": "User",
          "date": "2015-03-01T00:00:00-05:00",
          "day": 1,
          "month": 3,
          "year": 2015
         },
         {
          "counts": 2,
          "data_type": "User",
          "date": "2015-04-01T00:00:00-04:00",
          "day": 1,
          "month": 4,
          "year": 2015
         },
         {
          "counts": 4,
          "data_type": "User",
          "date": "2015-05-01T00:00:00-04:00",
          "day": 1,
          "month": 5,
          "year": 2015
         },
         {
          "counts": 3,
          "data_type": "User",
          "date": "2015-06-01T00:00:00-04:00",
          "day": 1,
          "month": 6,
          "year": 2015
         },
         {
          "counts": 4,
          "data_type": "User",
          "date": "2015-07-01T00:00:00-04:00",
          "day": 1,
          "month": 7,
          "year": 2015
         },
         {
          "counts": 1,
          "data_type": "User",
          "date": "2015-09-01T00:00:00-04:00",
          "day": 1,
          "month": 9,
          "year": 2015
         },
         {
          "counts": 3,
          "data_type": "User",
          "date": "2015-10-01T00:00:00-04:00",
          "day": 1,
          "month": 10,
          "year": 2015
         },
         {
          "counts": 2,
          "data_type": "User",
          "date": "2015-11-01T00:00:00-04:00",
          "day": 1,
          "month": 11,
          "year": 2015
         },
         {
          "counts": 4,
          "data_type": "User",
          "date": "2015-12-01T00:00:00-05:00",
          "day": 1,
          "month": 12,
          "year": 2015
         },
         {
          "counts": 1,
          "data_type": "User",
          "date": "2016-01-01T00:00:00-05:00",
          "day": 1,
          "month": 1,
          "year": 2016
         },
         {
          "counts": 2,
          "data_type": "User",
          "date": "2016-02-01T00:00:00-05:00",
          "day": 1,
          "month": 2,
          "year": 2016
         },
         {
          "counts": 7,
          "data_type": "User",
          "date": "2016-03-01T00:00:00-05:00",
          "day": 1,
          "month": 3,
          "year": 2016
         },
         {
          "counts": 2,
          "data_type": "User",
          "date": "2016-04-01T00:00:00-04:00",
          "day": 1,
          "month": 4,
          "year": 2016
         },
         {
          "counts": 5,
          "data_type": "User",
          "date": "2016-05-01T00:00:00-04:00",
          "day": 1,
          "month": 5,
          "year": 2016
         },
         {
          "counts": 3,
          "data_type": "User",
          "date": "2016-06-01T00:00:00-04:00",
          "day": 1,
          "month": 6,
          "year": 2016
         },
         {
          "counts": 3,
          "data_type": "User",
          "date": "2016-07-01T00:00:00-04:00",
          "day": 1,
          "month": 7,
          "year": 2016
         },
         {
          "counts": 6,
          "data_type": "User",
          "date": "2016-08-01T00:00:00-04:00",
          "day": 1,
          "month": 8,
          "year": 2016
         },
         {
          "counts": 8,
          "data_type": "User",
          "date": "2016-09-01T00:00:00-04:00",
          "day": 1,
          "month": 9,
          "year": 2016
         },
         {
          "counts": 9,
          "data_type": "User",
          "date": "2016-10-01T00:00:00-04:00",
          "day": 1,
          "month": 10,
          "year": 2016
         },
         {
          "counts": 5,
          "data_type": "User",
          "date": "2016-11-01T00:00:00-04:00",
          "day": 1,
          "month": 11,
          "year": 2016
         },
         {
          "counts": 8,
          "data_type": "User",
          "date": "2016-12-01T00:00:00-05:00",
          "day": 1,
          "month": 12,
          "year": 2016
         },
         {
          "counts": 3,
          "data_type": "User",
          "date": "2017-01-01T00:00:00-05:00",
          "day": 1,
          "month": 1,
          "year": 2017
         },
         {
          "counts": 5,
          "data_type": "User",
          "date": "2017-02-01T00:00:00-05:00",
          "day": 1,
          "month": 2,
          "year": 2017
         },
         {
          "counts": 9,
          "data_type": "User",
          "date": "2017-03-01T00:00:00-05:00",
          "day": 1,
          "month": 3,
          "year": 2017
         },
         {
          "counts": 5,
          "data_type": "User",
          "date": "2017-04-01T00:00:00-04:00",
          "day": 1,
          "month": 4,
          "year": 2017
         },
         {
          "counts": 7,
          "data_type": "User",
          "date": "2017-05-01T00:00:00-04:00",
          "day": 1,
          "month": 5,
          "year": 2017
         },
         {
          "counts": 13,
          "data_type": "User",
          "date": "2017-06-01T00:00:00-04:00",
          "day": 1,
          "month": 6,
          "year": 2017
         },
         {
          "counts": 5,
          "data_type": "User",
          "date": "2017-07-01T00:00:00-04:00",
          "day": 1,
          "month": 7,
          "year": 2017
         },
         {
          "counts": 4,
          "data_type": "User",
          "date": "2017-08-01T00:00:00-04:00",
          "day": 1,
          "month": 8,
          "year": 2017
         },
         {
          "counts": 6,
          "data_type": "User",
          "date": "2017-09-01T00:00:00-04:00",
          "day": 1,
          "month": 9,
          "year": 2017
         },
         {
          "counts": 7,
          "data_type": "User",
          "date": "2017-10-01T00:00:00-04:00",
          "day": 1,
          "month": 10,
          "year": 2017
         },
         {
          "counts": 15,
          "data_type": "User",
          "date": "2017-11-01T00:00:00-04:00",
          "day": 1,
          "month": 11,
          "year": 2017
         },
         {
          "counts": 3,
          "data_type": "User",
          "date": "2017-12-01T00:00:00-05:00",
          "day": 1,
          "month": 12,
          "year": 2017
         },
         {
          "counts": 7,
          "data_type": "User",
          "date": "2018-01-01T00:00:00-05:00",
          "day": 1,
          "month": 1,
          "year": 2018
         },
         {
          "counts": 6,
          "data_type": "User",
          "date": "2018-02-01T00:00:00-05:00",
          "day": 1,
          "month": 2,
          "year": 2018
         },
         {
          "counts": 11,
          "data_type": "User",
          "date": "2018-03-01T00:00:00-05:00",
          "day": 1,
          "month": 3,
          "year": 2018
         },
         {
          "counts": 12,
          "data_type": "User",
          "date": "2018-04-01T00:00:00-04:00",
          "day": 1,
          "month": 4,
          "year": 2018
         },
         {
          "counts": 6,
          "data_type": "User",
          "date": "2018-05-01T00:00:00-04:00",
          "day": 1,
          "month": 5,
          "year": 2018
         },
         {
          "counts": 4,
          "data_type": "User",
          "date": "2018-06-01T00:00:00-04:00",
          "day": 1,
          "month": 6,
          "year": 2018
         },
         {
          "counts": 9,
          "data_type": "User",
          "date": "2018-07-01T00:00:00-04:00",
          "day": 1,
          "month": 7,
          "year": 2018
         },
         {
          "counts": 4,
          "data_type": "User",
          "date": "2018-08-01T00:00:00-04:00",
          "day": 1,
          "month": 8,
          "year": 2018
         },
         {
          "counts": 10,
          "data_type": "User",
          "date": "2018-09-01T00:00:00-04:00",
          "day": 1,
          "month": 9,
          "year": 2018
         },
         {
          "counts": 9,
          "data_type": "User",
          "date": "2018-10-01T00:00:00-04:00",
          "day": 1,
          "month": 10,
          "year": 2018
         },
         {
          "counts": 6,
          "data_type": "User",
          "date": "2018-11-01T00:00:00-04:00",
          "day": 1,
          "month": 11,
          "year": 2018
         },
         {
          "counts": 3,
          "data_type": "User",
          "date": "2018-12-01T00:00:00-05:00",
          "day": 1,
          "month": 12,
          "year": 2018
         },
         {
          "counts": 7,
          "data_type": "User",
          "date": "2019-01-01T00:00:00-05:00",
          "day": 1,
          "month": 1,
          "year": 2019
         },
         {
          "counts": 4,
          "data_type": "User",
          "date": "2019-02-01T00:00:00-05:00",
          "day": 1,
          "month": 2,
          "year": 2019
         },
         {
          "counts": 3,
          "data_type": "User",
          "date": "2019-03-01T00:00:00-05:00",
          "day": 1,
          "month": 3,
          "year": 2019
         },
         {
          "counts": 5,
          "data_type": "User",
          "date": "2019-04-01T00:00:00-04:00",
          "day": 1,
          "month": 4,
          "year": 2019
         },
         {
          "counts": 6,
          "data_type": "User",
          "date": "2019-05-01T00:00:00-04:00",
          "day": 1,
          "month": 5,
          "year": 2019
         },
         {
          "counts": 5,
          "data_type": "User",
          "date": "2019-06-01T00:00:00-04:00",
          "day": 1,
          "month": 6,
          "year": 2019
         },
         {
          "counts": 9,
          "data_type": "User",
          "date": "2019-07-01T00:00:00-04:00",
          "day": 1,
          "month": 7,
          "year": 2019
         },
         {
          "counts": 5,
          "data_type": "User",
          "date": "2019-08-01T00:00:00-04:00",
          "day": 1,
          "month": 8,
          "year": 2019
         },
         {
          "counts": 10,
          "data_type": "User",
          "date": "2019-09-01T00:00:00-04:00",
          "day": 1,
          "month": 9,
          "year": 2019
         },
         {
          "counts": 9,
          "data_type": "User",
          "date": "2019-10-01T00:00:00-04:00",
          "day": 1,
          "month": 10,
          "year": 2019
         },
         {
          "counts": 2,
          "data_type": "User",
          "date": "2019-11-01T00:00:00-04:00",
          "day": 1,
          "month": 11,
          "year": 2019
         },
         {
          "counts": 9,
          "data_type": "User",
          "date": "2019-12-01T00:00:00-05:00",
          "day": 1,
          "month": 12,
          "year": 2019
         },
         {
          "counts": 8,
          "data_type": "User",
          "date": "2020-01-01T00:00:00-05:00",
          "day": 1,
          "month": 1,
          "year": 2020
         },
         {
          "counts": 15,
          "data_type": "User",
          "date": "2020-02-01T00:00:00-05:00",
          "day": 1,
          "month": 2,
          "year": 2020
         },
         {
          "counts": 10,
          "data_type": "User",
          "date": "2020-03-01T00:00:00-05:00",
          "day": 1,
          "month": 3,
          "year": 2020
         },
         {
          "counts": 9,
          "data_type": "User",
          "date": "2020-04-01T00:00:00-04:00",
          "day": 1,
          "month": 4,
          "year": 2020
         },
         {
          "counts": 8,
          "data_type": "User",
          "date": "2020-05-01T00:00:00-04:00",
          "day": 1,
          "month": 5,
          "year": 2020
         },
         {
          "counts": 6,
          "data_type": "User",
          "date": "2020-06-01T00:00:00-04:00",
          "day": 1,
          "month": 6,
          "year": 2020
         },
         {
          "counts": 11,
          "data_type": "User",
          "date": "2020-07-01T00:00:00-04:00",
          "day": 1,
          "month": 7,
          "year": 2020
         },
         {
          "counts": 9,
          "data_type": "User",
          "date": "2020-08-01T00:00:00-04:00",
          "day": 1,
          "month": 8,
          "year": 2020
         },
         {
          "counts": 3,
          "data_type": "User",
          "date": "2020-09-01T00:00:00-04:00",
          "day": 1,
          "month": 9,
          "year": 2020
         },
         {
          "counts": 9,
          "data_type": "User",
          "date": "2020-10-01T00:00:00-04:00",
          "day": 1,
          "month": 10,
          "year": 2020
         },
         {
          "counts": 7,
          "data_type": "User",
          "date": "2020-11-01T00:00:00-04:00",
          "day": 1,
          "month": 11,
          "year": 2020
         },
         {
          "counts": 5,
          "data_type": "User",
          "date": "2020-12-01T00:00:00-05:00",
          "day": 1,
          "month": 12,
          "year": 2020
         },
         {
          "counts": 8,
          "data_type": "User",
          "date": "2021-01-01T00:00:00-05:00",
          "day": 1,
          "month": 1,
          "year": 2021
         },
         {
          "counts": 16,
          "data_type": "User",
          "date": "2021-02-01T00:00:00-05:00",
          "day": 1,
          "month": 2,
          "year": 2021
         },
         {
          "counts": 12,
          "data_type": "User",
          "date": "2021-03-01T00:00:00-05:00",
          "day": 1,
          "month": 3,
          "year": 2021
         },
         {
          "counts": 6,
          "data_type": "User",
          "date": "2021-04-01T00:00:00-04:00",
          "day": 1,
          "month": 4,
          "year": 2021
         },
         {
          "counts": 4,
          "data_type": "User",
          "date": "2021-05-01T00:00:00-04:00",
          "day": 1,
          "month": 5,
          "year": 2021
         },
         {
          "counts": 9,
          "data_type": "User",
          "date": "2021-06-01T00:00:00-04:00",
          "day": 1,
          "month": 6,
          "year": 2021
         },
         {
          "counts": 4,
          "data_type": "User",
          "date": "2021-07-01T00:00:00-04:00",
          "day": 1,
          "month": 7,
          "year": 2021
         },
         {
          "counts": 6,
          "data_type": "User",
          "date": "2021-08-01T00:00:00-04:00",
          "day": 1,
          "month": 8,
          "year": 2021
         },
         {
          "counts": 6,
          "data_type": "User",
          "date": "2021-09-01T00:00:00-04:00",
          "day": 1,
          "month": 9,
          "year": 2021
         },
         {
          "counts": 17,
          "data_type": "User",
          "date": "2021-10-01T00:00:00-04:00",
          "day": 1,
          "month": 10,
          "year": 2021
         },
         {
          "counts": 7,
          "data_type": "User",
          "date": "2021-11-01T00:00:00-04:00",
          "day": 1,
          "month": 11,
          "year": 2021
         },
         {
          "counts": 4,
          "data_type": "User",
          "date": "2021-12-01T00:00:00-05:00",
          "day": 1,
          "month": 12,
          "year": 2021
         },
         {
          "counts": 7,
          "data_type": "User",
          "date": "2022-01-01T00:00:00-05:00",
          "day": 1,
          "month": 1,
          "year": 2022
         },
         {
          "counts": 16,
          "data_type": "User",
          "date": "2022-02-01T00:00:00-05:00",
          "day": 1,
          "month": 2,
          "year": 2022
         },
         {
          "counts": 8,
          "data_type": "User",
          "date": "2022-03-01T00:00:00-05:00",
          "day": 1,
          "month": 3,
          "year": 2022
         },
         {
          "counts": 6,
          "data_type": "User",
          "date": "2022-04-01T00:00:00-04:00",
          "day": 1,
          "month": 4,
          "year": 2022
         },
         {
          "counts": 4,
          "data_type": "User",
          "date": "2022-05-01T00:00:00-04:00",
          "day": 1,
          "month": 5,
          "year": 2022
         },
         {
          "counts": 8,
          "data_type": "User",
          "date": "2022-06-01T00:00:00-04:00",
          "day": 1,
          "month": 6,
          "year": 2022
         },
         {
          "counts": 2,
          "data_type": "User",
          "date": "2022-07-01T00:00:00-04:00",
          "day": 1,
          "month": 7,
          "year": 2022
         },
         {
          "counts": 2,
          "data_type": "User",
          "date": "2022-08-01T00:00:00-04:00",
          "day": 1,
          "month": 8,
          "year": 2022
         },
         {
          "counts": 9,
          "data_type": "User",
          "date": "2022-09-01T00:00:00-04:00",
          "day": 1,
          "month": 9,
          "year": 2022
         },
         {
          "counts": 3,
          "data_type": "User",
          "date": "2022-10-01T00:00:00-04:00",
          "day": 1,
          "month": 10,
          "year": 2022
         },
         {
          "counts": 3,
          "data_type": "User",
          "date": "2022-11-01T00:00:00-04:00",
          "day": 1,
          "month": 11,
          "year": 2022
         },
         {
          "counts": 8,
          "data_type": "User",
          "date": "2022-12-01T00:00:00-05:00",
          "day": 1,
          "month": 12,
          "year": 2022
         },
         {
          "counts": 4,
          "data_type": "User",
          "date": "2023-01-01T00:00:00-05:00",
          "day": 1,
          "month": 1,
          "year": 2023
         },
         {
          "counts": 2,
          "data_type": "User",
          "date": "2023-02-01T00:00:00-05:00",
          "day": 1,
          "month": 2,
          "year": 2023
         },
         {
          "counts": 1,
          "data_type": "User",
          "date": "2023-03-01T00:00:00-05:00",
          "day": 1,
          "month": 3,
          "year": 2023
         }
        ]
       },
       "height": 300,
       "layer": [
        {
         "encoding": {
          "color": {
           "field": "data_type",
           "title": "Type of Entity",
           "type": "nominal"
          },
          "x": {
           "axis": {
            "format": "%Y"
           },
           "field": "date",
           "title": "Date Created",
           "type": "temporal"
          },
          "y": {
           "field": "counts",
           "title": "Counts",
           "type": "quantitative"
          }
         },
         "mark": {
          "interpolate": "basis",
          "type": "line"
         }
        },
        {
         "encoding": {
          "opacity": {
           "value": 0
          },
          "x": {
           "field": "date",
           "type": "temporal"
          }
         },
         "mark": {
          "type": "point"
         },
         "name": "view_1"
        },
        {
         "encoding": {
          "color": {
           "field": "data_type",
           "title": "Type of Entity",
           "type": "nominal"
          },
          "opacity": {
           "condition": {
            "empty": false,
            "param": "param_1",
            "value": 1
           },
           "value": 0
          },
          "x": {
           "axis": {
            "format": "%Y"
           },
           "field": "date",
           "title": "Date Created",
           "type": "temporal"
          },
          "y": {
           "field": "counts",
           "title": "Counts",
           "type": "quantitative"
          }
         },
         "mark": {
          "type": "point"
         }
        },
        {
         "encoding": {
          "x": {
           "field": "date",
           "type": "temporal"
          }
         },
         "mark": {
          "color": "gray",
          "type": "rule"
         },
         "transform": [
          {
           "filter": {
            "empty": false,
            "param": "param_1"
           }
          }
         ]
        },
        {
         "encoding": {
          "color": {
           "field": "data_type",
           "title": "Type of Entity",
           "type": "nominal"
          },
          "text": {
           "condition": {
            "empty": false,
            "field": "counts",
            "param": "param_1"
           },
           "value": " "
          },
          "x": {
           "axis": {
            "format": "%Y"
           },
           "field": "date",
           "title": "Date Created",
           "type": "temporal"
          },
          "y": {
           "field": "counts",
           "title": "Counts",
           "type": "quantitative"
          }
         },
         "mark": {
          "align": "left",
          "dx": 5,
          "dy": -5,
          "type": "text"
         }
        }
       ],
       "params": [
        {
         "name": "param_1",
         "select": {
          "encodings": [
           "x"
          ],
          "nearest": true,
          "on": "mouseover",
          "type": "point"
         },
         "views": [
          "view_1"
         ]
        }
       ],
       "title": "Number of Users, Organizations, and Repositories identified as DH, Created Over Time via Initial Search Queries",
       "width": 600
      },
      "text/plain": [
       "<VegaLite 5 object>\n",
       "\n",
       "If you see this message, it means the renderer has not been properly enabled\n",
       "for the frontend that you are using. For more information, see\n",
       "https://altair-viz.github.io/user_guide/display_frontends.html#troubleshooting\n"
      ]
     },
     "execution_count": 12,
     "metadata": {},
     "output_type": "execute_result"
    }
   ],
   "source": [
    "initial_chart"
   ]
  },
  {
   "attachments": {},
   "cell_type": "markdown",
   "metadata": {},
   "source": [
    "### First Pass Core Users"
   ]
  },
  {
   "cell_type": "code",
   "execution_count": 13,
   "metadata": {},
   "outputs": [],
   "source": [
    "first_pass_core_users = pd.read_csv(os.path.join(datafile_path, \"derived_files/firstpass_core_users.csv\"))\n",
    "first_pass_core_repos = pd.read_csv(os.path.join(datafile_path, \"derived_files/firstpass_core_repos.csv\"))\n",
    "first_pass_core_orgs = pd.read_csv(os.path.join(datafile_path, \"derived_files/firstpass_core_orgs.csv\"))"
   ]
  },
  {
   "cell_type": "code",
   "execution_count": 14,
   "metadata": {},
   "outputs": [],
   "source": [
    "first_pass_grouped_data = process_core_materials(first_pass_core_repos, first_pass_core_users, first_pass_core_orgs, include_month=True)"
   ]
  },
  {
   "cell_type": "code",
   "execution_count": 15,
   "metadata": {},
   "outputs": [],
   "source": [
    "first_pass_chart = overtime_chart(first_pass_grouped_data, \"Number of Users, Organizations, and Repositories identified as DH, Created Over Time via First Pass\")"
   ]
  },
  {
   "cell_type": "code",
   "execution_count": 16,
   "metadata": {},
   "outputs": [
    {
     "data": {
      "application/vnd.vegalite.v5+json": {
       "$schema": "https://vega.github.io/schema/vega-lite/v5.8.0.json",
       "config": {
        "view": {
         "continuousHeight": 300,
         "continuousWidth": 300
        }
       },
       "data": {
        "name": "data-a7c84caf0edb6f5d2c9825bf46a15bbd"
       },
       "datasets": {
        "data-a7c84caf0edb6f5d2c9825bf46a15bbd": [
         {
          "counts": 1,
          "data_type": "Organization",
          "date": "2009-02-01T00:00:00-05:00",
          "day": 1,
          "month": 2,
          "year": 2009
         },
         {
          "counts": 1,
          "data_type": "Organization",
          "date": "2010-02-01T00:00:00-05:00",
          "day": 1,
          "month": 2,
          "year": 2010
         },
         {
          "counts": 1,
          "data_type": "Organization",
          "date": "2010-06-01T00:00:00-04:00",
          "day": 1,
          "month": 6,
          "year": 2010
         },
         {
          "counts": 3,
          "data_type": "Organization",
          "date": "2011-04-01T00:00:00-04:00",
          "day": 1,
          "month": 4,
          "year": 2011
         },
         {
          "counts": 2,
          "data_type": "Organization",
          "date": "2011-09-01T00:00:00-04:00",
          "day": 1,
          "month": 9,
          "year": 2011
         },
         {
          "counts": 1,
          "data_type": "Organization",
          "date": "2011-12-01T00:00:00-05:00",
          "day": 1,
          "month": 12,
          "year": 2011
         },
         {
          "counts": 1,
          "data_type": "Organization",
          "date": "2012-01-01T00:00:00-05:00",
          "day": 1,
          "month": 1,
          "year": 2012
         },
         {
          "counts": 4,
          "data_type": "Organization",
          "date": "2012-02-01T00:00:00-05:00",
          "day": 1,
          "month": 2,
          "year": 2012
         },
         {
          "counts": 1,
          "data_type": "Organization",
          "date": "2012-03-01T00:00:00-05:00",
          "day": 1,
          "month": 3,
          "year": 2012
         },
         {
          "counts": 1,
          "data_type": "Organization",
          "date": "2012-04-01T00:00:00-04:00",
          "day": 1,
          "month": 4,
          "year": 2012
         },
         {
          "counts": 1,
          "data_type": "Organization",
          "date": "2012-06-01T00:00:00-04:00",
          "day": 1,
          "month": 6,
          "year": 2012
         },
         {
          "counts": 2,
          "data_type": "Organization",
          "date": "2012-08-01T00:00:00-04:00",
          "day": 1,
          "month": 8,
          "year": 2012
         },
         {
          "counts": 2,
          "data_type": "Organization",
          "date": "2012-09-01T00:00:00-04:00",
          "day": 1,
          "month": 9,
          "year": 2012
         },
         {
          "counts": 1,
          "data_type": "Organization",
          "date": "2012-11-01T00:00:00-04:00",
          "day": 1,
          "month": 11,
          "year": 2012
         },
         {
          "counts": 1,
          "data_type": "Organization",
          "date": "2012-12-01T00:00:00-05:00",
          "day": 1,
          "month": 12,
          "year": 2012
         },
         {
          "counts": 1,
          "data_type": "Organization",
          "date": "2013-03-01T00:00:00-05:00",
          "day": 1,
          "month": 3,
          "year": 2013
         },
         {
          "counts": 2,
          "data_type": "Organization",
          "date": "2013-04-01T00:00:00-04:00",
          "day": 1,
          "month": 4,
          "year": 2013
         },
         {
          "counts": 1,
          "data_type": "Organization",
          "date": "2013-05-01T00:00:00-04:00",
          "day": 1,
          "month": 5,
          "year": 2013
         },
         {
          "counts": 1,
          "data_type": "Organization",
          "date": "2013-06-01T00:00:00-04:00",
          "day": 1,
          "month": 6,
          "year": 2013
         },
         {
          "counts": 2,
          "data_type": "Organization",
          "date": "2013-07-01T00:00:00-04:00",
          "day": 1,
          "month": 7,
          "year": 2013
         },
         {
          "counts": 2,
          "data_type": "Organization",
          "date": "2013-08-01T00:00:00-04:00",
          "day": 1,
          "month": 8,
          "year": 2013
         },
         {
          "counts": 1,
          "data_type": "Organization",
          "date": "2013-09-01T00:00:00-04:00",
          "day": 1,
          "month": 9,
          "year": 2013
         },
         {
          "counts": 1,
          "data_type": "Organization",
          "date": "2013-10-01T00:00:00-04:00",
          "day": 1,
          "month": 10,
          "year": 2013
         },
         {
          "counts": 4,
          "data_type": "Organization",
          "date": "2013-11-01T00:00:00-04:00",
          "day": 1,
          "month": 11,
          "year": 2013
         },
         {
          "counts": 1,
          "data_type": "Organization",
          "date": "2013-12-01T00:00:00-05:00",
          "day": 1,
          "month": 12,
          "year": 2013
         },
         {
          "counts": 2,
          "data_type": "Organization",
          "date": "2014-01-01T00:00:00-05:00",
          "day": 1,
          "month": 1,
          "year": 2014
         },
         {
          "counts": 4,
          "data_type": "Organization",
          "date": "2014-02-01T00:00:00-05:00",
          "day": 1,
          "month": 2,
          "year": 2014
         },
         {
          "counts": 3,
          "data_type": "Organization",
          "date": "2014-03-01T00:00:00-05:00",
          "day": 1,
          "month": 3,
          "year": 2014
         },
         {
          "counts": 3,
          "data_type": "Organization",
          "date": "2014-04-01T00:00:00-04:00",
          "day": 1,
          "month": 4,
          "year": 2014
         },
         {
          "counts": 1,
          "data_type": "Organization",
          "date": "2014-05-01T00:00:00-04:00",
          "day": 1,
          "month": 5,
          "year": 2014
         },
         {
          "counts": 2,
          "data_type": "Organization",
          "date": "2014-07-01T00:00:00-04:00",
          "day": 1,
          "month": 7,
          "year": 2014
         },
         {
          "counts": 1,
          "data_type": "Organization",
          "date": "2014-08-01T00:00:00-04:00",
          "day": 1,
          "month": 8,
          "year": 2014
         },
         {
          "counts": 3,
          "data_type": "Organization",
          "date": "2014-09-01T00:00:00-04:00",
          "day": 1,
          "month": 9,
          "year": 2014
         },
         {
          "counts": 1,
          "data_type": "Organization",
          "date": "2014-10-01T00:00:00-04:00",
          "day": 1,
          "month": 10,
          "year": 2014
         },
         {
          "counts": 1,
          "data_type": "Organization",
          "date": "2014-11-01T00:00:00-04:00",
          "day": 1,
          "month": 11,
          "year": 2014
         },
         {
          "counts": 2,
          "data_type": "Organization",
          "date": "2014-12-01T00:00:00-05:00",
          "day": 1,
          "month": 12,
          "year": 2014
         },
         {
          "counts": 4,
          "data_type": "Organization",
          "date": "2015-01-01T00:00:00-05:00",
          "day": 1,
          "month": 1,
          "year": 2015
         },
         {
          "counts": 2,
          "data_type": "Organization",
          "date": "2015-02-01T00:00:00-05:00",
          "day": 1,
          "month": 2,
          "year": 2015
         },
         {
          "counts": 1,
          "data_type": "Organization",
          "date": "2015-03-01T00:00:00-05:00",
          "day": 1,
          "month": 3,
          "year": 2015
         },
         {
          "counts": 2,
          "data_type": "Organization",
          "date": "2015-04-01T00:00:00-04:00",
          "day": 1,
          "month": 4,
          "year": 2015
         },
         {
          "counts": 2,
          "data_type": "Organization",
          "date": "2015-05-01T00:00:00-04:00",
          "day": 1,
          "month": 5,
          "year": 2015
         },
         {
          "counts": 1,
          "data_type": "Organization",
          "date": "2015-06-01T00:00:00-04:00",
          "day": 1,
          "month": 6,
          "year": 2015
         },
         {
          "counts": 2,
          "data_type": "Organization",
          "date": "2015-07-01T00:00:00-04:00",
          "day": 1,
          "month": 7,
          "year": 2015
         },
         {
          "counts": 4,
          "data_type": "Organization",
          "date": "2015-08-01T00:00:00-04:00",
          "day": 1,
          "month": 8,
          "year": 2015
         },
         {
          "counts": 3,
          "data_type": "Organization",
          "date": "2015-09-01T00:00:00-04:00",
          "day": 1,
          "month": 9,
          "year": 2015
         },
         {
          "counts": 2,
          "data_type": "Organization",
          "date": "2015-10-01T00:00:00-04:00",
          "day": 1,
          "month": 10,
          "year": 2015
         },
         {
          "counts": 2,
          "data_type": "Organization",
          "date": "2015-11-01T00:00:00-04:00",
          "day": 1,
          "month": 11,
          "year": 2015
         },
         {
          "counts": 7,
          "data_type": "Organization",
          "date": "2015-12-01T00:00:00-05:00",
          "day": 1,
          "month": 12,
          "year": 2015
         },
         {
          "counts": 2,
          "data_type": "Organization",
          "date": "2016-01-01T00:00:00-05:00",
          "day": 1,
          "month": 1,
          "year": 2016
         },
         {
          "counts": 4,
          "data_type": "Organization",
          "date": "2016-02-01T00:00:00-05:00",
          "day": 1,
          "month": 2,
          "year": 2016
         },
         {
          "counts": 3,
          "data_type": "Organization",
          "date": "2016-03-01T00:00:00-05:00",
          "day": 1,
          "month": 3,
          "year": 2016
         },
         {
          "counts": 2,
          "data_type": "Organization",
          "date": "2016-04-01T00:00:00-04:00",
          "day": 1,
          "month": 4,
          "year": 2016
         },
         {
          "counts": 2,
          "data_type": "Organization",
          "date": "2016-05-01T00:00:00-04:00",
          "day": 1,
          "month": 5,
          "year": 2016
         },
         {
          "counts": 3,
          "data_type": "Organization",
          "date": "2016-06-01T00:00:00-04:00",
          "day": 1,
          "month": 6,
          "year": 2016
         },
         {
          "counts": 1,
          "data_type": "Organization",
          "date": "2016-08-01T00:00:00-04:00",
          "day": 1,
          "month": 8,
          "year": 2016
         },
         {
          "counts": 2,
          "data_type": "Organization",
          "date": "2016-09-01T00:00:00-04:00",
          "day": 1,
          "month": 9,
          "year": 2016
         },
         {
          "counts": 4,
          "data_type": "Organization",
          "date": "2016-10-01T00:00:00-04:00",
          "day": 1,
          "month": 10,
          "year": 2016
         },
         {
          "counts": 2,
          "data_type": "Organization",
          "date": "2016-11-01T00:00:00-04:00",
          "day": 1,
          "month": 11,
          "year": 2016
         },
         {
          "counts": 1,
          "data_type": "Organization",
          "date": "2016-12-01T00:00:00-05:00",
          "day": 1,
          "month": 12,
          "year": 2016
         },
         {
          "counts": 4,
          "data_type": "Organization",
          "date": "2017-01-01T00:00:00-05:00",
          "day": 1,
          "month": 1,
          "year": 2017
         },
         {
          "counts": 6,
          "data_type": "Organization",
          "date": "2017-02-01T00:00:00-05:00",
          "day": 1,
          "month": 2,
          "year": 2017
         },
         {
          "counts": 2,
          "data_type": "Organization",
          "date": "2017-03-01T00:00:00-05:00",
          "day": 1,
          "month": 3,
          "year": 2017
         },
         {
          "counts": 3,
          "data_type": "Organization",
          "date": "2017-04-01T00:00:00-04:00",
          "day": 1,
          "month": 4,
          "year": 2017
         },
         {
          "counts": 3,
          "data_type": "Organization",
          "date": "2017-05-01T00:00:00-04:00",
          "day": 1,
          "month": 5,
          "year": 2017
         },
         {
          "counts": 3,
          "data_type": "Organization",
          "date": "2017-06-01T00:00:00-04:00",
          "day": 1,
          "month": 6,
          "year": 2017
         },
         {
          "counts": 2,
          "data_type": "Organization",
          "date": "2017-07-01T00:00:00-04:00",
          "day": 1,
          "month": 7,
          "year": 2017
         },
         {
          "counts": 6,
          "data_type": "Organization",
          "date": "2017-09-01T00:00:00-04:00",
          "day": 1,
          "month": 9,
          "year": 2017
         },
         {
          "counts": 4,
          "data_type": "Organization",
          "date": "2017-10-01T00:00:00-04:00",
          "day": 1,
          "month": 10,
          "year": 2017
         },
         {
          "counts": 4,
          "data_type": "Organization",
          "date": "2017-11-01T00:00:00-04:00",
          "day": 1,
          "month": 11,
          "year": 2017
         },
         {
          "counts": 1,
          "data_type": "Organization",
          "date": "2017-12-01T00:00:00-05:00",
          "day": 1,
          "month": 12,
          "year": 2017
         },
         {
          "counts": 2,
          "data_type": "Organization",
          "date": "2018-02-01T00:00:00-05:00",
          "day": 1,
          "month": 2,
          "year": 2018
         },
         {
          "counts": 1,
          "data_type": "Organization",
          "date": "2018-03-01T00:00:00-05:00",
          "day": 1,
          "month": 3,
          "year": 2018
         },
         {
          "counts": 2,
          "data_type": "Organization",
          "date": "2018-04-01T00:00:00-04:00",
          "day": 1,
          "month": 4,
          "year": 2018
         },
         {
          "counts": 2,
          "data_type": "Organization",
          "date": "2018-05-01T00:00:00-04:00",
          "day": 1,
          "month": 5,
          "year": 2018
         },
         {
          "counts": 1,
          "data_type": "Organization",
          "date": "2018-06-01T00:00:00-04:00",
          "day": 1,
          "month": 6,
          "year": 2018
         },
         {
          "counts": 2,
          "data_type": "Organization",
          "date": "2018-07-01T00:00:00-04:00",
          "day": 1,
          "month": 7,
          "year": 2018
         },
         {
          "counts": 3,
          "data_type": "Organization",
          "date": "2018-08-01T00:00:00-04:00",
          "day": 1,
          "month": 8,
          "year": 2018
         },
         {
          "counts": 2,
          "data_type": "Organization",
          "date": "2018-09-01T00:00:00-04:00",
          "day": 1,
          "month": 9,
          "year": 2018
         },
         {
          "counts": 2,
          "data_type": "Organization",
          "date": "2018-11-01T00:00:00-04:00",
          "day": 1,
          "month": 11,
          "year": 2018
         },
         {
          "counts": 2,
          "data_type": "Organization",
          "date": "2018-12-01T00:00:00-05:00",
          "day": 1,
          "month": 12,
          "year": 2018
         },
         {
          "counts": 2,
          "data_type": "Organization",
          "date": "2019-01-01T00:00:00-05:00",
          "day": 1,
          "month": 1,
          "year": 2019
         },
         {
          "counts": 3,
          "data_type": "Organization",
          "date": "2019-02-01T00:00:00-05:00",
          "day": 1,
          "month": 2,
          "year": 2019
         },
         {
          "counts": 2,
          "data_type": "Organization",
          "date": "2019-03-01T00:00:00-05:00",
          "day": 1,
          "month": 3,
          "year": 2019
         },
         {
          "counts": 2,
          "data_type": "Organization",
          "date": "2019-04-01T00:00:00-04:00",
          "day": 1,
          "month": 4,
          "year": 2019
         },
         {
          "counts": 1,
          "data_type": "Organization",
          "date": "2019-05-01T00:00:00-04:00",
          "day": 1,
          "month": 5,
          "year": 2019
         },
         {
          "counts": 2,
          "data_type": "Organization",
          "date": "2019-06-01T00:00:00-04:00",
          "day": 1,
          "month": 6,
          "year": 2019
         },
         {
          "counts": 4,
          "data_type": "Organization",
          "date": "2019-07-01T00:00:00-04:00",
          "day": 1,
          "month": 7,
          "year": 2019
         },
         {
          "counts": 3,
          "data_type": "Organization",
          "date": "2019-09-01T00:00:00-04:00",
          "day": 1,
          "month": 9,
          "year": 2019
         },
         {
          "counts": 4,
          "data_type": "Organization",
          "date": "2019-10-01T00:00:00-04:00",
          "day": 1,
          "month": 10,
          "year": 2019
         },
         {
          "counts": 1,
          "data_type": "Organization",
          "date": "2019-11-01T00:00:00-04:00",
          "day": 1,
          "month": 11,
          "year": 2019
         },
         {
          "counts": 1,
          "data_type": "Organization",
          "date": "2019-12-01T00:00:00-05:00",
          "day": 1,
          "month": 12,
          "year": 2019
         },
         {
          "counts": 2,
          "data_type": "Organization",
          "date": "2020-01-01T00:00:00-05:00",
          "day": 1,
          "month": 1,
          "year": 2020
         },
         {
          "counts": 1,
          "data_type": "Organization",
          "date": "2020-02-01T00:00:00-05:00",
          "day": 1,
          "month": 2,
          "year": 2020
         },
         {
          "counts": 4,
          "data_type": "Organization",
          "date": "2020-03-01T00:00:00-05:00",
          "day": 1,
          "month": 3,
          "year": 2020
         },
         {
          "counts": 2,
          "data_type": "Organization",
          "date": "2020-04-01T00:00:00-04:00",
          "day": 1,
          "month": 4,
          "year": 2020
         },
         {
          "counts": 2,
          "data_type": "Organization",
          "date": "2020-05-01T00:00:00-04:00",
          "day": 1,
          "month": 5,
          "year": 2020
         },
         {
          "counts": 3,
          "data_type": "Organization",
          "date": "2020-06-01T00:00:00-04:00",
          "day": 1,
          "month": 6,
          "year": 2020
         },
         {
          "counts": 5,
          "data_type": "Organization",
          "date": "2020-07-01T00:00:00-04:00",
          "day": 1,
          "month": 7,
          "year": 2020
         },
         {
          "counts": 1,
          "data_type": "Organization",
          "date": "2020-08-01T00:00:00-04:00",
          "day": 1,
          "month": 8,
          "year": 2020
         },
         {
          "counts": 2,
          "data_type": "Organization",
          "date": "2020-09-01T00:00:00-04:00",
          "day": 1,
          "month": 9,
          "year": 2020
         },
         {
          "counts": 2,
          "data_type": "Organization",
          "date": "2020-10-01T00:00:00-04:00",
          "day": 1,
          "month": 10,
          "year": 2020
         },
         {
          "counts": 1,
          "data_type": "Organization",
          "date": "2020-11-01T00:00:00-04:00",
          "day": 1,
          "month": 11,
          "year": 2020
         },
         {
          "counts": 2,
          "data_type": "Organization",
          "date": "2020-12-01T00:00:00-05:00",
          "day": 1,
          "month": 12,
          "year": 2020
         },
         {
          "counts": 5,
          "data_type": "Organization",
          "date": "2021-01-01T00:00:00-05:00",
          "day": 1,
          "month": 1,
          "year": 2021
         },
         {
          "counts": 5,
          "data_type": "Organization",
          "date": "2021-02-01T00:00:00-05:00",
          "day": 1,
          "month": 2,
          "year": 2021
         },
         {
          "counts": 1,
          "data_type": "Organization",
          "date": "2021-03-01T00:00:00-05:00",
          "day": 1,
          "month": 3,
          "year": 2021
         },
         {
          "counts": 3,
          "data_type": "Organization",
          "date": "2021-04-01T00:00:00-04:00",
          "day": 1,
          "month": 4,
          "year": 2021
         },
         {
          "counts": 3,
          "data_type": "Organization",
          "date": "2021-05-01T00:00:00-04:00",
          "day": 1,
          "month": 5,
          "year": 2021
         },
         {
          "counts": 2,
          "data_type": "Organization",
          "date": "2021-06-01T00:00:00-04:00",
          "day": 1,
          "month": 6,
          "year": 2021
         },
         {
          "counts": 4,
          "data_type": "Organization",
          "date": "2021-08-01T00:00:00-04:00",
          "day": 1,
          "month": 8,
          "year": 2021
         },
         {
          "counts": 1,
          "data_type": "Organization",
          "date": "2021-09-01T00:00:00-04:00",
          "day": 1,
          "month": 9,
          "year": 2021
         },
         {
          "counts": 2,
          "data_type": "Organization",
          "date": "2021-10-01T00:00:00-04:00",
          "day": 1,
          "month": 10,
          "year": 2021
         },
         {
          "counts": 1,
          "data_type": "Organization",
          "date": "2021-11-01T00:00:00-04:00",
          "day": 1,
          "month": 11,
          "year": 2021
         },
         {
          "counts": 1,
          "data_type": "Organization",
          "date": "2021-12-01T00:00:00-05:00",
          "day": 1,
          "month": 12,
          "year": 2021
         },
         {
          "counts": 2,
          "data_type": "Organization",
          "date": "2022-01-01T00:00:00-05:00",
          "day": 1,
          "month": 1,
          "year": 2022
         },
         {
          "counts": 2,
          "data_type": "Organization",
          "date": "2022-03-01T00:00:00-05:00",
          "day": 1,
          "month": 3,
          "year": 2022
         },
         {
          "counts": 2,
          "data_type": "Organization",
          "date": "2022-04-01T00:00:00-04:00",
          "day": 1,
          "month": 4,
          "year": 2022
         },
         {
          "counts": 2,
          "data_type": "Organization",
          "date": "2022-05-01T00:00:00-04:00",
          "day": 1,
          "month": 5,
          "year": 2022
         },
         {
          "counts": 2,
          "data_type": "Organization",
          "date": "2022-06-01T00:00:00-04:00",
          "day": 1,
          "month": 6,
          "year": 2022
         },
         {
          "counts": 1,
          "data_type": "Organization",
          "date": "2022-07-01T00:00:00-04:00",
          "day": 1,
          "month": 7,
          "year": 2022
         },
         {
          "counts": 1,
          "data_type": "Organization",
          "date": "2022-09-01T00:00:00-04:00",
          "day": 1,
          "month": 9,
          "year": 2022
         },
         {
          "counts": 1,
          "data_type": "Organization",
          "date": "2022-11-01T00:00:00-04:00",
          "day": 1,
          "month": 11,
          "year": 2022
         },
         {
          "counts": 3,
          "data_type": "Repository",
          "date": "2008-08-01T00:00:00-04:00",
          "day": 1,
          "month": 8,
          "year": 2008
         },
         {
          "counts": 1,
          "data_type": "Repository",
          "date": "2008-09-01T00:00:00-04:00",
          "day": 1,
          "month": 9,
          "year": 2008
         },
         {
          "counts": 1,
          "data_type": "Repository",
          "date": "2009-04-01T00:00:00-04:00",
          "day": 1,
          "month": 4,
          "year": 2009
         },
         {
          "counts": 3,
          "data_type": "Repository",
          "date": "2009-09-01T00:00:00-04:00",
          "day": 1,
          "month": 9,
          "year": 2009
         },
         {
          "counts": 2,
          "data_type": "Repository",
          "date": "2009-10-01T00:00:00-04:00",
          "day": 1,
          "month": 10,
          "year": 2009
         },
         {
          "counts": 2,
          "data_type": "Repository",
          "date": "2009-11-01T00:00:00-04:00",
          "day": 1,
          "month": 11,
          "year": 2009
         },
         {
          "counts": 1,
          "data_type": "Repository",
          "date": "2009-12-01T00:00:00-05:00",
          "day": 1,
          "month": 12,
          "year": 2009
         },
         {
          "counts": 1,
          "data_type": "Repository",
          "date": "2010-01-01T00:00:00-05:00",
          "day": 1,
          "month": 1,
          "year": 2010
         },
         {
          "counts": 1,
          "data_type": "Repository",
          "date": "2010-02-01T00:00:00-05:00",
          "day": 1,
          "month": 2,
          "year": 2010
         },
         {
          "counts": 1,
          "data_type": "Repository",
          "date": "2010-03-01T00:00:00-05:00",
          "day": 1,
          "month": 3,
          "year": 2010
         },
         {
          "counts": 1,
          "data_type": "Repository",
          "date": "2010-04-01T00:00:00-04:00",
          "day": 1,
          "month": 4,
          "year": 2010
         },
         {
          "counts": 3,
          "data_type": "Repository",
          "date": "2010-05-01T00:00:00-04:00",
          "day": 1,
          "month": 5,
          "year": 2010
         },
         {
          "counts": 2,
          "data_type": "Repository",
          "date": "2010-06-01T00:00:00-04:00",
          "day": 1,
          "month": 6,
          "year": 2010
         },
         {
          "counts": 3,
          "data_type": "Repository",
          "date": "2010-07-01T00:00:00-04:00",
          "day": 1,
          "month": 7,
          "year": 2010
         },
         {
          "counts": 4,
          "data_type": "Repository",
          "date": "2010-08-01T00:00:00-04:00",
          "day": 1,
          "month": 8,
          "year": 2010
         },
         {
          "counts": 3,
          "data_type": "Repository",
          "date": "2010-09-01T00:00:00-04:00",
          "day": 1,
          "month": 9,
          "year": 2010
         },
         {
          "counts": 2,
          "data_type": "Repository",
          "date": "2010-10-01T00:00:00-04:00",
          "day": 1,
          "month": 10,
          "year": 2010
         },
         {
          "counts": 1,
          "data_type": "Repository",
          "date": "2010-11-01T00:00:00-04:00",
          "day": 1,
          "month": 11,
          "year": 2010
         },
         {
          "counts": 6,
          "data_type": "Repository",
          "date": "2010-12-01T00:00:00-05:00",
          "day": 1,
          "month": 12,
          "year": 2010
         },
         {
          "counts": 2,
          "data_type": "Repository",
          "date": "2011-01-01T00:00:00-05:00",
          "day": 1,
          "month": 1,
          "year": 2011
         },
         {
          "counts": 1,
          "data_type": "Repository",
          "date": "2011-03-01T00:00:00-05:00",
          "day": 1,
          "month": 3,
          "year": 2011
         },
         {
          "counts": 4,
          "data_type": "Repository",
          "date": "2011-04-01T00:00:00-04:00",
          "day": 1,
          "month": 4,
          "year": 2011
         },
         {
          "counts": 2,
          "data_type": "Repository",
          "date": "2011-05-01T00:00:00-04:00",
          "day": 1,
          "month": 5,
          "year": 2011
         },
         {
          "counts": 10,
          "data_type": "Repository",
          "date": "2011-06-01T00:00:00-04:00",
          "day": 1,
          "month": 6,
          "year": 2011
         },
         {
          "counts": 7,
          "data_type": "Repository",
          "date": "2011-07-01T00:00:00-04:00",
          "day": 1,
          "month": 7,
          "year": 2011
         },
         {
          "counts": 4,
          "data_type": "Repository",
          "date": "2011-08-01T00:00:00-04:00",
          "day": 1,
          "month": 8,
          "year": 2011
         },
         {
          "counts": 3,
          "data_type": "Repository",
          "date": "2011-09-01T00:00:00-04:00",
          "day": 1,
          "month": 9,
          "year": 2011
         },
         {
          "counts": 8,
          "data_type": "Repository",
          "date": "2011-10-01T00:00:00-04:00",
          "day": 1,
          "month": 10,
          "year": 2011
         },
         {
          "counts": 7,
          "data_type": "Repository",
          "date": "2011-11-01T00:00:00-04:00",
          "day": 1,
          "month": 11,
          "year": 2011
         },
         {
          "counts": 6,
          "data_type": "Repository",
          "date": "2011-12-01T00:00:00-05:00",
          "day": 1,
          "month": 12,
          "year": 2011
         },
         {
          "counts": 16,
          "data_type": "Repository",
          "date": "2012-01-01T00:00:00-05:00",
          "day": 1,
          "month": 1,
          "year": 2012
         },
         {
          "counts": 9,
          "data_type": "Repository",
          "date": "2012-02-01T00:00:00-05:00",
          "day": 1,
          "month": 2,
          "year": 2012
         },
         {
          "counts": 6,
          "data_type": "Repository",
          "date": "2012-03-01T00:00:00-05:00",
          "day": 1,
          "month": 3,
          "year": 2012
         },
         {
          "counts": 7,
          "data_type": "Repository",
          "date": "2012-04-01T00:00:00-04:00",
          "day": 1,
          "month": 4,
          "year": 2012
         },
         {
          "counts": 8,
          "data_type": "Repository",
          "date": "2012-05-01T00:00:00-04:00",
          "day": 1,
          "month": 5,
          "year": 2012
         },
         {
          "counts": 17,
          "data_type": "Repository",
          "date": "2012-06-01T00:00:00-04:00",
          "day": 1,
          "month": 6,
          "year": 2012
         },
         {
          "counts": 11,
          "data_type": "Repository",
          "date": "2012-07-01T00:00:00-04:00",
          "day": 1,
          "month": 7,
          "year": 2012
         },
         {
          "counts": 6,
          "data_type": "Repository",
          "date": "2012-08-01T00:00:00-04:00",
          "day": 1,
          "month": 8,
          "year": 2012
         },
         {
          "counts": 3,
          "data_type": "Repository",
          "date": "2012-09-01T00:00:00-04:00",
          "day": 1,
          "month": 9,
          "year": 2012
         },
         {
          "counts": 11,
          "data_type": "Repository",
          "date": "2012-10-01T00:00:00-04:00",
          "day": 1,
          "month": 10,
          "year": 2012
         },
         {
          "counts": 12,
          "data_type": "Repository",
          "date": "2012-11-01T00:00:00-04:00",
          "day": 1,
          "month": 11,
          "year": 2012
         },
         {
          "counts": 9,
          "data_type": "Repository",
          "date": "2012-12-01T00:00:00-05:00",
          "day": 1,
          "month": 12,
          "year": 2012
         },
         {
          "counts": 12,
          "data_type": "Repository",
          "date": "2013-01-01T00:00:00-05:00",
          "day": 1,
          "month": 1,
          "year": 2013
         },
         {
          "counts": 5,
          "data_type": "Repository",
          "date": "2013-02-01T00:00:00-05:00",
          "day": 1,
          "month": 2,
          "year": 2013
         },
         {
          "counts": 7,
          "data_type": "Repository",
          "date": "2013-03-01T00:00:00-05:00",
          "day": 1,
          "month": 3,
          "year": 2013
         },
         {
          "counts": 15,
          "data_type": "Repository",
          "date": "2013-04-01T00:00:00-04:00",
          "day": 1,
          "month": 4,
          "year": 2013
         },
         {
          "counts": 9,
          "data_type": "Repository",
          "date": "2013-05-01T00:00:00-04:00",
          "day": 1,
          "month": 5,
          "year": 2013
         },
         {
          "counts": 15,
          "data_type": "Repository",
          "date": "2013-06-01T00:00:00-04:00",
          "day": 1,
          "month": 6,
          "year": 2013
         },
         {
          "counts": 15,
          "data_type": "Repository",
          "date": "2013-07-01T00:00:00-04:00",
          "day": 1,
          "month": 7,
          "year": 2013
         },
         {
          "counts": 20,
          "data_type": "Repository",
          "date": "2013-08-01T00:00:00-04:00",
          "day": 1,
          "month": 8,
          "year": 2013
         },
         {
          "counts": 10,
          "data_type": "Repository",
          "date": "2013-09-01T00:00:00-04:00",
          "day": 1,
          "month": 9,
          "year": 2013
         },
         {
          "counts": 13,
          "data_type": "Repository",
          "date": "2013-10-01T00:00:00-04:00",
          "day": 1,
          "month": 10,
          "year": 2013
         },
         {
          "counts": 9,
          "data_type": "Repository",
          "date": "2013-11-01T00:00:00-04:00",
          "day": 1,
          "month": 11,
          "year": 2013
         },
         {
          "counts": 12,
          "data_type": "Repository",
          "date": "2013-12-01T00:00:00-05:00",
          "day": 1,
          "month": 12,
          "year": 2013
         },
         {
          "counts": 16,
          "data_type": "Repository",
          "date": "2014-01-01T00:00:00-05:00",
          "day": 1,
          "month": 1,
          "year": 2014
         },
         {
          "counts": 15,
          "data_type": "Repository",
          "date": "2014-02-01T00:00:00-05:00",
          "day": 1,
          "month": 2,
          "year": 2014
         },
         {
          "counts": 26,
          "data_type": "Repository",
          "date": "2014-03-01T00:00:00-05:00",
          "day": 1,
          "month": 3,
          "year": 2014
         },
         {
          "counts": 17,
          "data_type": "Repository",
          "date": "2014-04-01T00:00:00-04:00",
          "day": 1,
          "month": 4,
          "year": 2014
         },
         {
          "counts": 21,
          "data_type": "Repository",
          "date": "2014-05-01T00:00:00-04:00",
          "day": 1,
          "month": 5,
          "year": 2014
         },
         {
          "counts": 19,
          "data_type": "Repository",
          "date": "2014-06-01T00:00:00-04:00",
          "day": 1,
          "month": 6,
          "year": 2014
         },
         {
          "counts": 23,
          "data_type": "Repository",
          "date": "2014-07-01T00:00:00-04:00",
          "day": 1,
          "month": 7,
          "year": 2014
         },
         {
          "counts": 29,
          "data_type": "Repository",
          "date": "2014-08-01T00:00:00-04:00",
          "day": 1,
          "month": 8,
          "year": 2014
         },
         {
          "counts": 44,
          "data_type": "Repository",
          "date": "2014-09-01T00:00:00-04:00",
          "day": 1,
          "month": 9,
          "year": 2014
         },
         {
          "counts": 28,
          "data_type": "Repository",
          "date": "2014-10-01T00:00:00-04:00",
          "day": 1,
          "month": 10,
          "year": 2014
         },
         {
          "counts": 38,
          "data_type": "Repository",
          "date": "2014-11-01T00:00:00-04:00",
          "day": 1,
          "month": 11,
          "year": 2014
         },
         {
          "counts": 26,
          "data_type": "Repository",
          "date": "2014-12-01T00:00:00-05:00",
          "day": 1,
          "month": 12,
          "year": 2014
         },
         {
          "counts": 47,
          "data_type": "Repository",
          "date": "2015-01-01T00:00:00-05:00",
          "day": 1,
          "month": 1,
          "year": 2015
         },
         {
          "counts": 51,
          "data_type": "Repository",
          "date": "2015-02-01T00:00:00-05:00",
          "day": 1,
          "month": 2,
          "year": 2015
         },
         {
          "counts": 62,
          "data_type": "Repository",
          "date": "2015-03-01T00:00:00-05:00",
          "day": 1,
          "month": 3,
          "year": 2015
         },
         {
          "counts": 49,
          "data_type": "Repository",
          "date": "2015-04-01T00:00:00-04:00",
          "day": 1,
          "month": 4,
          "year": 2015
         },
         {
          "counts": 39,
          "data_type": "Repository",
          "date": "2015-05-01T00:00:00-04:00",
          "day": 1,
          "month": 5,
          "year": 2015
         },
         {
          "counts": 46,
          "data_type": "Repository",
          "date": "2015-06-01T00:00:00-04:00",
          "day": 1,
          "month": 6,
          "year": 2015
         },
         {
          "counts": 48,
          "data_type": "Repository",
          "date": "2015-07-01T00:00:00-04:00",
          "day": 1,
          "month": 7,
          "year": 2015
         },
         {
          "counts": 50,
          "data_type": "Repository",
          "date": "2015-08-01T00:00:00-04:00",
          "day": 1,
          "month": 8,
          "year": 2015
         },
         {
          "counts": 39,
          "data_type": "Repository",
          "date": "2015-09-01T00:00:00-04:00",
          "day": 1,
          "month": 9,
          "year": 2015
         },
         {
          "counts": 48,
          "data_type": "Repository",
          "date": "2015-10-01T00:00:00-04:00",
          "day": 1,
          "month": 10,
          "year": 2015
         },
         {
          "counts": 51,
          "data_type": "Repository",
          "date": "2015-11-01T00:00:00-04:00",
          "day": 1,
          "month": 11,
          "year": 2015
         },
         {
          "counts": 46,
          "data_type": "Repository",
          "date": "2015-12-01T00:00:00-05:00",
          "day": 1,
          "month": 12,
          "year": 2015
         },
         {
          "counts": 83,
          "data_type": "Repository",
          "date": "2016-01-01T00:00:00-05:00",
          "day": 1,
          "month": 1,
          "year": 2016
         },
         {
          "counts": 75,
          "data_type": "Repository",
          "date": "2016-02-01T00:00:00-05:00",
          "day": 1,
          "month": 2,
          "year": 2016
         },
         {
          "counts": 124,
          "data_type": "Repository",
          "date": "2016-03-01T00:00:00-05:00",
          "day": 1,
          "month": 3,
          "year": 2016
         },
         {
          "counts": 47,
          "data_type": "Repository",
          "date": "2016-04-01T00:00:00-04:00",
          "day": 1,
          "month": 4,
          "year": 2016
         },
         {
          "counts": 75,
          "data_type": "Repository",
          "date": "2016-05-01T00:00:00-04:00",
          "day": 1,
          "month": 5,
          "year": 2016
         },
         {
          "counts": 101,
          "data_type": "Repository",
          "date": "2016-06-01T00:00:00-04:00",
          "day": 1,
          "month": 6,
          "year": 2016
         },
         {
          "counts": 89,
          "data_type": "Repository",
          "date": "2016-07-01T00:00:00-04:00",
          "day": 1,
          "month": 7,
          "year": 2016
         },
         {
          "counts": 78,
          "data_type": "Repository",
          "date": "2016-08-01T00:00:00-04:00",
          "day": 1,
          "month": 8,
          "year": 2016
         },
         {
          "counts": 87,
          "data_type": "Repository",
          "date": "2016-09-01T00:00:00-04:00",
          "day": 1,
          "month": 9,
          "year": 2016
         },
         {
          "counts": 91,
          "data_type": "Repository",
          "date": "2016-10-01T00:00:00-04:00",
          "day": 1,
          "month": 10,
          "year": 2016
         },
         {
          "counts": 83,
          "data_type": "Repository",
          "date": "2016-11-01T00:00:00-04:00",
          "day": 1,
          "month": 11,
          "year": 2016
         },
         {
          "counts": 55,
          "data_type": "Repository",
          "date": "2016-12-01T00:00:00-05:00",
          "day": 1,
          "month": 12,
          "year": 2016
         },
         {
          "counts": 88,
          "data_type": "Repository",
          "date": "2017-01-01T00:00:00-05:00",
          "day": 1,
          "month": 1,
          "year": 2017
         },
         {
          "counts": 122,
          "data_type": "Repository",
          "date": "2017-02-01T00:00:00-05:00",
          "day": 1,
          "month": 2,
          "year": 2017
         },
         {
          "counts": 156,
          "data_type": "Repository",
          "date": "2017-03-01T00:00:00-05:00",
          "day": 1,
          "month": 3,
          "year": 2017
         },
         {
          "counts": 70,
          "data_type": "Repository",
          "date": "2017-04-01T00:00:00-04:00",
          "day": 1,
          "month": 4,
          "year": 2017
         },
         {
          "counts": 71,
          "data_type": "Repository",
          "date": "2017-05-01T00:00:00-04:00",
          "day": 1,
          "month": 5,
          "year": 2017
         },
         {
          "counts": 98,
          "data_type": "Repository",
          "date": "2017-06-01T00:00:00-04:00",
          "day": 1,
          "month": 6,
          "year": 2017
         },
         {
          "counts": 125,
          "data_type": "Repository",
          "date": "2017-07-01T00:00:00-04:00",
          "day": 1,
          "month": 7,
          "year": 2017
         },
         {
          "counts": 80,
          "data_type": "Repository",
          "date": "2017-08-01T00:00:00-04:00",
          "day": 1,
          "month": 8,
          "year": 2017
         },
         {
          "counts": 102,
          "data_type": "Repository",
          "date": "2017-09-01T00:00:00-04:00",
          "day": 1,
          "month": 9,
          "year": 2017
         },
         {
          "counts": 107,
          "data_type": "Repository",
          "date": "2017-10-01T00:00:00-04:00",
          "day": 1,
          "month": 10,
          "year": 2017
         },
         {
          "counts": 90,
          "data_type": "Repository",
          "date": "2017-11-01T00:00:00-04:00",
          "day": 1,
          "month": 11,
          "year": 2017
         },
         {
          "counts": 68,
          "data_type": "Repository",
          "date": "2017-12-01T00:00:00-05:00",
          "day": 1,
          "month": 12,
          "year": 2017
         },
         {
          "counts": 85,
          "data_type": "Repository",
          "date": "2018-01-01T00:00:00-05:00",
          "day": 1,
          "month": 1,
          "year": 2018
         },
         {
          "counts": 93,
          "data_type": "Repository",
          "date": "2018-02-01T00:00:00-05:00",
          "day": 1,
          "month": 2,
          "year": 2018
         },
         {
          "counts": 150,
          "data_type": "Repository",
          "date": "2018-03-01T00:00:00-05:00",
          "day": 1,
          "month": 3,
          "year": 2018
         },
         {
          "counts": 99,
          "data_type": "Repository",
          "date": "2018-04-01T00:00:00-04:00",
          "day": 1,
          "month": 4,
          "year": 2018
         },
         {
          "counts": 141,
          "data_type": "Repository",
          "date": "2018-05-01T00:00:00-04:00",
          "day": 1,
          "month": 5,
          "year": 2018
         },
         {
          "counts": 132,
          "data_type": "Repository",
          "date": "2018-06-01T00:00:00-04:00",
          "day": 1,
          "month": 6,
          "year": 2018
         },
         {
          "counts": 98,
          "data_type": "Repository",
          "date": "2018-07-01T00:00:00-04:00",
          "day": 1,
          "month": 7,
          "year": 2018
         },
         {
          "counts": 68,
          "data_type": "Repository",
          "date": "2018-08-01T00:00:00-04:00",
          "day": 1,
          "month": 8,
          "year": 2018
         },
         {
          "counts": 106,
          "data_type": "Repository",
          "date": "2018-09-01T00:00:00-04:00",
          "day": 1,
          "month": 9,
          "year": 2018
         },
         {
          "counts": 130,
          "data_type": "Repository",
          "date": "2018-10-01T00:00:00-04:00",
          "day": 1,
          "month": 10,
          "year": 2018
         },
         {
          "counts": 95,
          "data_type": "Repository",
          "date": "2018-11-01T00:00:00-04:00",
          "day": 1,
          "month": 11,
          "year": 2018
         },
         {
          "counts": 62,
          "data_type": "Repository",
          "date": "2018-12-01T00:00:00-05:00",
          "day": 1,
          "month": 12,
          "year": 2018
         },
         {
          "counts": 94,
          "data_type": "Repository",
          "date": "2019-01-01T00:00:00-05:00",
          "day": 1,
          "month": 1,
          "year": 2019
         },
         {
          "counts": 98,
          "data_type": "Repository",
          "date": "2019-02-01T00:00:00-05:00",
          "day": 1,
          "month": 2,
          "year": 2019
         },
         {
          "counts": 130,
          "data_type": "Repository",
          "date": "2019-03-01T00:00:00-05:00",
          "day": 1,
          "month": 3,
          "year": 2019
         },
         {
          "counts": 122,
          "data_type": "Repository",
          "date": "2019-04-01T00:00:00-04:00",
          "day": 1,
          "month": 4,
          "year": 2019
         },
         {
          "counts": 111,
          "data_type": "Repository",
          "date": "2019-05-01T00:00:00-04:00",
          "day": 1,
          "month": 5,
          "year": 2019
         },
         {
          "counts": 90,
          "data_type": "Repository",
          "date": "2019-06-01T00:00:00-04:00",
          "day": 1,
          "month": 6,
          "year": 2019
         },
         {
          "counts": 86,
          "data_type": "Repository",
          "date": "2019-07-01T00:00:00-04:00",
          "day": 1,
          "month": 7,
          "year": 2019
         },
         {
          "counts": 129,
          "data_type": "Repository",
          "date": "2019-08-01T00:00:00-04:00",
          "day": 1,
          "month": 8,
          "year": 2019
         },
         {
          "counts": 128,
          "data_type": "Repository",
          "date": "2019-09-01T00:00:00-04:00",
          "day": 1,
          "month": 9,
          "year": 2019
         },
         {
          "counts": 137,
          "data_type": "Repository",
          "date": "2019-10-01T00:00:00-04:00",
          "day": 1,
          "month": 10,
          "year": 2019
         },
         {
          "counts": 116,
          "data_type": "Repository",
          "date": "2019-11-01T00:00:00-04:00",
          "day": 1,
          "month": 11,
          "year": 2019
         },
         {
          "counts": 101,
          "data_type": "Repository",
          "date": "2019-12-01T00:00:00-05:00",
          "day": 1,
          "month": 12,
          "year": 2019
         },
         {
          "counts": 125,
          "data_type": "Repository",
          "date": "2020-01-01T00:00:00-05:00",
          "day": 1,
          "month": 1,
          "year": 2020
         },
         {
          "counts": 134,
          "data_type": "Repository",
          "date": "2020-02-01T00:00:00-05:00",
          "day": 1,
          "month": 2,
          "year": 2020
         },
         {
          "counts": 177,
          "data_type": "Repository",
          "date": "2020-03-01T00:00:00-05:00",
          "day": 1,
          "month": 3,
          "year": 2020
         },
         {
          "counts": 167,
          "data_type": "Repository",
          "date": "2020-04-01T00:00:00-04:00",
          "day": 1,
          "month": 4,
          "year": 2020
         },
         {
          "counts": 237,
          "data_type": "Repository",
          "date": "2020-05-01T00:00:00-04:00",
          "day": 1,
          "month": 5,
          "year": 2020
         },
         {
          "counts": 226,
          "data_type": "Repository",
          "date": "2020-06-01T00:00:00-04:00",
          "day": 1,
          "month": 6,
          "year": 2020
         },
         {
          "counts": 174,
          "data_type": "Repository",
          "date": "2020-07-01T00:00:00-04:00",
          "day": 1,
          "month": 7,
          "year": 2020
         },
         {
          "counts": 176,
          "data_type": "Repository",
          "date": "2020-08-01T00:00:00-04:00",
          "day": 1,
          "month": 8,
          "year": 2020
         },
         {
          "counts": 161,
          "data_type": "Repository",
          "date": "2020-09-01T00:00:00-04:00",
          "day": 1,
          "month": 9,
          "year": 2020
         },
         {
          "counts": 192,
          "data_type": "Repository",
          "date": "2020-10-01T00:00:00-04:00",
          "day": 1,
          "month": 10,
          "year": 2020
         },
         {
          "counts": 123,
          "data_type": "Repository",
          "date": "2020-11-01T00:00:00-04:00",
          "day": 1,
          "month": 11,
          "year": 2020
         },
         {
          "counts": 123,
          "data_type": "Repository",
          "date": "2020-12-01T00:00:00-05:00",
          "day": 1,
          "month": 12,
          "year": 2020
         },
         {
          "counts": 138,
          "data_type": "Repository",
          "date": "2021-01-01T00:00:00-05:00",
          "day": 1,
          "month": 1,
          "year": 2021
         },
         {
          "counts": 159,
          "data_type": "Repository",
          "date": "2021-02-01T00:00:00-05:00",
          "day": 1,
          "month": 2,
          "year": 2021
         },
         {
          "counts": 217,
          "data_type": "Repository",
          "date": "2021-03-01T00:00:00-05:00",
          "day": 1,
          "month": 3,
          "year": 2021
         },
         {
          "counts": 175,
          "data_type": "Repository",
          "date": "2021-04-01T00:00:00-04:00",
          "day": 1,
          "month": 4,
          "year": 2021
         },
         {
          "counts": 176,
          "data_type": "Repository",
          "date": "2021-05-01T00:00:00-04:00",
          "day": 1,
          "month": 5,
          "year": 2021
         },
         {
          "counts": 142,
          "data_type": "Repository",
          "date": "2021-06-01T00:00:00-04:00",
          "day": 1,
          "month": 6,
          "year": 2021
         },
         {
          "counts": 185,
          "data_type": "Repository",
          "date": "2021-07-01T00:00:00-04:00",
          "day": 1,
          "month": 7,
          "year": 2021
         },
         {
          "counts": 121,
          "data_type": "Repository",
          "date": "2021-08-01T00:00:00-04:00",
          "day": 1,
          "month": 8,
          "year": 2021
         },
         {
          "counts": 171,
          "data_type": "Repository",
          "date": "2021-09-01T00:00:00-04:00",
          "day": 1,
          "month": 9,
          "year": 2021
         },
         {
          "counts": 144,
          "data_type": "Repository",
          "date": "2021-10-01T00:00:00-04:00",
          "day": 1,
          "month": 10,
          "year": 2021
         },
         {
          "counts": 146,
          "data_type": "Repository",
          "date": "2021-11-01T00:00:00-04:00",
          "day": 1,
          "month": 11,
          "year": 2021
         },
         {
          "counts": 123,
          "data_type": "Repository",
          "date": "2021-12-01T00:00:00-05:00",
          "day": 1,
          "month": 12,
          "year": 2021
         },
         {
          "counts": 175,
          "data_type": "Repository",
          "date": "2022-01-01T00:00:00-05:00",
          "day": 1,
          "month": 1,
          "year": 2022
         },
         {
          "counts": 189,
          "data_type": "Repository",
          "date": "2022-02-01T00:00:00-05:00",
          "day": 1,
          "month": 2,
          "year": 2022
         },
         {
          "counts": 152,
          "data_type": "Repository",
          "date": "2022-03-01T00:00:00-05:00",
          "day": 1,
          "month": 3,
          "year": 2022
         },
         {
          "counts": 156,
          "data_type": "Repository",
          "date": "2022-04-01T00:00:00-04:00",
          "day": 1,
          "month": 4,
          "year": 2022
         },
         {
          "counts": 205,
          "data_type": "Repository",
          "date": "2022-05-01T00:00:00-04:00",
          "day": 1,
          "month": 5,
          "year": 2022
         },
         {
          "counts": 168,
          "data_type": "Repository",
          "date": "2022-06-01T00:00:00-04:00",
          "day": 1,
          "month": 6,
          "year": 2022
         },
         {
          "counts": 140,
          "data_type": "Repository",
          "date": "2022-07-01T00:00:00-04:00",
          "day": 1,
          "month": 7,
          "year": 2022
         },
         {
          "counts": 144,
          "data_type": "Repository",
          "date": "2022-08-01T00:00:00-04:00",
          "day": 1,
          "month": 8,
          "year": 2022
         },
         {
          "counts": 197,
          "data_type": "Repository",
          "date": "2022-09-01T00:00:00-04:00",
          "day": 1,
          "month": 9,
          "year": 2022
         },
         {
          "counts": 168,
          "data_type": "Repository",
          "date": "2022-10-01T00:00:00-04:00",
          "day": 1,
          "month": 10,
          "year": 2022
         },
         {
          "counts": 155,
          "data_type": "Repository",
          "date": "2022-11-01T00:00:00-04:00",
          "day": 1,
          "month": 11,
          "year": 2022
         },
         {
          "counts": 124,
          "data_type": "Repository",
          "date": "2022-12-01T00:00:00-05:00",
          "day": 1,
          "month": 12,
          "year": 2022
         },
         {
          "counts": 123,
          "data_type": "Repository",
          "date": "2023-01-01T00:00:00-05:00",
          "day": 1,
          "month": 1,
          "year": 2023
         },
         {
          "counts": 138,
          "data_type": "Repository",
          "date": "2023-02-01T00:00:00-05:00",
          "day": 1,
          "month": 2,
          "year": 2023
         },
         {
          "counts": 154,
          "data_type": "Repository",
          "date": "2023-03-01T00:00:00-05:00",
          "day": 1,
          "month": 3,
          "year": 2023
         },
         {
          "counts": 109,
          "data_type": "Repository",
          "date": "2023-04-01T00:00:00-04:00",
          "day": 1,
          "month": 4,
          "year": 2023
         },
         {
          "counts": 90,
          "data_type": "Repository",
          "date": "2023-05-01T00:00:00-04:00",
          "day": 1,
          "month": 5,
          "year": 2023
         },
         {
          "counts": 1,
          "data_type": "User",
          "date": "2008-02-01T00:00:00-05:00",
          "day": 1,
          "month": 2,
          "year": 2008
         },
         {
          "counts": 1,
          "data_type": "User",
          "date": "2008-05-01T00:00:00-04:00",
          "day": 1,
          "month": 5,
          "year": 2008
         },
         {
          "counts": 1,
          "data_type": "User",
          "date": "2008-08-01T00:00:00-04:00",
          "day": 1,
          "month": 8,
          "year": 2008
         },
         {
          "counts": 2,
          "data_type": "User",
          "date": "2008-09-01T00:00:00-04:00",
          "day": 1,
          "month": 9,
          "year": 2008
         },
         {
          "counts": 2,
          "data_type": "User",
          "date": "2008-10-01T00:00:00-04:00",
          "day": 1,
          "month": 10,
          "year": 2008
         },
         {
          "counts": 2,
          "data_type": "User",
          "date": "2008-11-01T00:00:00-04:00",
          "day": 1,
          "month": 11,
          "year": 2008
         },
         {
          "counts": 1,
          "data_type": "User",
          "date": "2008-12-01T00:00:00-05:00",
          "day": 1,
          "month": 12,
          "year": 2008
         },
         {
          "counts": 1,
          "data_type": "User",
          "date": "2009-01-01T00:00:00-05:00",
          "day": 1,
          "month": 1,
          "year": 2009
         },
         {
          "counts": 1,
          "data_type": "User",
          "date": "2009-02-01T00:00:00-05:00",
          "day": 1,
          "month": 2,
          "year": 2009
         },
         {
          "counts": 1,
          "data_type": "User",
          "date": "2009-03-01T00:00:00-05:00",
          "day": 1,
          "month": 3,
          "year": 2009
         },
         {
          "counts": 3,
          "data_type": "User",
          "date": "2009-04-01T00:00:00-04:00",
          "day": 1,
          "month": 4,
          "year": 2009
         },
         {
          "counts": 1,
          "data_type": "User",
          "date": "2009-05-01T00:00:00-04:00",
          "day": 1,
          "month": 5,
          "year": 2009
         },
         {
          "counts": 2,
          "data_type": "User",
          "date": "2009-06-01T00:00:00-04:00",
          "day": 1,
          "month": 6,
          "year": 2009
         },
         {
          "counts": 2,
          "data_type": "User",
          "date": "2009-07-01T00:00:00-04:00",
          "day": 1,
          "month": 7,
          "year": 2009
         },
         {
          "counts": 2,
          "data_type": "User",
          "date": "2009-08-01T00:00:00-04:00",
          "day": 1,
          "month": 8,
          "year": 2009
         },
         {
          "counts": 2,
          "data_type": "User",
          "date": "2009-09-01T00:00:00-04:00",
          "day": 1,
          "month": 9,
          "year": 2009
         },
         {
          "counts": 3,
          "data_type": "User",
          "date": "2009-11-01T00:00:00-04:00",
          "day": 1,
          "month": 11,
          "year": 2009
         },
         {
          "counts": 2,
          "data_type": "User",
          "date": "2009-12-01T00:00:00-05:00",
          "day": 1,
          "month": 12,
          "year": 2009
         },
         {
          "counts": 2,
          "data_type": "User",
          "date": "2010-01-01T00:00:00-05:00",
          "day": 1,
          "month": 1,
          "year": 2010
         },
         {
          "counts": 2,
          "data_type": "User",
          "date": "2010-02-01T00:00:00-05:00",
          "day": 1,
          "month": 2,
          "year": 2010
         },
         {
          "counts": 3,
          "data_type": "User",
          "date": "2010-03-01T00:00:00-05:00",
          "day": 1,
          "month": 3,
          "year": 2010
         },
         {
          "counts": 1,
          "data_type": "User",
          "date": "2010-04-01T00:00:00-04:00",
          "day": 1,
          "month": 4,
          "year": 2010
         },
         {
          "counts": 2,
          "data_type": "User",
          "date": "2010-05-01T00:00:00-04:00",
          "day": 1,
          "month": 5,
          "year": 2010
         },
         {
          "counts": 3,
          "data_type": "User",
          "date": "2010-06-01T00:00:00-04:00",
          "day": 1,
          "month": 6,
          "year": 2010
         },
         {
          "counts": 4,
          "data_type": "User",
          "date": "2010-07-01T00:00:00-04:00",
          "day": 1,
          "month": 7,
          "year": 2010
         },
         {
          "counts": 4,
          "data_type": "User",
          "date": "2010-08-01T00:00:00-04:00",
          "day": 1,
          "month": 8,
          "year": 2010
         },
         {
          "counts": 6,
          "data_type": "User",
          "date": "2010-09-01T00:00:00-04:00",
          "day": 1,
          "month": 9,
          "year": 2010
         },
         {
          "counts": 3,
          "data_type": "User",
          "date": "2010-10-01T00:00:00-04:00",
          "day": 1,
          "month": 10,
          "year": 2010
         },
         {
          "counts": 5,
          "data_type": "User",
          "date": "2010-11-01T00:00:00-04:00",
          "day": 1,
          "month": 11,
          "year": 2010
         },
         {
          "counts": 1,
          "data_type": "User",
          "date": "2010-12-01T00:00:00-05:00",
          "day": 1,
          "month": 12,
          "year": 2010
         },
         {
          "counts": 3,
          "data_type": "User",
          "date": "2011-01-01T00:00:00-05:00",
          "day": 1,
          "month": 1,
          "year": 2011
         },
         {
          "counts": 5,
          "data_type": "User",
          "date": "2011-02-01T00:00:00-05:00",
          "day": 1,
          "month": 2,
          "year": 2011
         },
         {
          "counts": 7,
          "data_type": "User",
          "date": "2011-03-01T00:00:00-05:00",
          "day": 1,
          "month": 3,
          "year": 2011
         },
         {
          "counts": 4,
          "data_type": "User",
          "date": "2011-04-01T00:00:00-04:00",
          "day": 1,
          "month": 4,
          "year": 2011
         },
         {
          "counts": 2,
          "data_type": "User",
          "date": "2011-05-01T00:00:00-04:00",
          "day": 1,
          "month": 5,
          "year": 2011
         },
         {
          "counts": 3,
          "data_type": "User",
          "date": "2011-06-01T00:00:00-04:00",
          "day": 1,
          "month": 6,
          "year": 2011
         },
         {
          "counts": 2,
          "data_type": "User",
          "date": "2011-07-01T00:00:00-04:00",
          "day": 1,
          "month": 7,
          "year": 2011
         },
         {
          "counts": 4,
          "data_type": "User",
          "date": "2011-08-01T00:00:00-04:00",
          "day": 1,
          "month": 8,
          "year": 2011
         },
         {
          "counts": 9,
          "data_type": "User",
          "date": "2011-09-01T00:00:00-04:00",
          "day": 1,
          "month": 9,
          "year": 2011
         },
         {
          "counts": 6,
          "data_type": "User",
          "date": "2011-10-01T00:00:00-04:00",
          "day": 1,
          "month": 10,
          "year": 2011
         },
         {
          "counts": 8,
          "data_type": "User",
          "date": "2011-11-01T00:00:00-04:00",
          "day": 1,
          "month": 11,
          "year": 2011
         },
         {
          "counts": 3,
          "data_type": "User",
          "date": "2011-12-01T00:00:00-05:00",
          "day": 1,
          "month": 12,
          "year": 2011
         },
         {
          "counts": 6,
          "data_type": "User",
          "date": "2012-01-01T00:00:00-05:00",
          "day": 1,
          "month": 1,
          "year": 2012
         },
         {
          "counts": 10,
          "data_type": "User",
          "date": "2012-02-01T00:00:00-05:00",
          "day": 1,
          "month": 2,
          "year": 2012
         },
         {
          "counts": 8,
          "data_type": "User",
          "date": "2012-03-01T00:00:00-05:00",
          "day": 1,
          "month": 3,
          "year": 2012
         },
         {
          "counts": 4,
          "data_type": "User",
          "date": "2012-04-01T00:00:00-04:00",
          "day": 1,
          "month": 4,
          "year": 2012
         },
         {
          "counts": 15,
          "data_type": "User",
          "date": "2012-05-01T00:00:00-04:00",
          "day": 1,
          "month": 5,
          "year": 2012
         },
         {
          "counts": 8,
          "data_type": "User",
          "date": "2012-06-01T00:00:00-04:00",
          "day": 1,
          "month": 6,
          "year": 2012
         },
         {
          "counts": 12,
          "data_type": "User",
          "date": "2012-07-01T00:00:00-04:00",
          "day": 1,
          "month": 7,
          "year": 2012
         },
         {
          "counts": 9,
          "data_type": "User",
          "date": "2012-08-01T00:00:00-04:00",
          "day": 1,
          "month": 8,
          "year": 2012
         },
         {
          "counts": 14,
          "data_type": "User",
          "date": "2012-09-01T00:00:00-04:00",
          "day": 1,
          "month": 9,
          "year": 2012
         },
         {
          "counts": 6,
          "data_type": "User",
          "date": "2012-10-01T00:00:00-04:00",
          "day": 1,
          "month": 10,
          "year": 2012
         },
         {
          "counts": 5,
          "data_type": "User",
          "date": "2012-11-01T00:00:00-04:00",
          "day": 1,
          "month": 11,
          "year": 2012
         },
         {
          "counts": 9,
          "data_type": "User",
          "date": "2012-12-01T00:00:00-05:00",
          "day": 1,
          "month": 12,
          "year": 2012
         },
         {
          "counts": 9,
          "data_type": "User",
          "date": "2013-01-01T00:00:00-05:00",
          "day": 1,
          "month": 1,
          "year": 2013
         },
         {
          "counts": 18,
          "data_type": "User",
          "date": "2013-02-01T00:00:00-05:00",
          "day": 1,
          "month": 2,
          "year": 2013
         },
         {
          "counts": 11,
          "data_type": "User",
          "date": "2013-03-01T00:00:00-05:00",
          "day": 1,
          "month": 3,
          "year": 2013
         },
         {
          "counts": 10,
          "data_type": "User",
          "date": "2013-04-01T00:00:00-04:00",
          "day": 1,
          "month": 4,
          "year": 2013
         },
         {
          "counts": 6,
          "data_type": "User",
          "date": "2013-05-01T00:00:00-04:00",
          "day": 1,
          "month": 5,
          "year": 2013
         },
         {
          "counts": 13,
          "data_type": "User",
          "date": "2013-06-01T00:00:00-04:00",
          "day": 1,
          "month": 6,
          "year": 2013
         },
         {
          "counts": 6,
          "data_type": "User",
          "date": "2013-07-01T00:00:00-04:00",
          "day": 1,
          "month": 7,
          "year": 2013
         },
         {
          "counts": 8,
          "data_type": "User",
          "date": "2013-08-01T00:00:00-04:00",
          "day": 1,
          "month": 8,
          "year": 2013
         },
         {
          "counts": 7,
          "data_type": "User",
          "date": "2013-09-01T00:00:00-04:00",
          "day": 1,
          "month": 9,
          "year": 2013
         },
         {
          "counts": 12,
          "data_type": "User",
          "date": "2013-10-01T00:00:00-04:00",
          "day": 1,
          "month": 10,
          "year": 2013
         },
         {
          "counts": 6,
          "data_type": "User",
          "date": "2013-11-01T00:00:00-04:00",
          "day": 1,
          "month": 11,
          "year": 2013
         },
         {
          "counts": 4,
          "data_type": "User",
          "date": "2013-12-01T00:00:00-05:00",
          "day": 1,
          "month": 12,
          "year": 2013
         },
         {
          "counts": 15,
          "data_type": "User",
          "date": "2014-01-01T00:00:00-05:00",
          "day": 1,
          "month": 1,
          "year": 2014
         },
         {
          "counts": 16,
          "data_type": "User",
          "date": "2014-02-01T00:00:00-05:00",
          "day": 1,
          "month": 2,
          "year": 2014
         },
         {
          "counts": 7,
          "data_type": "User",
          "date": "2014-03-01T00:00:00-05:00",
          "day": 1,
          "month": 3,
          "year": 2014
         },
         {
          "counts": 18,
          "data_type": "User",
          "date": "2014-04-01T00:00:00-04:00",
          "day": 1,
          "month": 4,
          "year": 2014
         },
         {
          "counts": 10,
          "data_type": "User",
          "date": "2014-05-01T00:00:00-04:00",
          "day": 1,
          "month": 5,
          "year": 2014
         },
         {
          "counts": 6,
          "data_type": "User",
          "date": "2014-06-01T00:00:00-04:00",
          "day": 1,
          "month": 6,
          "year": 2014
         },
         {
          "counts": 19,
          "data_type": "User",
          "date": "2014-07-01T00:00:00-04:00",
          "day": 1,
          "month": 7,
          "year": 2014
         },
         {
          "counts": 11,
          "data_type": "User",
          "date": "2014-08-01T00:00:00-04:00",
          "day": 1,
          "month": 8,
          "year": 2014
         },
         {
          "counts": 18,
          "data_type": "User",
          "date": "2014-09-01T00:00:00-04:00",
          "day": 1,
          "month": 9,
          "year": 2014
         },
         {
          "counts": 12,
          "data_type": "User",
          "date": "2014-10-01T00:00:00-04:00",
          "day": 1,
          "month": 10,
          "year": 2014
         },
         {
          "counts": 10,
          "data_type": "User",
          "date": "2014-11-01T00:00:00-04:00",
          "day": 1,
          "month": 11,
          "year": 2014
         },
         {
          "counts": 6,
          "data_type": "User",
          "date": "2014-12-01T00:00:00-05:00",
          "day": 1,
          "month": 12,
          "year": 2014
         },
         {
          "counts": 19,
          "data_type": "User",
          "date": "2015-01-01T00:00:00-05:00",
          "day": 1,
          "month": 1,
          "year": 2015
         },
         {
          "counts": 8,
          "data_type": "User",
          "date": "2015-02-01T00:00:00-05:00",
          "day": 1,
          "month": 2,
          "year": 2015
         },
         {
          "counts": 20,
          "data_type": "User",
          "date": "2015-03-01T00:00:00-05:00",
          "day": 1,
          "month": 3,
          "year": 2015
         },
         {
          "counts": 15,
          "data_type": "User",
          "date": "2015-04-01T00:00:00-04:00",
          "day": 1,
          "month": 4,
          "year": 2015
         },
         {
          "counts": 8,
          "data_type": "User",
          "date": "2015-05-01T00:00:00-04:00",
          "day": 1,
          "month": 5,
          "year": 2015
         },
         {
          "counts": 10,
          "data_type": "User",
          "date": "2015-06-01T00:00:00-04:00",
          "day": 1,
          "month": 6,
          "year": 2015
         },
         {
          "counts": 9,
          "data_type": "User",
          "date": "2015-07-01T00:00:00-04:00",
          "day": 1,
          "month": 7,
          "year": 2015
         },
         {
          "counts": 14,
          "data_type": "User",
          "date": "2015-08-01T00:00:00-04:00",
          "day": 1,
          "month": 8,
          "year": 2015
         },
         {
          "counts": 18,
          "data_type": "User",
          "date": "2015-09-01T00:00:00-04:00",
          "day": 1,
          "month": 9,
          "year": 2015
         },
         {
          "counts": 13,
          "data_type": "User",
          "date": "2015-10-01T00:00:00-04:00",
          "day": 1,
          "month": 10,
          "year": 2015
         },
         {
          "counts": 13,
          "data_type": "User",
          "date": "2015-11-01T00:00:00-04:00",
          "day": 1,
          "month": 11,
          "year": 2015
         },
         {
          "counts": 12,
          "data_type": "User",
          "date": "2015-12-01T00:00:00-05:00",
          "day": 1,
          "month": 12,
          "year": 2015
         },
         {
          "counts": 13,
          "data_type": "User",
          "date": "2016-01-01T00:00:00-05:00",
          "day": 1,
          "month": 1,
          "year": 2016
         },
         {
          "counts": 4,
          "data_type": "User",
          "date": "2016-02-01T00:00:00-05:00",
          "day": 1,
          "month": 2,
          "year": 2016
         },
         {
          "counts": 10,
          "data_type": "User",
          "date": "2016-03-01T00:00:00-05:00",
          "day": 1,
          "month": 3,
          "year": 2016
         },
         {
          "counts": 11,
          "data_type": "User",
          "date": "2016-04-01T00:00:00-04:00",
          "day": 1,
          "month": 4,
          "year": 2016
         },
         {
          "counts": 7,
          "data_type": "User",
          "date": "2016-05-01T00:00:00-04:00",
          "day": 1,
          "month": 5,
          "year": 2016
         },
         {
          "counts": 10,
          "data_type": "User",
          "date": "2016-06-01T00:00:00-04:00",
          "day": 1,
          "month": 6,
          "year": 2016
         },
         {
          "counts": 9,
          "data_type": "User",
          "date": "2016-07-01T00:00:00-04:00",
          "day": 1,
          "month": 7,
          "year": 2016
         },
         {
          "counts": 12,
          "data_type": "User",
          "date": "2016-08-01T00:00:00-04:00",
          "day": 1,
          "month": 8,
          "year": 2016
         },
         {
          "counts": 19,
          "data_type": "User",
          "date": "2016-09-01T00:00:00-04:00",
          "day": 1,
          "month": 9,
          "year": 2016
         },
         {
          "counts": 13,
          "data_type": "User",
          "date": "2016-10-01T00:00:00-04:00",
          "day": 1,
          "month": 10,
          "year": 2016
         },
         {
          "counts": 15,
          "data_type": "User",
          "date": "2016-11-01T00:00:00-04:00",
          "day": 1,
          "month": 11,
          "year": 2016
         },
         {
          "counts": 13,
          "data_type": "User",
          "date": "2016-12-01T00:00:00-05:00",
          "day": 1,
          "month": 12,
          "year": 2016
         },
         {
          "counts": 17,
          "data_type": "User",
          "date": "2017-01-01T00:00:00-05:00",
          "day": 1,
          "month": 1,
          "year": 2017
         },
         {
          "counts": 13,
          "data_type": "User",
          "date": "2017-02-01T00:00:00-05:00",
          "day": 1,
          "month": 2,
          "year": 2017
         },
         {
          "counts": 15,
          "data_type": "User",
          "date": "2017-03-01T00:00:00-05:00",
          "day": 1,
          "month": 3,
          "year": 2017
         },
         {
          "counts": 13,
          "data_type": "User",
          "date": "2017-04-01T00:00:00-04:00",
          "day": 1,
          "month": 4,
          "year": 2017
         },
         {
          "counts": 10,
          "data_type": "User",
          "date": "2017-05-01T00:00:00-04:00",
          "day": 1,
          "month": 5,
          "year": 2017
         },
         {
          "counts": 11,
          "data_type": "User",
          "date": "2017-06-01T00:00:00-04:00",
          "day": 1,
          "month": 6,
          "year": 2017
         },
         {
          "counts": 13,
          "data_type": "User",
          "date": "2017-07-01T00:00:00-04:00",
          "day": 1,
          "month": 7,
          "year": 2017
         },
         {
          "counts": 17,
          "data_type": "User",
          "date": "2017-08-01T00:00:00-04:00",
          "day": 1,
          "month": 8,
          "year": 2017
         },
         {
          "counts": 34,
          "data_type": "User",
          "date": "2017-09-01T00:00:00-04:00",
          "day": 1,
          "month": 9,
          "year": 2017
         },
         {
          "counts": 17,
          "data_type": "User",
          "date": "2017-10-01T00:00:00-04:00",
          "day": 1,
          "month": 10,
          "year": 2017
         },
         {
          "counts": 15,
          "data_type": "User",
          "date": "2017-11-01T00:00:00-04:00",
          "day": 1,
          "month": 11,
          "year": 2017
         },
         {
          "counts": 10,
          "data_type": "User",
          "date": "2017-12-01T00:00:00-05:00",
          "day": 1,
          "month": 12,
          "year": 2017
         },
         {
          "counts": 17,
          "data_type": "User",
          "date": "2018-01-01T00:00:00-05:00",
          "day": 1,
          "month": 1,
          "year": 2018
         },
         {
          "counts": 23,
          "data_type": "User",
          "date": "2018-02-01T00:00:00-05:00",
          "day": 1,
          "month": 2,
          "year": 2018
         },
         {
          "counts": 18,
          "data_type": "User",
          "date": "2018-03-01T00:00:00-05:00",
          "day": 1,
          "month": 3,
          "year": 2018
         },
         {
          "counts": 12,
          "data_type": "User",
          "date": "2018-04-01T00:00:00-04:00",
          "day": 1,
          "month": 4,
          "year": 2018
         },
         {
          "counts": 12,
          "data_type": "User",
          "date": "2018-05-01T00:00:00-04:00",
          "day": 1,
          "month": 5,
          "year": 2018
         },
         {
          "counts": 21,
          "data_type": "User",
          "date": "2018-06-01T00:00:00-04:00",
          "day": 1,
          "month": 6,
          "year": 2018
         },
         {
          "counts": 10,
          "data_type": "User",
          "date": "2018-07-01T00:00:00-04:00",
          "day": 1,
          "month": 7,
          "year": 2018
         },
         {
          "counts": 9,
          "data_type": "User",
          "date": "2018-08-01T00:00:00-04:00",
          "day": 1,
          "month": 8,
          "year": 2018
         },
         {
          "counts": 23,
          "data_type": "User",
          "date": "2018-09-01T00:00:00-04:00",
          "day": 1,
          "month": 9,
          "year": 2018
         },
         {
          "counts": 24,
          "data_type": "User",
          "date": "2018-10-01T00:00:00-04:00",
          "day": 1,
          "month": 10,
          "year": 2018
         },
         {
          "counts": 7,
          "data_type": "User",
          "date": "2018-11-01T00:00:00-04:00",
          "day": 1,
          "month": 11,
          "year": 2018
         },
         {
          "counts": 17,
          "data_type": "User",
          "date": "2018-12-01T00:00:00-05:00",
          "day": 1,
          "month": 12,
          "year": 2018
         },
         {
          "counts": 13,
          "data_type": "User",
          "date": "2019-01-01T00:00:00-05:00",
          "day": 1,
          "month": 1,
          "year": 2019
         },
         {
          "counts": 10,
          "data_type": "User",
          "date": "2019-02-01T00:00:00-05:00",
          "day": 1,
          "month": 2,
          "year": 2019
         },
         {
          "counts": 15,
          "data_type": "User",
          "date": "2019-03-01T00:00:00-05:00",
          "day": 1,
          "month": 3,
          "year": 2019
         },
         {
          "counts": 11,
          "data_type": "User",
          "date": "2019-04-01T00:00:00-04:00",
          "day": 1,
          "month": 4,
          "year": 2019
         },
         {
          "counts": 11,
          "data_type": "User",
          "date": "2019-05-01T00:00:00-04:00",
          "day": 1,
          "month": 5,
          "year": 2019
         },
         {
          "counts": 11,
          "data_type": "User",
          "date": "2019-06-01T00:00:00-04:00",
          "day": 1,
          "month": 6,
          "year": 2019
         },
         {
          "counts": 12,
          "data_type": "User",
          "date": "2019-07-01T00:00:00-04:00",
          "day": 1,
          "month": 7,
          "year": 2019
         },
         {
          "counts": 13,
          "data_type": "User",
          "date": "2019-08-01T00:00:00-04:00",
          "day": 1,
          "month": 8,
          "year": 2019
         },
         {
          "counts": 20,
          "data_type": "User",
          "date": "2019-09-01T00:00:00-04:00",
          "day": 1,
          "month": 9,
          "year": 2019
         },
         {
          "counts": 20,
          "data_type": "User",
          "date": "2019-10-01T00:00:00-04:00",
          "day": 1,
          "month": 10,
          "year": 2019
         },
         {
          "counts": 19,
          "data_type": "User",
          "date": "2019-11-01T00:00:00-04:00",
          "day": 1,
          "month": 11,
          "year": 2019
         },
         {
          "counts": 9,
          "data_type": "User",
          "date": "2019-12-01T00:00:00-05:00",
          "day": 1,
          "month": 12,
          "year": 2019
         },
         {
          "counts": 22,
          "data_type": "User",
          "date": "2020-01-01T00:00:00-05:00",
          "day": 1,
          "month": 1,
          "year": 2020
         },
         {
          "counts": 14,
          "data_type": "User",
          "date": "2020-02-01T00:00:00-05:00",
          "day": 1,
          "month": 2,
          "year": 2020
         },
         {
          "counts": 21,
          "data_type": "User",
          "date": "2020-03-01T00:00:00-05:00",
          "day": 1,
          "month": 3,
          "year": 2020
         },
         {
          "counts": 17,
          "data_type": "User",
          "date": "2020-04-01T00:00:00-04:00",
          "day": 1,
          "month": 4,
          "year": 2020
         },
         {
          "counts": 15,
          "data_type": "User",
          "date": "2020-05-01T00:00:00-04:00",
          "day": 1,
          "month": 5,
          "year": 2020
         },
         {
          "counts": 10,
          "data_type": "User",
          "date": "2020-06-01T00:00:00-04:00",
          "day": 1,
          "month": 6,
          "year": 2020
         },
         {
          "counts": 7,
          "data_type": "User",
          "date": "2020-07-01T00:00:00-04:00",
          "day": 1,
          "month": 7,
          "year": 2020
         },
         {
          "counts": 14,
          "data_type": "User",
          "date": "2020-08-01T00:00:00-04:00",
          "day": 1,
          "month": 8,
          "year": 2020
         },
         {
          "counts": 14,
          "data_type": "User",
          "date": "2020-09-01T00:00:00-04:00",
          "day": 1,
          "month": 9,
          "year": 2020
         },
         {
          "counts": 21,
          "data_type": "User",
          "date": "2020-10-01T00:00:00-04:00",
          "day": 1,
          "month": 10,
          "year": 2020
         },
         {
          "counts": 14,
          "data_type": "User",
          "date": "2020-11-01T00:00:00-04:00",
          "day": 1,
          "month": 11,
          "year": 2020
         },
         {
          "counts": 14,
          "data_type": "User",
          "date": "2020-12-01T00:00:00-05:00",
          "day": 1,
          "month": 12,
          "year": 2020
         },
         {
          "counts": 8,
          "data_type": "User",
          "date": "2021-01-01T00:00:00-05:00",
          "day": 1,
          "month": 1,
          "year": 2021
         },
         {
          "counts": 21,
          "data_type": "User",
          "date": "2021-02-01T00:00:00-05:00",
          "day": 1,
          "month": 2,
          "year": 2021
         },
         {
          "counts": 12,
          "data_type": "User",
          "date": "2021-03-01T00:00:00-05:00",
          "day": 1,
          "month": 3,
          "year": 2021
         },
         {
          "counts": 6,
          "data_type": "User",
          "date": "2021-04-01T00:00:00-04:00",
          "day": 1,
          "month": 4,
          "year": 2021
         },
         {
          "counts": 12,
          "data_type": "User",
          "date": "2021-05-01T00:00:00-04:00",
          "day": 1,
          "month": 5,
          "year": 2021
         },
         {
          "counts": 10,
          "data_type": "User",
          "date": "2021-06-01T00:00:00-04:00",
          "day": 1,
          "month": 6,
          "year": 2021
         },
         {
          "counts": 2,
          "data_type": "User",
          "date": "2021-07-01T00:00:00-04:00",
          "day": 1,
          "month": 7,
          "year": 2021
         },
         {
          "counts": 7,
          "data_type": "User",
          "date": "2021-08-01T00:00:00-04:00",
          "day": 1,
          "month": 8,
          "year": 2021
         },
         {
          "counts": 16,
          "data_type": "User",
          "date": "2021-09-01T00:00:00-04:00",
          "day": 1,
          "month": 9,
          "year": 2021
         },
         {
          "counts": 14,
          "data_type": "User",
          "date": "2021-10-01T00:00:00-04:00",
          "day": 1,
          "month": 10,
          "year": 2021
         },
         {
          "counts": 19,
          "data_type": "User",
          "date": "2021-11-01T00:00:00-04:00",
          "day": 1,
          "month": 11,
          "year": 2021
         },
         {
          "counts": 10,
          "data_type": "User",
          "date": "2021-12-01T00:00:00-05:00",
          "day": 1,
          "month": 12,
          "year": 2021
         },
         {
          "counts": 5,
          "data_type": "User",
          "date": "2022-01-01T00:00:00-05:00",
          "day": 1,
          "month": 1,
          "year": 2022
         },
         {
          "counts": 8,
          "data_type": "User",
          "date": "2022-02-01T00:00:00-05:00",
          "day": 1,
          "month": 2,
          "year": 2022
         },
         {
          "counts": 5,
          "data_type": "User",
          "date": "2022-03-01T00:00:00-05:00",
          "day": 1,
          "month": 3,
          "year": 2022
         },
         {
          "counts": 10,
          "data_type": "User",
          "date": "2022-04-01T00:00:00-04:00",
          "day": 1,
          "month": 4,
          "year": 2022
         },
         {
          "counts": 27,
          "data_type": "User",
          "date": "2022-05-01T00:00:00-04:00",
          "day": 1,
          "month": 5,
          "year": 2022
         },
         {
          "counts": 3,
          "data_type": "User",
          "date": "2022-06-01T00:00:00-04:00",
          "day": 1,
          "month": 6,
          "year": 2022
         },
         {
          "counts": 7,
          "data_type": "User",
          "date": "2022-07-01T00:00:00-04:00",
          "day": 1,
          "month": 7,
          "year": 2022
         },
         {
          "counts": 6,
          "data_type": "User",
          "date": "2022-08-01T00:00:00-04:00",
          "day": 1,
          "month": 8,
          "year": 2022
         },
         {
          "counts": 16,
          "data_type": "User",
          "date": "2022-09-01T00:00:00-04:00",
          "day": 1,
          "month": 9,
          "year": 2022
         },
         {
          "counts": 5,
          "data_type": "User",
          "date": "2022-10-01T00:00:00-04:00",
          "day": 1,
          "month": 10,
          "year": 2022
         },
         {
          "counts": 8,
          "data_type": "User",
          "date": "2022-11-01T00:00:00-04:00",
          "day": 1,
          "month": 11,
          "year": 2022
         },
         {
          "counts": 6,
          "data_type": "User",
          "date": "2022-12-01T00:00:00-05:00",
          "day": 1,
          "month": 12,
          "year": 2022
         },
         {
          "counts": 2,
          "data_type": "User",
          "date": "2023-01-01T00:00:00-05:00",
          "day": 1,
          "month": 1,
          "year": 2023
         },
         {
          "counts": 4,
          "data_type": "User",
          "date": "2023-02-01T00:00:00-05:00",
          "day": 1,
          "month": 2,
          "year": 2023
         }
        ]
       },
       "height": 300,
       "layer": [
        {
         "encoding": {
          "color": {
           "field": "data_type",
           "title": "Type of Entity",
           "type": "nominal"
          },
          "x": {
           "axis": {
            "format": "%Y"
           },
           "field": "date",
           "title": "Date Created",
           "type": "temporal"
          },
          "y": {
           "field": "counts",
           "title": "Counts",
           "type": "quantitative"
          }
         },
         "mark": {
          "interpolate": "basis",
          "type": "line"
         }
        },
        {
         "encoding": {
          "opacity": {
           "value": 0
          },
          "x": {
           "field": "date",
           "type": "temporal"
          }
         },
         "mark": {
          "type": "point"
         },
         "name": "view_2"
        },
        {
         "encoding": {
          "color": {
           "field": "data_type",
           "title": "Type of Entity",
           "type": "nominal"
          },
          "opacity": {
           "condition": {
            "empty": false,
            "param": "param_2",
            "value": 1
           },
           "value": 0
          },
          "x": {
           "axis": {
            "format": "%Y"
           },
           "field": "date",
           "title": "Date Created",
           "type": "temporal"
          },
          "y": {
           "field": "counts",
           "title": "Counts",
           "type": "quantitative"
          }
         },
         "mark": {
          "type": "point"
         }
        },
        {
         "encoding": {
          "x": {
           "field": "date",
           "type": "temporal"
          }
         },
         "mark": {
          "color": "gray",
          "type": "rule"
         },
         "transform": [
          {
           "filter": {
            "empty": false,
            "param": "param_2"
           }
          }
         ]
        },
        {
         "encoding": {
          "color": {
           "field": "data_type",
           "title": "Type of Entity",
           "type": "nominal"
          },
          "text": {
           "condition": {
            "empty": false,
            "field": "counts",
            "param": "param_2"
           },
           "value": " "
          },
          "x": {
           "axis": {
            "format": "%Y"
           },
           "field": "date",
           "title": "Date Created",
           "type": "temporal"
          },
          "y": {
           "field": "counts",
           "title": "Counts",
           "type": "quantitative"
          }
         },
         "mark": {
          "align": "left",
          "dx": 5,
          "dy": -5,
          "type": "text"
         }
        }
       ],
       "params": [
        {
         "name": "param_2",
         "select": {
          "encodings": [
           "x"
          ],
          "nearest": true,
          "on": "mouseover",
          "type": "point"
         },
         "views": [
          "view_2"
         ]
        }
       ],
       "title": "Number of Users, Organizations, and Repositories identified as DH, Created Over Time via First Pass",
       "width": 600
      },
      "text/plain": [
       "<VegaLite 5 object>\n",
       "\n",
       "If you see this message, it means the renderer has not been properly enabled\n",
       "for the frontend that you are using. For more information, see\n",
       "https://altair-viz.github.io/user_guide/display_frontends.html#troubleshooting\n"
      ]
     },
     "execution_count": 16,
     "metadata": {},
     "output_type": "execute_result"
    }
   ],
   "source": [
    "first_pass_chart"
   ]
  },
  {
   "attachments": {},
   "cell_type": "markdown",
   "metadata": {},
   "source": [
    "### Final Pass Core Materials"
   ]
  },
  {
   "cell_type": "code",
   "execution_count": 17,
   "metadata": {},
   "outputs": [],
   "source": [
    "finalpass_core_users = pd.read_csv(os.path.join(datafile_path, \"derived_files/finalpass_core_users.csv\"))\n",
    "finalpass_core_repos = pd.read_csv(os.path.join(datafile_path, \"large_files/derived_files/finalpass_core_repos.csv\"))\n",
    "finalpass_core_orgs = pd.read_csv(os.path.join(datafile_path, \"derived_files/finalpass_core_orgs.csv\"))"
   ]
  },
  {
   "cell_type": "code",
   "execution_count": 18,
   "metadata": {},
   "outputs": [],
   "source": [
    "finalpass_grouped_data = process_core_materials(finalpass_core_repos, finalpass_core_users, finalpass_core_orgs, include_month=True)"
   ]
  },
  {
   "cell_type": "code",
   "execution_count": 19,
   "metadata": {},
   "outputs": [],
   "source": [
    "finalpass_chart = overtime_chart(finalpass_grouped_data, \"Number of Users, Organizations, and Repositories identified as DH, Created Over Time via Final Pass Thresholding Algorithm\")"
   ]
  },
  {
   "cell_type": "code",
   "execution_count": 20,
   "metadata": {},
   "outputs": [
    {
     "data": {
      "application/vnd.vegalite.v5+json": {
       "$schema": "https://vega.github.io/schema/vega-lite/v5.8.0.json",
       "config": {
        "view": {
         "continuousHeight": 300,
         "continuousWidth": 300
        }
       },
       "data": {
        "name": "data-899440e6e96838356f62ba3154f1f7f3"
       },
       "datasets": {
        "data-899440e6e96838356f62ba3154f1f7f3": [
         {
          "counts": 1,
          "data_type": "Organization",
          "date": "2009-03-01T00:00:00-05:00",
          "day": 1,
          "month": 3,
          "year": 2009
         },
         {
          "counts": 1,
          "data_type": "Organization",
          "date": "2009-06-01T00:00:00-04:00",
          "day": 1,
          "month": 6,
          "year": 2009
         },
         {
          "counts": 1,
          "data_type": "Organization",
          "date": "2010-06-01T00:00:00-04:00",
          "day": 1,
          "month": 6,
          "year": 2010
         },
         {
          "counts": 2,
          "data_type": "Organization",
          "date": "2010-07-01T00:00:00-04:00",
          "day": 1,
          "month": 7,
          "year": 2010
         },
         {
          "counts": 1,
          "data_type": "Organization",
          "date": "2010-12-01T00:00:00-05:00",
          "day": 1,
          "month": 12,
          "year": 2010
         },
         {
          "counts": 1,
          "data_type": "Organization",
          "date": "2011-01-01T00:00:00-05:00",
          "day": 1,
          "month": 1,
          "year": 2011
         },
         {
          "counts": 1,
          "data_type": "Organization",
          "date": "2011-04-01T00:00:00-04:00",
          "day": 1,
          "month": 4,
          "year": 2011
         },
         {
          "counts": 2,
          "data_type": "Organization",
          "date": "2011-06-01T00:00:00-04:00",
          "day": 1,
          "month": 6,
          "year": 2011
         },
         {
          "counts": 1,
          "data_type": "Organization",
          "date": "2011-07-01T00:00:00-04:00",
          "day": 1,
          "month": 7,
          "year": 2011
         },
         {
          "counts": 1,
          "data_type": "Organization",
          "date": "2011-09-01T00:00:00-04:00",
          "day": 1,
          "month": 9,
          "year": 2011
         },
         {
          "counts": 1,
          "data_type": "Organization",
          "date": "2011-11-01T00:00:00-04:00",
          "day": 1,
          "month": 11,
          "year": 2011
         },
         {
          "counts": 1,
          "data_type": "Organization",
          "date": "2011-12-01T00:00:00-05:00",
          "day": 1,
          "month": 12,
          "year": 2011
         },
         {
          "counts": 2,
          "data_type": "Organization",
          "date": "2012-02-01T00:00:00-05:00",
          "day": 1,
          "month": 2,
          "year": 2012
         },
         {
          "counts": 4,
          "data_type": "Organization",
          "date": "2012-05-01T00:00:00-04:00",
          "day": 1,
          "month": 5,
          "year": 2012
         },
         {
          "counts": 1,
          "data_type": "Organization",
          "date": "2012-07-01T00:00:00-04:00",
          "day": 1,
          "month": 7,
          "year": 2012
         },
         {
          "counts": 1,
          "data_type": "Organization",
          "date": "2012-08-01T00:00:00-04:00",
          "day": 1,
          "month": 8,
          "year": 2012
         },
         {
          "counts": 1,
          "data_type": "Organization",
          "date": "2012-09-01T00:00:00-04:00",
          "day": 1,
          "month": 9,
          "year": 2012
         },
         {
          "counts": 1,
          "data_type": "Organization",
          "date": "2012-10-01T00:00:00-04:00",
          "day": 1,
          "month": 10,
          "year": 2012
         },
         {
          "counts": 3,
          "data_type": "Organization",
          "date": "2012-11-01T00:00:00-04:00",
          "day": 1,
          "month": 11,
          "year": 2012
         },
         {
          "counts": 2,
          "data_type": "Organization",
          "date": "2013-01-01T00:00:00-05:00",
          "day": 1,
          "month": 1,
          "year": 2013
         },
         {
          "counts": 1,
          "data_type": "Organization",
          "date": "2013-02-01T00:00:00-05:00",
          "day": 1,
          "month": 2,
          "year": 2013
         },
         {
          "counts": 4,
          "data_type": "Organization",
          "date": "2013-03-01T00:00:00-05:00",
          "day": 1,
          "month": 3,
          "year": 2013
         },
         {
          "counts": 1,
          "data_type": "Organization",
          "date": "2013-05-01T00:00:00-04:00",
          "day": 1,
          "month": 5,
          "year": 2013
         },
         {
          "counts": 4,
          "data_type": "Organization",
          "date": "2013-06-01T00:00:00-04:00",
          "day": 1,
          "month": 6,
          "year": 2013
         },
         {
          "counts": 2,
          "data_type": "Organization",
          "date": "2013-07-01T00:00:00-04:00",
          "day": 1,
          "month": 7,
          "year": 2013
         },
         {
          "counts": 3,
          "data_type": "Organization",
          "date": "2013-08-01T00:00:00-04:00",
          "day": 1,
          "month": 8,
          "year": 2013
         },
         {
          "counts": 1,
          "data_type": "Organization",
          "date": "2013-09-01T00:00:00-04:00",
          "day": 1,
          "month": 9,
          "year": 2013
         },
         {
          "counts": 3,
          "data_type": "Organization",
          "date": "2013-10-01T00:00:00-04:00",
          "day": 1,
          "month": 10,
          "year": 2013
         },
         {
          "counts": 6,
          "data_type": "Organization",
          "date": "2013-11-01T00:00:00-04:00",
          "day": 1,
          "month": 11,
          "year": 2013
         },
         {
          "counts": 1,
          "data_type": "Organization",
          "date": "2013-12-01T00:00:00-05:00",
          "day": 1,
          "month": 12,
          "year": 2013
         },
         {
          "counts": 2,
          "data_type": "Organization",
          "date": "2014-01-01T00:00:00-05:00",
          "day": 1,
          "month": 1,
          "year": 2014
         },
         {
          "counts": 3,
          "data_type": "Organization",
          "date": "2014-02-01T00:00:00-05:00",
          "day": 1,
          "month": 2,
          "year": 2014
         },
         {
          "counts": 2,
          "data_type": "Organization",
          "date": "2014-03-01T00:00:00-05:00",
          "day": 1,
          "month": 3,
          "year": 2014
         },
         {
          "counts": 1,
          "data_type": "Organization",
          "date": "2014-04-01T00:00:00-04:00",
          "day": 1,
          "month": 4,
          "year": 2014
         },
         {
          "counts": 3,
          "data_type": "Organization",
          "date": "2014-05-01T00:00:00-04:00",
          "day": 1,
          "month": 5,
          "year": 2014
         },
         {
          "counts": 3,
          "data_type": "Organization",
          "date": "2014-07-01T00:00:00-04:00",
          "day": 1,
          "month": 7,
          "year": 2014
         },
         {
          "counts": 2,
          "data_type": "Organization",
          "date": "2014-08-01T00:00:00-04:00",
          "day": 1,
          "month": 8,
          "year": 2014
         },
         {
          "counts": 1,
          "data_type": "Organization",
          "date": "2014-09-01T00:00:00-04:00",
          "day": 1,
          "month": 9,
          "year": 2014
         },
         {
          "counts": 1,
          "data_type": "Organization",
          "date": "2014-10-01T00:00:00-04:00",
          "day": 1,
          "month": 10,
          "year": 2014
         },
         {
          "counts": 1,
          "data_type": "Organization",
          "date": "2014-11-01T00:00:00-04:00",
          "day": 1,
          "month": 11,
          "year": 2014
         },
         {
          "counts": 2,
          "data_type": "Organization",
          "date": "2014-12-01T00:00:00-05:00",
          "day": 1,
          "month": 12,
          "year": 2014
         },
         {
          "counts": 1,
          "data_type": "Organization",
          "date": "2015-01-01T00:00:00-05:00",
          "day": 1,
          "month": 1,
          "year": 2015
         },
         {
          "counts": 2,
          "data_type": "Organization",
          "date": "2015-02-01T00:00:00-05:00",
          "day": 1,
          "month": 2,
          "year": 2015
         },
         {
          "counts": 1,
          "data_type": "Organization",
          "date": "2015-03-01T00:00:00-05:00",
          "day": 1,
          "month": 3,
          "year": 2015
         },
         {
          "counts": 2,
          "data_type": "Organization",
          "date": "2015-04-01T00:00:00-04:00",
          "day": 1,
          "month": 4,
          "year": 2015
         },
         {
          "counts": 1,
          "data_type": "Organization",
          "date": "2015-05-01T00:00:00-04:00",
          "day": 1,
          "month": 5,
          "year": 2015
         },
         {
          "counts": 3,
          "data_type": "Organization",
          "date": "2015-07-01T00:00:00-04:00",
          "day": 1,
          "month": 7,
          "year": 2015
         },
         {
          "counts": 1,
          "data_type": "Organization",
          "date": "2015-08-01T00:00:00-04:00",
          "day": 1,
          "month": 8,
          "year": 2015
         },
         {
          "counts": 5,
          "data_type": "Organization",
          "date": "2015-09-01T00:00:00-04:00",
          "day": 1,
          "month": 9,
          "year": 2015
         },
         {
          "counts": 1,
          "data_type": "Organization",
          "date": "2015-10-01T00:00:00-04:00",
          "day": 1,
          "month": 10,
          "year": 2015
         },
         {
          "counts": 2,
          "data_type": "Organization",
          "date": "2015-11-01T00:00:00-04:00",
          "day": 1,
          "month": 11,
          "year": 2015
         },
         {
          "counts": 1,
          "data_type": "Organization",
          "date": "2015-12-01T00:00:00-05:00",
          "day": 1,
          "month": 12,
          "year": 2015
         },
         {
          "counts": 1,
          "data_type": "Organization",
          "date": "2016-01-01T00:00:00-05:00",
          "day": 1,
          "month": 1,
          "year": 2016
         },
         {
          "counts": 6,
          "data_type": "Organization",
          "date": "2016-02-01T00:00:00-05:00",
          "day": 1,
          "month": 2,
          "year": 2016
         },
         {
          "counts": 3,
          "data_type": "Organization",
          "date": "2016-03-01T00:00:00-05:00",
          "day": 1,
          "month": 3,
          "year": 2016
         },
         {
          "counts": 2,
          "data_type": "Organization",
          "date": "2016-04-01T00:00:00-04:00",
          "day": 1,
          "month": 4,
          "year": 2016
         },
         {
          "counts": 6,
          "data_type": "Organization",
          "date": "2016-05-01T00:00:00-04:00",
          "day": 1,
          "month": 5,
          "year": 2016
         },
         {
          "counts": 2,
          "data_type": "Organization",
          "date": "2016-06-01T00:00:00-04:00",
          "day": 1,
          "month": 6,
          "year": 2016
         },
         {
          "counts": 4,
          "data_type": "Organization",
          "date": "2016-07-01T00:00:00-04:00",
          "day": 1,
          "month": 7,
          "year": 2016
         },
         {
          "counts": 5,
          "data_type": "Organization",
          "date": "2016-08-01T00:00:00-04:00",
          "day": 1,
          "month": 8,
          "year": 2016
         },
         {
          "counts": 1,
          "data_type": "Organization",
          "date": "2016-09-01T00:00:00-04:00",
          "day": 1,
          "month": 9,
          "year": 2016
         },
         {
          "counts": 3,
          "data_type": "Organization",
          "date": "2016-10-01T00:00:00-04:00",
          "day": 1,
          "month": 10,
          "year": 2016
         },
         {
          "counts": 4,
          "data_type": "Organization",
          "date": "2016-11-01T00:00:00-04:00",
          "day": 1,
          "month": 11,
          "year": 2016
         },
         {
          "counts": 1,
          "data_type": "Organization",
          "date": "2016-12-01T00:00:00-05:00",
          "day": 1,
          "month": 12,
          "year": 2016
         },
         {
          "counts": 3,
          "data_type": "Organization",
          "date": "2017-01-01T00:00:00-05:00",
          "day": 1,
          "month": 1,
          "year": 2017
         },
         {
          "counts": 4,
          "data_type": "Organization",
          "date": "2017-02-01T00:00:00-05:00",
          "day": 1,
          "month": 2,
          "year": 2017
         },
         {
          "counts": 3,
          "data_type": "Organization",
          "date": "2017-03-01T00:00:00-05:00",
          "day": 1,
          "month": 3,
          "year": 2017
         },
         {
          "counts": 1,
          "data_type": "Organization",
          "date": "2017-04-01T00:00:00-04:00",
          "day": 1,
          "month": 4,
          "year": 2017
         },
         {
          "counts": 3,
          "data_type": "Organization",
          "date": "2017-05-01T00:00:00-04:00",
          "day": 1,
          "month": 5,
          "year": 2017
         },
         {
          "counts": 1,
          "data_type": "Organization",
          "date": "2017-06-01T00:00:00-04:00",
          "day": 1,
          "month": 6,
          "year": 2017
         },
         {
          "counts": 4,
          "data_type": "Organization",
          "date": "2017-07-01T00:00:00-04:00",
          "day": 1,
          "month": 7,
          "year": 2017
         },
         {
          "counts": 2,
          "data_type": "Organization",
          "date": "2017-08-01T00:00:00-04:00",
          "day": 1,
          "month": 8,
          "year": 2017
         },
         {
          "counts": 2,
          "data_type": "Organization",
          "date": "2017-09-01T00:00:00-04:00",
          "day": 1,
          "month": 9,
          "year": 2017
         },
         {
          "counts": 4,
          "data_type": "Organization",
          "date": "2017-10-01T00:00:00-04:00",
          "day": 1,
          "month": 10,
          "year": 2017
         },
         {
          "counts": 8,
          "data_type": "Organization",
          "date": "2017-12-01T00:00:00-05:00",
          "day": 1,
          "month": 12,
          "year": 2017
         },
         {
          "counts": 1,
          "data_type": "Organization",
          "date": "2018-01-01T00:00:00-05:00",
          "day": 1,
          "month": 1,
          "year": 2018
         },
         {
          "counts": 2,
          "data_type": "Organization",
          "date": "2018-02-01T00:00:00-05:00",
          "day": 1,
          "month": 2,
          "year": 2018
         },
         {
          "counts": 2,
          "data_type": "Organization",
          "date": "2018-03-01T00:00:00-05:00",
          "day": 1,
          "month": 3,
          "year": 2018
         },
         {
          "counts": 3,
          "data_type": "Organization",
          "date": "2018-04-01T00:00:00-04:00",
          "day": 1,
          "month": 4,
          "year": 2018
         },
         {
          "counts": 2,
          "data_type": "Organization",
          "date": "2018-05-01T00:00:00-04:00",
          "day": 1,
          "month": 5,
          "year": 2018
         },
         {
          "counts": 8,
          "data_type": "Organization",
          "date": "2018-06-01T00:00:00-04:00",
          "day": 1,
          "month": 6,
          "year": 2018
         },
         {
          "counts": 4,
          "data_type": "Organization",
          "date": "2018-07-01T00:00:00-04:00",
          "day": 1,
          "month": 7,
          "year": 2018
         },
         {
          "counts": 4,
          "data_type": "Organization",
          "date": "2018-08-01T00:00:00-04:00",
          "day": 1,
          "month": 8,
          "year": 2018
         },
         {
          "counts": 2,
          "data_type": "Organization",
          "date": "2018-09-01T00:00:00-04:00",
          "day": 1,
          "month": 9,
          "year": 2018
         },
         {
          "counts": 2,
          "data_type": "Organization",
          "date": "2018-10-01T00:00:00-04:00",
          "day": 1,
          "month": 10,
          "year": 2018
         },
         {
          "counts": 2,
          "data_type": "Organization",
          "date": "2018-11-01T00:00:00-04:00",
          "day": 1,
          "month": 11,
          "year": 2018
         },
         {
          "counts": 5,
          "data_type": "Organization",
          "date": "2019-01-01T00:00:00-05:00",
          "day": 1,
          "month": 1,
          "year": 2019
         },
         {
          "counts": 1,
          "data_type": "Organization",
          "date": "2019-02-01T00:00:00-05:00",
          "day": 1,
          "month": 2,
          "year": 2019
         },
         {
          "counts": 2,
          "data_type": "Organization",
          "date": "2019-03-01T00:00:00-05:00",
          "day": 1,
          "month": 3,
          "year": 2019
         },
         {
          "counts": 4,
          "data_type": "Organization",
          "date": "2019-04-01T00:00:00-04:00",
          "day": 1,
          "month": 4,
          "year": 2019
         },
         {
          "counts": 3,
          "data_type": "Organization",
          "date": "2019-05-01T00:00:00-04:00",
          "day": 1,
          "month": 5,
          "year": 2019
         },
         {
          "counts": 6,
          "data_type": "Organization",
          "date": "2019-07-01T00:00:00-04:00",
          "day": 1,
          "month": 7,
          "year": 2019
         },
         {
          "counts": 1,
          "data_type": "Organization",
          "date": "2019-08-01T00:00:00-04:00",
          "day": 1,
          "month": 8,
          "year": 2019
         },
         {
          "counts": 1,
          "data_type": "Organization",
          "date": "2019-09-01T00:00:00-04:00",
          "day": 1,
          "month": 9,
          "year": 2019
         },
         {
          "counts": 2,
          "data_type": "Organization",
          "date": "2019-10-01T00:00:00-04:00",
          "day": 1,
          "month": 10,
          "year": 2019
         },
         {
          "counts": 2,
          "data_type": "Organization",
          "date": "2019-11-01T00:00:00-04:00",
          "day": 1,
          "month": 11,
          "year": 2019
         },
         {
          "counts": 1,
          "data_type": "Organization",
          "date": "2020-01-01T00:00:00-05:00",
          "day": 1,
          "month": 1,
          "year": 2020
         },
         {
          "counts": 5,
          "data_type": "Organization",
          "date": "2020-03-01T00:00:00-05:00",
          "day": 1,
          "month": 3,
          "year": 2020
         },
         {
          "counts": 5,
          "data_type": "Organization",
          "date": "2020-04-01T00:00:00-04:00",
          "day": 1,
          "month": 4,
          "year": 2020
         },
         {
          "counts": 3,
          "data_type": "Organization",
          "date": "2020-05-01T00:00:00-04:00",
          "day": 1,
          "month": 5,
          "year": 2020
         },
         {
          "counts": 3,
          "data_type": "Organization",
          "date": "2020-06-01T00:00:00-04:00",
          "day": 1,
          "month": 6,
          "year": 2020
         },
         {
          "counts": 1,
          "data_type": "Organization",
          "date": "2020-07-01T00:00:00-04:00",
          "day": 1,
          "month": 7,
          "year": 2020
         },
         {
          "counts": 1,
          "data_type": "Organization",
          "date": "2020-08-01T00:00:00-04:00",
          "day": 1,
          "month": 8,
          "year": 2020
         },
         {
          "counts": 3,
          "data_type": "Organization",
          "date": "2020-09-01T00:00:00-04:00",
          "day": 1,
          "month": 9,
          "year": 2020
         },
         {
          "counts": 1,
          "data_type": "Organization",
          "date": "2020-10-01T00:00:00-04:00",
          "day": 1,
          "month": 10,
          "year": 2020
         },
         {
          "counts": 3,
          "data_type": "Organization",
          "date": "2020-11-01T00:00:00-04:00",
          "day": 1,
          "month": 11,
          "year": 2020
         },
         {
          "counts": 5,
          "data_type": "Organization",
          "date": "2020-12-01T00:00:00-05:00",
          "day": 1,
          "month": 12,
          "year": 2020
         },
         {
          "counts": 2,
          "data_type": "Organization",
          "date": "2021-01-01T00:00:00-05:00",
          "day": 1,
          "month": 1,
          "year": 2021
         },
         {
          "counts": 6,
          "data_type": "Organization",
          "date": "2021-02-01T00:00:00-05:00",
          "day": 1,
          "month": 2,
          "year": 2021
         },
         {
          "counts": 2,
          "data_type": "Organization",
          "date": "2021-03-01T00:00:00-05:00",
          "day": 1,
          "month": 3,
          "year": 2021
         },
         {
          "counts": 2,
          "data_type": "Organization",
          "date": "2021-04-01T00:00:00-04:00",
          "day": 1,
          "month": 4,
          "year": 2021
         },
         {
          "counts": 2,
          "data_type": "Organization",
          "date": "2021-05-01T00:00:00-04:00",
          "day": 1,
          "month": 5,
          "year": 2021
         },
         {
          "counts": 1,
          "data_type": "Organization",
          "date": "2021-06-01T00:00:00-04:00",
          "day": 1,
          "month": 6,
          "year": 2021
         },
         {
          "counts": 1,
          "data_type": "Organization",
          "date": "2021-07-01T00:00:00-04:00",
          "day": 1,
          "month": 7,
          "year": 2021
         },
         {
          "counts": 2,
          "data_type": "Organization",
          "date": "2021-08-01T00:00:00-04:00",
          "day": 1,
          "month": 8,
          "year": 2021
         },
         {
          "counts": 4,
          "data_type": "Organization",
          "date": "2021-10-01T00:00:00-04:00",
          "day": 1,
          "month": 10,
          "year": 2021
         },
         {
          "counts": 2,
          "data_type": "Organization",
          "date": "2021-11-01T00:00:00-04:00",
          "day": 1,
          "month": 11,
          "year": 2021
         },
         {
          "counts": 2,
          "data_type": "Organization",
          "date": "2021-12-01T00:00:00-05:00",
          "day": 1,
          "month": 12,
          "year": 2021
         },
         {
          "counts": 1,
          "data_type": "Organization",
          "date": "2022-01-01T00:00:00-05:00",
          "day": 1,
          "month": 1,
          "year": 2022
         },
         {
          "counts": 4,
          "data_type": "Organization",
          "date": "2022-02-01T00:00:00-05:00",
          "day": 1,
          "month": 2,
          "year": 2022
         },
         {
          "counts": 1,
          "data_type": "Organization",
          "date": "2022-04-01T00:00:00-04:00",
          "day": 1,
          "month": 4,
          "year": 2022
         },
         {
          "counts": 2,
          "data_type": "Organization",
          "date": "2022-05-01T00:00:00-04:00",
          "day": 1,
          "month": 5,
          "year": 2022
         },
         {
          "counts": 3,
          "data_type": "Organization",
          "date": "2022-06-01T00:00:00-04:00",
          "day": 1,
          "month": 6,
          "year": 2022
         },
         {
          "counts": 1,
          "data_type": "Organization",
          "date": "2022-07-01T00:00:00-04:00",
          "day": 1,
          "month": 7,
          "year": 2022
         },
         {
          "counts": 2,
          "data_type": "Organization",
          "date": "2022-08-01T00:00:00-04:00",
          "day": 1,
          "month": 8,
          "year": 2022
         },
         {
          "counts": 1,
          "data_type": "Organization",
          "date": "2022-09-01T00:00:00-04:00",
          "day": 1,
          "month": 9,
          "year": 2022
         },
         {
          "counts": 1,
          "data_type": "Organization",
          "date": "2022-11-01T00:00:00-04:00",
          "day": 1,
          "month": 11,
          "year": 2022
         },
         {
          "counts": 1,
          "data_type": "Organization",
          "date": "2022-12-01T00:00:00-05:00",
          "day": 1,
          "month": 12,
          "year": 2022
         },
         {
          "counts": 1,
          "data_type": "Organization",
          "date": "2023-01-01T00:00:00-05:00",
          "day": 1,
          "month": 1,
          "year": 2023
         },
         {
          "counts": 2,
          "data_type": "Organization",
          "date": "2023-02-01T00:00:00-05:00",
          "day": 1,
          "month": 2,
          "year": 2023
         },
         {
          "counts": 2,
          "data_type": "Organization",
          "date": "2023-03-01T00:00:00-05:00",
          "day": 1,
          "month": 3,
          "year": 2023
         },
         {
          "counts": 2,
          "data_type": "Organization",
          "date": "2023-04-01T00:00:00-04:00",
          "day": 1,
          "month": 4,
          "year": 2023
         },
         {
          "counts": 1,
          "data_type": "Organization",
          "date": "2023-05-01T00:00:00-04:00",
          "day": 1,
          "month": 5,
          "year": 2023
         },
         {
          "counts": 2,
          "data_type": "Repository",
          "date": "2008-03-01T00:00:00-05:00",
          "day": 1,
          "month": 3,
          "year": 2008
         },
         {
          "counts": 2,
          "data_type": "Repository",
          "date": "2008-06-01T00:00:00-04:00",
          "day": 1,
          "month": 6,
          "year": 2008
         },
         {
          "counts": 4,
          "data_type": "Repository",
          "date": "2008-08-01T00:00:00-04:00",
          "day": 1,
          "month": 8,
          "year": 2008
         },
         {
          "counts": 1,
          "data_type": "Repository",
          "date": "2008-09-01T00:00:00-04:00",
          "day": 1,
          "month": 9,
          "year": 2008
         },
         {
          "counts": 3,
          "data_type": "Repository",
          "date": "2008-10-01T00:00:00-04:00",
          "day": 1,
          "month": 10,
          "year": 2008
         },
         {
          "counts": 3,
          "data_type": "Repository",
          "date": "2008-11-01T00:00:00-04:00",
          "day": 1,
          "month": 11,
          "year": 2008
         },
         {
          "counts": 3,
          "data_type": "Repository",
          "date": "2009-01-01T00:00:00-05:00",
          "day": 1,
          "month": 1,
          "year": 2009
         },
         {
          "counts": 4,
          "data_type": "Repository",
          "date": "2009-02-01T00:00:00-05:00",
          "day": 1,
          "month": 2,
          "year": 2009
         },
         {
          "counts": 4,
          "data_type": "Repository",
          "date": "2009-03-01T00:00:00-05:00",
          "day": 1,
          "month": 3,
          "year": 2009
         },
         {
          "counts": 4,
          "data_type": "Repository",
          "date": "2009-04-01T00:00:00-04:00",
          "day": 1,
          "month": 4,
          "year": 2009
         },
         {
          "counts": 1,
          "data_type": "Repository",
          "date": "2009-07-01T00:00:00-04:00",
          "day": 1,
          "month": 7,
          "year": 2009
         },
         {
          "counts": 2,
          "data_type": "Repository",
          "date": "2009-08-01T00:00:00-04:00",
          "day": 1,
          "month": 8,
          "year": 2009
         },
         {
          "counts": 5,
          "data_type": "Repository",
          "date": "2009-09-01T00:00:00-04:00",
          "day": 1,
          "month": 9,
          "year": 2009
         },
         {
          "counts": 3,
          "data_type": "Repository",
          "date": "2009-10-01T00:00:00-04:00",
          "day": 1,
          "month": 10,
          "year": 2009
         },
         {
          "counts": 5,
          "data_type": "Repository",
          "date": "2009-11-01T00:00:00-04:00",
          "day": 1,
          "month": 11,
          "year": 2009
         },
         {
          "counts": 4,
          "data_type": "Repository",
          "date": "2009-12-01T00:00:00-05:00",
          "day": 1,
          "month": 12,
          "year": 2009
         },
         {
          "counts": 6,
          "data_type": "Repository",
          "date": "2010-01-01T00:00:00-05:00",
          "day": 1,
          "month": 1,
          "year": 2010
         },
         {
          "counts": 3,
          "data_type": "Repository",
          "date": "2010-02-01T00:00:00-05:00",
          "day": 1,
          "month": 2,
          "year": 2010
         },
         {
          "counts": 8,
          "data_type": "Repository",
          "date": "2010-03-01T00:00:00-05:00",
          "day": 1,
          "month": 3,
          "year": 2010
         },
         {
          "counts": 3,
          "data_type": "Repository",
          "date": "2010-04-01T00:00:00-04:00",
          "day": 1,
          "month": 4,
          "year": 2010
         },
         {
          "counts": 7,
          "data_type": "Repository",
          "date": "2010-05-01T00:00:00-04:00",
          "day": 1,
          "month": 5,
          "year": 2010
         },
         {
          "counts": 8,
          "data_type": "Repository",
          "date": "2010-06-01T00:00:00-04:00",
          "day": 1,
          "month": 6,
          "year": 2010
         },
         {
          "counts": 8,
          "data_type": "Repository",
          "date": "2010-07-01T00:00:00-04:00",
          "day": 1,
          "month": 7,
          "year": 2010
         },
         {
          "counts": 9,
          "data_type": "Repository",
          "date": "2010-08-01T00:00:00-04:00",
          "day": 1,
          "month": 8,
          "year": 2010
         },
         {
          "counts": 11,
          "data_type": "Repository",
          "date": "2010-09-01T00:00:00-04:00",
          "day": 1,
          "month": 9,
          "year": 2010
         },
         {
          "counts": 6,
          "data_type": "Repository",
          "date": "2010-10-01T00:00:00-04:00",
          "day": 1,
          "month": 10,
          "year": 2010
         },
         {
          "counts": 10,
          "data_type": "Repository",
          "date": "2010-11-01T00:00:00-04:00",
          "day": 1,
          "month": 11,
          "year": 2010
         },
         {
          "counts": 9,
          "data_type": "Repository",
          "date": "2010-12-01T00:00:00-05:00",
          "day": 1,
          "month": 12,
          "year": 2010
         },
         {
          "counts": 13,
          "data_type": "Repository",
          "date": "2011-01-01T00:00:00-05:00",
          "day": 1,
          "month": 1,
          "year": 2011
         },
         {
          "counts": 11,
          "data_type": "Repository",
          "date": "2011-02-01T00:00:00-05:00",
          "day": 1,
          "month": 2,
          "year": 2011
         },
         {
          "counts": 8,
          "data_type": "Repository",
          "date": "2011-03-01T00:00:00-05:00",
          "day": 1,
          "month": 3,
          "year": 2011
         },
         {
          "counts": 20,
          "data_type": "Repository",
          "date": "2011-04-01T00:00:00-04:00",
          "day": 1,
          "month": 4,
          "year": 2011
         },
         {
          "counts": 7,
          "data_type": "Repository",
          "date": "2011-05-01T00:00:00-04:00",
          "day": 1,
          "month": 5,
          "year": 2011
         },
         {
          "counts": 20,
          "data_type": "Repository",
          "date": "2011-06-01T00:00:00-04:00",
          "day": 1,
          "month": 6,
          "year": 2011
         },
         {
          "counts": 14,
          "data_type": "Repository",
          "date": "2011-07-01T00:00:00-04:00",
          "day": 1,
          "month": 7,
          "year": 2011
         },
         {
          "counts": 26,
          "data_type": "Repository",
          "date": "2011-08-01T00:00:00-04:00",
          "day": 1,
          "month": 8,
          "year": 2011
         },
         {
          "counts": 22,
          "data_type": "Repository",
          "date": "2011-09-01T00:00:00-04:00",
          "day": 1,
          "month": 9,
          "year": 2011
         },
         {
          "counts": 20,
          "data_type": "Repository",
          "date": "2011-10-01T00:00:00-04:00",
          "day": 1,
          "month": 10,
          "year": 2011
         },
         {
          "counts": 24,
          "data_type": "Repository",
          "date": "2011-11-01T00:00:00-04:00",
          "day": 1,
          "month": 11,
          "year": 2011
         },
         {
          "counts": 12,
          "data_type": "Repository",
          "date": "2011-12-01T00:00:00-05:00",
          "day": 1,
          "month": 12,
          "year": 2011
         },
         {
          "counts": 41,
          "data_type": "Repository",
          "date": "2012-01-01T00:00:00-05:00",
          "day": 1,
          "month": 1,
          "year": 2012
         },
         {
          "counts": 33,
          "data_type": "Repository",
          "date": "2012-02-01T00:00:00-05:00",
          "day": 1,
          "month": 2,
          "year": 2012
         },
         {
          "counts": 35,
          "data_type": "Repository",
          "date": "2012-03-01T00:00:00-05:00",
          "day": 1,
          "month": 3,
          "year": 2012
         },
         {
          "counts": 29,
          "data_type": "Repository",
          "date": "2012-04-01T00:00:00-04:00",
          "day": 1,
          "month": 4,
          "year": 2012
         },
         {
          "counts": 38,
          "data_type": "Repository",
          "date": "2012-05-01T00:00:00-04:00",
          "day": 1,
          "month": 5,
          "year": 2012
         },
         {
          "counts": 53,
          "data_type": "Repository",
          "date": "2012-06-01T00:00:00-04:00",
          "day": 1,
          "month": 6,
          "year": 2012
         },
         {
          "counts": 44,
          "data_type": "Repository",
          "date": "2012-07-01T00:00:00-04:00",
          "day": 1,
          "month": 7,
          "year": 2012
         },
         {
          "counts": 34,
          "data_type": "Repository",
          "date": "2012-08-01T00:00:00-04:00",
          "day": 1,
          "month": 8,
          "year": 2012
         },
         {
          "counts": 50,
          "data_type": "Repository",
          "date": "2012-09-01T00:00:00-04:00",
          "day": 1,
          "month": 9,
          "year": 2012
         },
         {
          "counts": 33,
          "data_type": "Repository",
          "date": "2012-10-01T00:00:00-04:00",
          "day": 1,
          "month": 10,
          "year": 2012
         },
         {
          "counts": 40,
          "data_type": "Repository",
          "date": "2012-11-01T00:00:00-04:00",
          "day": 1,
          "month": 11,
          "year": 2012
         },
         {
          "counts": 36,
          "data_type": "Repository",
          "date": "2012-12-01T00:00:00-05:00",
          "day": 1,
          "month": 12,
          "year": 2012
         },
         {
          "counts": 43,
          "data_type": "Repository",
          "date": "2013-01-01T00:00:00-05:00",
          "day": 1,
          "month": 1,
          "year": 2013
         },
         {
          "counts": 49,
          "data_type": "Repository",
          "date": "2013-02-01T00:00:00-05:00",
          "day": 1,
          "month": 2,
          "year": 2013
         },
         {
          "counts": 64,
          "data_type": "Repository",
          "date": "2013-03-01T00:00:00-05:00",
          "day": 1,
          "month": 3,
          "year": 2013
         },
         {
          "counts": 58,
          "data_type": "Repository",
          "date": "2013-04-01T00:00:00-04:00",
          "day": 1,
          "month": 4,
          "year": 2013
         },
         {
          "counts": 46,
          "data_type": "Repository",
          "date": "2013-05-01T00:00:00-04:00",
          "day": 1,
          "month": 5,
          "year": 2013
         },
         {
          "counts": 71,
          "data_type": "Repository",
          "date": "2013-06-01T00:00:00-04:00",
          "day": 1,
          "month": 6,
          "year": 2013
         },
         {
          "counts": 82,
          "data_type": "Repository",
          "date": "2013-07-01T00:00:00-04:00",
          "day": 1,
          "month": 7,
          "year": 2013
         },
         {
          "counts": 78,
          "data_type": "Repository",
          "date": "2013-08-01T00:00:00-04:00",
          "day": 1,
          "month": 8,
          "year": 2013
         },
         {
          "counts": 63,
          "data_type": "Repository",
          "date": "2013-09-01T00:00:00-04:00",
          "day": 1,
          "month": 9,
          "year": 2013
         },
         {
          "counts": 75,
          "data_type": "Repository",
          "date": "2013-10-01T00:00:00-04:00",
          "day": 1,
          "month": 10,
          "year": 2013
         },
         {
          "counts": 96,
          "data_type": "Repository",
          "date": "2013-11-01T00:00:00-04:00",
          "day": 1,
          "month": 11,
          "year": 2013
         },
         {
          "counts": 84,
          "data_type": "Repository",
          "date": "2013-12-01T00:00:00-05:00",
          "day": 1,
          "month": 12,
          "year": 2013
         },
         {
          "counts": 80,
          "data_type": "Repository",
          "date": "2014-01-01T00:00:00-05:00",
          "day": 1,
          "month": 1,
          "year": 2014
         },
         {
          "counts": 84,
          "data_type": "Repository",
          "date": "2014-02-01T00:00:00-05:00",
          "day": 1,
          "month": 2,
          "year": 2014
         },
         {
          "counts": 94,
          "data_type": "Repository",
          "date": "2014-03-01T00:00:00-05:00",
          "day": 1,
          "month": 3,
          "year": 2014
         },
         {
          "counts": 113,
          "data_type": "Repository",
          "date": "2014-04-01T00:00:00-04:00",
          "day": 1,
          "month": 4,
          "year": 2014
         },
         {
          "counts": 90,
          "data_type": "Repository",
          "date": "2014-05-01T00:00:00-04:00",
          "day": 1,
          "month": 5,
          "year": 2014
         },
         {
          "counts": 107,
          "data_type": "Repository",
          "date": "2014-06-01T00:00:00-04:00",
          "day": 1,
          "month": 6,
          "year": 2014
         },
         {
          "counts": 84,
          "data_type": "Repository",
          "date": "2014-07-01T00:00:00-04:00",
          "day": 1,
          "month": 7,
          "year": 2014
         },
         {
          "counts": 99,
          "data_type": "Repository",
          "date": "2014-08-01T00:00:00-04:00",
          "day": 1,
          "month": 8,
          "year": 2014
         },
         {
          "counts": 131,
          "data_type": "Repository",
          "date": "2014-09-01T00:00:00-04:00",
          "day": 1,
          "month": 9,
          "year": 2014
         },
         {
          "counts": 129,
          "data_type": "Repository",
          "date": "2014-10-01T00:00:00-04:00",
          "day": 1,
          "month": 10,
          "year": 2014
         },
         {
          "counts": 132,
          "data_type": "Repository",
          "date": "2014-11-01T00:00:00-04:00",
          "day": 1,
          "month": 11,
          "year": 2014
         },
         {
          "counts": 94,
          "data_type": "Repository",
          "date": "2014-12-01T00:00:00-05:00",
          "day": 1,
          "month": 12,
          "year": 2014
         },
         {
          "counts": 140,
          "data_type": "Repository",
          "date": "2015-01-01T00:00:00-05:00",
          "day": 1,
          "month": 1,
          "year": 2015
         },
         {
          "counts": 194,
          "data_type": "Repository",
          "date": "2015-02-01T00:00:00-05:00",
          "day": 1,
          "month": 2,
          "year": 2015
         },
         {
          "counts": 162,
          "data_type": "Repository",
          "date": "2015-03-01T00:00:00-05:00",
          "day": 1,
          "month": 3,
          "year": 2015
         },
         {
          "counts": 142,
          "data_type": "Repository",
          "date": "2015-04-01T00:00:00-04:00",
          "day": 1,
          "month": 4,
          "year": 2015
         },
         {
          "counts": 171,
          "data_type": "Repository",
          "date": "2015-05-01T00:00:00-04:00",
          "day": 1,
          "month": 5,
          "year": 2015
         },
         {
          "counts": 183,
          "data_type": "Repository",
          "date": "2015-06-01T00:00:00-04:00",
          "day": 1,
          "month": 6,
          "year": 2015
         },
         {
          "counts": 166,
          "data_type": "Repository",
          "date": "2015-07-01T00:00:00-04:00",
          "day": 1,
          "month": 7,
          "year": 2015
         },
         {
          "counts": 152,
          "data_type": "Repository",
          "date": "2015-08-01T00:00:00-04:00",
          "day": 1,
          "month": 8,
          "year": 2015
         },
         {
          "counts": 158,
          "data_type": "Repository",
          "date": "2015-09-01T00:00:00-04:00",
          "day": 1,
          "month": 9,
          "year": 2015
         },
         {
          "counts": 227,
          "data_type": "Repository",
          "date": "2015-10-01T00:00:00-04:00",
          "day": 1,
          "month": 10,
          "year": 2015
         },
         {
          "counts": 214,
          "data_type": "Repository",
          "date": "2015-11-01T00:00:00-04:00",
          "day": 1,
          "month": 11,
          "year": 2015
         },
         {
          "counts": 192,
          "data_type": "Repository",
          "date": "2015-12-01T00:00:00-05:00",
          "day": 1,
          "month": 12,
          "year": 2015
         },
         {
          "counts": 195,
          "data_type": "Repository",
          "date": "2016-01-01T00:00:00-05:00",
          "day": 1,
          "month": 1,
          "year": 2016
         },
         {
          "counts": 251,
          "data_type": "Repository",
          "date": "2016-02-01T00:00:00-05:00",
          "day": 1,
          "month": 2,
          "year": 2016
         },
         {
          "counts": 215,
          "data_type": "Repository",
          "date": "2016-03-01T00:00:00-05:00",
          "day": 1,
          "month": 3,
          "year": 2016
         },
         {
          "counts": 182,
          "data_type": "Repository",
          "date": "2016-04-01T00:00:00-04:00",
          "day": 1,
          "month": 4,
          "year": 2016
         },
         {
          "counts": 199,
          "data_type": "Repository",
          "date": "2016-05-01T00:00:00-04:00",
          "day": 1,
          "month": 5,
          "year": 2016
         },
         {
          "counts": 250,
          "data_type": "Repository",
          "date": "2016-06-01T00:00:00-04:00",
          "day": 1,
          "month": 6,
          "year": 2016
         },
         {
          "counts": 211,
          "data_type": "Repository",
          "date": "2016-07-01T00:00:00-04:00",
          "day": 1,
          "month": 7,
          "year": 2016
         },
         {
          "counts": 223,
          "data_type": "Repository",
          "date": "2016-08-01T00:00:00-04:00",
          "day": 1,
          "month": 8,
          "year": 2016
         },
         {
          "counts": 258,
          "data_type": "Repository",
          "date": "2016-09-01T00:00:00-04:00",
          "day": 1,
          "month": 9,
          "year": 2016
         },
         {
          "counts": 260,
          "data_type": "Repository",
          "date": "2016-10-01T00:00:00-04:00",
          "day": 1,
          "month": 10,
          "year": 2016
         },
         {
          "counts": 255,
          "data_type": "Repository",
          "date": "2016-11-01T00:00:00-04:00",
          "day": 1,
          "month": 11,
          "year": 2016
         },
         {
          "counts": 203,
          "data_type": "Repository",
          "date": "2016-12-01T00:00:00-05:00",
          "day": 1,
          "month": 12,
          "year": 2016
         },
         {
          "counts": 269,
          "data_type": "Repository",
          "date": "2017-01-01T00:00:00-05:00",
          "day": 1,
          "month": 1,
          "year": 2017
         },
         {
          "counts": 309,
          "data_type": "Repository",
          "date": "2017-02-01T00:00:00-05:00",
          "day": 1,
          "month": 2,
          "year": 2017
         },
         {
          "counts": 301,
          "data_type": "Repository",
          "date": "2017-03-01T00:00:00-05:00",
          "day": 1,
          "month": 3,
          "year": 2017
         },
         {
          "counts": 270,
          "data_type": "Repository",
          "date": "2017-04-01T00:00:00-04:00",
          "day": 1,
          "month": 4,
          "year": 2017
         },
         {
          "counts": 244,
          "data_type": "Repository",
          "date": "2017-05-01T00:00:00-04:00",
          "day": 1,
          "month": 5,
          "year": 2017
         },
         {
          "counts": 249,
          "data_type": "Repository",
          "date": "2017-06-01T00:00:00-04:00",
          "day": 1,
          "month": 6,
          "year": 2017
         },
         {
          "counts": 309,
          "data_type": "Repository",
          "date": "2017-07-01T00:00:00-04:00",
          "day": 1,
          "month": 7,
          "year": 2017
         },
         {
          "counts": 260,
          "data_type": "Repository",
          "date": "2017-08-01T00:00:00-04:00",
          "day": 1,
          "month": 8,
          "year": 2017
         },
         {
          "counts": 275,
          "data_type": "Repository",
          "date": "2017-09-01T00:00:00-04:00",
          "day": 1,
          "month": 9,
          "year": 2017
         },
         {
          "counts": 271,
          "data_type": "Repository",
          "date": "2017-10-01T00:00:00-04:00",
          "day": 1,
          "month": 10,
          "year": 2017
         },
         {
          "counts": 283,
          "data_type": "Repository",
          "date": "2017-11-01T00:00:00-04:00",
          "day": 1,
          "month": 11,
          "year": 2017
         },
         {
          "counts": 204,
          "data_type": "Repository",
          "date": "2017-12-01T00:00:00-05:00",
          "day": 1,
          "month": 12,
          "year": 2017
         },
         {
          "counts": 299,
          "data_type": "Repository",
          "date": "2018-01-01T00:00:00-05:00",
          "day": 1,
          "month": 1,
          "year": 2018
         },
         {
          "counts": 264,
          "data_type": "Repository",
          "date": "2018-02-01T00:00:00-05:00",
          "day": 1,
          "month": 2,
          "year": 2018
         },
         {
          "counts": 307,
          "data_type": "Repository",
          "date": "2018-03-01T00:00:00-05:00",
          "day": 1,
          "month": 3,
          "year": 2018
         },
         {
          "counts": 242,
          "data_type": "Repository",
          "date": "2018-04-01T00:00:00-04:00",
          "day": 1,
          "month": 4,
          "year": 2018
         },
         {
          "counts": 279,
          "data_type": "Repository",
          "date": "2018-05-01T00:00:00-04:00",
          "day": 1,
          "month": 5,
          "year": 2018
         },
         {
          "counts": 277,
          "data_type": "Repository",
          "date": "2018-06-01T00:00:00-04:00",
          "day": 1,
          "month": 6,
          "year": 2018
         },
         {
          "counts": 226,
          "data_type": "Repository",
          "date": "2018-07-01T00:00:00-04:00",
          "day": 1,
          "month": 7,
          "year": 2018
         },
         {
          "counts": 231,
          "data_type": "Repository",
          "date": "2018-08-01T00:00:00-04:00",
          "day": 1,
          "month": 8,
          "year": 2018
         },
         {
          "counts": 254,
          "data_type": "Repository",
          "date": "2018-09-01T00:00:00-04:00",
          "day": 1,
          "month": 9,
          "year": 2018
         },
         {
          "counts": 285,
          "data_type": "Repository",
          "date": "2018-10-01T00:00:00-04:00",
          "day": 1,
          "month": 10,
          "year": 2018
         },
         {
          "counts": 276,
          "data_type": "Repository",
          "date": "2018-11-01T00:00:00-04:00",
          "day": 1,
          "month": 11,
          "year": 2018
         },
         {
          "counts": 228,
          "data_type": "Repository",
          "date": "2018-12-01T00:00:00-05:00",
          "day": 1,
          "month": 12,
          "year": 2018
         },
         {
          "counts": 269,
          "data_type": "Repository",
          "date": "2019-01-01T00:00:00-05:00",
          "day": 1,
          "month": 1,
          "year": 2019
         },
         {
          "counts": 244,
          "data_type": "Repository",
          "date": "2019-02-01T00:00:00-05:00",
          "day": 1,
          "month": 2,
          "year": 2019
         },
         {
          "counts": 292,
          "data_type": "Repository",
          "date": "2019-03-01T00:00:00-05:00",
          "day": 1,
          "month": 3,
          "year": 2019
         },
         {
          "counts": 328,
          "data_type": "Repository",
          "date": "2019-04-01T00:00:00-04:00",
          "day": 1,
          "month": 4,
          "year": 2019
         },
         {
          "counts": 292,
          "data_type": "Repository",
          "date": "2019-05-01T00:00:00-04:00",
          "day": 1,
          "month": 5,
          "year": 2019
         },
         {
          "counts": 56,
          "data_type": "Repository",
          "date": "2019-06-01T00:00:00-04:00",
          "day": 1,
          "month": 6,
          "year": 2019
         },
         {
          "counts": 71,
          "data_type": "Repository",
          "date": "2019-07-01T00:00:00-04:00",
          "day": 1,
          "month": 7,
          "year": 2019
         },
         {
          "counts": 185,
          "data_type": "Repository",
          "date": "2019-08-01T00:00:00-04:00",
          "day": 1,
          "month": 8,
          "year": 2019
         },
         {
          "counts": 241,
          "data_type": "Repository",
          "date": "2019-09-01T00:00:00-04:00",
          "day": 1,
          "month": 9,
          "year": 2019
         },
         {
          "counts": 221,
          "data_type": "Repository",
          "date": "2019-10-01T00:00:00-04:00",
          "day": 1,
          "month": 10,
          "year": 2019
         },
         {
          "counts": 240,
          "data_type": "Repository",
          "date": "2019-11-01T00:00:00-04:00",
          "day": 1,
          "month": 11,
          "year": 2019
         },
         {
          "counts": 216,
          "data_type": "Repository",
          "date": "2019-12-01T00:00:00-05:00",
          "day": 1,
          "month": 12,
          "year": 2019
         },
         {
          "counts": 266,
          "data_type": "Repository",
          "date": "2020-01-01T00:00:00-05:00",
          "day": 1,
          "month": 1,
          "year": 2020
         },
         {
          "counts": 259,
          "data_type": "Repository",
          "date": "2020-02-01T00:00:00-05:00",
          "day": 1,
          "month": 2,
          "year": 2020
         },
         {
          "counts": 289,
          "data_type": "Repository",
          "date": "2020-03-01T00:00:00-05:00",
          "day": 1,
          "month": 3,
          "year": 2020
         },
         {
          "counts": 283,
          "data_type": "Repository",
          "date": "2020-04-01T00:00:00-04:00",
          "day": 1,
          "month": 4,
          "year": 2020
         },
         {
          "counts": 327,
          "data_type": "Repository",
          "date": "2020-05-01T00:00:00-04:00",
          "day": 1,
          "month": 5,
          "year": 2020
         },
         {
          "counts": 242,
          "data_type": "Repository",
          "date": "2020-06-01T00:00:00-04:00",
          "day": 1,
          "month": 6,
          "year": 2020
         },
         {
          "counts": 177,
          "data_type": "Repository",
          "date": "2020-07-01T00:00:00-04:00",
          "day": 1,
          "month": 7,
          "year": 2020
         },
         {
          "counts": 213,
          "data_type": "Repository",
          "date": "2020-08-01T00:00:00-04:00",
          "day": 1,
          "month": 8,
          "year": 2020
         },
         {
          "counts": 194,
          "data_type": "Repository",
          "date": "2020-09-01T00:00:00-04:00",
          "day": 1,
          "month": 9,
          "year": 2020
         },
         {
          "counts": 234,
          "data_type": "Repository",
          "date": "2020-10-01T00:00:00-04:00",
          "day": 1,
          "month": 10,
          "year": 2020
         },
         {
          "counts": 218,
          "data_type": "Repository",
          "date": "2020-11-01T00:00:00-04:00",
          "day": 1,
          "month": 11,
          "year": 2020
         },
         {
          "counts": 242,
          "data_type": "Repository",
          "date": "2020-12-01T00:00:00-05:00",
          "day": 1,
          "month": 12,
          "year": 2020
         },
         {
          "counts": 251,
          "data_type": "Repository",
          "date": "2021-01-01T00:00:00-05:00",
          "day": 1,
          "month": 1,
          "year": 2021
         },
         {
          "counts": 286,
          "data_type": "Repository",
          "date": "2021-02-01T00:00:00-05:00",
          "day": 1,
          "month": 2,
          "year": 2021
         },
         {
          "counts": 319,
          "data_type": "Repository",
          "date": "2021-03-01T00:00:00-05:00",
          "day": 1,
          "month": 3,
          "year": 2021
         },
         {
          "counts": 264,
          "data_type": "Repository",
          "date": "2021-04-01T00:00:00-04:00",
          "day": 1,
          "month": 4,
          "year": 2021
         },
         {
          "counts": 256,
          "data_type": "Repository",
          "date": "2021-05-01T00:00:00-04:00",
          "day": 1,
          "month": 5,
          "year": 2021
         },
         {
          "counts": 267,
          "data_type": "Repository",
          "date": "2021-06-01T00:00:00-04:00",
          "day": 1,
          "month": 6,
          "year": 2021
         },
         {
          "counts": 212,
          "data_type": "Repository",
          "date": "2021-07-01T00:00:00-04:00",
          "day": 1,
          "month": 7,
          "year": 2021
         },
         {
          "counts": 214,
          "data_type": "Repository",
          "date": "2021-08-01T00:00:00-04:00",
          "day": 1,
          "month": 8,
          "year": 2021
         },
         {
          "counts": 276,
          "data_type": "Repository",
          "date": "2021-09-01T00:00:00-04:00",
          "day": 1,
          "month": 9,
          "year": 2021
         },
         {
          "counts": 239,
          "data_type": "Repository",
          "date": "2021-10-01T00:00:00-04:00",
          "day": 1,
          "month": 10,
          "year": 2021
         },
         {
          "counts": 265,
          "data_type": "Repository",
          "date": "2021-11-01T00:00:00-04:00",
          "day": 1,
          "month": 11,
          "year": 2021
         },
         {
          "counts": 240,
          "data_type": "Repository",
          "date": "2021-12-01T00:00:00-05:00",
          "day": 1,
          "month": 12,
          "year": 2021
         },
         {
          "counts": 245,
          "data_type": "Repository",
          "date": "2022-01-01T00:00:00-05:00",
          "day": 1,
          "month": 1,
          "year": 2022
         },
         {
          "counts": 212,
          "data_type": "Repository",
          "date": "2022-02-01T00:00:00-05:00",
          "day": 1,
          "month": 2,
          "year": 2022
         },
         {
          "counts": 267,
          "data_type": "Repository",
          "date": "2022-03-01T00:00:00-05:00",
          "day": 1,
          "month": 3,
          "year": 2022
         },
         {
          "counts": 246,
          "data_type": "Repository",
          "date": "2022-04-01T00:00:00-04:00",
          "day": 1,
          "month": 4,
          "year": 2022
         },
         {
          "counts": 283,
          "data_type": "Repository",
          "date": "2022-05-01T00:00:00-04:00",
          "day": 1,
          "month": 5,
          "year": 2022
         },
         {
          "counts": 185,
          "data_type": "Repository",
          "date": "2022-06-01T00:00:00-04:00",
          "day": 1,
          "month": 6,
          "year": 2022
         },
         {
          "counts": 190,
          "data_type": "Repository",
          "date": "2022-07-01T00:00:00-04:00",
          "day": 1,
          "month": 7,
          "year": 2022
         },
         {
          "counts": 199,
          "data_type": "Repository",
          "date": "2022-08-01T00:00:00-04:00",
          "day": 1,
          "month": 8,
          "year": 2022
         },
         {
          "counts": 264,
          "data_type": "Repository",
          "date": "2022-09-01T00:00:00-04:00",
          "day": 1,
          "month": 9,
          "year": 2022
         },
         {
          "counts": 229,
          "data_type": "Repository",
          "date": "2022-10-01T00:00:00-04:00",
          "day": 1,
          "month": 10,
          "year": 2022
         },
         {
          "counts": 246,
          "data_type": "Repository",
          "date": "2022-11-01T00:00:00-04:00",
          "day": 1,
          "month": 11,
          "year": 2022
         },
         {
          "counts": 209,
          "data_type": "Repository",
          "date": "2022-12-01T00:00:00-05:00",
          "day": 1,
          "month": 12,
          "year": 2022
         },
         {
          "counts": 223,
          "data_type": "Repository",
          "date": "2023-01-01T00:00:00-05:00",
          "day": 1,
          "month": 1,
          "year": 2023
         },
         {
          "counts": 209,
          "data_type": "Repository",
          "date": "2023-02-01T00:00:00-05:00",
          "day": 1,
          "month": 2,
          "year": 2023
         },
         {
          "counts": 216,
          "data_type": "Repository",
          "date": "2023-03-01T00:00:00-05:00",
          "day": 1,
          "month": 3,
          "year": 2023
         },
         {
          "counts": 203,
          "data_type": "Repository",
          "date": "2023-04-01T00:00:00-04:00",
          "day": 1,
          "month": 4,
          "year": 2023
         },
         {
          "counts": 173,
          "data_type": "Repository",
          "date": "2023-05-01T00:00:00-04:00",
          "day": 1,
          "month": 5,
          "year": 2023
         },
         {
          "counts": 65,
          "data_type": "Repository",
          "date": "2023-06-01T00:00:00-04:00",
          "day": 1,
          "month": 6,
          "year": 2023
         },
         {
          "counts": 3,
          "data_type": "User",
          "date": "2008-02-01T00:00:00-05:00",
          "day": 1,
          "month": 2,
          "year": 2008
         },
         {
          "counts": 3,
          "data_type": "User",
          "date": "2008-03-01T00:00:00-05:00",
          "day": 1,
          "month": 3,
          "year": 2008
         },
         {
          "counts": 9,
          "data_type": "User",
          "date": "2008-04-01T00:00:00-04:00",
          "day": 1,
          "month": 4,
          "year": 2008
         },
         {
          "counts": 4,
          "data_type": "User",
          "date": "2008-05-01T00:00:00-04:00",
          "day": 1,
          "month": 5,
          "year": 2008
         },
         {
          "counts": 3,
          "data_type": "User",
          "date": "2008-06-01T00:00:00-04:00",
          "day": 1,
          "month": 6,
          "year": 2008
         },
         {
          "counts": 5,
          "data_type": "User",
          "date": "2008-07-01T00:00:00-04:00",
          "day": 1,
          "month": 7,
          "year": 2008
         },
         {
          "counts": 5,
          "data_type": "User",
          "date": "2008-08-01T00:00:00-04:00",
          "day": 1,
          "month": 8,
          "year": 2008
         },
         {
          "counts": 10,
          "data_type": "User",
          "date": "2008-09-01T00:00:00-04:00",
          "day": 1,
          "month": 9,
          "year": 2008
         },
         {
          "counts": 3,
          "data_type": "User",
          "date": "2008-10-01T00:00:00-04:00",
          "day": 1,
          "month": 10,
          "year": 2008
         },
         {
          "counts": 12,
          "data_type": "User",
          "date": "2008-11-01T00:00:00-04:00",
          "day": 1,
          "month": 11,
          "year": 2008
         },
         {
          "counts": 9,
          "data_type": "User",
          "date": "2008-12-01T00:00:00-05:00",
          "day": 1,
          "month": 12,
          "year": 2008
         },
         {
          "counts": 15,
          "data_type": "User",
          "date": "2009-01-01T00:00:00-05:00",
          "day": 1,
          "month": 1,
          "year": 2009
         },
         {
          "counts": 15,
          "data_type": "User",
          "date": "2009-02-01T00:00:00-05:00",
          "day": 1,
          "month": 2,
          "year": 2009
         },
         {
          "counts": 12,
          "data_type": "User",
          "date": "2009-03-01T00:00:00-05:00",
          "day": 1,
          "month": 3,
          "year": 2009
         },
         {
          "counts": 10,
          "data_type": "User",
          "date": "2009-04-01T00:00:00-04:00",
          "day": 1,
          "month": 4,
          "year": 2009
         },
         {
          "counts": 12,
          "data_type": "User",
          "date": "2009-05-01T00:00:00-04:00",
          "day": 1,
          "month": 5,
          "year": 2009
         },
         {
          "counts": 3,
          "data_type": "User",
          "date": "2009-06-01T00:00:00-04:00",
          "day": 1,
          "month": 6,
          "year": 2009
         },
         {
          "counts": 7,
          "data_type": "User",
          "date": "2009-07-01T00:00:00-04:00",
          "day": 1,
          "month": 7,
          "year": 2009
         },
         {
          "counts": 14,
          "data_type": "User",
          "date": "2009-08-01T00:00:00-04:00",
          "day": 1,
          "month": 8,
          "year": 2009
         },
         {
          "counts": 6,
          "data_type": "User",
          "date": "2009-09-01T00:00:00-04:00",
          "day": 1,
          "month": 9,
          "year": 2009
         },
         {
          "counts": 15,
          "data_type": "User",
          "date": "2009-10-01T00:00:00-04:00",
          "day": 1,
          "month": 10,
          "year": 2009
         },
         {
          "counts": 12,
          "data_type": "User",
          "date": "2009-11-01T00:00:00-04:00",
          "day": 1,
          "month": 11,
          "year": 2009
         },
         {
          "counts": 11,
          "data_type": "User",
          "date": "2009-12-01T00:00:00-05:00",
          "day": 1,
          "month": 12,
          "year": 2009
         },
         {
          "counts": 15,
          "data_type": "User",
          "date": "2010-01-01T00:00:00-05:00",
          "day": 1,
          "month": 1,
          "year": 2010
         },
         {
          "counts": 9,
          "data_type": "User",
          "date": "2010-02-01T00:00:00-05:00",
          "day": 1,
          "month": 2,
          "year": 2010
         },
         {
          "counts": 16,
          "data_type": "User",
          "date": "2010-03-01T00:00:00-05:00",
          "day": 1,
          "month": 3,
          "year": 2010
         },
         {
          "counts": 10,
          "data_type": "User",
          "date": "2010-04-01T00:00:00-04:00",
          "day": 1,
          "month": 4,
          "year": 2010
         },
         {
          "counts": 17,
          "data_type": "User",
          "date": "2010-05-01T00:00:00-04:00",
          "day": 1,
          "month": 5,
          "year": 2010
         },
         {
          "counts": 19,
          "data_type": "User",
          "date": "2010-06-01T00:00:00-04:00",
          "day": 1,
          "month": 6,
          "year": 2010
         },
         {
          "counts": 11,
          "data_type": "User",
          "date": "2010-07-01T00:00:00-04:00",
          "day": 1,
          "month": 7,
          "year": 2010
         },
         {
          "counts": 7,
          "data_type": "User",
          "date": "2010-08-01T00:00:00-04:00",
          "day": 1,
          "month": 8,
          "year": 2010
         },
         {
          "counts": 14,
          "data_type": "User",
          "date": "2010-09-01T00:00:00-04:00",
          "day": 1,
          "month": 9,
          "year": 2010
         },
         {
          "counts": 18,
          "data_type": "User",
          "date": "2010-10-01T00:00:00-04:00",
          "day": 1,
          "month": 10,
          "year": 2010
         },
         {
          "counts": 15,
          "data_type": "User",
          "date": "2010-11-01T00:00:00-04:00",
          "day": 1,
          "month": 11,
          "year": 2010
         },
         {
          "counts": 18,
          "data_type": "User",
          "date": "2010-12-01T00:00:00-05:00",
          "day": 1,
          "month": 12,
          "year": 2010
         },
         {
          "counts": 13,
          "data_type": "User",
          "date": "2011-01-01T00:00:00-05:00",
          "day": 1,
          "month": 1,
          "year": 2011
         },
         {
          "counts": 35,
          "data_type": "User",
          "date": "2011-02-01T00:00:00-05:00",
          "day": 1,
          "month": 2,
          "year": 2011
         },
         {
          "counts": 25,
          "data_type": "User",
          "date": "2011-03-01T00:00:00-05:00",
          "day": 1,
          "month": 3,
          "year": 2011
         },
         {
          "counts": 12,
          "data_type": "User",
          "date": "2011-04-01T00:00:00-04:00",
          "day": 1,
          "month": 4,
          "year": 2011
         },
         {
          "counts": 19,
          "data_type": "User",
          "date": "2011-05-01T00:00:00-04:00",
          "day": 1,
          "month": 5,
          "year": 2011
         },
         {
          "counts": 24,
          "data_type": "User",
          "date": "2011-06-01T00:00:00-04:00",
          "day": 1,
          "month": 6,
          "year": 2011
         },
         {
          "counts": 18,
          "data_type": "User",
          "date": "2011-07-01T00:00:00-04:00",
          "day": 1,
          "month": 7,
          "year": 2011
         },
         {
          "counts": 24,
          "data_type": "User",
          "date": "2011-08-01T00:00:00-04:00",
          "day": 1,
          "month": 8,
          "year": 2011
         },
         {
          "counts": 19,
          "data_type": "User",
          "date": "2011-09-01T00:00:00-04:00",
          "day": 1,
          "month": 9,
          "year": 2011
         },
         {
          "counts": 20,
          "data_type": "User",
          "date": "2011-10-01T00:00:00-04:00",
          "day": 1,
          "month": 10,
          "year": 2011
         },
         {
          "counts": 17,
          "data_type": "User",
          "date": "2011-11-01T00:00:00-04:00",
          "day": 1,
          "month": 11,
          "year": 2011
         },
         {
          "counts": 13,
          "data_type": "User",
          "date": "2011-12-01T00:00:00-05:00",
          "day": 1,
          "month": 12,
          "year": 2011
         },
         {
          "counts": 19,
          "data_type": "User",
          "date": "2012-01-01T00:00:00-05:00",
          "day": 1,
          "month": 1,
          "year": 2012
         },
         {
          "counts": 18,
          "data_type": "User",
          "date": "2012-02-01T00:00:00-05:00",
          "day": 1,
          "month": 2,
          "year": 2012
         },
         {
          "counts": 11,
          "data_type": "User",
          "date": "2012-03-01T00:00:00-05:00",
          "day": 1,
          "month": 3,
          "year": 2012
         },
         {
          "counts": 26,
          "data_type": "User",
          "date": "2012-04-01T00:00:00-04:00",
          "day": 1,
          "month": 4,
          "year": 2012
         },
         {
          "counts": 27,
          "data_type": "User",
          "date": "2012-05-01T00:00:00-04:00",
          "day": 1,
          "month": 5,
          "year": 2012
         },
         {
          "counts": 12,
          "data_type": "User",
          "date": "2012-06-01T00:00:00-04:00",
          "day": 1,
          "month": 6,
          "year": 2012
         },
         {
          "counts": 17,
          "data_type": "User",
          "date": "2012-07-01T00:00:00-04:00",
          "day": 1,
          "month": 7,
          "year": 2012
         },
         {
          "counts": 21,
          "data_type": "User",
          "date": "2012-08-01T00:00:00-04:00",
          "day": 1,
          "month": 8,
          "year": 2012
         },
         {
          "counts": 26,
          "data_type": "User",
          "date": "2012-09-01T00:00:00-04:00",
          "day": 1,
          "month": 9,
          "year": 2012
         },
         {
          "counts": 26,
          "data_type": "User",
          "date": "2012-10-01T00:00:00-04:00",
          "day": 1,
          "month": 10,
          "year": 2012
         },
         {
          "counts": 16,
          "data_type": "User",
          "date": "2012-11-01T00:00:00-04:00",
          "day": 1,
          "month": 11,
          "year": 2012
         },
         {
          "counts": 36,
          "data_type": "User",
          "date": "2012-12-01T00:00:00-05:00",
          "day": 1,
          "month": 12,
          "year": 2012
         },
         {
          "counts": 27,
          "data_type": "User",
          "date": "2013-01-01T00:00:00-05:00",
          "day": 1,
          "month": 1,
          "year": 2013
         },
         {
          "counts": 21,
          "data_type": "User",
          "date": "2013-02-01T00:00:00-05:00",
          "day": 1,
          "month": 2,
          "year": 2013
         },
         {
          "counts": 26,
          "data_type": "User",
          "date": "2013-03-01T00:00:00-05:00",
          "day": 1,
          "month": 3,
          "year": 2013
         },
         {
          "counts": 19,
          "data_type": "User",
          "date": "2013-04-01T00:00:00-04:00",
          "day": 1,
          "month": 4,
          "year": 2013
         },
         {
          "counts": 19,
          "data_type": "User",
          "date": "2013-05-01T00:00:00-04:00",
          "day": 1,
          "month": 5,
          "year": 2013
         },
         {
          "counts": 25,
          "data_type": "User",
          "date": "2013-06-01T00:00:00-04:00",
          "day": 1,
          "month": 6,
          "year": 2013
         },
         {
          "counts": 12,
          "data_type": "User",
          "date": "2013-07-01T00:00:00-04:00",
          "day": 1,
          "month": 7,
          "year": 2013
         },
         {
          "counts": 16,
          "data_type": "User",
          "date": "2013-08-01T00:00:00-04:00",
          "day": 1,
          "month": 8,
          "year": 2013
         },
         {
          "counts": 23,
          "data_type": "User",
          "date": "2013-09-01T00:00:00-04:00",
          "day": 1,
          "month": 9,
          "year": 2013
         },
         {
          "counts": 18,
          "data_type": "User",
          "date": "2013-10-01T00:00:00-04:00",
          "day": 1,
          "month": 10,
          "year": 2013
         },
         {
          "counts": 11,
          "data_type": "User",
          "date": "2013-11-01T00:00:00-04:00",
          "day": 1,
          "month": 11,
          "year": 2013
         },
         {
          "counts": 15,
          "data_type": "User",
          "date": "2013-12-01T00:00:00-05:00",
          "day": 1,
          "month": 12,
          "year": 2013
         },
         {
          "counts": 23,
          "data_type": "User",
          "date": "2014-01-01T00:00:00-05:00",
          "day": 1,
          "month": 1,
          "year": 2014
         },
         {
          "counts": 22,
          "data_type": "User",
          "date": "2014-02-01T00:00:00-05:00",
          "day": 1,
          "month": 2,
          "year": 2014
         },
         {
          "counts": 18,
          "data_type": "User",
          "date": "2014-03-01T00:00:00-05:00",
          "day": 1,
          "month": 3,
          "year": 2014
         },
         {
          "counts": 31,
          "data_type": "User",
          "date": "2014-04-01T00:00:00-04:00",
          "day": 1,
          "month": 4,
          "year": 2014
         },
         {
          "counts": 27,
          "data_type": "User",
          "date": "2014-05-01T00:00:00-04:00",
          "day": 1,
          "month": 5,
          "year": 2014
         },
         {
          "counts": 21,
          "data_type": "User",
          "date": "2014-06-01T00:00:00-04:00",
          "day": 1,
          "month": 6,
          "year": 2014
         },
         {
          "counts": 15,
          "data_type": "User",
          "date": "2014-07-01T00:00:00-04:00",
          "day": 1,
          "month": 7,
          "year": 2014
         },
         {
          "counts": 17,
          "data_type": "User",
          "date": "2014-08-01T00:00:00-04:00",
          "day": 1,
          "month": 8,
          "year": 2014
         },
         {
          "counts": 22,
          "data_type": "User",
          "date": "2014-09-01T00:00:00-04:00",
          "day": 1,
          "month": 9,
          "year": 2014
         },
         {
          "counts": 23,
          "data_type": "User",
          "date": "2014-10-01T00:00:00-04:00",
          "day": 1,
          "month": 10,
          "year": 2014
         },
         {
          "counts": 20,
          "data_type": "User",
          "date": "2014-11-01T00:00:00-04:00",
          "day": 1,
          "month": 11,
          "year": 2014
         },
         {
          "counts": 22,
          "data_type": "User",
          "date": "2014-12-01T00:00:00-05:00",
          "day": 1,
          "month": 12,
          "year": 2014
         },
         {
          "counts": 26,
          "data_type": "User",
          "date": "2015-01-01T00:00:00-05:00",
          "day": 1,
          "month": 1,
          "year": 2015
         },
         {
          "counts": 20,
          "data_type": "User",
          "date": "2015-02-01T00:00:00-05:00",
          "day": 1,
          "month": 2,
          "year": 2015
         },
         {
          "counts": 24,
          "data_type": "User",
          "date": "2015-03-01T00:00:00-05:00",
          "day": 1,
          "month": 3,
          "year": 2015
         },
         {
          "counts": 22,
          "data_type": "User",
          "date": "2015-04-01T00:00:00-04:00",
          "day": 1,
          "month": 4,
          "year": 2015
         },
         {
          "counts": 31,
          "data_type": "User",
          "date": "2015-05-01T00:00:00-04:00",
          "day": 1,
          "month": 5,
          "year": 2015
         },
         {
          "counts": 18,
          "data_type": "User",
          "date": "2015-06-01T00:00:00-04:00",
          "day": 1,
          "month": 6,
          "year": 2015
         },
         {
          "counts": 15,
          "data_type": "User",
          "date": "2015-07-01T00:00:00-04:00",
          "day": 1,
          "month": 7,
          "year": 2015
         },
         {
          "counts": 18,
          "data_type": "User",
          "date": "2015-08-01T00:00:00-04:00",
          "day": 1,
          "month": 8,
          "year": 2015
         },
         {
          "counts": 25,
          "data_type": "User",
          "date": "2015-09-01T00:00:00-04:00",
          "day": 1,
          "month": 9,
          "year": 2015
         },
         {
          "counts": 10,
          "data_type": "User",
          "date": "2015-10-01T00:00:00-04:00",
          "day": 1,
          "month": 10,
          "year": 2015
         },
         {
          "counts": 20,
          "data_type": "User",
          "date": "2015-11-01T00:00:00-04:00",
          "day": 1,
          "month": 11,
          "year": 2015
         },
         {
          "counts": 11,
          "data_type": "User",
          "date": "2015-12-01T00:00:00-05:00",
          "day": 1,
          "month": 12,
          "year": 2015
         },
         {
          "counts": 18,
          "data_type": "User",
          "date": "2016-01-01T00:00:00-05:00",
          "day": 1,
          "month": 1,
          "year": 2016
         },
         {
          "counts": 12,
          "data_type": "User",
          "date": "2016-02-01T00:00:00-05:00",
          "day": 1,
          "month": 2,
          "year": 2016
         },
         {
          "counts": 19,
          "data_type": "User",
          "date": "2016-03-01T00:00:00-05:00",
          "day": 1,
          "month": 3,
          "year": 2016
         },
         {
          "counts": 14,
          "data_type": "User",
          "date": "2016-04-01T00:00:00-04:00",
          "day": 1,
          "month": 4,
          "year": 2016
         },
         {
          "counts": 12,
          "data_type": "User",
          "date": "2016-05-01T00:00:00-04:00",
          "day": 1,
          "month": 5,
          "year": 2016
         },
         {
          "counts": 21,
          "data_type": "User",
          "date": "2016-06-01T00:00:00-04:00",
          "day": 1,
          "month": 6,
          "year": 2016
         },
         {
          "counts": 14,
          "data_type": "User",
          "date": "2016-07-01T00:00:00-04:00",
          "day": 1,
          "month": 7,
          "year": 2016
         },
         {
          "counts": 12,
          "data_type": "User",
          "date": "2016-08-01T00:00:00-04:00",
          "day": 1,
          "month": 8,
          "year": 2016
         },
         {
          "counts": 16,
          "data_type": "User",
          "date": "2016-09-01T00:00:00-04:00",
          "day": 1,
          "month": 9,
          "year": 2016
         },
         {
          "counts": 16,
          "data_type": "User",
          "date": "2016-10-01T00:00:00-04:00",
          "day": 1,
          "month": 10,
          "year": 2016
         },
         {
          "counts": 9,
          "data_type": "User",
          "date": "2016-11-01T00:00:00-04:00",
          "day": 1,
          "month": 11,
          "year": 2016
         },
         {
          "counts": 11,
          "data_type": "User",
          "date": "2016-12-01T00:00:00-05:00",
          "day": 1,
          "month": 12,
          "year": 2016
         },
         {
          "counts": 22,
          "data_type": "User",
          "date": "2017-01-01T00:00:00-05:00",
          "day": 1,
          "month": 1,
          "year": 2017
         },
         {
          "counts": 23,
          "data_type": "User",
          "date": "2017-02-01T00:00:00-05:00",
          "day": 1,
          "month": 2,
          "year": 2017
         },
         {
          "counts": 23,
          "data_type": "User",
          "date": "2017-03-01T00:00:00-05:00",
          "day": 1,
          "month": 3,
          "year": 2017
         },
         {
          "counts": 12,
          "data_type": "User",
          "date": "2017-04-01T00:00:00-04:00",
          "day": 1,
          "month": 4,
          "year": 2017
         },
         {
          "counts": 11,
          "data_type": "User",
          "date": "2017-05-01T00:00:00-04:00",
          "day": 1,
          "month": 5,
          "year": 2017
         },
         {
          "counts": 10,
          "data_type": "User",
          "date": "2017-06-01T00:00:00-04:00",
          "day": 1,
          "month": 6,
          "year": 2017
         },
         {
          "counts": 18,
          "data_type": "User",
          "date": "2017-07-01T00:00:00-04:00",
          "day": 1,
          "month": 7,
          "year": 2017
         },
         {
          "counts": 10,
          "data_type": "User",
          "date": "2017-08-01T00:00:00-04:00",
          "day": 1,
          "month": 8,
          "year": 2017
         },
         {
          "counts": 19,
          "data_type": "User",
          "date": "2017-09-01T00:00:00-04:00",
          "day": 1,
          "month": 9,
          "year": 2017
         },
         {
          "counts": 20,
          "data_type": "User",
          "date": "2017-10-01T00:00:00-04:00",
          "day": 1,
          "month": 10,
          "year": 2017
         },
         {
          "counts": 20,
          "data_type": "User",
          "date": "2017-11-01T00:00:00-04:00",
          "day": 1,
          "month": 11,
          "year": 2017
         },
         {
          "counts": 16,
          "data_type": "User",
          "date": "2017-12-01T00:00:00-05:00",
          "day": 1,
          "month": 12,
          "year": 2017
         },
         {
          "counts": 20,
          "data_type": "User",
          "date": "2018-01-01T00:00:00-05:00",
          "day": 1,
          "month": 1,
          "year": 2018
         },
         {
          "counts": 16,
          "data_type": "User",
          "date": "2018-02-01T00:00:00-05:00",
          "day": 1,
          "month": 2,
          "year": 2018
         },
         {
          "counts": 15,
          "data_type": "User",
          "date": "2018-03-01T00:00:00-05:00",
          "day": 1,
          "month": 3,
          "year": 2018
         },
         {
          "counts": 14,
          "data_type": "User",
          "date": "2018-04-01T00:00:00-04:00",
          "day": 1,
          "month": 4,
          "year": 2018
         },
         {
          "counts": 10,
          "data_type": "User",
          "date": "2018-05-01T00:00:00-04:00",
          "day": 1,
          "month": 5,
          "year": 2018
         },
         {
          "counts": 20,
          "data_type": "User",
          "date": "2018-06-01T00:00:00-04:00",
          "day": 1,
          "month": 6,
          "year": 2018
         },
         {
          "counts": 10,
          "data_type": "User",
          "date": "2018-07-01T00:00:00-04:00",
          "day": 1,
          "month": 7,
          "year": 2018
         },
         {
          "counts": 12,
          "data_type": "User",
          "date": "2018-08-01T00:00:00-04:00",
          "day": 1,
          "month": 8,
          "year": 2018
         },
         {
          "counts": 20,
          "data_type": "User",
          "date": "2018-09-01T00:00:00-04:00",
          "day": 1,
          "month": 9,
          "year": 2018
         },
         {
          "counts": 21,
          "data_type": "User",
          "date": "2018-10-01T00:00:00-04:00",
          "day": 1,
          "month": 10,
          "year": 2018
         },
         {
          "counts": 14,
          "data_type": "User",
          "date": "2018-11-01T00:00:00-04:00",
          "day": 1,
          "month": 11,
          "year": 2018
         },
         {
          "counts": 14,
          "data_type": "User",
          "date": "2018-12-01T00:00:00-05:00",
          "day": 1,
          "month": 12,
          "year": 2018
         },
         {
          "counts": 37,
          "data_type": "User",
          "date": "2019-01-01T00:00:00-05:00",
          "day": 1,
          "month": 1,
          "year": 2019
         },
         {
          "counts": 19,
          "data_type": "User",
          "date": "2019-02-01T00:00:00-05:00",
          "day": 1,
          "month": 2,
          "year": 2019
         },
         {
          "counts": 17,
          "data_type": "User",
          "date": "2019-03-01T00:00:00-05:00",
          "day": 1,
          "month": 3,
          "year": 2019
         },
         {
          "counts": 8,
          "data_type": "User",
          "date": "2019-04-01T00:00:00-04:00",
          "day": 1,
          "month": 4,
          "year": 2019
         },
         {
          "counts": 10,
          "data_type": "User",
          "date": "2019-05-01T00:00:00-04:00",
          "day": 1,
          "month": 5,
          "year": 2019
         },
         {
          "counts": 9,
          "data_type": "User",
          "date": "2019-06-01T00:00:00-04:00",
          "day": 1,
          "month": 6,
          "year": 2019
         },
         {
          "counts": 15,
          "data_type": "User",
          "date": "2019-07-01T00:00:00-04:00",
          "day": 1,
          "month": 7,
          "year": 2019
         },
         {
          "counts": 4,
          "data_type": "User",
          "date": "2019-08-01T00:00:00-04:00",
          "day": 1,
          "month": 8,
          "year": 2019
         },
         {
          "counts": 11,
          "data_type": "User",
          "date": "2019-09-01T00:00:00-04:00",
          "day": 1,
          "month": 9,
          "year": 2019
         },
         {
          "counts": 24,
          "data_type": "User",
          "date": "2019-10-01T00:00:00-04:00",
          "day": 1,
          "month": 10,
          "year": 2019
         },
         {
          "counts": 10,
          "data_type": "User",
          "date": "2019-11-01T00:00:00-04:00",
          "day": 1,
          "month": 11,
          "year": 2019
         },
         {
          "counts": 9,
          "data_type": "User",
          "date": "2019-12-01T00:00:00-05:00",
          "day": 1,
          "month": 12,
          "year": 2019
         },
         {
          "counts": 17,
          "data_type": "User",
          "date": "2020-01-01T00:00:00-05:00",
          "day": 1,
          "month": 1,
          "year": 2020
         },
         {
          "counts": 5,
          "data_type": "User",
          "date": "2020-02-01T00:00:00-05:00",
          "day": 1,
          "month": 2,
          "year": 2020
         },
         {
          "counts": 9,
          "data_type": "User",
          "date": "2020-03-01T00:00:00-05:00",
          "day": 1,
          "month": 3,
          "year": 2020
         },
         {
          "counts": 12,
          "data_type": "User",
          "date": "2020-04-01T00:00:00-04:00",
          "day": 1,
          "month": 4,
          "year": 2020
         },
         {
          "counts": 25,
          "data_type": "User",
          "date": "2020-05-01T00:00:00-04:00",
          "day": 1,
          "month": 5,
          "year": 2020
         },
         {
          "counts": 6,
          "data_type": "User",
          "date": "2020-06-01T00:00:00-04:00",
          "day": 1,
          "month": 6,
          "year": 2020
         },
         {
          "counts": 7,
          "data_type": "User",
          "date": "2020-07-01T00:00:00-04:00",
          "day": 1,
          "month": 7,
          "year": 2020
         },
         {
          "counts": 13,
          "data_type": "User",
          "date": "2020-08-01T00:00:00-04:00",
          "day": 1,
          "month": 8,
          "year": 2020
         },
         {
          "counts": 17,
          "data_type": "User",
          "date": "2020-09-01T00:00:00-04:00",
          "day": 1,
          "month": 9,
          "year": 2020
         },
         {
          "counts": 25,
          "data_type": "User",
          "date": "2020-10-01T00:00:00-04:00",
          "day": 1,
          "month": 10,
          "year": 2020
         },
         {
          "counts": 16,
          "data_type": "User",
          "date": "2020-11-01T00:00:00-04:00",
          "day": 1,
          "month": 11,
          "year": 2020
         },
         {
          "counts": 10,
          "data_type": "User",
          "date": "2020-12-01T00:00:00-05:00",
          "day": 1,
          "month": 12,
          "year": 2020
         },
         {
          "counts": 4,
          "data_type": "User",
          "date": "2021-01-01T00:00:00-05:00",
          "day": 1,
          "month": 1,
          "year": 2021
         },
         {
          "counts": 8,
          "data_type": "User",
          "date": "2021-02-01T00:00:00-05:00",
          "day": 1,
          "month": 2,
          "year": 2021
         },
         {
          "counts": 10,
          "data_type": "User",
          "date": "2021-03-01T00:00:00-05:00",
          "day": 1,
          "month": 3,
          "year": 2021
         },
         {
          "counts": 6,
          "data_type": "User",
          "date": "2021-04-01T00:00:00-04:00",
          "day": 1,
          "month": 4,
          "year": 2021
         },
         {
          "counts": 7,
          "data_type": "User",
          "date": "2021-05-01T00:00:00-04:00",
          "day": 1,
          "month": 5,
          "year": 2021
         },
         {
          "counts": 7,
          "data_type": "User",
          "date": "2021-06-01T00:00:00-04:00",
          "day": 1,
          "month": 6,
          "year": 2021
         },
         {
          "counts": 2,
          "data_type": "User",
          "date": "2021-07-01T00:00:00-04:00",
          "day": 1,
          "month": 7,
          "year": 2021
         },
         {
          "counts": 7,
          "data_type": "User",
          "date": "2021-08-01T00:00:00-04:00",
          "day": 1,
          "month": 8,
          "year": 2021
         },
         {
          "counts": 5,
          "data_type": "User",
          "date": "2021-09-01T00:00:00-04:00",
          "day": 1,
          "month": 9,
          "year": 2021
         },
         {
          "counts": 25,
          "data_type": "User",
          "date": "2021-10-01T00:00:00-04:00",
          "day": 1,
          "month": 10,
          "year": 2021
         },
         {
          "counts": 7,
          "data_type": "User",
          "date": "2021-11-01T00:00:00-04:00",
          "day": 1,
          "month": 11,
          "year": 2021
         },
         {
          "counts": 5,
          "data_type": "User",
          "date": "2021-12-01T00:00:00-05:00",
          "day": 1,
          "month": 12,
          "year": 2021
         },
         {
          "counts": 3,
          "data_type": "User",
          "date": "2022-01-01T00:00:00-05:00",
          "day": 1,
          "month": 1,
          "year": 2022
         },
         {
          "counts": 6,
          "data_type": "User",
          "date": "2022-02-01T00:00:00-05:00",
          "day": 1,
          "month": 2,
          "year": 2022
         },
         {
          "counts": 3,
          "data_type": "User",
          "date": "2022-03-01T00:00:00-05:00",
          "day": 1,
          "month": 3,
          "year": 2022
         },
         {
          "counts": 4,
          "data_type": "User",
          "date": "2022-04-01T00:00:00-04:00",
          "day": 1,
          "month": 4,
          "year": 2022
         },
         {
          "counts": 6,
          "data_type": "User",
          "date": "2022-05-01T00:00:00-04:00",
          "day": 1,
          "month": 5,
          "year": 2022
         },
         {
          "counts": 5,
          "data_type": "User",
          "date": "2022-06-01T00:00:00-04:00",
          "day": 1,
          "month": 6,
          "year": 2022
         },
         {
          "counts": 6,
          "data_type": "User",
          "date": "2022-07-01T00:00:00-04:00",
          "day": 1,
          "month": 7,
          "year": 2022
         },
         {
          "counts": 3,
          "data_type": "User",
          "date": "2022-08-01T00:00:00-04:00",
          "day": 1,
          "month": 8,
          "year": 2022
         },
         {
          "counts": 8,
          "data_type": "User",
          "date": "2022-09-01T00:00:00-04:00",
          "day": 1,
          "month": 9,
          "year": 2022
         },
         {
          "counts": 9,
          "data_type": "User",
          "date": "2022-10-01T00:00:00-04:00",
          "day": 1,
          "month": 10,
          "year": 2022
         },
         {
          "counts": 3,
          "data_type": "User",
          "date": "2022-11-01T00:00:00-04:00",
          "day": 1,
          "month": 11,
          "year": 2022
         },
         {
          "counts": 3,
          "data_type": "User",
          "date": "2022-12-01T00:00:00-05:00",
          "day": 1,
          "month": 12,
          "year": 2022
         },
         {
          "counts": 1,
          "data_type": "User",
          "date": "2023-01-01T00:00:00-05:00",
          "day": 1,
          "month": 1,
          "year": 2023
         },
         {
          "counts": 7,
          "data_type": "User",
          "date": "2023-02-01T00:00:00-05:00",
          "day": 1,
          "month": 2,
          "year": 2023
         },
         {
          "counts": 4,
          "data_type": "User",
          "date": "2023-03-01T00:00:00-05:00",
          "day": 1,
          "month": 3,
          "year": 2023
         },
         {
          "counts": 1,
          "data_type": "User",
          "date": "2023-04-01T00:00:00-04:00",
          "day": 1,
          "month": 4,
          "year": 2023
         }
        ]
       },
       "height": 300,
       "layer": [
        {
         "encoding": {
          "color": {
           "field": "data_type",
           "title": "Type of Entity",
           "type": "nominal"
          },
          "x": {
           "axis": {
            "format": "%Y"
           },
           "field": "date",
           "title": "Date Created",
           "type": "temporal"
          },
          "y": {
           "field": "counts",
           "title": "Counts",
           "type": "quantitative"
          }
         },
         "mark": {
          "interpolate": "basis",
          "type": "line"
         }
        },
        {
         "encoding": {
          "opacity": {
           "value": 0
          },
          "x": {
           "field": "date",
           "type": "temporal"
          }
         },
         "mark": {
          "type": "point"
         },
         "name": "view_3"
        },
        {
         "encoding": {
          "color": {
           "field": "data_type",
           "title": "Type of Entity",
           "type": "nominal"
          },
          "opacity": {
           "condition": {
            "empty": false,
            "param": "param_3",
            "value": 1
           },
           "value": 0
          },
          "x": {
           "axis": {
            "format": "%Y"
           },
           "field": "date",
           "title": "Date Created",
           "type": "temporal"
          },
          "y": {
           "field": "counts",
           "title": "Counts",
           "type": "quantitative"
          }
         },
         "mark": {
          "type": "point"
         }
        },
        {
         "encoding": {
          "x": {
           "field": "date",
           "type": "temporal"
          }
         },
         "mark": {
          "color": "gray",
          "type": "rule"
         },
         "transform": [
          {
           "filter": {
            "empty": false,
            "param": "param_3"
           }
          }
         ]
        },
        {
         "encoding": {
          "color": {
           "field": "data_type",
           "title": "Type of Entity",
           "type": "nominal"
          },
          "text": {
           "condition": {
            "empty": false,
            "field": "counts",
            "param": "param_3"
           },
           "value": " "
          },
          "x": {
           "axis": {
            "format": "%Y"
           },
           "field": "date",
           "title": "Date Created",
           "type": "temporal"
          },
          "y": {
           "field": "counts",
           "title": "Counts",
           "type": "quantitative"
          }
         },
         "mark": {
          "align": "left",
          "dx": 5,
          "dy": -5,
          "type": "text"
         }
        }
       ],
       "params": [
        {
         "name": "param_3",
         "select": {
          "encodings": [
           "x"
          ],
          "nearest": true,
          "on": "mouseover",
          "type": "point"
         },
         "views": [
          "view_3"
         ]
        }
       ],
       "title": "Number of Users, Organizations, and Repositories identified as DH, Created Over Time via Final Pass Thresholding Algorithm",
       "width": 600
      },
      "text/plain": [
       "<VegaLite 5 object>\n",
       "\n",
       "If you see this message, it means the renderer has not been properly enabled\n",
       "for the frontend that you are using. For more information, see\n",
       "https://altair-viz.github.io/user_guide/display_frontends.html#troubleshooting\n"
      ]
     },
     "execution_count": 20,
     "metadata": {},
     "output_type": "execute_result"
    }
   ],
   "source": [
    "finalpass_chart"
   ]
  },
  {
   "attachments": {},
   "cell_type": "markdown",
   "metadata": {},
   "source": [
    "### Combined Core Materials"
   ]
  },
  {
   "cell_type": "code",
   "execution_count": 21,
   "metadata": {},
   "outputs": [],
   "source": [
    "initial_core_users['origin'] = 'initial'\n",
    "first_pass_core_users['origin'] = 'first_pass'\n",
    "finalpass_core_users['origin'] = 'final_pass'\n",
    "\n",
    "initial_core_repos['origin'] = 'initial'\n",
    "first_pass_core_repos['origin'] = 'first_pass'\n",
    "finalpass_core_repos['origin'] = 'final_pass'\n",
    "\n",
    "initial_core_orgs['origin'] = 'initial'\n",
    "first_pass_core_orgs['origin'] = 'first_pass'\n",
    "finalpass_core_orgs['origin'] = 'final_pass'"
   ]
  },
  {
   "cell_type": "code",
   "execution_count": 22,
   "metadata": {},
   "outputs": [],
   "source": [
    "core_users = pd.concat([initial_core_users, first_pass_core_users, finalpass_core_users])\n",
    "core_repos = pd.concat([initial_core_repos, first_pass_core_repos, finalpass_core_repos])\n",
    "core_orgs = pd.concat([initial_core_orgs, first_pass_core_orgs, finalpass_core_orgs])\n"
   ]
  },
  {
   "cell_type": "code",
   "execution_count": 23,
   "metadata": {},
   "outputs": [],
   "source": [
    "combined_grouped_data = process_core_materials(core_repos, core_users, core_orgs, include_month=True)"
   ]
  },
  {
   "cell_type": "code",
   "execution_count": 24,
   "metadata": {},
   "outputs": [],
   "source": [
    "combined_chart = overtime_chart(combined_grouped_data, \"Number of Users, Organizations, and Repositories identified as DH, Created Over Time via All Three Methods\")"
   ]
  },
  {
   "cell_type": "code",
   "execution_count": 25,
   "metadata": {},
   "outputs": [
    {
     "data": {
      "application/vnd.vegalite.v5+json": {
       "$schema": "https://vega.github.io/schema/vega-lite/v5.8.0.json",
       "config": {
        "view": {
         "continuousHeight": 300,
         "continuousWidth": 300
        }
       },
       "data": {
        "name": "data-fdcfc2adbae878f3f9dd00f24b18433b"
       },
       "datasets": {
        "data-fdcfc2adbae878f3f9dd00f24b18433b": [
         {
          "counts": 1,
          "data_type": "Organization",
          "date": "2009-02-01T00:00:00-05:00",
          "day": 1,
          "month": 2,
          "year": 2009
         },
         {
          "counts": 1,
          "data_type": "Organization",
          "date": "2009-03-01T00:00:00-05:00",
          "day": 1,
          "month": 3,
          "year": 2009
         },
         {
          "counts": 1,
          "data_type": "Organization",
          "date": "2009-06-01T00:00:00-04:00",
          "day": 1,
          "month": 6,
          "year": 2009
         },
         {
          "counts": 1,
          "data_type": "Organization",
          "date": "2010-02-01T00:00:00-05:00",
          "day": 1,
          "month": 2,
          "year": 2010
         },
         {
          "counts": 1,
          "data_type": "Organization",
          "date": "2010-05-01T00:00:00-04:00",
          "day": 1,
          "month": 5,
          "year": 2010
         },
         {
          "counts": 2,
          "data_type": "Organization",
          "date": "2010-06-01T00:00:00-04:00",
          "day": 1,
          "month": 6,
          "year": 2010
         },
         {
          "counts": 2,
          "data_type": "Organization",
          "date": "2010-07-01T00:00:00-04:00",
          "day": 1,
          "month": 7,
          "year": 2010
         },
         {
          "counts": 1,
          "data_type": "Organization",
          "date": "2010-10-01T00:00:00-04:00",
          "day": 1,
          "month": 10,
          "year": 2010
         },
         {
          "counts": 1,
          "data_type": "Organization",
          "date": "2010-12-01T00:00:00-05:00",
          "day": 1,
          "month": 12,
          "year": 2010
         },
         {
          "counts": 1,
          "data_type": "Organization",
          "date": "2011-01-01T00:00:00-05:00",
          "day": 1,
          "month": 1,
          "year": 2011
         },
         {
          "counts": 4,
          "data_type": "Organization",
          "date": "2011-04-01T00:00:00-04:00",
          "day": 1,
          "month": 4,
          "year": 2011
         },
         {
          "counts": 2,
          "data_type": "Organization",
          "date": "2011-06-01T00:00:00-04:00",
          "day": 1,
          "month": 6,
          "year": 2011
         },
         {
          "counts": 1,
          "data_type": "Organization",
          "date": "2011-07-01T00:00:00-04:00",
          "day": 1,
          "month": 7,
          "year": 2011
         },
         {
          "counts": 3,
          "data_type": "Organization",
          "date": "2011-09-01T00:00:00-04:00",
          "day": 1,
          "month": 9,
          "year": 2011
         },
         {
          "counts": 1,
          "data_type": "Organization",
          "date": "2011-10-01T00:00:00-04:00",
          "day": 1,
          "month": 10,
          "year": 2011
         },
         {
          "counts": 1,
          "data_type": "Organization",
          "date": "2011-11-01T00:00:00-04:00",
          "day": 1,
          "month": 11,
          "year": 2011
         },
         {
          "counts": 5,
          "data_type": "Organization",
          "date": "2011-12-01T00:00:00-05:00",
          "day": 1,
          "month": 12,
          "year": 2011
         },
         {
          "counts": 1,
          "data_type": "Organization",
          "date": "2012-01-01T00:00:00-05:00",
          "day": 1,
          "month": 1,
          "year": 2012
         },
         {
          "counts": 6,
          "data_type": "Organization",
          "date": "2012-02-01T00:00:00-05:00",
          "day": 1,
          "month": 2,
          "year": 2012
         },
         {
          "counts": 1,
          "data_type": "Organization",
          "date": "2012-03-01T00:00:00-05:00",
          "day": 1,
          "month": 3,
          "year": 2012
         },
         {
          "counts": 2,
          "data_type": "Organization",
          "date": "2012-04-01T00:00:00-04:00",
          "day": 1,
          "month": 4,
          "year": 2012
         },
         {
          "counts": 4,
          "data_type": "Organization",
          "date": "2012-05-01T00:00:00-04:00",
          "day": 1,
          "month": 5,
          "year": 2012
         },
         {
          "counts": 1,
          "data_type": "Organization",
          "date": "2012-06-01T00:00:00-04:00",
          "day": 1,
          "month": 6,
          "year": 2012
         },
         {
          "counts": 1,
          "data_type": "Organization",
          "date": "2012-07-01T00:00:00-04:00",
          "day": 1,
          "month": 7,
          "year": 2012
         },
         {
          "counts": 3,
          "data_type": "Organization",
          "date": "2012-08-01T00:00:00-04:00",
          "day": 1,
          "month": 8,
          "year": 2012
         },
         {
          "counts": 3,
          "data_type": "Organization",
          "date": "2012-09-01T00:00:00-04:00",
          "day": 1,
          "month": 9,
          "year": 2012
         },
         {
          "counts": 2,
          "data_type": "Organization",
          "date": "2012-10-01T00:00:00-04:00",
          "day": 1,
          "month": 10,
          "year": 2012
         },
         {
          "counts": 4,
          "data_type": "Organization",
          "date": "2012-11-01T00:00:00-04:00",
          "day": 1,
          "month": 11,
          "year": 2012
         },
         {
          "counts": 1,
          "data_type": "Organization",
          "date": "2012-12-01T00:00:00-05:00",
          "day": 1,
          "month": 12,
          "year": 2012
         },
         {
          "counts": 3,
          "data_type": "Organization",
          "date": "2013-01-01T00:00:00-05:00",
          "day": 1,
          "month": 1,
          "year": 2013
         },
         {
          "counts": 1,
          "data_type": "Organization",
          "date": "2013-02-01T00:00:00-05:00",
          "day": 1,
          "month": 2,
          "year": 2013
         },
         {
          "counts": 6,
          "data_type": "Organization",
          "date": "2013-03-01T00:00:00-05:00",
          "day": 1,
          "month": 3,
          "year": 2013
         },
         {
          "counts": 3,
          "data_type": "Organization",
          "date": "2013-04-01T00:00:00-04:00",
          "day": 1,
          "month": 4,
          "year": 2013
         },
         {
          "counts": 2,
          "data_type": "Organization",
          "date": "2013-05-01T00:00:00-04:00",
          "day": 1,
          "month": 5,
          "year": 2013
         },
         {
          "counts": 6,
          "data_type": "Organization",
          "date": "2013-06-01T00:00:00-04:00",
          "day": 1,
          "month": 6,
          "year": 2013
         },
         {
          "counts": 6,
          "data_type": "Organization",
          "date": "2013-07-01T00:00:00-04:00",
          "day": 1,
          "month": 7,
          "year": 2013
         },
         {
          "counts": 6,
          "data_type": "Organization",
          "date": "2013-08-01T00:00:00-04:00",
          "day": 1,
          "month": 8,
          "year": 2013
         },
         {
          "counts": 2,
          "data_type": "Organization",
          "date": "2013-09-01T00:00:00-04:00",
          "day": 1,
          "month": 9,
          "year": 2013
         },
         {
          "counts": 5,
          "data_type": "Organization",
          "date": "2013-10-01T00:00:00-04:00",
          "day": 1,
          "month": 10,
          "year": 2013
         },
         {
          "counts": 10,
          "data_type": "Organization",
          "date": "2013-11-01T00:00:00-04:00",
          "day": 1,
          "month": 11,
          "year": 2013
         },
         {
          "counts": 3,
          "data_type": "Organization",
          "date": "2013-12-01T00:00:00-05:00",
          "day": 1,
          "month": 12,
          "year": 2013
         },
         {
          "counts": 5,
          "data_type": "Organization",
          "date": "2014-01-01T00:00:00-05:00",
          "day": 1,
          "month": 1,
          "year": 2014
         },
         {
          "counts": 10,
          "data_type": "Organization",
          "date": "2014-02-01T00:00:00-05:00",
          "day": 1,
          "month": 2,
          "year": 2014
         },
         {
          "counts": 5,
          "data_type": "Organization",
          "date": "2014-03-01T00:00:00-05:00",
          "day": 1,
          "month": 3,
          "year": 2014
         },
         {
          "counts": 4,
          "data_type": "Organization",
          "date": "2014-04-01T00:00:00-04:00",
          "day": 1,
          "month": 4,
          "year": 2014
         },
         {
          "counts": 5,
          "data_type": "Organization",
          "date": "2014-05-01T00:00:00-04:00",
          "day": 1,
          "month": 5,
          "year": 2014
         },
         {
          "counts": 1,
          "data_type": "Organization",
          "date": "2014-06-01T00:00:00-04:00",
          "day": 1,
          "month": 6,
          "year": 2014
         },
         {
          "counts": 7,
          "data_type": "Organization",
          "date": "2014-07-01T00:00:00-04:00",
          "day": 1,
          "month": 7,
          "year": 2014
         },
         {
          "counts": 3,
          "data_type": "Organization",
          "date": "2014-08-01T00:00:00-04:00",
          "day": 1,
          "month": 8,
          "year": 2014
         },
         {
          "counts": 5,
          "data_type": "Organization",
          "date": "2014-09-01T00:00:00-04:00",
          "day": 1,
          "month": 9,
          "year": 2014
         },
         {
          "counts": 4,
          "data_type": "Organization",
          "date": "2014-10-01T00:00:00-04:00",
          "day": 1,
          "month": 10,
          "year": 2014
         },
         {
          "counts": 4,
          "data_type": "Organization",
          "date": "2014-11-01T00:00:00-04:00",
          "day": 1,
          "month": 11,
          "year": 2014
         },
         {
          "counts": 5,
          "data_type": "Organization",
          "date": "2014-12-01T00:00:00-05:00",
          "day": 1,
          "month": 12,
          "year": 2014
         },
         {
          "counts": 8,
          "data_type": "Organization",
          "date": "2015-01-01T00:00:00-05:00",
          "day": 1,
          "month": 1,
          "year": 2015
         },
         {
          "counts": 4,
          "data_type": "Organization",
          "date": "2015-02-01T00:00:00-05:00",
          "day": 1,
          "month": 2,
          "year": 2015
         },
         {
          "counts": 3,
          "data_type": "Organization",
          "date": "2015-03-01T00:00:00-05:00",
          "day": 1,
          "month": 3,
          "year": 2015
         },
         {
          "counts": 6,
          "data_type": "Organization",
          "date": "2015-04-01T00:00:00-04:00",
          "day": 1,
          "month": 4,
          "year": 2015
         },
         {
          "counts": 4,
          "data_type": "Organization",
          "date": "2015-05-01T00:00:00-04:00",
          "day": 1,
          "month": 5,
          "year": 2015
         },
         {
          "counts": 2,
          "data_type": "Organization",
          "date": "2015-06-01T00:00:00-04:00",
          "day": 1,
          "month": 6,
          "year": 2015
         },
         {
          "counts": 8,
          "data_type": "Organization",
          "date": "2015-07-01T00:00:00-04:00",
          "day": 1,
          "month": 7,
          "year": 2015
         },
         {
          "counts": 6,
          "data_type": "Organization",
          "date": "2015-08-01T00:00:00-04:00",
          "day": 1,
          "month": 8,
          "year": 2015
         },
         {
          "counts": 12,
          "data_type": "Organization",
          "date": "2015-09-01T00:00:00-04:00",
          "day": 1,
          "month": 9,
          "year": 2015
         },
         {
          "counts": 5,
          "data_type": "Organization",
          "date": "2015-10-01T00:00:00-04:00",
          "day": 1,
          "month": 10,
          "year": 2015
         },
         {
          "counts": 6,
          "data_type": "Organization",
          "date": "2015-11-01T00:00:00-04:00",
          "day": 1,
          "month": 11,
          "year": 2015
         },
         {
          "counts": 9,
          "data_type": "Organization",
          "date": "2015-12-01T00:00:00-05:00",
          "day": 1,
          "month": 12,
          "year": 2015
         },
         {
          "counts": 5,
          "data_type": "Organization",
          "date": "2016-01-01T00:00:00-05:00",
          "day": 1,
          "month": 1,
          "year": 2016
         },
         {
          "counts": 14,
          "data_type": "Organization",
          "date": "2016-02-01T00:00:00-05:00",
          "day": 1,
          "month": 2,
          "year": 2016
         },
         {
          "counts": 7,
          "data_type": "Organization",
          "date": "2016-03-01T00:00:00-05:00",
          "day": 1,
          "month": 3,
          "year": 2016
         },
         {
          "counts": 6,
          "data_type": "Organization",
          "date": "2016-04-01T00:00:00-04:00",
          "day": 1,
          "month": 4,
          "year": 2016
         },
         {
          "counts": 10,
          "data_type": "Organization",
          "date": "2016-05-01T00:00:00-04:00",
          "day": 1,
          "month": 5,
          "year": 2016
         },
         {
          "counts": 6,
          "data_type": "Organization",
          "date": "2016-06-01T00:00:00-04:00",
          "day": 1,
          "month": 6,
          "year": 2016
         },
         {
          "counts": 5,
          "data_type": "Organization",
          "date": "2016-07-01T00:00:00-04:00",
          "day": 1,
          "month": 7,
          "year": 2016
         },
         {
          "counts": 6,
          "data_type": "Organization",
          "date": "2016-08-01T00:00:00-04:00",
          "day": 1,
          "month": 8,
          "year": 2016
         },
         {
          "counts": 5,
          "data_type": "Organization",
          "date": "2016-09-01T00:00:00-04:00",
          "day": 1,
          "month": 9,
          "year": 2016
         },
         {
          "counts": 9,
          "data_type": "Organization",
          "date": "2016-10-01T00:00:00-04:00",
          "day": 1,
          "month": 10,
          "year": 2016
         },
         {
          "counts": 7,
          "data_type": "Organization",
          "date": "2016-11-01T00:00:00-04:00",
          "day": 1,
          "month": 11,
          "year": 2016
         },
         {
          "counts": 2,
          "data_type": "Organization",
          "date": "2016-12-01T00:00:00-05:00",
          "day": 1,
          "month": 12,
          "year": 2016
         },
         {
          "counts": 7,
          "data_type": "Organization",
          "date": "2017-01-01T00:00:00-05:00",
          "day": 1,
          "month": 1,
          "year": 2017
         },
         {
          "counts": 12,
          "data_type": "Organization",
          "date": "2017-02-01T00:00:00-05:00",
          "day": 1,
          "month": 2,
          "year": 2017
         },
         {
          "counts": 5,
          "data_type": "Organization",
          "date": "2017-03-01T00:00:00-05:00",
          "day": 1,
          "month": 3,
          "year": 2017
         },
         {
          "counts": 7,
          "data_type": "Organization",
          "date": "2017-04-01T00:00:00-04:00",
          "day": 1,
          "month": 4,
          "year": 2017
         },
         {
          "counts": 8,
          "data_type": "Organization",
          "date": "2017-05-01T00:00:00-04:00",
          "day": 1,
          "month": 5,
          "year": 2017
         },
         {
          "counts": 4,
          "data_type": "Organization",
          "date": "2017-06-01T00:00:00-04:00",
          "day": 1,
          "month": 6,
          "year": 2017
         },
         {
          "counts": 6,
          "data_type": "Organization",
          "date": "2017-07-01T00:00:00-04:00",
          "day": 1,
          "month": 7,
          "year": 2017
         },
         {
          "counts": 5,
          "data_type": "Organization",
          "date": "2017-08-01T00:00:00-04:00",
          "day": 1,
          "month": 8,
          "year": 2017
         },
         {
          "counts": 10,
          "data_type": "Organization",
          "date": "2017-09-01T00:00:00-04:00",
          "day": 1,
          "month": 9,
          "year": 2017
         },
         {
          "counts": 10,
          "data_type": "Organization",
          "date": "2017-10-01T00:00:00-04:00",
          "day": 1,
          "month": 10,
          "year": 2017
         },
         {
          "counts": 5,
          "data_type": "Organization",
          "date": "2017-11-01T00:00:00-04:00",
          "day": 1,
          "month": 11,
          "year": 2017
         },
         {
          "counts": 10,
          "data_type": "Organization",
          "date": "2017-12-01T00:00:00-05:00",
          "day": 1,
          "month": 12,
          "year": 2017
         },
         {
          "counts": 3,
          "data_type": "Organization",
          "date": "2018-01-01T00:00:00-05:00",
          "day": 1,
          "month": 1,
          "year": 2018
         },
         {
          "counts": 6,
          "data_type": "Organization",
          "date": "2018-02-01T00:00:00-05:00",
          "day": 1,
          "month": 2,
          "year": 2018
         },
         {
          "counts": 5,
          "data_type": "Organization",
          "date": "2018-03-01T00:00:00-05:00",
          "day": 1,
          "month": 3,
          "year": 2018
         },
         {
          "counts": 7,
          "data_type": "Organization",
          "date": "2018-04-01T00:00:00-04:00",
          "day": 1,
          "month": 4,
          "year": 2018
         },
         {
          "counts": 5,
          "data_type": "Organization",
          "date": "2018-05-01T00:00:00-04:00",
          "day": 1,
          "month": 5,
          "year": 2018
         },
         {
          "counts": 10,
          "data_type": "Organization",
          "date": "2018-06-01T00:00:00-04:00",
          "day": 1,
          "month": 6,
          "year": 2018
         },
         {
          "counts": 7,
          "data_type": "Organization",
          "date": "2018-07-01T00:00:00-04:00",
          "day": 1,
          "month": 7,
          "year": 2018
         },
         {
          "counts": 9,
          "data_type": "Organization",
          "date": "2018-08-01T00:00:00-04:00",
          "day": 1,
          "month": 8,
          "year": 2018
         },
         {
          "counts": 5,
          "data_type": "Organization",
          "date": "2018-09-01T00:00:00-04:00",
          "day": 1,
          "month": 9,
          "year": 2018
         },
         {
          "counts": 3,
          "data_type": "Organization",
          "date": "2018-10-01T00:00:00-04:00",
          "day": 1,
          "month": 10,
          "year": 2018
         },
         {
          "counts": 5,
          "data_type": "Organization",
          "date": "2018-11-01T00:00:00-04:00",
          "day": 1,
          "month": 11,
          "year": 2018
         },
         {
          "counts": 2,
          "data_type": "Organization",
          "date": "2018-12-01T00:00:00-05:00",
          "day": 1,
          "month": 12,
          "year": 2018
         },
         {
          "counts": 8,
          "data_type": "Organization",
          "date": "2019-01-01T00:00:00-05:00",
          "day": 1,
          "month": 1,
          "year": 2019
         },
         {
          "counts": 6,
          "data_type": "Organization",
          "date": "2019-02-01T00:00:00-05:00",
          "day": 1,
          "month": 2,
          "year": 2019
         },
         {
          "counts": 8,
          "data_type": "Organization",
          "date": "2019-03-01T00:00:00-05:00",
          "day": 1,
          "month": 3,
          "year": 2019
         },
         {
          "counts": 7,
          "data_type": "Organization",
          "date": "2019-04-01T00:00:00-04:00",
          "day": 1,
          "month": 4,
          "year": 2019
         },
         {
          "counts": 7,
          "data_type": "Organization",
          "date": "2019-05-01T00:00:00-04:00",
          "day": 1,
          "month": 5,
          "year": 2019
         },
         {
          "counts": 3,
          "data_type": "Organization",
          "date": "2019-06-01T00:00:00-04:00",
          "day": 1,
          "month": 6,
          "year": 2019
         },
         {
          "counts": 12,
          "data_type": "Organization",
          "date": "2019-07-01T00:00:00-04:00",
          "day": 1,
          "month": 7,
          "year": 2019
         },
         {
          "counts": 1,
          "data_type": "Organization",
          "date": "2019-08-01T00:00:00-04:00",
          "day": 1,
          "month": 8,
          "year": 2019
         },
         {
          "counts": 8,
          "data_type": "Organization",
          "date": "2019-09-01T00:00:00-04:00",
          "day": 1,
          "month": 9,
          "year": 2019
         },
         {
          "counts": 7,
          "data_type": "Organization",
          "date": "2019-10-01T00:00:00-04:00",
          "day": 1,
          "month": 10,
          "year": 2019
         },
         {
          "counts": 5,
          "data_type": "Organization",
          "date": "2019-11-01T00:00:00-04:00",
          "day": 1,
          "month": 11,
          "year": 2019
         },
         {
          "counts": 1,
          "data_type": "Organization",
          "date": "2019-12-01T00:00:00-05:00",
          "day": 1,
          "month": 12,
          "year": 2019
         },
         {
          "counts": 3,
          "data_type": "Organization",
          "date": "2020-01-01T00:00:00-05:00",
          "day": 1,
          "month": 1,
          "year": 2020
         },
         {
          "counts": 4,
          "data_type": "Organization",
          "date": "2020-02-01T00:00:00-05:00",
          "day": 1,
          "month": 2,
          "year": 2020
         },
         {
          "counts": 12,
          "data_type": "Organization",
          "date": "2020-03-01T00:00:00-05:00",
          "day": 1,
          "month": 3,
          "year": 2020
         },
         {
          "counts": 9,
          "data_type": "Organization",
          "date": "2020-04-01T00:00:00-04:00",
          "day": 1,
          "month": 4,
          "year": 2020
         },
         {
          "counts": 8,
          "data_type": "Organization",
          "date": "2020-05-01T00:00:00-04:00",
          "day": 1,
          "month": 5,
          "year": 2020
         },
         {
          "counts": 7,
          "data_type": "Organization",
          "date": "2020-06-01T00:00:00-04:00",
          "day": 1,
          "month": 6,
          "year": 2020
         },
         {
          "counts": 8,
          "data_type": "Organization",
          "date": "2020-07-01T00:00:00-04:00",
          "day": 1,
          "month": 7,
          "year": 2020
         },
         {
          "counts": 5,
          "data_type": "Organization",
          "date": "2020-08-01T00:00:00-04:00",
          "day": 1,
          "month": 8,
          "year": 2020
         },
         {
          "counts": 8,
          "data_type": "Organization",
          "date": "2020-09-01T00:00:00-04:00",
          "day": 1,
          "month": 9,
          "year": 2020
         },
         {
          "counts": 6,
          "data_type": "Organization",
          "date": "2020-10-01T00:00:00-04:00",
          "day": 1,
          "month": 10,
          "year": 2020
         },
         {
          "counts": 5,
          "data_type": "Organization",
          "date": "2020-11-01T00:00:00-04:00",
          "day": 1,
          "month": 11,
          "year": 2020
         },
         {
          "counts": 7,
          "data_type": "Organization",
          "date": "2020-12-01T00:00:00-05:00",
          "day": 1,
          "month": 12,
          "year": 2020
         },
         {
          "counts": 7,
          "data_type": "Organization",
          "date": "2021-01-01T00:00:00-05:00",
          "day": 1,
          "month": 1,
          "year": 2021
         },
         {
          "counts": 12,
          "data_type": "Organization",
          "date": "2021-02-01T00:00:00-05:00",
          "day": 1,
          "month": 2,
          "year": 2021
         },
         {
          "counts": 8,
          "data_type": "Organization",
          "date": "2021-03-01T00:00:00-05:00",
          "day": 1,
          "month": 3,
          "year": 2021
         },
         {
          "counts": 7,
          "data_type": "Organization",
          "date": "2021-04-01T00:00:00-04:00",
          "day": 1,
          "month": 4,
          "year": 2021
         },
         {
          "counts": 5,
          "data_type": "Organization",
          "date": "2021-05-01T00:00:00-04:00",
          "day": 1,
          "month": 5,
          "year": 2021
         },
         {
          "counts": 4,
          "data_type": "Organization",
          "date": "2021-06-01T00:00:00-04:00",
          "day": 1,
          "month": 6,
          "year": 2021
         },
         {
          "counts": 3,
          "data_type": "Organization",
          "date": "2021-07-01T00:00:00-04:00",
          "day": 1,
          "month": 7,
          "year": 2021
         },
         {
          "counts": 8,
          "data_type": "Organization",
          "date": "2021-08-01T00:00:00-04:00",
          "day": 1,
          "month": 8,
          "year": 2021
         },
         {
          "counts": 2,
          "data_type": "Organization",
          "date": "2021-09-01T00:00:00-04:00",
          "day": 1,
          "month": 9,
          "year": 2021
         },
         {
          "counts": 7,
          "data_type": "Organization",
          "date": "2021-10-01T00:00:00-04:00",
          "day": 1,
          "month": 10,
          "year": 2021
         },
         {
          "counts": 3,
          "data_type": "Organization",
          "date": "2021-11-01T00:00:00-04:00",
          "day": 1,
          "month": 11,
          "year": 2021
         },
         {
          "counts": 6,
          "data_type": "Organization",
          "date": "2021-12-01T00:00:00-05:00",
          "day": 1,
          "month": 12,
          "year": 2021
         },
         {
          "counts": 6,
          "data_type": "Organization",
          "date": "2022-01-01T00:00:00-05:00",
          "day": 1,
          "month": 1,
          "year": 2022
         },
         {
          "counts": 5,
          "data_type": "Organization",
          "date": "2022-02-01T00:00:00-05:00",
          "day": 1,
          "month": 2,
          "year": 2022
         },
         {
          "counts": 4,
          "data_type": "Organization",
          "date": "2022-03-01T00:00:00-05:00",
          "day": 1,
          "month": 3,
          "year": 2022
         },
         {
          "counts": 7,
          "data_type": "Organization",
          "date": "2022-04-01T00:00:00-04:00",
          "day": 1,
          "month": 4,
          "year": 2022
         },
         {
          "counts": 7,
          "data_type": "Organization",
          "date": "2022-05-01T00:00:00-04:00",
          "day": 1,
          "month": 5,
          "year": 2022
         },
         {
          "counts": 5,
          "data_type": "Organization",
          "date": "2022-06-01T00:00:00-04:00",
          "day": 1,
          "month": 6,
          "year": 2022
         },
         {
          "counts": 3,
          "data_type": "Organization",
          "date": "2022-07-01T00:00:00-04:00",
          "day": 1,
          "month": 7,
          "year": 2022
         },
         {
          "counts": 4,
          "data_type": "Organization",
          "date": "2022-08-01T00:00:00-04:00",
          "day": 1,
          "month": 8,
          "year": 2022
         },
         {
          "counts": 5,
          "data_type": "Organization",
          "date": "2022-09-01T00:00:00-04:00",
          "day": 1,
          "month": 9,
          "year": 2022
         },
         {
          "counts": 1,
          "data_type": "Organization",
          "date": "2022-10-01T00:00:00-04:00",
          "day": 1,
          "month": 10,
          "year": 2022
         },
         {
          "counts": 3,
          "data_type": "Organization",
          "date": "2022-11-01T00:00:00-04:00",
          "day": 1,
          "month": 11,
          "year": 2022
         },
         {
          "counts": 3,
          "data_type": "Organization",
          "date": "2022-12-01T00:00:00-05:00",
          "day": 1,
          "month": 12,
          "year": 2022
         },
         {
          "counts": 2,
          "data_type": "Organization",
          "date": "2023-01-01T00:00:00-05:00",
          "day": 1,
          "month": 1,
          "year": 2023
         },
         {
          "counts": 3,
          "data_type": "Organization",
          "date": "2023-02-01T00:00:00-05:00",
          "day": 1,
          "month": 2,
          "year": 2023
         },
         {
          "counts": 2,
          "data_type": "Organization",
          "date": "2023-03-01T00:00:00-05:00",
          "day": 1,
          "month": 3,
          "year": 2023
         },
         {
          "counts": 2,
          "data_type": "Organization",
          "date": "2023-04-01T00:00:00-04:00",
          "day": 1,
          "month": 4,
          "year": 2023
         },
         {
          "counts": 1,
          "data_type": "Organization",
          "date": "2023-05-01T00:00:00-04:00",
          "day": 1,
          "month": 5,
          "year": 2023
         },
         {
          "counts": 2,
          "data_type": "Repository",
          "date": "2008-03-01T00:00:00-05:00",
          "day": 1,
          "month": 3,
          "year": 2008
         },
         {
          "counts": 2,
          "data_type": "Repository",
          "date": "2008-06-01T00:00:00-04:00",
          "day": 1,
          "month": 6,
          "year": 2008
         },
         {
          "counts": 7,
          "data_type": "Repository",
          "date": "2008-08-01T00:00:00-04:00",
          "day": 1,
          "month": 8,
          "year": 2008
         },
         {
          "counts": 2,
          "data_type": "Repository",
          "date": "2008-09-01T00:00:00-04:00",
          "day": 1,
          "month": 9,
          "year": 2008
         },
         {
          "counts": 3,
          "data_type": "Repository",
          "date": "2008-10-01T00:00:00-04:00",
          "day": 1,
          "month": 10,
          "year": 2008
         },
         {
          "counts": 3,
          "data_type": "Repository",
          "date": "2008-11-01T00:00:00-04:00",
          "day": 1,
          "month": 11,
          "year": 2008
         },
         {
          "counts": 3,
          "data_type": "Repository",
          "date": "2009-01-01T00:00:00-05:00",
          "day": 1,
          "month": 1,
          "year": 2009
         },
         {
          "counts": 4,
          "data_type": "Repository",
          "date": "2009-02-01T00:00:00-05:00",
          "day": 1,
          "month": 2,
          "year": 2009
         },
         {
          "counts": 4,
          "data_type": "Repository",
          "date": "2009-03-01T00:00:00-05:00",
          "day": 1,
          "month": 3,
          "year": 2009
         },
         {
          "counts": 5,
          "data_type": "Repository",
          "date": "2009-04-01T00:00:00-04:00",
          "day": 1,
          "month": 4,
          "year": 2009
         },
         {
          "counts": 1,
          "data_type": "Repository",
          "date": "2009-07-01T00:00:00-04:00",
          "day": 1,
          "month": 7,
          "year": 2009
         },
         {
          "counts": 2,
          "data_type": "Repository",
          "date": "2009-08-01T00:00:00-04:00",
          "day": 1,
          "month": 8,
          "year": 2009
         },
         {
          "counts": 8,
          "data_type": "Repository",
          "date": "2009-09-01T00:00:00-04:00",
          "day": 1,
          "month": 9,
          "year": 2009
         },
         {
          "counts": 5,
          "data_type": "Repository",
          "date": "2009-10-01T00:00:00-04:00",
          "day": 1,
          "month": 10,
          "year": 2009
         },
         {
          "counts": 8,
          "data_type": "Repository",
          "date": "2009-11-01T00:00:00-04:00",
          "day": 1,
          "month": 11,
          "year": 2009
         },
         {
          "counts": 5,
          "data_type": "Repository",
          "date": "2009-12-01T00:00:00-05:00",
          "day": 1,
          "month": 12,
          "year": 2009
         },
         {
          "counts": 7,
          "data_type": "Repository",
          "date": "2010-01-01T00:00:00-05:00",
          "day": 1,
          "month": 1,
          "year": 2010
         },
         {
          "counts": 4,
          "data_type": "Repository",
          "date": "2010-02-01T00:00:00-05:00",
          "day": 1,
          "month": 2,
          "year": 2010
         },
         {
          "counts": 10,
          "data_type": "Repository",
          "date": "2010-03-01T00:00:00-05:00",
          "day": 1,
          "month": 3,
          "year": 2010
         },
         {
          "counts": 5,
          "data_type": "Repository",
          "date": "2010-04-01T00:00:00-04:00",
          "day": 1,
          "month": 4,
          "year": 2010
         },
         {
          "counts": 10,
          "data_type": "Repository",
          "date": "2010-05-01T00:00:00-04:00",
          "day": 1,
          "month": 5,
          "year": 2010
         },
         {
          "counts": 10,
          "data_type": "Repository",
          "date": "2010-06-01T00:00:00-04:00",
          "day": 1,
          "month": 6,
          "year": 2010
         },
         {
          "counts": 11,
          "data_type": "Repository",
          "date": "2010-07-01T00:00:00-04:00",
          "day": 1,
          "month": 7,
          "year": 2010
         },
         {
          "counts": 13,
          "data_type": "Repository",
          "date": "2010-08-01T00:00:00-04:00",
          "day": 1,
          "month": 8,
          "year": 2010
         },
         {
          "counts": 14,
          "data_type": "Repository",
          "date": "2010-09-01T00:00:00-04:00",
          "day": 1,
          "month": 9,
          "year": 2010
         },
         {
          "counts": 8,
          "data_type": "Repository",
          "date": "2010-10-01T00:00:00-04:00",
          "day": 1,
          "month": 10,
          "year": 2010
         },
         {
          "counts": 11,
          "data_type": "Repository",
          "date": "2010-11-01T00:00:00-04:00",
          "day": 1,
          "month": 11,
          "year": 2010
         },
         {
          "counts": 15,
          "data_type": "Repository",
          "date": "2010-12-01T00:00:00-05:00",
          "day": 1,
          "month": 12,
          "year": 2010
         },
         {
          "counts": 15,
          "data_type": "Repository",
          "date": "2011-01-01T00:00:00-05:00",
          "day": 1,
          "month": 1,
          "year": 2011
         },
         {
          "counts": 14,
          "data_type": "Repository",
          "date": "2011-02-01T00:00:00-05:00",
          "day": 1,
          "month": 2,
          "year": 2011
         },
         {
          "counts": 9,
          "data_type": "Repository",
          "date": "2011-03-01T00:00:00-05:00",
          "day": 1,
          "month": 3,
          "year": 2011
         },
         {
          "counts": 25,
          "data_type": "Repository",
          "date": "2011-04-01T00:00:00-04:00",
          "day": 1,
          "month": 4,
          "year": 2011
         },
         {
          "counts": 10,
          "data_type": "Repository",
          "date": "2011-05-01T00:00:00-04:00",
          "day": 1,
          "month": 5,
          "year": 2011
         },
         {
          "counts": 30,
          "data_type": "Repository",
          "date": "2011-06-01T00:00:00-04:00",
          "day": 1,
          "month": 6,
          "year": 2011
         },
         {
          "counts": 21,
          "data_type": "Repository",
          "date": "2011-07-01T00:00:00-04:00",
          "day": 1,
          "month": 7,
          "year": 2011
         },
         {
          "counts": 31,
          "data_type": "Repository",
          "date": "2011-08-01T00:00:00-04:00",
          "day": 1,
          "month": 8,
          "year": 2011
         },
         {
          "counts": 25,
          "data_type": "Repository",
          "date": "2011-09-01T00:00:00-04:00",
          "day": 1,
          "month": 9,
          "year": 2011
         },
         {
          "counts": 28,
          "data_type": "Repository",
          "date": "2011-10-01T00:00:00-04:00",
          "day": 1,
          "month": 10,
          "year": 2011
         },
         {
          "counts": 32,
          "data_type": "Repository",
          "date": "2011-11-01T00:00:00-04:00",
          "day": 1,
          "month": 11,
          "year": 2011
         },
         {
          "counts": 19,
          "data_type": "Repository",
          "date": "2011-12-01T00:00:00-05:00",
          "day": 1,
          "month": 12,
          "year": 2011
         },
         {
          "counts": 58,
          "data_type": "Repository",
          "date": "2012-01-01T00:00:00-05:00",
          "day": 1,
          "month": 1,
          "year": 2012
         },
         {
          "counts": 44,
          "data_type": "Repository",
          "date": "2012-02-01T00:00:00-05:00",
          "day": 1,
          "month": 2,
          "year": 2012
         },
         {
          "counts": 42,
          "data_type": "Repository",
          "date": "2012-03-01T00:00:00-05:00",
          "day": 1,
          "month": 3,
          "year": 2012
         },
         {
          "counts": 39,
          "data_type": "Repository",
          "date": "2012-04-01T00:00:00-04:00",
          "day": 1,
          "month": 4,
          "year": 2012
         },
         {
          "counts": 46,
          "data_type": "Repository",
          "date": "2012-05-01T00:00:00-04:00",
          "day": 1,
          "month": 5,
          "year": 2012
         },
         {
          "counts": 70,
          "data_type": "Repository",
          "date": "2012-06-01T00:00:00-04:00",
          "day": 1,
          "month": 6,
          "year": 2012
         },
         {
          "counts": 55,
          "data_type": "Repository",
          "date": "2012-07-01T00:00:00-04:00",
          "day": 1,
          "month": 7,
          "year": 2012
         },
         {
          "counts": 43,
          "data_type": "Repository",
          "date": "2012-08-01T00:00:00-04:00",
          "day": 1,
          "month": 8,
          "year": 2012
         },
         {
          "counts": 55,
          "data_type": "Repository",
          "date": "2012-09-01T00:00:00-04:00",
          "day": 1,
          "month": 9,
          "year": 2012
         },
         {
          "counts": 45,
          "data_type": "Repository",
          "date": "2012-10-01T00:00:00-04:00",
          "day": 1,
          "month": 10,
          "year": 2012
         },
         {
          "counts": 55,
          "data_type": "Repository",
          "date": "2012-11-01T00:00:00-04:00",
          "day": 1,
          "month": 11,
          "year": 2012
         },
         {
          "counts": 46,
          "data_type": "Repository",
          "date": "2012-12-01T00:00:00-05:00",
          "day": 1,
          "month": 12,
          "year": 2012
         },
         {
          "counts": 60,
          "data_type": "Repository",
          "date": "2013-01-01T00:00:00-05:00",
          "day": 1,
          "month": 1,
          "year": 2013
         },
         {
          "counts": 55,
          "data_type": "Repository",
          "date": "2013-02-01T00:00:00-05:00",
          "day": 1,
          "month": 2,
          "year": 2013
         },
         {
          "counts": 73,
          "data_type": "Repository",
          "date": "2013-03-01T00:00:00-05:00",
          "day": 1,
          "month": 3,
          "year": 2013
         },
         {
          "counts": 75,
          "data_type": "Repository",
          "date": "2013-04-01T00:00:00-04:00",
          "day": 1,
          "month": 4,
          "year": 2013
         },
         {
          "counts": 57,
          "data_type": "Repository",
          "date": "2013-05-01T00:00:00-04:00",
          "day": 1,
          "month": 5,
          "year": 2013
         },
         {
          "counts": 88,
          "data_type": "Repository",
          "date": "2013-06-01T00:00:00-04:00",
          "day": 1,
          "month": 6,
          "year": 2013
         },
         {
          "counts": 99,
          "data_type": "Repository",
          "date": "2013-07-01T00:00:00-04:00",
          "day": 1,
          "month": 7,
          "year": 2013
         },
         {
          "counts": 100,
          "data_type": "Repository",
          "date": "2013-08-01T00:00:00-04:00",
          "day": 1,
          "month": 8,
          "year": 2013
         },
         {
          "counts": 74,
          "data_type": "Repository",
          "date": "2013-09-01T00:00:00-04:00",
          "day": 1,
          "month": 9,
          "year": 2013
         },
         {
          "counts": 89,
          "data_type": "Repository",
          "date": "2013-10-01T00:00:00-04:00",
          "day": 1,
          "month": 10,
          "year": 2013
         },
         {
          "counts": 106,
          "data_type": "Repository",
          "date": "2013-11-01T00:00:00-04:00",
          "day": 1,
          "month": 11,
          "year": 2013
         },
         {
          "counts": 101,
          "data_type": "Repository",
          "date": "2013-12-01T00:00:00-05:00",
          "day": 1,
          "month": 12,
          "year": 2013
         },
         {
          "counts": 98,
          "data_type": "Repository",
          "date": "2014-01-01T00:00:00-05:00",
          "day": 1,
          "month": 1,
          "year": 2014
         },
         {
          "counts": 107,
          "data_type": "Repository",
          "date": "2014-02-01T00:00:00-05:00",
          "day": 1,
          "month": 2,
          "year": 2014
         },
         {
          "counts": 122,
          "data_type": "Repository",
          "date": "2014-03-01T00:00:00-05:00",
          "day": 1,
          "month": 3,
          "year": 2014
         },
         {
          "counts": 134,
          "data_type": "Repository",
          "date": "2014-04-01T00:00:00-04:00",
          "day": 1,
          "month": 4,
          "year": 2014
         },
         {
          "counts": 118,
          "data_type": "Repository",
          "date": "2014-05-01T00:00:00-04:00",
          "day": 1,
          "month": 5,
          "year": 2014
         },
         {
          "counts": 128,
          "data_type": "Repository",
          "date": "2014-06-01T00:00:00-04:00",
          "day": 1,
          "month": 6,
          "year": 2014
         },
         {
          "counts": 112,
          "data_type": "Repository",
          "date": "2014-07-01T00:00:00-04:00",
          "day": 1,
          "month": 7,
          "year": 2014
         },
         {
          "counts": 135,
          "data_type": "Repository",
          "date": "2014-08-01T00:00:00-04:00",
          "day": 1,
          "month": 8,
          "year": 2014
         },
         {
          "counts": 180,
          "data_type": "Repository",
          "date": "2014-09-01T00:00:00-04:00",
          "day": 1,
          "month": 9,
          "year": 2014
         },
         {
          "counts": 160,
          "data_type": "Repository",
          "date": "2014-10-01T00:00:00-04:00",
          "day": 1,
          "month": 10,
          "year": 2014
         },
         {
          "counts": 178,
          "data_type": "Repository",
          "date": "2014-11-01T00:00:00-04:00",
          "day": 1,
          "month": 11,
          "year": 2014
         },
         {
          "counts": 127,
          "data_type": "Repository",
          "date": "2014-12-01T00:00:00-05:00",
          "day": 1,
          "month": 12,
          "year": 2014
         },
         {
          "counts": 196,
          "data_type": "Repository",
          "date": "2015-01-01T00:00:00-05:00",
          "day": 1,
          "month": 1,
          "year": 2015
         },
         {
          "counts": 250,
          "data_type": "Repository",
          "date": "2015-02-01T00:00:00-05:00",
          "day": 1,
          "month": 2,
          "year": 2015
         },
         {
          "counts": 229,
          "data_type": "Repository",
          "date": "2015-03-01T00:00:00-05:00",
          "day": 1,
          "month": 3,
          "year": 2015
         },
         {
          "counts": 197,
          "data_type": "Repository",
          "date": "2015-04-01T00:00:00-04:00",
          "day": 1,
          "month": 4,
          "year": 2015
         },
         {
          "counts": 217,
          "data_type": "Repository",
          "date": "2015-05-01T00:00:00-04:00",
          "day": 1,
          "month": 5,
          "year": 2015
         },
         {
          "counts": 237,
          "data_type": "Repository",
          "date": "2015-06-01T00:00:00-04:00",
          "day": 1,
          "month": 6,
          "year": 2015
         },
         {
          "counts": 226,
          "data_type": "Repository",
          "date": "2015-07-01T00:00:00-04:00",
          "day": 1,
          "month": 7,
          "year": 2015
         },
         {
          "counts": 212,
          "data_type": "Repository",
          "date": "2015-08-01T00:00:00-04:00",
          "day": 1,
          "month": 8,
          "year": 2015
         },
         {
          "counts": 206,
          "data_type": "Repository",
          "date": "2015-09-01T00:00:00-04:00",
          "day": 1,
          "month": 9,
          "year": 2015
         },
         {
          "counts": 282,
          "data_type": "Repository",
          "date": "2015-10-01T00:00:00-04:00",
          "day": 1,
          "month": 10,
          "year": 2015
         },
         {
          "counts": 271,
          "data_type": "Repository",
          "date": "2015-11-01T00:00:00-04:00",
          "day": 1,
          "month": 11,
          "year": 2015
         },
         {
          "counts": 249,
          "data_type": "Repository",
          "date": "2015-12-01T00:00:00-05:00",
          "day": 1,
          "month": 12,
          "year": 2015
         },
         {
          "counts": 292,
          "data_type": "Repository",
          "date": "2016-01-01T00:00:00-05:00",
          "day": 1,
          "month": 1,
          "year": 2016
         },
         {
          "counts": 331,
          "data_type": "Repository",
          "date": "2016-02-01T00:00:00-05:00",
          "day": 1,
          "month": 2,
          "year": 2016
         },
         {
          "counts": 349,
          "data_type": "Repository",
          "date": "2016-03-01T00:00:00-05:00",
          "day": 1,
          "month": 3,
          "year": 2016
         },
         {
          "counts": 238,
          "data_type": "Repository",
          "date": "2016-04-01T00:00:00-04:00",
          "day": 1,
          "month": 4,
          "year": 2016
         },
         {
          "counts": 288,
          "data_type": "Repository",
          "date": "2016-05-01T00:00:00-04:00",
          "day": 1,
          "month": 5,
          "year": 2016
         },
         {
          "counts": 359,
          "data_type": "Repository",
          "date": "2016-06-01T00:00:00-04:00",
          "day": 1,
          "month": 6,
          "year": 2016
         },
         {
          "counts": 310,
          "data_type": "Repository",
          "date": "2016-07-01T00:00:00-04:00",
          "day": 1,
          "month": 7,
          "year": 2016
         },
         {
          "counts": 309,
          "data_type": "Repository",
          "date": "2016-08-01T00:00:00-04:00",
          "day": 1,
          "month": 8,
          "year": 2016
         },
         {
          "counts": 359,
          "data_type": "Repository",
          "date": "2016-09-01T00:00:00-04:00",
          "day": 1,
          "month": 9,
          "year": 2016
         },
         {
          "counts": 362,
          "data_type": "Repository",
          "date": "2016-10-01T00:00:00-04:00",
          "day": 1,
          "month": 10,
          "year": 2016
         },
         {
          "counts": 352,
          "data_type": "Repository",
          "date": "2016-11-01T00:00:00-04:00",
          "day": 1,
          "month": 11,
          "year": 2016
         },
         {
          "counts": 275,
          "data_type": "Repository",
          "date": "2016-12-01T00:00:00-05:00",
          "day": 1,
          "month": 12,
          "year": 2016
         },
         {
          "counts": 375,
          "data_type": "Repository",
          "date": "2017-01-01T00:00:00-05:00",
          "day": 1,
          "month": 1,
          "year": 2017
         },
         {
          "counts": 456,
          "data_type": "Repository",
          "date": "2017-02-01T00:00:00-05:00",
          "day": 1,
          "month": 2,
          "year": 2017
         },
         {
          "counts": 479,
          "data_type": "Repository",
          "date": "2017-03-01T00:00:00-05:00",
          "day": 1,
          "month": 3,
          "year": 2017
         },
         {
          "counts": 353,
          "data_type": "Repository",
          "date": "2017-04-01T00:00:00-04:00",
          "day": 1,
          "month": 4,
          "year": 2017
         },
         {
          "counts": 330,
          "data_type": "Repository",
          "date": "2017-05-01T00:00:00-04:00",
          "day": 1,
          "month": 5,
          "year": 2017
         },
         {
          "counts": 358,
          "data_type": "Repository",
          "date": "2017-06-01T00:00:00-04:00",
          "day": 1,
          "month": 6,
          "year": 2017
         },
         {
          "counts": 457,
          "data_type": "Repository",
          "date": "2017-07-01T00:00:00-04:00",
          "day": 1,
          "month": 7,
          "year": 2017
         },
         {
          "counts": 364,
          "data_type": "Repository",
          "date": "2017-08-01T00:00:00-04:00",
          "day": 1,
          "month": 8,
          "year": 2017
         },
         {
          "counts": 424,
          "data_type": "Repository",
          "date": "2017-09-01T00:00:00-04:00",
          "day": 1,
          "month": 9,
          "year": 2017
         },
         {
          "counts": 393,
          "data_type": "Repository",
          "date": "2017-10-01T00:00:00-04:00",
          "day": 1,
          "month": 10,
          "year": 2017
         },
         {
          "counts": 403,
          "data_type": "Repository",
          "date": "2017-11-01T00:00:00-04:00",
          "day": 1,
          "month": 11,
          "year": 2017
         },
         {
          "counts": 284,
          "data_type": "Repository",
          "date": "2017-12-01T00:00:00-05:00",
          "day": 1,
          "month": 12,
          "year": 2017
         },
         {
          "counts": 409,
          "data_type": "Repository",
          "date": "2018-01-01T00:00:00-05:00",
          "day": 1,
          "month": 1,
          "year": 2018
         },
         {
          "counts": 388,
          "data_type": "Repository",
          "date": "2018-02-01T00:00:00-05:00",
          "day": 1,
          "month": 2,
          "year": 2018
         },
         {
          "counts": 487,
          "data_type": "Repository",
          "date": "2018-03-01T00:00:00-05:00",
          "day": 1,
          "month": 3,
          "year": 2018
         },
         {
          "counts": 363,
          "data_type": "Repository",
          "date": "2018-04-01T00:00:00-04:00",
          "day": 1,
          "month": 4,
          "year": 2018
         },
         {
          "counts": 451,
          "data_type": "Repository",
          "date": "2018-05-01T00:00:00-04:00",
          "day": 1,
          "month": 5,
          "year": 2018
         },
         {
          "counts": 429,
          "data_type": "Repository",
          "date": "2018-06-01T00:00:00-04:00",
          "day": 1,
          "month": 6,
          "year": 2018
         },
         {
          "counts": 351,
          "data_type": "Repository",
          "date": "2018-07-01T00:00:00-04:00",
          "day": 1,
          "month": 7,
          "year": 2018
         },
         {
          "counts": 330,
          "data_type": "Repository",
          "date": "2018-08-01T00:00:00-04:00",
          "day": 1,
          "month": 8,
          "year": 2018
         },
         {
          "counts": 395,
          "data_type": "Repository",
          "date": "2018-09-01T00:00:00-04:00",
          "day": 1,
          "month": 9,
          "year": 2018
         },
         {
          "counts": 442,
          "data_type": "Repository",
          "date": "2018-10-01T00:00:00-04:00",
          "day": 1,
          "month": 10,
          "year": 2018
         },
         {
          "counts": 404,
          "data_type": "Repository",
          "date": "2018-11-01T00:00:00-04:00",
          "day": 1,
          "month": 11,
          "year": 2018
         },
         {
          "counts": 312,
          "data_type": "Repository",
          "date": "2018-12-01T00:00:00-05:00",
          "day": 1,
          "month": 12,
          "year": 2018
         },
         {
          "counts": 391,
          "data_type": "Repository",
          "date": "2019-01-01T00:00:00-05:00",
          "day": 1,
          "month": 1,
          "year": 2019
         },
         {
          "counts": 367,
          "data_type": "Repository",
          "date": "2019-02-01T00:00:00-05:00",
          "day": 1,
          "month": 2,
          "year": 2019
         },
         {
          "counts": 450,
          "data_type": "Repository",
          "date": "2019-03-01T00:00:00-05:00",
          "day": 1,
          "month": 3,
          "year": 2019
         },
         {
          "counts": 472,
          "data_type": "Repository",
          "date": "2019-04-01T00:00:00-04:00",
          "day": 1,
          "month": 4,
          "year": 2019
         },
         {
          "counts": 440,
          "data_type": "Repository",
          "date": "2019-05-01T00:00:00-04:00",
          "day": 1,
          "month": 5,
          "year": 2019
         },
         {
          "counts": 167,
          "data_type": "Repository",
          "date": "2019-06-01T00:00:00-04:00",
          "day": 1,
          "month": 6,
          "year": 2019
         },
         {
          "counts": 184,
          "data_type": "Repository",
          "date": "2019-07-01T00:00:00-04:00",
          "day": 1,
          "month": 7,
          "year": 2019
         },
         {
          "counts": 335,
          "data_type": "Repository",
          "date": "2019-08-01T00:00:00-04:00",
          "day": 1,
          "month": 8,
          "year": 2019
         },
         {
          "counts": 394,
          "data_type": "Repository",
          "date": "2019-09-01T00:00:00-04:00",
          "day": 1,
          "month": 9,
          "year": 2019
         },
         {
          "counts": 393,
          "data_type": "Repository",
          "date": "2019-10-01T00:00:00-04:00",
          "day": 1,
          "month": 10,
          "year": 2019
         },
         {
          "counts": 381,
          "data_type": "Repository",
          "date": "2019-11-01T00:00:00-04:00",
          "day": 1,
          "month": 11,
          "year": 2019
         },
         {
          "counts": 335,
          "data_type": "Repository",
          "date": "2019-12-01T00:00:00-05:00",
          "day": 1,
          "month": 12,
          "year": 2019
         },
         {
          "counts": 440,
          "data_type": "Repository",
          "date": "2020-01-01T00:00:00-05:00",
          "day": 1,
          "month": 1,
          "year": 2020
         },
         {
          "counts": 427,
          "data_type": "Repository",
          "date": "2020-02-01T00:00:00-05:00",
          "day": 1,
          "month": 2,
          "year": 2020
         },
         {
          "counts": 501,
          "data_type": "Repository",
          "date": "2020-03-01T00:00:00-05:00",
          "day": 1,
          "month": 3,
          "year": 2020
         },
         {
          "counts": 475,
          "data_type": "Repository",
          "date": "2020-04-01T00:00:00-04:00",
          "day": 1,
          "month": 4,
          "year": 2020
         },
         {
          "counts": 581,
          "data_type": "Repository",
          "date": "2020-05-01T00:00:00-04:00",
          "day": 1,
          "month": 5,
          "year": 2020
         },
         {
          "counts": 494,
          "data_type": "Repository",
          "date": "2020-06-01T00:00:00-04:00",
          "day": 1,
          "month": 6,
          "year": 2020
         },
         {
          "counts": 384,
          "data_type": "Repository",
          "date": "2020-07-01T00:00:00-04:00",
          "day": 1,
          "month": 7,
          "year": 2020
         },
         {
          "counts": 417,
          "data_type": "Repository",
          "date": "2020-08-01T00:00:00-04:00",
          "day": 1,
          "month": 8,
          "year": 2020
         },
         {
          "counts": 389,
          "data_type": "Repository",
          "date": "2020-09-01T00:00:00-04:00",
          "day": 1,
          "month": 9,
          "year": 2020
         },
         {
          "counts": 448,
          "data_type": "Repository",
          "date": "2020-10-01T00:00:00-04:00",
          "day": 1,
          "month": 10,
          "year": 2020
         },
         {
          "counts": 367,
          "data_type": "Repository",
          "date": "2020-11-01T00:00:00-04:00",
          "day": 1,
          "month": 11,
          "year": 2020
         },
         {
          "counts": 403,
          "data_type": "Repository",
          "date": "2020-12-01T00:00:00-05:00",
          "day": 1,
          "month": 12,
          "year": 2020
         },
         {
          "counts": 415,
          "data_type": "Repository",
          "date": "2021-01-01T00:00:00-05:00",
          "day": 1,
          "month": 1,
          "year": 2021
         },
         {
          "counts": 477,
          "data_type": "Repository",
          "date": "2021-02-01T00:00:00-05:00",
          "day": 1,
          "month": 2,
          "year": 2021
         },
         {
          "counts": 577,
          "data_type": "Repository",
          "date": "2021-03-01T00:00:00-05:00",
          "day": 1,
          "month": 3,
          "year": 2021
         },
         {
          "counts": 474,
          "data_type": "Repository",
          "date": "2021-04-01T00:00:00-04:00",
          "day": 1,
          "month": 4,
          "year": 2021
         },
         {
          "counts": 462,
          "data_type": "Repository",
          "date": "2021-05-01T00:00:00-04:00",
          "day": 1,
          "month": 5,
          "year": 2021
         },
         {
          "counts": 463,
          "data_type": "Repository",
          "date": "2021-06-01T00:00:00-04:00",
          "day": 1,
          "month": 6,
          "year": 2021
         },
         {
          "counts": 417,
          "data_type": "Repository",
          "date": "2021-07-01T00:00:00-04:00",
          "day": 1,
          "month": 7,
          "year": 2021
         },
         {
          "counts": 364,
          "data_type": "Repository",
          "date": "2021-08-01T00:00:00-04:00",
          "day": 1,
          "month": 8,
          "year": 2021
         },
         {
          "counts": 481,
          "data_type": "Repository",
          "date": "2021-09-01T00:00:00-04:00",
          "day": 1,
          "month": 9,
          "year": 2021
         },
         {
          "counts": 412,
          "data_type": "Repository",
          "date": "2021-10-01T00:00:00-04:00",
          "day": 1,
          "month": 10,
          "year": 2021
         },
         {
          "counts": 446,
          "data_type": "Repository",
          "date": "2021-11-01T00:00:00-04:00",
          "day": 1,
          "month": 11,
          "year": 2021
         },
         {
          "counts": 395,
          "data_type": "Repository",
          "date": "2021-12-01T00:00:00-05:00",
          "day": 1,
          "month": 12,
          "year": 2021
         },
         {
          "counts": 455,
          "data_type": "Repository",
          "date": "2022-01-01T00:00:00-05:00",
          "day": 1,
          "month": 1,
          "year": 2022
         },
         {
          "counts": 430,
          "data_type": "Repository",
          "date": "2022-02-01T00:00:00-05:00",
          "day": 1,
          "month": 2,
          "year": 2022
         },
         {
          "counts": 455,
          "data_type": "Repository",
          "date": "2022-03-01T00:00:00-05:00",
          "day": 1,
          "month": 3,
          "year": 2022
         },
         {
          "counts": 430,
          "data_type": "Repository",
          "date": "2022-04-01T00:00:00-04:00",
          "day": 1,
          "month": 4,
          "year": 2022
         },
         {
          "counts": 555,
          "data_type": "Repository",
          "date": "2022-05-01T00:00:00-04:00",
          "day": 1,
          "month": 5,
          "year": 2022
         },
         {
          "counts": 400,
          "data_type": "Repository",
          "date": "2022-06-01T00:00:00-04:00",
          "day": 1,
          "month": 6,
          "year": 2022
         },
         {
          "counts": 367,
          "data_type": "Repository",
          "date": "2022-07-01T00:00:00-04:00",
          "day": 1,
          "month": 7,
          "year": 2022
         },
         {
          "counts": 378,
          "data_type": "Repository",
          "date": "2022-08-01T00:00:00-04:00",
          "day": 1,
          "month": 8,
          "year": 2022
         },
         {
          "counts": 496,
          "data_type": "Repository",
          "date": "2022-09-01T00:00:00-04:00",
          "day": 1,
          "month": 9,
          "year": 2022
         },
         {
          "counts": 433,
          "data_type": "Repository",
          "date": "2022-10-01T00:00:00-04:00",
          "day": 1,
          "month": 10,
          "year": 2022
         },
         {
          "counts": 440,
          "data_type": "Repository",
          "date": "2022-11-01T00:00:00-04:00",
          "day": 1,
          "month": 11,
          "year": 2022
         },
         {
          "counts": 356,
          "data_type": "Repository",
          "date": "2022-12-01T00:00:00-05:00",
          "day": 1,
          "month": 12,
          "year": 2022
         },
         {
          "counts": 354,
          "data_type": "Repository",
          "date": "2023-01-01T00:00:00-05:00",
          "day": 1,
          "month": 1,
          "year": 2023
         },
         {
          "counts": 368,
          "data_type": "Repository",
          "date": "2023-02-01T00:00:00-05:00",
          "day": 1,
          "month": 2,
          "year": 2023
         },
         {
          "counts": 371,
          "data_type": "Repository",
          "date": "2023-03-01T00:00:00-05:00",
          "day": 1,
          "month": 3,
          "year": 2023
         },
         {
          "counts": 312,
          "data_type": "Repository",
          "date": "2023-04-01T00:00:00-04:00",
          "day": 1,
          "month": 4,
          "year": 2023
         },
         {
          "counts": 263,
          "data_type": "Repository",
          "date": "2023-05-01T00:00:00-04:00",
          "day": 1,
          "month": 5,
          "year": 2023
         },
         {
          "counts": 65,
          "data_type": "Repository",
          "date": "2023-06-01T00:00:00-04:00",
          "day": 1,
          "month": 6,
          "year": 2023
         },
         {
          "counts": 4,
          "data_type": "User",
          "date": "2008-02-01T00:00:00-05:00",
          "day": 1,
          "month": 2,
          "year": 2008
         },
         {
          "counts": 3,
          "data_type": "User",
          "date": "2008-03-01T00:00:00-05:00",
          "day": 1,
          "month": 3,
          "year": 2008
         },
         {
          "counts": 9,
          "data_type": "User",
          "date": "2008-04-01T00:00:00-04:00",
          "day": 1,
          "month": 4,
          "year": 2008
         },
         {
          "counts": 5,
          "data_type": "User",
          "date": "2008-05-01T00:00:00-04:00",
          "day": 1,
          "month": 5,
          "year": 2008
         },
         {
          "counts": 4,
          "data_type": "User",
          "date": "2008-06-01T00:00:00-04:00",
          "day": 1,
          "month": 6,
          "year": 2008
         },
         {
          "counts": 5,
          "data_type": "User",
          "date": "2008-07-01T00:00:00-04:00",
          "day": 1,
          "month": 7,
          "year": 2008
         },
         {
          "counts": 7,
          "data_type": "User",
          "date": "2008-08-01T00:00:00-04:00",
          "day": 1,
          "month": 8,
          "year": 2008
         },
         {
          "counts": 12,
          "data_type": "User",
          "date": "2008-09-01T00:00:00-04:00",
          "day": 1,
          "month": 9,
          "year": 2008
         },
         {
          "counts": 6,
          "data_type": "User",
          "date": "2008-10-01T00:00:00-04:00",
          "day": 1,
          "month": 10,
          "year": 2008
         },
         {
          "counts": 14,
          "data_type": "User",
          "date": "2008-11-01T00:00:00-04:00",
          "day": 1,
          "month": 11,
          "year": 2008
         },
         {
          "counts": 10,
          "data_type": "User",
          "date": "2008-12-01T00:00:00-05:00",
          "day": 1,
          "month": 12,
          "year": 2008
         },
         {
          "counts": 16,
          "data_type": "User",
          "date": "2009-01-01T00:00:00-05:00",
          "day": 1,
          "month": 1,
          "year": 2009
         },
         {
          "counts": 16,
          "data_type": "User",
          "date": "2009-02-01T00:00:00-05:00",
          "day": 1,
          "month": 2,
          "year": 2009
         },
         {
          "counts": 13,
          "data_type": "User",
          "date": "2009-03-01T00:00:00-05:00",
          "day": 1,
          "month": 3,
          "year": 2009
         },
         {
          "counts": 13,
          "data_type": "User",
          "date": "2009-04-01T00:00:00-04:00",
          "day": 1,
          "month": 4,
          "year": 2009
         },
         {
          "counts": 13,
          "data_type": "User",
          "date": "2009-05-01T00:00:00-04:00",
          "day": 1,
          "month": 5,
          "year": 2009
         },
         {
          "counts": 5,
          "data_type": "User",
          "date": "2009-06-01T00:00:00-04:00",
          "day": 1,
          "month": 6,
          "year": 2009
         },
         {
          "counts": 9,
          "data_type": "User",
          "date": "2009-07-01T00:00:00-04:00",
          "day": 1,
          "month": 7,
          "year": 2009
         },
         {
          "counts": 16,
          "data_type": "User",
          "date": "2009-08-01T00:00:00-04:00",
          "day": 1,
          "month": 8,
          "year": 2009
         },
         {
          "counts": 8,
          "data_type": "User",
          "date": "2009-09-01T00:00:00-04:00",
          "day": 1,
          "month": 9,
          "year": 2009
         },
         {
          "counts": 17,
          "data_type": "User",
          "date": "2009-10-01T00:00:00-04:00",
          "day": 1,
          "month": 10,
          "year": 2009
         },
         {
          "counts": 15,
          "data_type": "User",
          "date": "2009-11-01T00:00:00-04:00",
          "day": 1,
          "month": 11,
          "year": 2009
         },
         {
          "counts": 13,
          "data_type": "User",
          "date": "2009-12-01T00:00:00-05:00",
          "day": 1,
          "month": 12,
          "year": 2009
         },
         {
          "counts": 18,
          "data_type": "User",
          "date": "2010-01-01T00:00:00-05:00",
          "day": 1,
          "month": 1,
          "year": 2010
         },
         {
          "counts": 12,
          "data_type": "User",
          "date": "2010-02-01T00:00:00-05:00",
          "day": 1,
          "month": 2,
          "year": 2010
         },
         {
          "counts": 21,
          "data_type": "User",
          "date": "2010-03-01T00:00:00-05:00",
          "day": 1,
          "month": 3,
          "year": 2010
         },
         {
          "counts": 11,
          "data_type": "User",
          "date": "2010-04-01T00:00:00-04:00",
          "day": 1,
          "month": 4,
          "year": 2010
         },
         {
          "counts": 20,
          "data_type": "User",
          "date": "2010-05-01T00:00:00-04:00",
          "day": 1,
          "month": 5,
          "year": 2010
         },
         {
          "counts": 23,
          "data_type": "User",
          "date": "2010-06-01T00:00:00-04:00",
          "day": 1,
          "month": 6,
          "year": 2010
         },
         {
          "counts": 16,
          "data_type": "User",
          "date": "2010-07-01T00:00:00-04:00",
          "day": 1,
          "month": 7,
          "year": 2010
         },
         {
          "counts": 12,
          "data_type": "User",
          "date": "2010-08-01T00:00:00-04:00",
          "day": 1,
          "month": 8,
          "year": 2010
         },
         {
          "counts": 22,
          "data_type": "User",
          "date": "2010-09-01T00:00:00-04:00",
          "day": 1,
          "month": 9,
          "year": 2010
         },
         {
          "counts": 21,
          "data_type": "User",
          "date": "2010-10-01T00:00:00-04:00",
          "day": 1,
          "month": 10,
          "year": 2010
         },
         {
          "counts": 20,
          "data_type": "User",
          "date": "2010-11-01T00:00:00-04:00",
          "day": 1,
          "month": 11,
          "year": 2010
         },
         {
          "counts": 20,
          "data_type": "User",
          "date": "2010-12-01T00:00:00-05:00",
          "day": 1,
          "month": 12,
          "year": 2010
         },
         {
          "counts": 16,
          "data_type": "User",
          "date": "2011-01-01T00:00:00-05:00",
          "day": 1,
          "month": 1,
          "year": 2011
         },
         {
          "counts": 41,
          "data_type": "User",
          "date": "2011-02-01T00:00:00-05:00",
          "day": 1,
          "month": 2,
          "year": 2011
         },
         {
          "counts": 34,
          "data_type": "User",
          "date": "2011-03-01T00:00:00-05:00",
          "day": 1,
          "month": 3,
          "year": 2011
         },
         {
          "counts": 18,
          "data_type": "User",
          "date": "2011-04-01T00:00:00-04:00",
          "day": 1,
          "month": 4,
          "year": 2011
         },
         {
          "counts": 22,
          "data_type": "User",
          "date": "2011-05-01T00:00:00-04:00",
          "day": 1,
          "month": 5,
          "year": 2011
         },
         {
          "counts": 29,
          "data_type": "User",
          "date": "2011-06-01T00:00:00-04:00",
          "day": 1,
          "month": 6,
          "year": 2011
         },
         {
          "counts": 21,
          "data_type": "User",
          "date": "2011-07-01T00:00:00-04:00",
          "day": 1,
          "month": 7,
          "year": 2011
         },
         {
          "counts": 31,
          "data_type": "User",
          "date": "2011-08-01T00:00:00-04:00",
          "day": 1,
          "month": 8,
          "year": 2011
         },
         {
          "counts": 28,
          "data_type": "User",
          "date": "2011-09-01T00:00:00-04:00",
          "day": 1,
          "month": 9,
          "year": 2011
         },
         {
          "counts": 26,
          "data_type": "User",
          "date": "2011-10-01T00:00:00-04:00",
          "day": 1,
          "month": 10,
          "year": 2011
         },
         {
          "counts": 27,
          "data_type": "User",
          "date": "2011-11-01T00:00:00-04:00",
          "day": 1,
          "month": 11,
          "year": 2011
         },
         {
          "counts": 17,
          "data_type": "User",
          "date": "2011-12-01T00:00:00-05:00",
          "day": 1,
          "month": 12,
          "year": 2011
         },
         {
          "counts": 25,
          "data_type": "User",
          "date": "2012-01-01T00:00:00-05:00",
          "day": 1,
          "month": 1,
          "year": 2012
         },
         {
          "counts": 29,
          "data_type": "User",
          "date": "2012-02-01T00:00:00-05:00",
          "day": 1,
          "month": 2,
          "year": 2012
         },
         {
          "counts": 20,
          "data_type": "User",
          "date": "2012-03-01T00:00:00-05:00",
          "day": 1,
          "month": 3,
          "year": 2012
         },
         {
          "counts": 30,
          "data_type": "User",
          "date": "2012-04-01T00:00:00-04:00",
          "day": 1,
          "month": 4,
          "year": 2012
         },
         {
          "counts": 43,
          "data_type": "User",
          "date": "2012-05-01T00:00:00-04:00",
          "day": 1,
          "month": 5,
          "year": 2012
         },
         {
          "counts": 21,
          "data_type": "User",
          "date": "2012-06-01T00:00:00-04:00",
          "day": 1,
          "month": 6,
          "year": 2012
         },
         {
          "counts": 30,
          "data_type": "User",
          "date": "2012-07-01T00:00:00-04:00",
          "day": 1,
          "month": 7,
          "year": 2012
         },
         {
          "counts": 30,
          "data_type": "User",
          "date": "2012-08-01T00:00:00-04:00",
          "day": 1,
          "month": 8,
          "year": 2012
         },
         {
          "counts": 41,
          "data_type": "User",
          "date": "2012-09-01T00:00:00-04:00",
          "day": 1,
          "month": 9,
          "year": 2012
         },
         {
          "counts": 38,
          "data_type": "User",
          "date": "2012-10-01T00:00:00-04:00",
          "day": 1,
          "month": 10,
          "year": 2012
         },
         {
          "counts": 22,
          "data_type": "User",
          "date": "2012-11-01T00:00:00-04:00",
          "day": 1,
          "month": 11,
          "year": 2012
         },
         {
          "counts": 46,
          "data_type": "User",
          "date": "2012-12-01T00:00:00-05:00",
          "day": 1,
          "month": 12,
          "year": 2012
         },
         {
          "counts": 39,
          "data_type": "User",
          "date": "2013-01-01T00:00:00-05:00",
          "day": 1,
          "month": 1,
          "year": 2013
         },
         {
          "counts": 43,
          "data_type": "User",
          "date": "2013-02-01T00:00:00-05:00",
          "day": 1,
          "month": 2,
          "year": 2013
         },
         {
          "counts": 41,
          "data_type": "User",
          "date": "2013-03-01T00:00:00-05:00",
          "day": 1,
          "month": 3,
          "year": 2013
         },
         {
          "counts": 32,
          "data_type": "User",
          "date": "2013-04-01T00:00:00-04:00",
          "day": 1,
          "month": 4,
          "year": 2013
         },
         {
          "counts": 30,
          "data_type": "User",
          "date": "2013-05-01T00:00:00-04:00",
          "day": 1,
          "month": 5,
          "year": 2013
         },
         {
          "counts": 41,
          "data_type": "User",
          "date": "2013-06-01T00:00:00-04:00",
          "day": 1,
          "month": 6,
          "year": 2013
         },
         {
          "counts": 20,
          "data_type": "User",
          "date": "2013-07-01T00:00:00-04:00",
          "day": 1,
          "month": 7,
          "year": 2013
         },
         {
          "counts": 26,
          "data_type": "User",
          "date": "2013-08-01T00:00:00-04:00",
          "day": 1,
          "month": 8,
          "year": 2013
         },
         {
          "counts": 35,
          "data_type": "User",
          "date": "2013-09-01T00:00:00-04:00",
          "day": 1,
          "month": 9,
          "year": 2013
         },
         {
          "counts": 33,
          "data_type": "User",
          "date": "2013-10-01T00:00:00-04:00",
          "day": 1,
          "month": 10,
          "year": 2013
         },
         {
          "counts": 19,
          "data_type": "User",
          "date": "2013-11-01T00:00:00-04:00",
          "day": 1,
          "month": 11,
          "year": 2013
         },
         {
          "counts": 19,
          "data_type": "User",
          "date": "2013-12-01T00:00:00-05:00",
          "day": 1,
          "month": 12,
          "year": 2013
         },
         {
          "counts": 41,
          "data_type": "User",
          "date": "2014-01-01T00:00:00-05:00",
          "day": 1,
          "month": 1,
          "year": 2014
         },
         {
          "counts": 40,
          "data_type": "User",
          "date": "2014-02-01T00:00:00-05:00",
          "day": 1,
          "month": 2,
          "year": 2014
         },
         {
          "counts": 26,
          "data_type": "User",
          "date": "2014-03-01T00:00:00-05:00",
          "day": 1,
          "month": 3,
          "year": 2014
         },
         {
          "counts": 53,
          "data_type": "User",
          "date": "2014-04-01T00:00:00-04:00",
          "day": 1,
          "month": 4,
          "year": 2014
         },
         {
          "counts": 42,
          "data_type": "User",
          "date": "2014-05-01T00:00:00-04:00",
          "day": 1,
          "month": 5,
          "year": 2014
         },
         {
          "counts": 31,
          "data_type": "User",
          "date": "2014-06-01T00:00:00-04:00",
          "day": 1,
          "month": 6,
          "year": 2014
         },
         {
          "counts": 35,
          "data_type": "User",
          "date": "2014-07-01T00:00:00-04:00",
          "day": 1,
          "month": 7,
          "year": 2014
         },
         {
          "counts": 32,
          "data_type": "User",
          "date": "2014-08-01T00:00:00-04:00",
          "day": 1,
          "month": 8,
          "year": 2014
         },
         {
          "counts": 43,
          "data_type": "User",
          "date": "2014-09-01T00:00:00-04:00",
          "day": 1,
          "month": 9,
          "year": 2014
         },
         {
          "counts": 37,
          "data_type": "User",
          "date": "2014-10-01T00:00:00-04:00",
          "day": 1,
          "month": 10,
          "year": 2014
         },
         {
          "counts": 33,
          "data_type": "User",
          "date": "2014-11-01T00:00:00-04:00",
          "day": 1,
          "month": 11,
          "year": 2014
         },
         {
          "counts": 31,
          "data_type": "User",
          "date": "2014-12-01T00:00:00-05:00",
          "day": 1,
          "month": 12,
          "year": 2014
         },
         {
          "counts": 48,
          "data_type": "User",
          "date": "2015-01-01T00:00:00-05:00",
          "day": 1,
          "month": 1,
          "year": 2015
         },
         {
          "counts": 32,
          "data_type": "User",
          "date": "2015-02-01T00:00:00-05:00",
          "day": 1,
          "month": 2,
          "year": 2015
         },
         {
          "counts": 50,
          "data_type": "User",
          "date": "2015-03-01T00:00:00-05:00",
          "day": 1,
          "month": 3,
          "year": 2015
         },
         {
          "counts": 39,
          "data_type": "User",
          "date": "2015-04-01T00:00:00-04:00",
          "day": 1,
          "month": 4,
          "year": 2015
         },
         {
          "counts": 43,
          "data_type": "User",
          "date": "2015-05-01T00:00:00-04:00",
          "day": 1,
          "month": 5,
          "year": 2015
         },
         {
          "counts": 31,
          "data_type": "User",
          "date": "2015-06-01T00:00:00-04:00",
          "day": 1,
          "month": 6,
          "year": 2015
         },
         {
          "counts": 28,
          "data_type": "User",
          "date": "2015-07-01T00:00:00-04:00",
          "day": 1,
          "month": 7,
          "year": 2015
         },
         {
          "counts": 32,
          "data_type": "User",
          "date": "2015-08-01T00:00:00-04:00",
          "day": 1,
          "month": 8,
          "year": 2015
         },
         {
          "counts": 44,
          "data_type": "User",
          "date": "2015-09-01T00:00:00-04:00",
          "day": 1,
          "month": 9,
          "year": 2015
         },
         {
          "counts": 26,
          "data_type": "User",
          "date": "2015-10-01T00:00:00-04:00",
          "day": 1,
          "month": 10,
          "year": 2015
         },
         {
          "counts": 35,
          "data_type": "User",
          "date": "2015-11-01T00:00:00-04:00",
          "day": 1,
          "month": 11,
          "year": 2015
         },
         {
          "counts": 27,
          "data_type": "User",
          "date": "2015-12-01T00:00:00-05:00",
          "day": 1,
          "month": 12,
          "year": 2015
         },
         {
          "counts": 32,
          "data_type": "User",
          "date": "2016-01-01T00:00:00-05:00",
          "day": 1,
          "month": 1,
          "year": 2016
         },
         {
          "counts": 18,
          "data_type": "User",
          "date": "2016-02-01T00:00:00-05:00",
          "day": 1,
          "month": 2,
          "year": 2016
         },
         {
          "counts": 36,
          "data_type": "User",
          "date": "2016-03-01T00:00:00-05:00",
          "day": 1,
          "month": 3,
          "year": 2016
         },
         {
          "counts": 27,
          "data_type": "User",
          "date": "2016-04-01T00:00:00-04:00",
          "day": 1,
          "month": 4,
          "year": 2016
         },
         {
          "counts": 24,
          "data_type": "User",
          "date": "2016-05-01T00:00:00-04:00",
          "day": 1,
          "month": 5,
          "year": 2016
         },
         {
          "counts": 34,
          "data_type": "User",
          "date": "2016-06-01T00:00:00-04:00",
          "day": 1,
          "month": 6,
          "year": 2016
         },
         {
          "counts": 26,
          "data_type": "User",
          "date": "2016-07-01T00:00:00-04:00",
          "day": 1,
          "month": 7,
          "year": 2016
         },
         {
          "counts": 30,
          "data_type": "User",
          "date": "2016-08-01T00:00:00-04:00",
          "day": 1,
          "month": 8,
          "year": 2016
         },
         {
          "counts": 43,
          "data_type": "User",
          "date": "2016-09-01T00:00:00-04:00",
          "day": 1,
          "month": 9,
          "year": 2016
         },
         {
          "counts": 38,
          "data_type": "User",
          "date": "2016-10-01T00:00:00-04:00",
          "day": 1,
          "month": 10,
          "year": 2016
         },
         {
          "counts": 29,
          "data_type": "User",
          "date": "2016-11-01T00:00:00-04:00",
          "day": 1,
          "month": 11,
          "year": 2016
         },
         {
          "counts": 32,
          "data_type": "User",
          "date": "2016-12-01T00:00:00-05:00",
          "day": 1,
          "month": 12,
          "year": 2016
         },
         {
          "counts": 42,
          "data_type": "User",
          "date": "2017-01-01T00:00:00-05:00",
          "day": 1,
          "month": 1,
          "year": 2017
         },
         {
          "counts": 41,
          "data_type": "User",
          "date": "2017-02-01T00:00:00-05:00",
          "day": 1,
          "month": 2,
          "year": 2017
         },
         {
          "counts": 47,
          "data_type": "User",
          "date": "2017-03-01T00:00:00-05:00",
          "day": 1,
          "month": 3,
          "year": 2017
         },
         {
          "counts": 30,
          "data_type": "User",
          "date": "2017-04-01T00:00:00-04:00",
          "day": 1,
          "month": 4,
          "year": 2017
         },
         {
          "counts": 28,
          "data_type": "User",
          "date": "2017-05-01T00:00:00-04:00",
          "day": 1,
          "month": 5,
          "year": 2017
         },
         {
          "counts": 34,
          "data_type": "User",
          "date": "2017-06-01T00:00:00-04:00",
          "day": 1,
          "month": 6,
          "year": 2017
         },
         {
          "counts": 36,
          "data_type": "User",
          "date": "2017-07-01T00:00:00-04:00",
          "day": 1,
          "month": 7,
          "year": 2017
         },
         {
          "counts": 31,
          "data_type": "User",
          "date": "2017-08-01T00:00:00-04:00",
          "day": 1,
          "month": 8,
          "year": 2017
         },
         {
          "counts": 59,
          "data_type": "User",
          "date": "2017-09-01T00:00:00-04:00",
          "day": 1,
          "month": 9,
          "year": 2017
         },
         {
          "counts": 44,
          "data_type": "User",
          "date": "2017-10-01T00:00:00-04:00",
          "day": 1,
          "month": 10,
          "year": 2017
         },
         {
          "counts": 50,
          "data_type": "User",
          "date": "2017-11-01T00:00:00-04:00",
          "day": 1,
          "month": 11,
          "year": 2017
         },
         {
          "counts": 29,
          "data_type": "User",
          "date": "2017-12-01T00:00:00-05:00",
          "day": 1,
          "month": 12,
          "year": 2017
         },
         {
          "counts": 44,
          "data_type": "User",
          "date": "2018-01-01T00:00:00-05:00",
          "day": 1,
          "month": 1,
          "year": 2018
         },
         {
          "counts": 45,
          "data_type": "User",
          "date": "2018-02-01T00:00:00-05:00",
          "day": 1,
          "month": 2,
          "year": 2018
         },
         {
          "counts": 44,
          "data_type": "User",
          "date": "2018-03-01T00:00:00-05:00",
          "day": 1,
          "month": 3,
          "year": 2018
         },
         {
          "counts": 38,
          "data_type": "User",
          "date": "2018-04-01T00:00:00-04:00",
          "day": 1,
          "month": 4,
          "year": 2018
         },
         {
          "counts": 28,
          "data_type": "User",
          "date": "2018-05-01T00:00:00-04:00",
          "day": 1,
          "month": 5,
          "year": 2018
         },
         {
          "counts": 45,
          "data_type": "User",
          "date": "2018-06-01T00:00:00-04:00",
          "day": 1,
          "month": 6,
          "year": 2018
         },
         {
          "counts": 29,
          "data_type": "User",
          "date": "2018-07-01T00:00:00-04:00",
          "day": 1,
          "month": 7,
          "year": 2018
         },
         {
          "counts": 25,
          "data_type": "User",
          "date": "2018-08-01T00:00:00-04:00",
          "day": 1,
          "month": 8,
          "year": 2018
         },
         {
          "counts": 53,
          "data_type": "User",
          "date": "2018-09-01T00:00:00-04:00",
          "day": 1,
          "month": 9,
          "year": 2018
         },
         {
          "counts": 54,
          "data_type": "User",
          "date": "2018-10-01T00:00:00-04:00",
          "day": 1,
          "month": 10,
          "year": 2018
         },
         {
          "counts": 27,
          "data_type": "User",
          "date": "2018-11-01T00:00:00-04:00",
          "day": 1,
          "month": 11,
          "year": 2018
         },
         {
          "counts": 34,
          "data_type": "User",
          "date": "2018-12-01T00:00:00-05:00",
          "day": 1,
          "month": 12,
          "year": 2018
         },
         {
          "counts": 57,
          "data_type": "User",
          "date": "2019-01-01T00:00:00-05:00",
          "day": 1,
          "month": 1,
          "year": 2019
         },
         {
          "counts": 33,
          "data_type": "User",
          "date": "2019-02-01T00:00:00-05:00",
          "day": 1,
          "month": 2,
          "year": 2019
         },
         {
          "counts": 35,
          "data_type": "User",
          "date": "2019-03-01T00:00:00-05:00",
          "day": 1,
          "month": 3,
          "year": 2019
         },
         {
          "counts": 24,
          "data_type": "User",
          "date": "2019-04-01T00:00:00-04:00",
          "day": 1,
          "month": 4,
          "year": 2019
         },
         {
          "counts": 27,
          "data_type": "User",
          "date": "2019-05-01T00:00:00-04:00",
          "day": 1,
          "month": 5,
          "year": 2019
         },
         {
          "counts": 25,
          "data_type": "User",
          "date": "2019-06-01T00:00:00-04:00",
          "day": 1,
          "month": 6,
          "year": 2019
         },
         {
          "counts": 36,
          "data_type": "User",
          "date": "2019-07-01T00:00:00-04:00",
          "day": 1,
          "month": 7,
          "year": 2019
         },
         {
          "counts": 22,
          "data_type": "User",
          "date": "2019-08-01T00:00:00-04:00",
          "day": 1,
          "month": 8,
          "year": 2019
         },
         {
          "counts": 41,
          "data_type": "User",
          "date": "2019-09-01T00:00:00-04:00",
          "day": 1,
          "month": 9,
          "year": 2019
         },
         {
          "counts": 53,
          "data_type": "User",
          "date": "2019-10-01T00:00:00-04:00",
          "day": 1,
          "month": 10,
          "year": 2019
         },
         {
          "counts": 31,
          "data_type": "User",
          "date": "2019-11-01T00:00:00-04:00",
          "day": 1,
          "month": 11,
          "year": 2019
         },
         {
          "counts": 27,
          "data_type": "User",
          "date": "2019-12-01T00:00:00-05:00",
          "day": 1,
          "month": 12,
          "year": 2019
         },
         {
          "counts": 47,
          "data_type": "User",
          "date": "2020-01-01T00:00:00-05:00",
          "day": 1,
          "month": 1,
          "year": 2020
         },
         {
          "counts": 34,
          "data_type": "User",
          "date": "2020-02-01T00:00:00-05:00",
          "day": 1,
          "month": 2,
          "year": 2020
         },
         {
          "counts": 40,
          "data_type": "User",
          "date": "2020-03-01T00:00:00-05:00",
          "day": 1,
          "month": 3,
          "year": 2020
         },
         {
          "counts": 38,
          "data_type": "User",
          "date": "2020-04-01T00:00:00-04:00",
          "day": 1,
          "month": 4,
          "year": 2020
         },
         {
          "counts": 48,
          "data_type": "User",
          "date": "2020-05-01T00:00:00-04:00",
          "day": 1,
          "month": 5,
          "year": 2020
         },
         {
          "counts": 22,
          "data_type": "User",
          "date": "2020-06-01T00:00:00-04:00",
          "day": 1,
          "month": 6,
          "year": 2020
         },
         {
          "counts": 25,
          "data_type": "User",
          "date": "2020-07-01T00:00:00-04:00",
          "day": 1,
          "month": 7,
          "year": 2020
         },
         {
          "counts": 36,
          "data_type": "User",
          "date": "2020-08-01T00:00:00-04:00",
          "day": 1,
          "month": 8,
          "year": 2020
         },
         {
          "counts": 34,
          "data_type": "User",
          "date": "2020-09-01T00:00:00-04:00",
          "day": 1,
          "month": 9,
          "year": 2020
         },
         {
          "counts": 55,
          "data_type": "User",
          "date": "2020-10-01T00:00:00-04:00",
          "day": 1,
          "month": 10,
          "year": 2020
         },
         {
          "counts": 37,
          "data_type": "User",
          "date": "2020-11-01T00:00:00-04:00",
          "day": 1,
          "month": 11,
          "year": 2020
         },
         {
          "counts": 29,
          "data_type": "User",
          "date": "2020-12-01T00:00:00-05:00",
          "day": 1,
          "month": 12,
          "year": 2020
         },
         {
          "counts": 20,
          "data_type": "User",
          "date": "2021-01-01T00:00:00-05:00",
          "day": 1,
          "month": 1,
          "year": 2021
         },
         {
          "counts": 45,
          "data_type": "User",
          "date": "2021-02-01T00:00:00-05:00",
          "day": 1,
          "month": 2,
          "year": 2021
         },
         {
          "counts": 34,
          "data_type": "User",
          "date": "2021-03-01T00:00:00-05:00",
          "day": 1,
          "month": 3,
          "year": 2021
         },
         {
          "counts": 18,
          "data_type": "User",
          "date": "2021-04-01T00:00:00-04:00",
          "day": 1,
          "month": 4,
          "year": 2021
         },
         {
          "counts": 23,
          "data_type": "User",
          "date": "2021-05-01T00:00:00-04:00",
          "day": 1,
          "month": 5,
          "year": 2021
         },
         {
          "counts": 26,
          "data_type": "User",
          "date": "2021-06-01T00:00:00-04:00",
          "day": 1,
          "month": 6,
          "year": 2021
         },
         {
          "counts": 8,
          "data_type": "User",
          "date": "2021-07-01T00:00:00-04:00",
          "day": 1,
          "month": 7,
          "year": 2021
         },
         {
          "counts": 20,
          "data_type": "User",
          "date": "2021-08-01T00:00:00-04:00",
          "day": 1,
          "month": 8,
          "year": 2021
         },
         {
          "counts": 27,
          "data_type": "User",
          "date": "2021-09-01T00:00:00-04:00",
          "day": 1,
          "month": 9,
          "year": 2021
         },
         {
          "counts": 56,
          "data_type": "User",
          "date": "2021-10-01T00:00:00-04:00",
          "day": 1,
          "month": 10,
          "year": 2021
         },
         {
          "counts": 33,
          "data_type": "User",
          "date": "2021-11-01T00:00:00-04:00",
          "day": 1,
          "month": 11,
          "year": 2021
         },
         {
          "counts": 19,
          "data_type": "User",
          "date": "2021-12-01T00:00:00-05:00",
          "day": 1,
          "month": 12,
          "year": 2021
         },
         {
          "counts": 15,
          "data_type": "User",
          "date": "2022-01-01T00:00:00-05:00",
          "day": 1,
          "month": 1,
          "year": 2022
         },
         {
          "counts": 30,
          "data_type": "User",
          "date": "2022-02-01T00:00:00-05:00",
          "day": 1,
          "month": 2,
          "year": 2022
         },
         {
          "counts": 16,
          "data_type": "User",
          "date": "2022-03-01T00:00:00-05:00",
          "day": 1,
          "month": 3,
          "year": 2022
         },
         {
          "counts": 20,
          "data_type": "User",
          "date": "2022-04-01T00:00:00-04:00",
          "day": 1,
          "month": 4,
          "year": 2022
         },
         {
          "counts": 37,
          "data_type": "User",
          "date": "2022-05-01T00:00:00-04:00",
          "day": 1,
          "month": 5,
          "year": 2022
         },
         {
          "counts": 16,
          "data_type": "User",
          "date": "2022-06-01T00:00:00-04:00",
          "day": 1,
          "month": 6,
          "year": 2022
         },
         {
          "counts": 15,
          "data_type": "User",
          "date": "2022-07-01T00:00:00-04:00",
          "day": 1,
          "month": 7,
          "year": 2022
         },
         {
          "counts": 11,
          "data_type": "User",
          "date": "2022-08-01T00:00:00-04:00",
          "day": 1,
          "month": 8,
          "year": 2022
         },
         {
          "counts": 33,
          "data_type": "User",
          "date": "2022-09-01T00:00:00-04:00",
          "day": 1,
          "month": 9,
          "year": 2022
         },
         {
          "counts": 17,
          "data_type": "User",
          "date": "2022-10-01T00:00:00-04:00",
          "day": 1,
          "month": 10,
          "year": 2022
         },
         {
          "counts": 14,
          "data_type": "User",
          "date": "2022-11-01T00:00:00-04:00",
          "day": 1,
          "month": 11,
          "year": 2022
         },
         {
          "counts": 17,
          "data_type": "User",
          "date": "2022-12-01T00:00:00-05:00",
          "day": 1,
          "month": 12,
          "year": 2022
         },
         {
          "counts": 7,
          "data_type": "User",
          "date": "2023-01-01T00:00:00-05:00",
          "day": 1,
          "month": 1,
          "year": 2023
         },
         {
          "counts": 13,
          "data_type": "User",
          "date": "2023-02-01T00:00:00-05:00",
          "day": 1,
          "month": 2,
          "year": 2023
         },
         {
          "counts": 5,
          "data_type": "User",
          "date": "2023-03-01T00:00:00-05:00",
          "day": 1,
          "month": 3,
          "year": 2023
         },
         {
          "counts": 1,
          "data_type": "User",
          "date": "2023-04-01T00:00:00-04:00",
          "day": 1,
          "month": 4,
          "year": 2023
         }
        ]
       },
       "height": 300,
       "layer": [
        {
         "encoding": {
          "color": {
           "field": "data_type",
           "title": "Type of Entity",
           "type": "nominal"
          },
          "x": {
           "axis": {
            "format": "%Y"
           },
           "field": "date",
           "title": "Date Created",
           "type": "temporal"
          },
          "y": {
           "field": "counts",
           "title": "Counts",
           "type": "quantitative"
          }
         },
         "mark": {
          "interpolate": "basis",
          "type": "line"
         }
        },
        {
         "encoding": {
          "opacity": {
           "value": 0
          },
          "x": {
           "field": "date",
           "type": "temporal"
          }
         },
         "mark": {
          "type": "point"
         },
         "name": "view_4"
        },
        {
         "encoding": {
          "color": {
           "field": "data_type",
           "title": "Type of Entity",
           "type": "nominal"
          },
          "opacity": {
           "condition": {
            "empty": false,
            "param": "param_4",
            "value": 1
           },
           "value": 0
          },
          "x": {
           "axis": {
            "format": "%Y"
           },
           "field": "date",
           "title": "Date Created",
           "type": "temporal"
          },
          "y": {
           "field": "counts",
           "title": "Counts",
           "type": "quantitative"
          }
         },
         "mark": {
          "type": "point"
         }
        },
        {
         "encoding": {
          "x": {
           "field": "date",
           "type": "temporal"
          }
         },
         "mark": {
          "color": "gray",
          "type": "rule"
         },
         "transform": [
          {
           "filter": {
            "empty": false,
            "param": "param_4"
           }
          }
         ]
        },
        {
         "encoding": {
          "color": {
           "field": "data_type",
           "title": "Type of Entity",
           "type": "nominal"
          },
          "text": {
           "condition": {
            "empty": false,
            "field": "counts",
            "param": "param_4"
           },
           "value": " "
          },
          "x": {
           "axis": {
            "format": "%Y"
           },
           "field": "date",
           "title": "Date Created",
           "type": "temporal"
          },
          "y": {
           "field": "counts",
           "title": "Counts",
           "type": "quantitative"
          }
         },
         "mark": {
          "align": "left",
          "dx": 5,
          "dy": -5,
          "type": "text"
         }
        }
       ],
       "params": [
        {
         "name": "param_4",
         "select": {
          "encodings": [
           "x"
          ],
          "nearest": true,
          "on": "mouseover",
          "type": "point"
         },
         "views": [
          "view_4"
         ]
        }
       ],
       "title": "Number of Users, Organizations, and Repositories identified as DH, Created Over Time via All Three Methods",
       "width": 600
      },
      "text/plain": [
       "<VegaLite 5 object>\n",
       "\n",
       "If you see this message, it means the renderer has not been properly enabled\n",
       "for the frontend that you are using. For more information, see\n",
       "https://altair-viz.github.io/user_guide/display_frontends.html#troubleshooting\n"
      ]
     },
     "execution_count": 25,
     "metadata": {},
     "output_type": "execute_result"
    }
   ],
   "source": [
    "combined_chart"
   ]
  },
  {
   "cell_type": "code",
   "execution_count": 26,
   "metadata": {},
   "outputs": [],
   "source": [
    "core_users['created_at'] = pd.to_datetime(core_users['created_at'], errors='coerce')\n",
    "core_orgs['created_at'] = pd.to_datetime(core_orgs['created_at'], errors='coerce')\n",
    "core_repos['created_at'] = pd.to_datetime(core_repos['created_at'], errors='coerce')\n",
    "core_users['data_type'] = 'User'\n",
    "core_orgs['data_type'] = 'Organization'\n",
    "core_repos['data_type'] = 'Repository'\n",
    "all_data = pd.concat([core_users[['data_type', 'created_at', 'id', 'origin']], core_orgs[['data_type', 'created_at', 'id', 'origin']], core_repos[['data_type', 'created_at', 'id', 'origin']]])\n",
    "all_data['total_counts'] = 0\n",
    "all_data.loc[all_data.data_type == 'User', 'total_counts'] = core_users.shape[0]\n",
    "all_data.loc[all_data.data_type == 'Organization', 'total_counts'] = core_orgs.shape[0]\n",
    "all_data.loc[all_data.data_type == 'Repository', 'total_counts'] = core_repos.shape[0]\n",
    "\n",
    "all_data['month'] = all_data['created_at'].dt.month\n",
    "all_data['year'] = all_data['created_at'].dt.year\n",
    "# all_data['day'] = all_data['created_at'].dt.day\n",
    "grouped_data = all_data.groupby(['origin', 'data_type', 'year', 'month']).size().reset_index(name='counts')\n",
    "grouped_data['day'] = 1\n",
    "grouped_data['date'] = pd.to_datetime(grouped_data[['year', 'month', 'day']])\n",
    "grouped_data.date = grouped_data.date.dt.tz_localize(\"America/New_York\")"
   ]
  },
  {
   "cell_type": "code",
   "execution_count": 27,
   "metadata": {},
   "outputs": [
    {
     "data": {
      "text/html": [
       "<div>\n",
       "<style scoped>\n",
       "    .dataframe tbody tr th:only-of-type {\n",
       "        vertical-align: middle;\n",
       "    }\n",
       "\n",
       "    .dataframe tbody tr th {\n",
       "        vertical-align: top;\n",
       "    }\n",
       "\n",
       "    .dataframe thead th {\n",
       "        text-align: right;\n",
       "    }\n",
       "</style>\n",
       "<table border=\"1\" class=\"dataframe\">\n",
       "  <thead>\n",
       "    <tr style=\"text-align: right;\">\n",
       "      <th></th>\n",
       "      <th>origin</th>\n",
       "      <th>data_type</th>\n",
       "      <th>year</th>\n",
       "      <th>month</th>\n",
       "      <th>counts</th>\n",
       "      <th>day</th>\n",
       "      <th>date</th>\n",
       "    </tr>\n",
       "  </thead>\n",
       "  <tbody>\n",
       "    <tr>\n",
       "      <th>0</th>\n",
       "      <td>final_pass</td>\n",
       "      <td>Organization</td>\n",
       "      <td>2009.0</td>\n",
       "      <td>3.0</td>\n",
       "      <td>1</td>\n",
       "      <td>1</td>\n",
       "      <td>2009-03-01 00:00:00-05:00</td>\n",
       "    </tr>\n",
       "    <tr>\n",
       "      <th>1</th>\n",
       "      <td>final_pass</td>\n",
       "      <td>Organization</td>\n",
       "      <td>2009.0</td>\n",
       "      <td>6.0</td>\n",
       "      <td>1</td>\n",
       "      <td>1</td>\n",
       "      <td>2009-06-01 00:00:00-04:00</td>\n",
       "    </tr>\n",
       "    <tr>\n",
       "      <th>2</th>\n",
       "      <td>final_pass</td>\n",
       "      <td>Organization</td>\n",
       "      <td>2010.0</td>\n",
       "      <td>6.0</td>\n",
       "      <td>1</td>\n",
       "      <td>1</td>\n",
       "      <td>2010-06-01 00:00:00-04:00</td>\n",
       "    </tr>\n",
       "    <tr>\n",
       "      <th>3</th>\n",
       "      <td>final_pass</td>\n",
       "      <td>Organization</td>\n",
       "      <td>2010.0</td>\n",
       "      <td>7.0</td>\n",
       "      <td>2</td>\n",
       "      <td>1</td>\n",
       "      <td>2010-07-01 00:00:00-04:00</td>\n",
       "    </tr>\n",
       "    <tr>\n",
       "      <th>4</th>\n",
       "      <td>final_pass</td>\n",
       "      <td>Organization</td>\n",
       "      <td>2010.0</td>\n",
       "      <td>12.0</td>\n",
       "      <td>1</td>\n",
       "      <td>1</td>\n",
       "      <td>2010-12-01 00:00:00-05:00</td>\n",
       "    </tr>\n",
       "    <tr>\n",
       "      <th>...</th>\n",
       "      <td>...</td>\n",
       "      <td>...</td>\n",
       "      <td>...</td>\n",
       "      <td>...</td>\n",
       "      <td>...</td>\n",
       "      <td>...</td>\n",
       "      <td>...</td>\n",
       "    </tr>\n",
       "    <tr>\n",
       "      <th>1352</th>\n",
       "      <td>initial</td>\n",
       "      <td>User</td>\n",
       "      <td>2022.0</td>\n",
       "      <td>11.0</td>\n",
       "      <td>3</td>\n",
       "      <td>1</td>\n",
       "      <td>2022-11-01 00:00:00-04:00</td>\n",
       "    </tr>\n",
       "    <tr>\n",
       "      <th>1353</th>\n",
       "      <td>initial</td>\n",
       "      <td>User</td>\n",
       "      <td>2022.0</td>\n",
       "      <td>12.0</td>\n",
       "      <td>8</td>\n",
       "      <td>1</td>\n",
       "      <td>2022-12-01 00:00:00-05:00</td>\n",
       "    </tr>\n",
       "    <tr>\n",
       "      <th>1354</th>\n",
       "      <td>initial</td>\n",
       "      <td>User</td>\n",
       "      <td>2023.0</td>\n",
       "      <td>1.0</td>\n",
       "      <td>4</td>\n",
       "      <td>1</td>\n",
       "      <td>2023-01-01 00:00:00-05:00</td>\n",
       "    </tr>\n",
       "    <tr>\n",
       "      <th>1355</th>\n",
       "      <td>initial</td>\n",
       "      <td>User</td>\n",
       "      <td>2023.0</td>\n",
       "      <td>2.0</td>\n",
       "      <td>2</td>\n",
       "      <td>1</td>\n",
       "      <td>2023-02-01 00:00:00-05:00</td>\n",
       "    </tr>\n",
       "    <tr>\n",
       "      <th>1356</th>\n",
       "      <td>initial</td>\n",
       "      <td>User</td>\n",
       "      <td>2023.0</td>\n",
       "      <td>3.0</td>\n",
       "      <td>1</td>\n",
       "      <td>1</td>\n",
       "      <td>2023-03-01 00:00:00-05:00</td>\n",
       "    </tr>\n",
       "  </tbody>\n",
       "</table>\n",
       "<p>1357 rows × 7 columns</p>\n",
       "</div>"
      ],
      "text/plain": [
       "          origin     data_type    year  month  counts  day  \\\n",
       "0     final_pass  Organization  2009.0    3.0       1    1   \n",
       "1     final_pass  Organization  2009.0    6.0       1    1   \n",
       "2     final_pass  Organization  2010.0    6.0       1    1   \n",
       "3     final_pass  Organization  2010.0    7.0       2    1   \n",
       "4     final_pass  Organization  2010.0   12.0       1    1   \n",
       "...          ...           ...     ...    ...     ...  ...   \n",
       "1352     initial          User  2022.0   11.0       3    1   \n",
       "1353     initial          User  2022.0   12.0       8    1   \n",
       "1354     initial          User  2023.0    1.0       4    1   \n",
       "1355     initial          User  2023.0    2.0       2    1   \n",
       "1356     initial          User  2023.0    3.0       1    1   \n",
       "\n",
       "                          date  \n",
       "0    2009-03-01 00:00:00-05:00  \n",
       "1    2009-06-01 00:00:00-04:00  \n",
       "2    2010-06-01 00:00:00-04:00  \n",
       "3    2010-07-01 00:00:00-04:00  \n",
       "4    2010-12-01 00:00:00-05:00  \n",
       "...                        ...  \n",
       "1352 2022-11-01 00:00:00-04:00  \n",
       "1353 2022-12-01 00:00:00-05:00  \n",
       "1354 2023-01-01 00:00:00-05:00  \n",
       "1355 2023-02-01 00:00:00-05:00  \n",
       "1356 2023-03-01 00:00:00-05:00  \n",
       "\n",
       "[1357 rows x 7 columns]"
      ]
     },
     "execution_count": 27,
     "metadata": {},
     "output_type": "execute_result"
    }
   ],
   "source": [
    "grouped_data"
   ]
  },
  {
   "cell_type": "code",
   "execution_count": 28,
   "metadata": {},
   "outputs": [],
   "source": [
    "charts = []\n",
    "for data_type in grouped_data.data_type.unique().tolist():\n",
    "    subset_data = grouped_data[grouped_data.data_type == data_type]\n",
    "    chart = alt.Chart(subset_data).mark_line(interpolate='basis').encode(\n",
    "        x=alt.X('date:T', title='Date Created', axis=alt.Axis(format='%Y')),\n",
    "        y=alt.Y('counts',\n",
    "        scale=alt.Scale(zero=False)),\n",
    "        column='data_type',\n",
    "        color='origin'\n",
    "    ).properties(\n",
    "        width=600,\n",
    "        # title=f\"Number of Users, Organizations, and Repositories identified as DH, Created Over Time via All Three Methods, by Data Type: {data_type}\"\n",
    "    )\n",
    "    charts.append(chart)"
   ]
  },
  {
   "cell_type": "code",
   "execution_count": 29,
   "metadata": {},
   "outputs": [
    {
     "data": {
      "application/vnd.vegalite.v5+json": {
       "$schema": "https://vega.github.io/schema/vega-lite/v5.8.0.json",
       "config": {
        "view": {
         "continuousHeight": 300,
         "continuousWidth": 300
        }
       },
       "datasets": {
        "data-0340d5ba0dbaa7f63e6224af4fd3fccc": [
         {
          "counts": 2,
          "data_type": "Repository",
          "date": "2008-03-01T00:00:00-05:00",
          "day": 1,
          "month": 3,
          "origin": "final_pass",
          "year": 2008
         },
         {
          "counts": 2,
          "data_type": "Repository",
          "date": "2008-06-01T00:00:00-04:00",
          "day": 1,
          "month": 6,
          "origin": "final_pass",
          "year": 2008
         },
         {
          "counts": 4,
          "data_type": "Repository",
          "date": "2008-08-01T00:00:00-04:00",
          "day": 1,
          "month": 8,
          "origin": "final_pass",
          "year": 2008
         },
         {
          "counts": 1,
          "data_type": "Repository",
          "date": "2008-09-01T00:00:00-04:00",
          "day": 1,
          "month": 9,
          "origin": "final_pass",
          "year": 2008
         },
         {
          "counts": 3,
          "data_type": "Repository",
          "date": "2008-10-01T00:00:00-04:00",
          "day": 1,
          "month": 10,
          "origin": "final_pass",
          "year": 2008
         },
         {
          "counts": 3,
          "data_type": "Repository",
          "date": "2008-11-01T00:00:00-04:00",
          "day": 1,
          "month": 11,
          "origin": "final_pass",
          "year": 2008
         },
         {
          "counts": 3,
          "data_type": "Repository",
          "date": "2009-01-01T00:00:00-05:00",
          "day": 1,
          "month": 1,
          "origin": "final_pass",
          "year": 2009
         },
         {
          "counts": 4,
          "data_type": "Repository",
          "date": "2009-02-01T00:00:00-05:00",
          "day": 1,
          "month": 2,
          "origin": "final_pass",
          "year": 2009
         },
         {
          "counts": 4,
          "data_type": "Repository",
          "date": "2009-03-01T00:00:00-05:00",
          "day": 1,
          "month": 3,
          "origin": "final_pass",
          "year": 2009
         },
         {
          "counts": 4,
          "data_type": "Repository",
          "date": "2009-04-01T00:00:00-04:00",
          "day": 1,
          "month": 4,
          "origin": "final_pass",
          "year": 2009
         },
         {
          "counts": 1,
          "data_type": "Repository",
          "date": "2009-07-01T00:00:00-04:00",
          "day": 1,
          "month": 7,
          "origin": "final_pass",
          "year": 2009
         },
         {
          "counts": 2,
          "data_type": "Repository",
          "date": "2009-08-01T00:00:00-04:00",
          "day": 1,
          "month": 8,
          "origin": "final_pass",
          "year": 2009
         },
         {
          "counts": 5,
          "data_type": "Repository",
          "date": "2009-09-01T00:00:00-04:00",
          "day": 1,
          "month": 9,
          "origin": "final_pass",
          "year": 2009
         },
         {
          "counts": 3,
          "data_type": "Repository",
          "date": "2009-10-01T00:00:00-04:00",
          "day": 1,
          "month": 10,
          "origin": "final_pass",
          "year": 2009
         },
         {
          "counts": 5,
          "data_type": "Repository",
          "date": "2009-11-01T00:00:00-04:00",
          "day": 1,
          "month": 11,
          "origin": "final_pass",
          "year": 2009
         },
         {
          "counts": 4,
          "data_type": "Repository",
          "date": "2009-12-01T00:00:00-05:00",
          "day": 1,
          "month": 12,
          "origin": "final_pass",
          "year": 2009
         },
         {
          "counts": 6,
          "data_type": "Repository",
          "date": "2010-01-01T00:00:00-05:00",
          "day": 1,
          "month": 1,
          "origin": "final_pass",
          "year": 2010
         },
         {
          "counts": 3,
          "data_type": "Repository",
          "date": "2010-02-01T00:00:00-05:00",
          "day": 1,
          "month": 2,
          "origin": "final_pass",
          "year": 2010
         },
         {
          "counts": 8,
          "data_type": "Repository",
          "date": "2010-03-01T00:00:00-05:00",
          "day": 1,
          "month": 3,
          "origin": "final_pass",
          "year": 2010
         },
         {
          "counts": 3,
          "data_type": "Repository",
          "date": "2010-04-01T00:00:00-04:00",
          "day": 1,
          "month": 4,
          "origin": "final_pass",
          "year": 2010
         },
         {
          "counts": 7,
          "data_type": "Repository",
          "date": "2010-05-01T00:00:00-04:00",
          "day": 1,
          "month": 5,
          "origin": "final_pass",
          "year": 2010
         },
         {
          "counts": 8,
          "data_type": "Repository",
          "date": "2010-06-01T00:00:00-04:00",
          "day": 1,
          "month": 6,
          "origin": "final_pass",
          "year": 2010
         },
         {
          "counts": 8,
          "data_type": "Repository",
          "date": "2010-07-01T00:00:00-04:00",
          "day": 1,
          "month": 7,
          "origin": "final_pass",
          "year": 2010
         },
         {
          "counts": 9,
          "data_type": "Repository",
          "date": "2010-08-01T00:00:00-04:00",
          "day": 1,
          "month": 8,
          "origin": "final_pass",
          "year": 2010
         },
         {
          "counts": 11,
          "data_type": "Repository",
          "date": "2010-09-01T00:00:00-04:00",
          "day": 1,
          "month": 9,
          "origin": "final_pass",
          "year": 2010
         },
         {
          "counts": 6,
          "data_type": "Repository",
          "date": "2010-10-01T00:00:00-04:00",
          "day": 1,
          "month": 10,
          "origin": "final_pass",
          "year": 2010
         },
         {
          "counts": 10,
          "data_type": "Repository",
          "date": "2010-11-01T00:00:00-04:00",
          "day": 1,
          "month": 11,
          "origin": "final_pass",
          "year": 2010
         },
         {
          "counts": 9,
          "data_type": "Repository",
          "date": "2010-12-01T00:00:00-05:00",
          "day": 1,
          "month": 12,
          "origin": "final_pass",
          "year": 2010
         },
         {
          "counts": 13,
          "data_type": "Repository",
          "date": "2011-01-01T00:00:00-05:00",
          "day": 1,
          "month": 1,
          "origin": "final_pass",
          "year": 2011
         },
         {
          "counts": 11,
          "data_type": "Repository",
          "date": "2011-02-01T00:00:00-05:00",
          "day": 1,
          "month": 2,
          "origin": "final_pass",
          "year": 2011
         },
         {
          "counts": 8,
          "data_type": "Repository",
          "date": "2011-03-01T00:00:00-05:00",
          "day": 1,
          "month": 3,
          "origin": "final_pass",
          "year": 2011
         },
         {
          "counts": 20,
          "data_type": "Repository",
          "date": "2011-04-01T00:00:00-04:00",
          "day": 1,
          "month": 4,
          "origin": "final_pass",
          "year": 2011
         },
         {
          "counts": 7,
          "data_type": "Repository",
          "date": "2011-05-01T00:00:00-04:00",
          "day": 1,
          "month": 5,
          "origin": "final_pass",
          "year": 2011
         },
         {
          "counts": 20,
          "data_type": "Repository",
          "date": "2011-06-01T00:00:00-04:00",
          "day": 1,
          "month": 6,
          "origin": "final_pass",
          "year": 2011
         },
         {
          "counts": 14,
          "data_type": "Repository",
          "date": "2011-07-01T00:00:00-04:00",
          "day": 1,
          "month": 7,
          "origin": "final_pass",
          "year": 2011
         },
         {
          "counts": 26,
          "data_type": "Repository",
          "date": "2011-08-01T00:00:00-04:00",
          "day": 1,
          "month": 8,
          "origin": "final_pass",
          "year": 2011
         },
         {
          "counts": 22,
          "data_type": "Repository",
          "date": "2011-09-01T00:00:00-04:00",
          "day": 1,
          "month": 9,
          "origin": "final_pass",
          "year": 2011
         },
         {
          "counts": 20,
          "data_type": "Repository",
          "date": "2011-10-01T00:00:00-04:00",
          "day": 1,
          "month": 10,
          "origin": "final_pass",
          "year": 2011
         },
         {
          "counts": 24,
          "data_type": "Repository",
          "date": "2011-11-01T00:00:00-04:00",
          "day": 1,
          "month": 11,
          "origin": "final_pass",
          "year": 2011
         },
         {
          "counts": 12,
          "data_type": "Repository",
          "date": "2011-12-01T00:00:00-05:00",
          "day": 1,
          "month": 12,
          "origin": "final_pass",
          "year": 2011
         },
         {
          "counts": 41,
          "data_type": "Repository",
          "date": "2012-01-01T00:00:00-05:00",
          "day": 1,
          "month": 1,
          "origin": "final_pass",
          "year": 2012
         },
         {
          "counts": 33,
          "data_type": "Repository",
          "date": "2012-02-01T00:00:00-05:00",
          "day": 1,
          "month": 2,
          "origin": "final_pass",
          "year": 2012
         },
         {
          "counts": 35,
          "data_type": "Repository",
          "date": "2012-03-01T00:00:00-05:00",
          "day": 1,
          "month": 3,
          "origin": "final_pass",
          "year": 2012
         },
         {
          "counts": 29,
          "data_type": "Repository",
          "date": "2012-04-01T00:00:00-04:00",
          "day": 1,
          "month": 4,
          "origin": "final_pass",
          "year": 2012
         },
         {
          "counts": 38,
          "data_type": "Repository",
          "date": "2012-05-01T00:00:00-04:00",
          "day": 1,
          "month": 5,
          "origin": "final_pass",
          "year": 2012
         },
         {
          "counts": 53,
          "data_type": "Repository",
          "date": "2012-06-01T00:00:00-04:00",
          "day": 1,
          "month": 6,
          "origin": "final_pass",
          "year": 2012
         },
         {
          "counts": 44,
          "data_type": "Repository",
          "date": "2012-07-01T00:00:00-04:00",
          "day": 1,
          "month": 7,
          "origin": "final_pass",
          "year": 2012
         },
         {
          "counts": 34,
          "data_type": "Repository",
          "date": "2012-08-01T00:00:00-04:00",
          "day": 1,
          "month": 8,
          "origin": "final_pass",
          "year": 2012
         },
         {
          "counts": 50,
          "data_type": "Repository",
          "date": "2012-09-01T00:00:00-04:00",
          "day": 1,
          "month": 9,
          "origin": "final_pass",
          "year": 2012
         },
         {
          "counts": 33,
          "data_type": "Repository",
          "date": "2012-10-01T00:00:00-04:00",
          "day": 1,
          "month": 10,
          "origin": "final_pass",
          "year": 2012
         },
         {
          "counts": 40,
          "data_type": "Repository",
          "date": "2012-11-01T00:00:00-04:00",
          "day": 1,
          "month": 11,
          "origin": "final_pass",
          "year": 2012
         },
         {
          "counts": 36,
          "data_type": "Repository",
          "date": "2012-12-01T00:00:00-05:00",
          "day": 1,
          "month": 12,
          "origin": "final_pass",
          "year": 2012
         },
         {
          "counts": 43,
          "data_type": "Repository",
          "date": "2013-01-01T00:00:00-05:00",
          "day": 1,
          "month": 1,
          "origin": "final_pass",
          "year": 2013
         },
         {
          "counts": 49,
          "data_type": "Repository",
          "date": "2013-02-01T00:00:00-05:00",
          "day": 1,
          "month": 2,
          "origin": "final_pass",
          "year": 2013
         },
         {
          "counts": 64,
          "data_type": "Repository",
          "date": "2013-03-01T00:00:00-05:00",
          "day": 1,
          "month": 3,
          "origin": "final_pass",
          "year": 2013
         },
         {
          "counts": 58,
          "data_type": "Repository",
          "date": "2013-04-01T00:00:00-04:00",
          "day": 1,
          "month": 4,
          "origin": "final_pass",
          "year": 2013
         },
         {
          "counts": 46,
          "data_type": "Repository",
          "date": "2013-05-01T00:00:00-04:00",
          "day": 1,
          "month": 5,
          "origin": "final_pass",
          "year": 2013
         },
         {
          "counts": 71,
          "data_type": "Repository",
          "date": "2013-06-01T00:00:00-04:00",
          "day": 1,
          "month": 6,
          "origin": "final_pass",
          "year": 2013
         },
         {
          "counts": 82,
          "data_type": "Repository",
          "date": "2013-07-01T00:00:00-04:00",
          "day": 1,
          "month": 7,
          "origin": "final_pass",
          "year": 2013
         },
         {
          "counts": 78,
          "data_type": "Repository",
          "date": "2013-08-01T00:00:00-04:00",
          "day": 1,
          "month": 8,
          "origin": "final_pass",
          "year": 2013
         },
         {
          "counts": 63,
          "data_type": "Repository",
          "date": "2013-09-01T00:00:00-04:00",
          "day": 1,
          "month": 9,
          "origin": "final_pass",
          "year": 2013
         },
         {
          "counts": 75,
          "data_type": "Repository",
          "date": "2013-10-01T00:00:00-04:00",
          "day": 1,
          "month": 10,
          "origin": "final_pass",
          "year": 2013
         },
         {
          "counts": 96,
          "data_type": "Repository",
          "date": "2013-11-01T00:00:00-04:00",
          "day": 1,
          "month": 11,
          "origin": "final_pass",
          "year": 2013
         },
         {
          "counts": 84,
          "data_type": "Repository",
          "date": "2013-12-01T00:00:00-05:00",
          "day": 1,
          "month": 12,
          "origin": "final_pass",
          "year": 2013
         },
         {
          "counts": 80,
          "data_type": "Repository",
          "date": "2014-01-01T00:00:00-05:00",
          "day": 1,
          "month": 1,
          "origin": "final_pass",
          "year": 2014
         },
         {
          "counts": 84,
          "data_type": "Repository",
          "date": "2014-02-01T00:00:00-05:00",
          "day": 1,
          "month": 2,
          "origin": "final_pass",
          "year": 2014
         },
         {
          "counts": 94,
          "data_type": "Repository",
          "date": "2014-03-01T00:00:00-05:00",
          "day": 1,
          "month": 3,
          "origin": "final_pass",
          "year": 2014
         },
         {
          "counts": 113,
          "data_type": "Repository",
          "date": "2014-04-01T00:00:00-04:00",
          "day": 1,
          "month": 4,
          "origin": "final_pass",
          "year": 2014
         },
         {
          "counts": 90,
          "data_type": "Repository",
          "date": "2014-05-01T00:00:00-04:00",
          "day": 1,
          "month": 5,
          "origin": "final_pass",
          "year": 2014
         },
         {
          "counts": 107,
          "data_type": "Repository",
          "date": "2014-06-01T00:00:00-04:00",
          "day": 1,
          "month": 6,
          "origin": "final_pass",
          "year": 2014
         },
         {
          "counts": 84,
          "data_type": "Repository",
          "date": "2014-07-01T00:00:00-04:00",
          "day": 1,
          "month": 7,
          "origin": "final_pass",
          "year": 2014
         },
         {
          "counts": 99,
          "data_type": "Repository",
          "date": "2014-08-01T00:00:00-04:00",
          "day": 1,
          "month": 8,
          "origin": "final_pass",
          "year": 2014
         },
         {
          "counts": 131,
          "data_type": "Repository",
          "date": "2014-09-01T00:00:00-04:00",
          "day": 1,
          "month": 9,
          "origin": "final_pass",
          "year": 2014
         },
         {
          "counts": 129,
          "data_type": "Repository",
          "date": "2014-10-01T00:00:00-04:00",
          "day": 1,
          "month": 10,
          "origin": "final_pass",
          "year": 2014
         },
         {
          "counts": 132,
          "data_type": "Repository",
          "date": "2014-11-01T00:00:00-04:00",
          "day": 1,
          "month": 11,
          "origin": "final_pass",
          "year": 2014
         },
         {
          "counts": 94,
          "data_type": "Repository",
          "date": "2014-12-01T00:00:00-05:00",
          "day": 1,
          "month": 12,
          "origin": "final_pass",
          "year": 2014
         },
         {
          "counts": 140,
          "data_type": "Repository",
          "date": "2015-01-01T00:00:00-05:00",
          "day": 1,
          "month": 1,
          "origin": "final_pass",
          "year": 2015
         },
         {
          "counts": 194,
          "data_type": "Repository",
          "date": "2015-02-01T00:00:00-05:00",
          "day": 1,
          "month": 2,
          "origin": "final_pass",
          "year": 2015
         },
         {
          "counts": 162,
          "data_type": "Repository",
          "date": "2015-03-01T00:00:00-05:00",
          "day": 1,
          "month": 3,
          "origin": "final_pass",
          "year": 2015
         },
         {
          "counts": 142,
          "data_type": "Repository",
          "date": "2015-04-01T00:00:00-04:00",
          "day": 1,
          "month": 4,
          "origin": "final_pass",
          "year": 2015
         },
         {
          "counts": 171,
          "data_type": "Repository",
          "date": "2015-05-01T00:00:00-04:00",
          "day": 1,
          "month": 5,
          "origin": "final_pass",
          "year": 2015
         },
         {
          "counts": 183,
          "data_type": "Repository",
          "date": "2015-06-01T00:00:00-04:00",
          "day": 1,
          "month": 6,
          "origin": "final_pass",
          "year": 2015
         },
         {
          "counts": 166,
          "data_type": "Repository",
          "date": "2015-07-01T00:00:00-04:00",
          "day": 1,
          "month": 7,
          "origin": "final_pass",
          "year": 2015
         },
         {
          "counts": 152,
          "data_type": "Repository",
          "date": "2015-08-01T00:00:00-04:00",
          "day": 1,
          "month": 8,
          "origin": "final_pass",
          "year": 2015
         },
         {
          "counts": 158,
          "data_type": "Repository",
          "date": "2015-09-01T00:00:00-04:00",
          "day": 1,
          "month": 9,
          "origin": "final_pass",
          "year": 2015
         },
         {
          "counts": 227,
          "data_type": "Repository",
          "date": "2015-10-01T00:00:00-04:00",
          "day": 1,
          "month": 10,
          "origin": "final_pass",
          "year": 2015
         },
         {
          "counts": 214,
          "data_type": "Repository",
          "date": "2015-11-01T00:00:00-04:00",
          "day": 1,
          "month": 11,
          "origin": "final_pass",
          "year": 2015
         },
         {
          "counts": 192,
          "data_type": "Repository",
          "date": "2015-12-01T00:00:00-05:00",
          "day": 1,
          "month": 12,
          "origin": "final_pass",
          "year": 2015
         },
         {
          "counts": 195,
          "data_type": "Repository",
          "date": "2016-01-01T00:00:00-05:00",
          "day": 1,
          "month": 1,
          "origin": "final_pass",
          "year": 2016
         },
         {
          "counts": 251,
          "data_type": "Repository",
          "date": "2016-02-01T00:00:00-05:00",
          "day": 1,
          "month": 2,
          "origin": "final_pass",
          "year": 2016
         },
         {
          "counts": 215,
          "data_type": "Repository",
          "date": "2016-03-01T00:00:00-05:00",
          "day": 1,
          "month": 3,
          "origin": "final_pass",
          "year": 2016
         },
         {
          "counts": 182,
          "data_type": "Repository",
          "date": "2016-04-01T00:00:00-04:00",
          "day": 1,
          "month": 4,
          "origin": "final_pass",
          "year": 2016
         },
         {
          "counts": 199,
          "data_type": "Repository",
          "date": "2016-05-01T00:00:00-04:00",
          "day": 1,
          "month": 5,
          "origin": "final_pass",
          "year": 2016
         },
         {
          "counts": 250,
          "data_type": "Repository",
          "date": "2016-06-01T00:00:00-04:00",
          "day": 1,
          "month": 6,
          "origin": "final_pass",
          "year": 2016
         },
         {
          "counts": 211,
          "data_type": "Repository",
          "date": "2016-07-01T00:00:00-04:00",
          "day": 1,
          "month": 7,
          "origin": "final_pass",
          "year": 2016
         },
         {
          "counts": 223,
          "data_type": "Repository",
          "date": "2016-08-01T00:00:00-04:00",
          "day": 1,
          "month": 8,
          "origin": "final_pass",
          "year": 2016
         },
         {
          "counts": 258,
          "data_type": "Repository",
          "date": "2016-09-01T00:00:00-04:00",
          "day": 1,
          "month": 9,
          "origin": "final_pass",
          "year": 2016
         },
         {
          "counts": 260,
          "data_type": "Repository",
          "date": "2016-10-01T00:00:00-04:00",
          "day": 1,
          "month": 10,
          "origin": "final_pass",
          "year": 2016
         },
         {
          "counts": 255,
          "data_type": "Repository",
          "date": "2016-11-01T00:00:00-04:00",
          "day": 1,
          "month": 11,
          "origin": "final_pass",
          "year": 2016
         },
         {
          "counts": 203,
          "data_type": "Repository",
          "date": "2016-12-01T00:00:00-05:00",
          "day": 1,
          "month": 12,
          "origin": "final_pass",
          "year": 2016
         },
         {
          "counts": 269,
          "data_type": "Repository",
          "date": "2017-01-01T00:00:00-05:00",
          "day": 1,
          "month": 1,
          "origin": "final_pass",
          "year": 2017
         },
         {
          "counts": 309,
          "data_type": "Repository",
          "date": "2017-02-01T00:00:00-05:00",
          "day": 1,
          "month": 2,
          "origin": "final_pass",
          "year": 2017
         },
         {
          "counts": 301,
          "data_type": "Repository",
          "date": "2017-03-01T00:00:00-05:00",
          "day": 1,
          "month": 3,
          "origin": "final_pass",
          "year": 2017
         },
         {
          "counts": 270,
          "data_type": "Repository",
          "date": "2017-04-01T00:00:00-04:00",
          "day": 1,
          "month": 4,
          "origin": "final_pass",
          "year": 2017
         },
         {
          "counts": 244,
          "data_type": "Repository",
          "date": "2017-05-01T00:00:00-04:00",
          "day": 1,
          "month": 5,
          "origin": "final_pass",
          "year": 2017
         },
         {
          "counts": 249,
          "data_type": "Repository",
          "date": "2017-06-01T00:00:00-04:00",
          "day": 1,
          "month": 6,
          "origin": "final_pass",
          "year": 2017
         },
         {
          "counts": 309,
          "data_type": "Repository",
          "date": "2017-07-01T00:00:00-04:00",
          "day": 1,
          "month": 7,
          "origin": "final_pass",
          "year": 2017
         },
         {
          "counts": 260,
          "data_type": "Repository",
          "date": "2017-08-01T00:00:00-04:00",
          "day": 1,
          "month": 8,
          "origin": "final_pass",
          "year": 2017
         },
         {
          "counts": 275,
          "data_type": "Repository",
          "date": "2017-09-01T00:00:00-04:00",
          "day": 1,
          "month": 9,
          "origin": "final_pass",
          "year": 2017
         },
         {
          "counts": 271,
          "data_type": "Repository",
          "date": "2017-10-01T00:00:00-04:00",
          "day": 1,
          "month": 10,
          "origin": "final_pass",
          "year": 2017
         },
         {
          "counts": 283,
          "data_type": "Repository",
          "date": "2017-11-01T00:00:00-04:00",
          "day": 1,
          "month": 11,
          "origin": "final_pass",
          "year": 2017
         },
         {
          "counts": 204,
          "data_type": "Repository",
          "date": "2017-12-01T00:00:00-05:00",
          "day": 1,
          "month": 12,
          "origin": "final_pass",
          "year": 2017
         },
         {
          "counts": 299,
          "data_type": "Repository",
          "date": "2018-01-01T00:00:00-05:00",
          "day": 1,
          "month": 1,
          "origin": "final_pass",
          "year": 2018
         },
         {
          "counts": 264,
          "data_type": "Repository",
          "date": "2018-02-01T00:00:00-05:00",
          "day": 1,
          "month": 2,
          "origin": "final_pass",
          "year": 2018
         },
         {
          "counts": 307,
          "data_type": "Repository",
          "date": "2018-03-01T00:00:00-05:00",
          "day": 1,
          "month": 3,
          "origin": "final_pass",
          "year": 2018
         },
         {
          "counts": 242,
          "data_type": "Repository",
          "date": "2018-04-01T00:00:00-04:00",
          "day": 1,
          "month": 4,
          "origin": "final_pass",
          "year": 2018
         },
         {
          "counts": 279,
          "data_type": "Repository",
          "date": "2018-05-01T00:00:00-04:00",
          "day": 1,
          "month": 5,
          "origin": "final_pass",
          "year": 2018
         },
         {
          "counts": 277,
          "data_type": "Repository",
          "date": "2018-06-01T00:00:00-04:00",
          "day": 1,
          "month": 6,
          "origin": "final_pass",
          "year": 2018
         },
         {
          "counts": 226,
          "data_type": "Repository",
          "date": "2018-07-01T00:00:00-04:00",
          "day": 1,
          "month": 7,
          "origin": "final_pass",
          "year": 2018
         },
         {
          "counts": 231,
          "data_type": "Repository",
          "date": "2018-08-01T00:00:00-04:00",
          "day": 1,
          "month": 8,
          "origin": "final_pass",
          "year": 2018
         },
         {
          "counts": 254,
          "data_type": "Repository",
          "date": "2018-09-01T00:00:00-04:00",
          "day": 1,
          "month": 9,
          "origin": "final_pass",
          "year": 2018
         },
         {
          "counts": 285,
          "data_type": "Repository",
          "date": "2018-10-01T00:00:00-04:00",
          "day": 1,
          "month": 10,
          "origin": "final_pass",
          "year": 2018
         },
         {
          "counts": 276,
          "data_type": "Repository",
          "date": "2018-11-01T00:00:00-04:00",
          "day": 1,
          "month": 11,
          "origin": "final_pass",
          "year": 2018
         },
         {
          "counts": 228,
          "data_type": "Repository",
          "date": "2018-12-01T00:00:00-05:00",
          "day": 1,
          "month": 12,
          "origin": "final_pass",
          "year": 2018
         },
         {
          "counts": 269,
          "data_type": "Repository",
          "date": "2019-01-01T00:00:00-05:00",
          "day": 1,
          "month": 1,
          "origin": "final_pass",
          "year": 2019
         },
         {
          "counts": 244,
          "data_type": "Repository",
          "date": "2019-02-01T00:00:00-05:00",
          "day": 1,
          "month": 2,
          "origin": "final_pass",
          "year": 2019
         },
         {
          "counts": 292,
          "data_type": "Repository",
          "date": "2019-03-01T00:00:00-05:00",
          "day": 1,
          "month": 3,
          "origin": "final_pass",
          "year": 2019
         },
         {
          "counts": 328,
          "data_type": "Repository",
          "date": "2019-04-01T00:00:00-04:00",
          "day": 1,
          "month": 4,
          "origin": "final_pass",
          "year": 2019
         },
         {
          "counts": 292,
          "data_type": "Repository",
          "date": "2019-05-01T00:00:00-04:00",
          "day": 1,
          "month": 5,
          "origin": "final_pass",
          "year": 2019
         },
         {
          "counts": 56,
          "data_type": "Repository",
          "date": "2019-06-01T00:00:00-04:00",
          "day": 1,
          "month": 6,
          "origin": "final_pass",
          "year": 2019
         },
         {
          "counts": 71,
          "data_type": "Repository",
          "date": "2019-07-01T00:00:00-04:00",
          "day": 1,
          "month": 7,
          "origin": "final_pass",
          "year": 2019
         },
         {
          "counts": 185,
          "data_type": "Repository",
          "date": "2019-08-01T00:00:00-04:00",
          "day": 1,
          "month": 8,
          "origin": "final_pass",
          "year": 2019
         },
         {
          "counts": 241,
          "data_type": "Repository",
          "date": "2019-09-01T00:00:00-04:00",
          "day": 1,
          "month": 9,
          "origin": "final_pass",
          "year": 2019
         },
         {
          "counts": 221,
          "data_type": "Repository",
          "date": "2019-10-01T00:00:00-04:00",
          "day": 1,
          "month": 10,
          "origin": "final_pass",
          "year": 2019
         },
         {
          "counts": 240,
          "data_type": "Repository",
          "date": "2019-11-01T00:00:00-04:00",
          "day": 1,
          "month": 11,
          "origin": "final_pass",
          "year": 2019
         },
         {
          "counts": 216,
          "data_type": "Repository",
          "date": "2019-12-01T00:00:00-05:00",
          "day": 1,
          "month": 12,
          "origin": "final_pass",
          "year": 2019
         },
         {
          "counts": 266,
          "data_type": "Repository",
          "date": "2020-01-01T00:00:00-05:00",
          "day": 1,
          "month": 1,
          "origin": "final_pass",
          "year": 2020
         },
         {
          "counts": 259,
          "data_type": "Repository",
          "date": "2020-02-01T00:00:00-05:00",
          "day": 1,
          "month": 2,
          "origin": "final_pass",
          "year": 2020
         },
         {
          "counts": 289,
          "data_type": "Repository",
          "date": "2020-03-01T00:00:00-05:00",
          "day": 1,
          "month": 3,
          "origin": "final_pass",
          "year": 2020
         },
         {
          "counts": 283,
          "data_type": "Repository",
          "date": "2020-04-01T00:00:00-04:00",
          "day": 1,
          "month": 4,
          "origin": "final_pass",
          "year": 2020
         },
         {
          "counts": 327,
          "data_type": "Repository",
          "date": "2020-05-01T00:00:00-04:00",
          "day": 1,
          "month": 5,
          "origin": "final_pass",
          "year": 2020
         },
         {
          "counts": 242,
          "data_type": "Repository",
          "date": "2020-06-01T00:00:00-04:00",
          "day": 1,
          "month": 6,
          "origin": "final_pass",
          "year": 2020
         },
         {
          "counts": 177,
          "data_type": "Repository",
          "date": "2020-07-01T00:00:00-04:00",
          "day": 1,
          "month": 7,
          "origin": "final_pass",
          "year": 2020
         },
         {
          "counts": 213,
          "data_type": "Repository",
          "date": "2020-08-01T00:00:00-04:00",
          "day": 1,
          "month": 8,
          "origin": "final_pass",
          "year": 2020
         },
         {
          "counts": 194,
          "data_type": "Repository",
          "date": "2020-09-01T00:00:00-04:00",
          "day": 1,
          "month": 9,
          "origin": "final_pass",
          "year": 2020
         },
         {
          "counts": 234,
          "data_type": "Repository",
          "date": "2020-10-01T00:00:00-04:00",
          "day": 1,
          "month": 10,
          "origin": "final_pass",
          "year": 2020
         },
         {
          "counts": 218,
          "data_type": "Repository",
          "date": "2020-11-01T00:00:00-04:00",
          "day": 1,
          "month": 11,
          "origin": "final_pass",
          "year": 2020
         },
         {
          "counts": 242,
          "data_type": "Repository",
          "date": "2020-12-01T00:00:00-05:00",
          "day": 1,
          "month": 12,
          "origin": "final_pass",
          "year": 2020
         },
         {
          "counts": 251,
          "data_type": "Repository",
          "date": "2021-01-01T00:00:00-05:00",
          "day": 1,
          "month": 1,
          "origin": "final_pass",
          "year": 2021
         },
         {
          "counts": 286,
          "data_type": "Repository",
          "date": "2021-02-01T00:00:00-05:00",
          "day": 1,
          "month": 2,
          "origin": "final_pass",
          "year": 2021
         },
         {
          "counts": 319,
          "data_type": "Repository",
          "date": "2021-03-01T00:00:00-05:00",
          "day": 1,
          "month": 3,
          "origin": "final_pass",
          "year": 2021
         },
         {
          "counts": 264,
          "data_type": "Repository",
          "date": "2021-04-01T00:00:00-04:00",
          "day": 1,
          "month": 4,
          "origin": "final_pass",
          "year": 2021
         },
         {
          "counts": 256,
          "data_type": "Repository",
          "date": "2021-05-01T00:00:00-04:00",
          "day": 1,
          "month": 5,
          "origin": "final_pass",
          "year": 2021
         },
         {
          "counts": 267,
          "data_type": "Repository",
          "date": "2021-06-01T00:00:00-04:00",
          "day": 1,
          "month": 6,
          "origin": "final_pass",
          "year": 2021
         },
         {
          "counts": 212,
          "data_type": "Repository",
          "date": "2021-07-01T00:00:00-04:00",
          "day": 1,
          "month": 7,
          "origin": "final_pass",
          "year": 2021
         },
         {
          "counts": 214,
          "data_type": "Repository",
          "date": "2021-08-01T00:00:00-04:00",
          "day": 1,
          "month": 8,
          "origin": "final_pass",
          "year": 2021
         },
         {
          "counts": 276,
          "data_type": "Repository",
          "date": "2021-09-01T00:00:00-04:00",
          "day": 1,
          "month": 9,
          "origin": "final_pass",
          "year": 2021
         },
         {
          "counts": 239,
          "data_type": "Repository",
          "date": "2021-10-01T00:00:00-04:00",
          "day": 1,
          "month": 10,
          "origin": "final_pass",
          "year": 2021
         },
         {
          "counts": 265,
          "data_type": "Repository",
          "date": "2021-11-01T00:00:00-04:00",
          "day": 1,
          "month": 11,
          "origin": "final_pass",
          "year": 2021
         },
         {
          "counts": 240,
          "data_type": "Repository",
          "date": "2021-12-01T00:00:00-05:00",
          "day": 1,
          "month": 12,
          "origin": "final_pass",
          "year": 2021
         },
         {
          "counts": 245,
          "data_type": "Repository",
          "date": "2022-01-01T00:00:00-05:00",
          "day": 1,
          "month": 1,
          "origin": "final_pass",
          "year": 2022
         },
         {
          "counts": 212,
          "data_type": "Repository",
          "date": "2022-02-01T00:00:00-05:00",
          "day": 1,
          "month": 2,
          "origin": "final_pass",
          "year": 2022
         },
         {
          "counts": 267,
          "data_type": "Repository",
          "date": "2022-03-01T00:00:00-05:00",
          "day": 1,
          "month": 3,
          "origin": "final_pass",
          "year": 2022
         },
         {
          "counts": 246,
          "data_type": "Repository",
          "date": "2022-04-01T00:00:00-04:00",
          "day": 1,
          "month": 4,
          "origin": "final_pass",
          "year": 2022
         },
         {
          "counts": 283,
          "data_type": "Repository",
          "date": "2022-05-01T00:00:00-04:00",
          "day": 1,
          "month": 5,
          "origin": "final_pass",
          "year": 2022
         },
         {
          "counts": 185,
          "data_type": "Repository",
          "date": "2022-06-01T00:00:00-04:00",
          "day": 1,
          "month": 6,
          "origin": "final_pass",
          "year": 2022
         },
         {
          "counts": 190,
          "data_type": "Repository",
          "date": "2022-07-01T00:00:00-04:00",
          "day": 1,
          "month": 7,
          "origin": "final_pass",
          "year": 2022
         },
         {
          "counts": 199,
          "data_type": "Repository",
          "date": "2022-08-01T00:00:00-04:00",
          "day": 1,
          "month": 8,
          "origin": "final_pass",
          "year": 2022
         },
         {
          "counts": 264,
          "data_type": "Repository",
          "date": "2022-09-01T00:00:00-04:00",
          "day": 1,
          "month": 9,
          "origin": "final_pass",
          "year": 2022
         },
         {
          "counts": 229,
          "data_type": "Repository",
          "date": "2022-10-01T00:00:00-04:00",
          "day": 1,
          "month": 10,
          "origin": "final_pass",
          "year": 2022
         },
         {
          "counts": 246,
          "data_type": "Repository",
          "date": "2022-11-01T00:00:00-04:00",
          "day": 1,
          "month": 11,
          "origin": "final_pass",
          "year": 2022
         },
         {
          "counts": 209,
          "data_type": "Repository",
          "date": "2022-12-01T00:00:00-05:00",
          "day": 1,
          "month": 12,
          "origin": "final_pass",
          "year": 2022
         },
         {
          "counts": 223,
          "data_type": "Repository",
          "date": "2023-01-01T00:00:00-05:00",
          "day": 1,
          "month": 1,
          "origin": "final_pass",
          "year": 2023
         },
         {
          "counts": 209,
          "data_type": "Repository",
          "date": "2023-02-01T00:00:00-05:00",
          "day": 1,
          "month": 2,
          "origin": "final_pass",
          "year": 2023
         },
         {
          "counts": 216,
          "data_type": "Repository",
          "date": "2023-03-01T00:00:00-05:00",
          "day": 1,
          "month": 3,
          "origin": "final_pass",
          "year": 2023
         },
         {
          "counts": 203,
          "data_type": "Repository",
          "date": "2023-04-01T00:00:00-04:00",
          "day": 1,
          "month": 4,
          "origin": "final_pass",
          "year": 2023
         },
         {
          "counts": 173,
          "data_type": "Repository",
          "date": "2023-05-01T00:00:00-04:00",
          "day": 1,
          "month": 5,
          "origin": "final_pass",
          "year": 2023
         },
         {
          "counts": 65,
          "data_type": "Repository",
          "date": "2023-06-01T00:00:00-04:00",
          "day": 1,
          "month": 6,
          "origin": "final_pass",
          "year": 2023
         },
         {
          "counts": 3,
          "data_type": "Repository",
          "date": "2008-08-01T00:00:00-04:00",
          "day": 1,
          "month": 8,
          "origin": "first_pass",
          "year": 2008
         },
         {
          "counts": 1,
          "data_type": "Repository",
          "date": "2008-09-01T00:00:00-04:00",
          "day": 1,
          "month": 9,
          "origin": "first_pass",
          "year": 2008
         },
         {
          "counts": 1,
          "data_type": "Repository",
          "date": "2009-04-01T00:00:00-04:00",
          "day": 1,
          "month": 4,
          "origin": "first_pass",
          "year": 2009
         },
         {
          "counts": 3,
          "data_type": "Repository",
          "date": "2009-09-01T00:00:00-04:00",
          "day": 1,
          "month": 9,
          "origin": "first_pass",
          "year": 2009
         },
         {
          "counts": 2,
          "data_type": "Repository",
          "date": "2009-10-01T00:00:00-04:00",
          "day": 1,
          "month": 10,
          "origin": "first_pass",
          "year": 2009
         },
         {
          "counts": 2,
          "data_type": "Repository",
          "date": "2009-11-01T00:00:00-04:00",
          "day": 1,
          "month": 11,
          "origin": "first_pass",
          "year": 2009
         },
         {
          "counts": 1,
          "data_type": "Repository",
          "date": "2009-12-01T00:00:00-05:00",
          "day": 1,
          "month": 12,
          "origin": "first_pass",
          "year": 2009
         },
         {
          "counts": 1,
          "data_type": "Repository",
          "date": "2010-01-01T00:00:00-05:00",
          "day": 1,
          "month": 1,
          "origin": "first_pass",
          "year": 2010
         },
         {
          "counts": 1,
          "data_type": "Repository",
          "date": "2010-02-01T00:00:00-05:00",
          "day": 1,
          "month": 2,
          "origin": "first_pass",
          "year": 2010
         },
         {
          "counts": 1,
          "data_type": "Repository",
          "date": "2010-03-01T00:00:00-05:00",
          "day": 1,
          "month": 3,
          "origin": "first_pass",
          "year": 2010
         },
         {
          "counts": 1,
          "data_type": "Repository",
          "date": "2010-04-01T00:00:00-04:00",
          "day": 1,
          "month": 4,
          "origin": "first_pass",
          "year": 2010
         },
         {
          "counts": 3,
          "data_type": "Repository",
          "date": "2010-05-01T00:00:00-04:00",
          "day": 1,
          "month": 5,
          "origin": "first_pass",
          "year": 2010
         },
         {
          "counts": 2,
          "data_type": "Repository",
          "date": "2010-06-01T00:00:00-04:00",
          "day": 1,
          "month": 6,
          "origin": "first_pass",
          "year": 2010
         },
         {
          "counts": 3,
          "data_type": "Repository",
          "date": "2010-07-01T00:00:00-04:00",
          "day": 1,
          "month": 7,
          "origin": "first_pass",
          "year": 2010
         },
         {
          "counts": 4,
          "data_type": "Repository",
          "date": "2010-08-01T00:00:00-04:00",
          "day": 1,
          "month": 8,
          "origin": "first_pass",
          "year": 2010
         },
         {
          "counts": 3,
          "data_type": "Repository",
          "date": "2010-09-01T00:00:00-04:00",
          "day": 1,
          "month": 9,
          "origin": "first_pass",
          "year": 2010
         },
         {
          "counts": 2,
          "data_type": "Repository",
          "date": "2010-10-01T00:00:00-04:00",
          "day": 1,
          "month": 10,
          "origin": "first_pass",
          "year": 2010
         },
         {
          "counts": 1,
          "data_type": "Repository",
          "date": "2010-11-01T00:00:00-04:00",
          "day": 1,
          "month": 11,
          "origin": "first_pass",
          "year": 2010
         },
         {
          "counts": 6,
          "data_type": "Repository",
          "date": "2010-12-01T00:00:00-05:00",
          "day": 1,
          "month": 12,
          "origin": "first_pass",
          "year": 2010
         },
         {
          "counts": 2,
          "data_type": "Repository",
          "date": "2011-01-01T00:00:00-05:00",
          "day": 1,
          "month": 1,
          "origin": "first_pass",
          "year": 2011
         },
         {
          "counts": 1,
          "data_type": "Repository",
          "date": "2011-03-01T00:00:00-05:00",
          "day": 1,
          "month": 3,
          "origin": "first_pass",
          "year": 2011
         },
         {
          "counts": 4,
          "data_type": "Repository",
          "date": "2011-04-01T00:00:00-04:00",
          "day": 1,
          "month": 4,
          "origin": "first_pass",
          "year": 2011
         },
         {
          "counts": 2,
          "data_type": "Repository",
          "date": "2011-05-01T00:00:00-04:00",
          "day": 1,
          "month": 5,
          "origin": "first_pass",
          "year": 2011
         },
         {
          "counts": 10,
          "data_type": "Repository",
          "date": "2011-06-01T00:00:00-04:00",
          "day": 1,
          "month": 6,
          "origin": "first_pass",
          "year": 2011
         },
         {
          "counts": 7,
          "data_type": "Repository",
          "date": "2011-07-01T00:00:00-04:00",
          "day": 1,
          "month": 7,
          "origin": "first_pass",
          "year": 2011
         },
         {
          "counts": 4,
          "data_type": "Repository",
          "date": "2011-08-01T00:00:00-04:00",
          "day": 1,
          "month": 8,
          "origin": "first_pass",
          "year": 2011
         },
         {
          "counts": 3,
          "data_type": "Repository",
          "date": "2011-09-01T00:00:00-04:00",
          "day": 1,
          "month": 9,
          "origin": "first_pass",
          "year": 2011
         },
         {
          "counts": 8,
          "data_type": "Repository",
          "date": "2011-10-01T00:00:00-04:00",
          "day": 1,
          "month": 10,
          "origin": "first_pass",
          "year": 2011
         },
         {
          "counts": 7,
          "data_type": "Repository",
          "date": "2011-11-01T00:00:00-04:00",
          "day": 1,
          "month": 11,
          "origin": "first_pass",
          "year": 2011
         },
         {
          "counts": 6,
          "data_type": "Repository",
          "date": "2011-12-01T00:00:00-05:00",
          "day": 1,
          "month": 12,
          "origin": "first_pass",
          "year": 2011
         },
         {
          "counts": 16,
          "data_type": "Repository",
          "date": "2012-01-01T00:00:00-05:00",
          "day": 1,
          "month": 1,
          "origin": "first_pass",
          "year": 2012
         },
         {
          "counts": 9,
          "data_type": "Repository",
          "date": "2012-02-01T00:00:00-05:00",
          "day": 1,
          "month": 2,
          "origin": "first_pass",
          "year": 2012
         },
         {
          "counts": 6,
          "data_type": "Repository",
          "date": "2012-03-01T00:00:00-05:00",
          "day": 1,
          "month": 3,
          "origin": "first_pass",
          "year": 2012
         },
         {
          "counts": 7,
          "data_type": "Repository",
          "date": "2012-04-01T00:00:00-04:00",
          "day": 1,
          "month": 4,
          "origin": "first_pass",
          "year": 2012
         },
         {
          "counts": 8,
          "data_type": "Repository",
          "date": "2012-05-01T00:00:00-04:00",
          "day": 1,
          "month": 5,
          "origin": "first_pass",
          "year": 2012
         },
         {
          "counts": 17,
          "data_type": "Repository",
          "date": "2012-06-01T00:00:00-04:00",
          "day": 1,
          "month": 6,
          "origin": "first_pass",
          "year": 2012
         },
         {
          "counts": 11,
          "data_type": "Repository",
          "date": "2012-07-01T00:00:00-04:00",
          "day": 1,
          "month": 7,
          "origin": "first_pass",
          "year": 2012
         },
         {
          "counts": 6,
          "data_type": "Repository",
          "date": "2012-08-01T00:00:00-04:00",
          "day": 1,
          "month": 8,
          "origin": "first_pass",
          "year": 2012
         },
         {
          "counts": 3,
          "data_type": "Repository",
          "date": "2012-09-01T00:00:00-04:00",
          "day": 1,
          "month": 9,
          "origin": "first_pass",
          "year": 2012
         },
         {
          "counts": 11,
          "data_type": "Repository",
          "date": "2012-10-01T00:00:00-04:00",
          "day": 1,
          "month": 10,
          "origin": "first_pass",
          "year": 2012
         },
         {
          "counts": 12,
          "data_type": "Repository",
          "date": "2012-11-01T00:00:00-04:00",
          "day": 1,
          "month": 11,
          "origin": "first_pass",
          "year": 2012
         },
         {
          "counts": 9,
          "data_type": "Repository",
          "date": "2012-12-01T00:00:00-05:00",
          "day": 1,
          "month": 12,
          "origin": "first_pass",
          "year": 2012
         },
         {
          "counts": 12,
          "data_type": "Repository",
          "date": "2013-01-01T00:00:00-05:00",
          "day": 1,
          "month": 1,
          "origin": "first_pass",
          "year": 2013
         },
         {
          "counts": 5,
          "data_type": "Repository",
          "date": "2013-02-01T00:00:00-05:00",
          "day": 1,
          "month": 2,
          "origin": "first_pass",
          "year": 2013
         },
         {
          "counts": 7,
          "data_type": "Repository",
          "date": "2013-03-01T00:00:00-05:00",
          "day": 1,
          "month": 3,
          "origin": "first_pass",
          "year": 2013
         },
         {
          "counts": 15,
          "data_type": "Repository",
          "date": "2013-04-01T00:00:00-04:00",
          "day": 1,
          "month": 4,
          "origin": "first_pass",
          "year": 2013
         },
         {
          "counts": 9,
          "data_type": "Repository",
          "date": "2013-05-01T00:00:00-04:00",
          "day": 1,
          "month": 5,
          "origin": "first_pass",
          "year": 2013
         },
         {
          "counts": 15,
          "data_type": "Repository",
          "date": "2013-06-01T00:00:00-04:00",
          "day": 1,
          "month": 6,
          "origin": "first_pass",
          "year": 2013
         },
         {
          "counts": 15,
          "data_type": "Repository",
          "date": "2013-07-01T00:00:00-04:00",
          "day": 1,
          "month": 7,
          "origin": "first_pass",
          "year": 2013
         },
         {
          "counts": 20,
          "data_type": "Repository",
          "date": "2013-08-01T00:00:00-04:00",
          "day": 1,
          "month": 8,
          "origin": "first_pass",
          "year": 2013
         },
         {
          "counts": 10,
          "data_type": "Repository",
          "date": "2013-09-01T00:00:00-04:00",
          "day": 1,
          "month": 9,
          "origin": "first_pass",
          "year": 2013
         },
         {
          "counts": 13,
          "data_type": "Repository",
          "date": "2013-10-01T00:00:00-04:00",
          "day": 1,
          "month": 10,
          "origin": "first_pass",
          "year": 2013
         },
         {
          "counts": 9,
          "data_type": "Repository",
          "date": "2013-11-01T00:00:00-04:00",
          "day": 1,
          "month": 11,
          "origin": "first_pass",
          "year": 2013
         },
         {
          "counts": 12,
          "data_type": "Repository",
          "date": "2013-12-01T00:00:00-05:00",
          "day": 1,
          "month": 12,
          "origin": "first_pass",
          "year": 2013
         },
         {
          "counts": 16,
          "data_type": "Repository",
          "date": "2014-01-01T00:00:00-05:00",
          "day": 1,
          "month": 1,
          "origin": "first_pass",
          "year": 2014
         },
         {
          "counts": 15,
          "data_type": "Repository",
          "date": "2014-02-01T00:00:00-05:00",
          "day": 1,
          "month": 2,
          "origin": "first_pass",
          "year": 2014
         },
         {
          "counts": 26,
          "data_type": "Repository",
          "date": "2014-03-01T00:00:00-05:00",
          "day": 1,
          "month": 3,
          "origin": "first_pass",
          "year": 2014
         },
         {
          "counts": 17,
          "data_type": "Repository",
          "date": "2014-04-01T00:00:00-04:00",
          "day": 1,
          "month": 4,
          "origin": "first_pass",
          "year": 2014
         },
         {
          "counts": 21,
          "data_type": "Repository",
          "date": "2014-05-01T00:00:00-04:00",
          "day": 1,
          "month": 5,
          "origin": "first_pass",
          "year": 2014
         },
         {
          "counts": 19,
          "data_type": "Repository",
          "date": "2014-06-01T00:00:00-04:00",
          "day": 1,
          "month": 6,
          "origin": "first_pass",
          "year": 2014
         },
         {
          "counts": 23,
          "data_type": "Repository",
          "date": "2014-07-01T00:00:00-04:00",
          "day": 1,
          "month": 7,
          "origin": "first_pass",
          "year": 2014
         },
         {
          "counts": 29,
          "data_type": "Repository",
          "date": "2014-08-01T00:00:00-04:00",
          "day": 1,
          "month": 8,
          "origin": "first_pass",
          "year": 2014
         },
         {
          "counts": 44,
          "data_type": "Repository",
          "date": "2014-09-01T00:00:00-04:00",
          "day": 1,
          "month": 9,
          "origin": "first_pass",
          "year": 2014
         },
         {
          "counts": 28,
          "data_type": "Repository",
          "date": "2014-10-01T00:00:00-04:00",
          "day": 1,
          "month": 10,
          "origin": "first_pass",
          "year": 2014
         },
         {
          "counts": 38,
          "data_type": "Repository",
          "date": "2014-11-01T00:00:00-04:00",
          "day": 1,
          "month": 11,
          "origin": "first_pass",
          "year": 2014
         },
         {
          "counts": 26,
          "data_type": "Repository",
          "date": "2014-12-01T00:00:00-05:00",
          "day": 1,
          "month": 12,
          "origin": "first_pass",
          "year": 2014
         },
         {
          "counts": 47,
          "data_type": "Repository",
          "date": "2015-01-01T00:00:00-05:00",
          "day": 1,
          "month": 1,
          "origin": "first_pass",
          "year": 2015
         },
         {
          "counts": 51,
          "data_type": "Repository",
          "date": "2015-02-01T00:00:00-05:00",
          "day": 1,
          "month": 2,
          "origin": "first_pass",
          "year": 2015
         },
         {
          "counts": 62,
          "data_type": "Repository",
          "date": "2015-03-01T00:00:00-05:00",
          "day": 1,
          "month": 3,
          "origin": "first_pass",
          "year": 2015
         },
         {
          "counts": 49,
          "data_type": "Repository",
          "date": "2015-04-01T00:00:00-04:00",
          "day": 1,
          "month": 4,
          "origin": "first_pass",
          "year": 2015
         },
         {
          "counts": 39,
          "data_type": "Repository",
          "date": "2015-05-01T00:00:00-04:00",
          "day": 1,
          "month": 5,
          "origin": "first_pass",
          "year": 2015
         },
         {
          "counts": 46,
          "data_type": "Repository",
          "date": "2015-06-01T00:00:00-04:00",
          "day": 1,
          "month": 6,
          "origin": "first_pass",
          "year": 2015
         },
         {
          "counts": 48,
          "data_type": "Repository",
          "date": "2015-07-01T00:00:00-04:00",
          "day": 1,
          "month": 7,
          "origin": "first_pass",
          "year": 2015
         },
         {
          "counts": 50,
          "data_type": "Repository",
          "date": "2015-08-01T00:00:00-04:00",
          "day": 1,
          "month": 8,
          "origin": "first_pass",
          "year": 2015
         },
         {
          "counts": 39,
          "data_type": "Repository",
          "date": "2015-09-01T00:00:00-04:00",
          "day": 1,
          "month": 9,
          "origin": "first_pass",
          "year": 2015
         },
         {
          "counts": 48,
          "data_type": "Repository",
          "date": "2015-10-01T00:00:00-04:00",
          "day": 1,
          "month": 10,
          "origin": "first_pass",
          "year": 2015
         },
         {
          "counts": 51,
          "data_type": "Repository",
          "date": "2015-11-01T00:00:00-04:00",
          "day": 1,
          "month": 11,
          "origin": "first_pass",
          "year": 2015
         },
         {
          "counts": 46,
          "data_type": "Repository",
          "date": "2015-12-01T00:00:00-05:00",
          "day": 1,
          "month": 12,
          "origin": "first_pass",
          "year": 2015
         },
         {
          "counts": 83,
          "data_type": "Repository",
          "date": "2016-01-01T00:00:00-05:00",
          "day": 1,
          "month": 1,
          "origin": "first_pass",
          "year": 2016
         },
         {
          "counts": 75,
          "data_type": "Repository",
          "date": "2016-02-01T00:00:00-05:00",
          "day": 1,
          "month": 2,
          "origin": "first_pass",
          "year": 2016
         },
         {
          "counts": 124,
          "data_type": "Repository",
          "date": "2016-03-01T00:00:00-05:00",
          "day": 1,
          "month": 3,
          "origin": "first_pass",
          "year": 2016
         },
         {
          "counts": 47,
          "data_type": "Repository",
          "date": "2016-04-01T00:00:00-04:00",
          "day": 1,
          "month": 4,
          "origin": "first_pass",
          "year": 2016
         },
         {
          "counts": 75,
          "data_type": "Repository",
          "date": "2016-05-01T00:00:00-04:00",
          "day": 1,
          "month": 5,
          "origin": "first_pass",
          "year": 2016
         },
         {
          "counts": 101,
          "data_type": "Repository",
          "date": "2016-06-01T00:00:00-04:00",
          "day": 1,
          "month": 6,
          "origin": "first_pass",
          "year": 2016
         },
         {
          "counts": 89,
          "data_type": "Repository",
          "date": "2016-07-01T00:00:00-04:00",
          "day": 1,
          "month": 7,
          "origin": "first_pass",
          "year": 2016
         },
         {
          "counts": 78,
          "data_type": "Repository",
          "date": "2016-08-01T00:00:00-04:00",
          "day": 1,
          "month": 8,
          "origin": "first_pass",
          "year": 2016
         },
         {
          "counts": 87,
          "data_type": "Repository",
          "date": "2016-09-01T00:00:00-04:00",
          "day": 1,
          "month": 9,
          "origin": "first_pass",
          "year": 2016
         },
         {
          "counts": 91,
          "data_type": "Repository",
          "date": "2016-10-01T00:00:00-04:00",
          "day": 1,
          "month": 10,
          "origin": "first_pass",
          "year": 2016
         },
         {
          "counts": 83,
          "data_type": "Repository",
          "date": "2016-11-01T00:00:00-04:00",
          "day": 1,
          "month": 11,
          "origin": "first_pass",
          "year": 2016
         },
         {
          "counts": 55,
          "data_type": "Repository",
          "date": "2016-12-01T00:00:00-05:00",
          "day": 1,
          "month": 12,
          "origin": "first_pass",
          "year": 2016
         },
         {
          "counts": 88,
          "data_type": "Repository",
          "date": "2017-01-01T00:00:00-05:00",
          "day": 1,
          "month": 1,
          "origin": "first_pass",
          "year": 2017
         },
         {
          "counts": 122,
          "data_type": "Repository",
          "date": "2017-02-01T00:00:00-05:00",
          "day": 1,
          "month": 2,
          "origin": "first_pass",
          "year": 2017
         },
         {
          "counts": 156,
          "data_type": "Repository",
          "date": "2017-03-01T00:00:00-05:00",
          "day": 1,
          "month": 3,
          "origin": "first_pass",
          "year": 2017
         },
         {
          "counts": 70,
          "data_type": "Repository",
          "date": "2017-04-01T00:00:00-04:00",
          "day": 1,
          "month": 4,
          "origin": "first_pass",
          "year": 2017
         },
         {
          "counts": 71,
          "data_type": "Repository",
          "date": "2017-05-01T00:00:00-04:00",
          "day": 1,
          "month": 5,
          "origin": "first_pass",
          "year": 2017
         },
         {
          "counts": 98,
          "data_type": "Repository",
          "date": "2017-06-01T00:00:00-04:00",
          "day": 1,
          "month": 6,
          "origin": "first_pass",
          "year": 2017
         },
         {
          "counts": 125,
          "data_type": "Repository",
          "date": "2017-07-01T00:00:00-04:00",
          "day": 1,
          "month": 7,
          "origin": "first_pass",
          "year": 2017
         },
         {
          "counts": 80,
          "data_type": "Repository",
          "date": "2017-08-01T00:00:00-04:00",
          "day": 1,
          "month": 8,
          "origin": "first_pass",
          "year": 2017
         },
         {
          "counts": 102,
          "data_type": "Repository",
          "date": "2017-09-01T00:00:00-04:00",
          "day": 1,
          "month": 9,
          "origin": "first_pass",
          "year": 2017
         },
         {
          "counts": 107,
          "data_type": "Repository",
          "date": "2017-10-01T00:00:00-04:00",
          "day": 1,
          "month": 10,
          "origin": "first_pass",
          "year": 2017
         },
         {
          "counts": 90,
          "data_type": "Repository",
          "date": "2017-11-01T00:00:00-04:00",
          "day": 1,
          "month": 11,
          "origin": "first_pass",
          "year": 2017
         },
         {
          "counts": 68,
          "data_type": "Repository",
          "date": "2017-12-01T00:00:00-05:00",
          "day": 1,
          "month": 12,
          "origin": "first_pass",
          "year": 2017
         },
         {
          "counts": 85,
          "data_type": "Repository",
          "date": "2018-01-01T00:00:00-05:00",
          "day": 1,
          "month": 1,
          "origin": "first_pass",
          "year": 2018
         },
         {
          "counts": 93,
          "data_type": "Repository",
          "date": "2018-02-01T00:00:00-05:00",
          "day": 1,
          "month": 2,
          "origin": "first_pass",
          "year": 2018
         },
         {
          "counts": 150,
          "data_type": "Repository",
          "date": "2018-03-01T00:00:00-05:00",
          "day": 1,
          "month": 3,
          "origin": "first_pass",
          "year": 2018
         },
         {
          "counts": 99,
          "data_type": "Repository",
          "date": "2018-04-01T00:00:00-04:00",
          "day": 1,
          "month": 4,
          "origin": "first_pass",
          "year": 2018
         },
         {
          "counts": 141,
          "data_type": "Repository",
          "date": "2018-05-01T00:00:00-04:00",
          "day": 1,
          "month": 5,
          "origin": "first_pass",
          "year": 2018
         },
         {
          "counts": 132,
          "data_type": "Repository",
          "date": "2018-06-01T00:00:00-04:00",
          "day": 1,
          "month": 6,
          "origin": "first_pass",
          "year": 2018
         },
         {
          "counts": 98,
          "data_type": "Repository",
          "date": "2018-07-01T00:00:00-04:00",
          "day": 1,
          "month": 7,
          "origin": "first_pass",
          "year": 2018
         },
         {
          "counts": 68,
          "data_type": "Repository",
          "date": "2018-08-01T00:00:00-04:00",
          "day": 1,
          "month": 8,
          "origin": "first_pass",
          "year": 2018
         },
         {
          "counts": 106,
          "data_type": "Repository",
          "date": "2018-09-01T00:00:00-04:00",
          "day": 1,
          "month": 9,
          "origin": "first_pass",
          "year": 2018
         },
         {
          "counts": 130,
          "data_type": "Repository",
          "date": "2018-10-01T00:00:00-04:00",
          "day": 1,
          "month": 10,
          "origin": "first_pass",
          "year": 2018
         },
         {
          "counts": 95,
          "data_type": "Repository",
          "date": "2018-11-01T00:00:00-04:00",
          "day": 1,
          "month": 11,
          "origin": "first_pass",
          "year": 2018
         },
         {
          "counts": 62,
          "data_type": "Repository",
          "date": "2018-12-01T00:00:00-05:00",
          "day": 1,
          "month": 12,
          "origin": "first_pass",
          "year": 2018
         },
         {
          "counts": 94,
          "data_type": "Repository",
          "date": "2019-01-01T00:00:00-05:00",
          "day": 1,
          "month": 1,
          "origin": "first_pass",
          "year": 2019
         },
         {
          "counts": 98,
          "data_type": "Repository",
          "date": "2019-02-01T00:00:00-05:00",
          "day": 1,
          "month": 2,
          "origin": "first_pass",
          "year": 2019
         },
         {
          "counts": 130,
          "data_type": "Repository",
          "date": "2019-03-01T00:00:00-05:00",
          "day": 1,
          "month": 3,
          "origin": "first_pass",
          "year": 2019
         },
         {
          "counts": 122,
          "data_type": "Repository",
          "date": "2019-04-01T00:00:00-04:00",
          "day": 1,
          "month": 4,
          "origin": "first_pass",
          "year": 2019
         },
         {
          "counts": 111,
          "data_type": "Repository",
          "date": "2019-05-01T00:00:00-04:00",
          "day": 1,
          "month": 5,
          "origin": "first_pass",
          "year": 2019
         },
         {
          "counts": 90,
          "data_type": "Repository",
          "date": "2019-06-01T00:00:00-04:00",
          "day": 1,
          "month": 6,
          "origin": "first_pass",
          "year": 2019
         },
         {
          "counts": 86,
          "data_type": "Repository",
          "date": "2019-07-01T00:00:00-04:00",
          "day": 1,
          "month": 7,
          "origin": "first_pass",
          "year": 2019
         },
         {
          "counts": 129,
          "data_type": "Repository",
          "date": "2019-08-01T00:00:00-04:00",
          "day": 1,
          "month": 8,
          "origin": "first_pass",
          "year": 2019
         },
         {
          "counts": 128,
          "data_type": "Repository",
          "date": "2019-09-01T00:00:00-04:00",
          "day": 1,
          "month": 9,
          "origin": "first_pass",
          "year": 2019
         },
         {
          "counts": 137,
          "data_type": "Repository",
          "date": "2019-10-01T00:00:00-04:00",
          "day": 1,
          "month": 10,
          "origin": "first_pass",
          "year": 2019
         },
         {
          "counts": 116,
          "data_type": "Repository",
          "date": "2019-11-01T00:00:00-04:00",
          "day": 1,
          "month": 11,
          "origin": "first_pass",
          "year": 2019
         },
         {
          "counts": 101,
          "data_type": "Repository",
          "date": "2019-12-01T00:00:00-05:00",
          "day": 1,
          "month": 12,
          "origin": "first_pass",
          "year": 2019
         },
         {
          "counts": 125,
          "data_type": "Repository",
          "date": "2020-01-01T00:00:00-05:00",
          "day": 1,
          "month": 1,
          "origin": "first_pass",
          "year": 2020
         },
         {
          "counts": 134,
          "data_type": "Repository",
          "date": "2020-02-01T00:00:00-05:00",
          "day": 1,
          "month": 2,
          "origin": "first_pass",
          "year": 2020
         },
         {
          "counts": 177,
          "data_type": "Repository",
          "date": "2020-03-01T00:00:00-05:00",
          "day": 1,
          "month": 3,
          "origin": "first_pass",
          "year": 2020
         },
         {
          "counts": 167,
          "data_type": "Repository",
          "date": "2020-04-01T00:00:00-04:00",
          "day": 1,
          "month": 4,
          "origin": "first_pass",
          "year": 2020
         },
         {
          "counts": 237,
          "data_type": "Repository",
          "date": "2020-05-01T00:00:00-04:00",
          "day": 1,
          "month": 5,
          "origin": "first_pass",
          "year": 2020
         },
         {
          "counts": 226,
          "data_type": "Repository",
          "date": "2020-06-01T00:00:00-04:00",
          "day": 1,
          "month": 6,
          "origin": "first_pass",
          "year": 2020
         },
         {
          "counts": 174,
          "data_type": "Repository",
          "date": "2020-07-01T00:00:00-04:00",
          "day": 1,
          "month": 7,
          "origin": "first_pass",
          "year": 2020
         },
         {
          "counts": 176,
          "data_type": "Repository",
          "date": "2020-08-01T00:00:00-04:00",
          "day": 1,
          "month": 8,
          "origin": "first_pass",
          "year": 2020
         },
         {
          "counts": 161,
          "data_type": "Repository",
          "date": "2020-09-01T00:00:00-04:00",
          "day": 1,
          "month": 9,
          "origin": "first_pass",
          "year": 2020
         },
         {
          "counts": 192,
          "data_type": "Repository",
          "date": "2020-10-01T00:00:00-04:00",
          "day": 1,
          "month": 10,
          "origin": "first_pass",
          "year": 2020
         },
         {
          "counts": 123,
          "data_type": "Repository",
          "date": "2020-11-01T00:00:00-04:00",
          "day": 1,
          "month": 11,
          "origin": "first_pass",
          "year": 2020
         },
         {
          "counts": 123,
          "data_type": "Repository",
          "date": "2020-12-01T00:00:00-05:00",
          "day": 1,
          "month": 12,
          "origin": "first_pass",
          "year": 2020
         },
         {
          "counts": 138,
          "data_type": "Repository",
          "date": "2021-01-01T00:00:00-05:00",
          "day": 1,
          "month": 1,
          "origin": "first_pass",
          "year": 2021
         },
         {
          "counts": 159,
          "data_type": "Repository",
          "date": "2021-02-01T00:00:00-05:00",
          "day": 1,
          "month": 2,
          "origin": "first_pass",
          "year": 2021
         },
         {
          "counts": 217,
          "data_type": "Repository",
          "date": "2021-03-01T00:00:00-05:00",
          "day": 1,
          "month": 3,
          "origin": "first_pass",
          "year": 2021
         },
         {
          "counts": 175,
          "data_type": "Repository",
          "date": "2021-04-01T00:00:00-04:00",
          "day": 1,
          "month": 4,
          "origin": "first_pass",
          "year": 2021
         },
         {
          "counts": 176,
          "data_type": "Repository",
          "date": "2021-05-01T00:00:00-04:00",
          "day": 1,
          "month": 5,
          "origin": "first_pass",
          "year": 2021
         },
         {
          "counts": 142,
          "data_type": "Repository",
          "date": "2021-06-01T00:00:00-04:00",
          "day": 1,
          "month": 6,
          "origin": "first_pass",
          "year": 2021
         },
         {
          "counts": 185,
          "data_type": "Repository",
          "date": "2021-07-01T00:00:00-04:00",
          "day": 1,
          "month": 7,
          "origin": "first_pass",
          "year": 2021
         },
         {
          "counts": 121,
          "data_type": "Repository",
          "date": "2021-08-01T00:00:00-04:00",
          "day": 1,
          "month": 8,
          "origin": "first_pass",
          "year": 2021
         },
         {
          "counts": 171,
          "data_type": "Repository",
          "date": "2021-09-01T00:00:00-04:00",
          "day": 1,
          "month": 9,
          "origin": "first_pass",
          "year": 2021
         },
         {
          "counts": 144,
          "data_type": "Repository",
          "date": "2021-10-01T00:00:00-04:00",
          "day": 1,
          "month": 10,
          "origin": "first_pass",
          "year": 2021
         },
         {
          "counts": 146,
          "data_type": "Repository",
          "date": "2021-11-01T00:00:00-04:00",
          "day": 1,
          "month": 11,
          "origin": "first_pass",
          "year": 2021
         },
         {
          "counts": 123,
          "data_type": "Repository",
          "date": "2021-12-01T00:00:00-05:00",
          "day": 1,
          "month": 12,
          "origin": "first_pass",
          "year": 2021
         },
         {
          "counts": 175,
          "data_type": "Repository",
          "date": "2022-01-01T00:00:00-05:00",
          "day": 1,
          "month": 1,
          "origin": "first_pass",
          "year": 2022
         },
         {
          "counts": 189,
          "data_type": "Repository",
          "date": "2022-02-01T00:00:00-05:00",
          "day": 1,
          "month": 2,
          "origin": "first_pass",
          "year": 2022
         },
         {
          "counts": 152,
          "data_type": "Repository",
          "date": "2022-03-01T00:00:00-05:00",
          "day": 1,
          "month": 3,
          "origin": "first_pass",
          "year": 2022
         },
         {
          "counts": 156,
          "data_type": "Repository",
          "date": "2022-04-01T00:00:00-04:00",
          "day": 1,
          "month": 4,
          "origin": "first_pass",
          "year": 2022
         },
         {
          "counts": 205,
          "data_type": "Repository",
          "date": "2022-05-01T00:00:00-04:00",
          "day": 1,
          "month": 5,
          "origin": "first_pass",
          "year": 2022
         },
         {
          "counts": 168,
          "data_type": "Repository",
          "date": "2022-06-01T00:00:00-04:00",
          "day": 1,
          "month": 6,
          "origin": "first_pass",
          "year": 2022
         },
         {
          "counts": 140,
          "data_type": "Repository",
          "date": "2022-07-01T00:00:00-04:00",
          "day": 1,
          "month": 7,
          "origin": "first_pass",
          "year": 2022
         },
         {
          "counts": 144,
          "data_type": "Repository",
          "date": "2022-08-01T00:00:00-04:00",
          "day": 1,
          "month": 8,
          "origin": "first_pass",
          "year": 2022
         },
         {
          "counts": 197,
          "data_type": "Repository",
          "date": "2022-09-01T00:00:00-04:00",
          "day": 1,
          "month": 9,
          "origin": "first_pass",
          "year": 2022
         },
         {
          "counts": 168,
          "data_type": "Repository",
          "date": "2022-10-01T00:00:00-04:00",
          "day": 1,
          "month": 10,
          "origin": "first_pass",
          "year": 2022
         },
         {
          "counts": 155,
          "data_type": "Repository",
          "date": "2022-11-01T00:00:00-04:00",
          "day": 1,
          "month": 11,
          "origin": "first_pass",
          "year": 2022
         },
         {
          "counts": 124,
          "data_type": "Repository",
          "date": "2022-12-01T00:00:00-05:00",
          "day": 1,
          "month": 12,
          "origin": "first_pass",
          "year": 2022
         },
         {
          "counts": 123,
          "data_type": "Repository",
          "date": "2023-01-01T00:00:00-05:00",
          "day": 1,
          "month": 1,
          "origin": "first_pass",
          "year": 2023
         },
         {
          "counts": 138,
          "data_type": "Repository",
          "date": "2023-02-01T00:00:00-05:00",
          "day": 1,
          "month": 2,
          "origin": "first_pass",
          "year": 2023
         },
         {
          "counts": 154,
          "data_type": "Repository",
          "date": "2023-03-01T00:00:00-05:00",
          "day": 1,
          "month": 3,
          "origin": "first_pass",
          "year": 2023
         },
         {
          "counts": 109,
          "data_type": "Repository",
          "date": "2023-04-01T00:00:00-04:00",
          "day": 1,
          "month": 4,
          "origin": "first_pass",
          "year": 2023
         },
         {
          "counts": 90,
          "data_type": "Repository",
          "date": "2023-05-01T00:00:00-04:00",
          "day": 1,
          "month": 5,
          "origin": "first_pass",
          "year": 2023
         },
         {
          "counts": 1,
          "data_type": "Repository",
          "date": "2009-11-01T00:00:00-04:00",
          "day": 1,
          "month": 11,
          "origin": "initial",
          "year": 2009
         },
         {
          "counts": 1,
          "data_type": "Repository",
          "date": "2010-03-01T00:00:00-05:00",
          "day": 1,
          "month": 3,
          "origin": "initial",
          "year": 2010
         },
         {
          "counts": 1,
          "data_type": "Repository",
          "date": "2010-04-01T00:00:00-04:00",
          "day": 1,
          "month": 4,
          "origin": "initial",
          "year": 2010
         },
         {
          "counts": 3,
          "data_type": "Repository",
          "date": "2011-02-01T00:00:00-05:00",
          "day": 1,
          "month": 2,
          "origin": "initial",
          "year": 2011
         },
         {
          "counts": 1,
          "data_type": "Repository",
          "date": "2011-04-01T00:00:00-04:00",
          "day": 1,
          "month": 4,
          "origin": "initial",
          "year": 2011
         },
         {
          "counts": 1,
          "data_type": "Repository",
          "date": "2011-05-01T00:00:00-04:00",
          "day": 1,
          "month": 5,
          "origin": "initial",
          "year": 2011
         },
         {
          "counts": 1,
          "data_type": "Repository",
          "date": "2011-08-01T00:00:00-04:00",
          "day": 1,
          "month": 8,
          "origin": "initial",
          "year": 2011
         },
         {
          "counts": 1,
          "data_type": "Repository",
          "date": "2011-11-01T00:00:00-04:00",
          "day": 1,
          "month": 11,
          "origin": "initial",
          "year": 2011
         },
         {
          "counts": 1,
          "data_type": "Repository",
          "date": "2011-12-01T00:00:00-05:00",
          "day": 1,
          "month": 12,
          "origin": "initial",
          "year": 2011
         },
         {
          "counts": 1,
          "data_type": "Repository",
          "date": "2012-01-01T00:00:00-05:00",
          "day": 1,
          "month": 1,
          "origin": "initial",
          "year": 2012
         },
         {
          "counts": 2,
          "data_type": "Repository",
          "date": "2012-02-01T00:00:00-05:00",
          "day": 1,
          "month": 2,
          "origin": "initial",
          "year": 2012
         },
         {
          "counts": 1,
          "data_type": "Repository",
          "date": "2012-03-01T00:00:00-05:00",
          "day": 1,
          "month": 3,
          "origin": "initial",
          "year": 2012
         },
         {
          "counts": 3,
          "data_type": "Repository",
          "date": "2012-04-01T00:00:00-04:00",
          "day": 1,
          "month": 4,
          "origin": "initial",
          "year": 2012
         },
         {
          "counts": 3,
          "data_type": "Repository",
          "date": "2012-08-01T00:00:00-04:00",
          "day": 1,
          "month": 8,
          "origin": "initial",
          "year": 2012
         },
         {
          "counts": 2,
          "data_type": "Repository",
          "date": "2012-09-01T00:00:00-04:00",
          "day": 1,
          "month": 9,
          "origin": "initial",
          "year": 2012
         },
         {
          "counts": 1,
          "data_type": "Repository",
          "date": "2012-10-01T00:00:00-04:00",
          "day": 1,
          "month": 10,
          "origin": "initial",
          "year": 2012
         },
         {
          "counts": 3,
          "data_type": "Repository",
          "date": "2012-11-01T00:00:00-04:00",
          "day": 1,
          "month": 11,
          "origin": "initial",
          "year": 2012
         },
         {
          "counts": 1,
          "data_type": "Repository",
          "date": "2012-12-01T00:00:00-05:00",
          "day": 1,
          "month": 12,
          "origin": "initial",
          "year": 2012
         },
         {
          "counts": 5,
          "data_type": "Repository",
          "date": "2013-01-01T00:00:00-05:00",
          "day": 1,
          "month": 1,
          "origin": "initial",
          "year": 2013
         },
         {
          "counts": 1,
          "data_type": "Repository",
          "date": "2013-02-01T00:00:00-05:00",
          "day": 1,
          "month": 2,
          "origin": "initial",
          "year": 2013
         },
         {
          "counts": 2,
          "data_type": "Repository",
          "date": "2013-03-01T00:00:00-05:00",
          "day": 1,
          "month": 3,
          "origin": "initial",
          "year": 2013
         },
         {
          "counts": 2,
          "data_type": "Repository",
          "date": "2013-04-01T00:00:00-04:00",
          "day": 1,
          "month": 4,
          "origin": "initial",
          "year": 2013
         },
         {
          "counts": 2,
          "data_type": "Repository",
          "date": "2013-05-01T00:00:00-04:00",
          "day": 1,
          "month": 5,
          "origin": "initial",
          "year": 2013
         },
         {
          "counts": 2,
          "data_type": "Repository",
          "date": "2013-06-01T00:00:00-04:00",
          "day": 1,
          "month": 6,
          "origin": "initial",
          "year": 2013
         },
         {
          "counts": 2,
          "data_type": "Repository",
          "date": "2013-07-01T00:00:00-04:00",
          "day": 1,
          "month": 7,
          "origin": "initial",
          "year": 2013
         },
         {
          "counts": 2,
          "data_type": "Repository",
          "date": "2013-08-01T00:00:00-04:00",
          "day": 1,
          "month": 8,
          "origin": "initial",
          "year": 2013
         },
         {
          "counts": 1,
          "data_type": "Repository",
          "date": "2013-09-01T00:00:00-04:00",
          "day": 1,
          "month": 9,
          "origin": "initial",
          "year": 2013
         },
         {
          "counts": 1,
          "data_type": "Repository",
          "date": "2013-10-01T00:00:00-04:00",
          "day": 1,
          "month": 10,
          "origin": "initial",
          "year": 2013
         },
         {
          "counts": 1,
          "data_type": "Repository",
          "date": "2013-11-01T00:00:00-04:00",
          "day": 1,
          "month": 11,
          "origin": "initial",
          "year": 2013
         },
         {
          "counts": 5,
          "data_type": "Repository",
          "date": "2013-12-01T00:00:00-05:00",
          "day": 1,
          "month": 12,
          "origin": "initial",
          "year": 2013
         },
         {
          "counts": 2,
          "data_type": "Repository",
          "date": "2014-01-01T00:00:00-05:00",
          "day": 1,
          "month": 1,
          "origin": "initial",
          "year": 2014
         },
         {
          "counts": 8,
          "data_type": "Repository",
          "date": "2014-02-01T00:00:00-05:00",
          "day": 1,
          "month": 2,
          "origin": "initial",
          "year": 2014
         },
         {
          "counts": 2,
          "data_type": "Repository",
          "date": "2014-03-01T00:00:00-05:00",
          "day": 1,
          "month": 3,
          "origin": "initial",
          "year": 2014
         },
         {
          "counts": 4,
          "data_type": "Repository",
          "date": "2014-04-01T00:00:00-04:00",
          "day": 1,
          "month": 4,
          "origin": "initial",
          "year": 2014
         },
         {
          "counts": 7,
          "data_type": "Repository",
          "date": "2014-05-01T00:00:00-04:00",
          "day": 1,
          "month": 5,
          "origin": "initial",
          "year": 2014
         },
         {
          "counts": 2,
          "data_type": "Repository",
          "date": "2014-06-01T00:00:00-04:00",
          "day": 1,
          "month": 6,
          "origin": "initial",
          "year": 2014
         },
         {
          "counts": 5,
          "data_type": "Repository",
          "date": "2014-07-01T00:00:00-04:00",
          "day": 1,
          "month": 7,
          "origin": "initial",
          "year": 2014
         },
         {
          "counts": 7,
          "data_type": "Repository",
          "date": "2014-08-01T00:00:00-04:00",
          "day": 1,
          "month": 8,
          "origin": "initial",
          "year": 2014
         },
         {
          "counts": 5,
          "data_type": "Repository",
          "date": "2014-09-01T00:00:00-04:00",
          "day": 1,
          "month": 9,
          "origin": "initial",
          "year": 2014
         },
         {
          "counts": 3,
          "data_type": "Repository",
          "date": "2014-10-01T00:00:00-04:00",
          "day": 1,
          "month": 10,
          "origin": "initial",
          "year": 2014
         },
         {
          "counts": 8,
          "data_type": "Repository",
          "date": "2014-11-01T00:00:00-04:00",
          "day": 1,
          "month": 11,
          "origin": "initial",
          "year": 2014
         },
         {
          "counts": 7,
          "data_type": "Repository",
          "date": "2014-12-01T00:00:00-05:00",
          "day": 1,
          "month": 12,
          "origin": "initial",
          "year": 2014
         },
         {
          "counts": 9,
          "data_type": "Repository",
          "date": "2015-01-01T00:00:00-05:00",
          "day": 1,
          "month": 1,
          "origin": "initial",
          "year": 2015
         },
         {
          "counts": 5,
          "data_type": "Repository",
          "date": "2015-02-01T00:00:00-05:00",
          "day": 1,
          "month": 2,
          "origin": "initial",
          "year": 2015
         },
         {
          "counts": 5,
          "data_type": "Repository",
          "date": "2015-03-01T00:00:00-05:00",
          "day": 1,
          "month": 3,
          "origin": "initial",
          "year": 2015
         },
         {
          "counts": 6,
          "data_type": "Repository",
          "date": "2015-04-01T00:00:00-04:00",
          "day": 1,
          "month": 4,
          "origin": "initial",
          "year": 2015
         },
         {
          "counts": 7,
          "data_type": "Repository",
          "date": "2015-05-01T00:00:00-04:00",
          "day": 1,
          "month": 5,
          "origin": "initial",
          "year": 2015
         },
         {
          "counts": 8,
          "data_type": "Repository",
          "date": "2015-06-01T00:00:00-04:00",
          "day": 1,
          "month": 6,
          "origin": "initial",
          "year": 2015
         },
         {
          "counts": 12,
          "data_type": "Repository",
          "date": "2015-07-01T00:00:00-04:00",
          "day": 1,
          "month": 7,
          "origin": "initial",
          "year": 2015
         },
         {
          "counts": 10,
          "data_type": "Repository",
          "date": "2015-08-01T00:00:00-04:00",
          "day": 1,
          "month": 8,
          "origin": "initial",
          "year": 2015
         },
         {
          "counts": 9,
          "data_type": "Repository",
          "date": "2015-09-01T00:00:00-04:00",
          "day": 1,
          "month": 9,
          "origin": "initial",
          "year": 2015
         },
         {
          "counts": 7,
          "data_type": "Repository",
          "date": "2015-10-01T00:00:00-04:00",
          "day": 1,
          "month": 10,
          "origin": "initial",
          "year": 2015
         },
         {
          "counts": 6,
          "data_type": "Repository",
          "date": "2015-11-01T00:00:00-04:00",
          "day": 1,
          "month": 11,
          "origin": "initial",
          "year": 2015
         },
         {
          "counts": 11,
          "data_type": "Repository",
          "date": "2015-12-01T00:00:00-05:00",
          "day": 1,
          "month": 12,
          "origin": "initial",
          "year": 2015
         },
         {
          "counts": 14,
          "data_type": "Repository",
          "date": "2016-01-01T00:00:00-05:00",
          "day": 1,
          "month": 1,
          "origin": "initial",
          "year": 2016
         },
         {
          "counts": 5,
          "data_type": "Repository",
          "date": "2016-02-01T00:00:00-05:00",
          "day": 1,
          "month": 2,
          "origin": "initial",
          "year": 2016
         },
         {
          "counts": 10,
          "data_type": "Repository",
          "date": "2016-03-01T00:00:00-05:00",
          "day": 1,
          "month": 3,
          "origin": "initial",
          "year": 2016
         },
         {
          "counts": 9,
          "data_type": "Repository",
          "date": "2016-04-01T00:00:00-04:00",
          "day": 1,
          "month": 4,
          "origin": "initial",
          "year": 2016
         },
         {
          "counts": 14,
          "data_type": "Repository",
          "date": "2016-05-01T00:00:00-04:00",
          "day": 1,
          "month": 5,
          "origin": "initial",
          "year": 2016
         },
         {
          "counts": 8,
          "data_type": "Repository",
          "date": "2016-06-01T00:00:00-04:00",
          "day": 1,
          "month": 6,
          "origin": "initial",
          "year": 2016
         },
         {
          "counts": 10,
          "data_type": "Repository",
          "date": "2016-07-01T00:00:00-04:00",
          "day": 1,
          "month": 7,
          "origin": "initial",
          "year": 2016
         },
         {
          "counts": 8,
          "data_type": "Repository",
          "date": "2016-08-01T00:00:00-04:00",
          "day": 1,
          "month": 8,
          "origin": "initial",
          "year": 2016
         },
         {
          "counts": 14,
          "data_type": "Repository",
          "date": "2016-09-01T00:00:00-04:00",
          "day": 1,
          "month": 9,
          "origin": "initial",
          "year": 2016
         },
         {
          "counts": 11,
          "data_type": "Repository",
          "date": "2016-10-01T00:00:00-04:00",
          "day": 1,
          "month": 10,
          "origin": "initial",
          "year": 2016
         },
         {
          "counts": 14,
          "data_type": "Repository",
          "date": "2016-11-01T00:00:00-04:00",
          "day": 1,
          "month": 11,
          "origin": "initial",
          "year": 2016
         },
         {
          "counts": 17,
          "data_type": "Repository",
          "date": "2016-12-01T00:00:00-05:00",
          "day": 1,
          "month": 12,
          "origin": "initial",
          "year": 2016
         },
         {
          "counts": 18,
          "data_type": "Repository",
          "date": "2017-01-01T00:00:00-05:00",
          "day": 1,
          "month": 1,
          "origin": "initial",
          "year": 2017
         },
         {
          "counts": 25,
          "data_type": "Repository",
          "date": "2017-02-01T00:00:00-05:00",
          "day": 1,
          "month": 2,
          "origin": "initial",
          "year": 2017
         },
         {
          "counts": 22,
          "data_type": "Repository",
          "date": "2017-03-01T00:00:00-05:00",
          "day": 1,
          "month": 3,
          "origin": "initial",
          "year": 2017
         },
         {
          "counts": 13,
          "data_type": "Repository",
          "date": "2017-04-01T00:00:00-04:00",
          "day": 1,
          "month": 4,
          "origin": "initial",
          "year": 2017
         },
         {
          "counts": 15,
          "data_type": "Repository",
          "date": "2017-05-01T00:00:00-04:00",
          "day": 1,
          "month": 5,
          "origin": "initial",
          "year": 2017
         },
         {
          "counts": 11,
          "data_type": "Repository",
          "date": "2017-06-01T00:00:00-04:00",
          "day": 1,
          "month": 6,
          "origin": "initial",
          "year": 2017
         },
         {
          "counts": 23,
          "data_type": "Repository",
          "date": "2017-07-01T00:00:00-04:00",
          "day": 1,
          "month": 7,
          "origin": "initial",
          "year": 2017
         },
         {
          "counts": 24,
          "data_type": "Repository",
          "date": "2017-08-01T00:00:00-04:00",
          "day": 1,
          "month": 8,
          "origin": "initial",
          "year": 2017
         },
         {
          "counts": 47,
          "data_type": "Repository",
          "date": "2017-09-01T00:00:00-04:00",
          "day": 1,
          "month": 9,
          "origin": "initial",
          "year": 2017
         },
         {
          "counts": 15,
          "data_type": "Repository",
          "date": "2017-10-01T00:00:00-04:00",
          "day": 1,
          "month": 10,
          "origin": "initial",
          "year": 2017
         },
         {
          "counts": 30,
          "data_type": "Repository",
          "date": "2017-11-01T00:00:00-04:00",
          "day": 1,
          "month": 11,
          "origin": "initial",
          "year": 2017
         },
         {
          "counts": 12,
          "data_type": "Repository",
          "date": "2017-12-01T00:00:00-05:00",
          "day": 1,
          "month": 12,
          "origin": "initial",
          "year": 2017
         },
         {
          "counts": 25,
          "data_type": "Repository",
          "date": "2018-01-01T00:00:00-05:00",
          "day": 1,
          "month": 1,
          "origin": "initial",
          "year": 2018
         },
         {
          "counts": 31,
          "data_type": "Repository",
          "date": "2018-02-01T00:00:00-05:00",
          "day": 1,
          "month": 2,
          "origin": "initial",
          "year": 2018
         },
         {
          "counts": 30,
          "data_type": "Repository",
          "date": "2018-03-01T00:00:00-05:00",
          "day": 1,
          "month": 3,
          "origin": "initial",
          "year": 2018
         },
         {
          "counts": 22,
          "data_type": "Repository",
          "date": "2018-04-01T00:00:00-04:00",
          "day": 1,
          "month": 4,
          "origin": "initial",
          "year": 2018
         },
         {
          "counts": 31,
          "data_type": "Repository",
          "date": "2018-05-01T00:00:00-04:00",
          "day": 1,
          "month": 5,
          "origin": "initial",
          "year": 2018
         },
         {
          "counts": 20,
          "data_type": "Repository",
          "date": "2018-06-01T00:00:00-04:00",
          "day": 1,
          "month": 6,
          "origin": "initial",
          "year": 2018
         },
         {
          "counts": 27,
          "data_type": "Repository",
          "date": "2018-07-01T00:00:00-04:00",
          "day": 1,
          "month": 7,
          "origin": "initial",
          "year": 2018
         },
         {
          "counts": 31,
          "data_type": "Repository",
          "date": "2018-08-01T00:00:00-04:00",
          "day": 1,
          "month": 8,
          "origin": "initial",
          "year": 2018
         },
         {
          "counts": 35,
          "data_type": "Repository",
          "date": "2018-09-01T00:00:00-04:00",
          "day": 1,
          "month": 9,
          "origin": "initial",
          "year": 2018
         },
         {
          "counts": 27,
          "data_type": "Repository",
          "date": "2018-10-01T00:00:00-04:00",
          "day": 1,
          "month": 10,
          "origin": "initial",
          "year": 2018
         },
         {
          "counts": 33,
          "data_type": "Repository",
          "date": "2018-11-01T00:00:00-04:00",
          "day": 1,
          "month": 11,
          "origin": "initial",
          "year": 2018
         },
         {
          "counts": 22,
          "data_type": "Repository",
          "date": "2018-12-01T00:00:00-05:00",
          "day": 1,
          "month": 12,
          "origin": "initial",
          "year": 2018
         },
         {
          "counts": 28,
          "data_type": "Repository",
          "date": "2019-01-01T00:00:00-05:00",
          "day": 1,
          "month": 1,
          "origin": "initial",
          "year": 2019
         },
         {
          "counts": 25,
          "data_type": "Repository",
          "date": "2019-02-01T00:00:00-05:00",
          "day": 1,
          "month": 2,
          "origin": "initial",
          "year": 2019
         },
         {
          "counts": 28,
          "data_type": "Repository",
          "date": "2019-03-01T00:00:00-05:00",
          "day": 1,
          "month": 3,
          "origin": "initial",
          "year": 2019
         },
         {
          "counts": 22,
          "data_type": "Repository",
          "date": "2019-04-01T00:00:00-04:00",
          "day": 1,
          "month": 4,
          "origin": "initial",
          "year": 2019
         },
         {
          "counts": 37,
          "data_type": "Repository",
          "date": "2019-05-01T00:00:00-04:00",
          "day": 1,
          "month": 5,
          "origin": "initial",
          "year": 2019
         },
         {
          "counts": 21,
          "data_type": "Repository",
          "date": "2019-06-01T00:00:00-04:00",
          "day": 1,
          "month": 6,
          "origin": "initial",
          "year": 2019
         },
         {
          "counts": 27,
          "data_type": "Repository",
          "date": "2019-07-01T00:00:00-04:00",
          "day": 1,
          "month": 7,
          "origin": "initial",
          "year": 2019
         },
         {
          "counts": 21,
          "data_type": "Repository",
          "date": "2019-08-01T00:00:00-04:00",
          "day": 1,
          "month": 8,
          "origin": "initial",
          "year": 2019
         },
         {
          "counts": 25,
          "data_type": "Repository",
          "date": "2019-09-01T00:00:00-04:00",
          "day": 1,
          "month": 9,
          "origin": "initial",
          "year": 2019
         },
         {
          "counts": 35,
          "data_type": "Repository",
          "date": "2019-10-01T00:00:00-04:00",
          "day": 1,
          "month": 10,
          "origin": "initial",
          "year": 2019
         },
         {
          "counts": 25,
          "data_type": "Repository",
          "date": "2019-11-01T00:00:00-04:00",
          "day": 1,
          "month": 11,
          "origin": "initial",
          "year": 2019
         },
         {
          "counts": 18,
          "data_type": "Repository",
          "date": "2019-12-01T00:00:00-05:00",
          "day": 1,
          "month": 12,
          "origin": "initial",
          "year": 2019
         },
         {
          "counts": 49,
          "data_type": "Repository",
          "date": "2020-01-01T00:00:00-05:00",
          "day": 1,
          "month": 1,
          "origin": "initial",
          "year": 2020
         },
         {
          "counts": 34,
          "data_type": "Repository",
          "date": "2020-02-01T00:00:00-05:00",
          "day": 1,
          "month": 2,
          "origin": "initial",
          "year": 2020
         },
         {
          "counts": 35,
          "data_type": "Repository",
          "date": "2020-03-01T00:00:00-05:00",
          "day": 1,
          "month": 3,
          "origin": "initial",
          "year": 2020
         },
         {
          "counts": 25,
          "data_type": "Repository",
          "date": "2020-04-01T00:00:00-04:00",
          "day": 1,
          "month": 4,
          "origin": "initial",
          "year": 2020
         },
         {
          "counts": 17,
          "data_type": "Repository",
          "date": "2020-05-01T00:00:00-04:00",
          "day": 1,
          "month": 5,
          "origin": "initial",
          "year": 2020
         },
         {
          "counts": 26,
          "data_type": "Repository",
          "date": "2020-06-01T00:00:00-04:00",
          "day": 1,
          "month": 6,
          "origin": "initial",
          "year": 2020
         },
         {
          "counts": 33,
          "data_type": "Repository",
          "date": "2020-07-01T00:00:00-04:00",
          "day": 1,
          "month": 7,
          "origin": "initial",
          "year": 2020
         },
         {
          "counts": 28,
          "data_type": "Repository",
          "date": "2020-08-01T00:00:00-04:00",
          "day": 1,
          "month": 8,
          "origin": "initial",
          "year": 2020
         },
         {
          "counts": 34,
          "data_type": "Repository",
          "date": "2020-09-01T00:00:00-04:00",
          "day": 1,
          "month": 9,
          "origin": "initial",
          "year": 2020
         },
         {
          "counts": 22,
          "data_type": "Repository",
          "date": "2020-10-01T00:00:00-04:00",
          "day": 1,
          "month": 10,
          "origin": "initial",
          "year": 2020
         },
         {
          "counts": 26,
          "data_type": "Repository",
          "date": "2020-11-01T00:00:00-04:00",
          "day": 1,
          "month": 11,
          "origin": "initial",
          "year": 2020
         },
         {
          "counts": 38,
          "data_type": "Repository",
          "date": "2020-12-01T00:00:00-05:00",
          "day": 1,
          "month": 12,
          "origin": "initial",
          "year": 2020
         },
         {
          "counts": 26,
          "data_type": "Repository",
          "date": "2021-01-01T00:00:00-05:00",
          "day": 1,
          "month": 1,
          "origin": "initial",
          "year": 2021
         },
         {
          "counts": 32,
          "data_type": "Repository",
          "date": "2021-02-01T00:00:00-05:00",
          "day": 1,
          "month": 2,
          "origin": "initial",
          "year": 2021
         },
         {
          "counts": 41,
          "data_type": "Repository",
          "date": "2021-03-01T00:00:00-05:00",
          "day": 1,
          "month": 3,
          "origin": "initial",
          "year": 2021
         },
         {
          "counts": 35,
          "data_type": "Repository",
          "date": "2021-04-01T00:00:00-04:00",
          "day": 1,
          "month": 4,
          "origin": "initial",
          "year": 2021
         },
         {
          "counts": 30,
          "data_type": "Repository",
          "date": "2021-05-01T00:00:00-04:00",
          "day": 1,
          "month": 5,
          "origin": "initial",
          "year": 2021
         },
         {
          "counts": 54,
          "data_type": "Repository",
          "date": "2021-06-01T00:00:00-04:00",
          "day": 1,
          "month": 6,
          "origin": "initial",
          "year": 2021
         },
         {
          "counts": 20,
          "data_type": "Repository",
          "date": "2021-07-01T00:00:00-04:00",
          "day": 1,
          "month": 7,
          "origin": "initial",
          "year": 2021
         },
         {
          "counts": 29,
          "data_type": "Repository",
          "date": "2021-08-01T00:00:00-04:00",
          "day": 1,
          "month": 8,
          "origin": "initial",
          "year": 2021
         },
         {
          "counts": 34,
          "data_type": "Repository",
          "date": "2021-09-01T00:00:00-04:00",
          "day": 1,
          "month": 9,
          "origin": "initial",
          "year": 2021
         },
         {
          "counts": 29,
          "data_type": "Repository",
          "date": "2021-10-01T00:00:00-04:00",
          "day": 1,
          "month": 10,
          "origin": "initial",
          "year": 2021
         },
         {
          "counts": 35,
          "data_type": "Repository",
          "date": "2021-11-01T00:00:00-04:00",
          "day": 1,
          "month": 11,
          "origin": "initial",
          "year": 2021
         },
         {
          "counts": 32,
          "data_type": "Repository",
          "date": "2021-12-01T00:00:00-05:00",
          "day": 1,
          "month": 12,
          "origin": "initial",
          "year": 2021
         },
         {
          "counts": 35,
          "data_type": "Repository",
          "date": "2022-01-01T00:00:00-05:00",
          "day": 1,
          "month": 1,
          "origin": "initial",
          "year": 2022
         },
         {
          "counts": 29,
          "data_type": "Repository",
          "date": "2022-02-01T00:00:00-05:00",
          "day": 1,
          "month": 2,
          "origin": "initial",
          "year": 2022
         },
         {
          "counts": 36,
          "data_type": "Repository",
          "date": "2022-03-01T00:00:00-05:00",
          "day": 1,
          "month": 3,
          "origin": "initial",
          "year": 2022
         },
         {
          "counts": 28,
          "data_type": "Repository",
          "date": "2022-04-01T00:00:00-04:00",
          "day": 1,
          "month": 4,
          "origin": "initial",
          "year": 2022
         },
         {
          "counts": 67,
          "data_type": "Repository",
          "date": "2022-05-01T00:00:00-04:00",
          "day": 1,
          "month": 5,
          "origin": "initial",
          "year": 2022
         },
         {
          "counts": 47,
          "data_type": "Repository",
          "date": "2022-06-01T00:00:00-04:00",
          "day": 1,
          "month": 6,
          "origin": "initial",
          "year": 2022
         },
         {
          "counts": 37,
          "data_type": "Repository",
          "date": "2022-07-01T00:00:00-04:00",
          "day": 1,
          "month": 7,
          "origin": "initial",
          "year": 2022
         },
         {
          "counts": 35,
          "data_type": "Repository",
          "date": "2022-08-01T00:00:00-04:00",
          "day": 1,
          "month": 8,
          "origin": "initial",
          "year": 2022
         },
         {
          "counts": 35,
          "data_type": "Repository",
          "date": "2022-09-01T00:00:00-04:00",
          "day": 1,
          "month": 9,
          "origin": "initial",
          "year": 2022
         },
         {
          "counts": 36,
          "data_type": "Repository",
          "date": "2022-10-01T00:00:00-04:00",
          "day": 1,
          "month": 10,
          "origin": "initial",
          "year": 2022
         },
         {
          "counts": 39,
          "data_type": "Repository",
          "date": "2022-11-01T00:00:00-04:00",
          "day": 1,
          "month": 11,
          "origin": "initial",
          "year": 2022
         },
         {
          "counts": 23,
          "data_type": "Repository",
          "date": "2022-12-01T00:00:00-05:00",
          "day": 1,
          "month": 12,
          "origin": "initial",
          "year": 2022
         },
         {
          "counts": 8,
          "data_type": "Repository",
          "date": "2023-01-01T00:00:00-05:00",
          "day": 1,
          "month": 1,
          "origin": "initial",
          "year": 2023
         },
         {
          "counts": 21,
          "data_type": "Repository",
          "date": "2023-02-01T00:00:00-05:00",
          "day": 1,
          "month": 2,
          "origin": "initial",
          "year": 2023
         },
         {
          "counts": 1,
          "data_type": "Repository",
          "date": "2023-03-01T00:00:00-05:00",
          "day": 1,
          "month": 3,
          "origin": "initial",
          "year": 2023
         }
        ],
        "data-4c69d8454b9e0d55f9eb32ae48471a5c": [
         {
          "counts": 3,
          "data_type": "User",
          "date": "2008-02-01T00:00:00-05:00",
          "day": 1,
          "month": 2,
          "origin": "final_pass",
          "year": 2008
         },
         {
          "counts": 3,
          "data_type": "User",
          "date": "2008-03-01T00:00:00-05:00",
          "day": 1,
          "month": 3,
          "origin": "final_pass",
          "year": 2008
         },
         {
          "counts": 9,
          "data_type": "User",
          "date": "2008-04-01T00:00:00-04:00",
          "day": 1,
          "month": 4,
          "origin": "final_pass",
          "year": 2008
         },
         {
          "counts": 4,
          "data_type": "User",
          "date": "2008-05-01T00:00:00-04:00",
          "day": 1,
          "month": 5,
          "origin": "final_pass",
          "year": 2008
         },
         {
          "counts": 3,
          "data_type": "User",
          "date": "2008-06-01T00:00:00-04:00",
          "day": 1,
          "month": 6,
          "origin": "final_pass",
          "year": 2008
         },
         {
          "counts": 5,
          "data_type": "User",
          "date": "2008-07-01T00:00:00-04:00",
          "day": 1,
          "month": 7,
          "origin": "final_pass",
          "year": 2008
         },
         {
          "counts": 5,
          "data_type": "User",
          "date": "2008-08-01T00:00:00-04:00",
          "day": 1,
          "month": 8,
          "origin": "final_pass",
          "year": 2008
         },
         {
          "counts": 10,
          "data_type": "User",
          "date": "2008-09-01T00:00:00-04:00",
          "day": 1,
          "month": 9,
          "origin": "final_pass",
          "year": 2008
         },
         {
          "counts": 3,
          "data_type": "User",
          "date": "2008-10-01T00:00:00-04:00",
          "day": 1,
          "month": 10,
          "origin": "final_pass",
          "year": 2008
         },
         {
          "counts": 12,
          "data_type": "User",
          "date": "2008-11-01T00:00:00-04:00",
          "day": 1,
          "month": 11,
          "origin": "final_pass",
          "year": 2008
         },
         {
          "counts": 9,
          "data_type": "User",
          "date": "2008-12-01T00:00:00-05:00",
          "day": 1,
          "month": 12,
          "origin": "final_pass",
          "year": 2008
         },
         {
          "counts": 15,
          "data_type": "User",
          "date": "2009-01-01T00:00:00-05:00",
          "day": 1,
          "month": 1,
          "origin": "final_pass",
          "year": 2009
         },
         {
          "counts": 15,
          "data_type": "User",
          "date": "2009-02-01T00:00:00-05:00",
          "day": 1,
          "month": 2,
          "origin": "final_pass",
          "year": 2009
         },
         {
          "counts": 12,
          "data_type": "User",
          "date": "2009-03-01T00:00:00-05:00",
          "day": 1,
          "month": 3,
          "origin": "final_pass",
          "year": 2009
         },
         {
          "counts": 10,
          "data_type": "User",
          "date": "2009-04-01T00:00:00-04:00",
          "day": 1,
          "month": 4,
          "origin": "final_pass",
          "year": 2009
         },
         {
          "counts": 12,
          "data_type": "User",
          "date": "2009-05-01T00:00:00-04:00",
          "day": 1,
          "month": 5,
          "origin": "final_pass",
          "year": 2009
         },
         {
          "counts": 3,
          "data_type": "User",
          "date": "2009-06-01T00:00:00-04:00",
          "day": 1,
          "month": 6,
          "origin": "final_pass",
          "year": 2009
         },
         {
          "counts": 7,
          "data_type": "User",
          "date": "2009-07-01T00:00:00-04:00",
          "day": 1,
          "month": 7,
          "origin": "final_pass",
          "year": 2009
         },
         {
          "counts": 14,
          "data_type": "User",
          "date": "2009-08-01T00:00:00-04:00",
          "day": 1,
          "month": 8,
          "origin": "final_pass",
          "year": 2009
         },
         {
          "counts": 6,
          "data_type": "User",
          "date": "2009-09-01T00:00:00-04:00",
          "day": 1,
          "month": 9,
          "origin": "final_pass",
          "year": 2009
         },
         {
          "counts": 15,
          "data_type": "User",
          "date": "2009-10-01T00:00:00-04:00",
          "day": 1,
          "month": 10,
          "origin": "final_pass",
          "year": 2009
         },
         {
          "counts": 12,
          "data_type": "User",
          "date": "2009-11-01T00:00:00-04:00",
          "day": 1,
          "month": 11,
          "origin": "final_pass",
          "year": 2009
         },
         {
          "counts": 11,
          "data_type": "User",
          "date": "2009-12-01T00:00:00-05:00",
          "day": 1,
          "month": 12,
          "origin": "final_pass",
          "year": 2009
         },
         {
          "counts": 15,
          "data_type": "User",
          "date": "2010-01-01T00:00:00-05:00",
          "day": 1,
          "month": 1,
          "origin": "final_pass",
          "year": 2010
         },
         {
          "counts": 9,
          "data_type": "User",
          "date": "2010-02-01T00:00:00-05:00",
          "day": 1,
          "month": 2,
          "origin": "final_pass",
          "year": 2010
         },
         {
          "counts": 16,
          "data_type": "User",
          "date": "2010-03-01T00:00:00-05:00",
          "day": 1,
          "month": 3,
          "origin": "final_pass",
          "year": 2010
         },
         {
          "counts": 10,
          "data_type": "User",
          "date": "2010-04-01T00:00:00-04:00",
          "day": 1,
          "month": 4,
          "origin": "final_pass",
          "year": 2010
         },
         {
          "counts": 17,
          "data_type": "User",
          "date": "2010-05-01T00:00:00-04:00",
          "day": 1,
          "month": 5,
          "origin": "final_pass",
          "year": 2010
         },
         {
          "counts": 19,
          "data_type": "User",
          "date": "2010-06-01T00:00:00-04:00",
          "day": 1,
          "month": 6,
          "origin": "final_pass",
          "year": 2010
         },
         {
          "counts": 11,
          "data_type": "User",
          "date": "2010-07-01T00:00:00-04:00",
          "day": 1,
          "month": 7,
          "origin": "final_pass",
          "year": 2010
         },
         {
          "counts": 7,
          "data_type": "User",
          "date": "2010-08-01T00:00:00-04:00",
          "day": 1,
          "month": 8,
          "origin": "final_pass",
          "year": 2010
         },
         {
          "counts": 14,
          "data_type": "User",
          "date": "2010-09-01T00:00:00-04:00",
          "day": 1,
          "month": 9,
          "origin": "final_pass",
          "year": 2010
         },
         {
          "counts": 18,
          "data_type": "User",
          "date": "2010-10-01T00:00:00-04:00",
          "day": 1,
          "month": 10,
          "origin": "final_pass",
          "year": 2010
         },
         {
          "counts": 15,
          "data_type": "User",
          "date": "2010-11-01T00:00:00-04:00",
          "day": 1,
          "month": 11,
          "origin": "final_pass",
          "year": 2010
         },
         {
          "counts": 18,
          "data_type": "User",
          "date": "2010-12-01T00:00:00-05:00",
          "day": 1,
          "month": 12,
          "origin": "final_pass",
          "year": 2010
         },
         {
          "counts": 13,
          "data_type": "User",
          "date": "2011-01-01T00:00:00-05:00",
          "day": 1,
          "month": 1,
          "origin": "final_pass",
          "year": 2011
         },
         {
          "counts": 35,
          "data_type": "User",
          "date": "2011-02-01T00:00:00-05:00",
          "day": 1,
          "month": 2,
          "origin": "final_pass",
          "year": 2011
         },
         {
          "counts": 25,
          "data_type": "User",
          "date": "2011-03-01T00:00:00-05:00",
          "day": 1,
          "month": 3,
          "origin": "final_pass",
          "year": 2011
         },
         {
          "counts": 12,
          "data_type": "User",
          "date": "2011-04-01T00:00:00-04:00",
          "day": 1,
          "month": 4,
          "origin": "final_pass",
          "year": 2011
         },
         {
          "counts": 19,
          "data_type": "User",
          "date": "2011-05-01T00:00:00-04:00",
          "day": 1,
          "month": 5,
          "origin": "final_pass",
          "year": 2011
         },
         {
          "counts": 24,
          "data_type": "User",
          "date": "2011-06-01T00:00:00-04:00",
          "day": 1,
          "month": 6,
          "origin": "final_pass",
          "year": 2011
         },
         {
          "counts": 18,
          "data_type": "User",
          "date": "2011-07-01T00:00:00-04:00",
          "day": 1,
          "month": 7,
          "origin": "final_pass",
          "year": 2011
         },
         {
          "counts": 24,
          "data_type": "User",
          "date": "2011-08-01T00:00:00-04:00",
          "day": 1,
          "month": 8,
          "origin": "final_pass",
          "year": 2011
         },
         {
          "counts": 19,
          "data_type": "User",
          "date": "2011-09-01T00:00:00-04:00",
          "day": 1,
          "month": 9,
          "origin": "final_pass",
          "year": 2011
         },
         {
          "counts": 20,
          "data_type": "User",
          "date": "2011-10-01T00:00:00-04:00",
          "day": 1,
          "month": 10,
          "origin": "final_pass",
          "year": 2011
         },
         {
          "counts": 17,
          "data_type": "User",
          "date": "2011-11-01T00:00:00-04:00",
          "day": 1,
          "month": 11,
          "origin": "final_pass",
          "year": 2011
         },
         {
          "counts": 13,
          "data_type": "User",
          "date": "2011-12-01T00:00:00-05:00",
          "day": 1,
          "month": 12,
          "origin": "final_pass",
          "year": 2011
         },
         {
          "counts": 19,
          "data_type": "User",
          "date": "2012-01-01T00:00:00-05:00",
          "day": 1,
          "month": 1,
          "origin": "final_pass",
          "year": 2012
         },
         {
          "counts": 18,
          "data_type": "User",
          "date": "2012-02-01T00:00:00-05:00",
          "day": 1,
          "month": 2,
          "origin": "final_pass",
          "year": 2012
         },
         {
          "counts": 11,
          "data_type": "User",
          "date": "2012-03-01T00:00:00-05:00",
          "day": 1,
          "month": 3,
          "origin": "final_pass",
          "year": 2012
         },
         {
          "counts": 26,
          "data_type": "User",
          "date": "2012-04-01T00:00:00-04:00",
          "day": 1,
          "month": 4,
          "origin": "final_pass",
          "year": 2012
         },
         {
          "counts": 27,
          "data_type": "User",
          "date": "2012-05-01T00:00:00-04:00",
          "day": 1,
          "month": 5,
          "origin": "final_pass",
          "year": 2012
         },
         {
          "counts": 12,
          "data_type": "User",
          "date": "2012-06-01T00:00:00-04:00",
          "day": 1,
          "month": 6,
          "origin": "final_pass",
          "year": 2012
         },
         {
          "counts": 17,
          "data_type": "User",
          "date": "2012-07-01T00:00:00-04:00",
          "day": 1,
          "month": 7,
          "origin": "final_pass",
          "year": 2012
         },
         {
          "counts": 21,
          "data_type": "User",
          "date": "2012-08-01T00:00:00-04:00",
          "day": 1,
          "month": 8,
          "origin": "final_pass",
          "year": 2012
         },
         {
          "counts": 26,
          "data_type": "User",
          "date": "2012-09-01T00:00:00-04:00",
          "day": 1,
          "month": 9,
          "origin": "final_pass",
          "year": 2012
         },
         {
          "counts": 26,
          "data_type": "User",
          "date": "2012-10-01T00:00:00-04:00",
          "day": 1,
          "month": 10,
          "origin": "final_pass",
          "year": 2012
         },
         {
          "counts": 16,
          "data_type": "User",
          "date": "2012-11-01T00:00:00-04:00",
          "day": 1,
          "month": 11,
          "origin": "final_pass",
          "year": 2012
         },
         {
          "counts": 36,
          "data_type": "User",
          "date": "2012-12-01T00:00:00-05:00",
          "day": 1,
          "month": 12,
          "origin": "final_pass",
          "year": 2012
         },
         {
          "counts": 27,
          "data_type": "User",
          "date": "2013-01-01T00:00:00-05:00",
          "day": 1,
          "month": 1,
          "origin": "final_pass",
          "year": 2013
         },
         {
          "counts": 21,
          "data_type": "User",
          "date": "2013-02-01T00:00:00-05:00",
          "day": 1,
          "month": 2,
          "origin": "final_pass",
          "year": 2013
         },
         {
          "counts": 26,
          "data_type": "User",
          "date": "2013-03-01T00:00:00-05:00",
          "day": 1,
          "month": 3,
          "origin": "final_pass",
          "year": 2013
         },
         {
          "counts": 19,
          "data_type": "User",
          "date": "2013-04-01T00:00:00-04:00",
          "day": 1,
          "month": 4,
          "origin": "final_pass",
          "year": 2013
         },
         {
          "counts": 19,
          "data_type": "User",
          "date": "2013-05-01T00:00:00-04:00",
          "day": 1,
          "month": 5,
          "origin": "final_pass",
          "year": 2013
         },
         {
          "counts": 25,
          "data_type": "User",
          "date": "2013-06-01T00:00:00-04:00",
          "day": 1,
          "month": 6,
          "origin": "final_pass",
          "year": 2013
         },
         {
          "counts": 12,
          "data_type": "User",
          "date": "2013-07-01T00:00:00-04:00",
          "day": 1,
          "month": 7,
          "origin": "final_pass",
          "year": 2013
         },
         {
          "counts": 16,
          "data_type": "User",
          "date": "2013-08-01T00:00:00-04:00",
          "day": 1,
          "month": 8,
          "origin": "final_pass",
          "year": 2013
         },
         {
          "counts": 23,
          "data_type": "User",
          "date": "2013-09-01T00:00:00-04:00",
          "day": 1,
          "month": 9,
          "origin": "final_pass",
          "year": 2013
         },
         {
          "counts": 18,
          "data_type": "User",
          "date": "2013-10-01T00:00:00-04:00",
          "day": 1,
          "month": 10,
          "origin": "final_pass",
          "year": 2013
         },
         {
          "counts": 11,
          "data_type": "User",
          "date": "2013-11-01T00:00:00-04:00",
          "day": 1,
          "month": 11,
          "origin": "final_pass",
          "year": 2013
         },
         {
          "counts": 15,
          "data_type": "User",
          "date": "2013-12-01T00:00:00-05:00",
          "day": 1,
          "month": 12,
          "origin": "final_pass",
          "year": 2013
         },
         {
          "counts": 23,
          "data_type": "User",
          "date": "2014-01-01T00:00:00-05:00",
          "day": 1,
          "month": 1,
          "origin": "final_pass",
          "year": 2014
         },
         {
          "counts": 22,
          "data_type": "User",
          "date": "2014-02-01T00:00:00-05:00",
          "day": 1,
          "month": 2,
          "origin": "final_pass",
          "year": 2014
         },
         {
          "counts": 18,
          "data_type": "User",
          "date": "2014-03-01T00:00:00-05:00",
          "day": 1,
          "month": 3,
          "origin": "final_pass",
          "year": 2014
         },
         {
          "counts": 31,
          "data_type": "User",
          "date": "2014-04-01T00:00:00-04:00",
          "day": 1,
          "month": 4,
          "origin": "final_pass",
          "year": 2014
         },
         {
          "counts": 27,
          "data_type": "User",
          "date": "2014-05-01T00:00:00-04:00",
          "day": 1,
          "month": 5,
          "origin": "final_pass",
          "year": 2014
         },
         {
          "counts": 21,
          "data_type": "User",
          "date": "2014-06-01T00:00:00-04:00",
          "day": 1,
          "month": 6,
          "origin": "final_pass",
          "year": 2014
         },
         {
          "counts": 15,
          "data_type": "User",
          "date": "2014-07-01T00:00:00-04:00",
          "day": 1,
          "month": 7,
          "origin": "final_pass",
          "year": 2014
         },
         {
          "counts": 17,
          "data_type": "User",
          "date": "2014-08-01T00:00:00-04:00",
          "day": 1,
          "month": 8,
          "origin": "final_pass",
          "year": 2014
         },
         {
          "counts": 22,
          "data_type": "User",
          "date": "2014-09-01T00:00:00-04:00",
          "day": 1,
          "month": 9,
          "origin": "final_pass",
          "year": 2014
         },
         {
          "counts": 23,
          "data_type": "User",
          "date": "2014-10-01T00:00:00-04:00",
          "day": 1,
          "month": 10,
          "origin": "final_pass",
          "year": 2014
         },
         {
          "counts": 20,
          "data_type": "User",
          "date": "2014-11-01T00:00:00-04:00",
          "day": 1,
          "month": 11,
          "origin": "final_pass",
          "year": 2014
         },
         {
          "counts": 22,
          "data_type": "User",
          "date": "2014-12-01T00:00:00-05:00",
          "day": 1,
          "month": 12,
          "origin": "final_pass",
          "year": 2014
         },
         {
          "counts": 26,
          "data_type": "User",
          "date": "2015-01-01T00:00:00-05:00",
          "day": 1,
          "month": 1,
          "origin": "final_pass",
          "year": 2015
         },
         {
          "counts": 20,
          "data_type": "User",
          "date": "2015-02-01T00:00:00-05:00",
          "day": 1,
          "month": 2,
          "origin": "final_pass",
          "year": 2015
         },
         {
          "counts": 24,
          "data_type": "User",
          "date": "2015-03-01T00:00:00-05:00",
          "day": 1,
          "month": 3,
          "origin": "final_pass",
          "year": 2015
         },
         {
          "counts": 22,
          "data_type": "User",
          "date": "2015-04-01T00:00:00-04:00",
          "day": 1,
          "month": 4,
          "origin": "final_pass",
          "year": 2015
         },
         {
          "counts": 31,
          "data_type": "User",
          "date": "2015-05-01T00:00:00-04:00",
          "day": 1,
          "month": 5,
          "origin": "final_pass",
          "year": 2015
         },
         {
          "counts": 18,
          "data_type": "User",
          "date": "2015-06-01T00:00:00-04:00",
          "day": 1,
          "month": 6,
          "origin": "final_pass",
          "year": 2015
         },
         {
          "counts": 15,
          "data_type": "User",
          "date": "2015-07-01T00:00:00-04:00",
          "day": 1,
          "month": 7,
          "origin": "final_pass",
          "year": 2015
         },
         {
          "counts": 18,
          "data_type": "User",
          "date": "2015-08-01T00:00:00-04:00",
          "day": 1,
          "month": 8,
          "origin": "final_pass",
          "year": 2015
         },
         {
          "counts": 25,
          "data_type": "User",
          "date": "2015-09-01T00:00:00-04:00",
          "day": 1,
          "month": 9,
          "origin": "final_pass",
          "year": 2015
         },
         {
          "counts": 10,
          "data_type": "User",
          "date": "2015-10-01T00:00:00-04:00",
          "day": 1,
          "month": 10,
          "origin": "final_pass",
          "year": 2015
         },
         {
          "counts": 20,
          "data_type": "User",
          "date": "2015-11-01T00:00:00-04:00",
          "day": 1,
          "month": 11,
          "origin": "final_pass",
          "year": 2015
         },
         {
          "counts": 11,
          "data_type": "User",
          "date": "2015-12-01T00:00:00-05:00",
          "day": 1,
          "month": 12,
          "origin": "final_pass",
          "year": 2015
         },
         {
          "counts": 18,
          "data_type": "User",
          "date": "2016-01-01T00:00:00-05:00",
          "day": 1,
          "month": 1,
          "origin": "final_pass",
          "year": 2016
         },
         {
          "counts": 12,
          "data_type": "User",
          "date": "2016-02-01T00:00:00-05:00",
          "day": 1,
          "month": 2,
          "origin": "final_pass",
          "year": 2016
         },
         {
          "counts": 19,
          "data_type": "User",
          "date": "2016-03-01T00:00:00-05:00",
          "day": 1,
          "month": 3,
          "origin": "final_pass",
          "year": 2016
         },
         {
          "counts": 14,
          "data_type": "User",
          "date": "2016-04-01T00:00:00-04:00",
          "day": 1,
          "month": 4,
          "origin": "final_pass",
          "year": 2016
         },
         {
          "counts": 12,
          "data_type": "User",
          "date": "2016-05-01T00:00:00-04:00",
          "day": 1,
          "month": 5,
          "origin": "final_pass",
          "year": 2016
         },
         {
          "counts": 21,
          "data_type": "User",
          "date": "2016-06-01T00:00:00-04:00",
          "day": 1,
          "month": 6,
          "origin": "final_pass",
          "year": 2016
         },
         {
          "counts": 14,
          "data_type": "User",
          "date": "2016-07-01T00:00:00-04:00",
          "day": 1,
          "month": 7,
          "origin": "final_pass",
          "year": 2016
         },
         {
          "counts": 12,
          "data_type": "User",
          "date": "2016-08-01T00:00:00-04:00",
          "day": 1,
          "month": 8,
          "origin": "final_pass",
          "year": 2016
         },
         {
          "counts": 16,
          "data_type": "User",
          "date": "2016-09-01T00:00:00-04:00",
          "day": 1,
          "month": 9,
          "origin": "final_pass",
          "year": 2016
         },
         {
          "counts": 16,
          "data_type": "User",
          "date": "2016-10-01T00:00:00-04:00",
          "day": 1,
          "month": 10,
          "origin": "final_pass",
          "year": 2016
         },
         {
          "counts": 9,
          "data_type": "User",
          "date": "2016-11-01T00:00:00-04:00",
          "day": 1,
          "month": 11,
          "origin": "final_pass",
          "year": 2016
         },
         {
          "counts": 11,
          "data_type": "User",
          "date": "2016-12-01T00:00:00-05:00",
          "day": 1,
          "month": 12,
          "origin": "final_pass",
          "year": 2016
         },
         {
          "counts": 22,
          "data_type": "User",
          "date": "2017-01-01T00:00:00-05:00",
          "day": 1,
          "month": 1,
          "origin": "final_pass",
          "year": 2017
         },
         {
          "counts": 23,
          "data_type": "User",
          "date": "2017-02-01T00:00:00-05:00",
          "day": 1,
          "month": 2,
          "origin": "final_pass",
          "year": 2017
         },
         {
          "counts": 23,
          "data_type": "User",
          "date": "2017-03-01T00:00:00-05:00",
          "day": 1,
          "month": 3,
          "origin": "final_pass",
          "year": 2017
         },
         {
          "counts": 12,
          "data_type": "User",
          "date": "2017-04-01T00:00:00-04:00",
          "day": 1,
          "month": 4,
          "origin": "final_pass",
          "year": 2017
         },
         {
          "counts": 11,
          "data_type": "User",
          "date": "2017-05-01T00:00:00-04:00",
          "day": 1,
          "month": 5,
          "origin": "final_pass",
          "year": 2017
         },
         {
          "counts": 10,
          "data_type": "User",
          "date": "2017-06-01T00:00:00-04:00",
          "day": 1,
          "month": 6,
          "origin": "final_pass",
          "year": 2017
         },
         {
          "counts": 18,
          "data_type": "User",
          "date": "2017-07-01T00:00:00-04:00",
          "day": 1,
          "month": 7,
          "origin": "final_pass",
          "year": 2017
         },
         {
          "counts": 10,
          "data_type": "User",
          "date": "2017-08-01T00:00:00-04:00",
          "day": 1,
          "month": 8,
          "origin": "final_pass",
          "year": 2017
         },
         {
          "counts": 19,
          "data_type": "User",
          "date": "2017-09-01T00:00:00-04:00",
          "day": 1,
          "month": 9,
          "origin": "final_pass",
          "year": 2017
         },
         {
          "counts": 20,
          "data_type": "User",
          "date": "2017-10-01T00:00:00-04:00",
          "day": 1,
          "month": 10,
          "origin": "final_pass",
          "year": 2017
         },
         {
          "counts": 20,
          "data_type": "User",
          "date": "2017-11-01T00:00:00-04:00",
          "day": 1,
          "month": 11,
          "origin": "final_pass",
          "year": 2017
         },
         {
          "counts": 16,
          "data_type": "User",
          "date": "2017-12-01T00:00:00-05:00",
          "day": 1,
          "month": 12,
          "origin": "final_pass",
          "year": 2017
         },
         {
          "counts": 20,
          "data_type": "User",
          "date": "2018-01-01T00:00:00-05:00",
          "day": 1,
          "month": 1,
          "origin": "final_pass",
          "year": 2018
         },
         {
          "counts": 16,
          "data_type": "User",
          "date": "2018-02-01T00:00:00-05:00",
          "day": 1,
          "month": 2,
          "origin": "final_pass",
          "year": 2018
         },
         {
          "counts": 15,
          "data_type": "User",
          "date": "2018-03-01T00:00:00-05:00",
          "day": 1,
          "month": 3,
          "origin": "final_pass",
          "year": 2018
         },
         {
          "counts": 14,
          "data_type": "User",
          "date": "2018-04-01T00:00:00-04:00",
          "day": 1,
          "month": 4,
          "origin": "final_pass",
          "year": 2018
         },
         {
          "counts": 10,
          "data_type": "User",
          "date": "2018-05-01T00:00:00-04:00",
          "day": 1,
          "month": 5,
          "origin": "final_pass",
          "year": 2018
         },
         {
          "counts": 20,
          "data_type": "User",
          "date": "2018-06-01T00:00:00-04:00",
          "day": 1,
          "month": 6,
          "origin": "final_pass",
          "year": 2018
         },
         {
          "counts": 10,
          "data_type": "User",
          "date": "2018-07-01T00:00:00-04:00",
          "day": 1,
          "month": 7,
          "origin": "final_pass",
          "year": 2018
         },
         {
          "counts": 12,
          "data_type": "User",
          "date": "2018-08-01T00:00:00-04:00",
          "day": 1,
          "month": 8,
          "origin": "final_pass",
          "year": 2018
         },
         {
          "counts": 20,
          "data_type": "User",
          "date": "2018-09-01T00:00:00-04:00",
          "day": 1,
          "month": 9,
          "origin": "final_pass",
          "year": 2018
         },
         {
          "counts": 21,
          "data_type": "User",
          "date": "2018-10-01T00:00:00-04:00",
          "day": 1,
          "month": 10,
          "origin": "final_pass",
          "year": 2018
         },
         {
          "counts": 14,
          "data_type": "User",
          "date": "2018-11-01T00:00:00-04:00",
          "day": 1,
          "month": 11,
          "origin": "final_pass",
          "year": 2018
         },
         {
          "counts": 14,
          "data_type": "User",
          "date": "2018-12-01T00:00:00-05:00",
          "day": 1,
          "month": 12,
          "origin": "final_pass",
          "year": 2018
         },
         {
          "counts": 37,
          "data_type": "User",
          "date": "2019-01-01T00:00:00-05:00",
          "day": 1,
          "month": 1,
          "origin": "final_pass",
          "year": 2019
         },
         {
          "counts": 19,
          "data_type": "User",
          "date": "2019-02-01T00:00:00-05:00",
          "day": 1,
          "month": 2,
          "origin": "final_pass",
          "year": 2019
         },
         {
          "counts": 17,
          "data_type": "User",
          "date": "2019-03-01T00:00:00-05:00",
          "day": 1,
          "month": 3,
          "origin": "final_pass",
          "year": 2019
         },
         {
          "counts": 8,
          "data_type": "User",
          "date": "2019-04-01T00:00:00-04:00",
          "day": 1,
          "month": 4,
          "origin": "final_pass",
          "year": 2019
         },
         {
          "counts": 10,
          "data_type": "User",
          "date": "2019-05-01T00:00:00-04:00",
          "day": 1,
          "month": 5,
          "origin": "final_pass",
          "year": 2019
         },
         {
          "counts": 9,
          "data_type": "User",
          "date": "2019-06-01T00:00:00-04:00",
          "day": 1,
          "month": 6,
          "origin": "final_pass",
          "year": 2019
         },
         {
          "counts": 15,
          "data_type": "User",
          "date": "2019-07-01T00:00:00-04:00",
          "day": 1,
          "month": 7,
          "origin": "final_pass",
          "year": 2019
         },
         {
          "counts": 4,
          "data_type": "User",
          "date": "2019-08-01T00:00:00-04:00",
          "day": 1,
          "month": 8,
          "origin": "final_pass",
          "year": 2019
         },
         {
          "counts": 11,
          "data_type": "User",
          "date": "2019-09-01T00:00:00-04:00",
          "day": 1,
          "month": 9,
          "origin": "final_pass",
          "year": 2019
         },
         {
          "counts": 24,
          "data_type": "User",
          "date": "2019-10-01T00:00:00-04:00",
          "day": 1,
          "month": 10,
          "origin": "final_pass",
          "year": 2019
         },
         {
          "counts": 10,
          "data_type": "User",
          "date": "2019-11-01T00:00:00-04:00",
          "day": 1,
          "month": 11,
          "origin": "final_pass",
          "year": 2019
         },
         {
          "counts": 9,
          "data_type": "User",
          "date": "2019-12-01T00:00:00-05:00",
          "day": 1,
          "month": 12,
          "origin": "final_pass",
          "year": 2019
         },
         {
          "counts": 17,
          "data_type": "User",
          "date": "2020-01-01T00:00:00-05:00",
          "day": 1,
          "month": 1,
          "origin": "final_pass",
          "year": 2020
         },
         {
          "counts": 5,
          "data_type": "User",
          "date": "2020-02-01T00:00:00-05:00",
          "day": 1,
          "month": 2,
          "origin": "final_pass",
          "year": 2020
         },
         {
          "counts": 9,
          "data_type": "User",
          "date": "2020-03-01T00:00:00-05:00",
          "day": 1,
          "month": 3,
          "origin": "final_pass",
          "year": 2020
         },
         {
          "counts": 12,
          "data_type": "User",
          "date": "2020-04-01T00:00:00-04:00",
          "day": 1,
          "month": 4,
          "origin": "final_pass",
          "year": 2020
         },
         {
          "counts": 25,
          "data_type": "User",
          "date": "2020-05-01T00:00:00-04:00",
          "day": 1,
          "month": 5,
          "origin": "final_pass",
          "year": 2020
         },
         {
          "counts": 6,
          "data_type": "User",
          "date": "2020-06-01T00:00:00-04:00",
          "day": 1,
          "month": 6,
          "origin": "final_pass",
          "year": 2020
         },
         {
          "counts": 7,
          "data_type": "User",
          "date": "2020-07-01T00:00:00-04:00",
          "day": 1,
          "month": 7,
          "origin": "final_pass",
          "year": 2020
         },
         {
          "counts": 13,
          "data_type": "User",
          "date": "2020-08-01T00:00:00-04:00",
          "day": 1,
          "month": 8,
          "origin": "final_pass",
          "year": 2020
         },
         {
          "counts": 17,
          "data_type": "User",
          "date": "2020-09-01T00:00:00-04:00",
          "day": 1,
          "month": 9,
          "origin": "final_pass",
          "year": 2020
         },
         {
          "counts": 25,
          "data_type": "User",
          "date": "2020-10-01T00:00:00-04:00",
          "day": 1,
          "month": 10,
          "origin": "final_pass",
          "year": 2020
         },
         {
          "counts": 16,
          "data_type": "User",
          "date": "2020-11-01T00:00:00-04:00",
          "day": 1,
          "month": 11,
          "origin": "final_pass",
          "year": 2020
         },
         {
          "counts": 10,
          "data_type": "User",
          "date": "2020-12-01T00:00:00-05:00",
          "day": 1,
          "month": 12,
          "origin": "final_pass",
          "year": 2020
         },
         {
          "counts": 4,
          "data_type": "User",
          "date": "2021-01-01T00:00:00-05:00",
          "day": 1,
          "month": 1,
          "origin": "final_pass",
          "year": 2021
         },
         {
          "counts": 8,
          "data_type": "User",
          "date": "2021-02-01T00:00:00-05:00",
          "day": 1,
          "month": 2,
          "origin": "final_pass",
          "year": 2021
         },
         {
          "counts": 10,
          "data_type": "User",
          "date": "2021-03-01T00:00:00-05:00",
          "day": 1,
          "month": 3,
          "origin": "final_pass",
          "year": 2021
         },
         {
          "counts": 6,
          "data_type": "User",
          "date": "2021-04-01T00:00:00-04:00",
          "day": 1,
          "month": 4,
          "origin": "final_pass",
          "year": 2021
         },
         {
          "counts": 7,
          "data_type": "User",
          "date": "2021-05-01T00:00:00-04:00",
          "day": 1,
          "month": 5,
          "origin": "final_pass",
          "year": 2021
         },
         {
          "counts": 7,
          "data_type": "User",
          "date": "2021-06-01T00:00:00-04:00",
          "day": 1,
          "month": 6,
          "origin": "final_pass",
          "year": 2021
         },
         {
          "counts": 2,
          "data_type": "User",
          "date": "2021-07-01T00:00:00-04:00",
          "day": 1,
          "month": 7,
          "origin": "final_pass",
          "year": 2021
         },
         {
          "counts": 7,
          "data_type": "User",
          "date": "2021-08-01T00:00:00-04:00",
          "day": 1,
          "month": 8,
          "origin": "final_pass",
          "year": 2021
         },
         {
          "counts": 5,
          "data_type": "User",
          "date": "2021-09-01T00:00:00-04:00",
          "day": 1,
          "month": 9,
          "origin": "final_pass",
          "year": 2021
         },
         {
          "counts": 25,
          "data_type": "User",
          "date": "2021-10-01T00:00:00-04:00",
          "day": 1,
          "month": 10,
          "origin": "final_pass",
          "year": 2021
         },
         {
          "counts": 7,
          "data_type": "User",
          "date": "2021-11-01T00:00:00-04:00",
          "day": 1,
          "month": 11,
          "origin": "final_pass",
          "year": 2021
         },
         {
          "counts": 5,
          "data_type": "User",
          "date": "2021-12-01T00:00:00-05:00",
          "day": 1,
          "month": 12,
          "origin": "final_pass",
          "year": 2021
         },
         {
          "counts": 3,
          "data_type": "User",
          "date": "2022-01-01T00:00:00-05:00",
          "day": 1,
          "month": 1,
          "origin": "final_pass",
          "year": 2022
         },
         {
          "counts": 6,
          "data_type": "User",
          "date": "2022-02-01T00:00:00-05:00",
          "day": 1,
          "month": 2,
          "origin": "final_pass",
          "year": 2022
         },
         {
          "counts": 3,
          "data_type": "User",
          "date": "2022-03-01T00:00:00-05:00",
          "day": 1,
          "month": 3,
          "origin": "final_pass",
          "year": 2022
         },
         {
          "counts": 4,
          "data_type": "User",
          "date": "2022-04-01T00:00:00-04:00",
          "day": 1,
          "month": 4,
          "origin": "final_pass",
          "year": 2022
         },
         {
          "counts": 6,
          "data_type": "User",
          "date": "2022-05-01T00:00:00-04:00",
          "day": 1,
          "month": 5,
          "origin": "final_pass",
          "year": 2022
         },
         {
          "counts": 5,
          "data_type": "User",
          "date": "2022-06-01T00:00:00-04:00",
          "day": 1,
          "month": 6,
          "origin": "final_pass",
          "year": 2022
         },
         {
          "counts": 6,
          "data_type": "User",
          "date": "2022-07-01T00:00:00-04:00",
          "day": 1,
          "month": 7,
          "origin": "final_pass",
          "year": 2022
         },
         {
          "counts": 3,
          "data_type": "User",
          "date": "2022-08-01T00:00:00-04:00",
          "day": 1,
          "month": 8,
          "origin": "final_pass",
          "year": 2022
         },
         {
          "counts": 8,
          "data_type": "User",
          "date": "2022-09-01T00:00:00-04:00",
          "day": 1,
          "month": 9,
          "origin": "final_pass",
          "year": 2022
         },
         {
          "counts": 9,
          "data_type": "User",
          "date": "2022-10-01T00:00:00-04:00",
          "day": 1,
          "month": 10,
          "origin": "final_pass",
          "year": 2022
         },
         {
          "counts": 3,
          "data_type": "User",
          "date": "2022-11-01T00:00:00-04:00",
          "day": 1,
          "month": 11,
          "origin": "final_pass",
          "year": 2022
         },
         {
          "counts": 3,
          "data_type": "User",
          "date": "2022-12-01T00:00:00-05:00",
          "day": 1,
          "month": 12,
          "origin": "final_pass",
          "year": 2022
         },
         {
          "counts": 1,
          "data_type": "User",
          "date": "2023-01-01T00:00:00-05:00",
          "day": 1,
          "month": 1,
          "origin": "final_pass",
          "year": 2023
         },
         {
          "counts": 7,
          "data_type": "User",
          "date": "2023-02-01T00:00:00-05:00",
          "day": 1,
          "month": 2,
          "origin": "final_pass",
          "year": 2023
         },
         {
          "counts": 4,
          "data_type": "User",
          "date": "2023-03-01T00:00:00-05:00",
          "day": 1,
          "month": 3,
          "origin": "final_pass",
          "year": 2023
         },
         {
          "counts": 1,
          "data_type": "User",
          "date": "2023-04-01T00:00:00-04:00",
          "day": 1,
          "month": 4,
          "origin": "final_pass",
          "year": 2023
         },
         {
          "counts": 1,
          "data_type": "User",
          "date": "2008-02-01T00:00:00-05:00",
          "day": 1,
          "month": 2,
          "origin": "first_pass",
          "year": 2008
         },
         {
          "counts": 1,
          "data_type": "User",
          "date": "2008-05-01T00:00:00-04:00",
          "day": 1,
          "month": 5,
          "origin": "first_pass",
          "year": 2008
         },
         {
          "counts": 1,
          "data_type": "User",
          "date": "2008-08-01T00:00:00-04:00",
          "day": 1,
          "month": 8,
          "origin": "first_pass",
          "year": 2008
         },
         {
          "counts": 2,
          "data_type": "User",
          "date": "2008-09-01T00:00:00-04:00",
          "day": 1,
          "month": 9,
          "origin": "first_pass",
          "year": 2008
         },
         {
          "counts": 2,
          "data_type": "User",
          "date": "2008-10-01T00:00:00-04:00",
          "day": 1,
          "month": 10,
          "origin": "first_pass",
          "year": 2008
         },
         {
          "counts": 2,
          "data_type": "User",
          "date": "2008-11-01T00:00:00-04:00",
          "day": 1,
          "month": 11,
          "origin": "first_pass",
          "year": 2008
         },
         {
          "counts": 1,
          "data_type": "User",
          "date": "2008-12-01T00:00:00-05:00",
          "day": 1,
          "month": 12,
          "origin": "first_pass",
          "year": 2008
         },
         {
          "counts": 1,
          "data_type": "User",
          "date": "2009-01-01T00:00:00-05:00",
          "day": 1,
          "month": 1,
          "origin": "first_pass",
          "year": 2009
         },
         {
          "counts": 1,
          "data_type": "User",
          "date": "2009-02-01T00:00:00-05:00",
          "day": 1,
          "month": 2,
          "origin": "first_pass",
          "year": 2009
         },
         {
          "counts": 1,
          "data_type": "User",
          "date": "2009-03-01T00:00:00-05:00",
          "day": 1,
          "month": 3,
          "origin": "first_pass",
          "year": 2009
         },
         {
          "counts": 3,
          "data_type": "User",
          "date": "2009-04-01T00:00:00-04:00",
          "day": 1,
          "month": 4,
          "origin": "first_pass",
          "year": 2009
         },
         {
          "counts": 1,
          "data_type": "User",
          "date": "2009-05-01T00:00:00-04:00",
          "day": 1,
          "month": 5,
          "origin": "first_pass",
          "year": 2009
         },
         {
          "counts": 2,
          "data_type": "User",
          "date": "2009-06-01T00:00:00-04:00",
          "day": 1,
          "month": 6,
          "origin": "first_pass",
          "year": 2009
         },
         {
          "counts": 2,
          "data_type": "User",
          "date": "2009-07-01T00:00:00-04:00",
          "day": 1,
          "month": 7,
          "origin": "first_pass",
          "year": 2009
         },
         {
          "counts": 2,
          "data_type": "User",
          "date": "2009-08-01T00:00:00-04:00",
          "day": 1,
          "month": 8,
          "origin": "first_pass",
          "year": 2009
         },
         {
          "counts": 2,
          "data_type": "User",
          "date": "2009-09-01T00:00:00-04:00",
          "day": 1,
          "month": 9,
          "origin": "first_pass",
          "year": 2009
         },
         {
          "counts": 3,
          "data_type": "User",
          "date": "2009-11-01T00:00:00-04:00",
          "day": 1,
          "month": 11,
          "origin": "first_pass",
          "year": 2009
         },
         {
          "counts": 2,
          "data_type": "User",
          "date": "2009-12-01T00:00:00-05:00",
          "day": 1,
          "month": 12,
          "origin": "first_pass",
          "year": 2009
         },
         {
          "counts": 2,
          "data_type": "User",
          "date": "2010-01-01T00:00:00-05:00",
          "day": 1,
          "month": 1,
          "origin": "first_pass",
          "year": 2010
         },
         {
          "counts": 2,
          "data_type": "User",
          "date": "2010-02-01T00:00:00-05:00",
          "day": 1,
          "month": 2,
          "origin": "first_pass",
          "year": 2010
         },
         {
          "counts": 3,
          "data_type": "User",
          "date": "2010-03-01T00:00:00-05:00",
          "day": 1,
          "month": 3,
          "origin": "first_pass",
          "year": 2010
         },
         {
          "counts": 1,
          "data_type": "User",
          "date": "2010-04-01T00:00:00-04:00",
          "day": 1,
          "month": 4,
          "origin": "first_pass",
          "year": 2010
         },
         {
          "counts": 2,
          "data_type": "User",
          "date": "2010-05-01T00:00:00-04:00",
          "day": 1,
          "month": 5,
          "origin": "first_pass",
          "year": 2010
         },
         {
          "counts": 3,
          "data_type": "User",
          "date": "2010-06-01T00:00:00-04:00",
          "day": 1,
          "month": 6,
          "origin": "first_pass",
          "year": 2010
         },
         {
          "counts": 4,
          "data_type": "User",
          "date": "2010-07-01T00:00:00-04:00",
          "day": 1,
          "month": 7,
          "origin": "first_pass",
          "year": 2010
         },
         {
          "counts": 4,
          "data_type": "User",
          "date": "2010-08-01T00:00:00-04:00",
          "day": 1,
          "month": 8,
          "origin": "first_pass",
          "year": 2010
         },
         {
          "counts": 6,
          "data_type": "User",
          "date": "2010-09-01T00:00:00-04:00",
          "day": 1,
          "month": 9,
          "origin": "first_pass",
          "year": 2010
         },
         {
          "counts": 3,
          "data_type": "User",
          "date": "2010-10-01T00:00:00-04:00",
          "day": 1,
          "month": 10,
          "origin": "first_pass",
          "year": 2010
         },
         {
          "counts": 5,
          "data_type": "User",
          "date": "2010-11-01T00:00:00-04:00",
          "day": 1,
          "month": 11,
          "origin": "first_pass",
          "year": 2010
         },
         {
          "counts": 1,
          "data_type": "User",
          "date": "2010-12-01T00:00:00-05:00",
          "day": 1,
          "month": 12,
          "origin": "first_pass",
          "year": 2010
         },
         {
          "counts": 3,
          "data_type": "User",
          "date": "2011-01-01T00:00:00-05:00",
          "day": 1,
          "month": 1,
          "origin": "first_pass",
          "year": 2011
         },
         {
          "counts": 5,
          "data_type": "User",
          "date": "2011-02-01T00:00:00-05:00",
          "day": 1,
          "month": 2,
          "origin": "first_pass",
          "year": 2011
         },
         {
          "counts": 7,
          "data_type": "User",
          "date": "2011-03-01T00:00:00-05:00",
          "day": 1,
          "month": 3,
          "origin": "first_pass",
          "year": 2011
         },
         {
          "counts": 4,
          "data_type": "User",
          "date": "2011-04-01T00:00:00-04:00",
          "day": 1,
          "month": 4,
          "origin": "first_pass",
          "year": 2011
         },
         {
          "counts": 2,
          "data_type": "User",
          "date": "2011-05-01T00:00:00-04:00",
          "day": 1,
          "month": 5,
          "origin": "first_pass",
          "year": 2011
         },
         {
          "counts": 3,
          "data_type": "User",
          "date": "2011-06-01T00:00:00-04:00",
          "day": 1,
          "month": 6,
          "origin": "first_pass",
          "year": 2011
         },
         {
          "counts": 2,
          "data_type": "User",
          "date": "2011-07-01T00:00:00-04:00",
          "day": 1,
          "month": 7,
          "origin": "first_pass",
          "year": 2011
         },
         {
          "counts": 4,
          "data_type": "User",
          "date": "2011-08-01T00:00:00-04:00",
          "day": 1,
          "month": 8,
          "origin": "first_pass",
          "year": 2011
         },
         {
          "counts": 9,
          "data_type": "User",
          "date": "2011-09-01T00:00:00-04:00",
          "day": 1,
          "month": 9,
          "origin": "first_pass",
          "year": 2011
         },
         {
          "counts": 6,
          "data_type": "User",
          "date": "2011-10-01T00:00:00-04:00",
          "day": 1,
          "month": 10,
          "origin": "first_pass",
          "year": 2011
         },
         {
          "counts": 8,
          "data_type": "User",
          "date": "2011-11-01T00:00:00-04:00",
          "day": 1,
          "month": 11,
          "origin": "first_pass",
          "year": 2011
         },
         {
          "counts": 3,
          "data_type": "User",
          "date": "2011-12-01T00:00:00-05:00",
          "day": 1,
          "month": 12,
          "origin": "first_pass",
          "year": 2011
         },
         {
          "counts": 6,
          "data_type": "User",
          "date": "2012-01-01T00:00:00-05:00",
          "day": 1,
          "month": 1,
          "origin": "first_pass",
          "year": 2012
         },
         {
          "counts": 10,
          "data_type": "User",
          "date": "2012-02-01T00:00:00-05:00",
          "day": 1,
          "month": 2,
          "origin": "first_pass",
          "year": 2012
         },
         {
          "counts": 8,
          "data_type": "User",
          "date": "2012-03-01T00:00:00-05:00",
          "day": 1,
          "month": 3,
          "origin": "first_pass",
          "year": 2012
         },
         {
          "counts": 4,
          "data_type": "User",
          "date": "2012-04-01T00:00:00-04:00",
          "day": 1,
          "month": 4,
          "origin": "first_pass",
          "year": 2012
         },
         {
          "counts": 15,
          "data_type": "User",
          "date": "2012-05-01T00:00:00-04:00",
          "day": 1,
          "month": 5,
          "origin": "first_pass",
          "year": 2012
         },
         {
          "counts": 8,
          "data_type": "User",
          "date": "2012-06-01T00:00:00-04:00",
          "day": 1,
          "month": 6,
          "origin": "first_pass",
          "year": 2012
         },
         {
          "counts": 12,
          "data_type": "User",
          "date": "2012-07-01T00:00:00-04:00",
          "day": 1,
          "month": 7,
          "origin": "first_pass",
          "year": 2012
         },
         {
          "counts": 9,
          "data_type": "User",
          "date": "2012-08-01T00:00:00-04:00",
          "day": 1,
          "month": 8,
          "origin": "first_pass",
          "year": 2012
         },
         {
          "counts": 14,
          "data_type": "User",
          "date": "2012-09-01T00:00:00-04:00",
          "day": 1,
          "month": 9,
          "origin": "first_pass",
          "year": 2012
         },
         {
          "counts": 6,
          "data_type": "User",
          "date": "2012-10-01T00:00:00-04:00",
          "day": 1,
          "month": 10,
          "origin": "first_pass",
          "year": 2012
         },
         {
          "counts": 5,
          "data_type": "User",
          "date": "2012-11-01T00:00:00-04:00",
          "day": 1,
          "month": 11,
          "origin": "first_pass",
          "year": 2012
         },
         {
          "counts": 9,
          "data_type": "User",
          "date": "2012-12-01T00:00:00-05:00",
          "day": 1,
          "month": 12,
          "origin": "first_pass",
          "year": 2012
         },
         {
          "counts": 9,
          "data_type": "User",
          "date": "2013-01-01T00:00:00-05:00",
          "day": 1,
          "month": 1,
          "origin": "first_pass",
          "year": 2013
         },
         {
          "counts": 18,
          "data_type": "User",
          "date": "2013-02-01T00:00:00-05:00",
          "day": 1,
          "month": 2,
          "origin": "first_pass",
          "year": 2013
         },
         {
          "counts": 11,
          "data_type": "User",
          "date": "2013-03-01T00:00:00-05:00",
          "day": 1,
          "month": 3,
          "origin": "first_pass",
          "year": 2013
         },
         {
          "counts": 10,
          "data_type": "User",
          "date": "2013-04-01T00:00:00-04:00",
          "day": 1,
          "month": 4,
          "origin": "first_pass",
          "year": 2013
         },
         {
          "counts": 6,
          "data_type": "User",
          "date": "2013-05-01T00:00:00-04:00",
          "day": 1,
          "month": 5,
          "origin": "first_pass",
          "year": 2013
         },
         {
          "counts": 13,
          "data_type": "User",
          "date": "2013-06-01T00:00:00-04:00",
          "day": 1,
          "month": 6,
          "origin": "first_pass",
          "year": 2013
         },
         {
          "counts": 6,
          "data_type": "User",
          "date": "2013-07-01T00:00:00-04:00",
          "day": 1,
          "month": 7,
          "origin": "first_pass",
          "year": 2013
         },
         {
          "counts": 8,
          "data_type": "User",
          "date": "2013-08-01T00:00:00-04:00",
          "day": 1,
          "month": 8,
          "origin": "first_pass",
          "year": 2013
         },
         {
          "counts": 7,
          "data_type": "User",
          "date": "2013-09-01T00:00:00-04:00",
          "day": 1,
          "month": 9,
          "origin": "first_pass",
          "year": 2013
         },
         {
          "counts": 12,
          "data_type": "User",
          "date": "2013-10-01T00:00:00-04:00",
          "day": 1,
          "month": 10,
          "origin": "first_pass",
          "year": 2013
         },
         {
          "counts": 6,
          "data_type": "User",
          "date": "2013-11-01T00:00:00-04:00",
          "day": 1,
          "month": 11,
          "origin": "first_pass",
          "year": 2013
         },
         {
          "counts": 4,
          "data_type": "User",
          "date": "2013-12-01T00:00:00-05:00",
          "day": 1,
          "month": 12,
          "origin": "first_pass",
          "year": 2013
         },
         {
          "counts": 15,
          "data_type": "User",
          "date": "2014-01-01T00:00:00-05:00",
          "day": 1,
          "month": 1,
          "origin": "first_pass",
          "year": 2014
         },
         {
          "counts": 16,
          "data_type": "User",
          "date": "2014-02-01T00:00:00-05:00",
          "day": 1,
          "month": 2,
          "origin": "first_pass",
          "year": 2014
         },
         {
          "counts": 7,
          "data_type": "User",
          "date": "2014-03-01T00:00:00-05:00",
          "day": 1,
          "month": 3,
          "origin": "first_pass",
          "year": 2014
         },
         {
          "counts": 18,
          "data_type": "User",
          "date": "2014-04-01T00:00:00-04:00",
          "day": 1,
          "month": 4,
          "origin": "first_pass",
          "year": 2014
         },
         {
          "counts": 10,
          "data_type": "User",
          "date": "2014-05-01T00:00:00-04:00",
          "day": 1,
          "month": 5,
          "origin": "first_pass",
          "year": 2014
         },
         {
          "counts": 6,
          "data_type": "User",
          "date": "2014-06-01T00:00:00-04:00",
          "day": 1,
          "month": 6,
          "origin": "first_pass",
          "year": 2014
         },
         {
          "counts": 19,
          "data_type": "User",
          "date": "2014-07-01T00:00:00-04:00",
          "day": 1,
          "month": 7,
          "origin": "first_pass",
          "year": 2014
         },
         {
          "counts": 11,
          "data_type": "User",
          "date": "2014-08-01T00:00:00-04:00",
          "day": 1,
          "month": 8,
          "origin": "first_pass",
          "year": 2014
         },
         {
          "counts": 18,
          "data_type": "User",
          "date": "2014-09-01T00:00:00-04:00",
          "day": 1,
          "month": 9,
          "origin": "first_pass",
          "year": 2014
         },
         {
          "counts": 12,
          "data_type": "User",
          "date": "2014-10-01T00:00:00-04:00",
          "day": 1,
          "month": 10,
          "origin": "first_pass",
          "year": 2014
         },
         {
          "counts": 10,
          "data_type": "User",
          "date": "2014-11-01T00:00:00-04:00",
          "day": 1,
          "month": 11,
          "origin": "first_pass",
          "year": 2014
         },
         {
          "counts": 6,
          "data_type": "User",
          "date": "2014-12-01T00:00:00-05:00",
          "day": 1,
          "month": 12,
          "origin": "first_pass",
          "year": 2014
         },
         {
          "counts": 19,
          "data_type": "User",
          "date": "2015-01-01T00:00:00-05:00",
          "day": 1,
          "month": 1,
          "origin": "first_pass",
          "year": 2015
         },
         {
          "counts": 8,
          "data_type": "User",
          "date": "2015-02-01T00:00:00-05:00",
          "day": 1,
          "month": 2,
          "origin": "first_pass",
          "year": 2015
         },
         {
          "counts": 20,
          "data_type": "User",
          "date": "2015-03-01T00:00:00-05:00",
          "day": 1,
          "month": 3,
          "origin": "first_pass",
          "year": 2015
         },
         {
          "counts": 15,
          "data_type": "User",
          "date": "2015-04-01T00:00:00-04:00",
          "day": 1,
          "month": 4,
          "origin": "first_pass",
          "year": 2015
         },
         {
          "counts": 8,
          "data_type": "User",
          "date": "2015-05-01T00:00:00-04:00",
          "day": 1,
          "month": 5,
          "origin": "first_pass",
          "year": 2015
         },
         {
          "counts": 10,
          "data_type": "User",
          "date": "2015-06-01T00:00:00-04:00",
          "day": 1,
          "month": 6,
          "origin": "first_pass",
          "year": 2015
         },
         {
          "counts": 9,
          "data_type": "User",
          "date": "2015-07-01T00:00:00-04:00",
          "day": 1,
          "month": 7,
          "origin": "first_pass",
          "year": 2015
         },
         {
          "counts": 14,
          "data_type": "User",
          "date": "2015-08-01T00:00:00-04:00",
          "day": 1,
          "month": 8,
          "origin": "first_pass",
          "year": 2015
         },
         {
          "counts": 18,
          "data_type": "User",
          "date": "2015-09-01T00:00:00-04:00",
          "day": 1,
          "month": 9,
          "origin": "first_pass",
          "year": 2015
         },
         {
          "counts": 13,
          "data_type": "User",
          "date": "2015-10-01T00:00:00-04:00",
          "day": 1,
          "month": 10,
          "origin": "first_pass",
          "year": 2015
         },
         {
          "counts": 13,
          "data_type": "User",
          "date": "2015-11-01T00:00:00-04:00",
          "day": 1,
          "month": 11,
          "origin": "first_pass",
          "year": 2015
         },
         {
          "counts": 12,
          "data_type": "User",
          "date": "2015-12-01T00:00:00-05:00",
          "day": 1,
          "month": 12,
          "origin": "first_pass",
          "year": 2015
         },
         {
          "counts": 13,
          "data_type": "User",
          "date": "2016-01-01T00:00:00-05:00",
          "day": 1,
          "month": 1,
          "origin": "first_pass",
          "year": 2016
         },
         {
          "counts": 4,
          "data_type": "User",
          "date": "2016-02-01T00:00:00-05:00",
          "day": 1,
          "month": 2,
          "origin": "first_pass",
          "year": 2016
         },
         {
          "counts": 10,
          "data_type": "User",
          "date": "2016-03-01T00:00:00-05:00",
          "day": 1,
          "month": 3,
          "origin": "first_pass",
          "year": 2016
         },
         {
          "counts": 11,
          "data_type": "User",
          "date": "2016-04-01T00:00:00-04:00",
          "day": 1,
          "month": 4,
          "origin": "first_pass",
          "year": 2016
         },
         {
          "counts": 7,
          "data_type": "User",
          "date": "2016-05-01T00:00:00-04:00",
          "day": 1,
          "month": 5,
          "origin": "first_pass",
          "year": 2016
         },
         {
          "counts": 10,
          "data_type": "User",
          "date": "2016-06-01T00:00:00-04:00",
          "day": 1,
          "month": 6,
          "origin": "first_pass",
          "year": 2016
         },
         {
          "counts": 9,
          "data_type": "User",
          "date": "2016-07-01T00:00:00-04:00",
          "day": 1,
          "month": 7,
          "origin": "first_pass",
          "year": 2016
         },
         {
          "counts": 12,
          "data_type": "User",
          "date": "2016-08-01T00:00:00-04:00",
          "day": 1,
          "month": 8,
          "origin": "first_pass",
          "year": 2016
         },
         {
          "counts": 19,
          "data_type": "User",
          "date": "2016-09-01T00:00:00-04:00",
          "day": 1,
          "month": 9,
          "origin": "first_pass",
          "year": 2016
         },
         {
          "counts": 13,
          "data_type": "User",
          "date": "2016-10-01T00:00:00-04:00",
          "day": 1,
          "month": 10,
          "origin": "first_pass",
          "year": 2016
         },
         {
          "counts": 15,
          "data_type": "User",
          "date": "2016-11-01T00:00:00-04:00",
          "day": 1,
          "month": 11,
          "origin": "first_pass",
          "year": 2016
         },
         {
          "counts": 13,
          "data_type": "User",
          "date": "2016-12-01T00:00:00-05:00",
          "day": 1,
          "month": 12,
          "origin": "first_pass",
          "year": 2016
         },
         {
          "counts": 17,
          "data_type": "User",
          "date": "2017-01-01T00:00:00-05:00",
          "day": 1,
          "month": 1,
          "origin": "first_pass",
          "year": 2017
         },
         {
          "counts": 13,
          "data_type": "User",
          "date": "2017-02-01T00:00:00-05:00",
          "day": 1,
          "month": 2,
          "origin": "first_pass",
          "year": 2017
         },
         {
          "counts": 15,
          "data_type": "User",
          "date": "2017-03-01T00:00:00-05:00",
          "day": 1,
          "month": 3,
          "origin": "first_pass",
          "year": 2017
         },
         {
          "counts": 13,
          "data_type": "User",
          "date": "2017-04-01T00:00:00-04:00",
          "day": 1,
          "month": 4,
          "origin": "first_pass",
          "year": 2017
         },
         {
          "counts": 10,
          "data_type": "User",
          "date": "2017-05-01T00:00:00-04:00",
          "day": 1,
          "month": 5,
          "origin": "first_pass",
          "year": 2017
         },
         {
          "counts": 11,
          "data_type": "User",
          "date": "2017-06-01T00:00:00-04:00",
          "day": 1,
          "month": 6,
          "origin": "first_pass",
          "year": 2017
         },
         {
          "counts": 13,
          "data_type": "User",
          "date": "2017-07-01T00:00:00-04:00",
          "day": 1,
          "month": 7,
          "origin": "first_pass",
          "year": 2017
         },
         {
          "counts": 17,
          "data_type": "User",
          "date": "2017-08-01T00:00:00-04:00",
          "day": 1,
          "month": 8,
          "origin": "first_pass",
          "year": 2017
         },
         {
          "counts": 34,
          "data_type": "User",
          "date": "2017-09-01T00:00:00-04:00",
          "day": 1,
          "month": 9,
          "origin": "first_pass",
          "year": 2017
         },
         {
          "counts": 17,
          "data_type": "User",
          "date": "2017-10-01T00:00:00-04:00",
          "day": 1,
          "month": 10,
          "origin": "first_pass",
          "year": 2017
         },
         {
          "counts": 15,
          "data_type": "User",
          "date": "2017-11-01T00:00:00-04:00",
          "day": 1,
          "month": 11,
          "origin": "first_pass",
          "year": 2017
         },
         {
          "counts": 10,
          "data_type": "User",
          "date": "2017-12-01T00:00:00-05:00",
          "day": 1,
          "month": 12,
          "origin": "first_pass",
          "year": 2017
         },
         {
          "counts": 17,
          "data_type": "User",
          "date": "2018-01-01T00:00:00-05:00",
          "day": 1,
          "month": 1,
          "origin": "first_pass",
          "year": 2018
         },
         {
          "counts": 23,
          "data_type": "User",
          "date": "2018-02-01T00:00:00-05:00",
          "day": 1,
          "month": 2,
          "origin": "first_pass",
          "year": 2018
         },
         {
          "counts": 18,
          "data_type": "User",
          "date": "2018-03-01T00:00:00-05:00",
          "day": 1,
          "month": 3,
          "origin": "first_pass",
          "year": 2018
         },
         {
          "counts": 12,
          "data_type": "User",
          "date": "2018-04-01T00:00:00-04:00",
          "day": 1,
          "month": 4,
          "origin": "first_pass",
          "year": 2018
         },
         {
          "counts": 12,
          "data_type": "User",
          "date": "2018-05-01T00:00:00-04:00",
          "day": 1,
          "month": 5,
          "origin": "first_pass",
          "year": 2018
         },
         {
          "counts": 21,
          "data_type": "User",
          "date": "2018-06-01T00:00:00-04:00",
          "day": 1,
          "month": 6,
          "origin": "first_pass",
          "year": 2018
         },
         {
          "counts": 10,
          "data_type": "User",
          "date": "2018-07-01T00:00:00-04:00",
          "day": 1,
          "month": 7,
          "origin": "first_pass",
          "year": 2018
         },
         {
          "counts": 9,
          "data_type": "User",
          "date": "2018-08-01T00:00:00-04:00",
          "day": 1,
          "month": 8,
          "origin": "first_pass",
          "year": 2018
         },
         {
          "counts": 23,
          "data_type": "User",
          "date": "2018-09-01T00:00:00-04:00",
          "day": 1,
          "month": 9,
          "origin": "first_pass",
          "year": 2018
         },
         {
          "counts": 24,
          "data_type": "User",
          "date": "2018-10-01T00:00:00-04:00",
          "day": 1,
          "month": 10,
          "origin": "first_pass",
          "year": 2018
         },
         {
          "counts": 7,
          "data_type": "User",
          "date": "2018-11-01T00:00:00-04:00",
          "day": 1,
          "month": 11,
          "origin": "first_pass",
          "year": 2018
         },
         {
          "counts": 17,
          "data_type": "User",
          "date": "2018-12-01T00:00:00-05:00",
          "day": 1,
          "month": 12,
          "origin": "first_pass",
          "year": 2018
         },
         {
          "counts": 13,
          "data_type": "User",
          "date": "2019-01-01T00:00:00-05:00",
          "day": 1,
          "month": 1,
          "origin": "first_pass",
          "year": 2019
         },
         {
          "counts": 10,
          "data_type": "User",
          "date": "2019-02-01T00:00:00-05:00",
          "day": 1,
          "month": 2,
          "origin": "first_pass",
          "year": 2019
         },
         {
          "counts": 15,
          "data_type": "User",
          "date": "2019-03-01T00:00:00-05:00",
          "day": 1,
          "month": 3,
          "origin": "first_pass",
          "year": 2019
         },
         {
          "counts": 11,
          "data_type": "User",
          "date": "2019-04-01T00:00:00-04:00",
          "day": 1,
          "month": 4,
          "origin": "first_pass",
          "year": 2019
         },
         {
          "counts": 11,
          "data_type": "User",
          "date": "2019-05-01T00:00:00-04:00",
          "day": 1,
          "month": 5,
          "origin": "first_pass",
          "year": 2019
         },
         {
          "counts": 11,
          "data_type": "User",
          "date": "2019-06-01T00:00:00-04:00",
          "day": 1,
          "month": 6,
          "origin": "first_pass",
          "year": 2019
         },
         {
          "counts": 12,
          "data_type": "User",
          "date": "2019-07-01T00:00:00-04:00",
          "day": 1,
          "month": 7,
          "origin": "first_pass",
          "year": 2019
         },
         {
          "counts": 13,
          "data_type": "User",
          "date": "2019-08-01T00:00:00-04:00",
          "day": 1,
          "month": 8,
          "origin": "first_pass",
          "year": 2019
         },
         {
          "counts": 20,
          "data_type": "User",
          "date": "2019-09-01T00:00:00-04:00",
          "day": 1,
          "month": 9,
          "origin": "first_pass",
          "year": 2019
         },
         {
          "counts": 20,
          "data_type": "User",
          "date": "2019-10-01T00:00:00-04:00",
          "day": 1,
          "month": 10,
          "origin": "first_pass",
          "year": 2019
         },
         {
          "counts": 19,
          "data_type": "User",
          "date": "2019-11-01T00:00:00-04:00",
          "day": 1,
          "month": 11,
          "origin": "first_pass",
          "year": 2019
         },
         {
          "counts": 9,
          "data_type": "User",
          "date": "2019-12-01T00:00:00-05:00",
          "day": 1,
          "month": 12,
          "origin": "first_pass",
          "year": 2019
         },
         {
          "counts": 22,
          "data_type": "User",
          "date": "2020-01-01T00:00:00-05:00",
          "day": 1,
          "month": 1,
          "origin": "first_pass",
          "year": 2020
         },
         {
          "counts": 14,
          "data_type": "User",
          "date": "2020-02-01T00:00:00-05:00",
          "day": 1,
          "month": 2,
          "origin": "first_pass",
          "year": 2020
         },
         {
          "counts": 21,
          "data_type": "User",
          "date": "2020-03-01T00:00:00-05:00",
          "day": 1,
          "month": 3,
          "origin": "first_pass",
          "year": 2020
         },
         {
          "counts": 17,
          "data_type": "User",
          "date": "2020-04-01T00:00:00-04:00",
          "day": 1,
          "month": 4,
          "origin": "first_pass",
          "year": 2020
         },
         {
          "counts": 15,
          "data_type": "User",
          "date": "2020-05-01T00:00:00-04:00",
          "day": 1,
          "month": 5,
          "origin": "first_pass",
          "year": 2020
         },
         {
          "counts": 10,
          "data_type": "User",
          "date": "2020-06-01T00:00:00-04:00",
          "day": 1,
          "month": 6,
          "origin": "first_pass",
          "year": 2020
         },
         {
          "counts": 7,
          "data_type": "User",
          "date": "2020-07-01T00:00:00-04:00",
          "day": 1,
          "month": 7,
          "origin": "first_pass",
          "year": 2020
         },
         {
          "counts": 14,
          "data_type": "User",
          "date": "2020-08-01T00:00:00-04:00",
          "day": 1,
          "month": 8,
          "origin": "first_pass",
          "year": 2020
         },
         {
          "counts": 14,
          "data_type": "User",
          "date": "2020-09-01T00:00:00-04:00",
          "day": 1,
          "month": 9,
          "origin": "first_pass",
          "year": 2020
         },
         {
          "counts": 21,
          "data_type": "User",
          "date": "2020-10-01T00:00:00-04:00",
          "day": 1,
          "month": 10,
          "origin": "first_pass",
          "year": 2020
         },
         {
          "counts": 14,
          "data_type": "User",
          "date": "2020-11-01T00:00:00-04:00",
          "day": 1,
          "month": 11,
          "origin": "first_pass",
          "year": 2020
         },
         {
          "counts": 14,
          "data_type": "User",
          "date": "2020-12-01T00:00:00-05:00",
          "day": 1,
          "month": 12,
          "origin": "first_pass",
          "year": 2020
         },
         {
          "counts": 8,
          "data_type": "User",
          "date": "2021-01-01T00:00:00-05:00",
          "day": 1,
          "month": 1,
          "origin": "first_pass",
          "year": 2021
         },
         {
          "counts": 21,
          "data_type": "User",
          "date": "2021-02-01T00:00:00-05:00",
          "day": 1,
          "month": 2,
          "origin": "first_pass",
          "year": 2021
         },
         {
          "counts": 12,
          "data_type": "User",
          "date": "2021-03-01T00:00:00-05:00",
          "day": 1,
          "month": 3,
          "origin": "first_pass",
          "year": 2021
         },
         {
          "counts": 6,
          "data_type": "User",
          "date": "2021-04-01T00:00:00-04:00",
          "day": 1,
          "month": 4,
          "origin": "first_pass",
          "year": 2021
         },
         {
          "counts": 12,
          "data_type": "User",
          "date": "2021-05-01T00:00:00-04:00",
          "day": 1,
          "month": 5,
          "origin": "first_pass",
          "year": 2021
         },
         {
          "counts": 10,
          "data_type": "User",
          "date": "2021-06-01T00:00:00-04:00",
          "day": 1,
          "month": 6,
          "origin": "first_pass",
          "year": 2021
         },
         {
          "counts": 2,
          "data_type": "User",
          "date": "2021-07-01T00:00:00-04:00",
          "day": 1,
          "month": 7,
          "origin": "first_pass",
          "year": 2021
         },
         {
          "counts": 7,
          "data_type": "User",
          "date": "2021-08-01T00:00:00-04:00",
          "day": 1,
          "month": 8,
          "origin": "first_pass",
          "year": 2021
         },
         {
          "counts": 16,
          "data_type": "User",
          "date": "2021-09-01T00:00:00-04:00",
          "day": 1,
          "month": 9,
          "origin": "first_pass",
          "year": 2021
         },
         {
          "counts": 14,
          "data_type": "User",
          "date": "2021-10-01T00:00:00-04:00",
          "day": 1,
          "month": 10,
          "origin": "first_pass",
          "year": 2021
         },
         {
          "counts": 19,
          "data_type": "User",
          "date": "2021-11-01T00:00:00-04:00",
          "day": 1,
          "month": 11,
          "origin": "first_pass",
          "year": 2021
         },
         {
          "counts": 10,
          "data_type": "User",
          "date": "2021-12-01T00:00:00-05:00",
          "day": 1,
          "month": 12,
          "origin": "first_pass",
          "year": 2021
         },
         {
          "counts": 5,
          "data_type": "User",
          "date": "2022-01-01T00:00:00-05:00",
          "day": 1,
          "month": 1,
          "origin": "first_pass",
          "year": 2022
         },
         {
          "counts": 8,
          "data_type": "User",
          "date": "2022-02-01T00:00:00-05:00",
          "day": 1,
          "month": 2,
          "origin": "first_pass",
          "year": 2022
         },
         {
          "counts": 5,
          "data_type": "User",
          "date": "2022-03-01T00:00:00-05:00",
          "day": 1,
          "month": 3,
          "origin": "first_pass",
          "year": 2022
         },
         {
          "counts": 10,
          "data_type": "User",
          "date": "2022-04-01T00:00:00-04:00",
          "day": 1,
          "month": 4,
          "origin": "first_pass",
          "year": 2022
         },
         {
          "counts": 27,
          "data_type": "User",
          "date": "2022-05-01T00:00:00-04:00",
          "day": 1,
          "month": 5,
          "origin": "first_pass",
          "year": 2022
         },
         {
          "counts": 3,
          "data_type": "User",
          "date": "2022-06-01T00:00:00-04:00",
          "day": 1,
          "month": 6,
          "origin": "first_pass",
          "year": 2022
         },
         {
          "counts": 7,
          "data_type": "User",
          "date": "2022-07-01T00:00:00-04:00",
          "day": 1,
          "month": 7,
          "origin": "first_pass",
          "year": 2022
         },
         {
          "counts": 6,
          "data_type": "User",
          "date": "2022-08-01T00:00:00-04:00",
          "day": 1,
          "month": 8,
          "origin": "first_pass",
          "year": 2022
         },
         {
          "counts": 16,
          "data_type": "User",
          "date": "2022-09-01T00:00:00-04:00",
          "day": 1,
          "month": 9,
          "origin": "first_pass",
          "year": 2022
         },
         {
          "counts": 5,
          "data_type": "User",
          "date": "2022-10-01T00:00:00-04:00",
          "day": 1,
          "month": 10,
          "origin": "first_pass",
          "year": 2022
         },
         {
          "counts": 8,
          "data_type": "User",
          "date": "2022-11-01T00:00:00-04:00",
          "day": 1,
          "month": 11,
          "origin": "first_pass",
          "year": 2022
         },
         {
          "counts": 6,
          "data_type": "User",
          "date": "2022-12-01T00:00:00-05:00",
          "day": 1,
          "month": 12,
          "origin": "first_pass",
          "year": 2022
         },
         {
          "counts": 2,
          "data_type": "User",
          "date": "2023-01-01T00:00:00-05:00",
          "day": 1,
          "month": 1,
          "origin": "first_pass",
          "year": 2023
         },
         {
          "counts": 4,
          "data_type": "User",
          "date": "2023-02-01T00:00:00-05:00",
          "day": 1,
          "month": 2,
          "origin": "first_pass",
          "year": 2023
         },
         {
          "counts": 1,
          "data_type": "User",
          "date": "2008-06-01T00:00:00-04:00",
          "day": 1,
          "month": 6,
          "origin": "initial",
          "year": 2008
         },
         {
          "counts": 1,
          "data_type": "User",
          "date": "2008-08-01T00:00:00-04:00",
          "day": 1,
          "month": 8,
          "origin": "initial",
          "year": 2008
         },
         {
          "counts": 1,
          "data_type": "User",
          "date": "2008-10-01T00:00:00-04:00",
          "day": 1,
          "month": 10,
          "origin": "initial",
          "year": 2008
         },
         {
          "counts": 2,
          "data_type": "User",
          "date": "2009-10-01T00:00:00-04:00",
          "day": 1,
          "month": 10,
          "origin": "initial",
          "year": 2009
         },
         {
          "counts": 1,
          "data_type": "User",
          "date": "2010-01-01T00:00:00-05:00",
          "day": 1,
          "month": 1,
          "origin": "initial",
          "year": 2010
         },
         {
          "counts": 1,
          "data_type": "User",
          "date": "2010-02-01T00:00:00-05:00",
          "day": 1,
          "month": 2,
          "origin": "initial",
          "year": 2010
         },
         {
          "counts": 2,
          "data_type": "User",
          "date": "2010-03-01T00:00:00-05:00",
          "day": 1,
          "month": 3,
          "origin": "initial",
          "year": 2010
         },
         {
          "counts": 1,
          "data_type": "User",
          "date": "2010-05-01T00:00:00-04:00",
          "day": 1,
          "month": 5,
          "origin": "initial",
          "year": 2010
         },
         {
          "counts": 1,
          "data_type": "User",
          "date": "2010-06-01T00:00:00-04:00",
          "day": 1,
          "month": 6,
          "origin": "initial",
          "year": 2010
         },
         {
          "counts": 1,
          "data_type": "User",
          "date": "2010-07-01T00:00:00-04:00",
          "day": 1,
          "month": 7,
          "origin": "initial",
          "year": 2010
         },
         {
          "counts": 1,
          "data_type": "User",
          "date": "2010-08-01T00:00:00-04:00",
          "day": 1,
          "month": 8,
          "origin": "initial",
          "year": 2010
         },
         {
          "counts": 2,
          "data_type": "User",
          "date": "2010-09-01T00:00:00-04:00",
          "day": 1,
          "month": 9,
          "origin": "initial",
          "year": 2010
         },
         {
          "counts": 1,
          "data_type": "User",
          "date": "2010-12-01T00:00:00-05:00",
          "day": 1,
          "month": 12,
          "origin": "initial",
          "year": 2010
         },
         {
          "counts": 1,
          "data_type": "User",
          "date": "2011-02-01T00:00:00-05:00",
          "day": 1,
          "month": 2,
          "origin": "initial",
          "year": 2011
         },
         {
          "counts": 2,
          "data_type": "User",
          "date": "2011-03-01T00:00:00-05:00",
          "day": 1,
          "month": 3,
          "origin": "initial",
          "year": 2011
         },
         {
          "counts": 2,
          "data_type": "User",
          "date": "2011-04-01T00:00:00-04:00",
          "day": 1,
          "month": 4,
          "origin": "initial",
          "year": 2011
         },
         {
          "counts": 1,
          "data_type": "User",
          "date": "2011-05-01T00:00:00-04:00",
          "day": 1,
          "month": 5,
          "origin": "initial",
          "year": 2011
         },
         {
          "counts": 2,
          "data_type": "User",
          "date": "2011-06-01T00:00:00-04:00",
          "day": 1,
          "month": 6,
          "origin": "initial",
          "year": 2011
         },
         {
          "counts": 1,
          "data_type": "User",
          "date": "2011-07-01T00:00:00-04:00",
          "day": 1,
          "month": 7,
          "origin": "initial",
          "year": 2011
         },
         {
          "counts": 3,
          "data_type": "User",
          "date": "2011-08-01T00:00:00-04:00",
          "day": 1,
          "month": 8,
          "origin": "initial",
          "year": 2011
         },
         {
          "counts": 2,
          "data_type": "User",
          "date": "2011-11-01T00:00:00-04:00",
          "day": 1,
          "month": 11,
          "origin": "initial",
          "year": 2011
         },
         {
          "counts": 1,
          "data_type": "User",
          "date": "2011-12-01T00:00:00-05:00",
          "day": 1,
          "month": 12,
          "origin": "initial",
          "year": 2011
         },
         {
          "counts": 1,
          "data_type": "User",
          "date": "2012-02-01T00:00:00-05:00",
          "day": 1,
          "month": 2,
          "origin": "initial",
          "year": 2012
         },
         {
          "counts": 1,
          "data_type": "User",
          "date": "2012-03-01T00:00:00-05:00",
          "day": 1,
          "month": 3,
          "origin": "initial",
          "year": 2012
         },
         {
          "counts": 1,
          "data_type": "User",
          "date": "2012-05-01T00:00:00-04:00",
          "day": 1,
          "month": 5,
          "origin": "initial",
          "year": 2012
         },
         {
          "counts": 1,
          "data_type": "User",
          "date": "2012-06-01T00:00:00-04:00",
          "day": 1,
          "month": 6,
          "origin": "initial",
          "year": 2012
         },
         {
          "counts": 1,
          "data_type": "User",
          "date": "2012-07-01T00:00:00-04:00",
          "day": 1,
          "month": 7,
          "origin": "initial",
          "year": 2012
         },
         {
          "counts": 1,
          "data_type": "User",
          "date": "2012-09-01T00:00:00-04:00",
          "day": 1,
          "month": 9,
          "origin": "initial",
          "year": 2012
         },
         {
          "counts": 6,
          "data_type": "User",
          "date": "2012-10-01T00:00:00-04:00",
          "day": 1,
          "month": 10,
          "origin": "initial",
          "year": 2012
         },
         {
          "counts": 1,
          "data_type": "User",
          "date": "2012-11-01T00:00:00-04:00",
          "day": 1,
          "month": 11,
          "origin": "initial",
          "year": 2012
         },
         {
          "counts": 1,
          "data_type": "User",
          "date": "2012-12-01T00:00:00-05:00",
          "day": 1,
          "month": 12,
          "origin": "initial",
          "year": 2012
         },
         {
          "counts": 3,
          "data_type": "User",
          "date": "2013-01-01T00:00:00-05:00",
          "day": 1,
          "month": 1,
          "origin": "initial",
          "year": 2013
         },
         {
          "counts": 4,
          "data_type": "User",
          "date": "2013-02-01T00:00:00-05:00",
          "day": 1,
          "month": 2,
          "origin": "initial",
          "year": 2013
         },
         {
          "counts": 4,
          "data_type": "User",
          "date": "2013-03-01T00:00:00-05:00",
          "day": 1,
          "month": 3,
          "origin": "initial",
          "year": 2013
         },
         {
          "counts": 3,
          "data_type": "User",
          "date": "2013-04-01T00:00:00-04:00",
          "day": 1,
          "month": 4,
          "origin": "initial",
          "year": 2013
         },
         {
          "counts": 5,
          "data_type": "User",
          "date": "2013-05-01T00:00:00-04:00",
          "day": 1,
          "month": 5,
          "origin": "initial",
          "year": 2013
         },
         {
          "counts": 3,
          "data_type": "User",
          "date": "2013-06-01T00:00:00-04:00",
          "day": 1,
          "month": 6,
          "origin": "initial",
          "year": 2013
         },
         {
          "counts": 2,
          "data_type": "User",
          "date": "2013-07-01T00:00:00-04:00",
          "day": 1,
          "month": 7,
          "origin": "initial",
          "year": 2013
         },
         {
          "counts": 2,
          "data_type": "User",
          "date": "2013-08-01T00:00:00-04:00",
          "day": 1,
          "month": 8,
          "origin": "initial",
          "year": 2013
         },
         {
          "counts": 5,
          "data_type": "User",
          "date": "2013-09-01T00:00:00-04:00",
          "day": 1,
          "month": 9,
          "origin": "initial",
          "year": 2013
         },
         {
          "counts": 3,
          "data_type": "User",
          "date": "2013-10-01T00:00:00-04:00",
          "day": 1,
          "month": 10,
          "origin": "initial",
          "year": 2013
         },
         {
          "counts": 2,
          "data_type": "User",
          "date": "2013-11-01T00:00:00-04:00",
          "day": 1,
          "month": 11,
          "origin": "initial",
          "year": 2013
         },
         {
          "counts": 3,
          "data_type": "User",
          "date": "2014-01-01T00:00:00-05:00",
          "day": 1,
          "month": 1,
          "origin": "initial",
          "year": 2014
         },
         {
          "counts": 2,
          "data_type": "User",
          "date": "2014-02-01T00:00:00-05:00",
          "day": 1,
          "month": 2,
          "origin": "initial",
          "year": 2014
         },
         {
          "counts": 1,
          "data_type": "User",
          "date": "2014-03-01T00:00:00-05:00",
          "day": 1,
          "month": 3,
          "origin": "initial",
          "year": 2014
         },
         {
          "counts": 4,
          "data_type": "User",
          "date": "2014-04-01T00:00:00-04:00",
          "day": 1,
          "month": 4,
          "origin": "initial",
          "year": 2014
         },
         {
          "counts": 5,
          "data_type": "User",
          "date": "2014-05-01T00:00:00-04:00",
          "day": 1,
          "month": 5,
          "origin": "initial",
          "year": 2014
         },
         {
          "counts": 4,
          "data_type": "User",
          "date": "2014-06-01T00:00:00-04:00",
          "day": 1,
          "month": 6,
          "origin": "initial",
          "year": 2014
         },
         {
          "counts": 1,
          "data_type": "User",
          "date": "2014-07-01T00:00:00-04:00",
          "day": 1,
          "month": 7,
          "origin": "initial",
          "year": 2014
         },
         {
          "counts": 4,
          "data_type": "User",
          "date": "2014-08-01T00:00:00-04:00",
          "day": 1,
          "month": 8,
          "origin": "initial",
          "year": 2014
         },
         {
          "counts": 3,
          "data_type": "User",
          "date": "2014-09-01T00:00:00-04:00",
          "day": 1,
          "month": 9,
          "origin": "initial",
          "year": 2014
         },
         {
          "counts": 2,
          "data_type": "User",
          "date": "2014-10-01T00:00:00-04:00",
          "day": 1,
          "month": 10,
          "origin": "initial",
          "year": 2014
         },
         {
          "counts": 3,
          "data_type": "User",
          "date": "2014-11-01T00:00:00-04:00",
          "day": 1,
          "month": 11,
          "origin": "initial",
          "year": 2014
         },
         {
          "counts": 3,
          "data_type": "User",
          "date": "2014-12-01T00:00:00-05:00",
          "day": 1,
          "month": 12,
          "origin": "initial",
          "year": 2014
         },
         {
          "counts": 3,
          "data_type": "User",
          "date": "2015-01-01T00:00:00-05:00",
          "day": 1,
          "month": 1,
          "origin": "initial",
          "year": 2015
         },
         {
          "counts": 4,
          "data_type": "User",
          "date": "2015-02-01T00:00:00-05:00",
          "day": 1,
          "month": 2,
          "origin": "initial",
          "year": 2015
         },
         {
          "counts": 6,
          "data_type": "User",
          "date": "2015-03-01T00:00:00-05:00",
          "day": 1,
          "month": 3,
          "origin": "initial",
          "year": 2015
         },
         {
          "counts": 2,
          "data_type": "User",
          "date": "2015-04-01T00:00:00-04:00",
          "day": 1,
          "month": 4,
          "origin": "initial",
          "year": 2015
         },
         {
          "counts": 4,
          "data_type": "User",
          "date": "2015-05-01T00:00:00-04:00",
          "day": 1,
          "month": 5,
          "origin": "initial",
          "year": 2015
         },
         {
          "counts": 3,
          "data_type": "User",
          "date": "2015-06-01T00:00:00-04:00",
          "day": 1,
          "month": 6,
          "origin": "initial",
          "year": 2015
         },
         {
          "counts": 4,
          "data_type": "User",
          "date": "2015-07-01T00:00:00-04:00",
          "day": 1,
          "month": 7,
          "origin": "initial",
          "year": 2015
         },
         {
          "counts": 1,
          "data_type": "User",
          "date": "2015-09-01T00:00:00-04:00",
          "day": 1,
          "month": 9,
          "origin": "initial",
          "year": 2015
         },
         {
          "counts": 3,
          "data_type": "User",
          "date": "2015-10-01T00:00:00-04:00",
          "day": 1,
          "month": 10,
          "origin": "initial",
          "year": 2015
         },
         {
          "counts": 2,
          "data_type": "User",
          "date": "2015-11-01T00:00:00-04:00",
          "day": 1,
          "month": 11,
          "origin": "initial",
          "year": 2015
         },
         {
          "counts": 4,
          "data_type": "User",
          "date": "2015-12-01T00:00:00-05:00",
          "day": 1,
          "month": 12,
          "origin": "initial",
          "year": 2015
         },
         {
          "counts": 1,
          "data_type": "User",
          "date": "2016-01-01T00:00:00-05:00",
          "day": 1,
          "month": 1,
          "origin": "initial",
          "year": 2016
         },
         {
          "counts": 2,
          "data_type": "User",
          "date": "2016-02-01T00:00:00-05:00",
          "day": 1,
          "month": 2,
          "origin": "initial",
          "year": 2016
         },
         {
          "counts": 7,
          "data_type": "User",
          "date": "2016-03-01T00:00:00-05:00",
          "day": 1,
          "month": 3,
          "origin": "initial",
          "year": 2016
         },
         {
          "counts": 2,
          "data_type": "User",
          "date": "2016-04-01T00:00:00-04:00",
          "day": 1,
          "month": 4,
          "origin": "initial",
          "year": 2016
         },
         {
          "counts": 5,
          "data_type": "User",
          "date": "2016-05-01T00:00:00-04:00",
          "day": 1,
          "month": 5,
          "origin": "initial",
          "year": 2016
         },
         {
          "counts": 3,
          "data_type": "User",
          "date": "2016-06-01T00:00:00-04:00",
          "day": 1,
          "month": 6,
          "origin": "initial",
          "year": 2016
         },
         {
          "counts": 3,
          "data_type": "User",
          "date": "2016-07-01T00:00:00-04:00",
          "day": 1,
          "month": 7,
          "origin": "initial",
          "year": 2016
         },
         {
          "counts": 6,
          "data_type": "User",
          "date": "2016-08-01T00:00:00-04:00",
          "day": 1,
          "month": 8,
          "origin": "initial",
          "year": 2016
         },
         {
          "counts": 8,
          "data_type": "User",
          "date": "2016-09-01T00:00:00-04:00",
          "day": 1,
          "month": 9,
          "origin": "initial",
          "year": 2016
         },
         {
          "counts": 9,
          "data_type": "User",
          "date": "2016-10-01T00:00:00-04:00",
          "day": 1,
          "month": 10,
          "origin": "initial",
          "year": 2016
         },
         {
          "counts": 5,
          "data_type": "User",
          "date": "2016-11-01T00:00:00-04:00",
          "day": 1,
          "month": 11,
          "origin": "initial",
          "year": 2016
         },
         {
          "counts": 8,
          "data_type": "User",
          "date": "2016-12-01T00:00:00-05:00",
          "day": 1,
          "month": 12,
          "origin": "initial",
          "year": 2016
         },
         {
          "counts": 3,
          "data_type": "User",
          "date": "2017-01-01T00:00:00-05:00",
          "day": 1,
          "month": 1,
          "origin": "initial",
          "year": 2017
         },
         {
          "counts": 5,
          "data_type": "User",
          "date": "2017-02-01T00:00:00-05:00",
          "day": 1,
          "month": 2,
          "origin": "initial",
          "year": 2017
         },
         {
          "counts": 9,
          "data_type": "User",
          "date": "2017-03-01T00:00:00-05:00",
          "day": 1,
          "month": 3,
          "origin": "initial",
          "year": 2017
         },
         {
          "counts": 5,
          "data_type": "User",
          "date": "2017-04-01T00:00:00-04:00",
          "day": 1,
          "month": 4,
          "origin": "initial",
          "year": 2017
         },
         {
          "counts": 7,
          "data_type": "User",
          "date": "2017-05-01T00:00:00-04:00",
          "day": 1,
          "month": 5,
          "origin": "initial",
          "year": 2017
         },
         {
          "counts": 13,
          "data_type": "User",
          "date": "2017-06-01T00:00:00-04:00",
          "day": 1,
          "month": 6,
          "origin": "initial",
          "year": 2017
         },
         {
          "counts": 5,
          "data_type": "User",
          "date": "2017-07-01T00:00:00-04:00",
          "day": 1,
          "month": 7,
          "origin": "initial",
          "year": 2017
         },
         {
          "counts": 4,
          "data_type": "User",
          "date": "2017-08-01T00:00:00-04:00",
          "day": 1,
          "month": 8,
          "origin": "initial",
          "year": 2017
         },
         {
          "counts": 6,
          "data_type": "User",
          "date": "2017-09-01T00:00:00-04:00",
          "day": 1,
          "month": 9,
          "origin": "initial",
          "year": 2017
         },
         {
          "counts": 7,
          "data_type": "User",
          "date": "2017-10-01T00:00:00-04:00",
          "day": 1,
          "month": 10,
          "origin": "initial",
          "year": 2017
         },
         {
          "counts": 15,
          "data_type": "User",
          "date": "2017-11-01T00:00:00-04:00",
          "day": 1,
          "month": 11,
          "origin": "initial",
          "year": 2017
         },
         {
          "counts": 3,
          "data_type": "User",
          "date": "2017-12-01T00:00:00-05:00",
          "day": 1,
          "month": 12,
          "origin": "initial",
          "year": 2017
         },
         {
          "counts": 7,
          "data_type": "User",
          "date": "2018-01-01T00:00:00-05:00",
          "day": 1,
          "month": 1,
          "origin": "initial",
          "year": 2018
         },
         {
          "counts": 6,
          "data_type": "User",
          "date": "2018-02-01T00:00:00-05:00",
          "day": 1,
          "month": 2,
          "origin": "initial",
          "year": 2018
         },
         {
          "counts": 11,
          "data_type": "User",
          "date": "2018-03-01T00:00:00-05:00",
          "day": 1,
          "month": 3,
          "origin": "initial",
          "year": 2018
         },
         {
          "counts": 12,
          "data_type": "User",
          "date": "2018-04-01T00:00:00-04:00",
          "day": 1,
          "month": 4,
          "origin": "initial",
          "year": 2018
         },
         {
          "counts": 6,
          "data_type": "User",
          "date": "2018-05-01T00:00:00-04:00",
          "day": 1,
          "month": 5,
          "origin": "initial",
          "year": 2018
         },
         {
          "counts": 4,
          "data_type": "User",
          "date": "2018-06-01T00:00:00-04:00",
          "day": 1,
          "month": 6,
          "origin": "initial",
          "year": 2018
         },
         {
          "counts": 9,
          "data_type": "User",
          "date": "2018-07-01T00:00:00-04:00",
          "day": 1,
          "month": 7,
          "origin": "initial",
          "year": 2018
         },
         {
          "counts": 4,
          "data_type": "User",
          "date": "2018-08-01T00:00:00-04:00",
          "day": 1,
          "month": 8,
          "origin": "initial",
          "year": 2018
         },
         {
          "counts": 10,
          "data_type": "User",
          "date": "2018-09-01T00:00:00-04:00",
          "day": 1,
          "month": 9,
          "origin": "initial",
          "year": 2018
         },
         {
          "counts": 9,
          "data_type": "User",
          "date": "2018-10-01T00:00:00-04:00",
          "day": 1,
          "month": 10,
          "origin": "initial",
          "year": 2018
         },
         {
          "counts": 6,
          "data_type": "User",
          "date": "2018-11-01T00:00:00-04:00",
          "day": 1,
          "month": 11,
          "origin": "initial",
          "year": 2018
         },
         {
          "counts": 3,
          "data_type": "User",
          "date": "2018-12-01T00:00:00-05:00",
          "day": 1,
          "month": 12,
          "origin": "initial",
          "year": 2018
         },
         {
          "counts": 7,
          "data_type": "User",
          "date": "2019-01-01T00:00:00-05:00",
          "day": 1,
          "month": 1,
          "origin": "initial",
          "year": 2019
         },
         {
          "counts": 4,
          "data_type": "User",
          "date": "2019-02-01T00:00:00-05:00",
          "day": 1,
          "month": 2,
          "origin": "initial",
          "year": 2019
         },
         {
          "counts": 3,
          "data_type": "User",
          "date": "2019-03-01T00:00:00-05:00",
          "day": 1,
          "month": 3,
          "origin": "initial",
          "year": 2019
         },
         {
          "counts": 5,
          "data_type": "User",
          "date": "2019-04-01T00:00:00-04:00",
          "day": 1,
          "month": 4,
          "origin": "initial",
          "year": 2019
         },
         {
          "counts": 6,
          "data_type": "User",
          "date": "2019-05-01T00:00:00-04:00",
          "day": 1,
          "month": 5,
          "origin": "initial",
          "year": 2019
         },
         {
          "counts": 5,
          "data_type": "User",
          "date": "2019-06-01T00:00:00-04:00",
          "day": 1,
          "month": 6,
          "origin": "initial",
          "year": 2019
         },
         {
          "counts": 9,
          "data_type": "User",
          "date": "2019-07-01T00:00:00-04:00",
          "day": 1,
          "month": 7,
          "origin": "initial",
          "year": 2019
         },
         {
          "counts": 5,
          "data_type": "User",
          "date": "2019-08-01T00:00:00-04:00",
          "day": 1,
          "month": 8,
          "origin": "initial",
          "year": 2019
         },
         {
          "counts": 10,
          "data_type": "User",
          "date": "2019-09-01T00:00:00-04:00",
          "day": 1,
          "month": 9,
          "origin": "initial",
          "year": 2019
         },
         {
          "counts": 9,
          "data_type": "User",
          "date": "2019-10-01T00:00:00-04:00",
          "day": 1,
          "month": 10,
          "origin": "initial",
          "year": 2019
         },
         {
          "counts": 2,
          "data_type": "User",
          "date": "2019-11-01T00:00:00-04:00",
          "day": 1,
          "month": 11,
          "origin": "initial",
          "year": 2019
         },
         {
          "counts": 9,
          "data_type": "User",
          "date": "2019-12-01T00:00:00-05:00",
          "day": 1,
          "month": 12,
          "origin": "initial",
          "year": 2019
         },
         {
          "counts": 8,
          "data_type": "User",
          "date": "2020-01-01T00:00:00-05:00",
          "day": 1,
          "month": 1,
          "origin": "initial",
          "year": 2020
         },
         {
          "counts": 15,
          "data_type": "User",
          "date": "2020-02-01T00:00:00-05:00",
          "day": 1,
          "month": 2,
          "origin": "initial",
          "year": 2020
         },
         {
          "counts": 10,
          "data_type": "User",
          "date": "2020-03-01T00:00:00-05:00",
          "day": 1,
          "month": 3,
          "origin": "initial",
          "year": 2020
         },
         {
          "counts": 9,
          "data_type": "User",
          "date": "2020-04-01T00:00:00-04:00",
          "day": 1,
          "month": 4,
          "origin": "initial",
          "year": 2020
         },
         {
          "counts": 8,
          "data_type": "User",
          "date": "2020-05-01T00:00:00-04:00",
          "day": 1,
          "month": 5,
          "origin": "initial",
          "year": 2020
         },
         {
          "counts": 6,
          "data_type": "User",
          "date": "2020-06-01T00:00:00-04:00",
          "day": 1,
          "month": 6,
          "origin": "initial",
          "year": 2020
         },
         {
          "counts": 11,
          "data_type": "User",
          "date": "2020-07-01T00:00:00-04:00",
          "day": 1,
          "month": 7,
          "origin": "initial",
          "year": 2020
         },
         {
          "counts": 9,
          "data_type": "User",
          "date": "2020-08-01T00:00:00-04:00",
          "day": 1,
          "month": 8,
          "origin": "initial",
          "year": 2020
         },
         {
          "counts": 3,
          "data_type": "User",
          "date": "2020-09-01T00:00:00-04:00",
          "day": 1,
          "month": 9,
          "origin": "initial",
          "year": 2020
         },
         {
          "counts": 9,
          "data_type": "User",
          "date": "2020-10-01T00:00:00-04:00",
          "day": 1,
          "month": 10,
          "origin": "initial",
          "year": 2020
         },
         {
          "counts": 7,
          "data_type": "User",
          "date": "2020-11-01T00:00:00-04:00",
          "day": 1,
          "month": 11,
          "origin": "initial",
          "year": 2020
         },
         {
          "counts": 5,
          "data_type": "User",
          "date": "2020-12-01T00:00:00-05:00",
          "day": 1,
          "month": 12,
          "origin": "initial",
          "year": 2020
         },
         {
          "counts": 8,
          "data_type": "User",
          "date": "2021-01-01T00:00:00-05:00",
          "day": 1,
          "month": 1,
          "origin": "initial",
          "year": 2021
         },
         {
          "counts": 16,
          "data_type": "User",
          "date": "2021-02-01T00:00:00-05:00",
          "day": 1,
          "month": 2,
          "origin": "initial",
          "year": 2021
         },
         {
          "counts": 12,
          "data_type": "User",
          "date": "2021-03-01T00:00:00-05:00",
          "day": 1,
          "month": 3,
          "origin": "initial",
          "year": 2021
         },
         {
          "counts": 6,
          "data_type": "User",
          "date": "2021-04-01T00:00:00-04:00",
          "day": 1,
          "month": 4,
          "origin": "initial",
          "year": 2021
         },
         {
          "counts": 4,
          "data_type": "User",
          "date": "2021-05-01T00:00:00-04:00",
          "day": 1,
          "month": 5,
          "origin": "initial",
          "year": 2021
         },
         {
          "counts": 9,
          "data_type": "User",
          "date": "2021-06-01T00:00:00-04:00",
          "day": 1,
          "month": 6,
          "origin": "initial",
          "year": 2021
         },
         {
          "counts": 4,
          "data_type": "User",
          "date": "2021-07-01T00:00:00-04:00",
          "day": 1,
          "month": 7,
          "origin": "initial",
          "year": 2021
         },
         {
          "counts": 6,
          "data_type": "User",
          "date": "2021-08-01T00:00:00-04:00",
          "day": 1,
          "month": 8,
          "origin": "initial",
          "year": 2021
         },
         {
          "counts": 6,
          "data_type": "User",
          "date": "2021-09-01T00:00:00-04:00",
          "day": 1,
          "month": 9,
          "origin": "initial",
          "year": 2021
         },
         {
          "counts": 17,
          "data_type": "User",
          "date": "2021-10-01T00:00:00-04:00",
          "day": 1,
          "month": 10,
          "origin": "initial",
          "year": 2021
         },
         {
          "counts": 7,
          "data_type": "User",
          "date": "2021-11-01T00:00:00-04:00",
          "day": 1,
          "month": 11,
          "origin": "initial",
          "year": 2021
         },
         {
          "counts": 4,
          "data_type": "User",
          "date": "2021-12-01T00:00:00-05:00",
          "day": 1,
          "month": 12,
          "origin": "initial",
          "year": 2021
         },
         {
          "counts": 7,
          "data_type": "User",
          "date": "2022-01-01T00:00:00-05:00",
          "day": 1,
          "month": 1,
          "origin": "initial",
          "year": 2022
         },
         {
          "counts": 16,
          "data_type": "User",
          "date": "2022-02-01T00:00:00-05:00",
          "day": 1,
          "month": 2,
          "origin": "initial",
          "year": 2022
         },
         {
          "counts": 8,
          "data_type": "User",
          "date": "2022-03-01T00:00:00-05:00",
          "day": 1,
          "month": 3,
          "origin": "initial",
          "year": 2022
         },
         {
          "counts": 6,
          "data_type": "User",
          "date": "2022-04-01T00:00:00-04:00",
          "day": 1,
          "month": 4,
          "origin": "initial",
          "year": 2022
         },
         {
          "counts": 4,
          "data_type": "User",
          "date": "2022-05-01T00:00:00-04:00",
          "day": 1,
          "month": 5,
          "origin": "initial",
          "year": 2022
         },
         {
          "counts": 8,
          "data_type": "User",
          "date": "2022-06-01T00:00:00-04:00",
          "day": 1,
          "month": 6,
          "origin": "initial",
          "year": 2022
         },
         {
          "counts": 2,
          "data_type": "User",
          "date": "2022-07-01T00:00:00-04:00",
          "day": 1,
          "month": 7,
          "origin": "initial",
          "year": 2022
         },
         {
          "counts": 2,
          "data_type": "User",
          "date": "2022-08-01T00:00:00-04:00",
          "day": 1,
          "month": 8,
          "origin": "initial",
          "year": 2022
         },
         {
          "counts": 9,
          "data_type": "User",
          "date": "2022-09-01T00:00:00-04:00",
          "day": 1,
          "month": 9,
          "origin": "initial",
          "year": 2022
         },
         {
          "counts": 3,
          "data_type": "User",
          "date": "2022-10-01T00:00:00-04:00",
          "day": 1,
          "month": 10,
          "origin": "initial",
          "year": 2022
         },
         {
          "counts": 3,
          "data_type": "User",
          "date": "2022-11-01T00:00:00-04:00",
          "day": 1,
          "month": 11,
          "origin": "initial",
          "year": 2022
         },
         {
          "counts": 8,
          "data_type": "User",
          "date": "2022-12-01T00:00:00-05:00",
          "day": 1,
          "month": 12,
          "origin": "initial",
          "year": 2022
         },
         {
          "counts": 4,
          "data_type": "User",
          "date": "2023-01-01T00:00:00-05:00",
          "day": 1,
          "month": 1,
          "origin": "initial",
          "year": 2023
         },
         {
          "counts": 2,
          "data_type": "User",
          "date": "2023-02-01T00:00:00-05:00",
          "day": 1,
          "month": 2,
          "origin": "initial",
          "year": 2023
         },
         {
          "counts": 1,
          "data_type": "User",
          "date": "2023-03-01T00:00:00-05:00",
          "day": 1,
          "month": 3,
          "origin": "initial",
          "year": 2023
         }
        ],
        "data-d12fc8b29d949d64680c156c79699b6d": [
         {
          "counts": 1,
          "data_type": "Organization",
          "date": "2009-03-01T00:00:00-05:00",
          "day": 1,
          "month": 3,
          "origin": "final_pass",
          "year": 2009
         },
         {
          "counts": 1,
          "data_type": "Organization",
          "date": "2009-06-01T00:00:00-04:00",
          "day": 1,
          "month": 6,
          "origin": "final_pass",
          "year": 2009
         },
         {
          "counts": 1,
          "data_type": "Organization",
          "date": "2010-06-01T00:00:00-04:00",
          "day": 1,
          "month": 6,
          "origin": "final_pass",
          "year": 2010
         },
         {
          "counts": 2,
          "data_type": "Organization",
          "date": "2010-07-01T00:00:00-04:00",
          "day": 1,
          "month": 7,
          "origin": "final_pass",
          "year": 2010
         },
         {
          "counts": 1,
          "data_type": "Organization",
          "date": "2010-12-01T00:00:00-05:00",
          "day": 1,
          "month": 12,
          "origin": "final_pass",
          "year": 2010
         },
         {
          "counts": 1,
          "data_type": "Organization",
          "date": "2011-01-01T00:00:00-05:00",
          "day": 1,
          "month": 1,
          "origin": "final_pass",
          "year": 2011
         },
         {
          "counts": 1,
          "data_type": "Organization",
          "date": "2011-04-01T00:00:00-04:00",
          "day": 1,
          "month": 4,
          "origin": "final_pass",
          "year": 2011
         },
         {
          "counts": 2,
          "data_type": "Organization",
          "date": "2011-06-01T00:00:00-04:00",
          "day": 1,
          "month": 6,
          "origin": "final_pass",
          "year": 2011
         },
         {
          "counts": 1,
          "data_type": "Organization",
          "date": "2011-07-01T00:00:00-04:00",
          "day": 1,
          "month": 7,
          "origin": "final_pass",
          "year": 2011
         },
         {
          "counts": 1,
          "data_type": "Organization",
          "date": "2011-09-01T00:00:00-04:00",
          "day": 1,
          "month": 9,
          "origin": "final_pass",
          "year": 2011
         },
         {
          "counts": 1,
          "data_type": "Organization",
          "date": "2011-11-01T00:00:00-04:00",
          "day": 1,
          "month": 11,
          "origin": "final_pass",
          "year": 2011
         },
         {
          "counts": 1,
          "data_type": "Organization",
          "date": "2011-12-01T00:00:00-05:00",
          "day": 1,
          "month": 12,
          "origin": "final_pass",
          "year": 2011
         },
         {
          "counts": 2,
          "data_type": "Organization",
          "date": "2012-02-01T00:00:00-05:00",
          "day": 1,
          "month": 2,
          "origin": "final_pass",
          "year": 2012
         },
         {
          "counts": 4,
          "data_type": "Organization",
          "date": "2012-05-01T00:00:00-04:00",
          "day": 1,
          "month": 5,
          "origin": "final_pass",
          "year": 2012
         },
         {
          "counts": 1,
          "data_type": "Organization",
          "date": "2012-07-01T00:00:00-04:00",
          "day": 1,
          "month": 7,
          "origin": "final_pass",
          "year": 2012
         },
         {
          "counts": 1,
          "data_type": "Organization",
          "date": "2012-08-01T00:00:00-04:00",
          "day": 1,
          "month": 8,
          "origin": "final_pass",
          "year": 2012
         },
         {
          "counts": 1,
          "data_type": "Organization",
          "date": "2012-09-01T00:00:00-04:00",
          "day": 1,
          "month": 9,
          "origin": "final_pass",
          "year": 2012
         },
         {
          "counts": 1,
          "data_type": "Organization",
          "date": "2012-10-01T00:00:00-04:00",
          "day": 1,
          "month": 10,
          "origin": "final_pass",
          "year": 2012
         },
         {
          "counts": 3,
          "data_type": "Organization",
          "date": "2012-11-01T00:00:00-04:00",
          "day": 1,
          "month": 11,
          "origin": "final_pass",
          "year": 2012
         },
         {
          "counts": 2,
          "data_type": "Organization",
          "date": "2013-01-01T00:00:00-05:00",
          "day": 1,
          "month": 1,
          "origin": "final_pass",
          "year": 2013
         },
         {
          "counts": 1,
          "data_type": "Organization",
          "date": "2013-02-01T00:00:00-05:00",
          "day": 1,
          "month": 2,
          "origin": "final_pass",
          "year": 2013
         },
         {
          "counts": 4,
          "data_type": "Organization",
          "date": "2013-03-01T00:00:00-05:00",
          "day": 1,
          "month": 3,
          "origin": "final_pass",
          "year": 2013
         },
         {
          "counts": 1,
          "data_type": "Organization",
          "date": "2013-05-01T00:00:00-04:00",
          "day": 1,
          "month": 5,
          "origin": "final_pass",
          "year": 2013
         },
         {
          "counts": 4,
          "data_type": "Organization",
          "date": "2013-06-01T00:00:00-04:00",
          "day": 1,
          "month": 6,
          "origin": "final_pass",
          "year": 2013
         },
         {
          "counts": 2,
          "data_type": "Organization",
          "date": "2013-07-01T00:00:00-04:00",
          "day": 1,
          "month": 7,
          "origin": "final_pass",
          "year": 2013
         },
         {
          "counts": 3,
          "data_type": "Organization",
          "date": "2013-08-01T00:00:00-04:00",
          "day": 1,
          "month": 8,
          "origin": "final_pass",
          "year": 2013
         },
         {
          "counts": 1,
          "data_type": "Organization",
          "date": "2013-09-01T00:00:00-04:00",
          "day": 1,
          "month": 9,
          "origin": "final_pass",
          "year": 2013
         },
         {
          "counts": 3,
          "data_type": "Organization",
          "date": "2013-10-01T00:00:00-04:00",
          "day": 1,
          "month": 10,
          "origin": "final_pass",
          "year": 2013
         },
         {
          "counts": 6,
          "data_type": "Organization",
          "date": "2013-11-01T00:00:00-04:00",
          "day": 1,
          "month": 11,
          "origin": "final_pass",
          "year": 2013
         },
         {
          "counts": 1,
          "data_type": "Organization",
          "date": "2013-12-01T00:00:00-05:00",
          "day": 1,
          "month": 12,
          "origin": "final_pass",
          "year": 2013
         },
         {
          "counts": 2,
          "data_type": "Organization",
          "date": "2014-01-01T00:00:00-05:00",
          "day": 1,
          "month": 1,
          "origin": "final_pass",
          "year": 2014
         },
         {
          "counts": 3,
          "data_type": "Organization",
          "date": "2014-02-01T00:00:00-05:00",
          "day": 1,
          "month": 2,
          "origin": "final_pass",
          "year": 2014
         },
         {
          "counts": 2,
          "data_type": "Organization",
          "date": "2014-03-01T00:00:00-05:00",
          "day": 1,
          "month": 3,
          "origin": "final_pass",
          "year": 2014
         },
         {
          "counts": 1,
          "data_type": "Organization",
          "date": "2014-04-01T00:00:00-04:00",
          "day": 1,
          "month": 4,
          "origin": "final_pass",
          "year": 2014
         },
         {
          "counts": 3,
          "data_type": "Organization",
          "date": "2014-05-01T00:00:00-04:00",
          "day": 1,
          "month": 5,
          "origin": "final_pass",
          "year": 2014
         },
         {
          "counts": 3,
          "data_type": "Organization",
          "date": "2014-07-01T00:00:00-04:00",
          "day": 1,
          "month": 7,
          "origin": "final_pass",
          "year": 2014
         },
         {
          "counts": 2,
          "data_type": "Organization",
          "date": "2014-08-01T00:00:00-04:00",
          "day": 1,
          "month": 8,
          "origin": "final_pass",
          "year": 2014
         },
         {
          "counts": 1,
          "data_type": "Organization",
          "date": "2014-09-01T00:00:00-04:00",
          "day": 1,
          "month": 9,
          "origin": "final_pass",
          "year": 2014
         },
         {
          "counts": 1,
          "data_type": "Organization",
          "date": "2014-10-01T00:00:00-04:00",
          "day": 1,
          "month": 10,
          "origin": "final_pass",
          "year": 2014
         },
         {
          "counts": 1,
          "data_type": "Organization",
          "date": "2014-11-01T00:00:00-04:00",
          "day": 1,
          "month": 11,
          "origin": "final_pass",
          "year": 2014
         },
         {
          "counts": 2,
          "data_type": "Organization",
          "date": "2014-12-01T00:00:00-05:00",
          "day": 1,
          "month": 12,
          "origin": "final_pass",
          "year": 2014
         },
         {
          "counts": 1,
          "data_type": "Organization",
          "date": "2015-01-01T00:00:00-05:00",
          "day": 1,
          "month": 1,
          "origin": "final_pass",
          "year": 2015
         },
         {
          "counts": 2,
          "data_type": "Organization",
          "date": "2015-02-01T00:00:00-05:00",
          "day": 1,
          "month": 2,
          "origin": "final_pass",
          "year": 2015
         },
         {
          "counts": 1,
          "data_type": "Organization",
          "date": "2015-03-01T00:00:00-05:00",
          "day": 1,
          "month": 3,
          "origin": "final_pass",
          "year": 2015
         },
         {
          "counts": 2,
          "data_type": "Organization",
          "date": "2015-04-01T00:00:00-04:00",
          "day": 1,
          "month": 4,
          "origin": "final_pass",
          "year": 2015
         },
         {
          "counts": 1,
          "data_type": "Organization",
          "date": "2015-05-01T00:00:00-04:00",
          "day": 1,
          "month": 5,
          "origin": "final_pass",
          "year": 2015
         },
         {
          "counts": 3,
          "data_type": "Organization",
          "date": "2015-07-01T00:00:00-04:00",
          "day": 1,
          "month": 7,
          "origin": "final_pass",
          "year": 2015
         },
         {
          "counts": 1,
          "data_type": "Organization",
          "date": "2015-08-01T00:00:00-04:00",
          "day": 1,
          "month": 8,
          "origin": "final_pass",
          "year": 2015
         },
         {
          "counts": 5,
          "data_type": "Organization",
          "date": "2015-09-01T00:00:00-04:00",
          "day": 1,
          "month": 9,
          "origin": "final_pass",
          "year": 2015
         },
         {
          "counts": 1,
          "data_type": "Organization",
          "date": "2015-10-01T00:00:00-04:00",
          "day": 1,
          "month": 10,
          "origin": "final_pass",
          "year": 2015
         },
         {
          "counts": 2,
          "data_type": "Organization",
          "date": "2015-11-01T00:00:00-04:00",
          "day": 1,
          "month": 11,
          "origin": "final_pass",
          "year": 2015
         },
         {
          "counts": 1,
          "data_type": "Organization",
          "date": "2015-12-01T00:00:00-05:00",
          "day": 1,
          "month": 12,
          "origin": "final_pass",
          "year": 2015
         },
         {
          "counts": 1,
          "data_type": "Organization",
          "date": "2016-01-01T00:00:00-05:00",
          "day": 1,
          "month": 1,
          "origin": "final_pass",
          "year": 2016
         },
         {
          "counts": 6,
          "data_type": "Organization",
          "date": "2016-02-01T00:00:00-05:00",
          "day": 1,
          "month": 2,
          "origin": "final_pass",
          "year": 2016
         },
         {
          "counts": 3,
          "data_type": "Organization",
          "date": "2016-03-01T00:00:00-05:00",
          "day": 1,
          "month": 3,
          "origin": "final_pass",
          "year": 2016
         },
         {
          "counts": 2,
          "data_type": "Organization",
          "date": "2016-04-01T00:00:00-04:00",
          "day": 1,
          "month": 4,
          "origin": "final_pass",
          "year": 2016
         },
         {
          "counts": 6,
          "data_type": "Organization",
          "date": "2016-05-01T00:00:00-04:00",
          "day": 1,
          "month": 5,
          "origin": "final_pass",
          "year": 2016
         },
         {
          "counts": 2,
          "data_type": "Organization",
          "date": "2016-06-01T00:00:00-04:00",
          "day": 1,
          "month": 6,
          "origin": "final_pass",
          "year": 2016
         },
         {
          "counts": 4,
          "data_type": "Organization",
          "date": "2016-07-01T00:00:00-04:00",
          "day": 1,
          "month": 7,
          "origin": "final_pass",
          "year": 2016
         },
         {
          "counts": 5,
          "data_type": "Organization",
          "date": "2016-08-01T00:00:00-04:00",
          "day": 1,
          "month": 8,
          "origin": "final_pass",
          "year": 2016
         },
         {
          "counts": 1,
          "data_type": "Organization",
          "date": "2016-09-01T00:00:00-04:00",
          "day": 1,
          "month": 9,
          "origin": "final_pass",
          "year": 2016
         },
         {
          "counts": 3,
          "data_type": "Organization",
          "date": "2016-10-01T00:00:00-04:00",
          "day": 1,
          "month": 10,
          "origin": "final_pass",
          "year": 2016
         },
         {
          "counts": 4,
          "data_type": "Organization",
          "date": "2016-11-01T00:00:00-04:00",
          "day": 1,
          "month": 11,
          "origin": "final_pass",
          "year": 2016
         },
         {
          "counts": 1,
          "data_type": "Organization",
          "date": "2016-12-01T00:00:00-05:00",
          "day": 1,
          "month": 12,
          "origin": "final_pass",
          "year": 2016
         },
         {
          "counts": 3,
          "data_type": "Organization",
          "date": "2017-01-01T00:00:00-05:00",
          "day": 1,
          "month": 1,
          "origin": "final_pass",
          "year": 2017
         },
         {
          "counts": 4,
          "data_type": "Organization",
          "date": "2017-02-01T00:00:00-05:00",
          "day": 1,
          "month": 2,
          "origin": "final_pass",
          "year": 2017
         },
         {
          "counts": 3,
          "data_type": "Organization",
          "date": "2017-03-01T00:00:00-05:00",
          "day": 1,
          "month": 3,
          "origin": "final_pass",
          "year": 2017
         },
         {
          "counts": 1,
          "data_type": "Organization",
          "date": "2017-04-01T00:00:00-04:00",
          "day": 1,
          "month": 4,
          "origin": "final_pass",
          "year": 2017
         },
         {
          "counts": 3,
          "data_type": "Organization",
          "date": "2017-05-01T00:00:00-04:00",
          "day": 1,
          "month": 5,
          "origin": "final_pass",
          "year": 2017
         },
         {
          "counts": 1,
          "data_type": "Organization",
          "date": "2017-06-01T00:00:00-04:00",
          "day": 1,
          "month": 6,
          "origin": "final_pass",
          "year": 2017
         },
         {
          "counts": 4,
          "data_type": "Organization",
          "date": "2017-07-01T00:00:00-04:00",
          "day": 1,
          "month": 7,
          "origin": "final_pass",
          "year": 2017
         },
         {
          "counts": 2,
          "data_type": "Organization",
          "date": "2017-08-01T00:00:00-04:00",
          "day": 1,
          "month": 8,
          "origin": "final_pass",
          "year": 2017
         },
         {
          "counts": 2,
          "data_type": "Organization",
          "date": "2017-09-01T00:00:00-04:00",
          "day": 1,
          "month": 9,
          "origin": "final_pass",
          "year": 2017
         },
         {
          "counts": 4,
          "data_type": "Organization",
          "date": "2017-10-01T00:00:00-04:00",
          "day": 1,
          "month": 10,
          "origin": "final_pass",
          "year": 2017
         },
         {
          "counts": 8,
          "data_type": "Organization",
          "date": "2017-12-01T00:00:00-05:00",
          "day": 1,
          "month": 12,
          "origin": "final_pass",
          "year": 2017
         },
         {
          "counts": 1,
          "data_type": "Organization",
          "date": "2018-01-01T00:00:00-05:00",
          "day": 1,
          "month": 1,
          "origin": "final_pass",
          "year": 2018
         },
         {
          "counts": 2,
          "data_type": "Organization",
          "date": "2018-02-01T00:00:00-05:00",
          "day": 1,
          "month": 2,
          "origin": "final_pass",
          "year": 2018
         },
         {
          "counts": 2,
          "data_type": "Organization",
          "date": "2018-03-01T00:00:00-05:00",
          "day": 1,
          "month": 3,
          "origin": "final_pass",
          "year": 2018
         },
         {
          "counts": 3,
          "data_type": "Organization",
          "date": "2018-04-01T00:00:00-04:00",
          "day": 1,
          "month": 4,
          "origin": "final_pass",
          "year": 2018
         },
         {
          "counts": 2,
          "data_type": "Organization",
          "date": "2018-05-01T00:00:00-04:00",
          "day": 1,
          "month": 5,
          "origin": "final_pass",
          "year": 2018
         },
         {
          "counts": 8,
          "data_type": "Organization",
          "date": "2018-06-01T00:00:00-04:00",
          "day": 1,
          "month": 6,
          "origin": "final_pass",
          "year": 2018
         },
         {
          "counts": 4,
          "data_type": "Organization",
          "date": "2018-07-01T00:00:00-04:00",
          "day": 1,
          "month": 7,
          "origin": "final_pass",
          "year": 2018
         },
         {
          "counts": 4,
          "data_type": "Organization",
          "date": "2018-08-01T00:00:00-04:00",
          "day": 1,
          "month": 8,
          "origin": "final_pass",
          "year": 2018
         },
         {
          "counts": 2,
          "data_type": "Organization",
          "date": "2018-09-01T00:00:00-04:00",
          "day": 1,
          "month": 9,
          "origin": "final_pass",
          "year": 2018
         },
         {
          "counts": 2,
          "data_type": "Organization",
          "date": "2018-10-01T00:00:00-04:00",
          "day": 1,
          "month": 10,
          "origin": "final_pass",
          "year": 2018
         },
         {
          "counts": 2,
          "data_type": "Organization",
          "date": "2018-11-01T00:00:00-04:00",
          "day": 1,
          "month": 11,
          "origin": "final_pass",
          "year": 2018
         },
         {
          "counts": 5,
          "data_type": "Organization",
          "date": "2019-01-01T00:00:00-05:00",
          "day": 1,
          "month": 1,
          "origin": "final_pass",
          "year": 2019
         },
         {
          "counts": 1,
          "data_type": "Organization",
          "date": "2019-02-01T00:00:00-05:00",
          "day": 1,
          "month": 2,
          "origin": "final_pass",
          "year": 2019
         },
         {
          "counts": 2,
          "data_type": "Organization",
          "date": "2019-03-01T00:00:00-05:00",
          "day": 1,
          "month": 3,
          "origin": "final_pass",
          "year": 2019
         },
         {
          "counts": 4,
          "data_type": "Organization",
          "date": "2019-04-01T00:00:00-04:00",
          "day": 1,
          "month": 4,
          "origin": "final_pass",
          "year": 2019
         },
         {
          "counts": 3,
          "data_type": "Organization",
          "date": "2019-05-01T00:00:00-04:00",
          "day": 1,
          "month": 5,
          "origin": "final_pass",
          "year": 2019
         },
         {
          "counts": 6,
          "data_type": "Organization",
          "date": "2019-07-01T00:00:00-04:00",
          "day": 1,
          "month": 7,
          "origin": "final_pass",
          "year": 2019
         },
         {
          "counts": 1,
          "data_type": "Organization",
          "date": "2019-08-01T00:00:00-04:00",
          "day": 1,
          "month": 8,
          "origin": "final_pass",
          "year": 2019
         },
         {
          "counts": 1,
          "data_type": "Organization",
          "date": "2019-09-01T00:00:00-04:00",
          "day": 1,
          "month": 9,
          "origin": "final_pass",
          "year": 2019
         },
         {
          "counts": 2,
          "data_type": "Organization",
          "date": "2019-10-01T00:00:00-04:00",
          "day": 1,
          "month": 10,
          "origin": "final_pass",
          "year": 2019
         },
         {
          "counts": 2,
          "data_type": "Organization",
          "date": "2019-11-01T00:00:00-04:00",
          "day": 1,
          "month": 11,
          "origin": "final_pass",
          "year": 2019
         },
         {
          "counts": 1,
          "data_type": "Organization",
          "date": "2020-01-01T00:00:00-05:00",
          "day": 1,
          "month": 1,
          "origin": "final_pass",
          "year": 2020
         },
         {
          "counts": 5,
          "data_type": "Organization",
          "date": "2020-03-01T00:00:00-05:00",
          "day": 1,
          "month": 3,
          "origin": "final_pass",
          "year": 2020
         },
         {
          "counts": 5,
          "data_type": "Organization",
          "date": "2020-04-01T00:00:00-04:00",
          "day": 1,
          "month": 4,
          "origin": "final_pass",
          "year": 2020
         },
         {
          "counts": 3,
          "data_type": "Organization",
          "date": "2020-05-01T00:00:00-04:00",
          "day": 1,
          "month": 5,
          "origin": "final_pass",
          "year": 2020
         },
         {
          "counts": 3,
          "data_type": "Organization",
          "date": "2020-06-01T00:00:00-04:00",
          "day": 1,
          "month": 6,
          "origin": "final_pass",
          "year": 2020
         },
         {
          "counts": 1,
          "data_type": "Organization",
          "date": "2020-07-01T00:00:00-04:00",
          "day": 1,
          "month": 7,
          "origin": "final_pass",
          "year": 2020
         },
         {
          "counts": 1,
          "data_type": "Organization",
          "date": "2020-08-01T00:00:00-04:00",
          "day": 1,
          "month": 8,
          "origin": "final_pass",
          "year": 2020
         },
         {
          "counts": 3,
          "data_type": "Organization",
          "date": "2020-09-01T00:00:00-04:00",
          "day": 1,
          "month": 9,
          "origin": "final_pass",
          "year": 2020
         },
         {
          "counts": 1,
          "data_type": "Organization",
          "date": "2020-10-01T00:00:00-04:00",
          "day": 1,
          "month": 10,
          "origin": "final_pass",
          "year": 2020
         },
         {
          "counts": 3,
          "data_type": "Organization",
          "date": "2020-11-01T00:00:00-04:00",
          "day": 1,
          "month": 11,
          "origin": "final_pass",
          "year": 2020
         },
         {
          "counts": 5,
          "data_type": "Organization",
          "date": "2020-12-01T00:00:00-05:00",
          "day": 1,
          "month": 12,
          "origin": "final_pass",
          "year": 2020
         },
         {
          "counts": 2,
          "data_type": "Organization",
          "date": "2021-01-01T00:00:00-05:00",
          "day": 1,
          "month": 1,
          "origin": "final_pass",
          "year": 2021
         },
         {
          "counts": 6,
          "data_type": "Organization",
          "date": "2021-02-01T00:00:00-05:00",
          "day": 1,
          "month": 2,
          "origin": "final_pass",
          "year": 2021
         },
         {
          "counts": 2,
          "data_type": "Organization",
          "date": "2021-03-01T00:00:00-05:00",
          "day": 1,
          "month": 3,
          "origin": "final_pass",
          "year": 2021
         },
         {
          "counts": 2,
          "data_type": "Organization",
          "date": "2021-04-01T00:00:00-04:00",
          "day": 1,
          "month": 4,
          "origin": "final_pass",
          "year": 2021
         },
         {
          "counts": 2,
          "data_type": "Organization",
          "date": "2021-05-01T00:00:00-04:00",
          "day": 1,
          "month": 5,
          "origin": "final_pass",
          "year": 2021
         },
         {
          "counts": 1,
          "data_type": "Organization",
          "date": "2021-06-01T00:00:00-04:00",
          "day": 1,
          "month": 6,
          "origin": "final_pass",
          "year": 2021
         },
         {
          "counts": 1,
          "data_type": "Organization",
          "date": "2021-07-01T00:00:00-04:00",
          "day": 1,
          "month": 7,
          "origin": "final_pass",
          "year": 2021
         },
         {
          "counts": 2,
          "data_type": "Organization",
          "date": "2021-08-01T00:00:00-04:00",
          "day": 1,
          "month": 8,
          "origin": "final_pass",
          "year": 2021
         },
         {
          "counts": 4,
          "data_type": "Organization",
          "date": "2021-10-01T00:00:00-04:00",
          "day": 1,
          "month": 10,
          "origin": "final_pass",
          "year": 2021
         },
         {
          "counts": 2,
          "data_type": "Organization",
          "date": "2021-11-01T00:00:00-04:00",
          "day": 1,
          "month": 11,
          "origin": "final_pass",
          "year": 2021
         },
         {
          "counts": 2,
          "data_type": "Organization",
          "date": "2021-12-01T00:00:00-05:00",
          "day": 1,
          "month": 12,
          "origin": "final_pass",
          "year": 2021
         },
         {
          "counts": 1,
          "data_type": "Organization",
          "date": "2022-01-01T00:00:00-05:00",
          "day": 1,
          "month": 1,
          "origin": "final_pass",
          "year": 2022
         },
         {
          "counts": 4,
          "data_type": "Organization",
          "date": "2022-02-01T00:00:00-05:00",
          "day": 1,
          "month": 2,
          "origin": "final_pass",
          "year": 2022
         },
         {
          "counts": 1,
          "data_type": "Organization",
          "date": "2022-04-01T00:00:00-04:00",
          "day": 1,
          "month": 4,
          "origin": "final_pass",
          "year": 2022
         },
         {
          "counts": 2,
          "data_type": "Organization",
          "date": "2022-05-01T00:00:00-04:00",
          "day": 1,
          "month": 5,
          "origin": "final_pass",
          "year": 2022
         },
         {
          "counts": 3,
          "data_type": "Organization",
          "date": "2022-06-01T00:00:00-04:00",
          "day": 1,
          "month": 6,
          "origin": "final_pass",
          "year": 2022
         },
         {
          "counts": 1,
          "data_type": "Organization",
          "date": "2022-07-01T00:00:00-04:00",
          "day": 1,
          "month": 7,
          "origin": "final_pass",
          "year": 2022
         },
         {
          "counts": 2,
          "data_type": "Organization",
          "date": "2022-08-01T00:00:00-04:00",
          "day": 1,
          "month": 8,
          "origin": "final_pass",
          "year": 2022
         },
         {
          "counts": 1,
          "data_type": "Organization",
          "date": "2022-09-01T00:00:00-04:00",
          "day": 1,
          "month": 9,
          "origin": "final_pass",
          "year": 2022
         },
         {
          "counts": 1,
          "data_type": "Organization",
          "date": "2022-11-01T00:00:00-04:00",
          "day": 1,
          "month": 11,
          "origin": "final_pass",
          "year": 2022
         },
         {
          "counts": 1,
          "data_type": "Organization",
          "date": "2022-12-01T00:00:00-05:00",
          "day": 1,
          "month": 12,
          "origin": "final_pass",
          "year": 2022
         },
         {
          "counts": 1,
          "data_type": "Organization",
          "date": "2023-01-01T00:00:00-05:00",
          "day": 1,
          "month": 1,
          "origin": "final_pass",
          "year": 2023
         },
         {
          "counts": 2,
          "data_type": "Organization",
          "date": "2023-02-01T00:00:00-05:00",
          "day": 1,
          "month": 2,
          "origin": "final_pass",
          "year": 2023
         },
         {
          "counts": 2,
          "data_type": "Organization",
          "date": "2023-03-01T00:00:00-05:00",
          "day": 1,
          "month": 3,
          "origin": "final_pass",
          "year": 2023
         },
         {
          "counts": 2,
          "data_type": "Organization",
          "date": "2023-04-01T00:00:00-04:00",
          "day": 1,
          "month": 4,
          "origin": "final_pass",
          "year": 2023
         },
         {
          "counts": 1,
          "data_type": "Organization",
          "date": "2023-05-01T00:00:00-04:00",
          "day": 1,
          "month": 5,
          "origin": "final_pass",
          "year": 2023
         },
         {
          "counts": 1,
          "data_type": "Organization",
          "date": "2009-02-01T00:00:00-05:00",
          "day": 1,
          "month": 2,
          "origin": "first_pass",
          "year": 2009
         },
         {
          "counts": 1,
          "data_type": "Organization",
          "date": "2010-02-01T00:00:00-05:00",
          "day": 1,
          "month": 2,
          "origin": "first_pass",
          "year": 2010
         },
         {
          "counts": 1,
          "data_type": "Organization",
          "date": "2010-06-01T00:00:00-04:00",
          "day": 1,
          "month": 6,
          "origin": "first_pass",
          "year": 2010
         },
         {
          "counts": 3,
          "data_type": "Organization",
          "date": "2011-04-01T00:00:00-04:00",
          "day": 1,
          "month": 4,
          "origin": "first_pass",
          "year": 2011
         },
         {
          "counts": 2,
          "data_type": "Organization",
          "date": "2011-09-01T00:00:00-04:00",
          "day": 1,
          "month": 9,
          "origin": "first_pass",
          "year": 2011
         },
         {
          "counts": 1,
          "data_type": "Organization",
          "date": "2011-12-01T00:00:00-05:00",
          "day": 1,
          "month": 12,
          "origin": "first_pass",
          "year": 2011
         },
         {
          "counts": 1,
          "data_type": "Organization",
          "date": "2012-01-01T00:00:00-05:00",
          "day": 1,
          "month": 1,
          "origin": "first_pass",
          "year": 2012
         },
         {
          "counts": 4,
          "data_type": "Organization",
          "date": "2012-02-01T00:00:00-05:00",
          "day": 1,
          "month": 2,
          "origin": "first_pass",
          "year": 2012
         },
         {
          "counts": 1,
          "data_type": "Organization",
          "date": "2012-03-01T00:00:00-05:00",
          "day": 1,
          "month": 3,
          "origin": "first_pass",
          "year": 2012
         },
         {
          "counts": 1,
          "data_type": "Organization",
          "date": "2012-04-01T00:00:00-04:00",
          "day": 1,
          "month": 4,
          "origin": "first_pass",
          "year": 2012
         },
         {
          "counts": 1,
          "data_type": "Organization",
          "date": "2012-06-01T00:00:00-04:00",
          "day": 1,
          "month": 6,
          "origin": "first_pass",
          "year": 2012
         },
         {
          "counts": 2,
          "data_type": "Organization",
          "date": "2012-08-01T00:00:00-04:00",
          "day": 1,
          "month": 8,
          "origin": "first_pass",
          "year": 2012
         },
         {
          "counts": 2,
          "data_type": "Organization",
          "date": "2012-09-01T00:00:00-04:00",
          "day": 1,
          "month": 9,
          "origin": "first_pass",
          "year": 2012
         },
         {
          "counts": 1,
          "data_type": "Organization",
          "date": "2012-11-01T00:00:00-04:00",
          "day": 1,
          "month": 11,
          "origin": "first_pass",
          "year": 2012
         },
         {
          "counts": 1,
          "data_type": "Organization",
          "date": "2012-12-01T00:00:00-05:00",
          "day": 1,
          "month": 12,
          "origin": "first_pass",
          "year": 2012
         },
         {
          "counts": 1,
          "data_type": "Organization",
          "date": "2013-03-01T00:00:00-05:00",
          "day": 1,
          "month": 3,
          "origin": "first_pass",
          "year": 2013
         },
         {
          "counts": 2,
          "data_type": "Organization",
          "date": "2013-04-01T00:00:00-04:00",
          "day": 1,
          "month": 4,
          "origin": "first_pass",
          "year": 2013
         },
         {
          "counts": 1,
          "data_type": "Organization",
          "date": "2013-05-01T00:00:00-04:00",
          "day": 1,
          "month": 5,
          "origin": "first_pass",
          "year": 2013
         },
         {
          "counts": 1,
          "data_type": "Organization",
          "date": "2013-06-01T00:00:00-04:00",
          "day": 1,
          "month": 6,
          "origin": "first_pass",
          "year": 2013
         },
         {
          "counts": 2,
          "data_type": "Organization",
          "date": "2013-07-01T00:00:00-04:00",
          "day": 1,
          "month": 7,
          "origin": "first_pass",
          "year": 2013
         },
         {
          "counts": 2,
          "data_type": "Organization",
          "date": "2013-08-01T00:00:00-04:00",
          "day": 1,
          "month": 8,
          "origin": "first_pass",
          "year": 2013
         },
         {
          "counts": 1,
          "data_type": "Organization",
          "date": "2013-09-01T00:00:00-04:00",
          "day": 1,
          "month": 9,
          "origin": "first_pass",
          "year": 2013
         },
         {
          "counts": 1,
          "data_type": "Organization",
          "date": "2013-10-01T00:00:00-04:00",
          "day": 1,
          "month": 10,
          "origin": "first_pass",
          "year": 2013
         },
         {
          "counts": 4,
          "data_type": "Organization",
          "date": "2013-11-01T00:00:00-04:00",
          "day": 1,
          "month": 11,
          "origin": "first_pass",
          "year": 2013
         },
         {
          "counts": 1,
          "data_type": "Organization",
          "date": "2013-12-01T00:00:00-05:00",
          "day": 1,
          "month": 12,
          "origin": "first_pass",
          "year": 2013
         },
         {
          "counts": 2,
          "data_type": "Organization",
          "date": "2014-01-01T00:00:00-05:00",
          "day": 1,
          "month": 1,
          "origin": "first_pass",
          "year": 2014
         },
         {
          "counts": 4,
          "data_type": "Organization",
          "date": "2014-02-01T00:00:00-05:00",
          "day": 1,
          "month": 2,
          "origin": "first_pass",
          "year": 2014
         },
         {
          "counts": 3,
          "data_type": "Organization",
          "date": "2014-03-01T00:00:00-05:00",
          "day": 1,
          "month": 3,
          "origin": "first_pass",
          "year": 2014
         },
         {
          "counts": 3,
          "data_type": "Organization",
          "date": "2014-04-01T00:00:00-04:00",
          "day": 1,
          "month": 4,
          "origin": "first_pass",
          "year": 2014
         },
         {
          "counts": 1,
          "data_type": "Organization",
          "date": "2014-05-01T00:00:00-04:00",
          "day": 1,
          "month": 5,
          "origin": "first_pass",
          "year": 2014
         },
         {
          "counts": 2,
          "data_type": "Organization",
          "date": "2014-07-01T00:00:00-04:00",
          "day": 1,
          "month": 7,
          "origin": "first_pass",
          "year": 2014
         },
         {
          "counts": 1,
          "data_type": "Organization",
          "date": "2014-08-01T00:00:00-04:00",
          "day": 1,
          "month": 8,
          "origin": "first_pass",
          "year": 2014
         },
         {
          "counts": 3,
          "data_type": "Organization",
          "date": "2014-09-01T00:00:00-04:00",
          "day": 1,
          "month": 9,
          "origin": "first_pass",
          "year": 2014
         },
         {
          "counts": 1,
          "data_type": "Organization",
          "date": "2014-10-01T00:00:00-04:00",
          "day": 1,
          "month": 10,
          "origin": "first_pass",
          "year": 2014
         },
         {
          "counts": 1,
          "data_type": "Organization",
          "date": "2014-11-01T00:00:00-04:00",
          "day": 1,
          "month": 11,
          "origin": "first_pass",
          "year": 2014
         },
         {
          "counts": 2,
          "data_type": "Organization",
          "date": "2014-12-01T00:00:00-05:00",
          "day": 1,
          "month": 12,
          "origin": "first_pass",
          "year": 2014
         },
         {
          "counts": 4,
          "data_type": "Organization",
          "date": "2015-01-01T00:00:00-05:00",
          "day": 1,
          "month": 1,
          "origin": "first_pass",
          "year": 2015
         },
         {
          "counts": 2,
          "data_type": "Organization",
          "date": "2015-02-01T00:00:00-05:00",
          "day": 1,
          "month": 2,
          "origin": "first_pass",
          "year": 2015
         },
         {
          "counts": 1,
          "data_type": "Organization",
          "date": "2015-03-01T00:00:00-05:00",
          "day": 1,
          "month": 3,
          "origin": "first_pass",
          "year": 2015
         },
         {
          "counts": 2,
          "data_type": "Organization",
          "date": "2015-04-01T00:00:00-04:00",
          "day": 1,
          "month": 4,
          "origin": "first_pass",
          "year": 2015
         },
         {
          "counts": 2,
          "data_type": "Organization",
          "date": "2015-05-01T00:00:00-04:00",
          "day": 1,
          "month": 5,
          "origin": "first_pass",
          "year": 2015
         },
         {
          "counts": 1,
          "data_type": "Organization",
          "date": "2015-06-01T00:00:00-04:00",
          "day": 1,
          "month": 6,
          "origin": "first_pass",
          "year": 2015
         },
         {
          "counts": 2,
          "data_type": "Organization",
          "date": "2015-07-01T00:00:00-04:00",
          "day": 1,
          "month": 7,
          "origin": "first_pass",
          "year": 2015
         },
         {
          "counts": 4,
          "data_type": "Organization",
          "date": "2015-08-01T00:00:00-04:00",
          "day": 1,
          "month": 8,
          "origin": "first_pass",
          "year": 2015
         },
         {
          "counts": 3,
          "data_type": "Organization",
          "date": "2015-09-01T00:00:00-04:00",
          "day": 1,
          "month": 9,
          "origin": "first_pass",
          "year": 2015
         },
         {
          "counts": 2,
          "data_type": "Organization",
          "date": "2015-10-01T00:00:00-04:00",
          "day": 1,
          "month": 10,
          "origin": "first_pass",
          "year": 2015
         },
         {
          "counts": 2,
          "data_type": "Organization",
          "date": "2015-11-01T00:00:00-04:00",
          "day": 1,
          "month": 11,
          "origin": "first_pass",
          "year": 2015
         },
         {
          "counts": 7,
          "data_type": "Organization",
          "date": "2015-12-01T00:00:00-05:00",
          "day": 1,
          "month": 12,
          "origin": "first_pass",
          "year": 2015
         },
         {
          "counts": 2,
          "data_type": "Organization",
          "date": "2016-01-01T00:00:00-05:00",
          "day": 1,
          "month": 1,
          "origin": "first_pass",
          "year": 2016
         },
         {
          "counts": 4,
          "data_type": "Organization",
          "date": "2016-02-01T00:00:00-05:00",
          "day": 1,
          "month": 2,
          "origin": "first_pass",
          "year": 2016
         },
         {
          "counts": 3,
          "data_type": "Organization",
          "date": "2016-03-01T00:00:00-05:00",
          "day": 1,
          "month": 3,
          "origin": "first_pass",
          "year": 2016
         },
         {
          "counts": 2,
          "data_type": "Organization",
          "date": "2016-04-01T00:00:00-04:00",
          "day": 1,
          "month": 4,
          "origin": "first_pass",
          "year": 2016
         },
         {
          "counts": 2,
          "data_type": "Organization",
          "date": "2016-05-01T00:00:00-04:00",
          "day": 1,
          "month": 5,
          "origin": "first_pass",
          "year": 2016
         },
         {
          "counts": 3,
          "data_type": "Organization",
          "date": "2016-06-01T00:00:00-04:00",
          "day": 1,
          "month": 6,
          "origin": "first_pass",
          "year": 2016
         },
         {
          "counts": 1,
          "data_type": "Organization",
          "date": "2016-08-01T00:00:00-04:00",
          "day": 1,
          "month": 8,
          "origin": "first_pass",
          "year": 2016
         },
         {
          "counts": 2,
          "data_type": "Organization",
          "date": "2016-09-01T00:00:00-04:00",
          "day": 1,
          "month": 9,
          "origin": "first_pass",
          "year": 2016
         },
         {
          "counts": 4,
          "data_type": "Organization",
          "date": "2016-10-01T00:00:00-04:00",
          "day": 1,
          "month": 10,
          "origin": "first_pass",
          "year": 2016
         },
         {
          "counts": 2,
          "data_type": "Organization",
          "date": "2016-11-01T00:00:00-04:00",
          "day": 1,
          "month": 11,
          "origin": "first_pass",
          "year": 2016
         },
         {
          "counts": 1,
          "data_type": "Organization",
          "date": "2016-12-01T00:00:00-05:00",
          "day": 1,
          "month": 12,
          "origin": "first_pass",
          "year": 2016
         },
         {
          "counts": 4,
          "data_type": "Organization",
          "date": "2017-01-01T00:00:00-05:00",
          "day": 1,
          "month": 1,
          "origin": "first_pass",
          "year": 2017
         },
         {
          "counts": 6,
          "data_type": "Organization",
          "date": "2017-02-01T00:00:00-05:00",
          "day": 1,
          "month": 2,
          "origin": "first_pass",
          "year": 2017
         },
         {
          "counts": 2,
          "data_type": "Organization",
          "date": "2017-03-01T00:00:00-05:00",
          "day": 1,
          "month": 3,
          "origin": "first_pass",
          "year": 2017
         },
         {
          "counts": 3,
          "data_type": "Organization",
          "date": "2017-04-01T00:00:00-04:00",
          "day": 1,
          "month": 4,
          "origin": "first_pass",
          "year": 2017
         },
         {
          "counts": 3,
          "data_type": "Organization",
          "date": "2017-05-01T00:00:00-04:00",
          "day": 1,
          "month": 5,
          "origin": "first_pass",
          "year": 2017
         },
         {
          "counts": 3,
          "data_type": "Organization",
          "date": "2017-06-01T00:00:00-04:00",
          "day": 1,
          "month": 6,
          "origin": "first_pass",
          "year": 2017
         },
         {
          "counts": 2,
          "data_type": "Organization",
          "date": "2017-07-01T00:00:00-04:00",
          "day": 1,
          "month": 7,
          "origin": "first_pass",
          "year": 2017
         },
         {
          "counts": 6,
          "data_type": "Organization",
          "date": "2017-09-01T00:00:00-04:00",
          "day": 1,
          "month": 9,
          "origin": "first_pass",
          "year": 2017
         },
         {
          "counts": 4,
          "data_type": "Organization",
          "date": "2017-10-01T00:00:00-04:00",
          "day": 1,
          "month": 10,
          "origin": "first_pass",
          "year": 2017
         },
         {
          "counts": 4,
          "data_type": "Organization",
          "date": "2017-11-01T00:00:00-04:00",
          "day": 1,
          "month": 11,
          "origin": "first_pass",
          "year": 2017
         },
         {
          "counts": 1,
          "data_type": "Organization",
          "date": "2017-12-01T00:00:00-05:00",
          "day": 1,
          "month": 12,
          "origin": "first_pass",
          "year": 2017
         },
         {
          "counts": 2,
          "data_type": "Organization",
          "date": "2018-02-01T00:00:00-05:00",
          "day": 1,
          "month": 2,
          "origin": "first_pass",
          "year": 2018
         },
         {
          "counts": 1,
          "data_type": "Organization",
          "date": "2018-03-01T00:00:00-05:00",
          "day": 1,
          "month": 3,
          "origin": "first_pass",
          "year": 2018
         },
         {
          "counts": 2,
          "data_type": "Organization",
          "date": "2018-04-01T00:00:00-04:00",
          "day": 1,
          "month": 4,
          "origin": "first_pass",
          "year": 2018
         },
         {
          "counts": 2,
          "data_type": "Organization",
          "date": "2018-05-01T00:00:00-04:00",
          "day": 1,
          "month": 5,
          "origin": "first_pass",
          "year": 2018
         },
         {
          "counts": 1,
          "data_type": "Organization",
          "date": "2018-06-01T00:00:00-04:00",
          "day": 1,
          "month": 6,
          "origin": "first_pass",
          "year": 2018
         },
         {
          "counts": 2,
          "data_type": "Organization",
          "date": "2018-07-01T00:00:00-04:00",
          "day": 1,
          "month": 7,
          "origin": "first_pass",
          "year": 2018
         },
         {
          "counts": 3,
          "data_type": "Organization",
          "date": "2018-08-01T00:00:00-04:00",
          "day": 1,
          "month": 8,
          "origin": "first_pass",
          "year": 2018
         },
         {
          "counts": 2,
          "data_type": "Organization",
          "date": "2018-09-01T00:00:00-04:00",
          "day": 1,
          "month": 9,
          "origin": "first_pass",
          "year": 2018
         },
         {
          "counts": 2,
          "data_type": "Organization",
          "date": "2018-11-01T00:00:00-04:00",
          "day": 1,
          "month": 11,
          "origin": "first_pass",
          "year": 2018
         },
         {
          "counts": 2,
          "data_type": "Organization",
          "date": "2018-12-01T00:00:00-05:00",
          "day": 1,
          "month": 12,
          "origin": "first_pass",
          "year": 2018
         },
         {
          "counts": 2,
          "data_type": "Organization",
          "date": "2019-01-01T00:00:00-05:00",
          "day": 1,
          "month": 1,
          "origin": "first_pass",
          "year": 2019
         },
         {
          "counts": 3,
          "data_type": "Organization",
          "date": "2019-02-01T00:00:00-05:00",
          "day": 1,
          "month": 2,
          "origin": "first_pass",
          "year": 2019
         },
         {
          "counts": 2,
          "data_type": "Organization",
          "date": "2019-03-01T00:00:00-05:00",
          "day": 1,
          "month": 3,
          "origin": "first_pass",
          "year": 2019
         },
         {
          "counts": 2,
          "data_type": "Organization",
          "date": "2019-04-01T00:00:00-04:00",
          "day": 1,
          "month": 4,
          "origin": "first_pass",
          "year": 2019
         },
         {
          "counts": 1,
          "data_type": "Organization",
          "date": "2019-05-01T00:00:00-04:00",
          "day": 1,
          "month": 5,
          "origin": "first_pass",
          "year": 2019
         },
         {
          "counts": 2,
          "data_type": "Organization",
          "date": "2019-06-01T00:00:00-04:00",
          "day": 1,
          "month": 6,
          "origin": "first_pass",
          "year": 2019
         },
         {
          "counts": 4,
          "data_type": "Organization",
          "date": "2019-07-01T00:00:00-04:00",
          "day": 1,
          "month": 7,
          "origin": "first_pass",
          "year": 2019
         },
         {
          "counts": 3,
          "data_type": "Organization",
          "date": "2019-09-01T00:00:00-04:00",
          "day": 1,
          "month": 9,
          "origin": "first_pass",
          "year": 2019
         },
         {
          "counts": 4,
          "data_type": "Organization",
          "date": "2019-10-01T00:00:00-04:00",
          "day": 1,
          "month": 10,
          "origin": "first_pass",
          "year": 2019
         },
         {
          "counts": 1,
          "data_type": "Organization",
          "date": "2019-11-01T00:00:00-04:00",
          "day": 1,
          "month": 11,
          "origin": "first_pass",
          "year": 2019
         },
         {
          "counts": 1,
          "data_type": "Organization",
          "date": "2019-12-01T00:00:00-05:00",
          "day": 1,
          "month": 12,
          "origin": "first_pass",
          "year": 2019
         },
         {
          "counts": 2,
          "data_type": "Organization",
          "date": "2020-01-01T00:00:00-05:00",
          "day": 1,
          "month": 1,
          "origin": "first_pass",
          "year": 2020
         },
         {
          "counts": 1,
          "data_type": "Organization",
          "date": "2020-02-01T00:00:00-05:00",
          "day": 1,
          "month": 2,
          "origin": "first_pass",
          "year": 2020
         },
         {
          "counts": 4,
          "data_type": "Organization",
          "date": "2020-03-01T00:00:00-05:00",
          "day": 1,
          "month": 3,
          "origin": "first_pass",
          "year": 2020
         },
         {
          "counts": 2,
          "data_type": "Organization",
          "date": "2020-04-01T00:00:00-04:00",
          "day": 1,
          "month": 4,
          "origin": "first_pass",
          "year": 2020
         },
         {
          "counts": 2,
          "data_type": "Organization",
          "date": "2020-05-01T00:00:00-04:00",
          "day": 1,
          "month": 5,
          "origin": "first_pass",
          "year": 2020
         },
         {
          "counts": 3,
          "data_type": "Organization",
          "date": "2020-06-01T00:00:00-04:00",
          "day": 1,
          "month": 6,
          "origin": "first_pass",
          "year": 2020
         },
         {
          "counts": 5,
          "data_type": "Organization",
          "date": "2020-07-01T00:00:00-04:00",
          "day": 1,
          "month": 7,
          "origin": "first_pass",
          "year": 2020
         },
         {
          "counts": 1,
          "data_type": "Organization",
          "date": "2020-08-01T00:00:00-04:00",
          "day": 1,
          "month": 8,
          "origin": "first_pass",
          "year": 2020
         },
         {
          "counts": 2,
          "data_type": "Organization",
          "date": "2020-09-01T00:00:00-04:00",
          "day": 1,
          "month": 9,
          "origin": "first_pass",
          "year": 2020
         },
         {
          "counts": 2,
          "data_type": "Organization",
          "date": "2020-10-01T00:00:00-04:00",
          "day": 1,
          "month": 10,
          "origin": "first_pass",
          "year": 2020
         },
         {
          "counts": 1,
          "data_type": "Organization",
          "date": "2020-11-01T00:00:00-04:00",
          "day": 1,
          "month": 11,
          "origin": "first_pass",
          "year": 2020
         },
         {
          "counts": 2,
          "data_type": "Organization",
          "date": "2020-12-01T00:00:00-05:00",
          "day": 1,
          "month": 12,
          "origin": "first_pass",
          "year": 2020
         },
         {
          "counts": 5,
          "data_type": "Organization",
          "date": "2021-01-01T00:00:00-05:00",
          "day": 1,
          "month": 1,
          "origin": "first_pass",
          "year": 2021
         },
         {
          "counts": 5,
          "data_type": "Organization",
          "date": "2021-02-01T00:00:00-05:00",
          "day": 1,
          "month": 2,
          "origin": "first_pass",
          "year": 2021
         },
         {
          "counts": 1,
          "data_type": "Organization",
          "date": "2021-03-01T00:00:00-05:00",
          "day": 1,
          "month": 3,
          "origin": "first_pass",
          "year": 2021
         },
         {
          "counts": 3,
          "data_type": "Organization",
          "date": "2021-04-01T00:00:00-04:00",
          "day": 1,
          "month": 4,
          "origin": "first_pass",
          "year": 2021
         },
         {
          "counts": 3,
          "data_type": "Organization",
          "date": "2021-05-01T00:00:00-04:00",
          "day": 1,
          "month": 5,
          "origin": "first_pass",
          "year": 2021
         },
         {
          "counts": 2,
          "data_type": "Organization",
          "date": "2021-06-01T00:00:00-04:00",
          "day": 1,
          "month": 6,
          "origin": "first_pass",
          "year": 2021
         },
         {
          "counts": 4,
          "data_type": "Organization",
          "date": "2021-08-01T00:00:00-04:00",
          "day": 1,
          "month": 8,
          "origin": "first_pass",
          "year": 2021
         },
         {
          "counts": 1,
          "data_type": "Organization",
          "date": "2021-09-01T00:00:00-04:00",
          "day": 1,
          "month": 9,
          "origin": "first_pass",
          "year": 2021
         },
         {
          "counts": 2,
          "data_type": "Organization",
          "date": "2021-10-01T00:00:00-04:00",
          "day": 1,
          "month": 10,
          "origin": "first_pass",
          "year": 2021
         },
         {
          "counts": 1,
          "data_type": "Organization",
          "date": "2021-11-01T00:00:00-04:00",
          "day": 1,
          "month": 11,
          "origin": "first_pass",
          "year": 2021
         },
         {
          "counts": 1,
          "data_type": "Organization",
          "date": "2021-12-01T00:00:00-05:00",
          "day": 1,
          "month": 12,
          "origin": "first_pass",
          "year": 2021
         },
         {
          "counts": 2,
          "data_type": "Organization",
          "date": "2022-01-01T00:00:00-05:00",
          "day": 1,
          "month": 1,
          "origin": "first_pass",
          "year": 2022
         },
         {
          "counts": 2,
          "data_type": "Organization",
          "date": "2022-03-01T00:00:00-05:00",
          "day": 1,
          "month": 3,
          "origin": "first_pass",
          "year": 2022
         },
         {
          "counts": 2,
          "data_type": "Organization",
          "date": "2022-04-01T00:00:00-04:00",
          "day": 1,
          "month": 4,
          "origin": "first_pass",
          "year": 2022
         },
         {
          "counts": 2,
          "data_type": "Organization",
          "date": "2022-05-01T00:00:00-04:00",
          "day": 1,
          "month": 5,
          "origin": "first_pass",
          "year": 2022
         },
         {
          "counts": 2,
          "data_type": "Organization",
          "date": "2022-06-01T00:00:00-04:00",
          "day": 1,
          "month": 6,
          "origin": "first_pass",
          "year": 2022
         },
         {
          "counts": 1,
          "data_type": "Organization",
          "date": "2022-07-01T00:00:00-04:00",
          "day": 1,
          "month": 7,
          "origin": "first_pass",
          "year": 2022
         },
         {
          "counts": 1,
          "data_type": "Organization",
          "date": "2022-09-01T00:00:00-04:00",
          "day": 1,
          "month": 9,
          "origin": "first_pass",
          "year": 2022
         },
         {
          "counts": 1,
          "data_type": "Organization",
          "date": "2022-11-01T00:00:00-04:00",
          "day": 1,
          "month": 11,
          "origin": "first_pass",
          "year": 2022
         },
         {
          "counts": 1,
          "data_type": "Organization",
          "date": "2010-05-01T00:00:00-04:00",
          "day": 1,
          "month": 5,
          "origin": "initial",
          "year": 2010
         },
         {
          "counts": 1,
          "data_type": "Organization",
          "date": "2010-10-01T00:00:00-04:00",
          "day": 1,
          "month": 10,
          "origin": "initial",
          "year": 2010
         },
         {
          "counts": 1,
          "data_type": "Organization",
          "date": "2011-10-01T00:00:00-04:00",
          "day": 1,
          "month": 10,
          "origin": "initial",
          "year": 2011
         },
         {
          "counts": 3,
          "data_type": "Organization",
          "date": "2011-12-01T00:00:00-05:00",
          "day": 1,
          "month": 12,
          "origin": "initial",
          "year": 2011
         },
         {
          "counts": 1,
          "data_type": "Organization",
          "date": "2012-04-01T00:00:00-04:00",
          "day": 1,
          "month": 4,
          "origin": "initial",
          "year": 2012
         },
         {
          "counts": 1,
          "data_type": "Organization",
          "date": "2012-10-01T00:00:00-04:00",
          "day": 1,
          "month": 10,
          "origin": "initial",
          "year": 2012
         },
         {
          "counts": 1,
          "data_type": "Organization",
          "date": "2013-01-01T00:00:00-05:00",
          "day": 1,
          "month": 1,
          "origin": "initial",
          "year": 2013
         },
         {
          "counts": 1,
          "data_type": "Organization",
          "date": "2013-03-01T00:00:00-05:00",
          "day": 1,
          "month": 3,
          "origin": "initial",
          "year": 2013
         },
         {
          "counts": 1,
          "data_type": "Organization",
          "date": "2013-04-01T00:00:00-04:00",
          "day": 1,
          "month": 4,
          "origin": "initial",
          "year": 2013
         },
         {
          "counts": 1,
          "data_type": "Organization",
          "date": "2013-06-01T00:00:00-04:00",
          "day": 1,
          "month": 6,
          "origin": "initial",
          "year": 2013
         },
         {
          "counts": 2,
          "data_type": "Organization",
          "date": "2013-07-01T00:00:00-04:00",
          "day": 1,
          "month": 7,
          "origin": "initial",
          "year": 2013
         },
         {
          "counts": 1,
          "data_type": "Organization",
          "date": "2013-08-01T00:00:00-04:00",
          "day": 1,
          "month": 8,
          "origin": "initial",
          "year": 2013
         },
         {
          "counts": 1,
          "data_type": "Organization",
          "date": "2013-10-01T00:00:00-04:00",
          "day": 1,
          "month": 10,
          "origin": "initial",
          "year": 2013
         },
         {
          "counts": 1,
          "data_type": "Organization",
          "date": "2013-12-01T00:00:00-05:00",
          "day": 1,
          "month": 12,
          "origin": "initial",
          "year": 2013
         },
         {
          "counts": 1,
          "data_type": "Organization",
          "date": "2014-01-01T00:00:00-05:00",
          "day": 1,
          "month": 1,
          "origin": "initial",
          "year": 2014
         },
         {
          "counts": 3,
          "data_type": "Organization",
          "date": "2014-02-01T00:00:00-05:00",
          "day": 1,
          "month": 2,
          "origin": "initial",
          "year": 2014
         },
         {
          "counts": 1,
          "data_type": "Organization",
          "date": "2014-05-01T00:00:00-04:00",
          "day": 1,
          "month": 5,
          "origin": "initial",
          "year": 2014
         },
         {
          "counts": 1,
          "data_type": "Organization",
          "date": "2014-06-01T00:00:00-04:00",
          "day": 1,
          "month": 6,
          "origin": "initial",
          "year": 2014
         },
         {
          "counts": 2,
          "data_type": "Organization",
          "date": "2014-07-01T00:00:00-04:00",
          "day": 1,
          "month": 7,
          "origin": "initial",
          "year": 2014
         },
         {
          "counts": 1,
          "data_type": "Organization",
          "date": "2014-09-01T00:00:00-04:00",
          "day": 1,
          "month": 9,
          "origin": "initial",
          "year": 2014
         },
         {
          "counts": 2,
          "data_type": "Organization",
          "date": "2014-10-01T00:00:00-04:00",
          "day": 1,
          "month": 10,
          "origin": "initial",
          "year": 2014
         },
         {
          "counts": 2,
          "data_type": "Organization",
          "date": "2014-11-01T00:00:00-04:00",
          "day": 1,
          "month": 11,
          "origin": "initial",
          "year": 2014
         },
         {
          "counts": 1,
          "data_type": "Organization",
          "date": "2014-12-01T00:00:00-05:00",
          "day": 1,
          "month": 12,
          "origin": "initial",
          "year": 2014
         },
         {
          "counts": 3,
          "data_type": "Organization",
          "date": "2015-01-01T00:00:00-05:00",
          "day": 1,
          "month": 1,
          "origin": "initial",
          "year": 2015
         },
         {
          "counts": 1,
          "data_type": "Organization",
          "date": "2015-03-01T00:00:00-05:00",
          "day": 1,
          "month": 3,
          "origin": "initial",
          "year": 2015
         },
         {
          "counts": 2,
          "data_type": "Organization",
          "date": "2015-04-01T00:00:00-04:00",
          "day": 1,
          "month": 4,
          "origin": "initial",
          "year": 2015
         },
         {
          "counts": 1,
          "data_type": "Organization",
          "date": "2015-05-01T00:00:00-04:00",
          "day": 1,
          "month": 5,
          "origin": "initial",
          "year": 2015
         },
         {
          "counts": 1,
          "data_type": "Organization",
          "date": "2015-06-01T00:00:00-04:00",
          "day": 1,
          "month": 6,
          "origin": "initial",
          "year": 2015
         },
         {
          "counts": 3,
          "data_type": "Organization",
          "date": "2015-07-01T00:00:00-04:00",
          "day": 1,
          "month": 7,
          "origin": "initial",
          "year": 2015
         },
         {
          "counts": 1,
          "data_type": "Organization",
          "date": "2015-08-01T00:00:00-04:00",
          "day": 1,
          "month": 8,
          "origin": "initial",
          "year": 2015
         },
         {
          "counts": 4,
          "data_type": "Organization",
          "date": "2015-09-01T00:00:00-04:00",
          "day": 1,
          "month": 9,
          "origin": "initial",
          "year": 2015
         },
         {
          "counts": 2,
          "data_type": "Organization",
          "date": "2015-10-01T00:00:00-04:00",
          "day": 1,
          "month": 10,
          "origin": "initial",
          "year": 2015
         },
         {
          "counts": 2,
          "data_type": "Organization",
          "date": "2015-11-01T00:00:00-04:00",
          "day": 1,
          "month": 11,
          "origin": "initial",
          "year": 2015
         },
         {
          "counts": 1,
          "data_type": "Organization",
          "date": "2015-12-01T00:00:00-05:00",
          "day": 1,
          "month": 12,
          "origin": "initial",
          "year": 2015
         },
         {
          "counts": 2,
          "data_type": "Organization",
          "date": "2016-01-01T00:00:00-05:00",
          "day": 1,
          "month": 1,
          "origin": "initial",
          "year": 2016
         },
         {
          "counts": 4,
          "data_type": "Organization",
          "date": "2016-02-01T00:00:00-05:00",
          "day": 1,
          "month": 2,
          "origin": "initial",
          "year": 2016
         },
         {
          "counts": 1,
          "data_type": "Organization",
          "date": "2016-03-01T00:00:00-05:00",
          "day": 1,
          "month": 3,
          "origin": "initial",
          "year": 2016
         },
         {
          "counts": 2,
          "data_type": "Organization",
          "date": "2016-04-01T00:00:00-04:00",
          "day": 1,
          "month": 4,
          "origin": "initial",
          "year": 2016
         },
         {
          "counts": 2,
          "data_type": "Organization",
          "date": "2016-05-01T00:00:00-04:00",
          "day": 1,
          "month": 5,
          "origin": "initial",
          "year": 2016
         },
         {
          "counts": 1,
          "data_type": "Organization",
          "date": "2016-06-01T00:00:00-04:00",
          "day": 1,
          "month": 6,
          "origin": "initial",
          "year": 2016
         },
         {
          "counts": 1,
          "data_type": "Organization",
          "date": "2016-07-01T00:00:00-04:00",
          "day": 1,
          "month": 7,
          "origin": "initial",
          "year": 2016
         },
         {
          "counts": 2,
          "data_type": "Organization",
          "date": "2016-09-01T00:00:00-04:00",
          "day": 1,
          "month": 9,
          "origin": "initial",
          "year": 2016
         },
         {
          "counts": 2,
          "data_type": "Organization",
          "date": "2016-10-01T00:00:00-04:00",
          "day": 1,
          "month": 10,
          "origin": "initial",
          "year": 2016
         },
         {
          "counts": 1,
          "data_type": "Organization",
          "date": "2016-11-01T00:00:00-04:00",
          "day": 1,
          "month": 11,
          "origin": "initial",
          "year": 2016
         },
         {
          "counts": 2,
          "data_type": "Organization",
          "date": "2017-02-01T00:00:00-05:00",
          "day": 1,
          "month": 2,
          "origin": "initial",
          "year": 2017
         },
         {
          "counts": 3,
          "data_type": "Organization",
          "date": "2017-04-01T00:00:00-04:00",
          "day": 1,
          "month": 4,
          "origin": "initial",
          "year": 2017
         },
         {
          "counts": 2,
          "data_type": "Organization",
          "date": "2017-05-01T00:00:00-04:00",
          "day": 1,
          "month": 5,
          "origin": "initial",
          "year": 2017
         },
         {
          "counts": 3,
          "data_type": "Organization",
          "date": "2017-08-01T00:00:00-04:00",
          "day": 1,
          "month": 8,
          "origin": "initial",
          "year": 2017
         },
         {
          "counts": 2,
          "data_type": "Organization",
          "date": "2017-09-01T00:00:00-04:00",
          "day": 1,
          "month": 9,
          "origin": "initial",
          "year": 2017
         },
         {
          "counts": 2,
          "data_type": "Organization",
          "date": "2017-10-01T00:00:00-04:00",
          "day": 1,
          "month": 10,
          "origin": "initial",
          "year": 2017
         },
         {
          "counts": 1,
          "data_type": "Organization",
          "date": "2017-11-01T00:00:00-04:00",
          "day": 1,
          "month": 11,
          "origin": "initial",
          "year": 2017
         },
         {
          "counts": 1,
          "data_type": "Organization",
          "date": "2017-12-01T00:00:00-05:00",
          "day": 1,
          "month": 12,
          "origin": "initial",
          "year": 2017
         },
         {
          "counts": 2,
          "data_type": "Organization",
          "date": "2018-01-01T00:00:00-05:00",
          "day": 1,
          "month": 1,
          "origin": "initial",
          "year": 2018
         },
         {
          "counts": 2,
          "data_type": "Organization",
          "date": "2018-02-01T00:00:00-05:00",
          "day": 1,
          "month": 2,
          "origin": "initial",
          "year": 2018
         },
         {
          "counts": 2,
          "data_type": "Organization",
          "date": "2018-03-01T00:00:00-05:00",
          "day": 1,
          "month": 3,
          "origin": "initial",
          "year": 2018
         },
         {
          "counts": 2,
          "data_type": "Organization",
          "date": "2018-04-01T00:00:00-04:00",
          "day": 1,
          "month": 4,
          "origin": "initial",
          "year": 2018
         },
         {
          "counts": 1,
          "data_type": "Organization",
          "date": "2018-05-01T00:00:00-04:00",
          "day": 1,
          "month": 5,
          "origin": "initial",
          "year": 2018
         },
         {
          "counts": 1,
          "data_type": "Organization",
          "date": "2018-06-01T00:00:00-04:00",
          "day": 1,
          "month": 6,
          "origin": "initial",
          "year": 2018
         },
         {
          "counts": 1,
          "data_type": "Organization",
          "date": "2018-07-01T00:00:00-04:00",
          "day": 1,
          "month": 7,
          "origin": "initial",
          "year": 2018
         },
         {
          "counts": 2,
          "data_type": "Organization",
          "date": "2018-08-01T00:00:00-04:00",
          "day": 1,
          "month": 8,
          "origin": "initial",
          "year": 2018
         },
         {
          "counts": 1,
          "data_type": "Organization",
          "date": "2018-09-01T00:00:00-04:00",
          "day": 1,
          "month": 9,
          "origin": "initial",
          "year": 2018
         },
         {
          "counts": 1,
          "data_type": "Organization",
          "date": "2018-10-01T00:00:00-04:00",
          "day": 1,
          "month": 10,
          "origin": "initial",
          "year": 2018
         },
         {
          "counts": 1,
          "data_type": "Organization",
          "date": "2018-11-01T00:00:00-04:00",
          "day": 1,
          "month": 11,
          "origin": "initial",
          "year": 2018
         },
         {
          "counts": 1,
          "data_type": "Organization",
          "date": "2019-01-01T00:00:00-05:00",
          "day": 1,
          "month": 1,
          "origin": "initial",
          "year": 2019
         },
         {
          "counts": 2,
          "data_type": "Organization",
          "date": "2019-02-01T00:00:00-05:00",
          "day": 1,
          "month": 2,
          "origin": "initial",
          "year": 2019
         },
         {
          "counts": 4,
          "data_type": "Organization",
          "date": "2019-03-01T00:00:00-05:00",
          "day": 1,
          "month": 3,
          "origin": "initial",
          "year": 2019
         },
         {
          "counts": 1,
          "data_type": "Organization",
          "date": "2019-04-01T00:00:00-04:00",
          "day": 1,
          "month": 4,
          "origin": "initial",
          "year": 2019
         },
         {
          "counts": 3,
          "data_type": "Organization",
          "date": "2019-05-01T00:00:00-04:00",
          "day": 1,
          "month": 5,
          "origin": "initial",
          "year": 2019
         },
         {
          "counts": 1,
          "data_type": "Organization",
          "date": "2019-06-01T00:00:00-04:00",
          "day": 1,
          "month": 6,
          "origin": "initial",
          "year": 2019
         },
         {
          "counts": 2,
          "data_type": "Organization",
          "date": "2019-07-01T00:00:00-04:00",
          "day": 1,
          "month": 7,
          "origin": "initial",
          "year": 2019
         },
         {
          "counts": 4,
          "data_type": "Organization",
          "date": "2019-09-01T00:00:00-04:00",
          "day": 1,
          "month": 9,
          "origin": "initial",
          "year": 2019
         },
         {
          "counts": 1,
          "data_type": "Organization",
          "date": "2019-10-01T00:00:00-04:00",
          "day": 1,
          "month": 10,
          "origin": "initial",
          "year": 2019
         },
         {
          "counts": 2,
          "data_type": "Organization",
          "date": "2019-11-01T00:00:00-04:00",
          "day": 1,
          "month": 11,
          "origin": "initial",
          "year": 2019
         },
         {
          "counts": 3,
          "data_type": "Organization",
          "date": "2020-02-01T00:00:00-05:00",
          "day": 1,
          "month": 2,
          "origin": "initial",
          "year": 2020
         },
         {
          "counts": 3,
          "data_type": "Organization",
          "date": "2020-03-01T00:00:00-05:00",
          "day": 1,
          "month": 3,
          "origin": "initial",
          "year": 2020
         },
         {
          "counts": 2,
          "data_type": "Organization",
          "date": "2020-04-01T00:00:00-04:00",
          "day": 1,
          "month": 4,
          "origin": "initial",
          "year": 2020
         },
         {
          "counts": 3,
          "data_type": "Organization",
          "date": "2020-05-01T00:00:00-04:00",
          "day": 1,
          "month": 5,
          "origin": "initial",
          "year": 2020
         },
         {
          "counts": 1,
          "data_type": "Organization",
          "date": "2020-06-01T00:00:00-04:00",
          "day": 1,
          "month": 6,
          "origin": "initial",
          "year": 2020
         },
         {
          "counts": 2,
          "data_type": "Organization",
          "date": "2020-07-01T00:00:00-04:00",
          "day": 1,
          "month": 7,
          "origin": "initial",
          "year": 2020
         },
         {
          "counts": 3,
          "data_type": "Organization",
          "date": "2020-08-01T00:00:00-04:00",
          "day": 1,
          "month": 8,
          "origin": "initial",
          "year": 2020
         },
         {
          "counts": 3,
          "data_type": "Organization",
          "date": "2020-09-01T00:00:00-04:00",
          "day": 1,
          "month": 9,
          "origin": "initial",
          "year": 2020
         },
         {
          "counts": 3,
          "data_type": "Organization",
          "date": "2020-10-01T00:00:00-04:00",
          "day": 1,
          "month": 10,
          "origin": "initial",
          "year": 2020
         },
         {
          "counts": 1,
          "data_type": "Organization",
          "date": "2020-11-01T00:00:00-04:00",
          "day": 1,
          "month": 11,
          "origin": "initial",
          "year": 2020
         },
         {
          "counts": 1,
          "data_type": "Organization",
          "date": "2021-02-01T00:00:00-05:00",
          "day": 1,
          "month": 2,
          "origin": "initial",
          "year": 2021
         },
         {
          "counts": 5,
          "data_type": "Organization",
          "date": "2021-03-01T00:00:00-05:00",
          "day": 1,
          "month": 3,
          "origin": "initial",
          "year": 2021
         },
         {
          "counts": 2,
          "data_type": "Organization",
          "date": "2021-04-01T00:00:00-04:00",
          "day": 1,
          "month": 4,
          "origin": "initial",
          "year": 2021
         },
         {
          "counts": 1,
          "data_type": "Organization",
          "date": "2021-06-01T00:00:00-04:00",
          "day": 1,
          "month": 6,
          "origin": "initial",
          "year": 2021
         },
         {
          "counts": 2,
          "data_type": "Organization",
          "date": "2021-07-01T00:00:00-04:00",
          "day": 1,
          "month": 7,
          "origin": "initial",
          "year": 2021
         },
         {
          "counts": 2,
          "data_type": "Organization",
          "date": "2021-08-01T00:00:00-04:00",
          "day": 1,
          "month": 8,
          "origin": "initial",
          "year": 2021
         },
         {
          "counts": 1,
          "data_type": "Organization",
          "date": "2021-09-01T00:00:00-04:00",
          "day": 1,
          "month": 9,
          "origin": "initial",
          "year": 2021
         },
         {
          "counts": 1,
          "data_type": "Organization",
          "date": "2021-10-01T00:00:00-04:00",
          "day": 1,
          "month": 10,
          "origin": "initial",
          "year": 2021
         },
         {
          "counts": 3,
          "data_type": "Organization",
          "date": "2021-12-01T00:00:00-05:00",
          "day": 1,
          "month": 12,
          "origin": "initial",
          "year": 2021
         },
         {
          "counts": 3,
          "data_type": "Organization",
          "date": "2022-01-01T00:00:00-05:00",
          "day": 1,
          "month": 1,
          "origin": "initial",
          "year": 2022
         },
         {
          "counts": 1,
          "data_type": "Organization",
          "date": "2022-02-01T00:00:00-05:00",
          "day": 1,
          "month": 2,
          "origin": "initial",
          "year": 2022
         },
         {
          "counts": 2,
          "data_type": "Organization",
          "date": "2022-03-01T00:00:00-05:00",
          "day": 1,
          "month": 3,
          "origin": "initial",
          "year": 2022
         },
         {
          "counts": 4,
          "data_type": "Organization",
          "date": "2022-04-01T00:00:00-04:00",
          "day": 1,
          "month": 4,
          "origin": "initial",
          "year": 2022
         },
         {
          "counts": 3,
          "data_type": "Organization",
          "date": "2022-05-01T00:00:00-04:00",
          "day": 1,
          "month": 5,
          "origin": "initial",
          "year": 2022
         },
         {
          "counts": 1,
          "data_type": "Organization",
          "date": "2022-07-01T00:00:00-04:00",
          "day": 1,
          "month": 7,
          "origin": "initial",
          "year": 2022
         },
         {
          "counts": 2,
          "data_type": "Organization",
          "date": "2022-08-01T00:00:00-04:00",
          "day": 1,
          "month": 8,
          "origin": "initial",
          "year": 2022
         },
         {
          "counts": 3,
          "data_type": "Organization",
          "date": "2022-09-01T00:00:00-04:00",
          "day": 1,
          "month": 9,
          "origin": "initial",
          "year": 2022
         },
         {
          "counts": 1,
          "data_type": "Organization",
          "date": "2022-10-01T00:00:00-04:00",
          "day": 1,
          "month": 10,
          "origin": "initial",
          "year": 2022
         },
         {
          "counts": 1,
          "data_type": "Organization",
          "date": "2022-11-01T00:00:00-04:00",
          "day": 1,
          "month": 11,
          "origin": "initial",
          "year": 2022
         },
         {
          "counts": 2,
          "data_type": "Organization",
          "date": "2022-12-01T00:00:00-05:00",
          "day": 1,
          "month": 12,
          "origin": "initial",
          "year": 2022
         },
         {
          "counts": 1,
          "data_type": "Organization",
          "date": "2023-01-01T00:00:00-05:00",
          "day": 1,
          "month": 1,
          "origin": "initial",
          "year": 2023
         },
         {
          "counts": 1,
          "data_type": "Organization",
          "date": "2023-02-01T00:00:00-05:00",
          "day": 1,
          "month": 2,
          "origin": "initial",
          "year": 2023
         }
        ]
       },
       "resolve": {
        "scale": {
         "x": "independent",
         "y": "independent"
        }
       },
       "title": "Number of Users, Organizations, and Repositories identified as DH, Created Over Time via All Three Methods, by Data Type",
       "vconcat": [
        {
         "data": {
          "name": "data-d12fc8b29d949d64680c156c79699b6d"
         },
         "encoding": {
          "color": {
           "field": "origin",
           "type": "nominal"
          },
          "column": {
           "field": "data_type",
           "type": "nominal"
          },
          "x": {
           "axis": {
            "format": "%Y"
           },
           "field": "date",
           "title": "Date Created",
           "type": "temporal"
          },
          "y": {
           "field": "counts",
           "scale": {
            "zero": false
           },
           "type": "quantitative"
          }
         },
         "mark": {
          "interpolate": "basis",
          "type": "line"
         },
         "width": 600
        },
        {
         "data": {
          "name": "data-0340d5ba0dbaa7f63e6224af4fd3fccc"
         },
         "encoding": {
          "color": {
           "field": "origin",
           "type": "nominal"
          },
          "column": {
           "field": "data_type",
           "type": "nominal"
          },
          "x": {
           "axis": {
            "format": "%Y"
           },
           "field": "date",
           "title": "Date Created",
           "type": "temporal"
          },
          "y": {
           "field": "counts",
           "scale": {
            "zero": false
           },
           "type": "quantitative"
          }
         },
         "mark": {
          "interpolate": "basis",
          "type": "line"
         },
         "width": 600
        },
        {
         "data": {
          "name": "data-4c69d8454b9e0d55f9eb32ae48471a5c"
         },
         "encoding": {
          "color": {
           "field": "origin",
           "type": "nominal"
          },
          "column": {
           "field": "data_type",
           "type": "nominal"
          },
          "x": {
           "axis": {
            "format": "%Y"
           },
           "field": "date",
           "title": "Date Created",
           "type": "temporal"
          },
          "y": {
           "field": "counts",
           "scale": {
            "zero": false
           },
           "type": "quantitative"
          }
         },
         "mark": {
          "interpolate": "basis",
          "type": "line"
         },
         "width": 600
        }
       ]
      },
      "text/plain": [
       "<VegaLite 5 object>\n",
       "\n",
       "If you see this message, it means the renderer has not been properly enabled\n",
       "for the frontend that you are using. For more information, see\n",
       "https://altair-viz.github.io/user_guide/display_frontends.html#troubleshooting\n"
      ]
     },
     "execution_count": 29,
     "metadata": {},
     "output_type": "execute_result"
    }
   ],
   "source": [
    "alt.vconcat(*charts).resolve_scale(y='independent', x='independent').properties(title=\"Number of Users, Organizations, and Repositories identified as DH, Created Over Time via All Three Methods, by Data Type\")"
   ]
  },
  {
   "cell_type": "code",
   "execution_count": 30,
   "metadata": {},
   "outputs": [],
   "source": [
    "# save_chart(chart, '../outputs/number_of_users_orgs_repos_created_over_time.png', scale_factor=2)"
   ]
  }
 ],
 "metadata": {
  "kernelspec": {
   "display_name": "values_and_versions_env",
   "language": "python",
   "name": "python3"
  },
  "language_info": {
   "codemirror_mode": {
    "name": "ipython",
    "version": 3
   },
   "file_extension": ".py",
   "mimetype": "text/x-python",
   "name": "python",
   "nbconvert_exporter": "python",
   "pygments_lexer": "ipython3",
   "version": "3.11.4"
  },
  "orig_nbformat": 4
 },
 "nbformat": 4,
 "nbformat_minor": 2
}
