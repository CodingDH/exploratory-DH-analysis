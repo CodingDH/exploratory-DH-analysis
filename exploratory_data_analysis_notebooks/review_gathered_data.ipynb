{
 "cells": [
  {
   "cell_type": "code",
   "execution_count": 2,
   "metadata": {},
   "outputs": [
    {
     "ename": "ModuleNotFoundError",
     "evalue": "No module named 'altair'",
     "output_type": "error",
     "traceback": [
      "\u001b[0;31m---------------------------------------------------------------------------\u001b[0m",
      "\u001b[0;31mModuleNotFoundError\u001b[0m                       Traceback (most recent call last)",
      "Cell \u001b[0;32mIn [2], line 1\u001b[0m\n\u001b[0;32m----> 1\u001b[0m \u001b[39mimport\u001b[39;00m \u001b[39maltair\u001b[39;00m \u001b[39mas\u001b[39;00m \u001b[39malt\u001b[39;00m    \n\u001b[1;32m      2\u001b[0m \u001b[39mimport\u001b[39;00m \u001b[39mos\u001b[39;00m\n\u001b[1;32m      3\u001b[0m \u001b[39mimport\u001b[39;00m \u001b[39mpandas\u001b[39;00m \u001b[39mas\u001b[39;00m \u001b[39mpd\u001b[39;00m\n",
      "\u001b[0;31mModuleNotFoundError\u001b[0m: No module named 'altair'"
     ]
    }
   ],
   "source": [
    "import altair as alt    \n",
    "import os\n",
    "import pandas as pd\n",
    "\n",
    "alt.renderers.enable('default')\n",
    "alt.data_transformers.enable('json')\n",
    "pd.set_option('display.max_columns', None)\n",
    "pd.set_option('display.max_rows', None)\n",
    "\n",
    "\n",
    "data_dir = \"../data/entity_files\"\n",
    "data_file = \"users_dataset.csv\""
   ]
  },
  {
   "cell_type": "code",
   "execution_count": 62,
   "metadata": {},
   "outputs": [],
   "source": [
    "data_df = pd.read_csv(os.path.join(data_dir, data_file), low_memory=False)"
   ]
  },
  {
   "cell_type": "code",
   "execution_count": 63,
   "metadata": {},
   "outputs": [
    {
     "data": {
      "text/html": [
       "<div>\n",
       "<style scoped>\n",
       "    .dataframe tbody tr th:only-of-type {\n",
       "        vertical-align: middle;\n",
       "    }\n",
       "\n",
       "    .dataframe tbody tr th {\n",
       "        vertical-align: top;\n",
       "    }\n",
       "\n",
       "    .dataframe thead th {\n",
       "        text-align: right;\n",
       "    }\n",
       "</style>\n",
       "<table border=\"1\" class=\"dataframe\">\n",
       "  <thead>\n",
       "    <tr style=\"text-align: right;\">\n",
       "      <th></th>\n",
       "      <th>login</th>\n",
       "      <th>id</th>\n",
       "      <th>node_id</th>\n",
       "      <th>avatar_url</th>\n",
       "      <th>url</th>\n",
       "      <th>html_url</th>\n",
       "      <th>followers_url</th>\n",
       "      <th>following_url</th>\n",
       "      <th>gists_url</th>\n",
       "      <th>starred_url</th>\n",
       "      <th>subscriptions_url</th>\n",
       "      <th>organizations_url</th>\n",
       "      <th>repos_url</th>\n",
       "      <th>events_url</th>\n",
       "      <th>received_events_url</th>\n",
       "      <th>type</th>\n",
       "      <th>site_admin</th>\n",
       "      <th>name</th>\n",
       "      <th>company</th>\n",
       "      <th>blog</th>\n",
       "      <th>location</th>\n",
       "      <th>email</th>\n",
       "      <th>hireable</th>\n",
       "      <th>bio</th>\n",
       "      <th>twitter_username</th>\n",
       "      <th>public_repos</th>\n",
       "      <th>public_gists</th>\n",
       "      <th>followers</th>\n",
       "      <th>following</th>\n",
       "      <th>created_at</th>\n",
       "      <th>updated_at</th>\n",
       "      <th>user_query_time</th>\n",
       "    </tr>\n",
       "  </thead>\n",
       "  <tbody>\n",
       "    <tr>\n",
       "      <th>0</th>\n",
       "      <td>wildmary</td>\n",
       "      <td>38806620</td>\n",
       "      <td>MDQ6VXNlcjM4ODA2NjIw</td>\n",
       "      <td>https://avatars.githubusercontent.com/u/388066...</td>\n",
       "      <td>https://api.github.com/users/wildmary</td>\n",
       "      <td>https://github.com/wildmary</td>\n",
       "      <td>https://api.github.com/users/wildmary/followers</td>\n",
       "      <td>https://api.github.com/users/wildmary/followin...</td>\n",
       "      <td>https://api.github.com/users/wildmary/gists{/g...</td>\n",
       "      <td>https://api.github.com/users/wildmary/starred{...</td>\n",
       "      <td>https://api.github.com/users/wildmary/subscrip...</td>\n",
       "      <td>https://api.github.com/users/wildmary/orgs</td>\n",
       "      <td>https://api.github.com/users/wildmary/repos</td>\n",
       "      <td>https://api.github.com/users/wildmary/events{/...</td>\n",
       "      <td>https://api.github.com/users/wildmary/received...</td>\n",
       "      <td>User</td>\n",
       "      <td>False</td>\n",
       "      <td>Mary Levchenko</td>\n",
       "      <td>NaN</td>\n",
       "      <td>NaN</td>\n",
       "      <td>NaN</td>\n",
       "      <td>NaN</td>\n",
       "      <td>NaN</td>\n",
       "      <td>NaN</td>\n",
       "      <td>NaN</td>\n",
       "      <td>18.0</td>\n",
       "      <td>0.0</td>\n",
       "      <td>1.0</td>\n",
       "      <td>1.0</td>\n",
       "      <td>2018-04-28T07:57:50Z</td>\n",
       "      <td>2022-05-25T16:06:20Z</td>\n",
       "      <td>2022-11-19</td>\n",
       "    </tr>\n",
       "    <tr>\n",
       "      <th>1</th>\n",
       "      <td>jhroy</td>\n",
       "      <td>1175329</td>\n",
       "      <td>MDQ6VXNlcjExNzUzMjk=</td>\n",
       "      <td>https://avatars.githubusercontent.com/u/117532...</td>\n",
       "      <td>https://api.github.com/users/jhroy</td>\n",
       "      <td>https://github.com/jhroy</td>\n",
       "      <td>https://api.github.com/users/jhroy/followers</td>\n",
       "      <td>https://api.github.com/users/jhroy/following{/...</td>\n",
       "      <td>https://api.github.com/users/jhroy/gists{/gist...</td>\n",
       "      <td>https://api.github.com/users/jhroy/starred{/ow...</td>\n",
       "      <td>https://api.github.com/users/jhroy/subscriptions</td>\n",
       "      <td>https://api.github.com/users/jhroy/orgs</td>\n",
       "      <td>https://api.github.com/users/jhroy/repos</td>\n",
       "      <td>https://api.github.com/users/jhroy/events{/pri...</td>\n",
       "      <td>https://api.github.com/users/jhroy/received_ev...</td>\n",
       "      <td>User</td>\n",
       "      <td>False</td>\n",
       "      <td>Jean-Hugues Roy</td>\n",
       "      <td>UQAM</td>\n",
       "      <td>http://jhroy.ca</td>\n",
       "      <td>Montreal</td>\n",
       "      <td>jh@jhroy.ca</td>\n",
       "      <td>1.0</td>\n",
       "      <td>Prof, journalisme, UQAM // Computational journ...</td>\n",
       "      <td>NaN</td>\n",
       "      <td>60.0</td>\n",
       "      <td>19.0</td>\n",
       "      <td>113.0</td>\n",
       "      <td>258.0</td>\n",
       "      <td>2011-11-06T03:09:52Z</td>\n",
       "      <td>2022-10-10T11:10:35Z</td>\n",
       "      <td>2022-11-19</td>\n",
       "    </tr>\n",
       "  </tbody>\n",
       "</table>\n",
       "</div>"
      ],
      "text/plain": [
       "      login        id               node_id  \\\n",
       "0  wildmary  38806620  MDQ6VXNlcjM4ODA2NjIw   \n",
       "1     jhroy   1175329  MDQ6VXNlcjExNzUzMjk=   \n",
       "\n",
       "                                          avatar_url  \\\n",
       "0  https://avatars.githubusercontent.com/u/388066...   \n",
       "1  https://avatars.githubusercontent.com/u/117532...   \n",
       "\n",
       "                                     url                     html_url  \\\n",
       "0  https://api.github.com/users/wildmary  https://github.com/wildmary   \n",
       "1     https://api.github.com/users/jhroy     https://github.com/jhroy   \n",
       "\n",
       "                                     followers_url  \\\n",
       "0  https://api.github.com/users/wildmary/followers   \n",
       "1     https://api.github.com/users/jhroy/followers   \n",
       "\n",
       "                                       following_url  \\\n",
       "0  https://api.github.com/users/wildmary/followin...   \n",
       "1  https://api.github.com/users/jhroy/following{/...   \n",
       "\n",
       "                                           gists_url  \\\n",
       "0  https://api.github.com/users/wildmary/gists{/g...   \n",
       "1  https://api.github.com/users/jhroy/gists{/gist...   \n",
       "\n",
       "                                         starred_url  \\\n",
       "0  https://api.github.com/users/wildmary/starred{...   \n",
       "1  https://api.github.com/users/jhroy/starred{/ow...   \n",
       "\n",
       "                                   subscriptions_url  \\\n",
       "0  https://api.github.com/users/wildmary/subscrip...   \n",
       "1   https://api.github.com/users/jhroy/subscriptions   \n",
       "\n",
       "                            organizations_url  \\\n",
       "0  https://api.github.com/users/wildmary/orgs   \n",
       "1     https://api.github.com/users/jhroy/orgs   \n",
       "\n",
       "                                     repos_url  \\\n",
       "0  https://api.github.com/users/wildmary/repos   \n",
       "1     https://api.github.com/users/jhroy/repos   \n",
       "\n",
       "                                          events_url  \\\n",
       "0  https://api.github.com/users/wildmary/events{/...   \n",
       "1  https://api.github.com/users/jhroy/events{/pri...   \n",
       "\n",
       "                                 received_events_url  type  site_admin  \\\n",
       "0  https://api.github.com/users/wildmary/received...  User       False   \n",
       "1  https://api.github.com/users/jhroy/received_ev...  User       False   \n",
       "\n",
       "              name company             blog  location        email  hireable  \\\n",
       "0   Mary Levchenko     NaN              NaN       NaN          NaN       NaN   \n",
       "1  Jean-Hugues Roy    UQAM  http://jhroy.ca  Montreal  jh@jhroy.ca       1.0   \n",
       "\n",
       "                                                 bio twitter_username  \\\n",
       "0                                                NaN              NaN   \n",
       "1  Prof, journalisme, UQAM // Computational journ...              NaN   \n",
       "\n",
       "   public_repos  public_gists  followers  following            created_at  \\\n",
       "0          18.0           0.0        1.0        1.0  2018-04-28T07:57:50Z   \n",
       "1          60.0          19.0      113.0      258.0  2011-11-06T03:09:52Z   \n",
       "\n",
       "             updated_at user_query_time  \n",
       "0  2022-05-25T16:06:20Z      2022-11-19  \n",
       "1  2022-10-10T11:10:35Z      2022-11-19  "
      ]
     },
     "execution_count": 63,
     "metadata": {},
     "output_type": "execute_result"
    }
   ],
   "source": [
    "data_df.head(2)"
   ]
  },
  {
   "cell_type": "code",
   "execution_count": 64,
   "metadata": {},
   "outputs": [
    {
     "data": {
      "text/plain": [
       "(8279, 32)"
      ]
     },
     "execution_count": 64,
     "metadata": {},
     "output_type": "execute_result"
    }
   ],
   "source": [
    "data_df.shape"
   ]
  },
  {
   "cell_type": "code",
   "execution_count": 65,
   "metadata": {},
   "outputs": [
    {
     "data": {
      "text/plain": [
       "login                   object\n",
       "id                       int64\n",
       "node_id                 object\n",
       "avatar_url              object\n",
       "url                     object\n",
       "html_url                object\n",
       "followers_url           object\n",
       "following_url           object\n",
       "gists_url               object\n",
       "starred_url             object\n",
       "subscriptions_url       object\n",
       "organizations_url       object\n",
       "repos_url               object\n",
       "events_url              object\n",
       "received_events_url     object\n",
       "type                    object\n",
       "site_admin                bool\n",
       "name                    object\n",
       "company                 object\n",
       "blog                    object\n",
       "location                object\n",
       "email                   object\n",
       "hireable               float64\n",
       "bio                     object\n",
       "twitter_username        object\n",
       "public_repos           float64\n",
       "public_gists           float64\n",
       "followers              float64\n",
       "following              float64\n",
       "created_at              object\n",
       "updated_at              object\n",
       "user_query_time         object\n",
       "dtype: object"
      ]
     },
     "execution_count": 65,
     "metadata": {},
     "output_type": "execute_result"
    }
   ],
   "source": [
    "data_df.dtypes"
   ]
  },
  {
   "cell_type": "code",
   "execution_count": 66,
   "metadata": {},
   "outputs": [],
   "source": [
    "columns_to_describe = ['public_repos',\n",
    "                       'public_gists',\n",
    "                       'followers',   \n",
    "                       'following'\n",
    "                       ]                       \n",
    "                    "
   ]
  },
  {
   "cell_type": "code",
   "execution_count": 67,
   "metadata": {},
   "outputs": [
    {
     "data": {
      "text/html": [
       "<div>\n",
       "<style scoped>\n",
       "    .dataframe tbody tr th:only-of-type {\n",
       "        vertical-align: middle;\n",
       "    }\n",
       "\n",
       "    .dataframe tbody tr th {\n",
       "        vertical-align: top;\n",
       "    }\n",
       "\n",
       "    .dataframe thead th {\n",
       "        text-align: right;\n",
       "    }\n",
       "</style>\n",
       "<table border=\"1\" class=\"dataframe\">\n",
       "  <thead>\n",
       "    <tr style=\"text-align: right;\">\n",
       "      <th></th>\n",
       "      <th>public_repos</th>\n",
       "      <th>public_gists</th>\n",
       "      <th>followers</th>\n",
       "      <th>following</th>\n",
       "    </tr>\n",
       "  </thead>\n",
       "  <tbody>\n",
       "    <tr>\n",
       "      <th>count</th>\n",
       "      <td>8279.000000</td>\n",
       "      <td>8279.000000</td>\n",
       "      <td>8279.000000</td>\n",
       "      <td>8279.000000</td>\n",
       "    </tr>\n",
       "    <tr>\n",
       "      <th>mean</th>\n",
       "      <td>67.353787</td>\n",
       "      <td>7.414543</td>\n",
       "      <td>42.544269</td>\n",
       "      <td>52.799976</td>\n",
       "    </tr>\n",
       "    <tr>\n",
       "      <th>std</th>\n",
       "      <td>744.872711</td>\n",
       "      <td>55.171420</td>\n",
       "      <td>338.811935</td>\n",
       "      <td>580.135378</td>\n",
       "    </tr>\n",
       "    <tr>\n",
       "      <th>min</th>\n",
       "      <td>0.000000</td>\n",
       "      <td>0.000000</td>\n",
       "      <td>0.000000</td>\n",
       "      <td>0.000000</td>\n",
       "    </tr>\n",
       "    <tr>\n",
       "      <th>25%</th>\n",
       "      <td>3.000000</td>\n",
       "      <td>0.000000</td>\n",
       "      <td>0.000000</td>\n",
       "      <td>0.000000</td>\n",
       "    </tr>\n",
       "    <tr>\n",
       "      <th>50%</th>\n",
       "      <td>10.000000</td>\n",
       "      <td>0.000000</td>\n",
       "      <td>3.000000</td>\n",
       "      <td>2.000000</td>\n",
       "    </tr>\n",
       "    <tr>\n",
       "      <th>75%</th>\n",
       "      <td>33.000000</td>\n",
       "      <td>2.000000</td>\n",
       "      <td>18.000000</td>\n",
       "      <td>16.000000</td>\n",
       "    </tr>\n",
       "    <tr>\n",
       "      <th>max</th>\n",
       "      <td>38171.000000</td>\n",
       "      <td>3890.000000</td>\n",
       "      <td>18164.000000</td>\n",
       "      <td>23342.000000</td>\n",
       "    </tr>\n",
       "  </tbody>\n",
       "</table>\n",
       "</div>"
      ],
      "text/plain": [
       "       public_repos  public_gists     followers     following\n",
       "count   8279.000000   8279.000000   8279.000000   8279.000000\n",
       "mean      67.353787      7.414543     42.544269     52.799976\n",
       "std      744.872711     55.171420    338.811935    580.135378\n",
       "min        0.000000      0.000000      0.000000      0.000000\n",
       "25%        3.000000      0.000000      0.000000      0.000000\n",
       "50%       10.000000      0.000000      3.000000      2.000000\n",
       "75%       33.000000      2.000000     18.000000     16.000000\n",
       "max    38171.000000   3890.000000  18164.000000  23342.000000"
      ]
     },
     "execution_count": 67,
     "metadata": {},
     "output_type": "execute_result"
    }
   ],
   "source": [
    "data_df[columns_to_describe].describe()"
   ]
  },
  {
   "cell_type": "markdown",
   "metadata": {},
   "source": [
    "Identifying the outliers"
   ]
  },
  {
   "cell_type": "code",
   "execution_count": 68,
   "metadata": {},
   "outputs": [
    {
     "name": "stdout",
     "output_type": "stream",
     "text": [
      "The max value for public_repos was 38171.0. \n",
      "login    gitter-badger\n",
      "Name: 172, dtype: object\n",
      "\n",
      "The max value for public_gists was 3890.0. \n",
      "login    verdurin\n",
      "Name: 1418, dtype: object\n",
      "\n",
      "The max value for followers was 18164.0. \n",
      "login    shiffman\n",
      "Name: 3865, dtype: object\n",
      "\n",
      "The max value for following was 23342.0. \n",
      "login    fly51fly\n",
      "Name: 4543, dtype: object\n",
      "\n"
     ]
    }
   ],
   "source": [
    "for each in columns_to_describe:\n",
    "    max_value = data_df[each].max()\n",
    "    column = data_df.iloc[data_df[each].idxmax()]\n",
    "    print(f'The max value for {each} was {max_value}. \\n{column[[\"login\"]]}\\n')"
   ]
  },
  {
   "cell_type": "markdown",
   "metadata": {},
   "source": [
    "# Graphs"
   ]
  },
  {
   "cell_type": "code",
   "execution_count": 69,
   "metadata": {},
   "outputs": [
    {
     "data": {
      "text/html": [
       "\n",
       "<div id=\"altair-viz-7a85802c383f4ee892b3102c71bec736\"></div>\n",
       "<script type=\"text/javascript\">\n",
       "  (function(spec, embedOpt){\n",
       "    let outputDiv = document.currentScript.previousElementSibling;\n",
       "    if (outputDiv.id !== \"altair-viz-7a85802c383f4ee892b3102c71bec736\") {\n",
       "      outputDiv = document.getElementById(\"altair-viz-7a85802c383f4ee892b3102c71bec736\");\n",
       "    }\n",
       "    const paths = {\n",
       "      \"vega\": \"https://cdn.jsdelivr.net/npm//vega@5?noext\",\n",
       "      \"vega-lib\": \"https://cdn.jsdelivr.net/npm//vega-lib?noext\",\n",
       "      \"vega-lite\": \"https://cdn.jsdelivr.net/npm//vega-lite@4.8.1?noext\",\n",
       "      \"vega-embed\": \"https://cdn.jsdelivr.net/npm//vega-embed@6?noext\",\n",
       "    };\n",
       "\n",
       "    function loadScript(lib) {\n",
       "      return new Promise(function(resolve, reject) {\n",
       "        var s = document.createElement('script');\n",
       "        s.src = paths[lib];\n",
       "        s.async = true;\n",
       "        s.onload = () => resolve(paths[lib]);\n",
       "        s.onerror = () => reject(`Error loading script: ${paths[lib]}`);\n",
       "        document.getElementsByTagName(\"head\")[0].appendChild(s);\n",
       "      });\n",
       "    }\n",
       "\n",
       "    function showError(err) {\n",
       "      outputDiv.innerHTML = `<div class=\"error\" style=\"color:red;\">${err}</div>`;\n",
       "      throw err;\n",
       "    }\n",
       "\n",
       "    function displayChart(vegaEmbed) {\n",
       "      vegaEmbed(outputDiv, spec, embedOpt)\n",
       "        .catch(err => showError(`Javascript Error: ${err.message}<br>This usually means there's a typo in your chart specification. See the javascript console for the full traceback.`));\n",
       "    }\n",
       "\n",
       "    if(typeof define === \"function\" && define.amd) {\n",
       "      requirejs.config({paths});\n",
       "      require([\"vega-embed\"], displayChart, err => showError(`Error loading script: ${err.message}`));\n",
       "    } else if (typeof vegaEmbed === \"function\") {\n",
       "      displayChart(vegaEmbed);\n",
       "    } else {\n",
       "      loadScript(\"vega\")\n",
       "        .then(() => loadScript(\"vega-lite\"))\n",
       "        .then(() => loadScript(\"vega-embed\"))\n",
       "        .catch(showError)\n",
       "        .then(() => displayChart(vegaEmbed));\n",
       "    }\n",
       "  })({\"config\": {\"view\": {\"continuousWidth\": 400, \"continuousHeight\": 300}}, \"data\": {\"url\": \"altair-data-3f47f26b145424d6123a2072099b65e7.json\", \"format\": {\"type\": \"json\"}}, \"mark\": \"bar\", \"encoding\": {\"x\": {\"type\": \"quantitative\", \"bin\": true, \"field\": \"public_repos\"}, \"y\": {\"type\": \"quantitative\", \"aggregate\": \"count\"}}, \"$schema\": \"https://vega.github.io/schema/vega-lite/v4.8.1.json\"}, {\"mode\": \"vega-lite\"});\n",
       "</script>"
      ],
      "text/plain": [
       "alt.Chart(...)"
      ]
     },
     "execution_count": 69,
     "metadata": {},
     "output_type": "execute_result"
    }
   ],
   "source": [
    "# Distribution of number of repos\n",
    "\n",
    "chart = alt.Chart(data_df[['login', 'public_repos']]).mark_bar().encode(\n",
    "    alt.X(\"public_repos\", bin=True),\n",
    "    y='count()',\n",
    ")\n",
    "\n",
    "chart"
   ]
  },
  {
   "cell_type": "markdown",
   "metadata": {},
   "source": [
    "# Split the data"
   ]
  },
  {
   "cell_type": "code",
   "execution_count": 61,
   "metadata": {},
   "outputs": [],
   "source": [
    "max_data_df = data_df[data_df['public_repos'] >= 1000]\n",
    "min_data_df = data_df[data_df['public_repos'] < 1000]   "
   ]
  },
  {
   "cell_type": "code",
   "execution_count": 70,
   "metadata": {},
   "outputs": [
    {
     "data": {
      "text/html": [
       "\n",
       "<div id=\"altair-viz-4b3e7081e2434bfab843a0d7611778fc\"></div>\n",
       "<script type=\"text/javascript\">\n",
       "  (function(spec, embedOpt){\n",
       "    let outputDiv = document.currentScript.previousElementSibling;\n",
       "    if (outputDiv.id !== \"altair-viz-4b3e7081e2434bfab843a0d7611778fc\") {\n",
       "      outputDiv = document.getElementById(\"altair-viz-4b3e7081e2434bfab843a0d7611778fc\");\n",
       "    }\n",
       "    const paths = {\n",
       "      \"vega\": \"https://cdn.jsdelivr.net/npm//vega@5?noext\",\n",
       "      \"vega-lib\": \"https://cdn.jsdelivr.net/npm//vega-lib?noext\",\n",
       "      \"vega-lite\": \"https://cdn.jsdelivr.net/npm//vega-lite@4.8.1?noext\",\n",
       "      \"vega-embed\": \"https://cdn.jsdelivr.net/npm//vega-embed@6?noext\",\n",
       "    };\n",
       "\n",
       "    function loadScript(lib) {\n",
       "      return new Promise(function(resolve, reject) {\n",
       "        var s = document.createElement('script');\n",
       "        s.src = paths[lib];\n",
       "        s.async = true;\n",
       "        s.onload = () => resolve(paths[lib]);\n",
       "        s.onerror = () => reject(`Error loading script: ${paths[lib]}`);\n",
       "        document.getElementsByTagName(\"head\")[0].appendChild(s);\n",
       "      });\n",
       "    }\n",
       "\n",
       "    function showError(err) {\n",
       "      outputDiv.innerHTML = `<div class=\"error\" style=\"color:red;\">${err}</div>`;\n",
       "      throw err;\n",
       "    }\n",
       "\n",
       "    function displayChart(vegaEmbed) {\n",
       "      vegaEmbed(outputDiv, spec, embedOpt)\n",
       "        .catch(err => showError(`Javascript Error: ${err.message}<br>This usually means there's a typo in your chart specification. See the javascript console for the full traceback.`));\n",
       "    }\n",
       "\n",
       "    if(typeof define === \"function\" && define.amd) {\n",
       "      requirejs.config({paths});\n",
       "      require([\"vega-embed\"], displayChart, err => showError(`Error loading script: ${err.message}`));\n",
       "    } else if (typeof vegaEmbed === \"function\") {\n",
       "      displayChart(vegaEmbed);\n",
       "    } else {\n",
       "      loadScript(\"vega\")\n",
       "        .then(() => loadScript(\"vega-lite\"))\n",
       "        .then(() => loadScript(\"vega-embed\"))\n",
       "        .catch(showError)\n",
       "        .then(() => displayChart(vegaEmbed));\n",
       "    }\n",
       "  })({\"config\": {\"view\": {\"continuousWidth\": 400, \"continuousHeight\": 300}}, \"data\": {\"url\": \"altair-data-2de1574c932551f4976859a939350c54.json\", \"format\": {\"type\": \"json\"}}, \"mark\": \"bar\", \"encoding\": {\"x\": {\"type\": \"quantitative\", \"bin\": true, \"field\": \"public_repos\"}, \"y\": {\"type\": \"quantitative\", \"aggregate\": \"count\"}}, \"$schema\": \"https://vega.github.io/schema/vega-lite/v4.8.1.json\"}, {\"mode\": \"vega-lite\"});\n",
       "</script>"
      ],
      "text/plain": [
       "alt.Chart(...)"
      ]
     },
     "execution_count": 70,
     "metadata": {},
     "output_type": "execute_result"
    }
   ],
   "source": [
    "\n",
    "chart = alt.Chart(max_data_df[['login', 'public_repos']]).mark_bar().encode(\n",
    "    alt.X(\"public_repos\", bin=True),\n",
    "    y='count()',\n",
    ")\n",
    "\n",
    "chart"
   ]
  },
  {
   "cell_type": "code",
   "execution_count": 71,
   "metadata": {},
   "outputs": [
    {
     "data": {
      "text/html": [
       "\n",
       "<div id=\"altair-viz-9c9f3a753bc94be3a2b5506a162ba69a\"></div>\n",
       "<script type=\"text/javascript\">\n",
       "  (function(spec, embedOpt){\n",
       "    let outputDiv = document.currentScript.previousElementSibling;\n",
       "    if (outputDiv.id !== \"altair-viz-9c9f3a753bc94be3a2b5506a162ba69a\") {\n",
       "      outputDiv = document.getElementById(\"altair-viz-9c9f3a753bc94be3a2b5506a162ba69a\");\n",
       "    }\n",
       "    const paths = {\n",
       "      \"vega\": \"https://cdn.jsdelivr.net/npm//vega@5?noext\",\n",
       "      \"vega-lib\": \"https://cdn.jsdelivr.net/npm//vega-lib?noext\",\n",
       "      \"vega-lite\": \"https://cdn.jsdelivr.net/npm//vega-lite@4.8.1?noext\",\n",
       "      \"vega-embed\": \"https://cdn.jsdelivr.net/npm//vega-embed@6?noext\",\n",
       "    };\n",
       "\n",
       "    function loadScript(lib) {\n",
       "      return new Promise(function(resolve, reject) {\n",
       "        var s = document.createElement('script');\n",
       "        s.src = paths[lib];\n",
       "        s.async = true;\n",
       "        s.onload = () => resolve(paths[lib]);\n",
       "        s.onerror = () => reject(`Error loading script: ${paths[lib]}`);\n",
       "        document.getElementsByTagName(\"head\")[0].appendChild(s);\n",
       "      });\n",
       "    }\n",
       "\n",
       "    function showError(err) {\n",
       "      outputDiv.innerHTML = `<div class=\"error\" style=\"color:red;\">${err}</div>`;\n",
       "      throw err;\n",
       "    }\n",
       "\n",
       "    function displayChart(vegaEmbed) {\n",
       "      vegaEmbed(outputDiv, spec, embedOpt)\n",
       "        .catch(err => showError(`Javascript Error: ${err.message}<br>This usually means there's a typo in your chart specification. See the javascript console for the full traceback.`));\n",
       "    }\n",
       "\n",
       "    if(typeof define === \"function\" && define.amd) {\n",
       "      requirejs.config({paths});\n",
       "      require([\"vega-embed\"], displayChart, err => showError(`Error loading script: ${err.message}`));\n",
       "    } else if (typeof vegaEmbed === \"function\") {\n",
       "      displayChart(vegaEmbed);\n",
       "    } else {\n",
       "      loadScript(\"vega\")\n",
       "        .then(() => loadScript(\"vega-lite\"))\n",
       "        .then(() => loadScript(\"vega-embed\"))\n",
       "        .catch(showError)\n",
       "        .then(() => displayChart(vegaEmbed));\n",
       "    }\n",
       "  })({\"config\": {\"view\": {\"continuousWidth\": 400, \"continuousHeight\": 300}}, \"data\": {\"url\": \"altair-data-9fed3562d3ebf868452b245edaf29bcb.json\", \"format\": {\"type\": \"json\"}}, \"mark\": \"bar\", \"encoding\": {\"x\": {\"type\": \"quantitative\", \"bin\": true, \"field\": \"public_repos\"}, \"y\": {\"type\": \"quantitative\", \"aggregate\": \"count\"}}, \"$schema\": \"https://vega.github.io/schema/vega-lite/v4.8.1.json\"}, {\"mode\": \"vega-lite\"});\n",
       "</script>"
      ],
      "text/plain": [
       "alt.Chart(...)"
      ]
     },
     "execution_count": 71,
     "metadata": {},
     "output_type": "execute_result"
    }
   ],
   "source": [
    "\n",
    "chart = alt.Chart(min_data_df[['login', 'public_repos']]).mark_bar().encode(\n",
    "    alt.X(\"public_repos\", bin=True),\n",
    "    y='count()',\n",
    ")\n",
    "\n",
    "chart"
   ]
  },
  {
   "cell_type": "code",
   "execution_count": 72,
   "metadata": {},
   "outputs": [
    {
     "name": "stdout",
     "output_type": "stream",
     "text": [
      "The max value for public_repos was 964.0. \n",
      "login    sam-ve\n",
      "Name: 7157, dtype: object\n",
      "\n",
      "The max value for public_gists was 3890.0. \n",
      "login    archive\n",
      "Name: 1423, dtype: object\n",
      "\n",
      "The max value for followers was 18164.0. \n",
      "login    chadian\n",
      "Name: 3876, dtype: object\n",
      "\n",
      "The max value for following was 23342.0. \n",
      "login    humboldtdigital\n",
      "Name: 4559, dtype: object\n",
      "\n"
     ]
    }
   ],
   "source": [
    "for each in columns_to_describe:\n",
    "    max_value = min_data_df[each].max()\n",
    "    column = min_data_df.iloc[min_data_df[each].idxmax()]\n",
    "    print(f'The max value for {each} was {max_value}. \\n{column[[\"login\"]]}\\n')"
   ]
  },
  {
   "cell_type": "code",
   "execution_count": 60,
   "metadata": {},
   "outputs": [
    {
     "data": {
      "text/html": [
       "\n",
       "<div id=\"altair-viz-8841d1eb7ddf40f4a204629262ac9337\"></div>\n",
       "<script type=\"text/javascript\">\n",
       "  (function(spec, embedOpt){\n",
       "    let outputDiv = document.currentScript.previousElementSibling;\n",
       "    if (outputDiv.id !== \"altair-viz-8841d1eb7ddf40f4a204629262ac9337\") {\n",
       "      outputDiv = document.getElementById(\"altair-viz-8841d1eb7ddf40f4a204629262ac9337\");\n",
       "    }\n",
       "    const paths = {\n",
       "      \"vega\": \"https://cdn.jsdelivr.net/npm//vega@5?noext\",\n",
       "      \"vega-lib\": \"https://cdn.jsdelivr.net/npm//vega-lib?noext\",\n",
       "      \"vega-lite\": \"https://cdn.jsdelivr.net/npm//vega-lite@4.8.1?noext\",\n",
       "      \"vega-embed\": \"https://cdn.jsdelivr.net/npm//vega-embed@6?noext\",\n",
       "    };\n",
       "\n",
       "    function loadScript(lib) {\n",
       "      return new Promise(function(resolve, reject) {\n",
       "        var s = document.createElement('script');\n",
       "        s.src = paths[lib];\n",
       "        s.async = true;\n",
       "        s.onload = () => resolve(paths[lib]);\n",
       "        s.onerror = () => reject(`Error loading script: ${paths[lib]}`);\n",
       "        document.getElementsByTagName(\"head\")[0].appendChild(s);\n",
       "      });\n",
       "    }\n",
       "\n",
       "    function showError(err) {\n",
       "      outputDiv.innerHTML = `<div class=\"error\" style=\"color:red;\">${err}</div>`;\n",
       "      throw err;\n",
       "    }\n",
       "\n",
       "    function displayChart(vegaEmbed) {\n",
       "      vegaEmbed(outputDiv, spec, embedOpt)\n",
       "        .catch(err => showError(`Javascript Error: ${err.message}<br>This usually means there's a typo in your chart specification. See the javascript console for the full traceback.`));\n",
       "    }\n",
       "\n",
       "    if(typeof define === \"function\" && define.amd) {\n",
       "      requirejs.config({paths});\n",
       "      require([\"vega-embed\"], displayChart, err => showError(`Error loading script: ${err.message}`));\n",
       "    } else if (typeof vegaEmbed === \"function\") {\n",
       "      displayChart(vegaEmbed);\n",
       "    } else {\n",
       "      loadScript(\"vega\")\n",
       "        .then(() => loadScript(\"vega-lite\"))\n",
       "        .then(() => loadScript(\"vega-embed\"))\n",
       "        .catch(showError)\n",
       "        .then(() => displayChart(vegaEmbed));\n",
       "    }\n",
       "  })({\"config\": {\"view\": {\"continuousWidth\": 400, \"continuousHeight\": 300}}, \"data\": {\"url\": \"altair-data-cfe0c6e77659fc015b0829b3e216973b.json\", \"format\": {\"type\": \"json\"}}, \"mark\": \"bar\", \"encoding\": {\"x\": {\"type\": \"quantitative\", \"bin\": true, \"field\": \"public_repos\"}, \"y\": {\"type\": \"quantitative\", \"aggregate\": \"count\"}}, \"$schema\": \"https://vega.github.io/schema/vega-lite/v4.8.1.json\"}, {\"mode\": \"vega-lite\"});\n",
       "</script>"
      ],
      "text/plain": [
       "alt.Chart(...)"
      ]
     },
     "execution_count": 60,
     "metadata": {},
     "output_type": "execute_result"
    }
   ],
   "source": [
    "# Distribution of number of repos\n",
    "\n",
    "chart = alt.Chart(data_df[['login', 'public_repos']]).mark_bar().encode(\n",
    "    alt.X(\"public_repos\", bin=True),\n",
    "    y='count()',\n",
    ")\n",
    "\n",
    "chart"
   ]
  },
  {
   "cell_type": "code",
   "execution_count": null,
   "metadata": {},
   "outputs": [],
   "source": []
  }
 ],
 "metadata": {
  "kernelspec": {
   "display_name": "Python 3.9.15 ('versions3')",
   "language": "python",
   "name": "python3"
  },
  "language_info": {
   "codemirror_mode": {
    "name": "ipython",
    "version": 3
   },
   "file_extension": ".py",
   "mimetype": "text/x-python",
   "name": "python",
   "nbconvert_exporter": "python",
   "pygments_lexer": "ipython3",
   "version": "3.9.15"
  },
  "orig_nbformat": 4,
  "vscode": {
   "interpreter": {
    "hash": "fa9278268a8772e97d20cfd6ab89f02916f7f0658d6b8ea91077acfbdf2ff2eb"
   }
  }
 },
 "nbformat": 4,
 "nbformat_minor": 2
}
