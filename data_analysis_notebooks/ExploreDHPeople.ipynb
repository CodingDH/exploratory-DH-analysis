{
 "cells": [
  {
   "cell_type": "markdown",
   "metadata": {},
   "source": [
    "This notebook takes the list of DH repositories generated through the \"Explore DH Repos\" notebook and shifts the attention to the people behind those repositories.\n",
    "\n",
    "The notebook uses the 'search_tagged_dh_repos_contributors.csv' file and generates the following:\n",
    "\n",
    "- expanded_contributor_data_repos.csv (in Google Drive)\n",
    "- expanded_contributor_data_organizations.csv\n",
    "- expanded_contributor_data_followers.csv\n",
    "- expanded_contributor_data_subscriptions.csv\n",
    "- exapnded_contributor_data_details.csv * to be done.\n"
   ]
  },
  {
   "cell_type": "code",
   "execution_count": null,
   "metadata": {},
   "outputs": [],
   "source": [
    "# Imports\n",
    "import pandas as pd\n",
    "pd.options.mode.chained_assignment = None\n",
    "import altair as alt\n",
    "alt.renderers.enable('mimetype')\n",
    "import os\n",
    "import sys\n",
    "\n",
    "sys.path.append(\"..\")\n",
    "from data_generation_scripts.utils import check_rate_limit\n",
    "from data_generation_scripts.generate_search_data import get_search_df\n",
    "from data_generation_scripts.generate_contributor_data import get_connected_repos\n"
   ]
  },
  {
   "cell_type": "code",
   "execution_count": null,
   "metadata": {},
   "outputs": [],
   "source": [
    "rates_df = check_rate_limit()\n",
    "repo_df = get_search_df()\n",
    "\n",
    "contributors_df = pd.read_csv('../data/search_tagged_dh_repos_contributors.csv')"
   ]
  },
  {
   "cell_type": "code",
   "execution_count": null,
   "metadata": {},
   "outputs": [],
   "source": [
    "contributors_df"
   ]
  },
  {
   "cell_type": "code",
   "execution_count": null,
   "metadata": {},
   "outputs": [],
   "source": [
    "# Expand the data \n",
    "# Note: repos_url takes 40 minutes to run\n",
    "# Rerun - forgot to add a check for additional pages.\n",
    "\n",
    "columns = ['repos_url', 'organizations_url', 'followers_url', 'subscriptions_url']\n",
    "\n",
    "data = {}\n",
    "for each in columns:\n",
    "    expanded_data = get_connected_repos(contributors_df, each, f\"../data/expanded_contributor_data_{each.split('_')[0]}.csv\")\n",
    "    data[each] = expanded_data"
   ]
  },
  {
   "cell_type": "code",
   "execution_count": null,
   "metadata": {},
   "outputs": [],
   "source": []
  }
 ],
 "metadata": {
  "kernelspec": {
   "display_name": "Python 3.9.11 ('versions')",
   "language": "python",
   "name": "python3"
  },
  "language_info": {
   "codemirror_mode": {
    "name": "ipython",
    "version": 3
   },
   "file_extension": ".py",
   "mimetype": "text/x-python",
   "name": "python",
   "nbconvert_exporter": "python",
   "pygments_lexer": "ipython3",
   "version": "3.9.11"
  },
  "orig_nbformat": 4,
  "vscode": {
   "interpreter": {
    "hash": "4d400eeeb5fb7aca50c8bc51076412527fd77d3d92bb1610994e4783786fc322"
   }
  }
 },
 "nbformat": 4,
 "nbformat_minor": 2
}
