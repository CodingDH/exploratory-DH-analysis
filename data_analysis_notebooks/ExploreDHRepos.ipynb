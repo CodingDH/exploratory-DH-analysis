{
 "cells": [
  {
   "cell_type": "markdown",
   "metadata": {},
   "source": [
    "# Exploring all Github repositories with topic \"digital-humanities\""
   ]
  },
  {
   "cell_type": "markdown",
   "metadata": {},
   "source": [
    "Top level exploration of repositories metadata:\n",
    "- Date of creation\n",
    "  - activity?\n",
    "  - frequency of commits\n",
    "- Number of contributors (tbd)\n",
    "  - number of contributions\n",
    "- Length of description\n",
    "- How many other topics on the repo\n",
    "- What language in the repo\n",
    "- How many forks\n",
    "- How many PRs and how many issues\n",
    "  - frequency of issues\n",
    "- Wikis?"
   ]
  },
  {
   "cell_type": "code",
   "execution_count": 1,
   "metadata": {},
   "outputs": [],
   "source": [
    "import pandas as pd\n",
    "pd.options.mode.chained_assignment = None\n",
    "import altair as alt\n",
    "alt.renderers.enable('mimetype')\n",
    "import os\n",
    "import sys\n",
    "\n",
    "sys.path.append(\"..\")\n",
    "from data_generation_scripts.utils import check_rate_limit\n",
    "from data_generation_scripts.generate_search_data import generate_dh_queries, get_search_df\n",
    "from data_generation_scripts.generate_language_data import get_repo_languages\n",
    "from data_generation_scripts.generate_commits_data import get_repos_commits\n",
    "from data_generation_scripts.generate_contributor_data import get_repo_contributors"
   ]
  },
  {
   "cell_type": "code",
   "execution_count": 2,
   "metadata": {},
   "outputs": [],
   "source": [
    "rates_df = check_rate_limit()"
   ]
  },
  {
   "cell_type": "code",
   "execution_count": 3,
   "metadata": {},
   "outputs": [],
   "source": [
    "# initial_output_path = '../data/repo_data/'\n",
    "# df = generate_dh_queries(initial_output_path, rates_df)\n"
   ]
  },
  {
   "cell_type": "code",
   "execution_count": 3,
   "metadata": {},
   "outputs": [],
   "source": [
    "repo_df = get_search_df()"
   ]
  },
  {
   "cell_type": "code",
   "execution_count": 4,
   "metadata": {},
   "outputs": [],
   "source": [
    "output_path = \"../data/combined_search_tagged_dh_repos_with_languages.csv\"\n",
    "repo_df = get_repo_languages(repo_df, output_path, rates_df)"
   ]
  },
  {
   "cell_type": "code",
   "execution_count": null,
   "metadata": {},
   "outputs": [],
   "source": [
    "# repo_df = get_dh_repos_data('../data/repos_topic_dh.csv', rates_df)"
   ]
  },
  {
   "cell_type": "code",
   "execution_count": 5,
   "metadata": {},
   "outputs": [
    {
     "name": "stderr",
     "output_type": "stream",
     "text": [
      "Getting Contributors:  10%|█         | 206/2051 [01:39<11:28,  2.68it/s]"
     ]
    },
    {
     "name": "stdout",
     "output_type": "stream",
     "text": [
      "Error on getting contributors for francescapoli98/bachelor-thesis-project\n"
     ]
    },
    {
     "name": "stderr",
     "output_type": "stream",
     "text": [
      "Getting Contributors:  12%|█▏        | 246/2051 [01:57<10:31,  2.86it/s]"
     ]
    },
    {
     "name": "stdout",
     "output_type": "stream",
     "text": [
      "Error on getting contributors for lueck/standoff-rdf\n"
     ]
    },
    {
     "name": "stderr",
     "output_type": "stream",
     "text": [
      "Getting Contributors:  13%|█▎        | 274/2051 [02:10<10:46,  2.75it/s]"
     ]
    },
    {
     "name": "stdout",
     "output_type": "stream",
     "text": [
      "Error on getting contributors for bacor/DLfM2020\n"
     ]
    },
    {
     "name": "stderr",
     "output_type": "stream",
     "text": [
      "Getting Contributors:  17%|█▋        | 341/2051 [02:43<10:26,  2.73it/s]"
     ]
    },
    {
     "name": "stdout",
     "output_type": "stream",
     "text": [
      "Error on getting contributors for francescapoli98/text-encoding\n"
     ]
    },
    {
     "name": "stderr",
     "output_type": "stream",
     "text": [
      "Getting Contributors:  19%|█▊        | 381/2051 [03:00<10:32,  2.64it/s]"
     ]
    },
    {
     "name": "stdout",
     "output_type": "stream",
     "text": [
      "Error on getting contributors for knielbo/LINK\n"
     ]
    },
    {
     "name": "stderr",
     "output_type": "stream",
     "text": [
      "Getting Contributors:  24%|██▍       | 495/2051 [05:50<15:43:51, 36.40s/it]"
     ]
    },
    {
     "name": "stdout",
     "output_type": "stream",
     "text": [
      "Error on getting contributors for SimonaSoraci/progetto-dhch\n"
     ]
    },
    {
     "name": "stderr",
     "output_type": "stream",
     "text": [
      "Getting Contributors:  29%|██▉       | 591/2051 [06:34<08:45,  2.78it/s]   "
     ]
    },
    {
     "name": "stdout",
     "output_type": "stream",
     "text": [
      "Error on getting contributors for linuskohl/digitalhumanities-notebook\n"
     ]
    },
    {
     "name": "stderr",
     "output_type": "stream",
     "text": [
      "Getting Contributors:  30%|███       | 620/2051 [06:49<08:33,  2.78it/s]"
     ]
    },
    {
     "name": "stdout",
     "output_type": "stream",
     "text": [
      "Error on getting contributors for Robin-Castellani/digital-humanities\n"
     ]
    },
    {
     "name": "stderr",
     "output_type": "stream",
     "text": [
      "Getting Contributors:  32%|███▏      | 660/2051 [07:06<08:14,  2.81it/s]"
     ]
    },
    {
     "name": "stdout",
     "output_type": "stream",
     "text": [
      "Error on getting contributors for DHLeipzigClasses/IntroDH\n"
     ]
    },
    {
     "name": "stderr",
     "output_type": "stream",
     "text": [
      "Getting Contributors:  35%|███▍      | 708/2051 [07:27<08:13,  2.72it/s]"
     ]
    },
    {
     "name": "stdout",
     "output_type": "stream",
     "text": [
      "Error on getting contributors for jdpigeon/HTMLResume\n"
     ]
    },
    {
     "name": "stderr",
     "output_type": "stream",
     "text": [
      "Getting Contributors:  35%|███▌      | 725/2051 [07:34<08:09,  2.71it/s]"
     ]
    },
    {
     "name": "stdout",
     "output_type": "stream",
     "text": [
      "Error on getting contributors for rcc-uchicago/DH_intro_workshop\n"
     ]
    },
    {
     "name": "stderr",
     "output_type": "stream",
     "text": [
      "Getting Contributors:  36%|███▌      | 731/2051 [07:37<07:42,  2.85it/s]"
     ]
    },
    {
     "name": "stdout",
     "output_type": "stream",
     "text": [
      "Error on getting contributors for mjlavin80/DHWorkshopCMU\n"
     ]
    },
    {
     "name": "stderr",
     "output_type": "stream",
     "text": [
      "Getting Contributors:  36%|███▌      | 736/2051 [07:38<07:40,  2.85it/s]"
     ]
    },
    {
     "name": "stdout",
     "output_type": "stream",
     "text": [
      "Error on getting contributors for dhlab-epfl-students/point-cloud-alignment\n"
     ]
    },
    {
     "name": "stderr",
     "output_type": "stream",
     "text": [
      "Getting Contributors:  38%|███▊      | 783/2051 [09:59<12:49:36, 36.42s/it]"
     ]
    },
    {
     "name": "stdout",
     "output_type": "stream",
     "text": [
      "Error on getting contributors for jeanlammie/DigitalHumanities\n"
     ]
    },
    {
     "name": "stderr",
     "output_type": "stream",
     "text": [
      "Getting Contributors:  38%|███▊      | 788/2051 [10:01<2:15:15,  6.43s/it] "
     ]
    },
    {
     "name": "stdout",
     "output_type": "stream",
     "text": [
      "Error on getting contributors for ashkabruk/DigitalHumanities\n"
     ]
    },
    {
     "name": "stderr",
     "output_type": "stream",
     "text": [
      "Getting Contributors:  39%|███▉      | 804/2051 [12:08<12:37:17, 36.44s/it]"
     ]
    },
    {
     "name": "stdout",
     "output_type": "stream",
     "text": [
      "Error on getting contributors for OliKalli/Advanced-History-DH\n"
     ]
    },
    {
     "name": "stderr",
     "output_type": "stream",
     "text": [
      "Getting Contributors:  40%|████      | 827/2051 [14:18<12:23:01, 36.42s/it]"
     ]
    },
    {
     "name": "stdout",
     "output_type": "stream",
     "text": [
      "Error on getting contributors for acmk19/DigitalHumanitiesAMK\n"
     ]
    },
    {
     "name": "stderr",
     "output_type": "stream",
     "text": [
      "Getting Contributors:  41%|████▏     | 847/2051 [16:27<12:11:27, 36.45s/it]"
     ]
    },
    {
     "name": "stdout",
     "output_type": "stream",
     "text": [
      "Error on getting contributors for albrekhtdurer/digital_humanities\n"
     ]
    },
    {
     "name": "stderr",
     "output_type": "stream",
     "text": [
      "Getting Contributors:  41%|████▏     | 849/2051 [18:27<18:03:11, 54.07s/it]"
     ]
    },
    {
     "name": "stdout",
     "output_type": "stream",
     "text": [
      "Error on getting contributors for Jnavarro35/Digital-Humanities\n"
     ]
    },
    {
     "name": "stderr",
     "output_type": "stream",
     "text": [
      "Getting Contributors:  42%|████▏     | 852/2051 [20:29<18:15:34, 54.82s/it]"
     ]
    },
    {
     "name": "stdout",
     "output_type": "stream",
     "text": [
      "Error on getting contributors for vica5699/digital-humanities\n"
     ]
    },
    {
     "name": "stderr",
     "output_type": "stream",
     "text": [
      "Getting Contributors:  42%|████▏     | 856/2051 [22:30<16:25:37, 49.49s/it]"
     ]
    },
    {
     "name": "stdout",
     "output_type": "stream",
     "text": [
      "Error on getting contributors for jb2496/Digital-Humanities\n"
     ]
    },
    {
     "name": "stderr",
     "output_type": "stream",
     "text": [
      "Getting Contributors:  42%|████▏     | 857/2051 [24:31<23:28:24, 70.77s/it]"
     ]
    },
    {
     "name": "stdout",
     "output_type": "stream",
     "text": [
      "Error on getting contributors for SilviaJD/Digital-Humanities\n"
     ]
    },
    {
     "name": "stderr",
     "output_type": "stream",
     "text": [
      "Getting Contributors:  42%|████▏     | 864/2051 [26:34<13:55:39, 42.24s/it]"
     ]
    },
    {
     "name": "stdout",
     "output_type": "stream",
     "text": [
      "Error on getting contributors for snowcloak/Digital-Humanities\n"
     ]
    },
    {
     "name": "stderr",
     "output_type": "stream",
     "text": [
      "Getting Contributors:  42%|████▏     | 865/2051 [28:35<21:38:28, 65.69s/it]"
     ]
    },
    {
     "name": "stdout",
     "output_type": "stream",
     "text": [
      "Error on getting contributors for Jukka-Sarasti/Digital-Humanities\n"
     ]
    },
    {
     "name": "stderr",
     "output_type": "stream",
     "text": [
      "Getting Contributors:  43%|████▎     | 874/2051 [28:38<58:35,  2.99s/it]   "
     ]
    },
    {
     "name": "stdout",
     "output_type": "stream",
     "text": [
      "Error on getting contributors for datakingdom/Digital_Humanities\n"
     ]
    },
    {
     "name": "stderr",
     "output_type": "stream",
     "text": [
      "Getting Contributors:  43%|████▎     | 884/2051 [30:42<11:49:33, 36.48s/it]"
     ]
    },
    {
     "name": "stdout",
     "output_type": "stream",
     "text": [
      "Error on getting contributors for allanchoubc/Digital-Humanities\n"
     ]
    },
    {
     "name": "stderr",
     "output_type": "stream",
     "text": [
      "Getting Contributors:  43%|████▎     | 890/2051 [32:45<13:06:47, 40.66s/it]"
     ]
    },
    {
     "name": "stdout",
     "output_type": "stream",
     "text": [
      "Error on getting contributors for audgjersdal/Digital-humanities\n"
     ]
    },
    {
     "name": "stderr",
     "output_type": "stream",
     "text": [
      "Getting Contributors:  43%|████▎     | 891/2051 [34:45<20:48:52, 64.60s/it]"
     ]
    },
    {
     "name": "stdout",
     "output_type": "stream",
     "text": [
      "Error on getting contributors for Tapasi92/digital-humanities\n"
     ]
    },
    {
     "name": "stderr",
     "output_type": "stream",
     "text": [
      "Getting Contributors:  44%|████▍     | 899/2051 [36:49<12:50:13, 40.12s/it]"
     ]
    },
    {
     "name": "stdout",
     "output_type": "stream",
     "text": [
      "Error on getting contributors for AlenaRehder/Digital-Humanities\n"
     ]
    },
    {
     "name": "stderr",
     "output_type": "stream",
     "text": [
      "Getting Contributors:  44%|████▍     | 900/2051 [38:49<20:31:56, 64.22s/it]"
     ]
    },
    {
     "name": "stdout",
     "output_type": "stream",
     "text": [
      "Error on getting contributors for jessicastimel/Digital-Humanities\n"
     ]
    },
    {
     "name": "stderr",
     "output_type": "stream",
     "text": [
      "Getting Contributors:  44%|████▍     | 901/2051 [40:50<25:54:01, 81.08s/it]"
     ]
    },
    {
     "name": "stdout",
     "output_type": "stream",
     "text": [
      "Error on getting contributors for bishin/Digital-Humanities\n"
     ]
    },
    {
     "name": "stderr",
     "output_type": "stream",
     "text": [
      "Getting Contributors:  44%|████▍     | 906/2051 [42:52<15:54:20, 50.01s/it]"
     ]
    },
    {
     "name": "stdout",
     "output_type": "stream",
     "text": [
      "Error on getting contributors for juliamendros/digital-humanities\n"
     ]
    },
    {
     "name": "stderr",
     "output_type": "stream",
     "text": [
      "Getting Contributors:  45%|████▍     | 915/2051 [44:57<12:08:58, 38.50s/it]"
     ]
    },
    {
     "name": "stdout",
     "output_type": "stream",
     "text": [
      "Error on getting contributors for Jennysarah1995/Digital-Humanities\n"
     ]
    },
    {
     "name": "stderr",
     "output_type": "stream",
     "text": [
      "Getting Contributors:  45%|████▍     | 918/2051 [46:58<15:34:15, 49.48s/it]"
     ]
    },
    {
     "name": "stdout",
     "output_type": "stream",
     "text": [
      "Error on getting contributors for thonihoward/digitalhumanities\n"
     ]
    },
    {
     "name": "stderr",
     "output_type": "stream",
     "text": [
      "Getting Contributors:  45%|████▍     | 919/2051 [48:58<22:14:59, 70.76s/it]"
     ]
    },
    {
     "name": "stdout",
     "output_type": "stream",
     "text": [
      "Error on getting contributors for TheoBeyond2022/digitalhumanities\n"
     ]
    },
    {
     "name": "stderr",
     "output_type": "stream",
     "text": [
      "Getting Contributors:  45%|████▌     | 924/2051 [51:00<15:05:53, 48.23s/it]"
     ]
    },
    {
     "name": "stdout",
     "output_type": "stream",
     "text": [
      "Error on getting contributors for audgjersdal/Digital_humanities\n"
     ]
    },
    {
     "name": "stderr",
     "output_type": "stream",
     "text": [
      "Getting Contributors:  45%|████▌     | 926/2051 [53:01<18:41:57, 59.84s/it]"
     ]
    },
    {
     "name": "stdout",
     "output_type": "stream",
     "text": [
      "Error on getting contributors for juliahoribe/Digital-Humanities-\n"
     ]
    },
    {
     "name": "stderr",
     "output_type": "stream",
     "text": [
      "Getting Contributors:  45%|████▌     | 927/2051 [55:01<24:21:15, 78.00s/it]"
     ]
    },
    {
     "name": "stdout",
     "output_type": "stream",
     "text": [
      "Error on getting contributors for bgammans/Digital-Humanities\n"
     ]
    },
    {
     "name": "stderr",
     "output_type": "stream",
     "text": [
      "Getting Contributors:  45%|████▌     | 932/2051 [57:03<15:22:01, 49.44s/it]"
     ]
    },
    {
     "name": "stdout",
     "output_type": "stream",
     "text": [
      "Error on getting contributors for kristofhlavacka/digital-humanities\n"
     ]
    },
    {
     "name": "stderr",
     "output_type": "stream",
     "text": [
      "Getting Contributors:  46%|████▌     | 934/2051 [59:04<18:45:13, 60.44s/it]"
     ]
    },
    {
     "name": "stdout",
     "output_type": "stream",
     "text": [
      "Error on getting contributors for tsinasky/digital-humanities\n"
     ]
    },
    {
     "name": "stderr",
     "output_type": "stream",
     "text": [
      "Getting Contributors:  46%|████▌     | 944/2051 [1:01:09<11:43:21, 38.12s/it]"
     ]
    },
    {
     "name": "stdout",
     "output_type": "stream",
     "text": [
      "Error on getting contributors for digihumanities/Digital-Humanities\n"
     ]
    },
    {
     "name": "stderr",
     "output_type": "stream",
     "text": [
      "Getting Contributors:  46%|████▌     | 945/2051 [1:03:09<19:17:56, 62.82s/it]"
     ]
    },
    {
     "name": "stdout",
     "output_type": "stream",
     "text": [
      "Error on getting contributors for Ginasanchez1/digital-humanities\n"
     ]
    },
    {
     "name": "stderr",
     "output_type": "stream",
     "text": [
      "Getting Contributors:  46%|████▋     | 950/2051 [1:05:11<14:20:42, 46.90s/it]"
     ]
    },
    {
     "name": "stdout",
     "output_type": "stream",
     "text": [
      "Error on getting contributors for John-M-Walls/Digital-Humanities\n"
     ]
    },
    {
     "name": "stderr",
     "output_type": "stream",
     "text": [
      "Getting Contributors:  47%|████▋     | 955/2051 [1:05:13<2:29:18,  8.17s/it] "
     ]
    },
    {
     "name": "stdout",
     "output_type": "stream",
     "text": [
      "Error on getting contributors for Silverbonze/pdh\n"
     ]
    },
    {
     "name": "stderr",
     "output_type": "stream",
     "text": [
      "Getting Contributors:  49%|████▉     | 1000/2051 [1:05:33<06:06,  2.87it/s] "
     ]
    },
    {
     "name": "stdout",
     "output_type": "stream",
     "text": [
      "Error on getting contributors for cdres19/IDPTclass\n"
     ]
    },
    {
     "name": "stderr",
     "output_type": "stream",
     "text": [
      "Getting Contributors:  49%|████▉     | 1002/2051 [1:07:33<10:35:52, 36.37s/it]"
     ]
    },
    {
     "name": "stdout",
     "output_type": "stream",
     "text": [
      "Error on getting contributors for MvanErp/dhlab\n"
     ]
    },
    {
     "name": "stderr",
     "output_type": "stream",
     "text": [
      "Getting Contributors:  50%|████▉     | 1021/2051 [1:09:41<10:25:34, 36.44s/it]"
     ]
    },
    {
     "name": "stdout",
     "output_type": "stream",
     "text": [
      "Error on getting contributors for mollycovarrubias2020/DIGITAL-HUMANTIES-2018-\n"
     ]
    },
    {
     "name": "stderr",
     "output_type": "stream",
     "text": [
      "Getting Contributors:  50%|█████     | 1035/2051 [1:09:47<10:25,  1.62it/s]   "
     ]
    },
    {
     "name": "stdout",
     "output_type": "stream",
     "text": [
      "Error on getting contributors for OmerTish/Digital-Humanities-final\n"
     ]
    },
    {
     "name": "stderr",
     "output_type": "stream",
     "text": [
      "Getting Contributors:  51%|█████     | 1041/2051 [1:11:49<10:13:19, 36.44s/it]"
     ]
    },
    {
     "name": "stdout",
     "output_type": "stream",
     "text": [
      "Error on getting contributors for pulamusicMedia/digital-humanities-repo\n"
     ]
    },
    {
     "name": "stderr",
     "output_type": "stream",
     "text": [
      "Getting Contributors:  51%|█████     | 1046/2051 [1:13:51<11:51:16, 42.46s/it]"
     ]
    },
    {
     "name": "stdout",
     "output_type": "stream",
     "text": [
      "Error on getting contributors for neTAC23/Digital-Humanities-Project\n"
     ]
    },
    {
     "name": "stderr",
     "output_type": "stream",
     "text": [
      "Getting Contributors:  51%|█████     | 1050/2051 [1:13:53<2:54:12, 10.44s/it] "
     ]
    },
    {
     "name": "stdout",
     "output_type": "stream",
     "text": [
      "Error on getting contributors for vira-dvoriak/Digital-Humanities-G4\n"
     ]
    },
    {
     "name": "stderr",
     "output_type": "stream",
     "text": [
      "Getting Contributors:  51%|█████▏    | 1055/2051 [1:15:55<10:32:26, 38.10s/it]"
     ]
    },
    {
     "name": "stdout",
     "output_type": "stream",
     "text": [
      "Error on getting contributors for chiaraaileen/Digital_Humanities_Project2020\n"
     ]
    },
    {
     "name": "stderr",
     "output_type": "stream",
     "text": [
      "Getting Contributors:  52%|█████▏    | 1062/2051 [1:17:58<10:51:42, 39.54s/it]"
     ]
    },
    {
     "name": "stdout",
     "output_type": "stream",
     "text": [
      "Error on getting contributors for mnluke/Like-Digital-Humanities\n"
     ]
    },
    {
     "name": "stderr",
     "output_type": "stream",
     "text": [
      "Getting Contributors:  52%|█████▏    | 1074/2051 [1:20:04<10:01:47, 36.96s/it]"
     ]
    },
    {
     "name": "stdout",
     "output_type": "stream",
     "text": [
      "Error on getting contributors for WillemLPel/cursus-Digital-Humanities\n"
     ]
    },
    {
     "name": "stderr",
     "output_type": "stream",
     "text": [
      "Getting Contributors:  54%|█████▍    | 1111/2051 [1:20:19<05:35,  2.80it/s]   "
     ]
    },
    {
     "name": "stdout",
     "output_type": "stream",
     "text": [
      "Error on getting contributors for ThomasK81/ExploringDigitalHumanities\n"
     ]
    },
    {
     "name": "stderr",
     "output_type": "stream",
     "text": [
      "Getting Contributors:  54%|█████▍    | 1116/2051 [1:20:21<05:33,  2.81it/s]"
     ]
    },
    {
     "name": "stdout",
     "output_type": "stream",
     "text": [
      "Error on getting contributors for naclomi/digital-humanities-python-intro\n"
     ]
    },
    {
     "name": "stderr",
     "output_type": "stream",
     "text": [
      "Getting Contributors:  55%|█████▍    | 1125/2051 [1:22:25<9:22:50, 36.47s/it]"
     ]
    },
    {
     "name": "stdout",
     "output_type": "stream",
     "text": [
      "Error on getting contributors for JHauff/Digital-Humanities-Test\n"
     ]
    },
    {
     "name": "stderr",
     "output_type": "stream",
     "text": [
      "Getting Contributors:  55%|█████▌    | 1138/2051 [1:22:30<10:39,  1.43it/s]  "
     ]
    },
    {
     "name": "stdout",
     "output_type": "stream",
     "text": [
      "Error on getting contributors for yuenhsi/Digital_Humanities_Research\n"
     ]
    },
    {
     "name": "stderr",
     "output_type": "stream",
     "text": [
      "Getting Contributors:  56%|█████▌    | 1139/2051 [1:24:31<9:16:15, 36.60s/it]"
     ]
    },
    {
     "name": "stdout",
     "output_type": "stream",
     "text": [
      "Error on getting contributors for saber756/Digital-Humanities-2018\n"
     ]
    },
    {
     "name": "stderr",
     "output_type": "stream",
     "text": [
      "Getting Contributors:  56%|█████▋    | 1154/2051 [1:24:37<08:46,  1.70it/s]  "
     ]
    },
    {
     "name": "stdout",
     "output_type": "stream",
     "text": [
      "Error on getting contributors for University-of-Tartu-Library/DH2017ee\n"
     ]
    },
    {
     "name": "stderr",
     "output_type": "stream",
     "text": [
      "Getting Contributors:  56%|█████▋    | 1158/2051 [1:26:39<9:02:34, 36.45s/it]"
     ]
    },
    {
     "name": "stdout",
     "output_type": "stream",
     "text": [
      "Error on getting contributors for rotavori/The_Upadte_Bechdel_Friends_Test\n"
     ]
    },
    {
     "name": "stderr",
     "output_type": "stream",
     "text": [
      "Getting Contributors:  57%|█████▋    | 1175/2051 [1:28:46<8:52:42, 36.49s/it]"
     ]
    },
    {
     "name": "stdout",
     "output_type": "stream",
     "text": [
      "Error on getting contributors for shaniekim/DH101\n"
     ]
    },
    {
     "name": "stderr",
     "output_type": "stream",
     "text": [
      "Getting Contributors:  58%|█████▊    | 1191/2051 [1:28:54<06:46,  2.11it/s]  "
     ]
    },
    {
     "name": "stdout",
     "output_type": "stream",
     "text": [
      "Error on getting contributors for GerZah/dhidam\n"
     ]
    },
    {
     "name": "stderr",
     "output_type": "stream",
     "text": [
      "Getting Contributors:  58%|█████▊    | 1195/2051 [1:28:55<05:12,  2.74it/s]"
     ]
    },
    {
     "name": "stdout",
     "output_type": "stream",
     "text": [
      "Error on getting contributors for zoharmon/OlympicGameWomen\n"
     ]
    },
    {
     "name": "stderr",
     "output_type": "stream",
     "text": [
      "Getting Contributors:  59%|█████▉    | 1205/2051 [1:30:59<8:33:28, 36.42s/it]"
     ]
    },
    {
     "name": "stdout",
     "output_type": "stream",
     "text": [
      "Error on getting contributors for kenirwin/dh_maps\n"
     ]
    },
    {
     "name": "stderr",
     "output_type": "stream",
     "text": [
      "Getting Contributors:  60%|█████▉    | 1222/2051 [1:33:07<8:24:09, 36.49s/it]"
     ]
    },
    {
     "name": "stdout",
     "output_type": "stream",
     "text": [
      "Error on getting contributors for PlayDHCU5000/Oblique-Generosity-Play-Digital-Humanities-\n"
     ]
    },
    {
     "name": "stderr",
     "output_type": "stream",
     "text": [
      "Getting Contributors:  61%|██████    | 1255/2051 [1:35:24<8:03:10, 36.42s/it]"
     ]
    },
    {
     "name": "stdout",
     "output_type": "stream",
     "text": [
      "Error on getting contributors for wryckbosch/DIGI---Brussels-Platform-for-Digital-Humanities\n"
     ]
    },
    {
     "name": "stderr",
     "output_type": "stream",
     "text": [
      "Getting Contributors:  67%|██████▋   | 1364/2051 [1:38:12<6:57:00, 36.42s/it]"
     ]
    },
    {
     "name": "stdout",
     "output_type": "stream",
     "text": [
      "Error on getting contributors for arunbalajeev/RecognizingPalace\n"
     ]
    },
    {
     "name": "stderr",
     "output_type": "stream",
     "text": [
      "Getting Contributors:  67%|██████▋   | 1372/2051 [1:40:15<7:15:23, 38.47s/it]"
     ]
    },
    {
     "name": "stdout",
     "output_type": "stream",
     "text": [
      "Error on getting contributors for DianneCFallon/DianneCFallon.github.io\n"
     ]
    },
    {
     "name": "stderr",
     "output_type": "stream",
     "text": [
      "Getting Contributors:  68%|██████▊   | 1385/2051 [1:40:20<08:05,  1.37it/s]  "
     ]
    },
    {
     "name": "stdout",
     "output_type": "stream",
     "text": [
      "Error on getting contributors for crowesn/beyond-tei\n"
     ]
    },
    {
     "name": "stderr",
     "output_type": "stream",
     "text": [
      "Getting Contributors:  69%|██████▉   | 1411/2051 [1:42:31<6:28:55, 36.46s/it]"
     ]
    },
    {
     "name": "stdout",
     "output_type": "stream",
     "text": [
      "Error on getting contributors for jmb8056/brindle-boston\n"
     ]
    },
    {
     "name": "stderr",
     "output_type": "stream",
     "text": [
      "Getting Contributors:  70%|███████   | 1440/2051 [1:44:44<6:10:55, 36.42s/it]"
     ]
    },
    {
     "name": "stdout",
     "output_type": "stream",
     "text": [
      "Error on getting contributors for yuliya-techD/DH_Twitter_study\n"
     ]
    },
    {
     "name": "stderr",
     "output_type": "stream",
     "text": [
      "Getting Contributors:  71%|███████   | 1461/2051 [1:44:52<03:32,  2.77it/s]  "
     ]
    },
    {
     "name": "stdout",
     "output_type": "stream",
     "text": [
      "Error on getting contributors for ruathudo/death_psalm\n"
     ]
    },
    {
     "name": "stderr",
     "output_type": "stream",
     "text": [
      "Getting Contributors:  72%|███████▏  | 1469/2051 [1:44:55<03:20,  2.90it/s]"
     ]
    },
    {
     "name": "stdout",
     "output_type": "stream",
     "text": [
      "Error on getting contributors for linkalis/DHForum2016-decoding_the_database\n"
     ]
    },
    {
     "name": "stderr",
     "output_type": "stream",
     "text": [
      "Getting Contributors:  72%|███████▏  | 1472/2051 [1:44:56<03:11,  3.02it/s]"
     ]
    },
    {
     "name": "stdout",
     "output_type": "stream",
     "text": [
      "Error on getting contributors for MQ-FOAR705/43570674-Bartlomiej-Wojcik-FOAR705-Elaboration\n"
     ]
    },
    {
     "name": "stderr",
     "output_type": "stream",
     "text": [
      "Getting Contributors:  72%|███████▏  | 1483/2051 [1:47:01<5:44:36, 36.40s/it]"
     ]
    },
    {
     "name": "stdout",
     "output_type": "stream",
     "text": [
      "Error on getting contributors for anisa-bashiri/ny-phil-collection\n"
     ]
    },
    {
     "name": "stderr",
     "output_type": "stream",
     "text": [
      "Getting Contributors:  73%|███████▎  | 1498/2051 [1:47:07<05:24,  1.70it/s]  "
     ]
    },
    {
     "name": "stdout",
     "output_type": "stream",
     "text": [
      "Error on getting contributors for mrakovic/Graph_lit_texts\n"
     ]
    },
    {
     "name": "stderr",
     "output_type": "stream",
     "text": [
      "Getting Contributors:  75%|███████▍  | 1537/2051 [1:47:24<03:22,  2.53it/s]"
     ]
    },
    {
     "name": "stdout",
     "output_type": "stream",
     "text": [
      "Error on getting contributors for slu-dss/sentiments\n"
     ]
    },
    {
     "name": "stderr",
     "output_type": "stream",
     "text": [
      "Getting Contributors:  76%|███████▌  | 1551/2051 [1:49:30<5:03:44, 36.45s/it]"
     ]
    },
    {
     "name": "stdout",
     "output_type": "stream",
     "text": [
      "Error on getting contributors for SimonaSoraci/progetto-esame-Soraci\n"
     ]
    },
    {
     "name": "stderr",
     "output_type": "stream",
     "text": [
      "Getting Contributors:  76%|███████▌  | 1554/2051 [1:51:31<6:43:57, 48.77s/it]"
     ]
    },
    {
     "name": "stdout",
     "output_type": "stream",
     "text": [
      "Error on getting contributors for SimonMahony/DP-DH\n"
     ]
    },
    {
     "name": "stderr",
     "output_type": "stream",
     "text": [
      "Getting Contributors:  77%|███████▋  | 1589/2051 [1:53:46<4:40:23, 36.41s/it]"
     ]
    },
    {
     "name": "stdout",
     "output_type": "stream",
     "text": [
      "Error on getting contributors for nieshankunqu/Doun92\n"
     ]
    },
    {
     "name": "stderr",
     "output_type": "stream",
     "text": [
      "Getting Contributors:  80%|███████▉  | 1632/2051 [1:54:04<02:33,  2.72it/s]  "
     ]
    },
    {
     "name": "stdout",
     "output_type": "stream",
     "text": [
      "Error on getting contributors for MicheleMallia/AR-UNITY-VUFORIA-PROJECT\n"
     ]
    },
    {
     "name": "stderr",
     "output_type": "stream",
     "text": [
      "Getting Contributors:  82%|████████▏ | 1674/2051 [1:54:23<02:21,  2.66it/s]"
     ]
    },
    {
     "name": "stdout",
     "output_type": "stream",
     "text": [
      "Error on getting contributors for c-forster/eng630-syllabus\n"
     ]
    },
    {
     "name": "stderr",
     "output_type": "stream",
     "text": [
      "Getting Contributors:  82%|████████▏ | 1688/2051 [1:54:29<02:10,  2.79it/s]"
     ]
    },
    {
     "name": "stdout",
     "output_type": "stream",
     "text": [
      "Error on getting contributors for oconnoat/MLWebDH\n"
     ]
    },
    {
     "name": "stderr",
     "output_type": "stream",
     "text": [
      "Getting Contributors:  83%|████████▎ | 1697/2051 [1:56:34<3:35:34, 36.54s/it]"
     ]
    },
    {
     "name": "stdout",
     "output_type": "stream",
     "text": [
      "Error on getting contributors for digh-fall/source\n"
     ]
    },
    {
     "name": "stderr",
     "output_type": "stream",
     "text": [
      "Getting Contributors:  83%|████████▎ | 1710/2051 [1:56:42<05:40,  1.00it/s]  "
     ]
    },
    {
     "name": "stdout",
     "output_type": "stream",
     "text": [
      "Error on getting contributors for GC-CPDH-F15/gc-cpdh-f15.github.io\n"
     ]
    },
    {
     "name": "stderr",
     "output_type": "stream",
     "text": [
      "Getting Contributors:  85%|████████▍ | 1738/2051 [1:56:53<01:35,  3.28it/s]"
     ]
    },
    {
     "name": "stdout",
     "output_type": "stream",
     "text": [
      "Error on getting contributors for mnauge/DHtools\n",
      "Error on getting contributors for KollatzThomas/2017_Visualisieren_Annotieren_Bochum\n"
     ]
    },
    {
     "name": "stderr",
     "output_type": "stream",
     "text": [
      "Getting Contributors:  85%|████████▌ | 1749/2051 [1:58:58<3:03:22, 36.43s/it]"
     ]
    },
    {
     "name": "stdout",
     "output_type": "stream",
     "text": [
      "Error on getting contributors for pfyfe/introdh2018.github.io\n"
     ]
    },
    {
     "name": "stderr",
     "output_type": "stream",
     "text": [
      "Getting Contributors:  85%|████████▌ | 1750/2051 [1:58:58<2:08:14, 25.56s/it]"
     ]
    },
    {
     "name": "stdout",
     "output_type": "stream",
     "text": [
      "Error on getting contributors for jglev/2017-11-price-lab\n"
     ]
    },
    {
     "name": "stderr",
     "output_type": "stream",
     "text": [
      "Getting Contributors:  86%|████████▌ | 1767/2051 [1:59:05<01:55,  2.46it/s]  "
     ]
    },
    {
     "name": "stdout",
     "output_type": "stream",
     "text": [
      "Error on getting contributors for mjlavin80/DHworkshop-CMU-2017\n"
     ]
    },
    {
     "name": "stderr",
     "output_type": "stream",
     "text": [
      "Getting Contributors:  88%|████████▊ | 1799/2051 [2:01:19<2:33:00, 36.43s/it]"
     ]
    },
    {
     "name": "stdout",
     "output_type": "stream",
     "text": [
      "Error on getting contributors for mrakovic/Entity_extraction\n"
     ]
    },
    {
     "name": "stderr",
     "output_type": "stream",
     "text": [
      "Getting Contributors:  88%|████████▊ | 1800/2051 [2:01:19<1:46:56, 25.56s/it]"
     ]
    },
    {
     "name": "stdout",
     "output_type": "stream",
     "text": [
      "Error on getting contributors for annaneo/DH-2018-Budapest-IncipitSearch\n"
     ]
    },
    {
     "name": "stderr",
     "output_type": "stream",
     "text": [
      "Getting Contributors:  88%|████████▊ | 1803/2051 [2:03:20<3:06:09, 45.04s/it]"
     ]
    },
    {
     "name": "stdout",
     "output_type": "stream",
     "text": [
      "Error on getting contributors for uclibs/birth_and_death\n"
     ]
    },
    {
     "name": "stderr",
     "output_type": "stream",
     "text": [
      "Getting Contributors:  89%|████████▉ | 1828/2051 [2:03:31<01:28,  2.52it/s]  "
     ]
    },
    {
     "name": "stdout",
     "output_type": "stream",
     "text": [
      "Error on getting contributors for MQ-FOAR705/wojcik-bart-learning-journals\n"
     ]
    },
    {
     "name": "stderr",
     "output_type": "stream",
     "text": [
      "Getting Contributors:  89%|████████▉ | 1830/2051 [2:03:31<01:15,  2.93it/s]"
     ]
    },
    {
     "name": "stdout",
     "output_type": "stream",
     "text": [
      "Error on getting contributors for ThereWasALlama/Wikipast_StatBot\n"
     ]
    },
    {
     "name": "stderr",
     "output_type": "stream",
     "text": [
      "Getting Contributors:  90%|████████▉ | 1845/2051 [2:03:37<01:13,  2.80it/s]"
     ]
    },
    {
     "name": "stdout",
     "output_type": "stream",
     "text": [
      "Error on getting contributors for mjlavin80/machine-learning-cmu-summer-2019\n"
     ]
    },
    {
     "name": "stderr",
     "output_type": "stream",
     "text": [
      "Getting Contributors:  91%|█████████ | 1858/2051 [2:05:43<1:57:09, 36.42s/it]"
     ]
    },
    {
     "name": "stdout",
     "output_type": "stream",
     "text": [
      "Error on getting contributors for harderc90/comp_ling\n"
     ]
    },
    {
     "name": "stderr",
     "output_type": "stream",
     "text": [
      "Getting Contributors:  91%|█████████ | 1865/2051 [2:07:46<2:02:06, 39.39s/it]"
     ]
    },
    {
     "name": "stdout",
     "output_type": "stream",
     "text": [
      "Error on getting contributors for Purdom/Environmental-DH\n"
     ]
    },
    {
     "name": "stderr",
     "output_type": "stream",
     "text": [
      "Getting Contributors:  91%|█████████▏| 1872/2051 [2:07:49<10:41,  3.59s/it]  "
     ]
    },
    {
     "name": "stdout",
     "output_type": "stream",
     "text": [
      "Error on getting contributors for MQ-FOAR705/43570674-Bartlomiej-Wojcik-FOAR705-Proof-of-Concept\n"
     ]
    },
    {
     "name": "stderr",
     "output_type": "stream",
     "text": [
      "Getting Contributors:  91%|█████████▏| 1876/2051 [2:09:50<1:48:26, 37.18s/it]"
     ]
    },
    {
     "name": "stdout",
     "output_type": "stream",
     "text": [
      "Error on getting contributors for comp-think/2017-2018\n"
     ]
    },
    {
     "name": "stderr",
     "output_type": "stream",
     "text": [
      "Getting Contributors:  92%|█████████▏| 1887/2051 [2:11:55<1:41:30, 37.14s/it]"
     ]
    },
    {
     "name": "stdout",
     "output_type": "stream",
     "text": [
      "Error on getting contributors for PolinHv/TEI-Text-Encoding-Initiative\n"
     ]
    },
    {
     "name": "stderr",
     "output_type": "stream",
     "text": [
      "Getting Contributors:  94%|█████████▍| 1927/2051 [2:14:21<1:15:25, 36.50s/it]"
     ]
    },
    {
     "name": "stdout",
     "output_type": "stream",
     "text": [
      "Error on getting contributors for Linqiu-w/A-Collection-of-Resources-on-History-Studies\n"
     ]
    },
    {
     "name": "stderr",
     "output_type": "stream",
     "text": [
      "Getting Contributors:  98%|█████████▊| 2006/2051 [2:15:00<00:16,  2.79it/s]  "
     ]
    },
    {
     "name": "stdout",
     "output_type": "stream",
     "text": [
      "Error on getting contributors for lu-blue/Data-Graphs-with-Plotly-and-Python\n"
     ]
    },
    {
     "name": "stderr",
     "output_type": "stream",
     "text": [
      "Getting Contributors:  98%|█████████▊| 2017/2051 [2:17:08<20:46, 36.66s/it]"
     ]
    },
    {
     "name": "stdout",
     "output_type": "stream",
     "text": [
      "Error on getting contributors for delljj/hd\n"
     ]
    },
    {
     "name": "stderr",
     "output_type": "stream",
     "text": [
      "Getting Contributors:  98%|█████████▊| 2018/2051 [2:19:08<34:01, 61.85s/it]"
     ]
    },
    {
     "name": "stdout",
     "output_type": "stream",
     "text": [
      "Error on getting contributors for inmaber/curso-HD\n"
     ]
    },
    {
     "name": "stderr",
     "output_type": "stream",
     "text": [
      "Getting Contributors:  98%|█████████▊| 2020/2051 [2:21:09<34:21, 66.51s/it]"
     ]
    },
    {
     "name": "stdout",
     "output_type": "stream",
     "text": [
      "Error on getting contributors for lafranperez/fperezp\n"
     ]
    },
    {
     "name": "stderr",
     "output_type": "stream",
     "text": [
      "Getting Contributors:  99%|█████████▉| 2026/2051 [2:21:11<03:23,  8.12s/it]"
     ]
    },
    {
     "name": "stdout",
     "output_type": "stream",
     "text": [
      "Error on getting contributors for Alopezsa75/Humanidades_DIgitales_Test\n"
     ]
    },
    {
     "name": "stderr",
     "output_type": "stream",
     "text": [
      "Getting Contributors:  99%|█████████▉| 2035/2051 [2:23:15<09:47, 36.75s/it]"
     ]
    },
    {
     "name": "stdout",
     "output_type": "stream",
     "text": [
      "Error on getting contributors for tmarquez-mx/FHD\n"
     ]
    },
    {
     "name": "stderr",
     "output_type": "stream",
     "text": [
      "Getting Contributors: 100%|█████████▉| 2043/2051 [2:25:18<05:08, 38.52s/it]"
     ]
    },
    {
     "name": "stdout",
     "output_type": "stream",
     "text": [
      "Error on getting contributors for dagitab-workshop/dagitab-workshop\n"
     ]
    },
    {
     "name": "stderr",
     "output_type": "stream",
     "text": [
      "Getting Contributors: 100%|██████████| 2051/2051 [2:25:22<00:00,  4.25s/it]\n"
     ]
    }
   ],
   "source": [
    "contributors_df = get_repo_contributors(repo_df, '../data/search_tagged_dh_repos_contributors.csv', rates_df)"
   ]
  },
  {
   "cell_type": "code",
   "execution_count": 6,
   "metadata": {},
   "outputs": [
    {
     "name": "stderr",
     "output_type": "stream",
     "text": [
      "Getting Commits: 100%|██████████| 2051/2051 [4:58:24<00:00,  8.73s/it]   \n"
     ]
    }
   ],
   "source": [
    "commits_df = get_repos_commits(repo_df, '../private_data/search_tagged_dh_repos_commits.csv', rates_df)"
   ]
  },
  {
   "cell_type": "code",
   "execution_count": 8,
   "metadata": {},
   "outputs": [
    {
     "name": "stdout",
     "output_type": "stream",
     "text": [
      "Number of identified repositories with the topic digital humanities: 2051\n",
      "Number of unique contributors 3931\n",
      "Number of unique commits 244693 \n"
     ]
    }
   ],
   "source": [
    "print(f\"Number of identified repositories with the topic digital humanities: {len(repo_df)}\")\n",
    "print(f\"Number of unique contributors {len(contributors_df)}\")\n",
    "print(f\"Number of unique commits {len(commits_df)} \")"
   ]
  },
  {
   "cell_type": "markdown",
   "metadata": {},
   "source": [
    "### Date of Repo Creation"
   ]
  },
  {
   "cell_type": "code",
   "execution_count": null,
   "metadata": {},
   "outputs": [],
   "source": [
    "alt.Chart(repo_df).mark_bar().encode(\n",
    "    x=alt.X(\"yearmonth(created_at):T\", axis=alt.Axis(title=\"Date\")),\n",
    "    y=alt.Y(\"count()\", axis=alt.Axis(title=\"\")),\n",
    "    color=alt.Color(\"yearmonth(created_at):T\", legend=None, scale=alt.Scale(scheme='plasma')),\n",
    ").properties(\n",
    "    title=\"Frequency of DH Topic Repositories Created by Year and Month\",\n",
    ")"
   ]
  },
  {
   "cell_type": "code",
   "execution_count": null,
   "metadata": {},
   "outputs": [],
   "source": [
    "subset_df = repo_df[['forks_count', 'stargazers_count', 'watchers_count', 'size', 'html_url', 'created_at', 'full_name']]"
   ]
  },
  {
   "cell_type": "code",
   "execution_count": null,
   "metadata": {},
   "outputs": [],
   "source": [
    "subset_df['year'] = pd.to_datetime(subset_df['created_at']).dt.strftime('%Y')"
   ]
  },
  {
   "cell_type": "code",
   "execution_count": null,
   "metadata": {},
   "outputs": [],
   "source": [
    "cols = ['forks_count', 'stargazers_count', 'watchers_count', 'size']\n",
    "reverse_cols = cols[::-1]"
   ]
  },
  {
   "cell_type": "code",
   "execution_count": null,
   "metadata": {},
   "outputs": [],
   "source": [
    "alt.Chart(subset_df).mark_circle().encode(\n",
    "    alt.X(alt.repeat(\"column\"), type='quantitative'),\n",
    "    alt.Y(alt.repeat(\"row\"), type='quantitative'),\n",
    "    color=alt.Color('year:N', scale=alt.Scale(scheme='plasma')),\n",
    "    tooltip=['year:N', 'html_url:N', 'created_at:N', 'full_name:N'] \n",
    ").properties(\n",
    "    width=125,\n",
    "    height=125\n",
    ").repeat(\n",
    "    row=cols,\n",
    "    column=reverse_cols\n",
    ")"
   ]
  },
  {
   "cell_type": "code",
   "execution_count": null,
   "metadata": {},
   "outputs": [],
   "source": [
    "alt.Chart(repo_df).mark_bar().encode(\n",
    "    y='count()',\n",
    "    x='forks',\n",
    ")"
   ]
  },
  {
   "cell_type": "code",
   "execution_count": null,
   "metadata": {},
   "outputs": [],
   "source": [
    "alt.Chart(repo_df).mark_bar().encode(\n",
    "    y='count()',\n",
    "    x='stargazers_count',\n",
    ")"
   ]
  },
  {
   "cell_type": "code",
   "execution_count": null,
   "metadata": {},
   "outputs": [],
   "source": []
  }
 ],
 "metadata": {
  "interpreter": {
   "hash": "f9535a2d3234831e7216b5503226355d93b43b15e5931e93b3445b413875c708"
  },
  "kernelspec": {
   "display_name": "Python 3.9.10 ('values_and_versions_env')",
   "language": "python",
   "name": "python3"
  },
  "language_info": {
   "codemirror_mode": {
    "name": "ipython",
    "version": 3
   },
   "file_extension": ".py",
   "mimetype": "text/x-python",
   "name": "python",
   "nbconvert_exporter": "python",
   "pygments_lexer": "ipython3",
   "version": "3.9.14"
  },
  "orig_nbformat": 4
 },
 "nbformat": 4,
 "nbformat_minor": 2
}
