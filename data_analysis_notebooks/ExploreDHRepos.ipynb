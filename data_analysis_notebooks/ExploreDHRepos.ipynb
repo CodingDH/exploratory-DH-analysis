{
 "cells": [
  {
   "cell_type": "markdown",
   "metadata": {},
   "source": [
    "# Exploring all Github repositories with topic \"digital-humanities\""
   ]
  },
  {
   "cell_type": "markdown",
   "metadata": {},
   "source": [
    "Top level exploration of repositories metadata:\n",
    "- Date of creation\n",
    "  - activity?\n",
    "  - frequency of commits\n",
    "- Number of contributors (tbd)\n",
    "  - number of contributions\n",
    "- Length of description\n",
    "- How many other topics on the repo\n",
    "- What language in the repo\n",
    "- How many forks\n",
    "- How many PRs and how many issues\n",
    "  - frequency of issues\n",
    "- Wikis?"
   ]
  },
  {
   "cell_type": "code",
   "execution_count": 4,
   "metadata": {},
   "outputs": [],
   "source": [
    "import pandas as pd\n",
    "pd.options.mode.chained_assignment = None\n",
    "import altair as alt\n",
    "alt.renderers.enable('mimetype')\n",
    "import os\n",
    "import sys\n",
    "\n",
    "sys.path.append(\"..\")\n",
    "from data_generation_scripts.utils import check_rate_limit\n",
    "from data_generation_scripts.generate_search_data import get_search_repo_df, get_all_queried_search_repo_df\n",
    "from data_generation_scripts.generate_language_data import get_repo_languages\n",
    "from data_generation_scripts.generate_commits_data import get_repos_commits\n",
    "from data_generation_scripts.generate_contributor_data import get_repo_contributors"
   ]
  },
  {
   "cell_type": "code",
   "execution_count": 2,
   "metadata": {},
   "outputs": [],
   "source": [
    "rates_df = check_rate_limit()"
   ]
  },
  {
   "cell_type": "code",
   "execution_count": 3,
   "metadata": {},
   "outputs": [],
   "source": [
    "initial_output_path = '../data/repo_data/'\n",
    "final_output_path = '../data/search_tagged_dh_repos.csv'\n",
    "load_existing_data = True\n",
    "repo_df = get_search_repo_df(final_output_path, initial_output_path, rates_df, load_existing_data)\n"
   ]
  },
  {
   "cell_type": "code",
   "execution_count": 5,
   "metadata": {},
   "outputs": [],
   "source": [
    "final_output_path = \"../data/search_queries_repo_join_table.csv\"\n",
    "load_existing_data = True\n",
    "searched_repo_df = get_all_queried_search_repo_df(final_output_path,  load_existing_data)"
   ]
  },
  {
   "cell_type": "code",
   "execution_count": 8,
   "metadata": {},
   "outputs": [
    {
     "name": "stdout",
     "output_type": "stream",
     "text": [
      "From 50 unique queries, we found 3744 repos, of which 748 are unique.\n"
     ]
    }
   ],
   "source": [
    "print(f\"From {len(searched_repo_df['query'].unique())} unique queries, we found {len(searched_repo_df)} repos, of which {len(repo_df)} are unique.\")"
   ]
  },
  {
   "cell_type": "code",
   "execution_count": 5,
   "metadata": {},
   "outputs": [],
   "source": [
    "output_path = \"../data/combined_search_tagged_dh_repos_with_languages.csv\"\n",
    "repo_df = get_repo_languages(repo_df, output_path, rates_df)"
   ]
  },
  {
   "cell_type": "code",
   "execution_count": 6,
   "metadata": {},
   "outputs": [],
   "source": [
    "contributors_df = get_repo_contributors(repo_df, '../data/search_tagged_dh_repos_contributors.csv', rates_df)"
   ]
  },
  {
   "cell_type": "code",
   "execution_count": 6,
   "metadata": {},
   "outputs": [
    {
     "name": "stderr",
     "output_type": "stream",
     "text": [
      "Getting Commits: 100%|██████████| 2051/2051 [4:58:24<00:00,  8.73s/it]   \n"
     ]
    }
   ],
   "source": [
    "commits_df = get_repos_commits(repo_df, '../private_data/search_tagged_dh_repos_commits.csv', rates_df)"
   ]
  },
  {
   "cell_type": "code",
   "execution_count": 8,
   "metadata": {},
   "outputs": [
    {
     "name": "stdout",
     "output_type": "stream",
     "text": [
      "Number of identified repositories with the topic digital humanities: 2051\n",
      "Number of unique contributors 3931\n",
      "Number of unique commits 244693 \n"
     ]
    }
   ],
   "source": [
    "print(f\"Number of identified repositories with the topic digital humanities: {len(repo_df)}\")\n",
    "print(f\"Number of unique contributors {len(contributors_df)}\")\n",
    "print(f\"Number of unique commits {len(commits_df)} \")"
   ]
  },
  {
   "cell_type": "markdown",
   "metadata": {},
   "source": [
    "### Date of Repo Creation"
   ]
  },
  {
   "cell_type": "code",
   "execution_count": null,
   "metadata": {},
   "outputs": [],
   "source": [
    "alt.Chart(repo_df).mark_bar().encode(\n",
    "    x=alt.X(\"yearmonth(created_at):T\", axis=alt.Axis(title=\"Date\")),\n",
    "    y=alt.Y(\"count()\", axis=alt.Axis(title=\"\")),\n",
    "    color=alt.Color(\"yearmonth(created_at):T\", legend=None, scale=alt.Scale(scheme='plasma')),\n",
    ").properties(\n",
    "    title=\"Frequency of DH Topic Repositories Created by Year and Month\",\n",
    ")"
   ]
  },
  {
   "cell_type": "code",
   "execution_count": null,
   "metadata": {},
   "outputs": [],
   "source": [
    "subset_df = repo_df[['forks_count', 'stargazers_count', 'watchers_count', 'size', 'html_url', 'created_at', 'full_name']]"
   ]
  },
  {
   "cell_type": "code",
   "execution_count": null,
   "metadata": {},
   "outputs": [],
   "source": [
    "subset_df['year'] = pd.to_datetime(subset_df['created_at']).dt.strftime('%Y')"
   ]
  },
  {
   "cell_type": "code",
   "execution_count": null,
   "metadata": {},
   "outputs": [],
   "source": [
    "cols = ['forks_count', 'stargazers_count', 'watchers_count', 'size']\n",
    "reverse_cols = cols[::-1]"
   ]
  },
  {
   "cell_type": "code",
   "execution_count": null,
   "metadata": {},
   "outputs": [],
   "source": [
    "alt.Chart(subset_df).mark_circle().encode(\n",
    "    alt.X(alt.repeat(\"column\"), type='quantitative'),\n",
    "    alt.Y(alt.repeat(\"row\"), type='quantitative'),\n",
    "    color=alt.Color('year:N', scale=alt.Scale(scheme='plasma')),\n",
    "    tooltip=['year:N', 'html_url:N', 'created_at:N', 'full_name:N'] \n",
    ").properties(\n",
    "    width=125,\n",
    "    height=125\n",
    ").repeat(\n",
    "    row=cols,\n",
    "    column=reverse_cols\n",
    ")"
   ]
  },
  {
   "cell_type": "code",
   "execution_count": null,
   "metadata": {},
   "outputs": [],
   "source": [
    "alt.Chart(repo_df).mark_bar().encode(\n",
    "    y='count()',\n",
    "    x='forks',\n",
    ")"
   ]
  },
  {
   "cell_type": "code",
   "execution_count": null,
   "metadata": {},
   "outputs": [],
   "source": [
    "alt.Chart(repo_df).mark_bar().encode(\n",
    "    y='count()',\n",
    "    x='stargazers_count',\n",
    ")"
   ]
  },
  {
   "cell_type": "code",
   "execution_count": null,
   "metadata": {},
   "outputs": [],
   "source": []
  }
 ],
 "metadata": {
  "interpreter": {
   "hash": "f9535a2d3234831e7216b5503226355d93b43b15e5931e93b3445b413875c708"
  },
  "kernelspec": {
   "display_name": "Python 3.9.10 ('values_and_versions_env')",
   "language": "python",
   "name": "python3"
  },
  "language_info": {
   "codemirror_mode": {
    "name": "ipython",
    "version": 3
   },
   "file_extension": ".py",
   "mimetype": "text/x-python",
   "name": "python",
   "nbconvert_exporter": "python",
   "pygments_lexer": "ipython3",
   "version": "3.9.14"
  },
  "orig_nbformat": 4
 },
 "nbformat": 4,
 "nbformat_minor": 2
}
