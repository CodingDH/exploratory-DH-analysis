{
 "cells": [
  {
   "cell_type": "markdown",
   "metadata": {},
   "source": [
    "# Exploring all Github repositories with topic \"digital-humanities\""
   ]
  },
  {
   "cell_type": "markdown",
   "metadata": {},
   "source": [
    "Top level exploration of repositories metadata:\n",
    "- Date of creation\n",
    "  - activity?\n",
    "  - frequency of commits\n",
    "- Number of contributors (tbd)\n",
    "  - number of contributions\n",
    "- Length of description\n",
    "- How many other topics on the repo\n",
    "- What language in the repo\n",
    "- How many forks\n",
    "- How many PRs and how many issues\n",
    "  - frequency of issues\n",
    "- Wikis?"
   ]
  },
  {
   "cell_type": "code",
   "execution_count": 1,
   "metadata": {},
   "outputs": [],
   "source": [
    "import pandas as pd\n",
    "pd.options.mode.chained_assignment = None\n",
    "import altair as alt\n",
    "alt.renderers.enable('mimetype')\n",
    "import os\n",
    "import sys\n",
    "\n",
    "sys.path.append(\"..\")\n",
    "from data_generation_scripts.get_repo_data import check_rate_limit, get_dh_repos_data, get_repo_contributors, get_repos_commits, check_total_pages, get_search_api_data\n",
    "sys.path.append(\"..\")\n",
    "from data_generation_scripts.generate_search_data import generate_dh_queries, get_search_df\n",
    "from data_generation_scripts.generate_language_data import get_repo_languages"
   ]
  },
  {
   "cell_type": "code",
   "execution_count": 2,
   "metadata": {},
   "outputs": [],
   "source": [
    "rates_df = check_rate_limit()"
   ]
  },
  {
   "cell_type": "code",
   "execution_count": 3,
   "metadata": {},
   "outputs": [],
   "source": [
    "# initial_output_path = '../data/repo_data/'\n",
    "# df = generate_dh_queries(initial_output_path, rates_df)\n"
   ]
  },
  {
   "cell_type": "code",
   "execution_count": 4,
   "metadata": {},
   "outputs": [],
   "source": [
    "repo_df = get_search_df()"
   ]
  },
  {
   "cell_type": "code",
   "execution_count": 5,
   "metadata": {},
   "outputs": [
    {
     "name": "stderr",
     "output_type": "stream",
     "text": [
      "Getting Languages: 100%|██████████| 2051/2051 [10:17<00:00,  3.32it/s]  \n"
     ]
    }
   ],
   "source": [
    "output_path = \"../data/combined_search_tagged_dh_repos_with_languages.csv\"\n",
    "repo_df = get_repo_languages(repo_df, output_path, rates_df)"
   ]
  },
  {
   "cell_type": "code",
   "execution_count": null,
   "metadata": {},
   "outputs": [],
   "source": [
    "# repo_df = get_dh_repos_data('../data/repos_topic_dh.csv', rates_df)"
   ]
  },
  {
   "cell_type": "code",
   "execution_count": null,
   "metadata": {},
   "outputs": [],
   "source": [
    "contributors_df = get_repo_contributors(repo_df, '../data/repos_topic_dh_contributors.csv', rates_df)"
   ]
  },
  {
   "cell_type": "code",
   "execution_count": null,
   "metadata": {},
   "outputs": [],
   "source": [
    "commits_df = get_repos_commits(repo_df, '../private_data/repos_topic_dh_commits.csv', rates_df)"
   ]
  },
  {
   "cell_type": "code",
   "execution_count": null,
   "metadata": {},
   "outputs": [],
   "source": [
    "print(f\"Number of identified repositories with the topic digital humanities: {len(repo_df)}\")"
   ]
  },
  {
   "cell_type": "markdown",
   "metadata": {},
   "source": [
    "### Date of Repo Creation"
   ]
  },
  {
   "cell_type": "code",
   "execution_count": null,
   "metadata": {},
   "outputs": [],
   "source": [
    "alt.Chart(repo_df).mark_bar().encode(\n",
    "    x=alt.X(\"yearmonth(created_at):T\", axis=alt.Axis(title=\"Date\")),\n",
    "    y=alt.Y(\"count()\", axis=alt.Axis(title=\"\")),\n",
    "    color=alt.Color(\"yearmonth(created_at):T\", legend=None, scale=alt.Scale(scheme='plasma')),\n",
    ").properties(\n",
    "    title=\"Frequency of DH Topic Repositories Created by Year and Month\",\n",
    ")"
   ]
  },
  {
   "cell_type": "code",
   "execution_count": null,
   "metadata": {},
   "outputs": [],
   "source": [
    "subset_df = repo_df[['forks_count', 'stargazers_count', 'watchers_count', 'size', 'html_url', 'created_at', 'full_name']]"
   ]
  },
  {
   "cell_type": "code",
   "execution_count": null,
   "metadata": {},
   "outputs": [],
   "source": [
    "subset_df['year'] = pd.to_datetime(subset_df['created_at']).dt.strftime('%Y')"
   ]
  },
  {
   "cell_type": "code",
   "execution_count": null,
   "metadata": {},
   "outputs": [],
   "source": [
    "cols = ['forks_count', 'stargazers_count', 'watchers_count', 'size']\n",
    "reverse_cols = cols[::-1]"
   ]
  },
  {
   "cell_type": "code",
   "execution_count": null,
   "metadata": {},
   "outputs": [],
   "source": [
    "alt.Chart(subset_df).mark_circle().encode(\n",
    "    alt.X(alt.repeat(\"column\"), type='quantitative'),\n",
    "    alt.Y(alt.repeat(\"row\"), type='quantitative'),\n",
    "    color=alt.Color('year:N', scale=alt.Scale(scheme='plasma')),\n",
    "    tooltip=['year:N', 'html_url:N', 'created_at:N', 'full_name:N'] \n",
    ").properties(\n",
    "    width=125,\n",
    "    height=125\n",
    ").repeat(\n",
    "    row=cols,\n",
    "    column=reverse_cols\n",
    ")"
   ]
  },
  {
   "cell_type": "code",
   "execution_count": null,
   "metadata": {},
   "outputs": [],
   "source": [
    "alt.Chart(repo_df).mark_bar().encode(\n",
    "    y='count()',\n",
    "    x='forks',\n",
    ")"
   ]
  },
  {
   "cell_type": "code",
   "execution_count": null,
   "metadata": {},
   "outputs": [],
   "source": [
    "alt.Chart(repo_df).mark_bar().encode(\n",
    "    y='count()',\n",
    "    x='stargazers_count',\n",
    ")"
   ]
  },
  {
   "cell_type": "code",
   "execution_count": null,
   "metadata": {},
   "outputs": [],
   "source": []
  }
 ],
 "metadata": {
  "interpreter": {
   "hash": "f9535a2d3234831e7216b5503226355d93b43b15e5931e93b3445b413875c708"
  },
  "kernelspec": {
   "display_name": "Python 3.9.10 ('values_and_versions_env')",
   "language": "python",
   "name": "python3"
  },
  "language_info": {
   "codemirror_mode": {
    "name": "ipython",
    "version": 3
   },
   "file_extension": ".py",
   "mimetype": "text/x-python",
   "name": "python",
   "nbconvert_exporter": "python",
   "pygments_lexer": "ipython3",
   "version": "3.9.14"
  },
  "orig_nbformat": 4
 },
 "nbformat": 4,
 "nbformat_minor": 2
}
