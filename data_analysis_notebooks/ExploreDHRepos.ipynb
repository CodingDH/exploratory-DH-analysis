{
 "cells": [
  {
   "cell_type": "markdown",
   "metadata": {},
   "source": [
    "# Exploring all Github repositories with topic \"digital-humanities\""
   ]
  },
  {
   "cell_type": "markdown",
   "metadata": {},
   "source": [
    "Top level exploration of repositories metadata:\n",
    "- Date of creation\n",
    "  - activity?\n",
    "  - frequency of commits\n",
    "- Number of contributors (tbd)\n",
    "  - number of contributions\n",
    "- Length of description\n",
    "- How many other topics on the repo\n",
    "- What language in the repo\n",
    "- How many forks\n",
    "- How many PRs and how many issues\n",
    "  - frequency of issues\n",
    "- Wikis?"
   ]
  },
  {
   "cell_type": "code",
   "execution_count": 1,
   "metadata": {},
   "outputs": [],
   "source": [
    "import pandas as pd\n",
    "pd.options.mode.chained_assignment = None\n",
    "import altair as alt\n",
    "alt.renderers.enable('mimetype')\n",
    "import os\n",
    "import sys\n",
    "\n",
    "sys.path.append(\"..\")\n",
    "from data_generation_scripts.utils import check_rate_limit\n",
    "from data_generation_scripts.generate_search_data import get_initial_repo_df, combine_search_df\n",
    "from data_generation_scripts.generate_repo_metadata import get_repo_languages, get_repo_labels, get_repo_tags\n",
    "from data_generation_scripts.generate_commits_data import get_repos_commits\n",
    "from data_generation_scripts.generate_contributor_data import get_repo_contributors"
   ]
  },
  {
   "cell_type": "code",
   "execution_count": 8,
   "metadata": {},
   "outputs": [],
   "source": [
    "rates_df = check_rate_limit()"
   ]
  },
  {
   "cell_type": "code",
   "execution_count": 3,
   "metadata": {},
   "outputs": [
    {
     "name": "stdout",
     "output_type": "stream",
     "text": [
      "Empty dataframe for repos_searched_de_en_Digital+Humanities_2008.csv\n",
      "Empty dataframe for repos_searched_de_en_Digital+Humanities_2022.csv\n"
     ]
    }
   ],
   "source": [
    "initial_output_path = '../data/repo_data/'\n",
    "repo_output_path = '../data/repos_dataset.csv'\n",
    "join_output_path = \"../data/search_queries_join_dataset.csv\"\n",
    "# load_existing_data = True\n",
    "# repo_df, search_queries_repo_df = get_initial_repo_df(repo_output_path, join_output_path, initial_output_path, rates_df, load_existing_data)\n",
    "dfs = []\n",
    "repo_df, search_queries_repo_df = combine_search_df(repo_output_path, join_output_path, dfs)"
   ]
  },
  {
   "cell_type": "code",
   "execution_count": 4,
   "metadata": {},
   "outputs": [
    {
     "name": "stdout",
     "output_type": "stream",
     "text": [
      "From 39 unique queries, we found 2006 repos, of which 1928 are unique.\n"
     ]
    }
   ],
   "source": [
    "print(f\"From {len(search_queries_repo_df['query'].unique())} unique queries, we found {len(search_queries_repo_df)} repos, of which {len(repo_df)} are unique.\")"
   ]
  },
  {
   "cell_type": "code",
   "execution_count": 5,
   "metadata": {},
   "outputs": [],
   "source": [
    "contributors_df, users_df = get_repo_contributors(repo_df, '../data/repo_contributors_join_dataset.csv', '../data/users_dataset.csv', rates_df)\n",
    "contributors_errors_df = pd.read_csv('../data/error_logs/repo_contributors_errors.csv')"
   ]
  },
  {
   "cell_type": "code",
   "execution_count": 6,
   "metadata": {},
   "outputs": [
    {
     "name": "stdout",
     "output_type": "stream",
     "text": [
      "From 1928 repos, we found 3715 contributors, of which 2724 are unique. There were 212 errors in getting contributors (likely user accounts that no longer exist).\n"
     ]
    }
   ],
   "source": [
    "print(f\"From {len(repo_df)} repos, we found {len(contributors_df)} contributors, of which {len(users_df)} are unique. There were {len(contributors_errors_df)} errors in getting contributors (likely user accounts that no longer exist).\")"
   ]
  },
  {
   "cell_type": "code",
   "execution_count": 7,
   "metadata": {},
   "outputs": [
    {
     "name": "stderr",
     "output_type": "stream",
     "text": [
      "Getting Languages: 100%|██████████| 1928/1928 [13:03<00:00,  2.46it/s]  \n"
     ]
    }
   ],
   "source": [
    "\n",
    "repo_df = get_repo_languages(repo_df, repo_output_path, rates_df)"
   ]
  },
  {
   "cell_type": "code",
   "execution_count": null,
   "metadata": {},
   "outputs": [],
   "source": [
    "repo_df = get_repo_labels(repo_df, repo_output_path, rates_df)"
   ]
  },
  {
   "cell_type": "code",
   "execution_count": null,
   "metadata": {},
   "outputs": [],
   "source": [
    "repo_df = get_repo_tags(repo_df, repo_output_path, rates_df)"
   ]
  },
  {
   "cell_type": "code",
   "execution_count": null,
   "metadata": {},
   "outputs": [],
   "source": [
    "commits_df = get_repos_commits(repo_df, '../private_data/search_tagged_dh_repos_commits.csv', rates_df)"
   ]
  },
  {
   "cell_type": "markdown",
   "metadata": {},
   "source": [
    "### Date of Repo Creation"
   ]
  },
  {
   "cell_type": "code",
   "execution_count": null,
   "metadata": {},
   "outputs": [],
   "source": [
    "alt.Chart(repo_df).mark_bar().encode(\n",
    "    x=alt.X(\"yearmonth(created_at):T\", axis=alt.Axis(title=\"Date\")),\n",
    "    y=alt.Y(\"count()\", axis=alt.Axis(title=\"\")),\n",
    "    color=alt.Color(\"yearmonth(created_at):T\", legend=None, scale=alt.Scale(scheme='plasma')),\n",
    ").properties(\n",
    "    title=\"Frequency of DH Topic Repositories Created by Year and Month\",\n",
    ")"
   ]
  },
  {
   "cell_type": "code",
   "execution_count": null,
   "metadata": {},
   "outputs": [],
   "source": [
    "subset_df = repo_df[['forks_count', 'stargazers_count', 'watchers_count', 'size', 'html_url', 'created_at', 'full_name']]"
   ]
  },
  {
   "cell_type": "code",
   "execution_count": null,
   "metadata": {},
   "outputs": [],
   "source": [
    "subset_df['year'] = pd.to_datetime(subset_df['created_at']).dt.strftime('%Y')"
   ]
  },
  {
   "cell_type": "code",
   "execution_count": null,
   "metadata": {},
   "outputs": [],
   "source": [
    "cols = ['forks_count', 'stargazers_count', 'watchers_count', 'size']\n",
    "reverse_cols = cols[::-1]"
   ]
  },
  {
   "cell_type": "code",
   "execution_count": null,
   "metadata": {},
   "outputs": [],
   "source": [
    "alt.Chart(subset_df).mark_circle().encode(\n",
    "    alt.X(alt.repeat(\"column\"), type='quantitative'),\n",
    "    alt.Y(alt.repeat(\"row\"), type='quantitative'),\n",
    "    color=alt.Color('year:N', scale=alt.Scale(scheme='plasma')),\n",
    "    tooltip=['year:N', 'html_url:N', 'created_at:N', 'full_name:N'] \n",
    ").properties(\n",
    "    width=125,\n",
    "    height=125\n",
    ").repeat(\n",
    "    row=cols,\n",
    "    column=reverse_cols\n",
    ")"
   ]
  },
  {
   "cell_type": "code",
   "execution_count": null,
   "metadata": {},
   "outputs": [],
   "source": [
    "alt.Chart(repo_df).mark_bar().encode(\n",
    "    y='count()',\n",
    "    x='forks',\n",
    ")"
   ]
  },
  {
   "cell_type": "code",
   "execution_count": null,
   "metadata": {},
   "outputs": [],
   "source": [
    "alt.Chart(repo_df).mark_bar().encode(\n",
    "    y='count()',\n",
    "    x='stargazers_count',\n",
    ")"
   ]
  },
  {
   "cell_type": "code",
   "execution_count": null,
   "metadata": {},
   "outputs": [],
   "source": []
  }
 ],
 "metadata": {
  "interpreter": {
   "hash": "f9535a2d3234831e7216b5503226355d93b43b15e5931e93b3445b413875c708"
  },
  "kernelspec": {
   "display_name": "Python 3.9.10 ('values_and_versions_env')",
   "language": "python",
   "name": "python3"
  },
  "language_info": {
   "codemirror_mode": {
    "name": "ipython",
    "version": 3
   },
   "file_extension": ".py",
   "mimetype": "text/x-python",
   "name": "python",
   "nbconvert_exporter": "python",
   "pygments_lexer": "ipython3",
   "version": "3.9.14"
  },
  "orig_nbformat": 4
 },
 "nbformat": 4,
 "nbformat_minor": 2
}
