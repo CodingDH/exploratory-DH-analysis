{
 "cells": [
  {
   "cell_type": "markdown",
   "metadata": {},
   "source": [
    "# Exploring all Github repositories with topic \"digital-humanities\""
   ]
  },
  {
   "cell_type": "markdown",
   "metadata": {},
   "source": [
    "Top level exploration of repositories metadata:\n",
    "- Date of creation\n",
    "  - activity?\n",
    "  - frequency of commits\n",
    "- Number of contributors (tbd)\n",
    "  - number of contributions\n",
    "- Length of description\n",
    "- How many other topics on the repo\n",
    "- What language in the repo\n",
    "- How many forks\n",
    "- How many PRs and how many issues\n",
    "  - frequency of issues\n",
    "- Wikis?"
   ]
  },
  {
   "cell_type": "code",
   "execution_count": 1,
   "metadata": {},
   "outputs": [],
   "source": [
    "import pandas as pd\n",
    "pd.options.mode.chained_assignment = None\n",
    "import altair as alt\n",
    "alt.renderers.enable('mimetype')\n",
    "import os\n",
    "import sys\n",
    "\n",
    "sys.path.append(\"..\")\n",
    "from data_generation_scripts.utils import check_rate_limit, check_return_error_file\n",
    "from data_generation_scripts.generate_search_data import get_initial_repo_df, combine_search_df\n",
    "from data_generation_scripts.generate_repo_metadata import get_repo_languages, get_repo_labels, get_repo_tags, get_repos_user_actors\n",
    "from data_generation_scripts.generate_commits_data import get_repos_commits\n",
    "from data_generation_scripts.generate_contributor_data import get_repo_contributors"
   ]
  },
  {
   "cell_type": "code",
   "execution_count": 2,
   "metadata": {},
   "outputs": [],
   "source": [
    "rates_df = check_rate_limit()"
   ]
  },
  {
   "cell_type": "code",
   "execution_count": 3,
   "metadata": {},
   "outputs": [],
   "source": [
    "initial_output_path = '../data/repo_data/'\n",
    "repo_output_path = '../data/repos_dataset.csv'\n",
    "join_output_path = \"../data/search_queries_join_dataset.csv\"\n",
    "load_existing_data = True\n",
    "repo_df, search_queries_repo_df = get_initial_repo_df(repo_output_path, join_output_path, initial_output_path, rates_df, load_existing_data)\n"
   ]
  },
  {
   "cell_type": "code",
   "execution_count": 4,
   "metadata": {},
   "outputs": [
    {
     "name": "stdout",
     "output_type": "stream",
     "text": [
      "From 41 unique queries with results, we found 2190 repos, of which 2104 are unique.\n"
     ]
    }
   ],
   "source": [
    "print(f\"From {len(search_queries_repo_df['query'].unique())} unique queries with results, we found {len(search_queries_repo_df)} repos, of which {len(repo_df)} are unique.\")"
   ]
  },
  {
   "cell_type": "markdown",
   "metadata": {},
   "source": [
    "### Explore distribution of search results\n",
    "How often do users tag and how often do they not tag their repos DH?\n",
    "\n",
    "*Also worth noting we don't grab DH even though that's likely to be a common term*"
   ]
  },
  {
   "cell_type": "code",
   "execution_count": 5,
   "metadata": {},
   "outputs": [],
   "source": [
    "all_queries = search_queries_repo_df['query'].unique().tolist()\n",
    "final_queries = []\n",
    "for query in all_queries:\n",
    "    if 'topic' in query:\n",
    "        cleaned_query = query.split('topic')[-1].split('&')[0].replace(':', '').replace('%3A', '').replace('-',' ') + ' (topic)'\n",
    "    if 'topic' not in query:\n",
    "        cleaned_query = query.split('?q=')[-1].split('%22+created')[0].split('&per_page')[0].replace('%22', '').replace('+', ' ') + ' (search)'\n",
    "    final_queries.append({'query': query, 'cleaned_query': cleaned_query})\n",
    "final_queries_df = pd.DataFrame(final_queries)\n",
    "combined_queries = pd.merge(search_queries_repo_df, final_queries_df, on='query', how='left')\n",
    "    "
   ]
  },
  {
   "cell_type": "code",
   "execution_count": 6,
   "metadata": {},
   "outputs": [],
   "source": [
    "queries_distribution = combined_queries.cleaned_query.value_counts().rename_axis('queries').reset_index(name='counts')"
   ]
  },
  {
   "cell_type": "code",
   "execution_count": 7,
   "metadata": {},
   "outputs": [],
   "source": [
    "import json\n",
    "import codecs\n",
    "dh_df = pd.DataFrame([json.load(codecs.open('../data/en.Digital humanities.json', 'r', 'utf-8-sig'))])\n",
    "dh_df = dh_df.melt()\n",
    "dh_df.columns = ['language', 'dh_term']\n",
    "# Combine German and English terms because of identical spelling (should maybe make this a programatic check)\n",
    "dh_df.loc[dh_df.language == 'de', 'language'] = 'de_en'"
   ]
  },
  {
   "cell_type": "code",
   "execution_count": 8,
   "metadata": {},
   "outputs": [],
   "source": [
    "dh_df_topics = dh_df.copy()\n",
    "dh_df_search = dh_df.copy()\n",
    "dh_df_topics['queries'] = dh_df_topics['dh_term'] + ' (topic)'\n",
    "dh_df_search['queries'] = dh_df_search['dh_term'] + ' (search)'\n",
    "\n",
    "dh_df_topics = dh_df_topics.drop(columns=['dh_term'])\n",
    "dh_df_search = dh_df_search.drop(columns=['dh_term'])\n",
    "concat_dh_df = pd.concat([dh_df_topics, dh_df_search])"
   ]
  },
  {
   "cell_type": "code",
   "execution_count": 9,
   "metadata": {},
   "outputs": [],
   "source": [
    "merged_df = pd.merge(queries_distribution, concat_dh_df, on='queries', how='outer')"
   ]
  },
  {
   "cell_type": "code",
   "execution_count": 10,
   "metadata": {},
   "outputs": [],
   "source": [
    "merged_df.counts.fillna(0, inplace=True)"
   ]
  },
  {
   "cell_type": "code",
   "execution_count": 11,
   "metadata": {},
   "outputs": [],
   "source": [
    "merged_df.loc[merged_df.queries == 'digital humanities (topic)', 'language'] = 'de_en'\n",
    "merged_df.loc[merged_df.queries == 'humanidades digitales (topic)', 'language'] = 'es'\n",
    "merged_df.loc[merged_df.queries == 'humanites numeriques (topic)', 'language'] = 'fr'\n",
    "merged_df.loc[merged_df.queries == 'digital humanities centers (topic)', 'language'] = 'de_en'\n",
    "merged_df.loc[merged_df.queries == 'digital public humanities (topic)', 'language'] = 'de_en'"
   ]
  },
  {
   "cell_type": "code",
   "execution_count": 12,
   "metadata": {},
   "outputs": [],
   "source": [
    "\n",
    "lang_options = pd.read_csv('../data/repo_data/iso_639_choices.csv')"
   ]
  },
  {
   "cell_type": "code",
   "execution_count": 13,
   "metadata": {},
   "outputs": [],
   "source": [
    "merged_df = pd.merge(merged_df, lang_options, on='language', how='left')"
   ]
  },
  {
   "cell_type": "code",
   "execution_count": 14,
   "metadata": {},
   "outputs": [],
   "source": [
    "merged_df.loc[merged_df.language == 'sh', 'name'] = 'Serbo-Croatian'\n",
    "merged_df.loc[merged_df.language == 'de_en', 'name'] = 'German and English'"
   ]
  },
  {
   "cell_type": "code",
   "execution_count": 15,
   "metadata": {},
   "outputs": [
    {
     "data": {
      "application/vnd.vegalite.v4+json": {
       "$schema": "https://vega.github.io/schema/vega-lite/v4.8.1.json",
       "config": {
        "view": {
         "continuousHeight": 300,
         "continuousWidth": 400
        }
       },
       "datasets": {
        "data-4adfb8243bd496e9d462e64c4f459755": [
         {
          "counts": 60,
          "language": "it",
          "name": "Italian",
          "queries": "Informatica umanistica (search)"
         },
         {
          "counts": 43,
          "language": "es",
          "name": "Spanish; Castilian",
          "queries": "Humanidades digitales (search)"
         },
         {
          "counts": 31,
          "language": "fr",
          "name": "French",
          "queries": "Humanités numériques (search)"
         },
         {
          "counts": 8,
          "language": "es",
          "name": "Spanish; Castilian",
          "queries": "humanidades digitales (topic)"
         },
         {
          "counts": 3,
          "language": "sv",
          "name": "Swedish",
          "queries": "Digital humaniora (search)"
         },
         {
          "counts": 2,
          "language": "ko",
          "name": "Korean",
          "queries": "디지털 인문학 (search)"
         },
         {
          "counts": 1,
          "language": "de_en",
          "name": "German and English",
          "queries": "digital humanities centers (topic)"
         },
         {
          "counts": 1,
          "language": "ru",
          "name": "Russian",
          "queries": "Цифровые гуманитарные науки (search)"
         },
         {
          "counts": 1,
          "language": "fi",
          "name": "Finnish",
          "queries": "Digitaaliset ihmistieteet (search)"
         },
         {
          "counts": 1,
          "language": "de_en",
          "name": "German and English",
          "queries": "digital public humanities (topic)"
         },
         {
          "counts": 1,
          "language": "fr",
          "name": "French",
          "queries": "humanites numeriques (topic)"
         },
         {
          "counts": 0,
          "language": "ru",
          "name": "Russian",
          "queries": "Цифровые гуманитарные науки (topic)"
         },
         {
          "counts": 0,
          "language": "fr",
          "name": "French",
          "queries": "Humanités numériques (topic)"
         },
         {
          "counts": 0,
          "language": "la",
          "name": "Latin",
          "queries": "Humanitates digitales (topic)"
         },
         {
          "counts": 0,
          "language": "ta",
          "name": "Tamil",
          "queries": "எண்ணிம மனிதவியல் (topic)"
         },
         {
          "counts": 0,
          "language": "ca",
          "name": "Catalan; Valencian",
          "queries": "Humanitats digitals (topic)"
         },
         {
          "counts": 0,
          "language": "de_en",
          "name": "German and English",
          "queries": "Digital Humanities (topic)"
         },
         {
          "counts": 0,
          "language": "ko",
          "name": "Korean",
          "queries": "디지털 인문학 (topic)"
         },
         {
          "counts": 0,
          "language": "it",
          "name": "Italian",
          "queries": "Informatica umanistica (topic)"
         },
         {
          "counts": 0,
          "language": "sh",
          "name": "Serbo-Croatian",
          "queries": "Дигиталне хуманистичке науке (topic)"
         },
         {
          "counts": 0,
          "language": "cy",
          "name": "Welsh",
          "queries": "Dyniaethau digidol (topic)"
         },
         {
          "counts": 0,
          "language": "ar",
          "name": "Arabic",
          "queries": "إنسانيات رقمية (topic)"
         },
         {
          "counts": 0,
          "language": "th",
          "name": "Thai",
          "queries": "มนุษยศาสตร์ดิจิทัล (topic)"
         },
         {
          "counts": 0,
          "language": "sl",
          "name": "Slovene",
          "queries": "Digitalna humanistika (topic)"
         },
         {
          "counts": 0,
          "language": "fi",
          "name": "Finnish",
          "queries": "Digitaaliset ihmistieteet (topic)"
         },
         {
          "counts": 0,
          "language": "sv",
          "name": "Swedish",
          "queries": "Digital humaniora (topic)"
         },
         {
          "counts": 0,
          "language": "ja",
          "name": "Japanese",
          "queries": "デジタル・ヒューマニティーズ (topic)"
         },
         {
          "counts": 0,
          "language": "es",
          "name": "Spanish; Castilian",
          "queries": "Humanidades digitales (topic)"
         },
         {
          "counts": 0,
          "language": "he",
          "name": "Hebrew (modern)",
          "queries": "מדעי הרוח הדיגיטליים (topic)"
         },
         {
          "counts": 0,
          "language": "la",
          "name": "Latin",
          "queries": "Humanitates digitales (search)"
         },
         {
          "counts": 0,
          "language": "ta",
          "name": "Tamil",
          "queries": "எண்ணிம மனிதவியல் (search)"
         },
         {
          "counts": 0,
          "language": "ca",
          "name": "Catalan; Valencian",
          "queries": "Humanitats digitals (search)"
         },
         {
          "counts": 0,
          "language": "sh",
          "name": "Serbo-Croatian",
          "queries": "Дигиталне хуманистичке науке (search)"
         },
         {
          "counts": 0,
          "language": "cy",
          "name": "Welsh",
          "queries": "Dyniaethau digidol (search)"
         },
         {
          "counts": 0,
          "language": "ar",
          "name": "Arabic",
          "queries": "إنسانيات رقمية (search)"
         },
         {
          "counts": 0,
          "language": "th",
          "name": "Thai",
          "queries": "มนุษยศาสตร์ดิจิทัล (search)"
         },
         {
          "counts": 0,
          "language": "sl",
          "name": "Slovene",
          "queries": "Digitalna humanistika (search)"
         },
         {
          "counts": 0,
          "language": "ja",
          "name": "Japanese",
          "queries": "デジタル・ヒューマニティーズ (search)"
         },
         {
          "counts": 0,
          "language": "he",
          "name": "Hebrew (modern)",
          "queries": "מדעי הרוח הדיגיטליים (search)"
         }
        ],
        "data-c0a0a0dd4937d44ffb8dbe1dd3168546": [
         {
          "counts": 1389,
          "language": "de_en",
          "name": "German and English",
          "queries": "Digital Humanities (search)"
         },
         {
          "counts": 649,
          "language": "de_en",
          "name": "German and English",
          "queries": "digital humanities (topic)"
         },
         {
          "counts": 60,
          "language": "it",
          "name": "Italian",
          "queries": "Informatica umanistica (search)"
         },
         {
          "counts": 43,
          "language": "es",
          "name": "Spanish; Castilian",
          "queries": "Humanidades digitales (search)"
         },
         {
          "counts": 31,
          "language": "fr",
          "name": "French",
          "queries": "Humanités numériques (search)"
         },
         {
          "counts": 8,
          "language": "es",
          "name": "Spanish; Castilian",
          "queries": "humanidades digitales (topic)"
         },
         {
          "counts": 3,
          "language": "sv",
          "name": "Swedish",
          "queries": "Digital humaniora (search)"
         },
         {
          "counts": 2,
          "language": "ko",
          "name": "Korean",
          "queries": "디지털 인문학 (search)"
         },
         {
          "counts": 1,
          "language": "de_en",
          "name": "German and English",
          "queries": "digital humanities centers (topic)"
         },
         {
          "counts": 1,
          "language": "ru",
          "name": "Russian",
          "queries": "Цифровые гуманитарные науки (search)"
         },
         {
          "counts": 1,
          "language": "fi",
          "name": "Finnish",
          "queries": "Digitaaliset ihmistieteet (search)"
         },
         {
          "counts": 1,
          "language": "de_en",
          "name": "German and English",
          "queries": "digital public humanities (topic)"
         },
         {
          "counts": 1,
          "language": "fr",
          "name": "French",
          "queries": "humanites numeriques (topic)"
         },
         {
          "counts": 0,
          "language": "ru",
          "name": "Russian",
          "queries": "Цифровые гуманитарные науки (topic)"
         },
         {
          "counts": 0,
          "language": "fr",
          "name": "French",
          "queries": "Humanités numériques (topic)"
         },
         {
          "counts": 0,
          "language": "la",
          "name": "Latin",
          "queries": "Humanitates digitales (topic)"
         },
         {
          "counts": 0,
          "language": "ta",
          "name": "Tamil",
          "queries": "எண்ணிம மனிதவியல் (topic)"
         },
         {
          "counts": 0,
          "language": "ca",
          "name": "Catalan; Valencian",
          "queries": "Humanitats digitals (topic)"
         },
         {
          "counts": 0,
          "language": "de_en",
          "name": "German and English",
          "queries": "Digital Humanities (topic)"
         },
         {
          "counts": 0,
          "language": "ko",
          "name": "Korean",
          "queries": "디지털 인문학 (topic)"
         },
         {
          "counts": 0,
          "language": "it",
          "name": "Italian",
          "queries": "Informatica umanistica (topic)"
         },
         {
          "counts": 0,
          "language": "sh",
          "name": "Serbo-Croatian",
          "queries": "Дигиталне хуманистичке науке (topic)"
         },
         {
          "counts": 0,
          "language": "cy",
          "name": "Welsh",
          "queries": "Dyniaethau digidol (topic)"
         },
         {
          "counts": 0,
          "language": "ar",
          "name": "Arabic",
          "queries": "إنسانيات رقمية (topic)"
         },
         {
          "counts": 0,
          "language": "th",
          "name": "Thai",
          "queries": "มนุษยศาสตร์ดิจิทัล (topic)"
         },
         {
          "counts": 0,
          "language": "sl",
          "name": "Slovene",
          "queries": "Digitalna humanistika (topic)"
         },
         {
          "counts": 0,
          "language": "fi",
          "name": "Finnish",
          "queries": "Digitaaliset ihmistieteet (topic)"
         },
         {
          "counts": 0,
          "language": "sv",
          "name": "Swedish",
          "queries": "Digital humaniora (topic)"
         },
         {
          "counts": 0,
          "language": "ja",
          "name": "Japanese",
          "queries": "デジタル・ヒューマニティーズ (topic)"
         },
         {
          "counts": 0,
          "language": "es",
          "name": "Spanish; Castilian",
          "queries": "Humanidades digitales (topic)"
         },
         {
          "counts": 0,
          "language": "he",
          "name": "Hebrew (modern)",
          "queries": "מדעי הרוח הדיגיטליים (topic)"
         },
         {
          "counts": 0,
          "language": "la",
          "name": "Latin",
          "queries": "Humanitates digitales (search)"
         },
         {
          "counts": 0,
          "language": "ta",
          "name": "Tamil",
          "queries": "எண்ணிம மனிதவியல் (search)"
         },
         {
          "counts": 0,
          "language": "ca",
          "name": "Catalan; Valencian",
          "queries": "Humanitats digitals (search)"
         },
         {
          "counts": 0,
          "language": "sh",
          "name": "Serbo-Croatian",
          "queries": "Дигиталне хуманистичке науке (search)"
         },
         {
          "counts": 0,
          "language": "cy",
          "name": "Welsh",
          "queries": "Dyniaethau digidol (search)"
         },
         {
          "counts": 0,
          "language": "ar",
          "name": "Arabic",
          "queries": "إنسانيات رقمية (search)"
         },
         {
          "counts": 0,
          "language": "th",
          "name": "Thai",
          "queries": "มนุษยศาสตร์ดิจิทัล (search)"
         },
         {
          "counts": 0,
          "language": "sl",
          "name": "Slovene",
          "queries": "Digitalna humanistika (search)"
         },
         {
          "counts": 0,
          "language": "ja",
          "name": "Japanese",
          "queries": "デジタル・ヒューマニティーズ (search)"
         },
         {
          "counts": 0,
          "language": "he",
          "name": "Hebrew (modern)",
          "queries": "מדעי הרוח הדיגיטליים (search)"
         }
        ]
       },
       "hconcat": [
        {
         "data": {
          "name": "data-c0a0a0dd4937d44ffb8dbe1dd3168546"
         },
         "encoding": {
          "color": {
           "field": "name",
           "legend": {
            "title": "Language"
           },
           "scale": {
            "scheme": "plasma"
           },
           "type": "nominal"
          },
          "x": {
           "field": "counts",
           "type": "quantitative"
          },
          "y": {
           "field": "queries",
           "sort": "-x",
           "type": "nominal"
          }
         },
         "mark": "bar"
        },
        {
         "data": {
          "name": "data-4adfb8243bd496e9d462e64c4f459755"
         },
         "encoding": {
          "color": {
           "field": "name",
           "legend": {
            "title": "Language"
           },
           "scale": {
            "scheme": "plasma"
           },
           "type": "nominal"
          },
          "x": {
           "field": "counts",
           "type": "quantitative"
          },
          "y": {
           "field": "queries",
           "sort": "-x",
           "type": "nominal"
          }
         },
         "mark": "bar"
        }
       ]
      },
      "text/plain": [
       "<VegaLite 4 object>\n",
       "\n",
       "If you see this message, it means the renderer has not been properly enabled\n",
       "for the frontend that you are using. For more information, see\n",
       "https://altair-viz.github.io/user_guide/troubleshooting.html\n"
      ]
     },
     "execution_count": 15,
     "metadata": {},
     "output_type": "execute_result"
    }
   ],
   "source": [
    "all_data = alt.Chart(merged_df).mark_bar().encode(\n",
    "    y=alt.Y('queries', sort='-x'),\n",
    "    x='counts',\n",
    "    color=alt.Color('name', scale=alt.Scale(scheme='plasma'), legend=alt.Legend(title='Language'))\n",
    ")\n",
    "\n",
    "non_eng = alt.Chart(merged_df[merged_df.counts < 500]).mark_bar().encode(\n",
    "    y=alt.Y('queries', sort='-x'),\n",
    "    x='counts',\n",
    "    color=alt.Color('name', scale=alt.Scale(scheme='plasma'), legend=alt.Legend(title='Language'))\n",
    ")\n",
    "\n",
    "all_data | non_eng"
   ]
  },
  {
   "cell_type": "markdown",
   "metadata": {},
   "source": [
    "#### Explore cooccurrence of terms"
   ]
  },
  {
   "cell_type": "code",
   "execution_count": 16,
   "metadata": {},
   "outputs": [],
   "source": [
    "grouped_repos = combined_queries.groupby('full_name').size().reset_index(name='counts').sort_values('counts', ascending=False)\n",
    "grouped_list = grouped_repos[grouped_repos['counts'] > 1].full_name.tolist()\n",
    "freq_queries = combined_queries[combined_queries['full_name'].isin(grouped_list)].groupby('full_name')['cleaned_query'].apply(list).reset_index()"
   ]
  },
  {
   "cell_type": "code",
   "execution_count": 17,
   "metadata": {},
   "outputs": [],
   "source": [
    "exploded_df = freq_queries.explode('cleaned_query')\n",
    "grouped_exploded = exploded_df.groupby(['full_name','cleaned_query']).size().reset_index(name='val')\n",
    "pivoted_df = grouped_exploded.pivot(index='full_name', columns='cleaned_query', values='val').fillna(0).astype(int)\n",
    "final_df = pivoted_df.T.dot(pivoted_df)"
   ]
  },
  {
   "cell_type": "code",
   "execution_count": 18,
   "metadata": {},
   "outputs": [],
   "source": [
    "reset_final = final_df.reset_index().rename_axis(None, axis=1)\n",
    "cols = reset_final.columns\n",
    "cols = cols[1:]\n",
    "melted_df = pd.melt(reset_final, id_vars=['cleaned_query'], value_vars=cols)"
   ]
  },
  {
   "cell_type": "code",
   "execution_count": 19,
   "metadata": {},
   "outputs": [
    {
     "data": {
      "application/vnd.vegalite.v4+json": {
       "$schema": "https://vega.github.io/schema/vega-lite/v4.8.1.json",
       "config": {
        "view": {
         "continuousHeight": 300,
         "continuousWidth": 400
        }
       },
       "datasets": {
        "data-43fc080a1be2de979b229f9c99c357f8": [
         {
          "cleaned_query": "Digital Humanities (search)",
          "value": 87,
          "variable": "Digital Humanities (search)"
         },
         {
          "cleaned_query": "Humanidades digitales (search)",
          "value": 0,
          "variable": "Digital Humanities (search)"
         },
         {
          "cleaned_query": "Humanités numériques (search)",
          "value": 0,
          "variable": "Digital Humanities (search)"
         },
         {
          "cleaned_query": "digital humanities (topic)",
          "value": 72,
          "variable": "Digital Humanities (search)"
         },
         {
          "cleaned_query": "digital humanities centers (topic)",
          "value": 1,
          "variable": "Digital Humanities (search)"
         },
         {
          "cleaned_query": "digital public humanities (topic)",
          "value": 1,
          "variable": "Digital Humanities (search)"
         },
         {
          "cleaned_query": "humanidades digitales (topic)",
          "value": 0,
          "variable": "Digital Humanities (search)"
         },
         {
          "cleaned_query": "humanites numeriques (topic)",
          "value": 0,
          "variable": "Digital Humanities (search)"
         },
         {
          "cleaned_query": "디지털 인문학 (search)",
          "value": 2,
          "variable": "Digital Humanities (search)"
         },
         {
          "cleaned_query": "Digital Humanities (search)",
          "value": 0,
          "variable": "Humanidades digitales (search)"
         },
         {
          "cleaned_query": "Humanidades digitales (search)",
          "value": 2,
          "variable": "Humanidades digitales (search)"
         },
         {
          "cleaned_query": "Humanités numériques (search)",
          "value": 0,
          "variable": "Humanidades digitales (search)"
         },
         {
          "cleaned_query": "digital humanities (topic)",
          "value": 1,
          "variable": "Humanidades digitales (search)"
         },
         {
          "cleaned_query": "digital humanities centers (topic)",
          "value": 0,
          "variable": "Humanidades digitales (search)"
         },
         {
          "cleaned_query": "digital public humanities (topic)",
          "value": 0,
          "variable": "Humanidades digitales (search)"
         },
         {
          "cleaned_query": "humanidades digitales (topic)",
          "value": 1,
          "variable": "Humanidades digitales (search)"
         },
         {
          "cleaned_query": "humanites numeriques (topic)",
          "value": 0,
          "variable": "Humanidades digitales (search)"
         },
         {
          "cleaned_query": "디지털 인문학 (search)",
          "value": 0,
          "variable": "Humanidades digitales (search)"
         },
         {
          "cleaned_query": "Digital Humanities (search)",
          "value": 0,
          "variable": "Humanités numériques (search)"
         },
         {
          "cleaned_query": "Humanidades digitales (search)",
          "value": 0,
          "variable": "Humanités numériques (search)"
         },
         {
          "cleaned_query": "Humanités numériques (search)",
          "value": 1,
          "variable": "Humanités numériques (search)"
         },
         {
          "cleaned_query": "digital humanities (topic)",
          "value": 1,
          "variable": "Humanités numériques (search)"
         },
         {
          "cleaned_query": "digital humanities centers (topic)",
          "value": 0,
          "variable": "Humanités numériques (search)"
         },
         {
          "cleaned_query": "digital public humanities (topic)",
          "value": 0,
          "variable": "Humanités numériques (search)"
         },
         {
          "cleaned_query": "humanidades digitales (topic)",
          "value": 0,
          "variable": "Humanités numériques (search)"
         },
         {
          "cleaned_query": "humanites numeriques (topic)",
          "value": 1,
          "variable": "Humanités numériques (search)"
         },
         {
          "cleaned_query": "디지털 인문학 (search)",
          "value": 0,
          "variable": "Humanités numériques (search)"
         },
         {
          "cleaned_query": "Digital Humanities (search)",
          "value": 72,
          "variable": "digital humanities (topic)"
         },
         {
          "cleaned_query": "Humanidades digitales (search)",
          "value": 1,
          "variable": "digital humanities (topic)"
         },
         {
          "cleaned_query": "Humanités numériques (search)",
          "value": 1,
          "variable": "digital humanities (topic)"
         },
         {
          "cleaned_query": "digital humanities (topic)",
          "value": 77,
          "variable": "digital humanities (topic)"
         },
         {
          "cleaned_query": "digital humanities centers (topic)",
          "value": 0,
          "variable": "digital humanities (topic)"
         },
         {
          "cleaned_query": "digital public humanities (topic)",
          "value": 1,
          "variable": "digital humanities (topic)"
         },
         {
          "cleaned_query": "humanidades digitales (topic)",
          "value": 3,
          "variable": "digital humanities (topic)"
         },
         {
          "cleaned_query": "humanites numeriques (topic)",
          "value": 1,
          "variable": "digital humanities (topic)"
         },
         {
          "cleaned_query": "디지털 인문학 (search)",
          "value": 0,
          "variable": "digital humanities (topic)"
         },
         {
          "cleaned_query": "Digital Humanities (search)",
          "value": 1,
          "variable": "digital humanities centers (topic)"
         },
         {
          "cleaned_query": "Humanidades digitales (search)",
          "value": 0,
          "variable": "digital humanities centers (topic)"
         },
         {
          "cleaned_query": "Humanités numériques (search)",
          "value": 0,
          "variable": "digital humanities centers (topic)"
         },
         {
          "cleaned_query": "digital humanities (topic)",
          "value": 0,
          "variable": "digital humanities centers (topic)"
         },
         {
          "cleaned_query": "digital humanities centers (topic)",
          "value": 1,
          "variable": "digital humanities centers (topic)"
         },
         {
          "cleaned_query": "digital public humanities (topic)",
          "value": 0,
          "variable": "digital humanities centers (topic)"
         },
         {
          "cleaned_query": "humanidades digitales (topic)",
          "value": 0,
          "variable": "digital humanities centers (topic)"
         },
         {
          "cleaned_query": "humanites numeriques (topic)",
          "value": 0,
          "variable": "digital humanities centers (topic)"
         },
         {
          "cleaned_query": "디지털 인문학 (search)",
          "value": 0,
          "variable": "digital humanities centers (topic)"
         },
         {
          "cleaned_query": "Digital Humanities (search)",
          "value": 1,
          "variable": "digital public humanities (topic)"
         },
         {
          "cleaned_query": "Humanidades digitales (search)",
          "value": 0,
          "variable": "digital public humanities (topic)"
         },
         {
          "cleaned_query": "Humanités numériques (search)",
          "value": 0,
          "variable": "digital public humanities (topic)"
         },
         {
          "cleaned_query": "digital humanities (topic)",
          "value": 1,
          "variable": "digital public humanities (topic)"
         },
         {
          "cleaned_query": "digital humanities centers (topic)",
          "value": 0,
          "variable": "digital public humanities (topic)"
         },
         {
          "cleaned_query": "digital public humanities (topic)",
          "value": 1,
          "variable": "digital public humanities (topic)"
         },
         {
          "cleaned_query": "humanidades digitales (topic)",
          "value": 0,
          "variable": "digital public humanities (topic)"
         },
         {
          "cleaned_query": "humanites numeriques (topic)",
          "value": 0,
          "variable": "digital public humanities (topic)"
         },
         {
          "cleaned_query": "디지털 인문학 (search)",
          "value": 0,
          "variable": "digital public humanities (topic)"
         },
         {
          "cleaned_query": "Digital Humanities (search)",
          "value": 0,
          "variable": "humanidades digitales (topic)"
         },
         {
          "cleaned_query": "Humanidades digitales (search)",
          "value": 1,
          "variable": "humanidades digitales (topic)"
         },
         {
          "cleaned_query": "Humanités numériques (search)",
          "value": 0,
          "variable": "humanidades digitales (topic)"
         },
         {
          "cleaned_query": "digital humanities (topic)",
          "value": 3,
          "variable": "humanidades digitales (topic)"
         },
         {
          "cleaned_query": "digital humanities centers (topic)",
          "value": 0,
          "variable": "humanidades digitales (topic)"
         },
         {
          "cleaned_query": "digital public humanities (topic)",
          "value": 0,
          "variable": "humanidades digitales (topic)"
         },
         {
          "cleaned_query": "humanidades digitales (topic)",
          "value": 4,
          "variable": "humanidades digitales (topic)"
         },
         {
          "cleaned_query": "humanites numeriques (topic)",
          "value": 0,
          "variable": "humanidades digitales (topic)"
         },
         {
          "cleaned_query": "디지털 인문학 (search)",
          "value": 0,
          "variable": "humanidades digitales (topic)"
         },
         {
          "cleaned_query": "Digital Humanities (search)",
          "value": 0,
          "variable": "humanites numeriques (topic)"
         },
         {
          "cleaned_query": "Humanidades digitales (search)",
          "value": 0,
          "variable": "humanites numeriques (topic)"
         },
         {
          "cleaned_query": "Humanités numériques (search)",
          "value": 1,
          "variable": "humanites numeriques (topic)"
         },
         {
          "cleaned_query": "digital humanities (topic)",
          "value": 1,
          "variable": "humanites numeriques (topic)"
         },
         {
          "cleaned_query": "digital humanities centers (topic)",
          "value": 0,
          "variable": "humanites numeriques (topic)"
         },
         {
          "cleaned_query": "digital public humanities (topic)",
          "value": 0,
          "variable": "humanites numeriques (topic)"
         },
         {
          "cleaned_query": "humanidades digitales (topic)",
          "value": 0,
          "variable": "humanites numeriques (topic)"
         },
         {
          "cleaned_query": "humanites numeriques (topic)",
          "value": 1,
          "variable": "humanites numeriques (topic)"
         },
         {
          "cleaned_query": "디지털 인문학 (search)",
          "value": 0,
          "variable": "humanites numeriques (topic)"
         },
         {
          "cleaned_query": "Digital Humanities (search)",
          "value": 2,
          "variable": "디지털 인문학 (search)"
         },
         {
          "cleaned_query": "Humanidades digitales (search)",
          "value": 0,
          "variable": "디지털 인문학 (search)"
         },
         {
          "cleaned_query": "Humanités numériques (search)",
          "value": 0,
          "variable": "디지털 인문학 (search)"
         },
         {
          "cleaned_query": "digital humanities (topic)",
          "value": 0,
          "variable": "디지털 인문학 (search)"
         },
         {
          "cleaned_query": "digital humanities centers (topic)",
          "value": 0,
          "variable": "디지털 인문학 (search)"
         },
         {
          "cleaned_query": "digital public humanities (topic)",
          "value": 0,
          "variable": "디지털 인문학 (search)"
         },
         {
          "cleaned_query": "humanidades digitales (topic)",
          "value": 0,
          "variable": "디지털 인문학 (search)"
         },
         {
          "cleaned_query": "humanites numeriques (topic)",
          "value": 0,
          "variable": "디지털 인문학 (search)"
         },
         {
          "cleaned_query": "디지털 인문학 (search)",
          "value": 2,
          "variable": "디지털 인문학 (search)"
         }
        ],
        "data-ec4736e0cacc988a58a5f109a46b4a1f": [
         {
          "cleaned_query": "Humanidades digitales (search)",
          "value": 0,
          "variable": "Digital Humanities (search)"
         },
         {
          "cleaned_query": "Humanités numériques (search)",
          "value": 0,
          "variable": "Digital Humanities (search)"
         },
         {
          "cleaned_query": "digital humanities centers (topic)",
          "value": 1,
          "variable": "Digital Humanities (search)"
         },
         {
          "cleaned_query": "digital public humanities (topic)",
          "value": 1,
          "variable": "Digital Humanities (search)"
         },
         {
          "cleaned_query": "humanidades digitales (topic)",
          "value": 0,
          "variable": "Digital Humanities (search)"
         },
         {
          "cleaned_query": "humanites numeriques (topic)",
          "value": 0,
          "variable": "Digital Humanities (search)"
         },
         {
          "cleaned_query": "디지털 인문학 (search)",
          "value": 2,
          "variable": "Digital Humanities (search)"
         },
         {
          "cleaned_query": "Digital Humanities (search)",
          "value": 0,
          "variable": "Humanidades digitales (search)"
         },
         {
          "cleaned_query": "Humanidades digitales (search)",
          "value": 2,
          "variable": "Humanidades digitales (search)"
         },
         {
          "cleaned_query": "Humanités numériques (search)",
          "value": 0,
          "variable": "Humanidades digitales (search)"
         },
         {
          "cleaned_query": "digital humanities (topic)",
          "value": 1,
          "variable": "Humanidades digitales (search)"
         },
         {
          "cleaned_query": "digital humanities centers (topic)",
          "value": 0,
          "variable": "Humanidades digitales (search)"
         },
         {
          "cleaned_query": "digital public humanities (topic)",
          "value": 0,
          "variable": "Humanidades digitales (search)"
         },
         {
          "cleaned_query": "humanidades digitales (topic)",
          "value": 1,
          "variable": "Humanidades digitales (search)"
         },
         {
          "cleaned_query": "humanites numeriques (topic)",
          "value": 0,
          "variable": "Humanidades digitales (search)"
         },
         {
          "cleaned_query": "디지털 인문학 (search)",
          "value": 0,
          "variable": "Humanidades digitales (search)"
         },
         {
          "cleaned_query": "Digital Humanities (search)",
          "value": 0,
          "variable": "Humanités numériques (search)"
         },
         {
          "cleaned_query": "Humanidades digitales (search)",
          "value": 0,
          "variable": "Humanités numériques (search)"
         },
         {
          "cleaned_query": "Humanités numériques (search)",
          "value": 1,
          "variable": "Humanités numériques (search)"
         },
         {
          "cleaned_query": "digital humanities (topic)",
          "value": 1,
          "variable": "Humanités numériques (search)"
         },
         {
          "cleaned_query": "digital humanities centers (topic)",
          "value": 0,
          "variable": "Humanités numériques (search)"
         },
         {
          "cleaned_query": "digital public humanities (topic)",
          "value": 0,
          "variable": "Humanités numériques (search)"
         },
         {
          "cleaned_query": "humanidades digitales (topic)",
          "value": 0,
          "variable": "Humanités numériques (search)"
         },
         {
          "cleaned_query": "humanites numeriques (topic)",
          "value": 1,
          "variable": "Humanités numériques (search)"
         },
         {
          "cleaned_query": "디지털 인문학 (search)",
          "value": 0,
          "variable": "Humanités numériques (search)"
         },
         {
          "cleaned_query": "Humanidades digitales (search)",
          "value": 1,
          "variable": "digital humanities (topic)"
         },
         {
          "cleaned_query": "Humanités numériques (search)",
          "value": 1,
          "variable": "digital humanities (topic)"
         },
         {
          "cleaned_query": "digital humanities centers (topic)",
          "value": 0,
          "variable": "digital humanities (topic)"
         },
         {
          "cleaned_query": "digital public humanities (topic)",
          "value": 1,
          "variable": "digital humanities (topic)"
         },
         {
          "cleaned_query": "humanidades digitales (topic)",
          "value": 3,
          "variable": "digital humanities (topic)"
         },
         {
          "cleaned_query": "humanites numeriques (topic)",
          "value": 1,
          "variable": "digital humanities (topic)"
         },
         {
          "cleaned_query": "디지털 인문학 (search)",
          "value": 0,
          "variable": "digital humanities (topic)"
         },
         {
          "cleaned_query": "Digital Humanities (search)",
          "value": 1,
          "variable": "digital humanities centers (topic)"
         },
         {
          "cleaned_query": "Humanidades digitales (search)",
          "value": 0,
          "variable": "digital humanities centers (topic)"
         },
         {
          "cleaned_query": "Humanités numériques (search)",
          "value": 0,
          "variable": "digital humanities centers (topic)"
         },
         {
          "cleaned_query": "digital humanities (topic)",
          "value": 0,
          "variable": "digital humanities centers (topic)"
         },
         {
          "cleaned_query": "digital humanities centers (topic)",
          "value": 1,
          "variable": "digital humanities centers (topic)"
         },
         {
          "cleaned_query": "digital public humanities (topic)",
          "value": 0,
          "variable": "digital humanities centers (topic)"
         },
         {
          "cleaned_query": "humanidades digitales (topic)",
          "value": 0,
          "variable": "digital humanities centers (topic)"
         },
         {
          "cleaned_query": "humanites numeriques (topic)",
          "value": 0,
          "variable": "digital humanities centers (topic)"
         },
         {
          "cleaned_query": "디지털 인문학 (search)",
          "value": 0,
          "variable": "digital humanities centers (topic)"
         },
         {
          "cleaned_query": "Digital Humanities (search)",
          "value": 1,
          "variable": "digital public humanities (topic)"
         },
         {
          "cleaned_query": "Humanidades digitales (search)",
          "value": 0,
          "variable": "digital public humanities (topic)"
         },
         {
          "cleaned_query": "Humanités numériques (search)",
          "value": 0,
          "variable": "digital public humanities (topic)"
         },
         {
          "cleaned_query": "digital humanities (topic)",
          "value": 1,
          "variable": "digital public humanities (topic)"
         },
         {
          "cleaned_query": "digital humanities centers (topic)",
          "value": 0,
          "variable": "digital public humanities (topic)"
         },
         {
          "cleaned_query": "digital public humanities (topic)",
          "value": 1,
          "variable": "digital public humanities (topic)"
         },
         {
          "cleaned_query": "humanidades digitales (topic)",
          "value": 0,
          "variable": "digital public humanities (topic)"
         },
         {
          "cleaned_query": "humanites numeriques (topic)",
          "value": 0,
          "variable": "digital public humanities (topic)"
         },
         {
          "cleaned_query": "디지털 인문학 (search)",
          "value": 0,
          "variable": "digital public humanities (topic)"
         },
         {
          "cleaned_query": "Digital Humanities (search)",
          "value": 0,
          "variable": "humanidades digitales (topic)"
         },
         {
          "cleaned_query": "Humanidades digitales (search)",
          "value": 1,
          "variable": "humanidades digitales (topic)"
         },
         {
          "cleaned_query": "Humanités numériques (search)",
          "value": 0,
          "variable": "humanidades digitales (topic)"
         },
         {
          "cleaned_query": "digital humanities (topic)",
          "value": 3,
          "variable": "humanidades digitales (topic)"
         },
         {
          "cleaned_query": "digital humanities centers (topic)",
          "value": 0,
          "variable": "humanidades digitales (topic)"
         },
         {
          "cleaned_query": "digital public humanities (topic)",
          "value": 0,
          "variable": "humanidades digitales (topic)"
         },
         {
          "cleaned_query": "humanidades digitales (topic)",
          "value": 4,
          "variable": "humanidades digitales (topic)"
         },
         {
          "cleaned_query": "humanites numeriques (topic)",
          "value": 0,
          "variable": "humanidades digitales (topic)"
         },
         {
          "cleaned_query": "디지털 인문학 (search)",
          "value": 0,
          "variable": "humanidades digitales (topic)"
         },
         {
          "cleaned_query": "Digital Humanities (search)",
          "value": 0,
          "variable": "humanites numeriques (topic)"
         },
         {
          "cleaned_query": "Humanidades digitales (search)",
          "value": 0,
          "variable": "humanites numeriques (topic)"
         },
         {
          "cleaned_query": "Humanités numériques (search)",
          "value": 1,
          "variable": "humanites numeriques (topic)"
         },
         {
          "cleaned_query": "digital humanities (topic)",
          "value": 1,
          "variable": "humanites numeriques (topic)"
         },
         {
          "cleaned_query": "digital humanities centers (topic)",
          "value": 0,
          "variable": "humanites numeriques (topic)"
         },
         {
          "cleaned_query": "digital public humanities (topic)",
          "value": 0,
          "variable": "humanites numeriques (topic)"
         },
         {
          "cleaned_query": "humanidades digitales (topic)",
          "value": 0,
          "variable": "humanites numeriques (topic)"
         },
         {
          "cleaned_query": "humanites numeriques (topic)",
          "value": 1,
          "variable": "humanites numeriques (topic)"
         },
         {
          "cleaned_query": "디지털 인문학 (search)",
          "value": 0,
          "variable": "humanites numeriques (topic)"
         },
         {
          "cleaned_query": "Digital Humanities (search)",
          "value": 2,
          "variable": "디지털 인문학 (search)"
         },
         {
          "cleaned_query": "Humanidades digitales (search)",
          "value": 0,
          "variable": "디지털 인문학 (search)"
         },
         {
          "cleaned_query": "Humanités numériques (search)",
          "value": 0,
          "variable": "디지털 인문학 (search)"
         },
         {
          "cleaned_query": "digital humanities (topic)",
          "value": 0,
          "variable": "디지털 인문학 (search)"
         },
         {
          "cleaned_query": "digital humanities centers (topic)",
          "value": 0,
          "variable": "디지털 인문학 (search)"
         },
         {
          "cleaned_query": "digital public humanities (topic)",
          "value": 0,
          "variable": "디지털 인문학 (search)"
         },
         {
          "cleaned_query": "humanidades digitales (topic)",
          "value": 0,
          "variable": "디지털 인문학 (search)"
         },
         {
          "cleaned_query": "humanites numeriques (topic)",
          "value": 0,
          "variable": "디지털 인문학 (search)"
         },
         {
          "cleaned_query": "디지털 인문학 (search)",
          "value": 2,
          "variable": "디지털 인문학 (search)"
         }
        ]
       },
       "hconcat": [
        {
         "data": {
          "name": "data-43fc080a1be2de979b229f9c99c357f8"
         },
         "encoding": {
          "color": {
           "field": "value",
           "type": "quantitative"
          },
          "x": {
           "field": "cleaned_query",
           "type": "nominal"
          },
          "y": {
           "field": "variable",
           "type": "nominal"
          }
         },
         "mark": "rect"
        },
        {
         "data": {
          "name": "data-ec4736e0cacc988a58a5f109a46b4a1f"
         },
         "encoding": {
          "color": {
           "field": "value",
           "type": "quantitative"
          },
          "x": {
           "field": "cleaned_query",
           "type": "nominal"
          },
          "y": {
           "field": "variable",
           "type": "nominal"
          }
         },
         "mark": "rect"
        }
       ],
       "resolve": {
        "scale": {
         "color": "independent"
        }
       }
      },
      "text/plain": [
       "<VegaLite 4 object>\n",
       "\n",
       "If you see this message, it means the renderer has not been properly enabled\n",
       "for the frontend that you are using. For more information, see\n",
       "https://altair-viz.github.io/user_guide/troubleshooting.html\n"
      ]
     },
     "execution_count": 19,
     "metadata": {},
     "output_type": "execute_result"
    }
   ],
   "source": [
    "top_results = alt.Chart(melted_df).mark_rect().encode(\n",
    "    x='cleaned_query',\n",
    "    y='variable',\n",
    "    color='value'\n",
    ")\n",
    "\n",
    "rest_results = alt.Chart(melted_df[melted_df.value < 10]).mark_rect().encode(\n",
    "    x='cleaned_query',\n",
    "    y='variable',\n",
    "    color='value'\n",
    ")\n",
    "\n",
    "alt.hconcat(top_results, rest_results).resolve_scale(color='independent')"
   ]
  },
  {
   "cell_type": "markdown",
   "metadata": {},
   "source": [
    "### Get Contributors"
   ]
  },
  {
   "cell_type": "code",
   "execution_count": 20,
   "metadata": {},
   "outputs": [],
   "source": [
    "get_url_field = 'contributors_url'\n",
    "load_existing_data = True\n",
    "is_stargazers = False\n",
    "contributors_df, users_df = get_repos_user_actors(repo_df, '../data/repo_contributors_join_dataset.csv', '../data/users_dataset.csv', rates_df, get_url_field, load_existing_data, is_stargazers)\n",
    "contributors_errors_df = check_return_error_file('../data/error_logs/repo_contributors_join_dataset_errors.csv')"
   ]
  },
  {
   "cell_type": "code",
   "execution_count": 21,
   "metadata": {},
   "outputs": [
    {
     "name": "stdout",
     "output_type": "stream",
     "text": [
      "From 2104 repos, we found 4685 contributors, of which 3454 are unique. There were 67 errors in getting contributors (likely user accounts that no longer exist).\n"
     ]
    }
   ],
   "source": [
    "print(f\"From {len(repo_df)} repos, we found {len(contributors_df)} contributors, of which {len(users_df[users_df.login.isin(contributors_df.login)])} are unique. There were {len(contributors_errors_df)} errors in getting contributors (likely user accounts that no longer exist).\")"
   ]
  },
  {
   "cell_type": "code",
   "execution_count": 22,
   "metadata": {},
   "outputs": [],
   "source": [
    "get_url_field = 'stargazers_url'\n",
    "load_existing_data = True\n",
    "is_stargazers = True\n",
    "stargazers_df, users_df = get_repos_user_actors(repo_df, '../data/repo_stargazers_join_dataset.csv', '../data/users_dataset.csv', rates_df, get_url_field, load_existing_data, is_stargazers)\n",
    "stargazers_errors_df = check_return_error_file('../data/error_logs/repo_stargazers_join_dataset_errors.csv')"
   ]
  },
  {
   "cell_type": "code",
   "execution_count": 23,
   "metadata": {},
   "outputs": [
    {
     "name": "stdout",
     "output_type": "stream",
     "text": [
      "From 2104 repos, we found 7561 stargazers, of which 3150 are unique. There were 12 errors in getting stargazers (likely user accounts that no longer exist).\n"
     ]
    }
   ],
   "source": [
    "print(f\"From {len(repo_df)} repos, we found {len(stargazers_df)} stargazers, of which {len(users_df[users_df.login.isin(stargazers_df.login)])} are unique. There were {len(stargazers_errors_df)} errors in getting stargazers (likely user accounts that no longer exist).\")"
   ]
  },
  {
   "cell_type": "code",
   "execution_count": 24,
   "metadata": {},
   "outputs": [],
   "source": [
    "get_url_field = 'subscribers_url'\n",
    "load_existing_data = True\n",
    "is_stargazers = False\n",
    "subscribers_df, users_df = get_repos_user_actors(repo_df, '../data/repo_subscribers_join_dataset.csv', '../data/users_dataset.csv', rates_df, get_url_field, load_existing_data, is_stargazers)\n",
    "subscribers_errors_df = check_return_error_file('../data/error_logs/repo_subscribers_join_dataset_errors.csv')"
   ]
  },
  {
   "cell_type": "code",
   "execution_count": 25,
   "metadata": {},
   "outputs": [
    {
     "name": "stdout",
     "output_type": "stream",
     "text": [
      "From 2104 repos, we found 2684 subscribers, of which 1769 are unique. There were 0 errors in getting subscribers (likely user accounts that no longer exist).\n"
     ]
    }
   ],
   "source": [
    "print(f\"From {len(repo_df)} repos, we found {len(subscribers_df)} subscribers, of which {len(users_df[users_df.login.isin(subscribers_df.login)])} are unique. There were {len(subscribers_errors_df)} errors in getting subscribers (likely user accounts that no longer exist).\")"
   ]
  },
  {
   "cell_type": "code",
   "execution_count": null,
   "metadata": {},
   "outputs": [],
   "source": [
    "get_url_field = 'collaborators_url'\n",
    "load_existing_data = False\n",
    "is_stargazers = False\n",
    "collaborators_df, users_df = get_repos_user_actors(repo_df, '../data/repo_collaborators_join_dataset.csv', '../data/users_dataset.csv', rates_df, get_url_field, load_existing_data, is_stargazers)\n",
    "collaborators_errors_df = check_return_error_file('../data/error_logs/repo_collaborators_join_dataset_errors.csv')"
   ]
  },
  {
   "cell_type": "code",
   "execution_count": null,
   "metadata": {},
   "outputs": [],
   "source": [
    "repo_df = get_repo_languages(repo_df, repo_output_path, rates_df)"
   ]
  },
  {
   "cell_type": "code",
   "execution_count": null,
   "metadata": {},
   "outputs": [],
   "source": [
    "repo_df = get_repo_labels(repo_df, repo_output_path, rates_df)"
   ]
  },
  {
   "cell_type": "code",
   "execution_count": null,
   "metadata": {},
   "outputs": [],
   "source": [
    "repo_df = get_repo_tags(repo_df, repo_output_path, rates_df)"
   ]
  },
  {
   "cell_type": "code",
   "execution_count": null,
   "metadata": {},
   "outputs": [],
   "source": [
    "commits_df = get_repos_commits(repo_df, '../private_data/search_tagged_dh_repos_commits.csv', rates_df)"
   ]
  },
  {
   "cell_type": "markdown",
   "metadata": {},
   "source": [
    "### Date of Repo Creation"
   ]
  },
  {
   "cell_type": "code",
   "execution_count": null,
   "metadata": {},
   "outputs": [],
   "source": [
    "alt.Chart(repo_df).mark_bar().encode(\n",
    "    x=alt.X(\"yearmonth(created_at):T\", axis=alt.Axis(title=\"Date\")),\n",
    "    y=alt.Y(\"count()\", axis=alt.Axis(title=\"\")),\n",
    "    color=alt.Color(\"yearmonth(created_at):T\", legend=None, scale=alt.Scale(scheme='plasma')),\n",
    ").properties(\n",
    "    title=\"Frequency of DH Topic Repositories Created by Year and Month\",\n",
    ")"
   ]
  },
  {
   "cell_type": "code",
   "execution_count": null,
   "metadata": {},
   "outputs": [],
   "source": [
    "subset_df = repo_df[['forks_count', 'stargazers_count', 'watchers_count', 'size', 'html_url', 'created_at', 'full_name']]"
   ]
  },
  {
   "cell_type": "code",
   "execution_count": null,
   "metadata": {},
   "outputs": [],
   "source": [
    "subset_df['year'] = pd.to_datetime(subset_df['created_at']).dt.strftime('%Y')"
   ]
  },
  {
   "cell_type": "code",
   "execution_count": null,
   "metadata": {},
   "outputs": [],
   "source": [
    "cols = ['forks_count', 'stargazers_count', 'watchers_count', 'size']\n",
    "reverse_cols = cols[::-1]"
   ]
  },
  {
   "cell_type": "code",
   "execution_count": null,
   "metadata": {},
   "outputs": [],
   "source": [
    "alt.Chart(subset_df).mark_circle().encode(\n",
    "    alt.X(alt.repeat(\"column\"), type='quantitative'),\n",
    "    alt.Y(alt.repeat(\"row\"), type='quantitative'),\n",
    "    color=alt.Color('year:N', scale=alt.Scale(scheme='plasma')),\n",
    "    tooltip=['year:N', 'html_url:N', 'created_at:N', 'full_name:N'] \n",
    ").properties(\n",
    "    width=125,\n",
    "    height=125\n",
    ").repeat(\n",
    "    row=cols,\n",
    "    column=reverse_cols\n",
    ")"
   ]
  },
  {
   "cell_type": "code",
   "execution_count": null,
   "metadata": {},
   "outputs": [],
   "source": [
    "alt.Chart(repo_df).mark_bar().encode(\n",
    "    y='count()',\n",
    "    x='forks',\n",
    ")"
   ]
  },
  {
   "cell_type": "code",
   "execution_count": null,
   "metadata": {},
   "outputs": [],
   "source": [
    "alt.Chart(repo_df).mark_bar().encode(\n",
    "    y='count()',\n",
    "    x='stargazers_count',\n",
    ")"
   ]
  },
  {
   "cell_type": "code",
   "execution_count": null,
   "metadata": {},
   "outputs": [],
   "source": []
  }
 ],
 "metadata": {
  "interpreter": {
   "hash": "f9535a2d3234831e7216b5503226355d93b43b15e5931e93b3445b413875c708"
  },
  "kernelspec": {
   "display_name": "Python 3.9.10 ('values_and_versions_env')",
   "language": "python",
   "name": "python3"
  },
  "language_info": {
   "codemirror_mode": {
    "name": "ipython",
    "version": 3
   },
   "file_extension": ".py",
   "mimetype": "text/x-python",
   "name": "python",
   "nbconvert_exporter": "python",
   "pygments_lexer": "ipython3",
   "version": "3.9.14"
  },
  "orig_nbformat": 4
 },
 "nbformat": 4,
 "nbformat_minor": 2
}
