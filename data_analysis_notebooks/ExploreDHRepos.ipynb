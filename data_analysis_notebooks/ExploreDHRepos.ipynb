{
 "cells": [
  {
   "cell_type": "markdown",
   "metadata": {},
   "source": [
    "# Exploring all Github repositories with topic \"digital-humanities\""
   ]
  },
  {
   "cell_type": "markdown",
   "metadata": {},
   "source": [
    "Top level exploration of repositories metadata:\n",
    "- Date of creation\n",
    "  - activity?\n",
    "  - frequency of commits\n",
    "- Number of contributors (tbd)\n",
    "  - number of contributions\n",
    "- Length of description\n",
    "- How many other topics on the repo\n",
    "- What language in the repo\n",
    "- How many forks\n",
    "- How many PRs and how many issues\n",
    "  - frequency of issues\n",
    "- Wikis?"
   ]
  },
  {
   "cell_type": "code",
   "execution_count": 1,
   "metadata": {},
   "outputs": [],
   "source": [
    "import pandas as pd\n",
    "pd.options.mode.chained_assignment = None\n",
    "import altair as alt\n",
    "alt.renderers.enable('mimetype')\n",
    "import os\n",
    "import sys\n",
    "\n",
    "sys.path.append(\"..\")\n",
    "from data_generation_scripts.get_repo_data import check_rate_limit, get_dh_repos_data, get_repo_contributors, get_repos_commits, check_total_pages, get_search_api_data\n",
    "sys.path.append(\"..\")\n",
    "from data_generation_scripts.generate_repo_data import generate_dh_queries"
   ]
  },
  {
   "cell_type": "code",
   "execution_count": 2,
   "metadata": {},
   "outputs": [],
   "source": [
    "rates_df = check_rate_limit()"
   ]
  },
  {
   "cell_type": "code",
   "execution_count": 3,
   "metadata": {},
   "outputs": [
    {
     "name": "stdout",
     "output_type": "stream",
     "text": [
      "https://api.github.com/search/repositories?q=Цифровые+гуманитарные+науки&per_page=100&page=1\n",
      "Total pages: 1\n",
      "1 1 1\n",
      "https://api.github.com/search/repositories?q=topic:humanites-numeriques&per_page=100&page=1\n",
      "Total pages: 1\n",
      "1 1 1\n",
      "https://api.github.com/search/repositories?q=Humanités+numériques&per_page=100&page=1\n",
      "Total pages: 1\n",
      "31 31 29\n"
     ]
    },
    {
     "name": "stderr",
     "output_type": "stream",
     "text": [
      "Getting Search API Data: 100%|██████████| 1/1 [00:01<00:00,  1.04s/it]\n"
     ]
    },
    {
     "name": "stdout",
     "output_type": "stream",
     "text": [
      "1\n",
      "https://api.github.com/search/repositories?q=topic:digital-humanities&per_page=100&page=1\n",
      "Total pages: 7\n",
      "642 642 642\n",
      "https://api.github.com/search/repositories?q=topic:digital-humanities-centers&per_page=100&page=1\n",
      "Total pages: 1\n",
      "1 1 1\n",
      "https://api.github.com/search/repositories?q=topic:digital-public-humanities&per_page=100&page=1\n",
      "Total pages: 1\n",
      "1 1 1\n",
      "https://api.github.com/search/repositories?q=%22Digital+Humanities%22+created%3A2008-01-01..2008-12-31+sort:created&per_page=100&page=1\n",
      "Total pages: 1\n",
      "0 0 1442\n"
     ]
    },
    {
     "name": "stderr",
     "output_type": "stream",
     "text": [
      "Getting Search API Data: 100%|██████████| 1/1 [00:00<00:00,  3.68it/s]\n"
     ]
    },
    {
     "name": "stdout",
     "output_type": "stream",
     "text": [
      "1\n",
      "https://api.github.com/search/repositories?q=%22Digital+Humanities%22+created%3A2009-01-01..2009-12-31+sort:created&per_page=100&page=1\n",
      "Total pages: 1\n",
      "1 1 1442\n"
     ]
    },
    {
     "name": "stderr",
     "output_type": "stream",
     "text": [
      "Getting Search API Data: 100%|██████████| 1/1 [00:00<00:00,  1.86it/s]\n"
     ]
    },
    {
     "name": "stdout",
     "output_type": "stream",
     "text": [
      "1\n",
      "https://api.github.com/search/repositories?q=%22Digital+Humanities%22+created%3A2010-01-01..2010-12-31+sort:created&per_page=100&page=1\n",
      "Total pages: 1\n",
      "2 2 1442\n"
     ]
    },
    {
     "name": "stderr",
     "output_type": "stream",
     "text": [
      "Getting Search API Data: 100%|██████████| 1/1 [00:00<00:00,  3.53it/s]\n"
     ]
    },
    {
     "name": "stdout",
     "output_type": "stream",
     "text": [
      "1\n",
      "https://api.github.com/search/repositories?q=%22Digital+Humanities%22+created%3A2011-01-01..2011-12-31+sort:created&per_page=100&page=1\n",
      "Total pages: 1\n"
     ]
    },
    {
     "name": "stderr",
     "output_type": "stream",
     "text": [
      "Getting Search API Data:   0%|          | 0/1 [00:00<?, ?it/s]"
     ]
    },
    {
     "name": "stdout",
     "output_type": "stream",
     "text": [
      "hit rate limiting. trying to sleep...\n"
     ]
    },
    {
     "name": "stderr",
     "output_type": "stream",
     "text": [
      "Getting Search API Data: 100%|██████████| 1/1 [02:00<00:00, 120.57s/it]\n"
     ]
    },
    {
     "name": "stdout",
     "output_type": "stream",
     "text": [
      "1\n",
      "https://api.github.com/search/repositories?q=%22Digital+Humanities%22+created%3A2012-01-01..2012-12-31+sort:created&per_page=100&page=1\n",
      "Total pages: 1\n"
     ]
    },
    {
     "name": "stderr",
     "output_type": "stream",
     "text": [
      "Getting Search API Data: 100%|██████████| 1/1 [00:00<00:00,  1.62it/s]\n"
     ]
    },
    {
     "name": "stdout",
     "output_type": "stream",
     "text": [
      "1\n",
      "https://api.github.com/search/repositories?q=%22Digital+Humanities%22+created%3A2013-01-01..2013-12-31+sort:created&per_page=100&page=1\n",
      "Total pages: 1\n"
     ]
    },
    {
     "name": "stderr",
     "output_type": "stream",
     "text": [
      "Getting Search API Data: 100%|██████████| 1/1 [00:00<00:00,  1.30it/s]\n"
     ]
    },
    {
     "name": "stdout",
     "output_type": "stream",
     "text": [
      "1\n",
      "https://api.github.com/search/repositories?q=%22Digital+Humanities%22+created%3A2014-01-01..2014-12-31+sort:created&per_page=100&page=1\n",
      "Total pages: 1\n"
     ]
    },
    {
     "name": "stderr",
     "output_type": "stream",
     "text": [
      "Getting Search API Data: 100%|██████████| 1/1 [00:01<00:00,  1.36s/it]\n"
     ]
    },
    {
     "name": "stdout",
     "output_type": "stream",
     "text": [
      "1\n",
      "https://api.github.com/search/repositories?q=%22Digital+Humanities%22+created%3A2015-01-01..2015-12-31+sort:created&per_page=100&page=1\n",
      "Total pages: 1\n"
     ]
    },
    {
     "name": "stderr",
     "output_type": "stream",
     "text": [
      "Getting Search API Data: 100%|██████████| 1/1 [00:01<00:00,  1.79s/it]\n"
     ]
    },
    {
     "name": "stdout",
     "output_type": "stream",
     "text": [
      "1\n",
      "https://api.github.com/search/repositories?q=%22Digital+Humanities%22+created%3A2016-01-01..2016-12-31+sort:created&per_page=100&page=1\n",
      "Total pages: 1\n"
     ]
    },
    {
     "name": "stderr",
     "output_type": "stream",
     "text": [
      "Getting Search API Data: 100%|██████████| 1/1 [00:02<00:00,  2.33s/it]\n"
     ]
    },
    {
     "name": "stdout",
     "output_type": "stream",
     "text": [
      "1\n",
      "https://api.github.com/search/repositories?q=%22Digital+Humanities%22+created%3A2017-01-01..2017-12-31+sort:created&per_page=100&page=1\n",
      "Total pages: 2\n"
     ]
    },
    {
     "name": "stderr",
     "output_type": "stream",
     "text": [
      "Getting Search API Data: 100%|██████████| 2/2 [02:04<00:00, 62.28s/it]\n"
     ]
    },
    {
     "name": "stdout",
     "output_type": "stream",
     "text": [
      "2\n",
      "https://api.github.com/search/repositories?q=%22Digital+Humanities%22+created%3A2018-01-01..2018-12-31+sort:created&per_page=100&page=1\n",
      "Total pages: 3\n"
     ]
    },
    {
     "name": "stderr",
     "output_type": "stream",
     "text": [
      "Getting Search API Data: 100%|██████████| 3/3 [04:06<00:00, 82.26s/it]\n"
     ]
    },
    {
     "name": "stdout",
     "output_type": "stream",
     "text": [
      "3\n",
      "https://api.github.com/search/repositories?q=%22Digital+Humanities%22+created%3A2019-01-01..2019-12-31+sort:created&per_page=100&page=1\n",
      "Total pages: 2\n"
     ]
    },
    {
     "name": "stderr",
     "output_type": "stream",
     "text": [
      "Getting Search API Data: 100%|██████████| 2/2 [02:05<00:00, 62.70s/it]\n"
     ]
    },
    {
     "name": "stdout",
     "output_type": "stream",
     "text": [
      "2\n",
      "https://api.github.com/search/repositories?q=%22Digital+Humanities%22+created%3A2020-01-01..2020-12-31+sort:created&per_page=100&page=1\n",
      "Total pages: 3\n"
     ]
    },
    {
     "name": "stderr",
     "output_type": "stream",
     "text": [
      "Getting Search API Data: 100%|██████████| 3/3 [04:07<00:00, 82.35s/it]\n"
     ]
    },
    {
     "name": "stdout",
     "output_type": "stream",
     "text": [
      "3\n",
      "https://api.github.com/search/repositories?q=%22Digital+Humanities%22+created%3A2021-01-01..2021-12-31+sort:created&per_page=100&page=1\n",
      "Total pages: 3\n"
     ]
    },
    {
     "name": "stderr",
     "output_type": "stream",
     "text": [
      "Getting Search API Data: 100%|██████████| 3/3 [04:07<00:00, 82.61s/it]\n"
     ]
    },
    {
     "name": "stdout",
     "output_type": "stream",
     "text": [
      "3\n",
      "https://api.github.com/search/repositories?q=%22Digital+Humanities%22+created%3A2022-01-01..2022-9-16+sort:created&per_page=100&page=1\n",
      "Total pages: 1\n"
     ]
    },
    {
     "name": "stderr",
     "output_type": "stream",
     "text": [
      "Getting Search API Data: 100%|██████████| 1/1 [00:00<00:00,  3.56it/s]\n"
     ]
    },
    {
     "name": "stdout",
     "output_type": "stream",
     "text": [
      "1\n",
      "https://api.github.com/search/repositories?q=디지털+인문학&per_page=100&page=1\n",
      "Total pages: 1\n"
     ]
    },
    {
     "name": "stderr",
     "output_type": "stream",
     "text": [
      "Getting Search API Data: 100%|██████████| 1/1 [00:00<00:00,  2.59it/s]\n"
     ]
    },
    {
     "name": "stdout",
     "output_type": "stream",
     "text": [
      "1\n",
      "https://api.github.com/search/repositories?q=Informatica+umanistica&per_page=100&page=1\n",
      "Total pages: 1\n"
     ]
    },
    {
     "name": "stderr",
     "output_type": "stream",
     "text": [
      "Getting Search API Data: 100%|██████████| 1/1 [00:01<00:00,  1.51s/it]\n"
     ]
    },
    {
     "name": "stdout",
     "output_type": "stream",
     "text": [
      "1\n",
      "https://api.github.com/search/repositories?q=Digitaaliset+ihmistieteet&per_page=100&page=1\n",
      "Total pages: 1\n"
     ]
    },
    {
     "name": "stderr",
     "output_type": "stream",
     "text": [
      "Getting Search API Data: 100%|██████████| 1/1 [00:00<00:00,  3.96it/s]\n"
     ]
    },
    {
     "name": "stdout",
     "output_type": "stream",
     "text": [
      "1\n",
      "https://api.github.com/search/repositories?q=Digital+humaniora&per_page=100&page=1\n",
      "Total pages: 1\n"
     ]
    },
    {
     "name": "stderr",
     "output_type": "stream",
     "text": [
      "Getting Search API Data: 100%|██████████| 1/1 [00:00<00:00,  2.61it/s]\n"
     ]
    },
    {
     "name": "stdout",
     "output_type": "stream",
     "text": [
      "1\n",
      "hit rate limiting. trying to sleep...\n",
      "https://api.github.com/search/repositories?q=topic:humanidades-digitales&per_page=100&page=1\n",
      "Total pages: 1\n",
      "8 8 8\n",
      "https://api.github.com/search/repositories?q=Humanidades+digitales&per_page=100&page=1\n",
      "Total pages: 1\n"
     ]
    },
    {
     "name": "stderr",
     "output_type": "stream",
     "text": [
      "Getting Search API Data: 100%|██████████| 1/1 [00:01<00:00,  1.32s/it]\n"
     ]
    },
    {
     "name": "stdout",
     "output_type": "stream",
     "text": [
      "1\n"
     ]
    }
   ],
   "source": [
    "initial_output_path = '../data/repo_data/'\n",
    "df = generate_dh_queries(initial_output_path, rates_df)\n"
   ]
  },
  {
   "cell_type": "code",
   "execution_count": 4,
   "metadata": {},
   "outputs": [
    {
     "data": {
      "text/plain": [
       "792"
      ]
     },
     "execution_count": 4,
     "metadata": {},
     "output_type": "execute_result"
    }
   ],
   "source": [
    "len(df)"
   ]
  },
  {
   "cell_type": "code",
   "execution_count": 10,
   "metadata": {},
   "outputs": [],
   "source": [
    "dfs = []\n",
    "for subdir, dirs, files in os.walk('../data/repo_data'):\n",
    "    for f in files:\n",
    "        temp_df = pd.read_csv(subdir + '/' + f)\n",
    "        dfs.append(temp_df)"
   ]
  },
  {
   "cell_type": "code",
   "execution_count": 15,
   "metadata": {},
   "outputs": [],
   "source": [
    "final_df = pd.concat(dfs)"
   ]
  },
  {
   "cell_type": "code",
   "execution_count": 16,
   "metadata": {},
   "outputs": [],
   "source": [
    "repo_df = final_df.drop_duplicates(subset='id')"
   ]
  },
  {
   "cell_type": "code",
   "execution_count": 18,
   "metadata": {},
   "outputs": [
    {
     "data": {
      "text/plain": [
       "{'id': {0: 85891959.0},\n",
       " 'node_id': {0: 'MDEwOlJlcG9zaXRvcnk4NTg5MTk1OQ=='},\n",
       " 'name': {0: 'tuto-pandas'},\n",
       " 'full_name': {0: 'jhroy/tuto-pandas'},\n",
       " 'private': {0: False},\n",
       " 'owner': {0: \"{'login': 'jhroy', 'id': 1175329, 'node_id': 'MDQ6VXNlcjExNzUzMjk=', 'avatar_url': 'https://avatars.githubusercontent.com/u/1175329?v=4', 'gravatar_id': '', 'url': 'https://api.github.com/users/jhroy', 'html_url': 'https://github.com/jhroy', 'followers_url': 'https://api.github.com/users/jhroy/followers', 'following_url': 'https://api.github.com/users/jhroy/following{/other_user}', 'gists_url': 'https://api.github.com/users/jhroy/gists{/gist_id}', 'starred_url': 'https://api.github.com/users/jhroy/starred{/owner}{/repo}', 'subscriptions_url': 'https://api.github.com/users/jhroy/subscriptions', 'organizations_url': 'https://api.github.com/users/jhroy/orgs', 'repos_url': 'https://api.github.com/users/jhroy/repos', 'events_url': 'https://api.github.com/users/jhroy/events{/privacy}', 'received_events_url': 'https://api.github.com/users/jhroy/received_events', 'type': 'User', 'site_admin': False}\"},\n",
       " 'html_url': {0: 'https://github.com/jhroy/tuto-pandas'},\n",
       " 'description': {0: \"Tutoriel d'introduction à pandas pour journalistes de données, chercheurs en humanités numériques ou en sciences sociales computationelles\"},\n",
       " 'fork': {0: False},\n",
       " 'url': {0: 'https://api.github.com/repos/jhroy/tuto-pandas'},\n",
       " 'forks_url': {0: 'https://api.github.com/repos/jhroy/tuto-pandas/forks'},\n",
       " 'keys_url': {0: 'https://api.github.com/repos/jhroy/tuto-pandas/keys{/key_id}'},\n",
       " 'collaborators_url': {0: 'https://api.github.com/repos/jhroy/tuto-pandas/collaborators{/collaborator}'},\n",
       " 'teams_url': {0: 'https://api.github.com/repos/jhroy/tuto-pandas/teams'},\n",
       " 'hooks_url': {0: 'https://api.github.com/repos/jhroy/tuto-pandas/hooks'},\n",
       " 'issue_events_url': {0: 'https://api.github.com/repos/jhroy/tuto-pandas/issues/events{/number}'},\n",
       " 'events_url': {0: 'https://api.github.com/repos/jhroy/tuto-pandas/events'},\n",
       " 'assignees_url': {0: 'https://api.github.com/repos/jhroy/tuto-pandas/assignees{/user}'},\n",
       " 'branches_url': {0: 'https://api.github.com/repos/jhroy/tuto-pandas/branches{/branch}'},\n",
       " 'tags_url': {0: 'https://api.github.com/repos/jhroy/tuto-pandas/tags'},\n",
       " 'blobs_url': {0: 'https://api.github.com/repos/jhroy/tuto-pandas/git/blobs{/sha}'},\n",
       " 'git_tags_url': {0: 'https://api.github.com/repos/jhroy/tuto-pandas/git/tags{/sha}'},\n",
       " 'git_refs_url': {0: 'https://api.github.com/repos/jhroy/tuto-pandas/git/refs{/sha}'},\n",
       " 'trees_url': {0: 'https://api.github.com/repos/jhroy/tuto-pandas/git/trees{/sha}'},\n",
       " 'statuses_url': {0: 'https://api.github.com/repos/jhroy/tuto-pandas/statuses/{sha}'},\n",
       " 'languages_url': {0: 'https://api.github.com/repos/jhroy/tuto-pandas/languages'},\n",
       " 'stargazers_url': {0: 'https://api.github.com/repos/jhroy/tuto-pandas/stargazers'},\n",
       " 'contributors_url': {0: 'https://api.github.com/repos/jhroy/tuto-pandas/contributors'},\n",
       " 'subscribers_url': {0: 'https://api.github.com/repos/jhroy/tuto-pandas/subscribers'},\n",
       " 'subscription_url': {0: 'https://api.github.com/repos/jhroy/tuto-pandas/subscription'},\n",
       " 'commits_url': {0: 'https://api.github.com/repos/jhroy/tuto-pandas/commits{/sha}'},\n",
       " 'git_commits_url': {0: 'https://api.github.com/repos/jhroy/tuto-pandas/git/commits{/sha}'},\n",
       " 'comments_url': {0: 'https://api.github.com/repos/jhroy/tuto-pandas/comments{/number}'},\n",
       " 'issue_comment_url': {0: 'https://api.github.com/repos/jhroy/tuto-pandas/issues/comments{/number}'},\n",
       " 'contents_url': {0: 'https://api.github.com/repos/jhroy/tuto-pandas/contents/{+path}'},\n",
       " 'compare_url': {0: 'https://api.github.com/repos/jhroy/tuto-pandas/compare/{base}...{head}'},\n",
       " 'merges_url': {0: 'https://api.github.com/repos/jhroy/tuto-pandas/merges'},\n",
       " 'archive_url': {0: 'https://api.github.com/repos/jhroy/tuto-pandas/{archive_format}{/ref}'},\n",
       " 'downloads_url': {0: 'https://api.github.com/repos/jhroy/tuto-pandas/downloads'},\n",
       " 'issues_url': {0: 'https://api.github.com/repos/jhroy/tuto-pandas/issues{/number}'},\n",
       " 'pulls_url': {0: 'https://api.github.com/repos/jhroy/tuto-pandas/pulls{/number}'},\n",
       " 'milestones_url': {0: 'https://api.github.com/repos/jhroy/tuto-pandas/milestones{/number}'},\n",
       " 'notifications_url': {0: 'https://api.github.com/repos/jhroy/tuto-pandas/notifications{?since,all,participating}'},\n",
       " 'labels_url': {0: 'https://api.github.com/repos/jhroy/tuto-pandas/labels{/name}'},\n",
       " 'releases_url': {0: 'https://api.github.com/repos/jhroy/tuto-pandas/releases{/id}'},\n",
       " 'deployments_url': {0: 'https://api.github.com/repos/jhroy/tuto-pandas/deployments'},\n",
       " 'created_at': {0: '2017-03-23T01:08:48Z'},\n",
       " 'updated_at': {0: '2022-03-19T19:49:15Z'},\n",
       " 'pushed_at': {0: '2022-03-14T16:45:00Z'},\n",
       " 'git_url': {0: 'git://github.com/jhroy/tuto-pandas.git'},\n",
       " 'ssh_url': {0: 'git@github.com:jhroy/tuto-pandas.git'},\n",
       " 'clone_url': {0: 'https://github.com/jhroy/tuto-pandas.git'},\n",
       " 'svn_url': {0: 'https://github.com/jhroy/tuto-pandas'},\n",
       " 'homepage': {0: nan},\n",
       " 'size': {0: 5001.0},\n",
       " 'stargazers_count': {0: 4.0},\n",
       " 'watchers_count': {0: 4.0},\n",
       " 'language': {0: 'Jupyter Notebook'},\n",
       " 'has_issues': {0: True},\n",
       " 'has_projects': {0: True},\n",
       " 'has_downloads': {0: True},\n",
       " 'has_wiki': {0: True},\n",
       " 'has_pages': {0: False},\n",
       " 'forks_count': {0: 4.0},\n",
       " 'mirror_url': {0: nan},\n",
       " 'archived': {0: False},\n",
       " 'disabled': {0: False},\n",
       " 'open_issues_count': {0: 0.0},\n",
       " 'license': {0: \"{'key': 'gpl-3.0', 'name': 'GNU General Public License v3.0', 'spdx_id': 'GPL-3.0', 'url': 'https://api.github.com/licenses/gpl-3.0', 'node_id': 'MDc6TGljZW5zZTk='}\"},\n",
       " 'allow_forking': {0: True},\n",
       " 'is_template': {0: False},\n",
       " 'web_commit_signoff_required': {0: False},\n",
       " 'topics': {0: \"['computational-social-science', 'digital-humanities', 'francais', 'humanites-numeriques', 'journalism', 'journalisme', 'pandas', 'tutorial', 'tutoriel', 'uqam']\"},\n",
       " 'visibility': {0: 'public'},\n",
       " 'forks': {0: 4.0},\n",
       " 'open_issues': {0: 0.0},\n",
       " 'watchers': {0: 4.0},\n",
       " 'default_branch': {0: 'master'},\n",
       " 'permissions': {0: \"{'admin': False, 'maintain': False, 'push': False, 'triage': False, 'pull': True}\"},\n",
       " 'score': {0: 1.0},\n",
       " 'query': {0: 'https://api.github.com/search/repositories?q=topic:humanites-numeriques&per_page=100&page=1'},\n",
       " 'dh_term': {0: nan},\n",
       " 'dh_lang': {0: nan}}"
      ]
     },
     "execution_count": 18,
     "metadata": {},
     "output_type": "execute_result"
    }
   ],
   "source": [
    "repo_df[0:1].to_dict()"
   ]
  },
  {
   "cell_type": "code",
   "execution_count": null,
   "metadata": {},
   "outputs": [],
   "source": [
    "# repo_df = get_dh_repos_data('../data/repos_topic_dh.csv', rates_df)"
   ]
  },
  {
   "cell_type": "code",
   "execution_count": null,
   "metadata": {},
   "outputs": [],
   "source": [
    "contributors_df = get_repo_contributors(repo_df, '../data/repos_topic_dh_contributors.csv', rates_df)"
   ]
  },
  {
   "cell_type": "code",
   "execution_count": null,
   "metadata": {},
   "outputs": [],
   "source": [
    "commits_df = get_repos_commits(repo_df, '../private_data/repos_topic_dh_commits.csv', rates_df)"
   ]
  },
  {
   "cell_type": "code",
   "execution_count": 17,
   "metadata": {},
   "outputs": [
    {
     "name": "stdout",
     "output_type": "stream",
     "text": [
      "Number of identified repositories with the topic digital humanities: 2051\n"
     ]
    }
   ],
   "source": [
    "print(f\"Number of identified repositories with the topic digital humanities: {len(repo_df)}\")"
   ]
  },
  {
   "cell_type": "markdown",
   "metadata": {},
   "source": [
    "### Date of Repo Creation"
   ]
  },
  {
   "cell_type": "code",
   "execution_count": null,
   "metadata": {},
   "outputs": [],
   "source": [
    "alt.Chart(repo_df).mark_bar().encode(\n",
    "    x=alt.X(\"yearmonth(created_at):T\", axis=alt.Axis(title=\"Date\")),\n",
    "    y=alt.Y(\"count()\", axis=alt.Axis(title=\"\")),\n",
    "    color=alt.Color(\"yearmonth(created_at):T\", legend=None, scale=alt.Scale(scheme='plasma')),\n",
    ").properties(\n",
    "    title=\"Frequency of DH Topic Repositories Created by Year and Month\",\n",
    ")"
   ]
  },
  {
   "cell_type": "code",
   "execution_count": null,
   "metadata": {},
   "outputs": [],
   "source": [
    "subset_df = repo_df[['forks_count', 'stargazers_count', 'watchers_count', 'size', 'html_url', 'created_at', 'full_name']]"
   ]
  },
  {
   "cell_type": "code",
   "execution_count": null,
   "metadata": {},
   "outputs": [],
   "source": [
    "subset_df['year'] = pd.to_datetime(subset_df['created_at']).dt.strftime('%Y')"
   ]
  },
  {
   "cell_type": "code",
   "execution_count": null,
   "metadata": {},
   "outputs": [],
   "source": [
    "cols = ['forks_count', 'stargazers_count', 'watchers_count', 'size']\n",
    "reverse_cols = cols[::-1]"
   ]
  },
  {
   "cell_type": "code",
   "execution_count": null,
   "metadata": {},
   "outputs": [],
   "source": [
    "alt.Chart(subset_df).mark_circle().encode(\n",
    "    alt.X(alt.repeat(\"column\"), type='quantitative'),\n",
    "    alt.Y(alt.repeat(\"row\"), type='quantitative'),\n",
    "    color=alt.Color('year:N', scale=alt.Scale(scheme='plasma')),\n",
    "    tooltip=['year:N', 'html_url:N', 'created_at:N', 'full_name:N'] \n",
    ").properties(\n",
    "    width=125,\n",
    "    height=125\n",
    ").repeat(\n",
    "    row=cols,\n",
    "    column=reverse_cols\n",
    ")"
   ]
  },
  {
   "cell_type": "code",
   "execution_count": null,
   "metadata": {},
   "outputs": [],
   "source": [
    "alt.Chart(repo_df).mark_bar().encode(\n",
    "    y='count()',\n",
    "    x='forks',\n",
    ")"
   ]
  },
  {
   "cell_type": "code",
   "execution_count": null,
   "metadata": {},
   "outputs": [],
   "source": [
    "alt.Chart(repo_df).mark_bar().encode(\n",
    "    y='count()',\n",
    "    x='stargazers_count',\n",
    ")"
   ]
  },
  {
   "cell_type": "code",
   "execution_count": null,
   "metadata": {},
   "outputs": [],
   "source": []
  }
 ],
 "metadata": {
  "interpreter": {
   "hash": "f9535a2d3234831e7216b5503226355d93b43b15e5931e93b3445b413875c708"
  },
  "kernelspec": {
   "display_name": "Python 3.9.10 ('values_and_versions_env')",
   "language": "python",
   "name": "python3"
  },
  "language_info": {
   "codemirror_mode": {
    "name": "ipython",
    "version": 3
   },
   "file_extension": ".py",
   "mimetype": "text/x-python",
   "name": "python",
   "nbconvert_exporter": "python",
   "pygments_lexer": "ipython3",
   "version": "3.9.14"
  },
  "orig_nbformat": 4
 },
 "nbformat": 4,
 "nbformat_minor": 2
}
