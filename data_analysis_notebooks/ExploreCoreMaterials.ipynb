{
 "cells": [
  {
   "cell_type": "code",
   "execution_count": 1,
   "metadata": {},
   "outputs": [],
   "source": [
    "import pandas as pd\n",
    "pd.options.mode.chained_assignment = None\n",
    "import altair as alt\n",
    "alt.renderers.enable('mimetype')\n",
    "alt.data_transformers.disable_max_rows()\n",
    "import os\n",
    "import sys\n",
    "import warnings\n",
    "warnings.filterwarnings('ignore')\n",
    "sys.path.append(\"..\")\n",
    "from data_generation_scripts.utils import save_chart"
   ]
  },
  {
   "cell_type": "code",
   "execution_count": 19,
   "metadata": {},
   "outputs": [],
   "source": [
    "core_users = pd.read_csv('../data/derived_files/core_users.csv')\n",
    "core_repos = pd.read_csv('../data/derived_files/core_repos.csv')"
   ]
  },
  {
   "cell_type": "code",
   "execution_count": 3,
   "metadata": {},
   "outputs": [],
   "source": [
    "core_orgs = core_users[core_users.type == 'Organization']\n",
    "core_users = core_users[core_users.type == 'User']"
   ]
  },
  {
   "cell_type": "code",
   "execution_count": 4,
   "metadata": {},
   "outputs": [],
   "source": [
    "core_users['created_at'] = pd.to_datetime(core_users['created_at'], errors='coerce')\n",
    "core_orgs['created_at'] = pd.to_datetime(core_orgs['created_at'], errors='coerce')\n",
    "core_repos['created_at'] = pd.to_datetime(core_repos['created_at'], errors='coerce')"
   ]
  },
  {
   "cell_type": "code",
   "execution_count": 5,
   "metadata": {},
   "outputs": [],
   "source": [
    "core_users['data_type'] = 'User'\n",
    "core_orgs['data_type'] = 'Organization'\n",
    "core_repos['data_type'] = 'Repository'"
   ]
  },
  {
   "cell_type": "code",
   "execution_count": 20,
   "metadata": {},
   "outputs": [
    {
     "data": {
      "text/plain": [
       "(1138, 3249)"
      ]
     },
     "execution_count": 20,
     "metadata": {},
     "output_type": "execute_result"
    }
   ],
   "source": [
    "len(core_users[core_users.email.notna()]), len(core_users[core_users.email.isna()])"
   ]
  },
  {
   "cell_type": "code",
   "execution_count": 11,
   "metadata": {},
   "outputs": [
    {
     "data": {
      "text/plain": [
       "(131, 290)"
      ]
     },
     "execution_count": 11,
     "metadata": {},
     "output_type": "execute_result"
    }
   ],
   "source": [
    "len(core_orgs[core_orgs.email.notna()]), len(core_orgs[core_orgs.email.isna()])"
   ]
  },
  {
   "cell_type": "code",
   "execution_count": 15,
   "metadata": {},
   "outputs": [
    {
     "data": {
      "text/plain": [
       "2326"
      ]
     },
     "execution_count": 15,
     "metadata": {},
     "output_type": "execute_result"
    }
   ],
   "source": [
    "len(core_repos)"
   ]
  },
  {
   "cell_type": "code",
   "execution_count": 18,
   "metadata": {},
   "outputs": [],
   "source": [
    "all_data = pd.concat([core_users[['data_type', 'created_at', 'id']], core_orgs[['data_type', 'created_at', 'id']], core_repos[['data_type', 'created_at', 'id']]])"
   ]
  },
  {
   "cell_type": "code",
   "execution_count": 19,
   "metadata": {},
   "outputs": [],
   "source": [
    "all_data['total_counts'] = 0\n",
    "all_data.loc[all_data.data_type == 'User', 'total_counts'] = core_users.shape[0]\n",
    "all_data.loc[all_data.data_type == 'Organization', 'total_counts'] = core_orgs.shape[0]\n",
    "all_data.loc[all_data.data_type == 'Repository', 'total_counts'] = core_repos.shape[0]"
   ]
  },
  {
   "cell_type": "code",
   "execution_count": 20,
   "metadata": {},
   "outputs": [],
   "source": [
    "all_data['month'] = all_data['created_at'].dt.month\n",
    "all_data['year'] = all_data['created_at'].dt.year"
   ]
  },
  {
   "cell_type": "code",
   "execution_count": 21,
   "metadata": {},
   "outputs": [],
   "source": [
    "grouped_data = all_data.groupby(['data_type', 'year', 'month']).size().reset_index(name='counts')\n",
    "\n",
    "grouped_data['day'] = 1\n",
    "# grouped_data['month'] = 1\n",
    "grouped_data['date'] = pd.to_datetime(grouped_data[['year', 'month', 'day']])\n",
    "grouped_data.date = grouped_data.date.dt.tz_localize(\"America/New_York\")\n"
   ]
  },
  {
   "cell_type": "code",
   "execution_count": 22,
   "metadata": {},
   "outputs": [
    {
     "data": {
      "application/vnd.vegalite.v5+json": {
       "$schema": "https://vega.github.io/schema/vega-lite/v5.6.1.json",
       "config": {
        "view": {
         "continuousHeight": 300,
         "continuousWidth": 300
        }
       },
       "data": {
        "name": "data-79e357e1dec4222ccbea68bca4f911ae"
       },
       "datasets": {
        "data-79e357e1dec4222ccbea68bca4f911ae": [
         {
          "counts": 1,
          "data_type": "Organization",
          "date": "2009-02-01T00:00:00-05:00",
          "day": 1,
          "month": 2,
          "year": 2009
         },
         {
          "counts": 1,
          "data_type": "Organization",
          "date": "2010-02-01T00:00:00-05:00",
          "day": 1,
          "month": 2,
          "year": 2010
         },
         {
          "counts": 1,
          "data_type": "Organization",
          "date": "2010-05-01T00:00:00-04:00",
          "day": 1,
          "month": 5,
          "year": 2010
         },
         {
          "counts": 1,
          "data_type": "Organization",
          "date": "2010-06-01T00:00:00-04:00",
          "day": 1,
          "month": 6,
          "year": 2010
         },
         {
          "counts": 1,
          "data_type": "Organization",
          "date": "2010-10-01T00:00:00-04:00",
          "day": 1,
          "month": 10,
          "year": 2010
         },
         {
          "counts": 3,
          "data_type": "Organization",
          "date": "2011-04-01T00:00:00-04:00",
          "day": 1,
          "month": 4,
          "year": 2011
         },
         {
          "counts": 2,
          "data_type": "Organization",
          "date": "2011-09-01T00:00:00-04:00",
          "day": 1,
          "month": 9,
          "year": 2011
         },
         {
          "counts": 1,
          "data_type": "Organization",
          "date": "2011-10-01T00:00:00-04:00",
          "day": 1,
          "month": 10,
          "year": 2011
         },
         {
          "counts": 4,
          "data_type": "Organization",
          "date": "2011-12-01T00:00:00-05:00",
          "day": 1,
          "month": 12,
          "year": 2011
         },
         {
          "counts": 1,
          "data_type": "Organization",
          "date": "2012-01-01T00:00:00-05:00",
          "day": 1,
          "month": 1,
          "year": 2012
         },
         {
          "counts": 4,
          "data_type": "Organization",
          "date": "2012-02-01T00:00:00-05:00",
          "day": 1,
          "month": 2,
          "year": 2012
         },
         {
          "counts": 1,
          "data_type": "Organization",
          "date": "2012-03-01T00:00:00-05:00",
          "day": 1,
          "month": 3,
          "year": 2012
         },
         {
          "counts": 2,
          "data_type": "Organization",
          "date": "2012-04-01T00:00:00-04:00",
          "day": 1,
          "month": 4,
          "year": 2012
         },
         {
          "counts": 1,
          "data_type": "Organization",
          "date": "2012-06-01T00:00:00-04:00",
          "day": 1,
          "month": 6,
          "year": 2012
         },
         {
          "counts": 2,
          "data_type": "Organization",
          "date": "2012-08-01T00:00:00-04:00",
          "day": 1,
          "month": 8,
          "year": 2012
         },
         {
          "counts": 2,
          "data_type": "Organization",
          "date": "2012-09-01T00:00:00-04:00",
          "day": 1,
          "month": 9,
          "year": 2012
         },
         {
          "counts": 1,
          "data_type": "Organization",
          "date": "2012-10-01T00:00:00-04:00",
          "day": 1,
          "month": 10,
          "year": 2012
         },
         {
          "counts": 1,
          "data_type": "Organization",
          "date": "2012-11-01T00:00:00-04:00",
          "day": 1,
          "month": 11,
          "year": 2012
         },
         {
          "counts": 1,
          "data_type": "Organization",
          "date": "2012-12-01T00:00:00-05:00",
          "day": 1,
          "month": 12,
          "year": 2012
         },
         {
          "counts": 1,
          "data_type": "Organization",
          "date": "2013-01-01T00:00:00-05:00",
          "day": 1,
          "month": 1,
          "year": 2013
         },
         {
          "counts": 2,
          "data_type": "Organization",
          "date": "2013-03-01T00:00:00-05:00",
          "day": 1,
          "month": 3,
          "year": 2013
         },
         {
          "counts": 3,
          "data_type": "Organization",
          "date": "2013-04-01T00:00:00-04:00",
          "day": 1,
          "month": 4,
          "year": 2013
         },
         {
          "counts": 1,
          "data_type": "Organization",
          "date": "2013-05-01T00:00:00-04:00",
          "day": 1,
          "month": 5,
          "year": 2013
         },
         {
          "counts": 1,
          "data_type": "Organization",
          "date": "2013-06-01T00:00:00-04:00",
          "day": 1,
          "month": 6,
          "year": 2013
         },
         {
          "counts": 4,
          "data_type": "Organization",
          "date": "2013-07-01T00:00:00-04:00",
          "day": 1,
          "month": 7,
          "year": 2013
         },
         {
          "counts": 2,
          "data_type": "Organization",
          "date": "2013-08-01T00:00:00-04:00",
          "day": 1,
          "month": 8,
          "year": 2013
         },
         {
          "counts": 1,
          "data_type": "Organization",
          "date": "2013-09-01T00:00:00-04:00",
          "day": 1,
          "month": 9,
          "year": 2013
         },
         {
          "counts": 2,
          "data_type": "Organization",
          "date": "2013-10-01T00:00:00-04:00",
          "day": 1,
          "month": 10,
          "year": 2013
         },
         {
          "counts": 4,
          "data_type": "Organization",
          "date": "2013-11-01T00:00:00-04:00",
          "day": 1,
          "month": 11,
          "year": 2013
         },
         {
          "counts": 2,
          "data_type": "Organization",
          "date": "2013-12-01T00:00:00-05:00",
          "day": 1,
          "month": 12,
          "year": 2013
         },
         {
          "counts": 3,
          "data_type": "Organization",
          "date": "2014-01-01T00:00:00-05:00",
          "day": 1,
          "month": 1,
          "year": 2014
         },
         {
          "counts": 6,
          "data_type": "Organization",
          "date": "2014-02-01T00:00:00-05:00",
          "day": 1,
          "month": 2,
          "year": 2014
         },
         {
          "counts": 3,
          "data_type": "Organization",
          "date": "2014-03-01T00:00:00-05:00",
          "day": 1,
          "month": 3,
          "year": 2014
         },
         {
          "counts": 3,
          "data_type": "Organization",
          "date": "2014-04-01T00:00:00-04:00",
          "day": 1,
          "month": 4,
          "year": 2014
         },
         {
          "counts": 2,
          "data_type": "Organization",
          "date": "2014-05-01T00:00:00-04:00",
          "day": 1,
          "month": 5,
          "year": 2014
         },
         {
          "counts": 1,
          "data_type": "Organization",
          "date": "2014-06-01T00:00:00-04:00",
          "day": 1,
          "month": 6,
          "year": 2014
         },
         {
          "counts": 3,
          "data_type": "Organization",
          "date": "2014-07-01T00:00:00-04:00",
          "day": 1,
          "month": 7,
          "year": 2014
         },
         {
          "counts": 1,
          "data_type": "Organization",
          "date": "2014-08-01T00:00:00-04:00",
          "day": 1,
          "month": 8,
          "year": 2014
         },
         {
          "counts": 4,
          "data_type": "Organization",
          "date": "2014-09-01T00:00:00-04:00",
          "day": 1,
          "month": 9,
          "year": 2014
         },
         {
          "counts": 3,
          "data_type": "Organization",
          "date": "2014-10-01T00:00:00-04:00",
          "day": 1,
          "month": 10,
          "year": 2014
         },
         {
          "counts": 2,
          "data_type": "Organization",
          "date": "2014-11-01T00:00:00-04:00",
          "day": 1,
          "month": 11,
          "year": 2014
         },
         {
          "counts": 3,
          "data_type": "Organization",
          "date": "2014-12-01T00:00:00-05:00",
          "day": 1,
          "month": 12,
          "year": 2014
         },
         {
          "counts": 6,
          "data_type": "Organization",
          "date": "2015-01-01T00:00:00-05:00",
          "day": 1,
          "month": 1,
          "year": 2015
         },
         {
          "counts": 2,
          "data_type": "Organization",
          "date": "2015-02-01T00:00:00-05:00",
          "day": 1,
          "month": 2,
          "year": 2015
         },
         {
          "counts": 2,
          "data_type": "Organization",
          "date": "2015-03-01T00:00:00-05:00",
          "day": 1,
          "month": 3,
          "year": 2015
         },
         {
          "counts": 3,
          "data_type": "Organization",
          "date": "2015-04-01T00:00:00-04:00",
          "day": 1,
          "month": 4,
          "year": 2015
         },
         {
          "counts": 3,
          "data_type": "Organization",
          "date": "2015-05-01T00:00:00-04:00",
          "day": 1,
          "month": 5,
          "year": 2015
         },
         {
          "counts": 2,
          "data_type": "Organization",
          "date": "2015-06-01T00:00:00-04:00",
          "day": 1,
          "month": 6,
          "year": 2015
         },
         {
          "counts": 4,
          "data_type": "Organization",
          "date": "2015-07-01T00:00:00-04:00",
          "day": 1,
          "month": 7,
          "year": 2015
         },
         {
          "counts": 5,
          "data_type": "Organization",
          "date": "2015-08-01T00:00:00-04:00",
          "day": 1,
          "month": 8,
          "year": 2015
         },
         {
          "counts": 6,
          "data_type": "Organization",
          "date": "2015-09-01T00:00:00-04:00",
          "day": 1,
          "month": 9,
          "year": 2015
         },
         {
          "counts": 4,
          "data_type": "Organization",
          "date": "2015-10-01T00:00:00-04:00",
          "day": 1,
          "month": 10,
          "year": 2015
         },
         {
          "counts": 3,
          "data_type": "Organization",
          "date": "2015-11-01T00:00:00-04:00",
          "day": 1,
          "month": 11,
          "year": 2015
         },
         {
          "counts": 8,
          "data_type": "Organization",
          "date": "2015-12-01T00:00:00-05:00",
          "day": 1,
          "month": 12,
          "year": 2015
         },
         {
          "counts": 4,
          "data_type": "Organization",
          "date": "2016-01-01T00:00:00-05:00",
          "day": 1,
          "month": 1,
          "year": 2016
         },
         {
          "counts": 4,
          "data_type": "Organization",
          "date": "2016-02-01T00:00:00-05:00",
          "day": 1,
          "month": 2,
          "year": 2016
         },
         {
          "counts": 4,
          "data_type": "Organization",
          "date": "2016-03-01T00:00:00-05:00",
          "day": 1,
          "month": 3,
          "year": 2016
         },
         {
          "counts": 4,
          "data_type": "Organization",
          "date": "2016-04-01T00:00:00-04:00",
          "day": 1,
          "month": 4,
          "year": 2016
         },
         {
          "counts": 4,
          "data_type": "Organization",
          "date": "2016-05-01T00:00:00-04:00",
          "day": 1,
          "month": 5,
          "year": 2016
         },
         {
          "counts": 4,
          "data_type": "Organization",
          "date": "2016-06-01T00:00:00-04:00",
          "day": 1,
          "month": 6,
          "year": 2016
         },
         {
          "counts": 1,
          "data_type": "Organization",
          "date": "2016-07-01T00:00:00-04:00",
          "day": 1,
          "month": 7,
          "year": 2016
         },
         {
          "counts": 1,
          "data_type": "Organization",
          "date": "2016-08-01T00:00:00-04:00",
          "day": 1,
          "month": 8,
          "year": 2016
         },
         {
          "counts": 4,
          "data_type": "Organization",
          "date": "2016-09-01T00:00:00-04:00",
          "day": 1,
          "month": 9,
          "year": 2016
         },
         {
          "counts": 6,
          "data_type": "Organization",
          "date": "2016-10-01T00:00:00-04:00",
          "day": 1,
          "month": 10,
          "year": 2016
         },
         {
          "counts": 3,
          "data_type": "Organization",
          "date": "2016-11-01T00:00:00-04:00",
          "day": 1,
          "month": 11,
          "year": 2016
         },
         {
          "counts": 1,
          "data_type": "Organization",
          "date": "2016-12-01T00:00:00-05:00",
          "day": 1,
          "month": 12,
          "year": 2016
         },
         {
          "counts": 4,
          "data_type": "Organization",
          "date": "2017-01-01T00:00:00-05:00",
          "day": 1,
          "month": 1,
          "year": 2017
         },
         {
          "counts": 6,
          "data_type": "Organization",
          "date": "2017-02-01T00:00:00-05:00",
          "day": 1,
          "month": 2,
          "year": 2017
         },
         {
          "counts": 2,
          "data_type": "Organization",
          "date": "2017-03-01T00:00:00-05:00",
          "day": 1,
          "month": 3,
          "year": 2017
         },
         {
          "counts": 5,
          "data_type": "Organization",
          "date": "2017-04-01T00:00:00-04:00",
          "day": 1,
          "month": 4,
          "year": 2017
         },
         {
          "counts": 5,
          "data_type": "Organization",
          "date": "2017-05-01T00:00:00-04:00",
          "day": 1,
          "month": 5,
          "year": 2017
         },
         {
          "counts": 3,
          "data_type": "Organization",
          "date": "2017-06-01T00:00:00-04:00",
          "day": 1,
          "month": 6,
          "year": 2017
         },
         {
          "counts": 2,
          "data_type": "Organization",
          "date": "2017-07-01T00:00:00-04:00",
          "day": 1,
          "month": 7,
          "year": 2017
         },
         {
          "counts": 3,
          "data_type": "Organization",
          "date": "2017-08-01T00:00:00-04:00",
          "day": 1,
          "month": 8,
          "year": 2017
         },
         {
          "counts": 8,
          "data_type": "Organization",
          "date": "2017-09-01T00:00:00-04:00",
          "day": 1,
          "month": 9,
          "year": 2017
         },
         {
          "counts": 5,
          "data_type": "Organization",
          "date": "2017-10-01T00:00:00-04:00",
          "day": 1,
          "month": 10,
          "year": 2017
         },
         {
          "counts": 5,
          "data_type": "Organization",
          "date": "2017-11-01T00:00:00-04:00",
          "day": 1,
          "month": 11,
          "year": 2017
         },
         {
          "counts": 1,
          "data_type": "Organization",
          "date": "2017-12-01T00:00:00-05:00",
          "day": 1,
          "month": 12,
          "year": 2017
         },
         {
          "counts": 2,
          "data_type": "Organization",
          "date": "2018-01-01T00:00:00-05:00",
          "day": 1,
          "month": 1,
          "year": 2018
         },
         {
          "counts": 4,
          "data_type": "Organization",
          "date": "2018-02-01T00:00:00-05:00",
          "day": 1,
          "month": 2,
          "year": 2018
         },
         {
          "counts": 3,
          "data_type": "Organization",
          "date": "2018-03-01T00:00:00-05:00",
          "day": 1,
          "month": 3,
          "year": 2018
         },
         {
          "counts": 4,
          "data_type": "Organization",
          "date": "2018-04-01T00:00:00-04:00",
          "day": 1,
          "month": 4,
          "year": 2018
         },
         {
          "counts": 3,
          "data_type": "Organization",
          "date": "2018-05-01T00:00:00-04:00",
          "day": 1,
          "month": 5,
          "year": 2018
         },
         {
          "counts": 2,
          "data_type": "Organization",
          "date": "2018-06-01T00:00:00-04:00",
          "day": 1,
          "month": 6,
          "year": 2018
         },
         {
          "counts": 3,
          "data_type": "Organization",
          "date": "2018-07-01T00:00:00-04:00",
          "day": 1,
          "month": 7,
          "year": 2018
         },
         {
          "counts": 5,
          "data_type": "Organization",
          "date": "2018-08-01T00:00:00-04:00",
          "day": 1,
          "month": 8,
          "year": 2018
         },
         {
          "counts": 3,
          "data_type": "Organization",
          "date": "2018-09-01T00:00:00-04:00",
          "day": 1,
          "month": 9,
          "year": 2018
         },
         {
          "counts": 1,
          "data_type": "Organization",
          "date": "2018-10-01T00:00:00-04:00",
          "day": 1,
          "month": 10,
          "year": 2018
         },
         {
          "counts": 3,
          "data_type": "Organization",
          "date": "2018-11-01T00:00:00-04:00",
          "day": 1,
          "month": 11,
          "year": 2018
         },
         {
          "counts": 2,
          "data_type": "Organization",
          "date": "2018-12-01T00:00:00-05:00",
          "day": 1,
          "month": 12,
          "year": 2018
         },
         {
          "counts": 3,
          "data_type": "Organization",
          "date": "2019-01-01T00:00:00-05:00",
          "day": 1,
          "month": 1,
          "year": 2019
         },
         {
          "counts": 5,
          "data_type": "Organization",
          "date": "2019-02-01T00:00:00-05:00",
          "day": 1,
          "month": 2,
          "year": 2019
         },
         {
          "counts": 6,
          "data_type": "Organization",
          "date": "2019-03-01T00:00:00-05:00",
          "day": 1,
          "month": 3,
          "year": 2019
         },
         {
          "counts": 3,
          "data_type": "Organization",
          "date": "2019-04-01T00:00:00-04:00",
          "day": 1,
          "month": 4,
          "year": 2019
         },
         {
          "counts": 4,
          "data_type": "Organization",
          "date": "2019-05-01T00:00:00-04:00",
          "day": 1,
          "month": 5,
          "year": 2019
         },
         {
          "counts": 3,
          "data_type": "Organization",
          "date": "2019-06-01T00:00:00-04:00",
          "day": 1,
          "month": 6,
          "year": 2019
         },
         {
          "counts": 5,
          "data_type": "Organization",
          "date": "2019-07-01T00:00:00-04:00",
          "day": 1,
          "month": 7,
          "year": 2019
         },
         {
          "counts": 6,
          "data_type": "Organization",
          "date": "2019-09-01T00:00:00-04:00",
          "day": 1,
          "month": 9,
          "year": 2019
         },
         {
          "counts": 4,
          "data_type": "Organization",
          "date": "2019-10-01T00:00:00-04:00",
          "day": 1,
          "month": 10,
          "year": 2019
         },
         {
          "counts": 3,
          "data_type": "Organization",
          "date": "2019-11-01T00:00:00-04:00",
          "day": 1,
          "month": 11,
          "year": 2019
         },
         {
          "counts": 1,
          "data_type": "Organization",
          "date": "2019-12-01T00:00:00-05:00",
          "day": 1,
          "month": 12,
          "year": 2019
         },
         {
          "counts": 2,
          "data_type": "Organization",
          "date": "2020-01-01T00:00:00-05:00",
          "day": 1,
          "month": 1,
          "year": 2020
         },
         {
          "counts": 4,
          "data_type": "Organization",
          "date": "2020-02-01T00:00:00-05:00",
          "day": 1,
          "month": 2,
          "year": 2020
         },
         {
          "counts": 7,
          "data_type": "Organization",
          "date": "2020-03-01T00:00:00-05:00",
          "day": 1,
          "month": 3,
          "year": 2020
         },
         {
          "counts": 3,
          "data_type": "Organization",
          "date": "2020-04-01T00:00:00-04:00",
          "day": 1,
          "month": 4,
          "year": 2020
         },
         {
          "counts": 3,
          "data_type": "Organization",
          "date": "2020-05-01T00:00:00-04:00",
          "day": 1,
          "month": 5,
          "year": 2020
         },
         {
          "counts": 4,
          "data_type": "Organization",
          "date": "2020-06-01T00:00:00-04:00",
          "day": 1,
          "month": 6,
          "year": 2020
         },
         {
          "counts": 6,
          "data_type": "Organization",
          "date": "2020-07-01T00:00:00-04:00",
          "day": 1,
          "month": 7,
          "year": 2020
         },
         {
          "counts": 3,
          "data_type": "Organization",
          "date": "2020-08-01T00:00:00-04:00",
          "day": 1,
          "month": 8,
          "year": 2020
         },
         {
          "counts": 5,
          "data_type": "Organization",
          "date": "2020-09-01T00:00:00-04:00",
          "day": 1,
          "month": 9,
          "year": 2020
         },
         {
          "counts": 4,
          "data_type": "Organization",
          "date": "2020-10-01T00:00:00-04:00",
          "day": 1,
          "month": 10,
          "year": 2020
         },
         {
          "counts": 1,
          "data_type": "Organization",
          "date": "2020-11-01T00:00:00-04:00",
          "day": 1,
          "month": 11,
          "year": 2020
         },
         {
          "counts": 2,
          "data_type": "Organization",
          "date": "2020-12-01T00:00:00-05:00",
          "day": 1,
          "month": 12,
          "year": 2020
         },
         {
          "counts": 5,
          "data_type": "Organization",
          "date": "2021-01-01T00:00:00-05:00",
          "day": 1,
          "month": 1,
          "year": 2021
         },
         {
          "counts": 6,
          "data_type": "Organization",
          "date": "2021-02-01T00:00:00-05:00",
          "day": 1,
          "month": 2,
          "year": 2021
         },
         {
          "counts": 6,
          "data_type": "Organization",
          "date": "2021-03-01T00:00:00-05:00",
          "day": 1,
          "month": 3,
          "year": 2021
         },
         {
          "counts": 5,
          "data_type": "Organization",
          "date": "2021-04-01T00:00:00-04:00",
          "day": 1,
          "month": 4,
          "year": 2021
         },
         {
          "counts": 3,
          "data_type": "Organization",
          "date": "2021-05-01T00:00:00-04:00",
          "day": 1,
          "month": 5,
          "year": 2021
         },
         {
          "counts": 3,
          "data_type": "Organization",
          "date": "2021-06-01T00:00:00-04:00",
          "day": 1,
          "month": 6,
          "year": 2021
         },
         {
          "counts": 2,
          "data_type": "Organization",
          "date": "2021-07-01T00:00:00-04:00",
          "day": 1,
          "month": 7,
          "year": 2021
         },
         {
          "counts": 5,
          "data_type": "Organization",
          "date": "2021-08-01T00:00:00-04:00",
          "day": 1,
          "month": 8,
          "year": 2021
         },
         {
          "counts": 2,
          "data_type": "Organization",
          "date": "2021-09-01T00:00:00-04:00",
          "day": 1,
          "month": 9,
          "year": 2021
         },
         {
          "counts": 3,
          "data_type": "Organization",
          "date": "2021-10-01T00:00:00-04:00",
          "day": 1,
          "month": 10,
          "year": 2021
         },
         {
          "counts": 1,
          "data_type": "Organization",
          "date": "2021-11-01T00:00:00-04:00",
          "day": 1,
          "month": 11,
          "year": 2021
         },
         {
          "counts": 3,
          "data_type": "Organization",
          "date": "2021-12-01T00:00:00-05:00",
          "day": 1,
          "month": 12,
          "year": 2021
         },
         {
          "counts": 4,
          "data_type": "Organization",
          "date": "2022-01-01T00:00:00-05:00",
          "day": 1,
          "month": 1,
          "year": 2022
         },
         {
          "counts": 1,
          "data_type": "Organization",
          "date": "2022-02-01T00:00:00-05:00",
          "day": 1,
          "month": 2,
          "year": 2022
         },
         {
          "counts": 4,
          "data_type": "Organization",
          "date": "2022-03-01T00:00:00-05:00",
          "day": 1,
          "month": 3,
          "year": 2022
         },
         {
          "counts": 5,
          "data_type": "Organization",
          "date": "2022-04-01T00:00:00-04:00",
          "day": 1,
          "month": 4,
          "year": 2022
         },
         {
          "counts": 5,
          "data_type": "Organization",
          "date": "2022-05-01T00:00:00-04:00",
          "day": 1,
          "month": 5,
          "year": 2022
         },
         {
          "counts": 2,
          "data_type": "Organization",
          "date": "2022-06-01T00:00:00-04:00",
          "day": 1,
          "month": 6,
          "year": 2022
         },
         {
          "counts": 2,
          "data_type": "Organization",
          "date": "2022-07-01T00:00:00-04:00",
          "day": 1,
          "month": 7,
          "year": 2022
         },
         {
          "counts": 2,
          "data_type": "Organization",
          "date": "2022-08-01T00:00:00-04:00",
          "day": 1,
          "month": 8,
          "year": 2022
         },
         {
          "counts": 2,
          "data_type": "Organization",
          "date": "2022-09-01T00:00:00-04:00",
          "day": 1,
          "month": 9,
          "year": 2022
         },
         {
          "counts": 1,
          "data_type": "Organization",
          "date": "2022-10-01T00:00:00-04:00",
          "day": 1,
          "month": 10,
          "year": 2022
         },
         {
          "counts": 2,
          "data_type": "Organization",
          "date": "2022-11-01T00:00:00-04:00",
          "day": 1,
          "month": 11,
          "year": 2022
         },
         {
          "counts": 1,
          "data_type": "Repository",
          "date": "2009-11-01T00:00:00-04:00",
          "day": 1,
          "month": 11,
          "year": 2009
         },
         {
          "counts": 1,
          "data_type": "Repository",
          "date": "2010-03-01T00:00:00-05:00",
          "day": 1,
          "month": 3,
          "year": 2010
         },
         {
          "counts": 1,
          "data_type": "Repository",
          "date": "2010-04-01T00:00:00-04:00",
          "day": 1,
          "month": 4,
          "year": 2010
         },
         {
          "counts": 3,
          "data_type": "Repository",
          "date": "2011-02-01T00:00:00-05:00",
          "day": 1,
          "month": 2,
          "year": 2011
         },
         {
          "counts": 1,
          "data_type": "Repository",
          "date": "2011-04-01T00:00:00-04:00",
          "day": 1,
          "month": 4,
          "year": 2011
         },
         {
          "counts": 1,
          "data_type": "Repository",
          "date": "2011-05-01T00:00:00-04:00",
          "day": 1,
          "month": 5,
          "year": 2011
         },
         {
          "counts": 1,
          "data_type": "Repository",
          "date": "2011-08-01T00:00:00-04:00",
          "day": 1,
          "month": 8,
          "year": 2011
         },
         {
          "counts": 1,
          "data_type": "Repository",
          "date": "2011-11-01T00:00:00-04:00",
          "day": 1,
          "month": 11,
          "year": 2011
         },
         {
          "counts": 1,
          "data_type": "Repository",
          "date": "2011-12-01T00:00:00-05:00",
          "day": 1,
          "month": 12,
          "year": 2011
         },
         {
          "counts": 1,
          "data_type": "Repository",
          "date": "2012-01-01T00:00:00-05:00",
          "day": 1,
          "month": 1,
          "year": 2012
         },
         {
          "counts": 2,
          "data_type": "Repository",
          "date": "2012-02-01T00:00:00-05:00",
          "day": 1,
          "month": 2,
          "year": 2012
         },
         {
          "counts": 1,
          "data_type": "Repository",
          "date": "2012-03-01T00:00:00-05:00",
          "day": 1,
          "month": 3,
          "year": 2012
         },
         {
          "counts": 3,
          "data_type": "Repository",
          "date": "2012-04-01T00:00:00-04:00",
          "day": 1,
          "month": 4,
          "year": 2012
         },
         {
          "counts": 2,
          "data_type": "Repository",
          "date": "2012-08-01T00:00:00-04:00",
          "day": 1,
          "month": 8,
          "year": 2012
         },
         {
          "counts": 2,
          "data_type": "Repository",
          "date": "2012-09-01T00:00:00-04:00",
          "day": 1,
          "month": 9,
          "year": 2012
         },
         {
          "counts": 1,
          "data_type": "Repository",
          "date": "2012-10-01T00:00:00-04:00",
          "day": 1,
          "month": 10,
          "year": 2012
         },
         {
          "counts": 3,
          "data_type": "Repository",
          "date": "2012-11-01T00:00:00-04:00",
          "day": 1,
          "month": 11,
          "year": 2012
         },
         {
          "counts": 1,
          "data_type": "Repository",
          "date": "2012-12-01T00:00:00-05:00",
          "day": 1,
          "month": 12,
          "year": 2012
         },
         {
          "counts": 5,
          "data_type": "Repository",
          "date": "2013-01-01T00:00:00-05:00",
          "day": 1,
          "month": 1,
          "year": 2013
         },
         {
          "counts": 1,
          "data_type": "Repository",
          "date": "2013-02-01T00:00:00-05:00",
          "day": 1,
          "month": 2,
          "year": 2013
         },
         {
          "counts": 2,
          "data_type": "Repository",
          "date": "2013-03-01T00:00:00-05:00",
          "day": 1,
          "month": 3,
          "year": 2013
         },
         {
          "counts": 2,
          "data_type": "Repository",
          "date": "2013-04-01T00:00:00-04:00",
          "day": 1,
          "month": 4,
          "year": 2013
         },
         {
          "counts": 2,
          "data_type": "Repository",
          "date": "2013-05-01T00:00:00-04:00",
          "day": 1,
          "month": 5,
          "year": 2013
         },
         {
          "counts": 2,
          "data_type": "Repository",
          "date": "2013-06-01T00:00:00-04:00",
          "day": 1,
          "month": 6,
          "year": 2013
         },
         {
          "counts": 2,
          "data_type": "Repository",
          "date": "2013-07-01T00:00:00-04:00",
          "day": 1,
          "month": 7,
          "year": 2013
         },
         {
          "counts": 2,
          "data_type": "Repository",
          "date": "2013-08-01T00:00:00-04:00",
          "day": 1,
          "month": 8,
          "year": 2013
         },
         {
          "counts": 1,
          "data_type": "Repository",
          "date": "2013-09-01T00:00:00-04:00",
          "day": 1,
          "month": 9,
          "year": 2013
         },
         {
          "counts": 5,
          "data_type": "Repository",
          "date": "2013-12-01T00:00:00-05:00",
          "day": 1,
          "month": 12,
          "year": 2013
         },
         {
          "counts": 2,
          "data_type": "Repository",
          "date": "2014-01-01T00:00:00-05:00",
          "day": 1,
          "month": 1,
          "year": 2014
         },
         {
          "counts": 7,
          "data_type": "Repository",
          "date": "2014-02-01T00:00:00-05:00",
          "day": 1,
          "month": 2,
          "year": 2014
         },
         {
          "counts": 2,
          "data_type": "Repository",
          "date": "2014-03-01T00:00:00-05:00",
          "day": 1,
          "month": 3,
          "year": 2014
         },
         {
          "counts": 4,
          "data_type": "Repository",
          "date": "2014-04-01T00:00:00-04:00",
          "day": 1,
          "month": 4,
          "year": 2014
         },
         {
          "counts": 7,
          "data_type": "Repository",
          "date": "2014-05-01T00:00:00-04:00",
          "day": 1,
          "month": 5,
          "year": 2014
         },
         {
          "counts": 2,
          "data_type": "Repository",
          "date": "2014-06-01T00:00:00-04:00",
          "day": 1,
          "month": 6,
          "year": 2014
         },
         {
          "counts": 4,
          "data_type": "Repository",
          "date": "2014-07-01T00:00:00-04:00",
          "day": 1,
          "month": 7,
          "year": 2014
         },
         {
          "counts": 6,
          "data_type": "Repository",
          "date": "2014-08-01T00:00:00-04:00",
          "day": 1,
          "month": 8,
          "year": 2014
         },
         {
          "counts": 5,
          "data_type": "Repository",
          "date": "2014-09-01T00:00:00-04:00",
          "day": 1,
          "month": 9,
          "year": 2014
         },
         {
          "counts": 3,
          "data_type": "Repository",
          "date": "2014-10-01T00:00:00-04:00",
          "day": 1,
          "month": 10,
          "year": 2014
         },
         {
          "counts": 8,
          "data_type": "Repository",
          "date": "2014-11-01T00:00:00-04:00",
          "day": 1,
          "month": 11,
          "year": 2014
         },
         {
          "counts": 7,
          "data_type": "Repository",
          "date": "2014-12-01T00:00:00-05:00",
          "day": 1,
          "month": 12,
          "year": 2014
         },
         {
          "counts": 9,
          "data_type": "Repository",
          "date": "2015-01-01T00:00:00-05:00",
          "day": 1,
          "month": 1,
          "year": 2015
         },
         {
          "counts": 5,
          "data_type": "Repository",
          "date": "2015-02-01T00:00:00-05:00",
          "day": 1,
          "month": 2,
          "year": 2015
         },
         {
          "counts": 5,
          "data_type": "Repository",
          "date": "2015-03-01T00:00:00-05:00",
          "day": 1,
          "month": 3,
          "year": 2015
         },
         {
          "counts": 7,
          "data_type": "Repository",
          "date": "2015-04-01T00:00:00-04:00",
          "day": 1,
          "month": 4,
          "year": 2015
         },
         {
          "counts": 7,
          "data_type": "Repository",
          "date": "2015-05-01T00:00:00-04:00",
          "day": 1,
          "month": 5,
          "year": 2015
         },
         {
          "counts": 8,
          "data_type": "Repository",
          "date": "2015-06-01T00:00:00-04:00",
          "day": 1,
          "month": 6,
          "year": 2015
         },
         {
          "counts": 11,
          "data_type": "Repository",
          "date": "2015-07-01T00:00:00-04:00",
          "day": 1,
          "month": 7,
          "year": 2015
         },
         {
          "counts": 8,
          "data_type": "Repository",
          "date": "2015-08-01T00:00:00-04:00",
          "day": 1,
          "month": 8,
          "year": 2015
         },
         {
          "counts": 9,
          "data_type": "Repository",
          "date": "2015-09-01T00:00:00-04:00",
          "day": 1,
          "month": 9,
          "year": 2015
         },
         {
          "counts": 6,
          "data_type": "Repository",
          "date": "2015-10-01T00:00:00-04:00",
          "day": 1,
          "month": 10,
          "year": 2015
         },
         {
          "counts": 6,
          "data_type": "Repository",
          "date": "2015-11-01T00:00:00-04:00",
          "day": 1,
          "month": 11,
          "year": 2015
         },
         {
          "counts": 11,
          "data_type": "Repository",
          "date": "2015-12-01T00:00:00-05:00",
          "day": 1,
          "month": 12,
          "year": 2015
         },
         {
          "counts": 14,
          "data_type": "Repository",
          "date": "2016-01-01T00:00:00-05:00",
          "day": 1,
          "month": 1,
          "year": 2016
         },
         {
          "counts": 5,
          "data_type": "Repository",
          "date": "2016-02-01T00:00:00-05:00",
          "day": 1,
          "month": 2,
          "year": 2016
         },
         {
          "counts": 9,
          "data_type": "Repository",
          "date": "2016-03-01T00:00:00-05:00",
          "day": 1,
          "month": 3,
          "year": 2016
         },
         {
          "counts": 9,
          "data_type": "Repository",
          "date": "2016-04-01T00:00:00-04:00",
          "day": 1,
          "month": 4,
          "year": 2016
         },
         {
          "counts": 12,
          "data_type": "Repository",
          "date": "2016-05-01T00:00:00-04:00",
          "day": 1,
          "month": 5,
          "year": 2016
         },
         {
          "counts": 8,
          "data_type": "Repository",
          "date": "2016-06-01T00:00:00-04:00",
          "day": 1,
          "month": 6,
          "year": 2016
         },
         {
          "counts": 11,
          "data_type": "Repository",
          "date": "2016-07-01T00:00:00-04:00",
          "day": 1,
          "month": 7,
          "year": 2016
         },
         {
          "counts": 8,
          "data_type": "Repository",
          "date": "2016-08-01T00:00:00-04:00",
          "day": 1,
          "month": 8,
          "year": 2016
         },
         {
          "counts": 14,
          "data_type": "Repository",
          "date": "2016-09-01T00:00:00-04:00",
          "day": 1,
          "month": 9,
          "year": 2016
         },
         {
          "counts": 9,
          "data_type": "Repository",
          "date": "2016-10-01T00:00:00-04:00",
          "day": 1,
          "month": 10,
          "year": 2016
         },
         {
          "counts": 14,
          "data_type": "Repository",
          "date": "2016-11-01T00:00:00-04:00",
          "day": 1,
          "month": 11,
          "year": 2016
         },
         {
          "counts": 17,
          "data_type": "Repository",
          "date": "2016-12-01T00:00:00-05:00",
          "day": 1,
          "month": 12,
          "year": 2016
         },
         {
          "counts": 18,
          "data_type": "Repository",
          "date": "2017-01-01T00:00:00-05:00",
          "day": 1,
          "month": 1,
          "year": 2017
         },
         {
          "counts": 22,
          "data_type": "Repository",
          "date": "2017-02-01T00:00:00-05:00",
          "day": 1,
          "month": 2,
          "year": 2017
         },
         {
          "counts": 22,
          "data_type": "Repository",
          "date": "2017-03-01T00:00:00-05:00",
          "day": 1,
          "month": 3,
          "year": 2017
         },
         {
          "counts": 13,
          "data_type": "Repository",
          "date": "2017-04-01T00:00:00-04:00",
          "day": 1,
          "month": 4,
          "year": 2017
         },
         {
          "counts": 14,
          "data_type": "Repository",
          "date": "2017-05-01T00:00:00-04:00",
          "day": 1,
          "month": 5,
          "year": 2017
         },
         {
          "counts": 11,
          "data_type": "Repository",
          "date": "2017-06-01T00:00:00-04:00",
          "day": 1,
          "month": 6,
          "year": 2017
         },
         {
          "counts": 23,
          "data_type": "Repository",
          "date": "2017-07-01T00:00:00-04:00",
          "day": 1,
          "month": 7,
          "year": 2017
         },
         {
          "counts": 22,
          "data_type": "Repository",
          "date": "2017-08-01T00:00:00-04:00",
          "day": 1,
          "month": 8,
          "year": 2017
         },
         {
          "counts": 44,
          "data_type": "Repository",
          "date": "2017-09-01T00:00:00-04:00",
          "day": 1,
          "month": 9,
          "year": 2017
         },
         {
          "counts": 15,
          "data_type": "Repository",
          "date": "2017-10-01T00:00:00-04:00",
          "day": 1,
          "month": 10,
          "year": 2017
         },
         {
          "counts": 28,
          "data_type": "Repository",
          "date": "2017-11-01T00:00:00-04:00",
          "day": 1,
          "month": 11,
          "year": 2017
         },
         {
          "counts": 12,
          "data_type": "Repository",
          "date": "2017-12-01T00:00:00-05:00",
          "day": 1,
          "month": 12,
          "year": 2017
         },
         {
          "counts": 25,
          "data_type": "Repository",
          "date": "2018-01-01T00:00:00-05:00",
          "day": 1,
          "month": 1,
          "year": 2018
         },
         {
          "counts": 31,
          "data_type": "Repository",
          "date": "2018-02-01T00:00:00-05:00",
          "day": 1,
          "month": 2,
          "year": 2018
         },
         {
          "counts": 30,
          "data_type": "Repository",
          "date": "2018-03-01T00:00:00-05:00",
          "day": 1,
          "month": 3,
          "year": 2018
         },
         {
          "counts": 21,
          "data_type": "Repository",
          "date": "2018-04-01T00:00:00-04:00",
          "day": 1,
          "month": 4,
          "year": 2018
         },
         {
          "counts": 31,
          "data_type": "Repository",
          "date": "2018-05-01T00:00:00-04:00",
          "day": 1,
          "month": 5,
          "year": 2018
         },
         {
          "counts": 20,
          "data_type": "Repository",
          "date": "2018-06-01T00:00:00-04:00",
          "day": 1,
          "month": 6,
          "year": 2018
         },
         {
          "counts": 25,
          "data_type": "Repository",
          "date": "2018-07-01T00:00:00-04:00",
          "day": 1,
          "month": 7,
          "year": 2018
         },
         {
          "counts": 26,
          "data_type": "Repository",
          "date": "2018-08-01T00:00:00-04:00",
          "day": 1,
          "month": 8,
          "year": 2018
         },
         {
          "counts": 33,
          "data_type": "Repository",
          "date": "2018-09-01T00:00:00-04:00",
          "day": 1,
          "month": 9,
          "year": 2018
         },
         {
          "counts": 27,
          "data_type": "Repository",
          "date": "2018-10-01T00:00:00-04:00",
          "day": 1,
          "month": 10,
          "year": 2018
         },
         {
          "counts": 32,
          "data_type": "Repository",
          "date": "2018-11-01T00:00:00-04:00",
          "day": 1,
          "month": 11,
          "year": 2018
         },
         {
          "counts": 21,
          "data_type": "Repository",
          "date": "2018-12-01T00:00:00-05:00",
          "day": 1,
          "month": 12,
          "year": 2018
         },
         {
          "counts": 25,
          "data_type": "Repository",
          "date": "2019-01-01T00:00:00-05:00",
          "day": 1,
          "month": 1,
          "year": 2019
         },
         {
          "counts": 25,
          "data_type": "Repository",
          "date": "2019-02-01T00:00:00-05:00",
          "day": 1,
          "month": 2,
          "year": 2019
         },
         {
          "counts": 27,
          "data_type": "Repository",
          "date": "2019-03-01T00:00:00-05:00",
          "day": 1,
          "month": 3,
          "year": 2019
         },
         {
          "counts": 22,
          "data_type": "Repository",
          "date": "2019-04-01T00:00:00-04:00",
          "day": 1,
          "month": 4,
          "year": 2019
         },
         {
          "counts": 36,
          "data_type": "Repository",
          "date": "2019-05-01T00:00:00-04:00",
          "day": 1,
          "month": 5,
          "year": 2019
         },
         {
          "counts": 21,
          "data_type": "Repository",
          "date": "2019-06-01T00:00:00-04:00",
          "day": 1,
          "month": 6,
          "year": 2019
         },
         {
          "counts": 27,
          "data_type": "Repository",
          "date": "2019-07-01T00:00:00-04:00",
          "day": 1,
          "month": 7,
          "year": 2019
         },
         {
          "counts": 21,
          "data_type": "Repository",
          "date": "2019-08-01T00:00:00-04:00",
          "day": 1,
          "month": 8,
          "year": 2019
         },
         {
          "counts": 25,
          "data_type": "Repository",
          "date": "2019-09-01T00:00:00-04:00",
          "day": 1,
          "month": 9,
          "year": 2019
         },
         {
          "counts": 35,
          "data_type": "Repository",
          "date": "2019-10-01T00:00:00-04:00",
          "day": 1,
          "month": 10,
          "year": 2019
         },
         {
          "counts": 23,
          "data_type": "Repository",
          "date": "2019-11-01T00:00:00-04:00",
          "day": 1,
          "month": 11,
          "year": 2019
         },
         {
          "counts": 18,
          "data_type": "Repository",
          "date": "2019-12-01T00:00:00-05:00",
          "day": 1,
          "month": 12,
          "year": 2019
         },
         {
          "counts": 47,
          "data_type": "Repository",
          "date": "2020-01-01T00:00:00-05:00",
          "day": 1,
          "month": 1,
          "year": 2020
         },
         {
          "counts": 34,
          "data_type": "Repository",
          "date": "2020-02-01T00:00:00-05:00",
          "day": 1,
          "month": 2,
          "year": 2020
         },
         {
          "counts": 31,
          "data_type": "Repository",
          "date": "2020-03-01T00:00:00-05:00",
          "day": 1,
          "month": 3,
          "year": 2020
         },
         {
          "counts": 25,
          "data_type": "Repository",
          "date": "2020-04-01T00:00:00-04:00",
          "day": 1,
          "month": 4,
          "year": 2020
         },
         {
          "counts": 16,
          "data_type": "Repository",
          "date": "2020-05-01T00:00:00-04:00",
          "day": 1,
          "month": 5,
          "year": 2020
         },
         {
          "counts": 23,
          "data_type": "Repository",
          "date": "2020-06-01T00:00:00-04:00",
          "day": 1,
          "month": 6,
          "year": 2020
         },
         {
          "counts": 33,
          "data_type": "Repository",
          "date": "2020-07-01T00:00:00-04:00",
          "day": 1,
          "month": 7,
          "year": 2020
         },
         {
          "counts": 28,
          "data_type": "Repository",
          "date": "2020-08-01T00:00:00-04:00",
          "day": 1,
          "month": 8,
          "year": 2020
         },
         {
          "counts": 34,
          "data_type": "Repository",
          "date": "2020-09-01T00:00:00-04:00",
          "day": 1,
          "month": 9,
          "year": 2020
         },
         {
          "counts": 21,
          "data_type": "Repository",
          "date": "2020-10-01T00:00:00-04:00",
          "day": 1,
          "month": 10,
          "year": 2020
         },
         {
          "counts": 25,
          "data_type": "Repository",
          "date": "2020-11-01T00:00:00-04:00",
          "day": 1,
          "month": 11,
          "year": 2020
         },
         {
          "counts": 35,
          "data_type": "Repository",
          "date": "2020-12-01T00:00:00-05:00",
          "day": 1,
          "month": 12,
          "year": 2020
         },
         {
          "counts": 26,
          "data_type": "Repository",
          "date": "2021-01-01T00:00:00-05:00",
          "day": 1,
          "month": 1,
          "year": 2021
         },
         {
          "counts": 31,
          "data_type": "Repository",
          "date": "2021-02-01T00:00:00-05:00",
          "day": 1,
          "month": 2,
          "year": 2021
         },
         {
          "counts": 42,
          "data_type": "Repository",
          "date": "2021-03-01T00:00:00-05:00",
          "day": 1,
          "month": 3,
          "year": 2021
         },
         {
          "counts": 35,
          "data_type": "Repository",
          "date": "2021-04-01T00:00:00-04:00",
          "day": 1,
          "month": 4,
          "year": 2021
         },
         {
          "counts": 29,
          "data_type": "Repository",
          "date": "2021-05-01T00:00:00-04:00",
          "day": 1,
          "month": 5,
          "year": 2021
         },
         {
          "counts": 50,
          "data_type": "Repository",
          "date": "2021-06-01T00:00:00-04:00",
          "day": 1,
          "month": 6,
          "year": 2021
         },
         {
          "counts": 20,
          "data_type": "Repository",
          "date": "2021-07-01T00:00:00-04:00",
          "day": 1,
          "month": 7,
          "year": 2021
         },
         {
          "counts": 31,
          "data_type": "Repository",
          "date": "2021-08-01T00:00:00-04:00",
          "day": 1,
          "month": 8,
          "year": 2021
         },
         {
          "counts": 34,
          "data_type": "Repository",
          "date": "2021-09-01T00:00:00-04:00",
          "day": 1,
          "month": 9,
          "year": 2021
         },
         {
          "counts": 28,
          "data_type": "Repository",
          "date": "2021-10-01T00:00:00-04:00",
          "day": 1,
          "month": 10,
          "year": 2021
         },
         {
          "counts": 35,
          "data_type": "Repository",
          "date": "2021-11-01T00:00:00-04:00",
          "day": 1,
          "month": 11,
          "year": 2021
         },
         {
          "counts": 32,
          "data_type": "Repository",
          "date": "2021-12-01T00:00:00-05:00",
          "day": 1,
          "month": 12,
          "year": 2021
         },
         {
          "counts": 35,
          "data_type": "Repository",
          "date": "2022-01-01T00:00:00-05:00",
          "day": 1,
          "month": 1,
          "year": 2022
         },
         {
          "counts": 30,
          "data_type": "Repository",
          "date": "2022-02-01T00:00:00-05:00",
          "day": 1,
          "month": 2,
          "year": 2022
         },
         {
          "counts": 34,
          "data_type": "Repository",
          "date": "2022-03-01T00:00:00-05:00",
          "day": 1,
          "month": 3,
          "year": 2022
         },
         {
          "counts": 27,
          "data_type": "Repository",
          "date": "2022-04-01T00:00:00-04:00",
          "day": 1,
          "month": 4,
          "year": 2022
         },
         {
          "counts": 60,
          "data_type": "Repository",
          "date": "2022-05-01T00:00:00-04:00",
          "day": 1,
          "month": 5,
          "year": 2022
         },
         {
          "counts": 40,
          "data_type": "Repository",
          "date": "2022-06-01T00:00:00-04:00",
          "day": 1,
          "month": 6,
          "year": 2022
         },
         {
          "counts": 37,
          "data_type": "Repository",
          "date": "2022-07-01T00:00:00-04:00",
          "day": 1,
          "month": 7,
          "year": 2022
         },
         {
          "counts": 36,
          "data_type": "Repository",
          "date": "2022-08-01T00:00:00-04:00",
          "day": 1,
          "month": 8,
          "year": 2022
         },
         {
          "counts": 31,
          "data_type": "Repository",
          "date": "2022-09-01T00:00:00-04:00",
          "day": 1,
          "month": 9,
          "year": 2022
         },
         {
          "counts": 30,
          "data_type": "Repository",
          "date": "2022-10-01T00:00:00-04:00",
          "day": 1,
          "month": 10,
          "year": 2022
         },
         {
          "counts": 15,
          "data_type": "Repository",
          "date": "2022-11-01T00:00:00-04:00",
          "day": 1,
          "month": 11,
          "year": 2022
         },
         {
          "counts": 5,
          "data_type": "Repository",
          "date": "2022-12-01T00:00:00-05:00",
          "day": 1,
          "month": 12,
          "year": 2022
         },
         {
          "counts": 3,
          "data_type": "User",
          "date": "2008-02-01T00:00:00-05:00",
          "day": 1,
          "month": 2,
          "year": 2008
         },
         {
          "counts": 3,
          "data_type": "User",
          "date": "2008-03-01T00:00:00-05:00",
          "day": 1,
          "month": 3,
          "year": 2008
         },
         {
          "counts": 4,
          "data_type": "User",
          "date": "2008-04-01T00:00:00-04:00",
          "day": 1,
          "month": 4,
          "year": 2008
         },
         {
          "counts": 3,
          "data_type": "User",
          "date": "2008-05-01T00:00:00-04:00",
          "day": 1,
          "month": 5,
          "year": 2008
         },
         {
          "counts": 3,
          "data_type": "User",
          "date": "2008-06-01T00:00:00-04:00",
          "day": 1,
          "month": 6,
          "year": 2008
         },
         {
          "counts": 2,
          "data_type": "User",
          "date": "2008-07-01T00:00:00-04:00",
          "day": 1,
          "month": 7,
          "year": 2008
         },
         {
          "counts": 6,
          "data_type": "User",
          "date": "2008-08-01T00:00:00-04:00",
          "day": 1,
          "month": 8,
          "year": 2008
         },
         {
          "counts": 8,
          "data_type": "User",
          "date": "2008-09-01T00:00:00-04:00",
          "day": 1,
          "month": 9,
          "year": 2008
         },
         {
          "counts": 5,
          "data_type": "User",
          "date": "2008-10-01T00:00:00-04:00",
          "day": 1,
          "month": 10,
          "year": 2008
         },
         {
          "counts": 9,
          "data_type": "User",
          "date": "2008-11-01T00:00:00-04:00",
          "day": 1,
          "month": 11,
          "year": 2008
         },
         {
          "counts": 7,
          "data_type": "User",
          "date": "2008-12-01T00:00:00-05:00",
          "day": 1,
          "month": 12,
          "year": 2008
         },
         {
          "counts": 8,
          "data_type": "User",
          "date": "2009-01-01T00:00:00-05:00",
          "day": 1,
          "month": 1,
          "year": 2009
         },
         {
          "counts": 9,
          "data_type": "User",
          "date": "2009-02-01T00:00:00-05:00",
          "day": 1,
          "month": 2,
          "year": 2009
         },
         {
          "counts": 11,
          "data_type": "User",
          "date": "2009-03-01T00:00:00-05:00",
          "day": 1,
          "month": 3,
          "year": 2009
         },
         {
          "counts": 12,
          "data_type": "User",
          "date": "2009-04-01T00:00:00-04:00",
          "day": 1,
          "month": 4,
          "year": 2009
         },
         {
          "counts": 10,
          "data_type": "User",
          "date": "2009-05-01T00:00:00-04:00",
          "day": 1,
          "month": 5,
          "year": 2009
         },
         {
          "counts": 3,
          "data_type": "User",
          "date": "2009-06-01T00:00:00-04:00",
          "day": 1,
          "month": 6,
          "year": 2009
         },
         {
          "counts": 9,
          "data_type": "User",
          "date": "2009-07-01T00:00:00-04:00",
          "day": 1,
          "month": 7,
          "year": 2009
         },
         {
          "counts": 13,
          "data_type": "User",
          "date": "2009-08-01T00:00:00-04:00",
          "day": 1,
          "month": 8,
          "year": 2009
         },
         {
          "counts": 6,
          "data_type": "User",
          "date": "2009-09-01T00:00:00-04:00",
          "day": 1,
          "month": 9,
          "year": 2009
         },
         {
          "counts": 11,
          "data_type": "User",
          "date": "2009-10-01T00:00:00-04:00",
          "day": 1,
          "month": 10,
          "year": 2009
         },
         {
          "counts": 10,
          "data_type": "User",
          "date": "2009-11-01T00:00:00-04:00",
          "day": 1,
          "month": 11,
          "year": 2009
         },
         {
          "counts": 11,
          "data_type": "User",
          "date": "2009-12-01T00:00:00-05:00",
          "day": 1,
          "month": 12,
          "year": 2009
         },
         {
          "counts": 14,
          "data_type": "User",
          "date": "2010-01-01T00:00:00-05:00",
          "day": 1,
          "month": 1,
          "year": 2010
         },
         {
          "counts": 7,
          "data_type": "User",
          "date": "2010-02-01T00:00:00-05:00",
          "day": 1,
          "month": 2,
          "year": 2010
         },
         {
          "counts": 20,
          "data_type": "User",
          "date": "2010-03-01T00:00:00-05:00",
          "day": 1,
          "month": 3,
          "year": 2010
         },
         {
          "counts": 8,
          "data_type": "User",
          "date": "2010-04-01T00:00:00-04:00",
          "day": 1,
          "month": 4,
          "year": 2010
         },
         {
          "counts": 14,
          "data_type": "User",
          "date": "2010-05-01T00:00:00-04:00",
          "day": 1,
          "month": 5,
          "year": 2010
         },
         {
          "counts": 17,
          "data_type": "User",
          "date": "2010-06-01T00:00:00-04:00",
          "day": 1,
          "month": 6,
          "year": 2010
         },
         {
          "counts": 10,
          "data_type": "User",
          "date": "2010-07-01T00:00:00-04:00",
          "day": 1,
          "month": 7,
          "year": 2010
         },
         {
          "counts": 8,
          "data_type": "User",
          "date": "2010-08-01T00:00:00-04:00",
          "day": 1,
          "month": 8,
          "year": 2010
         },
         {
          "counts": 19,
          "data_type": "User",
          "date": "2010-09-01T00:00:00-04:00",
          "day": 1,
          "month": 9,
          "year": 2010
         },
         {
          "counts": 13,
          "data_type": "User",
          "date": "2010-10-01T00:00:00-04:00",
          "day": 1,
          "month": 10,
          "year": 2010
         },
         {
          "counts": 13,
          "data_type": "User",
          "date": "2010-11-01T00:00:00-04:00",
          "day": 1,
          "month": 11,
          "year": 2010
         },
         {
          "counts": 17,
          "data_type": "User",
          "date": "2010-12-01T00:00:00-05:00",
          "day": 1,
          "month": 12,
          "year": 2010
         },
         {
          "counts": 10,
          "data_type": "User",
          "date": "2011-01-01T00:00:00-05:00",
          "day": 1,
          "month": 1,
          "year": 2011
         },
         {
          "counts": 27,
          "data_type": "User",
          "date": "2011-02-01T00:00:00-05:00",
          "day": 1,
          "month": 2,
          "year": 2011
         },
         {
          "counts": 24,
          "data_type": "User",
          "date": "2011-03-01T00:00:00-05:00",
          "day": 1,
          "month": 3,
          "year": 2011
         },
         {
          "counts": 13,
          "data_type": "User",
          "date": "2011-04-01T00:00:00-04:00",
          "day": 1,
          "month": 4,
          "year": 2011
         },
         {
          "counts": 16,
          "data_type": "User",
          "date": "2011-05-01T00:00:00-04:00",
          "day": 1,
          "month": 5,
          "year": 2011
         },
         {
          "counts": 24,
          "data_type": "User",
          "date": "2011-06-01T00:00:00-04:00",
          "day": 1,
          "month": 6,
          "year": 2011
         },
         {
          "counts": 16,
          "data_type": "User",
          "date": "2011-07-01T00:00:00-04:00",
          "day": 1,
          "month": 7,
          "year": 2011
         },
         {
          "counts": 24,
          "data_type": "User",
          "date": "2011-08-01T00:00:00-04:00",
          "day": 1,
          "month": 8,
          "year": 2011
         },
         {
          "counts": 18,
          "data_type": "User",
          "date": "2011-09-01T00:00:00-04:00",
          "day": 1,
          "month": 9,
          "year": 2011
         },
         {
          "counts": 17,
          "data_type": "User",
          "date": "2011-10-01T00:00:00-04:00",
          "day": 1,
          "month": 10,
          "year": 2011
         },
         {
          "counts": 18,
          "data_type": "User",
          "date": "2011-11-01T00:00:00-04:00",
          "day": 1,
          "month": 11,
          "year": 2011
         },
         {
          "counts": 15,
          "data_type": "User",
          "date": "2011-12-01T00:00:00-05:00",
          "day": 1,
          "month": 12,
          "year": 2011
         },
         {
          "counts": 19,
          "data_type": "User",
          "date": "2012-01-01T00:00:00-05:00",
          "day": 1,
          "month": 1,
          "year": 2012
         },
         {
          "counts": 23,
          "data_type": "User",
          "date": "2012-02-01T00:00:00-05:00",
          "day": 1,
          "month": 2,
          "year": 2012
         },
         {
          "counts": 14,
          "data_type": "User",
          "date": "2012-03-01T00:00:00-05:00",
          "day": 1,
          "month": 3,
          "year": 2012
         },
         {
          "counts": 20,
          "data_type": "User",
          "date": "2012-04-01T00:00:00-04:00",
          "day": 1,
          "month": 4,
          "year": 2012
         },
         {
          "counts": 31,
          "data_type": "User",
          "date": "2012-05-01T00:00:00-04:00",
          "day": 1,
          "month": 5,
          "year": 2012
         },
         {
          "counts": 18,
          "data_type": "User",
          "date": "2012-06-01T00:00:00-04:00",
          "day": 1,
          "month": 6,
          "year": 2012
         },
         {
          "counts": 24,
          "data_type": "User",
          "date": "2012-07-01T00:00:00-04:00",
          "day": 1,
          "month": 7,
          "year": 2012
         },
         {
          "counts": 20,
          "data_type": "User",
          "date": "2012-08-01T00:00:00-04:00",
          "day": 1,
          "month": 8,
          "year": 2012
         },
         {
          "counts": 26,
          "data_type": "User",
          "date": "2012-09-01T00:00:00-04:00",
          "day": 1,
          "month": 9,
          "year": 2012
         },
         {
          "counts": 35,
          "data_type": "User",
          "date": "2012-10-01T00:00:00-04:00",
          "day": 1,
          "month": 10,
          "year": 2012
         },
         {
          "counts": 17,
          "data_type": "User",
          "date": "2012-11-01T00:00:00-04:00",
          "day": 1,
          "month": 11,
          "year": 2012
         },
         {
          "counts": 31,
          "data_type": "User",
          "date": "2012-12-01T00:00:00-05:00",
          "day": 1,
          "month": 12,
          "year": 2012
         },
         {
          "counts": 29,
          "data_type": "User",
          "date": "2013-01-01T00:00:00-05:00",
          "day": 1,
          "month": 1,
          "year": 2013
         },
         {
          "counts": 33,
          "data_type": "User",
          "date": "2013-02-01T00:00:00-05:00",
          "day": 1,
          "month": 2,
          "year": 2013
         },
         {
          "counts": 25,
          "data_type": "User",
          "date": "2013-03-01T00:00:00-05:00",
          "day": 1,
          "month": 3,
          "year": 2013
         },
         {
          "counts": 28,
          "data_type": "User",
          "date": "2013-04-01T00:00:00-04:00",
          "day": 1,
          "month": 4,
          "year": 2013
         },
         {
          "counts": 26,
          "data_type": "User",
          "date": "2013-05-01T00:00:00-04:00",
          "day": 1,
          "month": 5,
          "year": 2013
         },
         {
          "counts": 24,
          "data_type": "User",
          "date": "2013-06-01T00:00:00-04:00",
          "day": 1,
          "month": 6,
          "year": 2013
         },
         {
          "counts": 14,
          "data_type": "User",
          "date": "2013-07-01T00:00:00-04:00",
          "day": 1,
          "month": 7,
          "year": 2013
         },
         {
          "counts": 19,
          "data_type": "User",
          "date": "2013-08-01T00:00:00-04:00",
          "day": 1,
          "month": 8,
          "year": 2013
         },
         {
          "counts": 25,
          "data_type": "User",
          "date": "2013-09-01T00:00:00-04:00",
          "day": 1,
          "month": 9,
          "year": 2013
         },
         {
          "counts": 24,
          "data_type": "User",
          "date": "2013-10-01T00:00:00-04:00",
          "day": 1,
          "month": 10,
          "year": 2013
         },
         {
          "counts": 15,
          "data_type": "User",
          "date": "2013-11-01T00:00:00-04:00",
          "day": 1,
          "month": 11,
          "year": 2013
         },
         {
          "counts": 15,
          "data_type": "User",
          "date": "2013-12-01T00:00:00-05:00",
          "day": 1,
          "month": 12,
          "year": 2013
         },
         {
          "counts": 30,
          "data_type": "User",
          "date": "2014-01-01T00:00:00-05:00",
          "day": 1,
          "month": 1,
          "year": 2014
         },
         {
          "counts": 30,
          "data_type": "User",
          "date": "2014-02-01T00:00:00-05:00",
          "day": 1,
          "month": 2,
          "year": 2014
         },
         {
          "counts": 20,
          "data_type": "User",
          "date": "2014-03-01T00:00:00-05:00",
          "day": 1,
          "month": 3,
          "year": 2014
         },
         {
          "counts": 38,
          "data_type": "User",
          "date": "2014-04-01T00:00:00-04:00",
          "day": 1,
          "month": 4,
          "year": 2014
         },
         {
          "counts": 34,
          "data_type": "User",
          "date": "2014-05-01T00:00:00-04:00",
          "day": 1,
          "month": 5,
          "year": 2014
         },
         {
          "counts": 22,
          "data_type": "User",
          "date": "2014-06-01T00:00:00-04:00",
          "day": 1,
          "month": 6,
          "year": 2014
         },
         {
          "counts": 27,
          "data_type": "User",
          "date": "2014-07-01T00:00:00-04:00",
          "day": 1,
          "month": 7,
          "year": 2014
         },
         {
          "counts": 24,
          "data_type": "User",
          "date": "2014-08-01T00:00:00-04:00",
          "day": 1,
          "month": 8,
          "year": 2014
         },
         {
          "counts": 29,
          "data_type": "User",
          "date": "2014-09-01T00:00:00-04:00",
          "day": 1,
          "month": 9,
          "year": 2014
         },
         {
          "counts": 25,
          "data_type": "User",
          "date": "2014-10-01T00:00:00-04:00",
          "day": 1,
          "month": 10,
          "year": 2014
         },
         {
          "counts": 22,
          "data_type": "User",
          "date": "2014-11-01T00:00:00-04:00",
          "day": 1,
          "month": 11,
          "year": 2014
         },
         {
          "counts": 18,
          "data_type": "User",
          "date": "2014-12-01T00:00:00-05:00",
          "day": 1,
          "month": 12,
          "year": 2014
         },
         {
          "counts": 30,
          "data_type": "User",
          "date": "2015-01-01T00:00:00-05:00",
          "day": 1,
          "month": 1,
          "year": 2015
         },
         {
          "counts": 23,
          "data_type": "User",
          "date": "2015-02-01T00:00:00-05:00",
          "day": 1,
          "month": 2,
          "year": 2015
         },
         {
          "counts": 39,
          "data_type": "User",
          "date": "2015-03-01T00:00:00-05:00",
          "day": 1,
          "month": 3,
          "year": 2015
         },
         {
          "counts": 34,
          "data_type": "User",
          "date": "2015-04-01T00:00:00-04:00",
          "day": 1,
          "month": 4,
          "year": 2015
         },
         {
          "counts": 31,
          "data_type": "User",
          "date": "2015-05-01T00:00:00-04:00",
          "day": 1,
          "month": 5,
          "year": 2015
         },
         {
          "counts": 21,
          "data_type": "User",
          "date": "2015-06-01T00:00:00-04:00",
          "day": 1,
          "month": 6,
          "year": 2015
         },
         {
          "counts": 20,
          "data_type": "User",
          "date": "2015-07-01T00:00:00-04:00",
          "day": 1,
          "month": 7,
          "year": 2015
         },
         {
          "counts": 22,
          "data_type": "User",
          "date": "2015-08-01T00:00:00-04:00",
          "day": 1,
          "month": 8,
          "year": 2015
         },
         {
          "counts": 37,
          "data_type": "User",
          "date": "2015-09-01T00:00:00-04:00",
          "day": 1,
          "month": 9,
          "year": 2015
         },
         {
          "counts": 19,
          "data_type": "User",
          "date": "2015-10-01T00:00:00-04:00",
          "day": 1,
          "month": 10,
          "year": 2015
         },
         {
          "counts": 29,
          "data_type": "User",
          "date": "2015-11-01T00:00:00-04:00",
          "day": 1,
          "month": 11,
          "year": 2015
         },
         {
          "counts": 25,
          "data_type": "User",
          "date": "2015-12-01T00:00:00-05:00",
          "day": 1,
          "month": 12,
          "year": 2015
         },
         {
          "counts": 24,
          "data_type": "User",
          "date": "2016-01-01T00:00:00-05:00",
          "day": 1,
          "month": 1,
          "year": 2016
         },
         {
          "counts": 20,
          "data_type": "User",
          "date": "2016-02-01T00:00:00-05:00",
          "day": 1,
          "month": 2,
          "year": 2016
         },
         {
          "counts": 31,
          "data_type": "User",
          "date": "2016-03-01T00:00:00-05:00",
          "day": 1,
          "month": 3,
          "year": 2016
         },
         {
          "counts": 25,
          "data_type": "User",
          "date": "2016-04-01T00:00:00-04:00",
          "day": 1,
          "month": 4,
          "year": 2016
         },
         {
          "counts": 22,
          "data_type": "User",
          "date": "2016-05-01T00:00:00-04:00",
          "day": 1,
          "month": 5,
          "year": 2016
         },
         {
          "counts": 27,
          "data_type": "User",
          "date": "2016-06-01T00:00:00-04:00",
          "day": 1,
          "month": 6,
          "year": 2016
         },
         {
          "counts": 21,
          "data_type": "User",
          "date": "2016-07-01T00:00:00-04:00",
          "day": 1,
          "month": 7,
          "year": 2016
         },
         {
          "counts": 24,
          "data_type": "User",
          "date": "2016-08-01T00:00:00-04:00",
          "day": 1,
          "month": 8,
          "year": 2016
         },
         {
          "counts": 37,
          "data_type": "User",
          "date": "2016-09-01T00:00:00-04:00",
          "day": 1,
          "month": 9,
          "year": 2016
         },
         {
          "counts": 37,
          "data_type": "User",
          "date": "2016-10-01T00:00:00-04:00",
          "day": 1,
          "month": 10,
          "year": 2016
         },
         {
          "counts": 24,
          "data_type": "User",
          "date": "2016-11-01T00:00:00-04:00",
          "day": 1,
          "month": 11,
          "year": 2016
         },
         {
          "counts": 27,
          "data_type": "User",
          "date": "2016-12-01T00:00:00-05:00",
          "day": 1,
          "month": 12,
          "year": 2016
         },
         {
          "counts": 33,
          "data_type": "User",
          "date": "2017-01-01T00:00:00-05:00",
          "day": 1,
          "month": 1,
          "year": 2017
         },
         {
          "counts": 31,
          "data_type": "User",
          "date": "2017-02-01T00:00:00-05:00",
          "day": 1,
          "month": 2,
          "year": 2017
         },
         {
          "counts": 41,
          "data_type": "User",
          "date": "2017-03-01T00:00:00-05:00",
          "day": 1,
          "month": 3,
          "year": 2017
         },
         {
          "counts": 22,
          "data_type": "User",
          "date": "2017-04-01T00:00:00-04:00",
          "day": 1,
          "month": 4,
          "year": 2017
         },
         {
          "counts": 24,
          "data_type": "User",
          "date": "2017-05-01T00:00:00-04:00",
          "day": 1,
          "month": 5,
          "year": 2017
         },
         {
          "counts": 28,
          "data_type": "User",
          "date": "2017-06-01T00:00:00-04:00",
          "day": 1,
          "month": 6,
          "year": 2017
         },
         {
          "counts": 25,
          "data_type": "User",
          "date": "2017-07-01T00:00:00-04:00",
          "day": 1,
          "month": 7,
          "year": 2017
         },
         {
          "counts": 25,
          "data_type": "User",
          "date": "2017-08-01T00:00:00-04:00",
          "day": 1,
          "month": 8,
          "year": 2017
         },
         {
          "counts": 47,
          "data_type": "User",
          "date": "2017-09-01T00:00:00-04:00",
          "day": 1,
          "month": 9,
          "year": 2017
         },
         {
          "counts": 32,
          "data_type": "User",
          "date": "2017-10-01T00:00:00-04:00",
          "day": 1,
          "month": 10,
          "year": 2017
         },
         {
          "counts": 43,
          "data_type": "User",
          "date": "2017-11-01T00:00:00-04:00",
          "day": 1,
          "month": 11,
          "year": 2017
         },
         {
          "counts": 23,
          "data_type": "User",
          "date": "2017-12-01T00:00:00-05:00",
          "day": 1,
          "month": 12,
          "year": 2017
         },
         {
          "counts": 32,
          "data_type": "User",
          "date": "2018-01-01T00:00:00-05:00",
          "day": 1,
          "month": 1,
          "year": 2018
         },
         {
          "counts": 38,
          "data_type": "User",
          "date": "2018-02-01T00:00:00-05:00",
          "day": 1,
          "month": 2,
          "year": 2018
         },
         {
          "counts": 38,
          "data_type": "User",
          "date": "2018-03-01T00:00:00-05:00",
          "day": 1,
          "month": 3,
          "year": 2018
         },
         {
          "counts": 33,
          "data_type": "User",
          "date": "2018-04-01T00:00:00-04:00",
          "day": 1,
          "month": 4,
          "year": 2018
         },
         {
          "counts": 22,
          "data_type": "User",
          "date": "2018-05-01T00:00:00-04:00",
          "day": 1,
          "month": 5,
          "year": 2018
         },
         {
          "counts": 30,
          "data_type": "User",
          "date": "2018-06-01T00:00:00-04:00",
          "day": 1,
          "month": 6,
          "year": 2018
         },
         {
          "counts": 23,
          "data_type": "User",
          "date": "2018-07-01T00:00:00-04:00",
          "day": 1,
          "month": 7,
          "year": 2018
         },
         {
          "counts": 21,
          "data_type": "User",
          "date": "2018-08-01T00:00:00-04:00",
          "day": 1,
          "month": 8,
          "year": 2018
         },
         {
          "counts": 42,
          "data_type": "User",
          "date": "2018-09-01T00:00:00-04:00",
          "day": 1,
          "month": 9,
          "year": 2018
         },
         {
          "counts": 49,
          "data_type": "User",
          "date": "2018-10-01T00:00:00-04:00",
          "day": 1,
          "month": 10,
          "year": 2018
         },
         {
          "counts": 22,
          "data_type": "User",
          "date": "2018-11-01T00:00:00-04:00",
          "day": 1,
          "month": 11,
          "year": 2018
         },
         {
          "counts": 25,
          "data_type": "User",
          "date": "2018-12-01T00:00:00-05:00",
          "day": 1,
          "month": 12,
          "year": 2018
         },
         {
          "counts": 47,
          "data_type": "User",
          "date": "2019-01-01T00:00:00-05:00",
          "day": 1,
          "month": 1,
          "year": 2019
         },
         {
          "counts": 27,
          "data_type": "User",
          "date": "2019-02-01T00:00:00-05:00",
          "day": 1,
          "month": 2,
          "year": 2019
         },
         {
          "counts": 24,
          "data_type": "User",
          "date": "2019-03-01T00:00:00-05:00",
          "day": 1,
          "month": 3,
          "year": 2019
         },
         {
          "counts": 21,
          "data_type": "User",
          "date": "2019-04-01T00:00:00-04:00",
          "day": 1,
          "month": 4,
          "year": 2019
         },
         {
          "counts": 22,
          "data_type": "User",
          "date": "2019-05-01T00:00:00-04:00",
          "day": 1,
          "month": 5,
          "year": 2019
         },
         {
          "counts": 20,
          "data_type": "User",
          "date": "2019-06-01T00:00:00-04:00",
          "day": 1,
          "month": 6,
          "year": 2019
         },
         {
          "counts": 26,
          "data_type": "User",
          "date": "2019-07-01T00:00:00-04:00",
          "day": 1,
          "month": 7,
          "year": 2019
         },
         {
          "counts": 21,
          "data_type": "User",
          "date": "2019-08-01T00:00:00-04:00",
          "day": 1,
          "month": 8,
          "year": 2019
         },
         {
          "counts": 34,
          "data_type": "User",
          "date": "2019-09-01T00:00:00-04:00",
          "day": 1,
          "month": 9,
          "year": 2019
         },
         {
          "counts": 44,
          "data_type": "User",
          "date": "2019-10-01T00:00:00-04:00",
          "day": 1,
          "month": 10,
          "year": 2019
         },
         {
          "counts": 24,
          "data_type": "User",
          "date": "2019-11-01T00:00:00-04:00",
          "day": 1,
          "month": 11,
          "year": 2019
         },
         {
          "counts": 21,
          "data_type": "User",
          "date": "2019-12-01T00:00:00-05:00",
          "day": 1,
          "month": 12,
          "year": 2019
         },
         {
          "counts": 40,
          "data_type": "User",
          "date": "2020-01-01T00:00:00-05:00",
          "day": 1,
          "month": 1,
          "year": 2020
         },
         {
          "counts": 34,
          "data_type": "User",
          "date": "2020-02-01T00:00:00-05:00",
          "day": 1,
          "month": 2,
          "year": 2020
         },
         {
          "counts": 32,
          "data_type": "User",
          "date": "2020-03-01T00:00:00-05:00",
          "day": 1,
          "month": 3,
          "year": 2020
         },
         {
          "counts": 30,
          "data_type": "User",
          "date": "2020-04-01T00:00:00-04:00",
          "day": 1,
          "month": 4,
          "year": 2020
         },
         {
          "counts": 33,
          "data_type": "User",
          "date": "2020-05-01T00:00:00-04:00",
          "day": 1,
          "month": 5,
          "year": 2020
         },
         {
          "counts": 20,
          "data_type": "User",
          "date": "2020-06-01T00:00:00-04:00",
          "day": 1,
          "month": 6,
          "year": 2020
         },
         {
          "counts": 20,
          "data_type": "User",
          "date": "2020-07-01T00:00:00-04:00",
          "day": 1,
          "month": 7,
          "year": 2020
         },
         {
          "counts": 31,
          "data_type": "User",
          "date": "2020-08-01T00:00:00-04:00",
          "day": 1,
          "month": 8,
          "year": 2020
         },
         {
          "counts": 27,
          "data_type": "User",
          "date": "2020-09-01T00:00:00-04:00",
          "day": 1,
          "month": 9,
          "year": 2020
         },
         {
          "counts": 47,
          "data_type": "User",
          "date": "2020-10-01T00:00:00-04:00",
          "day": 1,
          "month": 10,
          "year": 2020
         },
         {
          "counts": 27,
          "data_type": "User",
          "date": "2020-11-01T00:00:00-04:00",
          "day": 1,
          "month": 11,
          "year": 2020
         },
         {
          "counts": 21,
          "data_type": "User",
          "date": "2020-12-01T00:00:00-05:00",
          "day": 1,
          "month": 12,
          "year": 2020
         },
         {
          "counts": 16,
          "data_type": "User",
          "date": "2021-01-01T00:00:00-05:00",
          "day": 1,
          "month": 1,
          "year": 2021
         },
         {
          "counts": 40,
          "data_type": "User",
          "date": "2021-02-01T00:00:00-05:00",
          "day": 1,
          "month": 2,
          "year": 2021
         },
         {
          "counts": 30,
          "data_type": "User",
          "date": "2021-03-01T00:00:00-05:00",
          "day": 1,
          "month": 3,
          "year": 2021
         },
         {
          "counts": 16,
          "data_type": "User",
          "date": "2021-04-01T00:00:00-04:00",
          "day": 1,
          "month": 4,
          "year": 2021
         },
         {
          "counts": 21,
          "data_type": "User",
          "date": "2021-05-01T00:00:00-04:00",
          "day": 1,
          "month": 5,
          "year": 2021
         },
         {
          "counts": 22,
          "data_type": "User",
          "date": "2021-06-01T00:00:00-04:00",
          "day": 1,
          "month": 6,
          "year": 2021
         },
         {
          "counts": 5,
          "data_type": "User",
          "date": "2021-07-01T00:00:00-04:00",
          "day": 1,
          "month": 7,
          "year": 2021
         },
         {
          "counts": 18,
          "data_type": "User",
          "date": "2021-08-01T00:00:00-04:00",
          "day": 1,
          "month": 8,
          "year": 2021
         },
         {
          "counts": 19,
          "data_type": "User",
          "date": "2021-09-01T00:00:00-04:00",
          "day": 1,
          "month": 9,
          "year": 2021
         },
         {
          "counts": 51,
          "data_type": "User",
          "date": "2021-10-01T00:00:00-04:00",
          "day": 1,
          "month": 10,
          "year": 2021
         },
         {
          "counts": 29,
          "data_type": "User",
          "date": "2021-11-01T00:00:00-04:00",
          "day": 1,
          "month": 11,
          "year": 2021
         },
         {
          "counts": 16,
          "data_type": "User",
          "date": "2021-12-01T00:00:00-05:00",
          "day": 1,
          "month": 12,
          "year": 2021
         },
         {
          "counts": 12,
          "data_type": "User",
          "date": "2022-01-01T00:00:00-05:00",
          "day": 1,
          "month": 1,
          "year": 2022
         },
         {
          "counts": 21,
          "data_type": "User",
          "date": "2022-02-01T00:00:00-05:00",
          "day": 1,
          "month": 2,
          "year": 2022
         },
         {
          "counts": 16,
          "data_type": "User",
          "date": "2022-03-01T00:00:00-05:00",
          "day": 1,
          "month": 3,
          "year": 2022
         },
         {
          "counts": 18,
          "data_type": "User",
          "date": "2022-04-01T00:00:00-04:00",
          "day": 1,
          "month": 4,
          "year": 2022
         },
         {
          "counts": 29,
          "data_type": "User",
          "date": "2022-05-01T00:00:00-04:00",
          "day": 1,
          "month": 5,
          "year": 2022
         },
         {
          "counts": 11,
          "data_type": "User",
          "date": "2022-06-01T00:00:00-04:00",
          "day": 1,
          "month": 6,
          "year": 2022
         },
         {
          "counts": 10,
          "data_type": "User",
          "date": "2022-07-01T00:00:00-04:00",
          "day": 1,
          "month": 7,
          "year": 2022
         },
         {
          "counts": 12,
          "data_type": "User",
          "date": "2022-08-01T00:00:00-04:00",
          "day": 1,
          "month": 8,
          "year": 2022
         },
         {
          "counts": 22,
          "data_type": "User",
          "date": "2022-09-01T00:00:00-04:00",
          "day": 1,
          "month": 9,
          "year": 2022
         },
         {
          "counts": 10,
          "data_type": "User",
          "date": "2022-10-01T00:00:00-04:00",
          "day": 1,
          "month": 10,
          "year": 2022
         },
         {
          "counts": 6,
          "data_type": "User",
          "date": "2022-11-01T00:00:00-04:00",
          "day": 1,
          "month": 11,
          "year": 2022
         },
         {
          "counts": 3,
          "data_type": "User",
          "date": "2022-12-01T00:00:00-05:00",
          "day": 1,
          "month": 12,
          "year": 2022
         }
        ]
       },
       "height": 300,
       "layer": [
        {
         "encoding": {
          "color": {
           "field": "data_type",
           "title": "Type of Data",
           "type": "nominal"
          },
          "x": {
           "axis": {
            "format": "%Y"
           },
           "field": "date",
           "title": "Date Created",
           "type": "temporal"
          },
          "y": {
           "field": "counts",
           "title": "Counts",
           "type": "quantitative"
          }
         },
         "mark": {
          "interpolate": "basis",
          "type": "line"
         }
        },
        {
         "encoding": {
          "opacity": {
           "value": 0
          },
          "x": {
           "field": "date",
           "type": "temporal"
          }
         },
         "mark": {
          "type": "point"
         },
         "name": "view_2"
        },
        {
         "encoding": {
          "color": {
           "field": "data_type",
           "title": "Type of Data",
           "type": "nominal"
          },
          "opacity": {
           "condition": {
            "empty": false,
            "param": "param_2",
            "value": 1
           },
           "value": 0
          },
          "x": {
           "axis": {
            "format": "%Y"
           },
           "field": "date",
           "title": "Date Created",
           "type": "temporal"
          },
          "y": {
           "field": "counts",
           "title": "Counts",
           "type": "quantitative"
          }
         },
         "mark": {
          "type": "point"
         }
        },
        {
         "encoding": {
          "x": {
           "field": "date",
           "type": "temporal"
          }
         },
         "mark": {
          "color": "gray",
          "type": "rule"
         },
         "transform": [
          {
           "filter": {
            "empty": false,
            "param": "param_2"
           }
          }
         ]
        },
        {
         "encoding": {
          "color": {
           "field": "data_type",
           "title": "Type of Data",
           "type": "nominal"
          },
          "text": {
           "condition": {
            "empty": false,
            "field": "counts",
            "param": "param_2"
           },
           "value": " "
          },
          "x": {
           "axis": {
            "format": "%Y"
           },
           "field": "date",
           "title": "Date Created",
           "type": "temporal"
          },
          "y": {
           "field": "counts",
           "title": "Counts",
           "type": "quantitative"
          }
         },
         "mark": {
          "align": "left",
          "dx": 5,
          "dy": -5,
          "type": "text"
         }
        }
       ],
       "params": [
        {
         "name": "param_2",
         "select": {
          "encodings": [
           "x"
          ],
          "nearest": true,
          "on": "mouseover",
          "type": "point"
         },
         "views": [
          "view_2"
         ]
        }
       ],
       "title": "Number of Users, Organizations, and Repositories identified as DH, Created Over Time",
       "width": 600
      },
      "text/plain": [
       "<VegaLite 5 object>\n",
       "\n",
       "If you see this message, it means the renderer has not been properly enabled\n",
       "for the frontend that you are using. For more information, see\n",
       "https://altair-viz.github.io/user_guide/troubleshooting.html\n"
      ]
     },
     "execution_count": 22,
     "metadata": {},
     "output_type": "execute_result"
    }
   ],
   "source": [
    "nearest = alt.selection_point(nearest=True, on='mouseover', encodings=['x'], empty='none')\n",
    "\n",
    "line = alt.Chart(grouped_data).mark_line(interpolate='basis').encode(\n",
    "    x=alt.X('date:T', title='Date Created', axis=alt.Axis(format='%Y')),\n",
    "    y=alt.Y('counts', title='Counts'),\n",
    "    color=alt.Color('data_type', title='Type of Entity')\n",
    ")\n",
    "\n",
    "selectors = alt.Chart(grouped_data).mark_point().encode(\n",
    "    x='date:T',\n",
    "    opacity=alt.value(0),\n",
    ").add_params(\n",
    "    nearest\n",
    ")\n",
    "\n",
    "points = line.mark_point().encode(\n",
    "    opacity=alt.condition(nearest, alt.value(1), alt.value(0))\n",
    ")\n",
    "\n",
    "text = line.mark_text(align='left', dx=5, dy=-5).encode(\n",
    "    text=alt.condition(nearest, 'counts', alt.value(' '))\n",
    ")\n",
    "\n",
    "rules = alt.Chart(grouped_data).mark_rule(color='gray').encode(\n",
    "    x='date:T',\n",
    ").transform_filter(\n",
    "    nearest\n",
    ")\n",
    "\n",
    "chart = alt.layer(line, selectors, points, rules, text,).properties(\n",
    "    width=600,\n",
    "    height=300,\n",
    "    title='Number of Users, Organizations, and Repositories identified as DH, Created Over Time'\n",
    ")\n",
    "chart\n"
   ]
  },
  {
   "cell_type": "code",
   "execution_count": 23,
   "metadata": {},
   "outputs": [],
   "source": [
    "save_chart(chart, '../outputs/number_of_users_orgs_repos_created_over_time.png', scale_factor=2)"
   ]
  },
  {
   "cell_type": "code",
   "execution_count": 24,
   "metadata": {},
   "outputs": [
    {
     "data": {
      "text/plain": [
       "User            3966\n",
       "Repository      2326\n",
       "Organization     421\n",
       "Name: data_type, dtype: int64"
      ]
     },
     "execution_count": 24,
     "metadata": {},
     "output_type": "execute_result"
    }
   ],
   "source": [
    "all_data.data_type.value_counts()"
   ]
  },
  {
   "attachments": {},
   "cell_type": "markdown",
   "metadata": {},
   "source": []
  }
 ],
 "metadata": {
  "kernelspec": {
   "display_name": "values_and_versions_env",
   "language": "python",
   "name": "python3"
  },
  "language_info": {
   "codemirror_mode": {
    "name": "ipython",
    "version": 3
   },
   "file_extension": ".py",
   "mimetype": "text/x-python",
   "name": "python",
   "nbconvert_exporter": "python",
   "pygments_lexer": "ipython3",
   "version": "3.9.16"
  },
  "orig_nbformat": 4
 },
 "nbformat": 4,
 "nbformat_minor": 2
}
