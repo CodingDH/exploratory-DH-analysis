{
 "cells": [
  {
   "cell_type": "markdown",
   "metadata": {},
   "source": [
    "# Get and Load all Repo and Users Data"
   ]
  },
  {
   "cell_type": "code",
   "execution_count": 1,
   "metadata": {},
   "outputs": [],
   "source": [
    "import pandas as pd\n",
    "pd.options.mode.chained_assignment = None\n",
    "import os\n",
    "import sys\n",
    "\n",
    "sys.path.append(\"..\")\n",
    "from data_generation_scripts.utils import check_rate_limit, check_return_error_file\n",
    "from data_generation_scripts.generate_search_data import get_initial_repo_df, combine_search_df\n",
    "from data_generation_scripts.generate_repo_metadata import get_repo_languages, get_repo_labels, get_repo_tags,  get_repo_profile\n",
    "from data_generation_scripts.generate_commits_data import get_repos_commits\n",
    "from data_generation_scripts.generate_repo_user_interactions import get_repos_user_actors"
   ]
  },
  {
   "cell_type": "code",
   "execution_count": 2,
   "metadata": {},
   "outputs": [],
   "source": [
    "rates_df = check_rate_limit()"
   ]
  },
  {
   "cell_type": "markdown",
   "metadata": {},
   "source": [
    "### Get Initial Search Repos"
   ]
  },
  {
   "cell_type": "code",
   "execution_count": 3,
   "metadata": {},
   "outputs": [],
   "source": [
    "initial_output_path = '../data/repo_data/'\n",
    "repo_output_path = '../data/entity_files/repos_dataset.csv'\n",
    "join_output_path = \"../data/join_files/search_queries_join_dataset.csv\"\n",
    "load_existing_data = True\n",
    "repo_df, search_queries_repo_df = get_initial_repo_df(repo_output_path, join_output_path, initial_output_path, rates_df, load_existing_data)\n"
   ]
  },
  {
   "cell_type": "code",
   "execution_count": 4,
   "metadata": {},
   "outputs": [
    {
     "name": "stdout",
     "output_type": "stream",
     "text": [
      "From 41 unique queries with results, we found 2191 repos, of which 2096 are unique.\n"
     ]
    }
   ],
   "source": [
    "print(f\"From {len(search_queries_repo_df['query'].unique())} unique queries with results, we found {len(search_queries_repo_df)} repos, of which {len(repo_df)} are unique.\")"
   ]
  },
  {
   "cell_type": "markdown",
   "metadata": {},
   "source": [
    "### Get Repo Contributors"
   ]
  },
  {
   "cell_type": "code",
   "execution_count": 5,
   "metadata": {},
   "outputs": [],
   "source": [
    "get_url_field = 'contributors_url'\n",
    "load_existing_data = True\n",
    "is_stargazers = False\n",
    "contributors_df, users_df = get_repos_user_actors(repo_df, '../data/join_files/repo_contributors_join_dataset.csv', '../data/entity_files/users_dataset.csv', rates_df, get_url_field, load_existing_data, is_stargazers)\n",
    "contributors_errors_df = check_return_error_file('../data/error_logs/repo_contributors_join_dataset_errors.csv')"
   ]
  },
  {
   "cell_type": "code",
   "execution_count": 6,
   "metadata": {},
   "outputs": [
    {
     "name": "stdout",
     "output_type": "stream",
     "text": [
      "From 2096 repos, we found 4671 contributors, of which 3447 are unique. There were 6 errors in getting contributors (likely user accounts that no longer exist).\n"
     ]
    }
   ],
   "source": [
    "print(f\"From {len(repo_df)} repos, we found {len(contributors_df)} contributors, of which {len(users_df[users_df.login.isin(contributors_df.login)])} are unique. There were {len(contributors_errors_df)} errors in getting contributors (likely user accounts that no longer exist).\")"
   ]
  },
  {
   "cell_type": "markdown",
   "metadata": {},
   "source": [
    "### Get Repo Starrers"
   ]
  },
  {
   "cell_type": "code",
   "execution_count": 7,
   "metadata": {},
   "outputs": [],
   "source": [
    "get_url_field = 'stargazers_url'\n",
    "load_existing_data = True\n",
    "is_stargazers = True\n",
    "stargazers_df, users_df = get_repos_user_actors(repo_df, '../data/join_files/repo_stargazers_join_dataset.csv', '../data/entity_files/users_dataset.csv', rates_df, get_url_field, load_existing_data, is_stargazers)\n",
    "stargazers_errors_df = check_return_error_file('../data/error_logs/repo_stargazers_join_dataset_errors.csv')"
   ]
  },
  {
   "cell_type": "code",
   "execution_count": 8,
   "metadata": {},
   "outputs": [
    {
     "name": "stdout",
     "output_type": "stream",
     "text": [
      "From 2096 repos, we found 7581 stargazers, of which 339 are unique. There were 12 errors in getting stargazers (likely user accounts that no longer exist).\n"
     ]
    }
   ],
   "source": [
    "print(f\"From {len(repo_df)} repos, we found {len(stargazers_df)} stargazers, of which {len(users_df[users_df.login.isin(stargazers_df.login)])} are unique. There were {len(stargazers_errors_df)} errors in getting stargazers (likely user accounts that no longer exist).\")"
   ]
  },
  {
   "cell_type": "markdown",
   "metadata": {},
   "source": [
    "### Get Repo Watchers"
   ]
  },
  {
   "cell_type": "code",
   "execution_count": 9,
   "metadata": {},
   "outputs": [],
   "source": [
    "get_url_field = 'subscribers_url'\n",
    "load_existing_data = True\n",
    "is_stargazers = False\n",
    "subscribers_df, users_df = get_repos_user_actors(repo_df, '../data/join_files/repo_subscribers_join_dataset.csv', '../data/entity_files/users_dataset.csv', rates_df, get_url_field, load_existing_data, is_stargazers)\n",
    "subscribers_errors_df = check_return_error_file('../data/error_logs/repo_subscribers_join_dataset_errors.csv')"
   ]
  },
  {
   "cell_type": "code",
   "execution_count": 10,
   "metadata": {},
   "outputs": [
    {
     "name": "stdout",
     "output_type": "stream",
     "text": [
      "From 2096 repos, we found 2679 subscribers, of which 1767 are unique. There were 2 errors in getting subscribers (likely user accounts that no longer exist).\n"
     ]
    }
   ],
   "source": [
    "print(f\"From {len(repo_df)} repos, we found {len(subscribers_df)} subscribers, of which {len(users_df[users_df.login.isin(subscribers_df.login)])} are unique. There were {len(subscribers_errors_df)} errors in getting subscribers (likely user accounts that no longer exist).\")"
   ]
  },
  {
   "cell_type": "markdown",
   "metadata": {},
   "source": [
    "#### Cannot get repo collaborators\n",
    "\n",
    "Need Push Access"
   ]
  },
  {
   "cell_type": "code",
   "execution_count": 11,
   "metadata": {},
   "outputs": [],
   "source": [
    "# get_url_field = 'collaborators_url'\n",
    "# load_existing_data = False\n",
    "# is_stargazers = False\n",
    "# collaborators_df, users_df = get_repos_user_actors(repo_df, '../data/repo_collaborators_join_dataset.csv', '../data/users_dataset.csv', rates_df, get_url_field, load_existing_data, is_stargazers)\n",
    "# collaborators_errors_df = check_return_error_file('../data/error_logs/repo_collaborators_join_dataset_errors.csv')"
   ]
  },
  {
   "cell_type": "markdown",
   "metadata": {},
   "source": [
    "### Get Repo Forks"
   ]
  },
  {
   "cell_type": "code",
   "execution_count": 12,
   "metadata": {},
   "outputs": [],
   "source": [
    "get_url_field = 'forks_url'\n",
    "load_existing_data = True\n",
    "is_stargazers = False\n",
    "forks_df, users_df = get_repos_user_actors(repo_df, '../data/join_files/repo_forks_join_dataset.csv', '../data/entity_files/users_dataset.csv', rates_df, get_url_field, load_existing_data, is_stargazers)\n",
    "forks_errors_df = check_return_error_file('../data/error_logs/repo_forks_join_dataset_errors.csv')"
   ]
  },
  {
   "cell_type": "code",
   "execution_count": 13,
   "metadata": {},
   "outputs": [
    {
     "name": "stdout",
     "output_type": "stream",
     "text": [
      "From 2096 repos, we found 2517 forks, of which 1756 are unique. There were 0 errors in getting forks (likely user accounts that no longer exist).\n"
     ]
    }
   ],
   "source": [
    "print(f\"From {len(repo_df)} repos, we found {len(forks_df)} forks, of which {len(users_df[users_df.login.isin(forks_df['owner.login'])])} are unique. There were {len(forks_errors_df)} errors in getting forks (likely user accounts that no longer exist).\")"
   ]
  },
  {
   "cell_type": "markdown",
   "metadata": {},
   "source": [
    "### Get Repo Issues"
   ]
  },
  {
   "cell_type": "code",
   "execution_count": 14,
   "metadata": {},
   "outputs": [],
   "source": [
    "get_url_field = 'issues_url'\n",
    "load_existing_data = True\n",
    "is_stargazers = False\n",
    "issues_df, users_df = get_repos_user_actors(repo_df, '../data/large_datasets/repo_issues_join_dataset.csv', '../data/entity_files/users_dataset.csv', rates_df, get_url_field, load_existing_data, is_stargazers)\n",
    "issues_errors_df = check_return_error_file('../data/error_logs/repo_issues_join_dataset_errors.csv')"
   ]
  },
  {
   "cell_type": "code",
   "execution_count": 15,
   "metadata": {},
   "outputs": [
    {
     "name": "stdout",
     "output_type": "stream",
     "text": [
      "From 2096 repos, we found 31155 issues, which come from 570 unique repos and were created by 1286 unique users. There were 0 errors in getting issues (likely repos that have no issues longer exist).\n"
     ]
    }
   ],
   "source": [
    "print(f\"From {len(repo_df)} repos, we found {len(issues_df)} issues, which come from {len(issues_df.repository_url.unique())} unique repos and were created by {len(users_df[users_df.login.isin(issues_df['user.login'])])} unique users. There were {len(issues_errors_df)} errors in getting issues (likely repos that have no issues longer exist).\")"
   ]
  },
  {
   "cell_type": "markdown",
   "metadata": {},
   "source": [
    "#### Get Repo Issue Comments"
   ]
  },
  {
   "cell_type": "code",
   "execution_count": 16,
   "metadata": {},
   "outputs": [],
   "source": [
    "get_url_field = 'comments_url'\n",
    "load_existing_data = True\n",
    "is_stargazers = False\n",
    "issues_comments_df, users_df = get_repos_user_actors(repo_df, '../data/large_datasets/issues_comments_join_dataset.csv', '../data/entity_files/users_dataset.csv', rates_df, get_url_field, load_existing_data, is_stargazers)\n",
    "issues_comments_errors_df = check_return_error_file('../data/error_logs/issues_comments_join_dataset_errors.csv')"
   ]
  },
  {
   "cell_type": "code",
   "execution_count": 17,
   "metadata": {},
   "outputs": [
    {
     "name": "stdout",
     "output_type": "stream",
     "text": [
      "From 31155 repos with issues, we found 50791 comments, which come from 570 unique repos and were created by 1033 unique users. There were 0 errors in getting issues comments (likely issues comments longer that no longer exist).\n"
     ]
    }
   ],
   "source": [
    "print(f\"From {len(issues_df)} repos with issues, we found {len(issues_comments_df)} comments, which come from {len(issues_df.repository_url.unique())} unique repos and were created by {len(users_df[users_df.login.isin(issues_comments_df['user.login'])])} unique users. There were {len(issues_comments_errors_df)} errors in getting issues comments (likely issues comments longer that no longer exist).\")"
   ]
  },
  {
   "cell_type": "markdown",
   "metadata": {},
   "source": [
    "### Get Repo Pull Requests"
   ]
  },
  {
   "cell_type": "code",
   "execution_count": 18,
   "metadata": {},
   "outputs": [],
   "source": [
    "get_url_field = 'pulls_url'\n",
    "load_existing_data = True\n",
    "is_stargazers = False\n",
    "pulls_df, users_df = get_repos_user_actors(repo_df, '../data/large_datasets/repo_pulls_join_dataset.csv', '../data/entity_files/users_dataset.csv', rates_df, get_url_field, load_existing_data, is_stargazers)\n",
    "pulls_errors_df = check_return_error_file('../data/error_logs/repo_pulls_join_dataset_errors.csv')"
   ]
  },
  {
   "cell_type": "code",
   "execution_count": 19,
   "metadata": {},
   "outputs": [
    {
     "name": "stdout",
     "output_type": "stream",
     "text": [
      "From 2096 repos, we found 14087 pulls, which come from 446 unique repos and were created by 842 unique users. There were 0 errors in getting pulls (likely repos that have no pulls longer exist).\n"
     ]
    }
   ],
   "source": [
    "print(f\"From {len(repo_df)} repos, we found {len(pulls_df)} pulls, which come from {len(pulls_df.repo_id.unique())} unique repos and were created by {len(users_df[users_df.login.isin(pulls_df['user.login'])])} unique users. There were {len(pulls_errors_df)} errors in getting pulls (likely repos that have no pulls longer exist).\")"
   ]
  },
  {
   "cell_type": "markdown",
   "metadata": {},
   "source": [
    "#### Get Repo Pull Request Comments"
   ]
  },
  {
   "cell_type": "code",
   "execution_count": 20,
   "metadata": {},
   "outputs": [],
   "source": [
    "get_url_field = 'review_comments_url'\n",
    "load_existing_data = True\n",
    "is_stargazers = False\n",
    "pulls_comments_df, users_df = get_repos_user_actors(pulls_df, '../data/large_datasets/pulls_comments_join_dataset.csv', '../data/entity_files/users_dataset.csv', rates_df, get_url_field, load_existing_data, is_stargazers)\n",
    "pulls_comments_errors_df = check_return_error_file('../data/error_logs/pulls_comments_join_dataset_errors.csv')"
   ]
  },
  {
   "cell_type": "code",
   "execution_count": 21,
   "metadata": {},
   "outputs": [
    {
     "name": "stdout",
     "output_type": "stream",
     "text": [
      "From 14087 repos with pulls, we found 5982 comments, which come from 446 unique repos and were created by 139 unique users. There were 0 errors in getting pulls comments (likely repos that have no pulls comments longer exist).\n"
     ]
    }
   ],
   "source": [
    "print(f\"From {len(pulls_df)} repos with pulls, we found {len(pulls_comments_df)} comments, which come from {len(pulls_df.repo_id.unique())} unique repos and were created by {len(users_df[users_df.login.isin(pulls_comments_df['user.login'])])} unique users. There were {len(pulls_comments_errors_df)} errors in getting pulls comments (likely repos that have no pulls comments longer exist).\")"
   ]
  },
  {
   "cell_type": "markdown",
   "metadata": {},
   "source": [
    "### Get Repo Commits"
   ]
  },
  {
   "cell_type": "code",
   "execution_count": 22,
   "metadata": {},
   "outputs": [
    {
     "name": "stdout",
     "output_type": "stream",
     "text": [
      "hitting else\n"
     ]
    },
    {
     "name": "stderr",
     "output_type": "stream",
     "text": [
      "Getting Repo Actors: 100%|██████████| 10/10 [00:03<00:00,  2.56it/s]\n",
      "Getting Users: 0it [00:03, ?it/s]\n"
     ]
    }
   ],
   "source": [
    "get_url_field = 'commits_url'\n",
    "load_existing_data = False\n",
    "is_stargazers = False\n",
    "commits_df, users_df = get_repos_user_actors(repo_df, '../data/large_datasets/repo_commits_join_dataset.csv', '../data/entity_files/users_dataset.csv', rates_df, get_url_field, load_existing_data, is_stargazers)\n",
    "commits_errors_df = check_return_error_file('../data/error_logs/repo_commits_join_dataset_errors.csv')"
   ]
  },
  {
   "cell_type": "markdown",
   "metadata": {},
   "source": [
    "### Total Summary"
   ]
  },
  {
   "cell_type": "code",
   "execution_count": 21,
   "metadata": {},
   "outputs": [
    {
     "name": "stdout",
     "output_type": "stream",
     "text": [
      "From 2097 repos, we found 7552 users that are unique.\n"
     ]
    }
   ],
   "source": [
    "print(f\"From {len(repo_df)} repos, we found {len(users_df)} users that are unique.\")"
   ]
  },
  {
   "cell_type": "markdown",
   "metadata": {},
   "source": [
    "### Get and Explore Repo Specific Features"
   ]
  },
  {
   "cell_type": "code",
   "execution_count": 45,
   "metadata": {},
   "outputs": [],
   "source": [
    "repo_output_path = \"../data/entity_files/repos_dataset.csv\"\n",
    "error_file_path = \"../data/error_logs/repo_profile_errors.csv\"\n",
    "temp_repo_dir = \"../data/temp/repo_profile/\"\n",
    "repo_df = get_repo_profile(repo_df, repo_output_path, rates_df, error_file_path, temp_repo_dir)"
   ]
  },
  {
   "cell_type": "code",
   "execution_count": 16,
   "metadata": {},
   "outputs": [
    {
     "name": "stderr",
     "output_type": "stream",
     "text": [
      "Getting Languages: 1it [00:00, 129.62it/s]\n"
     ]
    }
   ],
   "source": [
    "repo_df = get_repo_languages(repo_df, repo_output_path, rates_df)"
   ]
  },
  {
   "cell_type": "code",
   "execution_count": 17,
   "metadata": {},
   "outputs": [
    {
     "name": "stderr",
     "output_type": "stream",
     "text": [
      "Getting Labels: 100%|██████████| 2105/2105 [07:30<00:00,  4.67it/s]\n"
     ]
    }
   ],
   "source": [
    "repo_df = get_repo_labels(repo_df, repo_output_path, rates_df)"
   ]
  },
  {
   "cell_type": "code",
   "execution_count": 18,
   "metadata": {},
   "outputs": [
    {
     "name": "stderr",
     "output_type": "stream",
     "text": [
      "Getting Tags: 100%|██████████| 2105/2105 [07:41<00:00,  4.56it/s]\n"
     ]
    }
   ],
   "source": [
    "repo_df = get_repo_tags(repo_df, repo_output_path, rates_df)"
   ]
  },
  {
   "cell_type": "code",
   "execution_count": null,
   "metadata": {},
   "outputs": [],
   "source": [
    "# commits_df = get_repos_commits(repo_df, '../private_data/search_tagged_dh_repos_commits.csv', rates_df)"
   ]
  }
 ],
 "metadata": {
  "interpreter": {
   "hash": "f9535a2d3234831e7216b5503226355d93b43b15e5931e93b3445b413875c708"
  },
  "kernelspec": {
   "display_name": "Python 3.9.10 ('values_and_versions_env')",
   "language": "python",
   "name": "python3"
  },
  "language_info": {
   "codemirror_mode": {
    "name": "ipython",
    "version": 3
   },
   "file_extension": ".py",
   "mimetype": "text/x-python",
   "name": "python",
   "nbconvert_exporter": "python",
   "pygments_lexer": "ipython3",
   "version": "3.9.15"
  },
  "orig_nbformat": 4
 },
 "nbformat": 4,
 "nbformat_minor": 2
}
