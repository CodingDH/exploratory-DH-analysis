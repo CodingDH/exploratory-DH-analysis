{
 "cells": [
  {
   "cell_type": "markdown",
   "metadata": {},
   "source": [
    "# Get and Load all Repo and Users Data"
   ]
  },
  {
   "cell_type": "code",
   "execution_count": 25,
   "metadata": {},
   "outputs": [],
   "source": [
    "import pandas as pd\n",
    "pd.options.mode.chained_assignment = None\n",
    "import os\n",
    "import sys\n",
    "\n",
    "sys.path.append(\"..\")\n",
    "from data_generation_scripts.utils import check_rate_limit, check_return_error_file\n",
    "from data_generation_scripts.generate_search_data import get_initial_repo_df, combine_search_df\n",
    "from data_generation_scripts.generate_repo_metadata import get_repo_languages, get_repo_labels, get_repo_tags,  get_repo_profile\n",
    "from data_generation_scripts.generate_commits_data import get_repos_commits\n",
    "from data_generation_scripts.generate_repo_user_interactions import get_repos_user_actors"
   ]
  },
  {
   "cell_type": "code",
   "execution_count": 26,
   "metadata": {},
   "outputs": [],
   "source": [
    "rates_df = check_rate_limit()"
   ]
  },
  {
   "cell_type": "markdown",
   "metadata": {},
   "source": [
    "### Get Initial Search Repos"
   ]
  },
  {
   "cell_type": "code",
   "execution_count": 27,
   "metadata": {},
   "outputs": [],
   "source": [
    "initial_output_path = '../data/repo_data/'\n",
    "repo_output_path = '../data/entity_files/repos_dataset.csv'\n",
    "join_output_path = \"../data/join_files/search_queries_join_dataset.csv\"\n",
    "load_existing_data = True\n",
    "repo_df, search_queries_repo_df = get_initial_repo_df(repo_output_path, join_output_path, initial_output_path, rates_df, load_existing_data)\n"
   ]
  },
  {
   "cell_type": "code",
   "execution_count": 28,
   "metadata": {},
   "outputs": [
    {
     "name": "stdout",
     "output_type": "stream",
     "text": [
      "From 41 unique queries with results, we found 2191 repos, of which 2105 are unique.\n"
     ]
    }
   ],
   "source": [
    "print(f\"From {len(search_queries_repo_df['query'].unique())} unique queries with results, we found {len(search_queries_repo_df)} repos, of which {len(repo_df)} are unique.\")"
   ]
  },
  {
   "cell_type": "markdown",
   "metadata": {},
   "source": [
    "### Get Repo Contributors"
   ]
  },
  {
   "cell_type": "code",
   "execution_count": 29,
   "metadata": {},
   "outputs": [],
   "source": [
    "get_url_field = 'contributors_url'\n",
    "load_existing_data = True\n",
    "is_stargazers = False\n",
    "is_forks = False\n",
    "is_issues = False\n",
    "contributors_df, users_df = get_repos_user_actors(repo_df, '../data/join_files/repo_contributors_join_dataset.csv', '../data/entity_files/users_dataset.csv', rates_df, get_url_field, load_existing_data, is_stargazers, is_forks, is_issues)\n",
    "contributors_errors_df = check_return_error_file('../data/error_logs/repo_contributors_join_dataset_errors.csv')"
   ]
  },
  {
   "cell_type": "code",
   "execution_count": 30,
   "metadata": {},
   "outputs": [
    {
     "name": "stdout",
     "output_type": "stream",
     "text": [
      "From 2105 repos, we found 6745 contributors, of which 3455 are unique. There were 0 errors in getting contributors (likely user accounts that no longer exist).\n"
     ]
    }
   ],
   "source": [
    "print(f\"From {len(repo_df)} repos, we found {len(contributors_df)} contributors, of which {len(users_df[users_df.login.isin(contributors_df.login)])} are unique. There were {len(contributors_errors_df)} errors in getting contributors (likely user accounts that no longer exist).\")"
   ]
  },
  {
   "cell_type": "markdown",
   "metadata": {},
   "source": [
    "### Get Repo Starrers"
   ]
  },
  {
   "cell_type": "code",
   "execution_count": 32,
   "metadata": {},
   "outputs": [],
   "source": [
    "get_url_field = 'stargazers_url'\n",
    "load_existing_data = True\n",
    "is_stargazers = True\n",
    "is_forks = False\n",
    "is_issues = False\n",
    "stargazers_df, users_df = get_repos_user_actors(repo_df, '../data/join_files/repo_stargazers_join_dataset.csv', '../data/entity_files/users_dataset.csv', rates_df, get_url_field, load_existing_data, is_stargazers, is_forks, is_issues)\n",
    "stargazers_errors_df = check_return_error_file('../data/error_logs/repo_stargazers_join_dataset_errors.csv')"
   ]
  },
  {
   "cell_type": "code",
   "execution_count": 33,
   "metadata": {},
   "outputs": [
    {
     "name": "stdout",
     "output_type": "stream",
     "text": [
      "From 2105 repos, we found 7564 stargazers, of which 3170 are unique. There were 12 errors in getting stargazers (likely user accounts that no longer exist).\n"
     ]
    }
   ],
   "source": [
    "print(f\"From {len(repo_df)} repos, we found {len(stargazers_df)} stargazers, of which {len(users_df[users_df.login.isin(stargazers_df.login)])} are unique. There were {len(stargazers_errors_df)} errors in getting stargazers (likely user accounts that no longer exist).\")"
   ]
  },
  {
   "cell_type": "markdown",
   "metadata": {},
   "source": [
    "### Get Repo Watchers"
   ]
  },
  {
   "cell_type": "code",
   "execution_count": 34,
   "metadata": {},
   "outputs": [],
   "source": [
    "get_url_field = 'subscribers_url'\n",
    "load_existing_data = True\n",
    "is_stargazers = False\n",
    "is_forks = False\n",
    "is_issues = False\n",
    "subscribers_df, users_df = get_repos_user_actors(repo_df, '../data/join_files/repo_subscribers_join_dataset.csv', '../data/entity_files/users_dataset.csv', rates_df, get_url_field, load_existing_data, is_stargazers, is_forks, is_issues)\n",
    "subscribers_errors_df = check_return_error_file('../data/error_logs/repo_subscribers_join_dataset_errors.csv')"
   ]
  },
  {
   "cell_type": "code",
   "execution_count": 35,
   "metadata": {},
   "outputs": [
    {
     "name": "stdout",
     "output_type": "stream",
     "text": [
      "From 2105 repos, we found 2685 subscribers, of which 1770 are unique. There were 0 errors in getting subscribers (likely user accounts that no longer exist).\n"
     ]
    }
   ],
   "source": [
    "print(f\"From {len(repo_df)} repos, we found {len(subscribers_df)} subscribers, of which {len(users_df[users_df.login.isin(subscribers_df.login)])} are unique. There were {len(subscribers_errors_df)} errors in getting subscribers (likely user accounts that no longer exist).\")"
   ]
  },
  {
   "cell_type": "markdown",
   "metadata": {},
   "source": [
    "#### Cannot get repo collaborators\n",
    "\n",
    "Need Push Access"
   ]
  },
  {
   "cell_type": "code",
   "execution_count": 36,
   "metadata": {},
   "outputs": [],
   "source": [
    "# get_url_field = 'collaborators_url'\n",
    "# load_existing_data = False\n",
    "# is_stargazers = False\n",
    "# collaborators_df, users_df = get_repos_user_actors(repo_df, '../data/repo_collaborators_join_dataset.csv', '../data/users_dataset.csv', rates_df, get_url_field, load_existing_data, is_stargazers)\n",
    "# collaborators_errors_df = check_return_error_file('../data/error_logs/repo_collaborators_join_dataset_errors.csv')"
   ]
  },
  {
   "cell_type": "markdown",
   "metadata": {},
   "source": [
    "### Get Repo Forks"
   ]
  },
  {
   "cell_type": "code",
   "execution_count": 37,
   "metadata": {},
   "outputs": [],
   "source": [
    "get_url_field = 'forks_url'\n",
    "load_existing_data = True\n",
    "is_stargazers = False\n",
    "is_forks = True\n",
    "is_issues = False\n",
    "forks_df, users_df = get_repos_user_actors(repo_df, '../data/join_files/repo_forks_join_dataset.csv', '../data/entity_files/users_dataset.csv', rates_df, get_url_field, load_existing_data, is_stargazers, is_forks, is_issues)\n",
    "forks_errors_df = check_return_error_file('../data/error_logs/repo_forks_join_dataset_errors.csv')"
   ]
  },
  {
   "cell_type": "code",
   "execution_count": 38,
   "metadata": {},
   "outputs": [
    {
     "name": "stdout",
     "output_type": "stream",
     "text": [
      "From 2105 repos, we found 2512 forks, of which 1759 are unique. There were 0 errors in getting forks (likely user accounts that no longer exist).\n"
     ]
    }
   ],
   "source": [
    "print(f\"From {len(repo_df)} repos, we found {len(forks_df)} forks, of which {len(users_df[users_df.login.isin(forks_df.login)])} are unique. There were {len(forks_errors_df)} errors in getting forks (likely user accounts that no longer exist).\")"
   ]
  },
  {
   "cell_type": "markdown",
   "metadata": {},
   "source": [
    "### Get Repo Issues"
   ]
  },
  {
   "cell_type": "code",
   "execution_count": 42,
   "metadata": {},
   "outputs": [],
   "source": [
    "get_url_field = 'issues_url'\n",
    "load_existing_data = True\n",
    "is_stargazers = False\n",
    "is_forks = False\n",
    "is_issues = True\n",
    "issues_df, users_df = get_repos_user_actors(repo_df, '../data/large_datasets/repo_issues_join_dataset.csv', '../data/entity_files/users_dataset.csv', rates_df, get_url_field, load_existing_data, is_stargazers, is_forks, is_issues)\n",
    "issues_errors_df = check_return_error_file('../data/error_logs/repo_issues_join_dataset_errors.csv')"
   ]
  },
  {
   "cell_type": "code",
   "execution_count": 43,
   "metadata": {},
   "outputs": [
    {
     "name": "stdout",
     "output_type": "stream",
     "text": [
      "From 2105 repos, we found 22513 issues, which come from 211 unique repos and were created by 824 unique users. There were 1790 errors in getting issues (likely repos that have no issues longer exist).\n"
     ]
    }
   ],
   "source": [
    "print(f\"From {len(repo_df)} repos, we found {len(issues_df)} issues, which come from {len(issues_df.repository_url.unique())} unique repos and were created by {len(users_df[users_df.login.isin(issues_df['user.login'])])} unique users. There were {len(issues_errors_df)} errors in getting issues (likely repos that have no issues longer exist).\")"
   ]
  },
  {
   "cell_type": "markdown",
   "metadata": {},
   "source": [
    "### Total Summary"
   ]
  },
  {
   "cell_type": "code",
   "execution_count": 44,
   "metadata": {},
   "outputs": [
    {
     "name": "stdout",
     "output_type": "stream",
     "text": [
      "From 2105 repos, we found 7552 users that are unique.\n"
     ]
    }
   ],
   "source": [
    "print(f\"From {len(repo_df)} repos, we found {len(users_df)} users that are unique.\")"
   ]
  },
  {
   "cell_type": "markdown",
   "metadata": {},
   "source": [
    "### Get and Explore Repo Specific Features"
   ]
  },
  {
   "cell_type": "code",
   "execution_count": 45,
   "metadata": {},
   "outputs": [],
   "source": [
    "repo_output_path = \"../data/entity_files/repos_dataset.csv\"\n",
    "error_file_path = \"../data/error_logs/repo_profile_errors.csv\"\n",
    "temp_repo_dir = \"../data/temp/repo_profile/\"\n",
    "repo_df = get_repo_profile(repo_df, repo_output_path, rates_df, error_file_path, temp_repo_dir)"
   ]
  },
  {
   "cell_type": "code",
   "execution_count": 16,
   "metadata": {},
   "outputs": [
    {
     "name": "stderr",
     "output_type": "stream",
     "text": [
      "Getting Languages: 1it [00:00, 129.62it/s]\n"
     ]
    }
   ],
   "source": [
    "repo_df = get_repo_languages(repo_df, repo_output_path, rates_df)"
   ]
  },
  {
   "cell_type": "code",
   "execution_count": 17,
   "metadata": {},
   "outputs": [
    {
     "name": "stderr",
     "output_type": "stream",
     "text": [
      "Getting Labels: 100%|██████████| 2105/2105 [07:30<00:00,  4.67it/s]\n"
     ]
    }
   ],
   "source": [
    "repo_df = get_repo_labels(repo_df, repo_output_path, rates_df)"
   ]
  },
  {
   "cell_type": "code",
   "execution_count": 18,
   "metadata": {},
   "outputs": [
    {
     "name": "stderr",
     "output_type": "stream",
     "text": [
      "Getting Tags: 100%|██████████| 2105/2105 [07:41<00:00,  4.56it/s]\n"
     ]
    }
   ],
   "source": [
    "repo_df = get_repo_tags(repo_df, repo_output_path, rates_df)"
   ]
  },
  {
   "cell_type": "code",
   "execution_count": null,
   "metadata": {},
   "outputs": [],
   "source": [
    "# commits_df = get_repos_commits(repo_df, '../private_data/search_tagged_dh_repos_commits.csv', rates_df)"
   ]
  }
 ],
 "metadata": {
  "interpreter": {
   "hash": "f9535a2d3234831e7216b5503226355d93b43b15e5931e93b3445b413875c708"
  },
  "kernelspec": {
   "display_name": "Python 3.9.10 ('values_and_versions_env')",
   "language": "python",
   "name": "python3"
  },
  "language_info": {
   "codemirror_mode": {
    "name": "ipython",
    "version": 3
   },
   "file_extension": ".py",
   "mimetype": "text/x-python",
   "name": "python",
   "nbconvert_exporter": "python",
   "pygments_lexer": "ipython3",
   "version": "3.9.14"
  },
  "orig_nbformat": 4
 },
 "nbformat": 4,
 "nbformat_minor": 2
}
