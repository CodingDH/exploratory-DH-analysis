{
 "cells": [
  {
   "cell_type": "code",
   "execution_count": 1,
   "metadata": {},
   "outputs": [],
   "source": [
    "import pandas as pd\n",
    "import sys\n",
    "\n",
    "sys.path.append(\"..\")\n",
    "from data_generation_scripts.utils import check_rate_limit, get_core_users_repos\n",
    "from data_generation_scripts.generate_org_users_interactions import get_org_users_activities\n",
    "from data_generation_scripts.generate_user_metadata import check_total_results"
   ]
  },
  {
   "cell_type": "code",
   "execution_count": 2,
   "metadata": {},
   "outputs": [],
   "source": [
    "rates_df = check_rate_limit()"
   ]
  },
  {
   "attachments": {},
   "cell_type": "markdown",
   "metadata": {},
   "source": [
    "### Get Initial Organizations based on Search Queries"
   ]
  },
  {
   "cell_type": "code",
   "execution_count": 25,
   "metadata": {},
   "outputs": [],
   "source": [
    "search_queries_user_df = pd.read_csv(\"../data/derived_files/updated_search_queries_user_join_subset_dh_dataset.csv\")\n",
    "initial_core_orgs = search_queries_user_df[search_queries_user_df['type'] == 'Organization']\n",
    "initial_core_orgs = initial_core_orgs[initial_core_orgs['login'].notna()]\n",
    "initial_core_orgs = initial_core_orgs.drop_duplicates(subset=['login'])\n",
    "core_users, core_repos = get_core_users_repos()\n",
    "if len(core_users) == 0:\n",
    "    core_orgs = initial_core_orgs\n",
    "else:\n",
    "    core_orgs = core_users[core_users[\"type\"] == \"Organization\"]\n",
    "    if len(initial_core_orgs) != len(core_orgs):\n",
    "        core_orgs = core_orgs[core_orgs.login.isin(initial_core_orgs.login)]\n",
    "        initial_core_orgs = initial_core_orgs[~initial_core_orgs.login.isin(core_orgs.login.unique())]\n",
    "        core_orgs = pd.concat([core_orgs, initial_core_orgs])\n"
   ]
  },
  {
   "attachments": {},
   "cell_type": "markdown",
   "metadata": {},
   "source": [
    "### Get Org Counts"
   ]
  },
  {
   "cell_type": "code",
   "execution_count": 26,
   "metadata": {},
   "outputs": [],
   "source": [
    "org_count_cols = [\"public_repos\", \"public_gists\", \"followers\", \"following\", \"star_count\", \"subscription_count\",\"organization_count\", \"members_count\"]"
   ]
  },
  {
   "cell_type": "code",
   "execution_count": 28,
   "metadata": {},
   "outputs": [
    {
     "data": {
      "text/html": [
       "<div>\n",
       "<style scoped>\n",
       "    .dataframe tbody tr th:only-of-type {\n",
       "        vertical-align: middle;\n",
       "    }\n",
       "\n",
       "    .dataframe tbody tr th {\n",
       "        vertical-align: top;\n",
       "    }\n",
       "\n",
       "    .dataframe thead th {\n",
       "        text-align: right;\n",
       "    }\n",
       "</style>\n",
       "<table border=\"1\" class=\"dataframe\">\n",
       "  <thead>\n",
       "    <tr style=\"text-align: right;\">\n",
       "      <th></th>\n",
       "      <th>col_name</th>\n",
       "      <th>col_url</th>\n",
       "    </tr>\n",
       "  </thead>\n",
       "  <tbody>\n",
       "    <tr>\n",
       "      <th>0</th>\n",
       "      <td>followers</td>\n",
       "      <td>followers</td>\n",
       "    </tr>\n",
       "    <tr>\n",
       "      <th>1</th>\n",
       "      <td>following</td>\n",
       "      <td>following</td>\n",
       "    </tr>\n",
       "    <tr>\n",
       "      <th>2</th>\n",
       "      <td>public_repos</td>\n",
       "      <td>public_repos</td>\n",
       "    </tr>\n",
       "    <tr>\n",
       "      <th>3</th>\n",
       "      <td>public_gists</td>\n",
       "      <td>public_gists</td>\n",
       "    </tr>\n",
       "    <tr>\n",
       "      <th>4</th>\n",
       "      <td>star_count</td>\n",
       "      <td>starred_url</td>\n",
       "    </tr>\n",
       "    <tr>\n",
       "      <th>5</th>\n",
       "      <td>subscription_count</td>\n",
       "      <td>subscriptions_url</td>\n",
       "    </tr>\n",
       "    <tr>\n",
       "      <th>6</th>\n",
       "      <td>organization_count</td>\n",
       "      <td>organizations_url</td>\n",
       "    </tr>\n",
       "  </tbody>\n",
       "</table>\n",
       "</div>"
      ],
      "text/plain": [
       "             col_name            col_url\n",
       "0           followers          followers\n",
       "1           following          following\n",
       "2        public_repos       public_repos\n",
       "3        public_gists       public_gists\n",
       "4          star_count        starred_url\n",
       "5  subscription_count  subscriptions_url\n",
       "6  organization_count  organizations_url"
      ]
     },
     "execution_count": 28,
     "metadata": {},
     "output_type": "execute_result"
    }
   ],
   "source": [
    "test = pd.read_csv(\"../data/metadata_files/user_url_cols.csv\")\n",
    "test"
   ]
  },
  {
   "cell_type": "code",
   "execution_count": 27,
   "metadata": {},
   "outputs": [
    {
     "name": "stdout",
     "output_type": "stream",
     "text": [
      "subscription_count 9\n",
      "organization_count 9\n",
      "missing entirely members_count\n"
     ]
    }
   ],
   "source": [
    "for col in org_count_cols:\n",
    "    if col in core_orgs.columns:\n",
    "        needs_filling = core_orgs[core_orgs[col].isnull()]\n",
    "        if len(needs_filling) > 0:\n",
    "            print(col, len(needs_filling))\n",
    "    else:\n",
    "        print(\"missing entirely\", col)"
   ]
  },
  {
   "attachments": {},
   "cell_type": "markdown",
   "metadata": {},
   "source": [
    "### Get Organization Members"
   ]
  },
  {
   "cell_type": "code",
   "execution_count": 4,
   "metadata": {},
   "outputs": [],
   "source": [
    "### Add url to core_orgs\n",
    "core_orgs[\"members_url\"] = core_orgs[\"url\"].apply(lambda x: x + \"/public_members\")"
   ]
  },
  {
   "cell_type": "code",
   "execution_count": 11,
   "metadata": {},
   "outputs": [],
   "source": [
    "core_orgs.members_url = core_orgs.members_url.str.replace('users', 'orgs')"
   ]
  },
  {
   "cell_type": "code",
   "execution_count": 13,
   "metadata": {},
   "outputs": [
    {
     "name": "stderr",
     "output_type": "stream",
     "text": [
      "Getting total results for each user:  56%|█████▌    | 236/421 [00:41<00:33,  5.56it/s]"
     ]
    },
    {
     "name": "stdout",
     "output_type": "stream",
     "text": [
      "response code: 404. hit rate limiting. trying to sleep...\n"
     ]
    },
    {
     "name": "stderr",
     "output_type": "stream",
     "text": [
      "Getting total results for each user:  56%|█████▋    | 237/421 [02:42<1:51:16, 36.29s/it]"
     ]
    },
    {
     "name": "stdout",
     "output_type": "stream",
     "text": [
      "query failed twice with code 404. Failing URL: https://api.github.com/orgs/dhandlib/public_members?per_page=1\n"
     ]
    },
    {
     "name": "stderr",
     "output_type": "stream",
     "text": [
      "Getting total results for each user:  75%|███████▍  | 315/421 [02:55<00:18,  5.85it/s]  "
     ]
    },
    {
     "name": "stdout",
     "output_type": "stream",
     "text": [
      "response code: 404. hit rate limiting. trying to sleep...\n"
     ]
    },
    {
     "name": "stderr",
     "output_type": "stream",
     "text": [
      "Getting total results for each user:  75%|███████▌  | 316/421 [04:56<1:03:28, 36.27s/it]"
     ]
    },
    {
     "name": "stdout",
     "output_type": "stream",
     "text": [
      "query failed twice with code 404. Failing URL: https://api.github.com/orgs/CDH-DevTeam/public_members?per_page=1\n"
     ]
    },
    {
     "name": "stderr",
     "output_type": "stream",
     "text": [
      "Getting total results for each user:  92%|█████████▏| 387/421 [05:08<00:06,  5.49it/s]  "
     ]
    },
    {
     "name": "stdout",
     "output_type": "stream",
     "text": [
      "response code: 404. hit rate limiting. trying to sleep...\n",
      "query failed twice with code 404. Failing URL: https://api.github.com/orgs/HumanidadesDigitales/public_members?per_page=1\n"
     ]
    },
    {
     "name": "stderr",
     "output_type": "stream",
     "text": [
      "Getting total results for each user: 100%|██████████| 421/421 [07:15<00:00,  1.03s/it]\n"
     ]
    }
   ],
   "source": [
    "core_orgs = check_total_results(core_orgs, \"members_count\", \"members_url\")"
   ]
  },
  {
   "cell_type": "code",
   "execution_count": 15,
   "metadata": {},
   "outputs": [],
   "source": [
    "core_orgs.to_csv(\"../data/derived_files/core_orgs.csv\", index=False)"
   ]
  },
  {
   "cell_type": "code",
   "execution_count": 16,
   "metadata": {},
   "outputs": [
    {
     "data": {
      "text/plain": [
       "727"
      ]
     },
     "execution_count": 16,
     "metadata": {},
     "output_type": "execute_result"
    }
   ],
   "source": [
    "core_orgs.members_count = core_orgs.members_count.astype(int)\n",
    "core_orgs.members_count.sum()"
   ]
  },
  {
   "attachments": {},
   "cell_type": "markdown",
   "metadata": {},
   "source": []
  },
  {
   "cell_type": "code",
   "execution_count": null,
   "metadata": {},
   "outputs": [],
   "source": [
    "org_members_output_path = \"../data/large_files/join_files/org_members_join_dataset.csv\"\n",
    "users_output_path = \"../data/entity_files/users_dataset.csv\"\n",
    "get_url_field = \"members_url\"\n",
    "load_existing_files = True\n",
    "overwrite_existing_temp_files = False\n",
    "\n",
    "users_followers_df, user_df = get_org_users_activities(core_orgs,org_members_output_path, users_output_path, get_url_field, load_existing_files, overwrite_existing_temp_files)"
   ]
  }
 ],
 "metadata": {
  "kernelspec": {
   "display_name": "values_and_versions_env",
   "language": "python",
   "name": "python3"
  },
  "language_info": {
   "codemirror_mode": {
    "name": "ipython",
    "version": 3
   },
   "file_extension": ".py",
   "mimetype": "text/x-python",
   "name": "python",
   "nbconvert_exporter": "python",
   "pygments_lexer": "ipython3",
   "version": "3.9.16"
  },
  "orig_nbformat": 4
 },
 "nbformat": 4,
 "nbformat_minor": 2
}
