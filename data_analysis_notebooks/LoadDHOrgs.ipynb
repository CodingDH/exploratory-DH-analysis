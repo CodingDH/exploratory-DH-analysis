{
 "cells": [
  {
   "cell_type": "code",
   "execution_count": 6,
   "metadata": {},
   "outputs": [],
   "source": [
    "import pandas as pd\n",
    "import sys\n",
    "\n",
    "sys.path.append(\"..\")\n",
    "from data_generation_scripts.utils import check_rate_limit, get_core_users_repos\n",
    "from data_generation_scripts.generate_org_users_interactions import get_org_users_activities\n",
    "from data_generation_scripts.generate_user_metadata import check_total_results"
   ]
  },
  {
   "cell_type": "code",
   "execution_count": 2,
   "metadata": {},
   "outputs": [],
   "source": [
    "rates_df = check_rate_limit()"
   ]
  },
  {
   "attachments": {},
   "cell_type": "markdown",
   "metadata": {},
   "source": [
    "### Get Initial Organizations"
   ]
  },
  {
   "cell_type": "code",
   "execution_count": 3,
   "metadata": {},
   "outputs": [],
   "source": [
    "core_users, core_repos = get_core_users_repos()\n",
    "core_orgs = core_users[core_users[\"type\"] == \"Organization\"]"
   ]
  },
  {
   "attachments": {},
   "cell_type": "markdown",
   "metadata": {},
   "source": [
    "### Get Organization Members"
   ]
  },
  {
   "cell_type": "code",
   "execution_count": 4,
   "metadata": {},
   "outputs": [],
   "source": [
    "### Add url to core_orgs\n",
    "core_orgs[\"members_url\"] = core_orgs[\"url\"].apply(lambda x: x + \"/public_members\")"
   ]
  },
  {
   "cell_type": "code",
   "execution_count": 11,
   "metadata": {},
   "outputs": [],
   "source": [
    "core_orgs.members_url = core_orgs.members_url.str.replace('users', 'orgs')"
   ]
  },
  {
   "cell_type": "code",
   "execution_count": 13,
   "metadata": {},
   "outputs": [
    {
     "name": "stderr",
     "output_type": "stream",
     "text": [
      "Getting total results for each user:  56%|█████▌    | 236/421 [00:41<00:33,  5.56it/s]"
     ]
    },
    {
     "name": "stdout",
     "output_type": "stream",
     "text": [
      "response code: 404. hit rate limiting. trying to sleep...\n"
     ]
    },
    {
     "name": "stderr",
     "output_type": "stream",
     "text": [
      "Getting total results for each user:  56%|█████▋    | 237/421 [02:42<1:51:16, 36.29s/it]"
     ]
    },
    {
     "name": "stdout",
     "output_type": "stream",
     "text": [
      "query failed twice with code 404. Failing URL: https://api.github.com/orgs/dhandlib/public_members?per_page=1\n"
     ]
    },
    {
     "name": "stderr",
     "output_type": "stream",
     "text": [
      "Getting total results for each user:  75%|███████▍  | 315/421 [02:55<00:18,  5.85it/s]  "
     ]
    },
    {
     "name": "stdout",
     "output_type": "stream",
     "text": [
      "response code: 404. hit rate limiting. trying to sleep...\n"
     ]
    },
    {
     "name": "stderr",
     "output_type": "stream",
     "text": [
      "Getting total results for each user:  75%|███████▌  | 316/421 [04:56<1:03:28, 36.27s/it]"
     ]
    },
    {
     "name": "stdout",
     "output_type": "stream",
     "text": [
      "query failed twice with code 404. Failing URL: https://api.github.com/orgs/CDH-DevTeam/public_members?per_page=1\n"
     ]
    },
    {
     "name": "stderr",
     "output_type": "stream",
     "text": [
      "Getting total results for each user:  92%|█████████▏| 387/421 [05:08<00:06,  5.49it/s]  "
     ]
    },
    {
     "name": "stdout",
     "output_type": "stream",
     "text": [
      "response code: 404. hit rate limiting. trying to sleep...\n",
      "query failed twice with code 404. Failing URL: https://api.github.com/orgs/HumanidadesDigitales/public_members?per_page=1\n"
     ]
    },
    {
     "name": "stderr",
     "output_type": "stream",
     "text": [
      "Getting total results for each user: 100%|██████████| 421/421 [07:15<00:00,  1.03s/it]\n"
     ]
    }
   ],
   "source": [
    "core_orgs = check_total_results(core_orgs, \"members_count\", \"members_url\")"
   ]
  },
  {
   "cell_type": "code",
   "execution_count": 15,
   "metadata": {},
   "outputs": [],
   "source": [
    "core_orgs.to_csv(\"../data/derived_files/core_orgs.csv\", index=False)"
   ]
  },
  {
   "cell_type": "code",
   "execution_count": 16,
   "metadata": {},
   "outputs": [
    {
     "data": {
      "text/plain": [
       "727"
      ]
     },
     "execution_count": 16,
     "metadata": {},
     "output_type": "execute_result"
    }
   ],
   "source": [
    "core_orgs.members_count = core_orgs.members_count.astype(int)\n",
    "core_orgs.members_count.sum()"
   ]
  },
  {
   "attachments": {},
   "cell_type": "markdown",
   "metadata": {},
   "source": []
  },
  {
   "cell_type": "code",
   "execution_count": null,
   "metadata": {},
   "outputs": [],
   "source": [
    "org_members_output_path = \"../data/large_files/join_files/org_members_join_dataset.csv\"\n",
    "users_output_path = \"../data/entity_files/users_dataset.csv\"\n",
    "get_url_field = \"members_url\"\n",
    "load_existing_files = True\n",
    "overwrite_existing_temp_files = False\n",
    "\n",
    "users_followers_df, user_df = get_org_users_activities(core_orgs,org_members_output_path, users_output_path, get_url_field, load_existing_files, overwrite_existing_temp_files)"
   ]
  }
 ],
 "metadata": {
  "kernelspec": {
   "display_name": "values_and_versions_env",
   "language": "python",
   "name": "python3"
  },
  "language_info": {
   "codemirror_mode": {
    "name": "ipython",
    "version": 3
   },
   "file_extension": ".py",
   "mimetype": "text/x-python",
   "name": "python",
   "nbconvert_exporter": "python",
   "pygments_lexer": "ipython3",
   "version": "3.9.16"
  },
  "orig_nbformat": 4
 },
 "nbformat": 4,
 "nbformat_minor": 2
}
