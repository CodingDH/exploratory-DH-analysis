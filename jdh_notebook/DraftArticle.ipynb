{
 "cells": [
  {
   "attachments": {},
   "cell_type": "markdown",
   "metadata": {},
   "source": [
    "# Social Histories and Code Archives: The History of Digital Humanities on GitHub"
   ]
  },
  {
   "attachments": {},
   "cell_type": "markdown",
   "metadata": {},
   "source": [
    "## Git Init: Introducing Digital Humanities & GitHub "
   ]
  },
  {
   "attachments": {},
   "cell_type": "markdown",
   "metadata": {},
   "source": [
    "#### Load Libraries and Datsets"
   ]
  },
  {
   "cell_type": "code",
   "execution_count": 1,
   "metadata": {},
   "outputs": [],
   "source": [
    "import pandas as pd\n",
    "import altair as alt\n",
    "alt.renderers.enable('mimetype')\n",
    "alt.data_transformers.disable_max_rows()\n",
    "import warnings\n",
    "warnings.filterwarnings('ignore')"
   ]
  },
  {
   "attachments": {},
   "cell_type": "markdown",
   "metadata": {},
   "source": [
    "- ExploreCoreMaterials figure"
   ]
  },
  {
   "attachments": {},
   "cell_type": "markdown",
   "metadata": {},
   "source": [
    "## Git Add: Web Archives, Platform Studies, and Critical Approaches to Studying DH on GitHub"
   ]
  },
  {
   "cell_type": "code",
   "execution_count": 2,
   "metadata": {},
   "outputs": [],
   "source": [
    "languages_with_overlap = pd.read_csv('../data/derived_files/dh_terms_with_multiple_codes.csv')"
   ]
  },
  {
   "cell_type": "code",
   "execution_count": 6,
   "metadata": {},
   "outputs": [
    {
     "data": {
      "text/html": [
       "<style type=\"text/css\">\n",
       "#T_e89ce_row0_col0, #T_e89ce_row0_col1, #T_e89ce_row1_col0, #T_e89ce_row1_col1, #T_e89ce_row2_col0, #T_e89ce_row2_col1, #T_e89ce_row3_col0, #T_e89ce_row3_col1, #T_e89ce_row4_col0, #T_e89ce_row4_col1, #T_e89ce_row5_col0, #T_e89ce_row5_col1, #T_e89ce_row6_col0, #T_e89ce_row6_col1 {\n",
       "  text-align: right;\n",
       "}\n",
       "</style>\n",
       "<table id=\"T_e89ce\">\n",
       "  <thead>\n",
       "    <tr>\n",
       "      <th class=\"blank level0\" >&nbsp;</th>\n",
       "      <th id=\"T_e89ce_level0_col0\" class=\"col_heading level0 col0\" >English language name</th>\n",
       "      <th id=\"T_e89ce_level0_col1\" class=\"col_heading level0 col1\" >final_term</th>\n",
       "    </tr>\n",
       "  </thead>\n",
       "  <tbody>\n",
       "    <tr>\n",
       "      <th id=\"T_e89ce_level0_row0\" class=\"row_heading level0 row0\" >0</th>\n",
       "      <td id=\"T_e89ce_row0_col0\" class=\"data row0 col0\" >English, Hausa, Igbo, Luxembourgish, Malagasy, Chichewa, Samoan, Shona, Southern Sotho, Tagalog, Yoruba</td>\n",
       "      <td id=\"T_e89ce_row0_col1\" class=\"data row0 col1\" >Digital Humanities</td>\n",
       "    </tr>\n",
       "    <tr>\n",
       "      <th id=\"T_e89ce_level0_row1\" class=\"row_heading level0 row1\" >1</th>\n",
       "      <td id=\"T_e89ce_row1_col0\" class=\"data row1 col0\" >Hindi, Nepali, Sanskrit</td>\n",
       "      <td id=\"T_e89ce_row1_col1\" class=\"data row1 col1\" >डिजिटल मानविकी</td>\n",
       "    </tr>\n",
       "    <tr>\n",
       "      <th id=\"T_e89ce_level0_row2\" class=\"row_heading level0 row2\" >2</th>\n",
       "      <td id=\"T_e89ce_row2_col0\" class=\"data row2 col0\" >Norwegian, Swedish, Norwegian Bokmål</td>\n",
       "      <td id=\"T_e89ce_row2_col1\" class=\"data row2 col1\" >Digital humaniora</td>\n",
       "    </tr>\n",
       "    <tr>\n",
       "      <th id=\"T_e89ce_level0_row3\" class=\"row_heading level0 row3\" >3</th>\n",
       "      <td id=\"T_e89ce_row3_col0\" class=\"data row3 col0\" >Serbo-Croatian, Serbian</td>\n",
       "      <td id=\"T_e89ce_row3_col1\" class=\"data row3 col1\" >Дигиталне хуманистичке науке</td>\n",
       "    </tr>\n",
       "    <tr>\n",
       "      <th id=\"T_e89ce_level0_row4\" class=\"row_heading level0 row4\" >4</th>\n",
       "      <td id=\"T_e89ce_row4_col0\" class=\"data row4 col0\" >French, Lingala</td>\n",
       "      <td id=\"T_e89ce_row4_col1\" class=\"data row4 col1\" >Humanités numériques</td>\n",
       "    </tr>\n",
       "    <tr>\n",
       "      <th id=\"T_e89ce_level0_row5\" class=\"row_heading level0 row5\" >5</th>\n",
       "      <td id=\"T_e89ce_row5_col0\" class=\"data row5 col0\" >Xhosa, Zulu</td>\n",
       "      <td id=\"T_e89ce_row5_col1\" class=\"data row5 col1\" >I-Digital Humanities</td>\n",
       "    </tr>\n",
       "    <tr>\n",
       "      <th id=\"T_e89ce_level0_row6\" class=\"row_heading level0 row6\" >6</th>\n",
       "      <td id=\"T_e89ce_row6_col0\" class=\"data row6 col0\" >Akan, Twi</td>\n",
       "      <td id=\"T_e89ce_row6_col1\" class=\"data row6 col1\" >Digitals Nnipa Ho Adesua</td>\n",
       "    </tr>\n",
       "  </tbody>\n",
       "</table>\n"
      ],
      "text/plain": [
       "<pandas.io.formats.style.Styler at 0x14757a610>"
      ]
     },
     "execution_count": 6,
     "metadata": {},
     "output_type": "execute_result"
    }
   ],
   "source": [
    "pd.set_option('display.max_colwidth', None)\n",
    "languages_with_overlap.style.set_properties(**{'text-align': 'right'})"
   ]
  },
  {
   "cell_type": "code",
   "execution_count": null,
   "metadata": {},
   "outputs": [],
   "source": []
  }
 ],
 "metadata": {
  "kernelspec": {
   "display_name": "values_and_versions_env",
   "language": "python",
   "name": "python3"
  },
  "language_info": {
   "codemirror_mode": {
    "name": "ipython",
    "version": 3
   },
   "file_extension": ".py",
   "mimetype": "text/x-python",
   "name": "python",
   "nbconvert_exporter": "python",
   "pygments_lexer": "ipython3",
   "version": "3.9.16"
  },
  "orig_nbformat": 4
 },
 "nbformat": 4,
 "nbformat_minor": 2
}
